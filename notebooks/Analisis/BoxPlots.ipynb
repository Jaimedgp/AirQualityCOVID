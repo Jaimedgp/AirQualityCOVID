{
 "cells": [
  {
   "cell_type": "markdown",
   "metadata": {},
   "source": [
    "# Crear box plots las Variaciones por fase en Espanha"
   ]
  },
  {
   "cell_type": "code",
   "execution_count": 1,
   "metadata": {},
   "outputs": [],
   "source": [
    "suppressMessages(library(ggplot2))"
   ]
  },
  {
   "cell_type": "code",
   "execution_count": 2,
   "metadata": {},
   "outputs": [],
   "source": [
    "setwd(\"~/Repositories/AirQualityCOVID/\")"
   ]
  },
  {
   "cell_type": "code",
   "execution_count": 44,
   "metadata": {},
   "outputs": [],
   "source": [
    "suppressMessages(library(repr))\n",
    "options(repr.plot.width=13,\n",
    "        repr.plot.height=5,\n",
    "        #repr.plot.pointsize=50,\n",
    "        repr.plot.family='serif'\n",
    "       )"
   ]
  },
  {
   "cell_type": "code",
   "execution_count": 45,
   "metadata": {},
   "outputs": [],
   "source": [
    "data.change <- read.csv(\"data/Analisis/Variacion/variacion_media_municipios.csv\",\n",
    "                        stringsAsFactor=F)"
   ]
  },
  {
   "cell_type": "code",
   "execution_count": 46,
   "metadata": {},
   "outputs": [
    {
     "data": {
      "text/html": [
       "<table>\n",
       "<caption>A data.frame: 6 × 5</caption>\n",
       "<thead>\n",
       "\t<tr><th></th><th scope=col>period</th><th scope=col>site</th><th scope=col>variable</th><th scope=col>mean.2013.2019..vs.mean.2020.</th><th scope=col>std.2013.2019..vs.std.2020.</th></tr>\n",
       "\t<tr><th></th><th scope=col>&lt;chr&gt;</th><th scope=col>&lt;chr&gt;</th><th scope=col>&lt;chr&gt;</th><th scope=col>&lt;dbl&gt;</th><th scope=col>&lt;dbl&gt;</th></tr>\n",
       "</thead>\n",
       "<tbody>\n",
       "\t<tr><th scope=row>1</th><td>pre.lckdwn  </td><td>Alcal<c3><a1> de Henares</td><td>no </td><td> -2.797702</td><td>32.38522</td></tr>\n",
       "\t<tr><th scope=row>2</th><td>lckdwn      </td><td>Alcal<c3><a1> de Henares</td><td>no </td><td>-72.813226</td><td>14.51649</td></tr>\n",
       "\t<tr><th scope=row>3</th><td>fases       </td><td>Alcal<c3><a1> de Henares</td><td>no </td><td>-57.458776</td><td>11.13941</td></tr>\n",
       "\t<tr><th scope=row>4</th><td>normalidad  </td><td>Alcal<c3><a1> de Henares</td><td>no </td><td>-37.068354</td><td>24.48542</td></tr>\n",
       "\t<tr><th scope=row>5</th><td>new.lockdown</td><td>Alcal<c3><a1> de Henares</td><td>no </td><td>-58.402431</td><td>20.12833</td></tr>\n",
       "\t<tr><th scope=row>6</th><td>pre.lckdwn  </td><td>Alcal<c3><a1> de Henares</td><td>no2</td><td> -3.960033</td><td>18.63268</td></tr>\n",
       "</tbody>\n",
       "</table>\n"
      ],
      "text/latex": [
       "A data.frame: 6 × 5\n",
       "\\begin{tabular}{r|lllll}\n",
       "  & period & site & variable & mean.2013.2019..vs.mean.2020. & std.2013.2019..vs.std.2020.\\\\\n",
       "  & <chr> & <chr> & <chr> & <dbl> & <dbl>\\\\\n",
       "\\hline\n",
       "\t1 & pre.lckdwn   & Alcal<c3><a1> de Henares & no  &  -2.797702 & 32.38522\\\\\n",
       "\t2 & lckdwn       & Alcal<c3><a1> de Henares & no  & -72.813226 & 14.51649\\\\\n",
       "\t3 & fases        & Alcal<c3><a1> de Henares & no  & -57.458776 & 11.13941\\\\\n",
       "\t4 & normalidad   & Alcal<c3><a1> de Henares & no  & -37.068354 & 24.48542\\\\\n",
       "\t5 & new.lockdown & Alcal<c3><a1> de Henares & no  & -58.402431 & 20.12833\\\\\n",
       "\t6 & pre.lckdwn   & Alcal<c3><a1> de Henares & no2 &  -3.960033 & 18.63268\\\\\n",
       "\\end{tabular}\n"
      ],
      "text/markdown": [
       "\n",
       "A data.frame: 6 × 5\n",
       "\n",
       "| <!--/--> | period &lt;chr&gt; | site &lt;chr&gt; | variable &lt;chr&gt; | mean.2013.2019..vs.mean.2020. &lt;dbl&gt; | std.2013.2019..vs.std.2020. &lt;dbl&gt; |\n",
       "|---|---|---|---|---|---|\n",
       "| 1 | pre.lckdwn   | Alcal<c3><a1> de Henares | no  |  -2.797702 | 32.38522 |\n",
       "| 2 | lckdwn       | Alcal<c3><a1> de Henares | no  | -72.813226 | 14.51649 |\n",
       "| 3 | fases        | Alcal<c3><a1> de Henares | no  | -57.458776 | 11.13941 |\n",
       "| 4 | normalidad   | Alcal<c3><a1> de Henares | no  | -37.068354 | 24.48542 |\n",
       "| 5 | new.lockdown | Alcal<c3><a1> de Henares | no  | -58.402431 | 20.12833 |\n",
       "| 6 | pre.lckdwn   | Alcal<c3><a1> de Henares | no2 |  -3.960033 | 18.63268 |\n",
       "\n"
      ],
      "text/plain": [
       "  period       site                     variable mean.2013.2019..vs.mean.2020.\n",
       "1 pre.lckdwn   Alcal\\303\\241 de Henares no        -2.797702                   \n",
       "2 lckdwn       Alcal\\303\\241 de Henares no       -72.813226                   \n",
       "3 fases        Alcal\\303\\241 de Henares no       -57.458776                   \n",
       "4 normalidad   Alcal\\303\\241 de Henares no       -37.068354                   \n",
       "5 new.lockdown Alcal\\303\\241 de Henares no       -58.402431                   \n",
       "6 pre.lckdwn   Alcal\\303\\241 de Henares no2       -3.960033                   \n",
       "  std.2013.2019..vs.std.2020.\n",
       "1 32.38522                   \n",
       "2 14.51649                   \n",
       "3 11.13941                   \n",
       "4 24.48542                   \n",
       "5 20.12833                   \n",
       "6 18.63268                   "
      ]
     },
     "metadata": {},
     "output_type": "display_data"
    }
   ],
   "source": [
    "head(data.change)"
   ]
  },
  {
   "cell_type": "code",
   "execution_count": 47,
   "metadata": {},
   "outputs": [],
   "source": [
    "data.change$period <- factor(data.change$period,\n",
    "                               levels = c(\"pre.lckdwn\",\n",
    "                                          \"lckdwn\",\n",
    "                                          \"fases\",\n",
    "                                          \"normalidad\",\n",
    "                                          \"new.lockdown\"\n",
    "                                         ))"
   ]
  },
  {
   "cell_type": "code",
   "execution_count": 48,
   "metadata": {},
   "outputs": [],
   "source": [
    "data.change <- data.change[-which(data.change$site == \"Las Palmas de Gran Canaria\" &\n",
    "                                  data.change$variable == \"pm2.5\"),]"
   ]
  },
  {
   "cell_type": "code",
   "execution_count": 50,
   "metadata": {},
   "outputs": [],
   "source": [
    "a <- ggplot(data=data.change, aes(x=period, \n",
    "                             y=mean.2013.2019..vs.mean.2020.,\n",
    "                             fill=period)) +\n",
    "       geom_boxplot() + \n",
    "facet_wrap(~variable, , scales = \"free_y\")"
   ]
  },
  {
   "cell_type": "code",
   "execution_count": 52,
   "metadata": {},
   "outputs": [
    {
     "name": "stderr",
     "output_type": "stream",
     "text": [
      "Warning message:\n",
      "\"Removed 6 rows containing non-finite values (stat_boxplot).\"\n"
     ]
    }
   ],
   "source": [
    "ggsave(filename=\"Boxplot.png\",                                                                                                                                                                                        \n",
    "       plot=a,                                                                                                                                                                                                              \n",
    "       device=\"png\",                                                                                                                                                                                                              \n",
    "       path=\"Plots/Analisis/Variacion/\",                                                                                                                                                                                                          \n",
    "       width=13,                                                                                                                                                                                                                  \n",
    "       height=5, dpi=100                                                                                                                                                                                                         \n",
    "       )"
   ]
  },
  {
   "cell_type": "code",
   "execution_count": null,
   "metadata": {},
   "outputs": [],
   "source": []
  }
 ],
 "metadata": {
  "kernelspec": {
   "display_name": "R",
   "language": "R",
   "name": "ir"
  },
  "language_info": {
   "codemirror_mode": "r",
   "file_extension": ".r",
   "mimetype": "text/x-r-source",
   "name": "R",
   "pygments_lexer": "r",
   "version": "3.6.3"
  }
 },
 "nbformat": 4,
 "nbformat_minor": 4
}
