{
 "cells": [
  {
   "cell_type": "code",
   "execution_count": 1,
   "metadata": {},
   "outputs": [],
   "source": [
    "suppressMessages(library(repr))\n",
    "options(repr.plot.width=25,\n",
    "        repr.plot.height=10,\n",
    "        #repr.plot.pointsize=50,\n",
    "        repr.plot.family='serif'\n",
    "       )"
   ]
  },
  {
   "cell_type": "code",
   "execution_count": 2,
   "metadata": {},
   "outputs": [],
   "source": [
    "setwd(\"~/Repositories/AirQualityCOVID/\")"
   ]
  },
  {
   "cell_type": "code",
   "execution_count": 3,
   "metadata": {},
   "outputs": [],
   "source": [
    "source(\"src/Analisis/Variacion/functions.R\")\n",
    "source(\"src/general.R\")"
   ]
  },
  {
   "cell_type": "markdown",
   "metadata": {},
   "source": [
    "# Data variables"
   ]
  },
  {
   "cell_type": "code",
   "execution_count": 4,
   "metadata": {},
   "outputs": [],
   "source": [
    "municipio = \"Santander\"\n",
    "site = \"\" # c(\"es1580a\", \"es0118a\")\n",
    "\n",
    "data.by.file = TRUE\n",
    "\n",
    "pollutant = c(\"no\")#, \"no2\", \"o3\", \"pm10\", \"pm2.5\")\n",
    "start_dt = 2013"
   ]
  },
  {
   "cell_type": "markdown",
   "metadata": {},
   "source": [
    "# Lockdown dates"
   ]
  },
  {
   "cell_type": "code",
   "execution_count": 5,
   "metadata": {},
   "outputs": [],
   "source": [
    "periods <- list(\n",
    "    # lockdown\n",
    "    lockdown = as.numeric(ymd_hms(\"2020-03-14 00:00:00\")),\n",
    "    #end.lockdown = as.numeric(ymd_hms(\"2020-04-28 00:00:00\")),\n",
    "\n",
    "    # poslockdown\n",
    "    fases = as.numeric(ymd_hms(\"2020-05-01 00:00:00\")),\n",
    "    normalidad = as.numeric(ymd_hms(\"2020-06-21 00:00:00\")),\n",
    "\n",
    "    # New lockdown\n",
    "    new.lockdown = as.numeric(ymd_hms(\"2020-10-25 00:00:00\"))\n",
    ")"
   ]
  },
  {
   "cell_type": "markdown",
   "metadata": {},
   "source": [
    "---"
   ]
  },
  {
   "cell_type": "code",
   "execution_count": 6,
   "metadata": {},
   "outputs": [],
   "source": [
    "if (site == \"\" && municipio != \"\") {\n",
    "    site <- get.site.municipio(municipio,\n",
    "                               fileName=\"data/Curation/sitesAQ.csv\")\n",
    "}"
   ]
  },
  {
   "cell_type": "code",
   "execution_count": 7,
   "metadata": {},
   "outputs": [
    {
     "data": {
      "text/html": [
       "<table>\n",
       "<caption>A tibble: 6 × 9</caption>\n",
       "<thead>\n",
       "\t<tr><th scope=col>date</th><th scope=col>date_end</th><th scope=col>site</th><th scope=col>variable</th><th scope=col>process</th><th scope=col>summary</th><th scope=col>validity</th><th scope=col>unit</th><th scope=col>value</th></tr>\n",
       "\t<tr><th scope=col>&lt;dttm&gt;</th><th scope=col>&lt;dttm&gt;</th><th scope=col>&lt;chr&gt;</th><th scope=col>&lt;chr&gt;</th><th scope=col>&lt;int&gt;</th><th scope=col>&lt;int&gt;</th><th scope=col>&lt;int&gt;</th><th scope=col>&lt;chr&gt;</th><th scope=col>&lt;dbl&gt;</th></tr>\n",
       "</thead>\n",
       "<tbody>\n",
       "\t<tr><td>2013-01-01 00:00:00</td><td>2013-01-01 01:00:00</td><td>es1580a</td><td>no</td><td>118052</td><td>1</td><td>1</td><td>ug.m-3</td><td>7</td></tr>\n",
       "\t<tr><td>2013-01-01 01:00:00</td><td>2013-01-01 02:00:00</td><td>es1580a</td><td>no</td><td>118052</td><td>1</td><td>1</td><td>ug.m-3</td><td>2</td></tr>\n",
       "\t<tr><td>2013-01-01 02:00:00</td><td>2013-01-01 03:00:00</td><td>es1580a</td><td>no</td><td>118052</td><td>1</td><td>1</td><td>ug.m-3</td><td>1</td></tr>\n",
       "\t<tr><td>2013-01-01 03:00:00</td><td>2013-01-01 04:00:00</td><td>es1580a</td><td>no</td><td>118052</td><td>1</td><td>1</td><td>ug.m-3</td><td>1</td></tr>\n",
       "\t<tr><td>2013-01-01 04:00:00</td><td>2013-01-01 05:00:00</td><td>es1580a</td><td>no</td><td>118052</td><td>1</td><td>1</td><td>ug.m-3</td><td>0</td></tr>\n",
       "\t<tr><td>2013-01-01 05:00:00</td><td>2013-01-01 06:00:00</td><td>es1580a</td><td>no</td><td>118052</td><td>1</td><td>1</td><td>ug.m-3</td><td>1</td></tr>\n",
       "</tbody>\n",
       "</table>\n"
      ],
      "text/latex": [
       "A tibble: 6 × 9\n",
       "\\begin{tabular}{lllllllll}\n",
       " date & date\\_end & site & variable & process & summary & validity & unit & value\\\\\n",
       " <dttm> & <dttm> & <chr> & <chr> & <int> & <int> & <int> & <chr> & <dbl>\\\\\n",
       "\\hline\n",
       "\t 2013-01-01 00:00:00 & 2013-01-01 01:00:00 & es1580a & no & 118052 & 1 & 1 & ug.m-3 & 7\\\\\n",
       "\t 2013-01-01 01:00:00 & 2013-01-01 02:00:00 & es1580a & no & 118052 & 1 & 1 & ug.m-3 & 2\\\\\n",
       "\t 2013-01-01 02:00:00 & 2013-01-01 03:00:00 & es1580a & no & 118052 & 1 & 1 & ug.m-3 & 1\\\\\n",
       "\t 2013-01-01 03:00:00 & 2013-01-01 04:00:00 & es1580a & no & 118052 & 1 & 1 & ug.m-3 & 1\\\\\n",
       "\t 2013-01-01 04:00:00 & 2013-01-01 05:00:00 & es1580a & no & 118052 & 1 & 1 & ug.m-3 & 0\\\\\n",
       "\t 2013-01-01 05:00:00 & 2013-01-01 06:00:00 & es1580a & no & 118052 & 1 & 1 & ug.m-3 & 1\\\\\n",
       "\\end{tabular}\n"
      ],
      "text/markdown": [
       "\n",
       "A tibble: 6 × 9\n",
       "\n",
       "| date &lt;dttm&gt; | date_end &lt;dttm&gt; | site &lt;chr&gt; | variable &lt;chr&gt; | process &lt;int&gt; | summary &lt;int&gt; | validity &lt;int&gt; | unit &lt;chr&gt; | value &lt;dbl&gt; |\n",
       "|---|---|---|---|---|---|---|---|---|\n",
       "| 2013-01-01 00:00:00 | 2013-01-01 01:00:00 | es1580a | no | 118052 | 1 | 1 | ug.m-3 | 7 |\n",
       "| 2013-01-01 01:00:00 | 2013-01-01 02:00:00 | es1580a | no | 118052 | 1 | 1 | ug.m-3 | 2 |\n",
       "| 2013-01-01 02:00:00 | 2013-01-01 03:00:00 | es1580a | no | 118052 | 1 | 1 | ug.m-3 | 1 |\n",
       "| 2013-01-01 03:00:00 | 2013-01-01 04:00:00 | es1580a | no | 118052 | 1 | 1 | ug.m-3 | 1 |\n",
       "| 2013-01-01 04:00:00 | 2013-01-01 05:00:00 | es1580a | no | 118052 | 1 | 1 | ug.m-3 | 0 |\n",
       "| 2013-01-01 05:00:00 | 2013-01-01 06:00:00 | es1580a | no | 118052 | 1 | 1 | ug.m-3 | 1 |\n",
       "\n"
      ],
      "text/plain": [
       "  date                date_end            site    variable process summary\n",
       "1 2013-01-01 00:00:00 2013-01-01 01:00:00 es1580a no       118052  1      \n",
       "2 2013-01-01 01:00:00 2013-01-01 02:00:00 es1580a no       118052  1      \n",
       "3 2013-01-01 02:00:00 2013-01-01 03:00:00 es1580a no       118052  1      \n",
       "4 2013-01-01 03:00:00 2013-01-01 04:00:00 es1580a no       118052  1      \n",
       "5 2013-01-01 04:00:00 2013-01-01 05:00:00 es1580a no       118052  1      \n",
       "6 2013-01-01 05:00:00 2013-01-01 06:00:00 es1580a no       118052  1      \n",
       "  validity unit   value\n",
       "1 1        ug.m-3 7    \n",
       "2 1        ug.m-3 2    \n",
       "3 1        ug.m-3 1    \n",
       "4 1        ug.m-3 1    \n",
       "5 1        ug.m-3 0    \n",
       "6 1        ug.m-3 1    "
      ]
     },
     "metadata": {},
     "output_type": "display_data"
    }
   ],
   "source": [
    "data.AQ <- get.AQdata(site, pollutant, start_dt, end_dt=2020, data.by.file)\n",
    "head(data.AQ)"
   ]
  },
  {
   "cell_type": "markdown",
   "metadata": {},
   "source": [
    "# Calculo Propio de Media diaria"
   ]
  },
  {
   "cell_type": "code",
   "execution_count": 8,
   "metadata": {},
   "outputs": [],
   "source": [
    "data.AQ.dy <- data.AQ[complete.cases(data.AQ),] #%>%\n",
    "                #group.dy(unit=\"day\", FUN=mean)"
   ]
  },
  {
   "cell_type": "code",
   "execution_count": 9,
   "metadata": {},
   "outputs": [
    {
     "data": {
      "text/html": [
       "<table>\n",
       "<caption>A tibble: 6 × 9</caption>\n",
       "<thead>\n",
       "\t<tr><th scope=col>date</th><th scope=col>date_end</th><th scope=col>site</th><th scope=col>variable</th><th scope=col>process</th><th scope=col>summary</th><th scope=col>validity</th><th scope=col>unit</th><th scope=col>value</th></tr>\n",
       "\t<tr><th scope=col>&lt;dttm&gt;</th><th scope=col>&lt;dttm&gt;</th><th scope=col>&lt;chr&gt;</th><th scope=col>&lt;chr&gt;</th><th scope=col>&lt;int&gt;</th><th scope=col>&lt;int&gt;</th><th scope=col>&lt;int&gt;</th><th scope=col>&lt;chr&gt;</th><th scope=col>&lt;dbl&gt;</th></tr>\n",
       "</thead>\n",
       "<tbody>\n",
       "\t<tr><td>2013-01-01 00:00:00</td><td>2013-01-01 01:00:00</td><td>es1580a</td><td>no</td><td>118052</td><td>1</td><td>1</td><td>ug.m-3</td><td>7</td></tr>\n",
       "\t<tr><td>2013-01-01 01:00:00</td><td>2013-01-01 02:00:00</td><td>es1580a</td><td>no</td><td>118052</td><td>1</td><td>1</td><td>ug.m-3</td><td>2</td></tr>\n",
       "\t<tr><td>2013-01-01 02:00:00</td><td>2013-01-01 03:00:00</td><td>es1580a</td><td>no</td><td>118052</td><td>1</td><td>1</td><td>ug.m-3</td><td>1</td></tr>\n",
       "\t<tr><td>2013-01-01 03:00:00</td><td>2013-01-01 04:00:00</td><td>es1580a</td><td>no</td><td>118052</td><td>1</td><td>1</td><td>ug.m-3</td><td>1</td></tr>\n",
       "\t<tr><td>2013-01-01 04:00:00</td><td>2013-01-01 05:00:00</td><td>es1580a</td><td>no</td><td>118052</td><td>1</td><td>1</td><td>ug.m-3</td><td>0</td></tr>\n",
       "\t<tr><td>2013-01-01 05:00:00</td><td>2013-01-01 06:00:00</td><td>es1580a</td><td>no</td><td>118052</td><td>1</td><td>1</td><td>ug.m-3</td><td>1</td></tr>\n",
       "</tbody>\n",
       "</table>\n"
      ],
      "text/latex": [
       "A tibble: 6 × 9\n",
       "\\begin{tabular}{lllllllll}\n",
       " date & date\\_end & site & variable & process & summary & validity & unit & value\\\\\n",
       " <dttm> & <dttm> & <chr> & <chr> & <int> & <int> & <int> & <chr> & <dbl>\\\\\n",
       "\\hline\n",
       "\t 2013-01-01 00:00:00 & 2013-01-01 01:00:00 & es1580a & no & 118052 & 1 & 1 & ug.m-3 & 7\\\\\n",
       "\t 2013-01-01 01:00:00 & 2013-01-01 02:00:00 & es1580a & no & 118052 & 1 & 1 & ug.m-3 & 2\\\\\n",
       "\t 2013-01-01 02:00:00 & 2013-01-01 03:00:00 & es1580a & no & 118052 & 1 & 1 & ug.m-3 & 1\\\\\n",
       "\t 2013-01-01 03:00:00 & 2013-01-01 04:00:00 & es1580a & no & 118052 & 1 & 1 & ug.m-3 & 1\\\\\n",
       "\t 2013-01-01 04:00:00 & 2013-01-01 05:00:00 & es1580a & no & 118052 & 1 & 1 & ug.m-3 & 0\\\\\n",
       "\t 2013-01-01 05:00:00 & 2013-01-01 06:00:00 & es1580a & no & 118052 & 1 & 1 & ug.m-3 & 1\\\\\n",
       "\\end{tabular}\n"
      ],
      "text/markdown": [
       "\n",
       "A tibble: 6 × 9\n",
       "\n",
       "| date &lt;dttm&gt; | date_end &lt;dttm&gt; | site &lt;chr&gt; | variable &lt;chr&gt; | process &lt;int&gt; | summary &lt;int&gt; | validity &lt;int&gt; | unit &lt;chr&gt; | value &lt;dbl&gt; |\n",
       "|---|---|---|---|---|---|---|---|---|\n",
       "| 2013-01-01 00:00:00 | 2013-01-01 01:00:00 | es1580a | no | 118052 | 1 | 1 | ug.m-3 | 7 |\n",
       "| 2013-01-01 01:00:00 | 2013-01-01 02:00:00 | es1580a | no | 118052 | 1 | 1 | ug.m-3 | 2 |\n",
       "| 2013-01-01 02:00:00 | 2013-01-01 03:00:00 | es1580a | no | 118052 | 1 | 1 | ug.m-3 | 1 |\n",
       "| 2013-01-01 03:00:00 | 2013-01-01 04:00:00 | es1580a | no | 118052 | 1 | 1 | ug.m-3 | 1 |\n",
       "| 2013-01-01 04:00:00 | 2013-01-01 05:00:00 | es1580a | no | 118052 | 1 | 1 | ug.m-3 | 0 |\n",
       "| 2013-01-01 05:00:00 | 2013-01-01 06:00:00 | es1580a | no | 118052 | 1 | 1 | ug.m-3 | 1 |\n",
       "\n"
      ],
      "text/plain": [
       "  date                date_end            site    variable process summary\n",
       "1 2013-01-01 00:00:00 2013-01-01 01:00:00 es1580a no       118052  1      \n",
       "2 2013-01-01 01:00:00 2013-01-01 02:00:00 es1580a no       118052  1      \n",
       "3 2013-01-01 02:00:00 2013-01-01 03:00:00 es1580a no       118052  1      \n",
       "4 2013-01-01 03:00:00 2013-01-01 04:00:00 es1580a no       118052  1      \n",
       "5 2013-01-01 04:00:00 2013-01-01 05:00:00 es1580a no       118052  1      \n",
       "6 2013-01-01 05:00:00 2013-01-01 06:00:00 es1580a no       118052  1      \n",
       "  validity unit   value\n",
       "1 1        ug.m-3 7    \n",
       "2 1        ug.m-3 2    \n",
       "3 1        ug.m-3 1    \n",
       "4 1        ug.m-3 1    \n",
       "5 1        ug.m-3 0    \n",
       "6 1        ug.m-3 1    "
      ]
     },
     "metadata": {},
     "output_type": "display_data"
    }
   ],
   "source": [
    "head(data.AQ.dy)"
   ]
  },
  {
   "cell_type": "markdown",
   "metadata": {},
   "source": [
    "# Comparar Datos por Año"
   ]
  },
  {
   "cell_type": "code",
   "execution_count": 10,
   "metadata": {},
   "outputs": [],
   "source": [
    "data.all <- compare.years(data.AQ.dy, last.yr=2020)"
   ]
  },
  {
   "cell_type": "code",
   "execution_count": 11,
   "metadata": {},
   "outputs": [],
   "source": [
    "data.all <- data.all[complete.cases(data.all),]"
   ]
  },
  {
   "cell_type": "markdown",
   "metadata": {},
   "source": [
    "# Variaciones diarias"
   ]
  },
  {
   "cell_type": "code",
   "execution_count": 31,
   "metadata": {},
   "outputs": [],
   "source": [
    "# Calcular variaciones\n",
    "var.med <- get.difference(data.all, \"2020\",c(paste(start_dt, \"-2019\", sep=\"\")))\n",
    "var.med[,4:ncol(var.med)] <- var.med[,4:ncol(var.med)]*100"
   ]
  },
  {
   "cell_type": "markdown",
   "metadata": {},
   "source": [
    "var.med <- var.med[complete.cases(var.med), ]"
   ]
  },
  {
   "cell_type": "code",
   "execution_count": 32,
   "metadata": {},
   "outputs": [
    {
     "data": {
      "text/html": [
       "7993"
      ],
      "text/latex": [
       "7993"
      ],
      "text/markdown": [
       "7993"
      ],
      "text/plain": [
       "[1] 7993"
      ]
     },
     "metadata": {},
     "output_type": "display_data"
    },
    {
     "data": {
      "text/html": [
       "7993"
      ],
      "text/latex": [
       "7993"
      ],
      "text/markdown": [
       "7993"
      ],
      "text/plain": [
       "[1] 7993"
      ]
     },
     "metadata": {},
     "output_type": "display_data"
    }
   ],
   "source": [
    "length(var.med$date)\n",
    "length(var.med$\"2013-2019.vs.2020\")"
   ]
  },
  {
   "cell_type": "markdown",
   "metadata": {},
   "source": [
    "# Obtain Breakpoints from Variations"
   ]
  },
  {
   "cell_type": "code",
   "execution_count": 33,
   "metadata": {},
   "outputs": [],
   "source": [
    "var <- data.frame(value=var.med$\"2013-2019.vs.2020\",\n",
    "                  date=var.med$date\n",
    "                 )\n",
    "var <- var[-which(var$value == Inf), ]\n",
    "var <- var[-which(var$value == -Inf), ]"
   ]
  },
  {
   "cell_type": "code",
   "execution_count": 34,
   "metadata": {},
   "outputs": [],
   "source": [
    "var$date <- floor_date(var$date, unit=\"day\")"
   ]
  },
  {
   "cell_type": "code",
   "execution_count": 35,
   "metadata": {},
   "outputs": [
    {
     "data": {
      "text/html": [
       "<table>\n",
       "<caption>A data.frame: 0 × 2</caption>\n",
       "<thead>\n",
       "\t<tr><th scope=col>value</th><th scope=col>date</th></tr>\n",
       "\t<tr><th scope=col>&lt;dbl&gt;</th><th scope=col>&lt;dttm&gt;</th></tr>\n",
       "</thead>\n",
       "<tbody>\n",
       "</tbody>\n",
       "</table>\n"
      ],
      "text/latex": [
       "A data.frame: 0 × 2\n",
       "\\begin{tabular}{ll}\n",
       " value & date\\\\\n",
       " <dbl> & <dttm>\\\\\n",
       "\\hline\n",
       "\\end{tabular}\n"
      ],
      "text/markdown": [
       "\n",
       "A data.frame: 0 × 2\n",
       "\n",
       "| value &lt;dbl&gt; | date &lt;dttm&gt; |\n",
       "|---|---|\n",
       "\n"
      ],
      "text/plain": [
       "     value date"
      ]
     },
     "metadata": {},
     "output_type": "display_data"
    }
   ],
   "source": [
    "head(var)"
   ]
  },
  {
   "cell_type": "code",
   "execution_count": 36,
   "metadata": {},
   "outputs": [
    {
     "ename": "ERROR",
     "evalue": "Error in aggregate.data.frame(as.data.frame(x), ...): no rows to aggregate\n",
     "output_type": "error",
     "traceback": [
      "Error in aggregate.data.frame(as.data.frame(x), ...): no rows to aggregate\nTraceback:\n",
      "1. aggregate(list(value = var$value), by = list(date = var$date), \n .     mean, na.rm = TRUE)",
      "2. aggregate.default(list(value = var$value), by = list(date = var$date), \n .     mean, na.rm = TRUE)",
      "3. aggregate.data.frame(as.data.frame(x), ...)",
      "4. stop(\"no rows to aggregate\")"
     ]
    }
   ],
   "source": [
    "var <- aggregate(list(value=var$value), by=list(date=var$date), mean, na.rm=TRUE)"
   ]
  },
  {
   "cell_type": "code",
   "execution_count": 37,
   "metadata": {},
   "outputs": [],
   "source": [
    "var <- filter.by.std(var, c(\"value\"), 1)"
   ]
  },
  {
   "cell_type": "code",
   "execution_count": 26,
   "metadata": {},
   "outputs": [
    {
     "name": "stderr",
     "output_type": "stream",
     "text": [
      "Warning message in max(var$y, na.rm = TRUE):\n",
      "\"no non-missing arguments to max; returning -Inf\"\n"
     ]
    },
    {
     "data": {
      "text/html": [
       "-Inf"
      ],
      "text/latex": [
       "-Inf"
      ],
      "text/markdown": [
       "-Inf"
      ],
      "text/plain": [
       "[1] -Inf"
      ]
     },
     "metadata": {},
     "output_type": "display_data"
    }
   ],
   "source": [
    "max(var$y, na.rm=TRUE)"
   ]
  },
  {
   "cell_type": "markdown",
   "metadata": {},
   "source": [
    "## Using `segmented` package"
   ]
  },
  {
   "cell_type": "code",
   "execution_count": null,
   "metadata": {},
   "outputs": [],
   "source": [
    "suppressMessages(library(segmented))\n",
    "\n",
    "my.seg <- segmented(lm(y ~ 1 + x, data=var), \n",
    "                      seg.Z = ~ x,\n",
    "                      psi = list(x = periods)\n",
    "                     )"
   ]
  },
  {
   "cell_type": "markdown",
   "metadata": {},
   "source": [
    "# Tendencia en los intervalos obtenidos"
   ]
  },
  {
   "cell_type": "code",
   "execution_count": null,
   "metadata": {},
   "outputs": [],
   "source": [
    "suppressMessages(library(mblm))\n",
    "a <- mblm(y ~ x + 1,\n",
    "          var[var$x < my.seg$psi[1],],\n",
    "          repeated=T)"
   ]
  },
  {
   "cell_type": "markdown",
   "metadata": {},
   "source": [
    "# Representar Datos"
   ]
  },
  {
   "cell_type": "code",
   "execution_count": null,
   "metadata": {},
   "outputs": [],
   "source": [
    "plot <- ggplot(data=var, aes(x=as_datetime(x)))+ \n",
    "    scale_color_manual(name = \"Years\", \n",
    "                       values = c(\"2010-2019\" = \"red\",\n",
    "                                  \"2019\" = \"blue\"))\n",
    "\n",
    "#for (k in 1:(nrow(my.seg$psi))) {\n",
    "    plot <- plot + geom_line(aes(y=y, color=\"2010-2019\"), size=0.2)\n",
    "    \n",
    "#    plot <- plot + geom_vline(xintercept = my.seg$psi[k,\"Est.\"], \n",
    "#                              linetype=5, color = \"red\", size=1.5)\n",
    "#    plot <- plot + geom_vline(xintercept = my.seg$psi[k,\"Est.\"] - my.seg$psi[k,\"St.Err\"], \n",
    "#                              linetype=5, color = \"orange\", size=1)\n",
    "#    plot <- plot + geom_vline(xintercept = my.seg$psi[k,\"Est.\"] + my.seg$psi[k,\"St.Err\"], \n",
    "#                              linetype=5, color = \"orange\", size=1)\n",
    "#}\n",
    "\n",
    "for (k in 1:(length(periods))) {\n",
    "    plot <- plot + geom_vline(xintercept = as.numeric(periods[k]), \n",
    "                              linetype=4, color = \"black\", size=1)\n",
    "}\n",
    "\n",
    "\n",
    "plot"
   ]
  },
  {
   "cell_type": "code",
   "execution_count": null,
   "metadata": {},
   "outputs": [],
   "source": []
  }
 ],
 "metadata": {
  "kernelspec": {
   "display_name": "R",
   "language": "R",
   "name": "ir"
  },
  "language_info": {
   "codemirror_mode": "r",
   "file_extension": ".r",
   "mimetype": "text/x-r-source",
   "name": "R",
   "pygments_lexer": "r",
   "version": "3.6.3"
  }
 },
 "nbformat": 4,
 "nbformat_minor": 4
}
