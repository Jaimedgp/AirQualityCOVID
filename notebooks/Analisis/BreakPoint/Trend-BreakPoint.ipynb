{
 "cells": [
  {
   "cell_type": "code",
   "execution_count": 1,
   "metadata": {},
   "outputs": [],
   "source": [
    "suppressMessages(library(repr))\n",
    "options(repr.plot.width=25,\n",
    "        repr.plot.height=10,\n",
    "        #repr.plot.pointsize=50,\n",
    "        repr.plot.family='serif'\n",
    "       )"
   ]
  },
  {
   "cell_type": "code",
   "execution_count": 2,
   "metadata": {},
   "outputs": [],
   "source": [
    "source(\"../../../src/Variacion/functions.R\")"
   ]
  },
  {
   "cell_type": "markdown",
   "metadata": {},
   "source": [
    "# Data variables"
   ]
  },
  {
   "cell_type": "code",
   "execution_count": 28,
   "metadata": {},
   "outputs": [],
   "source": [
    "municipio = \"Santander\"\n",
    "site = \"\" # c(\"es1580a\", \"es0118a\")\n",
    "\n",
    "data.by.file = TRUE\n",
    "\n",
    "pollutant = c(\"o3\")#, \"no\", \"o3\", \"pm10\", \"pm2.5\")\n",
    "start_dt = 2010"
   ]
  },
  {
   "cell_type": "markdown",
   "metadata": {},
   "source": [
    "# Lockdown dates"
   ]
  },
  {
   "cell_type": "code",
   "execution_count": 29,
   "metadata": {},
   "outputs": [],
   "source": [
    "periods <- list(\n",
    "    # lockdown\n",
    "    lockdown = as.numeric(ymd_hms(\"2020-03-14 00:00:00\")),\n",
    "    #end.lockdown = as.numeric(ymd_hms(\"2020-04-28 00:00:00\")),\n",
    "\n",
    "    # poslockdown\n",
    "    fases = as.numeric(ymd_hms(\"2020-05-01 00:00:00\")),\n",
    "    normalidad = as.numeric(ymd_hms(\"2020-06-21 00:00:00\")),\n",
    "\n",
    "    # New lockdown\n",
    "    new.lockdown = as.numeric(ymd_hms(\"2020-10-25 00:00:00\"))\n",
    ")"
   ]
  },
  {
   "cell_type": "markdown",
   "metadata": {},
   "source": [
    "---"
   ]
  },
  {
   "cell_type": "code",
   "execution_count": 30,
   "metadata": {},
   "outputs": [],
   "source": [
    "if (site == \"\" && municipio != \"\") {\n",
    "    site <- get.site.municipio(municipio,\n",
    "                               fileName=\"../../../data/curation/sitesAQ.csv\")\n",
    "}"
   ]
  },
  {
   "cell_type": "code",
   "execution_count": 31,
   "metadata": {},
   "outputs": [
    {
     "data": {
      "text/html": [
       "<table>\n",
       "<caption>A tibble: 0 × 9</caption>\n",
       "<thead>\n",
       "\t<tr><th scope=col>date</th><th scope=col>date_end</th><th scope=col>site</th><th scope=col>variable</th><th scope=col>process</th><th scope=col>summary</th><th scope=col>validity</th><th scope=col>unit</th><th scope=col>value</th></tr>\n",
       "\t<tr><th scope=col>&lt;dttm&gt;</th><th scope=col>&lt;dttm&gt;</th><th scope=col>&lt;chr&gt;</th><th scope=col>&lt;chr&gt;</th><th scope=col>&lt;int&gt;</th><th scope=col>&lt;int&gt;</th><th scope=col>&lt;int&gt;</th><th scope=col>&lt;chr&gt;</th><th scope=col>&lt;dbl&gt;</th></tr>\n",
       "</thead>\n",
       "<tbody>\n",
       "</tbody>\n",
       "</table>\n"
      ],
      "text/latex": [
       "A tibble: 0 × 9\n",
       "\\begin{tabular}{lllllllll}\n",
       " date & date\\_end & site & variable & process & summary & validity & unit & value\\\\\n",
       " <dttm> & <dttm> & <chr> & <chr> & <int> & <int> & <int> & <chr> & <dbl>\\\\\n",
       "\\hline\n",
       "\\end{tabular}\n"
      ],
      "text/markdown": [
       "\n",
       "A tibble: 0 × 9\n",
       "\n",
       "| date &lt;dttm&gt; | date_end &lt;dttm&gt; | site &lt;chr&gt; | variable &lt;chr&gt; | process &lt;int&gt; | summary &lt;int&gt; | validity &lt;int&gt; | unit &lt;chr&gt; | value &lt;dbl&gt; |\n",
       "|---|---|---|---|---|---|---|---|---|\n",
       "\n"
      ],
      "text/plain": [
       "     date date_end site variable process summary validity unit value"
      ]
     },
     "metadata": {},
     "output_type": "display_data"
    }
   ],
   "source": [
    "data.AQ <- get.AQdata(site, pollutant, start_dt, data.by.file)\n",
    "head(data.AQ)"
   ]
  },
  {
   "cell_type": "markdown",
   "metadata": {},
   "source": [
    "# Calculo Propio de Media diaria"
   ]
  },
  {
   "cell_type": "code",
   "execution_count": 32,
   "metadata": {},
   "outputs": [
    {
     "ename": "ERROR",
     "evalue": "Error in aggregate.data.frame(as.data.frame(x), ...): no rows to aggregate\n",
     "output_type": "error",
     "traceback": [
      "Error in aggregate.data.frame(as.data.frame(x), ...): no rows to aggregate\nTraceback:\n",
      "1. data.AQ %>% group.dy(unit = \"day\", FUN = mean)",
      "2. group.dy(., unit = \"day\", FUN = mean)",
      "3. aggregate(dataFrame$value, by = list(dataFrame$date, dataFrame$variable, \n .     dataFrame$site), FUN, na.rm = TRUE, na.action = na.omit)",
      "4. aggregate.default(dataFrame$value, by = list(dataFrame$date, \n .     dataFrame$variable, dataFrame$site), FUN, na.rm = TRUE, na.action = na.omit)",
      "5. aggregate.data.frame(as.data.frame(x), ...)",
      "6. stop(\"no rows to aggregate\")"
     ]
    }
   ],
   "source": [
    "data.AQ.dy <- data.AQ %>%\n",
    "                group.dy(unit=\"day\", FUN=mean)"
   ]
  },
  {
   "cell_type": "markdown",
   "metadata": {},
   "source": [
    "# Comparar Datos por Año"
   ]
  },
  {
   "cell_type": "code",
   "execution_count": null,
   "metadata": {},
   "outputs": [],
   "source": [
    "data.all <- compare.years(data.AQ.dy, last.yr=2020)"
   ]
  },
  {
   "cell_type": "markdown",
   "metadata": {},
   "source": [
    "# Variaciones diarias"
   ]
  },
  {
   "cell_type": "code",
   "execution_count": null,
   "metadata": {},
   "outputs": [],
   "source": [
    "# Calcular variaciones\n",
    "var.med <- get.difference(data.all, \"2020\",c(\"2019\", \n",
    "                                             paste(start_dt, \"-2019\", sep=\"\")))\n",
    "var.med[,4:ncol(var.med)] <- var.med[,4:ncol(var.med)]*100"
   ]
  },
  {
   "cell_type": "code",
   "execution_count": null,
   "metadata": {},
   "outputs": [],
   "source": [
    "head(var.med)"
   ]
  },
  {
   "cell_type": "markdown",
   "metadata": {},
   "source": [
    "# Obtain Breakpoints from Variations"
   ]
  },
  {
   "cell_type": "code",
   "execution_count": null,
   "metadata": {},
   "outputs": [],
   "source": [
    "var <- data.frame(y=var.med$\"2010-2019.vs.2020\",\n",
    "                  x=as.numeric(var.med$date)\n",
    "                 )"
   ]
  },
  {
   "cell_type": "markdown",
   "metadata": {},
   "source": [
    "## Using `segmented` package"
   ]
  },
  {
   "cell_type": "code",
   "execution_count": null,
   "metadata": {},
   "outputs": [],
   "source": [
    "suppressMessages(library(segmented))\n",
    "\n",
    "my.seg <- segmented(lm(y ~ x + 1, data=var), \n",
    "                      seg.Z = ~ x,\n",
    "                      psi = list(x = periods)\n",
    "                     )"
   ]
  },
  {
   "cell_type": "markdown",
   "metadata": {},
   "source": [
    "# Tendencia en los intervalos obtenidos"
   ]
  },
  {
   "cell_type": "code",
   "execution_count": 33,
   "metadata": {},
   "outputs": [],
   "source": [
    "suppressMessages(library(mblm))\n",
    "a <- mblm(y ~ x + 1,\n",
    "          var[var$x < my.seg$psi[1],],\n",
    "          repeated=T)"
   ]
  },
  {
   "cell_type": "markdown",
   "metadata": {},
   "source": [
    "# Representar Datos"
   ]
  },
  {
   "cell_type": "code",
   "execution_count": null,
   "metadata": {},
   "outputs": [],
   "source": [
    "plot <- ggplot(data=var, aes(x=as_datetime(x)))+ \n",
    "    scale_color_manual(name = \"Years\", \n",
    "                       values = c(\"2010-2019\" = \"red\",\n",
    "                                  \"2019\" = \"blue\"))\n",
    "\n",
    "for (k in 1:(nrow(my.seg$psi))) {\n",
    "    plot <- plot + geom_line(aes(y=y, color=\"2010-2019\"), size=0.2)\n",
    "    \n",
    "    plot <- plot + geom_vline(xintercept = my.seg$psi[k,\"Est.\"], \n",
    "                              linetype=5, color = \"red\", size=1.5)\n",
    "    plot <- plot + geom_vline(xintercept = my.seg$psi[k,\"Est.\"] - my.seg$psi[k,\"St.Err\"], \n",
    "                              linetype=5, color = \"orange\", size=1)\n",
    "    plot <- plot + geom_vline(xintercept = my.seg$psi[k,\"Est.\"] + my.seg$psi[k,\"St.Err\"], \n",
    "                              linetype=5, color = \"orange\", size=1)\n",
    "}\n",
    "\n",
    "for (k in 1:(length(periods))) {\n",
    "    plot <- plot + geom_vline(xintercept = as.numeric(periods[k]), \n",
    "                              linetype=4, color = \"black\", size=1)\n",
    "}\n",
    "\n",
    "\n",
    "plot"
   ]
  },
  {
   "cell_type": "code",
   "execution_count": null,
   "metadata": {},
   "outputs": [],
   "source": []
  }
 ],
 "metadata": {
  "kernelspec": {
   "display_name": "R",
   "language": "R",
   "name": "ir"
  },
  "language_info": {
   "codemirror_mode": "r",
   "file_extension": ".r",
   "mimetype": "text/x-r-source",
   "name": "R",
   "pygments_lexer": "r",
   "version": "3.6.3"
  }
 },
 "nbformat": 4,
 "nbformat_minor": 4
}
