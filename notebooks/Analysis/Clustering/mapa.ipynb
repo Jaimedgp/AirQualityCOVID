{
 "cells": [
  {
   "cell_type": "code",
   "execution_count": 1,
   "metadata": {},
   "outputs": [
    {
     "name": "stderr",
     "output_type": "stream",
     "text": [
      "── \u001b[1mAttaching packages\u001b[22m ───────────────────────────────────────────────────────────────────── tidyverse 1.3.1 ──\n",
      "\n",
      "\u001b[32m✔\u001b[39m \u001b[34mggplot2\u001b[39m 3.3.3     \u001b[32m✔\u001b[39m \u001b[34mpurrr  \u001b[39m 0.3.4\n",
      "\u001b[32m✔\u001b[39m \u001b[34mtibble \u001b[39m 3.1.2     \u001b[32m✔\u001b[39m \u001b[34mdplyr  \u001b[39m 1.0.6\n",
      "\u001b[32m✔\u001b[39m \u001b[34mtidyr  \u001b[39m 1.1.3     \u001b[32m✔\u001b[39m \u001b[34mstringr\u001b[39m 1.4.0\n",
      "\u001b[32m✔\u001b[39m \u001b[34mreadr  \u001b[39m 1.4.0     \u001b[32m✔\u001b[39m \u001b[34mforcats\u001b[39m 0.5.1\n",
      "\n",
      "── \u001b[1mConflicts\u001b[22m ──────────────────────────────────────────────────────────────────────── tidyverse_conflicts() ──\n",
      "\u001b[31m✖\u001b[39m \u001b[34mdplyr\u001b[39m::\u001b[32mfilter()\u001b[39m masks \u001b[34mstats\u001b[39m::filter()\n",
      "\u001b[31m✖\u001b[39m \u001b[34mdplyr\u001b[39m::\u001b[32mlag()\u001b[39m    masks \u001b[34mstats\u001b[39m::lag()\n",
      "\n"
     ]
    }
   ],
   "source": [
    "library(tidyverse)"
   ]
  },
  {
   "cell_type": "code",
   "execution_count": 2,
   "metadata": {},
   "outputs": [],
   "source": [
    "setwd(\"~/Repositories/AirQualityCOVID/\")"
   ]
  },
  {
   "cell_type": "code",
   "execution_count": 3,
   "metadata": {},
   "outputs": [
    {
     "data": {
      "text/html": [
       "<table class=\"dataframe\">\n",
       "<caption>A data.frame: 6 × 2</caption>\n",
       "<thead>\n",
       "\t<tr><th></th><th scope=col>group</th><th scope=col>site</th></tr>\n",
       "\t<tr><th></th><th scope=col>&lt;dbl&gt;</th><th scope=col>&lt;chr&gt;</th></tr>\n",
       "</thead>\n",
       "<tbody>\n",
       "\t<tr><th scope=row>1</th><td>1</td><td>Alcalá de Henares</td></tr>\n",
       "\t<tr><th scope=row>2</th><td>1</td><td>Granada          </td></tr>\n",
       "\t<tr><th scope=row>3</th><td>1</td><td>Sevilla          </td></tr>\n",
       "\t<tr><th scope=row>4</th><td>2</td><td>Alcobendas       </td></tr>\n",
       "\t<tr><th scope=row>5</th><td>2</td><td>Alicante         </td></tr>\n",
       "\t<tr><th scope=row>6</th><td>2</td><td>Burgos           </td></tr>\n",
       "</tbody>\n",
       "</table>\n"
      ],
      "text/latex": [
       "A data.frame: 6 × 2\n",
       "\\begin{tabular}{r|ll}\n",
       "  & group & site\\\\\n",
       "  & <dbl> & <chr>\\\\\n",
       "\\hline\n",
       "\t1 & 1 & Alcalá de Henares\\\\\n",
       "\t2 & 1 & Granada          \\\\\n",
       "\t3 & 1 & Sevilla          \\\\\n",
       "\t4 & 2 & Alcobendas       \\\\\n",
       "\t5 & 2 & Alicante         \\\\\n",
       "\t6 & 2 & Burgos           \\\\\n",
       "\\end{tabular}\n"
      ],
      "text/markdown": [
       "\n",
       "A data.frame: 6 × 2\n",
       "\n",
       "| <!--/--> | group &lt;dbl&gt; | site &lt;chr&gt; |\n",
       "|---|---|---|\n",
       "| 1 | 1 | Alcalá de Henares |\n",
       "| 2 | 1 | Granada           |\n",
       "| 3 | 1 | Sevilla           |\n",
       "| 4 | 2 | Alcobendas        |\n",
       "| 5 | 2 | Alicante          |\n",
       "| 6 | 2 | Burgos            |\n",
       "\n"
      ],
      "text/plain": [
       "  group site             \n",
       "1 1     Alcalá de Henares\n",
       "2 1     Granada          \n",
       "3 1     Sevilla          \n",
       "4 2     Alcobendas       \n",
       "5 2     Alicante         \n",
       "6 2     Burgos           "
      ]
     },
     "metadata": {},
     "output_type": "display_data"
    }
   ],
   "source": [
    "groups <- read.csv(\"notebooks/Analysis/Clustering/Euclidea/groups5.csv\")\n",
    "groups$group <- groups$group + 1\n",
    "head(groups)"
   ]
  },
  {
   "cell_type": "code",
   "execution_count": 4,
   "metadata": {},
   "outputs": [],
   "source": [
    "sites <- read.csv(\"data/Curation/checked_AQ.csv\") %>%\n",
    "            filter(Pollutant == \"no2\")"
   ]
  },
  {
   "cell_type": "code",
   "execution_count": 5,
   "metadata": {},
   "outputs": [
    {
     "name": "stderr",
     "output_type": "stream",
     "text": [
      "`summarise()` has grouped output by 'site'. You can override using the `.groups` argument.\n",
      "\n"
     ]
    }
   ],
   "source": [
    "info <- merge(groups,\n",
    "              sites %>% select(latitude, longitude, Municipio),\n",
    "              by.x=\"site\", by.y = \"Municipio\", all.x=T, all.y=F) %>%\n",
    "        group_by(site, group) %>%\n",
    "            summarise(latitude = mean(latitude),\n",
    "                     longitude = mean(longitude))"
   ]
  },
  {
   "cell_type": "code",
   "execution_count": 6,
   "metadata": {},
   "outputs": [],
   "source": [
    "library(leaflet)\n",
    "library(htmlwidgets)"
   ]
  },
  {
   "cell_type": "code",
   "execution_count": 7,
   "metadata": {},
   "outputs": [],
   "source": [
    "pal <- colorFactor(c(\"navy\", \"red\", \"green\", \"orange\", \"yellow\", \"purple\"), domain = 1:6)\n",
    "\n",
    "leaflet(info) %>% addTiles() %>%\n",
    "  addCircleMarkers(~longitude,~latitude,\n",
    "                   #radius = ~ifelse(type == \"ship\", 6, 10),\n",
    "                   color = ~pal(group),\n",
    "                   stroke = FALSE, fillOpacity = 1,\n",
    "                   popup=~site\n",
    "            \n",
    "  ) %>% addLegend(\"bottomright\", pal = pal, values = ~group,\n",
    "    title = \"Clusters\",\n",
    "    labFormat = labelFormat(prefix = \"group \"),\n",
    "    opacity = 1\n",
    "  ) %>% saveWidget(\"temp.html\", selfcontained = FALSE)"
   ]
  },
  {
   "cell_type": "code",
   "execution_count": null,
   "metadata": {},
   "outputs": [],
   "source": []
  }
 ],
 "metadata": {
  "kernelspec": {
   "display_name": "R",
   "language": "R",
   "name": "ir"
  },
  "language_info": {
   "codemirror_mode": "r",
   "file_extension": ".r",
   "mimetype": "text/x-r-source",
   "name": "R",
   "pygments_lexer": "r",
   "version": "4.1.0"
  }
 },
 "nbformat": 4,
 "nbformat_minor": 4
}
