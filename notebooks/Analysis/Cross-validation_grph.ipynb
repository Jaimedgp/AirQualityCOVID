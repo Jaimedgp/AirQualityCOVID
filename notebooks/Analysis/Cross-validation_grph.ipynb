{
 "cells": [
  {
   "cell_type": "markdown",
   "metadata": {},
   "source": [
    "# Representación Validación Cruzada\n",
    "\n",
    "Los resultados se han guardado en el archivo `final.rda` dentro de la carpeta ` Cross-validation/ `. Dentro de dicho archivo se encuentra una lista de `R` llamada `cross.val` con los siguientes valores:\n",
    "\n",
    "> **metrics**: _data.frame_ con diferentes métricas para cada modelo.\n",
    ">* RMSE: $\\sqrt{\\frac{\\sum_i^N{({pred}_i - {obs}_i)^2}}{N}}$\n",
    ">* bias: $\\frac{\\overline{pred}}{\\overline{obs}}$\n",
    ">* cor1: Correlación Pearson para los datos brutos de observación y predicción \n",
    ">* cor2: Correlación Pearson para los datos desestacionalizados de observación y predicción\n",
    ">* var.ratio: $\\frac{var(pred)}{var(obs)}$\n",
    ">\n",
    "> **predictions**: _data.frame_ con las series temporales observadas (`obs`), predichas por el modelo (`pred`) y con el ajuste fino _qq.Mapping_ (`pred.qq`)\n",
    ">\n",
    "> **predictions.ds**: _data.frame_ con las series temporales desestacionalizadas observadas (`obs`), predichas por el modelo (`pred`) y con el ajuste fino _qq.Mapping_ (`pred.qq`)\n",
    "\n",
    "Cabe destacar que se ha obtenido la correlación entre la predicción y la observación desestacionalizados debido a que la propia tendencia sinusoidal de las series temporales aportan una gran correlacion a los modelos simplemente teniendo en cuenta esto. \n",
    "\n",
    "## Estaciones Utilizadas\n",
    "\n",
    "Se representan los resultados obtenidos de la validación cruzada. Se han escogido al menos 10 estaciones de calidad del aire para cada contaminante teniendo en cuenta los siguientes aspectos:\n",
    "\n",
    "   > Que tuviesen suficientes datos para dicho contaminante\n",
    "   >\n",
    "   > Se situase en una ciudad con una alta población \n",
    "   >\n",
    "   > Las estaciones de cada contaminante se situasen de manera homogénea por todo el territorio del país\n",
    "   \n",
    "## _Leave One Group Out_\n",
    "La validación se ha realizado con los datos del 2013 al 2019, realizando un _Leave One Group Out_ utilizando para test un año natural completo y como train el resto. Ésto se ha realizado de manera iterativa para todos los años disponibles. En las tablas de datos se indica el año utilizado de test en cada iteración.\n",
    "\n",
    "## Técnicas\n",
    "\n",
    "Las técnicas utilizadas en la validación han sido:\n",
    "\n",
    "> Vecinos más cercanos **(knn)**: Para distintos vecinos cercanos `k = 1:10`\n",
    "> \n",
    "> randomForest **(rf)**: Para dististintos número de árboles `ntree = 10, 20, 30, 50, 100, 150, 200`\n",
    ">\n",
    "> Regresion Lineal **(lm)**\n",
    "\n",
    "La técnica utilizada se detalla en la columna `method` con los valores `(\"knn\", \"rf\", \"lm\")`\n",
    "\n",
    "## _qq Mapping_\n",
    "\n",
    "Para cada uno de los modelos obtenidos se les ha aplicado un ajuste fino mediante _qq Mapping_, obteniendo los resultados de la validación cruzada con los datos sin dicho ajuste fino `qq.Mapping == \"No\"` y con dicho ajuste `qq.Mapping == \"Yes\"`.\n",
    "\n",
    "## Dias Anteriores Meteo\n",
    "\n",
    "Además, se ha probado añadiendo los datos meteorológicos de dias anteriores como outputs. En las tablas de resultados la columna `days` hace referencia a cuantos dias anteriores se han añadido, haciendo referencia el 0 a que solo se han tratado como outputs los datos meteorológicos del día. "
   ]
  },
  {
   "cell_type": "markdown",
   "metadata": {},
   "source": [
    "---"
   ]
  },
  {
   "cell_type": "markdown",
   "metadata": {},
   "source": [
    "### Cargar paquetes"
   ]
  },
  {
   "cell_type": "code",
   "execution_count": 1,
   "metadata": {},
   "outputs": [],
   "source": [
    "suppressMessages(library(tidyverse))\n",
    "suppressMessages(library(ggplot2))\n",
    "\n",
    "suppressMessages(library(openair))"
   ]
  },
  {
   "cell_type": "code",
   "execution_count": 2,
   "metadata": {},
   "outputs": [],
   "source": [
    "# Cambiar la apariencia de las graficas en jupyter\n",
    "suppressMessages(library(repr))\n",
    "options(repr.plot.width=25,\n",
    "        repr.plot.height=10,\n",
    "        #repr.plot.pointsize=50,\n",
    "        repr.plot.family='serif'\n",
    "       )"
   ]
  },
  {
   "cell_type": "markdown",
   "metadata": {},
   "source": [
    "#### Notación en las gráficas\n",
    "\n",
    "Se añade el formato correcto de cada una de las variables categóricas con el que deben aparecer en las gráficas. Si se quiere elimiar alguna de estas variables de las gráficas se puede hacer ahora y afectará al resto del notebook."
   ]
  },
  {
   "cell_type": "code",
   "execution_count": 3,
   "metadata": {},
   "outputs": [],
   "source": [
    "pollut.notation <- c(\"no\" = expression(NO),\n",
    "                     \"no2\" = expression(NO[3]),\n",
    "                     \"o3\" = expression(O[3]),\n",
    "                     \"pm10\" = expression(PM[10]),\n",
    "                     \"pm2.5\" = expression(PM[2.5])\n",
    "                    )\n",
    "Error.notation <- c(\"bias\" = \"Bias Ratio\",\n",
    "                    \"cor1\" = \"Correlation\",\n",
    "                    \"cor2\" = \"Deseasonal Correlation\",\n",
    "                    \"RMSE\" = \"Root Mean Square Error\",\n",
    "                    \"var.ratio\" = \"Ratio of Variance\"\n",
    "                   )\n",
    "site.notation <- c(\"es0118a\" = \"Madrid\", \"es1438a\" = \"Barcelona\",\n",
    "                   \"es1625a\" = \"Valencia\", \"es0890a\" = \"Sevilla\",\n",
    "                   \"es1047a\" = \"Zaragoza\", \"es1137a\" = \"Vigo\",\n",
    "                   \"es1632a\" = \"Valladolid\", \"es0110a\" = \"Bilbao\",\n",
    "                   \"es1580a\" = \"Santander\", \"es1340a\" = \"Huelva\"\n",
    "                   )\n",
    "\n",
    "methodes <- c(\"lm\", \"knn\", \"rf\")\n",
    "\n",
    "param.text <- list(\"rf\" = \"ntree\", \"knn\" = \"k-neighbors\")\n",
    "param.values <- list(\"rf\" = 100, #c(10, 20, 30, 50, 100, 150, 200), \n",
    "                     \"knn\" = 5, #1:10,\n",
    "                     \"lm\" = 0\n",
    "                    )"
   ]
  },
  {
   "cell_type": "markdown",
   "metadata": {},
   "source": [
    "Se cargan los resultados de la validación cruzada"
   ]
  },
  {
   "cell_type": "code",
   "execution_count": null,
   "metadata": {},
   "outputs": [],
   "source": [
    "HOME <- \"~/Repositories/AirQualityCOVID/\"\n",
    "load(paste(HOME, \"data/Cross-validation/final.rda\", sep=\"\"))"
   ]
  },
  {
   "cell_type": "markdown",
   "metadata": {},
   "source": [
    "---"
   ]
  },
  {
   "cell_type": "markdown",
   "metadata": {},
   "source": [
    "## Métricas"
   ]
  },
  {
   "cell_type": "code",
   "execution_count": null,
   "metadata": {},
   "outputs": [],
   "source": [
    "pivot.metrics <- cross.val$metrics %>%\n",
    "        pivot_longer(cols = 8:ncol(cross.val$metrics),\n",
    "                     names_to = \"Error\", values_to = \"Err.Val\") %>%\n",
    "        filter(site %in% names(site.notation),\n",
    "               variable %in% names(pollut.notation),\n",
    "               year %in% 2013:2019,\n",
    "               Error %in% names(Error.notation)\n",
    "              )"
   ]
  },
  {
   "cell_type": "code",
   "execution_count": null,
   "metadata": {},
   "outputs": [],
   "source": [
    "dat.df <- rbind(pivot.metrics %>%\n",
    "                    filter(method == \"lm\",\n",
    "                           days == 1,\n",
    "                           qq.Mapping %in% c(\"Yes\", \"No\")\n",
    "                          ),\n",
    "                pivot.metrics %>%\n",
    "                    filter(method == \"knn\",\n",
    "                           days == 0,\n",
    "                           param == 6,\n",
    "                           qq.Mapping %in% c(\"Yes\", \"No\")\n",
    "                          ))\n",
    "dat.df <- rbind(dat.df,\n",
    "                pivot.metrics %>%\n",
    "                    filter(method == \"rf\",\n",
    "                           days == 0,\n",
    "                           param == 50,\n",
    "                           qq.Mapping %in% c(\"Yes\", \"No\")\n",
    "                          )\n",
    "               )"
   ]
  },
  {
   "cell_type": "code",
   "execution_count": null,
   "metadata": {},
   "outputs": [],
   "source": [
    "ggplot(data=dat.df) +\n",
    "    geom_boxplot(aes(x=method, y=Err.Val, fill=method, color=qq.Mapping)) +\n",
    "    scale_color_grey() +\n",
    "    facet_wrap(~variable+Error, \n",
    "               scale=\"free_y\", \n",
    "               labeller = labeller(Error=Error.notation)) +\n",
    "    scale_x_discrete(name=\"Pollutants\", labels=pollut.notation) +\n",
    "    scale_y_continuous(name=\"Error Values [a.u.]\") +\n",
    "    scale_fill_discrete(name=param.text[method])"
   ]
  },
  {
   "cell_type": "markdown",
   "metadata": {},
   "source": [
    "## Predicciones"
   ]
  },
  {
   "cell_type": "code",
   "execution_count": null,
   "metadata": {},
   "outputs": [],
   "source": [
    "predict.df <- cross.val$predictions %>%\n",
    "            filter(\n",
    "                method %in% methodes,\n",
    "                days %in% 0:3,\n",
    "                site %in% names(site.notation),\n",
    "                variable %in% names(pollut.notation),\n",
    "                year %in% 2013:2019,\n",
    "                param %in% unlist(param.values)\n",
    "            )"
   ]
  },
  {
   "cell_type": "markdown",
   "metadata": {},
   "source": [
    "### Series Temporales"
   ]
  },
  {
   "cell_type": "code",
   "execution_count": null,
   "metadata": {},
   "outputs": [],
   "source": [
    "ggplot(data=predict.df) +\n",
    "    geom_line(aes(x=date, y=pred.qq, color = method)) +\n",
    "    geom_line(aes(x=date, y=obs), color = \"black\") +\n",
    "    facet_wrap(~variable+site, \n",
    "               scale=\"free_y\", \n",
    "               labeller = labeller(variable =  pollut.notation,\n",
    "                                   site = site.notation))"
   ]
  },
  {
   "cell_type": "markdown",
   "metadata": {},
   "source": [
    "#### Resolucion Bisemanal"
   ]
  },
  {
   "cell_type": "code",
   "execution_count": null,
   "metadata": {},
   "outputs": [],
   "source": [
    "test <- predict.df %>%\n",
    "            rename(value = pred.qq) %>%\n",
    "            timeAverage(avg.time = \"2 week\", \n",
    "                        type = c(\"days\", \"site\", \"variable\", \"param\", \"method\"))\n",
    "test$variable <- factor(test$variable, labels=c(expression(NO),\n",
    "                                                expression(NO[3]),\n",
    "                                                expression(O[3]),\n",
    "                                                expression(PM[10]),\n",
    "                                                expression(PM[2.5])\n",
    "                                               ))"
   ]
  },
  {
   "cell_type": "code",
   "execution_count": null,
   "metadata": {},
   "outputs": [],
   "source": [
    "ggplot(data=test) +\n",
    "    geom_line(aes(x=date, y=value, color = method)) +\n",
    "    geom_line(aes(x=date, y=obs), color = \"black\") +\n",
    "    facet_wrap(~variable+site, scale=\"free\", ncol=4, labeller=label_parsed)"
   ]
  },
  {
   "cell_type": "markdown",
   "metadata": {},
   "source": [
    "### Distribucion de los datos"
   ]
  },
  {
   "cell_type": "code",
   "execution_count": null,
   "metadata": {},
   "outputs": [],
   "source": [
    "ggplot(data=predict.df) +\n",
    "    geom_density(aes(x=pred.qq, color=method), size=1) +\n",
    "    #geom_density(aes(x=pred, color=method), size=0.5) +\n",
    "    geom_density(aes(x=obs), color=\"black\") +\n",
    "    facet_wrap(~variable+site, scale=\"free\")"
   ]
  },
  {
   "cell_type": "code",
   "execution_count": null,
   "metadata": {},
   "outputs": [],
   "source": []
  }
 ],
 "metadata": {
  "kernelspec": {
   "display_name": "R",
   "language": "R",
   "name": "ir"
  },
  "language_info": {
   "codemirror_mode": "r",
   "file_extension": ".r",
   "mimetype": "text/x-r-source",
   "name": "R",
   "pygments_lexer": "r",
   "version": "3.6.3"
  }
 },
 "nbformat": 4,
 "nbformat_minor": 4
}
