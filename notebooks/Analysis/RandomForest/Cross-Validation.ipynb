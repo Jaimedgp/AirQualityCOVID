{
 "cells": [
  {
   "cell_type": "markdown",
   "metadata": {},
   "source": [
    "# Cross-Validation of `RandomForest` model\n",
    "\n",
    "Make a k-fold cross-validation using natural years. _Leave-one-(natural year)-out_"
   ]
  },
  {
   "cell_type": "code",
   "execution_count": 1,
   "metadata": {},
   "outputs": [],
   "source": [
    "# Load packages\n",
    "suppressMessages(library(lubridate))\n",
    "suppressMessages(library(tidyverse))\n",
    "suppressMessages(library(openair))\n",
    "\n",
    "suppressMessages(library(caret))\n",
    "suppressMessages(library(BBmisc))"
   ]
  },
  {
   "cell_type": "code",
   "execution_count": 2,
   "metadata": {},
   "outputs": [],
   "source": [
    "suppressMessages(library(doMC))\n",
    "registerDoMC(cores=as.integer(detectCores()*0.75))"
   ]
  },
  {
   "cell_type": "code",
   "execution_count": 3,
   "metadata": {},
   "outputs": [],
   "source": [
    "suppressMessages(library(repr))\n",
    "options(repr.plot.width=25,\n",
    "        repr.plot.height=10,\n",
    "        #repr.plot.pointsize=50,\n",
    "        repr.plot.family='serif'\n",
    "       )"
   ]
  },
  {
   "cell_type": "code",
   "execution_count": 4,
   "metadata": {},
   "outputs": [],
   "source": [
    "# Working directory\n",
    "setwd(\"~/Repositories/AirQualityCOVID\")"
   ]
  },
  {
   "cell_type": "markdown",
   "metadata": {},
   "source": [
    "## Representative sample "
   ]
  },
  {
   "cell_type": "code",
   "execution_count": 5,
   "metadata": {},
   "outputs": [],
   "source": [
    "sites.lv <- c(\"es0118a\", \"es1438a\") # Big cities (Madrid and Barcelona)\",\n",
    "sites.lv <- c(sites.lv, \"es1580a\", \"es1340a\") # small cities (Santander and Huelva)"
   ]
  },
  {
   "cell_type": "markdown",
   "metadata": {},
   "source": [
    "## DataFrame Creation"
   ]
  },
  {
   "cell_type": "code",
   "execution_count": 6,
   "metadata": {},
   "outputs": [],
   "source": [
    "# Create dataSet\n",
    "load(\"data/data_AQ.rda\")\n",
    "load(\"data/meteorology.rda\")\n",
    "\n",
    "aq <- data_AQ %>%\n",
    "            filter(site %in% sites.lv,\n",
    "                   date < ymd(\"2020-01-01\")\n",
    "                  ) %>%\n",
    "            timeAverage(avg.time = \"day\", type=c(\"site\", \"variable\"))\n",
    "aq$date <- as_date(aq$date)\n",
    "\n",
    "mto <- data_Mto %>%\n",
    "            filter(site %in% sites.lv,\n",
    "                   date < ymd(\"2020-01-01\"))\n",
    "\n",
    "data.df <- merge(aq, mto,\n",
    "              by = c(\"date\", \"site\"), all.x=T) %>%\n",
    "        drop_na() %>%\n",
    "        mutate_if(is.factor, as.character) %>%\n",
    "        select(-date_end, -process, -summary, -validity)\n",
    "\n",
    "rm(data_AQ)\n",
    "rm(data_Mto)"
   ]
  },
  {
   "cell_type": "markdown",
   "metadata": {},
   "source": [
    "## PreProcess"
   ]
  },
  {
   "cell_type": "code",
   "execution_count": 7,
   "metadata": {},
   "outputs": [],
   "source": [
    "deseason <- function(cl) {\n",
    "    # Remove seasonal component of the additive time serie.\n",
    "    #     This function is called below by an apply\n",
    "    \n",
    "    dcomp <- decompose(ts(cl, frequency = 365))\n",
    "\n",
    "    cl - dcomp$seasonal\n",
    "}\n",
    "\n",
    "scale.df <- function(df, omit.cl) {\n",
    "    # Scale dataframe ignoring no numeric columns (omit.cl)\n",
    "    \n",
    "    split.df <- df[, -omit.cl]\n",
    "    \n",
    "    cbind(df[, omit.cl], scale(split.df))\n",
    "}\n",
    "\n",
    "range.df <- function(df, omit.cl) {\n",
    "    # Scale dataframe ignoring no numeric columns (omit.cl)\n",
    "    \n",
    "    split.df <- df[, -omit.cl]\n",
    "    \n",
    "    cbind(df[, omit.cl], \n",
    "          normalize(split.df, method = \"range\", \n",
    "                    range = c(0, 1), margin = 1))\n",
    "}"
   ]
  },
  {
   "cell_type": "code",
   "execution_count": 8,
   "metadata": {},
   "outputs": [],
   "source": [
    "std.filter <- function(df, numSTD, omit.cl) {\n",
    "    split.df <- df[, -omit.cl]\n",
    "    \n",
    "    for (cl in names(split.df)) {\n",
    "        mn <- mean(split.df[, cl], na.rm=TRUE)\n",
    "        std <- sd(split.df[, cl], na.rm=TRUE)\n",
    "\n",
    "        split.df[which(split.df[, cl] < mn-numSTD*std), cl] <- NaN\n",
    "        split.df[which(split.df[, cl] > mn+numSTD*std), cl] <- NaN\n",
    "    }\n",
    "    \n",
    "    cbind(df[, omit.cl], split.df)\n",
    "}"
   ]
  },
  {
   "cell_type": "markdown",
   "metadata": {},
   "source": [
    "## Cross-Validation"
   ]
  },
  {
   "cell_type": "code",
   "execution_count": 9,
   "metadata": {},
   "outputs": [],
   "source": [
    "leave.one.year.out <- function(yr, data, omit.cl) { \n",
    "    # Do k-iteration of k-fold cv by pop yr data for test \n",
    "    #     and the rest for training\n",
    "    # @params: omit.cl: columns to omit in the regression\n",
    "    \n",
    "    test <- which(year(data$date) == yr)\n",
    "    train <- which(year(data$date) != yr)\n",
    "\n",
    "    if(length(test) == 0) {\n",
    "        return()\n",
    "    } \n",
    "    if (length(train) == 0) {\n",
    "        return()\n",
    "    }\n",
    "    \n",
    "    model <- train(value ~., \n",
    "                   data=data[, -omit.cl], subset=train,\n",
    "                   method=\"rf\", ntree=50, \n",
    "                   allowParallel = TRUE\n",
    "                  )\n",
    "\n",
    "    y.th <- predict(model, newdata=data[test,])\n",
    "    \n",
    "    data.frame(\"bias\"=mean(y.th) / mean(data[test,]$value),\n",
    "               \"var.ratio\"=var(y.th) / var(data[test,]$value),\n",
    "               \"cor\"=cor(y.th, data[test,]$value, \n",
    "                         method = \"pearson\"),\n",
    "               \"RMSE\"=sqrt(mean((y.th - data[test,]$value)^2))\n",
    "              )\n",
    "}"
   ]
  },
  {
   "cell_type": "code",
   "execution_count": 10,
   "metadata": {},
   "outputs": [],
   "source": [
    "years <- 2013:2019\n",
    "\n",
    "no.num.cl <- 1:3 # no numeric columns \n",
    "cv.df <- data.frame()\n",
    "\n",
    "# Create one model for each pair of station-pollutant\n",
    "for (st in sites.lv) {\n",
    "    data.st <- data.df[data.df$site == st,]\n",
    "    \n",
    "    for (pll in levels(as.factor(data.st$variable))) {\n",
    "        dat <- data.st[data.st$variable == pll, ]\n",
    "        \n",
    "        if (sum(!is.na(dat$date)) > (365*2)) {\n",
    "            # if there is enough data (more than 2 years), deseasonalized\n",
    "            dat <- cbind(dat[, no.num.cl],\n",
    "                         apply(dat[, -no.num.cl], 2, deseason))\n",
    "        }\n",
    "        \n",
    "        ds.dat <- range.df(dat, no.num.cl)\n",
    "        \n",
    "        cv.row <- do.call(rbind, lapply(years, leave.one.year.out,\n",
    "                                        ds.dat, no.num.cl))\n",
    "\n",
    "        cv.df <- rbind(cv.df,\n",
    "                       cbind(data.frame(\"variable\"=pll,\n",
    "                                        \"site\"=st),\n",
    "                             rbind(colMeans(cv.row, na.rm=T)))\n",
    "                       )\n",
    "    }\n",
    "}"
   ]
  },
  {
   "cell_type": "code",
   "execution_count": 11,
   "metadata": {},
   "outputs": [
    {
     "data": {
      "text/html": [
       "<table>\n",
       "<caption>A data.frame: 14 × 6</caption>\n",
       "<thead>\n",
       "\t<tr><th scope=col>variable</th><th scope=col>site</th><th scope=col>bias</th><th scope=col>var.ratio</th><th scope=col>cor</th><th scope=col>RMSE</th></tr>\n",
       "\t<tr><th scope=col>&lt;chr&gt;</th><th scope=col>&lt;chr&gt;</th><th scope=col>&lt;dbl&gt;</th><th scope=col>&lt;dbl&gt;</th><th scope=col>&lt;dbl&gt;</th><th scope=col>&lt;dbl&gt;</th></tr>\n",
       "</thead>\n",
       "<tbody>\n",
       "\t<tr><td>no   </td><td>es0118a</td><td>1.005686</td><td>0.2647046</td><td>0.4863228</td><td>0.07537923</td></tr>\n",
       "\t<tr><td>no2  </td><td>es0118a</td><td>1.012452</td><td>0.4128090</td><td>0.5543138</td><td>0.09901503</td></tr>\n",
       "\t<tr><td>o3   </td><td>es0118a</td><td>0.998275</td><td>0.2800192</td><td>0.5061402</td><td>0.10844119</td></tr>\n",
       "\t<tr><td>pm10 </td><td>es0118a</td><td>1.006527</td><td>0.3112365</td><td>0.4878577</td><td>0.04679888</td></tr>\n",
       "\t<tr><td>pm2.5</td><td>es0118a</td><td>1.006738</td><td>0.2860908</td><td>0.5305212</td><td>0.05905097</td></tr>\n",
       "\t<tr><td>no   </td><td>es1438a</td><td>1.004123</td><td>0.2457182</td><td>0.4121322</td><td>0.07491264</td></tr>\n",
       "\t<tr><td>no2  </td><td>es1438a</td><td>1.005287</td><td>0.2728163</td><td>0.5046165</td><td>0.12204721</td></tr>\n",
       "\t<tr><td>o3   </td><td>es1438a</td><td>1.005981</td><td>0.4924961</td><td>0.6590841</td><td>0.12042980</td></tr>\n",
       "\t<tr><td>no   </td><td>es1580a</td><td>1.001304</td><td>0.2428094</td><td>0.4284859</td><td>0.06379776</td></tr>\n",
       "\t<tr><td>no2  </td><td>es1580a</td><td>1.017765</td><td>0.2437094</td><td>0.3792077</td><td>0.12343427</td></tr>\n",
       "\t<tr><td>pm10 </td><td>es1580a</td><td>1.008149</td><td>0.2676978</td><td>0.4376062</td><td>0.12976684</td></tr>\n",
       "\t<tr><td>no   </td><td>es1340a</td><td>1.003313</td><td>0.2572192</td><td>0.4472549</td><td>0.09252164</td></tr>\n",
       "\t<tr><td>no2  </td><td>es1340a</td><td>1.010286</td><td>0.4272803</td><td>0.6595091</td><td>0.09079897</td></tr>\n",
       "\t<tr><td>pm10 </td><td>es1340a</td><td>1.003446</td><td>0.3618475</td><td>0.2694222</td><td>0.02526912</td></tr>\n",
       "</tbody>\n",
       "</table>\n"
      ],
      "text/latex": [
       "A data.frame: 14 × 6\n",
       "\\begin{tabular}{llllll}\n",
       " variable & site & bias & var.ratio & cor & RMSE\\\\\n",
       " <chr> & <chr> & <dbl> & <dbl> & <dbl> & <dbl>\\\\\n",
       "\\hline\n",
       "\t no    & es0118a & 1.005686 & 0.2647046 & 0.4863228 & 0.07537923\\\\\n",
       "\t no2   & es0118a & 1.012452 & 0.4128090 & 0.5543138 & 0.09901503\\\\\n",
       "\t o3    & es0118a & 0.998275 & 0.2800192 & 0.5061402 & 0.10844119\\\\\n",
       "\t pm10  & es0118a & 1.006527 & 0.3112365 & 0.4878577 & 0.04679888\\\\\n",
       "\t pm2.5 & es0118a & 1.006738 & 0.2860908 & 0.5305212 & 0.05905097\\\\\n",
       "\t no    & es1438a & 1.004123 & 0.2457182 & 0.4121322 & 0.07491264\\\\\n",
       "\t no2   & es1438a & 1.005287 & 0.2728163 & 0.5046165 & 0.12204721\\\\\n",
       "\t o3    & es1438a & 1.005981 & 0.4924961 & 0.6590841 & 0.12042980\\\\\n",
       "\t no    & es1580a & 1.001304 & 0.2428094 & 0.4284859 & 0.06379776\\\\\n",
       "\t no2   & es1580a & 1.017765 & 0.2437094 & 0.3792077 & 0.12343427\\\\\n",
       "\t pm10  & es1580a & 1.008149 & 0.2676978 & 0.4376062 & 0.12976684\\\\\n",
       "\t no    & es1340a & 1.003313 & 0.2572192 & 0.4472549 & 0.09252164\\\\\n",
       "\t no2   & es1340a & 1.010286 & 0.4272803 & 0.6595091 & 0.09079897\\\\\n",
       "\t pm10  & es1340a & 1.003446 & 0.3618475 & 0.2694222 & 0.02526912\\\\\n",
       "\\end{tabular}\n"
      ],
      "text/markdown": [
       "\n",
       "A data.frame: 14 × 6\n",
       "\n",
       "| variable &lt;chr&gt; | site &lt;chr&gt; | bias &lt;dbl&gt; | var.ratio &lt;dbl&gt; | cor &lt;dbl&gt; | RMSE &lt;dbl&gt; |\n",
       "|---|---|---|---|---|---|\n",
       "| no    | es0118a | 1.005686 | 0.2647046 | 0.4863228 | 0.07537923 |\n",
       "| no2   | es0118a | 1.012452 | 0.4128090 | 0.5543138 | 0.09901503 |\n",
       "| o3    | es0118a | 0.998275 | 0.2800192 | 0.5061402 | 0.10844119 |\n",
       "| pm10  | es0118a | 1.006527 | 0.3112365 | 0.4878577 | 0.04679888 |\n",
       "| pm2.5 | es0118a | 1.006738 | 0.2860908 | 0.5305212 | 0.05905097 |\n",
       "| no    | es1438a | 1.004123 | 0.2457182 | 0.4121322 | 0.07491264 |\n",
       "| no2   | es1438a | 1.005287 | 0.2728163 | 0.5046165 | 0.12204721 |\n",
       "| o3    | es1438a | 1.005981 | 0.4924961 | 0.6590841 | 0.12042980 |\n",
       "| no    | es1580a | 1.001304 | 0.2428094 | 0.4284859 | 0.06379776 |\n",
       "| no2   | es1580a | 1.017765 | 0.2437094 | 0.3792077 | 0.12343427 |\n",
       "| pm10  | es1580a | 1.008149 | 0.2676978 | 0.4376062 | 0.12976684 |\n",
       "| no    | es1340a | 1.003313 | 0.2572192 | 0.4472549 | 0.09252164 |\n",
       "| no2   | es1340a | 1.010286 | 0.4272803 | 0.6595091 | 0.09079897 |\n",
       "| pm10  | es1340a | 1.003446 | 0.3618475 | 0.2694222 | 0.02526912 |\n",
       "\n"
      ],
      "text/plain": [
       "   variable site    bias     var.ratio cor       RMSE      \n",
       "1  no       es0118a 1.005686 0.2647046 0.4863228 0.07537923\n",
       "2  no2      es0118a 1.012452 0.4128090 0.5543138 0.09901503\n",
       "3  o3       es0118a 0.998275 0.2800192 0.5061402 0.10844119\n",
       "4  pm10     es0118a 1.006527 0.3112365 0.4878577 0.04679888\n",
       "5  pm2.5    es0118a 1.006738 0.2860908 0.5305212 0.05905097\n",
       "6  no       es1438a 1.004123 0.2457182 0.4121322 0.07491264\n",
       "7  no2      es1438a 1.005287 0.2728163 0.5046165 0.12204721\n",
       "8  o3       es1438a 1.005981 0.4924961 0.6590841 0.12042980\n",
       "9  no       es1580a 1.001304 0.2428094 0.4284859 0.06379776\n",
       "10 no2      es1580a 1.017765 0.2437094 0.3792077 0.12343427\n",
       "11 pm10     es1580a 1.008149 0.2676978 0.4376062 0.12976684\n",
       "12 no       es1340a 1.003313 0.2572192 0.4472549 0.09252164\n",
       "13 no2      es1340a 1.010286 0.4272803 0.6595091 0.09079897\n",
       "14 pm10     es1340a 1.003446 0.3618475 0.2694222 0.02526912"
      ]
     },
     "metadata": {},
     "output_type": "display_data"
    }
   ],
   "source": [
    "cv.df"
   ]
  },
  {
   "cell_type": "code",
   "execution_count": 12,
   "metadata": {},
   "outputs": [
    {
     "name": "stdout",
     "output_type": "stream",
     "text": [
      "\u001b[90m# A tibble: 5 x 5\u001b[39m\n",
      "  variable var.ratio  bias   cor   RMSE\n",
      "\u001b[90m*\u001b[39m \u001b[3m\u001b[90m<chr>\u001b[39m\u001b[23m        \u001b[3m\u001b[90m<dbl>\u001b[39m\u001b[23m \u001b[3m\u001b[90m<dbl>\u001b[39m\u001b[23m \u001b[3m\u001b[90m<dbl>\u001b[39m\u001b[23m  \u001b[3m\u001b[90m<dbl>\u001b[39m\u001b[23m\n",
      "\u001b[90m1\u001b[39m no           0.253  1.00 0.444 0.076\u001b[4m7\u001b[24m\n",
      "\u001b[90m2\u001b[39m no2          0.339  1.01 0.524 0.109 \n",
      "\u001b[90m3\u001b[39m o3           0.386  1.00 0.583 0.114 \n",
      "\u001b[90m4\u001b[39m pm10         0.314  1.01 0.398 0.067\u001b[4m3\u001b[24m\n",
      "\u001b[90m5\u001b[39m pm2.5        0.286  1.01 0.531 0.059\u001b[4m1\u001b[24m\n"
     ]
    }
   ],
   "source": [
    "mean.cv.df <- cv.df %>%\n",
    "                group_by(variable) %>%\n",
    "                summarise(var.ratio=mean(var.ratio),\n",
    "                          bias=mean(bias),\n",
    "                          cor=mean(cor),\n",
    "                          RMSE=mean(RMSE)\n",
    "                         ) %>%\n",
    "                print()"
   ]
  },
  {
   "cell_type": "code",
   "execution_count": 13,
   "metadata": {},
   "outputs": [
    {
     "data": {
      "image/png": "[encoded data removed]",
      "text/plain": [
       "plot without title"
      ]
     },
     "metadata": {
      "image/png": {
       "height": 600,
       "width": 1500
      }
     },
     "output_type": "display_data"
    }
   ],
   "source": [
    "pivot.cv.df <- cv.df %>%\n",
    "        pivot_longer(cols = c(3:ncol(cv.df)), \n",
    "                     names_to = \"Error\", values_to = \"Err.Val\")\n",
    "\n",
    "ggplot(data=pivot.cv.df, aes(x=Error, y=Err.Val, fill=Error)) +\n",
    "        geom_boxplot()"
   ]
  },
  {
   "cell_type": "markdown",
   "metadata": {},
   "source": [
    "# Save Results"
   ]
  },
  {
   "cell_type": "code",
   "execution_count": 14,
   "metadata": {},
   "outputs": [],
   "source": [
    "write.csv(cv.df, \"data/Cross-validation/randomForest.csv\", row.names=F)"
   ]
  },
  {
   "cell_type": "code",
   "execution_count": 16,
   "metadata": {},
   "outputs": [
    {
     "name": "stderr",
     "output_type": "stream",
     "text": [
      "Saving 6.67 x 6.67 in image\n",
      "\n"
     ]
    }
   ],
   "source": [
    "ggsave(\n",
    "  \"randomForest.png\",\n",
    "  plot = last_plot(),\n",
    "  device = \"png\",\n",
    "  path = \"plots/cross-validation/\"\n",
    ")\n"
   ]
  },
  {
   "cell_type": "code",
   "execution_count": null,
   "metadata": {},
   "outputs": [],
   "source": []
  }
 ],
 "metadata": {
  "kernelspec": {
   "display_name": "R",
   "language": "R",
   "name": "ir"
  },
  "language_info": {
   "codemirror_mode": "r",
   "file_extension": ".r",
   "mimetype": "text/x-r-source",
   "name": "R",
   "pygments_lexer": "r",
   "version": "4.0.4"
  }
 },
 "nbformat": 4,
 "nbformat_minor": 4
}
