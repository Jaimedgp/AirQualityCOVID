{
 "cells": [
  {
   "cell_type": "markdown",
   "metadata": {},
   "source": [
    "# Cross-Validation of `lm` model\n",
    "\n",
    "Make a k-fold cross-validation using natural years. _Leave-one-(natural year)-out_"
   ]
  },
  {
   "cell_type": "code",
   "execution_count": 1,
   "metadata": {},
   "outputs": [],
   "source": [
    "# Load packages\n",
    "suppressMessages(library(lubridate))\n",
    "suppressMessages(library(tidyverse))\n",
    "suppressMessages(library(openair))\n",
    "\n",
    "suppressMessages(library(caret))\n",
    "suppressMessages(library(BBmisc))"
   ]
  },
  {
   "cell_type": "code",
   "execution_count": 2,
   "metadata": {},
   "outputs": [],
   "source": [
    "suppressMessages(library(doMC))\n",
    "registerDoMC(cores=as.integer(detectCores()*0.75))"
   ]
  },
  {
   "cell_type": "code",
   "execution_count": 3,
   "metadata": {},
   "outputs": [],
   "source": [
    "suppressMessages(library(repr))\n",
    "options(repr.plot.width=25,\n",
    "        repr.plot.height=10,\n",
    "        #repr.plot.pointsize=50,\n",
    "        repr.plot.family='serif'\n",
    "       )"
   ]
  },
  {
   "cell_type": "code",
   "execution_count": 4,
   "metadata": {},
   "outputs": [],
   "source": [
    "# Working directory\n",
    "setwd(\"~/Repositories/AirQualityCOVID\")"
   ]
  },
  {
   "cell_type": "markdown",
   "metadata": {},
   "source": [
    "## Representative sample "
   ]
  },
  {
   "cell_type": "code",
   "execution_count": 5,
   "metadata": {},
   "outputs": [],
   "source": [
    "sites.lv <- c(\"es0118a\", \"es1438a\") # Big cities (Madrid and Barcelona)\",\n",
    "sites.lv <- c(sites.lv, \"es1580a\", \"es1340a\") # small cities (Santander and Huelva)"
   ]
  },
  {
   "cell_type": "markdown",
   "metadata": {},
   "source": [
    "## DataFrame Creation"
   ]
  },
  {
   "cell_type": "code",
   "execution_count": 6,
   "metadata": {},
   "outputs": [],
   "source": [
    "# Create dataSet\n",
    "load(\"data/data_AQ.rda\")\n",
    "load(\"data/meteorology.rda\")\n",
    "\n",
    "aq <- data_AQ %>%\n",
    "            filter(site %in% sites.lv,\n",
    "                   date < ymd(\"2020-01-01\")\n",
    "                  ) %>%\n",
    "            timeAverage(avg.time = \"day\", type=c(\"site\", \"variable\"))\n",
    "aq$date <- as_date(aq$date)\n",
    "\n",
    "mto <- data_Mto %>%\n",
    "            filter(site %in% sites.lv,\n",
    "                   date < ymd(\"2020-01-01\"))\n",
    "\n",
    "data.df <- merge(aq, mto,\n",
    "              by = c(\"date\", \"site\"), all.x=T) %>%\n",
    "        drop_na() %>%\n",
    "        mutate_if(is.factor, as.character) %>%\n",
    "        select(-date_end, -process, -summary, -validity)\n",
    "\n",
    "rm(data_AQ)\n",
    "rm(data_Mto)"
   ]
  },
  {
   "cell_type": "markdown",
   "metadata": {},
   "source": [
    "## PreProcess"
   ]
  },
  {
   "cell_type": "code",
   "execution_count": 7,
   "metadata": {},
   "outputs": [],
   "source": [
    "deseason <- function(cl) {\n",
    "    # Remove seasonal component of the additive time serie.\n",
    "    #     This function is called below by an apply\n",
    "    \n",
    "    dcomp <- decompose(ts(cl, frequency = 365))\n",
    "\n",
    "    cl - dcomp$seasonal\n",
    "}\n",
    "\n",
    "scale.df <- function(df, omit.cl) {\n",
    "    # Scale dataframe ignoring no numeric columns (omit.cl)\n",
    "    \n",
    "    split.df <- df[, -omit.cl]\n",
    "    \n",
    "    cbind(df[, omit.cl], scale(split.df))\n",
    "}\n",
    "\n",
    "range.df <- function(df, omit.cl) {\n",
    "    # Scale dataframe ignoring no numeric columns (omit.cl)\n",
    "    \n",
    "    split.df <- df[, -omit.cl]\n",
    "    \n",
    "    cbind(df[, omit.cl], \n",
    "          normalize(split.df, method = \"range\", \n",
    "                    range = c(0, 1), margin = 1))\n",
    "}"
   ]
  },
  {
   "cell_type": "code",
   "execution_count": 8,
   "metadata": {},
   "outputs": [],
   "source": [
    "std.filter <- function(df, numSTD, omit.cl) {\n",
    "    split.df <- df[, -omit.cl]\n",
    "    \n",
    "    for (cl in names(split.df)) {\n",
    "        mn <- mean(split.df[, cl], na.rm=TRUE)\n",
    "        std <- sd(split.df[, cl], na.rm=TRUE)\n",
    "\n",
    "        split.df[which(split.df[, cl] < mn-numSTD*std), cl] <- NaN\n",
    "        split.df[which(split.df[, cl] > mn+numSTD*std), cl] <- NaN\n",
    "    }\n",
    "    \n",
    "    cbind(df[, omit.cl], split.df)\n",
    "}"
   ]
  },
  {
   "cell_type": "markdown",
   "metadata": {},
   "source": [
    "## Cross-Validation"
   ]
  },
  {
   "cell_type": "code",
   "execution_count": 9,
   "metadata": {},
   "outputs": [],
   "source": [
    "leave.one.year.out <- function(yr, data, omit.cl) { \n",
    "    # Do k-iteration of k-fold cv by pop yr data for test \n",
    "    #     and the rest for training\n",
    "    # @params: omit.cl: columns to omit in the regression\n",
    "    \n",
    "    test <- which(year(data$date) == yr)\n",
    "    train <- which(year(data$date) != yr)\n",
    "\n",
    "    if(length(test) == 0) {\n",
    "        return()\n",
    "    } \n",
    "    if (length(train) == 0) {\n",
    "        return()\n",
    "    }\n",
    "    \n",
    "    model <- train(value ~., \n",
    "                   data=data[, -omit.cl], subset=train,\n",
    "                   method=\"rf\", ntree=50, \n",
    "                   allowParallel = TRUE\n",
    "                  )\n",
    "\n",
    "    y.th <- predict(model, newdata=data[test,])\n",
    "    \n",
    "    data.frame(\"bias\"=mean(y.th) / mean(data[test,]$value),\n",
    "               \"var.ratio\"=var(y.th) / var(data[test,]$value),\n",
    "               \"cor\"=cor(y.th, data[test,]$value, \n",
    "                         method = \"pearson\"),\n",
    "               \"RMSE\"=sqrt(mean((y.th - data[test,]$value)^2))\n",
    "              )\n",
    "}"
   ]
  },
  {
   "cell_type": "code",
   "execution_count": 10,
   "metadata": {},
   "outputs": [],
   "source": [
    "years <- 2013:2019\n",
    "\n",
    "no.num.cl <- 1:3 # no numeric columns \n",
    "cv.df <- data.frame()\n",
    "\n",
    "# Create one model for each pair of station-pollutant\n",
    "for (st in sites.lv) {\n",
    "    data.st <- data.df[data.df$site == st,]\n",
    "    \n",
    "    for (pll in levels(as.factor(data.st$variable))) {\n",
    "        dat <- data.st[data.st$variable == pll, ]\n",
    "        \n",
    "        if (sum(!is.na(dat$date)) > (365*2)) {\n",
    "            # if there is enough data (more than 2 years), deseasonalized\n",
    "            dat <- cbind(dat[, no.num.cl],\n",
    "                         apply(dat[, -no.num.cl], 2, deseason))\n",
    "        }\n",
    "        \n",
    "        ds.dat <- range.df(dat, no.num.cl)\n",
    "        \n",
    "        cv.row <- do.call(rbind, lapply(years, leave.one.year.out,\n",
    "                                        ds.dat, no.num.cl))\n",
    "\n",
    "        cv.df <- rbind(cv.df,\n",
    "                       cbind(data.frame(\"variable\"=pll,\n",
    "                                        \"site\"=st),\n",
    "                             rbind(colMeans(cv.row, na.rm=T)))\n",
    "                       )\n",
    "    }\n",
    "}"
   ]
  },
  {
   "cell_type": "code",
   "execution_count": 11,
   "metadata": {},
   "outputs": [
    {
     "data": {
      "text/html": [
       "<table>\n",
       "<caption>A data.frame: 14 × 6</caption>\n",
       "<thead>\n",
       "\t<tr><th scope=col>variable</th><th scope=col>site</th><th scope=col>bias</th><th scope=col>var.ratio</th><th scope=col>cor</th><th scope=col>RMSE</th></tr>\n",
       "\t<tr><th scope=col>&lt;fct&gt;</th><th scope=col>&lt;fct&gt;</th><th scope=col>&lt;dbl&gt;</th><th scope=col>&lt;dbl&gt;</th><th scope=col>&lt;dbl&gt;</th><th scope=col>&lt;dbl&gt;</th></tr>\n",
       "</thead>\n",
       "<tbody>\n",
       "\t<tr><td>no   </td><td>es0118a</td><td>1.0058779</td><td>0.2646686</td><td>0.4814695</td><td>0.07578362</td></tr>\n",
       "\t<tr><td>no2  </td><td>es0118a</td><td>1.0115361</td><td>0.4215420</td><td>0.5542703</td><td>0.09902577</td></tr>\n",
       "\t<tr><td>o3   </td><td>es0118a</td><td>0.9983194</td><td>0.2816305</td><td>0.5066592</td><td>0.10825567</td></tr>\n",
       "\t<tr><td>pm10 </td><td>es0118a</td><td>1.0076807</td><td>0.3038658</td><td>0.4989837</td><td>0.04639501</td></tr>\n",
       "\t<tr><td>pm2.5</td><td>es0118a</td><td>1.0072527</td><td>0.2940886</td><td>0.5126346</td><td>0.05982992</td></tr>\n",
       "\t<tr><td>no   </td><td>es1438a</td><td>1.0046573</td><td>0.2430088</td><td>0.4093216</td><td>0.07501053</td></tr>\n",
       "\t<tr><td>no2  </td><td>es1438a</td><td>1.0060267</td><td>0.2702261</td><td>0.5000963</td><td>0.12261135</td></tr>\n",
       "\t<tr><td>o3   </td><td>es1438a</td><td>1.0105729</td><td>0.5025739</td><td>0.6455441</td><td>0.12228664</td></tr>\n",
       "\t<tr><td>no   </td><td>es1580a</td><td>1.0011903</td><td>0.2502170</td><td>0.4211581</td><td>0.06409564</td></tr>\n",
       "\t<tr><td>no2  </td><td>es1580a</td><td>1.0178789</td><td>0.2416116</td><td>0.3861635</td><td>0.12320918</td></tr>\n",
       "\t<tr><td>pm10 </td><td>es1580a</td><td>1.0083790</td><td>0.2627585</td><td>0.4333829</td><td>0.13014977</td></tr>\n",
       "\t<tr><td>no   </td><td>es1340a</td><td>1.0078053</td><td>0.2609798</td><td>0.4571838</td><td>0.09205006</td></tr>\n",
       "\t<tr><td>no2  </td><td>es1340a</td><td>1.0149983</td><td>0.4570045</td><td>0.6543673</td><td>0.09120034</td></tr>\n",
       "\t<tr><td>pm10 </td><td>es1340a</td><td>1.0033296</td><td>0.4416838</td><td>0.2707259</td><td>0.02546422</td></tr>\n",
       "</tbody>\n",
       "</table>\n"
      ],
      "text/latex": [
       "A data.frame: 14 × 6\n",
       "\\begin{tabular}{llllll}\n",
       " variable & site & bias & var.ratio & cor & RMSE\\\\\n",
       " <fct> & <fct> & <dbl> & <dbl> & <dbl> & <dbl>\\\\\n",
       "\\hline\n",
       "\t no    & es0118a & 1.0058779 & 0.2646686 & 0.4814695 & 0.07578362\\\\\n",
       "\t no2   & es0118a & 1.0115361 & 0.4215420 & 0.5542703 & 0.09902577\\\\\n",
       "\t o3    & es0118a & 0.9983194 & 0.2816305 & 0.5066592 & 0.10825567\\\\\n",
       "\t pm10  & es0118a & 1.0076807 & 0.3038658 & 0.4989837 & 0.04639501\\\\\n",
       "\t pm2.5 & es0118a & 1.0072527 & 0.2940886 & 0.5126346 & 0.05982992\\\\\n",
       "\t no    & es1438a & 1.0046573 & 0.2430088 & 0.4093216 & 0.07501053\\\\\n",
       "\t no2   & es1438a & 1.0060267 & 0.2702261 & 0.5000963 & 0.12261135\\\\\n",
       "\t o3    & es1438a & 1.0105729 & 0.5025739 & 0.6455441 & 0.12228664\\\\\n",
       "\t no    & es1580a & 1.0011903 & 0.2502170 & 0.4211581 & 0.06409564\\\\\n",
       "\t no2   & es1580a & 1.0178789 & 0.2416116 & 0.3861635 & 0.12320918\\\\\n",
       "\t pm10  & es1580a & 1.0083790 & 0.2627585 & 0.4333829 & 0.13014977\\\\\n",
       "\t no    & es1340a & 1.0078053 & 0.2609798 & 0.4571838 & 0.09205006\\\\\n",
       "\t no2   & es1340a & 1.0149983 & 0.4570045 & 0.6543673 & 0.09120034\\\\\n",
       "\t pm10  & es1340a & 1.0033296 & 0.4416838 & 0.2707259 & 0.02546422\\\\\n",
       "\\end{tabular}\n"
      ],
      "text/markdown": [
       "\n",
       "A data.frame: 14 × 6\n",
       "\n",
       "| variable &lt;fct&gt; | site &lt;fct&gt; | bias &lt;dbl&gt; | var.ratio &lt;dbl&gt; | cor &lt;dbl&gt; | RMSE &lt;dbl&gt; |\n",
       "|---|---|---|---|---|---|\n",
       "| no    | es0118a | 1.0058779 | 0.2646686 | 0.4814695 | 0.07578362 |\n",
       "| no2   | es0118a | 1.0115361 | 0.4215420 | 0.5542703 | 0.09902577 |\n",
       "| o3    | es0118a | 0.9983194 | 0.2816305 | 0.5066592 | 0.10825567 |\n",
       "| pm10  | es0118a | 1.0076807 | 0.3038658 | 0.4989837 | 0.04639501 |\n",
       "| pm2.5 | es0118a | 1.0072527 | 0.2940886 | 0.5126346 | 0.05982992 |\n",
       "| no    | es1438a | 1.0046573 | 0.2430088 | 0.4093216 | 0.07501053 |\n",
       "| no2   | es1438a | 1.0060267 | 0.2702261 | 0.5000963 | 0.12261135 |\n",
       "| o3    | es1438a | 1.0105729 | 0.5025739 | 0.6455441 | 0.12228664 |\n",
       "| no    | es1580a | 1.0011903 | 0.2502170 | 0.4211581 | 0.06409564 |\n",
       "| no2   | es1580a | 1.0178789 | 0.2416116 | 0.3861635 | 0.12320918 |\n",
       "| pm10  | es1580a | 1.0083790 | 0.2627585 | 0.4333829 | 0.13014977 |\n",
       "| no    | es1340a | 1.0078053 | 0.2609798 | 0.4571838 | 0.09205006 |\n",
       "| no2   | es1340a | 1.0149983 | 0.4570045 | 0.6543673 | 0.09120034 |\n",
       "| pm10  | es1340a | 1.0033296 | 0.4416838 | 0.2707259 | 0.02546422 |\n",
       "\n"
      ],
      "text/plain": [
       "   variable site    bias      var.ratio cor       RMSE      \n",
       "1  no       es0118a 1.0058779 0.2646686 0.4814695 0.07578362\n",
       "2  no2      es0118a 1.0115361 0.4215420 0.5542703 0.09902577\n",
       "3  o3       es0118a 0.9983194 0.2816305 0.5066592 0.10825567\n",
       "4  pm10     es0118a 1.0076807 0.3038658 0.4989837 0.04639501\n",
       "5  pm2.5    es0118a 1.0072527 0.2940886 0.5126346 0.05982992\n",
       "6  no       es1438a 1.0046573 0.2430088 0.4093216 0.07501053\n",
       "7  no2      es1438a 1.0060267 0.2702261 0.5000963 0.12261135\n",
       "8  o3       es1438a 1.0105729 0.5025739 0.6455441 0.12228664\n",
       "9  no       es1580a 1.0011903 0.2502170 0.4211581 0.06409564\n",
       "10 no2      es1580a 1.0178789 0.2416116 0.3861635 0.12320918\n",
       "11 pm10     es1580a 1.0083790 0.2627585 0.4333829 0.13014977\n",
       "12 no       es1340a 1.0078053 0.2609798 0.4571838 0.09205006\n",
       "13 no2      es1340a 1.0149983 0.4570045 0.6543673 0.09120034\n",
       "14 pm10     es1340a 1.0033296 0.4416838 0.2707259 0.02546422"
      ]
     },
     "metadata": {},
     "output_type": "display_data"
    }
   ],
   "source": [
    "cv.df"
   ]
  },
  {
   "cell_type": "code",
   "execution_count": 12,
   "metadata": {},
   "outputs": [
    {
     "name": "stdout",
     "output_type": "stream",
     "text": [
      "\u001b[38;5;246m# A tibble: 5 x 5\u001b[39m\n",
      "  variable var.ratio  bias   cor   RMSE\n",
      "\u001b[38;5;250m*\u001b[39m \u001b[3m\u001b[38;5;246m<fct>\u001b[39m\u001b[23m        \u001b[3m\u001b[38;5;246m<dbl>\u001b[39m\u001b[23m \u001b[3m\u001b[38;5;246m<dbl>\u001b[39m\u001b[23m \u001b[3m\u001b[38;5;246m<dbl>\u001b[39m\u001b[23m  \u001b[3m\u001b[38;5;246m<dbl>\u001b[39m\u001b[23m\n",
      "\u001b[38;5;250m1\u001b[39m no           0.255  1.00 0.442 0.076\u001b[4m7\u001b[24m\n",
      "\u001b[38;5;250m2\u001b[39m no2          0.348  1.01 0.524 0.109 \n",
      "\u001b[38;5;250m3\u001b[39m o3           0.392  1.00 0.576 0.115 \n",
      "\u001b[38;5;250m4\u001b[39m pm10         0.336  1.01 0.401 0.067\u001b[4m3\u001b[24m\n",
      "\u001b[38;5;250m5\u001b[39m pm2.5        0.294  1.01 0.513 0.059\u001b[4m8\u001b[24m\n"
     ]
    }
   ],
   "source": [
    "mean.cv.df <- cv.df %>%\n",
    "                group_by(variable) %>%\n",
    "                summarise(var.ratio=mean(var.ratio),\n",
    "                          bias=mean(bias),\n",
    "                          cor=mean(cor),\n",
    "                          RMSE=mean(RMSE)\n",
    "                         ) %>%\n",
    "                print()"
   ]
  },
  {
   "cell_type": "code",
   "execution_count": 14,
   "metadata": {},
   "outputs": [
    {
     "data": {
      "image/png": "[encoded data removed]",
      "text/plain": [
       "plot without title"
      ]
     },
     "metadata": {
      "image/png": {
       "height": 600,
       "width": 1500
      }
     },
     "output_type": "display_data"
    }
   ],
   "source": [
    "pivot.cv.df <- cv.df %>%\n",
    "        pivot_longer(cols = c(3:ncol(cv.df)), \n",
    "                     names_to = \"Error\", values_to = \"Err.Val\")\n",
    "\n",
    "ggplot(data=pivot.cv.df, aes(x=Error, y=Err.Val, fill=Error)) +\n",
    "        geom_boxplot()"
   ]
  },
  {
   "cell_type": "code",
   "execution_count": null,
   "metadata": {},
   "outputs": [],
   "source": []
  }
 ],
 "metadata": {
  "kernelspec": {
   "display_name": "R",
   "language": "R",
   "name": "ir"
  },
  "language_info": {
   "codemirror_mode": "r",
   "file_extension": ".r",
   "mimetype": "text/x-r-source",
   "name": "R",
   "pygments_lexer": "r",
   "version": "3.6.3"
  }
 },
 "nbformat": 4,
 "nbformat_minor": 4
}
