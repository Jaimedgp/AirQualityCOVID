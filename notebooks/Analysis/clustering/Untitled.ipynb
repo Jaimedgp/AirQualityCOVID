{
 "cells": [
  {
   "cell_type": "markdown",
   "metadata": {},
   "source": [
    "# Group data by Municipio"
   ]
  },
  {
   "cell_type": "code",
   "execution_count": 4,
   "metadata": {},
   "outputs": [],
   "source": [
    "library(tidyverse)\n",
    "\n",
    "setwd(\"~/Repositories/AirQualityCOVID/\")\n",
    "source(\"src/Analysis/functions.R\")"
   ]
  },
  {
   "cell_type": "code",
   "execution_count": 22,
   "metadata": {},
   "outputs": [
    {
     "name": "stderr",
     "output_type": "stream",
     "text": [
      "`summarise()` has grouped output by 'Municipio', 'variable'. You can override using the `.groups` argument.\n",
      "\n"
     ]
    }
   ],
   "source": [
    "data.df <- merge(read.csv(\"data/Results/predictions.csv\"),\n",
    "                 read.csv(\"data/Curation/checked_AQ.csv\") %>%\n",
    "                    rename(variable = Pollutant),\n",
    "                 by = c(\"site\", \"variable\"),\n",
    "                 all.x = T, all.y=F\n",
    "                ) %>%\n",
    "            group_by(Municipio, variable, date) %>%\n",
    "            summarise(obs = mean(obs, na.rm=T),\n",
    "                      pred = mean(pred, na.rm=T)\n",
    "                     ) %>%\n",
    "            mutate(diff = relative.change(obs, pred))\n",
    "\n",
    "write.csv(data.df, \n",
    "          \"data/Results/predictions_municipios.csv\",\n",
    "          row.names=F)"
   ]
  },
  {
   "cell_type": "code",
   "execution_count": null,
   "metadata": {},
   "outputs": [],
   "source": []
  }
 ],
 "metadata": {
  "kernelspec": {
   "display_name": "R",
   "language": "R",
   "name": "ir"
  },
  "language_info": {
   "codemirror_mode": "r",
   "file_extension": ".r",
   "mimetype": "text/x-r-source",
   "name": "R",
   "pygments_lexer": "r",
   "version": "3.6.3"
  }
 },
 "nbformat": 4,
 "nbformat_minor": 4
}
