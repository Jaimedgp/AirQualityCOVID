{
 "cells": [
  {
   "cell_type": "code",
   "execution_count": 13,
   "metadata": {},
   "outputs": [],
   "source": [
    "import pandas as pd\n",
    "import numpy as np\n",
    "\n",
    "import matplotlib\n",
    "import matplotlib.pyplot as plt\n",
    "import matplotlib.patches as mpatches"
   ]
  },
  {
   "cell_type": "code",
   "execution_count": 14,
   "metadata": {},
   "outputs": [],
   "source": [
    "font = {'family' : 'serif',\n",
    "        'weight' : 'normal',\n",
    "        'size'   : 20\n",
    "       }\n",
    "matplotlib.rc('font', **font)"
   ]
  },
  {
   "cell_type": "code",
   "execution_count": 15,
   "metadata": {},
   "outputs": [],
   "source": [
    "from os import chdir\n",
    "\n",
    "chdir(\"/home/jaimedgp/Repositories/AirQualityCOVID/\")\n",
    "variable = \"no2\""
   ]
  },
  {
   "cell_type": "code",
   "execution_count": 18,
   "metadata": {},
   "outputs": [],
   "source": [
    "data = pd.read_csv(\"data/Results/predictions_municipios.csv\")\n",
    "data = data.loc[data[\"variable\"] == variable]\n",
    "\n",
    "data[\"date\"] = pd.to_datetime(data[\"date\"])"
   ]
  },
  {
   "cell_type": "code",
   "execution_count": 19,
   "metadata": {},
   "outputs": [
    {
     "data": {
      "text/html": [
       "<div>\n",
       "<style scoped>\n",
       "    .dataframe tbody tr th:only-of-type {\n",
       "        vertical-align: middle;\n",
       "    }\n",
       "\n",
       "    .dataframe tbody tr th {\n",
       "        vertical-align: top;\n",
       "    }\n",
       "\n",
       "    .dataframe thead th {\n",
       "        text-align: right;\n",
       "    }\n",
       "</style>\n",
       "<table border=\"1\" class=\"dataframe\">\n",
       "  <thead>\n",
       "    <tr style=\"text-align: right;\">\n",
       "      <th></th>\n",
       "      <th>Municipio</th>\n",
       "      <th>variable</th>\n",
       "      <th>date</th>\n",
       "      <th>obs</th>\n",
       "      <th>pred</th>\n",
       "      <th>diff</th>\n",
       "    </tr>\n",
       "  </thead>\n",
       "  <tbody>\n",
       "    <tr>\n",
       "      <th>366</th>\n",
       "      <td>Alcalá de Henares</td>\n",
       "      <td>no2</td>\n",
       "      <td>2020-01-01</td>\n",
       "      <td>42.750000</td>\n",
       "      <td>60.352493</td>\n",
       "      <td>-29.166141</td>\n",
       "    </tr>\n",
       "    <tr>\n",
       "      <th>367</th>\n",
       "      <td>Alcalá de Henares</td>\n",
       "      <td>no2</td>\n",
       "      <td>2020-01-02</td>\n",
       "      <td>52.666667</td>\n",
       "      <td>59.055524</td>\n",
       "      <td>-10.818390</td>\n",
       "    </tr>\n",
       "    <tr>\n",
       "      <th>368</th>\n",
       "      <td>Alcalá de Henares</td>\n",
       "      <td>no2</td>\n",
       "      <td>2020-01-03</td>\n",
       "      <td>46.750000</td>\n",
       "      <td>52.506599</td>\n",
       "      <td>-10.963572</td>\n",
       "    </tr>\n",
       "    <tr>\n",
       "      <th>369</th>\n",
       "      <td>Alcalá de Henares</td>\n",
       "      <td>no2</td>\n",
       "      <td>2020-01-04</td>\n",
       "      <td>44.166667</td>\n",
       "      <td>42.457306</td>\n",
       "      <td>4.026071</td>\n",
       "    </tr>\n",
       "    <tr>\n",
       "      <th>370</th>\n",
       "      <td>Alcalá de Henares</td>\n",
       "      <td>no2</td>\n",
       "      <td>2020-01-05</td>\n",
       "      <td>43.875000</td>\n",
       "      <td>56.306616</td>\n",
       "      <td>-22.078429</td>\n",
       "    </tr>\n",
       "  </tbody>\n",
       "</table>\n",
       "</div>"
      ],
      "text/plain": [
       "             Municipio variable       date        obs       pred       diff\n",
       "366  Alcalá de Henares      no2 2020-01-01  42.750000  60.352493 -29.166141\n",
       "367  Alcalá de Henares      no2 2020-01-02  52.666667  59.055524 -10.818390\n",
       "368  Alcalá de Henares      no2 2020-01-03  46.750000  52.506599 -10.963572\n",
       "369  Alcalá de Henares      no2 2020-01-04  44.166667  42.457306   4.026071\n",
       "370  Alcalá de Henares      no2 2020-01-05  43.875000  56.306616 -22.078429"
      ]
     },
     "execution_count": 19,
     "metadata": {},
     "output_type": "execute_result"
    }
   ],
   "source": [
    "data.head()"
   ]
  },
  {
   "cell_type": "code",
   "execution_count": 20,
   "metadata": {},
   "outputs": [],
   "source": [
    "a = pd.pivot_table(data, \n",
    "                   columns=[\"Municipio\"], \n",
    "                   index=[\"date\"]\n",
    "                  ).drop([(\"diff\", \"Marbella\"),\n",
    "                          #(\"diff\", \"Almería\"),\n",
    "                         ], axis=1)"
   ]
  },
  {
   "cell_type": "code",
   "execution_count": 21,
   "metadata": {},
   "outputs": [],
   "source": [
    "a = (a - a.min()) / (a.max() - a.min())"
   ]
  },
  {
   "cell_type": "code",
   "execution_count": 23,
   "metadata": {},
   "outputs": [],
   "source": [
    "def replace_nan(time_serie):\n",
    "    #for i in index:\n",
    "    time_serie.interpolate(limit_direction=\"both\",inplace=True)\n",
    "    \n",
    "    return time_serie\n",
    "    \n",
    "a = a.apply(replace_nan).droplevel(None, axis=1)"
   ]
  },
  {
   "cell_type": "code",
   "execution_count": 24,
   "metadata": {},
   "outputs": [
    {
     "name": "stderr",
     "output_type": "stream",
     "text": [
      "/home/jaimedgp/.local/lib/python3.8/site-packages/tslearn/clustering/kmeans.py:16: UserWarning: Scikit-learn <0.24 will be deprecated in a future release of tslearn\n",
      "  warnings.warn(\n"
     ]
    }
   ],
   "source": [
    "from tslearn.clustering import TimeSeriesKMeans\n",
    "from tslearn.utils import to_time_series_dataset\n",
    "from sklearn.preprocessing import MinMaxScaler"
   ]
  },
  {
   "cell_type": "code",
   "execution_count": 25,
   "metadata": {},
   "outputs": [],
   "source": [
    "q = to_time_series_dataset(a.T.to_numpy(\n",
    "                  ).reshape(a.shape[1], a.shape[0], 1))"
   ]
  },
  {
   "cell_type": "markdown",
   "metadata": {},
   "source": [
    "```python\n",
    "from tslearn.barycenters import softdtw_barycenter, dtw_barycenter_averaging\n",
    "\n",
    "means = pd.DataFrame(data={\"mean\":a.mean(axis=1).values, \n",
    "                           \"softdtw\":softdtw_barycenter(q).ravel(), \n",
    "                           \"dtw\":dtw_barycenter_averaging(q).ravel()})\n",
    "\n",
    "means.plot()\n",
    "```"
   ]
  },
  {
   "cell_type": "code",
   "execution_count": 26,
   "metadata": {},
   "outputs": [
    {
     "ename": "FileNotFoundError",
     "evalue": "[Errno 2] No such file or directory: 'data/Analysis/Clustering/4_groups.csv'",
     "output_type": "error",
     "traceback": [
      "\u001b[0;31m---------------------------------------------------------------------------\u001b[0m",
      "\u001b[0;31mFileNotFoundError\u001b[0m                         Traceback (most recent call last)",
      "\u001b[0;32m<ipython-input-26-58aadcbe5380>\u001b[0m in \u001b[0;36m<module>\u001b[0;34m\u001b[0m\n\u001b[1;32m     26\u001b[0m                             pd.DataFrame({\"group\" : i, \n\u001b[1;32m     27\u001b[0m                                           \"site\": grp_sites})])\n\u001b[0;32m---> 28\u001b[0;31m         \u001b[0mgroups\u001b[0m\u001b[0;34m.\u001b[0m\u001b[0mto_csv\u001b[0m\u001b[0;34m(\u001b[0m\u001b[0;34m\"data/Analysis/Clustering/\"\u001b[0m\u001b[0;34m+\u001b[0m\u001b[0mstr\u001b[0m\u001b[0;34m(\u001b[0m\u001b[0mj\u001b[0m\u001b[0;34m)\u001b[0m\u001b[0;34m+\u001b[0m\u001b[0;34m\"_groups.csv\"\u001b[0m\u001b[0;34m,\u001b[0m \u001b[0mindex\u001b[0m\u001b[0;34m=\u001b[0m\u001b[0;32mFalse\u001b[0m\u001b[0;34m)\u001b[0m\u001b[0;34m\u001b[0m\u001b[0;34m\u001b[0m\u001b[0m\n\u001b[0m\u001b[1;32m     29\u001b[0m \u001b[0;34m\u001b[0m\u001b[0m\n\u001b[1;32m     30\u001b[0m         \u001b[0max\u001b[0m \u001b[0;34m=\u001b[0m \u001b[0mplt\u001b[0m\u001b[0;34m.\u001b[0m\u001b[0msubplot\u001b[0m\u001b[0;34m(\u001b[0m\u001b[0;36m321\u001b[0m\u001b[0;34m+\u001b[0m\u001b[0mi\u001b[0m\u001b[0;34m)\u001b[0m\u001b[0;34m\u001b[0m\u001b[0;34m\u001b[0m\u001b[0m\n",
      "\u001b[0;32m/opt/anaconda3/lib/python3.8/site-packages/pandas/core/generic.py\u001b[0m in \u001b[0;36mto_csv\u001b[0;34m(self, path_or_buf, sep, na_rep, float_format, columns, header, index, index_label, mode, encoding, compression, quoting, quotechar, line_terminator, chunksize, date_format, doublequote, escapechar, decimal)\u001b[0m\n\u001b[1;32m   3202\u001b[0m             \u001b[0mdecimal\u001b[0m\u001b[0;34m=\u001b[0m\u001b[0mdecimal\u001b[0m\u001b[0;34m,\u001b[0m\u001b[0;34m\u001b[0m\u001b[0;34m\u001b[0m\u001b[0m\n\u001b[1;32m   3203\u001b[0m         )\n\u001b[0;32m-> 3204\u001b[0;31m         \u001b[0mformatter\u001b[0m\u001b[0;34m.\u001b[0m\u001b[0msave\u001b[0m\u001b[0;34m(\u001b[0m\u001b[0;34m)\u001b[0m\u001b[0;34m\u001b[0m\u001b[0;34m\u001b[0m\u001b[0m\n\u001b[0m\u001b[1;32m   3205\u001b[0m \u001b[0;34m\u001b[0m\u001b[0m\n\u001b[1;32m   3206\u001b[0m         \u001b[0;32mif\u001b[0m \u001b[0mpath_or_buf\u001b[0m \u001b[0;32mis\u001b[0m \u001b[0;32mNone\u001b[0m\u001b[0;34m:\u001b[0m\u001b[0;34m\u001b[0m\u001b[0;34m\u001b[0m\u001b[0m\n",
      "\u001b[0;32m/opt/anaconda3/lib/python3.8/site-packages/pandas/io/formats/csvs.py\u001b[0m in \u001b[0;36msave\u001b[0;34m(self)\u001b[0m\n\u001b[1;32m    182\u001b[0m             \u001b[0mclose\u001b[0m \u001b[0;34m=\u001b[0m \u001b[0;32mFalse\u001b[0m\u001b[0;34m\u001b[0m\u001b[0;34m\u001b[0m\u001b[0m\n\u001b[1;32m    183\u001b[0m         \u001b[0;32melse\u001b[0m\u001b[0;34m:\u001b[0m\u001b[0;34m\u001b[0m\u001b[0;34m\u001b[0m\u001b[0m\n\u001b[0;32m--> 184\u001b[0;31m             f, handles = get_handle(\n\u001b[0m\u001b[1;32m    185\u001b[0m                 \u001b[0mself\u001b[0m\u001b[0;34m.\u001b[0m\u001b[0mpath_or_buf\u001b[0m\u001b[0;34m,\u001b[0m\u001b[0;34m\u001b[0m\u001b[0;34m\u001b[0m\u001b[0m\n\u001b[1;32m    186\u001b[0m                 \u001b[0mself\u001b[0m\u001b[0;34m.\u001b[0m\u001b[0mmode\u001b[0m\u001b[0;34m,\u001b[0m\u001b[0;34m\u001b[0m\u001b[0;34m\u001b[0m\u001b[0m\n",
      "\u001b[0;32m/opt/anaconda3/lib/python3.8/site-packages/pandas/io/common.py\u001b[0m in \u001b[0;36mget_handle\u001b[0;34m(path_or_buf, mode, encoding, compression, memory_map, is_text)\u001b[0m\n\u001b[1;32m    426\u001b[0m         \u001b[0;32mif\u001b[0m \u001b[0mencoding\u001b[0m\u001b[0;34m:\u001b[0m\u001b[0;34m\u001b[0m\u001b[0;34m\u001b[0m\u001b[0m\n\u001b[1;32m    427\u001b[0m             \u001b[0;31m# Encoding\u001b[0m\u001b[0;34m\u001b[0m\u001b[0;34m\u001b[0m\u001b[0;34m\u001b[0m\u001b[0m\n\u001b[0;32m--> 428\u001b[0;31m             \u001b[0mf\u001b[0m \u001b[0;34m=\u001b[0m \u001b[0mopen\u001b[0m\u001b[0;34m(\u001b[0m\u001b[0mpath_or_buf\u001b[0m\u001b[0;34m,\u001b[0m \u001b[0mmode\u001b[0m\u001b[0;34m,\u001b[0m \u001b[0mencoding\u001b[0m\u001b[0;34m=\u001b[0m\u001b[0mencoding\u001b[0m\u001b[0;34m,\u001b[0m \u001b[0mnewline\u001b[0m\u001b[0;34m=\u001b[0m\u001b[0;34m\"\"\u001b[0m\u001b[0;34m)\u001b[0m\u001b[0;34m\u001b[0m\u001b[0;34m\u001b[0m\u001b[0m\n\u001b[0m\u001b[1;32m    429\u001b[0m         \u001b[0;32melif\u001b[0m \u001b[0mis_text\u001b[0m\u001b[0;34m:\u001b[0m\u001b[0;34m\u001b[0m\u001b[0;34m\u001b[0m\u001b[0m\n\u001b[1;32m    430\u001b[0m             \u001b[0;31m# No explicit encoding\u001b[0m\u001b[0;34m\u001b[0m\u001b[0;34m\u001b[0m\u001b[0;34m\u001b[0m\u001b[0m\n",
      "\u001b[0;31mFileNotFoundError\u001b[0m: [Errno 2] No such file or directory: 'data/Analysis/Clustering/4_groups.csv'"
     ]
    },
    {
     "data": {
      "text/plain": [
       "<Figure size 3300x1500 with 0 Axes>"
      ]
     },
     "metadata": {},
     "output_type": "display_data"
    }
   ],
   "source": [
    "seed = 0\n",
    "np.random.seed(seed)\n",
    "median_serie = pd.DataFrame()\n",
    "#print(median_serie.head())\n",
    "\n",
    "for j in [4]:\n",
    "    model = TimeSeriesKMeans(n_clusters=j, \n",
    "                             metric=\"euclidean\",\n",
    "                             verbose=False,\n",
    "                             max_iter_barycenter=5,\n",
    "                             n_jobs = 6,\n",
    "                             random_state=seed\n",
    "                            )\n",
    "\n",
    "    result = model.fit_predict(q)\n",
    "\n",
    "    fig=plt.figure(figsize=(33,15), dpi= 100, facecolor='w', edgecolor='k')\n",
    "\n",
    "    labels = \"123456789dodtcqssonv\"\n",
    "    groups = pd.DataFrame()\n",
    "\n",
    "    for i, s in enumerate(model.cluster_centers_):\n",
    "\n",
    "        grp_sites = a.columns[np.where(result == i)]\n",
    "        groups = pd.concat([groups, \n",
    "                            pd.DataFrame({\"group\" : i, \n",
    "                                          \"site\": grp_sites})])\n",
    "        groups.to_csv(\"data/Analysis/Clustering/\"+str(j)+\"_groups.csv\", index=False)\n",
    "\n",
    "        ax = plt.subplot(321+i)\n",
    "        ax.plot(s.ravel(), color=\"r\")\n",
    "\n",
    "        cluster = q[np.where(result == i)]\n",
    "        q_05 = np.quantile(cluster, 0.05, axis=0)\n",
    "        q_95 = np.quantile(cluster, 0.95, axis=0)\n",
    "        \n",
    "        q_5 = np.quantile(cluster, 0.5, axis=0)\n",
    "        median_serie = pd.concat([median_serie, \n",
    "                                  pd.DataFrame(data={\"date\":pd.date_range(\"1/1/2020\",\n",
    "                                                                          \"28/11/2020\",\n",
    "                                                                          freq=\"D\"\n",
    "                                                                         ),\n",
    "                                                     \"values\":q_5.ravel(),\n",
    "                                                     \"group\":i\n",
    "                                                    })], axis=0)\n",
    "\n",
    "        ax.fill_between(np.arange(0, 333, 1), \n",
    "                        q_05.ravel(), q_95.ravel(), \n",
    "                        color=\"gray\", alpha=0.3)\n",
    "\n",
    "        ax.plot(q_5, color=\"blue\")\n",
    "        ax.set_title(\"Grupo \"+str(i+1) + \": \"+str(len(grp_sites))+\" estaciones\")\n",
    "\n",
    "    fig.legend(handles=[mpatches.Patch(color='r', label='baricentro'),\n",
    "                mpatches.Patch(color='b', label='Mediana')], loc=\"center right\")\n",
    "    fig.tight_layout()\n",
    "    fig.savefig(\"Plots/\"+str(j)+\"_clusters_\"+variable+\".png\")\n",
    "\n"
   ]
  },
  {
   "cell_type": "code",
   "execution_count": 12,
   "metadata": {},
   "outputs": [],
   "source": [
    "median_serie.to_csv(\"data/clusters_\"+variable+\".csv\")"
   ]
  },
  {
   "cell_type": "code",
   "execution_count": null,
   "metadata": {},
   "outputs": [],
   "source": []
  }
 ],
 "metadata": {
  "kernelspec": {
   "display_name": "Python 3",
   "language": "python",
   "name": "python3"
  },
  "language_info": {
   "codemirror_mode": {
    "name": "ipython",
    "version": 3
   },
   "file_extension": ".py",
   "mimetype": "text/x-python",
   "name": "python",
   "nbconvert_exporter": "python",
   "pygments_lexer": "ipython3",
   "version": "3.8.3"
  }
 },
 "nbformat": 4,
 "nbformat_minor": 4
}
