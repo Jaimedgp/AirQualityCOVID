{
 "cells": [
  {
   "cell_type": "markdown",
   "metadata": {},
   "source": [
    "# Cross-Validation of `lm` model\n",
    "\n",
    "Make a k-fold cross-validation using natural years. _Leave-one-(natural year)-out_"
   ]
  },
  {
   "cell_type": "code",
   "execution_count": 1,
   "metadata": {},
   "outputs": [],
   "source": [
    "# Load packages\n",
    "suppressMessages(library(lubridate))\n",
    "suppressMessages(library(tidyverse))\n",
    "suppressMessages(library(openair))\n",
    "\n",
    "suppressMessages(library(caret))\n",
    "suppressMessages(library(BBmisc))"
   ]
  },
  {
   "cell_type": "code",
   "execution_count": 2,
   "metadata": {},
   "outputs": [],
   "source": [
    "suppressMessages(library(repr))\n",
    "options(repr.plot.width=25,\n",
    "        repr.plot.height=10,\n",
    "        #repr.plot.pointsize=50,\n",
    "        repr.plot.family='serif'\n",
    "       )"
   ]
  },
  {
   "cell_type": "code",
   "execution_count": 3,
   "metadata": {},
   "outputs": [],
   "source": [
    "# Working directory\n",
    "setwd(\"~/Repositories/AirQualityCOVID\")"
   ]
  },
  {
   "cell_type": "markdown",
   "metadata": {},
   "source": [
    "## Representative sample "
   ]
  },
  {
   "cell_type": "code",
   "execution_count": 4,
   "metadata": {},
   "outputs": [],
   "source": [
    "sites.lv <- c(\"es0118a\", \"es1438a\") # Big cities (Madrid and Barcelona)\",\n",
    "sites.lv <- c(sites.lv, \"es1580a\", \"es1340a\") # small cities (Santander and Huelva)"
   ]
  },
  {
   "cell_type": "markdown",
   "metadata": {},
   "source": [
    "## DataFrame Creation"
   ]
  },
  {
   "cell_type": "code",
   "execution_count": 5,
   "metadata": {},
   "outputs": [],
   "source": [
    "# Create dataSet\n",
    "load(\"data/data_AQ.rda\")\n",
    "load(\"data/meteorology.rda\")\n",
    "\n",
    "aq <- data_AQ %>%\n",
    "            filter(site %in% sites.lv,\n",
    "                   date < ymd(\"2020-01-01\")\n",
    "                  ) %>%\n",
    "            timeAverage(avg.time = \"day\", type=c(\"site\", \"variable\"))\n",
    "aq$date <- as_date(aq$date)\n",
    "\n",
    "mto <- data_Mto %>%\n",
    "            filter(site %in% sites.lv,\n",
    "                   date < ymd(\"2020-01-01\"))\n",
    "\n",
    "data.df <- merge(aq, mto,\n",
    "              by = c(\"date\", \"site\"), all.x=T) %>%\n",
    "        drop_na() %>%\n",
    "        mutate_if(is.factor, as.character) %>%\n",
    "        select(-date_end, -process, -summary, -validity)\n",
    "\n",
    "rm(data_AQ)\n",
    "rm(data_Mto)"
   ]
  },
  {
   "cell_type": "markdown",
   "metadata": {},
   "source": [
    "## PreProcess"
   ]
  },
  {
   "cell_type": "code",
   "execution_count": 6,
   "metadata": {},
   "outputs": [],
   "source": [
    "deseason <- function(cl) {\n",
    "    # Remove seasonal component of the additive time serie.\n",
    "    #     This function is called below by an apply\n",
    "    \n",
    "    dcomp <- decompose(ts(cl, frequency = 365))\n",
    "\n",
    "    cl - dcomp$seasonal\n",
    "}\n",
    "\n",
    "scale.df <- function(df, omit.cl) {\n",
    "    # Scale dataframe ignoring no numeric columns (omit.cl)\n",
    "    \n",
    "    split.df <- df[, -omit.cl]\n",
    "    \n",
    "    split.df <- scale(split.df)\n",
    "    \n",
    "    cbind(df[, omit.cl],\n",
    "          apply(split.df, 2, function(cl) {cl + abs(min(cl))}))\n",
    "}\n",
    "\n",
    "range.df <- function(df, omit.cl) {\n",
    "    # Scale dataframe ignoring no numeric columns (omit.cl)\n",
    "    \n",
    "    split.df <- df[, -omit.cl]\n",
    "    \n",
    "    split.df <- normalize(split.df, method = \"range\", range = c(0, 1), margin = 1)\n",
    "    \n",
    "    cbind(df[, omit.cl],\n",
    "          split.df\n",
    "          #apply(split.df, 2, function(cl) {range(cl) + abs(min(cl))})\n",
    "         )\n",
    "}"
   ]
  },
  {
   "cell_type": "code",
   "execution_count": 7,
   "metadata": {},
   "outputs": [],
   "source": [
    "std.filter <- function(df, numSTD, omit.cl) {\n",
    "    split.df <- df[, -omit.cl]\n",
    "    \n",
    "    for (cl in names(split.df)) {\n",
    "        mn <- mean(split.df[, cl], na.rm=TRUE)\n",
    "        std <- sd(split.df[, cl], na.rm=TRUE)\n",
    "\n",
    "        split.df[which(split.df[, cl] < mn-numSTD*std), cl] <- NaN\n",
    "        split.df[which(split.df[, cl] > mn+numSTD*std), cl] <- NaN\n",
    "    }\n",
    "    \n",
    "    cbind(df[, omit.cl], split.df)\n",
    "}"
   ]
  },
  {
   "cell_type": "markdown",
   "metadata": {},
   "source": [
    "## Cross-Validation"
   ]
  },
  {
   "cell_type": "code",
   "execution_count": 8,
   "metadata": {},
   "outputs": [],
   "source": [
    "leave.one.year.out <- function(yr, data, omit.cl) { \n",
    "    # Do k-iteration of k-fold cv by pop yr data for test \n",
    "    #     and the rest for training\n",
    "    # @params: omit.cl: columns to omit in the regression\n",
    "    \n",
    "    test <- which(year(data$date) == yr)\n",
    "    train <- which(year(data$date) != yr)\n",
    "\n",
    "    if(length(test) == 0 | length(train) == 0) {\n",
    "        return\n",
    "    }\n",
    "\n",
    "    model <- train(value ~., \n",
    "                   data=data[, -omit.cl], subset=train,\n",
    "                   method=\"glm\", family=Gamma\n",
    "                  )\n",
    "\n",
    "    y.th <- predict(model, newdata=data[test,])\n",
    "    \n",
    "    plt <- ggplot() + \n",
    "        geom_line(aes(x=1:length(y.th), y=y.th), color=\"blue\") +\n",
    "        geom_line(aes(x=1:length(test), y=data[test, \"value\"]), color=\"red\")\n",
    "    \n",
    "    data.frame(\"bias\"=mean(y.th) / mean(data[test,]$value),\n",
    "               \"var.ratio\"=var(y.th) / var(data[test,]$value),\n",
    "               \"cor\"=cor(y.th, data[test,]$value, method = \"pearson\")\n",
    "              )\n",
    "}"
   ]
  },
  {
   "cell_type": "code",
   "execution_count": 9,
   "metadata": {},
   "outputs": [
    {
     "name": "stdout",
     "output_type": "stream",
     "text": [
      "[1] \"es0118a no\"\n",
      "[1] \"es0118a no2\"\n",
      "[1] \"es0118a o3\"\n",
      "[1] \"es0118a pm10\"\n",
      "[1] \"es0118a pm2.5\"\n",
      "[1] \"es1438a no\"\n",
      "[1] \"es1438a no2\"\n",
      "[1] \"es1438a o3\"\n",
      "[1] \"es1580a no\"\n",
      "[1] \"es1580a no2\"\n",
      "[1] \"es1580a pm10\"\n",
      "[1] \"es1340a no\"\n",
      "[1] \"es1340a no2\"\n",
      "[1] \"es1340a pm10\"\n"
     ]
    }
   ],
   "source": [
    "years <- 2013:2019\n",
    "\n",
    "no.num.cl <- 1:3 # no numeric columns \n",
    "cv.df <- data.frame()\n",
    "\n",
    "# Create one model for each pair of station-pollutant\n",
    "for (st in sites.lv) {\n",
    "    data.st <- data.df[data.df$site == st,]\n",
    "    \n",
    "    for (pll in levels(as.factor(data.st$variable))) {\n",
    "        print(paste(st, pll))\n",
    "        dat <- data.st[data.st$variable == pll, ]\n",
    "        \n",
    "        if (sum(!is.na(dat$date)) > (365*2)) {\n",
    "            # if there is enough data (more than 2 years), deseasonalized\n",
    "            ds.dat <- cbind(dat[, no.num.cl],\n",
    "                         apply(dat[, -no.num.cl], 2, deseason))\n",
    "        } else { next }\n",
    "        \n",
    "        ds.dat <- range.df(ds.dat, no.num.cl)# %>%\n",
    "        ds.dat <- std.filter(ds.dat, 3, no.num.cl) %>%\n",
    "                    drop_na()\n",
    "        \n",
    "        cv.row <- do.call(rbind, lapply(years, leave.one.year.out,\n",
    "                                        ds.dat, no.num.cl))\n",
    "\n",
    "        cv.df <- rbind(cv.df,\n",
    "                       cbind(data.frame(\"variable\"=pll,\n",
    "                                        \"site\"=st),\n",
    "                             rbind(colMeans(cv.row, na.rm=T)))\n",
    "                       )\n",
    "    }\n",
    "}"
   ]
  },
  {
   "cell_type": "code",
   "execution_count": 10,
   "metadata": {},
   "outputs": [
    {
     "data": {
      "text/html": [
       "<table>\n",
       "<caption>A data.frame: 13 × 5</caption>\n",
       "<thead>\n",
       "\t<tr><th scope=col>variable</th><th scope=col>site</th><th scope=col>bias</th><th scope=col>var.ratio</th><th scope=col>cor</th></tr>\n",
       "\t<tr><th scope=col>&lt;fct&gt;</th><th scope=col>&lt;fct&gt;</th><th scope=col>&lt;dbl&gt;</th><th scope=col>&lt;dbl&gt;</th><th scope=col>&lt;dbl&gt;</th></tr>\n",
       "</thead>\n",
       "<tbody>\n",
       "\t<tr><td>no   </td><td>es0118a</td><td>1.0013637</td><td>0.2329162</td><td>0.4539326</td></tr>\n",
       "\t<tr><td>no2  </td><td>es0118a</td><td>1.0089783</td><td>0.3614686</td><td>0.5308371</td></tr>\n",
       "\t<tr><td>o3   </td><td>es0118a</td><td>0.9979621</td><td>0.2540389</td><td>0.4768175</td></tr>\n",
       "\t<tr><td>pm10 </td><td>es0118a</td><td>1.0011625</td><td>0.2842189</td><td>0.5262170</td></tr>\n",
       "\t<tr><td>pm2.5</td><td>es0118a</td><td>1.0013297</td><td>0.2802143</td><td>0.5051612</td></tr>\n",
       "\t<tr><td>no   </td><td>es1438a</td><td>1.0013177</td><td>0.1874498</td><td>0.4057193</td></tr>\n",
       "\t<tr><td>no2  </td><td>es1438a</td><td>1.0047911</td><td>0.2888352</td><td>0.4980705</td></tr>\n",
       "\t<tr><td>no   </td><td>es1580a</td><td>1.0023263</td><td>0.2339150</td><td>0.4424529</td></tr>\n",
       "\t<tr><td>no2  </td><td>es1580a</td><td>1.0126899</td><td>0.2507272</td><td>0.4138458</td></tr>\n",
       "\t<tr><td>pm10 </td><td>es1580a</td><td>1.0059566</td><td>0.2233215</td><td>0.4208212</td></tr>\n",
       "\t<tr><td>no   </td><td>es1340a</td><td>0.9997303</td><td>0.2608763</td><td>0.4743328</td></tr>\n",
       "\t<tr><td>no2  </td><td>es1340a</td><td>1.0161640</td><td>0.6121210</td><td>0.6702365</td></tr>\n",
       "\t<tr><td>pm10 </td><td>es1340a</td><td>1.0015248</td><td>0.3713505</td><td>0.5738265</td></tr>\n",
       "</tbody>\n",
       "</table>\n"
      ],
      "text/latex": [
       "A data.frame: 13 × 5\n",
       "\\begin{tabular}{lllll}\n",
       " variable & site & bias & var.ratio & cor\\\\\n",
       " <fct> & <fct> & <dbl> & <dbl> & <dbl>\\\\\n",
       "\\hline\n",
       "\t no    & es0118a & 1.0013637 & 0.2329162 & 0.4539326\\\\\n",
       "\t no2   & es0118a & 1.0089783 & 0.3614686 & 0.5308371\\\\\n",
       "\t o3    & es0118a & 0.9979621 & 0.2540389 & 0.4768175\\\\\n",
       "\t pm10  & es0118a & 1.0011625 & 0.2842189 & 0.5262170\\\\\n",
       "\t pm2.5 & es0118a & 1.0013297 & 0.2802143 & 0.5051612\\\\\n",
       "\t no    & es1438a & 1.0013177 & 0.1874498 & 0.4057193\\\\\n",
       "\t no2   & es1438a & 1.0047911 & 0.2888352 & 0.4980705\\\\\n",
       "\t no    & es1580a & 1.0023263 & 0.2339150 & 0.4424529\\\\\n",
       "\t no2   & es1580a & 1.0126899 & 0.2507272 & 0.4138458\\\\\n",
       "\t pm10  & es1580a & 1.0059566 & 0.2233215 & 0.4208212\\\\\n",
       "\t no    & es1340a & 0.9997303 & 0.2608763 & 0.4743328\\\\\n",
       "\t no2   & es1340a & 1.0161640 & 0.6121210 & 0.6702365\\\\\n",
       "\t pm10  & es1340a & 1.0015248 & 0.3713505 & 0.5738265\\\\\n",
       "\\end{tabular}\n"
      ],
      "text/markdown": [
       "\n",
       "A data.frame: 13 × 5\n",
       "\n",
       "| variable &lt;fct&gt; | site &lt;fct&gt; | bias &lt;dbl&gt; | var.ratio &lt;dbl&gt; | cor &lt;dbl&gt; |\n",
       "|---|---|---|---|---|\n",
       "| no    | es0118a | 1.0013637 | 0.2329162 | 0.4539326 |\n",
       "| no2   | es0118a | 1.0089783 | 0.3614686 | 0.5308371 |\n",
       "| o3    | es0118a | 0.9979621 | 0.2540389 | 0.4768175 |\n",
       "| pm10  | es0118a | 1.0011625 | 0.2842189 | 0.5262170 |\n",
       "| pm2.5 | es0118a | 1.0013297 | 0.2802143 | 0.5051612 |\n",
       "| no    | es1438a | 1.0013177 | 0.1874498 | 0.4057193 |\n",
       "| no2   | es1438a | 1.0047911 | 0.2888352 | 0.4980705 |\n",
       "| no    | es1580a | 1.0023263 | 0.2339150 | 0.4424529 |\n",
       "| no2   | es1580a | 1.0126899 | 0.2507272 | 0.4138458 |\n",
       "| pm10  | es1580a | 1.0059566 | 0.2233215 | 0.4208212 |\n",
       "| no    | es1340a | 0.9997303 | 0.2608763 | 0.4743328 |\n",
       "| no2   | es1340a | 1.0161640 | 0.6121210 | 0.6702365 |\n",
       "| pm10  | es1340a | 1.0015248 | 0.3713505 | 0.5738265 |\n",
       "\n"
      ],
      "text/plain": [
       "   variable site    bias      var.ratio cor      \n",
       "1  no       es0118a 1.0013637 0.2329162 0.4539326\n",
       "2  no2      es0118a 1.0089783 0.3614686 0.5308371\n",
       "3  o3       es0118a 0.9979621 0.2540389 0.4768175\n",
       "4  pm10     es0118a 1.0011625 0.2842189 0.5262170\n",
       "5  pm2.5    es0118a 1.0013297 0.2802143 0.5051612\n",
       "6  no       es1438a 1.0013177 0.1874498 0.4057193\n",
       "7  no2      es1438a 1.0047911 0.2888352 0.4980705\n",
       "8  no       es1580a 1.0023263 0.2339150 0.4424529\n",
       "9  no2      es1580a 1.0126899 0.2507272 0.4138458\n",
       "10 pm10     es1580a 1.0059566 0.2233215 0.4208212\n",
       "11 no       es1340a 0.9997303 0.2608763 0.4743328\n",
       "12 no2      es1340a 1.0161640 0.6121210 0.6702365\n",
       "13 pm10     es1340a 1.0015248 0.3713505 0.5738265"
      ]
     },
     "metadata": {},
     "output_type": "display_data"
    }
   ],
   "source": [
    "cv.df"
   ]
  },
  {
   "cell_type": "code",
   "execution_count": 11,
   "metadata": {},
   "outputs": [
    {
     "name": "stdout",
     "output_type": "stream",
     "text": [
      "\u001b[38;5;246m# A tibble: 5 x 4\u001b[39m\n",
      "  variable var.ratio  bias   cor\n",
      "\u001b[38;5;250m*\u001b[39m \u001b[3m\u001b[38;5;246m<fct>\u001b[39m\u001b[23m        \u001b[3m\u001b[38;5;246m<dbl>\u001b[39m\u001b[23m \u001b[3m\u001b[38;5;246m<dbl>\u001b[39m\u001b[23m \u001b[3m\u001b[38;5;246m<dbl>\u001b[39m\u001b[23m\n",
      "\u001b[38;5;250m1\u001b[39m no           0.229 1.00  0.444\n",
      "\u001b[38;5;250m2\u001b[39m no2          0.378 1.01  0.528\n",
      "\u001b[38;5;250m3\u001b[39m o3           0.254 0.998 0.477\n",
      "\u001b[38;5;250m4\u001b[39m pm10         0.293 1.00  0.507\n",
      "\u001b[38;5;250m5\u001b[39m pm2.5        0.280 1.00  0.505\n"
     ]
    }
   ],
   "source": [
    "mean.cv.df <- cv.df %>%\n",
    "                group_by(variable) %>%\n",
    "                summarise(var.ratio=mean(var.ratio),\n",
    "                          bias=mean(bias),\n",
    "                          cor=mean(cor)\n",
    "                         ) %>%\n",
    "                print()"
   ]
  },
  {
   "cell_type": "code",
   "execution_count": 12,
   "metadata": {},
   "outputs": [
    {
     "data": {
      "image/png": "[encoded data removed]",
      "text/plain": [
       "plot without title"
      ]
     },
     "metadata": {
      "image/png": {
       "height": 600,
       "width": 1500
      }
     },
     "output_type": "display_data"
    }
   ],
   "source": [
    "pivot.cv.df <- cv.df %>%\n",
    "        pivot_longer(cols = c(3:ncol(cv.df)), \n",
    "                     names_to = \"Error\", values_to = \"Err.Val\")\n",
    "\n",
    "ggplot(data=pivot.cv.df, aes(x=Error, y=Err.Val, fill=Error)) +\n",
    "        geom_boxplot() + \n",
    "        facet_wrap(~variable, scales = \"free_y\")"
   ]
  },
  {
   "cell_type": "code",
   "execution_count": null,
   "metadata": {},
   "outputs": [],
   "source": []
  },
  {
   "cell_type": "code",
   "execution_count": null,
   "metadata": {},
   "outputs": [],
   "source": []
  }
 ],
 "metadata": {
  "kernelspec": {
   "display_name": "R",
   "language": "R",
   "name": "ir"
  },
  "language_info": {
   "codemirror_mode": "r",
   "file_extension": ".r",
   "mimetype": "text/x-r-source",
   "name": "R",
   "pygments_lexer": "r",
   "version": "3.6.3"
  }
 },
 "nbformat": 4,
 "nbformat_minor": 4
}
