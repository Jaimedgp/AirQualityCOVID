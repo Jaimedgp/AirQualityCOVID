{
 "cells": [
  {
   "cell_type": "markdown",
   "metadata": {},
   "source": [
    "# Cross-Validation of `lm` model\n",
    "\n",
    "Make a cross-validation with a \"k-fold\" using natural years"
   ]
  },
  {
   "cell_type": "code",
   "execution_count": 1,
   "metadata": {},
   "outputs": [],
   "source": [
    "# Load packages\n",
    "suppressMessages(library(lubridate))\n",
    "suppressMessages(library(tidyverse))\n",
    "suppressMessages(library(openair))\n",
    "\n",
    "suppressMessages(library(caret))"
   ]
  },
  {
   "cell_type": "code",
   "execution_count": 2,
   "metadata": {},
   "outputs": [],
   "source": [
    "suppressMessages(library(repr))\n",
    "options(repr.plot.width=25,\n",
    "        repr.plot.height=10,\n",
    "        #repr.plot.pointsize=50,\n",
    "        repr.plot.family='serif'\n",
    "       )"
   ]
  },
  {
   "cell_type": "code",
   "execution_count": 3,
   "metadata": {},
   "outputs": [],
   "source": [
    "# Working directory\n",
    "setwd(\"~/Repositories/AirQualityCOVID\")"
   ]
  },
  {
   "cell_type": "markdown",
   "metadata": {},
   "source": [
    "## Main Variables"
   ]
  },
  {
   "cell_type": "code",
   "execution_count": 19,
   "metadata": {},
   "outputs": [],
   "source": [
    "sites.lv <- c(\"es0118a\", \"es1438a\") # Big cities (Madrid and Barcelona)\",\n",
    "sites.lv <- c(sites.lv, \"es1580a\", \"es1340a\") # small cities (Santander and Huelva)\n",
    "variables.lv <- c(\"no2\", \"no\")"
   ]
  },
  {
   "cell_type": "markdown",
   "metadata": {},
   "source": [
    "## DataFrame Creation"
   ]
  },
  {
   "cell_type": "code",
   "execution_count": 20,
   "metadata": {},
   "outputs": [],
   "source": [
    "# Create dataSet\n",
    "load(\"data/data_AQ.rda\")\n",
    "load(\"data/meteorology.rda\")\n",
    "\n",
    "aq <- data_AQ[data_AQ$site %in% sites.lv, ] %>%\n",
    "            filter(variable %in% variables.lv) %>%\n",
    "            timeAverage(avg.time = \"day\", type=c(\"site\", \"variable\"))\n",
    "aq$date <- as_date(aq$date)\n",
    "\n",
    "mto <- data_Mto[data_Mto$site %in% sites.lv, ]\n",
    "\n",
    "df <- merge(aq, mto,\n",
    "              by = c(\"date\", \"site\"), all.x=T) %>%\n",
    "        drop_na() %>%\n",
    "        mutate_if(is.factor, as.character) %>%\n",
    "        select(-date_end, -process, -summary, -validity)\n",
    "\n",
    "rm(data_AQ)\n",
    "rm(data_Mto)"
   ]
  },
  {
   "cell_type": "code",
   "execution_count": 21,
   "metadata": {},
   "outputs": [],
   "source": [
    "to.predict <- df[df$date > ymd(\"2020-01-01\"),]\n",
    "data.df <- df[df$date < ymd(\"2020-01-01\"),] \n",
    "\n",
    "data.df[, -c(1:3)] <- data.df[, -c(1:3)]\n",
    "to.predict[, -c(1:3)] <- to.predict[, -c(1:3)]"
   ]
  },
  {
   "cell_type": "code",
   "execution_count": 22,
   "metadata": {},
   "outputs": [],
   "source": [
    "ds.data <- cbind(data.df[, 1:3],\n",
    "                 apply(data.df[, -c(1:3)], 2, function(cl) {\n",
    "                    dcomp <- decompose(ts(cl, frequency = 365))\n",
    "\n",
    "                    cl - dcomp$seasonal\n",
    "                }))\n",
    "to.predict <- cbind(to.predict[, 1:3],\n",
    "                 apply(to.predict[, -c(1:3)], 2, function(cl) {\n",
    "                    dcomp <- decompose(ts(cl, frequency = 365))\n",
    "\n",
    "                    cl - dcomp$seasonal\n",
    "                }))"
   ]
  },
  {
   "cell_type": "markdown",
   "metadata": {},
   "source": [
    "## Cross-Validation"
   ]
  },
  {
   "cell_type": "code",
   "execution_count": 23,
   "metadata": {},
   "outputs": [
    {
     "data": {
      "text/html": [
       "<table>\n",
       "<caption>A data.frame: 6 × 12</caption>\n",
       "<thead>\n",
       "\t<tr><th></th><th scope=col>value</th><th scope=col>ws</th><th scope=col>wd</th><th scope=col>atmos_pres</th><th scope=col>tmed</th><th scope=col>prec</th><th scope=col>tmin</th><th scope=col>tmax</th><th scope=col>presMax</th><th scope=col>presMin</th><th scope=col>RH</th><th scope=col>solar.radiation</th></tr>\n",
       "\t<tr><th></th><th scope=col>&lt;dbl&gt;</th><th scope=col>&lt;dbl&gt;</th><th scope=col>&lt;dbl&gt;</th><th scope=col>&lt;dbl&gt;</th><th scope=col>&lt;dbl&gt;</th><th scope=col>&lt;dbl&gt;</th><th scope=col>&lt;dbl&gt;</th><th scope=col>&lt;dbl&gt;</th><th scope=col>&lt;dbl&gt;</th><th scope=col>&lt;dbl&gt;</th><th scope=col>&lt;dbl&gt;</th><th scope=col>&lt;dbl&gt;</th></tr>\n",
       "</thead>\n",
       "<tbody>\n",
       "\t<tr><th scope=row>4</th><td> 35.85547</td><td>0.76052968</td><td>224.6837</td><td>1022.813</td><td>6.495256</td><td>-0.8585232</td><td> 3.4965752</td><td> 9.488465</td><td>940.3305</td><td>934.3013</td><td>79.52509</td><td> 63.11348</td></tr>\n",
       "\t<tr><th scope=row>12</th><td> 98.38102</td><td>1.18413152</td><td>366.2126</td><td>1027.909</td><td>5.675967</td><td>-0.1782542</td><td> 0.8744780</td><td>10.370771</td><td>951.6835</td><td>947.2985</td><td>78.23889</td><td> 64.68498</td></tr>\n",
       "\t<tr><th scope=row>25</th><td> 75.93004</td><td>0.84894509</td><td>102.0624</td><td>1036.546</td><td>6.378651</td><td> 0.2624259</td><td> 2.4498563</td><td>10.301958</td><td>956.5072</td><td>947.3278</td><td>68.60989</td><td> 80.91984</td></tr>\n",
       "\t<tr><th scope=row>42</th><td>174.72897</td><td>0.02250207</td><td>254.5703</td><td>1034.727</td><td>4.578589</td><td> 0.3000775</td><td>-0.9226290</td><td>10.083811</td><td>959.1826</td><td>955.4224</td><td>72.72819</td><td>109.69441</td></tr>\n",
       "\t<tr><th scope=row>53</th><td>112.03875</td><td>0.41265013</td><td>181.8315</td><td>1030.745</td><td>5.392128</td><td> 0.2813349</td><td> 0.7660696</td><td>10.005517</td><td>952.1379</td><td>948.7376</td><td>79.10066</td><td>115.32039</td></tr>\n",
       "\t<tr><th scope=row>61</th><td> 37.78607</td><td>0.52790937</td><td>296.5086</td><td>1030.696</td><td>3.066759</td><td> 0.2042295</td><td> 1.2848465</td><td> 4.747921</td><td>945.5831</td><td>943.6639</td><td>84.16489</td><td>110.22065</td></tr>\n",
       "</tbody>\n",
       "</table>\n"
      ],
      "text/latex": [
       "A data.frame: 6 × 12\n",
       "\\begin{tabular}{r|llllllllllll}\n",
       "  & value & ws & wd & atmos\\_pres & tmed & prec & tmin & tmax & presMax & presMin & RH & solar.radiation\\\\\n",
       "  & <dbl> & <dbl> & <dbl> & <dbl> & <dbl> & <dbl> & <dbl> & <dbl> & <dbl> & <dbl> & <dbl> & <dbl>\\\\\n",
       "\\hline\n",
       "\t4 &  35.85547 & 0.76052968 & 224.6837 & 1022.813 & 6.495256 & -0.8585232 &  3.4965752 &  9.488465 & 940.3305 & 934.3013 & 79.52509 &  63.11348\\\\\n",
       "\t12 &  98.38102 & 1.18413152 & 366.2126 & 1027.909 & 5.675967 & -0.1782542 &  0.8744780 & 10.370771 & 951.6835 & 947.2985 & 78.23889 &  64.68498\\\\\n",
       "\t25 &  75.93004 & 0.84894509 & 102.0624 & 1036.546 & 6.378651 &  0.2624259 &  2.4498563 & 10.301958 & 956.5072 & 947.3278 & 68.60989 &  80.91984\\\\\n",
       "\t42 & 174.72897 & 0.02250207 & 254.5703 & 1034.727 & 4.578589 &  0.3000775 & -0.9226290 & 10.083811 & 959.1826 & 955.4224 & 72.72819 & 109.69441\\\\\n",
       "\t53 & 112.03875 & 0.41265013 & 181.8315 & 1030.745 & 5.392128 &  0.2813349 &  0.7660696 & 10.005517 & 952.1379 & 948.7376 & 79.10066 & 115.32039\\\\\n",
       "\t61 &  37.78607 & 0.52790937 & 296.5086 & 1030.696 & 3.066759 &  0.2042295 &  1.2848465 &  4.747921 & 945.5831 & 943.6639 & 84.16489 & 110.22065\\\\\n",
       "\\end{tabular}\n"
      ],
      "text/markdown": [
       "\n",
       "A data.frame: 6 × 12\n",
       "\n",
       "| <!--/--> | value &lt;dbl&gt; | ws &lt;dbl&gt; | wd &lt;dbl&gt; | atmos_pres &lt;dbl&gt; | tmed &lt;dbl&gt; | prec &lt;dbl&gt; | tmin &lt;dbl&gt; | tmax &lt;dbl&gt; | presMax &lt;dbl&gt; | presMin &lt;dbl&gt; | RH &lt;dbl&gt; | solar.radiation &lt;dbl&gt; |\n",
       "|---|---|---|---|---|---|---|---|---|---|---|---|---|\n",
       "| 4 |  35.85547 | 0.76052968 | 224.6837 | 1022.813 | 6.495256 | -0.8585232 |  3.4965752 |  9.488465 | 940.3305 | 934.3013 | 79.52509 |  63.11348 |\n",
       "| 12 |  98.38102 | 1.18413152 | 366.2126 | 1027.909 | 5.675967 | -0.1782542 |  0.8744780 | 10.370771 | 951.6835 | 947.2985 | 78.23889 |  64.68498 |\n",
       "| 25 |  75.93004 | 0.84894509 | 102.0624 | 1036.546 | 6.378651 |  0.2624259 |  2.4498563 | 10.301958 | 956.5072 | 947.3278 | 68.60989 |  80.91984 |\n",
       "| 42 | 174.72897 | 0.02250207 | 254.5703 | 1034.727 | 4.578589 |  0.3000775 | -0.9226290 | 10.083811 | 959.1826 | 955.4224 | 72.72819 | 109.69441 |\n",
       "| 53 | 112.03875 | 0.41265013 | 181.8315 | 1030.745 | 5.392128 |  0.2813349 |  0.7660696 | 10.005517 | 952.1379 | 948.7376 | 79.10066 | 115.32039 |\n",
       "| 61 |  37.78607 | 0.52790937 | 296.5086 | 1030.696 | 3.066759 |  0.2042295 |  1.2848465 |  4.747921 | 945.5831 | 943.6639 | 84.16489 | 110.22065 |\n",
       "\n"
      ],
      "text/plain": [
       "   value     ws         wd       atmos_pres tmed     prec       tmin      \n",
       "4   35.85547 0.76052968 224.6837 1022.813   6.495256 -0.8585232  3.4965752\n",
       "12  98.38102 1.18413152 366.2126 1027.909   5.675967 -0.1782542  0.8744780\n",
       "25  75.93004 0.84894509 102.0624 1036.546   6.378651  0.2624259  2.4498563\n",
       "42 174.72897 0.02250207 254.5703 1034.727   4.578589  0.3000775 -0.9226290\n",
       "53 112.03875 0.41265013 181.8315 1030.745   5.392128  0.2813349  0.7660696\n",
       "61  37.78607 0.52790937 296.5086 1030.696   3.066759  0.2042295  1.2848465\n",
       "   tmax      presMax  presMin  RH       solar.radiation\n",
       "4   9.488465 940.3305 934.3013 79.52509  63.11348      \n",
       "12 10.370771 951.6835 947.2985 78.23889  64.68498      \n",
       "25 10.301958 956.5072 947.3278 68.60989  80.91984      \n",
       "42 10.083811 959.1826 955.4224 72.72819 109.69441      \n",
       "53 10.005517 952.1379 948.7376 79.10066 115.32039      \n",
       "61  4.747921 945.5831 943.6639 84.16489 110.22065      "
      ]
     },
     "metadata": {},
     "output_type": "display_data"
    }
   ],
   "source": [
    "head(dat[, -1:-3])"
   ]
  },
  {
   "cell_type": "code",
   "execution_count": 25,
   "metadata": {},
   "outputs": [
    {
     "name": "stderr",
     "output_type": "stream",
     "text": [
      "Warning message:\n",
      "“model fit failed for Resample01: parameter=none Error in eval(family$initialize) : \n",
      "  non-positive values not allowed for the 'Gamma' family\n",
      "”\n",
      "Warning message:\n",
      "“model fit failed for Resample02: parameter=none Error in eval(family$initialize) : \n",
      "  non-positive values not allowed for the 'Gamma' family\n",
      "”\n",
      "Warning message:\n",
      "“model fit failed for Resample03: parameter=none Error in eval(family$initialize) : \n",
      "  non-positive values not allowed for the 'Gamma' family\n",
      "”\n",
      "Warning message:\n",
      "“model fit failed for Resample04: parameter=none Error in eval(family$initialize) : \n",
      "  non-positive values not allowed for the 'Gamma' family\n",
      "”\n",
      "Warning message:\n",
      "“model fit failed for Resample05: parameter=none Error in eval(family$initialize) : \n",
      "  non-positive values not allowed for the 'Gamma' family\n",
      "”\n",
      "Warning message:\n",
      "“model fit failed for Resample06: parameter=none Error in eval(family$initialize) : \n",
      "  non-positive values not allowed for the 'Gamma' family\n",
      "”\n",
      "Warning message:\n",
      "“model fit failed for Resample07: parameter=none Error in eval(family$initialize) : \n",
      "  non-positive values not allowed for the 'Gamma' family\n",
      "”\n",
      "Warning message:\n",
      "“model fit failed for Resample08: parameter=none Error in eval(family$initialize) : \n",
      "  non-positive values not allowed for the 'Gamma' family\n",
      "”\n",
      "Warning message:\n",
      "“model fit failed for Resample09: parameter=none Error in eval(family$initialize) : \n",
      "  non-positive values not allowed for the 'Gamma' family\n",
      "”\n",
      "Warning message:\n",
      "“model fit failed for Resample10: parameter=none Error in eval(family$initialize) : \n",
      "  non-positive values not allowed for the 'Gamma' family\n",
      "”\n",
      "Warning message:\n",
      "“model fit failed for Resample11: parameter=none Error in eval(family$initialize) : \n",
      "  non-positive values not allowed for the 'Gamma' family\n",
      "”\n",
      "Warning message:\n",
      "“model fit failed for Resample12: parameter=none Error in eval(family$initialize) : \n",
      "  non-positive values not allowed for the 'Gamma' family\n",
      "”\n",
      "Warning message:\n",
      "“model fit failed for Resample13: parameter=none Error in eval(family$initialize) : \n",
      "  non-positive values not allowed for the 'Gamma' family\n",
      "”\n",
      "Warning message:\n",
      "“model fit failed for Resample14: parameter=none Error in eval(family$initialize) : \n",
      "  non-positive values not allowed for the 'Gamma' family\n",
      "”\n",
      "Warning message:\n",
      "“model fit failed for Resample15: parameter=none Error in eval(family$initialize) : \n",
      "  non-positive values not allowed for the 'Gamma' family\n",
      "”\n",
      "Warning message:\n",
      "“model fit failed for Resample16: parameter=none Error in eval(family$initialize) : \n",
      "  non-positive values not allowed for the 'Gamma' family\n",
      "”\n",
      "Warning message:\n",
      "“model fit failed for Resample17: parameter=none Error in eval(family$initialize) : \n",
      "  non-positive values not allowed for the 'Gamma' family\n",
      "”\n",
      "Warning message:\n",
      "“model fit failed for Resample18: parameter=none Error in eval(family$initialize) : \n",
      "  non-positive values not allowed for the 'Gamma' family\n",
      "”\n",
      "Warning message:\n",
      "“model fit failed for Resample19: parameter=none Error in eval(family$initialize) : \n",
      "  non-positive values not allowed for the 'Gamma' family\n",
      "”\n",
      "Warning message:\n",
      "“model fit failed for Resample20: parameter=none Error in eval(family$initialize) : \n",
      "  non-positive values not allowed for the 'Gamma' family\n",
      "”\n",
      "Warning message:\n",
      "“model fit failed for Resample21: parameter=none Error in eval(family$initialize) : \n",
      "  non-positive values not allowed for the 'Gamma' family\n",
      "”\n",
      "Warning message:\n",
      "“model fit failed for Resample22: parameter=none Error in eval(family$initialize) : \n",
      "  non-positive values not allowed for the 'Gamma' family\n",
      "”\n",
      "Warning message:\n",
      "“model fit failed for Resample23: parameter=none Error in eval(family$initialize) : \n",
      "  non-positive values not allowed for the 'Gamma' family\n",
      "”\n",
      "Warning message:\n",
      "“model fit failed for Resample24: parameter=none Error in eval(family$initialize) : \n",
      "  non-positive values not allowed for the 'Gamma' family\n",
      "”\n",
      "Warning message:\n",
      "“model fit failed for Resample25: parameter=none Error in eval(family$initialize) : \n",
      "  non-positive values not allowed for the 'Gamma' family\n",
      "”\n",
      "Warning message in nominalTrainWorkflow(x = x, y = y, wts = weights, info = trainInfo, :\n",
      "“There were missing values in resampled performance measures.”\n"
     ]
    },
    {
     "name": "stdout",
     "output_type": "stream",
     "text": [
      "Something is wrong; all the RMSE metric values are missing:\n",
      "      RMSE        Rsquared        MAE     \n",
      " Min.   : NA   Min.   : NA   Min.   : NA  \n",
      " 1st Qu.: NA   1st Qu.: NA   1st Qu.: NA  \n",
      " Median : NA   Median : NA   Median : NA  \n",
      " Mean   :NaN   Mean   :NaN   Mean   :NaN  \n",
      " 3rd Qu.: NA   3rd Qu.: NA   3rd Qu.: NA  \n",
      " Max.   : NA   Max.   : NA   Max.   : NA  \n",
      " NA's   :1     NA's   :1     NA's   :1    \n"
     ]
    },
    {
     "ename": "ERROR",
     "evalue": "Error: Stopping\n",
     "output_type": "error",
     "traceback": [
      "Error: Stopping\nTraceback:\n",
      "1. train(value ~ ., dat[, -1:-3], subset = train, preProcess = c(\"center\", \n .     \"scale\"), method = \"glm\", family = Gamma)",
      "2. train.formula(value ~ ., dat[, -1:-3], subset = train, preProcess = c(\"center\", \n .     \"scale\"), method = \"glm\", family = Gamma)",
      "3. train(x, y, weights = w, ...)",
      "4. train.default(x, y, weights = w, ...)",
      "5. stop(\"Stopping\", call. = FALSE)"
     ]
    }
   ],
   "source": [
    "years <- c(2013, 2014, 2015, 2016,\n",
    "           2017, 2018, 2019)\n",
    "\n",
    "cv.df <- data.frame()\n",
    "\n",
    "for (st in sites.lv) {\n",
    "    data.st <- ds.data[ds.data$site == st,]\n",
    "    \n",
    "    for (pll in levels(as.factor(data.st$variable))) {\n",
    "        dat <- data.st[data.st$variable == pll, ]\n",
    "        \n",
    "        for (yr in years) {\n",
    "            test <- which(year(dat$date) == yr)\n",
    "            train <- which(year(dat$date) != yr)\n",
    "\n",
    "            model <- train(value ~., dat[, -1:-3], subset = train,\n",
    "                           preProcess = c(\"center\", \"scale\"),\n",
    "                           method = \"glm\", family=Gamma\n",
    "                          )\n",
    "\n",
    "            y.th <- predict(model, newdata=dat[test,])\n",
    "\n",
    "            cv.df <- rbind(cv.df,\n",
    "                           data.frame(\"Test Year\"=yr,\n",
    "                                      \"site\"=st,\n",
    "                                      \"variable\"=pll,\n",
    "                                      \"Bias\"=mean(abs(y.th - dat[test,]$value),\n",
    "                                                 na.rm=T),\n",
    "                                      \"var\"=var(y.th, dat[test,]$value,\n",
    "                                               na.rm=T),\n",
    "                                      \"Rsq\"=cor(y.th, dat[test,]$value)^2\n",
    "                                     ))\n",
    "        }\n",
    "    }\n",
    "}"
   ]
  },
  {
   "cell_type": "code",
   "execution_count": null,
   "metadata": {},
   "outputs": [],
   "source": [
    "mean.cv.df <- cv.df %>%\n",
    "                group_by(site, variable) %>%\n",
    "                summarise(Bias=mean(Bias, na.rm=T),\n",
    "                          var=mean(var, na.rm=T),\n",
    "                          \"Rsq\"=mean(Rsq, na.rm=T),\n",
    "                         ) %>%\n",
    "                pivot_longer(cols = c(3:5), \n",
    "                             names_to = \"Error\", values_to = \"Err.Val\")"
   ]
  },
  {
   "cell_type": "code",
   "execution_count": null,
   "metadata": {},
   "outputs": [],
   "source": [
    "a <- cv.df %>%\n",
    "        pivot_longer(cols = c(4:6), \n",
    "                     names_to = \"Error\", values_to = \"Err.Val\")\n",
    "\n",
    "ggplot(data=a, aes(x=Error, y=Err.Val, fill=Error)) +\n",
    "        geom_boxplot() + \n",
    "        facet_wrap(~variable, scales = \"free_y\")"
   ]
  },
  {
   "cell_type": "markdown",
   "metadata": {},
   "source": [
    "## Predict"
   ]
  },
  {
   "cell_type": "code",
   "execution_count": null,
   "metadata": {},
   "outputs": [],
   "source": [
    "dataframe <- data.frame()\n",
    "\n",
    "for (st in sites.lv) {\n",
    "    data.st <- ds.data[ds.data$site == st,]\n",
    "    \n",
    "    for (pll in levels(as.factor(data.st$variable))) {\n",
    "        dat <- data.st[data.st$variable == pll, ]\n",
    "        pred <- to.predict[to.predict$site == st &\n",
    "                           to.predict$variable == pll, ]\n",
    "\n",
    "        model <- lm(value ~., data=dat[, -c(1:3)])\n",
    "        y.test <- predict(model, newdata=pred[-1:-4])\n",
    "\n",
    "        dataframe <- rbind(dataframe,\n",
    "                           data.frame(site=rep(st,nrow(pred)),\n",
    "                                      variable=rep(pll, nrow(pred)),\n",
    "                                      date=pred$date,\n",
    "                                      y.test=y.test,\n",
    "                                      y.raw=pred$value\n",
    "                                     ))\n",
    "        rm(model)\n",
    "        rm(y.test)\n",
    "    }\n",
    "}"
   ]
  },
  {
   "cell_type": "code",
   "execution_count": null,
   "metadata": {},
   "outputs": [],
   "source": [
    "ggplot(dataframe, aes(x=date)) +\n",
    "    geom_line(aes(y=y.raw), color=\"blue\") +\n",
    "    geom_line(aes(y=y.test), color=\"red\") +\n",
    "    facet_wrap(.~variable+site, scale=\"free_y\", ncol=4)"
   ]
  },
  {
   "cell_type": "code",
   "execution_count": null,
   "metadata": {},
   "outputs": [],
   "source": []
  }
 ],
 "metadata": {
  "kernelspec": {
   "display_name": "R",
   "language": "R",
   "name": "ir"
  },
  "language_info": {
   "codemirror_mode": "r",
   "file_extension": ".r",
   "mimetype": "text/x-r-source",
   "name": "R",
   "pygments_lexer": "r",
   "version": "4.0.4"
  }
 },
 "nbformat": 4,
 "nbformat_minor": 4
}
