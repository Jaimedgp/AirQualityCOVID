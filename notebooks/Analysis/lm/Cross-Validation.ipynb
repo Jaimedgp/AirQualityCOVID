{
 "cells": [
  {
   "cell_type": "markdown",
   "metadata": {},
   "source": [
    "# Cross-Validation of `lm` model\n",
    "\n",
    "Make a k-fold cross-validation using natural years. _Leave-one-(natural year)-out_"
   ]
  },
  {
   "cell_type": "code",
   "execution_count": 1,
   "metadata": {},
   "outputs": [],
   "source": [
    "# Load packages\n",
    "suppressMessages(library(lubridate))\n",
    "suppressMessages(library(tidyverse))\n",
    "suppressMessages(library(openair))\n",
    "\n",
    "suppressMessages(library(caret))"
   ]
  },
  {
   "cell_type": "code",
   "execution_count": 2,
   "metadata": {},
   "outputs": [],
   "source": [
    "suppressMessages(library(repr))\n",
    "options(repr.plot.width=25,\n",
    "        repr.plot.height=10,\n",
    "        #repr.plot.pointsize=50,\n",
    "        repr.plot.family='serif'\n",
    "       )"
   ]
  },
  {
   "cell_type": "code",
   "execution_count": 3,
   "metadata": {},
   "outputs": [],
   "source": [
    "# Working directory\n",
    "setwd(\"~/Repositories/AirQualityCOVID\")"
   ]
  },
  {
   "cell_type": "markdown",
   "metadata": {},
   "source": [
    "## Representative sample "
   ]
  },
  {
   "cell_type": "code",
   "execution_count": 4,
   "metadata": {},
   "outputs": [],
   "source": [
    "sites.lv <- c(\"es0118a\", \"es1438a\") # Big cities (Madrid and Barcelona)\",\n",
    "sites.lv <- c(sites.lv, \"es1580a\", \"es1340a\") # small cities (Santander and Huelva)"
   ]
  },
  {
   "cell_type": "markdown",
   "metadata": {},
   "source": [
    "## DataFrame Creation"
   ]
  },
  {
   "cell_type": "code",
   "execution_count": 5,
   "metadata": {},
   "outputs": [],
   "source": [
    "# Create dataSet\n",
    "load(\"data/data_AQ.rda\")\n",
    "load(\"data/meteorology.rda\")\n",
    "\n",
    "aq <- data_AQ %>%\n",
    "            filter(site %in% sites.lv,\n",
    "                   date < ymd(\"2020-01-01\")\n",
    "                  ) %>%\n",
    "            timeAverage(avg.time = \"day\", type=c(\"site\", \"variable\"))\n",
    "aq$date <- as_date(aq$date)\n",
    "\n",
    "mto <- data_Mto %>%\n",
    "            filter(site %in% sites.lv,\n",
    "                   date < ymd(\"2020-01-01\"))\n",
    "\n",
    "df <- merge(aq, mto,\n",
    "              by = c(\"date\", \"site\"), all.x=T) %>%\n",
    "        drop_na() %>%\n",
    "        mutate_if(is.factor, as.character) %>%\n",
    "        select(-date_end, -process, -summary, -validity)\n",
    "\n",
    "rm(data_AQ)\n",
    "rm(data_Mto)"
   ]
  },
  {
   "cell_type": "markdown",
   "metadata": {},
   "source": [
    "## PreProcess"
   ]
  },
  {
   "cell_type": "code",
   "execution_count": 6,
   "metadata": {},
   "outputs": [],
   "source": [
    "deseason <- function(cl) {\n",
    "    # Remove seasonal component of the additive time serie.\n",
    "    #     This function is called below by an apply\n",
    "    \n",
    "    dcomp <- decompose(ts(cl, frequency = 365))\n",
    "\n",
    "    cl - dcomp$seasonal\n",
    "}\n",
    "\n",
    "scale.df <- function(df, omit.cl) {\n",
    "    # Scale dataframe ignoring no numeric columns (omit.cl)\n",
    "    \n",
    "    df[, omit.cl] <- scale(df[, omit.cl])\n",
    "    df\n",
    "}"
   ]
  },
  {
   "cell_type": "markdown",
   "metadata": {},
   "source": [
    "## Cross-Validation"
   ]
  },
  {
   "cell_type": "code",
   "execution_count": 7,
   "metadata": {},
   "outputs": [],
   "source": [
    "leave.one.year.out <- function(yr, dat, omit.cl) { \n",
    "    # Do k-iteration of k-fold cv by pop yr data for test \n",
    "    #     and the rest for training\n",
    "    # @params: omit.cl: columns to omit in the regression\n",
    "    \n",
    "    test <- which(year(dat$date) == yr)\n",
    "    train <- which(year(dat$date) != yr)\n",
    "\n",
    "    if(length(test) == 0 | length(train) == 0) {\n",
    "        return\n",
    "    }\n",
    "\n",
    "    model <- train(value ~., \n",
    "                   data=dat[, omit.cl], subset=train,\n",
    "                   method=\"lm\"\n",
    "                  )\n",
    "\n",
    "    y.th <- predict(model, newdata=dat[test,])\n",
    "    \n",
    "    data.frame(\"bias\"=mean(y.th) / mean(dat[test,]$value),\n",
    "               \"var.ratio\"=var(y.th) / var(dat[test,]$value),\n",
    "               \"cor\"=cor(y.th, dat[test,]$value, method = \"pearson\")\n",
    "              )\n",
    "}"
   ]
  },
  {
   "cell_type": "code",
   "execution_count": 8,
   "metadata": {},
   "outputs": [],
   "source": [
    "years <- 2013:2019\n",
    "\n",
    "no.num.cl <- 1:3 # no numeric columns \n",
    "cv.df <- data.frame()\n",
    "\n",
    "# Create one model for each pair of station-pollutant\n",
    "for (st in sites.lv) {\n",
    "    data.st <- df[df$site == st,]\n",
    "    \n",
    "    for (pll in levels(as.factor(data.st$variable))) {\n",
    "        dat <- data.st[data.st$variable == pll, ]\n",
    "        \n",
    "        if (sum(!is.na(dat$date)) > (365*2)) {\n",
    "            # if there is enough data (more than 2 years), deseasonalized\n",
    "            dat <- cbind(dat[, no.num.cl],\n",
    "                         apply(dat[, -no.num.cl], 2, deseason))\n",
    "        }\n",
    "        \n",
    "        ds.dat <- scale.df(dat, -no.num.cl)\n",
    "        \n",
    "        cv.row <- do.call(rbind, lapply(years, leave.one.year.out,\n",
    "                                        ds.dat, -no.num.cl))\n",
    "\n",
    "        cv.df <- rbind(cv.df,\n",
    "                       cbind(data.frame(\"variable\"=pll,\n",
    "                                        \"site\"=st),\n",
    "                             rbind(colMeans(cv.row, na.rm=T)))\n",
    "                       )\n",
    "    }\n",
    "}"
   ]
  },
  {
   "cell_type": "code",
   "execution_count": 9,
   "metadata": {},
   "outputs": [
    {
     "data": {
      "text/html": [
       "<table>\n",
       "<caption>A data.frame: 14 × 5</caption>\n",
       "<thead>\n",
       "\t<tr><th scope=col>variable</th><th scope=col>site</th><th scope=col>bias</th><th scope=col>var.ratio</th><th scope=col>cor</th></tr>\n",
       "\t<tr><th scope=col>&lt;chr&gt;</th><th scope=col>&lt;chr&gt;</th><th scope=col>&lt;dbl&gt;</th><th scope=col>&lt;dbl&gt;</th><th scope=col>&lt;dbl&gt;</th></tr>\n",
       "</thead>\n",
       "<tbody>\n",
       "\t<tr><td>no   </td><td>es0118a</td><td> -0.14136644</td><td>0.2872377</td><td>0.5034979</td></tr>\n",
       "\t<tr><td>no2  </td><td>es0118a</td><td>  0.09571740</td><td>0.3945300</td><td>0.5538545</td></tr>\n",
       "\t<tr><td>o3   </td><td>es0118a</td><td> -0.26766466</td><td>0.2955504</td><td>0.5139946</td></tr>\n",
       "\t<tr><td>pm10 </td><td>es0118a</td><td>  0.32756411</td><td>0.2676025</td><td>0.4979025</td></tr>\n",
       "\t<tr><td>pm2.5</td><td>es0118a</td><td> -3.38374682</td><td>0.2814067</td><td>0.5133461</td></tr>\n",
       "\t<tr><td>no   </td><td>es1438a</td><td> -0.35775404</td><td>0.1892350</td><td>0.3992271</td></tr>\n",
       "\t<tr><td>no2  </td><td>es1438a</td><td> -0.02413955</td><td>0.2683977</td><td>0.5052044</td></tr>\n",
       "\t<tr><td>o3   </td><td>es1438a</td><td> -1.01859448</td><td>0.5414922</td><td>0.6516124</td></tr>\n",
       "\t<tr><td>no   </td><td>es1580a</td><td> -4.26339735</td><td>0.2474601</td><td>0.4518363</td></tr>\n",
       "\t<tr><td>no2  </td><td>es1580a</td><td> -0.33754416</td><td>0.2520739</td><td>0.4308230</td></tr>\n",
       "\t<tr><td>pm10 </td><td>es1580a</td><td> -0.61197524</td><td>0.2151793</td><td>0.4355526</td></tr>\n",
       "\t<tr><td>no   </td><td>es1340a</td><td>-22.15005290</td><td>0.2726897</td><td>0.4888702</td></tr>\n",
       "\t<tr><td>no2  </td><td>es1340a</td><td>  0.43456905</td><td>0.5492179</td><td>0.7011236</td></tr>\n",
       "\t<tr><td>pm10 </td><td>es1340a</td><td> -0.05437106</td><td>0.2205189</td><td>0.3591912</td></tr>\n",
       "</tbody>\n",
       "</table>\n"
      ],
      "text/latex": [
       "A data.frame: 14 × 5\n",
       "\\begin{tabular}{lllll}\n",
       " variable & site & bias & var.ratio & cor\\\\\n",
       " <chr> & <chr> & <dbl> & <dbl> & <dbl>\\\\\n",
       "\\hline\n",
       "\t no    & es0118a &  -0.14136644 & 0.2872377 & 0.5034979\\\\\n",
       "\t no2   & es0118a &   0.09571740 & 0.3945300 & 0.5538545\\\\\n",
       "\t o3    & es0118a &  -0.26766466 & 0.2955504 & 0.5139946\\\\\n",
       "\t pm10  & es0118a &   0.32756411 & 0.2676025 & 0.4979025\\\\\n",
       "\t pm2.5 & es0118a &  -3.38374682 & 0.2814067 & 0.5133461\\\\\n",
       "\t no    & es1438a &  -0.35775404 & 0.1892350 & 0.3992271\\\\\n",
       "\t no2   & es1438a &  -0.02413955 & 0.2683977 & 0.5052044\\\\\n",
       "\t o3    & es1438a &  -1.01859448 & 0.5414922 & 0.6516124\\\\\n",
       "\t no    & es1580a &  -4.26339735 & 0.2474601 & 0.4518363\\\\\n",
       "\t no2   & es1580a &  -0.33754416 & 0.2520739 & 0.4308230\\\\\n",
       "\t pm10  & es1580a &  -0.61197524 & 0.2151793 & 0.4355526\\\\\n",
       "\t no    & es1340a & -22.15005290 & 0.2726897 & 0.4888702\\\\\n",
       "\t no2   & es1340a &   0.43456905 & 0.5492179 & 0.7011236\\\\\n",
       "\t pm10  & es1340a &  -0.05437106 & 0.2205189 & 0.3591912\\\\\n",
       "\\end{tabular}\n"
      ],
      "text/markdown": [
       "\n",
       "A data.frame: 14 × 5\n",
       "\n",
       "| variable &lt;chr&gt; | site &lt;chr&gt; | bias &lt;dbl&gt; | var.ratio &lt;dbl&gt; | cor &lt;dbl&gt; |\n",
       "|---|---|---|---|---|\n",
       "| no    | es0118a |  -0.14136644 | 0.2872377 | 0.5034979 |\n",
       "| no2   | es0118a |   0.09571740 | 0.3945300 | 0.5538545 |\n",
       "| o3    | es0118a |  -0.26766466 | 0.2955504 | 0.5139946 |\n",
       "| pm10  | es0118a |   0.32756411 | 0.2676025 | 0.4979025 |\n",
       "| pm2.5 | es0118a |  -3.38374682 | 0.2814067 | 0.5133461 |\n",
       "| no    | es1438a |  -0.35775404 | 0.1892350 | 0.3992271 |\n",
       "| no2   | es1438a |  -0.02413955 | 0.2683977 | 0.5052044 |\n",
       "| o3    | es1438a |  -1.01859448 | 0.5414922 | 0.6516124 |\n",
       "| no    | es1580a |  -4.26339735 | 0.2474601 | 0.4518363 |\n",
       "| no2   | es1580a |  -0.33754416 | 0.2520739 | 0.4308230 |\n",
       "| pm10  | es1580a |  -0.61197524 | 0.2151793 | 0.4355526 |\n",
       "| no    | es1340a | -22.15005290 | 0.2726897 | 0.4888702 |\n",
       "| no2   | es1340a |   0.43456905 | 0.5492179 | 0.7011236 |\n",
       "| pm10  | es1340a |  -0.05437106 | 0.2205189 | 0.3591912 |\n",
       "\n"
      ],
      "text/plain": [
       "   variable site    bias         var.ratio cor      \n",
       "1  no       es0118a  -0.14136644 0.2872377 0.5034979\n",
       "2  no2      es0118a   0.09571740 0.3945300 0.5538545\n",
       "3  o3       es0118a  -0.26766466 0.2955504 0.5139946\n",
       "4  pm10     es0118a   0.32756411 0.2676025 0.4979025\n",
       "5  pm2.5    es0118a  -3.38374682 0.2814067 0.5133461\n",
       "6  no       es1438a  -0.35775404 0.1892350 0.3992271\n",
       "7  no2      es1438a  -0.02413955 0.2683977 0.5052044\n",
       "8  o3       es1438a  -1.01859448 0.5414922 0.6516124\n",
       "9  no       es1580a  -4.26339735 0.2474601 0.4518363\n",
       "10 no2      es1580a  -0.33754416 0.2520739 0.4308230\n",
       "11 pm10     es1580a  -0.61197524 0.2151793 0.4355526\n",
       "12 no       es1340a -22.15005290 0.2726897 0.4888702\n",
       "13 no2      es1340a   0.43456905 0.5492179 0.7011236\n",
       "14 pm10     es1340a  -0.05437106 0.2205189 0.3591912"
      ]
     },
     "metadata": {},
     "output_type": "display_data"
    }
   ],
   "source": [
    "cv.df"
   ]
  },
  {
   "cell_type": "code",
   "execution_count": 10,
   "metadata": {},
   "outputs": [
    {
     "name": "stdout",
     "output_type": "stream",
     "text": [
      "\u001b[90m# A tibble: 5 x 4\u001b[39m\n",
      "  variable var.ratio    bias   cor\n",
      "\u001b[90m*\u001b[39m \u001b[3m\u001b[90m<chr>\u001b[39m\u001b[23m        \u001b[3m\u001b[90m<dbl>\u001b[39m\u001b[23m   \u001b[3m\u001b[90m<dbl>\u001b[39m\u001b[23m \u001b[3m\u001b[90m<dbl>\u001b[39m\u001b[23m\n",
      "\u001b[90m1\u001b[39m no           0.249 -\u001b[31m6\u001b[39m\u001b[31m.\u001b[39m\u001b[31m73\u001b[39m   0.461\n",
      "\u001b[90m2\u001b[39m no2          0.366  0.042\u001b[4m2\u001b[24m 0.548\n",
      "\u001b[90m3\u001b[39m o3           0.419 -\u001b[31m0\u001b[39m\u001b[31m.\u001b[39m\u001b[31m643\u001b[39m  0.583\n",
      "\u001b[90m4\u001b[39m pm10         0.234 -\u001b[31m0\u001b[39m\u001b[31m.\u001b[39m\u001b[31m113\u001b[39m  0.431\n",
      "\u001b[90m5\u001b[39m pm2.5        0.281 -\u001b[31m3\u001b[39m\u001b[31m.\u001b[39m\u001b[31m38\u001b[39m   0.513\n"
     ]
    }
   ],
   "source": [
    "mean.cv.df <- cv.df %>%\n",
    "                group_by(variable) %>%\n",
    "                summarise(var.ratio=mean(var.ratio),\n",
    "                          bias=mean(bias),\n",
    "                          cor=mean(cor)\n",
    "                         ) %>%\n",
    "                print()"
   ]
  },
  {
   "cell_type": "code",
   "execution_count": 11,
   "metadata": {},
   "outputs": [
    {
     "data": {
      "image/png": "[encoded data removed]",
      "text/plain": [
       "plot without title"
      ]
     },
     "metadata": {
      "image/png": {
       "height": 600,
       "width": 1500
      }
     },
     "output_type": "display_data"
    }
   ],
   "source": [
    "pivot.cv.df <- cv.df %>%\n",
    "        pivot_longer(cols = c(3:ncol(cv.df)), \n",
    "                     names_to = \"Error\", values_to = \"Err.Val\")\n",
    "\n",
    "ggplot(data=pivot.cv.df, aes(x=Error, y=Err.Val, fill=Error)) +\n",
    "        geom_boxplot() + \n",
    "        facet_wrap(~variable, scales = \"free_y\")"
   ]
  },
  {
   "cell_type": "code",
   "execution_count": null,
   "metadata": {},
   "outputs": [],
   "source": []
  }
 ],
 "metadata": {
  "kernelspec": {
   "display_name": "R",
   "language": "R",
   "name": "ir"
  },
  "language_info": {
   "codemirror_mode": "r",
   "file_extension": ".r",
   "mimetype": "text/x-r-source",
   "name": "R",
   "pygments_lexer": "r",
   "version": "4.0.4"
  }
 },
 "nbformat": 4,
 "nbformat_minor": 4
}
