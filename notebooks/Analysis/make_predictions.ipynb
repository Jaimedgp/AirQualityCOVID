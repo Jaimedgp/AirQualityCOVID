{
 "cells": [
  {
   "cell_type": "code",
   "execution_count": 1,
   "metadata": {},
   "outputs": [],
   "source": [
    "suppressMessages(library(tidyverse))\n",
    "suppressMessages(library(caret))"
   ]
  },
  {
   "cell_type": "code",
   "execution_count": 2,
   "metadata": {},
   "outputs": [],
   "source": [
    "setwd(\"~/Repositories/AirQualityCOVID/\")\n",
    "\n",
    "source(\"src/Cross-validation/preprocess.R\")"
   ]
  },
  {
   "cell_type": "code",
   "execution_count": 3,
   "metadata": {},
   "outputs": [],
   "source": [
    "pairs <- read.csv(\"data/Curation/checked_AQ.csv\") %>%\n",
    "            select(site, Pollutant) %>%\n",
    "            filter(site != \"es1573a\") %>%\n",
    "            mutate(names=paste(site, Pollutant, sep=\"-\"))"
   ]
  },
  {
   "cell_type": "code",
   "execution_count": 4,
   "metadata": {},
   "outputs": [],
   "source": [
    "data.df <- open.data(pairs[,1],\n",
    "                     aq.file = \"data/all/data_AQ.rda\",\n",
    "                     meteo.file = \"data/all/meteorology.rda\") %>%\n",
    "                add.yesterday.meteo(n.days = 3) %>%\n",
    "                filter(site != \"es1573a\")\n",
    "\n",
    "train.df <- data.df %>%\n",
    "                filter(date < lubridate::ymd(\"2020-01-01\"))\n",
    "to.predict.df <- data.df %>%\n",
    "                filter(date >= lubridate::ymd(\"2020-01-01\"))"
   ]
  },
  {
   "cell_type": "code",
   "execution_count": 5,
   "metadata": {},
   "outputs": [],
   "source": [
    "allmodel <- vector(mode=\"list\", length=nrow(pairs))\n",
    "names(allmodel) <- pairs$names"
   ]
  },
  {
   "cell_type": "code",
   "execution_count": 6,
   "metadata": {},
   "outputs": [],
   "source": [
    "predictions <- data.frame()\n",
    "\n",
    "for (i in 1:nrow(pairs)) {\n",
    "    slice.train <- train.df %>%\n",
    "                    filter(site == pairs[i, 1],\n",
    "                           variable == pairs[i, 2]) %>%\n",
    "                    filter.IQR(columns = \"value\", n = 5) %>%\n",
    "                    select(-date, -site, -variable) %>%\n",
    "                    na.omit\n",
    "    \n",
    "    model <- lm(value ~ ., data=slice.train, na.action=na.omit)\n",
    "    \n",
    "    slice.to.predict <- to.predict.df %>%\n",
    "                            filter(site == pairs[i, 1],\n",
    "                                   variable == pairs[i, 2])\n",
    "    \n",
    "    pred <- predict(model, newdata = slice.to.predict)\n",
    "    \n",
    "    predictions <- rbind(predictions,\n",
    "                         data.frame(site=pairs[i, 1],\n",
    "                                    variable=pairs[i, 2],\n",
    "                                    date=slice.to.predict$date,\n",
    "                                    obs=slice.to.predict$value,\n",
    "                                    pred=pred\n",
    "                                   ))\n",
    "}"
   ]
  },
  {
   "cell_type": "code",
   "execution_count": 7,
   "metadata": {},
   "outputs": [],
   "source": [
    "write.csv(predictions, \n",
    "          \"data/Results/predictions.csv\", \n",
    "          row.names=F)"
   ]
  }
 ],
 "metadata": {
  "kernelspec": {
   "display_name": "R",
   "language": "R",
   "name": "ir"
  },
  "language_info": {
   "codemirror_mode": "r",
   "file_extension": ".r",
   "mimetype": "text/x-r-source",
   "name": "R",
   "pygments_lexer": "r",
   "version": "3.6.3"
  }
 },
 "nbformat": 4,
 "nbformat_minor": 4
}
