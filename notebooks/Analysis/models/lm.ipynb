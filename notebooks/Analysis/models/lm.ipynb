{
 "cells": [
  {
   "cell_type": "code",
   "execution_count": 1,
   "metadata": {},
   "outputs": [],
   "source": [
    "suppressMessages(library(tidyverse))\n",
    "suppressMessages(library(caret))"
   ]
  },
  {
   "cell_type": "code",
   "execution_count": 2,
   "metadata": {},
   "outputs": [],
   "source": [
    "setwd(\"~/Repositories/AirQualityCOVID/\")\n",
    "\n",
    "source(\"src/Cross-validation/useData.R\")\n",
    "source(\"src/Cross-validation/preProcess.R\")"
   ]
  },
  {
   "cell_type": "code",
   "execution_count": 3,
   "metadata": {},
   "outputs": [],
   "source": [
    "variable <- \"pm2.5\"\n",
    "method <- \"lm\""
   ]
  },
  {
   "cell_type": "code",
   "execution_count": 4,
   "metadata": {},
   "outputs": [],
   "source": [
    "sites.lv <- read.csv(\"data/Curation/checked_AQ.csv\") %>%\n",
    "            filter(Pollutant == variable) "
   ]
  },
  {
   "cell_type": "code",
   "execution_count": 5,
   "metadata": {},
   "outputs": [],
   "source": [
    "train.df <- open.data(sites = sites.lv$site, \n",
    "                      variable = c(variable),\n",
    "                      start_dt = lubridate::ymd(\"2013-01-01\"), \n",
    "                      end_dt = lubridate::ymd(\"2020-01-01\"),\n",
    "                      airQuality.fl = \"data/all/data_AQ.rda\", \n",
    "                      meteo.fl = \"data/all/meteorology.rda\"\n",
    "                     )\n",
    "\n",
    "test.df <- open.data(sites = sites.lv$site, \n",
    "                     variable = c(variable),\n",
    "                     start_dt = lubridate::ymd(\"2019-12-31\"), \n",
    "                     #end_dt = lubridate::ymd(\"2021-01-01\"),\n",
    "                     airQuality.fl = \"data/all/data_AQ.rda\", \n",
    "                     meteo.fl = \"data/all/meteorology.rda\"\n",
    "                    )"
   ]
  },
  {
   "cell_type": "code",
   "execution_count": 6,
   "metadata": {},
   "outputs": [],
   "source": [
    "results <- data.frame()\n",
    "\n",
    "for (nm in names(train.df)) {\n",
    "    df.train <- train.df[[nm]] %>%\n",
    "            filter(pm2.5 > 0) %>%\n",
    "            filter.IQR(columns=variable, n=5) %>%\n",
    "            add.yesterday.meteo(n.days=3) %>%\n",
    "            na.omit() %>%\n",
    "            select(-date)\n",
    "    \n",
    "    df.test <- test.df[[nm]] %>%\n",
    "            filter(pm2.5 > 0) %>%\n",
    "            add.yesterday.meteo(n.days=3) %>%\n",
    "            na.omit() \n",
    "    \n",
    "    if (nrow(df.train) == 0) {\n",
    "        next()\n",
    "    }\n",
    "    \n",
    "    model <- train(pm2.5 ~.,\n",
    "               data=df.train,\n",
    "               method=\"lm\"\n",
    "              )\n",
    "    pred <- predict(model, \n",
    "                    newdata = df.test %>% select(-date, -pm2.5))\n",
    "    \n",
    "    pred.qq <- downscaleR:::eqm(df.train$pm2.5,\n",
    "                             predict(model),\n",
    "                             pred,\n",
    "                             n.quantile=99,\n",
    "                             precip=FALSE, pr.threshold=0,\n",
    "                             extrapolation=\"\"\n",
    "                            )\n",
    "    results <- rbind(results,\n",
    "                     data.frame(site = nm,\n",
    "                                date = df.test$date,\n",
    "                                obs = df.test$pm2.5,\n",
    "                                pred.qq = pred.qq\n",
    "                               ))\n",
    "}"
   ]
  },
  {
   "cell_type": "code",
   "execution_count": 7,
   "metadata": {},
   "outputs": [],
   "source": [
    "save(results, \n",
    "     file=paste(\"data/Analysis/predictions-\", method, \n",
    "           \"-\", variable, \".rda\", sep=\"\"))"
   ]
  }
 ],
 "metadata": {
  "kernelspec": {
   "display_name": "R",
   "language": "R",
   "name": "ir"
  },
  "language_info": {
   "codemirror_mode": "r",
   "file_extension": ".r",
   "mimetype": "text/x-r-source",
   "name": "R",
   "pygments_lexer": "r",
   "version": "4.0.5"
  }
 },
 "nbformat": 4,
 "nbformat_minor": 4
}
