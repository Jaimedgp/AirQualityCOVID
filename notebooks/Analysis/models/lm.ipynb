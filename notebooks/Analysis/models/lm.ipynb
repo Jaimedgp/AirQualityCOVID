{
 "cells": [
  {
   "cell_type": "code",
   "execution_count": 1,
   "metadata": {},
   "outputs": [
    {
     "name": "stderr",
     "output_type": "stream",
     "text": [
      "── \u001b[1mAttaching packages\u001b[22m ───────────────────────────────────────────────────────────────────── tidyverse 1.3.0 ──\n",
      "\n",
      "\u001b[32m✔\u001b[39m \u001b[34mggplot2\u001b[39m 3.3.3     \u001b[32m✔\u001b[39m \u001b[34mpurrr  \u001b[39m 0.3.4\n",
      "\u001b[32m✔\u001b[39m \u001b[34mtibble \u001b[39m 3.1.0     \u001b[32m✔\u001b[39m \u001b[34mdplyr  \u001b[39m 1.0.5\n",
      "\u001b[32m✔\u001b[39m \u001b[34mtidyr  \u001b[39m 1.1.3     \u001b[32m✔\u001b[39m \u001b[34mstringr\u001b[39m 1.4.0\n",
      "\u001b[32m✔\u001b[39m \u001b[34mreadr  \u001b[39m 1.4.0     \u001b[32m✔\u001b[39m \u001b[34mforcats\u001b[39m 0.5.0\n",
      "\n",
      "── \u001b[1mConflicts\u001b[22m ──────────────────────────────────────────────────────────────────────── tidyverse_conflicts() ──\n",
      "\u001b[31m✖\u001b[39m \u001b[34mdplyr\u001b[39m::\u001b[32mfilter()\u001b[39m masks \u001b[34mstats\u001b[39m::filter()\n",
      "\u001b[31m✖\u001b[39m \u001b[34mdplyr\u001b[39m::\u001b[32mlag()\u001b[39m    masks \u001b[34mstats\u001b[39m::lag()\n",
      "\n",
      "Loading required package: lattice\n",
      "\n",
      "\n",
      "Attaching package: ‘caret’\n",
      "\n",
      "\n",
      "The following object is masked from ‘package:purrr’:\n",
      "\n",
      "    lift\n",
      "\n",
      "\n"
     ]
    }
   ],
   "source": [
    "library(tidyverse)\n",
    "library(caret)"
   ]
  },
  {
   "cell_type": "code",
   "execution_count": 2,
   "metadata": {},
   "outputs": [],
   "source": [
    "setwd(\"~/Repositories/AirQualityCOVID/\")\n",
    "\n",
    "source(\"src/Cross-validation/useData.R\")"
   ]
  },
  {
   "cell_type": "code",
   "execution_count": 3,
   "metadata": {},
   "outputs": [],
   "source": [
    "sites.lv <- read.csv(\"data/Curation/checked_AQ.csv\") %>%\n",
    "            filter(#Municipio %in% c(\"Madrid\", \"Gijón\"),\n",
    "                   Pollutant == \"o3\") "
   ]
  },
  {
   "cell_type": "code",
   "execution_count": 4,
   "metadata": {},
   "outputs": [],
   "source": [
    "train.df <- open.data(sites = sites.lv$site, \n",
    "                      variable = c(\"o3\"),\n",
    "                      start_dt = lubridate::ymd(\"2013-01-01\"), \n",
    "                      end_dt = lubridate::ymd(\"2020-01-01\"),\n",
    "                      airQuality.fl = \"data/all/data_AQ.rda\", \n",
    "                      meteo.fl = \"data/all/meteorology.rda\"\n",
    "                     )"
   ]
  },
  {
   "cell_type": "code",
   "execution_count": 5,
   "metadata": {},
   "outputs": [],
   "source": [
    "test.df <- open.data(sites = sites.lv$site, \n",
    "                     variable = c(\"o3\"),\n",
    "                     start_dt = lubridate::ymd(\"2019-12-31\"), \n",
    "                     end_dt = lubridate::ymd(\"2021-01-01\"),\n",
    "                     airQuality.fl = \"data/all/data_AQ.rda\", \n",
    "                     meteo.fl = \"data/all/meteorology.rda\"\n",
    "                    )"
   ]
  },
  {
   "cell_type": "code",
   "execution_count": 6,
   "metadata": {},
   "outputs": [],
   "source": [
    "results <- data.frame()\n",
    "\n",
    "for (nm in names(train.df)) {\n",
    "    df.train <- train.df[[nm]] %>%\n",
    "            add.yesterday.meteo(n.days=2) %>%\n",
    "            na.omit() %>%\n",
    "            select(-date)\n",
    "    \n",
    "    df.test <- test.df[[nm]] %>%\n",
    "            add.yesterday.meteo(n.days=2) %>%\n",
    "            na.omit()\n",
    "    \n",
    "    if (nrow(df.train) == 0) {\n",
    "        next()\n",
    "    }\n",
    "    \n",
    "    model <- train(o3 ~.,\n",
    "               data=df.train,\n",
    "               method=\"lm\"\n",
    "              )\n",
    "    \n",
    "    pred <- downscaleR:::eqm(df.train$o3,\n",
    "                             predict(model),\n",
    "                             predict(model, \n",
    "                                     newdata = df.test),\n",
    "                             n.quantile=99,\n",
    "                             precip=FALSE, pr.threshold=0,\n",
    "                             extrapolation=\"\"\n",
    "                            )\n",
    "    results <- rbind(results,\n",
    "                     data.frame(site = nm,\n",
    "                                date = df.test$date,\n",
    "                                obs = df.test$o3,\n",
    "                                pred = pred\n",
    "                               ))\n",
    "}"
   ]
  },
  {
   "cell_type": "code",
   "execution_count": 7,
   "metadata": {},
   "outputs": [],
   "source": [
    "results$diff <- 100 *(results$obs - results$pred) / results$pred"
   ]
  },
  {
   "cell_type": "code",
   "execution_count": 8,
   "metadata": {},
   "outputs": [
    {
     "data": {
      "text/html": [
       "<table>\n",
       "<caption>A data.frame: 6 × 5</caption>\n",
       "<thead>\n",
       "\t<tr><th></th><th scope=col>site</th><th scope=col>date</th><th scope=col>obs</th><th scope=col>pred</th><th scope=col>diff</th></tr>\n",
       "\t<tr><th></th><th scope=col>&lt;chr&gt;</th><th scope=col>&lt;date&gt;</th><th scope=col>&lt;dbl&gt;</th><th scope=col>&lt;dbl&gt;</th><th scope=col>&lt;dbl&gt;</th></tr>\n",
       "</thead>\n",
       "<tbody>\n",
       "\t<tr><th scope=row>1</th><td>es0118a</td><td>2020-01-01</td><td> 5.266250</td><td> 8.064861</td><td>-34.70129</td></tr>\n",
       "\t<tr><th scope=row>2</th><td>es0118a</td><td>2020-01-02</td><td> 4.294583</td><td>10.435778</td><td>-58.84750</td></tr>\n",
       "\t<tr><th scope=row>3</th><td>es0118a</td><td>2020-01-03</td><td> 1.887500</td><td>13.732020</td><td>-86.25475</td></tr>\n",
       "\t<tr><th scope=row>4</th><td>es0118a</td><td>2020-01-04</td><td>25.960000</td><td>13.684595</td><td> 89.70236</td></tr>\n",
       "\t<tr><th scope=row>5</th><td>es0118a</td><td>2020-01-05</td><td>19.327083</td><td>10.959504</td><td> 76.34998</td></tr>\n",
       "\t<tr><th scope=row>6</th><td>es0118a</td><td>2020-01-06</td><td>11.130833</td><td> 9.711151</td><td> 14.61910</td></tr>\n",
       "</tbody>\n",
       "</table>\n"
      ],
      "text/latex": [
       "A data.frame: 6 × 5\n",
       "\\begin{tabular}{r|lllll}\n",
       "  & site & date & obs & pred & diff\\\\\n",
       "  & <chr> & <date> & <dbl> & <dbl> & <dbl>\\\\\n",
       "\\hline\n",
       "\t1 & es0118a & 2020-01-01 &  5.266250 &  8.064861 & -34.70129\\\\\n",
       "\t2 & es0118a & 2020-01-02 &  4.294583 & 10.435778 & -58.84750\\\\\n",
       "\t3 & es0118a & 2020-01-03 &  1.887500 & 13.732020 & -86.25475\\\\\n",
       "\t4 & es0118a & 2020-01-04 & 25.960000 & 13.684595 &  89.70236\\\\\n",
       "\t5 & es0118a & 2020-01-05 & 19.327083 & 10.959504 &  76.34998\\\\\n",
       "\t6 & es0118a & 2020-01-06 & 11.130833 &  9.711151 &  14.61910\\\\\n",
       "\\end{tabular}\n"
      ],
      "text/markdown": [
       "\n",
       "A data.frame: 6 × 5\n",
       "\n",
       "| <!--/--> | site &lt;chr&gt; | date &lt;date&gt; | obs &lt;dbl&gt; | pred &lt;dbl&gt; | diff &lt;dbl&gt; |\n",
       "|---|---|---|---|---|---|\n",
       "| 1 | es0118a | 2020-01-01 |  5.266250 |  8.064861 | -34.70129 |\n",
       "| 2 | es0118a | 2020-01-02 |  4.294583 | 10.435778 | -58.84750 |\n",
       "| 3 | es0118a | 2020-01-03 |  1.887500 | 13.732020 | -86.25475 |\n",
       "| 4 | es0118a | 2020-01-04 | 25.960000 | 13.684595 |  89.70236 |\n",
       "| 5 | es0118a | 2020-01-05 | 19.327083 | 10.959504 |  76.34998 |\n",
       "| 6 | es0118a | 2020-01-06 | 11.130833 |  9.711151 |  14.61910 |\n",
       "\n"
      ],
      "text/plain": [
       "  site    date       obs       pred      diff     \n",
       "1 es0118a 2020-01-01  5.266250  8.064861 -34.70129\n",
       "2 es0118a 2020-01-02  4.294583 10.435778 -58.84750\n",
       "3 es0118a 2020-01-03  1.887500 13.732020 -86.25475\n",
       "4 es0118a 2020-01-04 25.960000 13.684595  89.70236\n",
       "5 es0118a 2020-01-05 19.327083 10.959504  76.34998\n",
       "6 es0118a 2020-01-06 11.130833  9.711151  14.61910"
      ]
     },
     "metadata": {},
     "output_type": "display_data"
    }
   ],
   "source": [
    "head(results)"
   ]
  },
  {
   "cell_type": "code",
   "execution_count": 10,
   "metadata": {},
   "outputs": [],
   "source": [
    "write.csv(results, \n",
    "          paste(\"data/Analysis/predictions-\", \"lm\", \"-o3\", \".csv\", sep=\"\"))"
   ]
  }
 ],
 "metadata": {
  "kernelspec": {
   "display_name": "R",
   "language": "R",
   "name": "ir"
  },
  "language_info": {
   "codemirror_mode": "r",
   "file_extension": ".r",
   "mimetype": "text/x-r-source",
   "name": "R",
   "pygments_lexer": "r",
   "version": "4.0.5"
  }
 },
 "nbformat": 4,
 "nbformat_minor": 4
}
