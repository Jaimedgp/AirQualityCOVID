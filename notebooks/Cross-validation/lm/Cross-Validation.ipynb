{
 "cells": [
  {
   "cell_type": "markdown",
   "metadata": {},
   "source": [
    "# Cross-Validation of `lm` model\n",
    "\n",
    "Make a k-fold cross-validation using natural years. _Leave-one-(natural year)-out_"
   ]
  },
  {
   "cell_type": "code",
   "execution_count": 1,
   "metadata": {},
   "outputs": [],
   "source": [
    "# Load packages\n",
    "suppressMessages(library(lubridate))\n",
    "suppressMessages(library(tidyverse))\n",
    "suppressMessages(library(openair))\n",
    "\n",
    "suppressMessages(library(caret))\n",
    "suppressMessages(library(BBmisc))\n",
    "\n",
    "suppressMessages(library(gridExtra))"
   ]
  },
  {
   "cell_type": "code",
   "execution_count": 2,
   "metadata": {},
   "outputs": [],
   "source": [
    "suppressMessages(library(repr))\n",
    "options(repr.plot.width=25,\n",
    "        repr.plot.height=10,\n",
    "        #repr.plot.pointsize=50,\n",
    "        repr.plot.family='serif'\n",
    "       )"
   ]
  },
  {
   "cell_type": "code",
   "execution_count": 3,
   "metadata": {},
   "outputs": [],
   "source": [
    "# Working directory\n",
    "setwd(\"~/Repositories/AirQualityCOVID\")"
   ]
  },
  {
   "cell_type": "markdown",
   "metadata": {},
   "source": [
    "## Representative sample "
   ]
  },
  {
   "cell_type": "code",
   "execution_count": 4,
   "metadata": {},
   "outputs": [],
   "source": [
    "sites.lv <- c(\"es0118a\", \"es1438a\") # Big cities (Madrid and Barcelona)\",\n",
    "sites.lv <- c(sites.lv, \"es1580a\", \"es1340a\") # small cities (Santander and Huelva)\n",
    "\n",
    "save <- FALSE"
   ]
  },
  {
   "cell_type": "markdown",
   "metadata": {},
   "source": [
    "## DataFrame Creation"
   ]
  },
  {
   "cell_type": "code",
   "execution_count": 5,
   "metadata": {},
   "outputs": [],
   "source": [
    "require(tidyverse)"
   ]
  },
  {
   "cell_type": "code",
   "execution_count": 8,
   "metadata": {},
   "outputs": [],
   "source": [
    "# Create dataSet\n",
    "load(\"data/all/data_AQ.rda\")\n",
    "load(\"data/all/meteorology.rda\")\n",
    "\n",
    "aq <- data_AQ %>%\n",
    "            filter(site %in% sites.lv,\n",
    "                   date < lubridate::ymd(\"2020-01-01\")\n",
    "                  ) %>%\n",
    "            pivot_wider(names_from = variable, values_from = value) %>%\n",
    "            openair::timeAverage(avg.time = \"day\", type=c(\"site\")) %>%\n",
    "            mutate(date = lubridate::as_date(date))\n",
    "\n",
    "aq[is.na(aq)] <- NA\n",
    "\n",
    "mto <- data_Mto %>%\n",
    "            filter(site %in% sites.lv,\n",
    "                   date < lubridate::ymd(\"2020-01-01\"))\n",
    "\n",
    "df <- merge(aq, mto,\n",
    "              by = c(\"date\", \"site\"), all.x=T) %>%\n",
    "        #drop_na() %>%\n",
    "        mutate_if(is.factor, as.character)\n",
    "\n",
    "rm(data_AQ)\n",
    "rm(data_Mto)"
   ]
  },
  {
   "cell_type": "code",
   "execution_count": 9,
   "metadata": {},
   "outputs": [
    {
     "data": {
      "text/html": [
       "<table>\n",
       "<caption>A data.frame: 6 × 17</caption>\n",
       "<thead>\n",
       "\t<tr><th></th><th scope=col>date</th><th scope=col>site</th><th scope=col>no</th><th scope=col>no2</th><th scope=col>o3</th><th scope=col>pm10</th><th scope=col>pm2.5</th><th scope=col>ws</th><th scope=col>wd</th><th scope=col>tmed</th><th scope=col>prec</th><th scope=col>tmin</th><th scope=col>tmax</th><th scope=col>presMax</th><th scope=col>presMin</th><th scope=col>RH</th><th scope=col>solar.radiation</th></tr>\n",
       "\t<tr><th></th><th scope=col>&lt;date&gt;</th><th scope=col>&lt;chr&gt;</th><th scope=col>&lt;dbl&gt;</th><th scope=col>&lt;dbl&gt;</th><th scope=col>&lt;dbl&gt;</th><th scope=col>&lt;dbl&gt;</th><th scope=col>&lt;dbl&gt;</th><th scope=col>&lt;dbl&gt;</th><th scope=col>&lt;dbl&gt;</th><th scope=col>&lt;dbl&gt;</th><th scope=col>&lt;dbl&gt;</th><th scope=col>&lt;dbl&gt;</th><th scope=col>&lt;dbl&gt;</th><th scope=col>&lt;dbl&gt;</th><th scope=col>&lt;dbl&gt;</th><th scope=col>&lt;dbl&gt;</th><th scope=col>&lt;dbl&gt;</th></tr>\n",
       "</thead>\n",
       "<tbody>\n",
       "\t<tr><th scope=row>1</th><td>2013-01-01</td><td>es0118a</td><td> 33.125000</td><td>41.95833</td><td>18.20833</td><td> 8.833333</td><td>10.83333</td><td>0.8571429</td><td>225.2949</td><td> 6.4</td><td>0.00</td><td> 3.4</td><td> 9.4</td><td> 945.9</td><td> 940.2</td><td>80.65828</td><td> 58.83178</td></tr>\n",
       "\t<tr><th scope=row>2</th><td>2013-01-01</td><td>es1340a</td><td>  4.708333</td><td>26.04167</td><td>      NA</td><td>       NA</td><td>      NA</td><td>       NA</td><td>      NA</td><td>12.6</td><td>0.00</td><td> 9.1</td><td>16.0</td><td>1023.5</td><td>1017.7</td><td>81.26930</td><td>113.25568</td></tr>\n",
       "\t<tr><th scope=row>3</th><td>2013-01-01</td><td>es1438a</td><td> 31.208333</td><td>50.29167</td><td>23.16667</td><td>       NA</td><td>      NA</td><td>3.7791667</td><td>336.1693</td><td> 7.2</td><td>0.05</td><td> 5.3</td><td> 9.0</td><td> 969.5</td><td> 965.6</td><td>77.62205</td><td> 93.89947</td></tr>\n",
       "\t<tr><th scope=row>4</th><td>2013-01-01</td><td>es1580a</td><td>  3.708333</td><td>14.91667</td><td>      NA</td><td>21.125000</td><td>      NA</td><td>8.3500000</td><td>286.6196</td><td>11.6</td><td>6.20</td><td>10.8</td><td>12.3</td><td>1019.9</td><td>1008.0</td><td>88.11917</td><td> 78.56742</td></tr>\n",
       "\t<tr><th scope=row>5</th><td>2013-01-02</td><td>es0118a</td><td>101.000000</td><td>59.91667</td><td>15.25000</td><td>11.125000</td><td>13.25000</td><td>0.9321429</td><td>355.5002</td><td> 5.8</td><td>0.00</td><td> 0.7</td><td>10.8</td><td> 950.3</td><td> 945.9</td><td>75.60469</td><td> 71.71485</td></tr>\n",
       "\t<tr><th scope=row>6</th><td>2013-01-02</td><td>es1340a</td><td> 21.500000</td><td>26.83333</td><td>      NA</td><td>       NA</td><td>      NA</td><td>       NA</td><td>      NA</td><td>11.3</td><td>0.00</td><td> 5.1</td><td>17.5</td><td>1026.0</td><td>1023.0</td><td>74.36909</td><td>104.70722</td></tr>\n",
       "</tbody>\n",
       "</table>\n"
      ],
      "text/latex": [
       "A data.frame: 6 × 17\n",
       "\\begin{tabular}{r|lllllllllllllllll}\n",
       "  & date & site & no & no2 & o3 & pm10 & pm2.5 & ws & wd & tmed & prec & tmin & tmax & presMax & presMin & RH & solar.radiation\\\\\n",
       "  & <date> & <chr> & <dbl> & <dbl> & <dbl> & <dbl> & <dbl> & <dbl> & <dbl> & <dbl> & <dbl> & <dbl> & <dbl> & <dbl> & <dbl> & <dbl> & <dbl>\\\\\n",
       "\\hline\n",
       "\t1 & 2013-01-01 & es0118a &  33.125000 & 41.95833 & 18.20833 &  8.833333 & 10.83333 & 0.8571429 & 225.2949 &  6.4 & 0.00 &  3.4 &  9.4 &  945.9 &  940.2 & 80.65828 &  58.83178\\\\\n",
       "\t2 & 2013-01-01 & es1340a &   4.708333 & 26.04167 &       NA &        NA &       NA &        NA &       NA & 12.6 & 0.00 &  9.1 & 16.0 & 1023.5 & 1017.7 & 81.26930 & 113.25568\\\\\n",
       "\t3 & 2013-01-01 & es1438a &  31.208333 & 50.29167 & 23.16667 &        NA &       NA & 3.7791667 & 336.1693 &  7.2 & 0.05 &  5.3 &  9.0 &  969.5 &  965.6 & 77.62205 &  93.89947\\\\\n",
       "\t4 & 2013-01-01 & es1580a &   3.708333 & 14.91667 &       NA & 21.125000 &       NA & 8.3500000 & 286.6196 & 11.6 & 6.20 & 10.8 & 12.3 & 1019.9 & 1008.0 & 88.11917 &  78.56742\\\\\n",
       "\t5 & 2013-01-02 & es0118a & 101.000000 & 59.91667 & 15.25000 & 11.125000 & 13.25000 & 0.9321429 & 355.5002 &  5.8 & 0.00 &  0.7 & 10.8 &  950.3 &  945.9 & 75.60469 &  71.71485\\\\\n",
       "\t6 & 2013-01-02 & es1340a &  21.500000 & 26.83333 &       NA &        NA &       NA &        NA &       NA & 11.3 & 0.00 &  5.1 & 17.5 & 1026.0 & 1023.0 & 74.36909 & 104.70722\\\\\n",
       "\\end{tabular}\n"
      ],
      "text/markdown": [
       "\n",
       "A data.frame: 6 × 17\n",
       "\n",
       "| <!--/--> | date &lt;date&gt; | site &lt;chr&gt; | no &lt;dbl&gt; | no2 &lt;dbl&gt; | o3 &lt;dbl&gt; | pm10 &lt;dbl&gt; | pm2.5 &lt;dbl&gt; | ws &lt;dbl&gt; | wd &lt;dbl&gt; | tmed &lt;dbl&gt; | prec &lt;dbl&gt; | tmin &lt;dbl&gt; | tmax &lt;dbl&gt; | presMax &lt;dbl&gt; | presMin &lt;dbl&gt; | RH &lt;dbl&gt; | solar.radiation &lt;dbl&gt; |\n",
       "|---|---|---|---|---|---|---|---|---|---|---|---|---|---|---|---|---|---|\n",
       "| 1 | 2013-01-01 | es0118a |  33.125000 | 41.95833 | 18.20833 |  8.833333 | 10.83333 | 0.8571429 | 225.2949 |  6.4 | 0.00 |  3.4 |  9.4 |  945.9 |  940.2 | 80.65828 |  58.83178 |\n",
       "| 2 | 2013-01-01 | es1340a |   4.708333 | 26.04167 |       NA |        NA |       NA |        NA |       NA | 12.6 | 0.00 |  9.1 | 16.0 | 1023.5 | 1017.7 | 81.26930 | 113.25568 |\n",
       "| 3 | 2013-01-01 | es1438a |  31.208333 | 50.29167 | 23.16667 |        NA |       NA | 3.7791667 | 336.1693 |  7.2 | 0.05 |  5.3 |  9.0 |  969.5 |  965.6 | 77.62205 |  93.89947 |\n",
       "| 4 | 2013-01-01 | es1580a |   3.708333 | 14.91667 |       NA | 21.125000 |       NA | 8.3500000 | 286.6196 | 11.6 | 6.20 | 10.8 | 12.3 | 1019.9 | 1008.0 | 88.11917 |  78.56742 |\n",
       "| 5 | 2013-01-02 | es0118a | 101.000000 | 59.91667 | 15.25000 | 11.125000 | 13.25000 | 0.9321429 | 355.5002 |  5.8 | 0.00 |  0.7 | 10.8 |  950.3 |  945.9 | 75.60469 |  71.71485 |\n",
       "| 6 | 2013-01-02 | es1340a |  21.500000 | 26.83333 |       NA |        NA |       NA |        NA |       NA | 11.3 | 0.00 |  5.1 | 17.5 | 1026.0 | 1023.0 | 74.36909 | 104.70722 |\n",
       "\n"
      ],
      "text/plain": [
       "  date       site    no         no2      o3       pm10      pm2.5    ws       \n",
       "1 2013-01-01 es0118a  33.125000 41.95833 18.20833  8.833333 10.83333 0.8571429\n",
       "2 2013-01-01 es1340a   4.708333 26.04167       NA        NA       NA        NA\n",
       "3 2013-01-01 es1438a  31.208333 50.29167 23.16667        NA       NA 3.7791667\n",
       "4 2013-01-01 es1580a   3.708333 14.91667       NA 21.125000       NA 8.3500000\n",
       "5 2013-01-02 es0118a 101.000000 59.91667 15.25000 11.125000 13.25000 0.9321429\n",
       "6 2013-01-02 es1340a  21.500000 26.83333       NA        NA       NA        NA\n",
       "  wd       tmed prec tmin tmax presMax presMin RH       solar.radiation\n",
       "1 225.2949  6.4 0.00  3.4  9.4  945.9   940.2  80.65828  58.83178      \n",
       "2       NA 12.6 0.00  9.1 16.0 1023.5  1017.7  81.26930 113.25568      \n",
       "3 336.1693  7.2 0.05  5.3  9.0  969.5   965.6  77.62205  93.89947      \n",
       "4 286.6196 11.6 6.20 10.8 12.3 1019.9  1008.0  88.11917  78.56742      \n",
       "5 355.5002  5.8 0.00  0.7 10.8  950.3   945.9  75.60469  71.71485      \n",
       "6       NA 11.3 0.00  5.1 17.5 1026.0  1023.0  74.36909 104.70722      "
      ]
     },
     "metadata": {},
     "output_type": "display_data"
    }
   ],
   "source": [
    "head(df)"
   ]
  },
  {
   "cell_type": "markdown",
   "metadata": {},
   "source": [
    "## PreProcess"
   ]
  },
  {
   "cell_type": "code",
   "execution_count": 10,
   "metadata": {},
   "outputs": [],
   "source": [
    "deseason <- function(cl) {\n",
    "    # Remove seasonal component of the additive time serie.\n",
    "    #     This function is called below by an apply\n",
    "    \n",
    "    dcomp <- decompose(ts(cl, frequency = 365))\n",
    "\n",
    "    cl - dcomp$seasonal\n",
    "}\n",
    "\n",
    "range.df <- function(df, omit.cl) {\n",
    "    # Scale dataframe ignoring no numeric columns (omit.cl)\n",
    "    \n",
    "    \n",
    "    cbind(df[, omit.cl],\n",
    "    apply(X=df[, -omit.cl], MARGIN = 2, FUN = function(cl) {\n",
    "              (cl - min(cl))/ (max(cl) - min(cl))\n",
    "          }))\n",
    "}\n",
    "\n",
    "filter.IQR <- function(dat, n, qntl=0.75) {\n",
    "    \n",
    "    min.IQ <- quantile(dat$value, 1-qntl)\n",
    "    max.IQ <- quantile(dat$value, qntl)\n",
    "    \n",
    "    interval.IQR <- max.IQ - min.IQ\n",
    "    \n",
    "    dat[which(dat$value > (min.IQ - (n*interval.IQR)) &\n",
    "              dat$value < (max.IQ + (n*interval.IQR))),]\n",
    "}"
   ]
  },
  {
   "cell_type": "markdown",
   "metadata": {},
   "source": [
    "## Cross-Validation"
   ]
  },
  {
   "cell_type": "code",
   "execution_count": 12,
   "metadata": {},
   "outputs": [],
   "source": [
    "leave.one.year.out <- function(yr, dat, omit.cl) { \n",
    "    # Do k-iteration of k-fold cv by pop yr data for test \n",
    "    #     and the rest for training\n",
    "    #\n",
    "    # @params: omit.cl: columns to omit in the regression\n",
    "    \n",
    "    test <- which(year(dat$date) == yr)\n",
    "    train <- which(year(dat$date) != yr)\n",
    "\n",
    "    if(length(test) == 0 | length(train) == 0) {\n",
    "        return\n",
    "    }        \n",
    "\n",
    "    model <- train(value ~., \n",
    "                   data=dat[, -omit.cl], subset=train,\n",
    "                   method=\"lm\"\n",
    "                  )\n",
    "\n",
    "    y.th <- predict(model, newdata=dat[test,])\n",
    "\n",
    "    y.th.qq <- downscaleR:::eqm(dat[train,]$value, \n",
    "                                predict(model), \n",
    "                                y.th, \n",
    "                                n.quantile=99,\n",
    "                                precip=FALSE, pr.threshold=0,\n",
    "                                extrapolation=\"qwerty\"\n",
    "                               )\n",
    "    \n",
    "    if (sum(!is.na(dat$date)) > (365*2)) {\n",
    "        # if there is enough data (more than 2 years), deseasonalized\n",
    "        ds.dat <- cbind(dat[, omit.cl],\n",
    "                     apply(dat[, -omit.cl], 2, deseason))\n",
    "        ds.y.th <- predict(model, newdata=ds.dat[test,])\n",
    "        \n",
    "        ds.y.th.qq <- downscaleR:::eqm(dat[train,]$value, \n",
    "                                predict(model), \n",
    "                                ds.y.th, \n",
    "                                n.quantile=99,\n",
    "                                precip=FALSE, pr.threshold=0,\n",
    "                                extrapolation=\"qwerty\"\n",
    "                               )\n",
    "        \n",
    "        cor2 <- cor(ds.y.th, ds.dat[test,]$value)\n",
    "        cor2.qq <- cor(ds.y.th.qq, ds.dat[test,]$value)\n",
    "    } else {\n",
    "        cor2 <- NaN \n",
    "        cor2.qq <- NaN\n",
    "    }\n",
    "    \n",
    "    data.frame(\"bias\"=mean(y.th) / mean(dat[test,]$value),\n",
    "               \"var.ratio\"=var(y.th) / var(dat[test,]$value),\n",
    "               \"cor1\"=cor(y.th, dat[test,]$value),\n",
    "               \"cor2\"=cor2,\n",
    "               \"RMSE\"=sqrt(mean((y.th - dat[test,]$value)^2)),\n",
    "               ## q-q Mapping \n",
    "               \"bias.qq\"=mean(y.th.qq) / mean(dat[test,]$value),\n",
    "               \"var.ratio.qq\"=var(y.th.qq) / var(dat[test,]$value),\n",
    "               \"cor1.qq\"=cor(y.th.qq, dat[test,]$value),\n",
    "               \"cor2.qq\"=cor2.qq,\n",
    "               \"RMSE.qq\"=sqrt(mean((y.th.qq - dat[test,]$value)^2))\n",
    "              )\n",
    "}"
   ]
  },
  {
   "cell_type": "code",
   "execution_count": 16,
   "metadata": {},
   "outputs": [
    {
     "data": {
      "text/html": [
       "<table>\n",
       "<caption>A data.frame: 6 × 17</caption>\n",
       "<thead>\n",
       "\t<tr><th></th><th scope=col>date</th><th scope=col>site</th><th scope=col>no</th><th scope=col>no2</th><th scope=col>o3</th><th scope=col>pm10</th><th scope=col>pm2.5</th><th scope=col>ws</th><th scope=col>wd</th><th scope=col>tmed</th><th scope=col>prec</th><th scope=col>tmin</th><th scope=col>tmax</th><th scope=col>presMax</th><th scope=col>presMin</th><th scope=col>RH</th><th scope=col>solar.radiation</th></tr>\n",
       "\t<tr><th></th><th scope=col>&lt;date&gt;</th><th scope=col>&lt;chr&gt;</th><th scope=col>&lt;dbl&gt;</th><th scope=col>&lt;dbl&gt;</th><th scope=col>&lt;dbl&gt;</th><th scope=col>&lt;dbl&gt;</th><th scope=col>&lt;dbl&gt;</th><th scope=col>&lt;dbl&gt;</th><th scope=col>&lt;dbl&gt;</th><th scope=col>&lt;dbl&gt;</th><th scope=col>&lt;dbl&gt;</th><th scope=col>&lt;dbl&gt;</th><th scope=col>&lt;dbl&gt;</th><th scope=col>&lt;dbl&gt;</th><th scope=col>&lt;dbl&gt;</th><th scope=col>&lt;dbl&gt;</th><th scope=col>&lt;dbl&gt;</th></tr>\n",
       "</thead>\n",
       "<tbody>\n",
       "\t<tr><th scope=row>1</th><td>2013-01-01</td><td>es0118a</td><td> 33.125000</td><td>41.95833</td><td>18.20833</td><td> 8.833333</td><td>10.83333</td><td>0.8571429</td><td>225.2949</td><td> 6.4</td><td>0.00</td><td> 3.4</td><td> 9.4</td><td> 945.9</td><td> 940.2</td><td>80.65828</td><td> 58.83178</td></tr>\n",
       "\t<tr><th scope=row>2</th><td>2013-01-01</td><td>es1340a</td><td>  4.708333</td><td>26.04167</td><td>      NA</td><td>       NA</td><td>      NA</td><td>       NA</td><td>      NA</td><td>12.6</td><td>0.00</td><td> 9.1</td><td>16.0</td><td>1023.5</td><td>1017.7</td><td>81.26930</td><td>113.25568</td></tr>\n",
       "\t<tr><th scope=row>3</th><td>2013-01-01</td><td>es1438a</td><td> 31.208333</td><td>50.29167</td><td>23.16667</td><td>       NA</td><td>      NA</td><td>3.7791667</td><td>336.1693</td><td> 7.2</td><td>0.05</td><td> 5.3</td><td> 9.0</td><td> 969.5</td><td> 965.6</td><td>77.62205</td><td> 93.89947</td></tr>\n",
       "\t<tr><th scope=row>4</th><td>2013-01-01</td><td>es1580a</td><td>  3.708333</td><td>14.91667</td><td>      NA</td><td>21.125000</td><td>      NA</td><td>8.3500000</td><td>286.6196</td><td>11.6</td><td>6.20</td><td>10.8</td><td>12.3</td><td>1019.9</td><td>1008.0</td><td>88.11917</td><td> 78.56742</td></tr>\n",
       "\t<tr><th scope=row>5</th><td>2013-01-02</td><td>es0118a</td><td>101.000000</td><td>59.91667</td><td>15.25000</td><td>11.125000</td><td>13.25000</td><td>0.9321429</td><td>355.5002</td><td> 5.8</td><td>0.00</td><td> 0.7</td><td>10.8</td><td> 950.3</td><td> 945.9</td><td>75.60469</td><td> 71.71485</td></tr>\n",
       "\t<tr><th scope=row>6</th><td>2013-01-02</td><td>es1340a</td><td> 21.500000</td><td>26.83333</td><td>      NA</td><td>       NA</td><td>      NA</td><td>       NA</td><td>      NA</td><td>11.3</td><td>0.00</td><td> 5.1</td><td>17.5</td><td>1026.0</td><td>1023.0</td><td>74.36909</td><td>104.70722</td></tr>\n",
       "</tbody>\n",
       "</table>\n"
      ],
      "text/latex": [
       "A data.frame: 6 × 17\n",
       "\\begin{tabular}{r|lllllllllllllllll}\n",
       "  & date & site & no & no2 & o3 & pm10 & pm2.5 & ws & wd & tmed & prec & tmin & tmax & presMax & presMin & RH & solar.radiation\\\\\n",
       "  & <date> & <chr> & <dbl> & <dbl> & <dbl> & <dbl> & <dbl> & <dbl> & <dbl> & <dbl> & <dbl> & <dbl> & <dbl> & <dbl> & <dbl> & <dbl> & <dbl>\\\\\n",
       "\\hline\n",
       "\t1 & 2013-01-01 & es0118a &  33.125000 & 41.95833 & 18.20833 &  8.833333 & 10.83333 & 0.8571429 & 225.2949 &  6.4 & 0.00 &  3.4 &  9.4 &  945.9 &  940.2 & 80.65828 &  58.83178\\\\\n",
       "\t2 & 2013-01-01 & es1340a &   4.708333 & 26.04167 &       NA &        NA &       NA &        NA &       NA & 12.6 & 0.00 &  9.1 & 16.0 & 1023.5 & 1017.7 & 81.26930 & 113.25568\\\\\n",
       "\t3 & 2013-01-01 & es1438a &  31.208333 & 50.29167 & 23.16667 &        NA &       NA & 3.7791667 & 336.1693 &  7.2 & 0.05 &  5.3 &  9.0 &  969.5 &  965.6 & 77.62205 &  93.89947\\\\\n",
       "\t4 & 2013-01-01 & es1580a &   3.708333 & 14.91667 &       NA & 21.125000 &       NA & 8.3500000 & 286.6196 & 11.6 & 6.20 & 10.8 & 12.3 & 1019.9 & 1008.0 & 88.11917 &  78.56742\\\\\n",
       "\t5 & 2013-01-02 & es0118a & 101.000000 & 59.91667 & 15.25000 & 11.125000 & 13.25000 & 0.9321429 & 355.5002 &  5.8 & 0.00 &  0.7 & 10.8 &  950.3 &  945.9 & 75.60469 &  71.71485\\\\\n",
       "\t6 & 2013-01-02 & es1340a &  21.500000 & 26.83333 &       NA &        NA &       NA &        NA &       NA & 11.3 & 0.00 &  5.1 & 17.5 & 1026.0 & 1023.0 & 74.36909 & 104.70722\\\\\n",
       "\\end{tabular}\n"
      ],
      "text/markdown": [
       "\n",
       "A data.frame: 6 × 17\n",
       "\n",
       "| <!--/--> | date &lt;date&gt; | site &lt;chr&gt; | no &lt;dbl&gt; | no2 &lt;dbl&gt; | o3 &lt;dbl&gt; | pm10 &lt;dbl&gt; | pm2.5 &lt;dbl&gt; | ws &lt;dbl&gt; | wd &lt;dbl&gt; | tmed &lt;dbl&gt; | prec &lt;dbl&gt; | tmin &lt;dbl&gt; | tmax &lt;dbl&gt; | presMax &lt;dbl&gt; | presMin &lt;dbl&gt; | RH &lt;dbl&gt; | solar.radiation &lt;dbl&gt; |\n",
       "|---|---|---|---|---|---|---|---|---|---|---|---|---|---|---|---|---|---|\n",
       "| 1 | 2013-01-01 | es0118a |  33.125000 | 41.95833 | 18.20833 |  8.833333 | 10.83333 | 0.8571429 | 225.2949 |  6.4 | 0.00 |  3.4 |  9.4 |  945.9 |  940.2 | 80.65828 |  58.83178 |\n",
       "| 2 | 2013-01-01 | es1340a |   4.708333 | 26.04167 |       NA |        NA |       NA |        NA |       NA | 12.6 | 0.00 |  9.1 | 16.0 | 1023.5 | 1017.7 | 81.26930 | 113.25568 |\n",
       "| 3 | 2013-01-01 | es1438a |  31.208333 | 50.29167 | 23.16667 |        NA |       NA | 3.7791667 | 336.1693 |  7.2 | 0.05 |  5.3 |  9.0 |  969.5 |  965.6 | 77.62205 |  93.89947 |\n",
       "| 4 | 2013-01-01 | es1580a |   3.708333 | 14.91667 |       NA | 21.125000 |       NA | 8.3500000 | 286.6196 | 11.6 | 6.20 | 10.8 | 12.3 | 1019.9 | 1008.0 | 88.11917 |  78.56742 |\n",
       "| 5 | 2013-01-02 | es0118a | 101.000000 | 59.91667 | 15.25000 | 11.125000 | 13.25000 | 0.9321429 | 355.5002 |  5.8 | 0.00 |  0.7 | 10.8 |  950.3 |  945.9 | 75.60469 |  71.71485 |\n",
       "| 6 | 2013-01-02 | es1340a |  21.500000 | 26.83333 |       NA |        NA |       NA |        NA |       NA | 11.3 | 0.00 |  5.1 | 17.5 | 1026.0 | 1023.0 | 74.36909 | 104.70722 |\n",
       "\n"
      ],
      "text/plain": [
       "  date       site    no         no2      o3       pm10      pm2.5    ws       \n",
       "1 2013-01-01 es0118a  33.125000 41.95833 18.20833  8.833333 10.83333 0.8571429\n",
       "2 2013-01-01 es1340a   4.708333 26.04167       NA        NA       NA        NA\n",
       "3 2013-01-01 es1438a  31.208333 50.29167 23.16667        NA       NA 3.7791667\n",
       "4 2013-01-01 es1580a   3.708333 14.91667       NA 21.125000       NA 8.3500000\n",
       "5 2013-01-02 es0118a 101.000000 59.91667 15.25000 11.125000 13.25000 0.9321429\n",
       "6 2013-01-02 es1340a  21.500000 26.83333       NA        NA       NA        NA\n",
       "  wd       tmed prec tmin tmax presMax presMin RH       solar.radiation\n",
       "1 225.2949  6.4 0.00  3.4  9.4  945.9   940.2  80.65828  58.83178      \n",
       "2       NA 12.6 0.00  9.1 16.0 1023.5  1017.7  81.26930 113.25568      \n",
       "3 336.1693  7.2 0.05  5.3  9.0  969.5   965.6  77.62205  93.89947      \n",
       "4 286.6196 11.6 6.20 10.8 12.3 1019.9  1008.0  88.11917  78.56742      \n",
       "5 355.5002  5.8 0.00  0.7 10.8  950.3   945.9  75.60469  71.71485      \n",
       "6       NA 11.3 0.00  5.1 17.5 1026.0  1023.0  74.36909 104.70722      "
      ]
     },
     "metadata": {},
     "output_type": "display_data"
    }
   ],
   "source": [
    "head(df)"
   ]
  },
  {
   "cell_type": "code",
   "execution_count": 19,
   "metadata": {},
   "outputs": [],
   "source": [
    "years <- 2013:2019\n",
    "\n",
    "no.num.cl <- 1:3 # no numeric columns \n",
    "cv.df <- data.frame()\n",
    "\n",
    "# Create one model for each pair of station-pollutant\n",
    "for (st in sites.lv) {\n",
    "    data.st <- df[df$site == st,]\n",
    "    \n",
    "    for (pll in levels(as.factor(data.st$variable))) {\n",
    "        dat <- data.st %>%\n",
    "                filter(variable == pll) %>%\n",
    "                #select(-site, -variable) %>%\n",
    "                filter.IQR(coluns=pll,  n=3)\n",
    "        \n",
    "        cv.row <- do.call(rbind, lapply(years, leave.one.year.out,\n",
    "                                        dat, no.num.cl))\n",
    "\n",
    "        cv.df <- rbind(cv.df,\n",
    "                       cbind(data.frame(\"variable\"=rep(pll, nrow(cv.row)),\n",
    "                                        \"site\"=rep(st, nrow(cv.row))),\n",
    "                             cv.row)\n",
    "                       )\n",
    "    }\n",
    "}"
   ]
  },
  {
   "cell_type": "code",
   "execution_count": 20,
   "metadata": {},
   "outputs": [
    {
     "data": {
      "text/html": [],
      "text/latex": [],
      "text/markdown": [],
      "text/plain": [
       "<0 x 0 matrix>"
      ]
     },
     "metadata": {},
     "output_type": "display_data"
    }
   ],
   "source": [
    "head(cv.df)"
   ]
  },
  {
   "cell_type": "code",
   "execution_count": 14,
   "metadata": {},
   "outputs": [
    {
     "ename": "ERROR",
     "evalue": "Error: Must group by variables found in `.data`.\n* Column `variable` is not found.\n",
     "output_type": "error",
     "traceback": [
      "Error: Must group by variables found in `.data`.\n* Column `variable` is not found.\nTraceback:\n",
      "1. cv.df %>% group_by(variable) %>% summarise(bias = mean(bias, \n .     na.rm = T), var.ratio = mean(var.ratio, na.rm = T), cor1 = mean(cor1, \n .     na.rm = T), cor2 = mean(cor2, na.rm = T), RMSE = mean(RMSE, \n .     na.rm = T), bias.qq = mean(bias.qq, na.rm = T), var.ratio.qq = mean(var.ratio.qq, \n .     na.rm = T), cor1.qq = mean(cor1.qq, na.rm = T), cor2.qq = mean(cor2.qq, \n .     na.rm = T), RMSE.qq = mean(RMSE.qq, na.rm = T)) %>% print()",
      "2. print(.)",
      "3. summarise(., bias = mean(bias, na.rm = T), var.ratio = mean(var.ratio, \n .     na.rm = T), cor1 = mean(cor1, na.rm = T), cor2 = mean(cor2, \n .     na.rm = T), RMSE = mean(RMSE, na.rm = T), bias.qq = mean(bias.qq, \n .     na.rm = T), var.ratio.qq = mean(var.ratio.qq, na.rm = T), \n .     cor1.qq = mean(cor1.qq, na.rm = T), cor2.qq = mean(cor2.qq, \n .         na.rm = T), RMSE.qq = mean(RMSE.qq, na.rm = T))",
      "4. group_by(., variable)",
      "5. group_by.data.frame(., variable)",
      "6. group_by_prepare(.data, ..., .add = .add)",
      "7. abort(c(\"Must group by variables found in `.data`.\", glue(\"Column `{unknown}` is not found.\")))",
      "8. signal_abort(cnd)"
     ]
    }
   ],
   "source": [
    "mean.cv.df <- cv.df %>%\n",
    "                group_by(variable) %>%\n",
    "                summarise(bias=mean(bias, na.rm=T),\n",
    "                          var.ratio=mean(var.ratio, na.rm=T),\n",
    "                          cor1=mean(cor1, na.rm=T),\n",
    "                          cor2=mean(cor2, na.rm=T),\n",
    "                          RMSE=mean(RMSE, na.rm=T),\n",
    "                          ## q-q Mapping\n",
    "                          bias.qq=mean(bias.qq, na.rm=T),\n",
    "                          var.ratio.qq=mean(var.ratio.qq, na.rm=T),\n",
    "                          cor1.qq=mean(cor1.qq, na.rm=T),\n",
    "                          cor2.qq=mean(cor2.qq, na.rm=T),\n",
    "                          RMSE.qq=mean(RMSE.qq, na.rm=T)\n",
    "                         ) %>%\n",
    "                print()"
   ]
  },
  {
   "cell_type": "code",
   "execution_count": null,
   "metadata": {},
   "outputs": [],
   "source": [
    "pivot.cv.df.qq <- cv.df %>%\n",
    "        pivot_longer(cols = 8:12,\n",
    "                     names_to = \"Error\", values_to = \"Err.Val\")\n",
    "\n",
    "plt.qq <- ggplot(data=pivot.cv.df.qq, aes(x=Error, y=Err.Val, fill=Error)) +\n",
    "            geom_boxplot() +\n",
    "            ggtitle(\"q-q Mapping\") +\n",
    "            theme(plot.title = element_text(hjust = 0.5)) + \n",
    "            theme(legend.position = \"none\") + \n",
    "            facet_wrap(~variable, scale=\"free\")"
   ]
  },
  {
   "cell_type": "code",
   "execution_count": null,
   "metadata": {},
   "outputs": [],
   "source": [
    "pivot.cv.df <- cv.df %>%\n",
    "        pivot_longer(cols = 3:7, \n",
    "                     names_to = \"Error\", values_to = \"Err.Val\")\n",
    "\n",
    "plt <- ggplot(data=pivot.cv.df, aes(x=Error, y=Err.Val, fill=Error)) +\n",
    "            geom_boxplot() +\n",
    "            ggtitle(\"Without q-q Mapping\") +\n",
    "            theme(plot.title = element_text(hjust = 0.5)) + \n",
    "            theme(legend.position = \"none\") + \n",
    "            facet_wrap(~variable, scale=\"free\")"
   ]
  },
  {
   "cell_type": "code",
   "execution_count": null,
   "metadata": {},
   "outputs": [],
   "source": [
    "all.plt <- grid.arrange(plt, plt.qq, nrow=2)"
   ]
  },
  {
   "cell_type": "markdown",
   "metadata": {},
   "source": [
    "# Save Results"
   ]
  },
  {
   "cell_type": "code",
   "execution_count": null,
   "metadata": {},
   "outputs": [],
   "source": [
    "if (save == TRUE) {\n",
    "\n",
    "    write.csv(cv.df, \n",
    "              \"data/Cross-validation/lm-qq-mapping.csv\",\n",
    "              row.names=F)\n",
    "\n",
    "    ggsave(\n",
    "        \"lm-CV-qq-mapping.png\",\n",
    "        plot = all.plt,\n",
    "        device = \"png\",\n",
    "        path = \"Plots/cross-validation/lm/\",\n",
    "        width=15,\n",
    "        height=20\n",
    "    )\n",
    "}"
   ]
  },
  {
   "cell_type": "code",
   "execution_count": null,
   "metadata": {},
   "outputs": [],
   "source": []
  }
 ],
 "metadata": {
  "kernelspec": {
   "display_name": "R",
   "language": "R",
   "name": "ir"
  },
  "language_info": {
   "codemirror_mode": "r",
   "file_extension": ".r",
   "mimetype": "text/x-r-source",
   "name": "R",
   "pygments_lexer": "r",
   "version": "3.6.3"
  }
 },
 "nbformat": 4,
 "nbformat_minor": 4
}
