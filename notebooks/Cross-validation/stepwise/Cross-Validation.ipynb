{
 "cells": [
  {
   "cell_type": "markdown",
   "metadata": {},
   "source": [
    "# Cross-Validation of `stepwise` model\n",
    "\n",
    "Make a k-fold cross-validation using natural years. _Leave-one-(natural year)-out_"
   ]
  },
  {
   "cell_type": "code",
   "execution_count": 1,
   "metadata": {},
   "outputs": [],
   "source": [
    "# Load packages\n",
    "suppressMessages(library(lubridate))\n",
    "suppressMessages(library(tidyverse))\n",
    "suppressMessages(library(openair))\n",
    "\n",
    "suppressMessages(library(caret))\n",
    "suppressMessages(library(leaps))\n",
    "suppressMessages(library(BBmisc))"
   ]
  },
  {
   "cell_type": "code",
   "execution_count": 2,
   "metadata": {},
   "outputs": [],
   "source": [
    "suppressMessages(library(repr))\n",
    "options(repr.plot.width=25,\n",
    "        repr.plot.height=10,\n",
    "        #repr.plot.pointsize=50,\n",
    "        repr.plot.family='serif'\n",
    "       )"
   ]
  },
  {
   "cell_type": "code",
   "execution_count": 3,
   "metadata": {},
   "outputs": [],
   "source": [
    "# Working directory\n",
    "setwd(\"~/Repositories/AirQualityCOVID\")"
   ]
  },
  {
   "cell_type": "markdown",
   "metadata": {},
   "source": [
    "## Representative sample "
   ]
  },
  {
   "cell_type": "code",
   "execution_count": 4,
   "metadata": {},
   "outputs": [],
   "source": [
    "sites.lv <- c(\"es0118a\", \"es1438a\") # Big cities (Madrid and Barcelona)\",\n",
    "sites.lv <- c(sites.lv, \"es1580a\", \"es1340a\") # small cities (Santander and Huelva)"
   ]
  },
  {
   "cell_type": "markdown",
   "metadata": {},
   "source": [
    "## DataFrame Creation"
   ]
  },
  {
   "cell_type": "code",
   "execution_count": 5,
   "metadata": {},
   "outputs": [],
   "source": [
    "# Create dataSet\n",
    "load(\"data/data_AQ.rda\")\n",
    "load(\"data/meteorology.rda\")\n",
    "\n",
    "aq <- data_AQ %>%\n",
    "            filter(site %in% sites.lv,\n",
    "                   date < ymd(\"2020-01-01\")\n",
    "                  ) %>%\n",
    "            timeAverage(avg.time = \"day\", type=c(\"site\", \"variable\"))\n",
    "aq$date <- as_date(aq$date)\n",
    "\n",
    "mto <- data_Mto %>%\n",
    "            filter(site %in% sites.lv,\n",
    "                   date < ymd(\"2020-01-01\"))\n",
    "\n",
    "df <- merge(aq, mto,\n",
    "              by = c(\"date\", \"site\"), all.x=T) %>%\n",
    "        drop_na() %>%\n",
    "        mutate_if(is.factor, as.character) %>%\n",
    "        select(-date_end, -process, -summary, -validity)\n",
    "\n",
    "rm(data_AQ)\n",
    "rm(data_Mto)"
   ]
  },
  {
   "cell_type": "markdown",
   "metadata": {},
   "source": [
    "## PreProcess"
   ]
  },
  {
   "cell_type": "code",
   "execution_count": 6,
   "metadata": {},
   "outputs": [],
   "source": [
    "deseason <- function(cl) {\n",
    "    # Remove seasonal component of the additive time serie.\n",
    "    #     This function is called below by an apply\n",
    "    \n",
    "    dcomp <- decompose(ts(cl, frequency = 365))\n",
    "\n",
    "    cl - dcomp$seasonal\n",
    "}\n",
    "\n",
    "\n",
    "scale.df <- function(df, omit.cl) {\n",
    "    # Scale dataframe ignoring no numeric columns (omit.cl)\n",
    "    \n",
    "    df[, omit.cl] <- scale(df[, omit.cl])\n",
    "    df\n",
    "}\n",
    "\n",
    "\n",
    "range.df <- function(df, omit.cl) {\n",
    "    # Scale dataframe ignoring no numeric columns (omit.cl)\n",
    "    \n",
    "    split.df <- df[, -omit.cl]\n",
    "    \n",
    "    cbind(df[, omit.cl], \n",
    "          normalize(split.df, method = \"range\", \n",
    "                    range = c(0, 1), margin = 1))\n",
    "}"
   ]
  },
  {
   "cell_type": "markdown",
   "metadata": {},
   "source": [
    "## Cross-Validation"
   ]
  },
  {
   "cell_type": "code",
   "execution_count": 7,
   "metadata": {},
   "outputs": [],
   "source": [
    "leave.one.year.out <- function(yr, dat, omit.cl) { \n",
    "    # Do k-iteration of k-fold cv by pop yr data for test \n",
    "    #     and the rest for training\n",
    "    # @params: omit.cl: columns to omit in the regression\n",
    "    \n",
    "    test <- which(year(dat$date) == yr)\n",
    "    train <- which(year(dat$date) != yr)\n",
    "\n",
    "    if(length(test) == 0 | length(train) == 0) {\n",
    "        return\n",
    "    }\n",
    "\n",
    "    model <- train(value ~., \n",
    "                   data=dat[, -omit.cl], subset=train,\n",
    "                   method=\"leapSeq\",\n",
    "                   tuneGrid = data.frame(nvmax = 1:11),\n",
    "                  )\n",
    "    print(model$bestTune$nvmax)\n",
    "\n",
    "    y.th <- predict(model, newdata=dat[test,])\n",
    "    \n",
    "    data.frame(\"bias\"=mean(y.th) / mean(dat[test,]$value),\n",
    "               \"var.ratio\"=var(y.th) / var(dat[test,]$value),\n",
    "               \"cor\"=cor(y.th, dat[test,]$value, method = \"pearson\")\n",
    "              )\n",
    "}"
   ]
  },
  {
   "cell_type": "code",
   "execution_count": 8,
   "metadata": {},
   "outputs": [
    {
     "name": "stdout",
     "output_type": "stream",
     "text": [
      "[1] 10\n",
      "[1] 10\n",
      "[1] 7\n",
      "[1] 10\n",
      "[1] 10\n",
      "[1] 10\n",
      "[1] 7\n",
      "[1] 6\n",
      "[1] 7\n",
      "[1] 7\n",
      "[1] 5\n",
      "[1] 6\n",
      "[1] 6\n",
      "[1] 6\n",
      "[1] 10\n",
      "[1] 7\n",
      "[1] 10\n",
      "[1] 10\n",
      "[1] 10\n",
      "[1] 10\n",
      "[1] 10\n",
      "[1] 4\n",
      "[1] 4\n",
      "[1] 11\n",
      "[1] 8\n",
      "[1] 6\n",
      "[1] 7\n",
      "[1] 4\n",
      "[1] 10\n",
      "[1] 5\n",
      "[1] 5\n",
      "[1] 5\n",
      "[1] 5\n",
      "[1] 5\n",
      "[1] 5\n",
      "[1] 9\n",
      "[1] 10\n",
      "[1] 9\n",
      "[1] 11\n",
      "[1] 9\n",
      "[1] 9\n",
      "[1] 9\n",
      "[1] 10\n",
      "[1] 6\n",
      "[1] 10\n",
      "[1] 6\n",
      "[1] 10\n",
      "[1] 10\n",
      "[1] 11\n",
      "[1] 11\n",
      "[1] 11\n",
      "[1] 11\n",
      "[1] 11\n",
      "[1] 11\n",
      "[1] 11\n",
      "[1] 7\n",
      "[1] 7\n",
      "[1] 7\n",
      "[1] 7\n",
      "[1] 7\n",
      "[1] 7\n",
      "[1] 6\n",
      "[1] 6\n",
      "[1] 6\n",
      "[1] 5\n",
      "[1] 5\n",
      "[1] 4\n",
      "[1] 6\n",
      "[1] 5\n",
      "[1] 6\n",
      "[1] 11\n",
      "[1] 11\n",
      "[1] 11\n",
      "[1] 11\n",
      "[1] 11\n",
      "[1] 11\n",
      "[1] 11\n",
      "[1] 10\n",
      "[1] 11\n",
      "[1] 11\n",
      "[1] 11\n",
      "[1] 11\n",
      "[1] 11\n",
      "[1] 8\n",
      "[1] 11\n",
      "[1] 11\n",
      "[1] 11\n",
      "[1] 6\n",
      "[1] 11\n",
      "[1] 11\n",
      "[1] 11\n",
      "[1] 10\n",
      "[1] 7\n",
      "[1] 6\n",
      "[1] 10\n",
      "[1] 10\n",
      "[1] 10\n",
      "[1] 10\n"
     ]
    }
   ],
   "source": [
    "years <- 2013:2019\n",
    "\n",
    "no.num.cl <- 1:3 # no numeric columns \n",
    "cv.df <- data.frame()\n",
    "\n",
    "# Create one model for each pair of station-pollutant\n",
    "for (st in sites.lv) {\n",
    "    data.st <- df[df$site == st,]\n",
    "    \n",
    "    for (pll in levels(as.factor(data.st$variable))) {\n",
    "        dat <- data.st[data.st$variable == pll, ]\n",
    "        \n",
    "        if (sum(!is.na(dat$date)) > (365*2)) {\n",
    "            # if there is enough data (more than 2 years), deseasonalized\n",
    "            dat <- cbind(dat[, no.num.cl],\n",
    "                         apply(dat[, -no.num.cl], 2, deseason))\n",
    "        }\n",
    "        \n",
    "        ds.dat <- range.df(dat, no.num.cl)\n",
    "        \n",
    "        cv.row <- do.call(rbind, lapply(years, leave.one.year.out,\n",
    "                                        ds.dat, no.num.cl))\n",
    "\n",
    "        cv.df <- rbind(cv.df,\n",
    "                       cbind(data.frame(\"variable\"=pll,\n",
    "                                        \"site\"=st),\n",
    "                             rbind(colMeans(cv.row, na.rm=T)))\n",
    "                       )\n",
    "    }\n",
    "}"
   ]
  },
  {
   "cell_type": "code",
   "execution_count": 9,
   "metadata": {},
   "outputs": [
    {
     "data": {
      "text/html": [
       "<table>\n",
       "<caption>A data.frame: 14 × 5</caption>\n",
       "<thead>\n",
       "\t<tr><th scope=col>variable</th><th scope=col>site</th><th scope=col>bias</th><th scope=col>var.ratio</th><th scope=col>cor</th></tr>\n",
       "\t<tr><th scope=col>&lt;chr&gt;</th><th scope=col>&lt;chr&gt;</th><th scope=col>&lt;dbl&gt;</th><th scope=col>&lt;dbl&gt;</th><th scope=col>&lt;dbl&gt;</th></tr>\n",
       "</thead>\n",
       "<tbody>\n",
       "\t<tr><td>no   </td><td>es0118a</td><td>1.0003438</td><td>0.2873697</td><td>0.5032561</td></tr>\n",
       "\t<tr><td>no2  </td><td>es0118a</td><td>1.0062696</td><td>0.3928622</td><td>0.5545036</td></tr>\n",
       "\t<tr><td>o3   </td><td>es0118a</td><td>1.0007097</td><td>0.2953215</td><td>0.5142917</td></tr>\n",
       "\t<tr><td>pm10 </td><td>es0118a</td><td>0.9999514</td><td>0.2627854</td><td>0.4949069</td></tr>\n",
       "\t<tr><td>pm2.5</td><td>es0118a</td><td>1.0004715</td><td>0.2788964</td><td>0.5142245</td></tr>\n",
       "\t<tr><td>no   </td><td>es1438a</td><td>1.0008552</td><td>0.1888174</td><td>0.3979009</td></tr>\n",
       "\t<tr><td>no2  </td><td>es1438a</td><td>1.0050143</td><td>0.2683655</td><td>0.5038500</td></tr>\n",
       "\t<tr><td>o3   </td><td>es1438a</td><td>1.0136380</td><td>0.5392757</td><td>0.6478602</td></tr>\n",
       "\t<tr><td>no   </td><td>es1580a</td><td>1.0007222</td><td>0.2438173</td><td>0.4564296</td></tr>\n",
       "\t<tr><td>no2  </td><td>es1580a</td><td>1.0072870</td><td>0.2464128</td><td>0.4386516</td></tr>\n",
       "\t<tr><td>pm10 </td><td>es1580a</td><td>1.0043211</td><td>0.2151793</td><td>0.4355526</td></tr>\n",
       "\t<tr><td>no   </td><td>es1340a</td><td>0.9978753</td><td>0.2736255</td><td>0.4893704</td></tr>\n",
       "\t<tr><td>no2  </td><td>es1340a</td><td>1.0080862</td><td>0.5489490</td><td>0.7006571</td></tr>\n",
       "\t<tr><td>pm10 </td><td>es1340a</td><td>1.0018934</td><td>0.2202116</td><td>0.3624148</td></tr>\n",
       "</tbody>\n",
       "</table>\n"
      ],
      "text/latex": [
       "A data.frame: 14 × 5\n",
       "\\begin{tabular}{lllll}\n",
       " variable & site & bias & var.ratio & cor\\\\\n",
       " <chr> & <chr> & <dbl> & <dbl> & <dbl>\\\\\n",
       "\\hline\n",
       "\t no    & es0118a & 1.0003438 & 0.2873697 & 0.5032561\\\\\n",
       "\t no2   & es0118a & 1.0062696 & 0.3928622 & 0.5545036\\\\\n",
       "\t o3    & es0118a & 1.0007097 & 0.2953215 & 0.5142917\\\\\n",
       "\t pm10  & es0118a & 0.9999514 & 0.2627854 & 0.4949069\\\\\n",
       "\t pm2.5 & es0118a & 1.0004715 & 0.2788964 & 0.5142245\\\\\n",
       "\t no    & es1438a & 1.0008552 & 0.1888174 & 0.3979009\\\\\n",
       "\t no2   & es1438a & 1.0050143 & 0.2683655 & 0.5038500\\\\\n",
       "\t o3    & es1438a & 1.0136380 & 0.5392757 & 0.6478602\\\\\n",
       "\t no    & es1580a & 1.0007222 & 0.2438173 & 0.4564296\\\\\n",
       "\t no2   & es1580a & 1.0072870 & 0.2464128 & 0.4386516\\\\\n",
       "\t pm10  & es1580a & 1.0043211 & 0.2151793 & 0.4355526\\\\\n",
       "\t no    & es1340a & 0.9978753 & 0.2736255 & 0.4893704\\\\\n",
       "\t no2   & es1340a & 1.0080862 & 0.5489490 & 0.7006571\\\\\n",
       "\t pm10  & es1340a & 1.0018934 & 0.2202116 & 0.3624148\\\\\n",
       "\\end{tabular}\n"
      ],
      "text/markdown": [
       "\n",
       "A data.frame: 14 × 5\n",
       "\n",
       "| variable &lt;chr&gt; | site &lt;chr&gt; | bias &lt;dbl&gt; | var.ratio &lt;dbl&gt; | cor &lt;dbl&gt; |\n",
       "|---|---|---|---|---|\n",
       "| no    | es0118a | 1.0003438 | 0.2873697 | 0.5032561 |\n",
       "| no2   | es0118a | 1.0062696 | 0.3928622 | 0.5545036 |\n",
       "| o3    | es0118a | 1.0007097 | 0.2953215 | 0.5142917 |\n",
       "| pm10  | es0118a | 0.9999514 | 0.2627854 | 0.4949069 |\n",
       "| pm2.5 | es0118a | 1.0004715 | 0.2788964 | 0.5142245 |\n",
       "| no    | es1438a | 1.0008552 | 0.1888174 | 0.3979009 |\n",
       "| no2   | es1438a | 1.0050143 | 0.2683655 | 0.5038500 |\n",
       "| o3    | es1438a | 1.0136380 | 0.5392757 | 0.6478602 |\n",
       "| no    | es1580a | 1.0007222 | 0.2438173 | 0.4564296 |\n",
       "| no2   | es1580a | 1.0072870 | 0.2464128 | 0.4386516 |\n",
       "| pm10  | es1580a | 1.0043211 | 0.2151793 | 0.4355526 |\n",
       "| no    | es1340a | 0.9978753 | 0.2736255 | 0.4893704 |\n",
       "| no2   | es1340a | 1.0080862 | 0.5489490 | 0.7006571 |\n",
       "| pm10  | es1340a | 1.0018934 | 0.2202116 | 0.3624148 |\n",
       "\n"
      ],
      "text/plain": [
       "   variable site    bias      var.ratio cor      \n",
       "1  no       es0118a 1.0003438 0.2873697 0.5032561\n",
       "2  no2      es0118a 1.0062696 0.3928622 0.5545036\n",
       "3  o3       es0118a 1.0007097 0.2953215 0.5142917\n",
       "4  pm10     es0118a 0.9999514 0.2627854 0.4949069\n",
       "5  pm2.5    es0118a 1.0004715 0.2788964 0.5142245\n",
       "6  no       es1438a 1.0008552 0.1888174 0.3979009\n",
       "7  no2      es1438a 1.0050143 0.2683655 0.5038500\n",
       "8  o3       es1438a 1.0136380 0.5392757 0.6478602\n",
       "9  no       es1580a 1.0007222 0.2438173 0.4564296\n",
       "10 no2      es1580a 1.0072870 0.2464128 0.4386516\n",
       "11 pm10     es1580a 1.0043211 0.2151793 0.4355526\n",
       "12 no       es1340a 0.9978753 0.2736255 0.4893704\n",
       "13 no2      es1340a 1.0080862 0.5489490 0.7006571\n",
       "14 pm10     es1340a 1.0018934 0.2202116 0.3624148"
      ]
     },
     "metadata": {},
     "output_type": "display_data"
    }
   ],
   "source": [
    "cv.df"
   ]
  },
  {
   "cell_type": "code",
   "execution_count": 10,
   "metadata": {},
   "outputs": [
    {
     "name": "stdout",
     "output_type": "stream",
     "text": [
      "\u001b[90m# A tibble: 5 x 4\u001b[39m\n",
      "  variable var.ratio  bias   cor\n",
      "\u001b[90m*\u001b[39m \u001b[3m\u001b[90m<chr>\u001b[39m\u001b[23m        \u001b[3m\u001b[90m<dbl>\u001b[39m\u001b[23m \u001b[3m\u001b[90m<dbl>\u001b[39m\u001b[23m \u001b[3m\u001b[90m<dbl>\u001b[39m\u001b[23m\n",
      "\u001b[90m1\u001b[39m no           0.248  1.00 0.462\n",
      "\u001b[90m2\u001b[39m no2          0.364  1.01 0.549\n",
      "\u001b[90m3\u001b[39m o3           0.417  1.01 0.581\n",
      "\u001b[90m4\u001b[39m pm10         0.233  1.00 0.431\n",
      "\u001b[90m5\u001b[39m pm2.5        0.279  1.00 0.514\n"
     ]
    }
   ],
   "source": [
    "mean.cv.df <- cv.df %>%\n",
    "                group_by(variable) %>%\n",
    "                summarise(var.ratio=mean(var.ratio),\n",
    "                          bias=mean(bias),\n",
    "                          cor=mean(cor)\n",
    "                         ) %>%\n",
    "                print()"
   ]
  },
  {
   "cell_type": "code",
   "execution_count": 11,
   "metadata": {},
   "outputs": [
    {
     "data": {
      "image/png": "[encoded data removed]",
      "text/plain": [
       "plot without title"
      ]
     },
     "metadata": {
      "image/png": {
       "height": 600,
       "width": 1500
      }
     },
     "output_type": "display_data"
    }
   ],
   "source": [
    "pivot.cv.df <- cv.df %>%\n",
    "        pivot_longer(cols = c(3:ncol(cv.df)), \n",
    "                     names_to = \"Error\", values_to = \"Err.Val\")\n",
    "\n",
    "ggplot(data=pivot.cv.df, aes(x=Error, y=Err.Val, fill=Error)) +\n",
    "        geom_boxplot() + \n",
    "        facet_wrap(~variable, scales = \"free_y\")"
   ]
  },
  {
   "cell_type": "code",
   "execution_count": null,
   "metadata": {},
   "outputs": [],
   "source": []
  }
 ],
 "metadata": {
  "kernelspec": {
   "display_name": "R",
   "language": "R",
   "name": "ir"
  },
  "language_info": {
   "codemirror_mode": "r",
   "file_extension": ".r",
   "mimetype": "text/x-r-source",
   "name": "R",
   "pygments_lexer": "r",
   "version": "4.0.4"
  }
 },
 "nbformat": 4,
 "nbformat_minor": 4
}
