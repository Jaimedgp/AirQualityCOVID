{
 "cells": [
  {
   "cell_type": "code",
   "execution_count": 1,
   "metadata": {},
   "outputs": [],
   "source": [
    "setwd(\"~/Repositories/AirQualityCOVID/\")"
   ]
  },
  {
   "cell_type": "code",
   "execution_count": 2,
   "metadata": {},
   "outputs": [
    {
     "data": {
      "text/html": [
       "63"
      ],
      "text/latex": [
       "63"
      ],
      "text/markdown": [
       "63"
      ],
      "text/plain": [
       "[1] 63"
      ]
     },
     "metadata": {},
     "output_type": "display_data"
    },
    {
     "data": {
      "text/html": [
       "186"
      ],
      "text/latex": [
       "186"
      ],
      "text/markdown": [
       "186"
      ],
      "text/plain": [
       "[1] 186"
      ]
     },
     "metadata": {},
     "output_type": "display_data"
    }
   ],
   "source": [
    "sites_AEMET <- read.csv(\"data/Curation/AEMET/sites_AEMET.csv\",\n",
    "                        stringsAsFactor=T)\n",
    "length(levels(sites_AEMET$siteAQ))\n",
    "length(levels(sites_AEMET$indicativo))"
   ]
  },
  {
   "cell_type": "code",
   "execution_count": 3,
   "metadata": {},
   "outputs": [
    {
     "data": {
      "text/html": [
       "63"
      ],
      "text/latex": [
       "63"
      ],
      "text/markdown": [
       "63"
      ],
      "text/plain": [
       "[1] 63"
      ]
     },
     "metadata": {},
     "output_type": "display_data"
    },
    {
     "data": {
      "text/html": [
       "35"
      ],
      "text/latex": [
       "35"
      ],
      "text/markdown": [
       "35"
      ],
      "text/plain": [
       "[1] 35"
      ]
     },
     "metadata": {},
     "output_type": "display_data"
    }
   ],
   "source": [
    "checked_sites_AEMET <- read.csv(\"data/Curation/AEMET/checked_sites_AEMET.csv\",\n",
    "                        stringsAsFactor=T)\n",
    "length(levels(checked_sites_AEMET$siteAQ))\n",
    "length(levels(checked_sites_AEMET$indicativo))"
   ]
  },
  {
   "cell_type": "code",
   "execution_count": 23,
   "metadata": {},
   "outputs": [
    {
     "data": {
      "text/html": [
       "<table>\n",
       "<caption>A data.frame: 6 × 9</caption>\n",
       "<thead>\n",
       "\t<tr><th></th><th scope=col>latitud</th><th scope=col>provincia</th><th scope=col>altitud</th><th scope=col>indicativo</th><th scope=col>nombre</th><th scope=col>indsinop</th><th scope=col>longitud</th><th scope=col>dist</th><th scope=col>siteAQ</th></tr>\n",
       "\t<tr><th></th><th scope=col>&lt;dbl&gt;</th><th scope=col>&lt;fct&gt;</th><th scope=col>&lt;int&gt;</th><th scope=col>&lt;fct&gt;</th><th scope=col>&lt;fct&gt;</th><th scope=col>&lt;int&gt;</th><th scope=col>&lt;dbl&gt;</th><th scope=col>&lt;dbl&gt;</th><th scope=col>&lt;fct&gt;</th></tr>\n",
       "</thead>\n",
       "<tbody>\n",
       "\t<tr><th scope=row>31</th><td>40.48861</td><td>MADRID    </td><td>607</td><td>3175 </td><td>TORREJ<c3><93>N DE ARDOZ</td><td>8227</td><td>-3.4436111</td><td> 5.648394</td><td>es1563a</td></tr>\n",
       "\t<tr><th scope=row>32</th><td>40.46667</td><td>MADRID    </td><td>609</td><td>3129 </td><td>MADRID AEROPUERTO       </td><td>8221</td><td>-3.5555556</td><td>11.164444</td><td>es1564a</td></tr>\n",
       "\t<tr><th scope=row>33</th><td>40.37556</td><td>MADRID    </td><td>690</td><td>3196 </td><td>MADRID, CUATRO VIENTOS  </td><td>8223</td><td>-3.7861111</td><td> 4.803136</td><td>es1567a</td></tr>\n",
       "\t<tr><th scope=row>52</th><td>39.48500</td><td>VALENCIA  </td><td> 56</td><td>8414A</td><td>VALENCIA AEROPUERTO     </td><td>8284</td><td>-0.4747222</td><td> 7.753806</td><td>es1970a</td></tr>\n",
       "\t<tr><th scope=row>53</th><td>41.91167</td><td>GIRONA    </td><td>143</td><td>0367 </td><td>GIRONA AEROPUERTO       </td><td>8184</td><td> 2.7633333</td><td> 8.435563</td><td>es1999a</td></tr>\n",
       "\t<tr><th scope=row>54</th><td>41.64083</td><td>VALLADOLID</td><td>735</td><td>2422 </td><td>VALLADOLID              </td><td>8141</td><td>-4.7544444</td><td> 1.668345</td><td>es2010a</td></tr>\n",
       "</tbody>\n",
       "</table>\n"
      ],
      "text/latex": [
       "A data.frame: 6 × 9\n",
       "\\begin{tabular}{r|lllllllll}\n",
       "  & latitud & provincia & altitud & indicativo & nombre & indsinop & longitud & dist & siteAQ\\\\\n",
       "  & <dbl> & <fct> & <int> & <fct> & <fct> & <int> & <dbl> & <dbl> & <fct>\\\\\n",
       "\\hline\n",
       "\t31 & 40.48861 & MADRID     & 607 & 3175  & TORREJ<c3><93>N DE ARDOZ & 8227 & -3.4436111 &  5.648394 & es1563a\\\\\n",
       "\t32 & 40.46667 & MADRID     & 609 & 3129  & MADRID AEROPUERTO        & 8221 & -3.5555556 & 11.164444 & es1564a\\\\\n",
       "\t33 & 40.37556 & MADRID     & 690 & 3196  & MADRID, CUATRO VIENTOS   & 8223 & -3.7861111 &  4.803136 & es1567a\\\\\n",
       "\t52 & 39.48500 & VALENCIA   &  56 & 8414A & VALENCIA AEROPUERTO      & 8284 & -0.4747222 &  7.753806 & es1970a\\\\\n",
       "\t53 & 41.91167 & GIRONA     & 143 & 0367  & GIRONA AEROPUERTO        & 8184 &  2.7633333 &  8.435563 & es1999a\\\\\n",
       "\t54 & 41.64083 & VALLADOLID & 735 & 2422  & VALLADOLID               & 8141 & -4.7544444 &  1.668345 & es2010a\\\\\n",
       "\\end{tabular}\n"
      ],
      "text/markdown": [
       "\n",
       "A data.frame: 6 × 9\n",
       "\n",
       "| <!--/--> | latitud &lt;dbl&gt; | provincia &lt;fct&gt; | altitud &lt;int&gt; | indicativo &lt;fct&gt; | nombre &lt;fct&gt; | indsinop &lt;int&gt; | longitud &lt;dbl&gt; | dist &lt;dbl&gt; | siteAQ &lt;fct&gt; |\n",
       "|---|---|---|---|---|---|---|---|---|---|\n",
       "| 31 | 40.48861 | MADRID     | 607 | 3175  | TORREJ<c3><93>N DE ARDOZ | 8227 | -3.4436111 |  5.648394 | es1563a |\n",
       "| 32 | 40.46667 | MADRID     | 609 | 3129  | MADRID AEROPUERTO        | 8221 | -3.5555556 | 11.164444 | es1564a |\n",
       "| 33 | 40.37556 | MADRID     | 690 | 3196  | MADRID, CUATRO VIENTOS   | 8223 | -3.7861111 |  4.803136 | es1567a |\n",
       "| 52 | 39.48500 | VALENCIA   |  56 | 8414A | VALENCIA AEROPUERTO      | 8284 | -0.4747222 |  7.753806 | es1970a |\n",
       "| 53 | 41.91167 | GIRONA     | 143 | 0367  | GIRONA AEROPUERTO        | 8184 |  2.7633333 |  8.435563 | es1999a |\n",
       "| 54 | 41.64083 | VALLADOLID | 735 | 2422  | VALLADOLID               | 8141 | -4.7544444 |  1.668345 | es2010a |\n",
       "\n"
      ],
      "text/plain": [
       "   latitud  provincia  altitud indicativo nombre                   indsinop\n",
       "31 40.48861 MADRID     607     3175       TORREJ\\303\\223N DE ARDOZ 8227    \n",
       "32 40.46667 MADRID     609     3129       MADRID AEROPUERTO        8221    \n",
       "33 40.37556 MADRID     690     3196       MADRID, CUATRO VIENTOS   8223    \n",
       "52 39.48500 VALENCIA    56     8414A      VALENCIA AEROPUERTO      8284    \n",
       "53 41.91167 GIRONA     143     0367       GIRONA AEROPUERTO        8184    \n",
       "54 41.64083 VALLADOLID 735     2422       VALLADOLID               8141    \n",
       "   longitud   dist      siteAQ \n",
       "31 -3.4436111  5.648394 es1563a\n",
       "32 -3.5555556 11.164444 es1564a\n",
       "33 -3.7861111  4.803136 es1567a\n",
       "52 -0.4747222  7.753806 es1970a\n",
       "53  2.7633333  8.435563 es1999a\n",
       "54 -4.7544444  1.668345 es2010a"
      ]
     },
     "metadata": {},
     "output_type": "display_data"
    }
   ],
   "source": [
    "head(checked_sites_AEMET[!(sites_AEMET$siteAQ %in% checked_sites_AEMET$siteAQ), ])"
   ]
  },
  {
   "cell_type": "code",
   "execution_count": null,
   "metadata": {},
   "outputs": [],
   "source": []
  }
 ],
 "metadata": {
  "kernelspec": {
   "display_name": "R",
   "language": "R",
   "name": "ir"
  },
  "language_info": {
   "codemirror_mode": "r",
   "file_extension": ".r",
   "mimetype": "text/x-r-source",
   "name": "R",
   "pygments_lexer": "r",
   "version": "3.6.3"
  }
 },
 "nbformat": 4,
 "nbformat_minor": 4
}
