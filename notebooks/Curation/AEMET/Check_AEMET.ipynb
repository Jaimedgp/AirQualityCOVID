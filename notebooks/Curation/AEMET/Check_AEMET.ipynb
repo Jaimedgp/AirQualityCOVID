{
 "cells": [
  {
   "cell_type": "markdown",
   "metadata": {},
   "source": [
    "# Filtrar Estaciones AEMET\n",
    "\n",
    "Filtrar aquellas estaciones Meteorologicas de la AEMET que complan con los siguientes requisitos minimos:\n",
    "\n",
    "* Tengan Al menos el > 90% de los datos meteorologicos a excepcion de la variable \"sol\" y las variables horarias\n",
    "\n",
    "* Sea la mas cerca con los requisitos anteriores a la estacion de calidad del aire correspondiente"
   ]
  },
  {
   "cell_type": "code",
   "execution_count": 1,
   "metadata": {},
   "outputs": [],
   "source": [
    "setwd(\"~/Repositories/AirQualityCOVID/\")"
   ]
  },
  {
   "cell_type": "markdown",
   "metadata": {},
   "source": [
    "## Estaciones Meteo"
   ]
  },
  {
   "cell_type": "code",
   "execution_count": 2,
   "metadata": {},
   "outputs": [
    {
     "data": {
      "text/html": [
       "<table>\n",
       "<caption>A data.frame: 6 × 23</caption>\n",
       "<thead>\n",
       "\t<tr><th></th><th scope=col>site</th><th scope=col>start_dt</th><th scope=col>end_dt</th><th scope=col>miss_dy</th><th scope=col>fecha</th><th scope=col>indicativo</th><th scope=col>nombre</th><th scope=col>provincia</th><th scope=col>altitud</th><th scope=col>tmed</th><th scope=col>⋯</th><th scope=col>tmax</th><th scope=col>horatmax</th><th scope=col>dir</th><th scope=col>velmedia</th><th scope=col>racha</th><th scope=col>horaracha</th><th scope=col>presMax</th><th scope=col>horaPresMax</th><th scope=col>presMin</th><th scope=col>horaPresMin</th></tr>\n",
       "\t<tr><th></th><th scope=col>&lt;chr&gt;</th><th scope=col>&lt;chr&gt;</th><th scope=col>&lt;chr&gt;</th><th scope=col>&lt;int&gt;</th><th scope=col>&lt;dbl&gt;</th><th scope=col>&lt;dbl&gt;</th><th scope=col>&lt;dbl&gt;</th><th scope=col>&lt;dbl&gt;</th><th scope=col>&lt;dbl&gt;</th><th scope=col>&lt;dbl&gt;</th><th scope=col>⋯</th><th scope=col>&lt;dbl&gt;</th><th scope=col>&lt;dbl&gt;</th><th scope=col>&lt;dbl&gt;</th><th scope=col>&lt;dbl&gt;</th><th scope=col>&lt;dbl&gt;</th><th scope=col>&lt;dbl&gt;</th><th scope=col>&lt;dbl&gt;</th><th scope=col>&lt;dbl&gt;</th><th scope=col>&lt;dbl&gt;</th><th scope=col>&lt;dbl&gt;</th></tr>\n",
       "</thead>\n",
       "<tbody>\n",
       "\t<tr><th scope=row>1</th><td>0149X</td><td>2013-01-01</td><td>2020-12-31</td><td> 42</td><td>0.9856312</td><td>0.9856312</td><td>0.9856312</td><td>0.9856312</td><td>0.9856312</td><td>0.9770783</td><td>⋯</td><td>0.9770783</td><td>0.9856312</td><td>0.9322614</td><td>0.9404721</td><td>0.9322614</td><td>0.9856312</td><td>0.9784468</td><td>0.9784468</td><td>0.9784468</td><td>0.9784468</td></tr>\n",
       "\t<tr><th scope=row>2</th><td>0200E</td><td>2013-01-01</td><td>2020-12-31</td><td>  0</td><td>1.0000000</td><td>1.0000000</td><td>1.0000000</td><td>1.0000000</td><td>1.0000000</td><td>1.0000000</td><td>⋯</td><td>1.0000000</td><td>1.0000000</td><td>0.9993158</td><td>1.0000000</td><td>0.9993158</td><td>1.0000000</td><td>1.0000000</td><td>1.0000000</td><td>1.0000000</td><td>1.0000000</td></tr>\n",
       "\t<tr><th scope=row>3</th><td>1059X</td><td>2013-01-01</td><td>2020-12-31</td><td> 43</td><td>0.9852891</td><td>0.9852891</td><td>0.9852891</td><td>0.9852891</td><td>0.9852891</td><td>0.9476565</td><td>⋯</td><td>0.9476565</td><td>0.9852891</td><td>0.9722887</td><td>0.9774205</td><td>0.9722887</td><td>0.9852891</td><td>0.9360246</td><td>0.9360246</td><td>0.9360246</td><td>0.9360246</td></tr>\n",
       "\t<tr><th scope=row>4</th><td>1078I</td><td>2013-01-01</td><td>2020-12-31</td><td>507</td><td>0.8265481</td><td>0.8265481</td><td>0.8265481</td><td>0.8265481</td><td>0.8265481</td><td>0.8029422</td><td>⋯</td><td>0.8029422</td><td>0.8265481</td><td>0.8073897</td><td>0.8114950</td><td>0.8073897</td><td>0.8265481</td><td>0.6914129</td><td>0.6914129</td><td>0.6914129</td><td>0.6914129</td></tr>\n",
       "\t<tr><th scope=row>5</th><td>1082 </td><td>2013-01-01</td><td>2020-12-31</td><td>  0</td><td>1.0000000</td><td>1.0000000</td><td>1.0000000</td><td>1.0000000</td><td>1.0000000</td><td>1.0000000</td><td>⋯</td><td>1.0000000</td><td>1.0000000</td><td>0.9996579</td><td>0.9993158</td><td>0.9996579</td><td>1.0000000</td><td>1.0000000</td><td>1.0000000</td><td>1.0000000</td><td>1.0000000</td></tr>\n",
       "\t<tr><th scope=row>6</th><td>3129 </td><td>2013-01-01</td><td>2020-12-31</td><td>  0</td><td>1.0000000</td><td>1.0000000</td><td>1.0000000</td><td>1.0000000</td><td>1.0000000</td><td>0.9996579</td><td>⋯</td><td>0.9996579</td><td>1.0000000</td><td>0.9989737</td><td>1.0000000</td><td>0.9989737</td><td>1.0000000</td><td>1.0000000</td><td>1.0000000</td><td>1.0000000</td><td>1.0000000</td></tr>\n",
       "</tbody>\n",
       "</table>\n"
      ],
      "text/latex": [
       "A data.frame: 6 × 23\n",
       "\\begin{tabular}{r|lllllllllllllllllllll}\n",
       "  & site & start\\_dt & end\\_dt & miss\\_dy & fecha & indicativo & nombre & provincia & altitud & tmed & ⋯ & tmax & horatmax & dir & velmedia & racha & horaracha & presMax & horaPresMax & presMin & horaPresMin\\\\\n",
       "  & <chr> & <chr> & <chr> & <int> & <dbl> & <dbl> & <dbl> & <dbl> & <dbl> & <dbl> & ⋯ & <dbl> & <dbl> & <dbl> & <dbl> & <dbl> & <dbl> & <dbl> & <dbl> & <dbl> & <dbl>\\\\\n",
       "\\hline\n",
       "\t1 & 0149X & 2013-01-01 & 2020-12-31 &  42 & 0.9856312 & 0.9856312 & 0.9856312 & 0.9856312 & 0.9856312 & 0.9770783 & ⋯ & 0.9770783 & 0.9856312 & 0.9322614 & 0.9404721 & 0.9322614 & 0.9856312 & 0.9784468 & 0.9784468 & 0.9784468 & 0.9784468\\\\\n",
       "\t2 & 0200E & 2013-01-01 & 2020-12-31 &   0 & 1.0000000 & 1.0000000 & 1.0000000 & 1.0000000 & 1.0000000 & 1.0000000 & ⋯ & 1.0000000 & 1.0000000 & 0.9993158 & 1.0000000 & 0.9993158 & 1.0000000 & 1.0000000 & 1.0000000 & 1.0000000 & 1.0000000\\\\\n",
       "\t3 & 1059X & 2013-01-01 & 2020-12-31 &  43 & 0.9852891 & 0.9852891 & 0.9852891 & 0.9852891 & 0.9852891 & 0.9476565 & ⋯ & 0.9476565 & 0.9852891 & 0.9722887 & 0.9774205 & 0.9722887 & 0.9852891 & 0.9360246 & 0.9360246 & 0.9360246 & 0.9360246\\\\\n",
       "\t4 & 1078I & 2013-01-01 & 2020-12-31 & 507 & 0.8265481 & 0.8265481 & 0.8265481 & 0.8265481 & 0.8265481 & 0.8029422 & ⋯ & 0.8029422 & 0.8265481 & 0.8073897 & 0.8114950 & 0.8073897 & 0.8265481 & 0.6914129 & 0.6914129 & 0.6914129 & 0.6914129\\\\\n",
       "\t5 & 1082  & 2013-01-01 & 2020-12-31 &   0 & 1.0000000 & 1.0000000 & 1.0000000 & 1.0000000 & 1.0000000 & 1.0000000 & ⋯ & 1.0000000 & 1.0000000 & 0.9996579 & 0.9993158 & 0.9996579 & 1.0000000 & 1.0000000 & 1.0000000 & 1.0000000 & 1.0000000\\\\\n",
       "\t6 & 3129  & 2013-01-01 & 2020-12-31 &   0 & 1.0000000 & 1.0000000 & 1.0000000 & 1.0000000 & 1.0000000 & 0.9996579 & ⋯ & 0.9996579 & 1.0000000 & 0.9989737 & 1.0000000 & 0.9989737 & 1.0000000 & 1.0000000 & 1.0000000 & 1.0000000 & 1.0000000\\\\\n",
       "\\end{tabular}\n"
      ],
      "text/markdown": [
       "\n",
       "A data.frame: 6 × 23\n",
       "\n",
       "| <!--/--> | site &lt;chr&gt; | start_dt &lt;chr&gt; | end_dt &lt;chr&gt; | miss_dy &lt;int&gt; | fecha &lt;dbl&gt; | indicativo &lt;dbl&gt; | nombre &lt;dbl&gt; | provincia &lt;dbl&gt; | altitud &lt;dbl&gt; | tmed &lt;dbl&gt; | ⋯ ⋯ | tmax &lt;dbl&gt; | horatmax &lt;dbl&gt; | dir &lt;dbl&gt; | velmedia &lt;dbl&gt; | racha &lt;dbl&gt; | horaracha &lt;dbl&gt; | presMax &lt;dbl&gt; | horaPresMax &lt;dbl&gt; | presMin &lt;dbl&gt; | horaPresMin &lt;dbl&gt; |\n",
       "|---|---|---|---|---|---|---|---|---|---|---|---|---|---|---|---|---|---|---|---|---|---|\n",
       "| 1 | 0149X | 2013-01-01 | 2020-12-31 |  42 | 0.9856312 | 0.9856312 | 0.9856312 | 0.9856312 | 0.9856312 | 0.9770783 | ⋯ | 0.9770783 | 0.9856312 | 0.9322614 | 0.9404721 | 0.9322614 | 0.9856312 | 0.9784468 | 0.9784468 | 0.9784468 | 0.9784468 |\n",
       "| 2 | 0200E | 2013-01-01 | 2020-12-31 |   0 | 1.0000000 | 1.0000000 | 1.0000000 | 1.0000000 | 1.0000000 | 1.0000000 | ⋯ | 1.0000000 | 1.0000000 | 0.9993158 | 1.0000000 | 0.9993158 | 1.0000000 | 1.0000000 | 1.0000000 | 1.0000000 | 1.0000000 |\n",
       "| 3 | 1059X | 2013-01-01 | 2020-12-31 |  43 | 0.9852891 | 0.9852891 | 0.9852891 | 0.9852891 | 0.9852891 | 0.9476565 | ⋯ | 0.9476565 | 0.9852891 | 0.9722887 | 0.9774205 | 0.9722887 | 0.9852891 | 0.9360246 | 0.9360246 | 0.9360246 | 0.9360246 |\n",
       "| 4 | 1078I | 2013-01-01 | 2020-12-31 | 507 | 0.8265481 | 0.8265481 | 0.8265481 | 0.8265481 | 0.8265481 | 0.8029422 | ⋯ | 0.8029422 | 0.8265481 | 0.8073897 | 0.8114950 | 0.8073897 | 0.8265481 | 0.6914129 | 0.6914129 | 0.6914129 | 0.6914129 |\n",
       "| 5 | 1082  | 2013-01-01 | 2020-12-31 |   0 | 1.0000000 | 1.0000000 | 1.0000000 | 1.0000000 | 1.0000000 | 1.0000000 | ⋯ | 1.0000000 | 1.0000000 | 0.9996579 | 0.9993158 | 0.9996579 | 1.0000000 | 1.0000000 | 1.0000000 | 1.0000000 | 1.0000000 |\n",
       "| 6 | 3129  | 2013-01-01 | 2020-12-31 |   0 | 1.0000000 | 1.0000000 | 1.0000000 | 1.0000000 | 1.0000000 | 0.9996579 | ⋯ | 0.9996579 | 1.0000000 | 0.9989737 | 1.0000000 | 0.9989737 | 1.0000000 | 1.0000000 | 1.0000000 | 1.0000000 | 1.0000000 |\n",
       "\n"
      ],
      "text/plain": [
       "  site  start_dt   end_dt     miss_dy fecha     indicativo nombre    provincia\n",
       "1 0149X 2013-01-01 2020-12-31  42     0.9856312 0.9856312  0.9856312 0.9856312\n",
       "2 0200E 2013-01-01 2020-12-31   0     1.0000000 1.0000000  1.0000000 1.0000000\n",
       "3 1059X 2013-01-01 2020-12-31  43     0.9852891 0.9852891  0.9852891 0.9852891\n",
       "4 1078I 2013-01-01 2020-12-31 507     0.8265481 0.8265481  0.8265481 0.8265481\n",
       "5 1082  2013-01-01 2020-12-31   0     1.0000000 1.0000000  1.0000000 1.0000000\n",
       "6 3129  2013-01-01 2020-12-31   0     1.0000000 1.0000000  1.0000000 1.0000000\n",
       "  altitud   tmed      <U+22EF>   tmax      horatmax  dir       velmedia \n",
       "1 0.9856312 0.9770783 <U+22EF> 0.9770783 0.9856312 0.9322614 0.9404721\n",
       "2 1.0000000 1.0000000 <U+22EF> 1.0000000 1.0000000 0.9993158 1.0000000\n",
       "3 0.9852891 0.9476565 <U+22EF> 0.9476565 0.9852891 0.9722887 0.9774205\n",
       "4 0.8265481 0.8029422 <U+22EF> 0.8029422 0.8265481 0.8073897 0.8114950\n",
       "5 1.0000000 1.0000000 <U+22EF> 1.0000000 1.0000000 0.9996579 0.9993158\n",
       "6 1.0000000 0.9996579 <U+22EF> 0.9996579 1.0000000 0.9989737 1.0000000\n",
       "  racha     horaracha presMax   horaPresMax presMin   horaPresMin\n",
       "1 0.9322614 0.9856312 0.9784468 0.9784468   0.9784468 0.9784468  \n",
       "2 0.9993158 1.0000000 1.0000000 1.0000000   1.0000000 1.0000000  \n",
       "3 0.9722887 0.9852891 0.9360246 0.9360246   0.9360246 0.9360246  \n",
       "4 0.8073897 0.8265481 0.6914129 0.6914129   0.6914129 0.6914129  \n",
       "5 0.9996579 1.0000000 1.0000000 1.0000000   1.0000000 1.0000000  \n",
       "6 0.9989737 1.0000000 1.0000000 1.0000000   1.0000000 1.0000000  "
      ]
     },
     "metadata": {},
     "output_type": "display_data"
    }
   ],
   "source": [
    "info.sites <- read.csv(\"data/Curation/AEMET/info_sites_AEMET.csv\",\n",
    "                       stringsAsFactor=FALSE)\n",
    "head(info.sites)"
   ]
  },
  {
   "cell_type": "code",
   "execution_count": 3,
   "metadata": {},
   "outputs": [],
   "source": [
    "var.horarias <- c('sol', 'horatmin', 'horatmax', 'horaracha', 'horaPresMax', 'horaPresMin')\n",
    "\n",
    "info.sites <- info.sites[, -which(names(info.sites) %in% var.horarias)]"
   ]
  },
  {
   "cell_type": "code",
   "execution_count": 4,
   "metadata": {},
   "outputs": [],
   "source": [
    "info.sites[,\"numVar\"] <- apply(info.sites, 1, \n",
    "                             function(row) {\n",
    "                                 length(row[5: length(row)]) == sum(row[5: length(row)] > 0.9,\n",
    "                                     na.rm=T)\n",
    "                                 }\n",
    "                             )\n",
    "\n",
    "info.sites <- info.sites[-which(info.sites$numVar == FALSE),]"
   ]
  },
  {
   "cell_type": "markdown",
   "metadata": {},
   "source": [
    "## Estaciones mas Cercanas"
   ]
  },
  {
   "cell_type": "code",
   "execution_count": 14,
   "metadata": {},
   "outputs": [
    {
     "data": {
      "text/html": [
       "<table>\n",
       "<caption>A data.frame: 8 × 9</caption>\n",
       "<thead>\n",
       "\t<tr><th></th><th scope=col>latitud</th><th scope=col>provincia</th><th scope=col>altitud</th><th scope=col>indicativo</th><th scope=col>nombre</th><th scope=col>indsinop</th><th scope=col>longitud</th><th scope=col>dist</th><th scope=col>siteAQ</th></tr>\n",
       "\t<tr><th></th><th scope=col>&lt;dbl&gt;</th><th scope=col>&lt;chr&gt;</th><th scope=col>&lt;int&gt;</th><th scope=col>&lt;chr&gt;</th><th scope=col>&lt;chr&gt;</th><th scope=col>&lt;int&gt;</th><th scope=col>&lt;dbl&gt;</th><th scope=col>&lt;dbl&gt;</th><th scope=col>&lt;chr&gt;</th></tr>\n",
       "</thead>\n",
       "<tbody>\n",
       "\t<tr><th scope=row>1</th><td>43.29806</td><td>BIZKAIA</td><td> 42</td><td>1082 </td><td>BILBAO AEROPUERTO     </td><td>8025</td><td>-2.906389</td><td> 5.756578</td><td>es0110a</td></tr>\n",
       "\t<tr><th scope=row>2</th><td>43.37500</td><td>BIZKAIA</td><td> 90</td><td>1059X</td><td>PUNTA GALEA           </td><td>8059</td><td>-3.021667</td><td> 8.807760</td><td>es0110a</td></tr>\n",
       "\t<tr><th scope=row>4</th><td>40.41194</td><td>MADRID </td><td>667</td><td>3195 </td><td>MADRID, RETIRO        </td><td>8222</td><td>-3.678056</td><td> 3.195804</td><td>es0115a</td></tr>\n",
       "\t<tr><th scope=row>6</th><td>40.37556</td><td>MADRID </td><td>690</td><td>3196 </td><td>MADRID, CUATRO VIENTOS</td><td>8223</td><td>-3.786111</td><td> 8.268356</td><td>es0115a</td></tr>\n",
       "\t<tr><th scope=row>7</th><td>40.41194</td><td>MADRID </td><td>667</td><td>3195 </td><td>MADRID, RETIRO        </td><td>8222</td><td>-3.678056</td><td> 1.137154</td><td>es0118a</td></tr>\n",
       "\t<tr><th scope=row>9</th><td>40.37556</td><td>MADRID </td><td>690</td><td>3196 </td><td>MADRID, CUATRO VIENTOS</td><td>8223</td><td>-3.786111</td><td>10.182525</td><td>es0118a</td></tr>\n",
       "\t<tr><th scope=row>11</th><td>40.41194</td><td>MADRID </td><td>667</td><td>3195 </td><td>MADRID, RETIRO        </td><td>8222</td><td>-3.678056</td><td> 4.417472</td><td>es0120a</td></tr>\n",
       "\t<tr><th scope=row>12</th><td>40.46667</td><td>MADRID </td><td>609</td><td>3129 </td><td>MADRID AEROPUERTO     </td><td>8221</td><td>-3.555556</td><td>10.427830</td><td>es0120a</td></tr>\n",
       "</tbody>\n",
       "</table>\n"
      ],
      "text/latex": [
       "A data.frame: 8 × 9\n",
       "\\begin{tabular}{r|lllllllll}\n",
       "  & latitud & provincia & altitud & indicativo & nombre & indsinop & longitud & dist & siteAQ\\\\\n",
       "  & <dbl> & <chr> & <int> & <chr> & <chr> & <int> & <dbl> & <dbl> & <chr>\\\\\n",
       "\\hline\n",
       "\t1 & 43.29806 & BIZKAIA &  42 & 1082  & BILBAO AEROPUERTO      & 8025 & -2.906389 &  5.756578 & es0110a\\\\\n",
       "\t2 & 43.37500 & BIZKAIA &  90 & 1059X & PUNTA GALEA            & 8059 & -3.021667 &  8.807760 & es0110a\\\\\n",
       "\t4 & 40.41194 & MADRID  & 667 & 3195  & MADRID, RETIRO         & 8222 & -3.678056 &  3.195804 & es0115a\\\\\n",
       "\t6 & 40.37556 & MADRID  & 690 & 3196  & MADRID, CUATRO VIENTOS & 8223 & -3.786111 &  8.268356 & es0115a\\\\\n",
       "\t7 & 40.41194 & MADRID  & 667 & 3195  & MADRID, RETIRO         & 8222 & -3.678056 &  1.137154 & es0118a\\\\\n",
       "\t9 & 40.37556 & MADRID  & 690 & 3196  & MADRID, CUATRO VIENTOS & 8223 & -3.786111 & 10.182525 & es0118a\\\\\n",
       "\t11 & 40.41194 & MADRID  & 667 & 3195  & MADRID, RETIRO         & 8222 & -3.678056 &  4.417472 & es0120a\\\\\n",
       "\t12 & 40.46667 & MADRID  & 609 & 3129  & MADRID AEROPUERTO      & 8221 & -3.555556 & 10.427830 & es0120a\\\\\n",
       "\\end{tabular}\n"
      ],
      "text/markdown": [
       "\n",
       "A data.frame: 8 × 9\n",
       "\n",
       "| <!--/--> | latitud &lt;dbl&gt; | provincia &lt;chr&gt; | altitud &lt;int&gt; | indicativo &lt;chr&gt; | nombre &lt;chr&gt; | indsinop &lt;int&gt; | longitud &lt;dbl&gt; | dist &lt;dbl&gt; | siteAQ &lt;chr&gt; |\n",
       "|---|---|---|---|---|---|---|---|---|---|\n",
       "| 1 | 43.29806 | BIZKAIA |  42 | 1082  | BILBAO AEROPUERTO      | 8025 | -2.906389 |  5.756578 | es0110a |\n",
       "| 2 | 43.37500 | BIZKAIA |  90 | 1059X | PUNTA GALEA            | 8059 | -3.021667 |  8.807760 | es0110a |\n",
       "| 4 | 40.41194 | MADRID  | 667 | 3195  | MADRID, RETIRO         | 8222 | -3.678056 |  3.195804 | es0115a |\n",
       "| 6 | 40.37556 | MADRID  | 690 | 3196  | MADRID, CUATRO VIENTOS | 8223 | -3.786111 |  8.268356 | es0115a |\n",
       "| 7 | 40.41194 | MADRID  | 667 | 3195  | MADRID, RETIRO         | 8222 | -3.678056 |  1.137154 | es0118a |\n",
       "| 9 | 40.37556 | MADRID  | 690 | 3196  | MADRID, CUATRO VIENTOS | 8223 | -3.786111 | 10.182525 | es0118a |\n",
       "| 11 | 40.41194 | MADRID  | 667 | 3195  | MADRID, RETIRO         | 8222 | -3.678056 |  4.417472 | es0120a |\n",
       "| 12 | 40.46667 | MADRID  | 609 | 3129  | MADRID AEROPUERTO      | 8221 | -3.555556 | 10.427830 | es0120a |\n",
       "\n"
      ],
      "text/plain": [
       "   latitud  provincia altitud indicativo nombre                 indsinop\n",
       "1  43.29806 BIZKAIA    42     1082       BILBAO AEROPUERTO      8025    \n",
       "2  43.37500 BIZKAIA    90     1059X      PUNTA GALEA            8059    \n",
       "4  40.41194 MADRID    667     3195       MADRID, RETIRO         8222    \n",
       "6  40.37556 MADRID    690     3196       MADRID, CUATRO VIENTOS 8223    \n",
       "7  40.41194 MADRID    667     3195       MADRID, RETIRO         8222    \n",
       "9  40.37556 MADRID    690     3196       MADRID, CUATRO VIENTOS 8223    \n",
       "11 40.41194 MADRID    667     3195       MADRID, RETIRO         8222    \n",
       "12 40.46667 MADRID    609     3129       MADRID AEROPUERTO      8221    \n",
       "   longitud  dist      siteAQ \n",
       "1  -2.906389  5.756578 es0110a\n",
       "2  -3.021667  8.807760 es0110a\n",
       "4  -3.678056  3.195804 es0115a\n",
       "6  -3.786111  8.268356 es0115a\n",
       "7  -3.678056  1.137154 es0118a\n",
       "9  -3.786111 10.182525 es0118a\n",
       "11 -3.678056  4.417472 es0120a\n",
       "12 -3.555556 10.427830 es0120a"
      ]
     },
     "metadata": {},
     "output_type": "display_data"
    }
   ],
   "source": [
    "sites.AEMET <- read.csv(\"data/Curation/AEMET/sites_AEMET.csv\",\n",
    "                        stringsAsFactor=FALSE)\n",
    "\n",
    "new.sites <- sites.AEMET[which(sites.AEMET$indicativo %in% info.sites$site),]"
   ]
  },
  {
   "cell_type": "code",
   "execution_count": 17,
   "metadata": {},
   "outputs": [],
   "source": [
    "checked_sites <- data.frame()\n",
    "\n",
    "for (st in levels(as.factor(new.sites$siteAQ))) {\n",
    "    rows <- new.sites[new.sites$siteAQ == st,]\n",
    "    checked_sites <- rbind(checked_sites,\n",
    "                           rows[rows$dist == min(rows$dist),])\n",
    "}"
   ]
  },
  {
   "cell_type": "code",
   "execution_count": 18,
   "metadata": {},
   "outputs": [
    {
     "data": {
      "text/html": [
       "<table>\n",
       "<caption>A data.frame: 4 × 9</caption>\n",
       "<thead>\n",
       "\t<tr><th></th><th scope=col>latitud</th><th scope=col>provincia</th><th scope=col>altitud</th><th scope=col>indicativo</th><th scope=col>nombre</th><th scope=col>indsinop</th><th scope=col>longitud</th><th scope=col>dist</th><th scope=col>siteAQ</th></tr>\n",
       "\t<tr><th></th><th scope=col>&lt;dbl&gt;</th><th scope=col>&lt;chr&gt;</th><th scope=col>&lt;int&gt;</th><th scope=col>&lt;chr&gt;</th><th scope=col>&lt;chr&gt;</th><th scope=col>&lt;int&gt;</th><th scope=col>&lt;dbl&gt;</th><th scope=col>&lt;dbl&gt;</th><th scope=col>&lt;chr&gt;</th></tr>\n",
       "</thead>\n",
       "<tbody>\n",
       "\t<tr><th scope=row>1</th><td>43.29806</td><td>BIZKAIA</td><td> 42</td><td>1082</td><td>BILBAO AEROPUERTO</td><td>8025</td><td>-2.906389</td><td>5.756578</td><td>es0110a</td></tr>\n",
       "\t<tr><th scope=row>4</th><td>40.41194</td><td>MADRID </td><td>667</td><td>3195</td><td>MADRID, RETIRO   </td><td>8222</td><td>-3.678056</td><td>3.195804</td><td>es0115a</td></tr>\n",
       "\t<tr><th scope=row>7</th><td>40.41194</td><td>MADRID </td><td>667</td><td>3195</td><td>MADRID, RETIRO   </td><td>8222</td><td>-3.678056</td><td>1.137154</td><td>es0118a</td></tr>\n",
       "\t<tr><th scope=row>11</th><td>40.41194</td><td>MADRID </td><td>667</td><td>3195</td><td>MADRID, RETIRO   </td><td>8222</td><td>-3.678056</td><td>4.417472</td><td>es0120a</td></tr>\n",
       "</tbody>\n",
       "</table>\n"
      ],
      "text/latex": [
       "A data.frame: 4 × 9\n",
       "\\begin{tabular}{r|lllllllll}\n",
       "  & latitud & provincia & altitud & indicativo & nombre & indsinop & longitud & dist & siteAQ\\\\\n",
       "  & <dbl> & <chr> & <int> & <chr> & <chr> & <int> & <dbl> & <dbl> & <chr>\\\\\n",
       "\\hline\n",
       "\t1 & 43.29806 & BIZKAIA &  42 & 1082 & BILBAO AEROPUERTO & 8025 & -2.906389 & 5.756578 & es0110a\\\\\n",
       "\t4 & 40.41194 & MADRID  & 667 & 3195 & MADRID, RETIRO    & 8222 & -3.678056 & 3.195804 & es0115a\\\\\n",
       "\t7 & 40.41194 & MADRID  & 667 & 3195 & MADRID, RETIRO    & 8222 & -3.678056 & 1.137154 & es0118a\\\\\n",
       "\t11 & 40.41194 & MADRID  & 667 & 3195 & MADRID, RETIRO    & 8222 & -3.678056 & 4.417472 & es0120a\\\\\n",
       "\\end{tabular}\n"
      ],
      "text/markdown": [
       "\n",
       "A data.frame: 4 × 9\n",
       "\n",
       "| <!--/--> | latitud &lt;dbl&gt; | provincia &lt;chr&gt; | altitud &lt;int&gt; | indicativo &lt;chr&gt; | nombre &lt;chr&gt; | indsinop &lt;int&gt; | longitud &lt;dbl&gt; | dist &lt;dbl&gt; | siteAQ &lt;chr&gt; |\n",
       "|---|---|---|---|---|---|---|---|---|---|\n",
       "| 1 | 43.29806 | BIZKAIA |  42 | 1082 | BILBAO AEROPUERTO | 8025 | -2.906389 | 5.756578 | es0110a |\n",
       "| 4 | 40.41194 | MADRID  | 667 | 3195 | MADRID, RETIRO    | 8222 | -3.678056 | 3.195804 | es0115a |\n",
       "| 7 | 40.41194 | MADRID  | 667 | 3195 | MADRID, RETIRO    | 8222 | -3.678056 | 1.137154 | es0118a |\n",
       "| 11 | 40.41194 | MADRID  | 667 | 3195 | MADRID, RETIRO    | 8222 | -3.678056 | 4.417472 | es0120a |\n",
       "\n"
      ],
      "text/plain": [
       "   latitud  provincia altitud indicativo nombre            indsinop longitud \n",
       "1  43.29806 BIZKAIA    42     1082       BILBAO AEROPUERTO 8025     -2.906389\n",
       "4  40.41194 MADRID    667     3195       MADRID, RETIRO    8222     -3.678056\n",
       "7  40.41194 MADRID    667     3195       MADRID, RETIRO    8222     -3.678056\n",
       "11 40.41194 MADRID    667     3195       MADRID, RETIRO    8222     -3.678056\n",
       "   dist     siteAQ \n",
       "1  5.756578 es0110a\n",
       "4  3.195804 es0115a\n",
       "7  1.137154 es0118a\n",
       "11 4.417472 es0120a"
      ]
     },
     "metadata": {},
     "output_type": "display_data"
    }
   ],
   "source": [
    "head(checked_sites)"
   ]
  },
  {
   "cell_type": "markdown",
   "metadata": {},
   "source": [
    "# Guardar Datos"
   ]
  },
  {
   "cell_type": "markdown",
   "metadata": {},
   "source": [
    "```R\n",
    "write.csv(checked_sites,\n",
    "          \"data/Curation/AEMET/checked_sites_AEMET.csv\",\n",
    "          row.names=F)\n",
    "\n",
    "```"
   ]
  },
  {
   "cell_type": "code",
   "execution_count": null,
   "metadata": {},
   "outputs": [],
   "source": []
  }
 ],
 "metadata": {
  "kernelspec": {
   "display_name": "R",
   "language": "R",
   "name": "ir"
  },
  "language_info": {
   "codemirror_mode": "r",
   "file_extension": ".r",
   "mimetype": "text/x-r-source",
   "name": "R",
   "pygments_lexer": "r",
   "version": "3.6.3"
  }
 },
 "nbformat": 4,
 "nbformat_minor": 4
}
