{
 "cells": [
  {
   "cell_type": "markdown",
   "metadata": {},
   "source": [
    "# AutoAEMET\n",
    "\n",
    "Automatizar la descarga de los datos de la AEMET a traves e su API.\n",
    "\n",
    "| Codigo |         significado         | Nuevo Valor  |\n",
    "|:------:|:---------------------------:|:------------:|\n",
    "|   Ip   | prec < 0.1mm (Inapreciable) |      0       |\n",
    "| Varios |         Varias horas        |     -2       |"
   ]
  },
  {
   "cell_type": "code",
   "execution_count": 1,
   "metadata": {
    "attributes": {
     "classes": [],
     "id": "",
     "n": "1"
    }
   },
   "outputs": [],
   "source": [
    "import os\n",
    "\n",
    "os.chdir(\"/home/jaimedgp/Repositories/AirQualityCOVID/src/curation/\")\n",
    "\n",
    "HOME = \"/home/jaimedgp/Repositories/AirQualityCOVID/\""
   ]
  },
  {
   "cell_type": "code",
   "execution_count": 2,
   "metadata": {
    "attributes": {
     "classes": [],
     "id": "",
     "n": "2"
    }
   },
   "outputs": [],
   "source": [
    "from AEMET.downloadAEMET import DownloadAEMET\n",
    "from datetime import date\n",
    "\n",
    "import pandas as pd"
   ]
  },
  {
   "cell_type": "code",
   "execution_count": 3,
   "metadata": {
    "attributes": {
     "classes": [],
     "id": "",
     "n": "3"
    }
   },
   "outputs": [],
   "source": [
    "Aemet = DownloadAEMET(apikey=)"
   ]
  },
  {
   "cell_type": "code",
   "execution_count": 4,
   "metadata": {
    "attributes": {
     "classes": [],
     "id": "",
     "n": "4"
    }
   },
   "outputs": [],
   "source": [
    "sites = Aemet.get_stations()"
   ]
  },
  {
   "cell_type": "code",
   "execution_count": 5,
   "metadata": {
    "attributes": {
     "classes": [],
     "id": "",
     "n": "5"
    }
   },
   "outputs": [
    {
     "data": {
      "text/html": [
       "<div>\n",
       "<style scoped>\n",
       "    .dataframe tbody tr th:only-of-type {\n",
       "        vertical-align: middle;\n",
       "    }\n",
       "\n",
       "    .dataframe tbody tr th {\n",
       "        vertical-align: top;\n",
       "    }\n",
       "\n",
       "    .dataframe thead th {\n",
       "        text-align: right;\n",
       "    }\n",
       "</style>\n",
       "<table border=\"1\" class=\"dataframe\">\n",
       "  <thead>\n",
       "    <tr style=\"text-align: right;\">\n",
       "      <th></th>\n",
       "      <th>latitud</th>\n",
       "      <th>provincia</th>\n",
       "      <th>altitud</th>\n",
       "      <th>indicativo</th>\n",
       "      <th>nombre</th>\n",
       "      <th>indsinop</th>\n",
       "      <th>longitud</th>\n",
       "    </tr>\n",
       "  </thead>\n",
       "  <tbody>\n",
       "    <tr>\n",
       "      <th>40</th>\n",
       "      <td>432341N</td>\n",
       "      <td>CANTABRIA</td>\n",
       "      <td>45</td>\n",
       "      <td>1083L</td>\n",
       "      <td>CASTRO URDIALES</td>\n",
       "      <td>08020</td>\n",
       "      <td>031402W</td>\n",
       "    </tr>\n",
       "    <tr>\n",
       "      <th>41</th>\n",
       "      <td>432336N</td>\n",
       "      <td>CANTABRIA</td>\n",
       "      <td>38</td>\n",
       "      <td>1159</td>\n",
       "      <td>SAN VICENTE DE LA BARQUERA</td>\n",
       "      <td>08017</td>\n",
       "      <td>042332W</td>\n",
       "    </tr>\n",
       "    <tr>\n",
       "      <th>42</th>\n",
       "      <td>432526N</td>\n",
       "      <td>CANTABRIA</td>\n",
       "      <td>3</td>\n",
       "      <td>1109</td>\n",
       "      <td>SANTANDER AEROPUERTO</td>\n",
       "      <td>08021</td>\n",
       "      <td>034932W</td>\n",
       "    </tr>\n",
       "    <tr>\n",
       "      <th>43</th>\n",
       "      <td>432754N</td>\n",
       "      <td>CANTABRIA</td>\n",
       "      <td>64</td>\n",
       "      <td>1110</td>\n",
       "      <td>SANTANDER, CIUDAD</td>\n",
       "      <td></td>\n",
       "      <td>034908W</td>\n",
       "    </tr>\n",
       "    <tr>\n",
       "      <th>44</th>\n",
       "      <td>432928N</td>\n",
       "      <td>CANTABRIA</td>\n",
       "      <td>52</td>\n",
       "      <td>1111</td>\n",
       "      <td>SANTANDER</td>\n",
       "      <td>08023</td>\n",
       "      <td>034802W</td>\n",
       "    </tr>\n",
       "  </tbody>\n",
       "</table>\n",
       "</div>"
      ],
      "text/plain": [
       "    latitud  provincia  altitud indicativo                      nombre  \\\n",
       "40  432341N  CANTABRIA       45      1083L             CASTRO URDIALES   \n",
       "41  432336N  CANTABRIA       38       1159  SAN VICENTE DE LA BARQUERA   \n",
       "42  432526N  CANTABRIA        3       1109        SANTANDER AEROPUERTO   \n",
       "43  432754N  CANTABRIA       64       1110           SANTANDER, CIUDAD   \n",
       "44  432928N  CANTABRIA       52       1111                   SANTANDER   \n",
       "\n",
       "   indsinop longitud  \n",
       "40    08020  031402W  \n",
       "41    08017  042332W  \n",
       "42    08021  034932W  \n",
       "43           034908W  \n",
       "44    08023  034802W  "
      ]
     },
     "execution_count": 5,
     "metadata": {},
     "output_type": "execute_result"
    }
   ],
   "source": [
    "station_id = sites[sites[\"provincia\"] == \"CANTABRIA\"]\n",
    "station_id.head()"
   ]
  },
  {
   "cell_type": "code",
   "execution_count": 6,
   "metadata": {
    "attributes": {
     "classes": [],
     "id": "",
     "n": "6"
    }
   },
   "outputs": [
    {
     "name": "stdout",
     "output_type": "stream",
     "text": [
      "exito\n",
      "exito\n",
      "exito\n",
      "No hay datos que satisfagan esos criterios\n",
      "exito\n",
      "exito\n",
      "exito\n",
      "exito\n"
     ]
    }
   ],
   "source": [
    "for st in station_id[\"indicativo\"].values:\n",
    "\n",
    "    all_data = Aemet.get_data(start_dt = date(2020, 12, 1),\n",
    "                              end_dt = date(2020, 12, 31),\n",
    "                              station_id =st,\n",
    "                              #json_name=,\n",
    "                              csv_name=HOME+\"data/AEMET/\"+st+\".csv\",\n",
    "                             )"
   ]
  }
 ],
 "metadata": {},
 "nbformat": 4,
 "nbformat_minor": 4
}
