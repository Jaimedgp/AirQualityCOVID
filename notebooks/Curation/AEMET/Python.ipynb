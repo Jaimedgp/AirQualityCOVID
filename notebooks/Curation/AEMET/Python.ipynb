{
 "cells": [
  {
   "cell_type": "markdown",
   "metadata": {},
   "source": [
    "# AutoAEMET\n",
    "\n",
    "Automatizar la descarga de los datos de la AEMET a traves e su API.\n",
    "\n",
    "| Codigo |         significado         | Nuevo Valor  |\n",
    "|:------:|:---------------------------:|:------------:|\n",
    "|   Ip   | prec < 0.1mm (Inapreciable) |      0       |\n",
    "| Varios |         Varias horas        |     -2       |"
   ]
  },
  {
   "cell_type": "code",
   "execution_count": 1,
   "metadata": {
    "attributes": {
     "classes": [],
     "id": "",
     "n": "1"
    }
   },
   "outputs": [],
   "source": [
    "import os\n",
    "\n",
    "os.chdir(\"/home/jaimedgp/Repositories/AirQualityCOVID/src/Curation/\")\n",
    "\n",
    "HOME = \"/home/jaimedgp/Repositories/AirQualityCOVID/\""
   ]
  },
  {
   "cell_type": "code",
   "execution_count": 2,
   "metadata": {
    "attributes": {
     "classes": [],
     "id": "",
     "n": "2"
    }
   },
   "outputs": [],
   "source": [
    "from AEMET.downloadAEMET import DownloadAEMET\n",
    "from datetime import date\n",
    "\n",
    "import pandas as pd"
   ]
  },
  {
   "cell_type": "code",
   "execution_count": 3,
   "metadata": {
    "attributes": {
     "classes": [],
     "id": "",
     "n": "3"
    }
   },
   "outputs": [],
   "source": [
    "Aemet = DownloadAEMET(apikey=\"\")"
   ]
  },
  {
   "cell_type": "code",
   "execution_count": 4,
   "metadata": {
    "attributes": {
     "classes": [],
     "id": "",
     "n": "4"
    }
   },
   "outputs": [],
   "source": [
    "sites = Aemet.get_stations()"
   ]
  },
  {
   "cell_type": "code",
   "execution_count": 5,
   "metadata": {
    "attributes": {
     "classes": [],
     "id": "",
     "n": "5"
    }
   },
   "outputs": [
    {
     "data": {
      "text/html": [
       "<div>\n",
       "<style scoped>\n",
       "    .dataframe tbody tr th:only-of-type {\n",
       "        vertical-align: middle;\n",
       "    }\n",
       "\n",
       "    .dataframe tbody tr th {\n",
       "        vertical-align: top;\n",
       "    }\n",
       "\n",
       "    .dataframe thead th {\n",
       "        text-align: right;\n",
       "    }\n",
       "</style>\n",
       "<table border=\"1\" class=\"dataframe\">\n",
       "  <thead>\n",
       "    <tr style=\"text-align: right;\">\n",
       "      <th></th>\n",
       "      <th>latitud</th>\n",
       "      <th>provincia</th>\n",
       "      <th>altitud</th>\n",
       "      <th>indicativo</th>\n",
       "      <th>nombre</th>\n",
       "      <th>indsinop</th>\n",
       "      <th>longitud</th>\n",
       "    </tr>\n",
       "  </thead>\n",
       "  <tbody>\n",
       "    <tr>\n",
       "      <th>40</th>\n",
       "      <td>432341N</td>\n",
       "      <td>CANTABRIA</td>\n",
       "      <td>45</td>\n",
       "      <td>1083L</td>\n",
       "      <td>CASTRO URDIALES</td>\n",
       "      <td>08020</td>\n",
       "      <td>031402W</td>\n",
       "    </tr>\n",
       "    <tr>\n",
       "      <th>41</th>\n",
       "      <td>432336N</td>\n",
       "      <td>CANTABRIA</td>\n",
       "      <td>38</td>\n",
       "      <td>1159</td>\n",
       "      <td>SAN VICENTE DE LA BARQUERA</td>\n",
       "      <td>08017</td>\n",
       "      <td>042332W</td>\n",
       "    </tr>\n",
       "    <tr>\n",
       "      <th>42</th>\n",
       "      <td>432526N</td>\n",
       "      <td>CANTABRIA</td>\n",
       "      <td>3</td>\n",
       "      <td>1109</td>\n",
       "      <td>SANTANDER AEROPUERTO</td>\n",
       "      <td>08021</td>\n",
       "      <td>034932W</td>\n",
       "    </tr>\n",
       "    <tr>\n",
       "      <th>43</th>\n",
       "      <td>432754N</td>\n",
       "      <td>CANTABRIA</td>\n",
       "      <td>64</td>\n",
       "      <td>1110</td>\n",
       "      <td>SANTANDER, CIUDAD</td>\n",
       "      <td></td>\n",
       "      <td>034908W</td>\n",
       "    </tr>\n",
       "    <tr>\n",
       "      <th>44</th>\n",
       "      <td>432928N</td>\n",
       "      <td>CANTABRIA</td>\n",
       "      <td>52</td>\n",
       "      <td>1111</td>\n",
       "      <td>SANTANDER</td>\n",
       "      <td>08023</td>\n",
       "      <td>034802W</td>\n",
       "    </tr>\n",
       "  </tbody>\n",
       "</table>\n",
       "</div>"
      ],
      "text/plain": [
       "    latitud  provincia  altitud indicativo                      nombre  \\\n",
       "40  432341N  CANTABRIA       45      1083L             CASTRO URDIALES   \n",
       "41  432336N  CANTABRIA       38       1159  SAN VICENTE DE LA BARQUERA   \n",
       "42  432526N  CANTABRIA        3       1109        SANTANDER AEROPUERTO   \n",
       "43  432754N  CANTABRIA       64       1110           SANTANDER, CIUDAD   \n",
       "44  432928N  CANTABRIA       52       1111                   SANTANDER   \n",
       "\n",
       "   indsinop longitud  \n",
       "40    08020  031402W  \n",
       "41    08017  042332W  \n",
       "42    08021  034932W  \n",
       "43           034908W  \n",
       "44    08023  034802W  "
      ]
     },
     "execution_count": 5,
     "metadata": {},
     "output_type": "execute_result"
    }
   ],
   "source": [
    "station_id = sites[sites[\"provincia\"] == \"CANTABRIA\"]\n",
    "station_id.head()"
   ]
  },
  {
   "cell_type": "code",
   "execution_count": 6,
   "metadata": {
    "attributes": {
     "classes": [],
     "id": "",
     "n": "6"
    }
   },
   "outputs": [
    {
     "name": "stdout",
     "output_type": "stream",
     "text": [
      "exito\n",
      "exito\n",
      "exito\n",
      "No hay datos que satisfagan esos criterios\n",
      "exito\n",
      "exito\n",
      "exito\n",
      "exito\n"
     ]
    }
   ],
   "source": [
    "for nm, st in zip(station_id[\"nombre\"].values, \n",
    "                  station_id[\"indicativo\"].values):\n",
    "    \n",
    "    nm = nm.split(\" \")\n",
    "    while \"\" in nm:\n",
    "        nm.remove(\"\")\n",
    "    nm = \"_\".join(nm).replace(\",\", \"\")\n",
    "\n",
    "    all_data = Aemet.get_data(start_dt = date(2020, 12, 1),\n",
    "                              end_dt = date(2020, 12, 31),\n",
    "                              station_id =st,\n",
    "                              #json_name=,\n",
    "                              csv_name=HOME+\"data/Curation/AEMET/\"+nm+\".csv\",\n",
    "                             )"
   ]
  },
  {
   "cell_type": "code",
   "execution_count": 8,
   "metadata": {},
   "outputs": [
    {
     "data": {
      "text/html": [
       "<div>\n",
       "<style scoped>\n",
       "    .dataframe tbody tr th:only-of-type {\n",
       "        vertical-align: middle;\n",
       "    }\n",
       "\n",
       "    .dataframe tbody tr th {\n",
       "        vertical-align: top;\n",
       "    }\n",
       "\n",
       "    .dataframe thead th {\n",
       "        text-align: right;\n",
       "    }\n",
       "</style>\n",
       "<table border=\"1\" class=\"dataframe\">\n",
       "  <thead>\n",
       "    <tr style=\"text-align: right;\">\n",
       "      <th></th>\n",
       "      <th>fecha</th>\n",
       "      <th>indicativo</th>\n",
       "      <th>nombre</th>\n",
       "      <th>provincia</th>\n",
       "      <th>altitud</th>\n",
       "      <th>tmed</th>\n",
       "      <th>prec</th>\n",
       "      <th>tmin</th>\n",
       "      <th>horatmin</th>\n",
       "      <th>tmax</th>\n",
       "      <th>horatmax</th>\n",
       "      <th>dir</th>\n",
       "      <th>velmedia</th>\n",
       "      <th>racha</th>\n",
       "      <th>horaracha</th>\n",
       "      <th>sol</th>\n",
       "      <th>presMax</th>\n",
       "      <th>horaPresMax</th>\n",
       "      <th>presMin</th>\n",
       "      <th>horaPresMin</th>\n",
       "    </tr>\n",
       "  </thead>\n",
       "  <tbody>\n",
       "    <tr>\n",
       "      <th>0</th>\n",
       "      <td>2016-12-31</td>\n",
       "      <td>1109</td>\n",
       "      <td>SANTANDER AEROPUERTO</td>\n",
       "      <td>CANTABRIA</td>\n",
       "      <td>3</td>\n",
       "      <td>7.4</td>\n",
       "      <td>0.0</td>\n",
       "      <td>3.2</td>\n",
       "      <td>23:59</td>\n",
       "      <td>11.5</td>\n",
       "      <td>16:15</td>\n",
       "      <td>23.0</td>\n",
       "      <td>0.6</td>\n",
       "      <td>6.1</td>\n",
       "      <td>18:20</td>\n",
       "      <td>6.9</td>\n",
       "      <td>1032.9</td>\n",
       "      <td>0.0</td>\n",
       "      <td>1029.2</td>\n",
       "      <td>24.0</td>\n",
       "    </tr>\n",
       "    <tr>\n",
       "      <th>1</th>\n",
       "      <td>2017-01-01</td>\n",
       "      <td>1109</td>\n",
       "      <td>SANTANDER AEROPUERTO</td>\n",
       "      <td>CANTABRIA</td>\n",
       "      <td>3</td>\n",
       "      <td>7.5</td>\n",
       "      <td>0.0</td>\n",
       "      <td>1.8</td>\n",
       "      <td>05:30</td>\n",
       "      <td>13.2</td>\n",
       "      <td>15:30</td>\n",
       "      <td>23.0</td>\n",
       "      <td>0.3</td>\n",
       "      <td>4.2</td>\n",
       "      <td>23:20</td>\n",
       "      <td>6.2</td>\n",
       "      <td>1029.2</td>\n",
       "      <td>0.0</td>\n",
       "      <td>1017.3</td>\n",
       "      <td>24.0</td>\n",
       "    </tr>\n",
       "    <tr>\n",
       "      <th>2</th>\n",
       "      <td>2017-01-02</td>\n",
       "      <td>1109</td>\n",
       "      <td>SANTANDER AEROPUERTO</td>\n",
       "      <td>CANTABRIA</td>\n",
       "      <td>3</td>\n",
       "      <td>8.7</td>\n",
       "      <td>0.0</td>\n",
       "      <td>4.0</td>\n",
       "      <td>02:10</td>\n",
       "      <td>13.4</td>\n",
       "      <td>-2</td>\n",
       "      <td>20.0</td>\n",
       "      <td>2.5</td>\n",
       "      <td>11.4</td>\n",
       "      <td>05:40</td>\n",
       "      <td>2.6</td>\n",
       "      <td>1022.3</td>\n",
       "      <td>-2.0</td>\n",
       "      <td>1016.3</td>\n",
       "      <td>4.0</td>\n",
       "    </tr>\n",
       "    <tr>\n",
       "      <th>3</th>\n",
       "      <td>2017-01-03</td>\n",
       "      <td>1109</td>\n",
       "      <td>SANTANDER AEROPUERTO</td>\n",
       "      <td>CANTABRIA</td>\n",
       "      <td>3</td>\n",
       "      <td>7.5</td>\n",
       "      <td>0.0</td>\n",
       "      <td>3.2</td>\n",
       "      <td>08:30</td>\n",
       "      <td>11.8</td>\n",
       "      <td>-2</td>\n",
       "      <td>99.0</td>\n",
       "      <td>1.4</td>\n",
       "      <td>7.2</td>\n",
       "      <td>-2</td>\n",
       "      <td>7.0</td>\n",
       "      <td>1028.0</td>\n",
       "      <td>-2.0</td>\n",
       "      <td>1022.0</td>\n",
       "      <td>0.0</td>\n",
       "    </tr>\n",
       "    <tr>\n",
       "      <th>4</th>\n",
       "      <td>2017-01-04</td>\n",
       "      <td>1109</td>\n",
       "      <td>SANTANDER AEROPUERTO</td>\n",
       "      <td>CANTABRIA</td>\n",
       "      <td>3</td>\n",
       "      <td>5.8</td>\n",
       "      <td>0.0</td>\n",
       "      <td>1.5</td>\n",
       "      <td>06:10</td>\n",
       "      <td>10.2</td>\n",
       "      <td>-2</td>\n",
       "      <td>6.0</td>\n",
       "      <td>0.6</td>\n",
       "      <td>5.6</td>\n",
       "      <td>14:01</td>\n",
       "      <td>1.3</td>\n",
       "      <td>1029.4</td>\n",
       "      <td>-2.0</td>\n",
       "      <td>1027.5</td>\n",
       "      <td>0.0</td>\n",
       "    </tr>\n",
       "  </tbody>\n",
       "</table>\n",
       "</div>"
      ],
      "text/plain": [
       "        fecha  indicativo                nombre  provincia  altitud  tmed  \\\n",
       "0  2016-12-31        1109  SANTANDER AEROPUERTO  CANTABRIA        3   7.4   \n",
       "1  2017-01-01        1109  SANTANDER AEROPUERTO  CANTABRIA        3   7.5   \n",
       "2  2017-01-02        1109  SANTANDER AEROPUERTO  CANTABRIA        3   8.7   \n",
       "3  2017-01-03        1109  SANTANDER AEROPUERTO  CANTABRIA        3   7.5   \n",
       "4  2017-01-04        1109  SANTANDER AEROPUERTO  CANTABRIA        3   5.8   \n",
       "\n",
       "   prec  tmin horatmin  tmax horatmax   dir  velmedia  racha horaracha  sol  \\\n",
       "0   0.0   3.2    23:59  11.5    16:15  23.0       0.6    6.1     18:20  6.9   \n",
       "1   0.0   1.8    05:30  13.2    15:30  23.0       0.3    4.2     23:20  6.2   \n",
       "2   0.0   4.0    02:10  13.4       -2  20.0       2.5   11.4     05:40  2.6   \n",
       "3   0.0   3.2    08:30  11.8       -2  99.0       1.4    7.2        -2  7.0   \n",
       "4   0.0   1.5    06:10  10.2       -2   6.0       0.6    5.6     14:01  1.3   \n",
       "\n",
       "   presMax  horaPresMax  presMin  horaPresMin  \n",
       "0   1032.9          0.0   1029.2         24.0  \n",
       "1   1029.2          0.0   1017.3         24.0  \n",
       "2   1022.3         -2.0   1016.3          4.0  \n",
       "3   1028.0         -2.0   1022.0          0.0  \n",
       "4   1029.4         -2.0   1027.5          0.0  "
      ]
     },
     "execution_count": 8,
     "metadata": {},
     "output_type": "execute_result"
    }
   ],
   "source": [
    "all_data.head()"
   ]
  },
  {
   "cell_type": "code",
   "execution_count": null,
   "metadata": {},
   "outputs": [],
   "source": []
  }
 ],
 "metadata": {
  "kernelspec": {
   "display_name": "Python 3",
   "language": "python",
   "name": "python3"
  },
  "language_info": {
   "codemirror_mode": {
    "name": "ipython",
    "version": 3
   },
   "file_extension": ".py",
   "mimetype": "text/x-python",
   "name": "python",
   "nbconvert_exporter": "python",
   "pygments_lexer": "ipython3",
   "version": "3.7.6"
  }
 },
 "nbformat": 4,
 "nbformat_minor": 4
}
