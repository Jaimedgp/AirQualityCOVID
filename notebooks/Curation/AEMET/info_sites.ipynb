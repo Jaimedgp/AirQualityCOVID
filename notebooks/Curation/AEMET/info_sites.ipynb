{
 "cells": [
  {
   "cell_type": "markdown",
   "metadata": {},
   "source": [
    "# Curation Estaciones Meteorologicas\n",
    "\n",
    "Estudiar La cantidad de datos validos disponibles para cada variable en cada estacion y obtener el numero de estaciones con los datos minimos necesarios para el estudio"
   ]
  },
  {
   "cell_type": "code",
   "execution_count": 1,
   "metadata": {},
   "outputs": [],
   "source": [
    "setwd(\"~/Repositories/AirQualityCOVID\")"
   ]
  },
  {
   "cell_type": "code",
   "execution_count": 2,
   "metadata": {},
   "outputs": [],
   "source": [
    "source(\"src/Curation/general.R\")"
   ]
  },
  {
   "cell_type": "markdown",
   "metadata": {},
   "source": [
    "## Funciones para filtrar datos"
   ]
  },
  {
   "cell_type": "code",
   "execution_count": 3,
   "metadata": {},
   "outputs": [],
   "source": [
    "suppressMessages(library(lubridate))\n",
    "suppressMessages(library(tidyverse))\n",
    "suppressMessages(library(plyr))"
   ]
  },
  {
   "cell_type": "code",
   "execution_count": 4,
   "metadata": {},
   "outputs": [],
   "source": [
    "get.info <- function(st) {\n",
    "    \n",
    "    dataframe <- read.csv(paste(\"data/Curation/AEMET/Values/\",\n",
    "                                st,\n",
    "                                \".csv\", sep=\"\")) %>%\n",
    "                    data.as.datetime(\"fecha\", \"ymd\")\n",
    "    period <- as.numeric(ymd(\"2020-12-31\")-ymd(\"2013-01-01\")) +2\n",
    "    \n",
    "    cbind(data.frame(site=st,\n",
    "                     start_dt=min(dataframe$fecha),\n",
    "                     end_dt=max(dataframe$fecha),\n",
    "                     miss_dy=period - nrow(dataframe)\n",
    "                    ),\n",
    "          rbind(apply(dataframe, 2, \n",
    "                      function(df, period) {\n",
    "                          (sum(!is.na(df)) / period)\n",
    "                      }, period))\n",
    "         )\n",
    "}"
   ]
  },
  {
   "cell_type": "markdown",
   "metadata": {},
   "source": [
    "### Ejecucion del Programa"
   ]
  },
  {
   "cell_type": "code",
   "execution_count": 5,
   "metadata": {},
   "outputs": [],
   "source": [
    "sitesAQ <- list.files(\"data/Curation/AEMET/Values/\", pattern = \".csv\")\n",
    "\n",
    "all.data <- do.call(rbind.fill, lapply(str_remove(sitesAQ, \".csv\"), get.info))\n",
    "all.data <- all.data[, -which(\"sol\" == names(all.data))]"
   ]
  },
  {
   "cell_type": "code",
   "execution_count": 6,
   "metadata": {},
   "outputs": [
    {
     "data": {
      "text/html": [
       "<table>\n",
       "<caption>A data.frame: 6 × 23</caption>\n",
       "<thead>\n",
       "\t<tr><th></th><th scope=col>site</th><th scope=col>start_dt</th><th scope=col>end_dt</th><th scope=col>miss_dy</th><th scope=col>fecha</th><th scope=col>indicativo</th><th scope=col>nombre</th><th scope=col>provincia</th><th scope=col>altitud</th><th scope=col>tmed</th><th scope=col>⋯</th><th scope=col>tmax</th><th scope=col>horatmax</th><th scope=col>dir</th><th scope=col>velmedia</th><th scope=col>racha</th><th scope=col>horaracha</th><th scope=col>presMax</th><th scope=col>horaPresMax</th><th scope=col>presMin</th><th scope=col>horaPresMin</th></tr>\n",
       "\t<tr><th></th><th scope=col>&lt;fct&gt;</th><th scope=col>&lt;date&gt;</th><th scope=col>&lt;date&gt;</th><th scope=col>&lt;dbl&gt;</th><th scope=col>&lt;dbl&gt;</th><th scope=col>&lt;dbl&gt;</th><th scope=col>&lt;dbl&gt;</th><th scope=col>&lt;dbl&gt;</th><th scope=col>&lt;dbl&gt;</th><th scope=col>&lt;dbl&gt;</th><th scope=col>⋯</th><th scope=col>&lt;dbl&gt;</th><th scope=col>&lt;dbl&gt;</th><th scope=col>&lt;dbl&gt;</th><th scope=col>&lt;dbl&gt;</th><th scope=col>&lt;dbl&gt;</th><th scope=col>&lt;dbl&gt;</th><th scope=col>&lt;dbl&gt;</th><th scope=col>&lt;dbl&gt;</th><th scope=col>&lt;dbl&gt;</th><th scope=col>&lt;dbl&gt;</th></tr>\n",
       "</thead>\n",
       "<tbody>\n",
       "\t<tr><th scope=row>1</th><td>0149X</td><td>2013-01-01</td><td>2020-12-31</td><td> 42</td><td>0.9856312</td><td>0.9856312</td><td>0.9856312</td><td>0.9856312</td><td>0.9856312</td><td>0.9770783</td><td>⋯</td><td>0.9770783</td><td>0.9856312</td><td>0.9322614</td><td>0.9404721</td><td>0.9322614</td><td>0.9856312</td><td>0.9784468</td><td>0.9784468</td><td>0.9784468</td><td>0.9784468</td></tr>\n",
       "\t<tr><th scope=row>2</th><td>0200E</td><td>2013-01-01</td><td>2020-12-31</td><td>  0</td><td>1.0000000</td><td>1.0000000</td><td>1.0000000</td><td>1.0000000</td><td>1.0000000</td><td>1.0000000</td><td>⋯</td><td>1.0000000</td><td>1.0000000</td><td>0.9993158</td><td>1.0000000</td><td>0.9993158</td><td>1.0000000</td><td>1.0000000</td><td>1.0000000</td><td>1.0000000</td><td>1.0000000</td></tr>\n",
       "\t<tr><th scope=row>3</th><td>1059X</td><td>2013-01-01</td><td>2020-12-31</td><td> 43</td><td>0.9852891</td><td>0.9852891</td><td>0.9852891</td><td>0.9852891</td><td>0.9852891</td><td>0.9476565</td><td>⋯</td><td>0.9476565</td><td>0.9852891</td><td>0.9722887</td><td>0.9774205</td><td>0.9722887</td><td>0.9852891</td><td>0.9360246</td><td>0.9360246</td><td>0.9360246</td><td>0.9360246</td></tr>\n",
       "\t<tr><th scope=row>4</th><td>1078I</td><td>2013-01-01</td><td>2020-12-31</td><td>507</td><td>0.8265481</td><td>0.8265481</td><td>0.8265481</td><td>0.8265481</td><td>0.8265481</td><td>0.8029422</td><td>⋯</td><td>0.8029422</td><td>0.8265481</td><td>0.8073897</td><td>0.8114950</td><td>0.8073897</td><td>0.8265481</td><td>0.6914129</td><td>0.6914129</td><td>0.6914129</td><td>0.6914129</td></tr>\n",
       "\t<tr><th scope=row>5</th><td>1082 </td><td>2013-01-01</td><td>2020-12-31</td><td>  0</td><td>1.0000000</td><td>1.0000000</td><td>1.0000000</td><td>1.0000000</td><td>1.0000000</td><td>1.0000000</td><td>⋯</td><td>1.0000000</td><td>1.0000000</td><td>0.9996579</td><td>0.9993158</td><td>0.9996579</td><td>1.0000000</td><td>1.0000000</td><td>1.0000000</td><td>1.0000000</td><td>1.0000000</td></tr>\n",
       "\t<tr><th scope=row>6</th><td>3129 </td><td>2013-01-01</td><td>2020-12-31</td><td>  0</td><td>1.0000000</td><td>1.0000000</td><td>1.0000000</td><td>1.0000000</td><td>1.0000000</td><td>0.9996579</td><td>⋯</td><td>0.9996579</td><td>1.0000000</td><td>0.9989737</td><td>1.0000000</td><td>0.9989737</td><td>1.0000000</td><td>1.0000000</td><td>1.0000000</td><td>1.0000000</td><td>1.0000000</td></tr>\n",
       "</tbody>\n",
       "</table>\n"
      ],
      "text/latex": [
       "A data.frame: 6 × 23\n",
       "\\begin{tabular}{r|lllllllllllllllllllll}\n",
       "  & site & start\\_dt & end\\_dt & miss\\_dy & fecha & indicativo & nombre & provincia & altitud & tmed & ⋯ & tmax & horatmax & dir & velmedia & racha & horaracha & presMax & horaPresMax & presMin & horaPresMin\\\\\n",
       "  & <fct> & <date> & <date> & <dbl> & <dbl> & <dbl> & <dbl> & <dbl> & <dbl> & <dbl> & ⋯ & <dbl> & <dbl> & <dbl> & <dbl> & <dbl> & <dbl> & <dbl> & <dbl> & <dbl> & <dbl>\\\\\n",
       "\\hline\n",
       "\t1 & 0149X & 2013-01-01 & 2020-12-31 &  42 & 0.9856312 & 0.9856312 & 0.9856312 & 0.9856312 & 0.9856312 & 0.9770783 & ⋯ & 0.9770783 & 0.9856312 & 0.9322614 & 0.9404721 & 0.9322614 & 0.9856312 & 0.9784468 & 0.9784468 & 0.9784468 & 0.9784468\\\\\n",
       "\t2 & 0200E & 2013-01-01 & 2020-12-31 &   0 & 1.0000000 & 1.0000000 & 1.0000000 & 1.0000000 & 1.0000000 & 1.0000000 & ⋯ & 1.0000000 & 1.0000000 & 0.9993158 & 1.0000000 & 0.9993158 & 1.0000000 & 1.0000000 & 1.0000000 & 1.0000000 & 1.0000000\\\\\n",
       "\t3 & 1059X & 2013-01-01 & 2020-12-31 &  43 & 0.9852891 & 0.9852891 & 0.9852891 & 0.9852891 & 0.9852891 & 0.9476565 & ⋯ & 0.9476565 & 0.9852891 & 0.9722887 & 0.9774205 & 0.9722887 & 0.9852891 & 0.9360246 & 0.9360246 & 0.9360246 & 0.9360246\\\\\n",
       "\t4 & 1078I & 2013-01-01 & 2020-12-31 & 507 & 0.8265481 & 0.8265481 & 0.8265481 & 0.8265481 & 0.8265481 & 0.8029422 & ⋯ & 0.8029422 & 0.8265481 & 0.8073897 & 0.8114950 & 0.8073897 & 0.8265481 & 0.6914129 & 0.6914129 & 0.6914129 & 0.6914129\\\\\n",
       "\t5 & 1082  & 2013-01-01 & 2020-12-31 &   0 & 1.0000000 & 1.0000000 & 1.0000000 & 1.0000000 & 1.0000000 & 1.0000000 & ⋯ & 1.0000000 & 1.0000000 & 0.9996579 & 0.9993158 & 0.9996579 & 1.0000000 & 1.0000000 & 1.0000000 & 1.0000000 & 1.0000000\\\\\n",
       "\t6 & 3129  & 2013-01-01 & 2020-12-31 &   0 & 1.0000000 & 1.0000000 & 1.0000000 & 1.0000000 & 1.0000000 & 0.9996579 & ⋯ & 0.9996579 & 1.0000000 & 0.9989737 & 1.0000000 & 0.9989737 & 1.0000000 & 1.0000000 & 1.0000000 & 1.0000000 & 1.0000000\\\\\n",
       "\\end{tabular}\n"
      ],
      "text/markdown": [
       "\n",
       "A data.frame: 6 × 23\n",
       "\n",
       "| <!--/--> | site &lt;fct&gt; | start_dt &lt;date&gt; | end_dt &lt;date&gt; | miss_dy &lt;dbl&gt; | fecha &lt;dbl&gt; | indicativo &lt;dbl&gt; | nombre &lt;dbl&gt; | provincia &lt;dbl&gt; | altitud &lt;dbl&gt; | tmed &lt;dbl&gt; | ⋯ ⋯ | tmax &lt;dbl&gt; | horatmax &lt;dbl&gt; | dir &lt;dbl&gt; | velmedia &lt;dbl&gt; | racha &lt;dbl&gt; | horaracha &lt;dbl&gt; | presMax &lt;dbl&gt; | horaPresMax &lt;dbl&gt; | presMin &lt;dbl&gt; | horaPresMin &lt;dbl&gt; |\n",
       "|---|---|---|---|---|---|---|---|---|---|---|---|---|---|---|---|---|---|---|---|---|---|\n",
       "| 1 | 0149X | 2013-01-01 | 2020-12-31 |  42 | 0.9856312 | 0.9856312 | 0.9856312 | 0.9856312 | 0.9856312 | 0.9770783 | ⋯ | 0.9770783 | 0.9856312 | 0.9322614 | 0.9404721 | 0.9322614 | 0.9856312 | 0.9784468 | 0.9784468 | 0.9784468 | 0.9784468 |\n",
       "| 2 | 0200E | 2013-01-01 | 2020-12-31 |   0 | 1.0000000 | 1.0000000 | 1.0000000 | 1.0000000 | 1.0000000 | 1.0000000 | ⋯ | 1.0000000 | 1.0000000 | 0.9993158 | 1.0000000 | 0.9993158 | 1.0000000 | 1.0000000 | 1.0000000 | 1.0000000 | 1.0000000 |\n",
       "| 3 | 1059X | 2013-01-01 | 2020-12-31 |  43 | 0.9852891 | 0.9852891 | 0.9852891 | 0.9852891 | 0.9852891 | 0.9476565 | ⋯ | 0.9476565 | 0.9852891 | 0.9722887 | 0.9774205 | 0.9722887 | 0.9852891 | 0.9360246 | 0.9360246 | 0.9360246 | 0.9360246 |\n",
       "| 4 | 1078I | 2013-01-01 | 2020-12-31 | 507 | 0.8265481 | 0.8265481 | 0.8265481 | 0.8265481 | 0.8265481 | 0.8029422 | ⋯ | 0.8029422 | 0.8265481 | 0.8073897 | 0.8114950 | 0.8073897 | 0.8265481 | 0.6914129 | 0.6914129 | 0.6914129 | 0.6914129 |\n",
       "| 5 | 1082  | 2013-01-01 | 2020-12-31 |   0 | 1.0000000 | 1.0000000 | 1.0000000 | 1.0000000 | 1.0000000 | 1.0000000 | ⋯ | 1.0000000 | 1.0000000 | 0.9996579 | 0.9993158 | 0.9996579 | 1.0000000 | 1.0000000 | 1.0000000 | 1.0000000 | 1.0000000 |\n",
       "| 6 | 3129  | 2013-01-01 | 2020-12-31 |   0 | 1.0000000 | 1.0000000 | 1.0000000 | 1.0000000 | 1.0000000 | 0.9996579 | ⋯ | 0.9996579 | 1.0000000 | 0.9989737 | 1.0000000 | 0.9989737 | 1.0000000 | 1.0000000 | 1.0000000 | 1.0000000 | 1.0000000 |\n",
       "\n"
      ],
      "text/plain": [
       "  site  start_dt   end_dt     miss_dy fecha     indicativo nombre    provincia\n",
       "1 0149X 2013-01-01 2020-12-31  42     0.9856312 0.9856312  0.9856312 0.9856312\n",
       "2 0200E 2013-01-01 2020-12-31   0     1.0000000 1.0000000  1.0000000 1.0000000\n",
       "3 1059X 2013-01-01 2020-12-31  43     0.9852891 0.9852891  0.9852891 0.9852891\n",
       "4 1078I 2013-01-01 2020-12-31 507     0.8265481 0.8265481  0.8265481 0.8265481\n",
       "5 1082  2013-01-01 2020-12-31   0     1.0000000 1.0000000  1.0000000 1.0000000\n",
       "6 3129  2013-01-01 2020-12-31   0     1.0000000 1.0000000  1.0000000 1.0000000\n",
       "  altitud   tmed      <U+22EF>   tmax      horatmax  dir       velmedia \n",
       "1 0.9856312 0.9770783 <U+22EF> 0.9770783 0.9856312 0.9322614 0.9404721\n",
       "2 1.0000000 1.0000000 <U+22EF> 1.0000000 1.0000000 0.9993158 1.0000000\n",
       "3 0.9852891 0.9476565 <U+22EF> 0.9476565 0.9852891 0.9722887 0.9774205\n",
       "4 0.8265481 0.8029422 <U+22EF> 0.8029422 0.8265481 0.8073897 0.8114950\n",
       "5 1.0000000 1.0000000 <U+22EF> 1.0000000 1.0000000 0.9996579 0.9993158\n",
       "6 1.0000000 0.9996579 <U+22EF> 0.9996579 1.0000000 0.9989737 1.0000000\n",
       "  racha     horaracha presMax   horaPresMax presMin   horaPresMin\n",
       "1 0.9322614 0.9856312 0.9784468 0.9784468   0.9784468 0.9784468  \n",
       "2 0.9993158 1.0000000 1.0000000 1.0000000   1.0000000 1.0000000  \n",
       "3 0.9722887 0.9852891 0.9360246 0.9360246   0.9360246 0.9360246  \n",
       "4 0.8073897 0.8265481 0.6914129 0.6914129   0.6914129 0.6914129  \n",
       "5 0.9996579 1.0000000 1.0000000 1.0000000   1.0000000 1.0000000  \n",
       "6 0.9989737 1.0000000 1.0000000 1.0000000   1.0000000 1.0000000  "
      ]
     },
     "metadata": {},
     "output_type": "display_data"
    }
   ],
   "source": [
    "head(all.data)"
   ]
  },
  {
   "cell_type": "markdown",
   "metadata": {},
   "source": [
    "# Guardar Datos"
   ]
  },
  {
   "cell_type": "markdown",
   "metadata": {},
   "source": [
    "```R\n",
    "write.csv(all.data,\n",
    "          \"data/Curation/AEMET/info_sites_AEMET.csv\",\n",
    "          row.names=F)\n",
    "\n",
    "```"
   ]
  },
  {
   "cell_type": "code",
   "execution_count": null,
   "metadata": {},
   "outputs": [],
   "source": []
  }
 ],
 "metadata": {
  "kernelspec": {
   "display_name": "R",
   "language": "R",
   "name": "ir"
  },
  "language_info": {
   "codemirror_mode": "r",
   "file_extension": ".r",
   "mimetype": "text/x-r-source",
   "name": "R",
   "pygments_lexer": "r",
   "version": "3.6.3"
  }
 },
 "nbformat": 4,
 "nbformat_minor": 4
}
