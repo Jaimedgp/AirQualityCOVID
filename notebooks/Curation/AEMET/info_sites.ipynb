{
 "cells": [
  {
   "cell_type": "markdown",
   "metadata": {},
   "source": [
    "# Curation Estaciones Meteorologicas\n",
    "\n",
    "Estudiar La cantidad de datos validos disponibles para cada variable en cada estacion y obtener el numero de estaciones con los datos minimos necesarios para el estudio"
   ]
  },
  {
   "cell_type": "code",
   "execution_count": 1,
   "metadata": {},
   "outputs": [],
   "source": [
    "setwd(\"~/Repositories/AirQualityCOVID\")"
   ]
  },
  {
   "cell_type": "code",
   "execution_count": 2,
   "metadata": {},
   "outputs": [],
   "source": [
    "source(\"src/general.R\")"
   ]
  },
  {
   "cell_type": "markdown",
   "metadata": {},
   "source": [
    "## Funciones para filtrar datos"
   ]
  },
  {
   "cell_type": "code",
   "execution_count": 3,
   "metadata": {},
   "outputs": [],
   "source": [
    "suppressMessages(library(lubridate))\n",
    "suppressMessages(library(tidyverse))\n",
    "suppressMessages(library(plyr))"
   ]
  },
  {
   "cell_type": "code",
   "execution_count": 17,
   "metadata": {},
   "outputs": [],
   "source": [
    "get.info <- function(st) {\n",
    "    \n",
    "    dataframe <- read.csv(paste(\"data/Curation/AEMET/Values/\",\n",
    "                                st,\n",
    "                                \".csv\", sep=\"\"))\n",
    "    \n",
    "    dataframe$fecha <- ymd(dataframe$fecha)\n",
    "    period <- as.numeric(ymd(\"2020-12-31\")-ymd(\"2013-01-01\")) +2\n",
    "    print(period)\n",
    "    \n",
    "    cbind(data.frame(site=st,\n",
    "                     start_dt=min(dataframe$fecha),\n",
    "                     end_dt=max(dataframe$fecha),\n",
    "                     miss_dy=period - nrow(dataframe)\n",
    "                    ),\n",
    "          rbind(apply(dataframe, 2, \n",
    "                      function(df, period) {\n",
    "                          (sum(!is.na(df)) / period)\n",
    "                      }, period))\n",
    "         )\n",
    "}"
   ]
  },
  {
   "cell_type": "code",
   "execution_count": 18,
   "metadata": {},
   "outputs": [
    {
     "name": "stdout",
     "output_type": "stream",
     "text": [
      "[1] 2923\n",
      "[1] 2923\n",
      "[1] 2923\n",
      "[1] 2923\n",
      "[1] 2923\n",
      "[1] 2923\n",
      "[1] 2923\n",
      "[1] 2923\n",
      "[1] 2923\n",
      "[1] 2923\n",
      "[1] 2923\n",
      "[1] 2923\n",
      "[1] 2923\n",
      "[1] 2923\n",
      "[1] 2923\n",
      "[1] 2923\n",
      "[1] 2923\n",
      "[1] 2923\n",
      "[1] 2923\n",
      "[1] 2923\n",
      "[1] 2923\n",
      "[1] 2923\n",
      "[1] 2923\n",
      "[1] 2923\n",
      "[1] 2923\n",
      "[1] 2923\n",
      "[1] 2923\n",
      "[1] 2923\n",
      "[1] 2923\n",
      "[1] 2923\n",
      "[1] 2923\n",
      "[1] 2923\n",
      "[1] 2923\n",
      "[1] 2923\n",
      "[1] 2923\n",
      "[1] 2923\n",
      "[1] 2923\n",
      "[1] 2923\n",
      "[1] 2923\n",
      "[1] 2923\n",
      "[1] 2923\n",
      "[1] 2923\n",
      "[1] 2923\n",
      "[1] 2923\n",
      "[1] 2923\n",
      "[1] 2923\n",
      "[1] 2923\n",
      "[1] 2923\n",
      "[1] 2923\n",
      "[1] 2923\n",
      "[1] 2923\n",
      "[1] 2923\n",
      "[1] 2923\n",
      "[1] 2923\n",
      "[1] 2923\n",
      "[1] 2923\n",
      "[1] 2923\n",
      "[1] 2923\n",
      "[1] 2923\n",
      "[1] 2923\n",
      "[1] 2923\n",
      "[1] 2923\n",
      "[1] 2923\n",
      "[1] 2923\n",
      "[1] 2923\n",
      "[1] 2923\n",
      "[1] 2923\n"
     ]
    }
   ],
   "source": [
    "sitesAQ <- read.csv(\"data/Curation/sitesAQ.csv\",\n",
    "                    stringsAsFactor=TRUE)\n",
    "\n",
    "all.data <- do.call(rbind.fill, lapply(levels(sitesAQ$site), get.info))"
   ]
  },
  {
   "cell_type": "code",
   "execution_count": 21,
   "metadata": {},
   "outputs": [
    {
     "data": {
      "text/html": [
       "<style>\n",
       ".list-inline {list-style: none; margin:0; padding: 0}\n",
       ".list-inline>li {display: inline-block}\n",
       ".list-inline>li:not(:last-child)::after {content: \"\\00b7\"; padding: 0 .5ex}\n",
       "</style>\n",
       "<ol class=list-inline><li>0</li><li>0</li><li>0</li><li>0</li><li>106</li><li>0</li><li>0</li><li>0</li><li>35</li><li>0</li><li>0</li><li>0</li><li>0</li><li>1704</li><li>0</li><li>0</li><li>0</li><li>0</li><li>0</li><li>0</li><li>0</li><li>283</li><li>0</li><li>0</li><li>9</li><li>283</li><li>0</li><li>0</li><li>10</li><li>0</li><li>0</li><li>0</li><li>0</li><li>0</li><li>106</li><li>106</li><li>0</li><li>0</li><li>0</li><li>0</li><li>339</li><li>0</li><li>0</li><li>8</li><li>0</li><li>0</li><li>0</li><li>0</li><li>0</li><li>0</li><li>63</li><li>0</li><li>35</li><li>35</li><li>0</li><li>0</li><li>106</li><li>106</li><li>0</li><li>0</li><li>1</li><li>0</li><li>0</li><li>8</li><li>1</li><li>0</li><li>0</li></ol>\n"
      ],
      "text/latex": [
       "\\begin{enumerate*}\n",
       "\\item 0\n",
       "\\item 0\n",
       "\\item 0\n",
       "\\item 0\n",
       "\\item 106\n",
       "\\item 0\n",
       "\\item 0\n",
       "\\item 0\n",
       "\\item 35\n",
       "\\item 0\n",
       "\\item 0\n",
       "\\item 0\n",
       "\\item 0\n",
       "\\item 1704\n",
       "\\item 0\n",
       "\\item 0\n",
       "\\item 0\n",
       "\\item 0\n",
       "\\item 0\n",
       "\\item 0\n",
       "\\item 0\n",
       "\\item 283\n",
       "\\item 0\n",
       "\\item 0\n",
       "\\item 9\n",
       "\\item 283\n",
       "\\item 0\n",
       "\\item 0\n",
       "\\item 10\n",
       "\\item 0\n",
       "\\item 0\n",
       "\\item 0\n",
       "\\item 0\n",
       "\\item 0\n",
       "\\item 106\n",
       "\\item 106\n",
       "\\item 0\n",
       "\\item 0\n",
       "\\item 0\n",
       "\\item 0\n",
       "\\item 339\n",
       "\\item 0\n",
       "\\item 0\n",
       "\\item 8\n",
       "\\item 0\n",
       "\\item 0\n",
       "\\item 0\n",
       "\\item 0\n",
       "\\item 0\n",
       "\\item 0\n",
       "\\item 63\n",
       "\\item 0\n",
       "\\item 35\n",
       "\\item 35\n",
       "\\item 0\n",
       "\\item 0\n",
       "\\item 106\n",
       "\\item 106\n",
       "\\item 0\n",
       "\\item 0\n",
       "\\item 1\n",
       "\\item 0\n",
       "\\item 0\n",
       "\\item 8\n",
       "\\item 1\n",
       "\\item 0\n",
       "\\item 0\n",
       "\\end{enumerate*}\n"
      ],
      "text/markdown": [
       "1. 0\n",
       "2. 0\n",
       "3. 0\n",
       "4. 0\n",
       "5. 106\n",
       "6. 0\n",
       "7. 0\n",
       "8. 0\n",
       "9. 35\n",
       "10. 0\n",
       "11. 0\n",
       "12. 0\n",
       "13. 0\n",
       "14. 1704\n",
       "15. 0\n",
       "16. 0\n",
       "17. 0\n",
       "18. 0\n",
       "19. 0\n",
       "20. 0\n",
       "21. 0\n",
       "22. 283\n",
       "23. 0\n",
       "24. 0\n",
       "25. 9\n",
       "26. 283\n",
       "27. 0\n",
       "28. 0\n",
       "29. 10\n",
       "30. 0\n",
       "31. 0\n",
       "32. 0\n",
       "33. 0\n",
       "34. 0\n",
       "35. 106\n",
       "36. 106\n",
       "37. 0\n",
       "38. 0\n",
       "39. 0\n",
       "40. 0\n",
       "41. 339\n",
       "42. 0\n",
       "43. 0\n",
       "44. 8\n",
       "45. 0\n",
       "46. 0\n",
       "47. 0\n",
       "48. 0\n",
       "49. 0\n",
       "50. 0\n",
       "51. 63\n",
       "52. 0\n",
       "53. 35\n",
       "54. 35\n",
       "55. 0\n",
       "56. 0\n",
       "57. 106\n",
       "58. 106\n",
       "59. 0\n",
       "60. 0\n",
       "61. 1\n",
       "62. 0\n",
       "63. 0\n",
       "64. 8\n",
       "65. 1\n",
       "66. 0\n",
       "67. 0\n",
       "\n",
       "\n"
      ],
      "text/plain": [
       " [1]    0    0    0    0  106    0    0    0   35    0    0    0    0 1704    0\n",
       "[16]    0    0    0    0    0    0  283    0    0    9  283    0    0   10    0\n",
       "[31]    0    0    0    0  106  106    0    0    0    0  339    0    0    8    0\n",
       "[46]    0    0    0    0    0   63    0   35   35    0    0  106  106    0    0\n",
       "[61]    1    0    0    8    1    0    0"
      ]
     },
     "metadata": {},
     "output_type": "display_data"
    }
   ],
   "source": [
    "(all.data$miss_dy)"
   ]
  },
  {
   "cell_type": "markdown",
   "metadata": {},
   "source": [
    "# Guardar Datos"
   ]
  },
  {
   "cell_type": "markdown",
   "metadata": {},
   "source": [
    "```R\n",
    "write.csv(all.data,\n",
    "          \"data/Curation/AEMET/info_sites.csv\",\n",
    "          row.names=F)\n",
    "```"
   ]
  },
  {
   "cell_type": "code",
   "execution_count": 13,
   "metadata": {},
   "outputs": [],
   "source": [
    "info <- data.frame()\n",
    "percent <- c(0.5, 0.7, 0.8, 0.9)\n",
    "\n",
    "for (pr in percent) {\n",
    "    info <- rbind(info,\n",
    "                  rbind(apply(all.data, 2, \n",
    "                              function(df){\n",
    "                                  sum(df>= pr, na.rm=TRUE)\n",
    "                              }))[10:ncol(all.data)]\n",
    "                 )\n",
    "}\n",
    "\n",
    "names(info) <- names(all.data)[10:ncol(all.data)]\n",
    "row.names(info) <- percent"
   ]
  },
  {
   "cell_type": "code",
   "execution_count": 14,
   "metadata": {},
   "outputs": [
    {
     "data": {
      "text/html": [
       "<table>\n",
       "<caption>A data.frame: 4 × 16</caption>\n",
       "<thead>\n",
       "\t<tr><th></th><th scope=col>tmed</th><th scope=col>prec</th><th scope=col>tmin</th><th scope=col>horatmin</th><th scope=col>tmax</th><th scope=col>horatmax</th><th scope=col>dir</th><th scope=col>velmedia</th><th scope=col>racha</th><th scope=col>horaracha</th><th scope=col>sol</th><th scope=col>presMax</th><th scope=col>horaPresMax</th><th scope=col>presMin</th><th scope=col>horaPresMin</th><th scope=col>siteAQ</th></tr>\n",
       "\t<tr><th></th><th scope=col>&lt;int&gt;</th><th scope=col>&lt;int&gt;</th><th scope=col>&lt;int&gt;</th><th scope=col>&lt;int&gt;</th><th scope=col>&lt;int&gt;</th><th scope=col>&lt;int&gt;</th><th scope=col>&lt;int&gt;</th><th scope=col>&lt;int&gt;</th><th scope=col>&lt;int&gt;</th><th scope=col>&lt;int&gt;</th><th scope=col>&lt;int&gt;</th><th scope=col>&lt;int&gt;</th><th scope=col>&lt;int&gt;</th><th scope=col>&lt;int&gt;</th><th scope=col>&lt;int&gt;</th><th scope=col>&lt;int&gt;</th></tr>\n",
       "</thead>\n",
       "<tbody>\n",
       "\t<tr><th scope=row>0.5</th><td>66</td><td>66</td><td>66</td><td>61</td><td>66</td><td>61</td><td>53</td><td>54</td><td>53</td><td>59</td><td>50</td><td>55</td><td>55</td><td>55</td><td>55</td><td>66</td></tr>\n",
       "\t<tr><th scope=row>0.7</th><td>66</td><td>66</td><td>66</td><td>61</td><td>66</td><td>61</td><td>53</td><td>53</td><td>53</td><td>59</td><td>49</td><td>55</td><td>55</td><td>55</td><td>55</td><td>66</td></tr>\n",
       "\t<tr><th scope=row>0.8</th><td>65</td><td>66</td><td>65</td><td>61</td><td>65</td><td>61</td><td>53</td><td>53</td><td>53</td><td>59</td><td>46</td><td>55</td><td>55</td><td>55</td><td>55</td><td>66</td></tr>\n",
       "\t<tr><th scope=row>0.9</th><td>58</td><td>63</td><td>58</td><td>60</td><td>58</td><td>60</td><td>50</td><td>50</td><td>50</td><td>58</td><td>46</td><td>52</td><td>52</td><td>52</td><td>52</td><td>65</td></tr>\n",
       "</tbody>\n",
       "</table>\n"
      ],
      "text/latex": [
       "A data.frame: 4 × 16\n",
       "\\begin{tabular}{r|llllllllllllllll}\n",
       "  & tmed & prec & tmin & horatmin & tmax & horatmax & dir & velmedia & racha & horaracha & sol & presMax & horaPresMax & presMin & horaPresMin & siteAQ\\\\\n",
       "  & <int> & <int> & <int> & <int> & <int> & <int> & <int> & <int> & <int> & <int> & <int> & <int> & <int> & <int> & <int> & <int>\\\\\n",
       "\\hline\n",
       "\t0.5 & 66 & 66 & 66 & 61 & 66 & 61 & 53 & 54 & 53 & 59 & 50 & 55 & 55 & 55 & 55 & 66\\\\\n",
       "\t0.7 & 66 & 66 & 66 & 61 & 66 & 61 & 53 & 53 & 53 & 59 & 49 & 55 & 55 & 55 & 55 & 66\\\\\n",
       "\t0.8 & 65 & 66 & 65 & 61 & 65 & 61 & 53 & 53 & 53 & 59 & 46 & 55 & 55 & 55 & 55 & 66\\\\\n",
       "\t0.9 & 58 & 63 & 58 & 60 & 58 & 60 & 50 & 50 & 50 & 58 & 46 & 52 & 52 & 52 & 52 & 65\\\\\n",
       "\\end{tabular}\n"
      ],
      "text/markdown": [
       "\n",
       "A data.frame: 4 × 16\n",
       "\n",
       "| <!--/--> | tmed &lt;int&gt; | prec &lt;int&gt; | tmin &lt;int&gt; | horatmin &lt;int&gt; | tmax &lt;int&gt; | horatmax &lt;int&gt; | dir &lt;int&gt; | velmedia &lt;int&gt; | racha &lt;int&gt; | horaracha &lt;int&gt; | sol &lt;int&gt; | presMax &lt;int&gt; | horaPresMax &lt;int&gt; | presMin &lt;int&gt; | horaPresMin &lt;int&gt; | siteAQ &lt;int&gt; |\n",
       "|---|---|---|---|---|---|---|---|---|---|---|---|---|---|---|---|---|\n",
       "| 0.5 | 66 | 66 | 66 | 61 | 66 | 61 | 53 | 54 | 53 | 59 | 50 | 55 | 55 | 55 | 55 | 66 |\n",
       "| 0.7 | 66 | 66 | 66 | 61 | 66 | 61 | 53 | 53 | 53 | 59 | 49 | 55 | 55 | 55 | 55 | 66 |\n",
       "| 0.8 | 65 | 66 | 65 | 61 | 65 | 61 | 53 | 53 | 53 | 59 | 46 | 55 | 55 | 55 | 55 | 66 |\n",
       "| 0.9 | 58 | 63 | 58 | 60 | 58 | 60 | 50 | 50 | 50 | 58 | 46 | 52 | 52 | 52 | 52 | 65 |\n",
       "\n"
      ],
      "text/plain": [
       "    tmed prec tmin horatmin tmax horatmax dir velmedia racha horaracha sol\n",
       "0.5 66   66   66   61       66   61       53  54       53    59        50 \n",
       "0.7 66   66   66   61       66   61       53  53       53    59        49 \n",
       "0.8 65   66   65   61       65   61       53  53       53    59        46 \n",
       "0.9 58   63   58   60       58   60       50  50       50    58        46 \n",
       "    presMax horaPresMax presMin horaPresMin siteAQ\n",
       "0.5 55      55          55      55          66    \n",
       "0.7 55      55          55      55          66    \n",
       "0.8 55      55          55      55          66    \n",
       "0.9 52      52          52      52          65    "
      ]
     },
     "metadata": {},
     "output_type": "display_data"
    }
   ],
   "source": [
    "info"
   ]
  },
  {
   "cell_type": "code",
   "execution_count": null,
   "metadata": {},
   "outputs": [],
   "source": []
  }
 ],
 "metadata": {
  "kernelspec": {
   "display_name": "R",
   "language": "R",
   "name": "ir"
  },
  "language_info": {
   "codemirror_mode": "r",
   "file_extension": ".r",
   "mimetype": "text/x-r-source",
   "name": "R",
   "pygments_lexer": "r",
   "version": "4.0.3"
  }
 },
 "nbformat": 4,
 "nbformat_minor": 4
}
