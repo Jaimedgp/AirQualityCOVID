{
 "cells": [
  {
   "cell_type": "markdown",
   "metadata": {},
   "source": [
    "# Curation Estaciones Meteorologicas\n",
    "\n",
    "Estudiar La cantidad de datos validos disponibles para cada variable en cada estacion y obtener el numero de estaciones con los datos minimos necesarios para el estudio"
   ]
  },
  {
   "cell_type": "code",
   "execution_count": 1,
   "metadata": {},
   "outputs": [],
   "source": [
    "setwd(\"~/Repositories/AirQualityCOVID\")"
   ]
  },
  {
   "cell_type": "code",
   "execution_count": 2,
   "metadata": {},
   "outputs": [],
   "source": [
    "source(\"src/general.R\")"
   ]
  },
  {
   "cell_type": "markdown",
   "metadata": {},
   "source": [
    "## Funciones para filtrar datos"
   ]
  },
  {
   "cell_type": "code",
   "execution_count": 3,
   "metadata": {},
   "outputs": [],
   "source": [
    "suppressMessages(library(lubridate))\n",
    "suppressMessages(library(tidyverse))\n",
    "suppressMessages(library(plyr))"
   ]
  },
  {
   "cell_type": "code",
   "execution_count": 4,
   "metadata": {},
   "outputs": [],
   "source": [
    "get.info <- function(st) {\n",
    "    \n",
    "    dataframe <- read.csv(paste(\"data/Curation/AEMET/Values/\",\n",
    "                                st,\n",
    "                                \".csv\", sep=\"\"))\n",
    "    \n",
    "    dataframe$fecha <- ymd(dataframe$fecha)\n",
    "    period <- as.numeric(ymd(\"2020-12-31\")-ymd(\"2013-01-01\")) +2\n",
    "    \n",
    "    cbind(data.frame(site=st,\n",
    "                     start_dt=min(dataframe$fecha),\n",
    "                     end_dt=max(dataframe$fecha),\n",
    "                     miss_dy=period - nrow(dataframe)\n",
    "                    ),\n",
    "          rbind(apply(dataframe, 2, \n",
    "                      function(df, period) {\n",
    "                          (sum(!is.na(df)) / period)\n",
    "                      }, period))\n",
    "         )\n",
    "}"
   ]
  },
  {
   "cell_type": "code",
   "execution_count": 8,
   "metadata": {},
   "outputs": [],
   "source": [
    "sitesAQ <- read.csv(\"data/Curation/sitesAQ.csv\",\n",
    "                    stringsAsFactor=TRUE)\n",
    "\n",
    "all.data <- do.call(rbind.fill, lapply(levels(sitesAQ$site), get.info))\n",
    "all.data <- all.data[, -which(\"sol\" == names(all.data))]"
   ]
  },
  {
   "cell_type": "code",
   "execution_count": 9,
   "metadata": {},
   "outputs": [
    {
     "data": {
      "text/html": [
       "<table>\n",
       "<caption>A data.frame: 6 × 24</caption>\n",
       "<thead>\n",
       "\t<tr><th></th><th scope=col>site</th><th scope=col>start_dt</th><th scope=col>end_dt</th><th scope=col>miss_dy</th><th scope=col>fecha</th><th scope=col>indicativo</th><th scope=col>nombre</th><th scope=col>provincia</th><th scope=col>altitud</th><th scope=col>tmed</th><th scope=col>⋯</th><th scope=col>horatmax</th><th scope=col>dir</th><th scope=col>velmedia</th><th scope=col>racha</th><th scope=col>horaracha</th><th scope=col>presMax</th><th scope=col>horaPresMax</th><th scope=col>presMin</th><th scope=col>horaPresMin</th><th scope=col>siteAQ</th></tr>\n",
       "\t<tr><th></th><th scope=col>&lt;fct&gt;</th><th scope=col>&lt;date&gt;</th><th scope=col>&lt;date&gt;</th><th scope=col>&lt;dbl&gt;</th><th scope=col>&lt;dbl&gt;</th><th scope=col>&lt;dbl&gt;</th><th scope=col>&lt;dbl&gt;</th><th scope=col>&lt;dbl&gt;</th><th scope=col>&lt;dbl&gt;</th><th scope=col>&lt;dbl&gt;</th><th scope=col>⋯</th><th scope=col>&lt;dbl&gt;</th><th scope=col>&lt;dbl&gt;</th><th scope=col>&lt;dbl&gt;</th><th scope=col>&lt;dbl&gt;</th><th scope=col>&lt;dbl&gt;</th><th scope=col>&lt;dbl&gt;</th><th scope=col>&lt;dbl&gt;</th><th scope=col>&lt;dbl&gt;</th><th scope=col>&lt;dbl&gt;</th><th scope=col>&lt;dbl&gt;</th></tr>\n",
       "</thead>\n",
       "<tbody>\n",
       "\t<tr><th scope=row>1</th><td>es0041a</td><td>2013-01-01</td><td>2020-12-31</td><td>  0</td><td>1.0000000</td><td>1.0000000</td><td>1.0000000</td><td>1.0000000</td><td>1.0000000</td><td>1.0000000</td><td>⋯</td><td>1.0000000</td><td>0.9996579</td><td>0.9993158</td><td>0.9996579</td><td>1.0000000</td><td>1.0000000</td><td>1.0000000</td><td>1.0000000</td><td>1.0000000</td><td>1.0000000</td></tr>\n",
       "\t<tr><th scope=row>2</th><td>es0110a</td><td>2013-01-01</td><td>2020-12-31</td><td>  0</td><td>1.0000000</td><td>1.0000000</td><td>1.0000000</td><td>1.0000000</td><td>1.0000000</td><td>1.0000000</td><td>⋯</td><td>1.0000000</td><td>0.9996579</td><td>0.9993158</td><td>0.9996579</td><td>1.0000000</td><td>1.0000000</td><td>1.0000000</td><td>1.0000000</td><td>1.0000000</td><td>1.0000000</td></tr>\n",
       "\t<tr><th scope=row>3</th><td>es0115a</td><td>2013-01-01</td><td>2020-12-31</td><td>  0</td><td>1.0000000</td><td>1.0000000</td><td>1.0000000</td><td>1.0000000</td><td>1.0000000</td><td>0.9993158</td><td>⋯</td><td>1.0000000</td><td>0.9418406</td><td>0.9483407</td><td>0.9418406</td><td>1.0000000</td><td>0.9846049</td><td>0.9846049</td><td>0.9846049</td><td>0.9842627</td><td>1.0000000</td></tr>\n",
       "\t<tr><th scope=row>4</th><td>es0118a</td><td>2013-01-01</td><td>2020-12-31</td><td>  0</td><td>1.0000000</td><td>1.0000000</td><td>1.0000000</td><td>1.0000000</td><td>1.0000000</td><td>0.9993158</td><td>⋯</td><td>1.0000000</td><td>0.9418406</td><td>0.9483407</td><td>0.9418406</td><td>1.0000000</td><td>0.9846049</td><td>0.9846049</td><td>0.9846049</td><td>0.9842627</td><td>1.0000000</td></tr>\n",
       "\t<tr><th scope=row>5</th><td>es0120a</td><td>2013-01-01</td><td>2020-12-31</td><td>106</td><td>0.9637359</td><td>0.9637359</td><td>0.9637359</td><td>0.9637359</td><td>0.9637359</td><td>0.8925761</td><td>⋯</td><td>0.9637359</td><td>0.4830653</td><td>0.4950393</td><td>0.4830653</td><td>0.9637359</td><td>       NA</td><td>       NA</td><td>       NA</td><td>       NA</td><td>0.9637359</td></tr>\n",
       "\t<tr><th scope=row>6</th><td>es0817a</td><td>2013-01-01</td><td>2020-12-31</td><td>  0</td><td>1.0000000</td><td>1.0000000</td><td>1.0000000</td><td>1.0000000</td><td>1.0000000</td><td>0.9904208</td><td>⋯</td><td>1.0000000</td><td>0.9811837</td><td>0.9883681</td><td>0.9811837</td><td>1.0000000</td><td>0.9890523</td><td>0.9890523</td><td>0.9890523</td><td>0.9890523</td><td>1.0000000</td></tr>\n",
       "</tbody>\n",
       "</table>\n"
      ],
      "text/latex": [
       "A data.frame: 6 × 24\n",
       "\\begin{tabular}{r|lllllllllllllllllllll}\n",
       "  & site & start\\_dt & end\\_dt & miss\\_dy & fecha & indicativo & nombre & provincia & altitud & tmed & ⋯ & horatmax & dir & velmedia & racha & horaracha & presMax & horaPresMax & presMin & horaPresMin & siteAQ\\\\\n",
       "  & <fct> & <date> & <date> & <dbl> & <dbl> & <dbl> & <dbl> & <dbl> & <dbl> & <dbl> & ⋯ & <dbl> & <dbl> & <dbl> & <dbl> & <dbl> & <dbl> & <dbl> & <dbl> & <dbl> & <dbl>\\\\\n",
       "\\hline\n",
       "\t1 & es0041a & 2013-01-01 & 2020-12-31 &   0 & 1.0000000 & 1.0000000 & 1.0000000 & 1.0000000 & 1.0000000 & 1.0000000 & ⋯ & 1.0000000 & 0.9996579 & 0.9993158 & 0.9996579 & 1.0000000 & 1.0000000 & 1.0000000 & 1.0000000 & 1.0000000 & 1.0000000\\\\\n",
       "\t2 & es0110a & 2013-01-01 & 2020-12-31 &   0 & 1.0000000 & 1.0000000 & 1.0000000 & 1.0000000 & 1.0000000 & 1.0000000 & ⋯ & 1.0000000 & 0.9996579 & 0.9993158 & 0.9996579 & 1.0000000 & 1.0000000 & 1.0000000 & 1.0000000 & 1.0000000 & 1.0000000\\\\\n",
       "\t3 & es0115a & 2013-01-01 & 2020-12-31 &   0 & 1.0000000 & 1.0000000 & 1.0000000 & 1.0000000 & 1.0000000 & 0.9993158 & ⋯ & 1.0000000 & 0.9418406 & 0.9483407 & 0.9418406 & 1.0000000 & 0.9846049 & 0.9846049 & 0.9846049 & 0.9842627 & 1.0000000\\\\\n",
       "\t4 & es0118a & 2013-01-01 & 2020-12-31 &   0 & 1.0000000 & 1.0000000 & 1.0000000 & 1.0000000 & 1.0000000 & 0.9993158 & ⋯ & 1.0000000 & 0.9418406 & 0.9483407 & 0.9418406 & 1.0000000 & 0.9846049 & 0.9846049 & 0.9846049 & 0.9842627 & 1.0000000\\\\\n",
       "\t5 & es0120a & 2013-01-01 & 2020-12-31 & 106 & 0.9637359 & 0.9637359 & 0.9637359 & 0.9637359 & 0.9637359 & 0.8925761 & ⋯ & 0.9637359 & 0.4830653 & 0.4950393 & 0.4830653 & 0.9637359 &        NA &        NA &        NA &        NA & 0.9637359\\\\\n",
       "\t6 & es0817a & 2013-01-01 & 2020-12-31 &   0 & 1.0000000 & 1.0000000 & 1.0000000 & 1.0000000 & 1.0000000 & 0.9904208 & ⋯ & 1.0000000 & 0.9811837 & 0.9883681 & 0.9811837 & 1.0000000 & 0.9890523 & 0.9890523 & 0.9890523 & 0.9890523 & 1.0000000\\\\\n",
       "\\end{tabular}\n"
      ],
      "text/markdown": [
       "\n",
       "A data.frame: 6 × 24\n",
       "\n",
       "| <!--/--> | site &lt;fct&gt; | start_dt &lt;date&gt; | end_dt &lt;date&gt; | miss_dy &lt;dbl&gt; | fecha &lt;dbl&gt; | indicativo &lt;dbl&gt; | nombre &lt;dbl&gt; | provincia &lt;dbl&gt; | altitud &lt;dbl&gt; | tmed &lt;dbl&gt; | ⋯ ⋯ | horatmax &lt;dbl&gt; | dir &lt;dbl&gt; | velmedia &lt;dbl&gt; | racha &lt;dbl&gt; | horaracha &lt;dbl&gt; | presMax &lt;dbl&gt; | horaPresMax &lt;dbl&gt; | presMin &lt;dbl&gt; | horaPresMin &lt;dbl&gt; | siteAQ &lt;dbl&gt; |\n",
       "|---|---|---|---|---|---|---|---|---|---|---|---|---|---|---|---|---|---|---|---|---|---|\n",
       "| 1 | es0041a | 2013-01-01 | 2020-12-31 |   0 | 1.0000000 | 1.0000000 | 1.0000000 | 1.0000000 | 1.0000000 | 1.0000000 | ⋯ | 1.0000000 | 0.9996579 | 0.9993158 | 0.9996579 | 1.0000000 | 1.0000000 | 1.0000000 | 1.0000000 | 1.0000000 | 1.0000000 |\n",
       "| 2 | es0110a | 2013-01-01 | 2020-12-31 |   0 | 1.0000000 | 1.0000000 | 1.0000000 | 1.0000000 | 1.0000000 | 1.0000000 | ⋯ | 1.0000000 | 0.9996579 | 0.9993158 | 0.9996579 | 1.0000000 | 1.0000000 | 1.0000000 | 1.0000000 | 1.0000000 | 1.0000000 |\n",
       "| 3 | es0115a | 2013-01-01 | 2020-12-31 |   0 | 1.0000000 | 1.0000000 | 1.0000000 | 1.0000000 | 1.0000000 | 0.9993158 | ⋯ | 1.0000000 | 0.9418406 | 0.9483407 | 0.9418406 | 1.0000000 | 0.9846049 | 0.9846049 | 0.9846049 | 0.9842627 | 1.0000000 |\n",
       "| 4 | es0118a | 2013-01-01 | 2020-12-31 |   0 | 1.0000000 | 1.0000000 | 1.0000000 | 1.0000000 | 1.0000000 | 0.9993158 | ⋯ | 1.0000000 | 0.9418406 | 0.9483407 | 0.9418406 | 1.0000000 | 0.9846049 | 0.9846049 | 0.9846049 | 0.9842627 | 1.0000000 |\n",
       "| 5 | es0120a | 2013-01-01 | 2020-12-31 | 106 | 0.9637359 | 0.9637359 | 0.9637359 | 0.9637359 | 0.9637359 | 0.8925761 | ⋯ | 0.9637359 | 0.4830653 | 0.4950393 | 0.4830653 | 0.9637359 |        NA |        NA |        NA |        NA | 0.9637359 |\n",
       "| 6 | es0817a | 2013-01-01 | 2020-12-31 |   0 | 1.0000000 | 1.0000000 | 1.0000000 | 1.0000000 | 1.0000000 | 0.9904208 | ⋯ | 1.0000000 | 0.9811837 | 0.9883681 | 0.9811837 | 1.0000000 | 0.9890523 | 0.9890523 | 0.9890523 | 0.9890523 | 1.0000000 |\n",
       "\n"
      ],
      "text/plain": [
       "  site    start_dt   end_dt     miss_dy fecha     indicativo nombre   \n",
       "1 es0041a 2013-01-01 2020-12-31   0     1.0000000 1.0000000  1.0000000\n",
       "2 es0110a 2013-01-01 2020-12-31   0     1.0000000 1.0000000  1.0000000\n",
       "3 es0115a 2013-01-01 2020-12-31   0     1.0000000 1.0000000  1.0000000\n",
       "4 es0118a 2013-01-01 2020-12-31   0     1.0000000 1.0000000  1.0000000\n",
       "5 es0120a 2013-01-01 2020-12-31 106     0.9637359 0.9637359  0.9637359\n",
       "6 es0817a 2013-01-01 2020-12-31   0     1.0000000 1.0000000  1.0000000\n",
       "  provincia altitud   tmed      <U+22EF>   horatmax  dir       velmedia \n",
       "1 1.0000000 1.0000000 1.0000000 <U+22EF> 1.0000000 0.9996579 0.9993158\n",
       "2 1.0000000 1.0000000 1.0000000 <U+22EF> 1.0000000 0.9996579 0.9993158\n",
       "3 1.0000000 1.0000000 0.9993158 <U+22EF> 1.0000000 0.9418406 0.9483407\n",
       "4 1.0000000 1.0000000 0.9993158 <U+22EF> 1.0000000 0.9418406 0.9483407\n",
       "5 0.9637359 0.9637359 0.8925761 <U+22EF> 0.9637359 0.4830653 0.4950393\n",
       "6 1.0000000 1.0000000 0.9904208 <U+22EF> 1.0000000 0.9811837 0.9883681\n",
       "  racha     horaracha presMax   horaPresMax presMin   horaPresMin siteAQ   \n",
       "1 0.9996579 1.0000000 1.0000000 1.0000000   1.0000000 1.0000000   1.0000000\n",
       "2 0.9996579 1.0000000 1.0000000 1.0000000   1.0000000 1.0000000   1.0000000\n",
       "3 0.9418406 1.0000000 0.9846049 0.9846049   0.9846049 0.9842627   1.0000000\n",
       "4 0.9418406 1.0000000 0.9846049 0.9846049   0.9846049 0.9842627   1.0000000\n",
       "5 0.4830653 0.9637359        NA        NA          NA        NA   0.9637359\n",
       "6 0.9811837 1.0000000 0.9890523 0.9890523   0.9890523 0.9890523   1.0000000"
      ]
     },
     "metadata": {},
     "output_type": "display_data"
    }
   ],
   "source": [
    "head(all.data)"
   ]
  },
  {
   "cell_type": "markdown",
   "metadata": {},
   "source": [
    "# Guardar Datos"
   ]
  },
  {
   "cell_type": "markdown",
   "metadata": {},
   "source": [
    "```R\n",
    "write.csv(all.data,\n",
    "          \"data/Curation/AEMET/info_sites.csv\",\n",
    "          row.names=F)\n",
    "```"
   ]
  },
  {
   "cell_type": "code",
   "execution_count": 17,
   "metadata": {},
   "outputs": [],
   "source": [
    "info <- data.frame()\n",
    "percent <- c(0.5, 0.7, 0.8, 0.9)\n",
    "\n",
    "for (pr in percent) {\n",
    "    info <- rbind(info,\n",
    "                  rbind(apply(all.data[,(10:ncol(all.data))], 2, \n",
    "                              function(df){\n",
    "                                  sum(df > pr, na.rm=TRUE)\n",
    "                              }))\n",
    "                 )\n",
    "}\n",
    "\n",
    "names(info) <- names(all.data)[10:ncol(all.data)]\n",
    "row.names(info) <- percent"
   ]
  },
  {
   "cell_type": "code",
   "execution_count": 18,
   "metadata": {},
   "outputs": [
    {
     "data": {
      "text/html": [
       "<table>\n",
       "<caption>A data.frame: 4 × 15</caption>\n",
       "<thead>\n",
       "\t<tr><th></th><th scope=col>tmed</th><th scope=col>prec</th><th scope=col>tmin</th><th scope=col>horatmin</th><th scope=col>tmax</th><th scope=col>horatmax</th><th scope=col>dir</th><th scope=col>velmedia</th><th scope=col>racha</th><th scope=col>horaracha</th><th scope=col>presMax</th><th scope=col>horaPresMax</th><th scope=col>presMin</th><th scope=col>horaPresMin</th><th scope=col>siteAQ</th></tr>\n",
       "\t<tr><th></th><th scope=col>&lt;int&gt;</th><th scope=col>&lt;int&gt;</th><th scope=col>&lt;int&gt;</th><th scope=col>&lt;int&gt;</th><th scope=col>&lt;int&gt;</th><th scope=col>&lt;int&gt;</th><th scope=col>&lt;int&gt;</th><th scope=col>&lt;int&gt;</th><th scope=col>&lt;int&gt;</th><th scope=col>&lt;int&gt;</th><th scope=col>&lt;int&gt;</th><th scope=col>&lt;int&gt;</th><th scope=col>&lt;int&gt;</th><th scope=col>&lt;int&gt;</th><th scope=col>&lt;int&gt;</th></tr>\n",
       "</thead>\n",
       "<tbody>\n",
       "\t<tr><th scope=row>0.5</th><td>66</td><td>66</td><td>66</td><td>61</td><td>66</td><td>61</td><td>53</td><td>54</td><td>53</td><td>59</td><td>55</td><td>55</td><td>55</td><td>55</td><td>66</td></tr>\n",
       "\t<tr><th scope=row>0.7</th><td>66</td><td>66</td><td>66</td><td>61</td><td>66</td><td>61</td><td>53</td><td>53</td><td>53</td><td>59</td><td>55</td><td>55</td><td>55</td><td>55</td><td>66</td></tr>\n",
       "\t<tr><th scope=row>0.8</th><td>65</td><td>66</td><td>65</td><td>61</td><td>65</td><td>61</td><td>53</td><td>53</td><td>53</td><td>59</td><td>55</td><td>55</td><td>55</td><td>55</td><td>66</td></tr>\n",
       "\t<tr><th scope=row>0.9</th><td>58</td><td>63</td><td>58</td><td>60</td><td>58</td><td>60</td><td>50</td><td>50</td><td>50</td><td>58</td><td>52</td><td>52</td><td>52</td><td>52</td><td>65</td></tr>\n",
       "</tbody>\n",
       "</table>\n"
      ],
      "text/latex": [
       "A data.frame: 4 × 15\n",
       "\\begin{tabular}{r|lllllllllllllll}\n",
       "  & tmed & prec & tmin & horatmin & tmax & horatmax & dir & velmedia & racha & horaracha & presMax & horaPresMax & presMin & horaPresMin & siteAQ\\\\\n",
       "  & <int> & <int> & <int> & <int> & <int> & <int> & <int> & <int> & <int> & <int> & <int> & <int> & <int> & <int> & <int>\\\\\n",
       "\\hline\n",
       "\t0.5 & 66 & 66 & 66 & 61 & 66 & 61 & 53 & 54 & 53 & 59 & 55 & 55 & 55 & 55 & 66\\\\\n",
       "\t0.7 & 66 & 66 & 66 & 61 & 66 & 61 & 53 & 53 & 53 & 59 & 55 & 55 & 55 & 55 & 66\\\\\n",
       "\t0.8 & 65 & 66 & 65 & 61 & 65 & 61 & 53 & 53 & 53 & 59 & 55 & 55 & 55 & 55 & 66\\\\\n",
       "\t0.9 & 58 & 63 & 58 & 60 & 58 & 60 & 50 & 50 & 50 & 58 & 52 & 52 & 52 & 52 & 65\\\\\n",
       "\\end{tabular}\n"
      ],
      "text/markdown": [
       "\n",
       "A data.frame: 4 × 15\n",
       "\n",
       "| <!--/--> | tmed &lt;int&gt; | prec &lt;int&gt; | tmin &lt;int&gt; | horatmin &lt;int&gt; | tmax &lt;int&gt; | horatmax &lt;int&gt; | dir &lt;int&gt; | velmedia &lt;int&gt; | racha &lt;int&gt; | horaracha &lt;int&gt; | presMax &lt;int&gt; | horaPresMax &lt;int&gt; | presMin &lt;int&gt; | horaPresMin &lt;int&gt; | siteAQ &lt;int&gt; |\n",
       "|---|---|---|---|---|---|---|---|---|---|---|---|---|---|---|---|\n",
       "| 0.5 | 66 | 66 | 66 | 61 | 66 | 61 | 53 | 54 | 53 | 59 | 55 | 55 | 55 | 55 | 66 |\n",
       "| 0.7 | 66 | 66 | 66 | 61 | 66 | 61 | 53 | 53 | 53 | 59 | 55 | 55 | 55 | 55 | 66 |\n",
       "| 0.8 | 65 | 66 | 65 | 61 | 65 | 61 | 53 | 53 | 53 | 59 | 55 | 55 | 55 | 55 | 66 |\n",
       "| 0.9 | 58 | 63 | 58 | 60 | 58 | 60 | 50 | 50 | 50 | 58 | 52 | 52 | 52 | 52 | 65 |\n",
       "\n"
      ],
      "text/plain": [
       "    tmed prec tmin horatmin tmax horatmax dir velmedia racha horaracha presMax\n",
       "0.5 66   66   66   61       66   61       53  54       53    59        55     \n",
       "0.7 66   66   66   61       66   61       53  53       53    59        55     \n",
       "0.8 65   66   65   61       65   61       53  53       53    59        55     \n",
       "0.9 58   63   58   60       58   60       50  50       50    58        52     \n",
       "    horaPresMax presMin horaPresMin siteAQ\n",
       "0.5 55          55      55          66    \n",
       "0.7 55          55      55          66    \n",
       "0.8 55          55      55          66    \n",
       "0.9 52          52      52          65    "
      ]
     },
     "metadata": {},
     "output_type": "display_data"
    }
   ],
   "source": [
    "info"
   ]
  },
  {
   "cell_type": "code",
   "execution_count": null,
   "metadata": {},
   "outputs": [],
   "source": []
  }
 ],
 "metadata": {
  "kernelspec": {
   "display_name": "R",
   "language": "R",
   "name": "ir"
  },
  "language_info": {
   "codemirror_mode": "r",
   "file_extension": ".r",
   "mimetype": "text/x-r-source",
   "name": "R",
   "pygments_lexer": "r",
   "version": "3.6.3"
  }
 },
 "nbformat": 4,
 "nbformat_minor": 4
}
