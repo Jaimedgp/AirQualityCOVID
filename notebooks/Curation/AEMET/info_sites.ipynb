{
 "cells": [
  {
   "cell_type": "markdown",
   "metadata": {},
   "source": [
    "# Curation Estaciones Meteorologicas\n",
    "\n",
    "Estudiar La cantidad de datos validos disponibles para cada variable en cada estacion y obtener el numero de estaciones con los datos minimos necesarios para el estudio"
   ]
  },
  {
   "cell_type": "code",
   "execution_count": 1,
   "metadata": {},
   "outputs": [],
   "source": [
    "setwd(\"~/Repositories/AirQualityCOVID\")"
   ]
  },
  {
   "cell_type": "code",
   "execution_count": 2,
   "metadata": {},
   "outputs": [],
   "source": [
    "source(\"src/general.R\")"
   ]
  },
  {
   "cell_type": "markdown",
   "metadata": {},
   "source": [
    "## Funciones para filtrar datos"
   ]
  },
  {
   "cell_type": "code",
   "execution_count": 3,
   "metadata": {},
   "outputs": [],
   "source": [
    "suppressMessages(library(lubridate))\n",
    "suppressMessages(library(tidyverse))\n",
    "suppressMessages(library(plyr))"
   ]
  },
  {
   "cell_type": "code",
   "execution_count": 4,
   "metadata": {},
   "outputs": [],
   "source": [
    "get.info <- function(st) {\n",
    "    \n",
    "    dataframe <- read.csv(paste(\"data/Curation/AEMET/Values/\",\n",
    "                                st,\n",
    "                                \".csv\", sep=\"\"))\n",
    "    \n",
    "    dataframe$fecha <- ymd(dataframe$fecha)\n",
    "    period <- as.numeric(max(dataframe$fecha)-min(dataframe$fecha)) +2\n",
    "    \n",
    "    cbind(data.frame(site=st,\n",
    "                     start_dt=min(dataframe$fecha),\n",
    "                     end_dt=max(dataframe$fecha),\n",
    "                     miss_dy=period - nrow(dataframe)\n",
    "                    ),\n",
    "          rbind(apply(dataframe, 2, \n",
    "                      function(df, period) {\n",
    "                          (sum(!is.na(df)) / period)\n",
    "                      }, period))\n",
    "         )\n",
    "}"
   ]
  },
  {
   "cell_type": "code",
   "execution_count": 5,
   "metadata": {},
   "outputs": [],
   "source": [
    "sitesAQ <- read.csv(\"data/Curation/sitesAQ.csv\",\n",
    "                    stringsAsFactor=TRUE)\n",
    "\n",
    "all.data <- do.call(rbind.fill, lapply(levels(sitesAQ$site), get.info))"
   ]
  },
  {
   "cell_type": "markdown",
   "metadata": {},
   "source": [
    "# Guardar Datos"
   ]
  },
  {
   "cell_type": "code",
   "execution_count": 6,
   "metadata": {},
   "outputs": [],
   "source": [
    "#```R\n",
    "write.csv(all.data,\n",
    "          \"data/Curation/AEMET/info_sites.csv\",\n",
    "          row.names=F)\n",
    "#```"
   ]
  },
  {
   "cell_type": "code",
   "execution_count": 7,
   "metadata": {},
   "outputs": [],
   "source": [
    "info <- data.frame()\n",
    "percent <- c(0.5, 0.7, 0.8, 0.9)\n",
    "\n",
    "for (pr in percent) {\n",
    "    info <- rbind(info,\n",
    "                  rbind(apply(all.data, 2, \n",
    "                              function(df){\n",
    "                                  sum(df>= pr, na.rm=TRUE)\n",
    "                              }))[10:ncol(all.data)]\n",
    "                 )\n",
    "}\n",
    "\n",
    "names(info) <- names(all.data)[10:ncol(all.data)]\n",
    "row.names(info) <- percent"
   ]
  },
  {
   "cell_type": "code",
   "execution_count": 8,
   "metadata": {},
   "outputs": [
    {
     "data": {
      "text/html": [
       "<table>\n",
       "<caption>A data.frame: 4 × 16</caption>\n",
       "<thead>\n",
       "\t<tr><th></th><th scope=col>tmed</th><th scope=col>prec</th><th scope=col>tmin</th><th scope=col>horatmin</th><th scope=col>tmax</th><th scope=col>horatmax</th><th scope=col>dir</th><th scope=col>velmedia</th><th scope=col>racha</th><th scope=col>horaracha</th><th scope=col>sol</th><th scope=col>presMax</th><th scope=col>horaPresMax</th><th scope=col>presMin</th><th scope=col>horaPresMin</th><th scope=col>siteAQ</th></tr>\n",
       "\t<tr><th></th><th scope=col>&lt;int&gt;</th><th scope=col>&lt;int&gt;</th><th scope=col>&lt;int&gt;</th><th scope=col>&lt;int&gt;</th><th scope=col>&lt;int&gt;</th><th scope=col>&lt;int&gt;</th><th scope=col>&lt;int&gt;</th><th scope=col>&lt;int&gt;</th><th scope=col>&lt;int&gt;</th><th scope=col>&lt;int&gt;</th><th scope=col>&lt;int&gt;</th><th scope=col>&lt;int&gt;</th><th scope=col>&lt;int&gt;</th><th scope=col>&lt;int&gt;</th><th scope=col>&lt;int&gt;</th><th scope=col>&lt;int&gt;</th></tr>\n",
       "</thead>\n",
       "<tbody>\n",
       "\t<tr><th scope=row>0.5</th><td>67</td><td>67</td><td>67</td><td>62</td><td>67</td><td>62</td><td>54</td><td>55</td><td>54</td><td>60</td><td>51</td><td>56</td><td>56</td><td>56</td><td>56</td><td>67</td></tr>\n",
       "\t<tr><th scope=row>0.7</th><td>67</td><td>67</td><td>67</td><td>62</td><td>67</td><td>62</td><td>54</td><td>54</td><td>54</td><td>60</td><td>50</td><td>56</td><td>56</td><td>56</td><td>56</td><td>67</td></tr>\n",
       "\t<tr><th scope=row>0.8</th><td>66</td><td>67</td><td>66</td><td>62</td><td>66</td><td>62</td><td>54</td><td>54</td><td>54</td><td>60</td><td>49</td><td>56</td><td>56</td><td>56</td><td>56</td><td>67</td></tr>\n",
       "\t<tr><th scope=row>0.9</th><td>61</td><td>67</td><td>61</td><td>62</td><td>61</td><td>62</td><td>54</td><td>54</td><td>54</td><td>60</td><td>47</td><td>56</td><td>56</td><td>56</td><td>56</td><td>67</td></tr>\n",
       "</tbody>\n",
       "</table>\n"
      ],
      "text/latex": [
       "A data.frame: 4 × 16\n",
       "\\begin{tabular}{r|llllllllllllllll}\n",
       "  & tmed & prec & tmin & horatmin & tmax & horatmax & dir & velmedia & racha & horaracha & sol & presMax & horaPresMax & presMin & horaPresMin & siteAQ\\\\\n",
       "  & <int> & <int> & <int> & <int> & <int> & <int> & <int> & <int> & <int> & <int> & <int> & <int> & <int> & <int> & <int> & <int>\\\\\n",
       "\\hline\n",
       "\t0.5 & 67 & 67 & 67 & 62 & 67 & 62 & 54 & 55 & 54 & 60 & 51 & 56 & 56 & 56 & 56 & 67\\\\\n",
       "\t0.7 & 67 & 67 & 67 & 62 & 67 & 62 & 54 & 54 & 54 & 60 & 50 & 56 & 56 & 56 & 56 & 67\\\\\n",
       "\t0.8 & 66 & 67 & 66 & 62 & 66 & 62 & 54 & 54 & 54 & 60 & 49 & 56 & 56 & 56 & 56 & 67\\\\\n",
       "\t0.9 & 61 & 67 & 61 & 62 & 61 & 62 & 54 & 54 & 54 & 60 & 47 & 56 & 56 & 56 & 56 & 67\\\\\n",
       "\\end{tabular}\n"
      ],
      "text/markdown": [
       "\n",
       "A data.frame: 4 × 16\n",
       "\n",
       "| <!--/--> | tmed &lt;int&gt; | prec &lt;int&gt; | tmin &lt;int&gt; | horatmin &lt;int&gt; | tmax &lt;int&gt; | horatmax &lt;int&gt; | dir &lt;int&gt; | velmedia &lt;int&gt; | racha &lt;int&gt; | horaracha &lt;int&gt; | sol &lt;int&gt; | presMax &lt;int&gt; | horaPresMax &lt;int&gt; | presMin &lt;int&gt; | horaPresMin &lt;int&gt; | siteAQ &lt;int&gt; |\n",
       "|---|---|---|---|---|---|---|---|---|---|---|---|---|---|---|---|---|\n",
       "| 0.5 | 67 | 67 | 67 | 62 | 67 | 62 | 54 | 55 | 54 | 60 | 51 | 56 | 56 | 56 | 56 | 67 |\n",
       "| 0.7 | 67 | 67 | 67 | 62 | 67 | 62 | 54 | 54 | 54 | 60 | 50 | 56 | 56 | 56 | 56 | 67 |\n",
       "| 0.8 | 66 | 67 | 66 | 62 | 66 | 62 | 54 | 54 | 54 | 60 | 49 | 56 | 56 | 56 | 56 | 67 |\n",
       "| 0.9 | 61 | 67 | 61 | 62 | 61 | 62 | 54 | 54 | 54 | 60 | 47 | 56 | 56 | 56 | 56 | 67 |\n",
       "\n"
      ],
      "text/plain": [
       "    tmed prec tmin horatmin tmax horatmax dir velmedia racha horaracha sol\n",
       "0.5 67   67   67   62       67   62       54  55       54    60        51 \n",
       "0.7 67   67   67   62       67   62       54  54       54    60        50 \n",
       "0.8 66   67   66   62       66   62       54  54       54    60        49 \n",
       "0.9 61   67   61   62       61   62       54  54       54    60        47 \n",
       "    presMax horaPresMax presMin horaPresMin siteAQ\n",
       "0.5 56      56          56      56          67    \n",
       "0.7 56      56          56      56          67    \n",
       "0.8 56      56          56      56          67    \n",
       "0.9 56      56          56      56          67    "
      ]
     },
     "metadata": {},
     "output_type": "display_data"
    }
   ],
   "source": [
    "info"
   ]
  },
  {
   "cell_type": "code",
   "execution_count": null,
   "metadata": {},
   "outputs": [],
   "source": []
  }
 ],
 "metadata": {
  "kernelspec": {
   "display_name": "R",
   "language": "R",
   "name": "ir"
  },
  "language_info": {
   "codemirror_mode": "r",
   "file_extension": ".r",
   "mimetype": "text/x-r-source",
   "name": "R",
   "pygments_lexer": "r",
   "version": "4.0.3"
  }
 },
 "nbformat": 4,
 "nbformat_minor": 4
}
