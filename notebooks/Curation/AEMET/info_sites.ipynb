{
 "cells": [
  {
   "cell_type": "markdown",
   "metadata": {},
   "source": [
    "# Curation Estaciones Meteorologicas\n",
    "\n",
    "Estudiar La cantidad de datos validos disponibles para cada variable en cada estacion y obtener el numero de estaciones con los datos minimos necesarios para el estudio"
   ]
  },
  {
   "cell_type": "code",
   "execution_count": 1,
   "metadata": {},
   "outputs": [],
   "source": [
    "setwd(\"~/Repositories/AirQualityCOVID\")"
   ]
  },
  {
   "cell_type": "code",
   "execution_count": 2,
   "metadata": {},
   "outputs": [],
   "source": [
    "source(\"src/general.R\")"
   ]
  },
  {
   "cell_type": "markdown",
   "metadata": {},
   "source": [
    "## Funciones para filtrar datos"
   ]
  },
  {
   "cell_type": "code",
   "execution_count": 3,
   "metadata": {},
   "outputs": [],
   "source": [
    "suppressMessages(library(lubridate))\n",
    "suppressMessages(library(tidyverse))\n",
    "suppressMessages(library(plyr))"
   ]
  },
  {
   "cell_type": "code",
   "execution_count": 4,
   "metadata": {},
   "outputs": [],
   "source": [
    "get.info <- function(st) {\n",
    "    \n",
    "    dataframe <- read.csv(paste(\"data/Curation/AEMET/Values/\",\n",
    "                                st,\n",
    "                                \".csv\", sep=\"\"))\n",
    "    \n",
    "    dataframe$fecha <- ymd(dataframe$fecha)\n",
    "    \n",
    "    cbind(data.frame(site=levels(dataframe$siteAQ),\n",
    "                     start_dt=min(dataframe$fecha),\n",
    "                     end_dt=max(dataframe$fecha)\n",
    "                    ),\n",
    "          rbind(apply(dataframe, 2, \n",
    "                      function(df) {\n",
    "                          (sum(!is.na(df)) / length(df))\n",
    "                      }))\n",
    "         )\n",
    "}"
   ]
  },
  {
   "cell_type": "code",
   "execution_count": 5,
   "metadata": {},
   "outputs": [],
   "source": [
    "sitesAQ <- read.csv(\"data/Curation/sitesAQ.csv\")\n",
    "\n",
    "all.data <- do.call(rbind.fill, lapply(levels(sitesAQ$site), get.info))"
   ]
  },
  {
   "cell_type": "code",
   "execution_count": null,
   "metadata": {},
   "outputs": [],
   "source": []
  },
  {
   "cell_type": "markdown",
   "metadata": {},
   "source": [
    "# Guardar Datos"
   ]
  },
  {
   "cell_type": "markdown",
   "metadata": {},
   "source": [
    "```R\n",
    "write.csv(all.data,\n",
    "          \"data/Curation/AEMET/info_sites.csv\",\n",
    "          row.names=F)\n",
    "```"
   ]
  },
  {
   "cell_type": "code",
   "execution_count": 26,
   "metadata": {},
   "outputs": [
    {
     "name": "stdout",
     "output_type": "stream",
     "text": [
      "[1] \"es0041a\" \"es0110a\" \"es0115a\" \"es0118a\" \"es0120a\"\n",
      "[1] \"2013-01-01\" \"2013-01-01\" \"2013-01-01\" \"2013-01-01\" \"2013-01-01\"\n",
      "[1] \"2020-12-31\" \"2020-12-31\" \"2020-12-31\" \"2020-12-31\" \"2020-12-31\"\n",
      "[1] \"1\" \"1\" \"1\" \"1\" \"1\"\n",
      "[1] \"1\" \"1\" \"1\" \"1\" \"1\"\n",
      "[1] \"1\" \"1\" \"1\" \"1\" \"1\"\n",
      "[1] \"1\" \"1\" \"1\" \"1\" \"1\"\n",
      "[1] \"1\" \"1\" \"1\" \"1\" \"1\"\n",
      "[1] \"1.0000000\" \"1.0000000\" \"0.9993158\" \"0.9993158\" \"0.9261626\"\n",
      "[1] \"1.0000000\" \"1.0000000\" \"1.0000000\" \"1.0000000\" \"0.9708910\"\n",
      "[1] \"1.0000000\" \"1.0000000\" \"0.9993158\" \"0.9993158\" \"0.9261626\"\n",
      "[1] \" 1\" \" 1\" \" 1\" \" 1\" \" 1\"\n",
      "[1] \"1.0000000\" \"1.0000000\" \"0.9993158\" \"0.9993158\" \"0.9261626\"\n",
      "[1] \" 1\" \" 1\" \" 1\" \" 1\" \" 1\"\n",
      "[1] \"0.9996579\" \"0.9996579\" \"0.9418406\" \"0.9418406\" \"0.5012425\"\n",
      "[1] \"0.9993158\" \"0.9993158\" \"0.9483407\" \"0.9483407\" \"0.5136670\"\n",
      "[1] \"0.9996579\" \"0.9996579\" \"0.9418406\" \"0.9418406\" \"0.5012425\"\n",
      "[1] \" 1\" \" 1\" \" 1\" \" 1\" \" 1\"\n",
      "[1] \"1.0000000\" \"1.0000000\" NA          NA          NA         \n",
      "[1] \"1.0000000\" \"1.0000000\" \"0.9846049\" \"0.9846049\" NA         \n",
      "[1] \"1.0000000\" \"1.0000000\" \"0.9846049\" \"0.9846049\" NA         \n",
      "[1] \"1.0000000\" \"1.0000000\" \"0.9846049\" \"0.9846049\" NA         \n",
      "[1] \"1.0000000\" \"1.0000000\" \"0.9842627\" \"0.9842627\" NA         \n",
      "[1] \"1\" \"1\" \"1\" \"1\" \"1\"\n"
     ]
    }
   ],
   "source": [
    "a <- rbind(apply(all.data, 2, \n",
    "            function(df){\n",
    "                print(df[1:5])\n",
    "                mean(df>= 0.9, na.rm=TRUE)\n",
    "            }))"
   ]
  },
  {
   "cell_type": "code",
   "execution_count": 16,
   "metadata": {},
   "outputs": [
    {
     "data": {
      "text/html": [
       "60"
      ],
      "text/latex": [
       "60"
      ],
      "text/markdown": [
       "60"
      ],
      "text/plain": [
       "[1] 60"
      ]
     },
     "metadata": {},
     "output_type": "display_data"
    }
   ],
   "source": [
    "sum(all.data$horaracha >= 0.9, na.rm=T)"
   ]
  },
  {
   "cell_type": "code",
   "execution_count": 27,
   "metadata": {},
   "outputs": [
    {
     "data": {
      "text/html": [
       "0"
      ],
      "text/latex": [
       "0"
      ],
      "text/markdown": [
       "0"
      ],
      "text/plain": [
       "[1] 0"
      ]
     },
     "metadata": {},
     "output_type": "display_data"
    }
   ],
   "source": [
    "data.frame(a)$horaracha"
   ]
  },
  {
   "cell_type": "code",
   "execution_count": 28,
   "metadata": {},
   "outputs": [
    {
     "data": {
      "text/html": [
       "<table>\n",
       "<caption>A matrix: 1 × 24 of type dbl</caption>\n",
       "<thead>\n",
       "\t<tr><th scope=col>site</th><th scope=col>start_dt</th><th scope=col>end_dt</th><th scope=col>fecha</th><th scope=col>indicativo</th><th scope=col>nombre</th><th scope=col>provincia</th><th scope=col>altitud</th><th scope=col>tmed</th><th scope=col>prec</th><th scope=col>⋯</th><th scope=col>dir</th><th scope=col>velmedia</th><th scope=col>racha</th><th scope=col>horaracha</th><th scope=col>sol</th><th scope=col>presMax</th><th scope=col>horaPresMax</th><th scope=col>presMin</th><th scope=col>horaPresMin</th><th scope=col>siteAQ</th></tr>\n",
       "</thead>\n",
       "<tbody>\n",
       "\t<tr><td>1</td><td>1</td><td>1</td><td>1</td><td>1</td><td>1</td><td>1</td><td>1</td><td>0.9850746</td><td>1</td><td>⋯</td><td>0.9</td><td>0.9</td><td>0.9</td><td>0</td><td>0.9038462</td><td>1</td><td>1</td><td>1</td><td>1</td><td>1</td></tr>\n",
       "</tbody>\n",
       "</table>\n"
      ],
      "text/latex": [
       "A matrix: 1 × 24 of type dbl\n",
       "\\begin{tabular}{lllllllllllllllllllll}\n",
       " site & start\\_dt & end\\_dt & fecha & indicativo & nombre & provincia & altitud & tmed & prec & ⋯ & dir & velmedia & racha & horaracha & sol & presMax & horaPresMax & presMin & horaPresMin & siteAQ\\\\\n",
       "\\hline\n",
       "\t 1 & 1 & 1 & 1 & 1 & 1 & 1 & 1 & 0.9850746 & 1 & ⋯ & 0.9 & 0.9 & 0.9 & 0 & 0.9038462 & 1 & 1 & 1 & 1 & 1\\\\\n",
       "\\end{tabular}\n"
      ],
      "text/markdown": [
       "\n",
       "A matrix: 1 × 24 of type dbl\n",
       "\n",
       "| site | start_dt | end_dt | fecha | indicativo | nombre | provincia | altitud | tmed | prec | ⋯ | dir | velmedia | racha | horaracha | sol | presMax | horaPresMax | presMin | horaPresMin | siteAQ |\n",
       "|---|---|---|---|---|---|---|---|---|---|---|---|---|---|---|---|---|---|---|---|---|\n",
       "| 1 | 1 | 1 | 1 | 1 | 1 | 1 | 1 | 0.9850746 | 1 | ⋯ | 0.9 | 0.9 | 0.9 | 0 | 0.9038462 | 1 | 1 | 1 | 1 | 1 |\n",
       "\n"
      ],
      "text/plain": [
       "     site start_dt end_dt fecha indicativo nombre provincia altitud tmed     \n",
       "[1,] 1    1        1      1     1          1      1         1       0.9850746\n",
       "     prec <U+22EF>   dir velmedia racha horaracha sol       presMax horaPresMax\n",
       "[1,] 1    <U+22EF> 0.9 0.9      0.9   0         0.9038462 1       1          \n",
       "     presMin horaPresMin siteAQ\n",
       "[1,] 1       1           1     "
      ]
     },
     "metadata": {},
     "output_type": "display_data"
    }
   ],
   "source": [
    "a"
   ]
  },
  {
   "cell_type": "code",
   "execution_count": null,
   "metadata": {},
   "outputs": [],
   "source": []
  }
 ],
 "metadata": {
  "kernelspec": {
   "display_name": "R",
   "language": "R",
   "name": "ir"
  },
  "language_info": {
   "codemirror_mode": "r",
   "file_extension": ".r",
   "mimetype": "text/x-r-source",
   "name": "R",
   "pygments_lexer": "r",
   "version": "3.6.3"
  }
 },
 "nbformat": 4,
 "nbformat_minor": 4
}
