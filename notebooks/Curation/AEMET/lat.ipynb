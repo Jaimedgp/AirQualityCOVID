{
 "cells": [
  {
   "cell_type": "markdown",
   "metadata": {},
   "source": [
    "# Sites downloaded"
   ]
  },
  {
   "cell_type": "code",
   "execution_count": 39,
   "metadata": {},
   "outputs": [],
   "source": [
    "import os\n",
    "import pandas as pd\n",
    "import numpy as np\n",
    "import os\n",
    "\n",
    "os.chdir(\"/home/jaimedgp/Repositories/AirQualityCOVID/src/Curation/\")"
   ]
  },
  {
   "cell_type": "code",
   "execution_count": 40,
   "metadata": {},
   "outputs": [],
   "source": [
    "HOME = \"/home/jaimedgp/Repositories/AirQualityCOVID/\""
   ]
  },
  {
   "cell_type": "code",
   "execution_count": 41,
   "metadata": {},
   "outputs": [],
   "source": [
    "info_sites = pd.read_csv(HOME+\"data/Curation/AEMET/info_sites.csv\")\n",
    "\n",
    "new_df = info_sites.drop([\"site\", \"start_dt\", \"end_dt\", \"miss_dy\", \"altitud\",\n",
    "                          \"fecha\", \"indicativo\", \"nombre\", \"provincia\",\n",
    "                          \"sol\", \"horatmax\", \"horatmin\", \"horaracha\",\n",
    "                          \"horaPresMax\", \"horaPresMax\"], 1).dropna()\n",
    "\n",
    "rows = new_df[new_df >= 0.9]\n",
    "\n",
    "a = info_sites.loc[rows.dropna(axis=0).index].copy()"
   ]
  },
  {
   "cell_type": "code",
   "execution_count": 63,
   "metadata": {},
   "outputs": [
    {
     "name": "stdout",
     "output_type": "stream",
     "text": [
      "       site        site_name   latitude  longitude  elevation country  \\\n",
      "14  es1181a  QUART DE POBLET  39.481111  -0.447222         41   spain   \n",
      "\n",
      "   site_type site_area           date_start             date_end Municipio  \\\n",
      "14   traffic     urban  1997-01-01 00:00:00  2021-01-16 01:00:00  Valencia   \n",
      "\n",
      "    Poblacion Estación.tráfico  \n",
      "14      24760  QUART DE POBLET  \n",
      "      site      site_name Municipio\n",
      "4  es0120a  RAMÓN Y CAJAL    Madrid\n",
      "       site                site_name Municipio\n",
      "16  es1239a  VALÈNCIA-PISTA DE SILLA  Valencia\n",
      "       site  site_name Municipio\n",
      "22  es1271a  ARGENTINA     Gijón\n",
      "       site     site_name Municipio\n",
      "23  es1272a  CONSTITUCIÓN     Gijón\n",
      "       site               site_name  Municipio\n",
      "28  es1438a  Barcelona (l'Eixample)  Barcelona\n",
      "       site         site_name Municipio\n",
      "34  es1521a  BARRIO DEL PILAR    Madrid\n",
      "       site                      site_name Municipio\n",
      "35  es1525a  CUATRO CAMINOS-PABLO IGLESIAS    Madrid\n",
      "       site        site_name Municipio\n",
      "36  es1560a  GRANADA - NORTE   Granada\n",
      "       site        site_name                   Municipio\n",
      "40  es1573a  MERCADO CENTRAL  Las Palmas de Gran Canaria\n",
      "       site              site_name Municipio\n",
      "44  es1625a  BURJASSOT - FACULTATS  Valencia\n",
      "       site         site_name Municipio\n",
      "50  es1740a  PLAZA DE LA CRUZ  Pamplona\n",
      "       site                site_name Municipio\n",
      "55  es1912a  VALÈNCIA - AVD. FRANCIA  Valencia\n",
      "       site   site_name Municipio\n",
      "56  es1938a  CASTELLANA    Madrid\n",
      "       site             site_name Municipio\n",
      "57  es1940a  PLAZA CASTILLA-CANAL    Madrid\n",
      "       site                site_name Municipio\n",
      "59  es1970a  VALÈNCIA - BULEVARD SUD  Valencia\n"
     ]
    }
   ],
   "source": [
    "prueba =  pd.read_csv(HOME + \"data/Curation/sitesAQ.csv\")\n",
    "print(prueba[prueba[\"site\"] == \"es1181a\"])\n",
    "\n",
    "for st in info_sites[\"site\"]:\n",
    "    for st_1 in a[\"site\"]:\n",
    "        if st == st_1:\n",
    "            break\n",
    "    else:\n",
    "        print(prueba[prueba[\"site\"] == st][[\"site\", \"site_name\", \"Municipio\"]])\n"
   ]
  },
  {
   "cell_type": "code",
   "execution_count": 28,
   "metadata": {},
   "outputs": [],
   "source": [
    "sites_downloaded = {}\n",
    "\n",
    "folder = \"data/Curation/AEMET/Values/\"\n",
    "\n",
    "for st in a[\"site\"]:\n",
    "    data = pd.read_csv(HOME+folder+st+\".csv\")\n",
    "    \n",
    "    sites_downloaded[st] = data[\"indicativo\"].unique()[0]"
   ]
  },
  {
   "cell_type": "code",
   "execution_count": 29,
   "metadata": {},
   "outputs": [
    {
     "data": {
      "text/plain": [
       "52"
      ]
     },
     "execution_count": 29,
     "metadata": {},
     "output_type": "execute_result"
    }
   ],
   "source": [
    "len(sites_downloaded)"
   ]
  },
  {
   "cell_type": "code",
   "execution_count": 30,
   "metadata": {
    "attributes": {
     "classes": [],
     "id": "",
     "n": "2"
    }
   },
   "outputs": [],
   "source": [
    "from AEMET.downloadAEMET import DownloadAEMET\n",
    "from AEMET.apikey_file import apikey\n",
    "from datetime import date"
   ]
  },
  {
   "cell_type": "code",
   "execution_count": 31,
   "metadata": {
    "attributes": {
     "classes": [],
     "id": "",
     "n": "3"
    }
   },
   "outputs": [],
   "source": [
    "Aemet = DownloadAEMET(apikey=apikey)"
   ]
  },
  {
   "cell_type": "code",
   "execution_count": 32,
   "metadata": {
    "attributes": {
     "classes": [],
     "id": "",
     "n": "4"
    }
   },
   "outputs": [],
   "source": [
    "sites = Aemet.get_stations()"
   ]
  },
  {
   "cell_type": "code",
   "execution_count": 33,
   "metadata": {},
   "outputs": [],
   "source": [
    "info_sites = pd.DataFrame()\n",
    "\n",
    "for ky, vl in sites_downloaded.items():\n",
    "\n",
    "    if vl == 367:\n",
    "        vl = \"0367\"\n",
    "    a = sites[str(vl) == sites[\"indicativo\"]].copy()\n",
    "    if a.shape[0] == 0:\n",
    "        print(a)\n",
    "    a[\"siteAQ\"] = ky\n",
    "    \n",
    "    info_sites = info_sites.append(a)"
   ]
  },
  {
   "cell_type": "code",
   "execution_count": 34,
   "metadata": {},
   "outputs": [
    {
     "data": {
      "text/plain": [
       "(52, 8)"
      ]
     },
     "execution_count": 34,
     "metadata": {},
     "output_type": "execute_result"
    }
   ],
   "source": [
    "info_sites.shape"
   ]
  },
  {
   "cell_type": "code",
   "execution_count": 35,
   "metadata": {},
   "outputs": [],
   "source": [
    "info_sites.to_csv(HOME+\"data/Curation/AEMET/sites_AEMET.csv\")"
   ]
  },
  {
   "cell_type": "code",
   "execution_count": 36,
   "metadata": {},
   "outputs": [
    {
     "data": {
      "text/html": [
       "<div>\n",
       "<style scoped>\n",
       "    .dataframe tbody tr th:only-of-type {\n",
       "        vertical-align: middle;\n",
       "    }\n",
       "\n",
       "    .dataframe tbody tr th {\n",
       "        vertical-align: top;\n",
       "    }\n",
       "\n",
       "    .dataframe thead th {\n",
       "        text-align: right;\n",
       "    }\n",
       "</style>\n",
       "<table border=\"1\" class=\"dataframe\">\n",
       "  <thead>\n",
       "    <tr style=\"text-align: right;\">\n",
       "      <th></th>\n",
       "      <th>latitud</th>\n",
       "      <th>provincia</th>\n",
       "      <th>altitud</th>\n",
       "      <th>indicativo</th>\n",
       "      <th>nombre</th>\n",
       "      <th>indsinop</th>\n",
       "      <th>longitud</th>\n",
       "    </tr>\n",
       "  </thead>\n",
       "  <tbody>\n",
       "    <tr>\n",
       "      <th>7</th>\n",
       "      <td>41.911667</td>\n",
       "      <td>GIRONA</td>\n",
       "      <td>143</td>\n",
       "      <td>0367</td>\n",
       "      <td>GIRONA AEROPUERTO</td>\n",
       "      <td>08184</td>\n",
       "      <td>2.763333</td>\n",
       "    </tr>\n",
       "  </tbody>\n",
       "</table>\n",
       "</div>"
      ],
      "text/plain": [
       "     latitud provincia  altitud indicativo             nombre indsinop  \\\n",
       "7  41.911667    GIRONA      143       0367  GIRONA AEROPUERTO    08184   \n",
       "\n",
       "   longitud  \n",
       "7  2.763333  "
      ]
     },
     "execution_count": 36,
     "metadata": {},
     "output_type": "execute_result"
    }
   ],
   "source": [
    "sites[sites[\"nombre\"] == \"GIRONA AEROPUERTO\"]"
   ]
  },
  {
   "cell_type": "code",
   "execution_count": null,
   "metadata": {},
   "outputs": [],
   "source": []
  }
 ],
 "metadata": {
  "kernelspec": {
   "display_name": "Python 3",
   "language": "python",
   "name": "python3"
  },
  "language_info": {
   "codemirror_mode": {
    "name": "ipython",
    "version": 3
   },
   "file_extension": ".py",
   "mimetype": "text/x-python",
   "name": "python",
   "nbconvert_exporter": "python",
   "pygments_lexer": "ipython3",
   "version": "3.8.3"
  }
 },
 "nbformat": 4,
 "nbformat_minor": 4
}
