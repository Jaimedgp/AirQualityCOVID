{
 "cells": [
  {
   "cell_type": "markdown",
   "metadata": {},
   "source": [
    "# Air Quality\n",
    "\n",
    "The air quality data from urban traffic stations in Spanish cities with more than >100000 inhabitants are studied in order to obtain the effect of COVID-19 lockdown in the air quality."
   ]
  },
  {
   "cell_type": "code",
   "execution_count": 1,
   "metadata": {},
   "outputs": [],
   "source": [
    "# Load packages\n",
    "suppressMessages(library(saqgetr))\n",
    "suppressMessages(library(lubridate))\n",
    "suppressMessages(library(tidyverse))\n",
    "suppressMessages(library(openxlsx))\n",
    "suppressMessages(library(plyr))"
   ]
  },
  {
   "cell_type": "code",
   "execution_count": 2,
   "metadata": {},
   "outputs": [],
   "source": [
    "# Working directory\n",
    "setwd(\"~/Repositories/AirQualityCOVID\")\n",
    "\n",
    "# Source some scripts \n",
    "source(\"src/Curation/airQuality.R\")"
   ]
  },
  {
   "cell_type": "markdown",
   "metadata": {},
   "source": [
    "### Main Variables"
   ]
  },
  {
   "cell_type": "code",
   "execution_count": 3,
   "metadata": {},
   "outputs": [],
   "source": [
    "site_type <- \"traffic\"\n",
    "site_area <- \"urban\"\n",
    "\n",
    "start_dt <- ymd_hms(\"2013-01-01 00:00:00\")\n",
    "end_dt <- ymd_hms(\"2020-12-30 00:00:00\")\n",
    "\n",
    "pollutants <- c(\"no\", \"no2\", \"o3\", \"pm10\", \"pm2.5\")"
   ]
  },
  {
   "cell_type": "markdown",
   "metadata": {},
   "source": [
    "## Spanish stations information"
   ]
  },
  {
   "cell_type": "code",
   "execution_count": 4,
   "metadata": {},
   "outputs": [],
   "source": [
    "# AQ station in cities with more than 100000 inhabitants\n",
    "sites.100mil <- read.xlsx(\"data/xlsx/estaciones-CA-JA.xlsx\",\n",
    "                          sheet=\"ciudades-100000-A\") %>% \n",
    "                    select(\"Municipio\", \"Población\",\n",
    "                           \"Estación.tráfico\", \"Código.estación\") "
   ]
  },
  {
   "cell_type": "code",
   "execution_count": 5,
   "metadata": {},
   "outputs": [],
   "source": [
    "spain.sites <- get_saq_sites() %>%\n",
    "    filter(country == \"spain\",\n",
    "           site %in% sites.100mil$\"Código.estación\",\n",
    "           site_type == \"traffic\",\n",
    "           site_area == \"urban\",\n",
    "           date_start <= start_dt,\n",
    "           ) %>%\n",
    "    select(site, site_name, latitude, longitude, elevation, \n",
    "           country, site_type, site_area, date_start, date_end)"
   ]
  },
  {
   "cell_type": "code",
   "execution_count": 6,
   "metadata": {},
   "outputs": [],
   "source": [
    "sites.AQ <- merge(x = spain.sites,\n",
    "                  y = sites.100mil,\n",
    "                  by.x = \"site\", by.y=\"Código.estación\",\n",
    "                  all.x = TRUE) "
   ]
  },
  {
   "cell_type": "markdown",
   "metadata": {},
   "source": [
    "## Curation of Air Quality data\n",
    "\n",
    "Estudiar de que contaminantes no hay datos suficientes para el estudio en cada estacion. Se ha de comprobar que hay datos ($> 80\\%$) durante el periodo de interes (`1-Marzo-2020` <=> `1-Mayo-2020`). Tambien se comprueban si hay intervalos largos de tiempo sin datos, utilizando una resolucion minima semanal, mensual y anual.\n",
    "\n",
    "|   site   |  Pollutant   |   start_yr   |    end_yr    | hv.min  | missing.wk | missing.mnth | missing.yr |\n",
    "|----------|--------------|--------------|--------------|---------|------------|--------------|------------|\n",
    "| es0001a  |     no2      |  01-01-2015  |  02-01-2015  |  TRUE   |     34     |      2       |     0      |\n",
    "| es0001a  |     no       |  01-01-2015  |  02-01-2015  |  TRUE   |     40     |     12       |     1      |\n",
    "| es0001a  |      o3      |  01-01-2015  |  02-01-2015  |  FALSE  |      4     |      0       |     0      |\n",
    "\n",
    "Puesto que el estudio completo incluye 67 estaciones, supondria demasiado tiempo de computacion, por lo que en este notebook solo se trabajara con 3 estaciones. El calculo completo de todas las estaciones se realiza en un script de ```R```"
   ]
  },
  {
   "cell_type": "markdown",
   "metadata": {},
   "source": [
    "### Curation Variables"
   ]
  },
  {
   "cell_type": "code",
   "execution_count": 7,
   "metadata": {},
   "outputs": [],
   "source": [
    "#------------------------------\n",
    "#      Curation Variables      \n",
    "#------------------------------\n",
    "\n",
    "hv.min.percent <- 0.8 # data > 80%\n",
    "main.prd <- c(ymd_hms(\"2020-03-01 00:00:00\"),\n",
    "               ymd_hms(\"2020-05-01 00:00:00\"))\n",
    "\n",
    "sites.lv <- levels(as.factor(sites.AQ$site))[1:3]\n",
    "pairs.st.pll <- do.call(rbind,\n",
    "                        do.call(rbind,\n",
    "                                lapply(pollutants, function(pll){\n",
    "                                    lapply(sites.lv, c, pll)\n",
    "                                }))\n",
    "                       ) "
   ]
  },
  {
   "cell_type": "code",
   "execution_count": 8,
   "metadata": {},
   "outputs": [
    {
     "data": {
      "text/html": [
       "<table>\n",
       "<caption>A data.frame: 6 × 8</caption>\n",
       "<thead>\n",
       "\t<tr><th></th><th scope=col>site</th><th scope=col>Pollutant</th><th scope=col>start_yr</th><th scope=col>end_yr</th><th scope=col>hv.min</th><th scope=col>mss.wk</th><th scope=col>mss.mnth</th><th scope=col>mss.yr</th></tr>\n",
       "\t<tr><th></th><th scope=col>&lt;chr&gt;</th><th scope=col>&lt;chr&gt;</th><th scope=col>&lt;date&gt;</th><th scope=col>&lt;date&gt;</th><th scope=col>&lt;lgl&gt;</th><th scope=col>&lt;int&gt;</th><th scope=col>&lt;int&gt;</th><th scope=col>&lt;int&gt;</th></tr>\n",
       "</thead>\n",
       "<tbody>\n",
       "\t<tr><th scope=row>1</th><td>es0041a</td><td>no2  </td><td>2017-01-01</td><td>2020-12-31</td><td>TRUE</td><td>213</td><td>48</td><td>4</td></tr>\n",
       "\t<tr><th scope=row>2</th><td>es0041a</td><td>pm10 </td><td>2017-01-01</td><td>2020-12-31</td><td>TRUE</td><td>210</td><td>48</td><td>4</td></tr>\n",
       "\t<tr><th scope=row>3</th><td>es0041a</td><td>pm2.5</td><td>2020-02-27</td><td>2020-12-31</td><td>TRUE</td><td>374</td><td>85</td><td>7</td></tr>\n",
       "\t<tr><th scope=row>4</th><td>es0110a</td><td>no   </td><td>2014-01-01</td><td>2020-12-31</td><td>TRUE</td><td> 65</td><td>15</td><td>1</td></tr>\n",
       "\t<tr><th scope=row>5</th><td>es0110a</td><td>no2  </td><td>2014-01-01</td><td>2020-12-31</td><td>TRUE</td><td> 65</td><td>15</td><td>1</td></tr>\n",
       "\t<tr><th scope=row>6</th><td>es0110a</td><td>pm10 </td><td>2014-04-30</td><td>2020-12-31</td><td>TRUE</td><td> 68</td><td>15</td><td>1</td></tr>\n",
       "</tbody>\n",
       "</table>\n"
      ],
      "text/latex": [
       "A data.frame: 6 × 8\n",
       "\\begin{tabular}{r|llllllll}\n",
       "  & site & Pollutant & start\\_yr & end\\_yr & hv.min & mss.wk & mss.mnth & mss.yr\\\\\n",
       "  & <chr> & <chr> & <date> & <date> & <lgl> & <int> & <int> & <int>\\\\\n",
       "\\hline\n",
       "\t1 & es0041a & no2   & 2017-01-01 & 2020-12-31 & TRUE & 213 & 48 & 4\\\\\n",
       "\t2 & es0041a & pm10  & 2017-01-01 & 2020-12-31 & TRUE & 210 & 48 & 4\\\\\n",
       "\t3 & es0041a & pm2.5 & 2020-02-27 & 2020-12-31 & TRUE & 374 & 85 & 7\\\\\n",
       "\t4 & es0110a & no    & 2014-01-01 & 2020-12-31 & TRUE &  65 & 15 & 1\\\\\n",
       "\t5 & es0110a & no2   & 2014-01-01 & 2020-12-31 & TRUE &  65 & 15 & 1\\\\\n",
       "\t6 & es0110a & pm10  & 2014-04-30 & 2020-12-31 & TRUE &  68 & 15 & 1\\\\\n",
       "\\end{tabular}\n"
      ],
      "text/markdown": [
       "\n",
       "A data.frame: 6 × 8\n",
       "\n",
       "| <!--/--> | site &lt;chr&gt; | Pollutant &lt;chr&gt; | start_yr &lt;date&gt; | end_yr &lt;date&gt; | hv.min &lt;lgl&gt; | mss.wk &lt;int&gt; | mss.mnth &lt;int&gt; | mss.yr &lt;int&gt; |\n",
       "|---|---|---|---|---|---|---|---|---|\n",
       "| 1 | es0041a | no2   | 2017-01-01 | 2020-12-31 | TRUE | 213 | 48 | 4 |\n",
       "| 2 | es0041a | pm10  | 2017-01-01 | 2020-12-31 | TRUE | 210 | 48 | 4 |\n",
       "| 3 | es0041a | pm2.5 | 2020-02-27 | 2020-12-31 | TRUE | 374 | 85 | 7 |\n",
       "| 4 | es0110a | no    | 2014-01-01 | 2020-12-31 | TRUE |  65 | 15 | 1 |\n",
       "| 5 | es0110a | no2   | 2014-01-01 | 2020-12-31 | TRUE |  65 | 15 | 1 |\n",
       "| 6 | es0110a | pm10  | 2014-04-30 | 2020-12-31 | TRUE |  68 | 15 | 1 |\n",
       "\n"
      ],
      "text/plain": [
       "  site    Pollutant start_yr   end_yr     hv.min mss.wk mss.mnth mss.yr\n",
       "1 es0041a no2       2017-01-01 2020-12-31 TRUE   213    48       4     \n",
       "2 es0041a pm10      2017-01-01 2020-12-31 TRUE   210    48       4     \n",
       "3 es0041a pm2.5     2020-02-27 2020-12-31 TRUE   374    85       7     \n",
       "4 es0110a no        2014-01-01 2020-12-31 TRUE    65    15       1     \n",
       "5 es0110a no2       2014-01-01 2020-12-31 TRUE    65    15       1     \n",
       "6 es0110a pm10      2014-04-30 2020-12-31 TRUE    68    15       1     "
      ]
     },
     "metadata": {},
     "output_type": "display_data"
    }
   ],
   "source": [
    "#------------------------------\n",
    "#      Curation Process        \n",
    "#------------------------------\n",
    "\n",
    "curate.info <- do.call(rbind.fill,\n",
    "                       apply(pairs.st.pll, 1, main.curation,\n",
    "                             c(start_dt, end_dt), main.prd, hv.min.percent)\n",
    "                      )\n",
    "head(curate.info)"
   ]
  },
  {
   "cell_type": "markdown",
   "metadata": {},
   "source": [
    "### Filter Data by Parameters\n",
    "| Parameter | Value |\n",
    "|----|----|\n",
    "| hv.min | TRUE |\n",
    "|miss.yr | $< 5$ |"
   ]
  },
  {
   "cell_type": "code",
   "execution_count": 9,
   "metadata": {},
   "outputs": [
    {
     "data": {
      "text/html": [
       "<table>\n",
       "<caption>A data.frame: 6 × 14</caption>\n",
       "<thead>\n",
       "\t<tr><th></th><th scope=col>site</th><th scope=col>Pollutant</th><th scope=col>site_name</th><th scope=col>latitude</th><th scope=col>longitude</th><th scope=col>elevation</th><th scope=col>country</th><th scope=col>site_type</th><th scope=col>site_area</th><th scope=col>date_start</th><th scope=col>date_end</th><th scope=col>Municipio</th><th scope=col>Población</th><th scope=col>Estación.tráfico</th></tr>\n",
       "\t<tr><th></th><th scope=col>&lt;chr&gt;</th><th scope=col>&lt;chr&gt;</th><th scope=col>&lt;chr&gt;</th><th scope=col>&lt;dbl&gt;</th><th scope=col>&lt;dbl&gt;</th><th scope=col>&lt;dbl&gt;</th><th scope=col>&lt;chr&gt;</th><th scope=col>&lt;chr&gt;</th><th scope=col>&lt;chr&gt;</th><th scope=col>&lt;dttm&gt;</th><th scope=col>&lt;dttm&gt;</th><th scope=col>&lt;chr&gt;</th><th scope=col>&lt;dbl&gt;</th><th scope=col>&lt;chr&gt;</th></tr>\n",
       "</thead>\n",
       "<tbody>\n",
       "\t<tr><th scope=row>1</th><td>es0041a</td><td>no2  </td><td>DIRECCIÓN DE SALUD</td><td>43.25883</td><td>-2.94565</td><td>32</td><td>spain</td><td>traffic</td><td>urban</td><td>1986-04-01</td><td>2021-02-15</td><td>Bilbao</td><td>346843</td><td>María Diaz de Haro</td></tr>\n",
       "\t<tr><th scope=row>2</th><td>es0041a</td><td>pm10 </td><td>DIRECCIÓN DE SALUD</td><td>43.25883</td><td>-2.94565</td><td>32</td><td>spain</td><td>traffic</td><td>urban</td><td>1986-04-01</td><td>2021-02-15</td><td>Bilbao</td><td>346843</td><td>María Diaz de Haro</td></tr>\n",
       "\t<tr><th scope=row>3</th><td>es0110a</td><td>no   </td><td>ERANDIO           </td><td>43.30268</td><td>-2.97724</td><td> 4</td><td>spain</td><td>traffic</td><td>urban</td><td>1997-01-01</td><td>2021-02-15</td><td>Bilbao</td><td> 24350</td><td>Erandio           </td></tr>\n",
       "\t<tr><th scope=row>4</th><td>es0110a</td><td>no2  </td><td>ERANDIO           </td><td>43.30268</td><td>-2.97724</td><td> 4</td><td>spain</td><td>traffic</td><td>urban</td><td>1997-01-01</td><td>2021-02-15</td><td>Bilbao</td><td> 24350</td><td>Erandio           </td></tr>\n",
       "\t<tr><th scope=row>5</th><td>es0110a</td><td>pm10 </td><td>ERANDIO           </td><td>43.30268</td><td>-2.97724</td><td> 4</td><td>spain</td><td>traffic</td><td>urban</td><td>1997-01-01</td><td>2021-02-15</td><td>Bilbao</td><td> 24350</td><td>Erandio           </td></tr>\n",
       "\t<tr><th scope=row>6</th><td>es0110a</td><td>pm2.5</td><td>ERANDIO           </td><td>43.30268</td><td>-2.97724</td><td> 4</td><td>spain</td><td>traffic</td><td>urban</td><td>1997-01-01</td><td>2021-02-15</td><td>Bilbao</td><td> 24350</td><td>Erandio           </td></tr>\n",
       "</tbody>\n",
       "</table>\n"
      ],
      "text/latex": [
       "A data.frame: 6 × 14\n",
       "\\begin{tabular}{r|llllllllllllll}\n",
       "  & site & Pollutant & site\\_name & latitude & longitude & elevation & country & site\\_type & site\\_area & date\\_start & date\\_end & Municipio & Población & Estación.tráfico\\\\\n",
       "  & <chr> & <chr> & <chr> & <dbl> & <dbl> & <dbl> & <chr> & <chr> & <chr> & <dttm> & <dttm> & <chr> & <dbl> & <chr>\\\\\n",
       "\\hline\n",
       "\t1 & es0041a & no2   & DIRECCIÓN DE SALUD & 43.25883 & -2.94565 & 32 & spain & traffic & urban & 1986-04-01 & 2021-02-15 & Bilbao & 346843 & María Diaz de Haro\\\\\n",
       "\t2 & es0041a & pm10  & DIRECCIÓN DE SALUD & 43.25883 & -2.94565 & 32 & spain & traffic & urban & 1986-04-01 & 2021-02-15 & Bilbao & 346843 & María Diaz de Haro\\\\\n",
       "\t3 & es0110a & no    & ERANDIO            & 43.30268 & -2.97724 &  4 & spain & traffic & urban & 1997-01-01 & 2021-02-15 & Bilbao &  24350 & Erandio           \\\\\n",
       "\t4 & es0110a & no2   & ERANDIO            & 43.30268 & -2.97724 &  4 & spain & traffic & urban & 1997-01-01 & 2021-02-15 & Bilbao &  24350 & Erandio           \\\\\n",
       "\t5 & es0110a & pm10  & ERANDIO            & 43.30268 & -2.97724 &  4 & spain & traffic & urban & 1997-01-01 & 2021-02-15 & Bilbao &  24350 & Erandio           \\\\\n",
       "\t6 & es0110a & pm2.5 & ERANDIO            & 43.30268 & -2.97724 &  4 & spain & traffic & urban & 1997-01-01 & 2021-02-15 & Bilbao &  24350 & Erandio           \\\\\n",
       "\\end{tabular}\n"
      ],
      "text/markdown": [
       "\n",
       "A data.frame: 6 × 14\n",
       "\n",
       "| <!--/--> | site &lt;chr&gt; | Pollutant &lt;chr&gt; | site_name &lt;chr&gt; | latitude &lt;dbl&gt; | longitude &lt;dbl&gt; | elevation &lt;dbl&gt; | country &lt;chr&gt; | site_type &lt;chr&gt; | site_area &lt;chr&gt; | date_start &lt;dttm&gt; | date_end &lt;dttm&gt; | Municipio &lt;chr&gt; | Población &lt;dbl&gt; | Estación.tráfico &lt;chr&gt; |\n",
       "|---|---|---|---|---|---|---|---|---|---|---|---|---|---|---|\n",
       "| 1 | es0041a | no2   | DIRECCIÓN DE SALUD | 43.25883 | -2.94565 | 32 | spain | traffic | urban | 1986-04-01 | 2021-02-15 | Bilbao | 346843 | María Diaz de Haro |\n",
       "| 2 | es0041a | pm10  | DIRECCIÓN DE SALUD | 43.25883 | -2.94565 | 32 | spain | traffic | urban | 1986-04-01 | 2021-02-15 | Bilbao | 346843 | María Diaz de Haro |\n",
       "| 3 | es0110a | no    | ERANDIO            | 43.30268 | -2.97724 |  4 | spain | traffic | urban | 1997-01-01 | 2021-02-15 | Bilbao |  24350 | Erandio            |\n",
       "| 4 | es0110a | no2   | ERANDIO            | 43.30268 | -2.97724 |  4 | spain | traffic | urban | 1997-01-01 | 2021-02-15 | Bilbao |  24350 | Erandio            |\n",
       "| 5 | es0110a | pm10  | ERANDIO            | 43.30268 | -2.97724 |  4 | spain | traffic | urban | 1997-01-01 | 2021-02-15 | Bilbao |  24350 | Erandio            |\n",
       "| 6 | es0110a | pm2.5 | ERANDIO            | 43.30268 | -2.97724 |  4 | spain | traffic | urban | 1997-01-01 | 2021-02-15 | Bilbao |  24350 | Erandio            |\n",
       "\n"
      ],
      "text/plain": [
       "  site    Pollutant site_name          latitude longitude elevation country\n",
       "1 es0041a no2       DIRECCIÓN DE SALUD 43.25883 -2.94565  32        spain  \n",
       "2 es0041a pm10      DIRECCIÓN DE SALUD 43.25883 -2.94565  32        spain  \n",
       "3 es0110a no        ERANDIO            43.30268 -2.97724   4        spain  \n",
       "4 es0110a no2       ERANDIO            43.30268 -2.97724   4        spain  \n",
       "5 es0110a pm10      ERANDIO            43.30268 -2.97724   4        spain  \n",
       "6 es0110a pm2.5     ERANDIO            43.30268 -2.97724   4        spain  \n",
       "  site_type site_area date_start date_end   Municipio Población\n",
       "1 traffic   urban     1986-04-01 2021-02-15 Bilbao    346843   \n",
       "2 traffic   urban     1986-04-01 2021-02-15 Bilbao    346843   \n",
       "3 traffic   urban     1997-01-01 2021-02-15 Bilbao     24350   \n",
       "4 traffic   urban     1997-01-01 2021-02-15 Bilbao     24350   \n",
       "5 traffic   urban     1997-01-01 2021-02-15 Bilbao     24350   \n",
       "6 traffic   urban     1997-01-01 2021-02-15 Bilbao     24350   \n",
       "  Estación.tráfico  \n",
       "1 María Diaz de Haro\n",
       "2 María Diaz de Haro\n",
       "3 Erandio           \n",
       "4 Erandio           \n",
       "5 Erandio           \n",
       "6 Erandio           "
      ]
     },
     "metadata": {},
     "output_type": "display_data"
    }
   ],
   "source": [
    "valid.info <- curate.info[curate.info$hv.min == TRUE,]\n",
    "valid.info <- valid.info[valid.info$mss.yr < 5,]\n",
    "\n",
    "checked_sitesAQ <- merge(x = valid.info %>%\n",
    "                             select(site, Pollutant),\n",
    "                         y = sites.AQ,\n",
    "                         by = \"site\", all.x = T, all.y=F) \n",
    "\n",
    "head(checked_sitesAQ)"
   ]
  },
  {
   "cell_type": "markdown",
   "metadata": {},
   "source": [
    "### Guardar Datos en csv <a id=\"saveAQ\"></a>"
   ]
  },
  {
   "cell_type": "markdown",
   "metadata": {},
   "source": [
    "```R\n",
    "write.csv(valid.info, \n",
    "          \"data/Curation/AirQuality/checked_sitesAQ.csv\", row.names=FALSE)\n",
    "```"
   ]
  }
 ],
 "metadata": {
  "kernelspec": {
   "display_name": "R",
   "language": "R",
   "name": "ir"
  },
  "language_info": {
   "codemirror_mode": "r",
   "file_extension": ".r",
   "mimetype": "text/x-r-source",
   "name": "R",
   "pygments_lexer": "r",
   "version": "4.0.4"
  }
 },
 "nbformat": 4,
 "nbformat_minor": 4
}
