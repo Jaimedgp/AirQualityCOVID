{
 "cells": [
  {
   "cell_type": "markdown",
   "metadata": {},
   "source": [
    "# Air Quality\n",
    "\n",
    "The air quality data from urban traffic stations in Spanish cities with more than >100000 inhabitants are studied in order to obtain the effect of COVID-19 lockdown in the air quality."
   ]
  },
  {
   "cell_type": "code",
   "execution_count": 1,
   "metadata": {},
   "outputs": [],
   "source": [
    "# Load packages\n",
    "#suppressMessages(library(saqgetr))\n",
    "#suppressMessages(library(lubridate))\n",
    "#suppressMessages(library(tidyverse))\n",
    "#suppressMessages(library(openxlsx))\n",
    "#suppressMessages(library(plyr))\n",
    "#suppressMessages(library(openair))"
   ]
  },
  {
   "cell_type": "code",
   "execution_count": 2,
   "metadata": {},
   "outputs": [],
   "source": [
    "# Working directory\n",
    "setwd(\"~/Repositories/AirQualityCOVID\")\n",
    "\n",
    "# Source some scripts \n",
    "source(\"src/Curation/airQuality.R\")"
   ]
  },
  {
   "cell_type": "markdown",
   "metadata": {},
   "source": [
    "### Main Variables"
   ]
  },
  {
   "cell_type": "code",
   "execution_count": 3,
   "metadata": {},
   "outputs": [],
   "source": [
    "site_type <- \"traffic\"\n",
    "site_area <- \"urban\"\n",
    "\n",
    "start_dt <- ymd_hms(\"2013-01-01 00:00:00\")\n",
    "end_dt <- ymd_hms(\"2020-12-30 00:00:00\")\n",
    "\n",
    "pollutants <- c(\"no\", \"no2\", \"o3\", \"pm10\", \"pm2.5\")"
   ]
  },
  {
   "cell_type": "markdown",
   "metadata": {},
   "source": [
    "## Spanish stations information"
   ]
  },
  {
   "cell_type": "code",
   "execution_count": 4,
   "metadata": {},
   "outputs": [],
   "source": [
    "# AQ station in cities with more than 100000 inhabitants\n",
    "sites.100mil <- read.xlsx(\"data/xlsx/estaciones-CA-JA.xlsx\",\n",
    "                          sheet=\"ciudades-100000-A\") %>% \n",
    "                    select(\"Municipio\", \"Población\",\n",
    "                           \"Estación.tráfico\", \"Código.estación\") "
   ]
  },
  {
   "cell_type": "code",
   "execution_count": 5,
   "metadata": {},
   "outputs": [],
   "source": [
    "spain.sites <- get_saq_sites() %>%\n",
    "    filter(country == \"spain\",\n",
    "           site %in% sites.100mil$\"Código.estación\",\n",
    "           site_type == \"traffic\",\n",
    "           site_area == \"urban\",\n",
    "           date_start <= start_dt,\n",
    "           ) %>%\n",
    "    select(site, site_name, latitude, longitude, elevation, \n",
    "           country, site_type, site_area, date_start, date_end)"
   ]
  },
  {
   "cell_type": "code",
   "execution_count": 6,
   "metadata": {},
   "outputs": [],
   "source": [
    "sites.AQ <- merge(x = spain.sites,\n",
    "                  y = sites.100mil,\n",
    "                  by.x = \"site\", by.y=\"Código.estación\",\n",
    "                  all.x = TRUE) "
   ]
  },
  {
   "cell_type": "markdown",
   "metadata": {},
   "source": [
    "## Curation of Air Quality data\n",
    "\n",
    "Estudiar de que contaminantes no hay datos suficientes para el estudio en cada estacion. Se ha de comprobar que hay datos ($> 80\\%$) durante el periodo de interes (`1-Marzo-2020` <=> `30-Junio-2020`) con resolución diaria. Tambien se comprueban si hay intervalos largos de tiempo sin datos, utilizando una resolucion minima semanal, mensual y anual.\n",
    "\n",
    "|   site   |  Pollutant   |   start_yr   |    end_yr    | hv.min  | missing.wk | missing.mnth | missing.yr |\n",
    "|----------|--------------|--------------|--------------|---------|------------|--------------|------------|\n",
    "| es0001a  |     no2      |  01-01-2015  |  02-01-2015  |  TRUE   |     34     |      2       |     0      |\n",
    "| es0001a  |     no       |  01-01-2015  |  02-01-2015  |  TRUE   |     40     |     12       |     1      |\n",
    "| es0001a  |      o3      |  01-01-2015  |  02-01-2015  |  FALSE  |      4     |      0       |     0      |\n",
    "\n",
    "Puesto que el estudio completo incluye 67 estaciones, supondria demasiado tiempo de computacion, por lo que en este notebook solo se trabajara con 3 estaciones. El calculo completo de todas las estaciones se realiza en un script de ```R```"
   ]
  },
  {
   "cell_type": "markdown",
   "metadata": {},
   "source": [
    "### Curation Variables"
   ]
  },
  {
   "cell_type": "code",
   "execution_count": 7,
   "metadata": {},
   "outputs": [],
   "source": [
    "#------------------------------\n",
    "#      Curation Variables      \n",
    "#------------------------------\n",
    "\n",
    "hv.min.percent <- 0.8 # data > 80%\n",
    "main.prd <- c(ymd_hms(\"2020-03-01 00:00:00\"),\n",
    "               ymd_hms(\"2020-06-30 00:00:00\"))\n",
    "\n",
    "#sites.lv <- levels(as.factor(sites.AQ$site))[1:3]\n",
    "sites.lv <- c(\"es0118a\", \"es1438a\") # Big cities (Madrid and Barcelona)\",\n",
    "sites.lv <- c(sites.lv, \"es1580a\", \"es1340a\") # small cities (Santander and Huelva)\n",
    "\n",
    "pairs.st.pll <- do.call(rbind,\n",
    "                        do.call(rbind,\n",
    "                                lapply(pollutants, function(pll){\n",
    "                                    lapply(sites.lv, c, pll)\n",
    "                                }))\n",
    "                       ) "
   ]
  },
  {
   "cell_type": "code",
   "execution_count": 8,
   "metadata": {},
   "outputs": [
    {
     "name": "stdout",
     "output_type": "stream",
     "text": [
      "[1] \"Downloading...\"\n",
      "[1] \"Downloading...\"\n",
      "[1] \"Downloading...\"\n",
      "[1] \"Downloading...\"\n",
      "[1] \"Downloading...\"\n",
      "[1] \"Downloading...\"\n",
      "[1] \"Downloading...\"\n",
      "[1] \"Downloading...\"\n",
      "[1] \"Downloading...\"\n",
      "[1] \"Downloading...\"\n",
      "[1] \"Downloading...\"\n",
      "[1] \"Downloading...\"\n",
      "[1] \"Downloading...\"\n",
      "[1] \"Downloading...\"\n",
      "[1] \"Downloading...\"\n",
      "[1] \"Downloading...\"\n",
      "[1] \"Downloading...\"\n",
      "[1] \"Downloading...\"\n",
      "[1] \"Downloading...\"\n",
      "[1] \"Downloading...\"\n"
     ]
    },
    {
     "data": {
      "text/html": [
       "<table>\n",
       "<caption>A data.frame: 6 × 8</caption>\n",
       "<thead>\n",
       "\t<tr><th></th><th scope=col>site</th><th scope=col>Pollutant</th><th scope=col>start_yr</th><th scope=col>end_yr</th><th scope=col>hv.min</th><th scope=col>mss.wk</th><th scope=col>mss.mnth</th><th scope=col>mss.yr</th></tr>\n",
       "\t<tr><th></th><th scope=col>&lt;chr&gt;</th><th scope=col>&lt;chr&gt;</th><th scope=col>&lt;date&gt;</th><th scope=col>&lt;date&gt;</th><th scope=col>&lt;lgl&gt;</th><th scope=col>&lt;int&gt;</th><th scope=col>&lt;int&gt;</th><th scope=col>&lt;int&gt;</th></tr>\n",
       "</thead>\n",
       "<tbody>\n",
       "\t<tr><th scope=row>1</th><td>es0118a</td><td>no   </td><td>2013-01-01</td><td>2020-12-30</td><td>TRUE</td><td>-1</td><td>0</td><td>0</td></tr>\n",
       "\t<tr><th scope=row>2</th><td>es0118a</td><td>no2  </td><td>2013-01-01</td><td>2020-12-30</td><td>TRUE</td><td>-1</td><td>0</td><td>0</td></tr>\n",
       "\t<tr><th scope=row>3</th><td>es0118a</td><td>o3   </td><td>2013-01-01</td><td>2020-12-30</td><td>TRUE</td><td>-1</td><td>0</td><td>0</td></tr>\n",
       "\t<tr><th scope=row>4</th><td>es0118a</td><td>pm10 </td><td>2013-01-01</td><td>2020-12-30</td><td>TRUE</td><td>-1</td><td>0</td><td>0</td></tr>\n",
       "\t<tr><th scope=row>5</th><td>es0118a</td><td>pm2.5</td><td>2013-01-01</td><td>2020-12-30</td><td>TRUE</td><td>-1</td><td>0</td><td>0</td></tr>\n",
       "\t<tr><th scope=row>6</th><td>es1438a</td><td>no   </td><td>2013-01-01</td><td>2020-12-30</td><td>TRUE</td><td>-1</td><td>0</td><td>0</td></tr>\n",
       "</tbody>\n",
       "</table>\n"
      ],
      "text/latex": [
       "A data.frame: 6 × 8\n",
       "\\begin{tabular}{r|llllllll}\n",
       "  & site & Pollutant & start\\_yr & end\\_yr & hv.min & mss.wk & mss.mnth & mss.yr\\\\\n",
       "  & <chr> & <chr> & <date> & <date> & <lgl> & <int> & <int> & <int>\\\\\n",
       "\\hline\n",
       "\t1 & es0118a & no    & 2013-01-01 & 2020-12-30 & TRUE & -1 & 0 & 0\\\\\n",
       "\t2 & es0118a & no2   & 2013-01-01 & 2020-12-30 & TRUE & -1 & 0 & 0\\\\\n",
       "\t3 & es0118a & o3    & 2013-01-01 & 2020-12-30 & TRUE & -1 & 0 & 0\\\\\n",
       "\t4 & es0118a & pm10  & 2013-01-01 & 2020-12-30 & TRUE & -1 & 0 & 0\\\\\n",
       "\t5 & es0118a & pm2.5 & 2013-01-01 & 2020-12-30 & TRUE & -1 & 0 & 0\\\\\n",
       "\t6 & es1438a & no    & 2013-01-01 & 2020-12-30 & TRUE & -1 & 0 & 0\\\\\n",
       "\\end{tabular}\n"
      ],
      "text/markdown": [
       "\n",
       "A data.frame: 6 × 8\n",
       "\n",
       "| <!--/--> | site &lt;chr&gt; | Pollutant &lt;chr&gt; | start_yr &lt;date&gt; | end_yr &lt;date&gt; | hv.min &lt;lgl&gt; | mss.wk &lt;int&gt; | mss.mnth &lt;int&gt; | mss.yr &lt;int&gt; |\n",
       "|---|---|---|---|---|---|---|---|---|\n",
       "| 1 | es0118a | no    | 2013-01-01 | 2020-12-30 | TRUE | -1 | 0 | 0 |\n",
       "| 2 | es0118a | no2   | 2013-01-01 | 2020-12-30 | TRUE | -1 | 0 | 0 |\n",
       "| 3 | es0118a | o3    | 2013-01-01 | 2020-12-30 | TRUE | -1 | 0 | 0 |\n",
       "| 4 | es0118a | pm10  | 2013-01-01 | 2020-12-30 | TRUE | -1 | 0 | 0 |\n",
       "| 5 | es0118a | pm2.5 | 2013-01-01 | 2020-12-30 | TRUE | -1 | 0 | 0 |\n",
       "| 6 | es1438a | no    | 2013-01-01 | 2020-12-30 | TRUE | -1 | 0 | 0 |\n",
       "\n"
      ],
      "text/plain": [
       "  site    Pollutant start_yr   end_yr     hv.min mss.wk mss.mnth mss.yr\n",
       "1 es0118a no        2013-01-01 2020-12-30 TRUE   -1     0        0     \n",
       "2 es0118a no2       2013-01-01 2020-12-30 TRUE   -1     0        0     \n",
       "3 es0118a o3        2013-01-01 2020-12-30 TRUE   -1     0        0     \n",
       "4 es0118a pm10      2013-01-01 2020-12-30 TRUE   -1     0        0     \n",
       "5 es0118a pm2.5     2013-01-01 2020-12-30 TRUE   -1     0        0     \n",
       "6 es1438a no        2013-01-01 2020-12-30 TRUE   -1     0        0     "
      ]
     },
     "metadata": {},
     "output_type": "display_data"
    }
   ],
   "source": [
    "#------------------------------\n",
    "#      Curation Process        \n",
    "#------------------------------\n",
    "\n",
    "curate.info <- do.call(rbind.fill,\n",
    "                       apply(pairs.st.pll, 1, main.curation,\n",
    "                             c(start_dt, end_dt), main.prd, hv.min.percent)\n",
    "                      )\n",
    "head(curate.info)"
   ]
  },
  {
   "cell_type": "markdown",
   "metadata": {},
   "source": [
    "### Filter Data by Parameters\n",
    "| Parameter | Value |\n",
    "|----|----|\n",
    "| hv.min | TRUE |\n",
    "|miss.yr | $< 5$ |"
   ]
  },
  {
   "cell_type": "code",
   "execution_count": 9,
   "metadata": {},
   "outputs": [
    {
     "data": {
      "text/html": [
       "<table>\n",
       "<caption>A data.frame: 6 × 14</caption>\n",
       "<thead>\n",
       "\t<tr><th></th><th scope=col>site</th><th scope=col>Pollutant</th><th scope=col>site_name</th><th scope=col>latitude</th><th scope=col>longitude</th><th scope=col>elevation</th><th scope=col>country</th><th scope=col>site_type</th><th scope=col>site_area</th><th scope=col>date_start</th><th scope=col>date_end</th><th scope=col>Municipio</th><th scope=col>Población</th><th scope=col>Estación.tráfico</th></tr>\n",
       "\t<tr><th></th><th scope=col>&lt;chr&gt;</th><th scope=col>&lt;chr&gt;</th><th scope=col>&lt;chr&gt;</th><th scope=col>&lt;dbl&gt;</th><th scope=col>&lt;dbl&gt;</th><th scope=col>&lt;dbl&gt;</th><th scope=col>&lt;chr&gt;</th><th scope=col>&lt;chr&gt;</th><th scope=col>&lt;chr&gt;</th><th scope=col>&lt;dttm&gt;</th><th scope=col>&lt;dttm&gt;</th><th scope=col>&lt;chr&gt;</th><th scope=col>&lt;dbl&gt;</th><th scope=col>&lt;chr&gt;</th></tr>\n",
       "</thead>\n",
       "<tbody>\n",
       "\t<tr><th scope=row>1</th><td>es0118a</td><td>no   </td><td>ESCUELAS AGUIRRE</td><td>40.42167</td><td>-3.682222</td><td>672</td><td>spain</td><td>traffic</td><td>urban</td><td>2002-11-19</td><td>2021-02-15 00:00:00</td><td>Madrid</td><td>3266128</td><td>ESCUELAS AGUIRRE</td></tr>\n",
       "\t<tr><th scope=row>2</th><td>es0118a</td><td>no2  </td><td>ESCUELAS AGUIRRE</td><td>40.42167</td><td>-3.682222</td><td>672</td><td>spain</td><td>traffic</td><td>urban</td><td>2002-11-19</td><td>2021-02-15 00:00:00</td><td>Madrid</td><td>3266128</td><td>ESCUELAS AGUIRRE</td></tr>\n",
       "\t<tr><th scope=row>3</th><td>es0118a</td><td>o3   </td><td>ESCUELAS AGUIRRE</td><td>40.42167</td><td>-3.682222</td><td>672</td><td>spain</td><td>traffic</td><td>urban</td><td>2002-11-19</td><td>2021-02-15 00:00:00</td><td>Madrid</td><td>3266128</td><td>ESCUELAS AGUIRRE</td></tr>\n",
       "\t<tr><th scope=row>4</th><td>es0118a</td><td>pm10 </td><td>ESCUELAS AGUIRRE</td><td>40.42167</td><td>-3.682222</td><td>672</td><td>spain</td><td>traffic</td><td>urban</td><td>2002-11-19</td><td>2021-02-15 00:00:00</td><td>Madrid</td><td>3266128</td><td>ESCUELAS AGUIRRE</td></tr>\n",
       "\t<tr><th scope=row>5</th><td>es0118a</td><td>pm2.5</td><td>ESCUELAS AGUIRRE</td><td>40.42167</td><td>-3.682222</td><td>672</td><td>spain</td><td>traffic</td><td>urban</td><td>2002-11-19</td><td>2021-02-15 00:00:00</td><td>Madrid</td><td>3266128</td><td>ESCUELAS AGUIRRE</td></tr>\n",
       "\t<tr><th scope=row>6</th><td>es1340a</td><td>no   </td><td>POZO DULCE      </td><td>37.25336</td><td>-6.935140</td><td> 18</td><td>spain</td><td>traffic</td><td>urban</td><td>1997-01-01</td><td>2021-02-15 01:00:00</td><td>Huelva</td><td> 143663</td><td>POZO DULCE      </td></tr>\n",
       "</tbody>\n",
       "</table>\n"
      ],
      "text/latex": [
       "A data.frame: 6 × 14\n",
       "\\begin{tabular}{r|llllllllllllll}\n",
       "  & site & Pollutant & site\\_name & latitude & longitude & elevation & country & site\\_type & site\\_area & date\\_start & date\\_end & Municipio & Población & Estación.tráfico\\\\\n",
       "  & <chr> & <chr> & <chr> & <dbl> & <dbl> & <dbl> & <chr> & <chr> & <chr> & <dttm> & <dttm> & <chr> & <dbl> & <chr>\\\\\n",
       "\\hline\n",
       "\t1 & es0118a & no    & ESCUELAS AGUIRRE & 40.42167 & -3.682222 & 672 & spain & traffic & urban & 2002-11-19 & 2021-02-15 00:00:00 & Madrid & 3266128 & ESCUELAS AGUIRRE\\\\\n",
       "\t2 & es0118a & no2   & ESCUELAS AGUIRRE & 40.42167 & -3.682222 & 672 & spain & traffic & urban & 2002-11-19 & 2021-02-15 00:00:00 & Madrid & 3266128 & ESCUELAS AGUIRRE\\\\\n",
       "\t3 & es0118a & o3    & ESCUELAS AGUIRRE & 40.42167 & -3.682222 & 672 & spain & traffic & urban & 2002-11-19 & 2021-02-15 00:00:00 & Madrid & 3266128 & ESCUELAS AGUIRRE\\\\\n",
       "\t4 & es0118a & pm10  & ESCUELAS AGUIRRE & 40.42167 & -3.682222 & 672 & spain & traffic & urban & 2002-11-19 & 2021-02-15 00:00:00 & Madrid & 3266128 & ESCUELAS AGUIRRE\\\\\n",
       "\t5 & es0118a & pm2.5 & ESCUELAS AGUIRRE & 40.42167 & -3.682222 & 672 & spain & traffic & urban & 2002-11-19 & 2021-02-15 00:00:00 & Madrid & 3266128 & ESCUELAS AGUIRRE\\\\\n",
       "\t6 & es1340a & no    & POZO DULCE       & 37.25336 & -6.935140 &  18 & spain & traffic & urban & 1997-01-01 & 2021-02-15 01:00:00 & Huelva &  143663 & POZO DULCE      \\\\\n",
       "\\end{tabular}\n"
      ],
      "text/markdown": [
       "\n",
       "A data.frame: 6 × 14\n",
       "\n",
       "| <!--/--> | site &lt;chr&gt; | Pollutant &lt;chr&gt; | site_name &lt;chr&gt; | latitude &lt;dbl&gt; | longitude &lt;dbl&gt; | elevation &lt;dbl&gt; | country &lt;chr&gt; | site_type &lt;chr&gt; | site_area &lt;chr&gt; | date_start &lt;dttm&gt; | date_end &lt;dttm&gt; | Municipio &lt;chr&gt; | Población &lt;dbl&gt; | Estación.tráfico &lt;chr&gt; |\n",
       "|---|---|---|---|---|---|---|---|---|---|---|---|---|---|---|\n",
       "| 1 | es0118a | no    | ESCUELAS AGUIRRE | 40.42167 | -3.682222 | 672 | spain | traffic | urban | 2002-11-19 | 2021-02-15 00:00:00 | Madrid | 3266128 | ESCUELAS AGUIRRE |\n",
       "| 2 | es0118a | no2   | ESCUELAS AGUIRRE | 40.42167 | -3.682222 | 672 | spain | traffic | urban | 2002-11-19 | 2021-02-15 00:00:00 | Madrid | 3266128 | ESCUELAS AGUIRRE |\n",
       "| 3 | es0118a | o3    | ESCUELAS AGUIRRE | 40.42167 | -3.682222 | 672 | spain | traffic | urban | 2002-11-19 | 2021-02-15 00:00:00 | Madrid | 3266128 | ESCUELAS AGUIRRE |\n",
       "| 4 | es0118a | pm10  | ESCUELAS AGUIRRE | 40.42167 | -3.682222 | 672 | spain | traffic | urban | 2002-11-19 | 2021-02-15 00:00:00 | Madrid | 3266128 | ESCUELAS AGUIRRE |\n",
       "| 5 | es0118a | pm2.5 | ESCUELAS AGUIRRE | 40.42167 | -3.682222 | 672 | spain | traffic | urban | 2002-11-19 | 2021-02-15 00:00:00 | Madrid | 3266128 | ESCUELAS AGUIRRE |\n",
       "| 6 | es1340a | no    | POZO DULCE       | 37.25336 | -6.935140 |  18 | spain | traffic | urban | 1997-01-01 | 2021-02-15 01:00:00 | Huelva |  143663 | POZO DULCE       |\n",
       "\n"
      ],
      "text/plain": [
       "  site    Pollutant site_name        latitude longitude elevation country\n",
       "1 es0118a no        ESCUELAS AGUIRRE 40.42167 -3.682222 672       spain  \n",
       "2 es0118a no2       ESCUELAS AGUIRRE 40.42167 -3.682222 672       spain  \n",
       "3 es0118a o3        ESCUELAS AGUIRRE 40.42167 -3.682222 672       spain  \n",
       "4 es0118a pm10      ESCUELAS AGUIRRE 40.42167 -3.682222 672       spain  \n",
       "5 es0118a pm2.5     ESCUELAS AGUIRRE 40.42167 -3.682222 672       spain  \n",
       "6 es1340a no        POZO DULCE       37.25336 -6.935140  18       spain  \n",
       "  site_type site_area date_start date_end            Municipio Población\n",
       "1 traffic   urban     2002-11-19 2021-02-15 00:00:00 Madrid    3266128  \n",
       "2 traffic   urban     2002-11-19 2021-02-15 00:00:00 Madrid    3266128  \n",
       "3 traffic   urban     2002-11-19 2021-02-15 00:00:00 Madrid    3266128  \n",
       "4 traffic   urban     2002-11-19 2021-02-15 00:00:00 Madrid    3266128  \n",
       "5 traffic   urban     2002-11-19 2021-02-15 00:00:00 Madrid    3266128  \n",
       "6 traffic   urban     1997-01-01 2021-02-15 01:00:00 Huelva     143663  \n",
       "  Estación.tráfico\n",
       "1 ESCUELAS AGUIRRE\n",
       "2 ESCUELAS AGUIRRE\n",
       "3 ESCUELAS AGUIRRE\n",
       "4 ESCUELAS AGUIRRE\n",
       "5 ESCUELAS AGUIRRE\n",
       "6 POZO DULCE      "
      ]
     },
     "metadata": {},
     "output_type": "display_data"
    }
   ],
   "source": [
    "valid.info <- curate.info[curate.info$hv.min == TRUE,]\n",
    "valid.info <- valid.info[valid.info$mss.yr < 5,]\n",
    "\n",
    "checked_sitesAQ <- merge(x = valid.info %>%\n",
    "                             select(site, Pollutant),\n",
    "                         y = sites.AQ,\n",
    "                         by = \"site\", all.x = T, all.y=F) \n",
    "\n",
    "head(checked_sitesAQ)"
   ]
  },
  {
   "cell_type": "markdown",
   "metadata": {},
   "source": [
    "### Guardar Datos en csv <a id=\"saveAQ\"></a>"
   ]
  },
  {
   "cell_type": "markdown",
   "metadata": {},
   "source": [
    "```R\n",
    "write.csv(checked_sitesAQ, \n",
    "          \"data/Curation/checked_AQ.csv\", row.names=FALSE)\n",
    "```"
   ]
  }
 ],
 "metadata": {
  "kernelspec": {
   "display_name": "R",
   "language": "R",
   "name": "ir"
  },
  "language_info": {
   "codemirror_mode": "r",
   "file_extension": ".r",
   "mimetype": "text/x-r-source",
   "name": "R",
   "pygments_lexer": "r",
   "version": "4.0.5"
  }
 },
 "nbformat": 4,
 "nbformat_minor": 4
}
