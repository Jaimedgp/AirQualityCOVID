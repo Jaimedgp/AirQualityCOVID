{
 "cells": [
  {
   "cell_type": "markdown",
   "metadata": {},
   "source": [
    "# Air Quality\n",
    "\n"
   ]
  },
  {
   "cell_type": "code",
   "execution_count": 6,
   "metadata": {},
   "outputs": [],
   "source": [
    "# Packages\n",
    "suppressMessages(library(tidyverse))\n",
    "suppressMessages(library(lubridate))\n",
    "suppressMessages(library(plyr))\n",
    "suppressMessages(library(openxlsx))\n",
    "\n",
    "suppressMessages(library(saqgetr))"
   ]
  },
  {
   "cell_type": "code",
   "execution_count": 7,
   "metadata": {},
   "outputs": [],
   "source": [
    "# Working directory\n",
    "setwd(\"~/Repositories/AirQualityCOVID\")\n",
    "\n",
    "# Source some scripts \n"
   ]
  },
  {
   "cell_type": "markdown",
   "metadata": {},
   "source": [
    "### Main Variables"
   ]
  },
  {
   "cell_type": "code",
   "execution_count": 8,
   "metadata": {},
   "outputs": [],
   "source": [
    "site_type <- \"traffic\"\n",
    "site_area <- \"urban\"\n",
    "\n",
    "start_dt <- ymd_hms(\"2013-01-01 00:00:00\")\n",
    "end_dt <- ymd_hms(\"2020-12-30 00:00:00\")\n",
    "\n",
    "pollutants <- c(\"no\", \"no2\", \"o3\", \"pm10\", \"pm2.5\")"
   ]
  },
  {
   "cell_type": "markdown",
   "metadata": {},
   "source": [
    "## Available Station in Spain "
   ]
  },
  {
   "cell_type": "code",
   "execution_count": 11,
   "metadata": {
    "collapsed": true,
    "jupyter": {
     "outputs_hidden": true
    }
   },
   "outputs": [
    {
     "ename": "ERROR",
     "evalue": "Error: Can't subset columns that don't exist.\n\u001b[31mx\u001b[39m Column `Poblaci<U+00F3>n` doesn't exist.\n",
     "output_type": "error",
     "traceback": [
      "Error: Can't subset columns that don't exist.\n\u001b[31mx\u001b[39m Column `Poblaci<U+00F3>n` doesn't exist.\nTraceback:\n",
      "1. read.xlsx(\"data/xlsx/estaciones-CA-JA.xlsx\", sheet = \"ciudades-100000-A\") %>% \n .     select(\"Municipio\", \"Poblaci<U+00F3>n\", \"Estaci<U+00F3>n.tr<U+00E1>fico\", \n .         \"C<U+00F3>digo.estaci<U+00F3>n\")",
      "2. select(., \"Municipio\", \"Poblaci<U+00F3>n\", \"Estaci<U+00F3>n.tr<U+00E1>fico\", \n .     \"C<U+00F3>digo.estaci<U+00F3>n\")",
      "3. select.data.frame(., \"Municipio\", \"Poblaci<U+00F3>n\", \"Estaci<U+00F3>n.tr<U+00E1>fico\", \n .     \"C<U+00F3>digo.estaci<U+00F3>n\")",
      "4. tidyselect::eval_select(expr(c(...)), .data)",
      "5. eval_select_impl(data, names(data), as_quosure(expr, env), include = include, \n .     exclude = exclude, strict = strict, name_spec = name_spec, \n .     allow_rename = allow_rename)",
      "6. with_subscript_errors(vars_select_eval(vars, expr, strict, data = x, \n .     name_spec = name_spec, uniquely_named = uniquely_named, allow_rename = allow_rename, \n .     type = type), type = type)",
      "7. tryCatch(instrument_base_errors(expr), vctrs_error_subscript = function(cnd) {\n .     cnd$subscript_action <- subscript_action(type)\n .     cnd$subscript_elt <- \"column\"\n .     cnd_signal(cnd)\n . })",
      "8. tryCatchList(expr, classes, parentenv, handlers)",
      "9. tryCatchOne(expr, names, parentenv, handlers[[1L]])",
      "10. value[[3L]](cond)",
      "11. cnd_signal(cnd)",
      "12. rlang:::signal_abort(x)"
     ]
    }
   ],
   "source": [
    "# AQ station in cities with more than 100000 inhabitants\n",
    "sites.100mil <- read.xlsx(\"data/xlsx/estaciones-CA-JA.xlsx\",\n",
    "                          sheet=\"ciudades-100000-A\") %>% \n",
    "                    select(\"Municipio\", \"Población\",\n",
    "                           \"Estación.tráfico\", \"Código.estación\") "
   ]
  },
  {
   "cell_type": "code",
   "execution_count": 10,
   "metadata": {
    "collapsed": true,
    "jupyter": {
     "outputs_hidden": true
    }
   },
   "outputs": [
    {
     "ename": "ERROR",
     "evalue": "Error: Problem with `filter()` input `..2`.\n\u001b[31mx\u001b[39m object 'sites.100mil' not found\n\u001b[34mi\u001b[39m Input `..2` is `site %in% sites.100mil$\"C<U+00F3>digo.estaci<U+00F3>n\"`.\n",
     "output_type": "error",
     "traceback": [
      "Error: Problem with `filter()` input `..2`.\n\u001b[31mx\u001b[39m object 'sites.100mil' not found\n\u001b[34mi\u001b[39m Input `..2` is `site %in% sites.100mil$\"C<U+00F3>digo.estaci<U+00F3>n\"`.\nTraceback:\n",
      "1. get_saq_sites() %>% filter(country == \"spain\", site %in% sites.100mil$\"C<U+00F3>digo.estaci<U+00F3>n\", \n .     site_type == \"traffic\", site_area == \"urban\", date_start <= \n .         start_dt, ) %>% select(site, site_name, latitude, longitude, \n .     elevation, country, site_type, site_area, date_start, date_end)",
      "2. select(., site, site_name, latitude, longitude, elevation, country, \n .     site_type, site_area, date_start, date_end)",
      "3. filter(., country == \"spain\", site %in% sites.100mil$\"C<U+00F3>digo.estaci<U+00F3>n\", \n .     site_type == \"traffic\", site_area == \"urban\", date_start <= \n .         start_dt, )",
      "4. filter.data.frame(., country == \"spain\", site %in% sites.100mil$\"C<U+00F3>digo.estaci<U+00F3>n\", \n .     site_type == \"traffic\", site_area == \"urban\", date_start <= \n .         start_dt, )",
      "5. filter_rows(.data, ...)",
      "6. withCallingHandlers(mask$eval_all_filter(dots, env_filter), error = function(e) {\n .     local_call_step(dots = dots, .index = env_filter$current_expression, \n .         .fn = \"filter\")\n .     abort(c(cnd_bullet_header(), x = conditionMessage(e), i = cnd_bullet_input_info(), \n .         i = cnd_bullet_cur_group_label()), class = \"dplyr_error\")\n . })",
      "7. mask$eval_all_filter(dots, env_filter)",
      "8. site %in% sites.100mil$\"C<U+00F3>digo.estaci<U+00F3>n\"",
      "9. .handleSimpleError(function (e) \n . {\n .     local_call_step(dots = dots, .index = env_filter$current_expression, \n .         .fn = \"filter\")\n .     abort(c(cnd_bullet_header(), x = conditionMessage(e), i = cnd_bullet_input_info(), \n .         i = cnd_bullet_cur_group_label()), class = \"dplyr_error\")\n . }, \"object 'sites.100mil' not found\", base::quote(site %in% sites.100mil$\"C<U+00F3>digo.estaci<U+00F3>n\"))",
      "10. h(simpleError(msg, call))",
      "11. abort(c(cnd_bullet_header(), x = conditionMessage(e), i = cnd_bullet_input_info(), \n  .     i = cnd_bullet_cur_group_label()), class = \"dplyr_error\")",
      "12. signal_abort(cnd)"
     ]
    }
   ],
   "source": [
    "spain.sites <- get_saq_sites() %>%\n",
    "    filter(country == \"spain\",\n",
    "           site %in% sites.100mil$\"Código.estación\",\n",
    "           site_type == \"traffic\",\n",
    "           site_area == \"urban\",\n",
    "           date_start <= start_dt,\n",
    "           ) %>%\n",
    "    select(site, site_name, latitude, longitude, elevation, \n",
    "           country, site_type, site_area, date_start, date_end)"
   ]
  },
  {
   "cell_type": "code",
   "execution_count": null,
   "metadata": {},
   "outputs": [],
   "source": [
    "sites.AQ <- merge(x = spain.sites,\n",
    "                  y = sites.100mil,\n",
    "                  by.x = \"site\", by.y=\"Código.estación\",\n",
    "                  all.x = TRUE) "
   ]
  },
  {
   "cell_type": "markdown",
   "metadata": {},
   "source": [
    "## Curation Estaciones Calidad del Aire\n",
    "\n",
    "Estudiar de que contaminantes no hay datos suficientes para el estudio en cada estacion. Se ha de comprobar que hay datos ($> 80\\%$) durante el periodo de interes (`1-Marzo-2020` <=> `1-Mayo-2020`). Tambien se comprueban si hay intervalos largos de tiempo sin datos, utilizando una resolucion minima semanal, mensual y anual.\n",
    "\n",
    "|   site   |  Pollutant   |   start_yr   |    end_yr    | hv.min  | missing.wk | missing.mnth | missing.yr |\n",
    "|----------|--------------|--------------|--------------|---------|------------|--------------|------------|\n",
    "| es0001a  |     no2      |  01-01-2015  |  02-01-2015  |  TRUE   |     34     |      2       |     0      |\n",
    "| es0001a  |     no       |  01-01-2015  |  02-01-2015  |  TRUE   |     40     |     12       |     1      |\n",
    "| es0001a  |      o3      |  01-01-2015  |  02-01-2015  |  FALSE  |      4     |      0       |     0      |\n",
    "\n",
    "Puesto que el estudio completo incluye 67 estaciones, supondria demasiado tiempo de computacion, por lo que en este notebook solo se trabajara con 3 estaciones. El calculo completo de todas las estaciones se realiza en un script de ```R```"
   ]
  },
  {
   "cell_type": "code",
   "execution_count": null,
   "metadata": {},
   "outputs": [],
   "source": [
    "################################################################################"
   ]
  },
  {
   "cell_type": "code",
   "execution_count": null,
   "metadata": {},
   "outputs": [],
   "source": [
    "hv.min.percent <- 0.8 # data > 80%\n",
    "interest.prd <- c(ymd_hms(\"2020-03-01 00:00:00\"),\n",
    "                  ymd_hms(\"2020-05-01 00:00:00\"))\n",
    "\n",
    "sites.lv <- levels(as.factor(sitesAQ$site))[1:3]"
   ]
  },
  {
   "cell_type": "code",
   "execution_count": null,
   "metadata": {},
   "outputs": [],
   "source": [
    "# Obtener que estaciones tienen los datos necesarios\n",
    "curate.info <- do.call(rbind.fill,\n",
    "                    lapply(sites.lv,\n",
    "                           function(st, polluts){\n",
    "                               do.call(rbind.fill,\n",
    "                                       lapply(polluts,\n",
    "                                              info_sitesAQ,\n",
    "                                              st, start_dt, end_dt))\n",
    "                           }, pollutants))"
   ]
  },
  {
   "cell_type": "markdown",
   "metadata": {},
   "source": [
    "| Parameter | Value |\n",
    "|----|----|\n",
    "| hv.min | TRUE |\n",
    "|miss.yr | $< 5$ |"
   ]
  },
  {
   "cell_type": "code",
   "execution_count": null,
   "metadata": {},
   "outputs": [],
   "source": [
    "valid.info <- curate.info[curate.info$hv.min == TRUE,]\n",
    "valid.info <- valid.info[valid.info$miss.yr < 5,]\n",
    "\n",
    "checked_sitesAQ <- merge(x = valid.info %>%\n",
    "                             select(site, Pollutant),\n",
    "                         y = sitesAQ,\n",
    "                         by = \"site\", all.x = T, all.y=F) "
   ]
  },
  {
   "cell_type": "markdown",
   "metadata": {},
   "source": [
    "### Guardar Datos en csv <a id=\"saveAQ\"></a>"
   ]
  },
  {
   "cell_type": "markdown",
   "metadata": {},
   "source": [
    "```R\n",
    "write.csv(valid.info, \n",
    "          \"data/Curation/AirQuality/checked_sitesAQ.csv\", row.names=FALSE)\n",
    "```"
   ]
  }
 ],
 "metadata": {
  "kernelspec": {
   "display_name": "R",
   "language": "R",
   "name": "ir"
  },
  "language_info": {
   "codemirror_mode": "r",
   "file_extension": ".r",
   "mimetype": "text/x-r-source",
   "name": "R",
   "pygments_lexer": "r",
   "version": "3.6.3"
  }
 },
 "nbformat": 4,
 "nbformat_minor": 4
}
