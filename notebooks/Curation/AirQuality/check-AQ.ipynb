{
 "cells": [
  {
   "cell_type": "markdown",
   "metadata": {},
   "source": [
    "# Filtrar Pares Estacion-Contaminante\n",
    "\n",
    "Filtrar aquellos pares Estacion-Contaminante que cumpla con los siguientes requisitos minimos:\n",
    "\n",
    "* Tienen al menos el > 90% de los datos en el periodo de mayor interes ```hv.min == True```\n",
    "\n",
    "* No tienen mas de 5 anhos de datos perdidos ```mss.yr < 5```"
   ]
  },
  {
   "cell_type": "code",
   "execution_count": 1,
   "metadata": {},
   "outputs": [],
   "source": [
    "setwd(\"~/Repositories/AirQualityCOVID/\")"
   ]
  },
  {
   "cell_type": "markdown",
   "metadata": {},
   "source": [
    "## Funciones Utiles"
   ]
  },
  {
   "cell_type": "code",
   "execution_count": 2,
   "metadata": {},
   "outputs": [],
   "source": [
    "get.miss.stations <- function(new.df, miss.df) {\n",
    "    sitesAQ <- read.csv(\"data/Curation/AirQuality/sitesAQ.csv\")\n",
    "    \n",
    "    miss.site <- levels(as.factor(miss.df[!(miss.df$site %in% new.df$site), \"site\"]))\n",
    "    \n",
    "    sitesAQ[sitesAQ$site %in% miss.site, c(\"site\", \"site_name\")]\n",
    "}"
   ]
  },
  {
   "cell_type": "code",
   "execution_count": 3,
   "metadata": {},
   "outputs": [],
   "source": [
    "count.miss.pollutant <- function(dataframe) {\n",
    "    count <- c()\n",
    "    \n",
    "    for (pll in levels(as.factor(dataframe$Pollutant))) {\n",
    "        count <- c(count, \n",
    "                   nrow(dataframe[dataframe$Pollutant == pll, ])\n",
    "                  )\n",
    "        names(count)[length(count)] <- pll\n",
    "    }\n",
    "    count\n",
    "}"
   ]
  },
  {
   "cell_type": "markdown",
   "metadata": {},
   "source": [
    "## Todas las estaciones de estudio"
   ]
  },
  {
   "cell_type": "code",
   "execution_count": 4,
   "metadata": {},
   "outputs": [
    {
     "data": {
      "text/html": [
       "<table>\n",
       "<caption>A data.frame: 6 × 8</caption>\n",
       "<thead>\n",
       "\t<tr><th></th><th scope=col>site</th><th scope=col>Pollutant</th><th scope=col>start_yr</th><th scope=col>end_yr</th><th scope=col>hv.min</th><th scope=col>mss.wk</th><th scope=col>mss.mnth</th><th scope=col>mss.yr</th></tr>\n",
       "\t<tr><th></th><th scope=col>&lt;chr&gt;</th><th scope=col>&lt;chr&gt;</th><th scope=col>&lt;chr&gt;</th><th scope=col>&lt;chr&gt;</th><th scope=col>&lt;lgl&gt;</th><th scope=col>&lt;int&gt;</th><th scope=col>&lt;int&gt;</th><th scope=col>&lt;int&gt;</th></tr>\n",
       "</thead>\n",
       "<tbody>\n",
       "\t<tr><th scope=row>1</th><td>es0041a</td><td>no2  </td><td>2017-01-01</td><td>2020-12-31</td><td>TRUE</td><td>370</td><td> 84</td><td> 7</td></tr>\n",
       "\t<tr><th scope=row>2</th><td>es0041a</td><td>pm10 </td><td>2017-01-01</td><td>2020-12-31</td><td>TRUE</td><td>367</td><td> 84</td><td> 7</td></tr>\n",
       "\t<tr><th scope=row>3</th><td>es0041a</td><td>pm2.5</td><td>2020-02-27</td><td>2020-12-31</td><td>TRUE</td><td>531</td><td>121</td><td>10</td></tr>\n",
       "\t<tr><th scope=row>4</th><td>es0110a</td><td>no   </td><td>2014-01-01</td><td>2020-12-31</td><td>TRUE</td><td>222</td><td> 51</td><td> 4</td></tr>\n",
       "\t<tr><th scope=row>5</th><td>es0110a</td><td>no2  </td><td>2014-01-01</td><td>2020-12-31</td><td>TRUE</td><td>222</td><td> 51</td><td> 4</td></tr>\n",
       "\t<tr><th scope=row>6</th><td>es0110a</td><td>pm10 </td><td>2014-04-30</td><td>2020-12-31</td><td>TRUE</td><td>225</td><td> 51</td><td> 4</td></tr>\n",
       "</tbody>\n",
       "</table>\n"
      ],
      "text/latex": [
       "A data.frame: 6 × 8\n",
       "\\begin{tabular}{r|llllllll}\n",
       "  & site & Pollutant & start\\_yr & end\\_yr & hv.min & mss.wk & mss.mnth & mss.yr\\\\\n",
       "  & <chr> & <chr> & <chr> & <chr> & <lgl> & <int> & <int> & <int>\\\\\n",
       "\\hline\n",
       "\t1 & es0041a & no2   & 2017-01-01 & 2020-12-31 & TRUE & 370 &  84 &  7\\\\\n",
       "\t2 & es0041a & pm10  & 2017-01-01 & 2020-12-31 & TRUE & 367 &  84 &  7\\\\\n",
       "\t3 & es0041a & pm2.5 & 2020-02-27 & 2020-12-31 & TRUE & 531 & 121 & 10\\\\\n",
       "\t4 & es0110a & no    & 2014-01-01 & 2020-12-31 & TRUE & 222 &  51 &  4\\\\\n",
       "\t5 & es0110a & no2   & 2014-01-01 & 2020-12-31 & TRUE & 222 &  51 &  4\\\\\n",
       "\t6 & es0110a & pm10  & 2014-04-30 & 2020-12-31 & TRUE & 225 &  51 &  4\\\\\n",
       "\\end{tabular}\n"
      ],
      "text/markdown": [
       "\n",
       "A data.frame: 6 × 8\n",
       "\n",
       "| <!--/--> | site &lt;chr&gt; | Pollutant &lt;chr&gt; | start_yr &lt;chr&gt; | end_yr &lt;chr&gt; | hv.min &lt;lgl&gt; | mss.wk &lt;int&gt; | mss.mnth &lt;int&gt; | mss.yr &lt;int&gt; |\n",
       "|---|---|---|---|---|---|---|---|---|\n",
       "| 1 | es0041a | no2   | 2017-01-01 | 2020-12-31 | TRUE | 370 |  84 |  7 |\n",
       "| 2 | es0041a | pm10  | 2017-01-01 | 2020-12-31 | TRUE | 367 |  84 |  7 |\n",
       "| 3 | es0041a | pm2.5 | 2020-02-27 | 2020-12-31 | TRUE | 531 | 121 | 10 |\n",
       "| 4 | es0110a | no    | 2014-01-01 | 2020-12-31 | TRUE | 222 |  51 |  4 |\n",
       "| 5 | es0110a | no2   | 2014-01-01 | 2020-12-31 | TRUE | 222 |  51 |  4 |\n",
       "| 6 | es0110a | pm10  | 2014-04-30 | 2020-12-31 | TRUE | 225 |  51 |  4 |\n",
       "\n"
      ],
      "text/plain": [
       "  site    Pollutant start_yr   end_yr     hv.min mss.wk mss.mnth mss.yr\n",
       "1 es0041a no2       2017-01-01 2020-12-31 TRUE   370     84       7    \n",
       "2 es0041a pm10      2017-01-01 2020-12-31 TRUE   367     84       7    \n",
       "3 es0041a pm2.5     2020-02-27 2020-12-31 TRUE   531    121      10    \n",
       "4 es0110a no        2014-01-01 2020-12-31 TRUE   222     51       4    \n",
       "5 es0110a no2       2014-01-01 2020-12-31 TRUE   222     51       4    \n",
       "6 es0110a pm10      2014-04-30 2020-12-31 TRUE   225     51       4    "
      ]
     },
     "metadata": {},
     "output_type": "display_data"
    }
   ],
   "source": [
    "info.sitesAQ <- read.csv(\"data/Curation/AirQuality/info_sitesAQ.csv\",\n",
    "                         stringsAsFactor=FALSE)\n",
    "info.sitesAQ <- info.sitesAQ[complete.cases(info.sitesAQ), ]\n",
    "head(info.sitesAQ)"
   ]
  },
  {
   "cell_type": "code",
   "execution_count": 5,
   "metadata": {},
   "outputs": [
    {
     "name": "stdout",
     "output_type": "stream",
     "text": [
      "[1] \"Num Estaciones:  63\"\n",
      "[1] \"Pares (Estacion, contaminante):  233\"\n"
     ]
    }
   ],
   "source": [
    "print(paste(\"Num Estaciones: \", \n",
    "            length(levels(as.factor(info.sitesAQ$site)))\n",
    "            )\n",
    "     )\n",
    "\n",
    "print(paste(\"Pares (Estacion, contaminante): \", \n",
    "            nrow(info.sitesAQ)\n",
    "            )\n",
    "     )"
   ]
  },
  {
   "cell_type": "markdown",
   "metadata": {},
   "source": [
    "## Datos Minimos\n",
    "\n",
    "Tienen datos de la concentracion del contaminante en el intervalo minimo de estudio"
   ]
  },
  {
   "cell_type": "code",
   "execution_count": 6,
   "metadata": {},
   "outputs": [
    {
     "data": {
      "text/html": [
       "<table>\n",
       "<caption>A data.frame: 6 × 8</caption>\n",
       "<thead>\n",
       "\t<tr><th></th><th scope=col>site</th><th scope=col>Pollutant</th><th scope=col>start_yr</th><th scope=col>end_yr</th><th scope=col>hv.min</th><th scope=col>mss.wk</th><th scope=col>mss.mnth</th><th scope=col>mss.yr</th></tr>\n",
       "\t<tr><th></th><th scope=col>&lt;chr&gt;</th><th scope=col>&lt;chr&gt;</th><th scope=col>&lt;chr&gt;</th><th scope=col>&lt;chr&gt;</th><th scope=col>&lt;lgl&gt;</th><th scope=col>&lt;int&gt;</th><th scope=col>&lt;int&gt;</th><th scope=col>&lt;int&gt;</th></tr>\n",
       "</thead>\n",
       "<tbody>\n",
       "\t<tr><th scope=row>1</th><td>es0041a</td><td>no2  </td><td>2017-01-01</td><td>2020-12-31</td><td>TRUE</td><td>370</td><td> 84</td><td> 7</td></tr>\n",
       "\t<tr><th scope=row>2</th><td>es0041a</td><td>pm10 </td><td>2017-01-01</td><td>2020-12-31</td><td>TRUE</td><td>367</td><td> 84</td><td> 7</td></tr>\n",
       "\t<tr><th scope=row>3</th><td>es0041a</td><td>pm2.5</td><td>2020-02-27</td><td>2020-12-31</td><td>TRUE</td><td>531</td><td>121</td><td>10</td></tr>\n",
       "\t<tr><th scope=row>4</th><td>es0110a</td><td>no   </td><td>2014-01-01</td><td>2020-12-31</td><td>TRUE</td><td>222</td><td> 51</td><td> 4</td></tr>\n",
       "\t<tr><th scope=row>5</th><td>es0110a</td><td>no2  </td><td>2014-01-01</td><td>2020-12-31</td><td>TRUE</td><td>222</td><td> 51</td><td> 4</td></tr>\n",
       "\t<tr><th scope=row>6</th><td>es0110a</td><td>pm10 </td><td>2014-04-30</td><td>2020-12-31</td><td>TRUE</td><td>225</td><td> 51</td><td> 4</td></tr>\n",
       "</tbody>\n",
       "</table>\n"
      ],
      "text/latex": [
       "A data.frame: 6 × 8\n",
       "\\begin{tabular}{r|llllllll}\n",
       "  & site & Pollutant & start\\_yr & end\\_yr & hv.min & mss.wk & mss.mnth & mss.yr\\\\\n",
       "  & <chr> & <chr> & <chr> & <chr> & <lgl> & <int> & <int> & <int>\\\\\n",
       "\\hline\n",
       "\t1 & es0041a & no2   & 2017-01-01 & 2020-12-31 & TRUE & 370 &  84 &  7\\\\\n",
       "\t2 & es0041a & pm10  & 2017-01-01 & 2020-12-31 & TRUE & 367 &  84 &  7\\\\\n",
       "\t3 & es0041a & pm2.5 & 2020-02-27 & 2020-12-31 & TRUE & 531 & 121 & 10\\\\\n",
       "\t4 & es0110a & no    & 2014-01-01 & 2020-12-31 & TRUE & 222 &  51 &  4\\\\\n",
       "\t5 & es0110a & no2   & 2014-01-01 & 2020-12-31 & TRUE & 222 &  51 &  4\\\\\n",
       "\t6 & es0110a & pm10  & 2014-04-30 & 2020-12-31 & TRUE & 225 &  51 &  4\\\\\n",
       "\\end{tabular}\n"
      ],
      "text/markdown": [
       "\n",
       "A data.frame: 6 × 8\n",
       "\n",
       "| <!--/--> | site &lt;chr&gt; | Pollutant &lt;chr&gt; | start_yr &lt;chr&gt; | end_yr &lt;chr&gt; | hv.min &lt;lgl&gt; | mss.wk &lt;int&gt; | mss.mnth &lt;int&gt; | mss.yr &lt;int&gt; |\n",
       "|---|---|---|---|---|---|---|---|---|\n",
       "| 1 | es0041a | no2   | 2017-01-01 | 2020-12-31 | TRUE | 370 |  84 |  7 |\n",
       "| 2 | es0041a | pm10  | 2017-01-01 | 2020-12-31 | TRUE | 367 |  84 |  7 |\n",
       "| 3 | es0041a | pm2.5 | 2020-02-27 | 2020-12-31 | TRUE | 531 | 121 | 10 |\n",
       "| 4 | es0110a | no    | 2014-01-01 | 2020-12-31 | TRUE | 222 |  51 |  4 |\n",
       "| 5 | es0110a | no2   | 2014-01-01 | 2020-12-31 | TRUE | 222 |  51 |  4 |\n",
       "| 6 | es0110a | pm10  | 2014-04-30 | 2020-12-31 | TRUE | 225 |  51 |  4 |\n",
       "\n"
      ],
      "text/plain": [
       "  site    Pollutant start_yr   end_yr     hv.min mss.wk mss.mnth mss.yr\n",
       "1 es0041a no2       2017-01-01 2020-12-31 TRUE   370     84       7    \n",
       "2 es0041a pm10      2017-01-01 2020-12-31 TRUE   367     84       7    \n",
       "3 es0041a pm2.5     2020-02-27 2020-12-31 TRUE   531    121      10    \n",
       "4 es0110a no        2014-01-01 2020-12-31 TRUE   222     51       4    \n",
       "5 es0110a no2       2014-01-01 2020-12-31 TRUE   222     51       4    \n",
       "6 es0110a pm10      2014-04-30 2020-12-31 TRUE   225     51       4    "
      ]
     },
     "metadata": {},
     "output_type": "display_data"
    }
   ],
   "source": [
    "sites.hvmin <- info.sitesAQ[info.sitesAQ$hv.min == TRUE &\n",
    "                            !is.na(info.sitesAQ$hv.min), ]\n",
    "head(sites.hvmin)"
   ]
  },
  {
   "cell_type": "code",
   "execution_count": 7,
   "metadata": {},
   "outputs": [
    {
     "name": "stdout",
     "output_type": "stream",
     "text": [
      "[1] \"Num Estaciones:  63\"\n",
      "[1] \"Pares (Estacion, contaminante):  233\"\n"
     ]
    }
   ],
   "source": [
    "print(paste(\"Num Estaciones: \", \n",
    "            length(levels(as.factor(sites.hvmin$site)))\n",
    "            )\n",
    "     )\n",
    "\n",
    "print(paste(\"Pares (Estacion, contaminante): \", \n",
    "            nrow(sites.hvmin)\n",
    "            )\n",
    "     )"
   ]
  },
  {
   "cell_type": "markdown",
   "metadata": {},
   "source": [
    "Se muestran los valores eliminados "
   ]
  },
  {
   "cell_type": "code",
   "execution_count": 8,
   "metadata": {},
   "outputs": [
    {
     "name": "stdout",
     "output_type": "stream",
     "text": [
      "[1] \"Estaciones Perdidas: \"\n",
      "[1] \"    NA: NA\"\n",
      "[1] \"    : \"\n",
      "character(0)\n",
      "character(0)\n"
     ]
    }
   ],
   "source": [
    "no.sites.hvmin <- info.sitesAQ[!info.sitesAQ$hv.min, ]\n",
    "\n",
    "stations <- get.miss.stations(sites.hvmin, no.sites.hvmin)\n",
    "pollut <- count.miss.pollutant(no.sites.hvmin)\n",
    "\n",
    "print(\"Estaciones Perdidas: \")\n",
    "for (i in 1:nrow(stations)) {\n",
    "    print(paste(\"    \", \n",
    "                stations[i, \"site\"], \": \",\n",
    "                stations[i, \"site_name\"], sep=\"\"))\n",
    "}\n",
    "\n",
    "\n",
    "for (i in 1:length(pollut)) {\n",
    "    print(paste(names(pollut[i]), pollut[[i]], sep=\": \"))\n",
    "}"
   ]
  },
  {
   "cell_type": "markdown",
   "metadata": {},
   "source": [
    "# No Falta > 5 Anhos"
   ]
  },
  {
   "cell_type": "code",
   "execution_count": 9,
   "metadata": {},
   "outputs": [
    {
     "data": {
      "text/html": [
       "<table>\n",
       "<caption>A data.frame: 6 × 8</caption>\n",
       "<thead>\n",
       "\t<tr><th></th><th scope=col>site</th><th scope=col>Pollutant</th><th scope=col>start_yr</th><th scope=col>end_yr</th><th scope=col>hv.min</th><th scope=col>mss.wk</th><th scope=col>mss.mnth</th><th scope=col>mss.yr</th></tr>\n",
       "\t<tr><th></th><th scope=col>&lt;chr&gt;</th><th scope=col>&lt;chr&gt;</th><th scope=col>&lt;chr&gt;</th><th scope=col>&lt;chr&gt;</th><th scope=col>&lt;lgl&gt;</th><th scope=col>&lt;int&gt;</th><th scope=col>&lt;int&gt;</th><th scope=col>&lt;int&gt;</th></tr>\n",
       "</thead>\n",
       "<tbody>\n",
       "\t<tr><th scope=row>4</th><td>es0110a</td><td>no   </td><td>2014-01-01</td><td>2020-12-31</td><td>TRUE</td><td>222</td><td>51</td><td>4</td></tr>\n",
       "\t<tr><th scope=row>5</th><td>es0110a</td><td>no2  </td><td>2014-01-01</td><td>2020-12-31</td><td>TRUE</td><td>222</td><td>51</td><td>4</td></tr>\n",
       "\t<tr><th scope=row>6</th><td>es0110a</td><td>pm10 </td><td>2014-04-30</td><td>2020-12-31</td><td>TRUE</td><td>225</td><td>51</td><td>4</td></tr>\n",
       "\t<tr><th scope=row>7</th><td>es0110a</td><td>pm2.5</td><td>2014-04-30</td><td>2020-12-31</td><td>TRUE</td><td>225</td><td>51</td><td>4</td></tr>\n",
       "\t<tr><th scope=row>8</th><td>es0115a</td><td>no   </td><td>2013-01-01</td><td>2020-12-31</td><td>TRUE</td><td>163</td><td>36</td><td>3</td></tr>\n",
       "\t<tr><th scope=row>9</th><td>es0115a</td><td>no2  </td><td>2013-01-01</td><td>2020-12-31</td><td>TRUE</td><td>163</td><td>36</td><td>3</td></tr>\n",
       "</tbody>\n",
       "</table>\n"
      ],
      "text/latex": [
       "A data.frame: 6 × 8\n",
       "\\begin{tabular}{r|llllllll}\n",
       "  & site & Pollutant & start\\_yr & end\\_yr & hv.min & mss.wk & mss.mnth & mss.yr\\\\\n",
       "  & <chr> & <chr> & <chr> & <chr> & <lgl> & <int> & <int> & <int>\\\\\n",
       "\\hline\n",
       "\t4 & es0110a & no    & 2014-01-01 & 2020-12-31 & TRUE & 222 & 51 & 4\\\\\n",
       "\t5 & es0110a & no2   & 2014-01-01 & 2020-12-31 & TRUE & 222 & 51 & 4\\\\\n",
       "\t6 & es0110a & pm10  & 2014-04-30 & 2020-12-31 & TRUE & 225 & 51 & 4\\\\\n",
       "\t7 & es0110a & pm2.5 & 2014-04-30 & 2020-12-31 & TRUE & 225 & 51 & 4\\\\\n",
       "\t8 & es0115a & no    & 2013-01-01 & 2020-12-31 & TRUE & 163 & 36 & 3\\\\\n",
       "\t9 & es0115a & no2   & 2013-01-01 & 2020-12-31 & TRUE & 163 & 36 & 3\\\\\n",
       "\\end{tabular}\n"
      ],
      "text/markdown": [
       "\n",
       "A data.frame: 6 × 8\n",
       "\n",
       "| <!--/--> | site &lt;chr&gt; | Pollutant &lt;chr&gt; | start_yr &lt;chr&gt; | end_yr &lt;chr&gt; | hv.min &lt;lgl&gt; | mss.wk &lt;int&gt; | mss.mnth &lt;int&gt; | mss.yr &lt;int&gt; |\n",
       "|---|---|---|---|---|---|---|---|---|\n",
       "| 4 | es0110a | no    | 2014-01-01 | 2020-12-31 | TRUE | 222 | 51 | 4 |\n",
       "| 5 | es0110a | no2   | 2014-01-01 | 2020-12-31 | TRUE | 222 | 51 | 4 |\n",
       "| 6 | es0110a | pm10  | 2014-04-30 | 2020-12-31 | TRUE | 225 | 51 | 4 |\n",
       "| 7 | es0110a | pm2.5 | 2014-04-30 | 2020-12-31 | TRUE | 225 | 51 | 4 |\n",
       "| 8 | es0115a | no    | 2013-01-01 | 2020-12-31 | TRUE | 163 | 36 | 3 |\n",
       "| 9 | es0115a | no2   | 2013-01-01 | 2020-12-31 | TRUE | 163 | 36 | 3 |\n",
       "\n"
      ],
      "text/plain": [
       "  site    Pollutant start_yr   end_yr     hv.min mss.wk mss.mnth mss.yr\n",
       "4 es0110a no        2014-01-01 2020-12-31 TRUE   222    51       4     \n",
       "5 es0110a no2       2014-01-01 2020-12-31 TRUE   222    51       4     \n",
       "6 es0110a pm10      2014-04-30 2020-12-31 TRUE   225    51       4     \n",
       "7 es0110a pm2.5     2014-04-30 2020-12-31 TRUE   225    51       4     \n",
       "8 es0115a no        2013-01-01 2020-12-31 TRUE   163    36       3     \n",
       "9 es0115a no2       2013-01-01 2020-12-31 TRUE   163    36       3     "
      ]
     },
     "metadata": {},
     "output_type": "display_data"
    }
   ],
   "source": [
    "sites.hvyr <- sites.hvmin[sites.hvmin$mss.yr < 5, ]\n",
    "head(sites.hvyr)"
   ]
  },
  {
   "cell_type": "code",
   "execution_count": 10,
   "metadata": {},
   "outputs": [
    {
     "name": "stdout",
     "output_type": "stream",
     "text": [
      "[1] \"Num Estaciones:  60\"\n",
      "[1] \"Pares (Estacion, contaminante):  203\"\n"
     ]
    }
   ],
   "source": [
    "print(paste(\"Num Estaciones: \", \n",
    "            length(levels(as.factor(sites.hvyr$site)))\n",
    "            )\n",
    "     )\n",
    "\n",
    "print(paste(\"Pares (Estacion, contaminante): \", \n",
    "            nrow(sites.hvyr)\n",
    "            )\n",
    "     )"
   ]
  },
  {
   "cell_type": "code",
   "execution_count": 11,
   "metadata": {},
   "outputs": [
    {
     "name": "stdout",
     "output_type": "stream",
     "text": [
      "[1] \"Estaciones Perdidas: \"\n",
      "[1] \"    es0041a: DIRECCI\\303\\223N DE SALUD\"\n",
      "[1] \"    es1836a: LAS FUENTES\"\n",
      "[1] \"    es1837a: CENTRO\"\n",
      "[1] \"no: 2\"\n",
      "[1] \"no2: 3\"\n",
      "[1] \"o3: 7\"\n",
      "[1] \"pm10: 7\"\n",
      "[1] \"pm2.5: 11\"\n"
     ]
    }
   ],
   "source": [
    "no.sites.hvyr <- sites.hvmin[sites.hvmin$mss.yr >= 5, ]\n",
    "\n",
    "stations <- get.miss.stations(sites.hvyr, no.sites.hvyr)\n",
    "pollut <- count.miss.pollutant(no.sites.hvyr)\n",
    "\n",
    "print(\"Estaciones Perdidas: \")\n",
    "for (i in 1:nrow(stations)) {\n",
    "    print(paste(\"    \", \n",
    "                stations[i, \"site\"], \": \",\n",
    "                stations[i, \"site_name\"], sep=\"\"))\n",
    "}\n",
    "\n",
    "\n",
    "for (i in 1:length(pollut)) {\n",
    "    print(paste(names(pollut[i]), pollut[[i]], sep=\": \"))\n",
    "}"
   ]
  },
  {
   "cell_type": "markdown",
   "metadata": {},
   "source": [
    "### Guardar Datos en csv <a id=\"saveAQ\"></a>"
   ]
  },
  {
   "cell_type": "code",
   "execution_count": 12,
   "metadata": {},
   "outputs": [],
   "source": [
    "write.csv(no.sites.hvyr, \n",
    "          \"data/Curation/AirQuality/Checked-sitesAQ.csv\", row.names=FALSE)"
   ]
  }
 ],
 "metadata": {
  "kernelspec": {
   "display_name": "R",
   "language": "R",
   "name": "ir"
  },
  "language_info": {
   "codemirror_mode": "r",
   "file_extension": ".r",
   "mimetype": "text/x-r-source",
   "name": "R",
   "pygments_lexer": "r",
   "version": "3.6.3"
  }
 },
 "nbformat": 4,
 "nbformat_minor": 4
}
