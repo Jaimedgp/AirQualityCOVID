{
 "cells": [
  {
   "cell_type": "markdown",
   "metadata": {},
   "source": [
    "# Check AirQuality Stations\n",
    "\n",
    "Filtre air quality sites in order to obtain those with the main requisites needed to our study.                                      \n",
    "\n",
    "- Have data from any of the following pollutants:                                                                                                                                                                                       \n",
    "    NO2, NO, O3, PM10, PM2.5                                                                                                                                                                                                          \n",
    "- Don't miss any year of data  "
   ]
  },
  {
   "cell_type": "code",
   "execution_count": null,
   "metadata": {},
   "outputs": [],
   "source": []
  }
 ],
 "metadata": {
  "kernelspec": {
   "display_name": "R",
   "language": "R",
   "name": "ir"
  },
  "language_info": {
   "codemirror_mode": "r",
   "file_extension": ".r",
   "mimetype": "text/x-r-source",
   "name": "R",
   "pygments_lexer": "r",
   "version": "3.6.3"
  }
 },
 "nbformat": 4,
 "nbformat_minor": 4
}
