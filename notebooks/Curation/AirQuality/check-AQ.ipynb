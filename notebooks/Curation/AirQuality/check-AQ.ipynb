{
 "cells": [
  {
   "cell_type": "markdown",
   "metadata": {},
   "source": [
    "# Check AirQuality Stations\n",
    "\n",
    "Filtre air quality sites in order to obtain those with the main requisites needed to our study.                                      \n",
    "\n",
    "- Have data from any of the following pollutants:                                                                                                                                                                                       \n",
    "    NO2, NO, O3, PM10, PM2.5                                                                                                                                                                                                          \n",
    "- Don't miss any year of data  "
   ]
  },
  {
   "cell_type": "code",
   "execution_count": 1,
   "metadata": {},
   "outputs": [],
   "source": [
    "setwd(\"~/Repositories/AirQualityCOVID/\")"
   ]
  },
  {
   "cell_type": "markdown",
   "metadata": {},
   "source": [
    "## Funciones Utiles"
   ]
  },
  {
   "cell_type": "code",
   "execution_count": 16,
   "metadata": {},
   "outputs": [],
   "source": [
    "get.miss.stations <- function(new.df, miss.df) {\n",
    "    sitesAQ <- read.csv(\"data/Curation/sitesAQ.csv\")\n",
    "    \n",
    "    miss.site <- levels(as.factor(miss.df[!(miss.df$site %in% new.df$site), \"site\"]))\n",
    "    \n",
    "    sitesAQ[(sitesAQ$site %in% miss.site), c(\"site\", \"site_name\")]\n",
    "}"
   ]
  },
  {
   "cell_type": "code",
   "execution_count": 3,
   "metadata": {},
   "outputs": [],
   "source": [
    "count.miss.pollutant <- function(dataframe) {\n",
    "    count <- c()\n",
    "    \n",
    "    for (pll in levels(as.factor(dataframe$Pollutant))) {\n",
    "        count <- c(count, \n",
    "                   #length(levels(as.factor(dataframe[dataframe$Pollutant == pll, \"site\"])))\n",
    "                   nrow(dataframe[dataframe$Pollutant == pll, ])\n",
    "                  )\n",
    "        names(count)[length(count)] <- pll\n",
    "    }\n",
    "    count\n",
    "}"
   ]
  },
  {
   "cell_type": "markdown",
   "metadata": {},
   "source": [
    "## Todas las estaciones de estudio"
   ]
  },
  {
   "cell_type": "code",
   "execution_count": 4,
   "metadata": {},
   "outputs": [
    {
     "data": {
      "text/html": [
       "<table>\n",
       "<caption>A data.frame: 6 × 8</caption>\n",
       "<thead>\n",
       "\t<tr><th></th><th scope=col>site</th><th scope=col>Pollutant</th><th scope=col>start_yr</th><th scope=col>end_yr</th><th scope=col>hv.min</th><th scope=col>mss.wk</th><th scope=col>mss.mnth</th><th scope=col>mss.yr</th></tr>\n",
       "\t<tr><th></th><th scope=col>&lt;chr&gt;</th><th scope=col>&lt;chr&gt;</th><th scope=col>&lt;chr&gt;</th><th scope=col>&lt;chr&gt;</th><th scope=col>&lt;lgl&gt;</th><th scope=col>&lt;int&gt;</th><th scope=col>&lt;int&gt;</th><th scope=col>&lt;int&gt;</th></tr>\n",
       "</thead>\n",
       "<tbody>\n",
       "\t<tr><th scope=row>2</th><td>es2047a</td><td>no2 </td><td>2014-01-01</td><td>2021-01-16</td><td> TRUE</td><td> 59</td><td>12</td><td>1</td></tr>\n",
       "\t<tr><th scope=row>3</th><td>es2047a</td><td>no  </td><td>2014-01-01</td><td>2021-01-16</td><td> TRUE</td><td> 59</td><td>12</td><td>1</td></tr>\n",
       "\t<tr><th scope=row>4</th><td>es2042a</td><td>o3  </td><td>2013-04-08</td><td>2021-01-15</td><td> TRUE</td><td> 13</td><td> 3</td><td>0</td></tr>\n",
       "\t<tr><th scope=row>5</th><td>es2042a</td><td>no2 </td><td>2018-01-01</td><td>2021-01-15</td><td> TRUE</td><td>270</td><td>61</td><td>5</td></tr>\n",
       "\t<tr><th scope=row>6</th><td>es2042a</td><td>no  </td><td>2018-01-01</td><td>2021-01-15</td><td> TRUE</td><td>270</td><td>61</td><td>5</td></tr>\n",
       "\t<tr><th scope=row>7</th><td>es2031a</td><td>pm10</td><td>2020-01-14</td><td>2021-01-16</td><td>FALSE</td><td>375</td><td>85</td><td>7</td></tr>\n",
       "</tbody>\n",
       "</table>\n"
      ],
      "text/latex": [
       "A data.frame: 6 × 8\n",
       "\\begin{tabular}{r|llllllll}\n",
       "  & site & Pollutant & start\\_yr & end\\_yr & hv.min & mss.wk & mss.mnth & mss.yr\\\\\n",
       "  & <chr> & <chr> & <chr> & <chr> & <lgl> & <int> & <int> & <int>\\\\\n",
       "\\hline\n",
       "\t2 & es2047a & no2  & 2014-01-01 & 2021-01-16 &  TRUE &  59 & 12 & 1\\\\\n",
       "\t3 & es2047a & no   & 2014-01-01 & 2021-01-16 &  TRUE &  59 & 12 & 1\\\\\n",
       "\t4 & es2042a & o3   & 2013-04-08 & 2021-01-15 &  TRUE &  13 &  3 & 0\\\\\n",
       "\t5 & es2042a & no2  & 2018-01-01 & 2021-01-15 &  TRUE & 270 & 61 & 5\\\\\n",
       "\t6 & es2042a & no   & 2018-01-01 & 2021-01-15 &  TRUE & 270 & 61 & 5\\\\\n",
       "\t7 & es2031a & pm10 & 2020-01-14 & 2021-01-16 & FALSE & 375 & 85 & 7\\\\\n",
       "\\end{tabular}\n"
      ],
      "text/markdown": [
       "\n",
       "A data.frame: 6 × 8\n",
       "\n",
       "| <!--/--> | site &lt;chr&gt; | Pollutant &lt;chr&gt; | start_yr &lt;chr&gt; | end_yr &lt;chr&gt; | hv.min &lt;lgl&gt; | mss.wk &lt;int&gt; | mss.mnth &lt;int&gt; | mss.yr &lt;int&gt; |\n",
       "|---|---|---|---|---|---|---|---|---|\n",
       "| 2 | es2047a | no2  | 2014-01-01 | 2021-01-16 |  TRUE |  59 | 12 | 1 |\n",
       "| 3 | es2047a | no   | 2014-01-01 | 2021-01-16 |  TRUE |  59 | 12 | 1 |\n",
       "| 4 | es2042a | o3   | 2013-04-08 | 2021-01-15 |  TRUE |  13 |  3 | 0 |\n",
       "| 5 | es2042a | no2  | 2018-01-01 | 2021-01-15 |  TRUE | 270 | 61 | 5 |\n",
       "| 6 | es2042a | no   | 2018-01-01 | 2021-01-15 |  TRUE | 270 | 61 | 5 |\n",
       "| 7 | es2031a | pm10 | 2020-01-14 | 2021-01-16 | FALSE | 375 | 85 | 7 |\n",
       "\n"
      ],
      "text/plain": [
       "  site    Pollutant start_yr   end_yr     hv.min mss.wk mss.mnth mss.yr\n",
       "2 es2047a no2       2014-01-01 2021-01-16  TRUE   59    12       1     \n",
       "3 es2047a no        2014-01-01 2021-01-16  TRUE   59    12       1     \n",
       "4 es2042a o3        2013-04-08 2021-01-15  TRUE   13     3       0     \n",
       "5 es2042a no2       2018-01-01 2021-01-15  TRUE  270    61       5     \n",
       "6 es2042a no        2018-01-01 2021-01-15  TRUE  270    61       5     \n",
       "7 es2031a pm10      2020-01-14 2021-01-16 FALSE  375    85       7     "
      ]
     },
     "metadata": {},
     "output_type": "display_data"
    }
   ],
   "source": [
    "info.sitesAQ <- read.csv(\"data/Curation/info_sitesAQ.csv\")\n",
    "info.sitesAQ <- info.sitesAQ[complete.cases(info.sitesAQ), ]\n",
    "head(info.sitesAQ)"
   ]
  },
  {
   "cell_type": "code",
   "execution_count": 5,
   "metadata": {},
   "outputs": [
    {
     "name": "stdout",
     "output_type": "stream",
     "text": [
      "[1] \"Num Estaciones:  67\"\n",
      "[1] \"Pares (Estacion, contaminante):  273\"\n"
     ]
    }
   ],
   "source": [
    "print(paste(\"Num Estaciones: \", \n",
    "            length(levels(as.factor(info.sitesAQ$site)))\n",
    "            )\n",
    "     )\n",
    "\n",
    "print(paste(\"Pares (Estacion, contaminante): \", \n",
    "            nrow(info.sitesAQ)\n",
    "            )\n",
    "     )"
   ]
  },
  {
   "cell_type": "markdown",
   "metadata": {},
   "source": [
    "## Datos Minimos\n",
    "\n",
    "Tienen datos de la concentracion del contaminante en el intervalo minimo de estudio"
   ]
  },
  {
   "cell_type": "code",
   "execution_count": 7,
   "metadata": {},
   "outputs": [
    {
     "data": {
      "text/html": [
       "<table>\n",
       "<caption>A data.frame: 6 × 8</caption>\n",
       "<thead>\n",
       "\t<tr><th></th><th scope=col>site</th><th scope=col>Pollutant</th><th scope=col>start_yr</th><th scope=col>end_yr</th><th scope=col>hv.min</th><th scope=col>mss.wk</th><th scope=col>mss.mnth</th><th scope=col>mss.yr</th></tr>\n",
       "\t<tr><th></th><th scope=col>&lt;chr&gt;</th><th scope=col>&lt;chr&gt;</th><th scope=col>&lt;chr&gt;</th><th scope=col>&lt;chr&gt;</th><th scope=col>&lt;lgl&gt;</th><th scope=col>&lt;int&gt;</th><th scope=col>&lt;int&gt;</th><th scope=col>&lt;int&gt;</th></tr>\n",
       "</thead>\n",
       "<tbody>\n",
       "\t<tr><th scope=row>2</th><td>es2047a</td><td>no2</td><td>2014-01-01</td><td>2021-01-16</td><td>TRUE</td><td> 59</td><td>12</td><td>1</td></tr>\n",
       "\t<tr><th scope=row>3</th><td>es2047a</td><td>no </td><td>2014-01-01</td><td>2021-01-16</td><td>TRUE</td><td> 59</td><td>12</td><td>1</td></tr>\n",
       "\t<tr><th scope=row>4</th><td>es2042a</td><td>o3 </td><td>2013-04-08</td><td>2021-01-15</td><td>TRUE</td><td> 13</td><td> 3</td><td>0</td></tr>\n",
       "\t<tr><th scope=row>5</th><td>es2042a</td><td>no2</td><td>2018-01-01</td><td>2021-01-15</td><td>TRUE</td><td>270</td><td>61</td><td>5</td></tr>\n",
       "\t<tr><th scope=row>6</th><td>es2042a</td><td>no </td><td>2018-01-01</td><td>2021-01-15</td><td>TRUE</td><td>270</td><td>61</td><td>5</td></tr>\n",
       "\t<tr><th scope=row>8</th><td>es2031a</td><td>no2</td><td>2013-01-01</td><td>2021-01-16</td><td>TRUE</td><td> 19</td><td> 1</td><td>0</td></tr>\n",
       "</tbody>\n",
       "</table>\n"
      ],
      "text/latex": [
       "A data.frame: 6 × 8\n",
       "\\begin{tabular}{r|llllllll}\n",
       "  & site & Pollutant & start\\_yr & end\\_yr & hv.min & mss.wk & mss.mnth & mss.yr\\\\\n",
       "  & <chr> & <chr> & <chr> & <chr> & <lgl> & <int> & <int> & <int>\\\\\n",
       "\\hline\n",
       "\t2 & es2047a & no2 & 2014-01-01 & 2021-01-16 & TRUE &  59 & 12 & 1\\\\\n",
       "\t3 & es2047a & no  & 2014-01-01 & 2021-01-16 & TRUE &  59 & 12 & 1\\\\\n",
       "\t4 & es2042a & o3  & 2013-04-08 & 2021-01-15 & TRUE &  13 &  3 & 0\\\\\n",
       "\t5 & es2042a & no2 & 2018-01-01 & 2021-01-15 & TRUE & 270 & 61 & 5\\\\\n",
       "\t6 & es2042a & no  & 2018-01-01 & 2021-01-15 & TRUE & 270 & 61 & 5\\\\\n",
       "\t8 & es2031a & no2 & 2013-01-01 & 2021-01-16 & TRUE &  19 &  1 & 0\\\\\n",
       "\\end{tabular}\n"
      ],
      "text/markdown": [
       "\n",
       "A data.frame: 6 × 8\n",
       "\n",
       "| <!--/--> | site &lt;chr&gt; | Pollutant &lt;chr&gt; | start_yr &lt;chr&gt; | end_yr &lt;chr&gt; | hv.min &lt;lgl&gt; | mss.wk &lt;int&gt; | mss.mnth &lt;int&gt; | mss.yr &lt;int&gt; |\n",
       "|---|---|---|---|---|---|---|---|---|\n",
       "| 2 | es2047a | no2 | 2014-01-01 | 2021-01-16 | TRUE |  59 | 12 | 1 |\n",
       "| 3 | es2047a | no  | 2014-01-01 | 2021-01-16 | TRUE |  59 | 12 | 1 |\n",
       "| 4 | es2042a | o3  | 2013-04-08 | 2021-01-15 | TRUE |  13 |  3 | 0 |\n",
       "| 5 | es2042a | no2 | 2018-01-01 | 2021-01-15 | TRUE | 270 | 61 | 5 |\n",
       "| 6 | es2042a | no  | 2018-01-01 | 2021-01-15 | TRUE | 270 | 61 | 5 |\n",
       "| 8 | es2031a | no2 | 2013-01-01 | 2021-01-16 | TRUE |  19 |  1 | 0 |\n",
       "\n"
      ],
      "text/plain": [
       "  site    Pollutant start_yr   end_yr     hv.min mss.wk mss.mnth mss.yr\n",
       "2 es2047a no2       2014-01-01 2021-01-16 TRUE    59    12       1     \n",
       "3 es2047a no        2014-01-01 2021-01-16 TRUE    59    12       1     \n",
       "4 es2042a o3        2013-04-08 2021-01-15 TRUE    13     3       0     \n",
       "5 es2042a no2       2018-01-01 2021-01-15 TRUE   270    61       5     \n",
       "6 es2042a no        2018-01-01 2021-01-15 TRUE   270    61       5     \n",
       "8 es2031a no2       2013-01-01 2021-01-16 TRUE    19     1       0     "
      ]
     },
     "metadata": {},
     "output_type": "display_data"
    }
   ],
   "source": [
    "sites.hvmin <- info.sitesAQ[info.sitesAQ$hv.min == TRUE &\n",
    "                            !is.na(info.sitesAQ$hv.min), ]\n",
    "head(sites.hvmin)"
   ]
  },
  {
   "cell_type": "code",
   "execution_count": 8,
   "metadata": {},
   "outputs": [
    {
     "name": "stdout",
     "output_type": "stream",
     "text": [
      "[1] \"Num Estaciones:  66\"\n",
      "[1] \"Pares (Estacion, contaminante):  239\"\n"
     ]
    }
   ],
   "source": [
    "print(paste(\"Num Estaciones: \", \n",
    "            length(levels(as.factor(sites.hvmin$site)))\n",
    "            )\n",
    "     )\n",
    "\n",
    "print(paste(\"Pares (Estacion, contaminante): \", \n",
    "            nrow(sites.hvmin)\n",
    "            )\n",
    "     )"
   ]
  },
  {
   "cell_type": "markdown",
   "metadata": {},
   "source": [
    "Se muestran los valores eliminados "
   ]
  },
  {
   "cell_type": "code",
   "execution_count": 9,
   "metadata": {},
   "outputs": [
    {
     "name": "stdout",
     "output_type": "stream",
     "text": [
      "[1] \"Estaciones Perdidas:  CORLAB 1\"\n",
      "[1] \"no: 1\"\n",
      "[1] \"no2: 1\"\n",
      "[1] \"o3: 4\"\n",
      "[1] \"pm10: 13\"\n",
      "[1] \"pm2.5: 15\"\n"
     ]
    }
   ],
   "source": [
    "no.sites.hvmin <- info.sitesAQ[!info.sitesAQ$hv.min, ]\n",
    "\n",
    "stations <- get.miss.stations(sites.hvmin, no.sites.hvmin)\n",
    "pollut <- count.miss.pollutant(no.sites.hvmin)\n",
    "\n",
    "print(paste(\"Estaciones Perdidas: \", \n",
    "            stations\n",
    "            )\n",
    "     )\n",
    "\n",
    "for (i in 1: length(pollut)) {\n",
    "    print(paste(names(pollut[i]), pollut[[i]], sep=\": \"))\n",
    "}"
   ]
  },
  {
   "cell_type": "markdown",
   "metadata": {},
   "source": [
    "# No Falta Anhos"
   ]
  },
  {
   "cell_type": "code",
   "execution_count": 10,
   "metadata": {},
   "outputs": [
    {
     "data": {
      "text/html": [
       "<table>\n",
       "<caption>A data.frame: 6 × 8</caption>\n",
       "<thead>\n",
       "\t<tr><th></th><th scope=col>site</th><th scope=col>Pollutant</th><th scope=col>start_yr</th><th scope=col>end_yr</th><th scope=col>hv.min</th><th scope=col>mss.wk</th><th scope=col>mss.mnth</th><th scope=col>mss.yr</th></tr>\n",
       "\t<tr><th></th><th scope=col>&lt;chr&gt;</th><th scope=col>&lt;chr&gt;</th><th scope=col>&lt;chr&gt;</th><th scope=col>&lt;chr&gt;</th><th scope=col>&lt;lgl&gt;</th><th scope=col>&lt;int&gt;</th><th scope=col>&lt;int&gt;</th><th scope=col>&lt;int&gt;</th></tr>\n",
       "</thead>\n",
       "<tbody>\n",
       "\t<tr><th scope=row>2</th><td>es2047a</td><td>no2 </td><td>2014-01-01</td><td>2021-01-16</td><td>TRUE</td><td>59</td><td>12</td><td>1</td></tr>\n",
       "\t<tr><th scope=row>3</th><td>es2047a</td><td>no  </td><td>2014-01-01</td><td>2021-01-16</td><td>TRUE</td><td>59</td><td>12</td><td>1</td></tr>\n",
       "\t<tr><th scope=row>4</th><td>es2042a</td><td>o3  </td><td>2013-04-08</td><td>2021-01-15</td><td>TRUE</td><td>13</td><td> 3</td><td>0</td></tr>\n",
       "\t<tr><th scope=row>8</th><td>es2031a</td><td>no2 </td><td>2013-01-01</td><td>2021-01-16</td><td>TRUE</td><td>19</td><td> 1</td><td>0</td></tr>\n",
       "\t<tr><th scope=row>9</th><td>es2031a</td><td>no  </td><td>2013-01-01</td><td>2021-01-16</td><td>TRUE</td><td>19</td><td> 1</td><td>0</td></tr>\n",
       "\t<tr><th scope=row>11</th><td>es2030a</td><td>pm10</td><td>2013-01-03</td><td>2021-01-16</td><td>TRUE</td><td>21</td><td> 2</td><td>0</td></tr>\n",
       "</tbody>\n",
       "</table>\n"
      ],
      "text/latex": [
       "A data.frame: 6 × 8\n",
       "\\begin{tabular}{r|llllllll}\n",
       "  & site & Pollutant & start\\_yr & end\\_yr & hv.min & mss.wk & mss.mnth & mss.yr\\\\\n",
       "  & <chr> & <chr> & <chr> & <chr> & <lgl> & <int> & <int> & <int>\\\\\n",
       "\\hline\n",
       "\t2 & es2047a & no2  & 2014-01-01 & 2021-01-16 & TRUE & 59 & 12 & 1\\\\\n",
       "\t3 & es2047a & no   & 2014-01-01 & 2021-01-16 & TRUE & 59 & 12 & 1\\\\\n",
       "\t4 & es2042a & o3   & 2013-04-08 & 2021-01-15 & TRUE & 13 &  3 & 0\\\\\n",
       "\t8 & es2031a & no2  & 2013-01-01 & 2021-01-16 & TRUE & 19 &  1 & 0\\\\\n",
       "\t9 & es2031a & no   & 2013-01-01 & 2021-01-16 & TRUE & 19 &  1 & 0\\\\\n",
       "\t11 & es2030a & pm10 & 2013-01-03 & 2021-01-16 & TRUE & 21 &  2 & 0\\\\\n",
       "\\end{tabular}\n"
      ],
      "text/markdown": [
       "\n",
       "A data.frame: 6 × 8\n",
       "\n",
       "| <!--/--> | site &lt;chr&gt; | Pollutant &lt;chr&gt; | start_yr &lt;chr&gt; | end_yr &lt;chr&gt; | hv.min &lt;lgl&gt; | mss.wk &lt;int&gt; | mss.mnth &lt;int&gt; | mss.yr &lt;int&gt; |\n",
       "|---|---|---|---|---|---|---|---|---|\n",
       "| 2 | es2047a | no2  | 2014-01-01 | 2021-01-16 | TRUE | 59 | 12 | 1 |\n",
       "| 3 | es2047a | no   | 2014-01-01 | 2021-01-16 | TRUE | 59 | 12 | 1 |\n",
       "| 4 | es2042a | o3   | 2013-04-08 | 2021-01-15 | TRUE | 13 |  3 | 0 |\n",
       "| 8 | es2031a | no2  | 2013-01-01 | 2021-01-16 | TRUE | 19 |  1 | 0 |\n",
       "| 9 | es2031a | no   | 2013-01-01 | 2021-01-16 | TRUE | 19 |  1 | 0 |\n",
       "| 11 | es2030a | pm10 | 2013-01-03 | 2021-01-16 | TRUE | 21 |  2 | 0 |\n",
       "\n"
      ],
      "text/plain": [
       "   site    Pollutant start_yr   end_yr     hv.min mss.wk mss.mnth mss.yr\n",
       "2  es2047a no2       2014-01-01 2021-01-16 TRUE   59     12       1     \n",
       "3  es2047a no        2014-01-01 2021-01-16 TRUE   59     12       1     \n",
       "4  es2042a o3        2013-04-08 2021-01-15 TRUE   13      3       0     \n",
       "8  es2031a no2       2013-01-01 2021-01-16 TRUE   19      1       0     \n",
       "9  es2031a no        2013-01-01 2021-01-16 TRUE   19      1       0     \n",
       "11 es2030a pm10      2013-01-03 2021-01-16 TRUE   21      2       0     "
      ]
     },
     "metadata": {},
     "output_type": "display_data"
    }
   ],
   "source": [
    "sites.hvyr <- sites.hvmin[sites.hvmin$mss.yr <= 1, ]\n",
    "head(sites.hvyr)"
   ]
  },
  {
   "cell_type": "code",
   "execution_count": 11,
   "metadata": {},
   "outputs": [
    {
     "name": "stdout",
     "output_type": "stream",
     "text": [
      "[1] \"Num Estaciones:  63\"\n",
      "[1] \"Pares (Estacion, contaminante):  209\"\n"
     ]
    }
   ],
   "source": [
    "print(paste(\"Num Estaciones: \", \n",
    "            length(levels(as.factor(sites.hvyr$site)))\n",
    "            )\n",
    "     )\n",
    "\n",
    "print(paste(\"Pares (Estacion, contaminante): \", \n",
    "            nrow(sites.hvyr)\n",
    "            )\n",
    "     )"
   ]
  },
  {
   "cell_type": "code",
   "execution_count": 18,
   "metadata": {},
   "outputs": [
    {
     "name": "stdout",
     "output_type": "stream",
     "text": [
      "[1] \"Estaciones Perdidas: \"\n",
      "[1] \"    es0041a: DIRECCIÓN DE SALUD\"\n",
      "[1] \"    es1836a: LAS FUENTES\"\n",
      "[1] \"    es1837a: CENTRO\"\n",
      "[1] \"no: 3\"\n",
      "[1] \"no2: 4\"\n",
      "[1] \"o3: 7\"\n",
      "[1] \"pm10: 7\"\n",
      "[1] \"pm2.5: 9\"\n"
     ]
    }
   ],
   "source": [
    "no.sites.hvyr <- sites.hvmin[sites.hvmin$mss.yr > 1, ]\n",
    "\n",
    "stations <- get.miss.stations(sites.hvyr, no.sites.hvyr)\n",
    "pollut <- count.miss.pollutant(no.sites.hvyr)\n",
    "\n",
    "print(\"Estaciones Perdidas: \")\n",
    "for (i in 1:nrow(stations)) {\n",
    "    print(paste(\"    \", \n",
    "                stations[i, \"site\"], \": \",\n",
    "                stations[i, \"site_name\"], sep=\"\"))\n",
    "}\n",
    "\n",
    "\n",
    "for (i in 1:length(pollut)) {\n",
    "    print(paste(names(pollut[i]), pollut[[i]], sep=\": \"))\n",
    "}"
   ]
  },
  {
   "cell_type": "code",
   "execution_count": 19,
   "metadata": {},
   "outputs": [
    {
     "data": {
      "text/html": [
       "<table>\n",
       "<caption>A data.frame: 5 × 8</caption>\n",
       "<thead>\n",
       "\t<tr><th></th><th scope=col>site</th><th scope=col>Pollutant</th><th scope=col>start_yr</th><th scope=col>end_yr</th><th scope=col>hv.min</th><th scope=col>mss.wk</th><th scope=col>mss.mnth</th><th scope=col>mss.yr</th></tr>\n",
       "\t<tr><th></th><th scope=col>&lt;chr&gt;</th><th scope=col>&lt;chr&gt;</th><th scope=col>&lt;chr&gt;</th><th scope=col>&lt;chr&gt;</th><th scope=col>&lt;lgl&gt;</th><th scope=col>&lt;int&gt;</th><th scope=col>&lt;int&gt;</th><th scope=col>&lt;int&gt;</th></tr>\n",
       "</thead>\n",
       "<tbody>\n",
       "\t<tr><th scope=row>265</th><td>es0118a</td><td>pm2.5</td><td>2013-01-01</td><td>2020-12-30</td><td>TRUE</td><td>5</td><td>1</td><td>1</td></tr>\n",
       "\t<tr><th scope=row>266</th><td>es0118a</td><td>pm10 </td><td>2013-01-01</td><td>2020-12-30</td><td>TRUE</td><td>4</td><td>1</td><td>1</td></tr>\n",
       "\t<tr><th scope=row>267</th><td>es0118a</td><td>o3   </td><td>2013-01-01</td><td>2020-12-30</td><td>TRUE</td><td>1</td><td>1</td><td>1</td></tr>\n",
       "\t<tr><th scope=row>268</th><td>es0118a</td><td>no2  </td><td>2013-01-01</td><td>2020-12-30</td><td>TRUE</td><td>1</td><td>1</td><td>1</td></tr>\n",
       "\t<tr><th scope=row>269</th><td>es0118a</td><td>no   </td><td>2013-01-01</td><td>2020-12-30</td><td>TRUE</td><td>1</td><td>1</td><td>1</td></tr>\n",
       "</tbody>\n",
       "</table>\n"
      ],
      "text/latex": [
       "A data.frame: 5 × 8\n",
       "\\begin{tabular}{r|llllllll}\n",
       "  & site & Pollutant & start\\_yr & end\\_yr & hv.min & mss.wk & mss.mnth & mss.yr\\\\\n",
       "  & <chr> & <chr> & <chr> & <chr> & <lgl> & <int> & <int> & <int>\\\\\n",
       "\\hline\n",
       "\t265 & es0118a & pm2.5 & 2013-01-01 & 2020-12-30 & TRUE & 5 & 1 & 1\\\\\n",
       "\t266 & es0118a & pm10  & 2013-01-01 & 2020-12-30 & TRUE & 4 & 1 & 1\\\\\n",
       "\t267 & es0118a & o3    & 2013-01-01 & 2020-12-30 & TRUE & 1 & 1 & 1\\\\\n",
       "\t268 & es0118a & no2   & 2013-01-01 & 2020-12-30 & TRUE & 1 & 1 & 1\\\\\n",
       "\t269 & es0118a & no    & 2013-01-01 & 2020-12-30 & TRUE & 1 & 1 & 1\\\\\n",
       "\\end{tabular}\n"
      ],
      "text/markdown": [
       "\n",
       "A data.frame: 5 × 8\n",
       "\n",
       "| <!--/--> | site &lt;chr&gt; | Pollutant &lt;chr&gt; | start_yr &lt;chr&gt; | end_yr &lt;chr&gt; | hv.min &lt;lgl&gt; | mss.wk &lt;int&gt; | mss.mnth &lt;int&gt; | mss.yr &lt;int&gt; |\n",
       "|---|---|---|---|---|---|---|---|---|\n",
       "| 265 | es0118a | pm2.5 | 2013-01-01 | 2020-12-30 | TRUE | 5 | 1 | 1 |\n",
       "| 266 | es0118a | pm10  | 2013-01-01 | 2020-12-30 | TRUE | 4 | 1 | 1 |\n",
       "| 267 | es0118a | o3    | 2013-01-01 | 2020-12-30 | TRUE | 1 | 1 | 1 |\n",
       "| 268 | es0118a | no2   | 2013-01-01 | 2020-12-30 | TRUE | 1 | 1 | 1 |\n",
       "| 269 | es0118a | no    | 2013-01-01 | 2020-12-30 | TRUE | 1 | 1 | 1 |\n",
       "\n"
      ],
      "text/plain": [
       "    site    Pollutant start_yr   end_yr     hv.min mss.wk mss.mnth mss.yr\n",
       "265 es0118a pm2.5     2013-01-01 2020-12-30 TRUE   5      1        1     \n",
       "266 es0118a pm10      2013-01-01 2020-12-30 TRUE   4      1        1     \n",
       "267 es0118a o3        2013-01-01 2020-12-30 TRUE   1      1        1     \n",
       "268 es0118a no2       2013-01-01 2020-12-30 TRUE   1      1        1     \n",
       "269 es0118a no        2013-01-01 2020-12-30 TRUE   1      1        1     "
      ]
     },
     "metadata": {},
     "output_type": "display_data"
    }
   ],
   "source": [
    "info.sitesAQ[info.sitesAQ$site == \"es0118a\",]"
   ]
  },
  {
   "cell_type": "code",
   "execution_count": null,
   "metadata": {},
   "outputs": [],
   "source": []
  }
 ],
 "metadata": {
  "kernelspec": {
   "display_name": "R",
   "language": "R",
   "name": "ir"
  },
  "language_info": {
   "codemirror_mode": "r",
   "file_extension": ".r",
   "mimetype": "text/x-r-source",
   "name": "R",
   "pygments_lexer": "r",
   "version": "4.0.3"
  }
 },
 "nbformat": 4,
 "nbformat_minor": 4
}
