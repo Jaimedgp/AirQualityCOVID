{
 "cells": [
  {
   "cell_type": "markdown",
   "metadata": {},
   "source": [
    "# Curation Estaciones Calidad del Aire\n",
    "\n",
    "Estudiar de que contaminantes no hay datos suficientes para el estudio en cada estacion. Se ha de comprobar que hay datos ($> 90\\%$) durante el periodo de interes (`1-Enero-2020` <=> `30-Junio-2020`). Tambien se comprueban si hay intervalos largos de tiempo sin datos, utilizando una resolucion minima semanal, mensual y anual.\n",
    "\n",
    "|   site   |  Pollutant   |   start_yr   |    end_yr    | hv.min  | missing.wk | missing.mnth | missing.yr |\n",
    "|----------|--------------|--------------|--------------|---------|------------|--------------|------------|\n",
    "| es0001a  |     no2      |  01-01-2015  |  02-01-2015  |  TRUE   |     34     |      2       |     0      |\n",
    "| es0001a  |     no       |  01-01-2015  |  02-01-2015  |  TRUE   |     40     |     12       |     1      |\n",
    "| es0001a  |      o3      |  01-01-2015  |  02-01-2015  |  FALSE  |      4     |      0       |     0      |\n",
    "\n",
    "Puesto que el estudio completo incluye 67 estaciones, supondria demasiado tiempo de computacion, por lo que en este notebook solo se trabajara con 3 estaciones. El calculo completo de todas las estaciones se realiza en un script de ```R```"
   ]
  },
  {
   "cell_type": "code",
   "execution_count": 1,
   "metadata": {},
   "outputs": [],
   "source": [
    "setwd(\"~/Repositories/AirQualityCOVID/\")"
   ]
  },
  {
   "cell_type": "code",
   "execution_count": 2,
   "metadata": {},
   "outputs": [],
   "source": [
    "source(\"src/Curation/general.R\")"
   ]
  },
  {
   "cell_type": "markdown",
   "metadata": {},
   "source": [
    "## Funciones para filtrar datos"
   ]
  },
  {
   "cell_type": "code",
   "execution_count": 3,
   "metadata": {},
   "outputs": [],
   "source": [
    "suppressMessages(library(lubridate))\n",
    "suppressMessages(library(tidyverse))\n",
    "suppressMessages(library(plyr))"
   ]
  },
  {
   "cell_type": "code",
   "execution_count": 4,
   "metadata": {},
   "outputs": [],
   "source": [
    "have.2020 <- function(dataFrame, start_dt = ymd(\"2020-01-01\"),\n",
    "                                 end_dt = ymd(\"2020-06-30\")) {\n",
    "    \n",
    "    if (as_date(min(dataFrame$date)) > start_dt) {\n",
    "        boolean <- FALSE\n",
    "    } else if (as_date(max(dataFrame$date)) < end_dt) {\n",
    "        boolean <- FALSE\n",
    "    } else {\n",
    "        new.df <- dataFrame[dataFrame$date >= start_dt &\n",
    "                            dataFrame$date <= end_dt, ]\n",
    "\n",
    "        amount.data <- (sum(!is.na(new.df$value)) / length(new.df$value))\n",
    "\n",
    "        boolean <- amount.data >= 0.9\n",
    "    }\n",
    "    boolean\n",
    "}"
   ]
  },
  {
   "cell_type": "code",
   "execution_count": 5,
   "metadata": {},
   "outputs": [],
   "source": [
    "get.missing <- function(dataFrame, unit=\"week\", \n",
    "                                   start_dt=ymd(\"2013-01-01\"), \n",
    "                                   end_dt=ymd(\"2020-12-31\")) {\n",
    "    \n",
    "    conversion <- list(\"hour\" = 3600,\n",
    "                       \"day\" = 3600*24,\n",
    "                       \"week\" = 3600*24*7,\n",
    "                       \"month\" = (3600*24*365)/12,\n",
    "                       \"year\" = 3600*24*365\n",
    "                       )\n",
    "    \n",
    "    new.df <- group.by.date(list(\"value\"=dataFrame$value),\n",
    "                            list(\"date\"=dataFrame$date),\n",
    "                            dataFrame, unit=unit, FUN=mean)\n",
    "    period <- (interval(round_date(start_dt, unit=unit),\n",
    "                        round_date(end_dt, unit=unit)\n",
    "                       )\n",
    "               / conversion[[unit]])\n",
    "    \n",
    "    amount <- as.integer(period) - sum(!is.na(new.df$value))\n",
    "    if (amount == -1) {\n",
    "        amount + 1\n",
    "    } else {\n",
    "        amount\n",
    "    }\n",
    "}"
   ]
  },
  {
   "cell_type": "code",
   "execution_count": 6,
   "metadata": {},
   "outputs": [],
   "source": [
    "info_sitesAQ <- function(pollut, st, start_dt, end_dt) {\n",
    "    dataAQPLL <- get.AQdata(site=st, pollutant=pollut, \n",
    "                                start_dt = start_dt, end_dt=end_dt,\n",
    "                                data.by.file=FALSE)\n",
    "    \n",
    "        if (nrow(dataAQPLL) > 0) {\n",
    "            start_yr <- as_date(min(dataAQPLL$date))\n",
    "            end_yr <- as_date(max(dataAQPLL$date))\n",
    "            \n",
    "            hv.min <- have.2020(dataAQPLL)\n",
    "\n",
    "            mss.wk <- get.missing(dataAQPLL, unit=\"week\")\n",
    "            mss.mnth <- get.missing(dataAQPLL, unit=\"month\")\n",
    "            mss.yr <- get.missing(dataAQPLL, unit=\"year\")\n",
    "\n",
    "            new.row <- data.frame(site=st, Pollutant=pollut, \n",
    "                                  start_yr, end_yr,\n",
    "                                  hv.min, mss.wk, mss.mnth, mss.yr)\n",
    "            new.row\n",
    "        }\n",
    "}"
   ]
  },
  {
   "cell_type": "markdown",
   "metadata": {},
   "source": [
    "## Estaciones de Calidad del Aire para el estudio"
   ]
  },
  {
   "cell_type": "code",
   "execution_count": 7,
   "metadata": {},
   "outputs": [],
   "source": [
    "all.sites <- read.csv(\"data/Curation/AirQuality/sitesAQ.csv\",\n",
    "                      stringsAsFactor=TRUE)\n",
    "\n",
    "sites.lv <- levels(all.sites$site)[1:3]\n",
    "pollutants.lv <- c(\"no\", \"no2\", \"o3\", \"pm10\", \"pm2.5\")"
   ]
  },
  {
   "cell_type": "markdown",
   "metadata": {},
   "source": [
    "## Informacion Relevante"
   ]
  },
  {
   "cell_type": "markdown",
   "metadata": {},
   "source": [
    "```R\n",
    "all.info <- data.frame()\n",
    "\n",
    "for (st in sites.lv) {\n",
    "    for (pll in pollutants.lv) {\n",
    "        dataAQPLL <- get.AQdata(site=st, pollutant=pll, \n",
    "                                start_dt = ymd(\"2013-01-01\"), end_dt=ymd(\"2020-12-31\"),\n",
    "                                data.by.file=FALSE)\n",
    "        if (nrow(dataAQPLL) > 0) {\n",
    "            start_yr <- as_date(min(dataAQPLL$date))\n",
    "            end_yr <- as_date(max(dataAQPLL$date))\n",
    "            \n",
    "            hv.min <- have.2020(dataAQPLL)\n",
    "\n",
    "            mss.wk <- get.missing(dataAQPLL, unit=\"week\")\n",
    "            mss.mnth <- get.missing(dataAQPLL, unit=\"month\")\n",
    "            mss.yr <- get.missing(dataAQPLL, unit=\"year\")\n",
    "\n",
    "            new.row <- data.frame(site=st, Pollutant=pll, \n",
    "                                  start_yr, end_yr,\n",
    "                                  hv.min, mss.wk, mss.mnth, mss.yr)\n",
    "            all.info <- rbind(new.row, all.info)\n",
    "        }\n",
    "    }\n",
    "}\n",
    "```"
   ]
  },
  {
   "cell_type": "code",
   "execution_count": 8,
   "metadata": {},
   "outputs": [],
   "source": [
    "all.info <- do.call(rbind.fill, \n",
    "                    lapply(sites.lv, \n",
    "                           function(st, polluts){\n",
    "                               do.call(rbind.fill,\n",
    "                                       lapply(polluts, \n",
    "                                              info_sitesAQ, \n",
    "                                              st, ymd(\"2013-01-01\"), \n",
    "                                              ymd(\"2020-12-31\"))\n",
    "                                      )\n",
    "                           }, pollutants.lv)\n",
    "                   )"
   ]
  },
  {
   "cell_type": "code",
   "execution_count": 9,
   "metadata": {},
   "outputs": [
    {
     "data": {
      "text/html": [
       "<table>\n",
       "<caption>A data.frame: 6 × 8</caption>\n",
       "<thead>\n",
       "\t<tr><th></th><th scope=col>site</th><th scope=col>Pollutant</th><th scope=col>start_yr</th><th scope=col>end_yr</th><th scope=col>hv.min</th><th scope=col>mss.wk</th><th scope=col>mss.mnth</th><th scope=col>mss.yr</th></tr>\n",
       "\t<tr><th></th><th scope=col>&lt;fct&gt;</th><th scope=col>&lt;fct&gt;</th><th scope=col>&lt;date&gt;</th><th scope=col>&lt;date&gt;</th><th scope=col>&lt;lgl&gt;</th><th scope=col>&lt;int&gt;</th><th scope=col>&lt;int&gt;</th><th scope=col>&lt;int&gt;</th></tr>\n",
       "</thead>\n",
       "<tbody>\n",
       "\t<tr><th scope=row>1</th><td>es0041a</td><td>no2  </td><td>2017-01-01</td><td>2020-12-30</td><td> TRUE</td><td>214</td><td>48</td><td>4</td></tr>\n",
       "\t<tr><th scope=row>2</th><td>es0041a</td><td>pm10 </td><td>2017-01-01</td><td>2020-12-30</td><td> TRUE</td><td>211</td><td>48</td><td>4</td></tr>\n",
       "\t<tr><th scope=row>3</th><td>es0041a</td><td>pm2.5</td><td>2020-02-27</td><td>2020-12-31</td><td>FALSE</td><td>375</td><td>85</td><td>7</td></tr>\n",
       "\t<tr><th scope=row>4</th><td>es0110a</td><td>no   </td><td>2014-01-01</td><td>2020-12-31</td><td> TRUE</td><td> 66</td><td>15</td><td>1</td></tr>\n",
       "\t<tr><th scope=row>5</th><td>es0110a</td><td>no2  </td><td>2014-01-01</td><td>2020-12-31</td><td> TRUE</td><td> 66</td><td>15</td><td>1</td></tr>\n",
       "\t<tr><th scope=row>6</th><td>es0110a</td><td>pm10 </td><td>2014-04-30</td><td>2020-12-31</td><td> TRUE</td><td> 69</td><td>15</td><td>1</td></tr>\n",
       "</tbody>\n",
       "</table>\n"
      ],
      "text/latex": [
       "A data.frame: 6 × 8\n",
       "\\begin{tabular}{r|llllllll}\n",
       "  & site & Pollutant & start\\_yr & end\\_yr & hv.min & mss.wk & mss.mnth & mss.yr\\\\\n",
       "  & <fct> & <fct> & <date> & <date> & <lgl> & <int> & <int> & <int>\\\\\n",
       "\\hline\n",
       "\t1 & es0041a & no2   & 2017-01-01 & 2020-12-30 &  TRUE & 214 & 48 & 4\\\\\n",
       "\t2 & es0041a & pm10  & 2017-01-01 & 2020-12-30 &  TRUE & 211 & 48 & 4\\\\\n",
       "\t3 & es0041a & pm2.5 & 2020-02-27 & 2020-12-31 & FALSE & 375 & 85 & 7\\\\\n",
       "\t4 & es0110a & no    & 2014-01-01 & 2020-12-31 &  TRUE &  66 & 15 & 1\\\\\n",
       "\t5 & es0110a & no2   & 2014-01-01 & 2020-12-31 &  TRUE &  66 & 15 & 1\\\\\n",
       "\t6 & es0110a & pm10  & 2014-04-30 & 2020-12-31 &  TRUE &  69 & 15 & 1\\\\\n",
       "\\end{tabular}\n"
      ],
      "text/markdown": [
       "\n",
       "A data.frame: 6 × 8\n",
       "\n",
       "| <!--/--> | site &lt;fct&gt; | Pollutant &lt;fct&gt; | start_yr &lt;date&gt; | end_yr &lt;date&gt; | hv.min &lt;lgl&gt; | mss.wk &lt;int&gt; | mss.mnth &lt;int&gt; | mss.yr &lt;int&gt; |\n",
       "|---|---|---|---|---|---|---|---|---|\n",
       "| 1 | es0041a | no2   | 2017-01-01 | 2020-12-30 |  TRUE | 214 | 48 | 4 |\n",
       "| 2 | es0041a | pm10  | 2017-01-01 | 2020-12-30 |  TRUE | 211 | 48 | 4 |\n",
       "| 3 | es0041a | pm2.5 | 2020-02-27 | 2020-12-31 | FALSE | 375 | 85 | 7 |\n",
       "| 4 | es0110a | no    | 2014-01-01 | 2020-12-31 |  TRUE |  66 | 15 | 1 |\n",
       "| 5 | es0110a | no2   | 2014-01-01 | 2020-12-31 |  TRUE |  66 | 15 | 1 |\n",
       "| 6 | es0110a | pm10  | 2014-04-30 | 2020-12-31 |  TRUE |  69 | 15 | 1 |\n",
       "\n"
      ],
      "text/plain": [
       "  site    Pollutant start_yr   end_yr     hv.min mss.wk mss.mnth mss.yr\n",
       "1 es0041a no2       2017-01-01 2020-12-30  TRUE  214    48       4     \n",
       "2 es0041a pm10      2017-01-01 2020-12-30  TRUE  211    48       4     \n",
       "3 es0041a pm2.5     2020-02-27 2020-12-31 FALSE  375    85       7     \n",
       "4 es0110a no        2014-01-01 2020-12-31  TRUE   66    15       1     \n",
       "5 es0110a no2       2014-01-01 2020-12-31  TRUE   66    15       1     \n",
       "6 es0110a pm10      2014-04-30 2020-12-31  TRUE   69    15       1     "
      ]
     },
     "metadata": {},
     "output_type": "display_data"
    }
   ],
   "source": [
    "head(all.info)"
   ]
  },
  {
   "cell_type": "markdown",
   "metadata": {},
   "source": [
    "### Guardar Datos en csv <a id=\"saveAQ\"></a>"
   ]
  },
  {
   "cell_type": "markdown",
   "metadata": {},
   "source": [
    "```R\n",
    "write.csv(all.info, \n",
    "          \"data/Curation/AirQuality/info_sitesAQ.csv\", row.names=FALSE)\n",
    "```"
   ]
  },
  {
   "cell_type": "code",
   "execution_count": null,
   "metadata": {},
   "outputs": [],
   "source": []
  }
 ],
 "metadata": {
  "kernelspec": {
   "display_name": "R",
   "language": "R",
   "name": "ir"
  },
  "language_info": {
   "codemirror_mode": "r",
   "file_extension": ".r",
   "mimetype": "text/x-r-source",
   "name": "R",
   "pygments_lexer": "r",
   "version": "3.6.3"
  }
 },
 "nbformat": 4,
 "nbformat_minor": 4
}
