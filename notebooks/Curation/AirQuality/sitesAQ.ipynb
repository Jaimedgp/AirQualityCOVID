{
 "cells": [
  {
   "cell_type": "markdown",
   "metadata": {},
   "source": [
    "# Estaciones de Calidad del Aire"
   ]
  },
  {
   "cell_type": "markdown",
   "metadata": {},
   "source": [
    "## Configuracion del notebook <a id=\"config\"></a>"
   ]
  },
  {
   "cell_type": "markdown",
   "metadata": {},
   "source": [
    "Cargamos todos los paquetes necesarios para ejecutar el notebook"
   ]
  },
  {
   "cell_type": "code",
   "execution_count": 1,
   "metadata": {},
   "outputs": [],
   "source": [
    "setwd(\"~/Repositories/AirQualityCOVID/\")"
   ]
  },
  {
   "cell_type": "code",
   "execution_count": 2,
   "metadata": {},
   "outputs": [],
   "source": [
    "# Loading\n",
    "suppressMessages(library(saqgetr))\n",
    "suppressMessages(library(tidyverse))\n",
    "suppressMessages(library(lubridate))\n",
    "suppressMessages(library(openxlsx))"
   ]
  },
  {
   "cell_type": "markdown",
   "metadata": {},
   "source": [
    "## Datos geograficos de las estaciones <a id=\"estacionGeo\"></a>\n",
    "\n",
    "Seleccionamos aquellas estaciones que se encuentren en un núcleo con una\n",
    "población mayor o igual a cien mil habitantes `poblacion >= 100 000 hab`.\n",
    "\n",
    "En la hoja 8 `ciudades-100000-A-JA` de la base de datos de poblaciones (`estaciones-CA.xlsx`) aparecen todas las estaciones de trafico de las ciudades de mas de 100000 habitantes con sus nombres."
   ]
  },
  {
   "cell_type": "code",
   "execution_count": 3,
   "metadata": {},
   "outputs": [],
   "source": [
    "file <- \"data/xlsx/estaciones-CA-JA.xlsx\"\n",
    "sheets <- c(\"todas\", \"traffic\", \"traffic-urban\", \"traffic-urban-2020\",\n",
    "            \"traffic-suburban\", \"traffic-suburban-2020\",\n",
    "            \"ciudades-100000\", \"ciudades-100000-A\")\n",
    "# xlsx files\n",
    "sites.100mil <- read.xlsx(file, sheet=sheets[8])"
   ]
  },
  {
   "cell_type": "markdown",
   "metadata": {},
   "source": [
    "#### Datos de las estaciones de `saqgetr` <a id=\"estacionesSaqgetr\"></a>\n",
    "\n",
    "Importamos la informacion de las estaciones de calidad de aire de españa obtenidas de la base de datos y filtramos segun los criterios de estudio.\n",
    "\n",
    "| Variable | Valores |\n",
    "|-------|-----------|\n",
    "|Contaminantes| $NO$, $NO_2$, $O_3$, $PM_{10}$|\n",
    "|Fecha Inicio| 01 Enero 2015 |\n",
    "|Fecha Final | 31 Diciembre 2020 |\n",
    "| Site Type | traffic |\n",
    "|site area | urban |"
   ]
  },
  {
   "cell_type": "code",
   "execution_count": 4,
   "metadata": {},
   "outputs": [],
   "source": [
    "# fechas de inicio y final de toma de datos\n",
    "start_dt <- ymd_hms(\"2013-01-01 00:00:00\")"
   ]
  },
  {
   "cell_type": "code",
   "execution_count": 5,
   "metadata": {},
   "outputs": [],
   "source": [
    "# obtener datos de CA de España. Salen los códigos de las estaciones\n",
    "# de Calidad de aire (941)\n",
    "spain.sites <- get_saq_sites() %>%\n",
    "    filter(country == \"spain\",\n",
    "           site %in% sites.100mil$\"Código.estación\",\n",
    "           site_type == \"traffic\",\n",
    "           site_area == \"urban\",\n",
    "           date_start <= start_dt,\n",
    "           #date_end >= end_dt,\n",
    "           ) %>%\n",
    "    select(site, site_name, latitude, longitude, elevation, \n",
    "           country, site_type, site_area, date_start, date_end)"
   ]
  },
  {
   "cell_type": "markdown",
   "metadata": {},
   "source": [
    "Agrupamos en un solo data.frame toda la informacion relevante de las estaciones de estudio"
   ]
  },
  {
   "cell_type": "code",
   "execution_count": 6,
   "metadata": {},
   "outputs": [
    {
     "ename": "ERROR",
     "evalue": "Error: Can't subset columns that don't exist.\n\u001b[31mx\u001b[39m Column `Poblaci<U+00F3>n` doesn't exist.\n",
     "output_type": "error",
     "traceback": [
      "Error: Can't subset columns that don't exist.\n\u001b[31mx\u001b[39m Column `Poblaci<U+00F3>n` doesn't exist.\nTraceback:\n",
      "1. sites.100mil %>% select(\"Municipio\", \"Poblaci<U+00F3>n\", \"Estaci<U+00F3>n.tr<U+00E1>fico\", \n .     \"C<U+00F3>digo.estaci<U+00F3>n\") %>% rename(site = \"C<U+00F3>digo.estaci<U+00F3>n\", \n .     )",
      "2. rename(., site = \"C<U+00F3>digo.estaci<U+00F3>n\", )",
      "3. select(., \"Municipio\", \"Poblaci<U+00F3>n\", \"Estaci<U+00F3>n.tr<U+00E1>fico\", \n .     \"C<U+00F3>digo.estaci<U+00F3>n\")",
      "4. select.data.frame(., \"Municipio\", \"Poblaci<U+00F3>n\", \"Estaci<U+00F3>n.tr<U+00E1>fico\", \n .     \"C<U+00F3>digo.estaci<U+00F3>n\")",
      "5. tidyselect::eval_select(expr(c(...)), .data)",
      "6. eval_select_impl(data, names(data), as_quosure(expr, env), include = include, \n .     exclude = exclude, strict = strict, name_spec = name_spec, \n .     allow_rename = allow_rename)",
      "7. with_subscript_errors(vars_select_eval(vars, expr, strict, data = x, \n .     name_spec = name_spec, uniquely_named = uniquely_named, allow_rename = allow_rename, \n .     type = type), type = type)",
      "8. tryCatch(instrument_base_errors(expr), vctrs_error_subscript = function(cnd) {\n .     cnd$subscript_action <- subscript_action(type)\n .     cnd$subscript_elt <- \"column\"\n .     cnd_signal(cnd)\n . })",
      "9. tryCatchList(expr, classes, parentenv, handlers)",
      "10. tryCatchOne(expr, names, parentenv, handlers[[1L]])",
      "11. value[[3L]](cond)",
      "12. cnd_signal(cnd)",
      "13. rlang:::signal_abort(x)"
     ]
    }
   ],
   "source": [
    "sites.geo <- sites.100mil %>%\n",
    "    select(\"Municipio\", \"Población\", \n",
    "           \"Estación.tráfico\", \"Código.estación\") %>%\n",
    "    rename(site = \"Código.estación\",)\n",
    "\n",
    "sitesAQ <- merge(x = spain.sites, y = sites.geo, by = \"site\", all.x = TRUE)\n",
    "head(sitesAQ)"
   ]
  },
  {
   "cell_type": "code",
   "execution_count": 8,
   "metadata": {},
   "outputs": [
    {
     "name": "stdout",
     "output_type": "stream",
     "text": [
      "[1] \"Se han eliminado 11 estaciones\"\n",
      "[1] \"Quedan 67 estaciones para el estudio\"\n"
     ]
    }
   ],
   "source": [
    "removed.sites <- (nrow(sites.100mil)-1) - nrow(sitesAQ)\n",
    "\n",
    "print(paste(\"Se han eliminado\", removed.sites, \"estaciones\"))\n",
    "print(paste(\"Quedan\", nrow(spain.sites), \"estaciones para el estudio\"))"
   ]
  },
  {
   "cell_type": "markdown",
   "metadata": {},
   "source": [
    "### Guardar Datos en csv <a id=\"saveAQ\"></a>"
   ]
  },
  {
   "cell_type": "markdown",
   "metadata": {},
   "source": [
    "```R\n",
    "write.csv(sitesAQ, \n",
    "          \"data/Curation/AirQuality/sitesAQ.csv\", row.names=FALSE)\n",
    "```"
   ]
  }
 ],
 "metadata": {
  "kernelspec": {
   "display_name": "R",
   "language": "R",
   "name": "ir"
  },
  "language_info": {
   "codemirror_mode": "r",
   "file_extension": ".r",
   "mimetype": "text/x-r-source",
   "name": "R",
   "pygments_lexer": "r",
   "version": "3.6.3"
  }
 },
 "nbformat": 4,
 "nbformat_minor": 4
}
