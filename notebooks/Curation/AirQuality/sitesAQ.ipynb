{
 "cells": [
  {
   "cell_type": "markdown",
   "metadata": {},
   "source": [
    "# Estaciones de Calidad del Aire"
   ]
  },
  {
   "cell_type": "markdown",
   "metadata": {},
   "source": [
    "## Configuracion del notebook <a id=\"config\"></a>"
   ]
  },
  {
   "cell_type": "markdown",
   "metadata": {},
   "source": [
    "Cargamos todos los paquetes necesarios para ejecutar el notebook"
   ]
  },
  {
   "cell_type": "code",
   "execution_count": 1,
   "metadata": {},
   "outputs": [],
   "source": [
    "setwd(\"~/Repositories/AirQualityCOVID/\")"
   ]
  },
  {
   "cell_type": "code",
   "execution_count": 2,
   "metadata": {},
   "outputs": [],
   "source": [
    "# Loading\n",
    "suppressMessages(library(saqgetr))\n",
    "suppressMessages(library(tidyverse))\n",
    "suppressMessages(library(lubridate))\n",
    "suppressMessages(library(openxlsx))"
   ]
  },
  {
   "cell_type": "markdown",
   "metadata": {},
   "source": [
    "## Datos geograficos de las estaciones <a id=\"estacionGeo\"></a>\n",
    "\n",
    "Seleccionamos aquellas estaciones que se encuentren en un núcleo con una\n",
    "población mayor o igual a cien mil habitantes `poblacion >= 100 000 hab`.\n",
    "\n",
    "En la hoja 8 `ciudades-100000-A-JA` de la base de datos de poblaciones (`estaciones-CA.xlsx`) aparecen todas las estaciones de trafico de las ciudades de mas de 100000 habitantes con sus nombres."
   ]
  },
  {
   "cell_type": "code",
   "execution_count": 3,
   "metadata": {},
   "outputs": [],
   "source": [
    "file <- \"data/xlsx/estaciones-CA-JA.xlsx\"\n",
    "sheets <- c(\"todas\", \"traffic\", \"traffic-urban\", \"traffic-urban-2020\",\n",
    "            \"traffic-suburban\", \"traffic-suburban-2020\",\n",
    "            \"ciudades-100000\", \"ciudades-100000-A\")\n",
    "# xlsx files\n",
    "sites.100mil <- read.xlsx(file, sheet=sheets[8])"
   ]
  },
  {
   "cell_type": "markdown",
   "metadata": {},
   "source": [
    "#### Datos de las estaciones de `saqgetr` <a id=\"estacionesSaqgetr\"></a>\n",
    "\n",
    "Importamos la informacion de las estaciones de calidad de aire de españa obtenidas de la base de datos y filtramos segun los criterios de estudio.\n",
    "\n",
    "| Variable | Valores |\n",
    "|-------|-----------|\n",
    "|Contaminantes| $NO$, $NO_2$, $O_3$, $PM_{10}$|\n",
    "|Fecha Inicio| 01 Enero 2015 |\n",
    "|Fecha Final | 31 Diciembre 2020 |\n",
    "| Site Type | traffic |\n",
    "|site area | urban |"
   ]
  },
  {
   "cell_type": "code",
   "execution_count": 4,
   "metadata": {},
   "outputs": [],
   "source": [
    "# contaminantes a estudiar\n",
    "pollutants <- c(\"no\", \"no2\", \"o3\", \"pm10\", \"pm2.5\")\n",
    "\n",
    "# fechas de inicio y final de toma de datos\n",
    "start_dt <- ymd_hms(\"2015-01-01 00:00:00\")\n",
    "end_dt <- ymd_hms(\"2020-12-31 00:00:00\")"
   ]
  },
  {
   "cell_type": "code",
   "execution_count": 5,
   "metadata": {},
   "outputs": [],
   "source": [
    "# obtener datos de CA de España. Salen los códigos de las estaciones\n",
    "# de Calidad de aire (941)\n",
    "spain.sites <- get_saq_sites() %>%\n",
    "    filter(country == \"spain\",\n",
    "           site %in% sites.100mil$\"Código.estación\",\n",
    "           site_type == \"traffic\",\n",
    "           site_area == \"urban\",\n",
    "           date_start <= start_dt,\n",
    "           #date_end >= end_dt,\n",
    "           ) %>%\n",
    "    select(site, site_name, latitude, longitude, elevation, \n",
    "           country, site_type, site_area, date_start, date_end)"
   ]
  },
  {
   "cell_type": "markdown",
   "metadata": {},
   "source": [
    "Agrupamos en un solo data.frame toda la informacion relevante de las estaciones de estudio"
   ]
  },
  {
   "cell_type": "code",
   "execution_count": 6,
   "metadata": {},
   "outputs": [
    {
     "data": {
      "text/html": [
       "<table>\n",
       "<caption>A data.frame: 6 × 13</caption>\n",
       "<thead>\n",
       "\t<tr><th></th><th scope=col>site</th><th scope=col>site_name</th><th scope=col>latitude</th><th scope=col>longitude</th><th scope=col>elevation</th><th scope=col>country</th><th scope=col>site_type</th><th scope=col>site_area</th><th scope=col>date_start</th><th scope=col>date_end</th><th scope=col>Municipio</th><th scope=col>Población</th><th scope=col>Estación.tráfico</th></tr>\n",
       "\t<tr><th></th><th scope=col>&lt;chr&gt;</th><th scope=col>&lt;chr&gt;</th><th scope=col>&lt;dbl&gt;</th><th scope=col>&lt;dbl&gt;</th><th scope=col>&lt;dbl&gt;</th><th scope=col>&lt;chr&gt;</th><th scope=col>&lt;chr&gt;</th><th scope=col>&lt;chr&gt;</th><th scope=col>&lt;dttm&gt;</th><th scope=col>&lt;dttm&gt;</th><th scope=col>&lt;chr&gt;</th><th scope=col>&lt;dbl&gt;</th><th scope=col>&lt;chr&gt;</th></tr>\n",
       "</thead>\n",
       "<tbody>\n",
       "\t<tr><th scope=row>1</th><td>es0041a</td><td>DIRECCIÓN DE SALUD</td><td>43.25883</td><td>-2.945650</td><td> 32</td><td>spain</td><td>traffic</td><td>urban</td><td>1986-04-01</td><td>2021-01-15 23:00:00</td><td>Bilbao </td><td> 346843</td><td>María Diaz de Haro</td></tr>\n",
       "\t<tr><th scope=row>2</th><td>es0110a</td><td>ERANDIO           </td><td>43.30268</td><td>-2.977240</td><td>  4</td><td>spain</td><td>traffic</td><td>urban</td><td>1997-01-01</td><td>2021-01-15 23:00:00</td><td>Bilbao </td><td>  24350</td><td>Erandio           </td></tr>\n",
       "\t<tr><th scope=row>3</th><td>es0115a</td><td>PLAZA DE ESPAÑA   </td><td>40.42417</td><td>-3.712222</td><td>637</td><td>spain</td><td>traffic</td><td>urban</td><td>1986-01-01</td><td>2021-01-16 00:00:00</td><td>Madrid </td><td>3266127</td><td>PLAZA DE ESPAÑA   </td></tr>\n",
       "\t<tr><th scope=row>4</th><td>es0118a</td><td>ESCUELAS AGUIRRE  </td><td>40.42167</td><td>-3.682222</td><td>672</td><td>spain</td><td>traffic</td><td>urban</td><td>2002-11-19</td><td>2020-12-30 06:00:00</td><td>Madrid </td><td>3266128</td><td>ESCUELAS AGUIRRE  </td></tr>\n",
       "\t<tr><th scope=row>5</th><td>es0120a</td><td>RAMÓN Y CAJAL     </td><td>40.45167</td><td>-3.677222</td><td>708</td><td>spain</td><td>traffic</td><td>urban</td><td>2002-01-01</td><td>2021-01-16 00:00:00</td><td>Madrid </td><td>3266129</td><td>RAMÓN Y CAJAL     </td></tr>\n",
       "\t<tr><th scope=row>6</th><td>es0817a</td><td>LA RANILLA        </td><td>37.38425</td><td>-5.959620</td><td> 29</td><td>spain</td><td>traffic</td><td>urban</td><td>1997-01-01</td><td>2021-01-16 00:00:00</td><td>Sevilla</td><td> 688593</td><td>LA RANILLA        </td></tr>\n",
       "</tbody>\n",
       "</table>\n"
      ],
      "text/latex": [
       "A data.frame: 6 × 13\n",
       "\\begin{tabular}{r|lllllllllllll}\n",
       "  & site & site\\_name & latitude & longitude & elevation & country & site\\_type & site\\_area & date\\_start & date\\_end & Municipio & Población & Estación.tráfico\\\\\n",
       "  & <chr> & <chr> & <dbl> & <dbl> & <dbl> & <chr> & <chr> & <chr> & <dttm> & <dttm> & <chr> & <dbl> & <chr>\\\\\n",
       "\\hline\n",
       "\t1 & es0041a & DIRECCIÓN DE SALUD & 43.25883 & -2.945650 &  32 & spain & traffic & urban & 1986-04-01 & 2021-01-15 23:00:00 & Bilbao  &  346843 & María Diaz de Haro\\\\\n",
       "\t2 & es0110a & ERANDIO            & 43.30268 & -2.977240 &   4 & spain & traffic & urban & 1997-01-01 & 2021-01-15 23:00:00 & Bilbao  &   24350 & Erandio           \\\\\n",
       "\t3 & es0115a & PLAZA DE ESPAÑA    & 40.42417 & -3.712222 & 637 & spain & traffic & urban & 1986-01-01 & 2021-01-16 00:00:00 & Madrid  & 3266127 & PLAZA DE ESPAÑA   \\\\\n",
       "\t4 & es0118a & ESCUELAS AGUIRRE   & 40.42167 & -3.682222 & 672 & spain & traffic & urban & 2002-11-19 & 2020-12-30 06:00:00 & Madrid  & 3266128 & ESCUELAS AGUIRRE  \\\\\n",
       "\t5 & es0120a & RAMÓN Y CAJAL      & 40.45167 & -3.677222 & 708 & spain & traffic & urban & 2002-01-01 & 2021-01-16 00:00:00 & Madrid  & 3266129 & RAMÓN Y CAJAL     \\\\\n",
       "\t6 & es0817a & LA RANILLA         & 37.38425 & -5.959620 &  29 & spain & traffic & urban & 1997-01-01 & 2021-01-16 00:00:00 & Sevilla &  688593 & LA RANILLA        \\\\\n",
       "\\end{tabular}\n"
      ],
      "text/markdown": [
       "\n",
       "A data.frame: 6 × 13\n",
       "\n",
       "| <!--/--> | site &lt;chr&gt; | site_name &lt;chr&gt; | latitude &lt;dbl&gt; | longitude &lt;dbl&gt; | elevation &lt;dbl&gt; | country &lt;chr&gt; | site_type &lt;chr&gt; | site_area &lt;chr&gt; | date_start &lt;dttm&gt; | date_end &lt;dttm&gt; | Municipio &lt;chr&gt; | Población &lt;dbl&gt; | Estación.tráfico &lt;chr&gt; |\n",
       "|---|---|---|---|---|---|---|---|---|---|---|---|---|---|\n",
       "| 1 | es0041a | DIRECCIÓN DE SALUD | 43.25883 | -2.945650 |  32 | spain | traffic | urban | 1986-04-01 | 2021-01-15 23:00:00 | Bilbao  |  346843 | María Diaz de Haro |\n",
       "| 2 | es0110a | ERANDIO            | 43.30268 | -2.977240 |   4 | spain | traffic | urban | 1997-01-01 | 2021-01-15 23:00:00 | Bilbao  |   24350 | Erandio            |\n",
       "| 3 | es0115a | PLAZA DE ESPAÑA    | 40.42417 | -3.712222 | 637 | spain | traffic | urban | 1986-01-01 | 2021-01-16 00:00:00 | Madrid  | 3266127 | PLAZA DE ESPAÑA    |\n",
       "| 4 | es0118a | ESCUELAS AGUIRRE   | 40.42167 | -3.682222 | 672 | spain | traffic | urban | 2002-11-19 | 2020-12-30 06:00:00 | Madrid  | 3266128 | ESCUELAS AGUIRRE   |\n",
       "| 5 | es0120a | RAMÓN Y CAJAL      | 40.45167 | -3.677222 | 708 | spain | traffic | urban | 2002-01-01 | 2021-01-16 00:00:00 | Madrid  | 3266129 | RAMÓN Y CAJAL      |\n",
       "| 6 | es0817a | LA RANILLA         | 37.38425 | -5.959620 |  29 | spain | traffic | urban | 1997-01-01 | 2021-01-16 00:00:00 | Sevilla |  688593 | LA RANILLA         |\n",
       "\n"
      ],
      "text/plain": [
       "  site    site_name          latitude longitude elevation country site_type\n",
       "1 es0041a DIRECCIÓN DE SALUD 43.25883 -2.945650  32       spain   traffic  \n",
       "2 es0110a ERANDIO            43.30268 -2.977240   4       spain   traffic  \n",
       "3 es0115a PLAZA DE ESPAÑA    40.42417 -3.712222 637       spain   traffic  \n",
       "4 es0118a ESCUELAS AGUIRRE   40.42167 -3.682222 672       spain   traffic  \n",
       "5 es0120a RAMÓN Y CAJAL      40.45167 -3.677222 708       spain   traffic  \n",
       "6 es0817a LA RANILLA         37.38425 -5.959620  29       spain   traffic  \n",
       "  site_area date_start date_end            Municipio Población\n",
       "1 urban     1986-04-01 2021-01-15 23:00:00 Bilbao     346843  \n",
       "2 urban     1997-01-01 2021-01-15 23:00:00 Bilbao      24350  \n",
       "3 urban     1986-01-01 2021-01-16 00:00:00 Madrid    3266127  \n",
       "4 urban     2002-11-19 2020-12-30 06:00:00 Madrid    3266128  \n",
       "5 urban     2002-01-01 2021-01-16 00:00:00 Madrid    3266129  \n",
       "6 urban     1997-01-01 2021-01-16 00:00:00 Sevilla    688593  \n",
       "  Estación.tráfico  \n",
       "1 María Diaz de Haro\n",
       "2 Erandio           \n",
       "3 PLAZA DE ESPAÑA   \n",
       "4 ESCUELAS AGUIRRE  \n",
       "5 RAMÓN Y CAJAL     \n",
       "6 LA RANILLA        "
      ]
     },
     "metadata": {},
     "output_type": "display_data"
    }
   ],
   "source": [
    "sites.geo <- sites.100mil %>%\n",
    "    select(\"Municipio\", \"Población\", \n",
    "           \"Estación.tráfico\", \"Código.estación\") %>%\n",
    "    rename(site = \"Código.estación\",)\n",
    "\n",
    "sitesAQ <- merge(x = spain.sites, y = sites.geo, by = \"site\", all.x = TRUE)\n",
    "head(sitesAQ)"
   ]
  },
  {
   "cell_type": "code",
   "execution_count": 7,
   "metadata": {},
   "outputs": [
    {
     "data": {
      "text/html": [
       "<table>\n",
       "<caption>A data.frame: 6 × 13</caption>\n",
       "<thead>\n",
       "\t<tr><th></th><th scope=col>site</th><th scope=col>site_name</th><th scope=col>latitude</th><th scope=col>longitude</th><th scope=col>elevation</th><th scope=col>country</th><th scope=col>site_type</th><th scope=col>site_area</th><th scope=col>date_start</th><th scope=col>date_end</th><th scope=col>Municipio</th><th scope=col>Población</th><th scope=col>Estación.tráfico</th></tr>\n",
       "\t<tr><th></th><th scope=col>&lt;chr&gt;</th><th scope=col>&lt;chr&gt;</th><th scope=col>&lt;dbl&gt;</th><th scope=col>&lt;dbl&gt;</th><th scope=col>&lt;dbl&gt;</th><th scope=col>&lt;chr&gt;</th><th scope=col>&lt;chr&gt;</th><th scope=col>&lt;chr&gt;</th><th scope=col>&lt;dttm&gt;</th><th scope=col>&lt;dttm&gt;</th><th scope=col>&lt;chr&gt;</th><th scope=col>&lt;dbl&gt;</th><th scope=col>&lt;chr&gt;</th></tr>\n",
       "</thead>\n",
       "<tbody>\n",
       "\t<tr><th scope=row>1</th><td>es0041a</td><td>DIRECCIÓN DE SALUD</td><td>43.25883</td><td>-2.945650</td><td> 32</td><td>spain</td><td>traffic</td><td>urban</td><td>1986-04-01</td><td>2021-01-15 23:00:00</td><td>Bilbao </td><td> 346843</td><td>María Diaz de Haro</td></tr>\n",
       "\t<tr><th scope=row>2</th><td>es0110a</td><td>ERANDIO           </td><td>43.30268</td><td>-2.977240</td><td>  4</td><td>spain</td><td>traffic</td><td>urban</td><td>1997-01-01</td><td>2021-01-15 23:00:00</td><td>Bilbao </td><td>  24350</td><td>Erandio           </td></tr>\n",
       "\t<tr><th scope=row>3</th><td>es0115a</td><td>PLAZA DE ESPAÑA   </td><td>40.42417</td><td>-3.712222</td><td>637</td><td>spain</td><td>traffic</td><td>urban</td><td>1986-01-01</td><td>2021-01-16 00:00:00</td><td>Madrid </td><td>3266127</td><td>PLAZA DE ESPAÑA   </td></tr>\n",
       "\t<tr><th scope=row>4</th><td>es0118a</td><td>ESCUELAS AGUIRRE  </td><td>40.42167</td><td>-3.682222</td><td>672</td><td>spain</td><td>traffic</td><td>urban</td><td>2002-11-19</td><td>2020-12-30 06:00:00</td><td>Madrid </td><td>3266128</td><td>ESCUELAS AGUIRRE  </td></tr>\n",
       "\t<tr><th scope=row>5</th><td>es0120a</td><td>RAMÓN Y CAJAL     </td><td>40.45167</td><td>-3.677222</td><td>708</td><td>spain</td><td>traffic</td><td>urban</td><td>2002-01-01</td><td>2021-01-16 00:00:00</td><td>Madrid </td><td>3266129</td><td>RAMÓN Y CAJAL     </td></tr>\n",
       "\t<tr><th scope=row>6</th><td>es0817a</td><td>LA RANILLA        </td><td>37.38425</td><td>-5.959620</td><td> 29</td><td>spain</td><td>traffic</td><td>urban</td><td>1997-01-01</td><td>2021-01-16 00:00:00</td><td>Sevilla</td><td> 688593</td><td>LA RANILLA        </td></tr>\n",
       "</tbody>\n",
       "</table>\n"
      ],
      "text/latex": [
       "A data.frame: 6 × 13\n",
       "\\begin{tabular}{r|lllllllllllll}\n",
       "  & site & site\\_name & latitude & longitude & elevation & country & site\\_type & site\\_area & date\\_start & date\\_end & Municipio & Población & Estación.tráfico\\\\\n",
       "  & <chr> & <chr> & <dbl> & <dbl> & <dbl> & <chr> & <chr> & <chr> & <dttm> & <dttm> & <chr> & <dbl> & <chr>\\\\\n",
       "\\hline\n",
       "\t1 & es0041a & DIRECCIÓN DE SALUD & 43.25883 & -2.945650 &  32 & spain & traffic & urban & 1986-04-01 & 2021-01-15 23:00:00 & Bilbao  &  346843 & María Diaz de Haro\\\\\n",
       "\t2 & es0110a & ERANDIO            & 43.30268 & -2.977240 &   4 & spain & traffic & urban & 1997-01-01 & 2021-01-15 23:00:00 & Bilbao  &   24350 & Erandio           \\\\\n",
       "\t3 & es0115a & PLAZA DE ESPAÑA    & 40.42417 & -3.712222 & 637 & spain & traffic & urban & 1986-01-01 & 2021-01-16 00:00:00 & Madrid  & 3266127 & PLAZA DE ESPAÑA   \\\\\n",
       "\t4 & es0118a & ESCUELAS AGUIRRE   & 40.42167 & -3.682222 & 672 & spain & traffic & urban & 2002-11-19 & 2020-12-30 06:00:00 & Madrid  & 3266128 & ESCUELAS AGUIRRE  \\\\\n",
       "\t5 & es0120a & RAMÓN Y CAJAL      & 40.45167 & -3.677222 & 708 & spain & traffic & urban & 2002-01-01 & 2021-01-16 00:00:00 & Madrid  & 3266129 & RAMÓN Y CAJAL     \\\\\n",
       "\t6 & es0817a & LA RANILLA         & 37.38425 & -5.959620 &  29 & spain & traffic & urban & 1997-01-01 & 2021-01-16 00:00:00 & Sevilla &  688593 & LA RANILLA        \\\\\n",
       "\\end{tabular}\n"
      ],
      "text/markdown": [
       "\n",
       "A data.frame: 6 × 13\n",
       "\n",
       "| <!--/--> | site &lt;chr&gt; | site_name &lt;chr&gt; | latitude &lt;dbl&gt; | longitude &lt;dbl&gt; | elevation &lt;dbl&gt; | country &lt;chr&gt; | site_type &lt;chr&gt; | site_area &lt;chr&gt; | date_start &lt;dttm&gt; | date_end &lt;dttm&gt; | Municipio &lt;chr&gt; | Población &lt;dbl&gt; | Estación.tráfico &lt;chr&gt; |\n",
       "|---|---|---|---|---|---|---|---|---|---|---|---|---|---|\n",
       "| 1 | es0041a | DIRECCIÓN DE SALUD | 43.25883 | -2.945650 |  32 | spain | traffic | urban | 1986-04-01 | 2021-01-15 23:00:00 | Bilbao  |  346843 | María Diaz de Haro |\n",
       "| 2 | es0110a | ERANDIO            | 43.30268 | -2.977240 |   4 | spain | traffic | urban | 1997-01-01 | 2021-01-15 23:00:00 | Bilbao  |   24350 | Erandio            |\n",
       "| 3 | es0115a | PLAZA DE ESPAÑA    | 40.42417 | -3.712222 | 637 | spain | traffic | urban | 1986-01-01 | 2021-01-16 00:00:00 | Madrid  | 3266127 | PLAZA DE ESPAÑA    |\n",
       "| 4 | es0118a | ESCUELAS AGUIRRE   | 40.42167 | -3.682222 | 672 | spain | traffic | urban | 2002-11-19 | 2020-12-30 06:00:00 | Madrid  | 3266128 | ESCUELAS AGUIRRE   |\n",
       "| 5 | es0120a | RAMÓN Y CAJAL      | 40.45167 | -3.677222 | 708 | spain | traffic | urban | 2002-01-01 | 2021-01-16 00:00:00 | Madrid  | 3266129 | RAMÓN Y CAJAL      |\n",
       "| 6 | es0817a | LA RANILLA         | 37.38425 | -5.959620 |  29 | spain | traffic | urban | 1997-01-01 | 2021-01-16 00:00:00 | Sevilla |  688593 | LA RANILLA         |\n",
       "\n"
      ],
      "text/plain": [
       "  site    site_name          latitude longitude elevation country site_type\n",
       "1 es0041a DIRECCIÓN DE SALUD 43.25883 -2.945650  32       spain   traffic  \n",
       "2 es0110a ERANDIO            43.30268 -2.977240   4       spain   traffic  \n",
       "3 es0115a PLAZA DE ESPAÑA    40.42417 -3.712222 637       spain   traffic  \n",
       "4 es0118a ESCUELAS AGUIRRE   40.42167 -3.682222 672       spain   traffic  \n",
       "5 es0120a RAMÓN Y CAJAL      40.45167 -3.677222 708       spain   traffic  \n",
       "6 es0817a LA RANILLA         37.38425 -5.959620  29       spain   traffic  \n",
       "  site_area date_start date_end            Municipio Población\n",
       "1 urban     1986-04-01 2021-01-15 23:00:00 Bilbao     346843  \n",
       "2 urban     1997-01-01 2021-01-15 23:00:00 Bilbao      24350  \n",
       "3 urban     1986-01-01 2021-01-16 00:00:00 Madrid    3266127  \n",
       "4 urban     2002-11-19 2020-12-30 06:00:00 Madrid    3266128  \n",
       "5 urban     2002-01-01 2021-01-16 00:00:00 Madrid    3266129  \n",
       "6 urban     1997-01-01 2021-01-16 00:00:00 Sevilla    688593  \n",
       "  Estación.tráfico  \n",
       "1 María Diaz de Haro\n",
       "2 Erandio           \n",
       "3 PLAZA DE ESPAÑA   \n",
       "4 ESCUELAS AGUIRRE  \n",
       "5 RAMÓN Y CAJAL     \n",
       "6 LA RANILLA        "
      ]
     },
     "metadata": {},
     "output_type": "display_data"
    }
   ],
   "source": [
    "head(sitesAQ)"
   ]
  },
  {
   "cell_type": "code",
   "execution_count": 8,
   "metadata": {},
   "outputs": [
    {
     "name": "stdout",
     "output_type": "stream",
     "text": [
      "[1] \"Se han eliminado 11 estaciones\"\n",
      "[1] \"Quedan 67 estaciones para el estudio\"\n"
     ]
    }
   ],
   "source": [
    "removed.sites <- (nrow(sites.100mil)-1) - nrow(sitesAQ)\n",
    "\n",
    "print(paste(\"Se han eliminado\", removed.sites, \"estaciones\"))\n",
    "print(paste(\"Quedan\", nrow(spain.sites), \"estaciones para el estudio\"))"
   ]
  },
  {
   "cell_type": "markdown",
   "metadata": {},
   "source": [
    "### Guardar Datos en csv <a id=\"saveAQ\"></a>"
   ]
  },
  {
   "cell_type": "code",
   "execution_count": 9,
   "metadata": {},
   "outputs": [],
   "source": [
    "write.csv(sitesAQ, \n",
    "          \"data/curation/sitesAQ.csv\", row.names=FALSE)"
   ]
  }
 ],
 "metadata": {
  "kernelspec": {
   "display_name": "R",
   "language": "R",
   "name": "ir"
  },
  "language_info": {
   "codemirror_mode": "r",
   "file_extension": ".r",
   "mimetype": "text/x-r-source",
   "name": "R",
   "pygments_lexer": "r",
   "version": "4.0.3"
  }
 },
 "nbformat": 4,
 "nbformat_minor": 4
}
