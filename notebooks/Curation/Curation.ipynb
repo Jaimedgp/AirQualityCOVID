{
 "cells": [
  {
   "cell_type": "markdown",
   "metadata": {},
   "source": [
    "# Proceso de Curación"
   ]
  },
  {
   "cell_type": "markdown",
   "metadata": {},
   "source": [
    "Se pretende construir un modelo predictivo de la calidad del aire en las principales ciudades de España a partir de la meteorología del lugar para tratar de determinar el efecto del confinamiento y las restricciones debidas a la pandemia del COVID-19."
   ]
  },
  {
   "cell_type": "code",
   "execution_count": 1,
   "metadata": {},
   "outputs": [],
   "source": [
    "suppressMessages(library(tidyverse))\n",
    "\n",
    "setwd(\"~/Repositories/AirQualityCOVID/\")"
   ]
  },
  {
   "cell_type": "markdown",
   "metadata": {},
   "source": [
    "Para ello se han de obtener datos tanto de calidad del aire como meteorológicos suficientes para contruir del modelo predictivo. Se ha decidido utilizar el periodo de tiempo desde el `1-Enero-2013` al `31-Diciembre-2019` para entrenar el modelo.\n",
    "\n",
    "Se ha escogido tomar datos desde el $2013$ para la creación del modelo debido a que es el año a partir del cual hay datos en el portal de la [_European Enviroment Aency_ (**EEA**)](https://discomap.eea.europa.eu/map/fme/AirQualityExport.htm)"
   ]
  },
  {
   "cell_type": "code",
   "execution_count": 2,
   "metadata": {},
   "outputs": [],
   "source": [
    "suppressMessages(library(lubridate))\n",
    "\n",
    "start_dt <- ymd(\"2013-01-01\")\n",
    "end_dt <- ymd(\"2020-12-30\")"
   ]
  },
  {
   "cell_type": "markdown",
   "metadata": {},
   "source": [
    "---"
   ]
  },
  {
   "cell_type": "markdown",
   "metadata": {},
   "source": [
    "## Calidad del Aire\n",
    "\n",
    "> _El proceso de curación completo de los datos de calidad del aire se ha realizado mediante el script `src/Curation/airQuality.R`._"
   ]
  },
  {
   "cell_type": "markdown",
   "metadata": {},
   "source": [
    "Las restricciones de movilidad debidas al confinamiento por el COVID-19 deberían haber supuesto una disminución en el uso de vehículos, lo cual repercutiría directamente en los niveles de concentración de los contaminante producidos por los vehículos. \n",
    "\n",
    "Por ello en este estudio nos hemos centrado en las estaciones de calidad del aire de tipo **tráfico urbano** situadas en ciudades españolas con más de $> 100 000$ habitantes.\n",
    "\n",
    "Los contaminantes escogidos han sido: \n",
    "* _Óxido de Nitrógeno_ ($NO$)\n",
    "* _Dióxido de Nitrógeno_ ($NO_2$)\n",
    "* _Ozono_ ($O_3$)\n",
    "* _Partículas de Materia de diámetro $\\leq 10 \\mu m$_ ($PM10$)\n",
    "* _Partículas de Materia de diámetro $\\leq 2.5 \\mu m$_ ($PM2.5$)."
   ]
  },
  {
   "cell_type": "code",
   "execution_count": 3,
   "metadata": {},
   "outputs": [],
   "source": [
    "site_type <- \"traffic\"\n",
    "site_area <- \"urban\"\n",
    "\n",
    "pollutants <- c(\"no\", \"no2\", \"o3\", \"pm10\", \"pm2.5\")"
   ]
  },
  {
   "cell_type": "markdown",
   "metadata": {},
   "source": [
    "En el archivo `data/xlsx/estaciones-CA-JA.xlsx` se encuentra información sobre las estaciones de calidad del aire de las ciudades españolas de $> 100 000$ habitantes."
   ]
  },
  {
   "cell_type": "code",
   "execution_count": 4,
   "metadata": {},
   "outputs": [],
   "source": [
    "suppressMessages(library(openxlsx))\n",
    "\n",
    "# AQ station in cities with more than 100000 inhabitants\n",
    "sites.100mil <- read.xlsx(\"data/xlsx/estaciones-CA-JA.xlsx\",\n",
    "                          sheet=\"ciudades-100000-A\") %>% \n",
    "                    select(\"Municipio\", \"Población\",\n",
    "                           \"Estación.tráfico\", \"Código.estación\") "
   ]
  },
  {
   "cell_type": "markdown",
   "metadata": {},
   "source": [
    "Para la obtención de los datos de calidad del aire se ha utilizado el paquete [`saqgetr`](https://github.com/skgrange/saqgetr), el cual utiliza como principal fuente de datos la **EEA**.\n",
    "\n",
    "Por ello se utiliza dicho paquete para comprobar que la información del archivo anterior concuerda con la disponible por la **EEA** y las estaciones cumplen con los requisitos mínimos descritos anteriormente."
   ]
  },
  {
   "cell_type": "code",
   "execution_count": 8,
   "metadata": {},
   "outputs": [
    {
     "data": {
      "text/html": [
       "<table>\n",
       "<caption>A data.frame: 6 × 13</caption>\n",
       "<thead>\n",
       "\t<tr><th></th><th scope=col>site</th><th scope=col>site_name</th><th scope=col>latitude</th><th scope=col>longitude</th><th scope=col>elevation</th><th scope=col>country</th><th scope=col>site_type</th><th scope=col>site_area</th><th scope=col>date_start</th><th scope=col>date_end</th><th scope=col>Municipio</th><th scope=col>Población</th><th scope=col>Estación.tráfico</th></tr>\n",
       "\t<tr><th></th><th scope=col>&lt;chr&gt;</th><th scope=col>&lt;chr&gt;</th><th scope=col>&lt;dbl&gt;</th><th scope=col>&lt;dbl&gt;</th><th scope=col>&lt;dbl&gt;</th><th scope=col>&lt;chr&gt;</th><th scope=col>&lt;chr&gt;</th><th scope=col>&lt;chr&gt;</th><th scope=col>&lt;dttm&gt;</th><th scope=col>&lt;dttm&gt;</th><th scope=col>&lt;chr&gt;</th><th scope=col>&lt;dbl&gt;</th><th scope=col>&lt;chr&gt;</th></tr>\n",
       "</thead>\n",
       "<tbody>\n",
       "\t<tr><th scope=row>1</th><td>es0041a</td><td>DIRECCIÓN DE SALUD</td><td>43.25883</td><td>-2.945650</td><td> 32</td><td>spain</td><td>traffic</td><td>urban</td><td>1986-04-01</td><td>2021-04-10 23:00:00</td><td>Bilbao </td><td> 346843</td><td>María Diaz de Haro</td></tr>\n",
       "\t<tr><th scope=row>2</th><td>es0110a</td><td>ERANDIO           </td><td>43.30268</td><td>-2.977240</td><td>  4</td><td>spain</td><td>traffic</td><td>urban</td><td>1997-01-01</td><td>2021-04-10 23:00:00</td><td>Bilbao </td><td>  24350</td><td>Erandio           </td></tr>\n",
       "\t<tr><th scope=row>3</th><td>es0115a</td><td>PLAZA DE ESPAÑA   </td><td>40.42417</td><td>-3.712222</td><td>637</td><td>spain</td><td>traffic</td><td>urban</td><td>1986-01-01</td><td>2021-04-10 23:00:00</td><td>Madrid </td><td>3266127</td><td>PLAZA DE ESPAÑA   </td></tr>\n",
       "\t<tr><th scope=row>4</th><td>es0118a</td><td>ESCUELAS AGUIRRE  </td><td>40.42167</td><td>-3.682222</td><td>672</td><td>spain</td><td>traffic</td><td>urban</td><td>2002-11-19</td><td>2021-04-10 23:00:00</td><td>Madrid </td><td>3266128</td><td>ESCUELAS AGUIRRE  </td></tr>\n",
       "\t<tr><th scope=row>5</th><td>es0120a</td><td>RAMÓN Y CAJAL     </td><td>40.45167</td><td>-3.677222</td><td>708</td><td>spain</td><td>traffic</td><td>urban</td><td>2002-01-01</td><td>2021-04-10 23:00:00</td><td>Madrid </td><td>3266129</td><td>RAMÓN Y CAJAL     </td></tr>\n",
       "\t<tr><th scope=row>6</th><td>es0817a</td><td>LA RANILLA        </td><td>37.38425</td><td>-5.959620</td><td> 29</td><td>spain</td><td>traffic</td><td>urban</td><td>1997-01-01</td><td>2021-04-11 00:00:00</td><td>Sevilla</td><td> 688593</td><td>LA RANILLA        </td></tr>\n",
       "</tbody>\n",
       "</table>\n"
      ],
      "text/latex": [
       "A data.frame: 6 × 13\n",
       "\\begin{tabular}{r|lllllllllllll}\n",
       "  & site & site\\_name & latitude & longitude & elevation & country & site\\_type & site\\_area & date\\_start & date\\_end & Municipio & Población & Estación.tráfico\\\\\n",
       "  & <chr> & <chr> & <dbl> & <dbl> & <dbl> & <chr> & <chr> & <chr> & <dttm> & <dttm> & <chr> & <dbl> & <chr>\\\\\n",
       "\\hline\n",
       "\t1 & es0041a & DIRECCIÓN DE SALUD & 43.25883 & -2.945650 &  32 & spain & traffic & urban & 1986-04-01 & 2021-04-10 23:00:00 & Bilbao  &  346843 & María Diaz de Haro\\\\\n",
       "\t2 & es0110a & ERANDIO            & 43.30268 & -2.977240 &   4 & spain & traffic & urban & 1997-01-01 & 2021-04-10 23:00:00 & Bilbao  &   24350 & Erandio           \\\\\n",
       "\t3 & es0115a & PLAZA DE ESPAÑA    & 40.42417 & -3.712222 & 637 & spain & traffic & urban & 1986-01-01 & 2021-04-10 23:00:00 & Madrid  & 3266127 & PLAZA DE ESPAÑA   \\\\\n",
       "\t4 & es0118a & ESCUELAS AGUIRRE   & 40.42167 & -3.682222 & 672 & spain & traffic & urban & 2002-11-19 & 2021-04-10 23:00:00 & Madrid  & 3266128 & ESCUELAS AGUIRRE  \\\\\n",
       "\t5 & es0120a & RAMÓN Y CAJAL      & 40.45167 & -3.677222 & 708 & spain & traffic & urban & 2002-01-01 & 2021-04-10 23:00:00 & Madrid  & 3266129 & RAMÓN Y CAJAL     \\\\\n",
       "\t6 & es0817a & LA RANILLA         & 37.38425 & -5.959620 &  29 & spain & traffic & urban & 1997-01-01 & 2021-04-11 00:00:00 & Sevilla &  688593 & LA RANILLA        \\\\\n",
       "\\end{tabular}\n"
      ],
      "text/markdown": [
       "\n",
       "A data.frame: 6 × 13\n",
       "\n",
       "| <!--/--> | site &lt;chr&gt; | site_name &lt;chr&gt; | latitude &lt;dbl&gt; | longitude &lt;dbl&gt; | elevation &lt;dbl&gt; | country &lt;chr&gt; | site_type &lt;chr&gt; | site_area &lt;chr&gt; | date_start &lt;dttm&gt; | date_end &lt;dttm&gt; | Municipio &lt;chr&gt; | Población &lt;dbl&gt; | Estación.tráfico &lt;chr&gt; |\n",
       "|---|---|---|---|---|---|---|---|---|---|---|---|---|---|\n",
       "| 1 | es0041a | DIRECCIÓN DE SALUD | 43.25883 | -2.945650 |  32 | spain | traffic | urban | 1986-04-01 | 2021-04-10 23:00:00 | Bilbao  |  346843 | María Diaz de Haro |\n",
       "| 2 | es0110a | ERANDIO            | 43.30268 | -2.977240 |   4 | spain | traffic | urban | 1997-01-01 | 2021-04-10 23:00:00 | Bilbao  |   24350 | Erandio            |\n",
       "| 3 | es0115a | PLAZA DE ESPAÑA    | 40.42417 | -3.712222 | 637 | spain | traffic | urban | 1986-01-01 | 2021-04-10 23:00:00 | Madrid  | 3266127 | PLAZA DE ESPAÑA    |\n",
       "| 4 | es0118a | ESCUELAS AGUIRRE   | 40.42167 | -3.682222 | 672 | spain | traffic | urban | 2002-11-19 | 2021-04-10 23:00:00 | Madrid  | 3266128 | ESCUELAS AGUIRRE   |\n",
       "| 5 | es0120a | RAMÓN Y CAJAL      | 40.45167 | -3.677222 | 708 | spain | traffic | urban | 2002-01-01 | 2021-04-10 23:00:00 | Madrid  | 3266129 | RAMÓN Y CAJAL      |\n",
       "| 6 | es0817a | LA RANILLA         | 37.38425 | -5.959620 |  29 | spain | traffic | urban | 1997-01-01 | 2021-04-11 00:00:00 | Sevilla |  688593 | LA RANILLA         |\n",
       "\n"
      ],
      "text/plain": [
       "  site    site_name          latitude longitude elevation country site_type\n",
       "1 es0041a DIRECCIÓN DE SALUD 43.25883 -2.945650  32       spain   traffic  \n",
       "2 es0110a ERANDIO            43.30268 -2.977240   4       spain   traffic  \n",
       "3 es0115a PLAZA DE ESPAÑA    40.42417 -3.712222 637       spain   traffic  \n",
       "4 es0118a ESCUELAS AGUIRRE   40.42167 -3.682222 672       spain   traffic  \n",
       "5 es0120a RAMÓN Y CAJAL      40.45167 -3.677222 708       spain   traffic  \n",
       "6 es0817a LA RANILLA         37.38425 -5.959620  29       spain   traffic  \n",
       "  site_area date_start date_end            Municipio Población\n",
       "1 urban     1986-04-01 2021-04-10 23:00:00 Bilbao     346843  \n",
       "2 urban     1997-01-01 2021-04-10 23:00:00 Bilbao      24350  \n",
       "3 urban     1986-01-01 2021-04-10 23:00:00 Madrid    3266127  \n",
       "4 urban     2002-11-19 2021-04-10 23:00:00 Madrid    3266128  \n",
       "5 urban     2002-01-01 2021-04-10 23:00:00 Madrid    3266129  \n",
       "6 urban     1997-01-01 2021-04-11 00:00:00 Sevilla    688593  \n",
       "  Estación.tráfico  \n",
       "1 María Diaz de Haro\n",
       "2 Erandio           \n",
       "3 PLAZA DE ESPAÑA   \n",
       "4 ESCUELAS AGUIRRE  \n",
       "5 RAMÓN Y CAJAL     \n",
       "6 LA RANILLA        "
      ]
     },
     "metadata": {},
     "output_type": "display_data"
    }
   ],
   "source": [
    "suppressMessages(library(saqgetr))\n",
    "\n",
    "spain.sites <- get_saq_sites() %>%\n",
    "    filter(country == \"spain\",\n",
    "           site %in% sites.100mil$\"Código.estación\",\n",
    "           site_type == site_type,\n",
    "           site_area == site_area,\n",
    "           date_start <= start_dt,\n",
    "           ) %>%\n",
    "    select(site, site_name, latitude, longitude, elevation, \n",
    "           country, site_type, site_area, date_start, date_end)\n",
    "\n",
    "sites.AQ <- merge(x = spain.sites,\n",
    "                  y = sites.100mil,\n",
    "                  by.x = \"site\", by.y=\"Código.estación\",\n",
    "                  all.x = TRUE) \n",
    "head(sites.AQ)"
   ]
  },
  {
   "cell_type": "markdown",
   "metadata": {},
   "source": [
    "Sin embargo, esta información solo hace referencia a los datos generales de la estación, sin indicar si existen datos suficientes para el estudio de cada contaminante. Esto se debe comprobar de forma individual para cada contaminante una vez descargado los datos.\n",
    "\n",
    "```R\n",
    "    data.AQ <- get_saq_observations(\n",
    "        site = \"es0000a\"\n",
    "        variable = \"XO\",\n",
    "        start = start_dt,\n",
    "        end = end_dt,\n",
    "        valid_only = TRUE,\n",
    "        verbose = FALSE\n",
    "    )\n",
    "```\n",
    "\n",
    "Para cada contaminante de estudio de cada estación se obtienen los siguientes valores:\n",
    "\n",
    "* **start_yr**: Fecha de comienzo de toma de datos. El valor mínimo posible es `start_dt`.\n",
    "* **end_yr**: Fecha de fin de toma de datos. El valor máximo posible es `end_dt`.\n",
    "* **hv.min**: `Booleano` si hay datos con resolución diaria suficientes ($> 80\\%$) durante el periodo de mayor interes del estudio.\n",
    "    > Se toma el intervalo de tiempo `1-Marzo-2020` al `30-Junio-2020` como el periodo de mayor interes del estudio ya que comprende los meses desde el comienzo del primer estado de alarma hasta la vuelta a la primera \"normalidad\" (fin de las fases de la desescalada) \n",
    "* **mss.wk**: Número de valores nulos con resolución semanal. Número de semanas faltantes.\n",
    "* **mss.mnth**: Número de valores nulos con resolución mensual. Número de meses faltantes.\n",
    "* **mss.yr**: Número de valores nulos con resolución anual. Número de años faltantes.\n",
    "\n",
    "A partir de estos valores se han seleccionado aquellos contaminantes en cada estación con:\n",
    "```R\n",
    "    hv.min == TRUE\n",
    "    mss.yr < 5\n",
    "```"
   ]
  },
  {
   "cell_type": "code",
   "execution_count": 6,
   "metadata": {},
   "outputs": [
    {
     "data": {
      "text/html": [
       "<table>\n",
       "<caption>A data.frame: 6 × 14</caption>\n",
       "<thead>\n",
       "\t<tr><th></th><th scope=col>site</th><th scope=col>Pollutant</th><th scope=col>site_name</th><th scope=col>latitude</th><th scope=col>longitude</th><th scope=col>elevation</th><th scope=col>country</th><th scope=col>site_type</th><th scope=col>site_area</th><th scope=col>date_start</th><th scope=col>date_end</th><th scope=col>Municipio</th><th scope=col>Población</th><th scope=col>Estación.tráfico</th></tr>\n",
       "\t<tr><th></th><th scope=col>&lt;chr&gt;</th><th scope=col>&lt;chr&gt;</th><th scope=col>&lt;chr&gt;</th><th scope=col>&lt;dbl&gt;</th><th scope=col>&lt;dbl&gt;</th><th scope=col>&lt;int&gt;</th><th scope=col>&lt;chr&gt;</th><th scope=col>&lt;chr&gt;</th><th scope=col>&lt;chr&gt;</th><th scope=col>&lt;chr&gt;</th><th scope=col>&lt;chr&gt;</th><th scope=col>&lt;chr&gt;</th><th scope=col>&lt;int&gt;</th><th scope=col>&lt;chr&gt;</th></tr>\n",
       "</thead>\n",
       "<tbody>\n",
       "\t<tr><th scope=row>1</th><td>es0041a</td><td>no2  </td><td>DIRECCIÓN DE SALUD</td><td>43.25883</td><td>-2.94565</td><td>32</td><td>spain</td><td>traffic</td><td>urban</td><td>1986-04-01 00:00:00</td><td>2021-04-10 23:00:00</td><td>Bilbao</td><td>346843</td><td>María Diaz de Haro</td></tr>\n",
       "\t<tr><th scope=row>2</th><td>es0041a</td><td>pm10 </td><td>DIRECCIÓN DE SALUD</td><td>43.25883</td><td>-2.94565</td><td>32</td><td>spain</td><td>traffic</td><td>urban</td><td>1986-04-01 00:00:00</td><td>2021-04-10 23:00:00</td><td>Bilbao</td><td>346843</td><td>María Diaz de Haro</td></tr>\n",
       "\t<tr><th scope=row>3</th><td>es0110a</td><td>no   </td><td>ERANDIO           </td><td>43.30268</td><td>-2.97724</td><td> 4</td><td>spain</td><td>traffic</td><td>urban</td><td>1997-01-01 00:00:00</td><td>2021-04-10 23:00:00</td><td>Bilbao</td><td> 24350</td><td>Erandio           </td></tr>\n",
       "\t<tr><th scope=row>4</th><td>es0110a</td><td>no2  </td><td>ERANDIO           </td><td>43.30268</td><td>-2.97724</td><td> 4</td><td>spain</td><td>traffic</td><td>urban</td><td>1997-01-01 00:00:00</td><td>2021-04-10 23:00:00</td><td>Bilbao</td><td> 24350</td><td>Erandio           </td></tr>\n",
       "\t<tr><th scope=row>5</th><td>es0110a</td><td>pm10 </td><td>ERANDIO           </td><td>43.30268</td><td>-2.97724</td><td> 4</td><td>spain</td><td>traffic</td><td>urban</td><td>1997-01-01 00:00:00</td><td>2021-04-10 23:00:00</td><td>Bilbao</td><td> 24350</td><td>Erandio           </td></tr>\n",
       "\t<tr><th scope=row>6</th><td>es0110a</td><td>pm2.5</td><td>ERANDIO           </td><td>43.30268</td><td>-2.97724</td><td> 4</td><td>spain</td><td>traffic</td><td>urban</td><td>1997-01-01 00:00:00</td><td>2021-04-10 23:00:00</td><td>Bilbao</td><td> 24350</td><td>Erandio           </td></tr>\n",
       "</tbody>\n",
       "</table>\n"
      ],
      "text/latex": [
       "A data.frame: 6 × 14\n",
       "\\begin{tabular}{r|llllllllllllll}\n",
       "  & site & Pollutant & site\\_name & latitude & longitude & elevation & country & site\\_type & site\\_area & date\\_start & date\\_end & Municipio & Población & Estación.tráfico\\\\\n",
       "  & <chr> & <chr> & <chr> & <dbl> & <dbl> & <int> & <chr> & <chr> & <chr> & <chr> & <chr> & <chr> & <int> & <chr>\\\\\n",
       "\\hline\n",
       "\t1 & es0041a & no2   & DIRECCIÓN DE SALUD & 43.25883 & -2.94565 & 32 & spain & traffic & urban & 1986-04-01 00:00:00 & 2021-04-10 23:00:00 & Bilbao & 346843 & María Diaz de Haro\\\\\n",
       "\t2 & es0041a & pm10  & DIRECCIÓN DE SALUD & 43.25883 & -2.94565 & 32 & spain & traffic & urban & 1986-04-01 00:00:00 & 2021-04-10 23:00:00 & Bilbao & 346843 & María Diaz de Haro\\\\\n",
       "\t3 & es0110a & no    & ERANDIO            & 43.30268 & -2.97724 &  4 & spain & traffic & urban & 1997-01-01 00:00:00 & 2021-04-10 23:00:00 & Bilbao &  24350 & Erandio           \\\\\n",
       "\t4 & es0110a & no2   & ERANDIO            & 43.30268 & -2.97724 &  4 & spain & traffic & urban & 1997-01-01 00:00:00 & 2021-04-10 23:00:00 & Bilbao &  24350 & Erandio           \\\\\n",
       "\t5 & es0110a & pm10  & ERANDIO            & 43.30268 & -2.97724 &  4 & spain & traffic & urban & 1997-01-01 00:00:00 & 2021-04-10 23:00:00 & Bilbao &  24350 & Erandio           \\\\\n",
       "\t6 & es0110a & pm2.5 & ERANDIO            & 43.30268 & -2.97724 &  4 & spain & traffic & urban & 1997-01-01 00:00:00 & 2021-04-10 23:00:00 & Bilbao &  24350 & Erandio           \\\\\n",
       "\\end{tabular}\n"
      ],
      "text/markdown": [
       "\n",
       "A data.frame: 6 × 14\n",
       "\n",
       "| <!--/--> | site &lt;chr&gt; | Pollutant &lt;chr&gt; | site_name &lt;chr&gt; | latitude &lt;dbl&gt; | longitude &lt;dbl&gt; | elevation &lt;int&gt; | country &lt;chr&gt; | site_type &lt;chr&gt; | site_area &lt;chr&gt; | date_start &lt;chr&gt; | date_end &lt;chr&gt; | Municipio &lt;chr&gt; | Población &lt;int&gt; | Estación.tráfico &lt;chr&gt; |\n",
       "|---|---|---|---|---|---|---|---|---|---|---|---|---|---|---|\n",
       "| 1 | es0041a | no2   | DIRECCIÓN DE SALUD | 43.25883 | -2.94565 | 32 | spain | traffic | urban | 1986-04-01 00:00:00 | 2021-04-10 23:00:00 | Bilbao | 346843 | María Diaz de Haro |\n",
       "| 2 | es0041a | pm10  | DIRECCIÓN DE SALUD | 43.25883 | -2.94565 | 32 | spain | traffic | urban | 1986-04-01 00:00:00 | 2021-04-10 23:00:00 | Bilbao | 346843 | María Diaz de Haro |\n",
       "| 3 | es0110a | no    | ERANDIO            | 43.30268 | -2.97724 |  4 | spain | traffic | urban | 1997-01-01 00:00:00 | 2021-04-10 23:00:00 | Bilbao |  24350 | Erandio            |\n",
       "| 4 | es0110a | no2   | ERANDIO            | 43.30268 | -2.97724 |  4 | spain | traffic | urban | 1997-01-01 00:00:00 | 2021-04-10 23:00:00 | Bilbao |  24350 | Erandio            |\n",
       "| 5 | es0110a | pm10  | ERANDIO            | 43.30268 | -2.97724 |  4 | spain | traffic | urban | 1997-01-01 00:00:00 | 2021-04-10 23:00:00 | Bilbao |  24350 | Erandio            |\n",
       "| 6 | es0110a | pm2.5 | ERANDIO            | 43.30268 | -2.97724 |  4 | spain | traffic | urban | 1997-01-01 00:00:00 | 2021-04-10 23:00:00 | Bilbao |  24350 | Erandio            |\n",
       "\n"
      ],
      "text/plain": [
       "  site    Pollutant site_name          latitude longitude elevation country\n",
       "1 es0041a no2       DIRECCIÓN DE SALUD 43.25883 -2.94565  32        spain  \n",
       "2 es0041a pm10      DIRECCIÓN DE SALUD 43.25883 -2.94565  32        spain  \n",
       "3 es0110a no        ERANDIO            43.30268 -2.97724   4        spain  \n",
       "4 es0110a no2       ERANDIO            43.30268 -2.97724   4        spain  \n",
       "5 es0110a pm10      ERANDIO            43.30268 -2.97724   4        spain  \n",
       "6 es0110a pm2.5     ERANDIO            43.30268 -2.97724   4        spain  \n",
       "  site_type site_area date_start          date_end            Municipio\n",
       "1 traffic   urban     1986-04-01 00:00:00 2021-04-10 23:00:00 Bilbao   \n",
       "2 traffic   urban     1986-04-01 00:00:00 2021-04-10 23:00:00 Bilbao   \n",
       "3 traffic   urban     1997-01-01 00:00:00 2021-04-10 23:00:00 Bilbao   \n",
       "4 traffic   urban     1997-01-01 00:00:00 2021-04-10 23:00:00 Bilbao   \n",
       "5 traffic   urban     1997-01-01 00:00:00 2021-04-10 23:00:00 Bilbao   \n",
       "6 traffic   urban     1997-01-01 00:00:00 2021-04-10 23:00:00 Bilbao   \n",
       "  Población Estación.tráfico  \n",
       "1 346843    María Diaz de Haro\n",
       "2 346843    María Diaz de Haro\n",
       "3  24350    Erandio           \n",
       "4  24350    Erandio           \n",
       "5  24350    Erandio           \n",
       "6  24350    Erandio           "
      ]
     },
     "metadata": {},
     "output_type": "display_data"
    }
   ],
   "source": [
    "valid.df <- read.csv(\"data/Curation/checked_AQ.csv\")\n",
    "head(valid.df)"
   ]
  },
  {
   "cell_type": "markdown",
   "metadata": {},
   "source": [
    "---"
   ]
  },
  {
   "cell_type": "markdown",
   "metadata": {},
   "source": [
    "## Meteorológicos"
   ]
  },
  {
   "cell_type": "markdown",
   "metadata": {},
   "source": [
    "### Fuente: AEMET"
   ]
  },
  {
   "cell_type": "markdown",
   "metadata": {},
   "source": [
    "### Fuente: NOAA"
   ]
  },
  {
   "cell_type": "markdown",
   "metadata": {},
   "source": [
    "### Fuente: ERA5-Land"
   ]
  }
 ],
 "metadata": {
  "kernelspec": {
   "display_name": "R",
   "language": "R",
   "name": "ir"
  },
  "language_info": {
   "codemirror_mode": "r",
   "file_extension": ".r",
   "mimetype": "text/x-r-source",
   "name": "R",
   "pygments_lexer": "r",
   "version": "4.0.5"
  }
 },
 "nbformat": 4,
 "nbformat_minor": 4
}
