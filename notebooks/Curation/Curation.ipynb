{
 "cells": [
  {
   "cell_type": "markdown",
   "metadata": {},
   "source": [
    "# Proceso de Curación"
   ]
  },
  {
   "cell_type": "markdown",
   "metadata": {},
   "source": [
    "Se pretende construir un modelo predictivo de la calidad del aire en las principales ciudades de España a partir de la meteorología del lugar para tratar de determinar el efecto del confinamiento y las restricciones debidas a la pandemia del COVID-19."
   ]
  },
  {
   "cell_type": "code",
   "execution_count": 4,
   "metadata": {},
   "outputs": [],
   "source": [
    "suppressMessages(library(tidyverse))\n",
    "\n",
    "# repository directory\n",
    "setwd(\"~/Repositories/AirQualityCOVID/\")"
   ]
  },
  {
   "cell_type": "markdown",
   "metadata": {},
   "source": [
    "Para ello se han de obtener datos tanto de calidad del aire como meteorológicos suficientes para contruir del modelo predictivo. Se ha decidido utilizar el periodo de tiempo desde el `1-Enero-2013` al `31-Diciembre-2019` para entrenar el modelo.\n",
    "\n",
    "Se ha escogido tomar datos desde el $2013$ para la creación del modelo debido a que es el año a partir del cual hay datos en el portal de la [_European Enviroment Aency_ (**EEA**)](https://discomap.eea.europa.eu/map/fme/AirQualityExport.htm)"
   ]
  },
  {
   "cell_type": "code",
   "execution_count": 2,
   "metadata": {},
   "outputs": [],
   "source": [
    "suppressMessages(library(lubridate))\n",
    "\n",
    "start_dt <- ymd(\"2013-01-01\")\n",
    "end_dt <- ymd(\"2020-12-30\")"
   ]
  },
  {
   "cell_type": "markdown",
   "metadata": {},
   "source": [
    "---"
   ]
  },
  {
   "cell_type": "markdown",
   "metadata": {},
   "source": [
    "## Calidad del Aire\n",
    "\n",
    "> _El proceso de curación completo de los datos de calidad del aire se ha realizado mediante el script `src/Curation/airQuality.R`._"
   ]
  },
  {
   "cell_type": "markdown",
   "metadata": {},
   "source": [
    "Las restricciones de movilidad debidas al confinamiento por el COVID-19 deberían haber supuesto una disminución en el uso de vehículos, lo cual repercutiría directamente en los niveles de concentración de los contaminantes producidos por los vehículos. \n",
    "\n",
    "Por ello en este estudio nos hemos centrado en las estaciones de calidad del aire de tipo **tráfico urbano** situadas en ciudades españolas con más de **> 100 000 habitantes**.\n",
    "\n",
    "Los contaminantes escogidos han sido: \n",
    "* _Óxido de Nitrógeno_ ($NO$) $\\rightarrow$ **no**\n",
    "* _Dióxido de Nitrógeno_ ($NO_2$) $\\rightarrow$ **no2**\n",
    "* _Ozono_ ($O_3$) $\\rightarrow$ **o3**\n",
    "* _Partículas de Materia de diámetro $\\leq 10 \\mu m$_ ($PM10$) $\\rightarrow$ **pm10**\n",
    "* _Partículas de Materia de diámetro $\\leq 2.5 \\mu m$_ ($PM2.5$) $\\rightarrow$ **pm2.5**"
   ]
  },
  {
   "cell_type": "code",
   "execution_count": 3,
   "metadata": {},
   "outputs": [],
   "source": [
    "site_type <- \"traffic\"\n",
    "site_area <- \"urban\"\n",
    "\n",
    "pollutants <- c(\"no\", \"no2\", \"o3\", \"pm10\", \"pm2.5\")"
   ]
  },
  {
   "cell_type": "markdown",
   "metadata": {},
   "source": [
    "En el archivo `data/xlsx/estaciones-CA-JA.xlsx` se encuentra información sobre las estaciones de calidad del aire de las ciudades españolas de $> 100 000$ habitantes."
   ]
  },
  {
   "cell_type": "code",
   "execution_count": 4,
   "metadata": {},
   "outputs": [],
   "source": [
    "suppressMessages(library(openxlsx))\n",
    "\n",
    "# AQ station in cities with more than 100000 inhabitants\n",
    "sites.100mil <- read.xlsx(\"data/xlsx/estaciones-CA-JA.xlsx\",\n",
    "                          sheet=\"ciudades-100000-A\") %>% \n",
    "                    select(\"Municipio\", \"Población\",\n",
    "                           \"Estación.tráfico\", \"Código.estación\") "
   ]
  },
  {
   "cell_type": "markdown",
   "metadata": {},
   "source": [
    "Para la obtención de los datos de calidad del aire se ha utilizado el paquete [`saqgetr`](https://github.com/skgrange/saqgetr), el cual utiliza como principal fuente de datos la **EEA**. \n",
    "\n",
    "> Este paquete permite obtener la concentración de los contaminantes en $\\mu g \\cdot m^{-3}$.\n",
    "\n",
    "Por ello se utiliza dicho paquete para comprobar que la información del archivo anterior concuerda con la disponible por la **EEA** y las estaciones cumplen con los requisitos mínimos descritos anteriormente."
   ]
  },
  {
   "cell_type": "code",
   "execution_count": 8,
   "metadata": {},
   "outputs": [
    {
     "data": {
      "text/html": [
       "<table>\n",
       "<caption>A data.frame: 6 × 13</caption>\n",
       "<thead>\n",
       "\t<tr><th></th><th scope=col>site</th><th scope=col>site_name</th><th scope=col>latitude</th><th scope=col>longitude</th><th scope=col>elevation</th><th scope=col>country</th><th scope=col>site_type</th><th scope=col>site_area</th><th scope=col>date_start</th><th scope=col>date_end</th><th scope=col>Municipio</th><th scope=col>Población</th><th scope=col>Estación.tráfico</th></tr>\n",
       "\t<tr><th></th><th scope=col>&lt;chr&gt;</th><th scope=col>&lt;chr&gt;</th><th scope=col>&lt;dbl&gt;</th><th scope=col>&lt;dbl&gt;</th><th scope=col>&lt;dbl&gt;</th><th scope=col>&lt;chr&gt;</th><th scope=col>&lt;chr&gt;</th><th scope=col>&lt;chr&gt;</th><th scope=col>&lt;dttm&gt;</th><th scope=col>&lt;dttm&gt;</th><th scope=col>&lt;chr&gt;</th><th scope=col>&lt;dbl&gt;</th><th scope=col>&lt;chr&gt;</th></tr>\n",
       "</thead>\n",
       "<tbody>\n",
       "\t<tr><th scope=row>1</th><td>es0041a</td><td>DIRECCIÓN DE SALUD</td><td>43.25883</td><td>-2.945650</td><td> 32</td><td>spain</td><td>traffic</td><td>urban</td><td>1986-04-01</td><td>2021-04-10 23:00:00</td><td>Bilbao </td><td> 346843</td><td>María Diaz de Haro</td></tr>\n",
       "\t<tr><th scope=row>2</th><td>es0110a</td><td>ERANDIO           </td><td>43.30268</td><td>-2.977240</td><td>  4</td><td>spain</td><td>traffic</td><td>urban</td><td>1997-01-01</td><td>2021-04-10 23:00:00</td><td>Bilbao </td><td>  24350</td><td>Erandio           </td></tr>\n",
       "\t<tr><th scope=row>3</th><td>es0115a</td><td>PLAZA DE ESPAÑA   </td><td>40.42417</td><td>-3.712222</td><td>637</td><td>spain</td><td>traffic</td><td>urban</td><td>1986-01-01</td><td>2021-04-10 23:00:00</td><td>Madrid </td><td>3266127</td><td>PLAZA DE ESPAÑA   </td></tr>\n",
       "\t<tr><th scope=row>4</th><td>es0118a</td><td>ESCUELAS AGUIRRE  </td><td>40.42167</td><td>-3.682222</td><td>672</td><td>spain</td><td>traffic</td><td>urban</td><td>2002-11-19</td><td>2021-04-10 23:00:00</td><td>Madrid </td><td>3266128</td><td>ESCUELAS AGUIRRE  </td></tr>\n",
       "\t<tr><th scope=row>5</th><td>es0120a</td><td>RAMÓN Y CAJAL     </td><td>40.45167</td><td>-3.677222</td><td>708</td><td>spain</td><td>traffic</td><td>urban</td><td>2002-01-01</td><td>2021-04-10 23:00:00</td><td>Madrid </td><td>3266129</td><td>RAMÓN Y CAJAL     </td></tr>\n",
       "\t<tr><th scope=row>6</th><td>es0817a</td><td>LA RANILLA        </td><td>37.38425</td><td>-5.959620</td><td> 29</td><td>spain</td><td>traffic</td><td>urban</td><td>1997-01-01</td><td>2021-04-11 00:00:00</td><td>Sevilla</td><td> 688593</td><td>LA RANILLA        </td></tr>\n",
       "</tbody>\n",
       "</table>\n"
      ],
      "text/latex": [
       "A data.frame: 6 × 13\n",
       "\\begin{tabular}{r|lllllllllllll}\n",
       "  & site & site\\_name & latitude & longitude & elevation & country & site\\_type & site\\_area & date\\_start & date\\_end & Municipio & Población & Estación.tráfico\\\\\n",
       "  & <chr> & <chr> & <dbl> & <dbl> & <dbl> & <chr> & <chr> & <chr> & <dttm> & <dttm> & <chr> & <dbl> & <chr>\\\\\n",
       "\\hline\n",
       "\t1 & es0041a & DIRECCIÓN DE SALUD & 43.25883 & -2.945650 &  32 & spain & traffic & urban & 1986-04-01 & 2021-04-10 23:00:00 & Bilbao  &  346843 & María Diaz de Haro\\\\\n",
       "\t2 & es0110a & ERANDIO            & 43.30268 & -2.977240 &   4 & spain & traffic & urban & 1997-01-01 & 2021-04-10 23:00:00 & Bilbao  &   24350 & Erandio           \\\\\n",
       "\t3 & es0115a & PLAZA DE ESPAÑA    & 40.42417 & -3.712222 & 637 & spain & traffic & urban & 1986-01-01 & 2021-04-10 23:00:00 & Madrid  & 3266127 & PLAZA DE ESPAÑA   \\\\\n",
       "\t4 & es0118a & ESCUELAS AGUIRRE   & 40.42167 & -3.682222 & 672 & spain & traffic & urban & 2002-11-19 & 2021-04-10 23:00:00 & Madrid  & 3266128 & ESCUELAS AGUIRRE  \\\\\n",
       "\t5 & es0120a & RAMÓN Y CAJAL      & 40.45167 & -3.677222 & 708 & spain & traffic & urban & 2002-01-01 & 2021-04-10 23:00:00 & Madrid  & 3266129 & RAMÓN Y CAJAL     \\\\\n",
       "\t6 & es0817a & LA RANILLA         & 37.38425 & -5.959620 &  29 & spain & traffic & urban & 1997-01-01 & 2021-04-11 00:00:00 & Sevilla &  688593 & LA RANILLA        \\\\\n",
       "\\end{tabular}\n"
      ],
      "text/markdown": [
       "\n",
       "A data.frame: 6 × 13\n",
       "\n",
       "| <!--/--> | site &lt;chr&gt; | site_name &lt;chr&gt; | latitude &lt;dbl&gt; | longitude &lt;dbl&gt; | elevation &lt;dbl&gt; | country &lt;chr&gt; | site_type &lt;chr&gt; | site_area &lt;chr&gt; | date_start &lt;dttm&gt; | date_end &lt;dttm&gt; | Municipio &lt;chr&gt; | Población &lt;dbl&gt; | Estación.tráfico &lt;chr&gt; |\n",
       "|---|---|---|---|---|---|---|---|---|---|---|---|---|---|\n",
       "| 1 | es0041a | DIRECCIÓN DE SALUD | 43.25883 | -2.945650 |  32 | spain | traffic | urban | 1986-04-01 | 2021-04-10 23:00:00 | Bilbao  |  346843 | María Diaz de Haro |\n",
       "| 2 | es0110a | ERANDIO            | 43.30268 | -2.977240 |   4 | spain | traffic | urban | 1997-01-01 | 2021-04-10 23:00:00 | Bilbao  |   24350 | Erandio            |\n",
       "| 3 | es0115a | PLAZA DE ESPAÑA    | 40.42417 | -3.712222 | 637 | spain | traffic | urban | 1986-01-01 | 2021-04-10 23:00:00 | Madrid  | 3266127 | PLAZA DE ESPAÑA    |\n",
       "| 4 | es0118a | ESCUELAS AGUIRRE   | 40.42167 | -3.682222 | 672 | spain | traffic | urban | 2002-11-19 | 2021-04-10 23:00:00 | Madrid  | 3266128 | ESCUELAS AGUIRRE   |\n",
       "| 5 | es0120a | RAMÓN Y CAJAL      | 40.45167 | -3.677222 | 708 | spain | traffic | urban | 2002-01-01 | 2021-04-10 23:00:00 | Madrid  | 3266129 | RAMÓN Y CAJAL      |\n",
       "| 6 | es0817a | LA RANILLA         | 37.38425 | -5.959620 |  29 | spain | traffic | urban | 1997-01-01 | 2021-04-11 00:00:00 | Sevilla |  688593 | LA RANILLA         |\n",
       "\n"
      ],
      "text/plain": [
       "  site    site_name          latitude longitude elevation country site_type\n",
       "1 es0041a DIRECCIÓN DE SALUD 43.25883 -2.945650  32       spain   traffic  \n",
       "2 es0110a ERANDIO            43.30268 -2.977240   4       spain   traffic  \n",
       "3 es0115a PLAZA DE ESPAÑA    40.42417 -3.712222 637       spain   traffic  \n",
       "4 es0118a ESCUELAS AGUIRRE   40.42167 -3.682222 672       spain   traffic  \n",
       "5 es0120a RAMÓN Y CAJAL      40.45167 -3.677222 708       spain   traffic  \n",
       "6 es0817a LA RANILLA         37.38425 -5.959620  29       spain   traffic  \n",
       "  site_area date_start date_end            Municipio Población\n",
       "1 urban     1986-04-01 2021-04-10 23:00:00 Bilbao     346843  \n",
       "2 urban     1997-01-01 2021-04-10 23:00:00 Bilbao      24350  \n",
       "3 urban     1986-01-01 2021-04-10 23:00:00 Madrid    3266127  \n",
       "4 urban     2002-11-19 2021-04-10 23:00:00 Madrid    3266128  \n",
       "5 urban     2002-01-01 2021-04-10 23:00:00 Madrid    3266129  \n",
       "6 urban     1997-01-01 2021-04-11 00:00:00 Sevilla    688593  \n",
       "  Estación.tráfico  \n",
       "1 María Diaz de Haro\n",
       "2 Erandio           \n",
       "3 PLAZA DE ESPAÑA   \n",
       "4 ESCUELAS AGUIRRE  \n",
       "5 RAMÓN Y CAJAL     \n",
       "6 LA RANILLA        "
      ]
     },
     "metadata": {},
     "output_type": "display_data"
    }
   ],
   "source": [
    "suppressMessages(library(saqgetr))\n",
    "\n",
    "spain.sites <- get_saq_sites() %>%\n",
    "    filter(country == \"spain\",\n",
    "           site %in% sites.100mil$\"Código.estación\",\n",
    "           site_type == site_type,\n",
    "           site_area == site_area,\n",
    "           date_start <= start_dt,\n",
    "           ) %>%\n",
    "    select(site, site_name, latitude, longitude, elevation, \n",
    "           country, site_type, site_area, date_start, date_end)\n",
    "\n",
    "sites.AQ <- merge(x = spain.sites,\n",
    "                  y = sites.100mil,\n",
    "                  by.x = \"site\", by.y=\"Código.estación\",\n",
    "                  all.x = TRUE) \n",
    "head(sites.AQ)"
   ]
  },
  {
   "cell_type": "markdown",
   "metadata": {},
   "source": [
    "Sin embargo, esta información solo hace referencia a los datos generales de la estación, sin indicar si existen datos suficientes para el estudio de cada contaminante del estudio. Esto se debe comprobar de forma individual para cada contaminante una vez descargado los datos.\n",
    "\n",
    "```R\n",
    "    data.AQ <- get_saq_observations(\n",
    "        site = \"es0000a\"\n",
    "        variable = \"XO\",\n",
    "        start = start_dt,\n",
    "        end = end_dt,\n",
    "        valid_only = TRUE,\n",
    "        verbose = FALSE\n",
    "    )\n",
    "```\n",
    "\n",
    "Para cada contaminante de estudio de cada estación se obtienen los siguientes valores:\n",
    "\n",
    "* **start_yr**: Fecha de comienzo de toma de datos. El valor mínimo posible es `start_dt`.\n",
    "* **end_yr**: Fecha de fin de toma de datos. El valor máximo posible es `end_dt`.\n",
    "* **hv.min**: `Booleano` si hay datos con resolución diaria suficientes ($> 80 \\%$) durante el periodo de mayor interes del estudio.\n",
    "    > Se toma el intervalo de tiempo `1-Marzo-2020` al `30-Junio-2020` como el periodo de mayor interes del estudio ya que comprende los meses desde el comienzo del primer estado de alarma hasta la vuelta a la primera \"normalidad\" (fin de las fases de la desescalada) \n",
    "* **mss.wk**: Número de valores nulos con resolución semanal. Número de semanas faltantes.\n",
    "* **mss.mnth**: Número de valores nulos con resolución mensual. Número de meses faltantes.\n",
    "* **mss.yr**: Número de valores nulos con resolución anual. Número de años faltantes.\n",
    "\n",
    "A partir de estos valores se han seleccionado aquellos contaminantes en cada estación con:\n",
    "```R\n",
    "    hv.min == TRUE\n",
    "    mss.yr < 5\n",
    "```"
   ]
  },
  {
   "cell_type": "code",
   "execution_count": 6,
   "metadata": {},
   "outputs": [
    {
     "data": {
      "text/html": [
       "<table>\n",
       "<caption>A data.frame: 6 × 14</caption>\n",
       "<thead>\n",
       "\t<tr><th></th><th scope=col>site</th><th scope=col>Pollutant</th><th scope=col>site_name</th><th scope=col>latitude</th><th scope=col>longitude</th><th scope=col>elevation</th><th scope=col>country</th><th scope=col>site_type</th><th scope=col>site_area</th><th scope=col>date_start</th><th scope=col>date_end</th><th scope=col>Municipio</th><th scope=col>Población</th><th scope=col>Estación.tráfico</th></tr>\n",
       "\t<tr><th></th><th scope=col>&lt;chr&gt;</th><th scope=col>&lt;chr&gt;</th><th scope=col>&lt;chr&gt;</th><th scope=col>&lt;dbl&gt;</th><th scope=col>&lt;dbl&gt;</th><th scope=col>&lt;int&gt;</th><th scope=col>&lt;chr&gt;</th><th scope=col>&lt;chr&gt;</th><th scope=col>&lt;chr&gt;</th><th scope=col>&lt;chr&gt;</th><th scope=col>&lt;chr&gt;</th><th scope=col>&lt;chr&gt;</th><th scope=col>&lt;int&gt;</th><th scope=col>&lt;chr&gt;</th></tr>\n",
       "</thead>\n",
       "<tbody>\n",
       "\t<tr><th scope=row>1</th><td>es0041a</td><td>no2  </td><td>DIRECCIÓN DE SALUD</td><td>43.25883</td><td>-2.94565</td><td>32</td><td>spain</td><td>traffic</td><td>urban</td><td>1986-04-01 00:00:00</td><td>2021-04-10 23:00:00</td><td>Bilbao</td><td>346843</td><td>María Diaz de Haro</td></tr>\n",
       "\t<tr><th scope=row>2</th><td>es0041a</td><td>pm10 </td><td>DIRECCIÓN DE SALUD</td><td>43.25883</td><td>-2.94565</td><td>32</td><td>spain</td><td>traffic</td><td>urban</td><td>1986-04-01 00:00:00</td><td>2021-04-10 23:00:00</td><td>Bilbao</td><td>346843</td><td>María Diaz de Haro</td></tr>\n",
       "\t<tr><th scope=row>3</th><td>es0110a</td><td>no   </td><td>ERANDIO           </td><td>43.30268</td><td>-2.97724</td><td> 4</td><td>spain</td><td>traffic</td><td>urban</td><td>1997-01-01 00:00:00</td><td>2021-04-10 23:00:00</td><td>Bilbao</td><td> 24350</td><td>Erandio           </td></tr>\n",
       "\t<tr><th scope=row>4</th><td>es0110a</td><td>no2  </td><td>ERANDIO           </td><td>43.30268</td><td>-2.97724</td><td> 4</td><td>spain</td><td>traffic</td><td>urban</td><td>1997-01-01 00:00:00</td><td>2021-04-10 23:00:00</td><td>Bilbao</td><td> 24350</td><td>Erandio           </td></tr>\n",
       "\t<tr><th scope=row>5</th><td>es0110a</td><td>pm10 </td><td>ERANDIO           </td><td>43.30268</td><td>-2.97724</td><td> 4</td><td>spain</td><td>traffic</td><td>urban</td><td>1997-01-01 00:00:00</td><td>2021-04-10 23:00:00</td><td>Bilbao</td><td> 24350</td><td>Erandio           </td></tr>\n",
       "\t<tr><th scope=row>6</th><td>es0110a</td><td>pm2.5</td><td>ERANDIO           </td><td>43.30268</td><td>-2.97724</td><td> 4</td><td>spain</td><td>traffic</td><td>urban</td><td>1997-01-01 00:00:00</td><td>2021-04-10 23:00:00</td><td>Bilbao</td><td> 24350</td><td>Erandio           </td></tr>\n",
       "</tbody>\n",
       "</table>\n"
      ],
      "text/latex": [
       "A data.frame: 6 × 14\n",
       "\\begin{tabular}{r|llllllllllllll}\n",
       "  & site & Pollutant & site\\_name & latitude & longitude & elevation & country & site\\_type & site\\_area & date\\_start & date\\_end & Municipio & Población & Estación.tráfico\\\\\n",
       "  & <chr> & <chr> & <chr> & <dbl> & <dbl> & <int> & <chr> & <chr> & <chr> & <chr> & <chr> & <chr> & <int> & <chr>\\\\\n",
       "\\hline\n",
       "\t1 & es0041a & no2   & DIRECCIÓN DE SALUD & 43.25883 & -2.94565 & 32 & spain & traffic & urban & 1986-04-01 00:00:00 & 2021-04-10 23:00:00 & Bilbao & 346843 & María Diaz de Haro\\\\\n",
       "\t2 & es0041a & pm10  & DIRECCIÓN DE SALUD & 43.25883 & -2.94565 & 32 & spain & traffic & urban & 1986-04-01 00:00:00 & 2021-04-10 23:00:00 & Bilbao & 346843 & María Diaz de Haro\\\\\n",
       "\t3 & es0110a & no    & ERANDIO            & 43.30268 & -2.97724 &  4 & spain & traffic & urban & 1997-01-01 00:00:00 & 2021-04-10 23:00:00 & Bilbao &  24350 & Erandio           \\\\\n",
       "\t4 & es0110a & no2   & ERANDIO            & 43.30268 & -2.97724 &  4 & spain & traffic & urban & 1997-01-01 00:00:00 & 2021-04-10 23:00:00 & Bilbao &  24350 & Erandio           \\\\\n",
       "\t5 & es0110a & pm10  & ERANDIO            & 43.30268 & -2.97724 &  4 & spain & traffic & urban & 1997-01-01 00:00:00 & 2021-04-10 23:00:00 & Bilbao &  24350 & Erandio           \\\\\n",
       "\t6 & es0110a & pm2.5 & ERANDIO            & 43.30268 & -2.97724 &  4 & spain & traffic & urban & 1997-01-01 00:00:00 & 2021-04-10 23:00:00 & Bilbao &  24350 & Erandio           \\\\\n",
       "\\end{tabular}\n"
      ],
      "text/markdown": [
       "\n",
       "A data.frame: 6 × 14\n",
       "\n",
       "| <!--/--> | site &lt;chr&gt; | Pollutant &lt;chr&gt; | site_name &lt;chr&gt; | latitude &lt;dbl&gt; | longitude &lt;dbl&gt; | elevation &lt;int&gt; | country &lt;chr&gt; | site_type &lt;chr&gt; | site_area &lt;chr&gt; | date_start &lt;chr&gt; | date_end &lt;chr&gt; | Municipio &lt;chr&gt; | Población &lt;int&gt; | Estación.tráfico &lt;chr&gt; |\n",
       "|---|---|---|---|---|---|---|---|---|---|---|---|---|---|---|\n",
       "| 1 | es0041a | no2   | DIRECCIÓN DE SALUD | 43.25883 | -2.94565 | 32 | spain | traffic | urban | 1986-04-01 00:00:00 | 2021-04-10 23:00:00 | Bilbao | 346843 | María Diaz de Haro |\n",
       "| 2 | es0041a | pm10  | DIRECCIÓN DE SALUD | 43.25883 | -2.94565 | 32 | spain | traffic | urban | 1986-04-01 00:00:00 | 2021-04-10 23:00:00 | Bilbao | 346843 | María Diaz de Haro |\n",
       "| 3 | es0110a | no    | ERANDIO            | 43.30268 | -2.97724 |  4 | spain | traffic | urban | 1997-01-01 00:00:00 | 2021-04-10 23:00:00 | Bilbao |  24350 | Erandio            |\n",
       "| 4 | es0110a | no2   | ERANDIO            | 43.30268 | -2.97724 |  4 | spain | traffic | urban | 1997-01-01 00:00:00 | 2021-04-10 23:00:00 | Bilbao |  24350 | Erandio            |\n",
       "| 5 | es0110a | pm10  | ERANDIO            | 43.30268 | -2.97724 |  4 | spain | traffic | urban | 1997-01-01 00:00:00 | 2021-04-10 23:00:00 | Bilbao |  24350 | Erandio            |\n",
       "| 6 | es0110a | pm2.5 | ERANDIO            | 43.30268 | -2.97724 |  4 | spain | traffic | urban | 1997-01-01 00:00:00 | 2021-04-10 23:00:00 | Bilbao |  24350 | Erandio            |\n",
       "\n"
      ],
      "text/plain": [
       "  site    Pollutant site_name          latitude longitude elevation country\n",
       "1 es0041a no2       DIRECCIÓN DE SALUD 43.25883 -2.94565  32        spain  \n",
       "2 es0041a pm10      DIRECCIÓN DE SALUD 43.25883 -2.94565  32        spain  \n",
       "3 es0110a no        ERANDIO            43.30268 -2.97724   4        spain  \n",
       "4 es0110a no2       ERANDIO            43.30268 -2.97724   4        spain  \n",
       "5 es0110a pm10      ERANDIO            43.30268 -2.97724   4        spain  \n",
       "6 es0110a pm2.5     ERANDIO            43.30268 -2.97724   4        spain  \n",
       "  site_type site_area date_start          date_end            Municipio\n",
       "1 traffic   urban     1986-04-01 00:00:00 2021-04-10 23:00:00 Bilbao   \n",
       "2 traffic   urban     1986-04-01 00:00:00 2021-04-10 23:00:00 Bilbao   \n",
       "3 traffic   urban     1997-01-01 00:00:00 2021-04-10 23:00:00 Bilbao   \n",
       "4 traffic   urban     1997-01-01 00:00:00 2021-04-10 23:00:00 Bilbao   \n",
       "5 traffic   urban     1997-01-01 00:00:00 2021-04-10 23:00:00 Bilbao   \n",
       "6 traffic   urban     1997-01-01 00:00:00 2021-04-10 23:00:00 Bilbao   \n",
       "  Población Estación.tráfico  \n",
       "1 346843    María Diaz de Haro\n",
       "2 346843    María Diaz de Haro\n",
       "3  24350    Erandio           \n",
       "4  24350    Erandio           \n",
       "5  24350    Erandio           \n",
       "6  24350    Erandio           "
      ]
     },
     "metadata": {},
     "output_type": "display_data"
    }
   ],
   "source": [
    "valid.df <- read.csv(\"data/Curation/checked_AQ.csv\")\n",
    "head(valid.df)"
   ]
  },
  {
   "cell_type": "markdown",
   "metadata": {},
   "source": [
    "---"
   ]
  },
  {
   "cell_type": "markdown",
   "metadata": {},
   "source": [
    "## Meteorológicos\n",
    "\n",
    "Una vez seleccionadas las estaciones de calidad del aire se ha procedido a obtener los datos meteorológicos correspondientes a cada estación, que servirán de predictores para el modelo, seleccionando aquellas variables que se podían considerar más influyentes en los niveles de contaminación de los contaminantes. \n",
    "\n",
    "Sin embargo, no se ha podido encontrar una base de datos completa y válida con datos suficientes de todas las variables meteorológicas que se querían usar para el estudio. Por ello, se han utilizado tres fuentes distintas de datos meteorológicos, siendo la fuente principal la _[Agencia Estatal de Meteorología (**AEMET**)](http://www.aemet.es/es/portada)_. A estos datos se les ha añadido datos de dirección y velocidad del viento de _[National Oceanic and Atmospheric Administration Integrated Surface Database (**NOAA ISD**)](https://www.ncdc.noaa.gov/isd)_ y datos de la humedad relativa y la radiación de [_ERA5-Land_](https://cds.climate.copernicus.eu/cdsapp#!/search?type=dataset&text=era5-land)\n",
    "\n",
    "Para todas las fuentes se han utilizado datos de los puntos más cercanos a las estaciones de calidad del aire seleccionadas anteriormente."
   ]
  },
  {
   "cell_type": "markdown",
   "metadata": {},
   "source": [
    "### Fuente: AEMET\n",
    "\n",
    "> La curación de los datos meteorológicos obtenidos de la **AEMET** se ha realizado utilizando el módulo `src/Curation/meteo`\n",
    "\n",
    "Para la obtención de los datos meteorológicos de la **AEMET** se ha utilizado la API REST [AEMET OpenData](https://opendata.aemet.es/centrodedescargas/inicio) desarrollada para ello. Para facilitar la interacción con la API se ha desarrollado una clase en Python `DownloadAEMET` que permite obtener los datos meteorológicos de cada estación en las fechas deseadas en formato `pandas.DataFrame`. Se le ha incluido además un método para la obtención de los datos meteorológicos de las `n` estaciones más cercanas a una posición dada por su latitud y longitud, calculando la distancia de dichas estaciones al punto. La clase `DownloadAEMET` se encuentra en el script `src/Curation/meteo/AEMET.py` dentro del modulo `meteo`.\n",
    "\n",
    "Para convertir los archivos _json_ facilitados por la API de AEMET en valores útiles para el estudio ha sido necesario realizar algunas transformaciones:\n",
    "\n",
    "* _**Coordenadas**_: Tanto la latitud como la longitud están dadas en grados, minutos y segundos; indicando la dirección norte **N**, sur **S**, este **E** u oeste **W**. Estos valores se han traducido a valores de grados con decimales, indicando su dirección mediante el signo positivo o negativo.\n",
    "    > $$\\begin{matrix}\n",
    "Latitud & Londgitud \\\\ \n",
    "\\left.\\begin{matrix}\n",
    "        \\textrm{Este} & \\textbf{E} & \\rightarrow & + & \\\\\n",
    "        \\textrm{Norte} & \\textbf{N} & \\rightarrow & + &\n",
    "    \\end{matrix}\\right| & \n",
    "\\begin{matrix}\n",
    "        \\textrm{Oeste} & \\textbf{W} & \\rightarrow & - \\\\\n",
    "        \\textrm{Sur} & \\textbf{S} & \\rightarrow & -\n",
    "    \\end{matrix}\n",
    "\\end{matrix}$$\n",
    "    \n",
    "* _**Decimales**_: Cambiar el separador decimal de coma decimal a punto decimal \n",
    "* _**Precipitación**_: Dentro de la variable **prec** se incluye el string `Ip` para denotar precipitaciones menores de 0.1 mm. Para convertirlo en valor numérico se le ha asignado el valor `prec = 0.5 mm`.\n",
    "* _**Horas Varias**_: Dentro de las variables horarias se incluye el string `varias` para denotar que dicho valor al que hace referencia se alcanzó a varias horas del día. Este valor se ha sustituído por el valor numérico `-2`. No obstante, estas variables horarias no se utilizarán en el estudio."
   ]
  },
  {
   "cell_type": "markdown",
   "metadata": {},
   "source": [
    "Los datos obtenidos de **AEMET** se encuentran con resolución diaria por lo que ésta será la resolución temporal mínima que se utilizará en el estudio. Además, de todas las variables meteorológicas que facilita **AEMET** se han descartado las variables horarias (Horas a las que se alcanza un valor u horas de sol) y las variables relacionadas con las rachas de viento. A continuación se muestran las variables seleccionadas para el estudio."
   ]
  },
  {
   "cell_type": "markdown",
   "metadata": {},
   "source": [
    "| Variable |                     Descripción                      | Unidad |\n",
    "|:--------:|:----------------------------------------------------:|:------:|\n",
    "|   fecha  |              fecha del dia (AAAA-MM-DD)              |   -    |\n",
    "|   tmed   |               Temperatura media diaria               |   ºC   |\n",
    "|   prec   |           Precipitación diaria de 07 a 07            |   mm   |\n",
    "|   tmax   |              Temperatura Mínima del día              |   ºC   |\n",
    "|   tmin   |              Temperatura Máxima del día              |   ºC   |\n",
    "| presmax  | Presión máxima al nivel de referencia de la estación |  hPa   |\n",
    "| presmin  | Presión mínima al nivel de referencia de la estación |  hPa   |\n"
   ]
  },
  {
   "cell_type": "markdown",
   "metadata": {},
   "source": [
    "A cada estación de calidad del aire del estudio se le ha asignado la estación de la AEMET más cercana con al menos el $80 \\%$ `min_prop=0.8` de los datos de las variables seleccionadas `selected_cl` de entre las 10 estaciones más cercanas `n=10`."
   ]
  },
  {
   "cell_type": "markdown",
   "metadata": {},
   "source": [
    "```python\n",
    "\n",
    "# Initialize AEMET API class with the api key\n",
    "Aemet = DownloadAEMET(apikey=apikey)\n",
    "\n",
    "download_nearest_data(aemet=Aemet, \n",
    "                      siteAQ=pd.DataFrame({\"site\": \"es0000a\",\n",
    "                                           \"latitude\": \"42.38\",\n",
    "                                           \"longitude\": \"-3.8\"\n",
    "                                          }),\n",
    "                      stdy_prd=[start_date, end_date],\n",
    "                      remove_cl=[\"sol\", \"horatmin\", \"horatmax\", \"horaracha\",\n",
    "                                 \"dir\", \"velmedia\", \"horaPresMax\", \"horaPresMin\"],\n",
    "                      selected_cl=[\"fecha\", \"tmed\", \"prec\",\n",
    "                                   \"tmin\", \"tmax\", \"presMax\", \"presMin\"],\n",
    "                      n=10,\n",
    "                      min_prop=0.8\n",
    "                     )\n",
    "```"
   ]
  },
  {
   "cell_type": "code",
   "execution_count": 2,
   "metadata": {},
   "outputs": [
    {
     "data": {
      "text/html": [
       "<table>\n",
       "<caption>A data.frame: 6 × 9</caption>\n",
       "<thead>\n",
       "\t<tr><th></th><th scope=col>latitud</th><th scope=col>provincia</th><th scope=col>altitud</th><th scope=col>indicativo</th><th scope=col>nombre</th><th scope=col>indsinop</th><th scope=col>longitud</th><th scope=col>dist</th><th scope=col>siteAQ</th></tr>\n",
       "\t<tr><th></th><th scope=col>&lt;dbl&gt;</th><th scope=col>&lt;chr&gt;</th><th scope=col>&lt;int&gt;</th><th scope=col>&lt;chr&gt;</th><th scope=col>&lt;chr&gt;</th><th scope=col>&lt;int&gt;</th><th scope=col>&lt;dbl&gt;</th><th scope=col>&lt;dbl&gt;</th><th scope=col>&lt;chr&gt;</th></tr>\n",
       "</thead>\n",
       "<tbody>\n",
       "\t<tr><th scope=row>1</th><td>43.29806</td><td>BIZKAIA</td><td> 42</td><td>1082</td><td>BILBAO AEROPUERTO </td><td>8025</td><td>-2.906389</td><td> 5.396849</td><td>es0041a</td></tr>\n",
       "\t<tr><th scope=row>2</th><td>43.29806</td><td>BIZKAIA</td><td> 42</td><td>1082</td><td>BILBAO AEROPUERTO </td><td>8025</td><td>-2.906389</td><td> 5.756578</td><td>es0110a</td></tr>\n",
       "\t<tr><th scope=row>3</th><td>40.41194</td><td>MADRID </td><td>667</td><td>3195</td><td>MADRID, RETIRO    </td><td>8222</td><td>-3.678056</td><td> 1.137154</td><td>es0118a</td></tr>\n",
       "\t<tr><th scope=row>4</th><td>40.41194</td><td>MADRID </td><td>667</td><td>3195</td><td>MADRID, RETIRO    </td><td>8222</td><td>-3.678056</td><td> 4.417472</td><td>es0120a</td></tr>\n",
       "\t<tr><th scope=row>5</th><td>37.41667</td><td>SEVILLA</td><td> 34</td><td>5783</td><td>SEVILLA AEROPUERTO</td><td>8391</td><td>-5.879167</td><td> 7.968651</td><td>es0817a</td></tr>\n",
       "\t<tr><th scope=row>6</th><td>37.41667</td><td>SEVILLA</td><td> 34</td><td>5783</td><td>SEVILLA AEROPUERTO</td><td>8391</td><td>-5.879167</td><td>11.220392</td><td>es0890a</td></tr>\n",
       "</tbody>\n",
       "</table>\n"
      ],
      "text/latex": [
       "A data.frame: 6 × 9\n",
       "\\begin{tabular}{r|lllllllll}\n",
       "  & latitud & provincia & altitud & indicativo & nombre & indsinop & longitud & dist & siteAQ\\\\\n",
       "  & <dbl> & <chr> & <int> & <chr> & <chr> & <int> & <dbl> & <dbl> & <chr>\\\\\n",
       "\\hline\n",
       "\t1 & 43.29806 & BIZKAIA &  42 & 1082 & BILBAO AEROPUERTO  & 8025 & -2.906389 &  5.396849 & es0041a\\\\\n",
       "\t2 & 43.29806 & BIZKAIA &  42 & 1082 & BILBAO AEROPUERTO  & 8025 & -2.906389 &  5.756578 & es0110a\\\\\n",
       "\t3 & 40.41194 & MADRID  & 667 & 3195 & MADRID, RETIRO     & 8222 & -3.678056 &  1.137154 & es0118a\\\\\n",
       "\t4 & 40.41194 & MADRID  & 667 & 3195 & MADRID, RETIRO     & 8222 & -3.678056 &  4.417472 & es0120a\\\\\n",
       "\t5 & 37.41667 & SEVILLA &  34 & 5783 & SEVILLA AEROPUERTO & 8391 & -5.879167 &  7.968651 & es0817a\\\\\n",
       "\t6 & 37.41667 & SEVILLA &  34 & 5783 & SEVILLA AEROPUERTO & 8391 & -5.879167 & 11.220392 & es0890a\\\\\n",
       "\\end{tabular}\n"
      ],
      "text/markdown": [
       "\n",
       "A data.frame: 6 × 9\n",
       "\n",
       "| <!--/--> | latitud &lt;dbl&gt; | provincia &lt;chr&gt; | altitud &lt;int&gt; | indicativo &lt;chr&gt; | nombre &lt;chr&gt; | indsinop &lt;int&gt; | longitud &lt;dbl&gt; | dist &lt;dbl&gt; | siteAQ &lt;chr&gt; |\n",
       "|---|---|---|---|---|---|---|---|---|---|\n",
       "| 1 | 43.29806 | BIZKAIA |  42 | 1082 | BILBAO AEROPUERTO  | 8025 | -2.906389 |  5.396849 | es0041a |\n",
       "| 2 | 43.29806 | BIZKAIA |  42 | 1082 | BILBAO AEROPUERTO  | 8025 | -2.906389 |  5.756578 | es0110a |\n",
       "| 3 | 40.41194 | MADRID  | 667 | 3195 | MADRID, RETIRO     | 8222 | -3.678056 |  1.137154 | es0118a |\n",
       "| 4 | 40.41194 | MADRID  | 667 | 3195 | MADRID, RETIRO     | 8222 | -3.678056 |  4.417472 | es0120a |\n",
       "| 5 | 37.41667 | SEVILLA |  34 | 5783 | SEVILLA AEROPUERTO | 8391 | -5.879167 |  7.968651 | es0817a |\n",
       "| 6 | 37.41667 | SEVILLA |  34 | 5783 | SEVILLA AEROPUERTO | 8391 | -5.879167 | 11.220392 | es0890a |\n",
       "\n"
      ],
      "text/plain": [
       "  latitud  provincia altitud indicativo nombre             indsinop longitud \n",
       "1 43.29806 BIZKAIA    42     1082       BILBAO AEROPUERTO  8025     -2.906389\n",
       "2 43.29806 BIZKAIA    42     1082       BILBAO AEROPUERTO  8025     -2.906389\n",
       "3 40.41194 MADRID    667     3195       MADRID, RETIRO     8222     -3.678056\n",
       "4 40.41194 MADRID    667     3195       MADRID, RETIRO     8222     -3.678056\n",
       "5 37.41667 SEVILLA    34     5783       SEVILLA AEROPUERTO 8391     -5.879167\n",
       "6 37.41667 SEVILLA    34     5783       SEVILLA AEROPUERTO 8391     -5.879167\n",
       "  dist      siteAQ \n",
       "1  5.396849 es0041a\n",
       "2  5.756578 es0110a\n",
       "3  1.137154 es0118a\n",
       "4  4.417472 es0120a\n",
       "5  7.968651 es0817a\n",
       "6 11.220392 es0890a"
      ]
     },
     "metadata": {},
     "output_type": "display_data"
    }
   ],
   "source": [
    "aemet <- read.csv(\"data/Curation/checked_AEMET.csv\")\n",
    "head(aemet)"
   ]
  },
  {
   "cell_type": "markdown",
   "metadata": {},
   "source": [
    "### Fuente: NOAA\n",
    "\n",
    "> La curación de los datos meteorológicos obtenidos de **NOAA ISD** se ha realizado utilizando el script `src/Curation/worldMet.R`\n",
    "\n",
    "[`worldmet`](https://github.com/davidcarslaw/worldmet)"
   ]
  },
  {
   "cell_type": "markdown",
   "metadata": {},
   "source": [
    "```R\n",
    "\n",
    "getMeta(lat = sites.AQ[sites.AQ\\$ site == st, ]\\$latitude[1],\n",
    "        lon = sites.AQ[sites.AQ\\$ site == st, ]\\$longitude[1],\n",
    "        end.year = \"current\",\n",
    "        n = 10, returnMap = F)\n",
    "```"
   ]
  },
  {
   "cell_type": "code",
   "execution_count": 3,
   "metadata": {},
   "outputs": [
    {
     "data": {
      "text/html": [
       "<table>\n",
       "<caption>A data.frame: 6 × 16</caption>\n",
       "<thead>\n",
       "\t<tr><th></th><th scope=col>usaf</th><th scope=col>wban</th><th scope=col>station</th><th scope=col>ctry</th><th scope=col>st</th><th scope=col>call</th><th scope=col>latitude</th><th scope=col>longitude</th><th scope=col>elev.m.</th><th scope=col>begin</th><th scope=col>end</th><th scope=col>code</th><th scope=col>longr</th><th scope=col>latr</th><th scope=col>dist</th><th scope=col>siteAQ</th></tr>\n",
       "\t<tr><th></th><th scope=col>&lt;int&gt;</th><th scope=col>&lt;int&gt;</th><th scope=col>&lt;chr&gt;</th><th scope=col>&lt;chr&gt;</th><th scope=col>&lt;lgl&gt;</th><th scope=col>&lt;chr&gt;</th><th scope=col>&lt;dbl&gt;</th><th scope=col>&lt;dbl&gt;</th><th scope=col>&lt;dbl&gt;</th><th scope=col>&lt;chr&gt;</th><th scope=col>&lt;chr&gt;</th><th scope=col>&lt;chr&gt;</th><th scope=col>&lt;dbl&gt;</th><th scope=col>&lt;dbl&gt;</th><th scope=col>&lt;dbl&gt;</th><th scope=col>&lt;chr&gt;</th></tr>\n",
       "</thead>\n",
       "<tbody>\n",
       "\t<tr><th scope=row>1</th><td>80250</td><td>99999</td><td>BILBAO        </td><td>SP</td><td>NA</td><td>LEBB</td><td>43.301</td><td>-2.911</td><td> 42.1</td><td>1973-01-01</td><td>2021-03-06</td><td>080250-99999</td><td>-0.05080653</td><td>0.7557450</td><td> 5.464009</td><td>es0041a</td></tr>\n",
       "\t<tr><th scope=row>2</th><td>80250</td><td>99999</td><td>BILBAO        </td><td>SP</td><td>NA</td><td>LEBB</td><td>43.301</td><td>-2.911</td><td> 42.1</td><td>1973-01-01</td><td>2021-03-06</td><td>080250-99999</td><td>-0.05080653</td><td>0.7557450</td><td> 5.363540</td><td>es0110a</td></tr>\n",
       "\t<tr><th scope=row>3</th><td>82230</td><td>99999</td><td>CUATRO VIENTOS</td><td>SP</td><td>NA</td><td>LEVS</td><td>40.371</td><td>-3.785</td><td>691.0</td><td>1973-07-19</td><td>2021-03-06</td><td>082230-99999</td><td>-0.06606071</td><td>0.7046069</td><td>10.367903</td><td>es0118a</td></tr>\n",
       "\t<tr><th scope=row>4</th><td>82210</td><td>99999</td><td>BARAJAS       </td><td>SP</td><td>NA</td><td>LEMD</td><td>40.494</td><td>-3.567</td><td>609.6</td><td>1931-01-02</td><td>2021-03-06</td><td>082210-99999</td><td>-0.06225589</td><td>0.7067536</td><td>10.444349</td><td>es0120a</td></tr>\n",
       "\t<tr><th scope=row>5</th><td>83910</td><td>99999</td><td>SEVILLA       </td><td>SP</td><td>NA</td><td>LEZL</td><td>37.418</td><td>-5.893</td><td> 33.8</td><td>1973-01-01</td><td>2021-03-06</td><td>083910-99999</td><td>-0.10285225</td><td>0.6530673</td><td> 6.979568</td><td>es0817a</td></tr>\n",
       "\t<tr><th scope=row>6</th><td>83910</td><td>99999</td><td>SEVILLA       </td><td>SP</td><td>NA</td><td>LEZL</td><td>37.418</td><td>-5.893</td><td> 33.8</td><td>1973-01-01</td><td>2021-03-06</td><td>083910-99999</td><td>-0.10285225</td><td>0.6530673</td><td>10.069231</td><td>es0890a</td></tr>\n",
       "</tbody>\n",
       "</table>\n"
      ],
      "text/latex": [
       "A data.frame: 6 × 16\n",
       "\\begin{tabular}{r|llllllllllllllll}\n",
       "  & usaf & wban & station & ctry & st & call & latitude & longitude & elev.m. & begin & end & code & longr & latr & dist & siteAQ\\\\\n",
       "  & <int> & <int> & <chr> & <chr> & <lgl> & <chr> & <dbl> & <dbl> & <dbl> & <chr> & <chr> & <chr> & <dbl> & <dbl> & <dbl> & <chr>\\\\\n",
       "\\hline\n",
       "\t1 & 80250 & 99999 & BILBAO         & SP & NA & LEBB & 43.301 & -2.911 &  42.1 & 1973-01-01 & 2021-03-06 & 080250-99999 & -0.05080653 & 0.7557450 &  5.464009 & es0041a\\\\\n",
       "\t2 & 80250 & 99999 & BILBAO         & SP & NA & LEBB & 43.301 & -2.911 &  42.1 & 1973-01-01 & 2021-03-06 & 080250-99999 & -0.05080653 & 0.7557450 &  5.363540 & es0110a\\\\\n",
       "\t3 & 82230 & 99999 & CUATRO VIENTOS & SP & NA & LEVS & 40.371 & -3.785 & 691.0 & 1973-07-19 & 2021-03-06 & 082230-99999 & -0.06606071 & 0.7046069 & 10.367903 & es0118a\\\\\n",
       "\t4 & 82210 & 99999 & BARAJAS        & SP & NA & LEMD & 40.494 & -3.567 & 609.6 & 1931-01-02 & 2021-03-06 & 082210-99999 & -0.06225589 & 0.7067536 & 10.444349 & es0120a\\\\\n",
       "\t5 & 83910 & 99999 & SEVILLA        & SP & NA & LEZL & 37.418 & -5.893 &  33.8 & 1973-01-01 & 2021-03-06 & 083910-99999 & -0.10285225 & 0.6530673 &  6.979568 & es0817a\\\\\n",
       "\t6 & 83910 & 99999 & SEVILLA        & SP & NA & LEZL & 37.418 & -5.893 &  33.8 & 1973-01-01 & 2021-03-06 & 083910-99999 & -0.10285225 & 0.6530673 & 10.069231 & es0890a\\\\\n",
       "\\end{tabular}\n"
      ],
      "text/markdown": [
       "\n",
       "A data.frame: 6 × 16\n",
       "\n",
       "| <!--/--> | usaf &lt;int&gt; | wban &lt;int&gt; | station &lt;chr&gt; | ctry &lt;chr&gt; | st &lt;lgl&gt; | call &lt;chr&gt; | latitude &lt;dbl&gt; | longitude &lt;dbl&gt; | elev.m. &lt;dbl&gt; | begin &lt;chr&gt; | end &lt;chr&gt; | code &lt;chr&gt; | longr &lt;dbl&gt; | latr &lt;dbl&gt; | dist &lt;dbl&gt; | siteAQ &lt;chr&gt; |\n",
       "|---|---|---|---|---|---|---|---|---|---|---|---|---|---|---|---|---|\n",
       "| 1 | 80250 | 99999 | BILBAO         | SP | NA | LEBB | 43.301 | -2.911 |  42.1 | 1973-01-01 | 2021-03-06 | 080250-99999 | -0.05080653 | 0.7557450 |  5.464009 | es0041a |\n",
       "| 2 | 80250 | 99999 | BILBAO         | SP | NA | LEBB | 43.301 | -2.911 |  42.1 | 1973-01-01 | 2021-03-06 | 080250-99999 | -0.05080653 | 0.7557450 |  5.363540 | es0110a |\n",
       "| 3 | 82230 | 99999 | CUATRO VIENTOS | SP | NA | LEVS | 40.371 | -3.785 | 691.0 | 1973-07-19 | 2021-03-06 | 082230-99999 | -0.06606071 | 0.7046069 | 10.367903 | es0118a |\n",
       "| 4 | 82210 | 99999 | BARAJAS        | SP | NA | LEMD | 40.494 | -3.567 | 609.6 | 1931-01-02 | 2021-03-06 | 082210-99999 | -0.06225589 | 0.7067536 | 10.444349 | es0120a |\n",
       "| 5 | 83910 | 99999 | SEVILLA        | SP | NA | LEZL | 37.418 | -5.893 |  33.8 | 1973-01-01 | 2021-03-06 | 083910-99999 | -0.10285225 | 0.6530673 |  6.979568 | es0817a |\n",
       "| 6 | 83910 | 99999 | SEVILLA        | SP | NA | LEZL | 37.418 | -5.893 |  33.8 | 1973-01-01 | 2021-03-06 | 083910-99999 | -0.10285225 | 0.6530673 | 10.069231 | es0890a |\n",
       "\n"
      ],
      "text/plain": [
       "  usaf  wban  station        ctry st call latitude longitude elev.m. begin     \n",
       "1 80250 99999 BILBAO         SP   NA LEBB 43.301   -2.911     42.1   1973-01-01\n",
       "2 80250 99999 BILBAO         SP   NA LEBB 43.301   -2.911     42.1   1973-01-01\n",
       "3 82230 99999 CUATRO VIENTOS SP   NA LEVS 40.371   -3.785    691.0   1973-07-19\n",
       "4 82210 99999 BARAJAS        SP   NA LEMD 40.494   -3.567    609.6   1931-01-02\n",
       "5 83910 99999 SEVILLA        SP   NA LEZL 37.418   -5.893     33.8   1973-01-01\n",
       "6 83910 99999 SEVILLA        SP   NA LEZL 37.418   -5.893     33.8   1973-01-01\n",
       "  end        code         longr       latr      dist      siteAQ \n",
       "1 2021-03-06 080250-99999 -0.05080653 0.7557450  5.464009 es0041a\n",
       "2 2021-03-06 080250-99999 -0.05080653 0.7557450  5.363540 es0110a\n",
       "3 2021-03-06 082230-99999 -0.06606071 0.7046069 10.367903 es0118a\n",
       "4 2021-03-06 082210-99999 -0.06225589 0.7067536 10.444349 es0120a\n",
       "5 2021-03-06 083910-99999 -0.10285225 0.6530673  6.979568 es0817a\n",
       "6 2021-03-06 083910-99999 -0.10285225 0.6530673 10.069231 es0890a"
      ]
     },
     "metadata": {},
     "output_type": "display_data"
    }
   ],
   "source": [
    "worldmet <- read.csv(\"data/Curation/checked_WorldMet.csv\")\n",
    "head(worldmet)"
   ]
  },
  {
   "cell_type": "markdown",
   "metadata": {},
   "source": [
    "### Fuente: ERA5-Land"
   ]
  }
 ],
 "metadata": {
  "kernelspec": {
   "display_name": "R",
   "language": "R",
   "name": "ir"
  },
  "language_info": {
   "codemirror_mode": "r",
   "file_extension": ".r",
   "mimetype": "text/x-r-source",
   "name": "R",
   "pygments_lexer": "r",
   "version": "4.0.5"
  }
 },
 "nbformat": 4,
 "nbformat_minor": 4
}
