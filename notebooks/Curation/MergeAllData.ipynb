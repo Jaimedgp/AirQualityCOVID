{
 "cells": [
  {
   "cell_type": "markdown",
   "metadata": {},
   "source": [
    "# Merge All Data\n",
    "\n",
    "Merge air quality, AEMET climate and ERA5-Land data for each station."
   ]
  },
  {
   "cell_type": "code",
   "execution_count": 1,
   "metadata": {},
   "outputs": [],
   "source": [
    "# Load packages\n",
    "suppressMessages(library(tidyverse))\n",
    "suppressMessages(library(lubridate))"
   ]
  },
  {
   "cell_type": "code",
   "execution_count": 2,
   "metadata": {},
   "outputs": [],
   "source": [
    "# Working directory\n",
    "setwd(\"~/Repositories/AirQualityCOVID\")\n",
    "\n",
    "# Source some scripts \n",
    "source(\"src/Curation/functions.R\")\n",
    "source(\"src/functions.R\")"
   ]
  },
  {
   "cell_type": "markdown",
   "metadata": {},
   "source": [
    "### Main Variables"
   ]
  },
  {
   "cell_type": "code",
   "execution_count": 3,
   "metadata": {},
   "outputs": [],
   "source": [
    "start_dt <- ymd_hms(\"2013-01-01 00:00:00\")\n",
    "end_dt <- ymd_hms(\"2020-12-31 00:00:00\")"
   ]
  },
  {
   "cell_type": "markdown",
   "metadata": {},
   "source": [
    "## Stations Information"
   ]
  },
  {
   "cell_type": "code",
   "execution_count": 4,
   "metadata": {},
   "outputs": [],
   "source": [
    "#-----------------------------\n",
    "#    Air Quality Stations\n",
    "#-----------------------------\n",
    "\n",
    "sitesAQ <- read.csv(\"data/Curation/AirQuality/checked_sitesAQ.csv\",\n",
    "                    stringsAsFactor=F)\n",
    "\n",
    "#-----------------------------\n",
    "#       AEMET Stations\n",
    "#-----------------------------\n",
    "\n",
    "sitesMto <- read.csv(\"data/Curation/AEMET/checked_sites_AEMET.csv\",\n",
    "                     stringsAsFactor=F)"
   ]
  },
  {
   "cell_type": "code",
   "execution_count": 5,
   "metadata": {},
   "outputs": [],
   "source": [
    "#--------------------------------\n",
    "#       Relevant Information\n",
    "#--------------------------------\n",
    "\n",
    "#sites.lv <- levels(as.factor(sitesAQ$site))[1:2]\n",
    "#\n",
    "# Madrid, Santander and Barcelona stations\n",
    "sites.lv <- c(\"es0118a\", \"es1580a\", \"es1480a\")"
   ]
  },
  {
   "cell_type": "code",
   "execution_count": 6,
   "metadata": {},
   "outputs": [],
   "source": [
    "#-----------------------------\n",
    "#    ERA5-Land Data\n",
    "#-----------------------------\n",
    "\n",
    "folder.ERA5.Land <- \"data/Curation/ERA5-Land/Values/\"\n",
    "\n",
    "# Relative Humidity\n",
    "rh.ERA5.Land <- read.csv(paste(folder.ERA5.Land,\n",
    "                               \"rh_daily_2010_2020_final_stations.csv\",\n",
    "                               sep=\"\"), stringsAsFactor=F) %>% \n",
    "                    data.as.datetime(\"dates\", \"ymd\") %>%\n",
    "                    add_column(variable=\"RH\", .after=\"dates\")\n",
    "\n",
    "# Solar radiation\n",
    "ssrd.ERA5.Land <- read.csv(paste(folder.ERA5.Land,\n",
    "                                 \"ssrd_daily_2010_2020_final_stations.csv\",\n",
    "                                 sep=\"\"),stringsAsFactor=F) %>% \n",
    "                    data.as.datetime(\"dates\", \"ymd\") %>%\n",
    "                    add_column(variable=\"solar.radiation\", .after=\"dates\")\n",
    "\n",
    "ERA5.Land <- rbind(rh.ERA5.Land, ssrd.ERA5.Land)"
   ]
  },
  {
   "cell_type": "markdown",
   "metadata": {},
   "source": [
    "## Merge Process"
   ]
  },
  {
   "cell_type": "code",
   "execution_count": 7,
   "metadata": {},
   "outputs": [],
   "source": [
    "# Folder wherever take downloaded data, if it exists\n",
    "AQ.files <- \"data/Curation/AirQuality/Values/\"\n",
    "Mto.files <- \"data/Curation/AEMET/Values/\""
   ]
  },
  {
   "cell_type": "code",
   "execution_count": 11,
   "metadata": {},
   "outputs": [
    {
     "name": "stdout",
     "output_type": "stream",
     "text": [
      "[1] \"3195\"\n",
      "[1] \"1111\"\n",
      "[1] \"0200E\"\n"
     ]
    }
   ],
   "source": [
    "list.data <- list()\n",
    "\n",
    "for (st in sites.lv) {\n",
    "    \n",
    "    #-----------------------------\n",
    "    #    Air Quality Data\n",
    "    #-----------------------------\n",
    "    \n",
    "    dataAQ <- get.AQdata(st, \n",
    "                         sitesAQ[sitesAQ$site == st, \"Pollutant\"], \n",
    "                         start_dt=start_dt, end_dt=end_dt,\n",
    "                         data.by.file=TRUE, fileName=AQ.files) %>%\n",
    "                    group.by.date(formulation = value ~ date + site + variable,\n",
    "                                  dateCl=\"date\", unit=\"day\", FUN=\"mean\") %>%\n",
    "                    data.as.datetime(\"date\", \"ymd\")%>%\n",
    "                    pivot.long.table(valueCl = \"value\", variableCl=\"variable\") %>%\n",
    "                    select(-site)\n",
    "    \n",
    "    #----------------------------------\n",
    "    #       Meteorological Data\n",
    "    #----------------------------------\n",
    "    \n",
    "    indicativo <- sitesMto[sitesMto$siteAQ == st, \"indicativo\"][1]\n",
    "    print(indicativo)\n",
    "    \n",
    "    dataMto <- read.csv(paste(Mto.files,\n",
    "                              indicativo, \".csv\",\n",
    "                              sep=\"\"), stringsAsFactor=F) %>%\n",
    "                    data.as.datetime(\"fecha\", \"ymd\") %>%\n",
    "                    select(\"fecha\", \"tmed\", \"prec\", \"tmin\", \"tmax\", \"dir\",\n",
    "                           \"velmedia\", \"racha\", \"presMax\", \"presMin\"\n",
    "                           )\n",
    "    \n",
    "    for (vr in levels(as.factor(ERA5.Land$variable))) {\n",
    "        merge.data <- merge(x = dataMto, \n",
    "                            y = ERA5.Land[ERA5.Land$variable == vr,\n",
    "                                          c(\"dates\", st)],\n",
    "                            by.x = \"fecha\", by.y = \"dates\", all.x = TRUE\n",
    "                           )\n",
    "        names(merge.data)[ncol(merge.data)] <- vr\n",
    "    }    \n",
    "    \n",
    "    list.data[[st]] <- list(dataAQ=dataAQ,\n",
    "                            dataMto=dataMto,\n",
    "                            indicativo=indicativo\n",
    "                           )\n",
    "}"
   ]
  },
  {
   "cell_type": "markdown",
   "metadata": {},
   "source": [
    "## Guardar Datos en csv "
   ]
  },
  {
   "cell_type": "markdown",
   "metadata": {},
   "source": [
    "```R\n",
    "\n",
    "save(list.data, sites.lv, \"data/Curation/values.rda\")\n",
    "\n",
    "```"
   ]
  }
 ],
 "metadata": {
  "kernelspec": {
   "display_name": "R",
   "language": "R",
   "name": "ir"
  },
  "language_info": {
   "codemirror_mode": "r",
   "file_extension": ".r",
   "mimetype": "text/x-r-source",
   "name": "R",
   "pygments_lexer": "r",
   "version": "3.6.3"
  }
 },
 "nbformat": 4,
 "nbformat_minor": 4
}
