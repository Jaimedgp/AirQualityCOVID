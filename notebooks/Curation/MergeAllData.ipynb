{
 "cells": [
  {
   "cell_type": "markdown",
   "metadata": {},
   "source": [
    "# Merge All Data\n",
    "\n",
    "Merge air quality, AEMET climate and ERA5-Land data for each station."
   ]
  },
  {
   "cell_type": "code",
   "execution_count": 1,
   "metadata": {},
   "outputs": [],
   "source": [
    "# Load packages\n",
    "suppressMessages(library(tidyverse))\n",
    "suppressMessages(library(lubridate))"
   ]
  },
  {
   "cell_type": "code",
   "execution_count": 2,
   "metadata": {},
   "outputs": [],
   "source": [
    "# Working directory\n",
    "setwd(\"~/Repositories/AirQualityCOVID\")\n",
    "\n",
    "# Source some scripts \n",
    "source(\"src/Curation/functions.R\")"
   ]
  },
  {
   "cell_type": "markdown",
   "metadata": {},
   "source": [
    "### Main Variables"
   ]
  },
  {
   "cell_type": "code",
   "execution_count": 3,
   "metadata": {},
   "outputs": [],
   "source": [
    "start_dt <- ymd_hms(\"2013-01-01 00:00:00\")\n",
    "end_dt <- ymd_hms(\"2020-12-31 00:00:00\")"
   ]
  },
  {
   "cell_type": "markdown",
   "metadata": {},
   "source": [
    "## Stations Information"
   ]
  },
  {
   "cell_type": "code",
   "execution_count": 4,
   "metadata": {},
   "outputs": [
    {
     "name": "stderr",
     "output_type": "stream",
     "text": [
      "Warning message in file(file, \"rt\"):\n",
      "\"cannot open file 'data/Curation/AirQuality/checked_sitesAQ.csv': No such file or directory\"\n"
     ]
    },
    {
     "ename": "ERROR",
     "evalue": "Error in file(file, \"rt\"): cannot open the connection\n",
     "output_type": "error",
     "traceback": [
      "Error in file(file, \"rt\"): cannot open the connection\nTraceback:\n",
      "1. read.csv(\"data/Curation/AirQuality/checked_sitesAQ.csv\", stringsAsFactor = F)",
      "2. read.table(file = file, header = header, sep = sep, quote = quote, \n .     dec = dec, fill = fill, comment.char = comment.char, ...)",
      "3. file(file, \"rt\")"
     ]
    }
   ],
   "source": [
    "#    Air Quality Stations\n",
    "#-----------------------------\n",
    "\n",
    "sitesAQ <- read.csv(\"data/Curation/AirQuality/checked_sitesAQ.csv\",\n",
    "                    stringsAsFactor=F)\n",
    "\n",
    "#-----------------------------\n",
    "#       AEMET Stations\n",
    "#-----------------------------\n",
    "\n",
    "sitesMto <- read.csv(\"data/Curation/AEMET/checked_sites_AEMET.csv\",\n",
    "                     stringsAsFactor=F)"
   ]
  },
  {
   "cell_type": "code",
   "execution_count": 5,
   "metadata": {},
   "outputs": [
    {
     "ename": "ERROR",
     "evalue": "Error in eval(expr, envir, enclos): object 'sitesAQ' not found\n",
     "output_type": "error",
     "traceback": [
      "Error in eval(expr, envir, enclos): object 'sitesAQ' not found\nTraceback:\n"
     ]
    }
   ],
   "source": [
    "#--------------------------------\n",
    "#       Relevant Information\n",
    "#--------------------------------\n",
    "\n",
    "list.data <- list()\n",
    "\n",
    "#sites.lv <- levels(as.factor(sitesAQ$site))[1:2]\n",
    "#\n",
    "# Madrid, Santander and Barcelona stations\n",
    "sites.lv <- c(\"es0118a\", \"es1580a\", \"es1480a\")\n",
    "\n",
    "for (st in sites.lv) {\n",
    "    plls <- sitesAQ[sitesAQ$site == st, \"Pollutant\"]\n",
    "    ind <- sitesMto[sitesMto$siteAQ == st, \"indicativo\"]\n",
    "    list.data[[st]] <- list(pollutants = plls,\n",
    "                             indicativo = ind[1])\n",
    "}"
   ]
  },
  {
   "cell_type": "code",
   "execution_count": null,
   "metadata": {},
   "outputs": [],
   "source": [
    "#-----------------------------\n",
    "#    ERA5-Land Data\n",
    "#-----------------------------\n",
    "\n",
    "folder.ERA5.Land <- \"data/Curation/ERA5-Land/Values/\"\n",
    "\n",
    "# Relative Humidity\n",
    "rh.ERA5.Land <- read.csv(paste(folder.ERA5.Land,\n",
    "                               \"rh_daily_2010_2020_final_stations.csv\",\n",
    "                               sep=\"\"), stringsAsFactor=F) %>% \n",
    "                    data.as.datetime(\"dates\", \"ymd\") %>%\n",
    "                    add_column(variable=\"RH\", .after=\"dates\")\n",
    "\n",
    "# Solar radiation\n",
    "ssrd.ERA5.Land <- read.csv(paste(folder.ERA5.Land,\n",
    "                                 \"ssrd_daily_2010_2020_final_stations.csv\",\n",
    "                                 sep=\"\"),stringsAsFactor=F) %>% \n",
    "                    data.as.datetime(\"dates\", \"ymd\") %>%\n",
    "                    add_column(variable=\"solar.radiation\", .after=\"dates\")\n",
    "\n",
    "ERA5.Land <- rbind(rh.ERA5.Land, ssrd.ERA5.Land)"
   ]
  },
  {
   "cell_type": "markdown",
   "metadata": {},
   "source": [
    "## Merge Process"
   ]
  },
  {
   "cell_type": "code",
   "execution_count": null,
   "metadata": {},
   "outputs": [],
   "source": [
    "# Folder wherever take downloaded data, if it exists\n",
    "AQ.files <- \"data/Curation/AirQuality/Values/\"\n",
    "Mto.files <- \"data/Curation/AEMET/Values/\""
   ]
  },
  {
   "cell_type": "code",
   "execution_count": null,
   "metadata": {},
   "outputs": [],
   "source": [
    "for (st in names(list.data)) {\n",
    "    dataAQ <- get.AQdata(st, list.data[[st]]$pollutants, \n",
    "                         start_dt=start_dt, end_dt=end_dt,\n",
    "                         data.by.file=TRUE, fileName=AQ.files) %>%\n",
    "                    group.by.date(formulation = value ~ date + site + variable,\n",
    "                                  dateCl=\"date\", unit=\"day\", FUN=\"mean\") %>%\n",
    "                    data.as.datetime(\"date\", \"ymd\") %>%\n",
    "                    pivot.long.table(valueCl = \"value\", variableCl=\"variable\")\n",
    "    \n",
    "    dataMto <- read.csv(paste(Mto.files,\n",
    "                              list.data[[st]]$indicativo, \".csv\",\n",
    "                              sep=\"\"), stringsAsFactor=F) %>%\n",
    "                    data.as.datetime(\"fecha\", \"ymd\") %>%\n",
    "                    select(\"fecha\", \"indicativo\",\n",
    "                           \"tmed\", \"prec\", \"tmin\", \"tmax\", \"dir\",\n",
    "                           \"velmedia\", \"racha\", \"presMax\", \"presMin\"\n",
    "                           )\n",
    "    \n",
    "    merge.data <- merge(x = dataAQ, y = dataMto,\n",
    "                        by.x = \"date\", by.y = \"fecha\", all.x = TRUE)\n",
    "    \n",
    "    for (vr in levels(as.factor(ERA5.Land$variable))) {\n",
    "        merge.data <- merge(x = merge.data, \n",
    "                            y = ERA5.Land[ERA5.Land$variable == vr,\n",
    "                                          c(\"dates\", st)],\n",
    "                            by.x = \"date\", by.y = \"dates\", all.x = TRUE\n",
    "                           )\n",
    "        names(merge.data)[ncol(merge.data)] <- vr\n",
    "    }\n",
    "    \n",
    "    info.nms <- c(\"date\", \"site\", \"indicativo\")\n",
    "    variables.nms <- names(merge.data)[-which(names(merge.data) %in% info.nms)]\n",
    "    \n",
    "    list.data[[st]]$data <- cbind(merge.data[, info.nms],\n",
    "                                  merge.data[, variables.nms])\n",
    "}"
   ]
  },
  {
   "cell_type": "markdown",
   "metadata": {},
   "source": [
    "## Guardar Datos en csv "
   ]
  },
  {
   "cell_type": "markdown",
   "metadata": {},
   "source": [
    "```R\n",
    "for (st in names(list.data)) {\n",
    "    write.csv(list.data[[st]]$data, paste(\"data/Curation/Values\",\n",
    "                                          st, \".csv\", sep=\"\"), \n",
    "              row.names=FALSE)\n",
    "}\n",
    "```"
   ]
  }
 ],
 "metadata": {
  "kernelspec": {
   "display_name": "R",
   "language": "R",
   "name": "ir"
  },
  "language_info": {
   "codemirror_mode": "r",
   "file_extension": ".r",
   "mimetype": "text/x-r-source",
   "name": "R",
   "pygments_lexer": "r",
   "version": "3.6.3"
  }
 },
 "nbformat": 4,
 "nbformat_minor": 4
}
