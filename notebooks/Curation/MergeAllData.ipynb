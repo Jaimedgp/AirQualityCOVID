{
 "cells": [
  {
   "cell_type": "markdown",
   "metadata": {},
   "source": [
    "# Merge All Data\n",
    "\n",
    "Merge air quality, AEMET climate and ERA5-Land data for each station."
   ]
  },
  {
   "cell_type": "code",
   "execution_count": 1,
   "metadata": {},
   "outputs": [],
   "source": [
    "# Load packages\n",
    "suppressMessages(library(tidyverse))\n",
    "suppressMessages(library(lubridate))"
   ]
  },
  {
   "cell_type": "code",
   "execution_count": 2,
   "metadata": {},
   "outputs": [],
   "source": [
    "# Working directory\n",
    "setwd(\"~/Repositories/AirQualityCOVID\")\n",
    "\n",
    "# Source some scripts \n",
    "source(\"src/functions.R\")"
   ]
  },
  {
   "cell_type": "markdown",
   "metadata": {},
   "source": [
    "### Main Variables"
   ]
  },
  {
   "cell_type": "code",
   "execution_count": 3,
   "metadata": {},
   "outputs": [],
   "source": [
    "start_dt <- ymd_hms(\"2013-01-01 00:00:00\")\n",
    "end_dt <- ymd_hms(\"2020-12-31 00:00:00\")"
   ]
  },
  {
   "cell_type": "markdown",
   "metadata": {},
   "source": [
    "## Stations Information"
   ]
  },
  {
   "cell_type": "code",
   "execution_count": 4,
   "metadata": {},
   "outputs": [],
   "source": [
    "#-----------------------------\n",
    "#    Air Quality Stations\n",
    "#-----------------------------\n",
    "\n",
    "sites.AQ <- read.csv(\"data/Curation/checked_AQ.csv\",\n",
    "                    stringsAsFactor=T)\n",
    "\n",
    "#-----------------------------\n",
    "#       AEMET Stations\n",
    "#-----------------------------\n",
    "\n",
    "sites.AEMET <- read.csv(\"data/Curation/checked_AEMET.csv\",\n",
    "                        stringsAsFactor=F, colClasses=c(\"indicativo\"=\"character\"))\n",
    "\n",
    "#-----------------------------\n",
    "#       WorldMet Stations\n",
    "#-----------------------------\n",
    "\n",
    "sites.WorldMet <- read.csv(\"data/Curation/checked_WorldMet.csv\",\n",
    "                     stringsAsFactor=T)"
   ]
  },
  {
   "cell_type": "code",
   "execution_count": 5,
   "metadata": {},
   "outputs": [
    {
     "data": {
      "text/html": [
       "<table>\n",
       "<caption>A data.frame: 4 × 9</caption>\n",
       "<thead>\n",
       "\t<tr><th></th><th scope=col>latitud</th><th scope=col>provincia</th><th scope=col>altitud</th><th scope=col>indicativo</th><th scope=col>nombre</th><th scope=col>indsinop</th><th scope=col>longitud</th><th scope=col>dist</th><th scope=col>siteAQ</th></tr>\n",
       "\t<tr><th></th><th scope=col>&lt;dbl&gt;</th><th scope=col>&lt;chr&gt;</th><th scope=col>&lt;int&gt;</th><th scope=col>&lt;chr&gt;</th><th scope=col>&lt;chr&gt;</th><th scope=col>&lt;int&gt;</th><th scope=col>&lt;dbl&gt;</th><th scope=col>&lt;dbl&gt;</th><th scope=col>&lt;chr&gt;</th></tr>\n",
       "</thead>\n",
       "<tbody>\n",
       "\t<tr><th scope=row>1</th><td>40.41194</td><td>MADRID   </td><td>667</td><td>3195 </td><td>MADRID, RETIRO    </td><td>8222</td><td>-3.678056</td><td>1.137154</td><td>es0118a</td></tr>\n",
       "\t<tr><th scope=row>2</th><td>37.27833</td><td>HUELVA   </td><td> 19</td><td>4642E</td><td>HUELVA, RONDA ESTE</td><td>8383</td><td>-6.911667</td><td>3.467861</td><td>es1340a</td></tr>\n",
       "\t<tr><th scope=row>3</th><td>41.41833</td><td>BARCELONA</td><td>408</td><td>0200E</td><td>BARCELONA, FABRA  </td><td>  NA</td><td> 2.124167</td><td>4.424307</td><td>es1438a</td></tr>\n",
       "\t<tr><th scope=row>4</th><td>43.49111</td><td>CANTABRIA</td><td> 52</td><td>1111 </td><td>SANTANDER         </td><td>8023</td><td>-3.800556</td><td>3.458738</td><td>es1580a</td></tr>\n",
       "</tbody>\n",
       "</table>\n"
      ],
      "text/latex": [
       "A data.frame: 4 × 9\n",
       "\\begin{tabular}{r|lllllllll}\n",
       "  & latitud & provincia & altitud & indicativo & nombre & indsinop & longitud & dist & siteAQ\\\\\n",
       "  & <dbl> & <chr> & <int> & <chr> & <chr> & <int> & <dbl> & <dbl> & <chr>\\\\\n",
       "\\hline\n",
       "\t1 & 40.41194 & MADRID    & 667 & 3195  & MADRID, RETIRO     & 8222 & -3.678056 & 1.137154 & es0118a\\\\\n",
       "\t2 & 37.27833 & HUELVA    &  19 & 4642E & HUELVA, RONDA ESTE & 8383 & -6.911667 & 3.467861 & es1340a\\\\\n",
       "\t3 & 41.41833 & BARCELONA & 408 & 0200E & BARCELONA, FABRA   &   NA &  2.124167 & 4.424307 & es1438a\\\\\n",
       "\t4 & 43.49111 & CANTABRIA &  52 & 1111  & SANTANDER          & 8023 & -3.800556 & 3.458738 & es1580a\\\\\n",
       "\\end{tabular}\n"
      ],
      "text/markdown": [
       "\n",
       "A data.frame: 4 × 9\n",
       "\n",
       "| <!--/--> | latitud &lt;dbl&gt; | provincia &lt;chr&gt; | altitud &lt;int&gt; | indicativo &lt;chr&gt; | nombre &lt;chr&gt; | indsinop &lt;int&gt; | longitud &lt;dbl&gt; | dist &lt;dbl&gt; | siteAQ &lt;chr&gt; |\n",
       "|---|---|---|---|---|---|---|---|---|---|\n",
       "| 1 | 40.41194 | MADRID    | 667 | 3195  | MADRID, RETIRO     | 8222 | -3.678056 | 1.137154 | es0118a |\n",
       "| 2 | 37.27833 | HUELVA    |  19 | 4642E | HUELVA, RONDA ESTE | 8383 | -6.911667 | 3.467861 | es1340a |\n",
       "| 3 | 41.41833 | BARCELONA | 408 | 0200E | BARCELONA, FABRA   |   NA |  2.124167 | 4.424307 | es1438a |\n",
       "| 4 | 43.49111 | CANTABRIA |  52 | 1111  | SANTANDER          | 8023 | -3.800556 | 3.458738 | es1580a |\n",
       "\n"
      ],
      "text/plain": [
       "  latitud  provincia altitud indicativo nombre             indsinop longitud \n",
       "1 40.41194 MADRID    667     3195       MADRID, RETIRO     8222     -3.678056\n",
       "2 37.27833 HUELVA     19     4642E      HUELVA, RONDA ESTE 8383     -6.911667\n",
       "3 41.41833 BARCELONA 408     0200E      BARCELONA, FABRA     NA      2.124167\n",
       "4 43.49111 CANTABRIA  52     1111       SANTANDER          8023     -3.800556\n",
       "  dist     siteAQ \n",
       "1 1.137154 es0118a\n",
       "2 3.467861 es1340a\n",
       "3 4.424307 es1438a\n",
       "4 3.458738 es1580a"
      ]
     },
     "metadata": {},
     "output_type": "display_data"
    }
   ],
   "source": [
    "head(sites.AEMET)"
   ]
  },
  {
   "cell_type": "markdown",
   "metadata": {},
   "source": [
    "## n-Table \n",
    "\n",
    "Table with all the relations between Air Quality stations with AEMET and WorldMet stations code\n",
    "\n",
    "| siteAQ  | AEMET |   WorldMet   |\n",
    "|---------|-------|--------------|\n",
    "| es1580a | 1111  | 080210-99999 |\n",
    "| es0118a | 3195  | 082230-99999 |\n",
    "| es1438a | 0201D | 081810-99999 |\n",
    "| es1340a | 4642E | 083830-99999 |"
   ]
  },
  {
   "cell_type": "code",
   "execution_count": 6,
   "metadata": {},
   "outputs": [
    {
     "data": {
      "text/html": [
       "<table>\n",
       "<caption>A data.frame: 4 × 3</caption>\n",
       "<thead>\n",
       "\t<tr><th></th><th scope=col>siteAQ</th><th scope=col>AEMET</th><th scope=col>WorldMet</th></tr>\n",
       "\t<tr><th></th><th scope=col>&lt;fct&gt;</th><th scope=col>&lt;fct&gt;</th><th scope=col>&lt;fct&gt;</th></tr>\n",
       "</thead>\n",
       "<tbody>\n",
       "\t<tr><th scope=row>1</th><td>es0118a</td><td>3195 </td><td>082230-99999</td></tr>\n",
       "\t<tr><th scope=row>2</th><td>es1340a</td><td>4642E</td><td>083830-99999</td></tr>\n",
       "\t<tr><th scope=row>3</th><td>es1438a</td><td>0200E</td><td>081810-99999</td></tr>\n",
       "\t<tr><th scope=row>4</th><td>es1580a</td><td>1111 </td><td>080210-99999</td></tr>\n",
       "</tbody>\n",
       "</table>\n"
      ],
      "text/latex": [
       "A data.frame: 4 × 3\n",
       "\\begin{tabular}{r|lll}\n",
       "  & siteAQ & AEMET & WorldMet\\\\\n",
       "  & <fct> & <fct> & <fct>\\\\\n",
       "\\hline\n",
       "\t1 & es0118a & 3195  & 082230-99999\\\\\n",
       "\t2 & es1340a & 4642E & 083830-99999\\\\\n",
       "\t3 & es1438a & 0200E & 081810-99999\\\\\n",
       "\t4 & es1580a & 1111  & 080210-99999\\\\\n",
       "\\end{tabular}\n"
      ],
      "text/markdown": [
       "\n",
       "A data.frame: 4 × 3\n",
       "\n",
       "| <!--/--> | siteAQ &lt;fct&gt; | AEMET &lt;fct&gt; | WorldMet &lt;fct&gt; |\n",
       "|---|---|---|---|\n",
       "| 1 | es0118a | 3195  | 082230-99999 |\n",
       "| 2 | es1340a | 4642E | 083830-99999 |\n",
       "| 3 | es1438a | 0200E | 081810-99999 |\n",
       "| 4 | es1580a | 1111  | 080210-99999 |\n",
       "\n"
      ],
      "text/plain": [
       "  siteAQ  AEMET WorldMet    \n",
       "1 es0118a 3195  082230-99999\n",
       "2 es1340a 4642E 083830-99999\n",
       "3 es1438a 0200E 081810-99999\n",
       "4 es1580a 1111  080210-99999"
      ]
     },
     "metadata": {},
     "output_type": "display_data"
    }
   ],
   "source": [
    "nn.stations <- data.frame()\n",
    "\n",
    "for (st in levels(sites.AQ$site)) {\n",
    "    nn.stations <- rbind(nn.stations,\n",
    "                         data.frame(siteAQ = as.factor(st),\n",
    "                                    AEMET = as.factor(sites.AEMET[sites.AEMET$siteAQ == st,\n",
    "                                                                  \"indicativo\"]),\n",
    "                                    WorldMet = sites.WorldMet[sites.WorldMet$siteAQ == st,\n",
    "                                                              \"code\"]\n",
    "                                   )\n",
    "                        )\n",
    "}\n",
    "\n",
    "head(nn.stations)"
   ]
  },
  {
   "cell_type": "markdown",
   "metadata": {},
   "source": [
    "## ERA5-Land Data"
   ]
  },
  {
   "cell_type": "code",
   "execution_count": 7,
   "metadata": {},
   "outputs": [],
   "source": [
    "#-----------------------------\n",
    "#    ERA5-Land Data\n",
    "#-----------------------------\n",
    "\n",
    "folder.ERA5.Land <- \"data/Curation/ERA5-Land/\"\n",
    "\n",
    "# Relative Humidity\n",
    "load(paste(folder.ERA5.Land,\n",
    "           \"rh_daily_2010_2020_final_stations.rda\", sep=\"\"))\n",
    "\n",
    "rh.ERA5.Land <- data.as.datetime(df, \"dates\", \"ymd\") %>%\n",
    "                    add_column(variable=\"RH\", .after=\"dates\")\n",
    "\n",
    "# Solar radiation\n",
    "load(paste(folder.ERA5.Land, \n",
    "           \"ssrd_daily_2010_2020_final_stations.rda\", sep=\"\"))\n",
    "\n",
    "ssrd.ERA5.Land <- data.as.datetime(df, \"dates\", \"ymd\") %>%\n",
    "                    add_column(variable=\"solar.radiation\", .after=\"dates\")\n",
    "\n",
    "ERA5.Land <- rbind(rh.ERA5.Land, ssrd.ERA5.Land)"
   ]
  },
  {
   "cell_type": "markdown",
   "metadata": {},
   "source": [
    "## Merge Process"
   ]
  },
  {
   "cell_type": "code",
   "execution_count": 8,
   "metadata": {},
   "outputs": [],
   "source": [
    "# Folder wherever take downloaded data, if it exists\n",
    "Mto.files <- \"data/Curation/\"\n",
    "\n",
    "data_Mto <- data.frame()"
   ]
  },
  {
   "cell_type": "code",
   "execution_count": 9,
   "metadata": {},
   "outputs": [],
   "source": [
    "for (st in levels(nn.stations$siteAQ)) {\n",
    "    \n",
    "    code <- nn.stations[nn.stations$siteAQ == st, \"WorldMet\"]\n",
    "    \n",
    "    data.WorldMet <- read.csv(paste(Mto.files, \"WorldMet/\",\n",
    "                                 code, \".csv\", sep=\"\"), stringsAsFactor=F) %>%\n",
    "                    data.as.datetime(\"date\", \"ymd\") %>%\n",
    "                    select(-\"code\")\n",
    "    \n",
    "    indicativo <- nn.stations[nn.stations$siteAQ == st, \"AEMET\"]\n",
    "    \n",
    "    data.AEMET <- read.csv(paste(Mto.files, \"AEMET/\",\n",
    "                                 indicativo, \".csv\", sep=\"\"), stringsAsFactor=F) %>%\n",
    "                    data.as.datetime(\"fecha\", \"ymd\") %>%\n",
    "                    select(\"fecha\", \"tmed\", \"prec\", \n",
    "                           \"tmin\", \"tmax\", \"presMax\", \"presMin\"\n",
    "                           )\n",
    "    \n",
    "    data.row <- merge(x = data.WorldMet, y = data.AEMET,\n",
    "                        by.x = \"date\", by.y = \"fecha\", all = TRUE)\n",
    "    \n",
    "    for (vr in levels(as.factor(ERA5.Land$variable))) {\n",
    "        data.row <- merge(x = data.row, \n",
    "                          y = ERA5.Land[ERA5.Land$variable == vr,\n",
    "                                        c(\"dates\", st)],\n",
    "                          by.x = \"date\", by.y = \"dates\", all.x = TRUE\n",
    "                         )\n",
    "        names(data.row)[ncol(data.row)] <- vr\n",
    "    }\n",
    "    \n",
    "    data_Mto <- rbind(data_Mto, data.row)\n",
    "}"
   ]
  },
  {
   "cell_type": "code",
   "execution_count": 10,
   "metadata": {},
   "outputs": [
    {
     "data": {
      "text/html": [
       "<table>\n",
       "<caption>A data.frame: 6 × 12</caption>\n",
       "<thead>\n",
       "\t<tr><th></th><th scope=col>date</th><th scope=col>ws</th><th scope=col>wd</th><th scope=col>atmos_pres</th><th scope=col>tmed</th><th scope=col>prec</th><th scope=col>tmin</th><th scope=col>tmax</th><th scope=col>presMax</th><th scope=col>presMin</th><th scope=col>RH</th><th scope=col>solar.radiation</th></tr>\n",
       "\t<tr><th></th><th scope=col>&lt;date&gt;</th><th scope=col>&lt;dbl&gt;</th><th scope=col>&lt;dbl&gt;</th><th scope=col>&lt;dbl&gt;</th><th scope=col>&lt;dbl&gt;</th><th scope=col>&lt;chr&gt;</th><th scope=col>&lt;dbl&gt;</th><th scope=col>&lt;dbl&gt;</th><th scope=col>&lt;dbl&gt;</th><th scope=col>&lt;dbl&gt;</th><th scope=col>&lt;dbl&gt;</th><th scope=col>&lt;dbl&gt;</th></tr>\n",
       "</thead>\n",
       "<tbody>\n",
       "\t<tr><th scope=row>1</th><td>2013-01-01</td><td>5.5188596</td><td>276.71826</td><td>1020.70</td><td>11.6</td><td>5,5</td><td>10.6</td><td>12.6</td><td>1019.6</td><td>1007.3</td><td>88.11917</td><td>78.56742</td></tr>\n",
       "\t<tr><th scope=row>2</th><td>2013-01-02</td><td>2.4236842</td><td>306.10747</td><td>1031.96</td><td>11.2</td><td>0,7</td><td> 9.8</td><td>12.5</td><td>1028.7</td><td>1019.6</td><td>86.44662</td><td>60.13676</td></tr>\n",
       "\t<tr><th scope=row>3</th><td>2013-01-03</td><td>2.2947368</td><td> 84.23836</td><td>1038.16</td><td>10.8</td><td>0,0</td><td> 8.4</td><td>13.2</td><td>1030.6</td><td>1028.7</td><td>85.19767</td><td>48.69664</td></tr>\n",
       "\t<tr><th scope=row>4</th><td>2013-01-04</td><td>0.2657895</td><td>126.09937</td><td>1038.04</td><td>11.4</td><td>0,0</td><td> 8.0</td><td>14.7</td><td>1031.2</td><td>1029.6</td><td>83.13043</td><td>81.60853</td></tr>\n",
       "\t<tr><th scope=row>5</th><td>2013-01-05</td><td>0.7771930</td><td>191.75220</td><td>1035.86</td><td> 9.1</td><td>0,0</td><td> 7.7</td><td>10.5</td><td>1029.7</td><td>1027.6</td><td>89.72875</td><td>89.20845</td></tr>\n",
       "\t<tr><th scope=row>6</th><td>2013-01-06</td><td>1.1710526</td><td>100.45407</td><td>1031.24</td><td>10.5</td><td>0,0</td><td> 8.0</td><td>13.0</td><td>1027.7</td><td>1022.4</td><td>90.22318</td><td>86.77671</td></tr>\n",
       "</tbody>\n",
       "</table>\n"
      ],
      "text/latex": [
       "A data.frame: 6 × 12\n",
       "\\begin{tabular}{r|llllllllllll}\n",
       "  & date & ws & wd & atmos\\_pres & tmed & prec & tmin & tmax & presMax & presMin & RH & solar.radiation\\\\\n",
       "  & <date> & <dbl> & <dbl> & <dbl> & <dbl> & <chr> & <dbl> & <dbl> & <dbl> & <dbl> & <dbl> & <dbl>\\\\\n",
       "\\hline\n",
       "\t1 & 2013-01-01 & 5.5188596 & 276.71826 & 1020.70 & 11.6 & 5,5 & 10.6 & 12.6 & 1019.6 & 1007.3 & 88.11917 & 78.56742\\\\\n",
       "\t2 & 2013-01-02 & 2.4236842 & 306.10747 & 1031.96 & 11.2 & 0,7 &  9.8 & 12.5 & 1028.7 & 1019.6 & 86.44662 & 60.13676\\\\\n",
       "\t3 & 2013-01-03 & 2.2947368 &  84.23836 & 1038.16 & 10.8 & 0,0 &  8.4 & 13.2 & 1030.6 & 1028.7 & 85.19767 & 48.69664\\\\\n",
       "\t4 & 2013-01-04 & 0.2657895 & 126.09937 & 1038.04 & 11.4 & 0,0 &  8.0 & 14.7 & 1031.2 & 1029.6 & 83.13043 & 81.60853\\\\\n",
       "\t5 & 2013-01-05 & 0.7771930 & 191.75220 & 1035.86 &  9.1 & 0,0 &  7.7 & 10.5 & 1029.7 & 1027.6 & 89.72875 & 89.20845\\\\\n",
       "\t6 & 2013-01-06 & 1.1710526 & 100.45407 & 1031.24 & 10.5 & 0,0 &  8.0 & 13.0 & 1027.7 & 1022.4 & 90.22318 & 86.77671\\\\\n",
       "\\end{tabular}\n"
      ],
      "text/markdown": [
       "\n",
       "A data.frame: 6 × 12\n",
       "\n",
       "| <!--/--> | date &lt;date&gt; | ws &lt;dbl&gt; | wd &lt;dbl&gt; | atmos_pres &lt;dbl&gt; | tmed &lt;dbl&gt; | prec &lt;chr&gt; | tmin &lt;dbl&gt; | tmax &lt;dbl&gt; | presMax &lt;dbl&gt; | presMin &lt;dbl&gt; | RH &lt;dbl&gt; | solar.radiation &lt;dbl&gt; |\n",
       "|---|---|---|---|---|---|---|---|---|---|---|---|---|\n",
       "| 1 | 2013-01-01 | 5.5188596 | 276.71826 | 1020.70 | 11.6 | 5,5 | 10.6 | 12.6 | 1019.6 | 1007.3 | 88.11917 | 78.56742 |\n",
       "| 2 | 2013-01-02 | 2.4236842 | 306.10747 | 1031.96 | 11.2 | 0,7 |  9.8 | 12.5 | 1028.7 | 1019.6 | 86.44662 | 60.13676 |\n",
       "| 3 | 2013-01-03 | 2.2947368 |  84.23836 | 1038.16 | 10.8 | 0,0 |  8.4 | 13.2 | 1030.6 | 1028.7 | 85.19767 | 48.69664 |\n",
       "| 4 | 2013-01-04 | 0.2657895 | 126.09937 | 1038.04 | 11.4 | 0,0 |  8.0 | 14.7 | 1031.2 | 1029.6 | 83.13043 | 81.60853 |\n",
       "| 5 | 2013-01-05 | 0.7771930 | 191.75220 | 1035.86 |  9.1 | 0,0 |  7.7 | 10.5 | 1029.7 | 1027.6 | 89.72875 | 89.20845 |\n",
       "| 6 | 2013-01-06 | 1.1710526 | 100.45407 | 1031.24 | 10.5 | 0,0 |  8.0 | 13.0 | 1027.7 | 1022.4 | 90.22318 | 86.77671 |\n",
       "\n"
      ],
      "text/plain": [
       "  date       ws        wd        atmos_pres tmed prec tmin tmax presMax presMin\n",
       "1 2013-01-01 5.5188596 276.71826 1020.70    11.6 5,5  10.6 12.6 1019.6  1007.3 \n",
       "2 2013-01-02 2.4236842 306.10747 1031.96    11.2 0,7   9.8 12.5 1028.7  1019.6 \n",
       "3 2013-01-03 2.2947368  84.23836 1038.16    10.8 0,0   8.4 13.2 1030.6  1028.7 \n",
       "4 2013-01-04 0.2657895 126.09937 1038.04    11.4 0,0   8.0 14.7 1031.2  1029.6 \n",
       "5 2013-01-05 0.7771930 191.75220 1035.86     9.1 0,0   7.7 10.5 1029.7  1027.6 \n",
       "6 2013-01-06 1.1710526 100.45407 1031.24    10.5 0,0   8.0 13.0 1027.7  1022.4 \n",
       "  RH       solar.radiation\n",
       "1 88.11917 78.56742       \n",
       "2 86.44662 60.13676       \n",
       "3 85.19767 48.69664       \n",
       "4 83.13043 81.60853       \n",
       "5 89.72875 89.20845       \n",
       "6 90.22318 86.77671       "
      ]
     },
     "metadata": {},
     "output_type": "display_data"
    }
   ],
   "source": [
    "head(data.row)"
   ]
  },
  {
   "cell_type": "markdown",
   "metadata": {},
   "source": [
    "## Guardar Datos"
   ]
  },
  {
   "cell_type": "markdown",
   "metadata": {},
   "source": [
    "```R\n",
    "save(data_Mto, nn.stations, file=\"data/meteorology.rda\")\n",
    "```"
   ]
  },
  {
   "cell_type": "code",
   "execution_count": null,
   "metadata": {},
   "outputs": [],
   "source": []
  }
 ],
 "metadata": {
  "kernelspec": {
   "display_name": "R",
   "language": "R",
   "name": "ir"
  },
  "language_info": {
   "codemirror_mode": "r",
   "file_extension": ".r",
   "mimetype": "text/x-r-source",
   "name": "R",
   "pygments_lexer": "r",
   "version": "4.0.4"
  }
 },
 "nbformat": 4,
 "nbformat_minor": 4
}
