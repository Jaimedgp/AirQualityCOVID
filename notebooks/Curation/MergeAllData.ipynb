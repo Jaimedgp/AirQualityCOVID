{
 "cells": [
  {
   "cell_type": "markdown",
   "metadata": {},
   "source": [
    "# Merge All Data \n",
    "\n",
    "Merge air quality, AEMET climate and ERA5-Land data for each station."
   ]
  },
  {
   "cell_type": "code",
   "execution_count": 1,
   "metadata": {},
   "outputs": [],
   "source": [
    "# Load packages\n",
    "suppressMessages(library(tidyverse))\n",
    "suppressMessages(library(lubridate))"
   ]
  },
  {
   "cell_type": "code",
   "execution_count": 2,
   "metadata": {},
   "outputs": [],
   "source": [
    "# Working directory\n",
    "setwd(\"~/Repositories/AirQualityCOVID\")\n",
    "\n",
    "# Source some scripts \n",
    "source(\"src/Curation/functions.R\")\n",
    "source(\"src/Curation/general1.R\")"
   ]
  },
  {
   "cell_type": "markdown",
   "metadata": {},
   "source": [
    "### Main Variables"
   ]
  },
  {
   "cell_type": "code",
   "execution_count": 3,
   "metadata": {},
   "outputs": [],
   "source": [
    "start_dt <- ymd_hms(\"2013-01-01 00:00:00\")\n",
    "end_dt <- ymd_hms(\"2020-12-31 00:00:00\")"
   ]
  },
  {
   "cell_type": "markdown",
   "metadata": {},
   "source": [
    "## Stations Information"
   ]
  },
  {
   "cell_type": "code",
   "execution_count": 5,
   "metadata": {},
   "outputs": [],
   "source": [
    "#-----------------------------\n",
    "#    Air Quality Stations\n",
    "#-----------------------------\n",
    "\n",
    "sitesAQ <- read.csv(\"data/Curation/AirQuality/checked_sitesAQ.csv\",\n",
    "                    stringsAsFactor=F)\n",
    "\n",
    "#-----------------------------\n",
    "#       AEMET Stations\n",
    "#-----------------------------\n",
    "\n",
    "sitesMto <- read.csv(\"data/Curation/AEMET/checked_sites_AEMET.csv\",\n",
    "                     stringsAsFactor=F)"
   ]
  },
  {
   "cell_type": "code",
   "execution_count": 5,
   "metadata": {},
   "outputs": [],
   "source": [
    "#--------------------------------\n",
    "#       Relevant Information\n",
    "#--------------------------------\n",
    "\n",
    "list.data <- list()\n",
    "\n",
    "#sites.lv <- levels(as.factor(sitesAQ$site))[1:2]\n",
    "#\n",
    "# Madrid, Santander and Barcelona stations\n",
    "sites.lv <- c(\"es0118a\", \"es1580a\", \"es1480a\")\n",
    "\n",
    "for (st in sites.lv) {\n",
    "    plls <- sitesAQ[sitesAQ$site == st, \"Pollutant\"]\n",
    "    ind <- sitesMto[sitesMto$siteAQ == st, \"indicativo\"]\n",
    "    list.data[[st]] <- list(pollutants = plls,\n",
    "                             indicativo = ind[1])\n",
    "}"
   ]
  },
  {
   "cell_type": "code",
   "execution_count": 6,
   "metadata": {},
   "outputs": [],
   "source": [
    "#-----------------------------\n",
    "#    ERA5-Land Data\n",
    "#-----------------------------\n",
    "\n",
    "folder.ERA5.Land <- \"data/Curation/ERA5-Land/Values/\"\n",
    "\n",
    "# Relative Humidity\n",
    "rh.ERA5.Land <- read.csv(paste(folder.ERA5.Land,\n",
    "                               \"rh_daily_2010_2020_final_stations.csv\",\n",
    "                               sep=\"\"), stringsAsFactor=F) %>% \n",
    "                    data.as.datetime(\"dates\", \"ymd\") %>%\n",
    "                    add_column(variable=\"RH\", .after=\"dates\")\n",
    "\n",
    "# Solar radiation\n",
    "ssrd.ERA5.Land <- read.csv(paste(folder.ERA5.Land,\n",
    "                                 \"ssrd_daily_2010_2020_final_stations.csv\",\n",
    "                                 sep=\"\"),stringsAsFactor=F) %>% \n",
    "                    data.as.datetime(\"dates\", \"ymd\") %>%\n",
    "                    add_column(variable=\"solar.radiation\", .after=\"dates\")\n",
    "\n",
    "ERA5.Land <- rbind(rh.ERA5.Land, ssrd.ERA5.Land)"
   ]
  },
  {
   "cell_type": "markdown",
   "metadata": {},
   "source": [
    "## Merge Process"
   ]
  },
  {
   "cell_type": "code",
   "execution_count": 7,
   "metadata": {},
   "outputs": [],
   "source": [
    "# Folder wherever take downloaded data, if it exists\n",
    "AQ.files <- \"data/Curation/AirQuality/Values/\"\n",
    "Mto.files <- \"data/Curation/AEMET/Values/\""
   ]
  },
  {
   "cell_type": "code",
   "execution_count": 9,
   "metadata": {},
   "outputs": [],
   "source": [
    "\n",
    "for (st in names(list.data)) {\n",
    "    dataAQ <- get.AQdata(st, list.data[[st]]$pollutants, \n",
    "                         start_dt=start_dt, end_dt=end_dt,\n",
    "                         data.by.file=TRUE, fileName=AQ.files) %>%\n",
    "                    group.by.date(formulation = value ~ date + site + variable,\n",
    "                                  dateCl=\"date\", unit=\"day\", FUN=\"mean\") %>%\n",
    "                    data.as.datetime(\"date\", \"ymd\") %>%\n",
    "                    pivot.long.table(valueCl = \"value\", variableCl=\"variable\")\n",
    "    \n",
    "    dataMto <- read.csv(paste(Mto.files,\n",
    "                              list.data[[st]]$indicativo, \".csv\",\n",
    "                              sep=\"\"), stringsAsFactor=F) %>%\n",
    "                    data.as.datetime(\"fecha\", \"ymd\") %>%\n",
    "                    select(\"fecha\", \"indicativo\",\n",
    "                           \"tmed\", \"prec\", \"tmin\", \"tmax\", \"dir\",\n",
    "                           \"velmedia\", \"racha\", \"presMax\", \"presMin\"\n",
    "                           )\n",
    "    \n",
    "    merge.data <- merge(x = dataAQ, y = dataMto,\n",
    "                        by.x = \"date\", by.y = \"fecha\", all.x = TRUE)\n",
    "    \n",
    "    for (vr in levels(as.factor(ERA5.Land$variable))) {\n",
    "        merge.data <- merge(x = merge.data, \n",
    "                            y = ERA5.Land[ERA5.Land$variable == vr,\n",
    "                                          c(\"dates\", st)],\n",
    "                            by.x = \"date\", by.y = \"dates\", all.x = TRUE\n",
    "                           )\n",
    "        names(merge.data)[ncol(merge.data)] <- vr\n",
    "    }\n",
    "    \n",
    "    info.nms <- c(\"date\", \"site\", \"indicativo\")\n",
    "    variables.nms <- names(merge.data)[-which(names(merge.data) %in% info.nms)]\n",
    "    \n",
    "    list.data[[st]]$data <- cbind(merge.data[, info.nms],\n",
    "                                  merge.data[, variables.nms])\n",
    "}"
   ]
  },
  {
   "cell_type": "code",
   "execution_count": 10,
   "metadata": {},
   "outputs": [
    {
     "data": {
      "text/html": [
       "<table>\n",
       "<caption>A data.frame: 6 × 17</caption>\n",
       "<thead>\n",
       "\t<tr><th></th><th scope=col>date</th><th scope=col>site</th><th scope=col>indicativo</th><th scope=col>no</th><th scope=col>no2</th><th scope=col>pm10</th><th scope=col>tmed</th><th scope=col>prec</th><th scope=col>tmin</th><th scope=col>tmax</th><th scope=col>dir</th><th scope=col>velmedia</th><th scope=col>racha</th><th scope=col>presMax</th><th scope=col>presMin</th><th scope=col>RH</th><th scope=col>solar.radiation</th></tr>\n",
       "\t<tr><th></th><th scope=col>&lt;date&gt;</th><th scope=col>&lt;chr&gt;</th><th scope=col>&lt;int&gt;</th><th scope=col>&lt;dbl&gt;</th><th scope=col>&lt;dbl&gt;</th><th scope=col>&lt;dbl&gt;</th><th scope=col>&lt;dbl&gt;</th><th scope=col>&lt;chr&gt;</th><th scope=col>&lt;dbl&gt;</th><th scope=col>&lt;dbl&gt;</th><th scope=col>&lt;int&gt;</th><th scope=col>&lt;dbl&gt;</th><th scope=col>&lt;dbl&gt;</th><th scope=col>&lt;dbl&gt;</th><th scope=col>&lt;dbl&gt;</th><th scope=col>&lt;dbl&gt;</th><th scope=col>&lt;dbl&gt;</th></tr>\n",
       "</thead>\n",
       "<tbody>\n",
       "\t<tr><th scope=row>1</th><td>2013-01-01</td><td>es1580a</td><td>1111</td><td> 3.708333</td><td>14.91667</td><td>21.12500</td><td>11.6</td><td>5,5</td><td>10.6</td><td>12.6</td><td>29</td><td>7.5</td><td>17.2</td><td>1019.6</td><td>1007.3</td><td>88.11917</td><td>78.56742</td></tr>\n",
       "\t<tr><th scope=row>2</th><td>2013-01-02</td><td>es1580a</td><td>1111</td><td>20.416667</td><td>46.75000</td><td>21.79167</td><td>11.2</td><td>0,7</td><td> 9.8</td><td>12.5</td><td>33</td><td>5.3</td><td>13.1</td><td>1028.7</td><td>1019.6</td><td>86.44662</td><td>60.13676</td></tr>\n",
       "\t<tr><th scope=row>3</th><td>2013-01-03</td><td>es1580a</td><td>1111</td><td>13.541667</td><td>38.66667</td><td>20.95833</td><td>10.8</td><td>0,0</td><td> 8.4</td><td>13.2</td><td> 9</td><td>5.8</td><td>13.1</td><td>1030.6</td><td>1028.7</td><td>85.19767</td><td>48.69664</td></tr>\n",
       "\t<tr><th scope=row>4</th><td>2013-01-04</td><td>es1580a</td><td>1111</td><td>47.250000</td><td>46.62500</td><td>30.91667</td><td>11.4</td><td>0,0</td><td> 8.0</td><td>14.7</td><td>12</td><td>2.5</td><td> 7.8</td><td>1031.2</td><td>1029.6</td><td>83.13043</td><td>81.60853</td></tr>\n",
       "\t<tr><th scope=row>5</th><td>2013-01-05</td><td>es1580a</td><td>1111</td><td>19.833333</td><td>38.29167</td><td>27.95833</td><td> 9.1</td><td>0,0</td><td> 7.7</td><td>10.5</td><td>13</td><td>2.8</td><td> 5.6</td><td>1029.7</td><td>1027.6</td><td>89.72875</td><td>89.20845</td></tr>\n",
       "\t<tr><th scope=row>6</th><td>2013-01-06</td><td>es1580a</td><td>1111</td><td> 6.375000</td><td>21.25000</td><td>20.20833</td><td>10.5</td><td>0,0</td><td> 8.0</td><td>13.0</td><td>12</td><td>3.3</td><td> 7.8</td><td>1027.7</td><td>1022.4</td><td>90.22318</td><td>86.77671</td></tr>\n",
       "</tbody>\n",
       "</table>\n"
      ],
      "text/latex": [
       "A data.frame: 6 × 17\n",
       "\\begin{tabular}{r|lllllllllllllllll}\n",
       "  & date & site & indicativo & no & no2 & pm10 & tmed & prec & tmin & tmax & dir & velmedia & racha & presMax & presMin & RH & solar.radiation\\\\\n",
       "  & <date> & <chr> & <int> & <dbl> & <dbl> & <dbl> & <dbl> & <chr> & <dbl> & <dbl> & <int> & <dbl> & <dbl> & <dbl> & <dbl> & <dbl> & <dbl>\\\\\n",
       "\\hline\n",
       "\t1 & 2013-01-01 & es1580a & 1111 &  3.708333 & 14.91667 & 21.12500 & 11.6 & 5,5 & 10.6 & 12.6 & 29 & 7.5 & 17.2 & 1019.6 & 1007.3 & 88.11917 & 78.56742\\\\\n",
       "\t2 & 2013-01-02 & es1580a & 1111 & 20.416667 & 46.75000 & 21.79167 & 11.2 & 0,7 &  9.8 & 12.5 & 33 & 5.3 & 13.1 & 1028.7 & 1019.6 & 86.44662 & 60.13676\\\\\n",
       "\t3 & 2013-01-03 & es1580a & 1111 & 13.541667 & 38.66667 & 20.95833 & 10.8 & 0,0 &  8.4 & 13.2 &  9 & 5.8 & 13.1 & 1030.6 & 1028.7 & 85.19767 & 48.69664\\\\\n",
       "\t4 & 2013-01-04 & es1580a & 1111 & 47.250000 & 46.62500 & 30.91667 & 11.4 & 0,0 &  8.0 & 14.7 & 12 & 2.5 &  7.8 & 1031.2 & 1029.6 & 83.13043 & 81.60853\\\\\n",
       "\t5 & 2013-01-05 & es1580a & 1111 & 19.833333 & 38.29167 & 27.95833 &  9.1 & 0,0 &  7.7 & 10.5 & 13 & 2.8 &  5.6 & 1029.7 & 1027.6 & 89.72875 & 89.20845\\\\\n",
       "\t6 & 2013-01-06 & es1580a & 1111 &  6.375000 & 21.25000 & 20.20833 & 10.5 & 0,0 &  8.0 & 13.0 & 12 & 3.3 &  7.8 & 1027.7 & 1022.4 & 90.22318 & 86.77671\\\\\n",
       "\\end{tabular}\n"
      ],
      "text/markdown": [
       "\n",
       "A data.frame: 6 × 17\n",
       "\n",
       "| <!--/--> | date &lt;date&gt; | site &lt;chr&gt; | indicativo &lt;int&gt; | no &lt;dbl&gt; | no2 &lt;dbl&gt; | pm10 &lt;dbl&gt; | tmed &lt;dbl&gt; | prec &lt;chr&gt; | tmin &lt;dbl&gt; | tmax &lt;dbl&gt; | dir &lt;int&gt; | velmedia &lt;dbl&gt; | racha &lt;dbl&gt; | presMax &lt;dbl&gt; | presMin &lt;dbl&gt; | RH &lt;dbl&gt; | solar.radiation &lt;dbl&gt; |\n",
       "|---|---|---|---|---|---|---|---|---|---|---|---|---|---|---|---|---|---|\n",
       "| 1 | 2013-01-01 | es1580a | 1111 |  3.708333 | 14.91667 | 21.12500 | 11.6 | 5,5 | 10.6 | 12.6 | 29 | 7.5 | 17.2 | 1019.6 | 1007.3 | 88.11917 | 78.56742 |\n",
       "| 2 | 2013-01-02 | es1580a | 1111 | 20.416667 | 46.75000 | 21.79167 | 11.2 | 0,7 |  9.8 | 12.5 | 33 | 5.3 | 13.1 | 1028.7 | 1019.6 | 86.44662 | 60.13676 |\n",
       "| 3 | 2013-01-03 | es1580a | 1111 | 13.541667 | 38.66667 | 20.95833 | 10.8 | 0,0 |  8.4 | 13.2 |  9 | 5.8 | 13.1 | 1030.6 | 1028.7 | 85.19767 | 48.69664 |\n",
       "| 4 | 2013-01-04 | es1580a | 1111 | 47.250000 | 46.62500 | 30.91667 | 11.4 | 0,0 |  8.0 | 14.7 | 12 | 2.5 |  7.8 | 1031.2 | 1029.6 | 83.13043 | 81.60853 |\n",
       "| 5 | 2013-01-05 | es1580a | 1111 | 19.833333 | 38.29167 | 27.95833 |  9.1 | 0,0 |  7.7 | 10.5 | 13 | 2.8 |  5.6 | 1029.7 | 1027.6 | 89.72875 | 89.20845 |\n",
       "| 6 | 2013-01-06 | es1580a | 1111 |  6.375000 | 21.25000 | 20.20833 | 10.5 | 0,0 |  8.0 | 13.0 | 12 | 3.3 |  7.8 | 1027.7 | 1022.4 | 90.22318 | 86.77671 |\n",
       "\n"
      ],
      "text/plain": [
       "  date       site    indicativo no        no2      pm10     tmed prec tmin tmax\n",
       "1 2013-01-01 es1580a 1111        3.708333 14.91667 21.12500 11.6 5,5  10.6 12.6\n",
       "2 2013-01-02 es1580a 1111       20.416667 46.75000 21.79167 11.2 0,7   9.8 12.5\n",
       "3 2013-01-03 es1580a 1111       13.541667 38.66667 20.95833 10.8 0,0   8.4 13.2\n",
       "4 2013-01-04 es1580a 1111       47.250000 46.62500 30.91667 11.4 0,0   8.0 14.7\n",
       "5 2013-01-05 es1580a 1111       19.833333 38.29167 27.95833  9.1 0,0   7.7 10.5\n",
       "6 2013-01-06 es1580a 1111        6.375000 21.25000 20.20833 10.5 0,0   8.0 13.0\n",
       "  dir velmedia racha presMax presMin RH       solar.radiation\n",
       "1 29  7.5      17.2  1019.6  1007.3  88.11917 78.56742       \n",
       "2 33  5.3      13.1  1028.7  1019.6  86.44662 60.13676       \n",
       "3  9  5.8      13.1  1030.6  1028.7  85.19767 48.69664       \n",
       "4 12  2.5       7.8  1031.2  1029.6  83.13043 81.60853       \n",
       "5 13  2.8       5.6  1029.7  1027.6  89.72875 89.20845       \n",
       "6 12  3.3       7.8  1027.7  1022.4  90.22318 86.77671       "
      ]
     },
     "metadata": {},
     "output_type": "display_data"
    }
   ],
   "source": [
    "head(list.data[[\"es1580a\"]]$data)"
   ]
  },
  {
   "cell_type": "markdown",
   "metadata": {},
   "source": [
    "### Guardar Datos en csv <a id=\"saveAQ\"></a>"
   ]
  },
  {
   "cell_type": "markdown",
   "metadata": {},
   "source": [
    "```R\n",
    "\n",
    "for (st in names(list.data)) {\n",
    "    write.csv(list.data[[st]]$data, paste(\"data/Curation/Values\",\n",
    "                                          st, \".csv\", sep=\"\"), \n",
    "              row.names=FALSE)\n",
    "}\n",
    "```"
   ]
  }
 ],
 "metadata": {
  "kernelspec": {
   "display_name": "R",
   "language": "R",
   "name": "ir"
  },
  "language_info": {
   "codemirror_mode": "r",
   "file_extension": ".r",
   "mimetype": "text/x-r-source",
   "name": "R",
   "pygments_lexer": "r",
   "version": "3.6.3"
  }
 },
 "nbformat": 4,
 "nbformat_minor": 4
}
