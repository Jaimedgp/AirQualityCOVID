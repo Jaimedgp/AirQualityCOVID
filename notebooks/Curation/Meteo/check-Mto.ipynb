{
 "cells": [
  {
   "cell_type": "markdown",
   "metadata": {},
   "source": [
    "# Check Meteo Stations\n",
    "\n",
    "Filtre Meteo sites in order to obtain those with the main requisites needed to our study.                                      \n",
    "\n",
    "- Have > 80% of the data from any of the following variables:\n",
    "\n",
    "    | air_temp | ws | wd | precip | RH |\n",
    "    |:--------:|:--:|:--:|:------:|:--:|\n",
    "\n",
    "- Being at a distance less than 20 km from the station"
   ]
  },
  {
   "cell_type": "code",
   "execution_count": 40,
   "metadata": {},
   "outputs": [],
   "source": [
    "setwd(\"~/Repositories/AirQualityCOVID/\")"
   ]
  },
  {
   "cell_type": "markdown",
   "metadata": {},
   "source": [
    "## Funciones Utiles"
   ]
  },
  {
   "cell_type": "markdown",
   "metadata": {},
   "source": [
    "## Todas las estaciones de estudio"
   ]
  },
  {
   "cell_type": "code",
   "execution_count": 56,
   "metadata": {},
   "outputs": [
    {
     "data": {
      "text/html": [
       "<table>\n",
       "<caption>A data.frame: 6 × 22</caption>\n",
       "<thead>\n",
       "\t<tr><th></th><th scope=col>site</th><th scope=col>start_dt</th><th scope=col>end_dt</th><th scope=col>ws</th><th scope=col>wd</th><th scope=col>air_temp</th><th scope=col>atmos_pres</th><th scope=col>visibility</th><th scope=col>dew_point</th><th scope=col>RH</th><th scope=col>⋯</th><th scope=col>cl_2</th><th scope=col>cl_3</th><th scope=col>cl</th><th scope=col>cl_1_height</th><th scope=col>cl_2_height</th><th scope=col>cl_3_height</th><th scope=col>precip_6</th><th scope=col>precip</th><th scope=col>precip_12</th><th scope=col>pwc</th></tr>\n",
       "\t<tr><th></th><th scope=col>&lt;chr&gt;</th><th scope=col>&lt;chr&gt;</th><th scope=col>&lt;chr&gt;</th><th scope=col>&lt;dbl&gt;</th><th scope=col>&lt;dbl&gt;</th><th scope=col>&lt;dbl&gt;</th><th scope=col>&lt;dbl&gt;</th><th scope=col>&lt;dbl&gt;</th><th scope=col>&lt;dbl&gt;</th><th scope=col>&lt;dbl&gt;</th><th scope=col>⋯</th><th scope=col>&lt;dbl&gt;</th><th scope=col>&lt;dbl&gt;</th><th scope=col>&lt;dbl&gt;</th><th scope=col>&lt;dbl&gt;</th><th scope=col>&lt;dbl&gt;</th><th scope=col>&lt;dbl&gt;</th><th scope=col>&lt;dbl&gt;</th><th scope=col>&lt;dbl&gt;</th><th scope=col>&lt;dbl&gt;</th><th scope=col>&lt;int&gt;</th></tr>\n",
       "</thead>\n",
       "<tbody>\n",
       "\t<tr><th scope=row>1</th><td>603200-99999</td><td>2013-01-09</td><td>2021-01-01</td><td>0.4892040</td><td>0.4884986</td><td>0.4891752</td><td>0.4854470</td><td>0.48161796</td><td>0.4884267</td><td>0.4884123</td><td>⋯</td><td>0.005959407</td><td>        NA</td><td>0.04704189</td><td>0.03172592</td><td>         NA</td><td>        NA</td><td>0.12886138</td><td>0.22218224</td><td>        NA</td><td>0</td></tr>\n",
       "\t<tr><th scope=row>2</th><td>600300-99999</td><td>2013-01-01</td><td>2020-12-31</td><td>0.9989020</td><td>0.9909736</td><td>0.9986881</td><td>0.9755875</td><td>0.41636721</td><td>0.9986168</td><td>0.9986168</td><td>⋯</td><td>0.309120465</td><td>0.03044433</td><td>0.88232945</td><td>0.87136379</td><td>0.306097422</td><td>0.03043007</td><td>0.04021218</td><td>0.29863963</td><td>0.04072553</td><td>0</td></tr>\n",
       "\t<tr><th scope=row>3</th><td>600200-99999</td><td>2013-01-01</td><td>2021-01-01</td><td>0.5429815</td><td>0.5411840</td><td>0.5433666</td><td>0.5430385</td><td>0.53466476</td><td>0.5432525</td><td>0.5432382</td><td>⋯</td><td>0.008858773</td><td>       Inf</td><td>0.14633381</td><td>0.10604850</td><td>0.000171184</td><td>        NA</td><td>0.02392297</td><td>0.07604850</td><td>0.13283880</td><td>0</td></tr>\n",
       "\t<tr><th scope=row>4</th><td>600180-99999</td><td>2017-07-12</td><td>2020-12-31</td><td>0.7823730</td><td>0.7823730</td><td>0.7930491</td><td>0.7875632</td><td>        NA</td><td>0.7869719</td><td>0.7869719</td><td>⋯</td><td>0.000000000</td><td>0.00000000</td><td>0.00000000</td><td>0.00000000</td><td>0.000000000</td><td>0.00000000</td><td>        NA</td><td>0.00863938</td><td>        NA</td><td>0</td></tr>\n",
       "\t<tr><th scope=row>5</th><td>085510-99999</td><td>2013-01-01</td><td>2020-12-31</td><td>0.3887240</td><td>0.3473237</td><td>0.6023311</td><td>0.6033012</td><td>0.09498402</td><td>0.5615727</td><td>0.5615299</td><td>⋯</td><td>0.108365670</td><td>0.02208400</td><td>0.07883474</td><td>0.07739386</td><td>0.108151678</td><td>0.02208400</td><td>0.07515407</td><td>0.13231853</td><td>0.05499601</td><td>0</td></tr>\n",
       "\t<tr><th scope=row>6</th><td>084950-99999</td><td>2013-01-01</td><td>2020-12-31</td><td>0.9959645</td><td>0.9955938</td><td>0.9961499</td><td>0.9901466</td><td>0.99047456</td><td>0.9960786</td><td>0.9960786</td><td>⋯</td><td>0.400082706</td><td>0.12033710</td><td>0.79156685</td><td>0.79507472</td><td>0.400082706</td><td>0.12033710</td><td>0.05502795</td><td>0.21299624</td><td>0.06231462</td><td>0</td></tr>\n",
       "</tbody>\n",
       "</table>\n"
      ],
      "text/latex": [
       "A data.frame: 6 × 22\n",
       "\\begin{tabular}{r|lllllllllllllllllllll}\n",
       "  & site & start\\_dt & end\\_dt & ws & wd & air\\_temp & atmos\\_pres & visibility & dew\\_point & RH & ⋯ & cl\\_2 & cl\\_3 & cl & cl\\_1\\_height & cl\\_2\\_height & cl\\_3\\_height & precip\\_6 & precip & precip\\_12 & pwc\\\\\n",
       "  & <chr> & <chr> & <chr> & <dbl> & <dbl> & <dbl> & <dbl> & <dbl> & <dbl> & <dbl> & ⋯ & <dbl> & <dbl> & <dbl> & <dbl> & <dbl> & <dbl> & <dbl> & <dbl> & <dbl> & <int>\\\\\n",
       "\\hline\n",
       "\t1 & 603200-99999 & 2013-01-09 & 2021-01-01 & 0.4892040 & 0.4884986 & 0.4891752 & 0.4854470 & 0.48161796 & 0.4884267 & 0.4884123 & ⋯ & 0.005959407 &         NA & 0.04704189 & 0.03172592 &          NA &         NA & 0.12886138 & 0.22218224 &         NA & 0\\\\\n",
       "\t2 & 600300-99999 & 2013-01-01 & 2020-12-31 & 0.9989020 & 0.9909736 & 0.9986881 & 0.9755875 & 0.41636721 & 0.9986168 & 0.9986168 & ⋯ & 0.309120465 & 0.03044433 & 0.88232945 & 0.87136379 & 0.306097422 & 0.03043007 & 0.04021218 & 0.29863963 & 0.04072553 & 0\\\\\n",
       "\t3 & 600200-99999 & 2013-01-01 & 2021-01-01 & 0.5429815 & 0.5411840 & 0.5433666 & 0.5430385 & 0.53466476 & 0.5432525 & 0.5432382 & ⋯ & 0.008858773 &        Inf & 0.14633381 & 0.10604850 & 0.000171184 &         NA & 0.02392297 & 0.07604850 & 0.13283880 & 0\\\\\n",
       "\t4 & 600180-99999 & 2017-07-12 & 2020-12-31 & 0.7823730 & 0.7823730 & 0.7930491 & 0.7875632 &         NA & 0.7869719 & 0.7869719 & ⋯ & 0.000000000 & 0.00000000 & 0.00000000 & 0.00000000 & 0.000000000 & 0.00000000 &         NA & 0.00863938 &         NA & 0\\\\\n",
       "\t5 & 085510-99999 & 2013-01-01 & 2020-12-31 & 0.3887240 & 0.3473237 & 0.6023311 & 0.6033012 & 0.09498402 & 0.5615727 & 0.5615299 & ⋯ & 0.108365670 & 0.02208400 & 0.07883474 & 0.07739386 & 0.108151678 & 0.02208400 & 0.07515407 & 0.13231853 & 0.05499601 & 0\\\\\n",
       "\t6 & 084950-99999 & 2013-01-01 & 2020-12-31 & 0.9959645 & 0.9955938 & 0.9961499 & 0.9901466 & 0.99047456 & 0.9960786 & 0.9960786 & ⋯ & 0.400082706 & 0.12033710 & 0.79156685 & 0.79507472 & 0.400082706 & 0.12033710 & 0.05502795 & 0.21299624 & 0.06231462 & 0\\\\\n",
       "\\end{tabular}\n"
      ],
      "text/markdown": [
       "\n",
       "A data.frame: 6 × 22\n",
       "\n",
       "| <!--/--> | site &lt;chr&gt; | start_dt &lt;chr&gt; | end_dt &lt;chr&gt; | ws &lt;dbl&gt; | wd &lt;dbl&gt; | air_temp &lt;dbl&gt; | atmos_pres &lt;dbl&gt; | visibility &lt;dbl&gt; | dew_point &lt;dbl&gt; | RH &lt;dbl&gt; | ⋯ ⋯ | cl_2 &lt;dbl&gt; | cl_3 &lt;dbl&gt; | cl &lt;dbl&gt; | cl_1_height &lt;dbl&gt; | cl_2_height &lt;dbl&gt; | cl_3_height &lt;dbl&gt; | precip_6 &lt;dbl&gt; | precip &lt;dbl&gt; | precip_12 &lt;dbl&gt; | pwc &lt;int&gt; |\n",
       "|---|---|---|---|---|---|---|---|---|---|---|---|---|---|---|---|---|---|---|---|---|---|\n",
       "| 1 | 603200-99999 | 2013-01-09 | 2021-01-01 | 0.4892040 | 0.4884986 | 0.4891752 | 0.4854470 | 0.48161796 | 0.4884267 | 0.4884123 | ⋯ | 0.005959407 |         NA | 0.04704189 | 0.03172592 |          NA |         NA | 0.12886138 | 0.22218224 |         NA | 0 |\n",
       "| 2 | 600300-99999 | 2013-01-01 | 2020-12-31 | 0.9989020 | 0.9909736 | 0.9986881 | 0.9755875 | 0.41636721 | 0.9986168 | 0.9986168 | ⋯ | 0.309120465 | 0.03044433 | 0.88232945 | 0.87136379 | 0.306097422 | 0.03043007 | 0.04021218 | 0.29863963 | 0.04072553 | 0 |\n",
       "| 3 | 600200-99999 | 2013-01-01 | 2021-01-01 | 0.5429815 | 0.5411840 | 0.5433666 | 0.5430385 | 0.53466476 | 0.5432525 | 0.5432382 | ⋯ | 0.008858773 |        Inf | 0.14633381 | 0.10604850 | 0.000171184 |         NA | 0.02392297 | 0.07604850 | 0.13283880 | 0 |\n",
       "| 4 | 600180-99999 | 2017-07-12 | 2020-12-31 | 0.7823730 | 0.7823730 | 0.7930491 | 0.7875632 |         NA | 0.7869719 | 0.7869719 | ⋯ | 0.000000000 | 0.00000000 | 0.00000000 | 0.00000000 | 0.000000000 | 0.00000000 |         NA | 0.00863938 |         NA | 0 |\n",
       "| 5 | 085510-99999 | 2013-01-01 | 2020-12-31 | 0.3887240 | 0.3473237 | 0.6023311 | 0.6033012 | 0.09498402 | 0.5615727 | 0.5615299 | ⋯ | 0.108365670 | 0.02208400 | 0.07883474 | 0.07739386 | 0.108151678 | 0.02208400 | 0.07515407 | 0.13231853 | 0.05499601 | 0 |\n",
       "| 6 | 084950-99999 | 2013-01-01 | 2020-12-31 | 0.9959645 | 0.9955938 | 0.9961499 | 0.9901466 | 0.99047456 | 0.9960786 | 0.9960786 | ⋯ | 0.400082706 | 0.12033710 | 0.79156685 | 0.79507472 | 0.400082706 | 0.12033710 | 0.05502795 | 0.21299624 | 0.06231462 | 0 |\n",
       "\n"
      ],
      "text/plain": [
       "  site         start_dt   end_dt     ws        wd        air_temp  atmos_pres\n",
       "1 603200-99999 2013-01-09 2021-01-01 0.4892040 0.4884986 0.4891752 0.4854470 \n",
       "2 600300-99999 2013-01-01 2020-12-31 0.9989020 0.9909736 0.9986881 0.9755875 \n",
       "3 600200-99999 2013-01-01 2021-01-01 0.5429815 0.5411840 0.5433666 0.5430385 \n",
       "4 600180-99999 2017-07-12 2020-12-31 0.7823730 0.7823730 0.7930491 0.7875632 \n",
       "5 085510-99999 2013-01-01 2020-12-31 0.3887240 0.3473237 0.6023311 0.6033012 \n",
       "6 084950-99999 2013-01-01 2020-12-31 0.9959645 0.9955938 0.9961499 0.9901466 \n",
       "  visibility dew_point RH        ⋯ cl_2        cl_3       cl        \n",
       "1 0.48161796 0.4884267 0.4884123 ⋯ 0.005959407         NA 0.04704189\n",
       "2 0.41636721 0.9986168 0.9986168 ⋯ 0.309120465 0.03044433 0.88232945\n",
       "3 0.53466476 0.5432525 0.5432382 ⋯ 0.008858773        Inf 0.14633381\n",
       "4         NA 0.7869719 0.7869719 ⋯ 0.000000000 0.00000000 0.00000000\n",
       "5 0.09498402 0.5615727 0.5615299 ⋯ 0.108365670 0.02208400 0.07883474\n",
       "6 0.99047456 0.9960786 0.9960786 ⋯ 0.400082706 0.12033710 0.79156685\n",
       "  cl_1_height cl_2_height cl_3_height precip_6   precip     precip_12  pwc\n",
       "1 0.03172592           NA         NA  0.12886138 0.22218224         NA 0  \n",
       "2 0.87136379  0.306097422 0.03043007  0.04021218 0.29863963 0.04072553 0  \n",
       "3 0.10604850  0.000171184         NA  0.02392297 0.07604850 0.13283880 0  \n",
       "4 0.00000000  0.000000000 0.00000000          NA 0.00863938         NA 0  \n",
       "5 0.07739386  0.108151678 0.02208400  0.07515407 0.13231853 0.05499601 0  \n",
       "6 0.79507472  0.400082706 0.12033710  0.05502795 0.21299624 0.06231462 0  "
      ]
     },
     "metadata": {},
     "output_type": "display_data"
    }
   ],
   "source": [
    "amount.sitesMto <- read.csv(\"data/Curation/info_sitesMto_amount.csv\")\n",
    "head(amount.sitesMto)"
   ]
  },
  {
   "cell_type": "code",
   "execution_count": 58,
   "metadata": {},
   "outputs": [
    {
     "data": {
      "text/html": [
       "<table>\n",
       "<caption>A data.frame: 4 × 19</caption>\n",
       "<thead>\n",
       "\t<tr><th></th><th scope=col>ws</th><th scope=col>wd</th><th scope=col>air_temp</th><th scope=col>atmos_pres</th><th scope=col>visibility</th><th scope=col>dew_point</th><th scope=col>RH</th><th scope=col>ceil_hgt</th><th scope=col>cl_1</th><th scope=col>cl_2</th><th scope=col>cl_3</th><th scope=col>cl</th><th scope=col>cl_1_height</th><th scope=col>cl_2_height</th><th scope=col>cl_3_height</th><th scope=col>precip_6</th><th scope=col>precip</th><th scope=col>precip_12</th><th scope=col>pwc</th></tr>\n",
       "\t<tr><th></th><th scope=col>&lt;int&gt;</th><th scope=col>&lt;int&gt;</th><th scope=col>&lt;int&gt;</th><th scope=col>&lt;int&gt;</th><th scope=col>&lt;int&gt;</th><th scope=col>&lt;int&gt;</th><th scope=col>&lt;int&gt;</th><th scope=col>&lt;int&gt;</th><th scope=col>&lt;int&gt;</th><th scope=col>&lt;int&gt;</th><th scope=col>&lt;int&gt;</th><th scope=col>&lt;int&gt;</th><th scope=col>&lt;int&gt;</th><th scope=col>&lt;int&gt;</th><th scope=col>&lt;int&gt;</th><th scope=col>&lt;int&gt;</th><th scope=col>&lt;int&gt;</th><th scope=col>&lt;int&gt;</th><th scope=col>&lt;int&gt;</th></tr>\n",
       "</thead>\n",
       "<tbody>\n",
       "\t<tr><th scope=row>0.5</th><td>68</td><td>68</td><td>69</td><td>51</td><td>33</td><td>67</td><td>67</td><td>10</td><td>23</td><td>0</td><td>5</td><td>23</td><td>20</td><td>0</td><td>3</td><td>4</td><td>7</td><td>2</td><td>0</td></tr>\n",
       "\t<tr><th scope=row>0.7</th><td>56</td><td>50</td><td>57</td><td>36</td><td>15</td><td>52</td><td>52</td><td> 1</td><td> 9</td><td>0</td><td>5</td><td> 9</td><td> 9</td><td>0</td><td>2</td><td>3</td><td>2</td><td>1</td><td>0</td></tr>\n",
       "\t<tr><th scope=row>0.8</th><td>36</td><td>33</td><td>36</td><td>20</td><td> 6</td><td>36</td><td>36</td><td> 0</td><td> 3</td><td>0</td><td>5</td><td> 3</td><td> 3</td><td>0</td><td>2</td><td>3</td><td>2</td><td>0</td><td>0</td></tr>\n",
       "\t<tr><th scope=row>0.9</th><td>31</td><td>18</td><td>31</td><td>17</td><td> 5</td><td>31</td><td>31</td><td> 0</td><td> 0</td><td>0</td><td>5</td><td> 0</td><td> 0</td><td>0</td><td>2</td><td>3</td><td>2</td><td>0</td><td>0</td></tr>\n",
       "</tbody>\n",
       "</table>\n"
      ],
      "text/latex": [
       "A data.frame: 4 × 19\n",
       "\\begin{tabular}{r|lllllllllllllllllll}\n",
       "  & ws & wd & air\\_temp & atmos\\_pres & visibility & dew\\_point & RH & ceil\\_hgt & cl\\_1 & cl\\_2 & cl\\_3 & cl & cl\\_1\\_height & cl\\_2\\_height & cl\\_3\\_height & precip\\_6 & precip & precip\\_12 & pwc\\\\\n",
       "  & <int> & <int> & <int> & <int> & <int> & <int> & <int> & <int> & <int> & <int> & <int> & <int> & <int> & <int> & <int> & <int> & <int> & <int> & <int>\\\\\n",
       "\\hline\n",
       "\t0.5 & 68 & 68 & 69 & 51 & 33 & 67 & 67 & 10 & 23 & 0 & 5 & 23 & 20 & 0 & 3 & 4 & 7 & 2 & 0\\\\\n",
       "\t0.7 & 56 & 50 & 57 & 36 & 15 & 52 & 52 &  1 &  9 & 0 & 5 &  9 &  9 & 0 & 2 & 3 & 2 & 1 & 0\\\\\n",
       "\t0.8 & 36 & 33 & 36 & 20 &  6 & 36 & 36 &  0 &  3 & 0 & 5 &  3 &  3 & 0 & 2 & 3 & 2 & 0 & 0\\\\\n",
       "\t0.9 & 31 & 18 & 31 & 17 &  5 & 31 & 31 &  0 &  0 & 0 & 5 &  0 &  0 & 0 & 2 & 3 & 2 & 0 & 0\\\\\n",
       "\\end{tabular}\n"
      ],
      "text/markdown": [
       "\n",
       "A data.frame: 4 × 19\n",
       "\n",
       "| <!--/--> | ws &lt;int&gt; | wd &lt;int&gt; | air_temp &lt;int&gt; | atmos_pres &lt;int&gt; | visibility &lt;int&gt; | dew_point &lt;int&gt; | RH &lt;int&gt; | ceil_hgt &lt;int&gt; | cl_1 &lt;int&gt; | cl_2 &lt;int&gt; | cl_3 &lt;int&gt; | cl &lt;int&gt; | cl_1_height &lt;int&gt; | cl_2_height &lt;int&gt; | cl_3_height &lt;int&gt; | precip_6 &lt;int&gt; | precip &lt;int&gt; | precip_12 &lt;int&gt; | pwc &lt;int&gt; |\n",
       "|---|---|---|---|---|---|---|---|---|---|---|---|---|---|---|---|---|---|---|---|\n",
       "| 0.5 | 68 | 68 | 69 | 51 | 33 | 67 | 67 | 10 | 23 | 0 | 5 | 23 | 20 | 0 | 3 | 4 | 7 | 2 | 0 |\n",
       "| 0.7 | 56 | 50 | 57 | 36 | 15 | 52 | 52 |  1 |  9 | 0 | 5 |  9 |  9 | 0 | 2 | 3 | 2 | 1 | 0 |\n",
       "| 0.8 | 36 | 33 | 36 | 20 |  6 | 36 | 36 |  0 |  3 | 0 | 5 |  3 |  3 | 0 | 2 | 3 | 2 | 0 | 0 |\n",
       "| 0.9 | 31 | 18 | 31 | 17 |  5 | 31 | 31 |  0 |  0 | 0 | 5 |  0 |  0 | 0 | 2 | 3 | 2 | 0 | 0 |\n",
       "\n"
      ],
      "text/plain": [
       "    ws wd air_temp atmos_pres visibility dew_point RH ceil_hgt cl_1 cl_2 cl_3\n",
       "0.5 68 68 69       51         33         67        67 10       23   0    5   \n",
       "0.7 56 50 57       36         15         52        52  1        9   0    5   \n",
       "0.8 36 33 36       20          6         36        36  0        3   0    5   \n",
       "0.9 31 18 31       17          5         31        31  0        0   0    5   \n",
       "    cl cl_1_height cl_2_height cl_3_height precip_6 precip precip_12 pwc\n",
       "0.5 23 20          0           3           4        7      2         0  \n",
       "0.7  9  9          0           2           3        2      1         0  \n",
       "0.8  3  3          0           2           3        2      0         0  \n",
       "0.9  0  0          0           2           3        2      0         0  "
      ]
     },
     "metadata": {},
     "output_type": "display_data"
    }
   ],
   "source": [
    "df <- data.frame()\n",
    "percent <- c(0.5, 0.7, 0.8, 0.9)\n",
    "\n",
    "for (nm in names(amount.sitesMto)[4:length(names(amount.sitesMto))]) {\n",
    "    for (i in 1:length(percent)) {\n",
    "        count <- sum(amount.sitesMto[, nm] >= percent[i], na.rm=TRUE)\n",
    "        df[i, nm] <- count\n",
    "    } \n",
    "}\n",
    "\n",
    "\n",
    "row.names(df) <- percent\n",
    "head(df)"
   ]
  },
  {
   "cell_type": "markdown",
   "metadata": {},
   "source": [
    "## > 80% of Main Variables"
   ]
  },
  {
   "cell_type": "code",
   "execution_count": null,
   "metadata": {},
   "outputs": [],
   "source": [
    "data.80 <- amount.sitesMto[]"
   ]
  }
 ],
 "metadata": {
  "kernelspec": {
   "display_name": "R",
   "language": "R",
   "name": "ir"
  },
  "language_info": {
   "codemirror_mode": "r",
   "file_extension": ".r",
   "mimetype": "text/x-r-source",
   "name": "R",
   "pygments_lexer": "r",
   "version": "4.0.3"
  }
 },
 "nbformat": 4,
 "nbformat_minor": 4
}
