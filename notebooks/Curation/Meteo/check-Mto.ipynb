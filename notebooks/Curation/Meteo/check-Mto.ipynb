{
 "cells": [
  {
   "cell_type": "markdown",
   "metadata": {},
   "source": [
    "# Check Meteo Stations\n",
    "\n",
    "Filtre Meteo sites in order to obtain those with the main requisites needed to our study.                                      \n",
    "\n",
    "- Have > 80% of the data from any of the following variables:\n",
    "\n",
    "    | air_temp | ws | wd | RH |\n",
    "    |:--------:|:--:|:--:|:--:|\n",
    "    \n",
    "**No hay suficientes estaciones con suficientes datos de precipitacion**\n",
    "\n",
    "- Being at a distance less than 20 km from the AirQuality station\n",
    "\n",
    "- Only One Meteo station for each AirQuality station"
   ]
  },
  {
   "cell_type": "code",
   "execution_count": 1,
   "metadata": {},
   "outputs": [],
   "source": [
    "setwd(\"~/Repositories/AirQualityCOVID/\")"
   ]
  },
  {
   "cell_type": "markdown",
   "metadata": {},
   "source": [
    "## Utilities"
   ]
  },
  {
   "cell_type": "code",
   "execution_count": 2,
   "metadata": {},
   "outputs": [],
   "source": [
    "erase.sitesAQ <- function(old.df, new.df.codes) {\n",
    "    final.sites <- data.frame()\n",
    "\n",
    "    for (cd in levels(as.factor(new.df.codes))) {\n",
    "        final.sites <- rbind(final.sites,\n",
    "                             old.df[old.df$code == cd,\n",
    "                             c(\"code\", \"siteAQ\")]\n",
    "                            )\n",
    "    }\n",
    "    \n",
    "    final.sites\n",
    "}"
   ]
  },
  {
   "cell_type": "code",
   "execution_count": 3,
   "metadata": {},
   "outputs": [],
   "source": [
    "get.miss.stations <- function(new.df) {\n",
    "    sitesAQ <- read.csv(\"data/Curation/sitesAQ.csv\",\n",
    "                        stringsAsFactor=FALSE)\n",
    "\n",
    "    sitesAQ[!(sitesAQ$site %in% new.df$siteAQ), c(\"site\", \"site_name\")]\n",
    "}"
   ]
  },
  {
   "cell_type": "markdown",
   "metadata": {},
   "source": [
    "## Todas las estaciones de estudio"
   ]
  },
  {
   "cell_type": "code",
   "execution_count": 4,
   "metadata": {},
   "outputs": [
    {
     "data": {
      "text/html": [
       "75"
      ],
      "text/latex": [
       "75"
      ],
      "text/markdown": [
       "75"
      ],
      "text/plain": [
       "[1] 75"
      ]
     },
     "metadata": {},
     "output_type": "display_data"
    }
   ],
   "source": [
    "amount.sitesMto <- read.csv(\"data/Curation/info_sitesMto_amount.csv\",\n",
    "                            stringsAsFactor=FALSE)\n",
    "\n",
    "length(levels(as.factor(amount.sitesMto$site)))"
   ]
  },
  {
   "cell_type": "code",
   "execution_count": 5,
   "metadata": {},
   "outputs": [
    {
     "data": {
      "text/html": [
       "67"
      ],
      "text/latex": [
       "67"
      ],
      "text/markdown": [
       "67"
      ],
      "text/plain": [
       "[1] 67"
      ]
     },
     "metadata": {},
     "output_type": "display_data"
    }
   ],
   "source": [
    "sites.Mto <- read.csv(\"data/Curation/sitesMto.csv\", \n",
    "                      stringsAsFactor=FALSE)\n",
    "\n",
    "length(levels(as.factor(sites.Mto$siteAQ)))"
   ]
  },
  {
   "cell_type": "markdown",
   "metadata": {},
   "source": [
    "## Percentage Summary"
   ]
  },
  {
   "cell_type": "code",
   "execution_count": 6,
   "metadata": {},
   "outputs": [
    {
     "data": {
      "text/html": [
       "<table>\n",
       "<caption>A data.frame: 4 × 19</caption>\n",
       "<thead>\n",
       "\t<tr><th></th><th scope=col>ws</th><th scope=col>wd</th><th scope=col>air_temp</th><th scope=col>atmos_pres</th><th scope=col>visibility</th><th scope=col>dew_point</th><th scope=col>RH</th><th scope=col>ceil_hgt</th><th scope=col>cl_1</th><th scope=col>cl_2</th><th scope=col>cl_3</th><th scope=col>cl</th><th scope=col>cl_1_height</th><th scope=col>cl_2_height</th><th scope=col>cl_3_height</th><th scope=col>precip_6</th><th scope=col>precip</th><th scope=col>precip_12</th><th scope=col>pwc</th></tr>\n",
       "\t<tr><th></th><th scope=col>&lt;int&gt;</th><th scope=col>&lt;int&gt;</th><th scope=col>&lt;int&gt;</th><th scope=col>&lt;int&gt;</th><th scope=col>&lt;int&gt;</th><th scope=col>&lt;int&gt;</th><th scope=col>&lt;int&gt;</th><th scope=col>&lt;int&gt;</th><th scope=col>&lt;int&gt;</th><th scope=col>&lt;int&gt;</th><th scope=col>&lt;int&gt;</th><th scope=col>&lt;int&gt;</th><th scope=col>&lt;int&gt;</th><th scope=col>&lt;int&gt;</th><th scope=col>&lt;int&gt;</th><th scope=col>&lt;int&gt;</th><th scope=col>&lt;int&gt;</th><th scope=col>&lt;int&gt;</th><th scope=col>&lt;int&gt;</th></tr>\n",
       "</thead>\n",
       "<tbody>\n",
       "\t<tr><th scope=row>0.5</th><td>68</td><td>68</td><td>69</td><td>51</td><td>33</td><td>67</td><td>67</td><td>10</td><td>23</td><td>0</td><td>5</td><td>23</td><td>20</td><td>0</td><td>3</td><td>4</td><td>7</td><td>2</td><td>0</td></tr>\n",
       "\t<tr><th scope=row>0.7</th><td>56</td><td>50</td><td>57</td><td>36</td><td>15</td><td>52</td><td>52</td><td> 1</td><td> 9</td><td>0</td><td>5</td><td> 9</td><td> 9</td><td>0</td><td>2</td><td>3</td><td>2</td><td>1</td><td>0</td></tr>\n",
       "\t<tr><th scope=row>0.8</th><td>36</td><td>33</td><td>36</td><td>20</td><td> 6</td><td>36</td><td>36</td><td> 0</td><td> 3</td><td>0</td><td>5</td><td> 3</td><td> 3</td><td>0</td><td>2</td><td>3</td><td>2</td><td>0</td><td>0</td></tr>\n",
       "\t<tr><th scope=row>0.9</th><td>31</td><td>18</td><td>31</td><td>17</td><td> 5</td><td>31</td><td>31</td><td> 0</td><td> 0</td><td>0</td><td>5</td><td> 0</td><td> 0</td><td>0</td><td>2</td><td>3</td><td>2</td><td>0</td><td>0</td></tr>\n",
       "</tbody>\n",
       "</table>\n"
      ],
      "text/latex": [
       "A data.frame: 4 × 19\n",
       "\\begin{tabular}{r|lllllllllllllllllll}\n",
       "  & ws & wd & air\\_temp & atmos\\_pres & visibility & dew\\_point & RH & ceil\\_hgt & cl\\_1 & cl\\_2 & cl\\_3 & cl & cl\\_1\\_height & cl\\_2\\_height & cl\\_3\\_height & precip\\_6 & precip & precip\\_12 & pwc\\\\\n",
       "  & <int> & <int> & <int> & <int> & <int> & <int> & <int> & <int> & <int> & <int> & <int> & <int> & <int> & <int> & <int> & <int> & <int> & <int> & <int>\\\\\n",
       "\\hline\n",
       "\t0.5 & 68 & 68 & 69 & 51 & 33 & 67 & 67 & 10 & 23 & 0 & 5 & 23 & 20 & 0 & 3 & 4 & 7 & 2 & 0\\\\\n",
       "\t0.7 & 56 & 50 & 57 & 36 & 15 & 52 & 52 &  1 &  9 & 0 & 5 &  9 &  9 & 0 & 2 & 3 & 2 & 1 & 0\\\\\n",
       "\t0.8 & 36 & 33 & 36 & 20 &  6 & 36 & 36 &  0 &  3 & 0 & 5 &  3 &  3 & 0 & 2 & 3 & 2 & 0 & 0\\\\\n",
       "\t0.9 & 31 & 18 & 31 & 17 &  5 & 31 & 31 &  0 &  0 & 0 & 5 &  0 &  0 & 0 & 2 & 3 & 2 & 0 & 0\\\\\n",
       "\\end{tabular}\n"
      ],
      "text/markdown": [
       "\n",
       "A data.frame: 4 × 19\n",
       "\n",
       "| <!--/--> | ws &lt;int&gt; | wd &lt;int&gt; | air_temp &lt;int&gt; | atmos_pres &lt;int&gt; | visibility &lt;int&gt; | dew_point &lt;int&gt; | RH &lt;int&gt; | ceil_hgt &lt;int&gt; | cl_1 &lt;int&gt; | cl_2 &lt;int&gt; | cl_3 &lt;int&gt; | cl &lt;int&gt; | cl_1_height &lt;int&gt; | cl_2_height &lt;int&gt; | cl_3_height &lt;int&gt; | precip_6 &lt;int&gt; | precip &lt;int&gt; | precip_12 &lt;int&gt; | pwc &lt;int&gt; |\n",
       "|---|---|---|---|---|---|---|---|---|---|---|---|---|---|---|---|---|---|---|---|\n",
       "| 0.5 | 68 | 68 | 69 | 51 | 33 | 67 | 67 | 10 | 23 | 0 | 5 | 23 | 20 | 0 | 3 | 4 | 7 | 2 | 0 |\n",
       "| 0.7 | 56 | 50 | 57 | 36 | 15 | 52 | 52 |  1 |  9 | 0 | 5 |  9 |  9 | 0 | 2 | 3 | 2 | 1 | 0 |\n",
       "| 0.8 | 36 | 33 | 36 | 20 |  6 | 36 | 36 |  0 |  3 | 0 | 5 |  3 |  3 | 0 | 2 | 3 | 2 | 0 | 0 |\n",
       "| 0.9 | 31 | 18 | 31 | 17 |  5 | 31 | 31 |  0 |  0 | 0 | 5 |  0 |  0 | 0 | 2 | 3 | 2 | 0 | 0 |\n",
       "\n"
      ],
      "text/plain": [
       "    ws wd air_temp atmos_pres visibility dew_point RH ceil_hgt cl_1 cl_2 cl_3\n",
       "0.5 68 68 69       51         33         67        67 10       23   0    5   \n",
       "0.7 56 50 57       36         15         52        52  1        9   0    5   \n",
       "0.8 36 33 36       20          6         36        36  0        3   0    5   \n",
       "0.9 31 18 31       17          5         31        31  0        0   0    5   \n",
       "    cl cl_1_height cl_2_height cl_3_height precip_6 precip precip_12 pwc\n",
       "0.5 23 20          0           3           4        7      2         0  \n",
       "0.7  9  9          0           2           3        2      1         0  \n",
       "0.8  3  3          0           2           3        2      0         0  \n",
       "0.9  0  0          0           2           3        2      0         0  "
      ]
     },
     "metadata": {},
     "output_type": "display_data"
    }
   ],
   "source": [
    "df <- data.frame()\n",
    "percent <- c(0.5, 0.7, 0.8, 0.9)\n",
    "\n",
    "for (nm in names(amount.sitesMto)[4:length(names(amount.sitesMto))]) {\n",
    "    for (i in 1:length(percent)) {\n",
    "        count <- sum(amount.sitesMto[, nm] >= percent[i], na.rm=TRUE)\n",
    "        df[i, nm] <- count\n",
    "    } \n",
    "}\n",
    "\n",
    "\n",
    "row.names(df) <- percent\n",
    "head(df)"
   ]
  },
  {
   "cell_type": "markdown",
   "metadata": {},
   "source": [
    "## > 80% of Main Variables"
   ]
  },
  {
   "cell_type": "code",
   "execution_count": 7,
   "metadata": {},
   "outputs": [],
   "source": [
    "percent <- 0.8\n",
    "\n",
    "data.80 <- amount.sitesMto[amount.sitesMto$ws >= percent &\n",
    "                           amount.sitesMto$wd >= percent &\n",
    "                           amount.sitesMto$air_temp >= percent &\n",
    "                           amount.sitesMto$RH >= percent \n",
    "                          , ]"
   ]
  },
  {
   "cell_type": "code",
   "execution_count": 8,
   "metadata": {},
   "outputs": [
    {
     "data": {
      "text/html": [
       "33"
      ],
      "text/latex": [
       "33"
      ],
      "text/markdown": [
       "33"
      ],
      "text/plain": [
       "[1] 33"
      ]
     },
     "metadata": {},
     "output_type": "display_data"
    }
   ],
   "source": [
    "length(levels(as.factor(data.80$site)))"
   ]
  },
  {
   "cell_type": "code",
   "execution_count": 9,
   "metadata": {},
   "outputs": [
    {
     "data": {
      "text/html": [
       "52"
      ],
      "text/latex": [
       "52"
      ],
      "text/markdown": [
       "52"
      ],
      "text/plain": [
       "[1] 52"
      ]
     },
     "metadata": {},
     "output_type": "display_data"
    },
    {
     "data": {
      "text/html": [
       "<table>\n",
       "<caption>A data.frame: 6 × 2</caption>\n",
       "<thead>\n",
       "\t<tr><th></th><th scope=col>code</th><th scope=col>siteAQ</th></tr>\n",
       "\t<tr><th></th><th scope=col>&lt;chr&gt;</th><th scope=col>&lt;chr&gt;</th></tr>\n",
       "</thead>\n",
       "<tbody>\n",
       "\t<tr><th scope=row>98</th><td>076000-99999</td><td>es1494a</td></tr>\n",
       "\t<tr><th scope=row>147</th><td>076000-99999</td><td>es1697a</td></tr>\n",
       "\t<tr><th scope=row>179</th><td>077490-99999</td><td>es1999a</td></tr>\n",
       "\t<tr><th scope=row>35</th><td>080020-99999</td><td>es1138a</td></tr>\n",
       "\t<tr><th scope=row>58</th><td>080110-99999</td><td>es1268a</td></tr>\n",
       "\t<tr><th scope=row>62</th><td>080110-99999</td><td>es1269a</td></tr>\n",
       "</tbody>\n",
       "</table>\n"
      ],
      "text/latex": [
       "A data.frame: 6 × 2\n",
       "\\begin{tabular}{r|ll}\n",
       "  & code & siteAQ\\\\\n",
       "  & <chr> & <chr>\\\\\n",
       "\\hline\n",
       "\t98 & 076000-99999 & es1494a\\\\\n",
       "\t147 & 076000-99999 & es1697a\\\\\n",
       "\t179 & 077490-99999 & es1999a\\\\\n",
       "\t35 & 080020-99999 & es1138a\\\\\n",
       "\t58 & 080110-99999 & es1268a\\\\\n",
       "\t62 & 080110-99999 & es1269a\\\\\n",
       "\\end{tabular}\n"
      ],
      "text/markdown": [
       "\n",
       "A data.frame: 6 × 2\n",
       "\n",
       "| <!--/--> | code &lt;chr&gt; | siteAQ &lt;chr&gt; |\n",
       "|---|---|---|\n",
       "| 98 | 076000-99999 | es1494a |\n",
       "| 147 | 076000-99999 | es1697a |\n",
       "| 179 | 077490-99999 | es1999a |\n",
       "| 35 | 080020-99999 | es1138a |\n",
       "| 58 | 080110-99999 | es1268a |\n",
       "| 62 | 080110-99999 | es1269a |\n",
       "\n"
      ],
      "text/plain": [
       "    code         siteAQ \n",
       "98  076000-99999 es1494a\n",
       "147 076000-99999 es1697a\n",
       "179 077490-99999 es1999a\n",
       "35  080020-99999 es1138a\n",
       "58  080110-99999 es1268a\n",
       "62  080110-99999 es1269a"
      ]
     },
     "metadata": {},
     "output_type": "display_data"
    }
   ],
   "source": [
    "final.sites <- erase.sitesAQ(sites.Mto, data.80$site)\n",
    "\n",
    "length(levels(as.factor(final.sites$siteAQ)))\n",
    "head(final.sites)"
   ]
  },
  {
   "cell_type": "code",
   "execution_count": 10,
   "metadata": {},
   "outputs": [
    {
     "name": "stdout",
     "output_type": "stream",
     "text": [
      "[1] \"Estaciones Perdidas: \"\n",
      "[1] \"    es0115a: PLAZA DE ESPA\\303\\221A\"\n",
      "[1] \"    es0118a: ESCUELAS AGUIRRE\"\n",
      "[1] \"    es1018a: Terrassa (Pare Alegre)\"\n",
      "[1] \"    es1160a: BURGOS 1\"\n",
      "[1] \"    es1262a: Sabadell (Gran Via)\"\n",
      "[1] \"    es1525a: CUATRO CAMINOS-PABLO IGLESIAS\"\n",
      "[1] \"    es1567a: LEGAN\\357\\277\\275S\"\n",
      "[1] \"    es1631a: ARCO DE LADRILLO II\"\n",
      "[1] \"    es1632a: VEGA SICILIA\"\n",
      "[1] \"    es1834a: CASTELL\\303\\223-PATRONAT D'ESPORTS\"\n",
      "[1] \"    es1938a: CASTELLANA\"\n",
      "[1] \"    es1943a: PLAZA EL\\303\\215PTICA\"\n",
      "[1] \"    es2010a: LA RUBIA II\"\n",
      "[1] \"    es2028a: GETAFE\"\n",
      "[1] \"    es2042a: VALLADOLID SUR\"\n"
     ]
    }
   ],
   "source": [
    "stations <- get.miss.stations(final.sites)\n",
    "\n",
    "print(\"Estaciones Perdidas: \")\n",
    "for (i in 1:nrow(stations)) {\n",
    "    print(paste(\"    \", \n",
    "                stations[i, \"site\"], \": \",\n",
    "                stations[i, \"site_name\"], sep=\"\"))\n",
    "}"
   ]
  },
  {
   "cell_type": "markdown",
   "metadata": {},
   "source": [
    "## Distance < 20 km from AirQuality station"
   ]
  },
  {
   "cell_type": "code",
   "execution_count": 11,
   "metadata": {},
   "outputs": [],
   "source": [
    "min.dist <- data.frame()\n",
    "\n",
    "for (st in levels(as.factor(data.80$site))) {\n",
    "    min.dist <- rbind(min.dist,\n",
    "                      sites.Mto[sites.Mto$code == st &\n",
    "                                sites.Mto$dist <= 20\n",
    "                               , c(\"code\", \"siteAQ\", \"dist\")])\n",
    "}"
   ]
  },
  {
   "cell_type": "code",
   "execution_count": 12,
   "metadata": {},
   "outputs": [
    {
     "data": {
      "text/html": [
       "45"
      ],
      "text/latex": [
       "45"
      ],
      "text/markdown": [
       "45"
      ],
      "text/plain": [
       "[1] 45"
      ]
     },
     "metadata": {},
     "output_type": "display_data"
    },
    {
     "data": {
      "text/html": [
       "<table>\n",
       "<caption>A data.frame: 6 × 2</caption>\n",
       "<thead>\n",
       "\t<tr><th></th><th scope=col>code</th><th scope=col>siteAQ</th></tr>\n",
       "\t<tr><th></th><th scope=col>&lt;chr&gt;</th><th scope=col>&lt;chr&gt;</th></tr>\n",
       "</thead>\n",
       "<tbody>\n",
       "\t<tr><th scope=row>35</th><td>080020-99999</td><td>es1138a</td></tr>\n",
       "\t<tr><th scope=row>3</th><td>080210-99999</td><td>es0041a</td></tr>\n",
       "\t<tr><th scope=row>124</th><td>080210-99999</td><td>es1580a</td></tr>\n",
       "\t<tr><th scope=row>1</th><td>080250-99999</td><td>es0041a</td></tr>\n",
       "\t<tr><th scope=row>4</th><td>080250-99999</td><td>es0110a</td></tr>\n",
       "\t<tr><th scope=row>51</th><td>080250-99999</td><td>es1244a</td></tr>\n",
       "</tbody>\n",
       "</table>\n"
      ],
      "text/latex": [
       "A data.frame: 6 × 2\n",
       "\\begin{tabular}{r|ll}\n",
       "  & code & siteAQ\\\\\n",
       "  & <chr> & <chr>\\\\\n",
       "\\hline\n",
       "\t35 & 080020-99999 & es1138a\\\\\n",
       "\t3 & 080210-99999 & es0041a\\\\\n",
       "\t124 & 080210-99999 & es1580a\\\\\n",
       "\t1 & 080250-99999 & es0041a\\\\\n",
       "\t4 & 080250-99999 & es0110a\\\\\n",
       "\t51 & 080250-99999 & es1244a\\\\\n",
       "\\end{tabular}\n"
      ],
      "text/markdown": [
       "\n",
       "A data.frame: 6 × 2\n",
       "\n",
       "| <!--/--> | code &lt;chr&gt; | siteAQ &lt;chr&gt; |\n",
       "|---|---|---|\n",
       "| 35 | 080020-99999 | es1138a |\n",
       "| 3 | 080210-99999 | es0041a |\n",
       "| 124 | 080210-99999 | es1580a |\n",
       "| 1 | 080250-99999 | es0041a |\n",
       "| 4 | 080250-99999 | es0110a |\n",
       "| 51 | 080250-99999 | es1244a |\n",
       "\n"
      ],
      "text/plain": [
       "    code         siteAQ \n",
       "35  080020-99999 es1138a\n",
       "3   080210-99999 es0041a\n",
       "124 080210-99999 es1580a\n",
       "1   080250-99999 es0041a\n",
       "4   080250-99999 es0110a\n",
       "51  080250-99999 es1244a"
      ]
     },
     "metadata": {},
     "output_type": "display_data"
    }
   ],
   "source": [
    "final.sites <- erase.sitesAQ(sites.Mto, min.dist$code)\n",
    "\n",
    "length(levels(as.factor(final.sites$siteAQ)))\n",
    "head(final.sites)"
   ]
  },
  {
   "cell_type": "code",
   "execution_count": 13,
   "metadata": {},
   "outputs": [
    {
     "name": "stdout",
     "output_type": "stream",
     "text": [
      "[1] \"Estaciones Perdidas: \"\n",
      "[1] \"    es0115a: PLAZA DE ESPA\\303\\221A\"\n",
      "[1] \"    es0118a: ESCUELAS AGUIRRE\"\n",
      "[1] \"    es1018a: Terrassa (Pare Alegre)\"\n",
      "[1] \"    es1160a: BURGOS 1\"\n",
      "[1] \"    es1262a: Sabadell (Gran Via)\"\n",
      "[1] \"    es1268a: PLAZA DE TOROS\"\n",
      "[1] \"    es1269a: PALACIO DE DEPORTES\"\n",
      "[1] \"    es1270a: HERMANOS FELGUEROSO\"\n",
      "[1] \"    es1271a: ARGENTINA\"\n",
      "[1] \"    es1272a: CONSTITUCI\\303\\223N\"\n",
      "[1] \"    es1358a: AVENIDA DE CASTILLA\"\n",
      "[1] \"    es1525a: CUATRO CAMINOS-PABLO IGLESIAS\"\n",
      "[1] \"    es1567a: LEGAN\\357\\277\\275S\"\n",
      "[1] \"    es1573a: MERCADO CENTRAL\"\n",
      "[1] \"    es1631a: ARCO DE LADRILLO II\"\n",
      "[1] \"    es1632a: VEGA SICILIA\"\n",
      "[1] \"    es1834a: CASTELL\\303\\223-PATRONAT D'ESPORTS\"\n",
      "[1] \"    es1938a: CASTELLANA\"\n",
      "[1] \"    es1943a: PLAZA EL\\303\\215PTICA\"\n",
      "[1] \"    es2010a: LA RUBIA II\"\n",
      "[1] \"    es2028a: GETAFE\"\n",
      "[1] \"    es2042a: VALLADOLID SUR\"\n"
     ]
    }
   ],
   "source": [
    "stations <- get.miss.stations(final.sites)\n",
    "\n",
    "print(\"Estaciones Perdidas: \")\n",
    "for (i in 1:nrow(stations)) {\n",
    "    print(paste(\"    \", \n",
    "                stations[i, \"site\"], \": \",\n",
    "                stations[i, \"site_name\"], sep=\"\"))\n",
    "}"
   ]
  }
 ],
 "metadata": {
  "kernelspec": {
   "display_name": "R",
   "language": "R",
   "name": "ir"
  },
  "language_info": {
   "codemirror_mode": "r",
   "file_extension": ".r",
   "mimetype": "text/x-r-source",
   "name": "R",
   "pygments_lexer": "r",
   "version": "3.6.3"
  }
 },
 "nbformat": 4,
 "nbformat_minor": 4
}
