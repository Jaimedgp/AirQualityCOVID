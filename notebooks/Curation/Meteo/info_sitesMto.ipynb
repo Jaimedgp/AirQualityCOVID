{
 "cells": [
  {
   "cell_type": "markdown",
   "metadata": {},
   "source": [
    "# Curation Estaciones Meteorologicas\n",
    "\n",
    "Estudiar La cantidad de datos validos disponibles para cada variable en cada estacion y obtener el numero de estaciones con los datos minimos necesarios para el estudio"
   ]
  },
  {
   "cell_type": "code",
   "execution_count": 1,
   "metadata": {},
   "outputs": [],
   "source": [
    "setwd(\"~/Repositories/AirQualityCOVID\")"
   ]
  },
  {
   "cell_type": "code",
   "execution_count": 2,
   "metadata": {},
   "outputs": [],
   "source": [
    "source(\"src/general.R\")"
   ]
  },
  {
   "cell_type": "markdown",
   "metadata": {},
   "source": [
    "## Funciones para filtrar datos"
   ]
  },
  {
   "cell_type": "code",
   "execution_count": 3,
   "metadata": {},
   "outputs": [],
   "source": [
    "suppressMessages(library(worldmet))\n",
    "suppressMessages(library(lubridate))\n",
    "suppressMessages(library(tidyverse))"
   ]
  },
  {
   "cell_type": "code",
   "execution_count": 100,
   "metadata": {},
   "outputs": [],
   "source": [
    "get.info <- function(column, dataFrame) {\n",
    "    new.df <- dataFrame[, c(\"date\", column)]\n",
    "    new.df$date <- as.numeric(new.df$date)\n",
    "    new.df <- new.df[complete.cases(new.df),]\n",
    "    \n",
    "    resolutions <- apply(new.df[-2], 2, diff) / 3600\n",
    "    \n",
    "    \n",
    "    resol <- min(resolutions)\n",
    "    amount <- resol * sum(!is.na(dataFrame[, column])) / nrow(dataFrame[, column])\n",
    "    \n",
    "    c(resol, amount)\n",
    "}"
   ]
  },
  {
   "cell_type": "markdown",
   "metadata": {},
   "source": [
    "## Obtencion de los Datos"
   ]
  },
  {
   "cell_type": "code",
   "execution_count": 121,
   "metadata": {},
   "outputs": [
    {
     "data": {
      "text/html": [
       "<table>\n",
       "<caption>A data.frame: 6 × 16</caption>\n",
       "<thead>\n",
       "\t<tr><th></th><th scope=col>usaf</th><th scope=col>wban</th><th scope=col>station</th><th scope=col>ctry</th><th scope=col>st</th><th scope=col>call</th><th scope=col>latitude</th><th scope=col>longitude</th><th scope=col>elev.m.</th><th scope=col>begin</th><th scope=col>end</th><th scope=col>code</th><th scope=col>longr</th><th scope=col>latr</th><th scope=col>dist</th><th scope=col>siteAQ</th></tr>\n",
       "\t<tr><th></th><th scope=col>&lt;int&gt;</th><th scope=col>&lt;int&gt;</th><th scope=col>&lt;fct&gt;</th><th scope=col>&lt;fct&gt;</th><th scope=col>&lt;lgl&gt;</th><th scope=col>&lt;fct&gt;</th><th scope=col>&lt;dbl&gt;</th><th scope=col>&lt;dbl&gt;</th><th scope=col>&lt;dbl&gt;</th><th scope=col>&lt;fct&gt;</th><th scope=col>&lt;fct&gt;</th><th scope=col>&lt;fct&gt;</th><th scope=col>&lt;dbl&gt;</th><th scope=col>&lt;dbl&gt;</th><th scope=col>&lt;dbl&gt;</th><th scope=col>&lt;fct&gt;</th></tr>\n",
       "</thead>\n",
       "<tbody>\n",
       "\t<tr><th scope=row>1</th><td>80250</td><td>99999</td><td>BILBAO   </td><td>SP</td><td>NA</td><td>LEBB</td><td>43.301</td><td>-2.911</td><td> 42.1</td><td>1973-01-01</td><td>2021-02-08</td><td>080250-99999</td><td>-0.05080653</td><td>0.7557450</td><td> 5.464009</td><td>es0041a</td></tr>\n",
       "\t<tr><th scope=row>2</th><td>80800</td><td>99999</td><td>VITORIA  </td><td>SP</td><td>NA</td><td>LEVT</td><td>42.883</td><td>-2.724</td><td>512.7</td><td>1973-01-01</td><td>2021-02-08</td><td>080800-99999</td><td>-0.04754277</td><td>0.7484495</td><td>45.503738</td><td>es0041a</td></tr>\n",
       "\t<tr><th scope=row>3</th><td>80210</td><td>99999</td><td>SANTANDER</td><td>SP</td><td>NA</td><td>LEXJ</td><td>43.427</td><td>-3.820</td><td>  4.9</td><td>1973-01-01</td><td>2021-02-08</td><td>080210-99999</td><td>-0.06667158</td><td>0.7579441</td><td>73.137040</td><td>es0041a</td></tr>\n",
       "\t<tr><th scope=row>4</th><td>80250</td><td>99999</td><td>BILBAO   </td><td>SP</td><td>NA</td><td>LEBB</td><td>43.301</td><td>-2.911</td><td> 42.1</td><td>1973-01-01</td><td>2021-02-08</td><td>080250-99999</td><td>-0.05080653</td><td>0.7557450</td><td> 5.363540</td><td>es0110a</td></tr>\n",
       "\t<tr><th scope=row>5</th><td>80800</td><td>99999</td><td>VITORIA  </td><td>SP</td><td>NA</td><td>LEVT</td><td>42.883</td><td>-2.724</td><td>512.7</td><td>1973-01-01</td><td>2021-02-08</td><td>080800-99999</td><td>-0.04754277</td><td>0.7484495</td><td>50.995824</td><td>es0110a</td></tr>\n",
       "\t<tr><th scope=row>6</th><td>80230</td><td>99999</td><td>SANTANDER</td><td>SP</td><td>NA</td><td>NA  </td><td>43.483</td><td>-3.800</td><td> 59.0</td><td>1973-01-01</td><td>2021-02-08</td><td>080230-99999</td><td>-0.06632251</td><td>0.7589215</td><td>69.437339</td><td>es0110a</td></tr>\n",
       "</tbody>\n",
       "</table>\n"
      ],
      "text/latex": [
       "A data.frame: 6 × 16\n",
       "\\begin{tabular}{r|llllllllllllllll}\n",
       "  & usaf & wban & station & ctry & st & call & latitude & longitude & elev.m. & begin & end & code & longr & latr & dist & siteAQ\\\\\n",
       "  & <int> & <int> & <fct> & <fct> & <lgl> & <fct> & <dbl> & <dbl> & <dbl> & <fct> & <fct> & <fct> & <dbl> & <dbl> & <dbl> & <fct>\\\\\n",
       "\\hline\n",
       "\t1 & 80250 & 99999 & BILBAO    & SP & NA & LEBB & 43.301 & -2.911 &  42.1 & 1973-01-01 & 2021-02-08 & 080250-99999 & -0.05080653 & 0.7557450 &  5.464009 & es0041a\\\\\n",
       "\t2 & 80800 & 99999 & VITORIA   & SP & NA & LEVT & 42.883 & -2.724 & 512.7 & 1973-01-01 & 2021-02-08 & 080800-99999 & -0.04754277 & 0.7484495 & 45.503738 & es0041a\\\\\n",
       "\t3 & 80210 & 99999 & SANTANDER & SP & NA & LEXJ & 43.427 & -3.820 &   4.9 & 1973-01-01 & 2021-02-08 & 080210-99999 & -0.06667158 & 0.7579441 & 73.137040 & es0041a\\\\\n",
       "\t4 & 80250 & 99999 & BILBAO    & SP & NA & LEBB & 43.301 & -2.911 &  42.1 & 1973-01-01 & 2021-02-08 & 080250-99999 & -0.05080653 & 0.7557450 &  5.363540 & es0110a\\\\\n",
       "\t5 & 80800 & 99999 & VITORIA   & SP & NA & LEVT & 42.883 & -2.724 & 512.7 & 1973-01-01 & 2021-02-08 & 080800-99999 & -0.04754277 & 0.7484495 & 50.995824 & es0110a\\\\\n",
       "\t6 & 80230 & 99999 & SANTANDER & SP & NA & NA   & 43.483 & -3.800 &  59.0 & 1973-01-01 & 2021-02-08 & 080230-99999 & -0.06632251 & 0.7589215 & 69.437339 & es0110a\\\\\n",
       "\\end{tabular}\n"
      ],
      "text/markdown": [
       "\n",
       "A data.frame: 6 × 16\n",
       "\n",
       "| <!--/--> | usaf &lt;int&gt; | wban &lt;int&gt; | station &lt;fct&gt; | ctry &lt;fct&gt; | st &lt;lgl&gt; | call &lt;fct&gt; | latitude &lt;dbl&gt; | longitude &lt;dbl&gt; | elev.m. &lt;dbl&gt; | begin &lt;fct&gt; | end &lt;fct&gt; | code &lt;fct&gt; | longr &lt;dbl&gt; | latr &lt;dbl&gt; | dist &lt;dbl&gt; | siteAQ &lt;fct&gt; |\n",
       "|---|---|---|---|---|---|---|---|---|---|---|---|---|---|---|---|---|\n",
       "| 1 | 80250 | 99999 | BILBAO    | SP | NA | LEBB | 43.301 | -2.911 |  42.1 | 1973-01-01 | 2021-02-08 | 080250-99999 | -0.05080653 | 0.7557450 |  5.464009 | es0041a |\n",
       "| 2 | 80800 | 99999 | VITORIA   | SP | NA | LEVT | 42.883 | -2.724 | 512.7 | 1973-01-01 | 2021-02-08 | 080800-99999 | -0.04754277 | 0.7484495 | 45.503738 | es0041a |\n",
       "| 3 | 80210 | 99999 | SANTANDER | SP | NA | LEXJ | 43.427 | -3.820 |   4.9 | 1973-01-01 | 2021-02-08 | 080210-99999 | -0.06667158 | 0.7579441 | 73.137040 | es0041a |\n",
       "| 4 | 80250 | 99999 | BILBAO    | SP | NA | LEBB | 43.301 | -2.911 |  42.1 | 1973-01-01 | 2021-02-08 | 080250-99999 | -0.05080653 | 0.7557450 |  5.363540 | es0110a |\n",
       "| 5 | 80800 | 99999 | VITORIA   | SP | NA | LEVT | 42.883 | -2.724 | 512.7 | 1973-01-01 | 2021-02-08 | 080800-99999 | -0.04754277 | 0.7484495 | 50.995824 | es0110a |\n",
       "| 6 | 80230 | 99999 | SANTANDER | SP | NA | NA   | 43.483 | -3.800 |  59.0 | 1973-01-01 | 2021-02-08 | 080230-99999 | -0.06632251 | 0.7589215 | 69.437339 | es0110a |\n",
       "\n"
      ],
      "text/plain": [
       "  usaf  wban  station   ctry st call latitude longitude elev.m. begin     \n",
       "1 80250 99999 BILBAO    SP   NA LEBB 43.301   -2.911     42.1   1973-01-01\n",
       "2 80800 99999 VITORIA   SP   NA LEVT 42.883   -2.724    512.7   1973-01-01\n",
       "3 80210 99999 SANTANDER SP   NA LEXJ 43.427   -3.820      4.9   1973-01-01\n",
       "4 80250 99999 BILBAO    SP   NA LEBB 43.301   -2.911     42.1   1973-01-01\n",
       "5 80800 99999 VITORIA   SP   NA LEVT 42.883   -2.724    512.7   1973-01-01\n",
       "6 80230 99999 SANTANDER SP   NA NA   43.483   -3.800     59.0   1973-01-01\n",
       "  end        code         longr       latr      dist      siteAQ \n",
       "1 2021-02-08 080250-99999 -0.05080653 0.7557450  5.464009 es0041a\n",
       "2 2021-02-08 080800-99999 -0.04754277 0.7484495 45.503738 es0041a\n",
       "3 2021-02-08 080210-99999 -0.06667158 0.7579441 73.137040 es0041a\n",
       "4 2021-02-08 080250-99999 -0.05080653 0.7557450  5.363540 es0110a\n",
       "5 2021-02-08 080800-99999 -0.04754277 0.7484495 50.995824 es0110a\n",
       "6 2021-02-08 080230-99999 -0.06632251 0.7589215 69.437339 es0110a"
      ]
     },
     "metadata": {},
     "output_type": "display_data"
    }
   ],
   "source": [
    "sitesMto <- read.csv(\"data/curation/sitesMto.csv\",\n",
    "                     stringsAsFactor=TRUE)\n",
    "sites.lv <- levels(sitesMto$code)[1:2]\n",
    "head(sitesMto)"
   ]
  },
  {
   "cell_type": "code",
   "execution_count": 122,
   "metadata": {},
   "outputs": [],
   "source": [
    "variables <- c('ws', 'wd', 'air_temp', 'atmos_pres', 'visibility', 'dew_point', 'RH', \n",
    "               'ceil_hgt', 'pwc', 'precip', 'cl_1', 'cl_2', 'cl_3', 'cl', 'cl_1_height', \n",
    "               'cl_2_height', 'cl_3_height', 'precip_12', 'precip_6')\n",
    "\n",
    "all.resolution <- data.frame()\n",
    "all.amount <- data.frame()\n",
    "\n",
    "for (st in sites.lv) {\n",
    "    # Get Data from worlmet\n",
    "    dataMto <- importNOAA(code = st,\n",
    "                          year = 2020,\n",
    "                          hourly = TRUE,\n",
    "                          n.cores = 6\n",
    "                         )\n",
    "    new.row <- data.frame(site = st, \n",
    "                          start_dt = as_date(min(dataMto$date)),\n",
    "                          end_dt = as_date(max(dataMto$date))\n",
    "                         )\n",
    "    nm <- names(dataMto)[-(1:6)]\n",
    "    if (\"pwc\" %in% nm) {\n",
    "        nm <- nm[-which(nm == \"pwc\")]\n",
    "    }\n",
    "\n",
    "    info.df <- data.frame(lapply(nm, get.info, dataFrame=dataMto))\n",
    "    names(info.df) <- nm\n",
    "\n",
    "    resolution.row <- cbind(new.row, info.df[1,])\n",
    "    amount.row <- cbind(new.row, info.df[2,])\n",
    "\n",
    "    for (cl in variables[-which(variables %in% names(amount.row))]) {\n",
    "        resolution.row[, cl] <- 0\n",
    "        amount.row[, cl] <- 0\n",
    "    }\n",
    "\n",
    "    all.resolution <- rbind(resolution.row, all.resolution)\n",
    "    all.amount <- rbind(amount.row, all.amount)\n",
    "}"
   ]
  },
  {
   "cell_type": "code",
   "execution_count": 123,
   "metadata": {},
   "outputs": [
    {
     "data": {
      "text/html": [
       "<table>\n",
       "<caption>A data.frame: 2 × 22</caption>\n",
       "<thead>\n",
       "\t<tr><th></th><th scope=col>site</th><th scope=col>start_dt</th><th scope=col>end_dt</th><th scope=col>ws</th><th scope=col>wd</th><th scope=col>air_temp</th><th scope=col>atmos_pres</th><th scope=col>visibility</th><th scope=col>dew_point</th><th scope=col>RH</th><th scope=col>⋯</th><th scope=col>cl_2</th><th scope=col>cl_3</th><th scope=col>cl</th><th scope=col>cl_1_height</th><th scope=col>cl_2_height</th><th scope=col>cl_3_height</th><th scope=col>precip</th><th scope=col>pwc</th><th scope=col>precip_12</th><th scope=col>precip_6</th></tr>\n",
       "\t<tr><th></th><th scope=col>&lt;fct&gt;</th><th scope=col>&lt;date&gt;</th><th scope=col>&lt;date&gt;</th><th scope=col>&lt;dbl&gt;</th><th scope=col>&lt;dbl&gt;</th><th scope=col>&lt;dbl&gt;</th><th scope=col>&lt;dbl&gt;</th><th scope=col>&lt;dbl&gt;</th><th scope=col>&lt;dbl&gt;</th><th scope=col>&lt;dbl&gt;</th><th scope=col>⋯</th><th scope=col>&lt;dbl&gt;</th><th scope=col>&lt;dbl&gt;</th><th scope=col>&lt;dbl&gt;</th><th scope=col>&lt;dbl&gt;</th><th scope=col>&lt;dbl&gt;</th><th scope=col>&lt;dbl&gt;</th><th scope=col>&lt;dbl&gt;</th><th scope=col>&lt;dbl&gt;</th><th scope=col>&lt;dbl&gt;</th><th scope=col>&lt;dbl&gt;</th></tr>\n",
       "</thead>\n",
       "<tbody>\n",
       "\t<tr><th scope=row>1</th><td>077490-99999</td><td>2020-01-01</td><td>2020-12-31</td><td>1</td><td>1</td><td>1</td><td>1</td><td>3</td><td>1</td><td>1</td><td>⋯</td><td>3</td><td>3</td><td>3</td><td>3</td><td>3</td><td>3</td><td>1</td><td>0</td><td>0</td><td>0</td></tr>\n",
       "\t<tr><th scope=row>2</th><td>076000-99999</td><td>2020-01-01</td><td>2020-12-31</td><td>1</td><td>1</td><td>1</td><td>1</td><td>1</td><td>1</td><td>1</td><td>⋯</td><td>2</td><td>3</td><td>1</td><td>1</td><td>2</td><td>3</td><td>1</td><td>0</td><td>0</td><td>0</td></tr>\n",
       "</tbody>\n",
       "</table>\n"
      ],
      "text/latex": [
       "A data.frame: 2 × 22\n",
       "\\begin{tabular}{r|lllllllllllllllllllll}\n",
       "  & site & start\\_dt & end\\_dt & ws & wd & air\\_temp & atmos\\_pres & visibility & dew\\_point & RH & ⋯ & cl\\_2 & cl\\_3 & cl & cl\\_1\\_height & cl\\_2\\_height & cl\\_3\\_height & precip & pwc & precip\\_12 & precip\\_6\\\\\n",
       "  & <fct> & <date> & <date> & <dbl> & <dbl> & <dbl> & <dbl> & <dbl> & <dbl> & <dbl> & ⋯ & <dbl> & <dbl> & <dbl> & <dbl> & <dbl> & <dbl> & <dbl> & <dbl> & <dbl> & <dbl>\\\\\n",
       "\\hline\n",
       "\t1 & 077490-99999 & 2020-01-01 & 2020-12-31 & 1 & 1 & 1 & 1 & 3 & 1 & 1 & ⋯ & 3 & 3 & 3 & 3 & 3 & 3 & 1 & 0 & 0 & 0\\\\\n",
       "\t2 & 076000-99999 & 2020-01-01 & 2020-12-31 & 1 & 1 & 1 & 1 & 1 & 1 & 1 & ⋯ & 2 & 3 & 1 & 1 & 2 & 3 & 1 & 0 & 0 & 0\\\\\n",
       "\\end{tabular}\n"
      ],
      "text/markdown": [
       "\n",
       "A data.frame: 2 × 22\n",
       "\n",
       "| <!--/--> | site &lt;fct&gt; | start_dt &lt;date&gt; | end_dt &lt;date&gt; | ws &lt;dbl&gt; | wd &lt;dbl&gt; | air_temp &lt;dbl&gt; | atmos_pres &lt;dbl&gt; | visibility &lt;dbl&gt; | dew_point &lt;dbl&gt; | RH &lt;dbl&gt; | ⋯ ⋯ | cl_2 &lt;dbl&gt; | cl_3 &lt;dbl&gt; | cl &lt;dbl&gt; | cl_1_height &lt;dbl&gt; | cl_2_height &lt;dbl&gt; | cl_3_height &lt;dbl&gt; | precip &lt;dbl&gt; | pwc &lt;dbl&gt; | precip_12 &lt;dbl&gt; | precip_6 &lt;dbl&gt; |\n",
       "|---|---|---|---|---|---|---|---|---|---|---|---|---|---|---|---|---|---|---|---|---|---|\n",
       "| 1 | 077490-99999 | 2020-01-01 | 2020-12-31 | 1 | 1 | 1 | 1 | 3 | 1 | 1 | ⋯ | 3 | 3 | 3 | 3 | 3 | 3 | 1 | 0 | 0 | 0 |\n",
       "| 2 | 076000-99999 | 2020-01-01 | 2020-12-31 | 1 | 1 | 1 | 1 | 1 | 1 | 1 | ⋯ | 2 | 3 | 1 | 1 | 2 | 3 | 1 | 0 | 0 | 0 |\n",
       "\n"
      ],
      "text/plain": [
       "  site         start_dt   end_dt     ws wd air_temp atmos_pres visibility\n",
       "1 077490-99999 2020-01-01 2020-12-31 1  1  1        1          3         \n",
       "2 076000-99999 2020-01-01 2020-12-31 1  1  1        1          1         \n",
       "  dew_point RH <U+22EF>   cl_2 cl_3 cl cl_1_height cl_2_height cl_3_height precip\n",
       "1 1         1  <U+22EF> 3    3    3  3           3           3           1     \n",
       "2 1         1  <U+22EF> 2    3    1  1           2           3           1     \n",
       "  pwc precip_12 precip_6\n",
       "1 0   0         0       \n",
       "2 0   0         0       "
      ]
     },
     "metadata": {},
     "output_type": "display_data"
    },
    {
     "data": {
      "text/html": [
       "<table>\n",
       "<caption>A data.frame: 2 × 22</caption>\n",
       "<thead>\n",
       "\t<tr><th></th><th scope=col>site</th><th scope=col>start_dt</th><th scope=col>end_dt</th><th scope=col>ws</th><th scope=col>wd</th><th scope=col>air_temp</th><th scope=col>atmos_pres</th><th scope=col>visibility</th><th scope=col>dew_point</th><th scope=col>RH</th><th scope=col>⋯</th><th scope=col>cl_2</th><th scope=col>cl_3</th><th scope=col>cl</th><th scope=col>cl_1_height</th><th scope=col>cl_2_height</th><th scope=col>cl_3_height</th><th scope=col>precip</th><th scope=col>pwc</th><th scope=col>precip_12</th><th scope=col>precip_6</th></tr>\n",
       "\t<tr><th></th><th scope=col>&lt;fct&gt;</th><th scope=col>&lt;date&gt;</th><th scope=col>&lt;date&gt;</th><th scope=col>&lt;dbl&gt;</th><th scope=col>&lt;dbl&gt;</th><th scope=col>&lt;dbl&gt;</th><th scope=col>&lt;dbl&gt;</th><th scope=col>&lt;dbl&gt;</th><th scope=col>&lt;dbl&gt;</th><th scope=col>&lt;dbl&gt;</th><th scope=col>⋯</th><th scope=col>&lt;dbl&gt;</th><th scope=col>&lt;dbl&gt;</th><th scope=col>&lt;dbl&gt;</th><th scope=col>&lt;dbl&gt;</th><th scope=col>&lt;dbl&gt;</th><th scope=col>&lt;dbl&gt;</th><th scope=col>&lt;dbl&gt;</th><th scope=col>&lt;dbl&gt;</th><th scope=col>&lt;dbl&gt;</th><th scope=col>&lt;dbl&gt;</th></tr>\n",
       "</thead>\n",
       "<tbody>\n",
       "\t<tr><th scope=row>2</th><td>077490-99999</td><td>2020-01-01</td><td>2020-12-31</td><td>0.9943078</td><td>0.9891849</td><td>0.9792805</td><td>0.9792805</td><td>0.4965847</td><td>0.9636840</td><td>0.9636840</td><td>⋯</td><td>0.09289617</td><td>0.00239071</td><td>0.4176913</td><td>0.4173497</td><td>0.09289617</td><td>0.00239071</td><td>0.9906648</td><td>0</td><td>0</td><td>0</td></tr>\n",
       "\t<tr><th scope=row>21</th><td>076000-99999</td><td>2020-01-01</td><td>2020-12-31</td><td>0.9242942</td><td>0.9200820</td><td>0.9242942</td><td>0.9240665</td><td>0.1934199</td><td>0.9242942</td><td>0.9242942</td><td>⋯</td><td>0.15255009</td><td>0.03278689</td><td>0.1727004</td><td>0.1727004</td><td>0.15255009</td><td>0.03278689</td><td>0.9198543</td><td>0</td><td>0</td><td>0</td></tr>\n",
       "</tbody>\n",
       "</table>\n"
      ],
      "text/latex": [
       "A data.frame: 2 × 22\n",
       "\\begin{tabular}{r|lllllllllllllllllllll}\n",
       "  & site & start\\_dt & end\\_dt & ws & wd & air\\_temp & atmos\\_pres & visibility & dew\\_point & RH & ⋯ & cl\\_2 & cl\\_3 & cl & cl\\_1\\_height & cl\\_2\\_height & cl\\_3\\_height & precip & pwc & precip\\_12 & precip\\_6\\\\\n",
       "  & <fct> & <date> & <date> & <dbl> & <dbl> & <dbl> & <dbl> & <dbl> & <dbl> & <dbl> & ⋯ & <dbl> & <dbl> & <dbl> & <dbl> & <dbl> & <dbl> & <dbl> & <dbl> & <dbl> & <dbl>\\\\\n",
       "\\hline\n",
       "\t2 & 077490-99999 & 2020-01-01 & 2020-12-31 & 0.9943078 & 0.9891849 & 0.9792805 & 0.9792805 & 0.4965847 & 0.9636840 & 0.9636840 & ⋯ & 0.09289617 & 0.00239071 & 0.4176913 & 0.4173497 & 0.09289617 & 0.00239071 & 0.9906648 & 0 & 0 & 0\\\\\n",
       "\t21 & 076000-99999 & 2020-01-01 & 2020-12-31 & 0.9242942 & 0.9200820 & 0.9242942 & 0.9240665 & 0.1934199 & 0.9242942 & 0.9242942 & ⋯ & 0.15255009 & 0.03278689 & 0.1727004 & 0.1727004 & 0.15255009 & 0.03278689 & 0.9198543 & 0 & 0 & 0\\\\\n",
       "\\end{tabular}\n"
      ],
      "text/markdown": [
       "\n",
       "A data.frame: 2 × 22\n",
       "\n",
       "| <!--/--> | site &lt;fct&gt; | start_dt &lt;date&gt; | end_dt &lt;date&gt; | ws &lt;dbl&gt; | wd &lt;dbl&gt; | air_temp &lt;dbl&gt; | atmos_pres &lt;dbl&gt; | visibility &lt;dbl&gt; | dew_point &lt;dbl&gt; | RH &lt;dbl&gt; | ⋯ ⋯ | cl_2 &lt;dbl&gt; | cl_3 &lt;dbl&gt; | cl &lt;dbl&gt; | cl_1_height &lt;dbl&gt; | cl_2_height &lt;dbl&gt; | cl_3_height &lt;dbl&gt; | precip &lt;dbl&gt; | pwc &lt;dbl&gt; | precip_12 &lt;dbl&gt; | precip_6 &lt;dbl&gt; |\n",
       "|---|---|---|---|---|---|---|---|---|---|---|---|---|---|---|---|---|---|---|---|---|---|\n",
       "| 2 | 077490-99999 | 2020-01-01 | 2020-12-31 | 0.9943078 | 0.9891849 | 0.9792805 | 0.9792805 | 0.4965847 | 0.9636840 | 0.9636840 | ⋯ | 0.09289617 | 0.00239071 | 0.4176913 | 0.4173497 | 0.09289617 | 0.00239071 | 0.9906648 | 0 | 0 | 0 |\n",
       "| 21 | 076000-99999 | 2020-01-01 | 2020-12-31 | 0.9242942 | 0.9200820 | 0.9242942 | 0.9240665 | 0.1934199 | 0.9242942 | 0.9242942 | ⋯ | 0.15255009 | 0.03278689 | 0.1727004 | 0.1727004 | 0.15255009 | 0.03278689 | 0.9198543 | 0 | 0 | 0 |\n",
       "\n"
      ],
      "text/plain": [
       "   site         start_dt   end_dt     ws        wd        air_temp  atmos_pres\n",
       "2  077490-99999 2020-01-01 2020-12-31 0.9943078 0.9891849 0.9792805 0.9792805 \n",
       "21 076000-99999 2020-01-01 2020-12-31 0.9242942 0.9200820 0.9242942 0.9240665 \n",
       "   visibility dew_point RH        <U+22EF>   cl_2       cl_3       cl       \n",
       "2  0.4965847  0.9636840 0.9636840 <U+22EF> 0.09289617 0.00239071 0.4176913\n",
       "21 0.1934199  0.9242942 0.9242942 <U+22EF> 0.15255009 0.03278689 0.1727004\n",
       "   cl_1_height cl_2_height cl_3_height precip    pwc precip_12 precip_6\n",
       "2  0.4173497   0.09289617  0.00239071  0.9906648 0   0         0       \n",
       "21 0.1727004   0.15255009  0.03278689  0.9198543 0   0         0       "
      ]
     },
     "metadata": {},
     "output_type": "display_data"
    }
   ],
   "source": [
    "head(all.resolution)\n",
    "head(all.amount)"
   ]
  }
 ],
 "metadata": {
  "kernelspec": {
   "display_name": "R",
   "language": "R",
   "name": "ir"
  },
  "language_info": {
   "codemirror_mode": "r",
   "file_extension": ".r",
   "mimetype": "text/x-r-source",
   "name": "R",
   "pygments_lexer": "r",
   "version": "3.6.3"
  }
 },
 "nbformat": 4,
 "nbformat_minor": 4
}
