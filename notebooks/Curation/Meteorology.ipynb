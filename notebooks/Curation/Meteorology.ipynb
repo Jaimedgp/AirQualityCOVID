{
 "cells": [
  {
   "cell_type": "markdown",
   "metadata": {},
   "source": [
    "# Merge All Data\n",
    "\n",
    "Merge air quality, AEMET climate and ERA5-Land data for each station."
   ]
  },
  {
   "cell_type": "code",
   "execution_count": 1,
   "metadata": {},
   "outputs": [],
   "source": [
    "# Load packages\n",
    "suppressMessages(library(tidyverse))\n",
    "suppressMessages(library(lubridate))"
   ]
  },
  {
   "cell_type": "code",
   "execution_count": 2,
   "metadata": {},
   "outputs": [],
   "source": [
    "# Working directory\n",
    "setwd(\"~/Repositories/AirQualityCOVID\")\n",
    "\n",
    "# Source some scripts \n",
    "source(\"src/functions.R\")"
   ]
  },
  {
   "cell_type": "markdown",
   "metadata": {},
   "source": [
    "### Main Variables"
   ]
  },
  {
   "cell_type": "code",
   "execution_count": 3,
   "metadata": {},
   "outputs": [],
   "source": [
    "start_dt <- ymd_hms(\"2013-01-01 00:00:00\")\n",
    "end_dt <- ymd_hms(\"2020-12-31 00:00:00\")"
   ]
  },
  {
   "cell_type": "markdown",
   "metadata": {},
   "source": [
    "## Stations Information"
   ]
  },
  {
   "cell_type": "code",
   "execution_count": 4,
   "metadata": {},
   "outputs": [],
   "source": [
    "#-----------------------------\n",
    "#    Air Quality Stations\n",
    "#-----------------------------\n",
    "\n",
    "sites.AQ <- read.csv(\"data/Curation/checked_AQ.csv\",\n",
    "                    stringsAsFactor=T)\n",
    "\n",
    "#-----------------------------\n",
    "#       AEMET Stations\n",
    "#-----------------------------\n",
    "\n",
    "sites.AEMET <- read.csv(\"data/Curation/checked_AEMET.csv\",\n",
    "                        stringsAsFactor=F, colClasses=c(\"indicativo\"=\"character\"))\n",
    "\n",
    "#-----------------------------\n",
    "#       WorldMet Stations\n",
    "#-----------------------------\n",
    "\n",
    "sites.WorldMet <- read.csv(\"data/Curation/checked_WorldMet.csv\",\n",
    "                     stringsAsFactor=T)"
   ]
  },
  {
   "cell_type": "code",
   "execution_count": 5,
   "metadata": {},
   "outputs": [
    {
     "data": {
      "text/html": [
       "<table>\n",
       "<caption>A data.frame: 6 × 9</caption>\n",
       "<thead>\n",
       "\t<tr><th></th><th scope=col>latitud</th><th scope=col>provincia</th><th scope=col>altitud</th><th scope=col>indicativo</th><th scope=col>nombre</th><th scope=col>indsinop</th><th scope=col>longitud</th><th scope=col>dist</th><th scope=col>siteAQ</th></tr>\n",
       "\t<tr><th></th><th scope=col>&lt;dbl&gt;</th><th scope=col>&lt;chr&gt;</th><th scope=col>&lt;int&gt;</th><th scope=col>&lt;chr&gt;</th><th scope=col>&lt;chr&gt;</th><th scope=col>&lt;int&gt;</th><th scope=col>&lt;dbl&gt;</th><th scope=col>&lt;dbl&gt;</th><th scope=col>&lt;chr&gt;</th></tr>\n",
       "</thead>\n",
       "<tbody>\n",
       "\t<tr><th scope=row>1</th><td>43.29806</td><td>BIZKAIA</td><td> 42</td><td>1082</td><td>BILBAO AEROPUERTO </td><td>8025</td><td>-2.906389</td><td> 5.396849</td><td>es0041a</td></tr>\n",
       "\t<tr><th scope=row>2</th><td>43.29806</td><td>BIZKAIA</td><td> 42</td><td>1082</td><td>BILBAO AEROPUERTO </td><td>8025</td><td>-2.906389</td><td> 5.756578</td><td>es0110a</td></tr>\n",
       "\t<tr><th scope=row>3</th><td>40.41194</td><td>MADRID </td><td>667</td><td>3195</td><td>MADRID, RETIRO    </td><td>8222</td><td>-3.678056</td><td> 1.137154</td><td>es0118a</td></tr>\n",
       "\t<tr><th scope=row>4</th><td>40.41194</td><td>MADRID </td><td>667</td><td>3195</td><td>MADRID, RETIRO    </td><td>8222</td><td>-3.678056</td><td> 4.417472</td><td>es0120a</td></tr>\n",
       "\t<tr><th scope=row>5</th><td>37.41667</td><td>SEVILLA</td><td> 34</td><td>5783</td><td>SEVILLA AEROPUERTO</td><td>8391</td><td>-5.879167</td><td> 7.968651</td><td>es0817a</td></tr>\n",
       "\t<tr><th scope=row>6</th><td>37.41667</td><td>SEVILLA</td><td> 34</td><td>5783</td><td>SEVILLA AEROPUERTO</td><td>8391</td><td>-5.879167</td><td>11.220392</td><td>es0890a</td></tr>\n",
       "</tbody>\n",
       "</table>\n"
      ],
      "text/latex": [
       "A data.frame: 6 × 9\n",
       "\\begin{tabular}{r|lllllllll}\n",
       "  & latitud & provincia & altitud & indicativo & nombre & indsinop & longitud & dist & siteAQ\\\\\n",
       "  & <dbl> & <chr> & <int> & <chr> & <chr> & <int> & <dbl> & <dbl> & <chr>\\\\\n",
       "\\hline\n",
       "\t1 & 43.29806 & BIZKAIA &  42 & 1082 & BILBAO AEROPUERTO  & 8025 & -2.906389 &  5.396849 & es0041a\\\\\n",
       "\t2 & 43.29806 & BIZKAIA &  42 & 1082 & BILBAO AEROPUERTO  & 8025 & -2.906389 &  5.756578 & es0110a\\\\\n",
       "\t3 & 40.41194 & MADRID  & 667 & 3195 & MADRID, RETIRO     & 8222 & -3.678056 &  1.137154 & es0118a\\\\\n",
       "\t4 & 40.41194 & MADRID  & 667 & 3195 & MADRID, RETIRO     & 8222 & -3.678056 &  4.417472 & es0120a\\\\\n",
       "\t5 & 37.41667 & SEVILLA &  34 & 5783 & SEVILLA AEROPUERTO & 8391 & -5.879167 &  7.968651 & es0817a\\\\\n",
       "\t6 & 37.41667 & SEVILLA &  34 & 5783 & SEVILLA AEROPUERTO & 8391 & -5.879167 & 11.220392 & es0890a\\\\\n",
       "\\end{tabular}\n"
      ],
      "text/markdown": [
       "\n",
       "A data.frame: 6 × 9\n",
       "\n",
       "| <!--/--> | latitud &lt;dbl&gt; | provincia &lt;chr&gt; | altitud &lt;int&gt; | indicativo &lt;chr&gt; | nombre &lt;chr&gt; | indsinop &lt;int&gt; | longitud &lt;dbl&gt; | dist &lt;dbl&gt; | siteAQ &lt;chr&gt; |\n",
       "|---|---|---|---|---|---|---|---|---|---|\n",
       "| 1 | 43.29806 | BIZKAIA |  42 | 1082 | BILBAO AEROPUERTO  | 8025 | -2.906389 |  5.396849 | es0041a |\n",
       "| 2 | 43.29806 | BIZKAIA |  42 | 1082 | BILBAO AEROPUERTO  | 8025 | -2.906389 |  5.756578 | es0110a |\n",
       "| 3 | 40.41194 | MADRID  | 667 | 3195 | MADRID, RETIRO     | 8222 | -3.678056 |  1.137154 | es0118a |\n",
       "| 4 | 40.41194 | MADRID  | 667 | 3195 | MADRID, RETIRO     | 8222 | -3.678056 |  4.417472 | es0120a |\n",
       "| 5 | 37.41667 | SEVILLA |  34 | 5783 | SEVILLA AEROPUERTO | 8391 | -5.879167 |  7.968651 | es0817a |\n",
       "| 6 | 37.41667 | SEVILLA |  34 | 5783 | SEVILLA AEROPUERTO | 8391 | -5.879167 | 11.220392 | es0890a |\n",
       "\n"
      ],
      "text/plain": [
       "  latitud  provincia altitud indicativo nombre             indsinop longitud \n",
       "1 43.29806 BIZKAIA    42     1082       BILBAO AEROPUERTO  8025     -2.906389\n",
       "2 43.29806 BIZKAIA    42     1082       BILBAO AEROPUERTO  8025     -2.906389\n",
       "3 40.41194 MADRID    667     3195       MADRID, RETIRO     8222     -3.678056\n",
       "4 40.41194 MADRID    667     3195       MADRID, RETIRO     8222     -3.678056\n",
       "5 37.41667 SEVILLA    34     5783       SEVILLA AEROPUERTO 8391     -5.879167\n",
       "6 37.41667 SEVILLA    34     5783       SEVILLA AEROPUERTO 8391     -5.879167\n",
       "  dist      siteAQ \n",
       "1  5.396849 es0041a\n",
       "2  5.756578 es0110a\n",
       "3  1.137154 es0118a\n",
       "4  4.417472 es0120a\n",
       "5  7.968651 es0817a\n",
       "6 11.220392 es0890a"
      ]
     },
     "metadata": {},
     "output_type": "display_data"
    }
   ],
   "source": [
    "head(sites.AEMET)"
   ]
  },
  {
   "cell_type": "markdown",
   "metadata": {},
   "source": [
    "## n-Table \n",
    "\n",
    "Table with all the relations between Air Quality stations with AEMET and WorldMet stations code\n",
    "\n",
    "| siteAQ  | AEMET |   WorldMet   |\n",
    "|---------|-------|--------------|\n",
    "| es1580a | 1111  | 080210-99999 |\n",
    "| es0118a | 3195  | 082230-99999 |\n",
    "| es1438a | 0201D | 081810-99999 |\n",
    "| es1340a | 4642E | 083830-99999 |"
   ]
  },
  {
   "cell_type": "code",
   "execution_count": 6,
   "metadata": {},
   "outputs": [
    {
     "data": {
      "text/html": [
       "<table>\n",
       "<caption>A data.frame: 6 × 3</caption>\n",
       "<thead>\n",
       "\t<tr><th></th><th scope=col>siteAQ</th><th scope=col>AEMET</th><th scope=col>WorldMet</th></tr>\n",
       "\t<tr><th></th><th scope=col>&lt;fct&gt;</th><th scope=col>&lt;fct&gt;</th><th scope=col>&lt;fct&gt;</th></tr>\n",
       "</thead>\n",
       "<tbody>\n",
       "\t<tr><th scope=row>1</th><td>es0041a</td><td>1082</td><td>080210-99999</td></tr>\n",
       "\t<tr><th scope=row>2</th><td>es0110a</td><td>1082</td><td>080210-99999</td></tr>\n",
       "\t<tr><th scope=row>3</th><td>es0118a</td><td>3195</td><td>082210-99999</td></tr>\n",
       "\t<tr><th scope=row>4</th><td>es0120a</td><td>3195</td><td>082210-99999</td></tr>\n",
       "\t<tr><th scope=row>5</th><td>es0817a</td><td>5783</td><td>083830-99999</td></tr>\n",
       "\t<tr><th scope=row>6</th><td>es0890a</td><td>5783</td><td>083830-99999</td></tr>\n",
       "</tbody>\n",
       "</table>\n"
      ],
      "text/latex": [
       "A data.frame: 6 × 3\n",
       "\\begin{tabular}{r|lll}\n",
       "  & siteAQ & AEMET & WorldMet\\\\\n",
       "  & <fct> & <fct> & <fct>\\\\\n",
       "\\hline\n",
       "\t1 & es0041a & 1082 & 080210-99999\\\\\n",
       "\t2 & es0110a & 1082 & 080210-99999\\\\\n",
       "\t3 & es0118a & 3195 & 082210-99999\\\\\n",
       "\t4 & es0120a & 3195 & 082210-99999\\\\\n",
       "\t5 & es0817a & 5783 & 083830-99999\\\\\n",
       "\t6 & es0890a & 5783 & 083830-99999\\\\\n",
       "\\end{tabular}\n"
      ],
      "text/markdown": [
       "\n",
       "A data.frame: 6 × 3\n",
       "\n",
       "| <!--/--> | siteAQ &lt;fct&gt; | AEMET &lt;fct&gt; | WorldMet &lt;fct&gt; |\n",
       "|---|---|---|---|\n",
       "| 1 | es0041a | 1082 | 080210-99999 |\n",
       "| 2 | es0110a | 1082 | 080210-99999 |\n",
       "| 3 | es0118a | 3195 | 082210-99999 |\n",
       "| 4 | es0120a | 3195 | 082210-99999 |\n",
       "| 5 | es0817a | 5783 | 083830-99999 |\n",
       "| 6 | es0890a | 5783 | 083830-99999 |\n",
       "\n"
      ],
      "text/plain": [
       "  siteAQ  AEMET WorldMet    \n",
       "1 es0041a 1082  080210-99999\n",
       "2 es0110a 1082  080210-99999\n",
       "3 es0118a 3195  082210-99999\n",
       "4 es0120a 3195  082210-99999\n",
       "5 es0817a 5783  083830-99999\n",
       "6 es0890a 5783  083830-99999"
      ]
     },
     "metadata": {},
     "output_type": "display_data"
    }
   ],
   "source": [
    "nn.stations <- data.frame()\n",
    "\n",
    "for (st in levels(sites.AQ$site)) {\n",
    "    nn.stations <- rbind(nn.stations,\n",
    "                         data.frame(siteAQ = as.factor(st),\n",
    "                                    AEMET = as.factor(sites.AEMET[sites.AEMET$siteAQ == st,\n",
    "                                                                  \"indicativo\"]),\n",
    "                                    WorldMet = sites.WorldMet[sites.WorldMet$siteAQ == st,\n",
    "                                                              \"code\"]\n",
    "                                   )\n",
    "                        )\n",
    "}\n",
    "\n",
    "head(nn.stations)"
   ]
  },
  {
   "cell_type": "markdown",
   "metadata": {},
   "source": [
    "## ERA5-Land Data"
   ]
  },
  {
   "cell_type": "code",
   "execution_count": 7,
   "metadata": {},
   "outputs": [],
   "source": [
    "#-----------------------------\n",
    "#    ERA5-Land Data\n",
    "#-----------------------------\n",
    "\n",
    "folder.ERA5.Land <- \"data/Curation/ERA5-Land/\"\n",
    "\n",
    "# Relative Humidity\n",
    "load(paste(folder.ERA5.Land,\n",
    "           \"rh_daily_2010_2020_final_stations.rda\", sep=\"\"))\n",
    "\n",
    "rh.ERA5.Land <- data.as.datetime(df, \"dates\", \"ymd\") %>%\n",
    "                    add_column(variable=\"RH\", .after=\"dates\")\n",
    "\n",
    "# Solar radiation\n",
    "load(paste(folder.ERA5.Land, \n",
    "           \"ssrd_daily_2010_2020_final_stations.rda\", sep=\"\"))\n",
    "\n",
    "ssrd.ERA5.Land <- data.as.datetime(df, \"dates\", \"ymd\") %>%\n",
    "                    add_column(variable=\"solar.radiation\", .after=\"dates\")\n",
    "\n",
    "ERA5.Land <- rbind(rh.ERA5.Land, ssrd.ERA5.Land)"
   ]
  },
  {
   "cell_type": "markdown",
   "metadata": {},
   "source": [
    "## Merge Process"
   ]
  },
  {
   "cell_type": "code",
   "execution_count": 8,
   "metadata": {},
   "outputs": [],
   "source": [
    "# Folder wherever take downloaded data, if it exists\n",
    "Mto.files <- \"data/Curation/\"\n",
    "\n",
    "data_Mto <- data.frame()"
   ]
  },
  {
   "cell_type": "code",
   "execution_count": 9,
   "metadata": {},
   "outputs": [],
   "source": [
    "for (st in levels(nn.stations$siteAQ)) {\n",
    "    \n",
    "    if (st %in% names(ERA5.Land)) {\n",
    "\n",
    "        code <- nn.stations[nn.stations$siteAQ == st, \"WorldMet\"]\n",
    "\n",
    "        data.WorldMet <- read.csv(paste(Mto.files, \"WorldMet/\",\n",
    "                                     code, \".csv\", sep=\"\"), stringsAsFactor=F) %>%\n",
    "                        data.as.datetime(\"date\", \"ymd\") %>%\n",
    "                        select(-\"code\")\n",
    "\n",
    "        indicativo <- nn.stations[nn.stations$siteAQ == st, \"AEMET\"]\n",
    "\n",
    "        data.AEMET <- read.csv(paste(Mto.files, \"AEMET/\",\n",
    "                                     indicativo, \".csv\", sep=\"\"), stringsAsFactor=F) %>%\n",
    "                        data.as.datetime(\"fecha\", \"ymd\") %>%\n",
    "                        select(\"fecha\", \"tmed\", \"prec\", \n",
    "                               \"tmin\", \"tmax\", \"presMax\", \"presMin\"\n",
    "                               )\n",
    "\n",
    "        data.row <- merge(x = data.WorldMet, y = data.AEMET,\n",
    "                            by.x = \"date\", by.y = \"fecha\", all = TRUE)\n",
    "\n",
    "        for (vr in levels(as.factor(ERA5.Land$variable))) {\n",
    "            data.row <- merge(x = data.row, \n",
    "                              y = ERA5.Land[ERA5.Land$variable == vr,\n",
    "                                            c(\"dates\", st)],\n",
    "                              by.x = \"date\", by.y = \"dates\", all.x = TRUE\n",
    "                             )\n",
    "            names(data.row)[ncol(data.row)] <- vr\n",
    "        }\n",
    "\n",
    "        data.row[, \"site\"] <- st\n",
    "        data_Mto <- rbind(data_Mto, data.row)\n",
    "    }\n",
    "}"
   ]
  },
  {
   "cell_type": "code",
   "execution_count": 10,
   "metadata": {},
   "outputs": [
    {
     "data": {
      "text/html": [
       "<table>\n",
       "<caption>A data.frame: 6 × 13</caption>\n",
       "<thead>\n",
       "\t<tr><th></th><th scope=col>date</th><th scope=col>ws</th><th scope=col>wd</th><th scope=col>atmos_pres</th><th scope=col>tmed</th><th scope=col>prec</th><th scope=col>tmin</th><th scope=col>tmax</th><th scope=col>presMax</th><th scope=col>presMin</th><th scope=col>RH</th><th scope=col>solar.radiation</th><th scope=col>site</th></tr>\n",
       "\t<tr><th></th><th scope=col>&lt;date&gt;</th><th scope=col>&lt;dbl&gt;</th><th scope=col>&lt;dbl&gt;</th><th scope=col>&lt;dbl&gt;</th><th scope=col>&lt;dbl&gt;</th><th scope=col>&lt;dbl&gt;</th><th scope=col>&lt;dbl&gt;</th><th scope=col>&lt;dbl&gt;</th><th scope=col>&lt;dbl&gt;</th><th scope=col>&lt;dbl&gt;</th><th scope=col>&lt;dbl&gt;</th><th scope=col>&lt;dbl&gt;</th><th scope=col>&lt;chr&gt;</th></tr>\n",
       "</thead>\n",
       "<tbody>\n",
       "\t<tr><th scope=row>1</th><td>2013-01-01</td><td>1.9145833</td><td> 55.99284</td><td>1021.96</td><td>13.4</td><td>0</td><td>10.0</td><td>16.9</td><td>1017.6</td><td>1014.1</td><td>76.08620</td><td> 93.79024</td><td>es2031a</td></tr>\n",
       "\t<tr><th scope=row>2</th><td>2013-01-02</td><td>2.5104167</td><td> 60.44484</td><td>1025.94</td><td>13.5</td><td>0</td><td> 8.6</td><td>18.4</td><td>1021.5</td><td>1017.3</td><td>69.56252</td><td> 60.02178</td><td>es2031a</td></tr>\n",
       "\t<tr><th scope=row>3</th><td>2013-01-03</td><td>3.4173913</td><td> 85.33514</td><td>1032.06</td><td>11.8</td><td>0</td><td> 7.4</td><td>16.3</td><td>1032.5</td><td>1021.5</td><td>75.45028</td><td>109.05331</td><td>es2031a</td></tr>\n",
       "\t<tr><th scope=row>4</th><td>2013-01-04</td><td>2.9875000</td><td> 81.18525</td><td>1034.62</td><td>11.4</td><td>0</td><td> 6.3</td><td>16.6</td><td>1033.5</td><td>1030.5</td><td>76.41623</td><td> 98.05585</td><td>es2031a</td></tr>\n",
       "\t<tr><th scope=row>5</th><td>2013-01-05</td><td>0.5041667</td><td>173.50238</td><td>1034.18</td><td>14.4</td><td>0</td><td> 7.5</td><td>21.3</td><td>1030.9</td><td>1024.5</td><td>76.10843</td><td>112.60032</td><td>es2031a</td></tr>\n",
       "\t<tr><th scope=row>6</th><td>2013-01-06</td><td>0.7250000</td><td>172.17114</td><td>1030.90</td><td>16.0</td><td>0</td><td>11.6</td><td>20.4</td><td>1024.5</td><td>1020.6</td><td>74.26767</td><td>130.97924</td><td>es2031a</td></tr>\n",
       "</tbody>\n",
       "</table>\n"
      ],
      "text/latex": [
       "A data.frame: 6 × 13\n",
       "\\begin{tabular}{r|lllllllllllll}\n",
       "  & date & ws & wd & atmos\\_pres & tmed & prec & tmin & tmax & presMax & presMin & RH & solar.radiation & site\\\\\n",
       "  & <date> & <dbl> & <dbl> & <dbl> & <dbl> & <dbl> & <dbl> & <dbl> & <dbl> & <dbl> & <dbl> & <dbl> & <chr>\\\\\n",
       "\\hline\n",
       "\t1 & 2013-01-01 & 1.9145833 &  55.99284 & 1021.96 & 13.4 & 0 & 10.0 & 16.9 & 1017.6 & 1014.1 & 76.08620 &  93.79024 & es2031a\\\\\n",
       "\t2 & 2013-01-02 & 2.5104167 &  60.44484 & 1025.94 & 13.5 & 0 &  8.6 & 18.4 & 1021.5 & 1017.3 & 69.56252 &  60.02178 & es2031a\\\\\n",
       "\t3 & 2013-01-03 & 3.4173913 &  85.33514 & 1032.06 & 11.8 & 0 &  7.4 & 16.3 & 1032.5 & 1021.5 & 75.45028 & 109.05331 & es2031a\\\\\n",
       "\t4 & 2013-01-04 & 2.9875000 &  81.18525 & 1034.62 & 11.4 & 0 &  6.3 & 16.6 & 1033.5 & 1030.5 & 76.41623 &  98.05585 & es2031a\\\\\n",
       "\t5 & 2013-01-05 & 0.5041667 & 173.50238 & 1034.18 & 14.4 & 0 &  7.5 & 21.3 & 1030.9 & 1024.5 & 76.10843 & 112.60032 & es2031a\\\\\n",
       "\t6 & 2013-01-06 & 0.7250000 & 172.17114 & 1030.90 & 16.0 & 0 & 11.6 & 20.4 & 1024.5 & 1020.6 & 74.26767 & 130.97924 & es2031a\\\\\n",
       "\\end{tabular}\n"
      ],
      "text/markdown": [
       "\n",
       "A data.frame: 6 × 13\n",
       "\n",
       "| <!--/--> | date &lt;date&gt; | ws &lt;dbl&gt; | wd &lt;dbl&gt; | atmos_pres &lt;dbl&gt; | tmed &lt;dbl&gt; | prec &lt;dbl&gt; | tmin &lt;dbl&gt; | tmax &lt;dbl&gt; | presMax &lt;dbl&gt; | presMin &lt;dbl&gt; | RH &lt;dbl&gt; | solar.radiation &lt;dbl&gt; | site &lt;chr&gt; |\n",
       "|---|---|---|---|---|---|---|---|---|---|---|---|---|---|\n",
       "| 1 | 2013-01-01 | 1.9145833 |  55.99284 | 1021.96 | 13.4 | 0 | 10.0 | 16.9 | 1017.6 | 1014.1 | 76.08620 |  93.79024 | es2031a |\n",
       "| 2 | 2013-01-02 | 2.5104167 |  60.44484 | 1025.94 | 13.5 | 0 |  8.6 | 18.4 | 1021.5 | 1017.3 | 69.56252 |  60.02178 | es2031a |\n",
       "| 3 | 2013-01-03 | 3.4173913 |  85.33514 | 1032.06 | 11.8 | 0 |  7.4 | 16.3 | 1032.5 | 1021.5 | 75.45028 | 109.05331 | es2031a |\n",
       "| 4 | 2013-01-04 | 2.9875000 |  81.18525 | 1034.62 | 11.4 | 0 |  6.3 | 16.6 | 1033.5 | 1030.5 | 76.41623 |  98.05585 | es2031a |\n",
       "| 5 | 2013-01-05 | 0.5041667 | 173.50238 | 1034.18 | 14.4 | 0 |  7.5 | 21.3 | 1030.9 | 1024.5 | 76.10843 | 112.60032 | es2031a |\n",
       "| 6 | 2013-01-06 | 0.7250000 | 172.17114 | 1030.90 | 16.0 | 0 | 11.6 | 20.4 | 1024.5 | 1020.6 | 74.26767 | 130.97924 | es2031a |\n",
       "\n"
      ],
      "text/plain": [
       "  date       ws        wd        atmos_pres tmed prec tmin tmax presMax presMin\n",
       "1 2013-01-01 1.9145833  55.99284 1021.96    13.4 0    10.0 16.9 1017.6  1014.1 \n",
       "2 2013-01-02 2.5104167  60.44484 1025.94    13.5 0     8.6 18.4 1021.5  1017.3 \n",
       "3 2013-01-03 3.4173913  85.33514 1032.06    11.8 0     7.4 16.3 1032.5  1021.5 \n",
       "4 2013-01-04 2.9875000  81.18525 1034.62    11.4 0     6.3 16.6 1033.5  1030.5 \n",
       "5 2013-01-05 0.5041667 173.50238 1034.18    14.4 0     7.5 21.3 1030.9  1024.5 \n",
       "6 2013-01-06 0.7250000 172.17114 1030.90    16.0 0    11.6 20.4 1024.5  1020.6 \n",
       "  RH       solar.radiation site   \n",
       "1 76.08620  93.79024       es2031a\n",
       "2 69.56252  60.02178       es2031a\n",
       "3 75.45028 109.05331       es2031a\n",
       "4 76.41623  98.05585       es2031a\n",
       "5 76.10843 112.60032       es2031a\n",
       "6 74.26767 130.97924       es2031a"
      ]
     },
     "metadata": {},
     "output_type": "display_data"
    }
   ],
   "source": [
    "head(data.row)"
   ]
  },
  {
   "cell_type": "markdown",
   "metadata": {},
   "source": [
    "## Guardar Datos"
   ]
  },
  {
   "cell_type": "markdown",
   "metadata": {},
   "source": [
    "```R\n",
    "save(data_Mto, nn.stations, file=\"data/meteorology.rda\")\n",
    "```"
   ]
  },
  {
   "cell_type": "code",
   "execution_count": null,
   "metadata": {},
   "outputs": [],
   "source": []
  }
 ],
 "metadata": {
  "kernelspec": {
   "display_name": "R",
   "language": "R",
   "name": "ir"
  },
  "language_info": {
   "codemirror_mode": "r",
   "file_extension": ".r",
   "mimetype": "text/x-r-source",
   "name": "R",
   "pygments_lexer": "r",
   "version": "4.0.4"
  }
 },
 "nbformat": 4,
 "nbformat_minor": 4
}
