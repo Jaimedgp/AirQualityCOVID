{
 "cells": [
  {
   "cell_type": "markdown",
   "metadata": {},
   "source": [
    "# WorldMet Meteorological Data"
   ]
  },
  {
   "cell_type": "code",
   "execution_count": 11,
   "metadata": {},
   "outputs": [],
   "source": [
    "setwd(\"~/Repositories/AirQualityCOVID/\")"
   ]
  },
  {
   "cell_type": "code",
   "execution_count": 12,
   "metadata": {},
   "outputs": [],
   "source": [
    "# Loading\n",
    "suppressMessages(library(worldmet))\n",
    "suppressMessages(library(tidyverse))\n",
    "suppressMessages(library(lubridate))\n",
    "suppressMessages(library(openair))"
   ]
  },
  {
   "cell_type": "code",
   "execution_count": 13,
   "metadata": {},
   "outputs": [],
   "source": [
    "study.prd <- c(ymd_hms(\"2013-01-01 00:00:00\"), ymd_hms(\"2020-12-31 00:00:00\"))\n",
    "\n",
    "period <- as.integer(interval(floor_date(study.prd[1], unit=\"day\"),\n",
    "                    floor_date(study.prd[2], unit=\"day\")\n",
    "                   ) / (3600*24)) + 2"
   ]
  },
  {
   "cell_type": "markdown",
   "metadata": {},
   "source": [
    "## Air Quality sites info"
   ]
  },
  {
   "cell_type": "code",
   "execution_count": 14,
   "metadata": {},
   "outputs": [],
   "source": [
    "sites.AQ <- read.csv(\"data/Curation/checked_AQ.csv\",\n",
    "                     stringsAsFactor=TRUE)\n",
    "\n",
    "#sites.lv <- levels(as.factor(sites.AQ$site))[1:3]\n",
    "sites.lv <- c(\"es0118a\", \"es1438a\") # Big cities (Madrid and Barcelona)\",\n",
    "sites.lv <- c(sites.lv, \"es1580a\", \"es1340a\") # small cities (Santander and Huelva)\n",
    "\n",
    "sites.lv <- sites.lv[which(sites.lv %in% sites.AQ$site)]"
   ]
  },
  {
   "cell_type": "code",
   "execution_count": 15,
   "metadata": {},
   "outputs": [
    {
     "name": "stdout",
     "output_type": "stream",
     "text": [
      "[1] \"The following sites / years are missing:\"\n",
      "          code year date station\n",
      "1 082220-99999 2013 <NA>    <NA>\n",
      "2 082220-99999 2014 <NA>    <NA>\n",
      "3 082220-99999 2015 <NA>    <NA>\n",
      "4 082220-99999 2016 <NA>    <NA>\n",
      "[1] \"The following sites / years are missing:\"\n",
      "          code year date station\n",
      "1 082200-99999 2013 <NA>    <NA>\n",
      "2 082200-99999 2014 <NA>    <NA>\n",
      "3 082200-99999 2015 <NA>    <NA>\n",
      "4 082200-99999 2016 <NA>    <NA>\n",
      "[1] \"The following sites / years are missing:\"\n",
      "          code year date station\n",
      "1 081800-99999 2013 <NA>    <NA>\n",
      "2 081800-99999 2014 <NA>    <NA>\n",
      "3 081800-99999 2015 <NA>    <NA>\n",
      "4 081800-99999 2016 <NA>    <NA>\n"
     ]
    }
   ],
   "source": [
    "sites.Mto <- data.frame()\n",
    "\n",
    "for (st in sites.lv) {\n",
    "    mto <- getMeta(lat = sites.AQ[sites.AQ$site == st, ]$latitude[1], \n",
    "                   lon = sites.AQ[sites.AQ$site == st, ]$longitude[1], \n",
    "                   end.year = \"current\",\n",
    "                   n = 3, returnMap = F)\n",
    "\n",
    "    for (cd in mto[order(mto$dist), ]$code) {\n",
    "        fileName <- paste(\"data/Curation/WorldMet/\", cd, \".csv\", sep=\"\")\n",
    "        \n",
    "        if (file.exists(fileName)) {\n",
    "            mto[mto$code == cd, \"siteAQ\"] <- st\n",
    "            sites.Mto <- rbind(sites.Mto, mto[mto$code == cd, ])            \n",
    "            \n",
    "            break\n",
    "        } else {\n",
    "            data <- importNOAA(code = cd,\n",
    "                              year = 2013:2020,\n",
    "                              hourly = TRUE,\n",
    "                              n.cores = 6\n",
    "                             ) %>%\n",
    "                        select(\"date\", \"code\", \"ws\", \"wd\", \"atmos_pres\") %>%\n",
    "                        timeAverage(avg.time = \"day\", type=\"code\")\n",
    "\n",
    "            if(sum(colSums(!is.na(data))/ period > 0.8) == ncol(data)) {\n",
    "                mto[mto$code == cd, \"siteAQ\"] <- st\n",
    "                sites.Mto <- rbind(sites.Mto, mto[mto$code == cd, ])\n",
    "                \n",
    "                #write.csv(data, fileName, row.names=F)\n",
    "\n",
    "                break\n",
    "            }\n",
    "        }\n",
    "    }\n",
    "}"
   ]
  },
  {
   "cell_type": "markdown",
   "metadata": {},
   "source": [
    "## Save Data to CSV "
   ]
  },
  {
   "cell_type": "markdown",
   "metadata": {},
   "source": [
    "```R\n",
    "write.csv(sites.Mto,\n",
    "          paste(\"data/Curation/checked_WorldMet.csv\"), row.names=FALSE)\n",
    "```"
   ]
  }
 ],
 "metadata": {
  "kernelspec": {
   "display_name": "R",
   "language": "R",
   "name": "ir"
  },
  "language_info": {
   "codemirror_mode": "r",
   "file_extension": ".r",
   "mimetype": "text/x-r-source",
   "name": "R",
   "pygments_lexer": "r",
   "version": "4.0.4"
  }
 },
 "nbformat": 4,
 "nbformat_minor": 4
}
