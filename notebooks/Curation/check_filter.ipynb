{
 "cells": [
  {
   "cell_type": "markdown",
   "metadata": {},
   "source": [
    "# Comprobar que estaciones son eliminadas segun los filtros que se aplican"
   ]
  },
  {
   "cell_type": "code",
   "execution_count": null,
   "metadata": {},
   "outputs": [],
   "source": [
    "# Loading\n",
    "suppressMessages(library(saqgetr))\n",
    "suppressMessages(library(tidyverse))\n",
    "suppressMessages(library(lubridate))\n",
    "suppressMessages(library(worldmet))\n",
    "suppressMessages(library(openxlsx))"
   ]
  },
  {
   "cell_type": "code",
   "execution_count": null,
   "metadata": {},
   "outputs": [],
   "source": [
    "# contaminantes a estudiar\n",
    "pollutants <- c(\"no\", \"no2\", \"o3\", \"pm10\", \"pm2.5\")\n",
    "\n",
    "# fechas de inicio y final de toma de datos\n",
    "start_dt <- ymd_hms(\"2013-01-01 00:00:00\")\n",
    "end_dt <- ymd_hms(\"2020-12-01 00:00:00\")"
   ]
  },
  {
   "cell_type": "code",
   "execution_count": null,
   "metadata": {},
   "outputs": [],
   "source": [
    "file <- \"../../data/xlsx/estaciones-CA-JA.xlsx\"\n",
    "sheets <- c(\"todas\", \"traffic\", \"traffic-urban\", \"traffic-urban-2020\",\n",
    "            \"traffic-suburban\", \"traffic-suburban-2020\",\n",
    "            \"ciudades-100000\", \"ciudades-100000-A\")\n",
    "# xlsx files\n",
    "sites.100mil <- read.xlsx(file, sheet=sheets[8])"
   ]
  },
  {
   "cell_type": "code",
   "execution_count": null,
   "metadata": {},
   "outputs": [],
   "source": [
    "# obtener datos de CA de España. Salen los códigos de las estaciones\n",
    "# de Calidad de aire (941)\n",
    "spain.sites <- get_saq_sites() %>%\n",
    "    filter(country == \"spain\",\n",
    "           site %in% sites.100mil$\"Código.estación\",\n",
    "           site_type == \"traffic\",\n",
    "           site_area == \"urban\",\n",
    "           date_start <= start_dt,\n",
    "           date_end >= end_dt,\n",
    "           ) %>%\n",
    "    select(site, site_name, latitude, longitude, elevation, \n",
    "           country, site_type, site_area, date_start, date_end)"
   ]
  },
  {
   "cell_type": "code",
   "execution_count": null,
   "metadata": {},
   "outputs": [],
   "source": [
    "sites.100mil[!(sites.100mil$\"Código.estación\" %in% spain.sites$site), c(\"Estación.tráfico\", \"Municipio\", \"Código.estación\")]"
   ]
  }
 ],
 "metadata": {
  "kernelspec": {
   "display_name": "R",
   "language": "R",
   "name": "ir"
  },
  "language_info": {
   "codemirror_mode": "r",
   "file_extension": ".r",
   "mimetype": "text/x-r-source",
   "name": "R",
   "pygments_lexer": "r",
   "version": "3.6.3"
  }
 },
 "nbformat": 4,
 "nbformat_minor": 4
}
