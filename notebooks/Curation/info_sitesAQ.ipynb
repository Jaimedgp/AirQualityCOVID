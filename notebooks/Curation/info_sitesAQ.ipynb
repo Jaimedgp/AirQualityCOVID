{
 "cells": [
  {
   "cell_type": "markdown",
   "metadata": {},
   "source": [
    "# Curation Estaciones Calidad del Aire\n",
    "\n",
    "Estudiar de que contaminantes no hay datos suficientes para el estudio en cada estacion. Se ha de comprobar que hay datos ($> 90\\%$) durante el periodo de interes (`1-Enero-2020` <=> `31-Junio-2020`). Tambien se comprueban si hay intervalos largos de tiempo sin datos, utilizando una resolucion minima semanal, mensual y anual.\n",
    "\n",
    "|   site   |  Pollutant   |   start_yr   |    end_yr    | hv.min  | missing.wk | missing.mnth | missing.yr |\n",
    "|----------|--------------|--------------|--------------|---------|------------|--------------|------------|\n",
    "| es0001a  |     no2      |  01-01-2015  |  02-01-2015  |  TRUE   |     34     |      2       |     0      |\n",
    "| es0001a  |     no       |  01-01-2015  |  02-01-2015  |  TRUE   |     40     |     12       |     1      |\n",
    "| es0001a  |      o3      |  01-01-2015  |  02-01-2015  |  FALSE  |      4     |      0       |     0      |"
   ]
  },
  {
   "cell_type": "code",
   "execution_count": 1,
   "metadata": {},
   "outputs": [],
   "source": [
    "setwd(\"~/Repositories/AirQualityCOVID\")"
   ]
  },
  {
   "cell_type": "code",
   "execution_count": 2,
   "metadata": {},
   "outputs": [],
   "source": [
    "source(\"src/general.R\")"
   ]
  },
  {
   "cell_type": "markdown",
   "metadata": {},
   "source": [
    "## Funciones para filtrar datos"
   ]
  },
  {
   "cell_type": "code",
   "execution_count": 3,
   "metadata": {},
   "outputs": [],
   "source": [
    "suppressMessages(library(lubridate))\n",
    "suppressMessages(library(tidyverse))"
   ]
  },
  {
   "cell_type": "code",
   "execution_count": 4,
   "metadata": {},
   "outputs": [],
   "source": [
    "have.2020 <- function(dataFrame, start_dt = ymd(\"2020-01-01\"),\n",
    "                                 end_dt = ymd(\"2020-06-30\")) {\n",
    "    \n",
    "    if (as_date(min(dataFrame$date)) > start_dt) {\n",
    "        boolean <- FALSE\n",
    "    } else if (as_date(max(dataFrame$date)) < end_dt) {\n",
    "        boolean <- FALSE\n",
    "    } else {\n",
    "        new.df <- dataFrame[dataFrame$date >= start_dt &\n",
    "                            dataFrame$date <= end_dt, ]\n",
    "\n",
    "        amount.data <- (sum(!is.na(new.df$value)) / length(new.df$value))\n",
    "\n",
    "        boolean <- amount.data >= 0.9\n",
    "    }\n",
    "    boolean\n",
    "}"
   ]
  },
  {
   "cell_type": "code",
   "execution_count": 103,
   "metadata": {},
   "outputs": [],
   "source": [
    "get.missing <- function(dataFrame, unit=\"week\", \n",
    "                                   start_dt=ymd(\"2010-01-01\"), \n",
    "                                   end_dt=ymd(\"2020-12-31\")) {\n",
    "    \n",
    "    conversion <- list(\"hour\" = 3600,\n",
    "                       \"day\" = 3600*24,\n",
    "                       \"week\" = 3600*24*7,\n",
    "                       \"month\" = (3600*24*365)/12,\n",
    "                       \"year\" = 3600*24*365\n",
    "                       )\n",
    "    \n",
    "    new.df <- group.by.date(dataFrame, unit=unit, FUN=mean)\n",
    "    period <- (interval(round_date(start_dt, unit=unit),\n",
    "                        round_date(end_dt, unit=unit)\n",
    "                       )\n",
    "               / conversion[[unit]])\n",
    "    \n",
    "    as.integer(period) - sum(!is.na(new.df$x)) + 1\n",
    "}"
   ]
  },
  {
   "cell_type": "markdown",
   "metadata": {},
   "source": [
    "## Estaciones de Calidad del Aire para el estudio"
   ]
  },
  {
   "cell_type": "code",
   "execution_count": 104,
   "metadata": {},
   "outputs": [],
   "source": [
    "all.sites <- read.csv(\"data/curation/sitesAQ.csv\",\n",
    "                      stringsAsFactor=TRUE)\n",
    "\n",
    "sites.lv <- levels(all.sites$site)\n",
    "pollutants.lv <- levels(all.sites$variable)"
   ]
  },
  {
   "cell_type": "markdown",
   "metadata": {},
   "source": [
    "## Informacion Relevante"
   ]
  },
  {
   "cell_type": "code",
   "execution_count": 105,
   "metadata": {},
   "outputs": [],
   "source": [
    "all.info <- data.frame()\n",
    "\n",
    "for (st in c(\"es1480a\", \"es1225a\", \"es1580a\")) {\n",
    "    dataAQ <- read.csv(paste(\"data/curation/dataAQ/\",\n",
    "                             st, \".csv\", sep=\"\"))\n",
    "    for (pll in pollutants.lv) {\n",
    "        dataAQPLL <- dataAQ[dataAQ$variable == pll, ]\n",
    "        if (nrow(dataAQPLL) > 0) {\n",
    "            start_yr <- as_date(min(dataAQPLL$date))\n",
    "            end_yr <- as_date(max(dataAQPLL$date))\n",
    "            \n",
    "            hv.min <- have.2020(dataAQPLL)\n",
    "\n",
    "            mss.wk <- get.missing(dataAQPLL, unit=\"week\")\n",
    "            mss.mnth <- get.missing(dataAQPLL, unit=\"month\")\n",
    "            mss.yr <- get.missing(dataAQPLL, unit=\"year\")\n",
    "\n",
    "            new.row <- data.frame(site=st, Pollutant=pll, \n",
    "                                  start_yr, end_yr,\n",
    "                                  hv.min, mss.wk, mss.mnth, mss.yr)\n",
    "            all.info <- rbind(new.row, all.info)\n",
    "        }\n",
    "    }\n",
    "}"
   ]
  },
  {
   "cell_type": "code",
   "execution_count": 106,
   "metadata": {},
   "outputs": [
    {
     "data": {
      "text/html": [
       "<table>\n",
       "<caption>A data.frame: 13 × 8</caption>\n",
       "<thead>\n",
       "\t<tr><th scope=col>site</th><th scope=col>Pollutant</th><th scope=col>start_yr</th><th scope=col>end_yr</th><th scope=col>hv.min</th><th scope=col>mss.wk</th><th scope=col>mss.mnth</th><th scope=col>mss.yr</th></tr>\n",
       "\t<tr><th scope=col>&lt;chr&gt;</th><th scope=col>&lt;chr&gt;</th><th scope=col>&lt;date&gt;</th><th scope=col>&lt;date&gt;</th><th scope=col>&lt;lgl&gt;</th><th scope=col>&lt;dbl&gt;</th><th scope=col>&lt;dbl&gt;</th><th scope=col>&lt;dbl&gt;</th></tr>\n",
       "</thead>\n",
       "<tbody>\n",
       "\t<tr><td>es1580a</td><td>pm10 </td><td>2010-01-01</td><td>2020-12-30</td><td> TRUE</td><td>  8</td><td> 0</td><td>0</td></tr>\n",
       "\t<tr><td>es1580a</td><td>no2  </td><td>2010-01-01</td><td>2020-12-31</td><td> TRUE</td><td>  9</td><td> 0</td><td>0</td></tr>\n",
       "\t<tr><td>es1580a</td><td>no   </td><td>2010-01-01</td><td>2020-12-31</td><td> TRUE</td><td>  9</td><td> 0</td><td>0</td></tr>\n",
       "\t<tr><td>es1225a</td><td>pm2.5</td><td>2010-01-04</td><td>2018-12-29</td><td>FALSE</td><td>115</td><td>24</td><td>2</td></tr>\n",
       "\t<tr><td>es1225a</td><td>pm10 </td><td>2010-01-02</td><td>2018-12-29</td><td>FALSE</td><td>115</td><td>24</td><td>2</td></tr>\n",
       "\t<tr><td>es1225a</td><td>o3   </td><td>2010-01-01</td><td>2020-12-31</td><td> TRUE</td><td>260</td><td>59</td><td>4</td></tr>\n",
       "\t<tr><td>es1225a</td><td>no2  </td><td>2010-01-01</td><td>2020-12-31</td><td> TRUE</td><td>  7</td><td> 0</td><td>0</td></tr>\n",
       "\t<tr><td>es1225a</td><td>no   </td><td>2010-01-01</td><td>2020-12-31</td><td> TRUE</td><td>  7</td><td> 0</td><td>0</td></tr>\n",
       "\t<tr><td>es1480a</td><td>pm2.5</td><td>2010-01-27</td><td>2018-12-30</td><td>FALSE</td><td>112</td><td>25</td><td>2</td></tr>\n",
       "\t<tr><td>es1480a</td><td>pm10 </td><td>2010-01-04</td><td>2018-12-30</td><td>FALSE</td><td>108</td><td>24</td><td>2</td></tr>\n",
       "\t<tr><td>es1480a</td><td>o3   </td><td>2010-01-01</td><td>2020-12-31</td><td> TRUE</td><td>261</td><td>59</td><td>4</td></tr>\n",
       "\t<tr><td>es1480a</td><td>no2  </td><td>2010-01-01</td><td>2020-12-31</td><td> TRUE</td><td>  0</td><td> 0</td><td>0</td></tr>\n",
       "\t<tr><td>es1480a</td><td>no   </td><td>2010-01-01</td><td>2020-12-31</td><td> TRUE</td><td>  0</td><td> 0</td><td>0</td></tr>\n",
       "</tbody>\n",
       "</table>\n"
      ],
      "text/latex": [
       "A data.frame: 13 × 8\n",
       "\\begin{tabular}{llllllll}\n",
       " site & Pollutant & start\\_yr & end\\_yr & hv.min & mss.wk & mss.mnth & mss.yr\\\\\n",
       " <chr> & <chr> & <date> & <date> & <lgl> & <dbl> & <dbl> & <dbl>\\\\\n",
       "\\hline\n",
       "\t es1580a & pm10  & 2010-01-01 & 2020-12-30 &  TRUE &   8 &  0 & 0\\\\\n",
       "\t es1580a & no2   & 2010-01-01 & 2020-12-31 &  TRUE &   9 &  0 & 0\\\\\n",
       "\t es1580a & no    & 2010-01-01 & 2020-12-31 &  TRUE &   9 &  0 & 0\\\\\n",
       "\t es1225a & pm2.5 & 2010-01-04 & 2018-12-29 & FALSE & 115 & 24 & 2\\\\\n",
       "\t es1225a & pm10  & 2010-01-02 & 2018-12-29 & FALSE & 115 & 24 & 2\\\\\n",
       "\t es1225a & o3    & 2010-01-01 & 2020-12-31 &  TRUE & 260 & 59 & 4\\\\\n",
       "\t es1225a & no2   & 2010-01-01 & 2020-12-31 &  TRUE &   7 &  0 & 0\\\\\n",
       "\t es1225a & no    & 2010-01-01 & 2020-12-31 &  TRUE &   7 &  0 & 0\\\\\n",
       "\t es1480a & pm2.5 & 2010-01-27 & 2018-12-30 & FALSE & 112 & 25 & 2\\\\\n",
       "\t es1480a & pm10  & 2010-01-04 & 2018-12-30 & FALSE & 108 & 24 & 2\\\\\n",
       "\t es1480a & o3    & 2010-01-01 & 2020-12-31 &  TRUE & 261 & 59 & 4\\\\\n",
       "\t es1480a & no2   & 2010-01-01 & 2020-12-31 &  TRUE &   0 &  0 & 0\\\\\n",
       "\t es1480a & no    & 2010-01-01 & 2020-12-31 &  TRUE &   0 &  0 & 0\\\\\n",
       "\\end{tabular}\n"
      ],
      "text/markdown": [
       "\n",
       "A data.frame: 13 × 8\n",
       "\n",
       "| site &lt;chr&gt; | Pollutant &lt;chr&gt; | start_yr &lt;date&gt; | end_yr &lt;date&gt; | hv.min &lt;lgl&gt; | mss.wk &lt;dbl&gt; | mss.mnth &lt;dbl&gt; | mss.yr &lt;dbl&gt; |\n",
       "|---|---|---|---|---|---|---|---|\n",
       "| es1580a | pm10  | 2010-01-01 | 2020-12-30 |  TRUE |   8 |  0 | 0 |\n",
       "| es1580a | no2   | 2010-01-01 | 2020-12-31 |  TRUE |   9 |  0 | 0 |\n",
       "| es1580a | no    | 2010-01-01 | 2020-12-31 |  TRUE |   9 |  0 | 0 |\n",
       "| es1225a | pm2.5 | 2010-01-04 | 2018-12-29 | FALSE | 115 | 24 | 2 |\n",
       "| es1225a | pm10  | 2010-01-02 | 2018-12-29 | FALSE | 115 | 24 | 2 |\n",
       "| es1225a | o3    | 2010-01-01 | 2020-12-31 |  TRUE | 260 | 59 | 4 |\n",
       "| es1225a | no2   | 2010-01-01 | 2020-12-31 |  TRUE |   7 |  0 | 0 |\n",
       "| es1225a | no    | 2010-01-01 | 2020-12-31 |  TRUE |   7 |  0 | 0 |\n",
       "| es1480a | pm2.5 | 2010-01-27 | 2018-12-30 | FALSE | 112 | 25 | 2 |\n",
       "| es1480a | pm10  | 2010-01-04 | 2018-12-30 | FALSE | 108 | 24 | 2 |\n",
       "| es1480a | o3    | 2010-01-01 | 2020-12-31 |  TRUE | 261 | 59 | 4 |\n",
       "| es1480a | no2   | 2010-01-01 | 2020-12-31 |  TRUE |   0 |  0 | 0 |\n",
       "| es1480a | no    | 2010-01-01 | 2020-12-31 |  TRUE |   0 |  0 | 0 |\n",
       "\n"
      ],
      "text/plain": [
       "   site    Pollutant start_yr   end_yr     hv.min mss.wk mss.mnth mss.yr\n",
       "1  es1580a pm10      2010-01-01 2020-12-30  TRUE    8     0       0     \n",
       "2  es1580a no2       2010-01-01 2020-12-31  TRUE    9     0       0     \n",
       "3  es1580a no        2010-01-01 2020-12-31  TRUE    9     0       0     \n",
       "4  es1225a pm2.5     2010-01-04 2018-12-29 FALSE  115    24       2     \n",
       "5  es1225a pm10      2010-01-02 2018-12-29 FALSE  115    24       2     \n",
       "6  es1225a o3        2010-01-01 2020-12-31  TRUE  260    59       4     \n",
       "7  es1225a no2       2010-01-01 2020-12-31  TRUE    7     0       0     \n",
       "8  es1225a no        2010-01-01 2020-12-31  TRUE    7     0       0     \n",
       "9  es1480a pm2.5     2010-01-27 2018-12-30 FALSE  112    25       2     \n",
       "10 es1480a pm10      2010-01-04 2018-12-30 FALSE  108    24       2     \n",
       "11 es1480a o3        2010-01-01 2020-12-31  TRUE  261    59       4     \n",
       "12 es1480a no2       2010-01-01 2020-12-31  TRUE    0     0       0     \n",
       "13 es1480a no        2010-01-01 2020-12-31  TRUE    0     0       0     "
      ]
     },
     "metadata": {},
     "output_type": "display_data"
    }
   ],
   "source": [
    "all.info"
   ]
  },
  {
   "cell_type": "code",
   "execution_count": null,
   "metadata": {},
   "outputs": [],
   "source": []
  }
 ],
 "metadata": {
  "kernelspec": {
   "display_name": "R",
   "language": "R",
   "name": "ir"
  },
  "language_info": {
   "codemirror_mode": "r",
   "file_extension": ".r",
   "mimetype": "text/x-r-source",
   "name": "R",
   "pygments_lexer": "r",
   "version": "4.0.3"
  }
 },
 "nbformat": 4,
 "nbformat_minor": 4
}
