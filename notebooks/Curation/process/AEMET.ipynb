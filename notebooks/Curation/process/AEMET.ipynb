{
 "cells": [
  {
   "cell_type": "markdown",
   "metadata": {},
   "source": [
    "# Meteorology\n",
    "\n"
   ]
  },
  {
   "cell_type": "code",
   "execution_count": 1,
   "metadata": {},
   "outputs": [],
   "source": [
    "import os\n",
    "\n",
    "HOME = os.environ['HOME']+\"/Repositories/AirQualityCOVID/\"\n",
    "\n",
    "os.chdir(HOME+\"src/Curation\")"
   ]
  },
  {
   "cell_type": "code",
   "execution_count": 2,
   "metadata": {},
   "outputs": [],
   "source": [
    "from datetime import date\n",
    "\n",
    "import pandas as pd\n",
    "\n",
    "from meteo.AEMET import DownloadAEMET\n",
    "from meteo.apikey_file import apikey # import AEMET api key from file\n",
    "from meteo import curation as curt"
   ]
  },
  {
   "cell_type": "code",
   "execution_count": 3,
   "metadata": {},
   "outputs": [],
   "source": [
    "# Initialize AEMET API class with my api key\n",
    "Aemet = DownloadAEMET(apikey=apikey)   "
   ]
  },
  {
   "cell_type": "code",
   "execution_count": 4,
   "metadata": {},
   "outputs": [],
   "source": [
    "# ------------------------------\n",
    "#      Air Quality sites\n",
    "# ------------------------------\n",
    "sites_AQ = pd.read_csv(HOME+\"data/Curation/checked_AQ.csv\")\n",
    "unique_sites_AQ =  sites_AQ.groupby([\"site\",\n",
    "                                     \"latitude\",\n",
    "                                     \"longitude\"]\n",
    "                                   ).size().reset_index()\n",
    "\n",
    "# Madrid, Santander, Barcelona, Huelva\n",
    "sites_lv = [\"es0118a\", \"es1580a\", \"es1438a\", \"es1340a\"]\n",
    "unique_sites_AQ = unique_sites_AQ[unique_sites_AQ[\"site\"].isin(sites_lv)]"
   ]
  },
  {
   "cell_type": "code",
   "execution_count": 5,
   "metadata": {},
   "outputs": [],
   "source": [
    "# ------------------------------\n",
    "#      Curation Variables\n",
    "# ------------------------------\n",
    "\n",
    "study_prd = [date(2013, 1, 1),    # start date\n",
    "             date(2020, 12, 31)]  # end date\n",
    "num_stations = 10\n",
    "min_proportion = 0.8\n",
    "\n",
    "folder = HOME+\"data/Curation/AEMET/\"\n",
    "removed_cl = [\"dir\", \"velmedia\", \"sol\", \"horatmin\", \"horatmax\", \n",
    "              \"horaracha\", \"horaPresMax\", \"horaPresMin\"]\n",
    "selected_cl = [\"fecha\", \"tmed\", \"prec\",\n",
    "               \"tmin\", \"tmax\", \"presMax\", \"presMin\"]"
   ]
  },
  {
   "cell_type": "code",
   "execution_count": 6,
   "metadata": {},
   "outputs": [
    {
     "name": "stdout",
     "output_type": "stream",
     "text": [
      "1/2: exito\n",
      "2/2: exito\n",
      "1/2: No hay datos que satisfagan esos criterios\n",
      "1/2: exito\n",
      "2/2: exito\n",
      "1/2: exito\n",
      "2/2: exito\n",
      "1/2: exito\n",
      "2/2: exito\n",
      "1/2: No hay datos que satisfagan esos criterios\n",
      "1/2: exito\n",
      "2/2: exito\n"
     ]
    }
   ],
   "source": [
    "# ------------------------------\n",
    "#      Curation Process\n",
    "# ------------------------------\n",
    "all_station_info = [curt.download_nearest_data(aemet=Aemet, siteAQ=row,\n",
    "                                               stdy_prd=study_prd,\n",
    "                                               remove_cl=removed_cl,\n",
    "                                               selected_cl=selected_cl,\n",
    "                                               folder=folder, n=num_stations,\n",
    "                                               min_prop=min_proportion)\n",
    "                    for i, row in unique_sites_AQ.iterrows()]\n"
   ]
  },
  {
   "cell_type": "code",
   "execution_count": 7,
   "metadata": {},
   "outputs": [
    {
     "data": {
      "text/html": [
       "<div>\n",
       "<style scoped>\n",
       "    .dataframe tbody tr th:only-of-type {\n",
       "        vertical-align: middle;\n",
       "    }\n",
       "\n",
       "    .dataframe tbody tr th {\n",
       "        vertical-align: top;\n",
       "    }\n",
       "\n",
       "    .dataframe thead th {\n",
       "        text-align: right;\n",
       "    }\n",
       "</style>\n",
       "<table border=\"1\" class=\"dataframe\">\n",
       "  <thead>\n",
       "    <tr style=\"text-align: right;\">\n",
       "      <th></th>\n",
       "      <th>latitud</th>\n",
       "      <th>provincia</th>\n",
       "      <th>altitud</th>\n",
       "      <th>indicativo</th>\n",
       "      <th>nombre</th>\n",
       "      <th>indsinop</th>\n",
       "      <th>longitud</th>\n",
       "      <th>dist</th>\n",
       "      <th>siteAQ</th>\n",
       "    </tr>\n",
       "  </thead>\n",
       "  <tbody>\n",
       "    <tr>\n",
       "      <th>0</th>\n",
       "      <td>40.4119</td>\n",
       "      <td>MADRID</td>\n",
       "      <td>667</td>\n",
       "      <td>3195</td>\n",
       "      <td>MADRID, RETIRO</td>\n",
       "      <td>08222</td>\n",
       "      <td>-3.67806</td>\n",
       "      <td>1.13715</td>\n",
       "      <td>es0118a</td>\n",
       "    </tr>\n",
       "    <tr>\n",
       "      <th>1</th>\n",
       "      <td>37.2783</td>\n",
       "      <td>HUELVA</td>\n",
       "      <td>19</td>\n",
       "      <td>4642E</td>\n",
       "      <td>HUELVA, RONDA ESTE</td>\n",
       "      <td>08383</td>\n",
       "      <td>-6.91167</td>\n",
       "      <td>3.46786</td>\n",
       "      <td>es1340a</td>\n",
       "    </tr>\n",
       "    <tr>\n",
       "      <th>2</th>\n",
       "      <td>41.4183</td>\n",
       "      <td>BARCELONA</td>\n",
       "      <td>408</td>\n",
       "      <td>0200E</td>\n",
       "      <td>BARCELONA, FABRA</td>\n",
       "      <td></td>\n",
       "      <td>2.12417</td>\n",
       "      <td>4.42431</td>\n",
       "      <td>es1438a</td>\n",
       "    </tr>\n",
       "    <tr>\n",
       "      <th>3</th>\n",
       "      <td>43.4911</td>\n",
       "      <td>CANTABRIA</td>\n",
       "      <td>52</td>\n",
       "      <td>1111</td>\n",
       "      <td>SANTANDER</td>\n",
       "      <td>08023</td>\n",
       "      <td>-3.80056</td>\n",
       "      <td>3.45874</td>\n",
       "      <td>es1580a</td>\n",
       "    </tr>\n",
       "  </tbody>\n",
       "</table>\n",
       "</div>"
      ],
      "text/plain": [
       "   latitud  provincia altitud indicativo              nombre indsinop  \\\n",
       "0  40.4119     MADRID     667       3195      MADRID, RETIRO    08222   \n",
       "1  37.2783     HUELVA      19      4642E  HUELVA, RONDA ESTE    08383   \n",
       "2  41.4183  BARCELONA     408      0200E    BARCELONA, FABRA            \n",
       "3  43.4911  CANTABRIA      52       1111           SANTANDER    08023   \n",
       "\n",
       "  longitud     dist   siteAQ  \n",
       "0 -3.67806  1.13715  es0118a  \n",
       "1 -6.91167  3.46786  es1340a  \n",
       "2  2.12417  4.42431  es1438a  \n",
       "3 -3.80056  3.45874  es1580a  "
      ]
     },
     "execution_count": 7,
     "metadata": {},
     "output_type": "execute_result"
    }
   ],
   "source": [
    "# ------------------------------\n",
    "#      Save Curated data\n",
    "# ------------------------------\n",
    "chckd_st = pd.concat(all_station_info, \n",
    "                     axis=0, ignore_index=True)\n",
    "\n",
    "chckd_st.head()"
   ]
  },
  {
   "cell_type": "markdown",
   "metadata": {},
   "source": [
    "### Guardar Datos en csv <a id=\"saveAQ\"></a>"
   ]
  },
  {
   "cell_type": "code",
   "execution_count": 8,
   "metadata": {},
   "outputs": [],
   "source": [
    "#```python\n",
    "file_sv = HOME+\"data/Curation/checked_AEMET.csv\"\n",
    "\n",
    "chckd_st.to_csv(file_sv, index=False) \n",
    "#```"
   ]
  }
 ],
 "metadata": {
  "kernelspec": {
   "display_name": "Python 3",
   "language": "python",
   "name": "python3"
  },
  "language_info": {
   "codemirror_mode": {
    "name": "ipython",
    "version": 3
   },
   "file_extension": ".py",
   "mimetype": "text/x-python",
   "name": "python",
   "nbconvert_exporter": "python",
   "pygments_lexer": "ipython3",
   "version": "3.7.6"
  }
 },
 "nbformat": 4,
 "nbformat_minor": 4
}
