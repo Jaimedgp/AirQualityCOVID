{
 "cells": [
  {
   "cell_type": "code",
   "execution_count": 1,
   "metadata": {},
   "outputs": [],
   "source": [
    "import requests"
   ]
  },
  {
   "cell_type": "code",
   "execution_count": 2,
   "metadata": {},
   "outputs": [],
   "source": [
    "def get_url(url_pollutant, url_eoi):\n",
    "    \n",
    "    return [\n",
    "        \"https://fme.discomap.eea.europa.eu/fmedatastreaming/AirQualityDownload/AQData_Extract.fmw?\",\n",
    "        \"CountryCode=ES\",\n",
    "        \"CityName=\",\n",
    "        url_pollutant,\n",
    "        \"Year_from=2013\",\n",
    "        \"Year_to=2021\",\n",
    "        \"Station=\",\n",
    "        url_eoi,\n",
    "        \"Samplingpoint=\",\n",
    "        \"Source=All\",\n",
    "        \"Output=TEXT&UpdateDate=\",\n",
    "        \"TimeCoverage=Year\",\n",
    "    ]"
   ]
  },
  {
   "cell_type": "markdown",
   "metadata": {},
   "source": [
    "a = requests.get(\"&\".join(url), allow_redirects=True)\n",
    "open(\"./nomames.txt\",\"wb\").write(a.content)"
   ]
  },
  {
   "cell_type": "markdown",
   "metadata": {},
   "source": [
    "for fl in open(\"./nomames.txt\", 'r').readlines():\n",
    "    print(fl)\n",
    "    csv = requests.get(fl)\n",
    "    open(\"./data.csv\", \"w\").write(csv.content.decode('utf-8'))"
   ]
  },
  {
   "cell_type": "code",
   "execution_count": 3,
   "metadata": {},
   "outputs": [],
   "source": [
    "pollutants = {\"PM10\":5, \"PM2-5\":6001, \"O3\":7, \"NO2\":8, \"NO\":38}\n",
    "site = [\"ES1580A\"]#, \"ES0041A\"]#, \"ES0118A\"]\n",
    "\n",
    "for st in site:\n",
    "    url_eoi = (\"EoICode=%s\" %st)\n",
    "\n",
    "    for ky, vl in pollutants.items():\n",
    "        url_pollutant = (\"Pollutant=%s\" %vl)\n",
    "\n",
    "        a = requests.get(\"&\".join(get_url(url_pollutant, \n",
    "                                          url_eoi\n",
    "                                         )\n",
    "                                 ), \n",
    "                         allow_redirects=True\n",
    "                        )\n",
    "        all_data = \"\"\n",
    "        if b\"<!DOCTYPE HTML\" not in a.content:\n",
    "            for file in a.content.decode(\"utf-8-sig\").split():\n",
    "                with requests.Session() as s:\n",
    "                    csv = s.get(file)\n",
    "                    all_data += csv.content.decode(\"utf-8-sig\")\n",
    "            open((\"../../data/EEA/%s-%s.csv\" %(st, ky)), \"w\").write(all_data)\n",
    "        else:\n",
    "            print(\"Nice try, but not\")"
   ]
  }
 ],
 "metadata": {
  "kernelspec": {
   "display_name": "Python 3",
   "language": "python",
   "name": "python3"
  },
  "language_info": {
   "codemirror_mode": {
    "name": "ipython",
    "version": 3
   },
   "file_extension": ".py",
   "mimetype": "text/x-python",
   "name": "python",
   "nbconvert_exporter": "python",
   "pygments_lexer": "ipython3",
   "version": "3.8.3"
  }
 },
 "nbformat": 4,
 "nbformat_minor": 4
}
