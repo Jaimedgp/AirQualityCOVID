{
 "cells": [
  {
   "cell_type": "markdown",
   "metadata": {},
   "source": [
    "# Comprobar los valores de $PM_{2.5}$ con la Informe"
   ]
  },
  {
   "cell_type": "code",
   "execution_count": 1,
   "metadata": {},
   "outputs": [],
   "source": [
    "suppressMessages(library(readxl))\n",
    "suppressMessages(library(saqgetr))\n",
    "suppressMessages(library(tidyverse))\n",
    "suppressMessages(library(lubridate))"
   ]
  },
  {
   "cell_type": "code",
   "execution_count": 2,
   "metadata": {},
   "outputs": [],
   "source": [
    "file <- \"../data/xlsx/estaciones-CA-JA.xlsx\"\n",
    "sheets <- c(\"todas\", \"traffic\", \"traffic-urban\", \"traffic-urban-2020\",\n",
    "            \"traffic-suburban\", \"traffic-suburban-2020\",\n",
    "            \"ciudades-100000\", \"ciudades-100000-A\")\n",
    "# xlsx files\n",
    "sites.100mil <- read_excel(file, sheet=sheets[1])"
   ]
  },
  {
   "cell_type": "code",
   "execution_count": 3,
   "metadata": {},
   "outputs": [
    {
     "data": {
      "text/html": [
       "<table>\n",
       "<caption>A tibble: 6 × 17</caption>\n",
       "<thead>\n",
       "\t<tr><th scope=col>ID</th><th scope=col>Site</th><th scope=col>Site name</th><th scope=col>Latitude</th><th scope=col>Longitude</th><th scope=col>Elevation</th><th scope=col>Country</th><th scope=col>Country-ISO-code</th><th scope=col>Type</th><th scope=col>Site area</th><th scope=col>Data_start</th><th scope=col>Data_end</th><th scope=col>Network</th><th scope=col>EU_code</th><th scope=col>eoi_code</th><th scope=col>observation count</th><th scope=col>Data source</th></tr>\n",
       "\t<tr><th scope=col>&lt;dbl&gt;</th><th scope=col>&lt;chr&gt;</th><th scope=col>&lt;chr&gt;</th><th scope=col>&lt;dbl&gt;</th><th scope=col>&lt;dbl&gt;</th><th scope=col>&lt;dbl&gt;</th><th scope=col>&lt;chr&gt;</th><th scope=col>&lt;chr&gt;</th><th scope=col>&lt;chr&gt;</th><th scope=col>&lt;chr&gt;</th><th scope=col>&lt;chr&gt;</th><th scope=col>&lt;chr&gt;</th><th scope=col>&lt;chr&gt;</th><th scope=col>&lt;chr&gt;</th><th scope=col>&lt;chr&gt;</th><th scope=col>&lt;dbl&gt;</th><th scope=col>&lt;chr&gt;</th></tr>\n",
       "</thead>\n",
       "<tbody>\n",
       "\t<tr><td>602</td><td>es1741a</td><td>PLAYA DEL INGLÉS    </td><td>27.76365</td><td>-15.56385</td><td> 17</td><td>spain</td><td>ES</td><td>traffic   </td><td>urban   </td><td>38353              </td><td>2020-10-12 00:00:00</td><td>NET_ES205A</td><td>STA_ES1741A</td><td>ES1741A</td><td>763144</td><td>airbase; aqer:e1a; aqer:e2a</td></tr>\n",
       "\t<tr><td>603</td><td>es1742a</td><td>SAN AGUSTÍN         </td><td>27.77260</td><td>-15.54188</td><td> 15</td><td>spain</td><td>ES</td><td>traffic   </td><td>urban   </td><td>38353              </td><td>2020-10-11 23:00:00</td><td>NET_ES205A</td><td>STA_ES1742A</td><td>ES1742A</td><td>787054</td><td>airbase; aqer:e1a; aqer:e2a</td></tr>\n",
       "\t<tr><td>623</td><td>es1763a</td><td>CASTILLO DEL ROMERAL</td><td>27.80128</td><td>-15.46116</td><td> 13</td><td>spain</td><td>ES</td><td>industrial</td><td>urban   </td><td>38353              </td><td>2020-10-12 00:00:00</td><td>NET_ES205A</td><td>STA_ES1763A</td><td>ES1763A</td><td>770065</td><td>airbase; aqer:e1a; aqer:e2a</td></tr>\n",
       "\t<tr><td>876</td><td>es2024a</td><td>ECHEDO-VALVERDE     </td><td>27.83177</td><td>-17.92167</td><td>375</td><td>spain</td><td>ES</td><td>background</td><td>suburban</td><td>2012-01-21 00:00:00</td><td>2020-08-26 15:00:00</td><td>NET_ES205A</td><td>STA_ES2024A</td><td>ES2024A</td><td>117065</td><td>airbase; aqer:e1a; aqer:e2a</td></tr>\n",
       "\t<tr><td>608</td><td>es1748a</td><td>ES1748A-SARDINA     </td><td>27.84944</td><td>-15.46583</td><td>190</td><td>spain</td><td>ES</td><td>industrial</td><td>suburban</td><td>38353              </td><td>2010-04-06 09:00:00</td><td>NA        </td><td>NA         </td><td>NA     </td><td>158819</td><td>airbase                    </td></tr>\n",
       "\t<tr><td>604</td><td>es1744a</td><td>ARINAGA             </td><td>27.86907</td><td>-15.38715</td><td> 23</td><td>spain</td><td>ES</td><td>industrial</td><td>rural   </td><td>38353              </td><td>2020-10-12 00:00:00</td><td>NET_ES205A</td><td>STA_ES1744A</td><td>ES1744A</td><td>683538</td><td>airbase; aqer:e1a; aqer:e2a</td></tr>\n",
       "</tbody>\n",
       "</table>\n"
      ],
      "text/latex": [
       "A tibble: 6 × 17\n",
       "\\begin{tabular}{lllllllllllllllll}\n",
       " ID & Site & Site name & Latitude & Longitude & Elevation & Country & Country-ISO-code & Type & Site area & Data\\_start & Data\\_end & Network & EU\\_code & eoi\\_code & observation count & Data source\\\\\n",
       " <dbl> & <chr> & <chr> & <dbl> & <dbl> & <dbl> & <chr> & <chr> & <chr> & <chr> & <chr> & <chr> & <chr> & <chr> & <chr> & <dbl> & <chr>\\\\\n",
       "\\hline\n",
       "\t 602 & es1741a & PLAYA DEL INGLÉS     & 27.76365 & -15.56385 &  17 & spain & ES & traffic    & urban    & 38353               & 2020-10-12 00:00:00 & NET\\_ES205A & STA\\_ES1741A & ES1741A & 763144 & airbase; aqer:e1a; aqer:e2a\\\\\n",
       "\t 603 & es1742a & SAN AGUSTÍN          & 27.77260 & -15.54188 &  15 & spain & ES & traffic    & urban    & 38353               & 2020-10-11 23:00:00 & NET\\_ES205A & STA\\_ES1742A & ES1742A & 787054 & airbase; aqer:e1a; aqer:e2a\\\\\n",
       "\t 623 & es1763a & CASTILLO DEL ROMERAL & 27.80128 & -15.46116 &  13 & spain & ES & industrial & urban    & 38353               & 2020-10-12 00:00:00 & NET\\_ES205A & STA\\_ES1763A & ES1763A & 770065 & airbase; aqer:e1a; aqer:e2a\\\\\n",
       "\t 876 & es2024a & ECHEDO-VALVERDE      & 27.83177 & -17.92167 & 375 & spain & ES & background & suburban & 2012-01-21 00:00:00 & 2020-08-26 15:00:00 & NET\\_ES205A & STA\\_ES2024A & ES2024A & 117065 & airbase; aqer:e1a; aqer:e2a\\\\\n",
       "\t 608 & es1748a & ES1748A-SARDINA      & 27.84944 & -15.46583 & 190 & spain & ES & industrial & suburban & 38353               & 2010-04-06 09:00:00 & NA         & NA          & NA      & 158819 & airbase                    \\\\\n",
       "\t 604 & es1744a & ARINAGA              & 27.86907 & -15.38715 &  23 & spain & ES & industrial & rural    & 38353               & 2020-10-12 00:00:00 & NET\\_ES205A & STA\\_ES1744A & ES1744A & 683538 & airbase; aqer:e1a; aqer:e2a\\\\\n",
       "\\end{tabular}\n"
      ],
      "text/markdown": [
       "\n",
       "A tibble: 6 × 17\n",
       "\n",
       "| ID &lt;dbl&gt; | Site &lt;chr&gt; | Site name &lt;chr&gt; | Latitude &lt;dbl&gt; | Longitude &lt;dbl&gt; | Elevation &lt;dbl&gt; | Country &lt;chr&gt; | Country-ISO-code &lt;chr&gt; | Type &lt;chr&gt; | Site area &lt;chr&gt; | Data_start &lt;chr&gt; | Data_end &lt;chr&gt; | Network &lt;chr&gt; | EU_code &lt;chr&gt; | eoi_code &lt;chr&gt; | observation count &lt;dbl&gt; | Data source &lt;chr&gt; |\n",
       "|---|---|---|---|---|---|---|---|---|---|---|---|---|---|---|---|---|\n",
       "| 602 | es1741a | PLAYA DEL INGLÉS     | 27.76365 | -15.56385 |  17 | spain | ES | traffic    | urban    | 38353               | 2020-10-12 00:00:00 | NET_ES205A | STA_ES1741A | ES1741A | 763144 | airbase; aqer:e1a; aqer:e2a |\n",
       "| 603 | es1742a | SAN AGUSTÍN          | 27.77260 | -15.54188 |  15 | spain | ES | traffic    | urban    | 38353               | 2020-10-11 23:00:00 | NET_ES205A | STA_ES1742A | ES1742A | 787054 | airbase; aqer:e1a; aqer:e2a |\n",
       "| 623 | es1763a | CASTILLO DEL ROMERAL | 27.80128 | -15.46116 |  13 | spain | ES | industrial | urban    | 38353               | 2020-10-12 00:00:00 | NET_ES205A | STA_ES1763A | ES1763A | 770065 | airbase; aqer:e1a; aqer:e2a |\n",
       "| 876 | es2024a | ECHEDO-VALVERDE      | 27.83177 | -17.92167 | 375 | spain | ES | background | suburban | 2012-01-21 00:00:00 | 2020-08-26 15:00:00 | NET_ES205A | STA_ES2024A | ES2024A | 117065 | airbase; aqer:e1a; aqer:e2a |\n",
       "| 608 | es1748a | ES1748A-SARDINA      | 27.84944 | -15.46583 | 190 | spain | ES | industrial | suburban | 38353               | 2010-04-06 09:00:00 | NA         | NA          | NA      | 158819 | airbase                     |\n",
       "| 604 | es1744a | ARINAGA              | 27.86907 | -15.38715 |  23 | spain | ES | industrial | rural    | 38353               | 2020-10-12 00:00:00 | NET_ES205A | STA_ES1744A | ES1744A | 683538 | airbase; aqer:e1a; aqer:e2a |\n",
       "\n"
      ],
      "text/plain": [
       "  ID  Site    Site name            Latitude Longitude Elevation Country\n",
       "1 602 es1741a PLAYA DEL INGLÉS     27.76365 -15.56385  17       spain  \n",
       "2 603 es1742a SAN AGUSTÍN          27.77260 -15.54188  15       spain  \n",
       "3 623 es1763a CASTILLO DEL ROMERAL 27.80128 -15.46116  13       spain  \n",
       "4 876 es2024a ECHEDO-VALVERDE      27.83177 -17.92167 375       spain  \n",
       "5 608 es1748a ES1748A-SARDINA      27.84944 -15.46583 190       spain  \n",
       "6 604 es1744a ARINAGA              27.86907 -15.38715  23       spain  \n",
       "  Country-ISO-code Type       Site area Data_start          Data_end           \n",
       "1 ES               traffic    urban     38353               2020-10-12 00:00:00\n",
       "2 ES               traffic    urban     38353               2020-10-11 23:00:00\n",
       "3 ES               industrial urban     38353               2020-10-12 00:00:00\n",
       "4 ES               background suburban  2012-01-21 00:00:00 2020-08-26 15:00:00\n",
       "5 ES               industrial suburban  38353               2010-04-06 09:00:00\n",
       "6 ES               industrial rural     38353               2020-10-12 00:00:00\n",
       "  Network    EU_code     eoi_code observation count Data source                \n",
       "1 NET_ES205A STA_ES1741A ES1741A  763144            airbase; aqer:e1a; aqer:e2a\n",
       "2 NET_ES205A STA_ES1742A ES1742A  787054            airbase; aqer:e1a; aqer:e2a\n",
       "3 NET_ES205A STA_ES1763A ES1763A  770065            airbase; aqer:e1a; aqer:e2a\n",
       "4 NET_ES205A STA_ES2024A ES2024A  117065            airbase; aqer:e1a; aqer:e2a\n",
       "5 NA         NA          NA       158819            airbase                    \n",
       "6 NET_ES205A STA_ES1744A ES1744A  683538            airbase; aqer:e1a; aqer:e2a"
      ]
     },
     "metadata": {},
     "output_type": "display_data"
    }
   ],
   "source": [
    "head(sites.100mil)"
   ]
  },
  {
   "cell_type": "code",
   "execution_count": 5,
   "metadata": {},
   "outputs": [],
   "source": [
    "sites.names <- c(\"PRINCIPES\", \"CARRANQUE\", \"LEPANTO\", \n",
    "                 \"PALACIO CONGRESOS\", \"RENOVALES\", \"PURIFICACIÓN TOMÁS\", \"LA MISERICORDIA\",\n",
    "                 \"AEMET\", \"TETUÁN\", \"BURGOS 4\", \"ALBACETE\", \"DARP\", \"BF-RUBÍ (CA N'ORIOL)\", \n",
    "                 \"MATARO-LABORATORID'AIGES\", \"IES GOYA\", \"IN-BARCELONA(VALL D'HEBRON)\", \n",
    "                 \"VALÈNCIA-VIVERS\", \"ALACANT-FLORIDA-BABEL\", \"CASTELLO - ITC\", \"BADAJOZ\", \n",
    "                 \"TORRE DE HÉRCULES\", \"FAROLILLO\", \"TORREJON DE AROZ II\", \"ALCORCÓN 2\",\n",
    "                 \"CENTRO CULTURAL ALFREDO KRAUSS\", \"JUNTA MUNICIPAL DE MORATALAZ\", \"MOMPEAN\",\n",
    "                 \"ITURRAMA\", \"AVENIDA TOLOSA\", \"PARQUE EUROPA\", \"LA CIGÜEÑA\"\n",
    "                )"
   ]
  },
  {
   "cell_type": "code",
   "execution_count": 6,
   "metadata": {},
   "outputs": [],
   "source": [
    "sites.PM25 <- sites.100mil[sites.100mil$\"Site name\" %in% sites.names, ]"
   ]
  },
  {
   "cell_type": "code",
   "execution_count": 7,
   "metadata": {},
   "outputs": [
    {
     "data": {
      "text/html": [
       "<style>\n",
       ".list-inline {list-style: none; margin:0; padding: 0}\n",
       ".list-inline>li {display: inline-block}\n",
       ".list-inline>li:not(:last-child)::after {content: \"\\00b7\"; padding: 0 .5ex}\n",
       "</style>\n",
       "<ol class=list-inline><li>'CARRANQUE'</li><li>'PRINCIPES'</li><li>'MOMPEAN'</li><li>'LEPANTO'</li><li>'ALACANT-FLORIDA-BABEL'</li><li>'BADAJOZ'</li><li>'ALBACETE'</li><li>'VALÈNCIA-VIVERS'</li><li>'FAROLILLO'</li><li>'RENOVALES'</li><li>'ITURRAMA'</li><li>'TETUÁN'</li></ol>\n"
      ],
      "text/latex": [
       "\\begin{enumerate*}\n",
       "\\item 'CARRANQUE'\n",
       "\\item 'PRINCIPES'\n",
       "\\item 'MOMPEAN'\n",
       "\\item 'LEPANTO'\n",
       "\\item 'ALACANT-FLORIDA-BABEL'\n",
       "\\item 'BADAJOZ'\n",
       "\\item 'ALBACETE'\n",
       "\\item 'VALÈNCIA-VIVERS'\n",
       "\\item 'FAROLILLO'\n",
       "\\item 'RENOVALES'\n",
       "\\item 'ITURRAMA'\n",
       "\\item 'TETUÁN'\n",
       "\\end{enumerate*}\n"
      ],
      "text/markdown": [
       "1. 'CARRANQUE'\n",
       "2. 'PRINCIPES'\n",
       "3. 'MOMPEAN'\n",
       "4. 'LEPANTO'\n",
       "5. 'ALACANT-FLORIDA-BABEL'\n",
       "6. 'BADAJOZ'\n",
       "7. 'ALBACETE'\n",
       "8. 'VALÈNCIA-VIVERS'\n",
       "9. 'FAROLILLO'\n",
       "10. 'RENOVALES'\n",
       "11. 'ITURRAMA'\n",
       "12. 'TETUÁN'\n",
       "\n",
       "\n"
      ],
      "text/plain": [
       " [1] \"CARRANQUE\"             \"PRINCIPES\"             \"MOMPEAN\"              \n",
       " [4] \"LEPANTO\"               \"ALACANT-FLORIDA-BABEL\" \"BADAJOZ\"              \n",
       " [7] \"ALBACETE\"              \"VALÈNCIA-VIVERS\"       \"FAROLILLO\"            \n",
       "[10] \"RENOVALES\"             \"ITURRAMA\"              \"TETUÁN\"               "
      ]
     },
     "metadata": {},
     "output_type": "display_data"
    }
   ],
   "source": [
    "sites.PM25$\"Site name\""
   ]
  },
  {
   "cell_type": "code",
   "execution_count": 8,
   "metadata": {},
   "outputs": [],
   "source": [
    "suppressMessages(dataPM2.5 <- get_saq_observations(\n",
    "    site = levels(as.factor(sites.PM25$Site)),\n",
    "    variable = \"pm2.5\",\n",
    "    #valid_only = TRUE,\n",
    "    start = \"2009-01-01\",\n",
    "    #end = end_dt,\n",
    "    #verbose = TRUE\n",
    "))"
   ]
  },
  {
   "cell_type": "code",
   "execution_count": 9,
   "metadata": {},
   "outputs": [
    {
     "data": {
      "text/html": [
       "<table>\n",
       "<caption>A tibble: 6 × 9</caption>\n",
       "<thead>\n",
       "\t<tr><th scope=col>date</th><th scope=col>date_end</th><th scope=col>site</th><th scope=col>variable</th><th scope=col>process</th><th scope=col>summary</th><th scope=col>validity</th><th scope=col>unit</th><th scope=col>value</th></tr>\n",
       "\t<tr><th scope=col>&lt;dttm&gt;</th><th scope=col>&lt;dttm&gt;</th><th scope=col>&lt;chr&gt;</th><th scope=col>&lt;chr&gt;</th><th scope=col>&lt;int&gt;</th><th scope=col>&lt;int&gt;</th><th scope=col>&lt;int&gt;</th><th scope=col>&lt;chr&gt;</th><th scope=col>&lt;dbl&gt;</th></tr>\n",
       "</thead>\n",
       "<tbody>\n",
       "\t<tr><td>2009-01-07</td><td>NA</td><td>es0126a</td><td>pm2.5</td><td>31647</td><td>20</td><td>1</td><td>ug.m-3</td><td>11</td></tr>\n",
       "\t<tr><td>2009-01-10</td><td>NA</td><td>es0126a</td><td>pm2.5</td><td>31647</td><td>20</td><td>1</td><td>ug.m-3</td><td>28</td></tr>\n",
       "\t<tr><td>2009-01-13</td><td>NA</td><td>es0126a</td><td>pm2.5</td><td>31647</td><td>20</td><td>1</td><td>ug.m-3</td><td>59</td></tr>\n",
       "\t<tr><td>2009-01-16</td><td>NA</td><td>es0126a</td><td>pm2.5</td><td>31647</td><td>20</td><td>1</td><td>ug.m-3</td><td>35</td></tr>\n",
       "\t<tr><td>2009-01-19</td><td>NA</td><td>es0126a</td><td>pm2.5</td><td>31647</td><td>20</td><td>1</td><td>ug.m-3</td><td> 8</td></tr>\n",
       "\t<tr><td>2009-01-22</td><td>NA</td><td>es0126a</td><td>pm2.5</td><td>31647</td><td>20</td><td>1</td><td>ug.m-3</td><td> 5</td></tr>\n",
       "</tbody>\n",
       "</table>\n"
      ],
      "text/latex": [
       "A tibble: 6 × 9\n",
       "\\begin{tabular}{lllllllll}\n",
       " date & date\\_end & site & variable & process & summary & validity & unit & value\\\\\n",
       " <dttm> & <dttm> & <chr> & <chr> & <int> & <int> & <int> & <chr> & <dbl>\\\\\n",
       "\\hline\n",
       "\t 2009-01-07 & NA & es0126a & pm2.5 & 31647 & 20 & 1 & ug.m-3 & 11\\\\\n",
       "\t 2009-01-10 & NA & es0126a & pm2.5 & 31647 & 20 & 1 & ug.m-3 & 28\\\\\n",
       "\t 2009-01-13 & NA & es0126a & pm2.5 & 31647 & 20 & 1 & ug.m-3 & 59\\\\\n",
       "\t 2009-01-16 & NA & es0126a & pm2.5 & 31647 & 20 & 1 & ug.m-3 & 35\\\\\n",
       "\t 2009-01-19 & NA & es0126a & pm2.5 & 31647 & 20 & 1 & ug.m-3 &  8\\\\\n",
       "\t 2009-01-22 & NA & es0126a & pm2.5 & 31647 & 20 & 1 & ug.m-3 &  5\\\\\n",
       "\\end{tabular}\n"
      ],
      "text/markdown": [
       "\n",
       "A tibble: 6 × 9\n",
       "\n",
       "| date &lt;dttm&gt; | date_end &lt;dttm&gt; | site &lt;chr&gt; | variable &lt;chr&gt; | process &lt;int&gt; | summary &lt;int&gt; | validity &lt;int&gt; | unit &lt;chr&gt; | value &lt;dbl&gt; |\n",
       "|---|---|---|---|---|---|---|---|---|\n",
       "| 2009-01-07 | NA | es0126a | pm2.5 | 31647 | 20 | 1 | ug.m-3 | 11 |\n",
       "| 2009-01-10 | NA | es0126a | pm2.5 | 31647 | 20 | 1 | ug.m-3 | 28 |\n",
       "| 2009-01-13 | NA | es0126a | pm2.5 | 31647 | 20 | 1 | ug.m-3 | 59 |\n",
       "| 2009-01-16 | NA | es0126a | pm2.5 | 31647 | 20 | 1 | ug.m-3 | 35 |\n",
       "| 2009-01-19 | NA | es0126a | pm2.5 | 31647 | 20 | 1 | ug.m-3 |  8 |\n",
       "| 2009-01-22 | NA | es0126a | pm2.5 | 31647 | 20 | 1 | ug.m-3 |  5 |\n",
       "\n"
      ],
      "text/plain": [
       "  date       date_end site    variable process summary validity unit   value\n",
       "1 2009-01-07 <NA>     es0126a pm2.5    31647   20      1        ug.m-3 11   \n",
       "2 2009-01-10 <NA>     es0126a pm2.5    31647   20      1        ug.m-3 28   \n",
       "3 2009-01-13 <NA>     es0126a pm2.5    31647   20      1        ug.m-3 59   \n",
       "4 2009-01-16 <NA>     es0126a pm2.5    31647   20      1        ug.m-3 35   \n",
       "5 2009-01-19 <NA>     es0126a pm2.5    31647   20      1        ug.m-3  8   \n",
       "6 2009-01-22 <NA>     es0126a pm2.5    31647   20      1        ug.m-3  5   "
      ]
     },
     "metadata": {},
     "output_type": "display_data"
    }
   ],
   "source": [
    "head(dataPM2.5)"
   ]
  },
  {
   "cell_type": "code",
   "execution_count": 10,
   "metadata": {},
   "outputs": [],
   "source": [
    "source(\"../src/funciones.R\")"
   ]
  },
  {
   "cell_type": "markdown",
   "metadata": {},
   "source": [
    "### Resolucion de 1 dia <a id=\"resody\"></a>"
   ]
  },
  {
   "cell_type": "code",
   "execution_count": 11,
   "metadata": {},
   "outputs": [
    {
     "name": "stdout",
     "output_type": "stream",
     "text": [
      "[1] \"es0126a\"\n",
      "[1] \"es1425a\"\n",
      "[1] \"es1472a\"\n",
      "[1] \"es1529a\"\n",
      "[1] \"es1535a\"\n",
      "[1] \"es1601a\"\n",
      "[1] \"es1619a\"\n",
      "[1] \"es1641a\"\n",
      "[1] \"es1750a\"\n",
      "[1] \"es1799a\"\n",
      "[1] \"es1915a\"\n",
      "[1] \"es1921a\"\n"
     ]
    }
   ],
   "source": [
    "annual.mn <- data.frame()\n",
    "\n",
    "for (st in levels(as.factor(dataPM2.5$site))) {\n",
    "    print(st)\n",
    "    a <- group.day <- group.by.date(dataPM2.5[dataPM2.5$site == st, ], by=\"year\", FUN=\"mean\")\n",
    "    annual.mn <- rbind(a, annual.mn)\n",
    "}\n"
   ]
  },
  {
   "cell_type": "code",
   "execution_count": 12,
   "metadata": {},
   "outputs": [
    {
     "data": {
      "text/html": [
       "<table>\n",
       "<caption>A data.frame: 6 × 5</caption>\n",
       "<thead>\n",
       "\t<tr><th></th><th scope=col>date</th><th scope=col>site</th><th scope=col>variable</th><th scope=col>unit</th><th scope=col>value</th></tr>\n",
       "\t<tr><th></th><th scope=col>&lt;dttm&gt;</th><th scope=col>&lt;chr&gt;</th><th scope=col>&lt;chr&gt;</th><th scope=col>&lt;chr&gt;</th><th scope=col>&lt;dbl&gt;</th></tr>\n",
       "</thead>\n",
       "<tbody>\n",
       "\t<tr><th scope=row>1</th><td>2009-01-01</td><td>es1921a</td><td>pm2.5</td><td>ug.m-3</td><td>16.41321</td></tr>\n",
       "\t<tr><th scope=row>2</th><td>2010-01-01</td><td>es1921a</td><td>pm2.5</td><td>ug.m-3</td><td>13.71355</td></tr>\n",
       "\t<tr><th scope=row>3</th><td>2011-01-01</td><td>es1921a</td><td>pm2.5</td><td>ug.m-3</td><td>10.30316</td></tr>\n",
       "\t<tr><th scope=row>4</th><td>2012-01-01</td><td>es1921a</td><td>pm2.5</td><td>ug.m-3</td><td>11.49431</td></tr>\n",
       "\t<tr><th scope=row>5</th><td>2013-01-01</td><td>es1921a</td><td>pm2.5</td><td>ug.m-3</td><td>12.21945</td></tr>\n",
       "\t<tr><th scope=row>6</th><td>2014-01-01</td><td>es1921a</td><td>pm2.5</td><td>ug.m-3</td><td>10.23735</td></tr>\n",
       "</tbody>\n",
       "</table>\n"
      ],
      "text/latex": [
       "A data.frame: 6 × 5\n",
       "\\begin{tabular}{r|lllll}\n",
       "  & date & site & variable & unit & value\\\\\n",
       "  & <dttm> & <chr> & <chr> & <chr> & <dbl>\\\\\n",
       "\\hline\n",
       "\t1 & 2009-01-01 & es1921a & pm2.5 & ug.m-3 & 16.41321\\\\\n",
       "\t2 & 2010-01-01 & es1921a & pm2.5 & ug.m-3 & 13.71355\\\\\n",
       "\t3 & 2011-01-01 & es1921a & pm2.5 & ug.m-3 & 10.30316\\\\\n",
       "\t4 & 2012-01-01 & es1921a & pm2.5 & ug.m-3 & 11.49431\\\\\n",
       "\t5 & 2013-01-01 & es1921a & pm2.5 & ug.m-3 & 12.21945\\\\\n",
       "\t6 & 2014-01-01 & es1921a & pm2.5 & ug.m-3 & 10.23735\\\\\n",
       "\\end{tabular}\n"
      ],
      "text/markdown": [
       "\n",
       "A data.frame: 6 × 5\n",
       "\n",
       "| <!--/--> | date &lt;dttm&gt; | site &lt;chr&gt; | variable &lt;chr&gt; | unit &lt;chr&gt; | value &lt;dbl&gt; |\n",
       "|---|---|---|---|---|---|\n",
       "| 1 | 2009-01-01 | es1921a | pm2.5 | ug.m-3 | 16.41321 |\n",
       "| 2 | 2010-01-01 | es1921a | pm2.5 | ug.m-3 | 13.71355 |\n",
       "| 3 | 2011-01-01 | es1921a | pm2.5 | ug.m-3 | 10.30316 |\n",
       "| 4 | 2012-01-01 | es1921a | pm2.5 | ug.m-3 | 11.49431 |\n",
       "| 5 | 2013-01-01 | es1921a | pm2.5 | ug.m-3 | 12.21945 |\n",
       "| 6 | 2014-01-01 | es1921a | pm2.5 | ug.m-3 | 10.23735 |\n",
       "\n"
      ],
      "text/plain": [
       "  date       site    variable unit   value   \n",
       "1 2009-01-01 es1921a pm2.5    ug.m-3 16.41321\n",
       "2 2010-01-01 es1921a pm2.5    ug.m-3 13.71355\n",
       "3 2011-01-01 es1921a pm2.5    ug.m-3 10.30316\n",
       "4 2012-01-01 es1921a pm2.5    ug.m-3 11.49431\n",
       "5 2013-01-01 es1921a pm2.5    ug.m-3 12.21945\n",
       "6 2014-01-01 es1921a pm2.5    ug.m-3 10.23735"
      ]
     },
     "metadata": {},
     "output_type": "display_data"
    }
   ],
   "source": [
    "head(annual.mn)"
   ]
  },
  {
   "cell_type": "code",
   "execution_count": 14,
   "metadata": {},
   "outputs": [],
   "source": [
    "b <- merge(x = annual.mn,\n",
    "           y = sites.PM25 %>%\n",
    "               select(\"Site\", \"Site name\"),\n",
    "           by.x = \"site\",\n",
    "           by.y = \"Site\"\n",
    "          )"
   ]
  },
  {
   "cell_type": "code",
   "execution_count": 16,
   "metadata": {},
   "outputs": [
    {
     "data": {
      "text/html": [
       "<table>\n",
       "<caption>A data.frame: 11 × 6</caption>\n",
       "<thead>\n",
       "\t<tr><th></th><th scope=col>site</th><th scope=col>date</th><th scope=col>variable</th><th scope=col>unit</th><th scope=col>value</th><th scope=col>Site name</th></tr>\n",
       "\t<tr><th></th><th scope=col>&lt;chr&gt;</th><th scope=col>&lt;dttm&gt;</th><th scope=col>&lt;chr&gt;</th><th scope=col>&lt;chr&gt;</th><th scope=col>&lt;dbl&gt;</th><th scope=col>&lt;chr&gt;</th></tr>\n",
       "</thead>\n",
       "<tbody>\n",
       "\t<tr><th scope=row>12</th><td>es1425a</td><td>2009-01-01</td><td>pm2.5</td><td>ug.m-3</td><td>18.54444</td><td>PRINCIPES</td></tr>\n",
       "\t<tr><th scope=row>13</th><td>es1425a</td><td>2010-01-01</td><td>pm2.5</td><td>ug.m-3</td><td>16.93362</td><td>PRINCIPES</td></tr>\n",
       "\t<tr><th scope=row>14</th><td>es1425a</td><td>2011-01-01</td><td>pm2.5</td><td>ug.m-3</td><td>17.53678</td><td>PRINCIPES</td></tr>\n",
       "\t<tr><th scope=row>15</th><td>es1425a</td><td>2012-01-01</td><td>pm2.5</td><td>ug.m-3</td><td>18.25824</td><td>PRINCIPES</td></tr>\n",
       "\t<tr><th scope=row>16</th><td>es1425a</td><td>2013-01-01</td><td>pm2.5</td><td>ug.m-3</td><td>16.19890</td><td>PRINCIPES</td></tr>\n",
       "\t<tr><th scope=row>17</th><td>es1425a</td><td>2014-01-01</td><td>pm2.5</td><td>ug.m-3</td><td>13.81579</td><td>PRINCIPES</td></tr>\n",
       "\t<tr><th scope=row>18</th><td>es1425a</td><td>2015-01-01</td><td>pm2.5</td><td>ug.m-3</td><td>15.77477</td><td>PRINCIPES</td></tr>\n",
       "\t<tr><th scope=row>19</th><td>es1425a</td><td>2016-01-01</td><td>pm2.5</td><td>ug.m-3</td><td>14.35345</td><td>PRINCIPES</td></tr>\n",
       "\t<tr><th scope=row>20</th><td>es1425a</td><td>2017-01-01</td><td>pm2.5</td><td>ug.m-3</td><td>14.62281</td><td>PRINCIPES</td></tr>\n",
       "\t<tr><th scope=row>21</th><td>es1425a</td><td>2018-01-01</td><td>pm2.5</td><td>ug.m-3</td><td>14.07913</td><td>PRINCIPES</td></tr>\n",
       "\t<tr><th scope=row>22</th><td>es1425a</td><td>2019-01-01</td><td>pm2.5</td><td>ug.m-3</td><td>14.27797</td><td>PRINCIPES</td></tr>\n",
       "</tbody>\n",
       "</table>\n"
      ],
      "text/latex": [
       "A data.frame: 11 × 6\n",
       "\\begin{tabular}{r|llllll}\n",
       "  & site & date & variable & unit & value & Site name\\\\\n",
       "  & <chr> & <dttm> & <chr> & <chr> & <dbl> & <chr>\\\\\n",
       "\\hline\n",
       "\t12 & es1425a & 2009-01-01 & pm2.5 & ug.m-3 & 18.54444 & PRINCIPES\\\\\n",
       "\t13 & es1425a & 2010-01-01 & pm2.5 & ug.m-3 & 16.93362 & PRINCIPES\\\\\n",
       "\t14 & es1425a & 2011-01-01 & pm2.5 & ug.m-3 & 17.53678 & PRINCIPES\\\\\n",
       "\t15 & es1425a & 2012-01-01 & pm2.5 & ug.m-3 & 18.25824 & PRINCIPES\\\\\n",
       "\t16 & es1425a & 2013-01-01 & pm2.5 & ug.m-3 & 16.19890 & PRINCIPES\\\\\n",
       "\t17 & es1425a & 2014-01-01 & pm2.5 & ug.m-3 & 13.81579 & PRINCIPES\\\\\n",
       "\t18 & es1425a & 2015-01-01 & pm2.5 & ug.m-3 & 15.77477 & PRINCIPES\\\\\n",
       "\t19 & es1425a & 2016-01-01 & pm2.5 & ug.m-3 & 14.35345 & PRINCIPES\\\\\n",
       "\t20 & es1425a & 2017-01-01 & pm2.5 & ug.m-3 & 14.62281 & PRINCIPES\\\\\n",
       "\t21 & es1425a & 2018-01-01 & pm2.5 & ug.m-3 & 14.07913 & PRINCIPES\\\\\n",
       "\t22 & es1425a & 2019-01-01 & pm2.5 & ug.m-3 & 14.27797 & PRINCIPES\\\\\n",
       "\\end{tabular}\n"
      ],
      "text/markdown": [
       "\n",
       "A data.frame: 11 × 6\n",
       "\n",
       "| <!--/--> | site &lt;chr&gt; | date &lt;dttm&gt; | variable &lt;chr&gt; | unit &lt;chr&gt; | value &lt;dbl&gt; | Site name &lt;chr&gt; |\n",
       "|---|---|---|---|---|---|---|\n",
       "| 12 | es1425a | 2009-01-01 | pm2.5 | ug.m-3 | 18.54444 | PRINCIPES |\n",
       "| 13 | es1425a | 2010-01-01 | pm2.5 | ug.m-3 | 16.93362 | PRINCIPES |\n",
       "| 14 | es1425a | 2011-01-01 | pm2.5 | ug.m-3 | 17.53678 | PRINCIPES |\n",
       "| 15 | es1425a | 2012-01-01 | pm2.5 | ug.m-3 | 18.25824 | PRINCIPES |\n",
       "| 16 | es1425a | 2013-01-01 | pm2.5 | ug.m-3 | 16.19890 | PRINCIPES |\n",
       "| 17 | es1425a | 2014-01-01 | pm2.5 | ug.m-3 | 13.81579 | PRINCIPES |\n",
       "| 18 | es1425a | 2015-01-01 | pm2.5 | ug.m-3 | 15.77477 | PRINCIPES |\n",
       "| 19 | es1425a | 2016-01-01 | pm2.5 | ug.m-3 | 14.35345 | PRINCIPES |\n",
       "| 20 | es1425a | 2017-01-01 | pm2.5 | ug.m-3 | 14.62281 | PRINCIPES |\n",
       "| 21 | es1425a | 2018-01-01 | pm2.5 | ug.m-3 | 14.07913 | PRINCIPES |\n",
       "| 22 | es1425a | 2019-01-01 | pm2.5 | ug.m-3 | 14.27797 | PRINCIPES |\n",
       "\n"
      ],
      "text/plain": [
       "   site    date       variable unit   value    Site name\n",
       "12 es1425a 2009-01-01 pm2.5    ug.m-3 18.54444 PRINCIPES\n",
       "13 es1425a 2010-01-01 pm2.5    ug.m-3 16.93362 PRINCIPES\n",
       "14 es1425a 2011-01-01 pm2.5    ug.m-3 17.53678 PRINCIPES\n",
       "15 es1425a 2012-01-01 pm2.5    ug.m-3 18.25824 PRINCIPES\n",
       "16 es1425a 2013-01-01 pm2.5    ug.m-3 16.19890 PRINCIPES\n",
       "17 es1425a 2014-01-01 pm2.5    ug.m-3 13.81579 PRINCIPES\n",
       "18 es1425a 2015-01-01 pm2.5    ug.m-3 15.77477 PRINCIPES\n",
       "19 es1425a 2016-01-01 pm2.5    ug.m-3 14.35345 PRINCIPES\n",
       "20 es1425a 2017-01-01 pm2.5    ug.m-3 14.62281 PRINCIPES\n",
       "21 es1425a 2018-01-01 pm2.5    ug.m-3 14.07913 PRINCIPES\n",
       "22 es1425a 2019-01-01 pm2.5    ug.m-3 14.27797 PRINCIPES"
      ]
     },
     "metadata": {},
     "output_type": "display_data"
    }
   ],
   "source": [
    "b[b$\"Site name\" == \"PRINCIPES\", ]"
   ]
  },
  {
   "cell_type": "code",
   "execution_count": 46,
   "metadata": {},
   "outputs": [],
   "source": [
    "resumen <- data.frame()\n",
    "\n",
    "for (st in levels(as.factor(b$\"Site name\"))) {\n",
    "    by.site <- b[b$\"Site name\" == st, ]\n",
    "    for (yr in levels(as.factor(by.site$date))) {\n",
    "        resumen[st, as.character(year(yr))] <- by.site[by.site$date == date(yr), \"value\"]\n",
    "    }\n",
    "}"
   ]
  },
  {
   "cell_type": "code",
   "execution_count": 48,
   "metadata": {},
   "outputs": [
    {
     "data": {
      "text/html": [
       "<table>\n",
       "<caption>A data.frame: 12 × 13</caption>\n",
       "<thead>\n",
       "\t<tr><th></th><th scope=col>2009</th><th scope=col>2010</th><th scope=col>2011</th><th scope=col>2012</th><th scope=col>2013</th><th scope=col>2014</th><th scope=col>2015</th><th scope=col>2016</th><th scope=col>2017</th><th scope=col>2018</th><th scope=col>2019</th><th scope=col>2020</th><th scope=col>2021</th></tr>\n",
       "\t<tr><th></th><th scope=col>&lt;dbl&gt;</th><th scope=col>&lt;dbl&gt;</th><th scope=col>&lt;dbl&gt;</th><th scope=col>&lt;dbl&gt;</th><th scope=col>&lt;dbl&gt;</th><th scope=col>&lt;dbl&gt;</th><th scope=col>&lt;dbl&gt;</th><th scope=col>&lt;dbl&gt;</th><th scope=col>&lt;dbl&gt;</th><th scope=col>&lt;dbl&gt;</th><th scope=col>&lt;dbl&gt;</th><th scope=col>&lt;dbl&gt;</th><th scope=col>&lt;dbl&gt;</th></tr>\n",
       "</thead>\n",
       "<tbody>\n",
       "\t<tr><th scope=row>ALACANT-FLORIDA-BABEL</th><td>14.55090</td><td>12.68421</td><td>11.46957</td><td>12.514768</td><td>13.604418</td><td>13.636364</td><td>12.345763</td><td>12.938838</td><td>12.305455</td><td>11.291429</td><td> 9.960894</td><td>      NA</td><td>       NA</td></tr>\n",
       "\t<tr><th scope=row>ALBACETE</th><td>14.71578</td><td>14.52988</td><td>13.33468</td><td>11.137630</td><td>10.726534</td><td>17.823924</td><td>11.421946</td><td>11.089241</td><td>10.549205</td><td>10.415763</td><td>10.558968</td><td>8.737124</td><td> 9.230986</td></tr>\n",
       "\t<tr><th scope=row>BADAJOZ</th><td>12.31810</td><td> 9.31441</td><td>10.29452</td><td> 9.834731</td><td> 8.242073</td><td> 8.502632</td><td> 8.566949</td><td> 9.324528</td><td> 8.450463</td><td> 7.874138</td><td> 9.012963</td><td>      NA</td><td>       NA</td></tr>\n",
       "\t<tr><th scope=row>CARRANQUE</th><td>18.51035</td><td>18.52150</td><td>14.75402</td><td>11.222857</td><td>10.195266</td><td>10.711864</td><td>13.063636</td><td>10.572650</td><td>10.772807</td><td> 9.300833</td><td>13.085075</td><td>      NA</td><td>       NA</td></tr>\n",
       "\t<tr><th scope=row>FAROLILLO</th><td>13.36364</td><td>14.09836</td><td>14.00971</td><td>13.685083</td><td>11.325843</td><td>10.432203</td><td>12.000000</td><td>11.638655</td><td>11.630631</td><td>11.543860</td><td>13.644068</td><td>      NA</td><td>       NA</td></tr>\n",
       "\t<tr><th scope=row>ITURRAMA</th><td>      NA</td><td>13.26166</td><td>14.76986</td><td>11.893728</td><td>10.005033</td><td>10.533946</td><td>10.411076</td><td>10.021591</td><td> 8.961682</td><td> 8.305085</td><td>13.147541</td><td>      NA</td><td>       NA</td></tr>\n",
       "\t<tr><th scope=row>LEPANTO</th><td>14.43793</td><td>15.68940</td><td>13.91171</td><td>16.059172</td><td>11.511494</td><td>13.838983</td><td>17.229730</td><td>16.587156</td><td>24.141880</td><td>14.671930</td><td>13.295082</td><td>      NA</td><td>       NA</td></tr>\n",
       "\t<tr><th scope=row>MOMPEAN</th><td>16.41321</td><td>13.71355</td><td>10.30316</td><td>11.494310</td><td>12.219449</td><td>10.237353</td><td>11.344475</td><td>14.669374</td><td>12.897238</td><td>10.707955</td><td>11.565444</td><td>      NA</td><td>13.546961</td></tr>\n",
       "\t<tr><th scope=row>PRINCIPES</th><td>18.54444</td><td>16.93362</td><td>17.53678</td><td>18.258242</td><td>16.198895</td><td>13.815789</td><td>15.774775</td><td>14.353448</td><td>14.622807</td><td>14.079130</td><td>14.277966</td><td>      NA</td><td>       NA</td></tr>\n",
       "\t<tr><th scope=row>RENOVALES</th><td>      NA</td><td>13.99537</td><td>13.63095</td><td>11.335404</td><td>11.643443</td><td>11.358804</td><td>11.111111</td><td>11.800000</td><td>13.124277</td><td>11.262195</td><td>10.103896</td><td>      NA</td><td>       NA</td></tr>\n",
       "\t<tr><th scope=row>TETUÁN</th><td>13.75410</td><td>11.63333</td><td>11.95124</td><td>12.263529</td><td>10.403315</td><td>10.108333</td><td> 9.347826</td><td> 8.846154</td><td>10.018182</td><td>10.576577</td><td>10.207547</td><td>      NA</td><td>       NA</td></tr>\n",
       "\t<tr><th scope=row>VALÈNCIA-VIVERS</th><td>17.03704</td><td>14.50867</td><td>16.64048</td><td>17.000000</td><td>13.435666</td><td>15.509494</td><td>16.208754</td><td>19.204861</td><td>16.249057</td><td>12.364912</td><td>11.097222</td><td>      NA</td><td>       NA</td></tr>\n",
       "</tbody>\n",
       "</table>\n"
      ],
      "text/latex": [
       "A data.frame: 12 × 13\n",
       "\\begin{tabular}{r|lllllllllllll}\n",
       "  & 2009 & 2010 & 2011 & 2012 & 2013 & 2014 & 2015 & 2016 & 2017 & 2018 & 2019 & 2020 & 2021\\\\\n",
       "  & <dbl> & <dbl> & <dbl> & <dbl> & <dbl> & <dbl> & <dbl> & <dbl> & <dbl> & <dbl> & <dbl> & <dbl> & <dbl>\\\\\n",
       "\\hline\n",
       "\tALACANT-FLORIDA-BABEL & 14.55090 & 12.68421 & 11.46957 & 12.514768 & 13.604418 & 13.636364 & 12.345763 & 12.938838 & 12.305455 & 11.291429 &  9.960894 &       NA &        NA\\\\\n",
       "\tALBACETE & 14.71578 & 14.52988 & 13.33468 & 11.137630 & 10.726534 & 17.823924 & 11.421946 & 11.089241 & 10.549205 & 10.415763 & 10.558968 & 8.737124 &  9.230986\\\\\n",
       "\tBADAJOZ & 12.31810 &  9.31441 & 10.29452 &  9.834731 &  8.242073 &  8.502632 &  8.566949 &  9.324528 &  8.450463 &  7.874138 &  9.012963 &       NA &        NA\\\\\n",
       "\tCARRANQUE & 18.51035 & 18.52150 & 14.75402 & 11.222857 & 10.195266 & 10.711864 & 13.063636 & 10.572650 & 10.772807 &  9.300833 & 13.085075 &       NA &        NA\\\\\n",
       "\tFAROLILLO & 13.36364 & 14.09836 & 14.00971 & 13.685083 & 11.325843 & 10.432203 & 12.000000 & 11.638655 & 11.630631 & 11.543860 & 13.644068 &       NA &        NA\\\\\n",
       "\tITURRAMA &       NA & 13.26166 & 14.76986 & 11.893728 & 10.005033 & 10.533946 & 10.411076 & 10.021591 &  8.961682 &  8.305085 & 13.147541 &       NA &        NA\\\\\n",
       "\tLEPANTO & 14.43793 & 15.68940 & 13.91171 & 16.059172 & 11.511494 & 13.838983 & 17.229730 & 16.587156 & 24.141880 & 14.671930 & 13.295082 &       NA &        NA\\\\\n",
       "\tMOMPEAN & 16.41321 & 13.71355 & 10.30316 & 11.494310 & 12.219449 & 10.237353 & 11.344475 & 14.669374 & 12.897238 & 10.707955 & 11.565444 &       NA & 13.546961\\\\\n",
       "\tPRINCIPES & 18.54444 & 16.93362 & 17.53678 & 18.258242 & 16.198895 & 13.815789 & 15.774775 & 14.353448 & 14.622807 & 14.079130 & 14.277966 &       NA &        NA\\\\\n",
       "\tRENOVALES &       NA & 13.99537 & 13.63095 & 11.335404 & 11.643443 & 11.358804 & 11.111111 & 11.800000 & 13.124277 & 11.262195 & 10.103896 &       NA &        NA\\\\\n",
       "\tTETUÁN & 13.75410 & 11.63333 & 11.95124 & 12.263529 & 10.403315 & 10.108333 &  9.347826 &  8.846154 & 10.018182 & 10.576577 & 10.207547 &       NA &        NA\\\\\n",
       "\tVALÈNCIA-VIVERS & 17.03704 & 14.50867 & 16.64048 & 17.000000 & 13.435666 & 15.509494 & 16.208754 & 19.204861 & 16.249057 & 12.364912 & 11.097222 &       NA &        NA\\\\\n",
       "\\end{tabular}\n"
      ],
      "text/markdown": [
       "\n",
       "A data.frame: 12 × 13\n",
       "\n",
       "| <!--/--> | 2009 &lt;dbl&gt; | 2010 &lt;dbl&gt; | 2011 &lt;dbl&gt; | 2012 &lt;dbl&gt; | 2013 &lt;dbl&gt; | 2014 &lt;dbl&gt; | 2015 &lt;dbl&gt; | 2016 &lt;dbl&gt; | 2017 &lt;dbl&gt; | 2018 &lt;dbl&gt; | 2019 &lt;dbl&gt; | 2020 &lt;dbl&gt; | 2021 &lt;dbl&gt; |\n",
       "|---|---|---|---|---|---|---|---|---|---|---|---|---|---|\n",
       "| ALACANT-FLORIDA-BABEL | 14.55090 | 12.68421 | 11.46957 | 12.514768 | 13.604418 | 13.636364 | 12.345763 | 12.938838 | 12.305455 | 11.291429 |  9.960894 |       NA |        NA |\n",
       "| ALBACETE | 14.71578 | 14.52988 | 13.33468 | 11.137630 | 10.726534 | 17.823924 | 11.421946 | 11.089241 | 10.549205 | 10.415763 | 10.558968 | 8.737124 |  9.230986 |\n",
       "| BADAJOZ | 12.31810 |  9.31441 | 10.29452 |  9.834731 |  8.242073 |  8.502632 |  8.566949 |  9.324528 |  8.450463 |  7.874138 |  9.012963 |       NA |        NA |\n",
       "| CARRANQUE | 18.51035 | 18.52150 | 14.75402 | 11.222857 | 10.195266 | 10.711864 | 13.063636 | 10.572650 | 10.772807 |  9.300833 | 13.085075 |       NA |        NA |\n",
       "| FAROLILLO | 13.36364 | 14.09836 | 14.00971 | 13.685083 | 11.325843 | 10.432203 | 12.000000 | 11.638655 | 11.630631 | 11.543860 | 13.644068 |       NA |        NA |\n",
       "| ITURRAMA |       NA | 13.26166 | 14.76986 | 11.893728 | 10.005033 | 10.533946 | 10.411076 | 10.021591 |  8.961682 |  8.305085 | 13.147541 |       NA |        NA |\n",
       "| LEPANTO | 14.43793 | 15.68940 | 13.91171 | 16.059172 | 11.511494 | 13.838983 | 17.229730 | 16.587156 | 24.141880 | 14.671930 | 13.295082 |       NA |        NA |\n",
       "| MOMPEAN | 16.41321 | 13.71355 | 10.30316 | 11.494310 | 12.219449 | 10.237353 | 11.344475 | 14.669374 | 12.897238 | 10.707955 | 11.565444 |       NA | 13.546961 |\n",
       "| PRINCIPES | 18.54444 | 16.93362 | 17.53678 | 18.258242 | 16.198895 | 13.815789 | 15.774775 | 14.353448 | 14.622807 | 14.079130 | 14.277966 |       NA |        NA |\n",
       "| RENOVALES |       NA | 13.99537 | 13.63095 | 11.335404 | 11.643443 | 11.358804 | 11.111111 | 11.800000 | 13.124277 | 11.262195 | 10.103896 |       NA |        NA |\n",
       "| TETUÁN | 13.75410 | 11.63333 | 11.95124 | 12.263529 | 10.403315 | 10.108333 |  9.347826 |  8.846154 | 10.018182 | 10.576577 | 10.207547 |       NA |        NA |\n",
       "| VALÈNCIA-VIVERS | 17.03704 | 14.50867 | 16.64048 | 17.000000 | 13.435666 | 15.509494 | 16.208754 | 19.204861 | 16.249057 | 12.364912 | 11.097222 |       NA |        NA |\n",
       "\n"
      ],
      "text/plain": [
       "                      2009     2010     2011     2012      2013      2014     \n",
       "ALACANT-FLORIDA-BABEL 14.55090 12.68421 11.46957 12.514768 13.604418 13.636364\n",
       "ALBACETE              14.71578 14.52988 13.33468 11.137630 10.726534 17.823924\n",
       "BADAJOZ               12.31810  9.31441 10.29452  9.834731  8.242073  8.502632\n",
       "CARRANQUE             18.51035 18.52150 14.75402 11.222857 10.195266 10.711864\n",
       "FAROLILLO             13.36364 14.09836 14.00971 13.685083 11.325843 10.432203\n",
       "ITURRAMA                    NA 13.26166 14.76986 11.893728 10.005033 10.533946\n",
       "LEPANTO               14.43793 15.68940 13.91171 16.059172 11.511494 13.838983\n",
       "MOMPEAN               16.41321 13.71355 10.30316 11.494310 12.219449 10.237353\n",
       "PRINCIPES             18.54444 16.93362 17.53678 18.258242 16.198895 13.815789\n",
       "RENOVALES                   NA 13.99537 13.63095 11.335404 11.643443 11.358804\n",
       "TETUÁN                13.75410 11.63333 11.95124 12.263529 10.403315 10.108333\n",
       "VALÈNCIA-VIVERS       17.03704 14.50867 16.64048 17.000000 13.435666 15.509494\n",
       "                      2015      2016      2017      2018      2019     \n",
       "ALACANT-FLORIDA-BABEL 12.345763 12.938838 12.305455 11.291429  9.960894\n",
       "ALBACETE              11.421946 11.089241 10.549205 10.415763 10.558968\n",
       "BADAJOZ                8.566949  9.324528  8.450463  7.874138  9.012963\n",
       "CARRANQUE             13.063636 10.572650 10.772807  9.300833 13.085075\n",
       "FAROLILLO             12.000000 11.638655 11.630631 11.543860 13.644068\n",
       "ITURRAMA              10.411076 10.021591  8.961682  8.305085 13.147541\n",
       "LEPANTO               17.229730 16.587156 24.141880 14.671930 13.295082\n",
       "MOMPEAN               11.344475 14.669374 12.897238 10.707955 11.565444\n",
       "PRINCIPES             15.774775 14.353448 14.622807 14.079130 14.277966\n",
       "RENOVALES             11.111111 11.800000 13.124277 11.262195 10.103896\n",
       "TETUÁN                 9.347826  8.846154 10.018182 10.576577 10.207547\n",
       "VALÈNCIA-VIVERS       16.208754 19.204861 16.249057 12.364912 11.097222\n",
       "                      2020     2021     \n",
       "ALACANT-FLORIDA-BABEL       NA        NA\n",
       "ALBACETE              8.737124  9.230986\n",
       "BADAJOZ                     NA        NA\n",
       "CARRANQUE                   NA        NA\n",
       "FAROLILLO                   NA        NA\n",
       "ITURRAMA                    NA        NA\n",
       "LEPANTO                     NA        NA\n",
       "MOMPEAN                     NA 13.546961\n",
       "PRINCIPES                   NA        NA\n",
       "RENOVALES                   NA        NA\n",
       "TETUÁN                      NA        NA\n",
       "VALÈNCIA-VIVERS             NA        NA"
      ]
     },
     "metadata": {},
     "output_type": "display_data"
    }
   ],
   "source": [
    "resumen"
   ]
  },
  {
   "cell_type": "code",
   "execution_count": 49,
   "metadata": {},
   "outputs": [
    {
     "data": {
      "text/html": [
       "<table>\n",
       "<caption>A tibble: 0 × 17</caption>\n",
       "<thead>\n",
       "\t<tr><th scope=col>ID</th><th scope=col>Site</th><th scope=col>Site name</th><th scope=col>Latitude</th><th scope=col>Longitude</th><th scope=col>Elevation</th><th scope=col>Country</th><th scope=col>Country-ISO-code</th><th scope=col>Type</th><th scope=col>Site area</th><th scope=col>Data_start</th><th scope=col>Data_end</th><th scope=col>Network</th><th scope=col>EU_code</th><th scope=col>eoi_code</th><th scope=col>observation count</th><th scope=col>Data source</th></tr>\n",
       "\t<tr><th scope=col>&lt;dbl&gt;</th><th scope=col>&lt;chr&gt;</th><th scope=col>&lt;chr&gt;</th><th scope=col>&lt;dbl&gt;</th><th scope=col>&lt;dbl&gt;</th><th scope=col>&lt;dbl&gt;</th><th scope=col>&lt;chr&gt;</th><th scope=col>&lt;chr&gt;</th><th scope=col>&lt;chr&gt;</th><th scope=col>&lt;chr&gt;</th><th scope=col>&lt;chr&gt;</th><th scope=col>&lt;chr&gt;</th><th scope=col>&lt;chr&gt;</th><th scope=col>&lt;chr&gt;</th><th scope=col>&lt;chr&gt;</th><th scope=col>&lt;dbl&gt;</th><th scope=col>&lt;chr&gt;</th></tr>\n",
       "</thead>\n",
       "<tbody>\n",
       "</tbody>\n",
       "</table>\n"
      ],
      "text/latex": [
       "A tibble: 0 × 17\n",
       "\\begin{tabular}{lllllllllllllllll}\n",
       " ID & Site & Site name & Latitude & Longitude & Elevation & Country & Country-ISO-code & Type & Site area & Data\\_start & Data\\_end & Network & EU\\_code & eoi\\_code & observation count & Data source\\\\\n",
       " <dbl> & <chr> & <chr> & <dbl> & <dbl> & <dbl> & <chr> & <chr> & <chr> & <chr> & <chr> & <chr> & <chr> & <chr> & <chr> & <dbl> & <chr>\\\\\n",
       "\\hline\n",
       "\\end{tabular}\n"
      ],
      "text/markdown": [
       "\n",
       "A tibble: 0 × 17\n",
       "\n",
       "| ID &lt;dbl&gt; | Site &lt;chr&gt; | Site name &lt;chr&gt; | Latitude &lt;dbl&gt; | Longitude &lt;dbl&gt; | Elevation &lt;dbl&gt; | Country &lt;chr&gt; | Country-ISO-code &lt;chr&gt; | Type &lt;chr&gt; | Site area &lt;chr&gt; | Data_start &lt;chr&gt; | Data_end &lt;chr&gt; | Network &lt;chr&gt; | EU_code &lt;chr&gt; | eoi_code &lt;chr&gt; | observation count &lt;dbl&gt; | Data source &lt;chr&gt; |\n",
       "|---|---|---|---|---|---|---|---|---|---|---|---|---|---|---|---|---|\n",
       "\n"
      ],
      "text/plain": [
       "     ID Site Site name Latitude Longitude Elevation Country Country-ISO-code\n",
       "     Type Site area Data_start Data_end Network EU_code eoi_code\n",
       "     observation count Data source"
      ]
     },
     "metadata": {},
     "output_type": "display_data"
    }
   ],
   "source": [
    "sites.PM25[!(sites.PM25$\"Site name\" %in% b$\"Site name\"), ]"
   ]
  },
  {
   "cell_type": "code",
   "execution_count": 50,
   "metadata": {},
   "outputs": [
    {
     "data": {
      "text/html": [
       "<style>\n",
       ".list-inline {list-style: none; margin:0; padding: 0}\n",
       ".list-inline>li {display: inline-block}\n",
       ".list-inline>li:not(:last-child)::after {content: \"\\00b7\"; padding: 0 .5ex}\n",
       "</style>\n",
       "<ol class=list-inline><li>'PALACIO CONGRESOS'</li><li>'PURIFICACIÓN TOMÁS'</li><li>'LA MISERICORDIA'</li><li>'AEMET'</li><li>'BURGOS 4'</li><li>'DARP'</li><li>'BF-RUBÍ (CA N\\'ORIOL)'</li><li>'MATARO-LABORATORID\\'AIGES'</li><li>'IES GOYA'</li><li>'IN-BARCELONA(VALL D\\'HEBRON)'</li><li>'CASTELLO - ITC'</li><li>'TORRE DE HÉRCULES'</li><li>'TORREJON DE AROZ II'</li><li>'ALCORCÓN 2'</li><li>'CENTRO CULTURAL ALFREDO KRAUSS'</li><li>'JUNTA MUNICIPAL DE MORATALAZ'</li><li>'AVENIDA TOLOSA'</li><li>'PARQUE EUROPA'</li><li>'LA CIGÜEÑA'</li></ol>\n"
      ],
      "text/latex": [
       "\\begin{enumerate*}\n",
       "\\item 'PALACIO CONGRESOS'\n",
       "\\item 'PURIFICACIÓN TOMÁS'\n",
       "\\item 'LA MISERICORDIA'\n",
       "\\item 'AEMET'\n",
       "\\item 'BURGOS 4'\n",
       "\\item 'DARP'\n",
       "\\item 'BF-RUBÍ (CA N\\textbackslash{}'ORIOL)'\n",
       "\\item 'MATARO-LABORATORID\\textbackslash{}'AIGES'\n",
       "\\item 'IES GOYA'\n",
       "\\item 'IN-BARCELONA(VALL D\\textbackslash{}'HEBRON)'\n",
       "\\item 'CASTELLO - ITC'\n",
       "\\item 'TORRE DE HÉRCULES'\n",
       "\\item 'TORREJON DE AROZ II'\n",
       "\\item 'ALCORCÓN 2'\n",
       "\\item 'CENTRO CULTURAL ALFREDO KRAUSS'\n",
       "\\item 'JUNTA MUNICIPAL DE MORATALAZ'\n",
       "\\item 'AVENIDA TOLOSA'\n",
       "\\item 'PARQUE EUROPA'\n",
       "\\item 'LA CIGÜEÑA'\n",
       "\\end{enumerate*}\n"
      ],
      "text/markdown": [
       "1. 'PALACIO CONGRESOS'\n",
       "2. 'PURIFICACIÓN TOMÁS'\n",
       "3. 'LA MISERICORDIA'\n",
       "4. 'AEMET'\n",
       "5. 'BURGOS 4'\n",
       "6. 'DARP'\n",
       "7. 'BF-RUBÍ (CA N\\'ORIOL)'\n",
       "8. 'MATARO-LABORATORID\\'AIGES'\n",
       "9. 'IES GOYA'\n",
       "10. 'IN-BARCELONA(VALL D\\'HEBRON)'\n",
       "11. 'CASTELLO - ITC'\n",
       "12. 'TORRE DE HÉRCULES'\n",
       "13. 'TORREJON DE AROZ II'\n",
       "14. 'ALCORCÓN 2'\n",
       "15. 'CENTRO CULTURAL ALFREDO KRAUSS'\n",
       "16. 'JUNTA MUNICIPAL DE MORATALAZ'\n",
       "17. 'AVENIDA TOLOSA'\n",
       "18. 'PARQUE EUROPA'\n",
       "19. 'LA CIGÜEÑA'\n",
       "\n",
       "\n"
      ],
      "text/plain": [
       " [1] \"PALACIO CONGRESOS\"              \"PURIFICACIÓN TOMÁS\"            \n",
       " [3] \"LA MISERICORDIA\"                \"AEMET\"                         \n",
       " [5] \"BURGOS 4\"                       \"DARP\"                          \n",
       " [7] \"BF-RUBÍ (CA N'ORIOL)\"           \"MATARO-LABORATORID'AIGES\"      \n",
       " [9] \"IES GOYA\"                       \"IN-BARCELONA(VALL D'HEBRON)\"   \n",
       "[11] \"CASTELLO - ITC\"                 \"TORRE DE HÉRCULES\"             \n",
       "[13] \"TORREJON DE AROZ II\"            \"ALCORCÓN 2\"                    \n",
       "[15] \"CENTRO CULTURAL ALFREDO KRAUSS\" \"JUNTA MUNICIPAL DE MORATALAZ\"  \n",
       "[17] \"AVENIDA TOLOSA\"                 \"PARQUE EUROPA\"                 \n",
       "[19] \"LA CIGÜEÑA\"                    "
      ]
     },
     "metadata": {},
     "output_type": "display_data"
    }
   ],
   "source": [
    "sites.names[-which(sites.names %in% b$\"Site name\")]"
   ]
  },
  {
   "cell_type": "code",
   "execution_count": null,
   "metadata": {},
   "outputs": [],
   "source": []
  }
 ],
 "metadata": {
  "kernelspec": {
   "display_name": "R",
   "language": "R",
   "name": "ir"
  },
  "language_info": {
   "codemirror_mode": "r",
   "file_extension": ".r",
   "mimetype": "text/x-r-source",
   "name": "R",
   "pygments_lexer": "r",
   "version": "3.6.3"
  }
 },
 "nbformat": 4,
 "nbformat_minor": 4
}
