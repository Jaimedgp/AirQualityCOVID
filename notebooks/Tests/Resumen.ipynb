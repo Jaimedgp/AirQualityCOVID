{
 "cells": [
  {
   "cell_type": "markdown",
   "metadata": {},
   "source": [
    "# Resumen de la informacion relevante de cada estacion\n",
    "\n",
    "El objetivo de este codigo es obtener una tabla resumen con la relacion n-n entre estaciones de calidad del aire y meteorologicas que ademas muestre cuanta informacion relevante aporta cada estacion. A partir de dicha tabla se espera decidir que estaciones aportan mas datos al estudio.\n",
    "\n",
    "PUESTO QUE SE TRATA DE UNA GRAN CANTIDAD DE DATOS Y REALIZAR TODA LA EJECUCION LLEVARIA DEMASIADO TIEMPO, EN ESTE NOTEBOOK SE TRABAJA SOLO CON 3 ESTACIONES DE CALIDAD DEL AIRE Y EN NINGUN MOMENTO SE ESCRIBE NI LEE DE LOS ARCHIVOS (aunque el codigo se encuentra disponible en formato Markdown).\n",
    "\n",
    "> [Configuracion del notebook](#config)\n",
    ">\n",
    "> [ESTACIONES DE CALIDAD DEL AIRE](#sitesAQ)\n",
    ">    \n",
    ">    * [Estaciones de españa](#espanha)\n",
    ">\n",
    ">         1) [Datos de las estaciones de ```saqgetr```](#estacionesSaqgetr)\n",
    ">\n",
    ">         2)[Datos geograficos de las estaciones](#estacionGeo)\n",
    ">\n",
    ">    * [Estudio de los Datos de las Estaciones](#stdio)\n",
    ">\n",
    ">    * [Guardar datos en csv](#saveAQ)\n",
    ">\n",
    "> [ESTACIONES DE LA AEMET](#sitesMto)\n",
    ">\n",
    ">    * [Guardar datos en csv](#saveMto)\n",
    ">\n",
    "> [INFORMACION RELEVANTE](#countdata)\n",
    ">\n",
    ">    * [Obtener los datos de Calidad del Aire](#getAQ)\n",
    ">\n",
    ">    * [Contar valores de Calidad del Aire](#countAQ)\n",
    ">\n",
    ">    * [Contar valores Meteorologicos](#countMto)\n",
    ">\n",
    ">    * [Agrupar todos los datos principales](#groupAll)\n"
   ]
  },
  {
   "cell_type": "markdown",
   "metadata": {},
   "source": [
    "### Configuracion del notebook <a id=\"config\"></a>"
   ]
  },
  {
   "cell_type": "markdown",
   "metadata": {},
   "source": [
    "Cargamos todos los paquetes necesarios para ejecutar el notebook"
   ]
  },
  {
   "cell_type": "code",
   "execution_count": 41,
   "metadata": {},
   "outputs": [],
   "source": [
    "# Loading\n",
    "suppressMessages(library(saqgetr))\n",
    "suppressMessages(library(tidyverse))\n",
    "suppressMessages(library(lubridate))\n",
    "suppressMessages(library(worldmet))\n",
    "suppressMessages(library(openxlsx))"
   ]
  },
  {
   "cell_type": "markdown",
   "metadata": {},
   "source": [
    "## Parametros de los datos <a id=\"param\"></a>"
   ]
  },
  {
   "cell_type": "code",
   "execution_count": 42,
   "metadata": {},
   "outputs": [],
   "source": [
    "# contaminantes a estudiar\n",
    "pollutants <- c(\"no\", \"no2\", \"o3\", \"pm10\", \"pm2.5\")\n",
    "\n",
    "# fechas de inicio y final de toma de datos\n",
    "start_dt <- ymd_hms(\"2010-01-01 00:00:00\")\n",
    "end_dt <- ymd_hms(\"2020-10-31 00:00:00\")\n",
    "\n",
    "# Archivos de los datos\n",
    "# NO SE TRABAJA CON ARCHIVOS\n",
    "sitesAQ.fl = NULL# \"../data/csv/sitesAQ.csv\"                                           \n",
    "dataAQ.fl = NULL# \"../data/csv/dataAQ.csv\"\n",
    "\n",
    "sitesMto.fl = NULL# \"../data/csv/sitesMto.csv\"                                         \n",
    "dataMto.fl = NULL# \"../data/csv/dataMto.csv\"                                          \n",
    "years = 2010:2020\n",
    "\n",
    "final.fl = NULL# \"../data/csv/nn_sites.csv\"\n",
    "\n",
    "# Guardar los datos de la calidad del aire\n",
    "save.data = FALSE\n",
    "\n",
    "# Tabla resumen de los filtros aplicados\n",
    "resum.table <- vector(mode=\"list\")"
   ]
  },
  {
   "cell_type": "markdown",
   "metadata": {},
   "source": [
    "## ESTACIONES DE CALIDAD DEL AIRE <a id=\"sitesAQ\"></a>"
   ]
  },
  {
   "cell_type": "markdown",
   "metadata": {},
   "source": [
    "### Estaciones de España <a id=\"espanha\"></a>"
   ]
  },
  {
   "cell_type": "markdown",
   "metadata": {},
   "source": [
    "#### Datos geograficos de las estaciones <a id=\"estacionGeo\"></a>\n",
    "\n",
    "Seleccionamos aquellas estaciones que se encuentren en un núcleo con una\n",
    "población mayor o igual a cien mil habitantes `poblacion >= 100 000 hab`.\n",
    "\n",
    "En la hoja 8 `ciudades-100000-A-JA` de la base de datos de poblaciones (`estaciones-CA.xlsx`) aparecen todas las estaciones de trafico de las ciudades de mas de 100000 habitantes con sus nombres."
   ]
  },
  {
   "cell_type": "code",
   "execution_count": 43,
   "metadata": {},
   "outputs": [],
   "source": [
    "file <- \"../data/xlsx/estaciones-CA-JA.xlsx\"\n",
    "sheets <- c(\"todas\", \"traffic\", \"traffic-urban\", \"traffic-urban-2020\",\n",
    "            \"traffic-suburban\", \"traffic-suburban-2020\",\n",
    "            \"ciudades-100000\", \"ciudades-100000-A\")\n",
    "# xlsx files\n",
    "sites.100mil <- read.xlsx(file, sheet=sheets[8])"
   ]
  },
  {
   "cell_type": "code",
   "execution_count": 44,
   "metadata": {},
   "outputs": [],
   "source": [
    "resum.table[[sheets[8]]] <- sites.100mil"
   ]
  },
  {
   "cell_type": "code",
   "execution_count": 45,
   "metadata": {},
   "outputs": [
    {
     "data": {
      "text/html": [
       "<table>\n",
       "<caption>A data.frame: 6 × 7</caption>\n",
       "<thead>\n",
       "\t<tr><th></th><th scope=col>Municipio</th><th scope=col>Población</th><th scope=col>Estación.tráfico</th><th scope=col>Código.estación</th><th scope=col>Nº.estaciones.Ecolog</th><th scope=col>Nº.estaciones.tráfico</th><th scope=col>Observaciones</th></tr>\n",
       "\t<tr><th></th><th scope=col>&lt;chr&gt;</th><th scope=col>&lt;dbl&gt;</th><th scope=col>&lt;chr&gt;</th><th scope=col>&lt;chr&gt;</th><th scope=col>&lt;dbl&gt;</th><th scope=col>&lt;dbl&gt;</th><th scope=col>&lt;chr&gt;</th></tr>\n",
       "</thead>\n",
       "<tbody>\n",
       "\t<tr><th scope=row>1</th><td>A Coruña         </td><td>245711</td><td>CORLAB 1         </td><td>es1138a</td><td>4</td><td>1</td><td>Es Riazor o Santa Margarida, revisar. Datos sólo hasta 2018. REVISAR </td></tr>\n",
       "\t<tr><th scope=row>2</th><td>Alcalá de Henares</td><td>195649</td><td>Alcalá de Henares</td><td>es1563a</td><td>0</td><td>1</td><td>NA                                                                   </td></tr>\n",
       "\t<tr><th scope=row>3</th><td>Alcobendas       </td><td>117040</td><td>Alcobendas       </td><td>es1564a</td><td>0</td><td>1</td><td>NA                                                                   </td></tr>\n",
       "\t<tr><th scope=row>4</th><td>Alicante         </td><td>334887</td><td>Florida-Babel    </td><td>es1915a</td><td>3</td><td>1</td><td>Urban background. Not traffic                                        </td></tr>\n",
       "\t<tr><th scope=row>5</th><td>Alicante         </td><td>334888</td><td>ALACANT-EL PLÁ   </td><td>es1635a</td><td>3</td><td>1</td><td>Esta es de tráfico                                                   </td></tr>\n",
       "\t<tr><th scope=row>6</th><td>Almería          </td><td>198533</td><td>MEDITERRÁNEO     </td><td>es1393a</td><td>0</td><td>1</td><td>NA                                                                   </td></tr>\n",
       "</tbody>\n",
       "</table>\n"
      ],
      "text/latex": [
       "A data.frame: 6 × 7\n",
       "\\begin{tabular}{r|lllllll}\n",
       "  & Municipio & Población & Estación.tráfico & Código.estación & Nº.estaciones.Ecolog & Nº.estaciones.tráfico & Observaciones\\\\\n",
       "  & <chr> & <dbl> & <chr> & <chr> & <dbl> & <dbl> & <chr>\\\\\n",
       "\\hline\n",
       "\t1 & A Coruña          & 245711 & CORLAB 1          & es1138a & 4 & 1 & Es Riazor o Santa Margarida, revisar. Datos sólo hasta 2018. REVISAR \\\\\n",
       "\t2 & Alcalá de Henares & 195649 & Alcalá de Henares & es1563a & 0 & 1 & NA                                                                   \\\\\n",
       "\t3 & Alcobendas        & 117040 & Alcobendas        & es1564a & 0 & 1 & NA                                                                   \\\\\n",
       "\t4 & Alicante          & 334887 & Florida-Babel     & es1915a & 3 & 1 & Urban background. Not traffic                                        \\\\\n",
       "\t5 & Alicante          & 334888 & ALACANT-EL PLÁ    & es1635a & 3 & 1 & Esta es de tráfico                                                   \\\\\n",
       "\t6 & Almería           & 198533 & MEDITERRÁNEO      & es1393a & 0 & 1 & NA                                                                   \\\\\n",
       "\\end{tabular}\n"
      ],
      "text/markdown": [
       "\n",
       "A data.frame: 6 × 7\n",
       "\n",
       "| <!--/--> | Municipio &lt;chr&gt; | Población &lt;dbl&gt; | Estación.tráfico &lt;chr&gt; | Código.estación &lt;chr&gt; | Nº.estaciones.Ecolog &lt;dbl&gt; | Nº.estaciones.tráfico &lt;dbl&gt; | Observaciones &lt;chr&gt; |\n",
       "|---|---|---|---|---|---|---|---|\n",
       "| 1 | A Coruña          | 245711 | CORLAB 1          | es1138a | 4 | 1 | Es Riazor o Santa Margarida, revisar. Datos sólo hasta 2018. REVISAR  |\n",
       "| 2 | Alcalá de Henares | 195649 | Alcalá de Henares | es1563a | 0 | 1 | NA                                                                    |\n",
       "| 3 | Alcobendas        | 117040 | Alcobendas        | es1564a | 0 | 1 | NA                                                                    |\n",
       "| 4 | Alicante          | 334887 | Florida-Babel     | es1915a | 3 | 1 | Urban background. Not traffic                                         |\n",
       "| 5 | Alicante          | 334888 | ALACANT-EL PLÁ    | es1635a | 3 | 1 | Esta es de tráfico                                                    |\n",
       "| 6 | Almería           | 198533 | MEDITERRÁNEO      | es1393a | 0 | 1 | NA                                                                    |\n",
       "\n"
      ],
      "text/plain": [
       "  Municipio         Población Estación.tráfico  Código.estación\n",
       "1 A Coruña          245711    CORLAB 1          es1138a        \n",
       "2 Alcalá de Henares 195649    Alcalá de Henares es1563a        \n",
       "3 Alcobendas        117040    Alcobendas        es1564a        \n",
       "4 Alicante          334887    Florida-Babel     es1915a        \n",
       "5 Alicante          334888    ALACANT-EL PLÁ    es1635a        \n",
       "6 Almería           198533    MEDITERRÁNEO      es1393a        \n",
       "  Nº.estaciones.Ecolog Nº.estaciones.tráfico\n",
       "1 4                    1                    \n",
       "2 0                    1                    \n",
       "3 0                    1                    \n",
       "4 3                    1                    \n",
       "5 3                    1                    \n",
       "6 0                    1                    \n",
       "  Observaciones                                                        \n",
       "1 Es Riazor o Santa Margarida, revisar. Datos sólo hasta 2018. REVISAR \n",
       "2 NA                                                                   \n",
       "3 NA                                                                   \n",
       "4 Urban background. Not traffic                                        \n",
       "5 Esta es de tráfico                                                   \n",
       "6 NA                                                                   "
      ]
     },
     "metadata": {},
     "output_type": "display_data"
    }
   ],
   "source": [
    "head(sites.100mil)"
   ]
  },
  {
   "cell_type": "markdown",
   "metadata": {},
   "source": [
    "#### Datos de las estaciones de `saqgetr` <a id=\"estacionesSaqgetr\"></a>\n",
    "\n",
    "Importamos la informacion de las estaciones de calidad de aire de españa obtenidas de la base de datos y filtramos segun los criterios de estudio.\n",
    "\n",
    "| Variable | Valores |\n",
    "|-------|-----------|\n",
    "|Contaminantes| $NO$, $NO_2$, $O_3$, $PM_{10}$|\n",
    "|Fecha Inicio| 01 Enero 2015 |\n",
    "|Fecha Final | 31 Diciembre 2020 |\n",
    "| Site Type | traffic |\n",
    "|site area | urban |"
   ]
  },
  {
   "cell_type": "code",
   "execution_count": 46,
   "metadata": {},
   "outputs": [],
   "source": [
    "# obtener datos de CA de España. Salen los códigos de las estaciones\n",
    "# de Calidad de aire (941)\n",
    "spain.sites <- get_saq_sites() %>%\n",
    "    filter(country == \"spain\",\n",
    "           site %in% sites.100mil$\"Código.estación\",\n",
    "           site_type == \"traffic\",\n",
    "           site_area == \"urban\",\n",
    "           date_start <= start_dt,\n",
    "           date_end >= end_dt,\n",
    "           ) %>%\n",
    "    select(site, site_name, latitude, longitude, elevation, \n",
    "           country, site_type, site_area, date_start, date_end)"
   ]
  },
  {
   "cell_type": "code",
   "execution_count": 47,
   "metadata": {},
   "outputs": [
    {
     "name": "stdout",
     "output_type": "stream",
     "text": [
      "[1] \"Se han eliminado 13 estaciones\"\n",
      "[1] \"Quedan 65 estaciones para el estudio\"\n"
     ]
    }
   ],
   "source": [
    "removed.sites <- (nrow(sites.100mil)-1) - nrow(spain.sites)\n",
    "\n",
    "print(paste(\"Se han eliminado\", removed.sites, \"estaciones\"))\n",
    "print(paste(\"Quedan\", nrow(spain.sites), \"estaciones para el estudio\"))"
   ]
  },
  {
   "cell_type": "markdown",
   "metadata": {},
   "source": [
    "Agrupamos en un solo data.frame toda la informacion relevante de las estaciones de estudio"
   ]
  },
  {
   "cell_type": "code",
   "execution_count": 8,
   "metadata": {},
   "outputs": [],
   "source": [
    "sites.info <- get_saq_processes() %>%\n",
    "    filter(site %in% spain.sites$site,\n",
    "           variable %in% pollutants,\n",
    "           date_start <= start_dt,\n",
    "           #date_end >= end_dt,\n",
    "          ) %>%\n",
    "    select(process, site, variable, variable_long, \n",
    "           period, unit, observation_count, date_start, date_end\n",
    "          )"
   ]
  },
  {
   "cell_type": "code",
   "execution_count": 9,
   "metadata": {},
   "outputs": [
    {
     "data": {
      "text/html": [
       "<table>\n",
       "<caption>A tibble: 6 × 9</caption>\n",
       "<thead>\n",
       "\t<tr><th scope=col>process</th><th scope=col>site</th><th scope=col>variable</th><th scope=col>variable_long</th><th scope=col>period</th><th scope=col>unit</th><th scope=col>observation_count</th><th scope=col>date_start</th><th scope=col>date_end</th></tr>\n",
       "\t<tr><th scope=col>&lt;int&gt;</th><th scope=col>&lt;chr&gt;</th><th scope=col>&lt;chr&gt;</th><th scope=col>&lt;chr&gt;</th><th scope=col>&lt;chr&gt;</th><th scope=col>&lt;chr&gt;</th><th scope=col>&lt;dbl&gt;</th><th scope=col>&lt;dttm&gt;</th><th scope=col>&lt;dttm&gt;</th></tr>\n",
       "</thead>\n",
       "<tbody>\n",
       "\t<tr><td>31140</td><td>es0041a</td><td>no2</td><td>Nitrogen dioxide (air)</td><td>day  </td><td>ug.m-3</td><td>  151</td><td>1987-04-01</td><td>1987-08-31 00:00:00</td></tr>\n",
       "\t<tr><td>31281</td><td>es0110a</td><td>o3 </td><td>Ozone (air)           </td><td>day  </td><td>ug.m-3</td><td> 4092</td><td>1997-01-01</td><td>2009-12-31 00:00:00</td></tr>\n",
       "\t<tr><td>31282</td><td>es0110a</td><td>o3 </td><td>Ozone (air)           </td><td>dymax</td><td>ug.m-3</td><td> 4095</td><td>1997-01-01</td><td>2009-12-31 00:00:00</td></tr>\n",
       "\t<tr><td>31283</td><td>es0110a</td><td>o3 </td><td>Ozone (air)           </td><td>hour </td><td>ug.m-3</td><td>94149</td><td>1997-01-01</td><td>2009-12-31 23:00:00</td></tr>\n",
       "\t<tr><td>31284</td><td>es0110a</td><td>o3 </td><td>Ozone (air)           </td><td>hour8</td><td>ug.m-3</td><td>97891</td><td>1997-01-01</td><td>2009-12-31 23:00:00</td></tr>\n",
       "\t<tr><td>31285</td><td>es0110a</td><td>no2</td><td>Nitrogen dioxide (air)</td><td>day  </td><td>ug.m-3</td><td> 5324</td><td>1997-01-10</td><td>2011-12-31 00:00:00</td></tr>\n",
       "</tbody>\n",
       "</table>\n"
      ],
      "text/latex": [
       "A tibble: 6 × 9\n",
       "\\begin{tabular}{lllllllll}\n",
       " process & site & variable & variable\\_long & period & unit & observation\\_count & date\\_start & date\\_end\\\\\n",
       " <int> & <chr> & <chr> & <chr> & <chr> & <chr> & <dbl> & <dttm> & <dttm>\\\\\n",
       "\\hline\n",
       "\t 31140 & es0041a & no2 & Nitrogen dioxide (air) & day   & ug.m-3 &   151 & 1987-04-01 & 1987-08-31 00:00:00\\\\\n",
       "\t 31281 & es0110a & o3  & Ozone (air)            & day   & ug.m-3 &  4092 & 1997-01-01 & 2009-12-31 00:00:00\\\\\n",
       "\t 31282 & es0110a & o3  & Ozone (air)            & dymax & ug.m-3 &  4095 & 1997-01-01 & 2009-12-31 00:00:00\\\\\n",
       "\t 31283 & es0110a & o3  & Ozone (air)            & hour  & ug.m-3 & 94149 & 1997-01-01 & 2009-12-31 23:00:00\\\\\n",
       "\t 31284 & es0110a & o3  & Ozone (air)            & hour8 & ug.m-3 & 97891 & 1997-01-01 & 2009-12-31 23:00:00\\\\\n",
       "\t 31285 & es0110a & no2 & Nitrogen dioxide (air) & day   & ug.m-3 &  5324 & 1997-01-10 & 2011-12-31 00:00:00\\\\\n",
       "\\end{tabular}\n"
      ],
      "text/markdown": [
       "\n",
       "A tibble: 6 × 9\n",
       "\n",
       "| process &lt;int&gt; | site &lt;chr&gt; | variable &lt;chr&gt; | variable_long &lt;chr&gt; | period &lt;chr&gt; | unit &lt;chr&gt; | observation_count &lt;dbl&gt; | date_start &lt;dttm&gt; | date_end &lt;dttm&gt; |\n",
       "|---|---|---|---|---|---|---|---|---|\n",
       "| 31140 | es0041a | no2 | Nitrogen dioxide (air) | day   | ug.m-3 |   151 | 1987-04-01 | 1987-08-31 00:00:00 |\n",
       "| 31281 | es0110a | o3  | Ozone (air)            | day   | ug.m-3 |  4092 | 1997-01-01 | 2009-12-31 00:00:00 |\n",
       "| 31282 | es0110a | o3  | Ozone (air)            | dymax | ug.m-3 |  4095 | 1997-01-01 | 2009-12-31 00:00:00 |\n",
       "| 31283 | es0110a | o3  | Ozone (air)            | hour  | ug.m-3 | 94149 | 1997-01-01 | 2009-12-31 23:00:00 |\n",
       "| 31284 | es0110a | o3  | Ozone (air)            | hour8 | ug.m-3 | 97891 | 1997-01-01 | 2009-12-31 23:00:00 |\n",
       "| 31285 | es0110a | no2 | Nitrogen dioxide (air) | day   | ug.m-3 |  5324 | 1997-01-10 | 2011-12-31 00:00:00 |\n",
       "\n"
      ],
      "text/plain": [
       "  process site    variable variable_long          period unit  \n",
       "1 31140   es0041a no2      Nitrogen dioxide (air) day    ug.m-3\n",
       "2 31281   es0110a o3       Ozone (air)            day    ug.m-3\n",
       "3 31282   es0110a o3       Ozone (air)            dymax  ug.m-3\n",
       "4 31283   es0110a o3       Ozone (air)            hour   ug.m-3\n",
       "5 31284   es0110a o3       Ozone (air)            hour8  ug.m-3\n",
       "6 31285   es0110a no2      Nitrogen dioxide (air) day    ug.m-3\n",
       "  observation_count date_start date_end           \n",
       "1   151             1987-04-01 1987-08-31 00:00:00\n",
       "2  4092             1997-01-01 2009-12-31 00:00:00\n",
       "3  4095             1997-01-01 2009-12-31 00:00:00\n",
       "4 94149             1997-01-01 2009-12-31 23:00:00\n",
       "5 97891             1997-01-01 2009-12-31 23:00:00\n",
       "6  5324             1997-01-10 2011-12-31 00:00:00"
      ]
     },
     "metadata": {},
     "output_type": "display_data"
    }
   ],
   "source": [
    "head(sites.info)"
   ]
  },
  {
   "cell_type": "code",
   "execution_count": 10,
   "metadata": {},
   "outputs": [],
   "source": [
    "a <- data.frame(site=levels(as.factor(sites.info$site)))\n",
    "\n",
    "for (st in a$site) {\n",
    "    for (pll in (levels(as.factor(sites.info$variable)))) {\n",
    "        if (\"hour\" %in% (sites.info[sites.info$site == st &\n",
    "                                   sites.info$variable == pll,]$period)) {\n",
    "            df <- sites.info[sites.info$site == st &\n",
    "                             sites.info$variable == pll &\n",
    "                             sites.info$period == \"hour\",]\n",
    "         \n",
    "            a[a$site == st, paste(pll, \".resolucion\", sep=\"\")] <- \"hour\"  \n",
    "            a[a$site == st, paste(pll, \".count\", sep=\"\")] <- max(df$observation_count)\n",
    "            a[a$site == st, paste(pll, \".start_dt\", sep=\"\")] <- date(min(df$date_start))\n",
    "            a[a$site == st, paste(pll, \".end_dt\", sep=\"\")] <- date(max(df$date_end))\n",
    "            \n",
    "        } else if (\"hour8\" %in% (sites.info[sites.info$site == st &\n",
    "                                           sites.info$variable == pll,]$period)) {\n",
    "            \n",
    "            df <- sites.info[sites.info$site == st &\n",
    "                             sites.info$variable == pll &\n",
    "                             sites.info$period == \"hour8\",]\n",
    "         \n",
    "            a[a$site == st, paste(pll, \".resolucion\", sep=\"\")] <- \"hour8\"    \n",
    "            a[a$site == st, paste(pll, \".count\", sep=\"\")] <- max(df$observation_count)\n",
    "            a[a$site == st, paste(pll, \".start_dt\", sep=\"\")] <- date(min(df$date_start))\n",
    "            a[a$site == st, paste(pll, \".end_dt\", sep=\"\")] <- date(max(df$date_end))\n",
    "            \n",
    "        } else if (\"day\" %in% (sites.info[sites.info$site == st &\n",
    "                                         sites.info$variable == pll,]$period)) {\n",
    "            \n",
    "            df <- sites.info[sites.info$site == st &\n",
    "                             sites.info$variable == pll &\n",
    "                             sites.info$period == \"day\",]\n",
    "         \n",
    "            a[a$site == st, paste(pll, \".resolucion\", sep=\"\")] <- \"day\"\n",
    "            a[a$site == st, paste(pll, \".count\", sep=\"\")] <- max(df$observation_count)\n",
    "            a[a$site == st, paste(pll, \".start_dt\", sep=\"\")] <- date(min(df$date_start))\n",
    "            a[a$site == st, paste(pll, \".end_dt\", sep=\"\")] <- date(max(df$date_end))\n",
    "            \n",
    "        } else if (\"daymax\" %in% (sites.info[sites.info$site == st &\n",
    "                                            sites.info$variable == pll,]$period)) {\n",
    "            \n",
    "            df <- sites.info[sites.info$site == st &\n",
    "                             sites.info$variable == pll &\n",
    "                             sites.info$period == \"daymax\",]\n",
    "         \n",
    "            a[a$site == st, paste(pll, \".resolucion\", sep=\"\")] <- \"daymax\"    \n",
    "            a[a$site == st, paste(pll, \".count\", sep=\"\")] <- max(df$observation_count)\n",
    "            a[a$site == st, paste(pll, \".start_dt\", sep=\"\")] <- date(min(df$date_start))\n",
    "            a[a$site == st, paste(pll, \".end_dt\", sep=\"\")] <- date(max(df$date_end))\n",
    "            \n",
    "        }\n",
    "    }\n",
    "}"
   ]
  },
  {
   "cell_type": "code",
   "execution_count": 11,
   "metadata": {},
   "outputs": [],
   "source": [
    "sites.geo <- sites.100mil %>%\n",
    "    select(\"Municipio\", \"Población\", \n",
    "           \"Estación.tráfico\", \"Código.estación\") %>%\n",
    "    rename(site = \"Código.estación\",)"
   ]
  },
  {
   "cell_type": "code",
   "execution_count": 12,
   "metadata": {},
   "outputs": [
    {
     "data": {
      "text/html": [
       "<table>\n",
       "<caption>A data.frame: 6 × 4</caption>\n",
       "<thead>\n",
       "\t<tr><th></th><th scope=col>Municipio</th><th scope=col>Población</th><th scope=col>Estación.tráfico</th><th scope=col>site</th></tr>\n",
       "\t<tr><th></th><th scope=col>&lt;chr&gt;</th><th scope=col>&lt;dbl&gt;</th><th scope=col>&lt;chr&gt;</th><th scope=col>&lt;chr&gt;</th></tr>\n",
       "</thead>\n",
       "<tbody>\n",
       "\t<tr><th scope=row>1</th><td>A Coruña         </td><td>245711</td><td>CORLAB 1         </td><td>es1138a</td></tr>\n",
       "\t<tr><th scope=row>2</th><td>Alcalá de Henares</td><td>195649</td><td>Alcalá de Henares</td><td>es1563a</td></tr>\n",
       "\t<tr><th scope=row>3</th><td>Alcobendas       </td><td>117040</td><td>Alcobendas       </td><td>es1564a</td></tr>\n",
       "\t<tr><th scope=row>4</th><td>Alicante         </td><td>334887</td><td>Florida-Babel    </td><td>es1915a</td></tr>\n",
       "\t<tr><th scope=row>5</th><td>Alicante         </td><td>334888</td><td>ALACANT-EL PLÁ   </td><td>es1635a</td></tr>\n",
       "\t<tr><th scope=row>6</th><td>Almería          </td><td>198533</td><td>MEDITERRÁNEO     </td><td>es1393a</td></tr>\n",
       "</tbody>\n",
       "</table>\n"
      ],
      "text/latex": [
       "A data.frame: 6 × 4\n",
       "\\begin{tabular}{r|llll}\n",
       "  & Municipio & Población & Estación.tráfico & site\\\\\n",
       "  & <chr> & <dbl> & <chr> & <chr>\\\\\n",
       "\\hline\n",
       "\t1 & A Coruña          & 245711 & CORLAB 1          & es1138a\\\\\n",
       "\t2 & Alcalá de Henares & 195649 & Alcalá de Henares & es1563a\\\\\n",
       "\t3 & Alcobendas        & 117040 & Alcobendas        & es1564a\\\\\n",
       "\t4 & Alicante          & 334887 & Florida-Babel     & es1915a\\\\\n",
       "\t5 & Alicante          & 334888 & ALACANT-EL PLÁ    & es1635a\\\\\n",
       "\t6 & Almería           & 198533 & MEDITERRÁNEO      & es1393a\\\\\n",
       "\\end{tabular}\n"
      ],
      "text/markdown": [
       "\n",
       "A data.frame: 6 × 4\n",
       "\n",
       "| <!--/--> | Municipio &lt;chr&gt; | Población &lt;dbl&gt; | Estación.tráfico &lt;chr&gt; | site &lt;chr&gt; |\n",
       "|---|---|---|---|---|\n",
       "| 1 | A Coruña          | 245711 | CORLAB 1          | es1138a |\n",
       "| 2 | Alcalá de Henares | 195649 | Alcalá de Henares | es1563a |\n",
       "| 3 | Alcobendas        | 117040 | Alcobendas        | es1564a |\n",
       "| 4 | Alicante          | 334887 | Florida-Babel     | es1915a |\n",
       "| 5 | Alicante          | 334888 | ALACANT-EL PLÁ    | es1635a |\n",
       "| 6 | Almería           | 198533 | MEDITERRÁNEO      | es1393a |\n",
       "\n"
      ],
      "text/plain": [
       "  Municipio         Población Estación.tráfico  site   \n",
       "1 A Coruña          245711    CORLAB 1          es1138a\n",
       "2 Alcalá de Henares 195649    Alcalá de Henares es1563a\n",
       "3 Alcobendas        117040    Alcobendas        es1564a\n",
       "4 Alicante          334887    Florida-Babel     es1915a\n",
       "5 Alicante          334888    ALACANT-EL PLÁ    es1635a\n",
       "6 Almería           198533    MEDITERRÁNEO      es1393a"
      ]
     },
     "metadata": {},
     "output_type": "display_data"
    }
   ],
   "source": [
    "head(sites.geo)"
   ]
  },
  {
   "cell_type": "code",
   "execution_count": 13,
   "metadata": {},
   "outputs": [],
   "source": [
    "sitesAQ <- merge(x = sites.geo, y = a, by = \"site\", all.y = TRUE)\n",
    "sitesAQ <- cbind(sitesAQ[, c(\"Municipio\", \"Población\")], \n",
    "                 sitesAQ[, -which(names(sitesAQ) %in% c(\"Municipio\", \"Población\"))])"
   ]
  },
  {
   "cell_type": "code",
   "execution_count": 14,
   "metadata": {},
   "outputs": [
    {
     "data": {
      "text/html": [
       "<table>\n",
       "<caption>A data.frame: 6 × 24</caption>\n",
       "<thead>\n",
       "\t<tr><th></th><th scope=col>Municipio</th><th scope=col>Población</th><th scope=col>site</th><th scope=col>Estación.tráfico</th><th scope=col>no2.resolucion</th><th scope=col>no2.count</th><th scope=col>no2.start_dt</th><th scope=col>no2.end_dt</th><th scope=col>no.resolucion</th><th scope=col>no.count</th><th scope=col>⋯</th><th scope=col>o3.start_dt</th><th scope=col>o3.end_dt</th><th scope=col>pm10.resolucion</th><th scope=col>pm10.count</th><th scope=col>pm10.start_dt</th><th scope=col>pm10.end_dt</th><th scope=col>pm2.5.resolucion</th><th scope=col>pm2.5.count</th><th scope=col>pm2.5.start_dt</th><th scope=col>pm2.5.end_dt</th></tr>\n",
       "\t<tr><th></th><th scope=col>&lt;chr&gt;</th><th scope=col>&lt;dbl&gt;</th><th scope=col>&lt;chr&gt;</th><th scope=col>&lt;chr&gt;</th><th scope=col>&lt;chr&gt;</th><th scope=col>&lt;dbl&gt;</th><th scope=col>&lt;date&gt;</th><th scope=col>&lt;date&gt;</th><th scope=col>&lt;chr&gt;</th><th scope=col>&lt;dbl&gt;</th><th scope=col>⋯</th><th scope=col>&lt;date&gt;</th><th scope=col>&lt;date&gt;</th><th scope=col>&lt;chr&gt;</th><th scope=col>&lt;dbl&gt;</th><th scope=col>&lt;date&gt;</th><th scope=col>&lt;date&gt;</th><th scope=col>&lt;chr&gt;</th><th scope=col>&lt;dbl&gt;</th><th scope=col>&lt;date&gt;</th><th scope=col>&lt;date&gt;</th></tr>\n",
       "</thead>\n",
       "<tbody>\n",
       "\t<tr><th scope=row>36</th><td>Alcalá de Henares</td><td> 195649</td><td>es1563a</td><td>Alcalá de Henares     </td><td>hour</td><td>103707</td><td>2001-01-01</td><td>2012-12-31</td><td>hour</td><td>103741</td><td>⋯</td><td>2001-01-01</td><td>2012-12-31</td><td>hour</td><td>103545</td><td>2001-01-02</td><td>2012-12-31</td><td>NA  </td><td>  NA</td><td>NA</td><td>NA</td></tr>\n",
       "\t<tr><th scope=row>37</th><td>Alcobendas       </td><td> 117040</td><td>es1564a</td><td>Alcobendas            </td><td>hour</td><td>103884</td><td>2001-01-01</td><td>2012-12-31</td><td>hour</td><td>103888</td><td>⋯</td><td>2001-01-01</td><td>2012-12-31</td><td>hour</td><td>103336</td><td>2001-01-02</td><td>2012-12-31</td><td>NA  </td><td>  NA</td><td>NA</td><td>NA</td></tr>\n",
       "\t<tr><th scope=row>46</th><td>Alicante         </td><td> 334888</td><td>es1635a</td><td>ALACANT-EL PLÁ        </td><td>hour</td><td> 73990</td><td>2003-01-01</td><td>2012-12-31</td><td>hour</td><td> 73989</td><td>⋯</td><td>2002-09-10</td><td>2012-12-31</td><td>day </td><td>  2621</td><td>2003-01-01</td><td>2012-12-31</td><td>hour</td><td>8483</td><td>2009-01-01</td><td>2009-12-31</td></tr>\n",
       "\t<tr><th scope=row>25</th><td>Almería          </td><td> 198533</td><td>es1393a</td><td>MEDITERRÁNEO          </td><td>hour</td><td> 65734</td><td>2005-01-01</td><td>2012-12-31</td><td>hour</td><td> 65722</td><td>⋯</td><td>2002-01-01</td><td>2012-12-31</td><td>hour</td><td> 16540</td><td>2005-01-01</td><td>2006-12-31</td><td>day </td><td> 462</td><td>2009-01-05</td><td>2012-12-15</td></tr>\n",
       "\t<tr><th scope=row>27</th><td>Barcelona        </td><td>1636763</td><td>es1438a</td><td>Barcelona (l'Eixample)</td><td>hour</td><td>101289</td><td>1997-01-01</td><td>2012-12-31</td><td>hour</td><td> 83143</td><td>⋯</td><td>1997-01-01</td><td>2012-12-31</td><td>day </td><td>  1673</td><td>2002-01-16</td><td>2012-12-31</td><td>NA  </td><td>  NA</td><td>NA</td><td>NA</td></tr>\n",
       "\t<tr><th scope=row>29</th><td>Barcelona        </td><td>1636762</td><td>es1480a</td><td>Gràcia-Sant Gervasi   </td><td>hour</td><td>116848</td><td>1997-11-04</td><td>2012-12-31</td><td>hour</td><td>104616</td><td>⋯</td><td>1997-11-04</td><td>2012-12-31</td><td>day </td><td>  1967</td><td>2002-01-02</td><td>2012-12-31</td><td>NA  </td><td>  NA</td><td>NA</td><td>NA</td></tr>\n",
       "</tbody>\n",
       "</table>\n"
      ],
      "text/latex": [
       "A data.frame: 6 × 24\n",
       "\\begin{tabular}{r|lllllllllllllllllllll}\n",
       "  & Municipio & Población & site & Estación.tráfico & no2.resolucion & no2.count & no2.start\\_dt & no2.end\\_dt & no.resolucion & no.count & ⋯ & o3.start\\_dt & o3.end\\_dt & pm10.resolucion & pm10.count & pm10.start\\_dt & pm10.end\\_dt & pm2.5.resolucion & pm2.5.count & pm2.5.start\\_dt & pm2.5.end\\_dt\\\\\n",
       "  & <chr> & <dbl> & <chr> & <chr> & <chr> & <dbl> & <date> & <date> & <chr> & <dbl> & ⋯ & <date> & <date> & <chr> & <dbl> & <date> & <date> & <chr> & <dbl> & <date> & <date>\\\\\n",
       "\\hline\n",
       "\t36 & Alcalá de Henares &  195649 & es1563a & Alcalá de Henares      & hour & 103707 & 2001-01-01 & 2012-12-31 & hour & 103741 & ⋯ & 2001-01-01 & 2012-12-31 & hour & 103545 & 2001-01-02 & 2012-12-31 & NA   &   NA & NA & NA\\\\\n",
       "\t37 & Alcobendas        &  117040 & es1564a & Alcobendas             & hour & 103884 & 2001-01-01 & 2012-12-31 & hour & 103888 & ⋯ & 2001-01-01 & 2012-12-31 & hour & 103336 & 2001-01-02 & 2012-12-31 & NA   &   NA & NA & NA\\\\\n",
       "\t46 & Alicante          &  334888 & es1635a & ALACANT-EL PLÁ         & hour &  73990 & 2003-01-01 & 2012-12-31 & hour &  73989 & ⋯ & 2002-09-10 & 2012-12-31 & day  &   2621 & 2003-01-01 & 2012-12-31 & hour & 8483 & 2009-01-01 & 2009-12-31\\\\\n",
       "\t25 & Almería           &  198533 & es1393a & MEDITERRÁNEO           & hour &  65734 & 2005-01-01 & 2012-12-31 & hour &  65722 & ⋯ & 2002-01-01 & 2012-12-31 & hour &  16540 & 2005-01-01 & 2006-12-31 & day  &  462 & 2009-01-05 & 2012-12-15\\\\\n",
       "\t27 & Barcelona         & 1636763 & es1438a & Barcelona (l'Eixample) & hour & 101289 & 1997-01-01 & 2012-12-31 & hour &  83143 & ⋯ & 1997-01-01 & 2012-12-31 & day  &   1673 & 2002-01-16 & 2012-12-31 & NA   &   NA & NA & NA\\\\\n",
       "\t29 & Barcelona         & 1636762 & es1480a & Gràcia-Sant Gervasi    & hour & 116848 & 1997-11-04 & 2012-12-31 & hour & 104616 & ⋯ & 1997-11-04 & 2012-12-31 & day  &   1967 & 2002-01-02 & 2012-12-31 & NA   &   NA & NA & NA\\\\\n",
       "\\end{tabular}\n"
      ],
      "text/markdown": [
       "\n",
       "A data.frame: 6 × 24\n",
       "\n",
       "| <!--/--> | Municipio &lt;chr&gt; | Población &lt;dbl&gt; | site &lt;chr&gt; | Estación.tráfico &lt;chr&gt; | no2.resolucion &lt;chr&gt; | no2.count &lt;dbl&gt; | no2.start_dt &lt;date&gt; | no2.end_dt &lt;date&gt; | no.resolucion &lt;chr&gt; | no.count &lt;dbl&gt; | ⋯ ⋯ | o3.start_dt &lt;date&gt; | o3.end_dt &lt;date&gt; | pm10.resolucion &lt;chr&gt; | pm10.count &lt;dbl&gt; | pm10.start_dt &lt;date&gt; | pm10.end_dt &lt;date&gt; | pm2.5.resolucion &lt;chr&gt; | pm2.5.count &lt;dbl&gt; | pm2.5.start_dt &lt;date&gt; | pm2.5.end_dt &lt;date&gt; |\n",
       "|---|---|---|---|---|---|---|---|---|---|---|---|---|---|---|---|---|---|---|---|---|---|\n",
       "| 36 | Alcalá de Henares |  195649 | es1563a | Alcalá de Henares      | hour | 103707 | 2001-01-01 | 2012-12-31 | hour | 103741 | ⋯ | 2001-01-01 | 2012-12-31 | hour | 103545 | 2001-01-02 | 2012-12-31 | NA   |   NA | NA | NA |\n",
       "| 37 | Alcobendas        |  117040 | es1564a | Alcobendas             | hour | 103884 | 2001-01-01 | 2012-12-31 | hour | 103888 | ⋯ | 2001-01-01 | 2012-12-31 | hour | 103336 | 2001-01-02 | 2012-12-31 | NA   |   NA | NA | NA |\n",
       "| 46 | Alicante          |  334888 | es1635a | ALACANT-EL PLÁ         | hour |  73990 | 2003-01-01 | 2012-12-31 | hour |  73989 | ⋯ | 2002-09-10 | 2012-12-31 | day  |   2621 | 2003-01-01 | 2012-12-31 | hour | 8483 | 2009-01-01 | 2009-12-31 |\n",
       "| 25 | Almería           |  198533 | es1393a | MEDITERRÁNEO           | hour |  65734 | 2005-01-01 | 2012-12-31 | hour |  65722 | ⋯ | 2002-01-01 | 2012-12-31 | hour |  16540 | 2005-01-01 | 2006-12-31 | day  |  462 | 2009-01-05 | 2012-12-15 |\n",
       "| 27 | Barcelona         | 1636763 | es1438a | Barcelona (l'Eixample) | hour | 101289 | 1997-01-01 | 2012-12-31 | hour |  83143 | ⋯ | 1997-01-01 | 2012-12-31 | day  |   1673 | 2002-01-16 | 2012-12-31 | NA   |   NA | NA | NA |\n",
       "| 29 | Barcelona         | 1636762 | es1480a | Gràcia-Sant Gervasi    | hour | 116848 | 1997-11-04 | 2012-12-31 | hour | 104616 | ⋯ | 1997-11-04 | 2012-12-31 | day  |   1967 | 2002-01-02 | 2012-12-31 | NA   |   NA | NA | NA |\n",
       "\n"
      ],
      "text/plain": [
       "   Municipio         Población site    Estación.tráfico       no2.resolucion\n",
       "36 Alcalá de Henares  195649   es1563a Alcalá de Henares      hour          \n",
       "37 Alcobendas         117040   es1564a Alcobendas             hour          \n",
       "46 Alicante           334888   es1635a ALACANT-EL PLÁ         hour          \n",
       "25 Almería            198533   es1393a MEDITERRÁNEO           hour          \n",
       "27 Barcelona         1636763   es1438a Barcelona (l'Eixample) hour          \n",
       "29 Barcelona         1636762   es1480a Gràcia-Sant Gervasi    hour          \n",
       "   no2.count no2.start_dt no2.end_dt no.resolucion no.count ⋯ o3.start_dt\n",
       "36 103707    2001-01-01   2012-12-31 hour          103741   ⋯ 2001-01-01 \n",
       "37 103884    2001-01-01   2012-12-31 hour          103888   ⋯ 2001-01-01 \n",
       "46  73990    2003-01-01   2012-12-31 hour           73989   ⋯ 2002-09-10 \n",
       "25  65734    2005-01-01   2012-12-31 hour           65722   ⋯ 2002-01-01 \n",
       "27 101289    1997-01-01   2012-12-31 hour           83143   ⋯ 1997-01-01 \n",
       "29 116848    1997-11-04   2012-12-31 hour          104616   ⋯ 1997-11-04 \n",
       "   o3.end_dt  pm10.resolucion pm10.count pm10.start_dt pm10.end_dt\n",
       "36 2012-12-31 hour            103545     2001-01-02    2012-12-31 \n",
       "37 2012-12-31 hour            103336     2001-01-02    2012-12-31 \n",
       "46 2012-12-31 day               2621     2003-01-01    2012-12-31 \n",
       "25 2012-12-31 hour             16540     2005-01-01    2006-12-31 \n",
       "27 2012-12-31 day               1673     2002-01-16    2012-12-31 \n",
       "29 2012-12-31 day               1967     2002-01-02    2012-12-31 \n",
       "   pm2.5.resolucion pm2.5.count pm2.5.start_dt pm2.5.end_dt\n",
       "36 NA                 NA        <NA>           <NA>        \n",
       "37 NA                 NA        <NA>           <NA>        \n",
       "46 hour             8483        2009-01-01     2009-12-31  \n",
       "25 day               462        2009-01-05     2012-12-15  \n",
       "27 NA                 NA        <NA>           <NA>        \n",
       "29 NA                 NA        <NA>           <NA>        "
      ]
     },
     "metadata": {},
     "output_type": "display_data"
    }
   ],
   "source": [
    "head(sitesAQ[order(sitesAQ$Municipio),])"
   ]
  },
  {
   "cell_type": "code",
   "execution_count": 15,
   "metadata": {},
   "outputs": [],
   "source": [
    "resum.table[[\"traffic-urban-polutants\"]] <- sitesAQ"
   ]
  },
  {
   "cell_type": "markdown",
   "metadata": {},
   "source": [
    "## Resumen estaciones "
   ]
  },
  {
   "cell_type": "code",
   "execution_count": 16,
   "metadata": {},
   "outputs": [],
   "source": [
    "sitesMto <- read.csv(\"../data/csv/sitesMto.csv\") %>%\n",
    "                select(station, code, dist, siteAQ)"
   ]
  },
  {
   "cell_type": "code",
   "execution_count": 17,
   "metadata": {},
   "outputs": [],
   "source": [
    "cd <- levels(as.factor(sitesMto$code))\n",
    "\n",
    "for (i in 1:length(cd)) {\n",
    "    if (nrow(sitesMto[sitesMto$code == cd[i], ]) > 1) {\n",
    "        sitesMto[sitesMto$code == cd[i], \"Repetido\"] <- i\n",
    "    }\n",
    "}"
   ]
  },
  {
   "cell_type": "code",
   "execution_count": 18,
   "metadata": {},
   "outputs": [
    {
     "data": {
      "text/html": [
       "93"
      ],
      "text/latex": [
       "93"
      ],
      "text/markdown": [
       "93"
      ],
      "text/plain": [
       "[1] 93"
      ]
     },
     "metadata": {},
     "output_type": "display_data"
    }
   ],
   "source": [
    "length(sitesMto$code) - length(levels(as.factor(sitesMto$code)))"
   ]
  },
  {
   "cell_type": "code",
   "execution_count": 19,
   "metadata": {},
   "outputs": [
    {
     "data": {
      "text/html": [
       "<table>\n",
       "<caption>A data.frame: 6 × 5</caption>\n",
       "<thead>\n",
       "\t<tr><th></th><th scope=col>station</th><th scope=col>code</th><th scope=col>dist</th><th scope=col>siteAQ</th><th scope=col>Repetido</th></tr>\n",
       "\t<tr><th></th><th scope=col>&lt;chr&gt;</th><th scope=col>&lt;chr&gt;</th><th scope=col>&lt;dbl&gt;</th><th scope=col>&lt;chr&gt;</th><th scope=col>&lt;int&gt;</th></tr>\n",
       "</thead>\n",
       "<tbody>\n",
       "\t<tr><th scope=row>1</th><td>BILBAO   </td><td>080250-99999</td><td> 5.464009</td><td>es0041a</td><td>10</td></tr>\n",
       "\t<tr><th scope=row>2</th><td>VITORIA  </td><td>080800-99999</td><td>45.503738</td><td>es0041a</td><td>20</td></tr>\n",
       "\t<tr><th scope=row>3</th><td>SANTANDER</td><td>080210-99999</td><td>73.137040</td><td>es0041a</td><td> 8</td></tr>\n",
       "\t<tr><th scope=row>4</th><td>BILBAO   </td><td>080250-99999</td><td> 5.363540</td><td>es0110a</td><td>10</td></tr>\n",
       "\t<tr><th scope=row>5</th><td>VITORIA  </td><td>080800-99999</td><td>50.995824</td><td>es0110a</td><td>20</td></tr>\n",
       "\t<tr><th scope=row>6</th><td>SANTANDER</td><td>080230-99999</td><td>69.437339</td><td>es0110a</td><td> 9</td></tr>\n",
       "</tbody>\n",
       "</table>\n"
      ],
      "text/latex": [
       "A data.frame: 6 × 5\n",
       "\\begin{tabular}{r|lllll}\n",
       "  & station & code & dist & siteAQ & Repetido\\\\\n",
       "  & <chr> & <chr> & <dbl> & <chr> & <int>\\\\\n",
       "\\hline\n",
       "\t1 & BILBAO    & 080250-99999 &  5.464009 & es0041a & 10\\\\\n",
       "\t2 & VITORIA   & 080800-99999 & 45.503738 & es0041a & 20\\\\\n",
       "\t3 & SANTANDER & 080210-99999 & 73.137040 & es0041a &  8\\\\\n",
       "\t4 & BILBAO    & 080250-99999 &  5.363540 & es0110a & 10\\\\\n",
       "\t5 & VITORIA   & 080800-99999 & 50.995824 & es0110a & 20\\\\\n",
       "\t6 & SANTANDER & 080230-99999 & 69.437339 & es0110a &  9\\\\\n",
       "\\end{tabular}\n"
      ],
      "text/markdown": [
       "\n",
       "A data.frame: 6 × 5\n",
       "\n",
       "| <!--/--> | station &lt;chr&gt; | code &lt;chr&gt; | dist &lt;dbl&gt; | siteAQ &lt;chr&gt; | Repetido &lt;int&gt; |\n",
       "|---|---|---|---|---|---|\n",
       "| 1 | BILBAO    | 080250-99999 |  5.464009 | es0041a | 10 |\n",
       "| 2 | VITORIA   | 080800-99999 | 45.503738 | es0041a | 20 |\n",
       "| 3 | SANTANDER | 080210-99999 | 73.137040 | es0041a |  8 |\n",
       "| 4 | BILBAO    | 080250-99999 |  5.363540 | es0110a | 10 |\n",
       "| 5 | VITORIA   | 080800-99999 | 50.995824 | es0110a | 20 |\n",
       "| 6 | SANTANDER | 080230-99999 | 69.437339 | es0110a |  9 |\n",
       "\n"
      ],
      "text/plain": [
       "  station   code         dist      siteAQ  Repetido\n",
       "1 BILBAO    080250-99999  5.464009 es0041a 10      \n",
       "2 VITORIA   080800-99999 45.503738 es0041a 20      \n",
       "3 SANTANDER 080210-99999 73.137040 es0041a  8      \n",
       "4 BILBAO    080250-99999  5.363540 es0110a 10      \n",
       "5 VITORIA   080800-99999 50.995824 es0110a 20      \n",
       "6 SANTANDER 080230-99999 69.437339 es0110a  9      "
      ]
     },
     "metadata": {},
     "output_type": "display_data"
    }
   ],
   "source": [
    "head(sitesMto)"
   ]
  },
  {
   "cell_type": "code",
   "execution_count": 20,
   "metadata": {},
   "outputs": [],
   "source": [
    "resum.Mto <- merge(x = sitesAQ %>%\n",
    "                       select(Municipio, Población, site, Estación.tráfico),\n",
    "                   y=sitesMto,\n",
    "                   by.x=\"site\", by.y=\"siteAQ\", all.y=TRUE\n",
    "                  )\n",
    "\n",
    "resum.Mto <- cbind(resum.Mto[, c(\"Municipio\", \"Población\")], resum.Mto[, -which(names(resum.Mto) %in% c(\"Municipio\", \"Población\"))])"
   ]
  },
  {
   "cell_type": "code",
   "execution_count": 21,
   "metadata": {},
   "outputs": [
    {
     "data": {
      "text/html": [
       "<table>\n",
       "<caption>A data.frame: 6 × 8</caption>\n",
       "<thead>\n",
       "\t<tr><th></th><th scope=col>Municipio</th><th scope=col>Población</th><th scope=col>site</th><th scope=col>Estación.tráfico</th><th scope=col>station</th><th scope=col>code</th><th scope=col>dist</th><th scope=col>Repetido</th></tr>\n",
       "\t<tr><th></th><th scope=col>&lt;chr&gt;</th><th scope=col>&lt;dbl&gt;</th><th scope=col>&lt;chr&gt;</th><th scope=col>&lt;chr&gt;</th><th scope=col>&lt;chr&gt;</th><th scope=col>&lt;chr&gt;</th><th scope=col>&lt;dbl&gt;</th><th scope=col>&lt;int&gt;</th></tr>\n",
       "</thead>\n",
       "<tbody>\n",
       "\t<tr><th scope=row>1</th><td>Bilbao</td><td>346843</td><td>es0041a</td><td>María Diaz de Haro</td><td>BILBAO   </td><td>080250-99999</td><td> 5.464009</td><td>10</td></tr>\n",
       "\t<tr><th scope=row>2</th><td>Bilbao</td><td>346843</td><td>es0041a</td><td>María Diaz de Haro</td><td>VITORIA  </td><td>080800-99999</td><td>45.503738</td><td>20</td></tr>\n",
       "\t<tr><th scope=row>3</th><td>Bilbao</td><td>346843</td><td>es0041a</td><td>María Diaz de Haro</td><td>SANTANDER</td><td>080210-99999</td><td>73.137040</td><td> 8</td></tr>\n",
       "\t<tr><th scope=row>4</th><td>Bilbao</td><td> 24350</td><td>es0110a</td><td>Erandio           </td><td>BILBAO   </td><td>080250-99999</td><td> 5.363540</td><td>10</td></tr>\n",
       "\t<tr><th scope=row>5</th><td>Bilbao</td><td> 24350</td><td>es0110a</td><td>Erandio           </td><td>VITORIA  </td><td>080800-99999</td><td>50.995824</td><td>20</td></tr>\n",
       "\t<tr><th scope=row>6</th><td>Bilbao</td><td> 24350</td><td>es0110a</td><td>Erandio           </td><td>SANTANDER</td><td>080230-99999</td><td>69.437339</td><td> 9</td></tr>\n",
       "</tbody>\n",
       "</table>\n"
      ],
      "text/latex": [
       "A data.frame: 6 × 8\n",
       "\\begin{tabular}{r|llllllll}\n",
       "  & Municipio & Población & site & Estación.tráfico & station & code & dist & Repetido\\\\\n",
       "  & <chr> & <dbl> & <chr> & <chr> & <chr> & <chr> & <dbl> & <int>\\\\\n",
       "\\hline\n",
       "\t1 & Bilbao & 346843 & es0041a & María Diaz de Haro & BILBAO    & 080250-99999 &  5.464009 & 10\\\\\n",
       "\t2 & Bilbao & 346843 & es0041a & María Diaz de Haro & VITORIA   & 080800-99999 & 45.503738 & 20\\\\\n",
       "\t3 & Bilbao & 346843 & es0041a & María Diaz de Haro & SANTANDER & 080210-99999 & 73.137040 &  8\\\\\n",
       "\t4 & Bilbao &  24350 & es0110a & Erandio            & BILBAO    & 080250-99999 &  5.363540 & 10\\\\\n",
       "\t5 & Bilbao &  24350 & es0110a & Erandio            & VITORIA   & 080800-99999 & 50.995824 & 20\\\\\n",
       "\t6 & Bilbao &  24350 & es0110a & Erandio            & SANTANDER & 080230-99999 & 69.437339 &  9\\\\\n",
       "\\end{tabular}\n"
      ],
      "text/markdown": [
       "\n",
       "A data.frame: 6 × 8\n",
       "\n",
       "| <!--/--> | Municipio &lt;chr&gt; | Población &lt;dbl&gt; | site &lt;chr&gt; | Estación.tráfico &lt;chr&gt; | station &lt;chr&gt; | code &lt;chr&gt; | dist &lt;dbl&gt; | Repetido &lt;int&gt; |\n",
       "|---|---|---|---|---|---|---|---|---|\n",
       "| 1 | Bilbao | 346843 | es0041a | María Diaz de Haro | BILBAO    | 080250-99999 |  5.464009 | 10 |\n",
       "| 2 | Bilbao | 346843 | es0041a | María Diaz de Haro | VITORIA   | 080800-99999 | 45.503738 | 20 |\n",
       "| 3 | Bilbao | 346843 | es0041a | María Diaz de Haro | SANTANDER | 080210-99999 | 73.137040 |  8 |\n",
       "| 4 | Bilbao |  24350 | es0110a | Erandio            | BILBAO    | 080250-99999 |  5.363540 | 10 |\n",
       "| 5 | Bilbao |  24350 | es0110a | Erandio            | VITORIA   | 080800-99999 | 50.995824 | 20 |\n",
       "| 6 | Bilbao |  24350 | es0110a | Erandio            | SANTANDER | 080230-99999 | 69.437339 |  9 |\n",
       "\n"
      ],
      "text/plain": [
       "  Municipio Población site    Estación.tráfico   station   code        \n",
       "1 Bilbao    346843    es0041a María Diaz de Haro BILBAO    080250-99999\n",
       "2 Bilbao    346843    es0041a María Diaz de Haro VITORIA   080800-99999\n",
       "3 Bilbao    346843    es0041a María Diaz de Haro SANTANDER 080210-99999\n",
       "4 Bilbao     24350    es0110a Erandio            BILBAO    080250-99999\n",
       "5 Bilbao     24350    es0110a Erandio            VITORIA   080800-99999\n",
       "6 Bilbao     24350    es0110a Erandio            SANTANDER 080230-99999\n",
       "  dist      Repetido\n",
       "1  5.464009 10      \n",
       "2 45.503738 20      \n",
       "3 73.137040  8      \n",
       "4  5.363540 10      \n",
       "5 50.995824 20      \n",
       "6 69.437339  9      "
      ]
     },
     "metadata": {},
     "output_type": "display_data"
    }
   ],
   "source": [
    "head(resum.Mto)"
   ]
  },
  {
   "cell_type": "code",
   "execution_count": 22,
   "metadata": {},
   "outputs": [],
   "source": [
    "resum.table[[\"estaciones meteo\"]] <- resum.Mto"
   ]
  },
  {
   "cell_type": "markdown",
   "metadata": {},
   "source": [
    "# Relacion NN de las estaciones\n",
    "\n",
    "Estudio de las estaciones de datos en funcion de la cantidad de datos disponibles, la cantidad de `NANs` en los datos y la relevancia dentro del estudio"
   ]
  },
  {
   "cell_type": "markdown",
   "metadata": {},
   "source": [
    "## Lectura de los datos"
   ]
  },
  {
   "cell_type": "code",
   "execution_count": 23,
   "metadata": {},
   "outputs": [
    {
     "data": {
      "text/html": [
       "<table>\n",
       "<caption>A data.frame: 6 × 25</caption>\n",
       "<thead>\n",
       "\t<tr><th></th><th scope=col>Municipio</th><th scope=col>siteAQ</th><th scope=col>countAQ</th><th scope=col>siteMto</th><th scope=col>dist</th><th scope=col>countMto</th><th scope=col>ws</th><th scope=col>wd</th><th scope=col>air_temp</th><th scope=col>atmos_pres</th><th scope=col>⋯</th><th scope=col>cl_2</th><th scope=col>cl_3</th><th scope=col>cl</th><th scope=col>cl_1_height</th><th scope=col>cl_2_height</th><th scope=col>cl_3_height</th><th scope=col>precip_12</th><th scope=col>precip</th><th scope=col>precip_6</th><th scope=col>pwc</th></tr>\n",
       "\t<tr><th></th><th scope=col>&lt;chr&gt;</th><th scope=col>&lt;chr&gt;</th><th scope=col>&lt;int&gt;</th><th scope=col>&lt;chr&gt;</th><th scope=col>&lt;dbl&gt;</th><th scope=col>&lt;int&gt;</th><th scope=col>&lt;dbl&gt;</th><th scope=col>&lt;dbl&gt;</th><th scope=col>&lt;dbl&gt;</th><th scope=col>&lt;dbl&gt;</th><th scope=col>⋯</th><th scope=col>&lt;dbl&gt;</th><th scope=col>&lt;dbl&gt;</th><th scope=col>&lt;dbl&gt;</th><th scope=col>&lt;dbl&gt;</th><th scope=col>&lt;dbl&gt;</th><th scope=col>&lt;dbl&gt;</th><th scope=col>&lt;dbl&gt;</th><th scope=col>&lt;dbl&gt;</th><th scope=col>&lt;dbl&gt;</th><th scope=col>&lt;dbl&gt;</th></tr>\n",
       "</thead>\n",
       "<tbody>\n",
       "\t<tr><th scope=row>1</th><td>Bilbao</td><td>es0041a</td><td> 66515</td><td>080250-99999</td><td> 5.464009</td><td>223729</td><td>0.9999464</td><td>0.7066272</td><td>0.9988736</td><td>0.2520415</td><td>⋯</td><td>0.35383880</td><td>0.1144956622</td><td>0.6121647</td><td>0.5995691</td><td>0.352265464</td><td>0.1144867228</td><td>0.005265299</td><td>0.10210120</td><td>0.005305526</td><td>0.04258724</td></tr>\n",
       "\t<tr><th scope=row>2</th><td>Bilbao</td><td>es0041a</td><td> 66515</td><td>080800-99999</td><td>45.503738</td><td>242582</td><td>0.9998805</td><td>0.7156755</td><td>0.9980172</td><td>0.2310600</td><td>⋯</td><td>0.33002449</td><td>0.0468006695</td><td>0.7187508</td><td>0.7064374</td><td>0.328429150</td><td>0.0467965471</td><td>0.004839601</td><td>0.09352714</td><td>0.004864335</td><td>0.01709937</td></tr>\n",
       "\t<tr><th scope=row>3</th><td>Bilbao</td><td>es0041a</td><td> 66515</td><td>080210-99999</td><td>73.137040</td><td>214667</td><td>0.9998975</td><td>0.7823885</td><td>0.9988913</td><td>0.2556704</td><td>⋯</td><td>0.31474330</td><td>0.0728896384</td><td>0.5931466</td><td>0.5803500</td><td>0.312805415</td><td>0.0728849800</td><td>0.005538811</td><td>0.10531195</td><td>0.005454960</td><td>0.05560240</td></tr>\n",
       "\t<tr><th scope=row>4</th><td>Bilbao</td><td>es0110a</td><td>204740</td><td>080230-99999</td><td>69.437339</td><td> 63175</td><td>0.9987653</td><td>0.9949664</td><td>0.9999209</td><td>0.9994618</td><td>⋯</td><td>0.01218837</td><td>0.0001424614</td><td>0.2994064</td><td>0.2641393</td><td>0.001060546</td><td>0.0001108033</td><td>0.079730906</td><td>0.30516818</td><td>0.146988524</td><td>0.09402454</td></tr>\n",
       "\t<tr><th scope=row>5</th><td>Bilbao</td><td>es0110a</td><td>204740</td><td>080250-99999</td><td> 5.363540</td><td>223729</td><td>0.9999464</td><td>0.7066272</td><td>0.9988736</td><td>0.2520415</td><td>⋯</td><td>0.35383880</td><td>0.1144956622</td><td>0.6121647</td><td>0.5995691</td><td>0.352265464</td><td>0.1144867228</td><td>0.005265299</td><td>0.10210120</td><td>0.005305526</td><td>0.04258724</td></tr>\n",
       "\t<tr><th scope=row>6</th><td>Bilbao</td><td>es0110a</td><td>204740</td><td>080800-99999</td><td>50.995824</td><td>242582</td><td>0.9998805</td><td>0.7156755</td><td>0.9980172</td><td>0.2310600</td><td>⋯</td><td>0.33002449</td><td>0.0468006695</td><td>0.7187508</td><td>0.7064374</td><td>0.328429150</td><td>0.0467965471</td><td>0.004839601</td><td>0.09352714</td><td>0.004864335</td><td>0.01709937</td></tr>\n",
       "</tbody>\n",
       "</table>\n"
      ],
      "text/latex": [
       "A data.frame: 6 × 25\n",
       "\\begin{tabular}{r|lllllllllllllllllllll}\n",
       "  & Municipio & siteAQ & countAQ & siteMto & dist & countMto & ws & wd & air\\_temp & atmos\\_pres & ⋯ & cl\\_2 & cl\\_3 & cl & cl\\_1\\_height & cl\\_2\\_height & cl\\_3\\_height & precip\\_12 & precip & precip\\_6 & pwc\\\\\n",
       "  & <chr> & <chr> & <int> & <chr> & <dbl> & <int> & <dbl> & <dbl> & <dbl> & <dbl> & ⋯ & <dbl> & <dbl> & <dbl> & <dbl> & <dbl> & <dbl> & <dbl> & <dbl> & <dbl> & <dbl>\\\\\n",
       "\\hline\n",
       "\t1 & Bilbao & es0041a &  66515 & 080250-99999 &  5.464009 & 223729 & 0.9999464 & 0.7066272 & 0.9988736 & 0.2520415 & ⋯ & 0.35383880 & 0.1144956622 & 0.6121647 & 0.5995691 & 0.352265464 & 0.1144867228 & 0.005265299 & 0.10210120 & 0.005305526 & 0.04258724\\\\\n",
       "\t2 & Bilbao & es0041a &  66515 & 080800-99999 & 45.503738 & 242582 & 0.9998805 & 0.7156755 & 0.9980172 & 0.2310600 & ⋯ & 0.33002449 & 0.0468006695 & 0.7187508 & 0.7064374 & 0.328429150 & 0.0467965471 & 0.004839601 & 0.09352714 & 0.004864335 & 0.01709937\\\\\n",
       "\t3 & Bilbao & es0041a &  66515 & 080210-99999 & 73.137040 & 214667 & 0.9998975 & 0.7823885 & 0.9988913 & 0.2556704 & ⋯ & 0.31474330 & 0.0728896384 & 0.5931466 & 0.5803500 & 0.312805415 & 0.0728849800 & 0.005538811 & 0.10531195 & 0.005454960 & 0.05560240\\\\\n",
       "\t4 & Bilbao & es0110a & 204740 & 080230-99999 & 69.437339 &  63175 & 0.9987653 & 0.9949664 & 0.9999209 & 0.9994618 & ⋯ & 0.01218837 & 0.0001424614 & 0.2994064 & 0.2641393 & 0.001060546 & 0.0001108033 & 0.079730906 & 0.30516818 & 0.146988524 & 0.09402454\\\\\n",
       "\t5 & Bilbao & es0110a & 204740 & 080250-99999 &  5.363540 & 223729 & 0.9999464 & 0.7066272 & 0.9988736 & 0.2520415 & ⋯ & 0.35383880 & 0.1144956622 & 0.6121647 & 0.5995691 & 0.352265464 & 0.1144867228 & 0.005265299 & 0.10210120 & 0.005305526 & 0.04258724\\\\\n",
       "\t6 & Bilbao & es0110a & 204740 & 080800-99999 & 50.995824 & 242582 & 0.9998805 & 0.7156755 & 0.9980172 & 0.2310600 & ⋯ & 0.33002449 & 0.0468006695 & 0.7187508 & 0.7064374 & 0.328429150 & 0.0467965471 & 0.004839601 & 0.09352714 & 0.004864335 & 0.01709937\\\\\n",
       "\\end{tabular}\n"
      ],
      "text/markdown": [
       "\n",
       "A data.frame: 6 × 25\n",
       "\n",
       "| <!--/--> | Municipio &lt;chr&gt; | siteAQ &lt;chr&gt; | countAQ &lt;int&gt; | siteMto &lt;chr&gt; | dist &lt;dbl&gt; | countMto &lt;int&gt; | ws &lt;dbl&gt; | wd &lt;dbl&gt; | air_temp &lt;dbl&gt; | atmos_pres &lt;dbl&gt; | ⋯ ⋯ | cl_2 &lt;dbl&gt; | cl_3 &lt;dbl&gt; | cl &lt;dbl&gt; | cl_1_height &lt;dbl&gt; | cl_2_height &lt;dbl&gt; | cl_3_height &lt;dbl&gt; | precip_12 &lt;dbl&gt; | precip &lt;dbl&gt; | precip_6 &lt;dbl&gt; | pwc &lt;dbl&gt; |\n",
       "|---|---|---|---|---|---|---|---|---|---|---|---|---|---|---|---|---|---|---|---|---|---|\n",
       "| 1 | Bilbao | es0041a |  66515 | 080250-99999 |  5.464009 | 223729 | 0.9999464 | 0.7066272 | 0.9988736 | 0.2520415 | ⋯ | 0.35383880 | 0.1144956622 | 0.6121647 | 0.5995691 | 0.352265464 | 0.1144867228 | 0.005265299 | 0.10210120 | 0.005305526 | 0.04258724 |\n",
       "| 2 | Bilbao | es0041a |  66515 | 080800-99999 | 45.503738 | 242582 | 0.9998805 | 0.7156755 | 0.9980172 | 0.2310600 | ⋯ | 0.33002449 | 0.0468006695 | 0.7187508 | 0.7064374 | 0.328429150 | 0.0467965471 | 0.004839601 | 0.09352714 | 0.004864335 | 0.01709937 |\n",
       "| 3 | Bilbao | es0041a |  66515 | 080210-99999 | 73.137040 | 214667 | 0.9998975 | 0.7823885 | 0.9988913 | 0.2556704 | ⋯ | 0.31474330 | 0.0728896384 | 0.5931466 | 0.5803500 | 0.312805415 | 0.0728849800 | 0.005538811 | 0.10531195 | 0.005454960 | 0.05560240 |\n",
       "| 4 | Bilbao | es0110a | 204740 | 080230-99999 | 69.437339 |  63175 | 0.9987653 | 0.9949664 | 0.9999209 | 0.9994618 | ⋯ | 0.01218837 | 0.0001424614 | 0.2994064 | 0.2641393 | 0.001060546 | 0.0001108033 | 0.079730906 | 0.30516818 | 0.146988524 | 0.09402454 |\n",
       "| 5 | Bilbao | es0110a | 204740 | 080250-99999 |  5.363540 | 223729 | 0.9999464 | 0.7066272 | 0.9988736 | 0.2520415 | ⋯ | 0.35383880 | 0.1144956622 | 0.6121647 | 0.5995691 | 0.352265464 | 0.1144867228 | 0.005265299 | 0.10210120 | 0.005305526 | 0.04258724 |\n",
       "| 6 | Bilbao | es0110a | 204740 | 080800-99999 | 50.995824 | 242582 | 0.9998805 | 0.7156755 | 0.9980172 | 0.2310600 | ⋯ | 0.33002449 | 0.0468006695 | 0.7187508 | 0.7064374 | 0.328429150 | 0.0467965471 | 0.004839601 | 0.09352714 | 0.004864335 | 0.01709937 |\n",
       "\n"
      ],
      "text/plain": [
       "  Municipio siteAQ  countAQ siteMto      dist      countMto ws        wd       \n",
       "1 Bilbao    es0041a  66515  080250-99999  5.464009 223729   0.9999464 0.7066272\n",
       "2 Bilbao    es0041a  66515  080800-99999 45.503738 242582   0.9998805 0.7156755\n",
       "3 Bilbao    es0041a  66515  080210-99999 73.137040 214667   0.9998975 0.7823885\n",
       "4 Bilbao    es0110a 204740  080230-99999 69.437339  63175   0.9987653 0.9949664\n",
       "5 Bilbao    es0110a 204740  080250-99999  5.363540 223729   0.9999464 0.7066272\n",
       "6 Bilbao    es0110a 204740  080800-99999 50.995824 242582   0.9998805 0.7156755\n",
       "  air_temp  atmos_pres ⋯ cl_2       cl_3         cl        cl_1_height\n",
       "1 0.9988736 0.2520415  ⋯ 0.35383880 0.1144956622 0.6121647 0.5995691  \n",
       "2 0.9980172 0.2310600  ⋯ 0.33002449 0.0468006695 0.7187508 0.7064374  \n",
       "3 0.9988913 0.2556704  ⋯ 0.31474330 0.0728896384 0.5931466 0.5803500  \n",
       "4 0.9999209 0.9994618  ⋯ 0.01218837 0.0001424614 0.2994064 0.2641393  \n",
       "5 0.9988736 0.2520415  ⋯ 0.35383880 0.1144956622 0.6121647 0.5995691  \n",
       "6 0.9980172 0.2310600  ⋯ 0.33002449 0.0468006695 0.7187508 0.7064374  \n",
       "  cl_2_height cl_3_height  precip_12   precip     precip_6    pwc       \n",
       "1 0.352265464 0.1144867228 0.005265299 0.10210120 0.005305526 0.04258724\n",
       "2 0.328429150 0.0467965471 0.004839601 0.09352714 0.004864335 0.01709937\n",
       "3 0.312805415 0.0728849800 0.005538811 0.10531195 0.005454960 0.05560240\n",
       "4 0.001060546 0.0001108033 0.079730906 0.30516818 0.146988524 0.09402454\n",
       "5 0.352265464 0.1144867228 0.005265299 0.10210120 0.005305526 0.04258724\n",
       "6 0.328429150 0.0467965471 0.004839601 0.09352714 0.004864335 0.01709937"
      ]
     },
     "metadata": {},
     "output_type": "display_data"
    }
   ],
   "source": [
    "nn.sites <- read.csv(\"../data/csv/nn_sites.csv\", stringsAsFactors = FALSE)\n",
    "head(nn.sites)"
   ]
  },
  {
   "cell_type": "code",
   "execution_count": 24,
   "metadata": {},
   "outputs": [
    {
     "data": {
      "text/html": [
       "<table>\n",
       "<caption>A data.frame: 4 × 20</caption>\n",
       "<thead>\n",
       "\t<tr><th></th><th scope=col>countMto</th><th scope=col>ws</th><th scope=col>wd</th><th scope=col>air_temp</th><th scope=col>atmos_pres</th><th scope=col>visibility</th><th scope=col>dew_point</th><th scope=col>RH</th><th scope=col>ceil_hgt</th><th scope=col>cl_1</th><th scope=col>cl_2</th><th scope=col>cl_3</th><th scope=col>cl</th><th scope=col>cl_1_height</th><th scope=col>cl_2_height</th><th scope=col>cl_3_height</th><th scope=col>precip_12</th><th scope=col>precip</th><th scope=col>precip_6</th><th scope=col>pwc</th></tr>\n",
       "\t<tr><th></th><th scope=col>&lt;int&gt;</th><th scope=col>&lt;int&gt;</th><th scope=col>&lt;int&gt;</th><th scope=col>&lt;int&gt;</th><th scope=col>&lt;int&gt;</th><th scope=col>&lt;int&gt;</th><th scope=col>&lt;int&gt;</th><th scope=col>&lt;int&gt;</th><th scope=col>&lt;int&gt;</th><th scope=col>&lt;int&gt;</th><th scope=col>&lt;int&gt;</th><th scope=col>&lt;int&gt;</th><th scope=col>&lt;int&gt;</th><th scope=col>&lt;int&gt;</th><th scope=col>&lt;int&gt;</th><th scope=col>&lt;int&gt;</th><th scope=col>&lt;int&gt;</th><th scope=col>&lt;int&gt;</th><th scope=col>&lt;int&gt;</th><th scope=col>&lt;int&gt;</th></tr>\n",
       "</thead>\n",
       "<tbody>\n",
       "\t<tr><th scope=row>&gt;50%</th><td>159</td><td>159</td><td>159</td><td>159</td><td>46</td><td>66</td><td>159</td><td>159</td><td>26</td><td>44</td><td>0</td><td>0</td><td>44</td><td>43</td><td>0</td><td>0</td><td>0</td><td>14</td><td>0</td><td>1</td></tr>\n",
       "\t<tr><th scope=row>&gt;70%</th><td>159</td><td>159</td><td>142</td><td>159</td><td>38</td><td>33</td><td>146</td><td>146</td><td> 3</td><td> 7</td><td>0</td><td>0</td><td> 7</td><td> 7</td><td>0</td><td>0</td><td>0</td><td>14</td><td>0</td><td>1</td></tr>\n",
       "\t<tr><th scope=row>&gt;80%</th><td>159</td><td>152</td><td>111</td><td>159</td><td>38</td><td>33</td><td>135</td><td>135</td><td> 3</td><td> 0</td><td>0</td><td>0</td><td> 0</td><td> 0</td><td>0</td><td>0</td><td>0</td><td> 8</td><td>0</td><td>1</td></tr>\n",
       "\t<tr><th scope=row>&gt;90%</th><td>159</td><td>142</td><td> 60</td><td>151</td><td>38</td><td>33</td><td>133</td><td>133</td><td> 0</td><td> 0</td><td>0</td><td>0</td><td> 0</td><td> 0</td><td>0</td><td>0</td><td>0</td><td> 2</td><td>0</td><td>1</td></tr>\n",
       "</tbody>\n",
       "</table>\n"
      ],
      "text/latex": [
       "A data.frame: 4 × 20\n",
       "\\begin{tabular}{r|llllllllllllllllllll}\n",
       "  & countMto & ws & wd & air\\_temp & atmos\\_pres & visibility & dew\\_point & RH & ceil\\_hgt & cl\\_1 & cl\\_2 & cl\\_3 & cl & cl\\_1\\_height & cl\\_2\\_height & cl\\_3\\_height & precip\\_12 & precip & precip\\_6 & pwc\\\\\n",
       "  & <int> & <int> & <int> & <int> & <int> & <int> & <int> & <int> & <int> & <int> & <int> & <int> & <int> & <int> & <int> & <int> & <int> & <int> & <int> & <int>\\\\\n",
       "\\hline\n",
       "\t>50\\% & 159 & 159 & 159 & 159 & 46 & 66 & 159 & 159 & 26 & 44 & 0 & 0 & 44 & 43 & 0 & 0 & 0 & 14 & 0 & 1\\\\\n",
       "\t>70\\% & 159 & 159 & 142 & 159 & 38 & 33 & 146 & 146 &  3 &  7 & 0 & 0 &  7 &  7 & 0 & 0 & 0 & 14 & 0 & 1\\\\\n",
       "\t>80\\% & 159 & 152 & 111 & 159 & 38 & 33 & 135 & 135 &  3 &  0 & 0 & 0 &  0 &  0 & 0 & 0 & 0 &  8 & 0 & 1\\\\\n",
       "\t>90\\% & 159 & 142 &  60 & 151 & 38 & 33 & 133 & 133 &  0 &  0 & 0 & 0 &  0 &  0 & 0 & 0 & 0 &  2 & 0 & 1\\\\\n",
       "\\end{tabular}\n"
      ],
      "text/markdown": [
       "\n",
       "A data.frame: 4 × 20\n",
       "\n",
       "| <!--/--> | countMto &lt;int&gt; | ws &lt;int&gt; | wd &lt;int&gt; | air_temp &lt;int&gt; | atmos_pres &lt;int&gt; | visibility &lt;int&gt; | dew_point &lt;int&gt; | RH &lt;int&gt; | ceil_hgt &lt;int&gt; | cl_1 &lt;int&gt; | cl_2 &lt;int&gt; | cl_3 &lt;int&gt; | cl &lt;int&gt; | cl_1_height &lt;int&gt; | cl_2_height &lt;int&gt; | cl_3_height &lt;int&gt; | precip_12 &lt;int&gt; | precip &lt;int&gt; | precip_6 &lt;int&gt; | pwc &lt;int&gt; |\n",
       "|---|---|---|---|---|---|---|---|---|---|---|---|---|---|---|---|---|---|---|---|---|\n",
       "| &gt;50% | 159 | 159 | 159 | 159 | 46 | 66 | 159 | 159 | 26 | 44 | 0 | 0 | 44 | 43 | 0 | 0 | 0 | 14 | 0 | 1 |\n",
       "| &gt;70% | 159 | 159 | 142 | 159 | 38 | 33 | 146 | 146 |  3 |  7 | 0 | 0 |  7 |  7 | 0 | 0 | 0 | 14 | 0 | 1 |\n",
       "| &gt;80% | 159 | 152 | 111 | 159 | 38 | 33 | 135 | 135 |  3 |  0 | 0 | 0 |  0 |  0 | 0 | 0 | 0 |  8 | 0 | 1 |\n",
       "| &gt;90% | 159 | 142 |  60 | 151 | 38 | 33 | 133 | 133 |  0 |  0 | 0 | 0 |  0 |  0 | 0 | 0 | 0 |  2 | 0 | 1 |\n",
       "\n"
      ],
      "text/plain": [
       "     countMto ws  wd  air_temp atmos_pres visibility dew_point RH  ceil_hgt\n",
       ">50% 159      159 159 159      46         66         159       159 26      \n",
       ">70% 159      159 142 159      38         33         146       146  3      \n",
       ">80% 159      152 111 159      38         33         135       135  3      \n",
       ">90% 159      142  60 151      38         33         133       133  0      \n",
       "     cl_1 cl_2 cl_3 cl cl_1_height cl_2_height cl_3_height precip_12 precip\n",
       ">50% 44   0    0    44 43          0           0           0         14    \n",
       ">70%  7   0    0     7  7          0           0           0         14    \n",
       ">80%  0   0    0     0  0          0           0           0          8    \n",
       ">90%  0   0    0     0  0          0           0           0          2    \n",
       "     precip_6 pwc\n",
       ">50% 0        1  \n",
       ">70% 0        1  \n",
       ">80% 0        1  \n",
       ">90% 0        1  "
      ]
     },
     "metadata": {},
     "output_type": "display_data"
    }
   ],
   "source": [
    "df <- data.frame()\n",
    "percent <- c(0.5, 0.7, 0.8, 0.9)\n",
    "\n",
    "for (nm in names(nn.sites)[6:length(names(nn.sites))]) {\n",
    "    for (i in 1:length(percent)) {\n",
    "        count <- sum(nn.sites[, nm] > percent[i])\n",
    "        df[i, nm] <- count\n",
    "    } \n",
    "}\n",
    "\n",
    "\n",
    "row.names(df) <- paste(\">\", percent*100, \"%\", sep=\"\")\n",
    "head(df)"
   ]
  },
  {
   "cell_type": "code",
   "execution_count": 25,
   "metadata": {},
   "outputs": [],
   "source": [
    "resum.table[[\"Porcentaje estaciones Meteo\"]] <- df"
   ]
  },
  {
   "cell_type": "markdown",
   "metadata": {},
   "source": [
    "## Variables Meteo"
   ]
  },
  {
   "cell_type": "code",
   "execution_count": 26,
   "metadata": {},
   "outputs": [],
   "source": [
    "nn.sites <- nn.sites[, 1:13]"
   ]
  },
  {
   "cell_type": "code",
   "execution_count": 27,
   "metadata": {},
   "outputs": [],
   "source": [
    "a <- c(0)\n",
    "\n",
    "for (i in 1:nrow(nn.sites)) {\n",
    "    if (FALSE %in% (nn.sites[i, 5:ncol(nn.sites)] > 0.0)) {\n",
    "        a <- c(a, -i)\n",
    "    }\n",
    "}\n",
    "if (length(a) != 1) {\n",
    "    nn.sites <- nn.sites[a, ]\n",
    "}"
   ]
  },
  {
   "cell_type": "code",
   "execution_count": 28,
   "metadata": {},
   "outputs": [
    {
     "data": {
      "text/html": [
       "<table>\n",
       "<caption>A data.frame: 6 × 13</caption>\n",
       "<thead>\n",
       "\t<tr><th></th><th scope=col>Municipio</th><th scope=col>siteAQ</th><th scope=col>countAQ</th><th scope=col>siteMto</th><th scope=col>dist</th><th scope=col>countMto</th><th scope=col>ws</th><th scope=col>wd</th><th scope=col>air_temp</th><th scope=col>atmos_pres</th><th scope=col>visibility</th><th scope=col>dew_point</th><th scope=col>RH</th></tr>\n",
       "\t<tr><th></th><th scope=col>&lt;chr&gt;</th><th scope=col>&lt;chr&gt;</th><th scope=col>&lt;int&gt;</th><th scope=col>&lt;chr&gt;</th><th scope=col>&lt;dbl&gt;</th><th scope=col>&lt;int&gt;</th><th scope=col>&lt;dbl&gt;</th><th scope=col>&lt;dbl&gt;</th><th scope=col>&lt;dbl&gt;</th><th scope=col>&lt;dbl&gt;</th><th scope=col>&lt;dbl&gt;</th><th scope=col>&lt;dbl&gt;</th><th scope=col>&lt;dbl&gt;</th></tr>\n",
       "</thead>\n",
       "<tbody>\n",
       "\t<tr><th scope=row>1</th><td>Bilbao</td><td>es0041a</td><td> 66515</td><td>080250-99999</td><td> 5.464009</td><td>223729</td><td>0.9999464</td><td>0.7066272</td><td>0.9988736</td><td>0.2520415</td><td>0.4516983</td><td>0.9986055</td><td>0.9985429</td></tr>\n",
       "\t<tr><th scope=row>2</th><td>Bilbao</td><td>es0041a</td><td> 66515</td><td>080800-99999</td><td>45.503738</td><td>242582</td><td>0.9998805</td><td>0.7156755</td><td>0.9980172</td><td>0.2310600</td><td>0.4698288</td><td>0.9976132</td><td>0.9975266</td></tr>\n",
       "\t<tr><th scope=row>3</th><td>Bilbao</td><td>es0041a</td><td> 66515</td><td>080210-99999</td><td>73.137040</td><td>214667</td><td>0.9998975</td><td>0.7823885</td><td>0.9988913</td><td>0.2556704</td><td>0.4832694</td><td>0.9984068</td><td>0.9983742</td></tr>\n",
       "\t<tr><th scope=row>4</th><td>Bilbao</td><td>es0110a</td><td>204740</td><td>080230-99999</td><td>69.437339</td><td> 63175</td><td>0.9987653</td><td>0.9949664</td><td>0.9999209</td><td>0.9994618</td><td>0.9828888</td><td>0.9995410</td><td>0.9995410</td></tr>\n",
       "\t<tr><th scope=row>5</th><td>Bilbao</td><td>es0110a</td><td>204740</td><td>080250-99999</td><td> 5.363540</td><td>223729</td><td>0.9999464</td><td>0.7066272</td><td>0.9988736</td><td>0.2520415</td><td>0.4516983</td><td>0.9986055</td><td>0.9985429</td></tr>\n",
       "\t<tr><th scope=row>6</th><td>Bilbao</td><td>es0110a</td><td>204740</td><td>080800-99999</td><td>50.995824</td><td>242582</td><td>0.9998805</td><td>0.7156755</td><td>0.9980172</td><td>0.2310600</td><td>0.4698288</td><td>0.9976132</td><td>0.9975266</td></tr>\n",
       "</tbody>\n",
       "</table>\n"
      ],
      "text/latex": [
       "A data.frame: 6 × 13\n",
       "\\begin{tabular}{r|lllllllllllll}\n",
       "  & Municipio & siteAQ & countAQ & siteMto & dist & countMto & ws & wd & air\\_temp & atmos\\_pres & visibility & dew\\_point & RH\\\\\n",
       "  & <chr> & <chr> & <int> & <chr> & <dbl> & <int> & <dbl> & <dbl> & <dbl> & <dbl> & <dbl> & <dbl> & <dbl>\\\\\n",
       "\\hline\n",
       "\t1 & Bilbao & es0041a &  66515 & 080250-99999 &  5.464009 & 223729 & 0.9999464 & 0.7066272 & 0.9988736 & 0.2520415 & 0.4516983 & 0.9986055 & 0.9985429\\\\\n",
       "\t2 & Bilbao & es0041a &  66515 & 080800-99999 & 45.503738 & 242582 & 0.9998805 & 0.7156755 & 0.9980172 & 0.2310600 & 0.4698288 & 0.9976132 & 0.9975266\\\\\n",
       "\t3 & Bilbao & es0041a &  66515 & 080210-99999 & 73.137040 & 214667 & 0.9998975 & 0.7823885 & 0.9988913 & 0.2556704 & 0.4832694 & 0.9984068 & 0.9983742\\\\\n",
       "\t4 & Bilbao & es0110a & 204740 & 080230-99999 & 69.437339 &  63175 & 0.9987653 & 0.9949664 & 0.9999209 & 0.9994618 & 0.9828888 & 0.9995410 & 0.9995410\\\\\n",
       "\t5 & Bilbao & es0110a & 204740 & 080250-99999 &  5.363540 & 223729 & 0.9999464 & 0.7066272 & 0.9988736 & 0.2520415 & 0.4516983 & 0.9986055 & 0.9985429\\\\\n",
       "\t6 & Bilbao & es0110a & 204740 & 080800-99999 & 50.995824 & 242582 & 0.9998805 & 0.7156755 & 0.9980172 & 0.2310600 & 0.4698288 & 0.9976132 & 0.9975266\\\\\n",
       "\\end{tabular}\n"
      ],
      "text/markdown": [
       "\n",
       "A data.frame: 6 × 13\n",
       "\n",
       "| <!--/--> | Municipio &lt;chr&gt; | siteAQ &lt;chr&gt; | countAQ &lt;int&gt; | siteMto &lt;chr&gt; | dist &lt;dbl&gt; | countMto &lt;int&gt; | ws &lt;dbl&gt; | wd &lt;dbl&gt; | air_temp &lt;dbl&gt; | atmos_pres &lt;dbl&gt; | visibility &lt;dbl&gt; | dew_point &lt;dbl&gt; | RH &lt;dbl&gt; |\n",
       "|---|---|---|---|---|---|---|---|---|---|---|---|---|---|\n",
       "| 1 | Bilbao | es0041a |  66515 | 080250-99999 |  5.464009 | 223729 | 0.9999464 | 0.7066272 | 0.9988736 | 0.2520415 | 0.4516983 | 0.9986055 | 0.9985429 |\n",
       "| 2 | Bilbao | es0041a |  66515 | 080800-99999 | 45.503738 | 242582 | 0.9998805 | 0.7156755 | 0.9980172 | 0.2310600 | 0.4698288 | 0.9976132 | 0.9975266 |\n",
       "| 3 | Bilbao | es0041a |  66515 | 080210-99999 | 73.137040 | 214667 | 0.9998975 | 0.7823885 | 0.9988913 | 0.2556704 | 0.4832694 | 0.9984068 | 0.9983742 |\n",
       "| 4 | Bilbao | es0110a | 204740 | 080230-99999 | 69.437339 |  63175 | 0.9987653 | 0.9949664 | 0.9999209 | 0.9994618 | 0.9828888 | 0.9995410 | 0.9995410 |\n",
       "| 5 | Bilbao | es0110a | 204740 | 080250-99999 |  5.363540 | 223729 | 0.9999464 | 0.7066272 | 0.9988736 | 0.2520415 | 0.4516983 | 0.9986055 | 0.9985429 |\n",
       "| 6 | Bilbao | es0110a | 204740 | 080800-99999 | 50.995824 | 242582 | 0.9998805 | 0.7156755 | 0.9980172 | 0.2310600 | 0.4698288 | 0.9976132 | 0.9975266 |\n",
       "\n"
      ],
      "text/plain": [
       "  Municipio siteAQ  countAQ siteMto      dist      countMto ws        wd       \n",
       "1 Bilbao    es0041a  66515  080250-99999  5.464009 223729   0.9999464 0.7066272\n",
       "2 Bilbao    es0041a  66515  080800-99999 45.503738 242582   0.9998805 0.7156755\n",
       "3 Bilbao    es0041a  66515  080210-99999 73.137040 214667   0.9998975 0.7823885\n",
       "4 Bilbao    es0110a 204740  080230-99999 69.437339  63175   0.9987653 0.9949664\n",
       "5 Bilbao    es0110a 204740  080250-99999  5.363540 223729   0.9999464 0.7066272\n",
       "6 Bilbao    es0110a 204740  080800-99999 50.995824 242582   0.9998805 0.7156755\n",
       "  air_temp  atmos_pres visibility dew_point RH       \n",
       "1 0.9988736 0.2520415  0.4516983  0.9986055 0.9985429\n",
       "2 0.9980172 0.2310600  0.4698288  0.9976132 0.9975266\n",
       "3 0.9988913 0.2556704  0.4832694  0.9984068 0.9983742\n",
       "4 0.9999209 0.9994618  0.9828888  0.9995410 0.9995410\n",
       "5 0.9988736 0.2520415  0.4516983  0.9986055 0.9985429\n",
       "6 0.9980172 0.2310600  0.4698288  0.9976132 0.9975266"
      ]
     },
     "metadata": {},
     "output_type": "display_data"
    }
   ],
   "source": [
    "head(nn.sites)"
   ]
  },
  {
   "cell_type": "code",
   "execution_count": 30,
   "metadata": {},
   "outputs": [],
   "source": [
    "resum.table[[\"Estaciones datos ws-RH\"]] <- resum.Mto[resum.Mto$code %in% nn.sites$siteMto &\n",
    "                                                            resum.Mto$site %in% nn.sites$siteAQ, ]"
   ]
  },
  {
   "cell_type": "markdown",
   "metadata": {},
   "source": [
    "## Datos > 80%"
   ]
  },
  {
   "cell_type": "code",
   "execution_count": 31,
   "metadata": {},
   "outputs": [
    {
     "name": "stdout",
     "output_type": "stream",
     "text": [
      "[1]  7  8  9 10 11 12 13\n"
     ]
    }
   ],
   "source": [
    "percnt <- 0.8\n",
    "columns <- 7:13 # ncol(nn.sites)\n",
    "print(columns)\n",
    "\n",
    "for (i in 1:nrow(nn.sites)) {\n",
    "    numVar <- sum(nn.sites[i, columns] >= percnt)\n",
    "\n",
    "    nn.sites[i, \"numVar\"] <- numVar\n",
    "}"
   ]
  },
  {
   "cell_type": "code",
   "execution_count": 32,
   "metadata": {},
   "outputs": [
    {
     "data": {
      "text/html": [
       "<table>\n",
       "<caption>A data.frame: 6 × 14</caption>\n",
       "<thead>\n",
       "\t<tr><th></th><th scope=col>Municipio</th><th scope=col>siteAQ</th><th scope=col>countAQ</th><th scope=col>siteMto</th><th scope=col>dist</th><th scope=col>countMto</th><th scope=col>ws</th><th scope=col>wd</th><th scope=col>air_temp</th><th scope=col>atmos_pres</th><th scope=col>visibility</th><th scope=col>dew_point</th><th scope=col>RH</th><th scope=col>numVar</th></tr>\n",
       "\t<tr><th></th><th scope=col>&lt;chr&gt;</th><th scope=col>&lt;chr&gt;</th><th scope=col>&lt;int&gt;</th><th scope=col>&lt;chr&gt;</th><th scope=col>&lt;dbl&gt;</th><th scope=col>&lt;int&gt;</th><th scope=col>&lt;dbl&gt;</th><th scope=col>&lt;dbl&gt;</th><th scope=col>&lt;dbl&gt;</th><th scope=col>&lt;dbl&gt;</th><th scope=col>&lt;dbl&gt;</th><th scope=col>&lt;dbl&gt;</th><th scope=col>&lt;dbl&gt;</th><th scope=col>&lt;int&gt;</th></tr>\n",
       "</thead>\n",
       "<tbody>\n",
       "\t<tr><th scope=row>1</th><td>Bilbao</td><td>es0041a</td><td> 66515</td><td>080250-99999</td><td> 5.464009</td><td>223729</td><td>0.9999464</td><td>0.7066272</td><td>0.9988736</td><td>0.2520415</td><td>0.4516983</td><td>0.9986055</td><td>0.9985429</td><td>4</td></tr>\n",
       "\t<tr><th scope=row>2</th><td>Bilbao</td><td>es0041a</td><td> 66515</td><td>080800-99999</td><td>45.503738</td><td>242582</td><td>0.9998805</td><td>0.7156755</td><td>0.9980172</td><td>0.2310600</td><td>0.4698288</td><td>0.9976132</td><td>0.9975266</td><td>4</td></tr>\n",
       "\t<tr><th scope=row>3</th><td>Bilbao</td><td>es0041a</td><td> 66515</td><td>080210-99999</td><td>73.137040</td><td>214667</td><td>0.9998975</td><td>0.7823885</td><td>0.9988913</td><td>0.2556704</td><td>0.4832694</td><td>0.9984068</td><td>0.9983742</td><td>4</td></tr>\n",
       "\t<tr><th scope=row>4</th><td>Bilbao</td><td>es0110a</td><td>204740</td><td>080230-99999</td><td>69.437339</td><td> 63175</td><td>0.9987653</td><td>0.9949664</td><td>0.9999209</td><td>0.9994618</td><td>0.9828888</td><td>0.9995410</td><td>0.9995410</td><td>7</td></tr>\n",
       "\t<tr><th scope=row>5</th><td>Bilbao</td><td>es0110a</td><td>204740</td><td>080250-99999</td><td> 5.363540</td><td>223729</td><td>0.9999464</td><td>0.7066272</td><td>0.9988736</td><td>0.2520415</td><td>0.4516983</td><td>0.9986055</td><td>0.9985429</td><td>4</td></tr>\n",
       "\t<tr><th scope=row>6</th><td>Bilbao</td><td>es0110a</td><td>204740</td><td>080800-99999</td><td>50.995824</td><td>242582</td><td>0.9998805</td><td>0.7156755</td><td>0.9980172</td><td>0.2310600</td><td>0.4698288</td><td>0.9976132</td><td>0.9975266</td><td>4</td></tr>\n",
       "</tbody>\n",
       "</table>\n"
      ],
      "text/latex": [
       "A data.frame: 6 × 14\n",
       "\\begin{tabular}{r|llllllllllllll}\n",
       "  & Municipio & siteAQ & countAQ & siteMto & dist & countMto & ws & wd & air\\_temp & atmos\\_pres & visibility & dew\\_point & RH & numVar\\\\\n",
       "  & <chr> & <chr> & <int> & <chr> & <dbl> & <int> & <dbl> & <dbl> & <dbl> & <dbl> & <dbl> & <dbl> & <dbl> & <int>\\\\\n",
       "\\hline\n",
       "\t1 & Bilbao & es0041a &  66515 & 080250-99999 &  5.464009 & 223729 & 0.9999464 & 0.7066272 & 0.9988736 & 0.2520415 & 0.4516983 & 0.9986055 & 0.9985429 & 4\\\\\n",
       "\t2 & Bilbao & es0041a &  66515 & 080800-99999 & 45.503738 & 242582 & 0.9998805 & 0.7156755 & 0.9980172 & 0.2310600 & 0.4698288 & 0.9976132 & 0.9975266 & 4\\\\\n",
       "\t3 & Bilbao & es0041a &  66515 & 080210-99999 & 73.137040 & 214667 & 0.9998975 & 0.7823885 & 0.9988913 & 0.2556704 & 0.4832694 & 0.9984068 & 0.9983742 & 4\\\\\n",
       "\t4 & Bilbao & es0110a & 204740 & 080230-99999 & 69.437339 &  63175 & 0.9987653 & 0.9949664 & 0.9999209 & 0.9994618 & 0.9828888 & 0.9995410 & 0.9995410 & 7\\\\\n",
       "\t5 & Bilbao & es0110a & 204740 & 080250-99999 &  5.363540 & 223729 & 0.9999464 & 0.7066272 & 0.9988736 & 0.2520415 & 0.4516983 & 0.9986055 & 0.9985429 & 4\\\\\n",
       "\t6 & Bilbao & es0110a & 204740 & 080800-99999 & 50.995824 & 242582 & 0.9998805 & 0.7156755 & 0.9980172 & 0.2310600 & 0.4698288 & 0.9976132 & 0.9975266 & 4\\\\\n",
       "\\end{tabular}\n"
      ],
      "text/markdown": [
       "\n",
       "A data.frame: 6 × 14\n",
       "\n",
       "| <!--/--> | Municipio &lt;chr&gt; | siteAQ &lt;chr&gt; | countAQ &lt;int&gt; | siteMto &lt;chr&gt; | dist &lt;dbl&gt; | countMto &lt;int&gt; | ws &lt;dbl&gt; | wd &lt;dbl&gt; | air_temp &lt;dbl&gt; | atmos_pres &lt;dbl&gt; | visibility &lt;dbl&gt; | dew_point &lt;dbl&gt; | RH &lt;dbl&gt; | numVar &lt;int&gt; |\n",
       "|---|---|---|---|---|---|---|---|---|---|---|---|---|---|---|\n",
       "| 1 | Bilbao | es0041a |  66515 | 080250-99999 |  5.464009 | 223729 | 0.9999464 | 0.7066272 | 0.9988736 | 0.2520415 | 0.4516983 | 0.9986055 | 0.9985429 | 4 |\n",
       "| 2 | Bilbao | es0041a |  66515 | 080800-99999 | 45.503738 | 242582 | 0.9998805 | 0.7156755 | 0.9980172 | 0.2310600 | 0.4698288 | 0.9976132 | 0.9975266 | 4 |\n",
       "| 3 | Bilbao | es0041a |  66515 | 080210-99999 | 73.137040 | 214667 | 0.9998975 | 0.7823885 | 0.9988913 | 0.2556704 | 0.4832694 | 0.9984068 | 0.9983742 | 4 |\n",
       "| 4 | Bilbao | es0110a | 204740 | 080230-99999 | 69.437339 |  63175 | 0.9987653 | 0.9949664 | 0.9999209 | 0.9994618 | 0.9828888 | 0.9995410 | 0.9995410 | 7 |\n",
       "| 5 | Bilbao | es0110a | 204740 | 080250-99999 |  5.363540 | 223729 | 0.9999464 | 0.7066272 | 0.9988736 | 0.2520415 | 0.4516983 | 0.9986055 | 0.9985429 | 4 |\n",
       "| 6 | Bilbao | es0110a | 204740 | 080800-99999 | 50.995824 | 242582 | 0.9998805 | 0.7156755 | 0.9980172 | 0.2310600 | 0.4698288 | 0.9976132 | 0.9975266 | 4 |\n",
       "\n"
      ],
      "text/plain": [
       "  Municipio siteAQ  countAQ siteMto      dist      countMto ws        wd       \n",
       "1 Bilbao    es0041a  66515  080250-99999  5.464009 223729   0.9999464 0.7066272\n",
       "2 Bilbao    es0041a  66515  080800-99999 45.503738 242582   0.9998805 0.7156755\n",
       "3 Bilbao    es0041a  66515  080210-99999 73.137040 214667   0.9998975 0.7823885\n",
       "4 Bilbao    es0110a 204740  080230-99999 69.437339  63175   0.9987653 0.9949664\n",
       "5 Bilbao    es0110a 204740  080250-99999  5.363540 223729   0.9999464 0.7066272\n",
       "6 Bilbao    es0110a 204740  080800-99999 50.995824 242582   0.9998805 0.7156755\n",
       "  air_temp  atmos_pres visibility dew_point RH        numVar\n",
       "1 0.9988736 0.2520415  0.4516983  0.9986055 0.9985429 4     \n",
       "2 0.9980172 0.2310600  0.4698288  0.9976132 0.9975266 4     \n",
       "3 0.9988913 0.2556704  0.4832694  0.9984068 0.9983742 4     \n",
       "4 0.9999209 0.9994618  0.9828888  0.9995410 0.9995410 7     \n",
       "5 0.9988736 0.2520415  0.4516983  0.9986055 0.9985429 4     \n",
       "6 0.9980172 0.2310600  0.4698288  0.9976132 0.9975266 4     "
      ]
     },
     "metadata": {},
     "output_type": "display_data"
    }
   ],
   "source": [
    "head(nn.sites)"
   ]
  },
  {
   "cell_type": "code",
   "execution_count": 33,
   "metadata": {},
   "outputs": [],
   "source": [
    "dfs <- data.frame()\n",
    "stations <- levels(as.factor(nn.sites$siteAQ))\n",
    "\n",
    "for (st in stations) {\n",
    "    a <- nn.sites[nn.sites$siteAQ == st &\n",
    "                  nn.sites$numVar >= max(nn.sites$numVar), ][order(nn.sites[nn.sites$siteAQ == st &\n",
    "                                                                           nn.sites$numVar == max(nn.sites$numVar), ]$dist), ]\n",
    "\n",
    "    if (nrow(a) >= 1) {    \n",
    "        dfs <- rbind(dfs, a[1, ])\n",
    "    }\n",
    "}"
   ]
  },
  {
   "cell_type": "code",
   "execution_count": 34,
   "metadata": {},
   "outputs": [
    {
     "data": {
      "text/html": [
       "<table>\n",
       "<caption>A data.frame: 6 × 14</caption>\n",
       "<thead>\n",
       "\t<tr><th></th><th scope=col>Municipio</th><th scope=col>siteAQ</th><th scope=col>countAQ</th><th scope=col>siteMto</th><th scope=col>dist</th><th scope=col>countMto</th><th scope=col>ws</th><th scope=col>wd</th><th scope=col>air_temp</th><th scope=col>atmos_pres</th><th scope=col>visibility</th><th scope=col>dew_point</th><th scope=col>RH</th><th scope=col>numVar</th></tr>\n",
       "\t<tr><th></th><th scope=col>&lt;chr&gt;</th><th scope=col>&lt;chr&gt;</th><th scope=col>&lt;int&gt;</th><th scope=col>&lt;chr&gt;</th><th scope=col>&lt;dbl&gt;</th><th scope=col>&lt;int&gt;</th><th scope=col>&lt;dbl&gt;</th><th scope=col>&lt;dbl&gt;</th><th scope=col>&lt;dbl&gt;</th><th scope=col>&lt;dbl&gt;</th><th scope=col>&lt;dbl&gt;</th><th scope=col>&lt;dbl&gt;</th><th scope=col>&lt;dbl&gt;</th><th scope=col>&lt;int&gt;</th></tr>\n",
       "</thead>\n",
       "<tbody>\n",
       "\t<tr><th scope=row>4</th><td>Bilbao </td><td>es0110a</td><td>204740</td><td>080230-99999</td><td>69.437339</td><td>63175</td><td>0.9987653</td><td>0.9949664</td><td>0.9999209</td><td>0.9994618</td><td>0.9828888</td><td>0.9995410</td><td>0.9995410</td><td>7</td></tr>\n",
       "\t<tr><th scope=row>26</th><td>Ourense</td><td>es1096a</td><td>405864</td><td>080440-99999</td><td>61.344307</td><td>55321</td><td>0.9926429</td><td>0.9699752</td><td>0.9999819</td><td>0.9934564</td><td>0.9898411</td><td>0.9961859</td><td>0.9961859</td><td>7</td></tr>\n",
       "\t<tr><th scope=row>29</th><td>Vigo   </td><td>es1137a</td><td>396299</td><td>080440-99999</td><td>25.923040</td><td>55321</td><td>0.9926429</td><td>0.9699752</td><td>0.9999819</td><td>0.9934564</td><td>0.9898411</td><td>0.9961859</td><td>0.9961859</td><td>7</td></tr>\n",
       "\t<tr><th scope=row>34</th><td>León   </td><td>es1161a</td><td>285796</td><td>080530-99999</td><td>83.016388</td><td>50372</td><td>0.9919598</td><td>0.9536846</td><td>0.9999603</td><td>0.9997221</td><td>0.9913444</td><td>0.9986897</td><td>0.9986897</td><td>7</td></tr>\n",
       "\t<tr><th scope=row>40</th><td>Lleida </td><td>es1225a</td><td>275014</td><td>081710-99999</td><td> 2.317033</td><td>60878</td><td>0.9999014</td><td>0.9875653</td><td>0.9999179</td><td>0.9970104</td><td>0.9873682</td><td>0.9999179</td><td>0.9999014</td><td>7</td></tr>\n",
       "\t<tr><th scope=row>46</th><td>Bilbao </td><td>es1244a</td><td>302453</td><td>080270-99999</td><td>73.118721</td><td>31430</td><td>0.9997455</td><td>0.9847280</td><td>0.9999364</td><td>0.9998409</td><td>0.9999364</td><td>0.9967547</td><td>0.9967229</td><td>7</td></tr>\n",
       "</tbody>\n",
       "</table>\n"
      ],
      "text/latex": [
       "A data.frame: 6 × 14\n",
       "\\begin{tabular}{r|llllllllllllll}\n",
       "  & Municipio & siteAQ & countAQ & siteMto & dist & countMto & ws & wd & air\\_temp & atmos\\_pres & visibility & dew\\_point & RH & numVar\\\\\n",
       "  & <chr> & <chr> & <int> & <chr> & <dbl> & <int> & <dbl> & <dbl> & <dbl> & <dbl> & <dbl> & <dbl> & <dbl> & <int>\\\\\n",
       "\\hline\n",
       "\t4 & Bilbao  & es0110a & 204740 & 080230-99999 & 69.437339 & 63175 & 0.9987653 & 0.9949664 & 0.9999209 & 0.9994618 & 0.9828888 & 0.9995410 & 0.9995410 & 7\\\\\n",
       "\t26 & Ourense & es1096a & 405864 & 080440-99999 & 61.344307 & 55321 & 0.9926429 & 0.9699752 & 0.9999819 & 0.9934564 & 0.9898411 & 0.9961859 & 0.9961859 & 7\\\\\n",
       "\t29 & Vigo    & es1137a & 396299 & 080440-99999 & 25.923040 & 55321 & 0.9926429 & 0.9699752 & 0.9999819 & 0.9934564 & 0.9898411 & 0.9961859 & 0.9961859 & 7\\\\\n",
       "\t34 & León    & es1161a & 285796 & 080530-99999 & 83.016388 & 50372 & 0.9919598 & 0.9536846 & 0.9999603 & 0.9997221 & 0.9913444 & 0.9986897 & 0.9986897 & 7\\\\\n",
       "\t40 & Lleida  & es1225a & 275014 & 081710-99999 &  2.317033 & 60878 & 0.9999014 & 0.9875653 & 0.9999179 & 0.9970104 & 0.9873682 & 0.9999179 & 0.9999014 & 7\\\\\n",
       "\t46 & Bilbao  & es1244a & 302453 & 080270-99999 & 73.118721 & 31430 & 0.9997455 & 0.9847280 & 0.9999364 & 0.9998409 & 0.9999364 & 0.9967547 & 0.9967229 & 7\\\\\n",
       "\\end{tabular}\n"
      ],
      "text/markdown": [
       "\n",
       "A data.frame: 6 × 14\n",
       "\n",
       "| <!--/--> | Municipio &lt;chr&gt; | siteAQ &lt;chr&gt; | countAQ &lt;int&gt; | siteMto &lt;chr&gt; | dist &lt;dbl&gt; | countMto &lt;int&gt; | ws &lt;dbl&gt; | wd &lt;dbl&gt; | air_temp &lt;dbl&gt; | atmos_pres &lt;dbl&gt; | visibility &lt;dbl&gt; | dew_point &lt;dbl&gt; | RH &lt;dbl&gt; | numVar &lt;int&gt; |\n",
       "|---|---|---|---|---|---|---|---|---|---|---|---|---|---|---|\n",
       "| 4 | Bilbao  | es0110a | 204740 | 080230-99999 | 69.437339 | 63175 | 0.9987653 | 0.9949664 | 0.9999209 | 0.9994618 | 0.9828888 | 0.9995410 | 0.9995410 | 7 |\n",
       "| 26 | Ourense | es1096a | 405864 | 080440-99999 | 61.344307 | 55321 | 0.9926429 | 0.9699752 | 0.9999819 | 0.9934564 | 0.9898411 | 0.9961859 | 0.9961859 | 7 |\n",
       "| 29 | Vigo    | es1137a | 396299 | 080440-99999 | 25.923040 | 55321 | 0.9926429 | 0.9699752 | 0.9999819 | 0.9934564 | 0.9898411 | 0.9961859 | 0.9961859 | 7 |\n",
       "| 34 | León    | es1161a | 285796 | 080530-99999 | 83.016388 | 50372 | 0.9919598 | 0.9536846 | 0.9999603 | 0.9997221 | 0.9913444 | 0.9986897 | 0.9986897 | 7 |\n",
       "| 40 | Lleida  | es1225a | 275014 | 081710-99999 |  2.317033 | 60878 | 0.9999014 | 0.9875653 | 0.9999179 | 0.9970104 | 0.9873682 | 0.9999179 | 0.9999014 | 7 |\n",
       "| 46 | Bilbao  | es1244a | 302453 | 080270-99999 | 73.118721 | 31430 | 0.9997455 | 0.9847280 | 0.9999364 | 0.9998409 | 0.9999364 | 0.9967547 | 0.9967229 | 7 |\n",
       "\n"
      ],
      "text/plain": [
       "   Municipio siteAQ  countAQ siteMto      dist      countMto ws       \n",
       "4  Bilbao    es0110a 204740  080230-99999 69.437339 63175    0.9987653\n",
       "26 Ourense   es1096a 405864  080440-99999 61.344307 55321    0.9926429\n",
       "29 Vigo      es1137a 396299  080440-99999 25.923040 55321    0.9926429\n",
       "34 León      es1161a 285796  080530-99999 83.016388 50372    0.9919598\n",
       "40 Lleida    es1225a 275014  081710-99999  2.317033 60878    0.9999014\n",
       "46 Bilbao    es1244a 302453  080270-99999 73.118721 31430    0.9997455\n",
       "   wd        air_temp  atmos_pres visibility dew_point RH        numVar\n",
       "4  0.9949664 0.9999209 0.9994618  0.9828888  0.9995410 0.9995410 7     \n",
       "26 0.9699752 0.9999819 0.9934564  0.9898411  0.9961859 0.9961859 7     \n",
       "29 0.9699752 0.9999819 0.9934564  0.9898411  0.9961859 0.9961859 7     \n",
       "34 0.9536846 0.9999603 0.9997221  0.9913444  0.9986897 0.9986897 7     \n",
       "40 0.9875653 0.9999179 0.9970104  0.9873682  0.9999179 0.9999014 7     \n",
       "46 0.9847280 0.9999364 0.9998409  0.9999364  0.9967547 0.9967229 7     "
      ]
     },
     "metadata": {},
     "output_type": "display_data"
    }
   ],
   "source": [
    "head(dfs)"
   ]
  },
  {
   "cell_type": "code",
   "execution_count": 35,
   "metadata": {},
   "outputs": [],
   "source": [
    "resum.table[[\"Meteo >80% ws-RH\"]] <- resum.Mto[resum.Mto$code %in% dfs$siteMto &\n",
    "                                                      resum.Mto$site %in% dfs$siteAQ, ]"
   ]
  },
  {
   "cell_type": "markdown",
   "metadata": {},
   "source": [
    "## Solo una estacion por ciudad"
   ]
  },
  {
   "cell_type": "code",
   "execution_count": 36,
   "metadata": {},
   "outputs": [
    {
     "data": {
      "text/html": [
       "<table>\n",
       "<caption>A data.frame: 6 × 14</caption>\n",
       "<thead>\n",
       "\t<tr><th></th><th scope=col>Municipio</th><th scope=col>siteAQ</th><th scope=col>countAQ</th><th scope=col>siteMto</th><th scope=col>dist</th><th scope=col>countMto</th><th scope=col>ws</th><th scope=col>wd</th><th scope=col>air_temp</th><th scope=col>atmos_pres</th><th scope=col>visibility</th><th scope=col>dew_point</th><th scope=col>RH</th><th scope=col>numVar</th></tr>\n",
       "\t<tr><th></th><th scope=col>&lt;chr&gt;</th><th scope=col>&lt;chr&gt;</th><th scope=col>&lt;int&gt;</th><th scope=col>&lt;chr&gt;</th><th scope=col>&lt;dbl&gt;</th><th scope=col>&lt;int&gt;</th><th scope=col>&lt;dbl&gt;</th><th scope=col>&lt;dbl&gt;</th><th scope=col>&lt;dbl&gt;</th><th scope=col>&lt;dbl&gt;</th><th scope=col>&lt;dbl&gt;</th><th scope=col>&lt;dbl&gt;</th><th scope=col>&lt;dbl&gt;</th><th scope=col>&lt;int&gt;</th></tr>\n",
       "</thead>\n",
       "<tbody>\n",
       "\t<tr><th scope=row>4</th><td>Bilbao </td><td>es0110a</td><td>204740</td><td>080230-99999</td><td>69.437339</td><td>63175</td><td>0.9987653</td><td>0.9949664</td><td>0.9999209</td><td>0.9994618</td><td>0.9828888</td><td>0.9995410</td><td>0.9995410</td><td>7</td></tr>\n",
       "\t<tr><th scope=row>26</th><td>Ourense</td><td>es1096a</td><td>405864</td><td>080440-99999</td><td>61.344307</td><td>55321</td><td>0.9926429</td><td>0.9699752</td><td>0.9999819</td><td>0.9934564</td><td>0.9898411</td><td>0.9961859</td><td>0.9961859</td><td>7</td></tr>\n",
       "\t<tr><th scope=row>29</th><td>Vigo   </td><td>es1137a</td><td>396299</td><td>080440-99999</td><td>25.923040</td><td>55321</td><td>0.9926429</td><td>0.9699752</td><td>0.9999819</td><td>0.9934564</td><td>0.9898411</td><td>0.9961859</td><td>0.9961859</td><td>7</td></tr>\n",
       "\t<tr><th scope=row>34</th><td>León   </td><td>es1161a</td><td>285796</td><td>080530-99999</td><td>83.016388</td><td>50372</td><td>0.9919598</td><td>0.9536846</td><td>0.9999603</td><td>0.9997221</td><td>0.9913444</td><td>0.9986897</td><td>0.9986897</td><td>7</td></tr>\n",
       "\t<tr><th scope=row>40</th><td>Lleida </td><td>es1225a</td><td>275014</td><td>081710-99999</td><td> 2.317033</td><td>60878</td><td>0.9999014</td><td>0.9875653</td><td>0.9999179</td><td>0.9970104</td><td>0.9873682</td><td>0.9999179</td><td>0.9999014</td><td>7</td></tr>\n",
       "\t<tr><th scope=row>46</th><td>Bilbao </td><td>es1244a</td><td>302453</td><td>080270-99999</td><td>73.118721</td><td>31430</td><td>0.9997455</td><td>0.9847280</td><td>0.9999364</td><td>0.9998409</td><td>0.9999364</td><td>0.9967547</td><td>0.9967229</td><td>7</td></tr>\n",
       "</tbody>\n",
       "</table>\n"
      ],
      "text/latex": [
       "A data.frame: 6 × 14\n",
       "\\begin{tabular}{r|llllllllllllll}\n",
       "  & Municipio & siteAQ & countAQ & siteMto & dist & countMto & ws & wd & air\\_temp & atmos\\_pres & visibility & dew\\_point & RH & numVar\\\\\n",
       "  & <chr> & <chr> & <int> & <chr> & <dbl> & <int> & <dbl> & <dbl> & <dbl> & <dbl> & <dbl> & <dbl> & <dbl> & <int>\\\\\n",
       "\\hline\n",
       "\t4 & Bilbao  & es0110a & 204740 & 080230-99999 & 69.437339 & 63175 & 0.9987653 & 0.9949664 & 0.9999209 & 0.9994618 & 0.9828888 & 0.9995410 & 0.9995410 & 7\\\\\n",
       "\t26 & Ourense & es1096a & 405864 & 080440-99999 & 61.344307 & 55321 & 0.9926429 & 0.9699752 & 0.9999819 & 0.9934564 & 0.9898411 & 0.9961859 & 0.9961859 & 7\\\\\n",
       "\t29 & Vigo    & es1137a & 396299 & 080440-99999 & 25.923040 & 55321 & 0.9926429 & 0.9699752 & 0.9999819 & 0.9934564 & 0.9898411 & 0.9961859 & 0.9961859 & 7\\\\\n",
       "\t34 & León    & es1161a & 285796 & 080530-99999 & 83.016388 & 50372 & 0.9919598 & 0.9536846 & 0.9999603 & 0.9997221 & 0.9913444 & 0.9986897 & 0.9986897 & 7\\\\\n",
       "\t40 & Lleida  & es1225a & 275014 & 081710-99999 &  2.317033 & 60878 & 0.9999014 & 0.9875653 & 0.9999179 & 0.9970104 & 0.9873682 & 0.9999179 & 0.9999014 & 7\\\\\n",
       "\t46 & Bilbao  & es1244a & 302453 & 080270-99999 & 73.118721 & 31430 & 0.9997455 & 0.9847280 & 0.9999364 & 0.9998409 & 0.9999364 & 0.9967547 & 0.9967229 & 7\\\\\n",
       "\\end{tabular}\n"
      ],
      "text/markdown": [
       "\n",
       "A data.frame: 6 × 14\n",
       "\n",
       "| <!--/--> | Municipio &lt;chr&gt; | siteAQ &lt;chr&gt; | countAQ &lt;int&gt; | siteMto &lt;chr&gt; | dist &lt;dbl&gt; | countMto &lt;int&gt; | ws &lt;dbl&gt; | wd &lt;dbl&gt; | air_temp &lt;dbl&gt; | atmos_pres &lt;dbl&gt; | visibility &lt;dbl&gt; | dew_point &lt;dbl&gt; | RH &lt;dbl&gt; | numVar &lt;int&gt; |\n",
       "|---|---|---|---|---|---|---|---|---|---|---|---|---|---|---|\n",
       "| 4 | Bilbao  | es0110a | 204740 | 080230-99999 | 69.437339 | 63175 | 0.9987653 | 0.9949664 | 0.9999209 | 0.9994618 | 0.9828888 | 0.9995410 | 0.9995410 | 7 |\n",
       "| 26 | Ourense | es1096a | 405864 | 080440-99999 | 61.344307 | 55321 | 0.9926429 | 0.9699752 | 0.9999819 | 0.9934564 | 0.9898411 | 0.9961859 | 0.9961859 | 7 |\n",
       "| 29 | Vigo    | es1137a | 396299 | 080440-99999 | 25.923040 | 55321 | 0.9926429 | 0.9699752 | 0.9999819 | 0.9934564 | 0.9898411 | 0.9961859 | 0.9961859 | 7 |\n",
       "| 34 | León    | es1161a | 285796 | 080530-99999 | 83.016388 | 50372 | 0.9919598 | 0.9536846 | 0.9999603 | 0.9997221 | 0.9913444 | 0.9986897 | 0.9986897 | 7 |\n",
       "| 40 | Lleida  | es1225a | 275014 | 081710-99999 |  2.317033 | 60878 | 0.9999014 | 0.9875653 | 0.9999179 | 0.9970104 | 0.9873682 | 0.9999179 | 0.9999014 | 7 |\n",
       "| 46 | Bilbao  | es1244a | 302453 | 080270-99999 | 73.118721 | 31430 | 0.9997455 | 0.9847280 | 0.9999364 | 0.9998409 | 0.9999364 | 0.9967547 | 0.9967229 | 7 |\n",
       "\n"
      ],
      "text/plain": [
       "   Municipio siteAQ  countAQ siteMto      dist      countMto ws       \n",
       "4  Bilbao    es0110a 204740  080230-99999 69.437339 63175    0.9987653\n",
       "26 Ourense   es1096a 405864  080440-99999 61.344307 55321    0.9926429\n",
       "29 Vigo      es1137a 396299  080440-99999 25.923040 55321    0.9926429\n",
       "34 León      es1161a 285796  080530-99999 83.016388 50372    0.9919598\n",
       "40 Lleida    es1225a 275014  081710-99999  2.317033 60878    0.9999014\n",
       "46 Bilbao    es1244a 302453  080270-99999 73.118721 31430    0.9997455\n",
       "   wd        air_temp  atmos_pres visibility dew_point RH        numVar\n",
       "4  0.9949664 0.9999209 0.9994618  0.9828888  0.9995410 0.9995410 7     \n",
       "26 0.9699752 0.9999819 0.9934564  0.9898411  0.9961859 0.9961859 7     \n",
       "29 0.9699752 0.9999819 0.9934564  0.9898411  0.9961859 0.9961859 7     \n",
       "34 0.9536846 0.9999603 0.9997221  0.9913444  0.9986897 0.9986897 7     \n",
       "40 0.9875653 0.9999179 0.9970104  0.9873682  0.9999179 0.9999014 7     \n",
       "46 0.9847280 0.9999364 0.9998409  0.9999364  0.9967547 0.9967229 7     "
      ]
     },
     "metadata": {},
     "output_type": "display_data"
    }
   ],
   "source": [
    "head(dfs)"
   ]
  },
  {
   "cell_type": "code",
   "execution_count": 37,
   "metadata": {},
   "outputs": [
    {
     "data": {
      "text/html": [
       "<table>\n",
       "<caption>A data.frame: 17 × 14</caption>\n",
       "<thead>\n",
       "\t<tr><th></th><th scope=col>Municipio</th><th scope=col>siteAQ</th><th scope=col>countAQ</th><th scope=col>siteMto</th><th scope=col>dist</th><th scope=col>countMto</th><th scope=col>ws</th><th scope=col>wd</th><th scope=col>air_temp</th><th scope=col>atmos_pres</th><th scope=col>visibility</th><th scope=col>dew_point</th><th scope=col>RH</th><th scope=col>numVar</th></tr>\n",
       "\t<tr><th></th><th scope=col>&lt;chr&gt;</th><th scope=col>&lt;chr&gt;</th><th scope=col>&lt;int&gt;</th><th scope=col>&lt;chr&gt;</th><th scope=col>&lt;dbl&gt;</th><th scope=col>&lt;int&gt;</th><th scope=col>&lt;dbl&gt;</th><th scope=col>&lt;dbl&gt;</th><th scope=col>&lt;dbl&gt;</th><th scope=col>&lt;dbl&gt;</th><th scope=col>&lt;dbl&gt;</th><th scope=col>&lt;dbl&gt;</th><th scope=col>&lt;dbl&gt;</th><th scope=col>&lt;int&gt;</th></tr>\n",
       "</thead>\n",
       "<tbody>\n",
       "\t<tr><th scope=row>137</th><td>Alicante                  </td><td>es1635a</td><td>305134</td><td>083590-99999</td><td> 2.586339</td><td>47506</td><td>0.9971583</td><td>0.9841283</td><td>0.9998948</td><td>0.9995369</td><td>0.9951375</td><td>0.9998316</td><td>0.9998316</td><td>7</td></tr>\n",
       "\t<tr><th scope=row>46</th><td>Bilbao                    </td><td>es1244a</td><td>302453</td><td>080270-99999</td><td>73.118721</td><td>31430</td><td>0.9997455</td><td>0.9847280</td><td>0.9999364</td><td>0.9998409</td><td>0.9999364</td><td>0.9967547</td><td>0.9967229</td><td>7</td></tr>\n",
       "\t<tr><th scope=row>145</th><td>Castellón de la Plana     </td><td>es1834a</td><td>295845</td><td>082860-99999</td><td> 5.553443</td><td>49122</td><td>0.9996336</td><td>0.9972925</td><td>0.9999186</td><td>0.9996539</td><td>0.9940149</td><td>0.9947885</td><td>0.9947885</td><td>7</td></tr>\n",
       "\t<tr><th scope=row>155</th><td>Elche                     </td><td>es1849a</td><td>300692</td><td>083590-99999</td><td>22.447105</td><td>47506</td><td>0.9971583</td><td>0.9841283</td><td>0.9998948</td><td>0.9995369</td><td>0.9951375</td><td>0.9998316</td><td>0.9998316</td><td>7</td></tr>\n",
       "\t<tr><th scope=row>63</th><td>Gijón                     </td><td>es1271a</td><td>420559</td><td>080140-99999</td><td> 3.136950</td><td>16220</td><td>0.9996917</td><td>0.8863132</td><td>0.9999383</td><td>0.9996301</td><td>0.9996301</td><td>0.9996917</td><td>0.9996917</td><td>7</td></tr>\n",
       "\t<tr><th scope=row>105</th><td>Granada                   </td><td>es1560a</td><td>223676</td><td>084170-99999</td><td>67.704765</td><td>48487</td><td>0.9998969</td><td>0.9805721</td><td>0.9999175</td><td>0.9980613</td><td>0.9954833</td><td>0.9992369</td><td>0.9992369</td><td>7</td></tr>\n",
       "\t<tr><th scope=row>69</th><td>Huelva                    </td><td>es1340a</td><td>153259</td><td>083830-99999</td><td> 3.665939</td><td>47958</td><td>0.9993327</td><td>0.9948080</td><td>0.9999791</td><td>0.9993119</td><td>0.9935360</td><td>0.9998540</td><td>0.9998332</td><td>7</td></tr>\n",
       "\t<tr><th scope=row>115</th><td>Las Palmas de Gran Canaria</td><td>es1573a</td><td>355339</td><td>600200-99999</td><td>87.398704</td><td>42552</td><td>0.9992715</td><td>0.9896127</td><td>0.9999060</td><td>0.9992480</td><td>0.9854766</td><td>0.9996945</td><td>0.9996710</td><td>7</td></tr>\n",
       "\t<tr><th scope=row>34</th><td>León                      </td><td>es1161a</td><td>285796</td><td>080530-99999</td><td>83.016388</td><td>50372</td><td>0.9919598</td><td>0.9536846</td><td>0.9999603</td><td>0.9997221</td><td>0.9913444</td><td>0.9986897</td><td>0.9986897</td><td>7</td></tr>\n",
       "\t<tr><th scope=row>40</th><td>Lleida                    </td><td>es1225a</td><td>275014</td><td>081710-99999</td><td> 2.317033</td><td>60878</td><td>0.9999014</td><td>0.9875653</td><td>0.9999179</td><td>0.9970104</td><td>0.9873682</td><td>0.9999179</td><td>0.9999014</td><td>7</td></tr>\n",
       "\t<tr><th scope=row>26</th><td>Ourense                   </td><td>es1096a</td><td>405864</td><td>080440-99999</td><td>61.344307</td><td>55321</td><td>0.9926429</td><td>0.9699752</td><td>0.9999819</td><td>0.9934564</td><td>0.9898411</td><td>0.9961859</td><td>0.9961859</td><td>7</td></tr>\n",
       "\t<tr><th scope=row>52</th><td>Oviedo                    </td><td>es1268a</td><td>419493</td><td>080150-99999</td><td> 0.924192</td><td>62959</td><td>0.9981099</td><td>0.9821630</td><td>0.9999841</td><td>0.9994758</td><td>0.9886434</td><td>0.9941708</td><td>0.9941708</td><td>7</td></tr>\n",
       "\t<tr><th scope=row>126</th><td>Salamanca                 </td><td>es1618a</td><td>287096</td><td>081300-99999</td><td>60.071741</td><td>49926</td><td>0.9949125</td><td>0.9817530</td><td>0.9998598</td><td>0.9983976</td><td>0.9940312</td><td>0.9996395</td><td>0.9995193</td><td>7</td></tr>\n",
       "\t<tr><th scope=row>143</th><td>San Sebastián             </td><td>es1697a</td><td>354396</td><td>080270-99999</td><td> 2.071356</td><td>31430</td><td>0.9997455</td><td>0.9847280</td><td>0.9999364</td><td>0.9998409</td><td>0.9999364</td><td>0.9967547</td><td>0.9967229</td><td>7</td></tr>\n",
       "\t<tr><th scope=row>118</th><td>Santander                 </td><td>es1580a</td><td>281563</td><td>080230-99999</td><td> 2.590140</td><td>63175</td><td>0.9987653</td><td>0.9949664</td><td>0.9999209</td><td>0.9994618</td><td>0.9828888</td><td>0.9995410</td><td>0.9995410</td><td>7</td></tr>\n",
       "\t<tr><th scope=row>134</th><td>Valladolid                </td><td>es1632a</td><td>394858</td><td>081410-99999</td><td> 1.411223</td><td>63416</td><td>0.9810458</td><td>0.9746752</td><td>0.9999685</td><td>0.9997162</td><td>0.9941813</td><td>0.9973193</td><td>0.9973193</td><td>7</td></tr>\n",
       "\t<tr><th scope=row>29</th><td>Vigo                      </td><td>es1137a</td><td>396299</td><td>080440-99999</td><td>25.923040</td><td>55321</td><td>0.9926429</td><td>0.9699752</td><td>0.9999819</td><td>0.9934564</td><td>0.9898411</td><td>0.9961859</td><td>0.9961859</td><td>7</td></tr>\n",
       "</tbody>\n",
       "</table>\n"
      ],
      "text/latex": [
       "A data.frame: 17 × 14\n",
       "\\begin{tabular}{r|llllllllllllll}\n",
       "  & Municipio & siteAQ & countAQ & siteMto & dist & countMto & ws & wd & air\\_temp & atmos\\_pres & visibility & dew\\_point & RH & numVar\\\\\n",
       "  & <chr> & <chr> & <int> & <chr> & <dbl> & <int> & <dbl> & <dbl> & <dbl> & <dbl> & <dbl> & <dbl> & <dbl> & <int>\\\\\n",
       "\\hline\n",
       "\t137 & Alicante                   & es1635a & 305134 & 083590-99999 &  2.586339 & 47506 & 0.9971583 & 0.9841283 & 0.9998948 & 0.9995369 & 0.9951375 & 0.9998316 & 0.9998316 & 7\\\\\n",
       "\t46 & Bilbao                     & es1244a & 302453 & 080270-99999 & 73.118721 & 31430 & 0.9997455 & 0.9847280 & 0.9999364 & 0.9998409 & 0.9999364 & 0.9967547 & 0.9967229 & 7\\\\\n",
       "\t145 & Castellón de la Plana      & es1834a & 295845 & 082860-99999 &  5.553443 & 49122 & 0.9996336 & 0.9972925 & 0.9999186 & 0.9996539 & 0.9940149 & 0.9947885 & 0.9947885 & 7\\\\\n",
       "\t155 & Elche                      & es1849a & 300692 & 083590-99999 & 22.447105 & 47506 & 0.9971583 & 0.9841283 & 0.9998948 & 0.9995369 & 0.9951375 & 0.9998316 & 0.9998316 & 7\\\\\n",
       "\t63 & Gijón                      & es1271a & 420559 & 080140-99999 &  3.136950 & 16220 & 0.9996917 & 0.8863132 & 0.9999383 & 0.9996301 & 0.9996301 & 0.9996917 & 0.9996917 & 7\\\\\n",
       "\t105 & Granada                    & es1560a & 223676 & 084170-99999 & 67.704765 & 48487 & 0.9998969 & 0.9805721 & 0.9999175 & 0.9980613 & 0.9954833 & 0.9992369 & 0.9992369 & 7\\\\\n",
       "\t69 & Huelva                     & es1340a & 153259 & 083830-99999 &  3.665939 & 47958 & 0.9993327 & 0.9948080 & 0.9999791 & 0.9993119 & 0.9935360 & 0.9998540 & 0.9998332 & 7\\\\\n",
       "\t115 & Las Palmas de Gran Canaria & es1573a & 355339 & 600200-99999 & 87.398704 & 42552 & 0.9992715 & 0.9896127 & 0.9999060 & 0.9992480 & 0.9854766 & 0.9996945 & 0.9996710 & 7\\\\\n",
       "\t34 & León                       & es1161a & 285796 & 080530-99999 & 83.016388 & 50372 & 0.9919598 & 0.9536846 & 0.9999603 & 0.9997221 & 0.9913444 & 0.9986897 & 0.9986897 & 7\\\\\n",
       "\t40 & Lleida                     & es1225a & 275014 & 081710-99999 &  2.317033 & 60878 & 0.9999014 & 0.9875653 & 0.9999179 & 0.9970104 & 0.9873682 & 0.9999179 & 0.9999014 & 7\\\\\n",
       "\t26 & Ourense                    & es1096a & 405864 & 080440-99999 & 61.344307 & 55321 & 0.9926429 & 0.9699752 & 0.9999819 & 0.9934564 & 0.9898411 & 0.9961859 & 0.9961859 & 7\\\\\n",
       "\t52 & Oviedo                     & es1268a & 419493 & 080150-99999 &  0.924192 & 62959 & 0.9981099 & 0.9821630 & 0.9999841 & 0.9994758 & 0.9886434 & 0.9941708 & 0.9941708 & 7\\\\\n",
       "\t126 & Salamanca                  & es1618a & 287096 & 081300-99999 & 60.071741 & 49926 & 0.9949125 & 0.9817530 & 0.9998598 & 0.9983976 & 0.9940312 & 0.9996395 & 0.9995193 & 7\\\\\n",
       "\t143 & San Sebastián              & es1697a & 354396 & 080270-99999 &  2.071356 & 31430 & 0.9997455 & 0.9847280 & 0.9999364 & 0.9998409 & 0.9999364 & 0.9967547 & 0.9967229 & 7\\\\\n",
       "\t118 & Santander                  & es1580a & 281563 & 080230-99999 &  2.590140 & 63175 & 0.9987653 & 0.9949664 & 0.9999209 & 0.9994618 & 0.9828888 & 0.9995410 & 0.9995410 & 7\\\\\n",
       "\t134 & Valladolid                 & es1632a & 394858 & 081410-99999 &  1.411223 & 63416 & 0.9810458 & 0.9746752 & 0.9999685 & 0.9997162 & 0.9941813 & 0.9973193 & 0.9973193 & 7\\\\\n",
       "\t29 & Vigo                       & es1137a & 396299 & 080440-99999 & 25.923040 & 55321 & 0.9926429 & 0.9699752 & 0.9999819 & 0.9934564 & 0.9898411 & 0.9961859 & 0.9961859 & 7\\\\\n",
       "\\end{tabular}\n"
      ],
      "text/markdown": [
       "\n",
       "A data.frame: 17 × 14\n",
       "\n",
       "| <!--/--> | Municipio &lt;chr&gt; | siteAQ &lt;chr&gt; | countAQ &lt;int&gt; | siteMto &lt;chr&gt; | dist &lt;dbl&gt; | countMto &lt;int&gt; | ws &lt;dbl&gt; | wd &lt;dbl&gt; | air_temp &lt;dbl&gt; | atmos_pres &lt;dbl&gt; | visibility &lt;dbl&gt; | dew_point &lt;dbl&gt; | RH &lt;dbl&gt; | numVar &lt;int&gt; |\n",
       "|---|---|---|---|---|---|---|---|---|---|---|---|---|---|---|\n",
       "| 137 | Alicante                   | es1635a | 305134 | 083590-99999 |  2.586339 | 47506 | 0.9971583 | 0.9841283 | 0.9998948 | 0.9995369 | 0.9951375 | 0.9998316 | 0.9998316 | 7 |\n",
       "| 46 | Bilbao                     | es1244a | 302453 | 080270-99999 | 73.118721 | 31430 | 0.9997455 | 0.9847280 | 0.9999364 | 0.9998409 | 0.9999364 | 0.9967547 | 0.9967229 | 7 |\n",
       "| 145 | Castellón de la Plana      | es1834a | 295845 | 082860-99999 |  5.553443 | 49122 | 0.9996336 | 0.9972925 | 0.9999186 | 0.9996539 | 0.9940149 | 0.9947885 | 0.9947885 | 7 |\n",
       "| 155 | Elche                      | es1849a | 300692 | 083590-99999 | 22.447105 | 47506 | 0.9971583 | 0.9841283 | 0.9998948 | 0.9995369 | 0.9951375 | 0.9998316 | 0.9998316 | 7 |\n",
       "| 63 | Gijón                      | es1271a | 420559 | 080140-99999 |  3.136950 | 16220 | 0.9996917 | 0.8863132 | 0.9999383 | 0.9996301 | 0.9996301 | 0.9996917 | 0.9996917 | 7 |\n",
       "| 105 | Granada                    | es1560a | 223676 | 084170-99999 | 67.704765 | 48487 | 0.9998969 | 0.9805721 | 0.9999175 | 0.9980613 | 0.9954833 | 0.9992369 | 0.9992369 | 7 |\n",
       "| 69 | Huelva                     | es1340a | 153259 | 083830-99999 |  3.665939 | 47958 | 0.9993327 | 0.9948080 | 0.9999791 | 0.9993119 | 0.9935360 | 0.9998540 | 0.9998332 | 7 |\n",
       "| 115 | Las Palmas de Gran Canaria | es1573a | 355339 | 600200-99999 | 87.398704 | 42552 | 0.9992715 | 0.9896127 | 0.9999060 | 0.9992480 | 0.9854766 | 0.9996945 | 0.9996710 | 7 |\n",
       "| 34 | León                       | es1161a | 285796 | 080530-99999 | 83.016388 | 50372 | 0.9919598 | 0.9536846 | 0.9999603 | 0.9997221 | 0.9913444 | 0.9986897 | 0.9986897 | 7 |\n",
       "| 40 | Lleida                     | es1225a | 275014 | 081710-99999 |  2.317033 | 60878 | 0.9999014 | 0.9875653 | 0.9999179 | 0.9970104 | 0.9873682 | 0.9999179 | 0.9999014 | 7 |\n",
       "| 26 | Ourense                    | es1096a | 405864 | 080440-99999 | 61.344307 | 55321 | 0.9926429 | 0.9699752 | 0.9999819 | 0.9934564 | 0.9898411 | 0.9961859 | 0.9961859 | 7 |\n",
       "| 52 | Oviedo                     | es1268a | 419493 | 080150-99999 |  0.924192 | 62959 | 0.9981099 | 0.9821630 | 0.9999841 | 0.9994758 | 0.9886434 | 0.9941708 | 0.9941708 | 7 |\n",
       "| 126 | Salamanca                  | es1618a | 287096 | 081300-99999 | 60.071741 | 49926 | 0.9949125 | 0.9817530 | 0.9998598 | 0.9983976 | 0.9940312 | 0.9996395 | 0.9995193 | 7 |\n",
       "| 143 | San Sebastián              | es1697a | 354396 | 080270-99999 |  2.071356 | 31430 | 0.9997455 | 0.9847280 | 0.9999364 | 0.9998409 | 0.9999364 | 0.9967547 | 0.9967229 | 7 |\n",
       "| 118 | Santander                  | es1580a | 281563 | 080230-99999 |  2.590140 | 63175 | 0.9987653 | 0.9949664 | 0.9999209 | 0.9994618 | 0.9828888 | 0.9995410 | 0.9995410 | 7 |\n",
       "| 134 | Valladolid                 | es1632a | 394858 | 081410-99999 |  1.411223 | 63416 | 0.9810458 | 0.9746752 | 0.9999685 | 0.9997162 | 0.9941813 | 0.9973193 | 0.9973193 | 7 |\n",
       "| 29 | Vigo                       | es1137a | 396299 | 080440-99999 | 25.923040 | 55321 | 0.9926429 | 0.9699752 | 0.9999819 | 0.9934564 | 0.9898411 | 0.9961859 | 0.9961859 | 7 |\n",
       "\n"
      ],
      "text/plain": [
       "    Municipio                  siteAQ  countAQ siteMto      dist      countMto\n",
       "137 Alicante                   es1635a 305134  083590-99999  2.586339 47506   \n",
       "46  Bilbao                     es1244a 302453  080270-99999 73.118721 31430   \n",
       "145 Castellón de la Plana      es1834a 295845  082860-99999  5.553443 49122   \n",
       "155 Elche                      es1849a 300692  083590-99999 22.447105 47506   \n",
       "63  Gijón                      es1271a 420559  080140-99999  3.136950 16220   \n",
       "105 Granada                    es1560a 223676  084170-99999 67.704765 48487   \n",
       "69  Huelva                     es1340a 153259  083830-99999  3.665939 47958   \n",
       "115 Las Palmas de Gran Canaria es1573a 355339  600200-99999 87.398704 42552   \n",
       "34  León                       es1161a 285796  080530-99999 83.016388 50372   \n",
       "40  Lleida                     es1225a 275014  081710-99999  2.317033 60878   \n",
       "26  Ourense                    es1096a 405864  080440-99999 61.344307 55321   \n",
       "52  Oviedo                     es1268a 419493  080150-99999  0.924192 62959   \n",
       "126 Salamanca                  es1618a 287096  081300-99999 60.071741 49926   \n",
       "143 San Sebastián              es1697a 354396  080270-99999  2.071356 31430   \n",
       "118 Santander                  es1580a 281563  080230-99999  2.590140 63175   \n",
       "134 Valladolid                 es1632a 394858  081410-99999  1.411223 63416   \n",
       "29  Vigo                       es1137a 396299  080440-99999 25.923040 55321   \n",
       "    ws        wd        air_temp  atmos_pres visibility dew_point RH       \n",
       "137 0.9971583 0.9841283 0.9998948 0.9995369  0.9951375  0.9998316 0.9998316\n",
       "46  0.9997455 0.9847280 0.9999364 0.9998409  0.9999364  0.9967547 0.9967229\n",
       "145 0.9996336 0.9972925 0.9999186 0.9996539  0.9940149  0.9947885 0.9947885\n",
       "155 0.9971583 0.9841283 0.9998948 0.9995369  0.9951375  0.9998316 0.9998316\n",
       "63  0.9996917 0.8863132 0.9999383 0.9996301  0.9996301  0.9996917 0.9996917\n",
       "105 0.9998969 0.9805721 0.9999175 0.9980613  0.9954833  0.9992369 0.9992369\n",
       "69  0.9993327 0.9948080 0.9999791 0.9993119  0.9935360  0.9998540 0.9998332\n",
       "115 0.9992715 0.9896127 0.9999060 0.9992480  0.9854766  0.9996945 0.9996710\n",
       "34  0.9919598 0.9536846 0.9999603 0.9997221  0.9913444  0.9986897 0.9986897\n",
       "40  0.9999014 0.9875653 0.9999179 0.9970104  0.9873682  0.9999179 0.9999014\n",
       "26  0.9926429 0.9699752 0.9999819 0.9934564  0.9898411  0.9961859 0.9961859\n",
       "52  0.9981099 0.9821630 0.9999841 0.9994758  0.9886434  0.9941708 0.9941708\n",
       "126 0.9949125 0.9817530 0.9998598 0.9983976  0.9940312  0.9996395 0.9995193\n",
       "143 0.9997455 0.9847280 0.9999364 0.9998409  0.9999364  0.9967547 0.9967229\n",
       "118 0.9987653 0.9949664 0.9999209 0.9994618  0.9828888  0.9995410 0.9995410\n",
       "134 0.9810458 0.9746752 0.9999685 0.9997162  0.9941813  0.9973193 0.9973193\n",
       "29  0.9926429 0.9699752 0.9999819 0.9934564  0.9898411  0.9961859 0.9961859\n",
       "    numVar\n",
       "137 7     \n",
       "46  7     \n",
       "145 7     \n",
       "155 7     \n",
       "63  7     \n",
       "105 7     \n",
       "69  7     \n",
       "115 7     \n",
       "34  7     \n",
       "40  7     \n",
       "26  7     \n",
       "52  7     \n",
       "126 7     \n",
       "143 7     \n",
       "118 7     \n",
       "134 7     \n",
       "29  7     "
      ]
     },
     "metadata": {},
     "output_type": "display_data"
    }
   ],
   "source": [
    "municipios <- levels(as.factor(dfs[, \"Municipio\"]))\n",
    "unique.cty <- data.frame()\n",
    "\n",
    "for (i in 1:length(municipios)) {\n",
    "    sm.city <- dfs[dfs$Municipio == municipios[i], ]\n",
    "    \n",
    "    unique.cty <- rbind(unique.cty, \n",
    "                        sm.city[which.max(sm.city$countAQ), ]\n",
    "                       )\n",
    "}\n",
    "\n",
    "unique.cty"
   ]
  },
  {
   "cell_type": "code",
   "execution_count": 38,
   "metadata": {},
   "outputs": [],
   "source": [
    "unique.cty <- unique.cty[order(-unique.cty$countAQ -unique.cty$countMto), ]\n",
    "\n",
    "resum.table[[\"1-estacionXciudad\"]] <- resum.Mto[resum.Mto$code %in% unique.cty$siteMto &\n",
    "                                                resum.Mto$site %in% unique.cty$siteAQ, ]"
   ]
  },
  {
   "cell_type": "code",
   "execution_count": 40,
   "metadata": {},
   "outputs": [],
   "source": [
    "write.xlsx(resum.table, \"../data/xlsx/resumen-3.xlsx\")"
   ]
  },
  {
   "cell_type": "code",
   "execution_count": null,
   "metadata": {},
   "outputs": [],
   "source": []
  }
 ],
 "metadata": {
  "kernelspec": {
   "display_name": "R",
   "language": "R",
   "name": "ir"
  },
  "language_info": {
   "codemirror_mode": "r",
   "file_extension": ".r",
   "mimetype": "text/x-r-source",
   "name": "R",
   "pygments_lexer": "r",
   "version": "3.6.3"
  }
 },
 "nbformat": 4,
 "nbformat_minor": 4
}
