{
 "cells": [
  {
   "cell_type": "code",
   "execution_count": 1,
   "metadata": {},
   "outputs": [
    {
     "name": "stderr",
     "output_type": "stream",
     "text": [
      "\n",
      "Attaching package: 'lubridate'\n",
      "\n",
      "\n",
      "The following objects are masked from 'package:base':\n",
      "\n",
      "    date, intersect, setdiff, union\n",
      "\n",
      "\n"
     ]
    }
   ],
   "source": [
    "library(lubridate)\n",
    "library(worldmet)"
   ]
  },
  {
   "cell_type": "markdown",
   "metadata": {},
   "source": [
    "data <- read.csv(\"../data/csv/dataMto/080110-99999.csv\")\n",
    "data$date <- ymd_hms(data$date)\n",
    "head(data)"
   ]
  },
  {
   "cell_type": "code",
   "execution_count": 2,
   "metadata": {},
   "outputs": [],
   "source": [
    "## Get Data from worlmet\n",
    "dataMto <- importNOAA(code = c(\"076000-99999\", \"080110-99999\"),\n",
    "                      year = 2010:2021,\n",
    "                      hourly = TRUE,\n",
    "                      n.cores = 10,\n",
    "                      quiet = FALSE,\n",
    "                      path = NA\n",
    "                     )\n",
    "#dataMto <- mutate_if(dataMto, is.character, as.factor)"
   ]
  },
  {
   "cell_type": "code",
   "execution_count": 3,
   "metadata": {},
   "outputs": [
    {
     "data": {
      "text/plain": [
       "[1] \"2010-01-01 UTC\""
      ]
     },
     "metadata": {},
     "output_type": "display_data"
    }
   ],
   "source": [
    "min(dataMto$date)\n",
    "data <- dataMto"
   ]
  },
  {
   "cell_type": "code",
   "execution_count": 4,
   "metadata": {},
   "outputs": [
    {
     "data": {
      "text/html": [
       "<table>\n",
       "<caption>A tibble: 6 × 25</caption>\n",
       "<thead>\n",
       "\t<tr><th scope=col>code</th><th scope=col>station</th><th scope=col>date</th><th scope=col>latitude</th><th scope=col>longitude</th><th scope=col>elev</th><th scope=col>ws</th><th scope=col>wd</th><th scope=col>air_temp</th><th scope=col>atmos_pres</th><th scope=col>⋯</th><th scope=col>cl_2</th><th scope=col>cl_3</th><th scope=col>cl</th><th scope=col>cl_1_height</th><th scope=col>cl_2_height</th><th scope=col>cl_3_height</th><th scope=col>precip_12</th><th scope=col>precip</th><th scope=col>precip_6</th><th scope=col>pwc</th></tr>\n",
       "\t<tr><th scope=col>&lt;fct&gt;</th><th scope=col>&lt;fct&gt;</th><th scope=col>&lt;dttm&gt;</th><th scope=col>&lt;dbl&gt;</th><th scope=col>&lt;dbl&gt;</th><th scope=col>&lt;dbl&gt;</th><th scope=col>&lt;dbl&gt;</th><th scope=col>&lt;dbl&gt;</th><th scope=col>&lt;dbl&gt;</th><th scope=col>&lt;dbl&gt;</th><th scope=col>⋯</th><th scope=col>&lt;dbl&gt;</th><th scope=col>&lt;dbl&gt;</th><th scope=col>&lt;dbl&gt;</th><th scope=col>&lt;dbl&gt;</th><th scope=col>&lt;dbl&gt;</th><th scope=col>&lt;dbl&gt;</th><th scope=col>&lt;dbl&gt;</th><th scope=col>&lt;dbl&gt;</th><th scope=col>&lt;dbl&gt;</th><th scope=col>&lt;fct&gt;</th></tr>\n",
       "</thead>\n",
       "<tbody>\n",
       "\t<tr><td>076000-99999</td><td>SOCOA, FR</td><td>2010-01-01 00:00:00</td><td>43.4</td><td>-1.683333</td><td>25</td><td> 9.3</td><td>240</td><td>9.0</td><td>997.6</td><td>⋯</td><td> 6</td><td>NA</td><td> 6</td><td>1080</td><td>1500</td><td>NA</td><td>NA</td><td>NA</td><td>NA</td><td>NA</td></tr>\n",
       "\t<tr><td>076000-99999</td><td>SOCOA, FR</td><td>2010-01-01 01:00:00</td><td>43.4</td><td>-1.683333</td><td>25</td><td>10.3</td><td>240</td><td>9.6</td><td>998.1</td><td>⋯</td><td>NA</td><td>NA</td><td>NA</td><td>  NA</td><td>  NA</td><td>NA</td><td>NA</td><td> 0</td><td>NA</td><td>NA</td></tr>\n",
       "\t<tr><td>076000-99999</td><td>SOCOA, FR</td><td>2010-01-01 02:00:00</td><td>43.4</td><td>-1.683333</td><td>25</td><td> 8.7</td><td>240</td><td>9.1</td><td>998.3</td><td>⋯</td><td>NA</td><td>NA</td><td>NA</td><td>  NA</td><td>  NA</td><td>NA</td><td>NA</td><td> 0</td><td>NA</td><td>NA</td></tr>\n",
       "\t<tr><td>076000-99999</td><td>SOCOA, FR</td><td>2010-01-01 03:00:00</td><td>43.4</td><td>-1.683333</td><td>25</td><td> 9.3</td><td>240</td><td>8.9</td><td>998.8</td><td>⋯</td><td> 6</td><td>NA</td><td> 6</td><td>1080</td><td>1500</td><td>NA</td><td>NA</td><td> 0</td><td>NA</td><td>NA</td></tr>\n",
       "\t<tr><td>076000-99999</td><td>SOCOA, FR</td><td>2010-01-01 04:00:00</td><td>43.4</td><td>-1.683333</td><td>25</td><td> 8.7</td><td>230</td><td>8.4</td><td>998.9</td><td>⋯</td><td>NA</td><td>NA</td><td>NA</td><td>  NA</td><td>  NA</td><td>NA</td><td>NA</td><td> 0</td><td>NA</td><td>NA</td></tr>\n",
       "\t<tr><td>076000-99999</td><td>SOCOA, FR</td><td>2010-01-01 05:00:00</td><td>43.4</td><td>-1.683333</td><td>25</td><td> 9.3</td><td>230</td><td>8.8</td><td>999.4</td><td>⋯</td><td>NA</td><td>NA</td><td>NA</td><td>  NA</td><td>  NA</td><td>NA</td><td>NA</td><td> 0</td><td>NA</td><td>NA</td></tr>\n",
       "</tbody>\n",
       "</table>\n"
      ],
      "text/latex": [
       "A tibble: 6 × 25\n",
       "\\begin{tabular}{lllllllllllllllllllll}\n",
       " code & station & date & latitude & longitude & elev & ws & wd & air\\_temp & atmos\\_pres & ⋯ & cl\\_2 & cl\\_3 & cl & cl\\_1\\_height & cl\\_2\\_height & cl\\_3\\_height & precip\\_12 & precip & precip\\_6 & pwc\\\\\n",
       " <fct> & <fct> & <dttm> & <dbl> & <dbl> & <dbl> & <dbl> & <dbl> & <dbl> & <dbl> & ⋯ & <dbl> & <dbl> & <dbl> & <dbl> & <dbl> & <dbl> & <dbl> & <dbl> & <dbl> & <fct>\\\\\n",
       "\\hline\n",
       "\t 076000-99999 & SOCOA, FR & 2010-01-01 00:00:00 & 43.4 & -1.683333 & 25 &  9.3 & 240 & 9.0 & 997.6 & ⋯ &  6 & NA &  6 & 1080 & 1500 & NA & NA & NA & NA & NA\\\\\n",
       "\t 076000-99999 & SOCOA, FR & 2010-01-01 01:00:00 & 43.4 & -1.683333 & 25 & 10.3 & 240 & 9.6 & 998.1 & ⋯ & NA & NA & NA &   NA &   NA & NA & NA &  0 & NA & NA\\\\\n",
       "\t 076000-99999 & SOCOA, FR & 2010-01-01 02:00:00 & 43.4 & -1.683333 & 25 &  8.7 & 240 & 9.1 & 998.3 & ⋯ & NA & NA & NA &   NA &   NA & NA & NA &  0 & NA & NA\\\\\n",
       "\t 076000-99999 & SOCOA, FR & 2010-01-01 03:00:00 & 43.4 & -1.683333 & 25 &  9.3 & 240 & 8.9 & 998.8 & ⋯ &  6 & NA &  6 & 1080 & 1500 & NA & NA &  0 & NA & NA\\\\\n",
       "\t 076000-99999 & SOCOA, FR & 2010-01-01 04:00:00 & 43.4 & -1.683333 & 25 &  8.7 & 230 & 8.4 & 998.9 & ⋯ & NA & NA & NA &   NA &   NA & NA & NA &  0 & NA & NA\\\\\n",
       "\t 076000-99999 & SOCOA, FR & 2010-01-01 05:00:00 & 43.4 & -1.683333 & 25 &  9.3 & 230 & 8.8 & 999.4 & ⋯ & NA & NA & NA &   NA &   NA & NA & NA &  0 & NA & NA\\\\\n",
       "\\end{tabular}\n"
      ],
      "text/markdown": [
       "\n",
       "A tibble: 6 × 25\n",
       "\n",
       "| code &lt;fct&gt; | station &lt;fct&gt; | date &lt;dttm&gt; | latitude &lt;dbl&gt; | longitude &lt;dbl&gt; | elev &lt;dbl&gt; | ws &lt;dbl&gt; | wd &lt;dbl&gt; | air_temp &lt;dbl&gt; | atmos_pres &lt;dbl&gt; | ⋯ ⋯ | cl_2 &lt;dbl&gt; | cl_3 &lt;dbl&gt; | cl &lt;dbl&gt; | cl_1_height &lt;dbl&gt; | cl_2_height &lt;dbl&gt; | cl_3_height &lt;dbl&gt; | precip_12 &lt;dbl&gt; | precip &lt;dbl&gt; | precip_6 &lt;dbl&gt; | pwc &lt;fct&gt; |\n",
       "|---|---|---|---|---|---|---|---|---|---|---|---|---|---|---|---|---|---|---|---|---|\n",
       "| 076000-99999 | SOCOA, FR | 2010-01-01 00:00:00 | 43.4 | -1.683333 | 25 |  9.3 | 240 | 9.0 | 997.6 | ⋯ |  6 | NA |  6 | 1080 | 1500 | NA | NA | NA | NA | NA |\n",
       "| 076000-99999 | SOCOA, FR | 2010-01-01 01:00:00 | 43.4 | -1.683333 | 25 | 10.3 | 240 | 9.6 | 998.1 | ⋯ | NA | NA | NA |   NA |   NA | NA | NA |  0 | NA | NA |\n",
       "| 076000-99999 | SOCOA, FR | 2010-01-01 02:00:00 | 43.4 | -1.683333 | 25 |  8.7 | 240 | 9.1 | 998.3 | ⋯ | NA | NA | NA |   NA |   NA | NA | NA |  0 | NA | NA |\n",
       "| 076000-99999 | SOCOA, FR | 2010-01-01 03:00:00 | 43.4 | -1.683333 | 25 |  9.3 | 240 | 8.9 | 998.8 | ⋯ |  6 | NA |  6 | 1080 | 1500 | NA | NA |  0 | NA | NA |\n",
       "| 076000-99999 | SOCOA, FR | 2010-01-01 04:00:00 | 43.4 | -1.683333 | 25 |  8.7 | 230 | 8.4 | 998.9 | ⋯ | NA | NA | NA |   NA |   NA | NA | NA |  0 | NA | NA |\n",
       "| 076000-99999 | SOCOA, FR | 2010-01-01 05:00:00 | 43.4 | -1.683333 | 25 |  9.3 | 230 | 8.8 | 999.4 | ⋯ | NA | NA | NA |   NA |   NA | NA | NA |  0 | NA | NA |\n",
       "\n"
      ],
      "text/plain": [
       "  code         station   date                latitude longitude elev ws   wd \n",
       "1 076000-99999 SOCOA, FR 2010-01-01 00:00:00 43.4     -1.683333 25    9.3 240\n",
       "2 076000-99999 SOCOA, FR 2010-01-01 01:00:00 43.4     -1.683333 25   10.3 240\n",
       "3 076000-99999 SOCOA, FR 2010-01-01 02:00:00 43.4     -1.683333 25    8.7 240\n",
       "4 076000-99999 SOCOA, FR 2010-01-01 03:00:00 43.4     -1.683333 25    9.3 240\n",
       "5 076000-99999 SOCOA, FR 2010-01-01 04:00:00 43.4     -1.683333 25    8.7 230\n",
       "6 076000-99999 SOCOA, FR 2010-01-01 05:00:00 43.4     -1.683333 25    9.3 230\n",
       "  air_temp atmos_pres <U+22EF>   cl_2 cl_3 cl cl_1_height cl_2_height cl_3_height\n",
       "1 9.0      997.6      <U+22EF>  6   NA    6 1080        1500        NA         \n",
       "2 9.6      998.1      <U+22EF> NA   NA   NA   NA          NA        NA         \n",
       "3 9.1      998.3      <U+22EF> NA   NA   NA   NA          NA        NA         \n",
       "4 8.9      998.8      <U+22EF>  6   NA    6 1080        1500        NA         \n",
       "5 8.4      998.9      <U+22EF> NA   NA   NA   NA          NA        NA         \n",
       "6 8.8      999.4      <U+22EF> NA   NA   NA   NA          NA        NA         \n",
       "  precip_12 precip precip_6 pwc\n",
       "1 NA        NA     NA       NA \n",
       "2 NA         0     NA       NA \n",
       "3 NA         0     NA       NA \n",
       "4 NA         0     NA       NA \n",
       "5 NA         0     NA       NA \n",
       "6 NA         0     NA       NA "
      ]
     },
     "metadata": {},
     "output_type": "display_data"
    }
   ],
   "source": [
    "head(data)"
   ]
  },
  {
   "cell_type": "code",
   "execution_count": 5,
   "metadata": {},
   "outputs": [],
   "source": [
    "all.resumen <- data.frame(matrix(rep(NA, 22), nrow=1))\n",
    "names(all.resumen) <- c('site', 'start_dt', 'end_dt',\n",
    "                        'ws', 'wd', 'air_temp', 'atmos_pres', 'visibility', 'dew_point', 'RH', \n",
    "                        'ceil_hgt', 'cl_1', 'cl_2', 'cl_3', 'cl', 'cl_1_height', 'cl_2_height', \n",
    "                        'cl_3_height', 'precip_12', 'precip_6', 'precip', 'pwc')"
   ]
  },
  {
   "cell_type": "markdown",
   "metadata": {},
   "source": [
    "```R\n",
    "for (st in levels(data$code)[1:1]) {\n",
    "\n",
    "    data.st <- data[data$code == st, ]\n",
    "    resume <- data.frame(site = rep(st, rep(2)),\n",
    "                         start_dt = min(data.st$date),\n",
    "                         end_dt = max(data.st$date)\n",
    "                        )\n",
    "    resume <- cbind(resume, data.frame(matrix(rep(NA, 19), nrow=1)))\n",
    "    \n",
    "    row.names(resume) <- c(\"resolucion/h.\", \"proporcion\")\n",
    "    names(resume) <- c('site', 'start_dt', 'end_dt',\n",
    "                            'ws', 'wd', 'air_temp', 'atmos_pres', 'visibility', 'dew_point', 'RH', \n",
    "                            'ceil_hgt', 'cl_1', 'cl_2', 'cl_3', 'cl', 'cl_1_height', 'cl_2_height', \n",
    "                            'cl_3_height', 'precip_12', 'precip_6', 'precip', 'pwc')\n",
    "\n",
    "    for (cl in 7:ncol(data)) {\n",
    "        a <- data[data$code == st, c(3, cl)]\n",
    "        a <- a[complete.cases(a), ]\n",
    "\n",
    "        if (nrow(a) > 0) {\n",
    "            minResolut <- max(a$date) - min(a$date)\n",
    "\n",
    "            for (i in 2:nrow(a)) {\n",
    "                resolut <- a$date[i] - a$date[i-1]\n",
    "                if (resolut > 0) {\n",
    "                    minResolut <- min(minResolut, resolut)\n",
    "                }\n",
    "            }\n",
    "\n",
    "            resume[,names(data)[cl]] <- c(as.numeric(minResolut / 3600),\n",
    "                               as.numeric(minResolut / 3600)*nrow(a) / nrow(data)\n",
    "                              )\n",
    "        }\n",
    "    }\n",
    "    all.resumen <- rbind(all.resumen, resume)\n",
    "}\n",
    "```"
   ]
  },
  {
   "cell_type": "code",
   "execution_count": 14,
   "metadata": {},
   "outputs": [],
   "source": [
    "func <- function(st) {\n",
    "\n",
    "    data.st <- data[data$code == st, ]\n",
    "    resume <- data.frame(site = rep(st, rep(2)),\n",
    "                         start_dt = min(data.st$date),\n",
    "                         end_dt = max(data.st$date)\n",
    "                        )\n",
    "    resume <- cbind(resume, data.frame(matrix(rep(NA, 38), nrow=2)))\n",
    "    \n",
    "    row.names(resume) <- c(\"resolucion/h.\", \"proporcion\")\n",
    "    names(resume) <- c('site', 'start_dt', 'end_dt',\n",
    "                            'ws', 'wd', 'air_temp', 'atmos_pres', 'visibility', 'dew_point', 'RH', \n",
    "                            'ceil_hgt', 'cl_1', 'cl_2', 'cl_3', 'cl', 'cl_1_height', 'cl_2_height', \n",
    "                            'cl_3_height', 'precip_12', 'precip_6', 'precip', 'pwc')\n",
    "\n",
    "    for (cl in 7:ncol(data)) {\n",
    "        a <- data[data$code == st, c(3, cl)]\n",
    "        a <- a[complete.cases(a), ]\n",
    "\n",
    "        if (nrow(a) > 0) {\n",
    "            minResolut <- max(a$date) - min(a$date)\n",
    "\n",
    "            for (i in 2:nrow(a)) {\n",
    "                resolut <- a$date[i] - a$date[i-1]\n",
    "                if (resolut > 0) {\n",
    "                    minResolut <- min(minResolut, resolut)\n",
    "                }\n",
    "            }\n",
    "\n",
    "            resume[,names(data)[cl]] <- c(as.numeric(minResolut / 3600),\n",
    "                               as.numeric(minResolut / 3600)*nrow(a) / nrow(data)\n",
    "                              )\n",
    "        }\n",
    "    }\n",
    "    resume\n",
    "}"
   ]
  },
  {
   "cell_type": "code",
   "execution_count": 15,
   "metadata": {},
   "outputs": [
    {
     "data": {
      "text/html": [
       "<table>\n",
       "<caption>A data.frame: 6 × 22</caption>\n",
       "<thead>\n",
       "\t<tr><th></th><th scope=col>site</th><th scope=col>start_dt</th><th scope=col>end_dt</th><th scope=col>ws</th><th scope=col>wd</th><th scope=col>air_temp</th><th scope=col>atmos_pres</th><th scope=col>visibility</th><th scope=col>dew_point</th><th scope=col>RH</th><th scope=col>⋯</th><th scope=col>cl_2</th><th scope=col>cl_3</th><th scope=col>cl</th><th scope=col>cl_1_height</th><th scope=col>cl_2_height</th><th scope=col>cl_3_height</th><th scope=col>precip_12</th><th scope=col>precip_6</th><th scope=col>precip</th><th scope=col>pwc</th></tr>\n",
       "\t<tr><th></th><th scope=col>&lt;chr&gt;</th><th scope=col>&lt;dbl&gt;</th><th scope=col>&lt;dbl&gt;</th><th scope=col>&lt;dbl&gt;</th><th scope=col>&lt;dbl&gt;</th><th scope=col>&lt;dbl&gt;</th><th scope=col>&lt;dbl&gt;</th><th scope=col>&lt;dbl&gt;</th><th scope=col>&lt;dbl&gt;</th><th scope=col>&lt;dbl&gt;</th><th scope=col>⋯</th><th scope=col>&lt;dbl&gt;</th><th scope=col>&lt;dbl&gt;</th><th scope=col>&lt;dbl&gt;</th><th scope=col>&lt;dbl&gt;</th><th scope=col>&lt;dbl&gt;</th><th scope=col>&lt;dbl&gt;</th><th scope=col>&lt;dbl&gt;</th><th scope=col>&lt;dbl&gt;</th><th scope=col>&lt;dbl&gt;</th><th scope=col>&lt;dbl&gt;</th></tr>\n",
       "</thead>\n",
       "<tbody>\n",
       "\t<tr><th scope=row>1</th><td>NA          </td><td>        NA</td><td>        NA</td><td>       NA</td><td>       NA</td><td>       NA</td><td>       NA</td><td>       NA</td><td>       NA</td><td>       NA</td><td>⋯</td><td>        NA</td><td>         NA</td><td>       NA</td><td>       NA</td><td>        NA</td><td>         NA</td><td>         NA</td><td>        NA</td><td>        NA</td><td>        NA</td></tr>\n",
       "\t<tr><th scope=row>resolucion/h.</th><td>076000-99999</td><td>1262304000</td><td>1611867600</td><td>1.0000000</td><td>1.0000000</td><td>1.0000000</td><td>1.0000000</td><td>1.0000000</td><td>1.0000000</td><td>1.0000000</td><td>⋯</td><td>1.00000000</td><td>1.000000000</td><td>1.0000000</td><td>1.0000000</td><td>1.00000000</td><td>1.000000000</td><td>         NA</td><td>        NA</td><td>1.00000000</td><td>        NA</td></tr>\n",
       "\t<tr><th scope=row>proporcion</th><td>076000-99999</td><td>1262304000</td><td>1611867600</td><td>0.4854042</td><td>0.4791467</td><td>0.4859141</td><td>0.4858575</td><td>0.1152158</td><td>0.4855124</td><td>0.4855072</td><td>⋯</td><td>0.03324475</td><td>0.001740779</td><td>0.1067952</td><td>0.1036175</td><td>0.03324475</td><td>0.001740779</td><td>         NA</td><td>        NA</td><td>0.48269007</td><td>        NA</td></tr>\n",
       "\t<tr><th scope=row>11</th><td>NA          </td><td>        NA</td><td>        NA</td><td>       NA</td><td>       NA</td><td>       NA</td><td>       NA</td><td>       NA</td><td>       NA</td><td>       NA</td><td>⋯</td><td>        NA</td><td>         NA</td><td>       NA</td><td>       NA</td><td>        NA</td><td>         NA</td><td>         NA</td><td>        NA</td><td>        NA</td><td>        NA</td></tr>\n",
       "\t<tr><th scope=row>resolucion/h.1</th><td>080110-99999</td><td>1262322000</td><td>1611867600</td><td>1.0000000</td><td>1.0000000</td><td>1.0000000</td><td>1.0000000</td><td>1.0000000</td><td>1.0000000</td><td>1.0000000</td><td>⋯</td><td>1.00000000</td><td>1.000000000</td><td>1.0000000</td><td>1.0000000</td><td>1.00000000</td><td>1.000000000</td><td>12.00000000</td><td>6.00000000</td><td>1.00000000</td><td>1.00000000</td></tr>\n",
       "\t<tr><th scope=row>proporcion1</th><td>080110-99999</td><td>1262322000</td><td>1611867600</td><td>0.4311568</td><td>0.3896717</td><td>0.4308839</td><td>0.2535459</td><td>0.2847666</td><td>0.4308633</td><td>0.4308633</td><td>⋯</td><td>0.20440757</td><td>0.051080004</td><td>0.3499892</td><td>0.3512922</td><td>0.20342902</td><td>0.051069703</td><td> 0.07150582</td><td>0.03596922</td><td>0.06706117</td><td>0.02837778</td></tr>\n",
       "</tbody>\n",
       "</table>\n"
      ],
      "text/latex": [
       "A data.frame: 6 × 22\n",
       "\\begin{tabular}{r|lllllllllllllllllllll}\n",
       "  & site & start\\_dt & end\\_dt & ws & wd & air\\_temp & atmos\\_pres & visibility & dew\\_point & RH & ⋯ & cl\\_2 & cl\\_3 & cl & cl\\_1\\_height & cl\\_2\\_height & cl\\_3\\_height & precip\\_12 & precip\\_6 & precip & pwc\\\\\n",
       "  & <chr> & <dbl> & <dbl> & <dbl> & <dbl> & <dbl> & <dbl> & <dbl> & <dbl> & <dbl> & ⋯ & <dbl> & <dbl> & <dbl> & <dbl> & <dbl> & <dbl> & <dbl> & <dbl> & <dbl> & <dbl>\\\\\n",
       "\\hline\n",
       "\t1 & NA           &         NA &         NA &        NA &        NA &        NA &        NA &        NA &        NA &        NA & ⋯ &         NA &          NA &        NA &        NA &         NA &          NA &          NA &         NA &         NA &         NA\\\\\n",
       "\tresolucion/h. & 076000-99999 & 1262304000 & 1611867600 & 1.0000000 & 1.0000000 & 1.0000000 & 1.0000000 & 1.0000000 & 1.0000000 & 1.0000000 & ⋯ & 1.00000000 & 1.000000000 & 1.0000000 & 1.0000000 & 1.00000000 & 1.000000000 &          NA &         NA & 1.00000000 &         NA\\\\\n",
       "\tproporcion & 076000-99999 & 1262304000 & 1611867600 & 0.4854042 & 0.4791467 & 0.4859141 & 0.4858575 & 0.1152158 & 0.4855124 & 0.4855072 & ⋯ & 0.03324475 & 0.001740779 & 0.1067952 & 0.1036175 & 0.03324475 & 0.001740779 &          NA &         NA & 0.48269007 &         NA\\\\\n",
       "\t11 & NA           &         NA &         NA &        NA &        NA &        NA &        NA &        NA &        NA &        NA & ⋯ &         NA &          NA &        NA &        NA &         NA &          NA &          NA &         NA &         NA &         NA\\\\\n",
       "\tresolucion/h.1 & 080110-99999 & 1262322000 & 1611867600 & 1.0000000 & 1.0000000 & 1.0000000 & 1.0000000 & 1.0000000 & 1.0000000 & 1.0000000 & ⋯ & 1.00000000 & 1.000000000 & 1.0000000 & 1.0000000 & 1.00000000 & 1.000000000 & 12.00000000 & 6.00000000 & 1.00000000 & 1.00000000\\\\\n",
       "\tproporcion1 & 080110-99999 & 1262322000 & 1611867600 & 0.4311568 & 0.3896717 & 0.4308839 & 0.2535459 & 0.2847666 & 0.4308633 & 0.4308633 & ⋯ & 0.20440757 & 0.051080004 & 0.3499892 & 0.3512922 & 0.20342902 & 0.051069703 &  0.07150582 & 0.03596922 & 0.06706117 & 0.02837778\\\\\n",
       "\\end{tabular}\n"
      ],
      "text/markdown": [
       "\n",
       "A data.frame: 6 × 22\n",
       "\n",
       "| <!--/--> | site &lt;chr&gt; | start_dt &lt;dbl&gt; | end_dt &lt;dbl&gt; | ws &lt;dbl&gt; | wd &lt;dbl&gt; | air_temp &lt;dbl&gt; | atmos_pres &lt;dbl&gt; | visibility &lt;dbl&gt; | dew_point &lt;dbl&gt; | RH &lt;dbl&gt; | ⋯ ⋯ | cl_2 &lt;dbl&gt; | cl_3 &lt;dbl&gt; | cl &lt;dbl&gt; | cl_1_height &lt;dbl&gt; | cl_2_height &lt;dbl&gt; | cl_3_height &lt;dbl&gt; | precip_12 &lt;dbl&gt; | precip_6 &lt;dbl&gt; | precip &lt;dbl&gt; | pwc &lt;dbl&gt; |\n",
       "|---|---|---|---|---|---|---|---|---|---|---|---|---|---|---|---|---|---|---|---|---|---|\n",
       "| 1 | NA           |         NA |         NA |        NA |        NA |        NA |        NA |        NA |        NA |        NA | ⋯ |         NA |          NA |        NA |        NA |         NA |          NA |          NA |         NA |         NA |         NA |\n",
       "| resolucion/h. | 076000-99999 | 1262304000 | 1611867600 | 1.0000000 | 1.0000000 | 1.0000000 | 1.0000000 | 1.0000000 | 1.0000000 | 1.0000000 | ⋯ | 1.00000000 | 1.000000000 | 1.0000000 | 1.0000000 | 1.00000000 | 1.000000000 |          NA |         NA | 1.00000000 |         NA |\n",
       "| proporcion | 076000-99999 | 1262304000 | 1611867600 | 0.4854042 | 0.4791467 | 0.4859141 | 0.4858575 | 0.1152158 | 0.4855124 | 0.4855072 | ⋯ | 0.03324475 | 0.001740779 | 0.1067952 | 0.1036175 | 0.03324475 | 0.001740779 |          NA |         NA | 0.48269007 |         NA |\n",
       "| 11 | NA           |         NA |         NA |        NA |        NA |        NA |        NA |        NA |        NA |        NA | ⋯ |         NA |          NA |        NA |        NA |         NA |          NA |          NA |         NA |         NA |         NA |\n",
       "| resolucion/h.1 | 080110-99999 | 1262322000 | 1611867600 | 1.0000000 | 1.0000000 | 1.0000000 | 1.0000000 | 1.0000000 | 1.0000000 | 1.0000000 | ⋯ | 1.00000000 | 1.000000000 | 1.0000000 | 1.0000000 | 1.00000000 | 1.000000000 | 12.00000000 | 6.00000000 | 1.00000000 | 1.00000000 |\n",
       "| proporcion1 | 080110-99999 | 1262322000 | 1611867600 | 0.4311568 | 0.3896717 | 0.4308839 | 0.2535459 | 0.2847666 | 0.4308633 | 0.4308633 | ⋯ | 0.20440757 | 0.051080004 | 0.3499892 | 0.3512922 | 0.20342902 | 0.051069703 |  0.07150582 | 0.03596922 | 0.06706117 | 0.02837778 |\n",
       "\n"
      ],
      "text/plain": [
       "               site         start_dt   end_dt     ws        wd        air_temp \n",
       "1              NA                   NA         NA        NA        NA        NA\n",
       "resolucion/h.  076000-99999 1262304000 1611867600 1.0000000 1.0000000 1.0000000\n",
       "proporcion     076000-99999 1262304000 1611867600 0.4854042 0.4791467 0.4859141\n",
       "11             NA                   NA         NA        NA        NA        NA\n",
       "resolucion/h.1 080110-99999 1262322000 1611867600 1.0000000 1.0000000 1.0000000\n",
       "proporcion1    080110-99999 1262322000 1611867600 0.4311568 0.3896717 0.4308839\n",
       "               atmos_pres visibility dew_point RH        <U+22EF>   cl_2      \n",
       "1                     NA         NA         NA        NA <U+22EF>         NA\n",
       "resolucion/h.  1.0000000  1.0000000  1.0000000 1.0000000 <U+22EF> 1.00000000\n",
       "proporcion     0.4858575  0.1152158  0.4855124 0.4855072 <U+22EF> 0.03324475\n",
       "11                    NA         NA         NA        NA <U+22EF>         NA\n",
       "resolucion/h.1 1.0000000  1.0000000  1.0000000 1.0000000 <U+22EF> 1.00000000\n",
       "proporcion1    0.2535459  0.2847666  0.4308633 0.4308633 <U+22EF> 0.20440757\n",
       "               cl_3        cl        cl_1_height cl_2_height cl_3_height\n",
       "1                       NA        NA        NA           NA           NA\n",
       "resolucion/h.  1.000000000 1.0000000 1.0000000   1.00000000  1.000000000\n",
       "proporcion     0.001740779 0.1067952 0.1036175   0.03324475  0.001740779\n",
       "11                      NA        NA        NA           NA           NA\n",
       "resolucion/h.1 1.000000000 1.0000000 1.0000000   1.00000000  1.000000000\n",
       "proporcion1    0.051080004 0.3499892 0.3512922   0.20342902  0.051069703\n",
       "               precip_12   precip_6   precip     pwc       \n",
       "1                       NA         NA         NA         NA\n",
       "resolucion/h.           NA         NA 1.00000000         NA\n",
       "proporcion              NA         NA 0.48269007         NA\n",
       "11                      NA         NA         NA         NA\n",
       "resolucion/h.1 12.00000000 6.00000000 1.00000000 1.00000000\n",
       "proporcion1     0.07150582 0.03596922 0.06706117 0.02837778"
      ]
     },
     "metadata": {},
     "output_type": "display_data"
    }
   ],
   "source": [
    "a"
   ]
  },
  {
   "cell_type": "code",
   "execution_count": 16,
   "metadata": {},
   "outputs": [],
   "source": [
    "a <- do.call(\"rbind\", lapply(levels(data$code)[1:2], func))"
   ]
  },
  {
   "cell_type": "code",
   "execution_count": 17,
   "metadata": {},
   "outputs": [
    {
     "data": {
      "text/html": [
       "<table>\n",
       "<caption>A data.frame: 4 × 22</caption>\n",
       "<thead>\n",
       "\t<tr><th></th><th scope=col>site</th><th scope=col>start_dt</th><th scope=col>end_dt</th><th scope=col>ws</th><th scope=col>wd</th><th scope=col>air_temp</th><th scope=col>atmos_pres</th><th scope=col>visibility</th><th scope=col>dew_point</th><th scope=col>RH</th><th scope=col>⋯</th><th scope=col>cl_2</th><th scope=col>cl_3</th><th scope=col>cl</th><th scope=col>cl_1_height</th><th scope=col>cl_2_height</th><th scope=col>cl_3_height</th><th scope=col>precip_12</th><th scope=col>precip_6</th><th scope=col>precip</th><th scope=col>pwc</th></tr>\n",
       "\t<tr><th></th><th scope=col>&lt;fct&gt;</th><th scope=col>&lt;dttm&gt;</th><th scope=col>&lt;dttm&gt;</th><th scope=col>&lt;dbl&gt;</th><th scope=col>&lt;dbl&gt;</th><th scope=col>&lt;dbl&gt;</th><th scope=col>&lt;dbl&gt;</th><th scope=col>&lt;dbl&gt;</th><th scope=col>&lt;dbl&gt;</th><th scope=col>&lt;dbl&gt;</th><th scope=col>⋯</th><th scope=col>&lt;dbl&gt;</th><th scope=col>&lt;dbl&gt;</th><th scope=col>&lt;dbl&gt;</th><th scope=col>&lt;dbl&gt;</th><th scope=col>&lt;dbl&gt;</th><th scope=col>&lt;dbl&gt;</th><th scope=col>&lt;dbl&gt;</th><th scope=col>&lt;dbl&gt;</th><th scope=col>&lt;dbl&gt;</th><th scope=col>&lt;dbl&gt;</th></tr>\n",
       "</thead>\n",
       "<tbody>\n",
       "\t<tr><th scope=row>resolucion/h.</th><td>076000-99999</td><td>2010-01-01 00:00:00</td><td>2021-01-28 21:00:00</td><td>1.0000000</td><td>1.0000000</td><td>1.0000000</td><td>1.0000000</td><td>1.0000000</td><td>1.0000000</td><td>1.0000000</td><td>⋯</td><td>1.00000000</td><td>1.000000000</td><td>1.0000000</td><td>1.0000000</td><td>1.00000000</td><td>1.000000000</td><td>         NA</td><td>        NA</td><td>1.00000000</td><td>        NA</td></tr>\n",
       "\t<tr><th scope=row>proporcion</th><td>076000-99999</td><td>2010-01-01 00:00:00</td><td>2021-01-28 21:00:00</td><td>0.4854042</td><td>0.4791467</td><td>0.4859141</td><td>0.4858575</td><td>0.1152158</td><td>0.4855124</td><td>0.4855072</td><td>⋯</td><td>0.03324475</td><td>0.001740779</td><td>0.1067952</td><td>0.1036175</td><td>0.03324475</td><td>0.001740779</td><td>         NA</td><td>        NA</td><td>0.48269007</td><td>        NA</td></tr>\n",
       "\t<tr><th scope=row>resolucion/h.1</th><td>080110-99999</td><td>2010-01-01 05:00:00</td><td>2021-01-28 21:00:00</td><td>1.0000000</td><td>1.0000000</td><td>1.0000000</td><td>1.0000000</td><td>1.0000000</td><td>1.0000000</td><td>1.0000000</td><td>⋯</td><td>1.00000000</td><td>1.000000000</td><td>1.0000000</td><td>1.0000000</td><td>1.00000000</td><td>1.000000000</td><td>12.00000000</td><td>6.00000000</td><td>1.00000000</td><td>1.00000000</td></tr>\n",
       "\t<tr><th scope=row>proporcion1</th><td>080110-99999</td><td>2010-01-01 05:00:00</td><td>2021-01-28 21:00:00</td><td>0.4311568</td><td>0.3896717</td><td>0.4308839</td><td>0.2535459</td><td>0.2847666</td><td>0.4308633</td><td>0.4308633</td><td>⋯</td><td>0.20440757</td><td>0.051080004</td><td>0.3499892</td><td>0.3512922</td><td>0.20342902</td><td>0.051069703</td><td> 0.07150582</td><td>0.03596922</td><td>0.06706117</td><td>0.02837778</td></tr>\n",
       "</tbody>\n",
       "</table>\n"
      ],
      "text/latex": [
       "A data.frame: 4 × 22\n",
       "\\begin{tabular}{r|lllllllllllllllllllll}\n",
       "  & site & start\\_dt & end\\_dt & ws & wd & air\\_temp & atmos\\_pres & visibility & dew\\_point & RH & ⋯ & cl\\_2 & cl\\_3 & cl & cl\\_1\\_height & cl\\_2\\_height & cl\\_3\\_height & precip\\_12 & precip\\_6 & precip & pwc\\\\\n",
       "  & <fct> & <dttm> & <dttm> & <dbl> & <dbl> & <dbl> & <dbl> & <dbl> & <dbl> & <dbl> & ⋯ & <dbl> & <dbl> & <dbl> & <dbl> & <dbl> & <dbl> & <dbl> & <dbl> & <dbl> & <dbl>\\\\\n",
       "\\hline\n",
       "\tresolucion/h. & 076000-99999 & 2010-01-01 00:00:00 & 2021-01-28 21:00:00 & 1.0000000 & 1.0000000 & 1.0000000 & 1.0000000 & 1.0000000 & 1.0000000 & 1.0000000 & ⋯ & 1.00000000 & 1.000000000 & 1.0000000 & 1.0000000 & 1.00000000 & 1.000000000 &          NA &         NA & 1.00000000 &         NA\\\\\n",
       "\tproporcion & 076000-99999 & 2010-01-01 00:00:00 & 2021-01-28 21:00:00 & 0.4854042 & 0.4791467 & 0.4859141 & 0.4858575 & 0.1152158 & 0.4855124 & 0.4855072 & ⋯ & 0.03324475 & 0.001740779 & 0.1067952 & 0.1036175 & 0.03324475 & 0.001740779 &          NA &         NA & 0.48269007 &         NA\\\\\n",
       "\tresolucion/h.1 & 080110-99999 & 2010-01-01 05:00:00 & 2021-01-28 21:00:00 & 1.0000000 & 1.0000000 & 1.0000000 & 1.0000000 & 1.0000000 & 1.0000000 & 1.0000000 & ⋯ & 1.00000000 & 1.000000000 & 1.0000000 & 1.0000000 & 1.00000000 & 1.000000000 & 12.00000000 & 6.00000000 & 1.00000000 & 1.00000000\\\\\n",
       "\tproporcion1 & 080110-99999 & 2010-01-01 05:00:00 & 2021-01-28 21:00:00 & 0.4311568 & 0.3896717 & 0.4308839 & 0.2535459 & 0.2847666 & 0.4308633 & 0.4308633 & ⋯ & 0.20440757 & 0.051080004 & 0.3499892 & 0.3512922 & 0.20342902 & 0.051069703 &  0.07150582 & 0.03596922 & 0.06706117 & 0.02837778\\\\\n",
       "\\end{tabular}\n"
      ],
      "text/markdown": [
       "\n",
       "A data.frame: 4 × 22\n",
       "\n",
       "| <!--/--> | site &lt;fct&gt; | start_dt &lt;dttm&gt; | end_dt &lt;dttm&gt; | ws &lt;dbl&gt; | wd &lt;dbl&gt; | air_temp &lt;dbl&gt; | atmos_pres &lt;dbl&gt; | visibility &lt;dbl&gt; | dew_point &lt;dbl&gt; | RH &lt;dbl&gt; | ⋯ ⋯ | cl_2 &lt;dbl&gt; | cl_3 &lt;dbl&gt; | cl &lt;dbl&gt; | cl_1_height &lt;dbl&gt; | cl_2_height &lt;dbl&gt; | cl_3_height &lt;dbl&gt; | precip_12 &lt;dbl&gt; | precip_6 &lt;dbl&gt; | precip &lt;dbl&gt; | pwc &lt;dbl&gt; |\n",
       "|---|---|---|---|---|---|---|---|---|---|---|---|---|---|---|---|---|---|---|---|---|---|\n",
       "| resolucion/h. | 076000-99999 | 2010-01-01 00:00:00 | 2021-01-28 21:00:00 | 1.0000000 | 1.0000000 | 1.0000000 | 1.0000000 | 1.0000000 | 1.0000000 | 1.0000000 | ⋯ | 1.00000000 | 1.000000000 | 1.0000000 | 1.0000000 | 1.00000000 | 1.000000000 |          NA |         NA | 1.00000000 |         NA |\n",
       "| proporcion | 076000-99999 | 2010-01-01 00:00:00 | 2021-01-28 21:00:00 | 0.4854042 | 0.4791467 | 0.4859141 | 0.4858575 | 0.1152158 | 0.4855124 | 0.4855072 | ⋯ | 0.03324475 | 0.001740779 | 0.1067952 | 0.1036175 | 0.03324475 | 0.001740779 |          NA |         NA | 0.48269007 |         NA |\n",
       "| resolucion/h.1 | 080110-99999 | 2010-01-01 05:00:00 | 2021-01-28 21:00:00 | 1.0000000 | 1.0000000 | 1.0000000 | 1.0000000 | 1.0000000 | 1.0000000 | 1.0000000 | ⋯ | 1.00000000 | 1.000000000 | 1.0000000 | 1.0000000 | 1.00000000 | 1.000000000 | 12.00000000 | 6.00000000 | 1.00000000 | 1.00000000 |\n",
       "| proporcion1 | 080110-99999 | 2010-01-01 05:00:00 | 2021-01-28 21:00:00 | 0.4311568 | 0.3896717 | 0.4308839 | 0.2535459 | 0.2847666 | 0.4308633 | 0.4308633 | ⋯ | 0.20440757 | 0.051080004 | 0.3499892 | 0.3512922 | 0.20342902 | 0.051069703 |  0.07150582 | 0.03596922 | 0.06706117 | 0.02837778 |\n",
       "\n"
      ],
      "text/plain": [
       "               site         start_dt            end_dt              ws       \n",
       "resolucion/h.  076000-99999 2010-01-01 00:00:00 2021-01-28 21:00:00 1.0000000\n",
       "proporcion     076000-99999 2010-01-01 00:00:00 2021-01-28 21:00:00 0.4854042\n",
       "resolucion/h.1 080110-99999 2010-01-01 05:00:00 2021-01-28 21:00:00 1.0000000\n",
       "proporcion1    080110-99999 2010-01-01 05:00:00 2021-01-28 21:00:00 0.4311568\n",
       "               wd        air_temp  atmos_pres visibility dew_point RH       \n",
       "resolucion/h.  1.0000000 1.0000000 1.0000000  1.0000000  1.0000000 1.0000000\n",
       "proporcion     0.4791467 0.4859141 0.4858575  0.1152158  0.4855124 0.4855072\n",
       "resolucion/h.1 1.0000000 1.0000000 1.0000000  1.0000000  1.0000000 1.0000000\n",
       "proporcion1    0.3896717 0.4308839 0.2535459  0.2847666  0.4308633 0.4308633\n",
       "               <U+22EF>   cl_2       cl_3        cl        cl_1_height\n",
       "resolucion/h.  <U+22EF> 1.00000000 1.000000000 1.0000000 1.0000000  \n",
       "proporcion     <U+22EF> 0.03324475 0.001740779 0.1067952 0.1036175  \n",
       "resolucion/h.1 <U+22EF> 1.00000000 1.000000000 1.0000000 1.0000000  \n",
       "proporcion1    <U+22EF> 0.20440757 0.051080004 0.3499892 0.3512922  \n",
       "               cl_2_height cl_3_height precip_12   precip_6   precip    \n",
       "resolucion/h.  1.00000000  1.000000000          NA         NA 1.00000000\n",
       "proporcion     0.03324475  0.001740779          NA         NA 0.48269007\n",
       "resolucion/h.1 1.00000000  1.000000000 12.00000000 6.00000000 1.00000000\n",
       "proporcion1    0.20342902  0.051069703  0.07150582 0.03596922 0.06706117\n",
       "               pwc       \n",
       "resolucion/h.          NA\n",
       "proporcion             NA\n",
       "resolucion/h.1 1.00000000\n",
       "proporcion1    0.02837778"
      ]
     },
     "metadata": {},
     "output_type": "display_data"
    }
   ],
   "source": [
    "a"
   ]
  },
  {
   "cell_type": "code",
   "execution_count": null,
   "metadata": {},
   "outputs": [],
   "source": []
  }
 ],
 "metadata": {
  "kernelspec": {
   "display_name": "R",
   "language": "R",
   "name": "ir"
  },
  "language_info": {
   "codemirror_mode": "r",
   "file_extension": ".r",
   "mimetype": "text/x-r-source",
   "name": "R",
   "pygments_lexer": "r",
   "version": "3.6.3"
  }
 },
 "nbformat": 4,
 "nbformat_minor": 4
}
