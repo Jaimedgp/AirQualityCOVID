{
 "cells": [
  {
   "cell_type": "code",
   "execution_count": 1,
   "metadata": {},
   "outputs": [
    {
     "name": "stderr",
     "output_type": "stream",
     "text": [
      "\n",
      "Attaching package: 'lubridate'\n",
      "\n",
      "\n",
      "The following objects are masked from 'package:base':\n",
      "\n",
      "    date, intersect, setdiff, union\n",
      "\n",
      "\n"
     ]
    }
   ],
   "source": [
    "library(lubridate)"
   ]
  },
  {
   "cell_type": "code",
   "execution_count": 2,
   "metadata": {},
   "outputs": [
    {
     "data": {
      "text/html": [
       "<table>\n",
       "<caption>A data.frame: 6 × 23</caption>\n",
       "<thead>\n",
       "\t<tr><th></th><th scope=col>X</th><th scope=col>site</th><th scope=col>start_dt</th><th scope=col>end_dt</th><th scope=col>ws</th><th scope=col>wd</th><th scope=col>air_temp</th><th scope=col>atmos_pres</th><th scope=col>visibility</th><th scope=col>dew_point</th><th scope=col>⋯</th><th scope=col>precip</th><th scope=col>cl_1</th><th scope=col>cl_2</th><th scope=col>cl_3</th><th scope=col>cl</th><th scope=col>cl_1_height</th><th scope=col>cl_2_height</th><th scope=col>cl_3_height</th><th scope=col>precip_12</th><th scope=col>precip_6</th></tr>\n",
       "\t<tr><th></th><th scope=col>&lt;fct&gt;</th><th scope=col>&lt;fct&gt;</th><th scope=col>&lt;dttm&gt;</th><th scope=col>&lt;dttm&gt;</th><th scope=col>&lt;dbl&gt;</th><th scope=col>&lt;dbl&gt;</th><th scope=col>&lt;dbl&gt;</th><th scope=col>&lt;dbl&gt;</th><th scope=col>&lt;dbl&gt;</th><th scope=col>&lt;dbl&gt;</th><th scope=col>⋯</th><th scope=col>&lt;dbl&gt;</th><th scope=col>&lt;dbl&gt;</th><th scope=col>&lt;dbl&gt;</th><th scope=col>&lt;dbl&gt;</th><th scope=col>&lt;dbl&gt;</th><th scope=col>&lt;dbl&gt;</th><th scope=col>&lt;dbl&gt;</th><th scope=col>&lt;dbl&gt;</th><th scope=col>&lt;dbl&gt;</th><th scope=col>&lt;dbl&gt;</th></tr>\n",
       "</thead>\n",
       "<tbody>\n",
       "\t<tr><th scope=row>1</th><td>resolucion/h. </td><td>076000-99999</td><td>2018-01-01 00:00:00</td><td>2020-12-31 23:00:00</td><td>1.000000000</td><td>1.000000000</td><td>1.000000000</td><td>1.000000000</td><td>1.000000000</td><td>1.000000000</td><td>⋯</td><td>1.000000000</td><td>1.000000000</td><td>1.000000e+00</td><td>3.000000000</td><td>1.000000000</td><td>1.000000000</td><td>1.000000e+00</td><td>3.000000000</td><td>          NA</td><td>         NA</td></tr>\n",
       "\t<tr><th scope=row>2</th><td>proporcion    </td><td>076000-99999</td><td>2018-01-01 00:00:00</td><td>2020-12-31 23:00:00</td><td>0.008036997</td><td>0.007998519</td><td>0.008033499</td><td>0.008032863</td><td>0.001770912</td><td>0.008011875</td><td>⋯</td><td>0.008010603</td><td>0.001605873</td><td>6.881404e-04</td><td>0.000236588</td><td>0.001605873</td><td>0.001605873</td><td>6.881404e-04</td><td>0.000236588</td><td>          NA</td><td>         NA</td></tr>\n",
       "\t<tr><th scope=row>3</th><td>resolucion/h.1</td><td>080110-99999</td><td>2018-01-01 00:00:00</td><td>2020-12-31 23:30:00</td><td>0.000000000</td><td>0.000000000</td><td>0.000000000</td><td>1.000000000</td><td>0.000000000</td><td>0.000000000</td><td>⋯</td><td>3.000000000</td><td>0.000000000</td><td>0.000000e+00</td><td>0.000000000</td><td>0.000000000</td><td>0.000000000</td><td>0.000000e+00</td><td>0.000000000</td><td>          NA</td><td>         NA</td></tr>\n",
       "\t<tr><th scope=row>4</th><td>proporcion1   </td><td>080110-99999</td><td>2018-01-01 00:00:00</td><td>2020-12-31 23:30:00</td><td>0.000000000</td><td>0.000000000</td><td>0.000000000</td><td>0.008240195</td><td>0.000000000</td><td>0.000000000</td><td>⋯</td><td>0.003257855</td><td>0.000000000</td><td>0.000000e+00</td><td>0.000000000</td><td>0.000000000</td><td>0.000000000</td><td>0.000000e+00</td><td>0.000000000</td><td>          NA</td><td>         NA</td></tr>\n",
       "\t<tr><th scope=row>5</th><td>resolucion/h.2</td><td>080140-99999</td><td>2018-01-01 06:00:00</td><td>2020-12-21 12:00:00</td><td>3.000000000</td><td>3.000000000</td><td>3.000000000</td><td>3.000000000</td><td>3.000000000</td><td>3.000000000</td><td>⋯</td><td>3.000000000</td><td>3.000000000</td><td>3.000000e+00</td><td>         NA</td><td>3.000000000</td><td>3.000000000</td><td>3.000000e+00</td><td>         NA</td><td>12.000000000</td><td>6.000000000</td></tr>\n",
       "\t<tr><th scope=row>6</th><td>proporcion2   </td><td>080140-99999</td><td>2018-01-01 06:00:00</td><td>2020-12-21 12:00:00</td><td>0.003613691</td><td>0.003194892</td><td>0.003613691</td><td>0.003610829</td><td>0.003608921</td><td>0.003610829</td><td>⋯</td><td>0.002246632</td><td>0.003319864</td><td>6.773286e-05</td><td>         NA</td><td>0.003319864</td><td>0.003261671</td><td>6.773286e-05</td><td>         NA</td><td> 0.005246912</td><td>0.001146689</td></tr>\n",
       "</tbody>\n",
       "</table>\n"
      ],
      "text/latex": [
       "A data.frame: 6 × 23\n",
       "\\begin{tabular}{r|lllllllllllllllllllll}\n",
       "  & X & site & start\\_dt & end\\_dt & ws & wd & air\\_temp & atmos\\_pres & visibility & dew\\_point & ⋯ & precip & cl\\_1 & cl\\_2 & cl\\_3 & cl & cl\\_1\\_height & cl\\_2\\_height & cl\\_3\\_height & precip\\_12 & precip\\_6\\\\\n",
       "  & <fct> & <fct> & <dttm> & <dttm> & <dbl> & <dbl> & <dbl> & <dbl> & <dbl> & <dbl> & ⋯ & <dbl> & <dbl> & <dbl> & <dbl> & <dbl> & <dbl> & <dbl> & <dbl> & <dbl> & <dbl>\\\\\n",
       "\\hline\n",
       "\t1 & resolucion/h.  & 076000-99999 & 2018-01-01 00:00:00 & 2020-12-31 23:00:00 & 1.000000000 & 1.000000000 & 1.000000000 & 1.000000000 & 1.000000000 & 1.000000000 & ⋯ & 1.000000000 & 1.000000000 & 1.000000e+00 & 3.000000000 & 1.000000000 & 1.000000000 & 1.000000e+00 & 3.000000000 &           NA &          NA\\\\\n",
       "\t2 & proporcion     & 076000-99999 & 2018-01-01 00:00:00 & 2020-12-31 23:00:00 & 0.008036997 & 0.007998519 & 0.008033499 & 0.008032863 & 0.001770912 & 0.008011875 & ⋯ & 0.008010603 & 0.001605873 & 6.881404e-04 & 0.000236588 & 0.001605873 & 0.001605873 & 6.881404e-04 & 0.000236588 &           NA &          NA\\\\\n",
       "\t3 & resolucion/h.1 & 080110-99999 & 2018-01-01 00:00:00 & 2020-12-31 23:30:00 & 0.000000000 & 0.000000000 & 0.000000000 & 1.000000000 & 0.000000000 & 0.000000000 & ⋯ & 3.000000000 & 0.000000000 & 0.000000e+00 & 0.000000000 & 0.000000000 & 0.000000000 & 0.000000e+00 & 0.000000000 &           NA &          NA\\\\\n",
       "\t4 & proporcion1    & 080110-99999 & 2018-01-01 00:00:00 & 2020-12-31 23:30:00 & 0.000000000 & 0.000000000 & 0.000000000 & 0.008240195 & 0.000000000 & 0.000000000 & ⋯ & 0.003257855 & 0.000000000 & 0.000000e+00 & 0.000000000 & 0.000000000 & 0.000000000 & 0.000000e+00 & 0.000000000 &           NA &          NA\\\\\n",
       "\t5 & resolucion/h.2 & 080140-99999 & 2018-01-01 06:00:00 & 2020-12-21 12:00:00 & 3.000000000 & 3.000000000 & 3.000000000 & 3.000000000 & 3.000000000 & 3.000000000 & ⋯ & 3.000000000 & 3.000000000 & 3.000000e+00 &          NA & 3.000000000 & 3.000000000 & 3.000000e+00 &          NA & 12.000000000 & 6.000000000\\\\\n",
       "\t6 & proporcion2    & 080140-99999 & 2018-01-01 06:00:00 & 2020-12-21 12:00:00 & 0.003613691 & 0.003194892 & 0.003613691 & 0.003610829 & 0.003608921 & 0.003610829 & ⋯ & 0.002246632 & 0.003319864 & 6.773286e-05 &          NA & 0.003319864 & 0.003261671 & 6.773286e-05 &          NA &  0.005246912 & 0.001146689\\\\\n",
       "\\end{tabular}\n"
      ],
      "text/markdown": [
       "\n",
       "A data.frame: 6 × 23\n",
       "\n",
       "| <!--/--> | X &lt;fct&gt; | site &lt;fct&gt; | start_dt &lt;dttm&gt; | end_dt &lt;dttm&gt; | ws &lt;dbl&gt; | wd &lt;dbl&gt; | air_temp &lt;dbl&gt; | atmos_pres &lt;dbl&gt; | visibility &lt;dbl&gt; | dew_point &lt;dbl&gt; | ⋯ ⋯ | precip &lt;dbl&gt; | cl_1 &lt;dbl&gt; | cl_2 &lt;dbl&gt; | cl_3 &lt;dbl&gt; | cl &lt;dbl&gt; | cl_1_height &lt;dbl&gt; | cl_2_height &lt;dbl&gt; | cl_3_height &lt;dbl&gt; | precip_12 &lt;dbl&gt; | precip_6 &lt;dbl&gt; |\n",
       "|---|---|---|---|---|---|---|---|---|---|---|---|---|---|---|---|---|---|---|---|---|---|\n",
       "| 1 | resolucion/h.  | 076000-99999 | 2018-01-01 00:00:00 | 2020-12-31 23:00:00 | 1.000000000 | 1.000000000 | 1.000000000 | 1.000000000 | 1.000000000 | 1.000000000 | ⋯ | 1.000000000 | 1.000000000 | 1.000000e+00 | 3.000000000 | 1.000000000 | 1.000000000 | 1.000000e+00 | 3.000000000 |           NA |          NA |\n",
       "| 2 | proporcion     | 076000-99999 | 2018-01-01 00:00:00 | 2020-12-31 23:00:00 | 0.008036997 | 0.007998519 | 0.008033499 | 0.008032863 | 0.001770912 | 0.008011875 | ⋯ | 0.008010603 | 0.001605873 | 6.881404e-04 | 0.000236588 | 0.001605873 | 0.001605873 | 6.881404e-04 | 0.000236588 |           NA |          NA |\n",
       "| 3 | resolucion/h.1 | 080110-99999 | 2018-01-01 00:00:00 | 2020-12-31 23:30:00 | 0.000000000 | 0.000000000 | 0.000000000 | 1.000000000 | 0.000000000 | 0.000000000 | ⋯ | 3.000000000 | 0.000000000 | 0.000000e+00 | 0.000000000 | 0.000000000 | 0.000000000 | 0.000000e+00 | 0.000000000 |           NA |          NA |\n",
       "| 4 | proporcion1    | 080110-99999 | 2018-01-01 00:00:00 | 2020-12-31 23:30:00 | 0.000000000 | 0.000000000 | 0.000000000 | 0.008240195 | 0.000000000 | 0.000000000 | ⋯ | 0.003257855 | 0.000000000 | 0.000000e+00 | 0.000000000 | 0.000000000 | 0.000000000 | 0.000000e+00 | 0.000000000 |           NA |          NA |\n",
       "| 5 | resolucion/h.2 | 080140-99999 | 2018-01-01 06:00:00 | 2020-12-21 12:00:00 | 3.000000000 | 3.000000000 | 3.000000000 | 3.000000000 | 3.000000000 | 3.000000000 | ⋯ | 3.000000000 | 3.000000000 | 3.000000e+00 |          NA | 3.000000000 | 3.000000000 | 3.000000e+00 |          NA | 12.000000000 | 6.000000000 |\n",
       "| 6 | proporcion2    | 080140-99999 | 2018-01-01 06:00:00 | 2020-12-21 12:00:00 | 0.003613691 | 0.003194892 | 0.003613691 | 0.003610829 | 0.003608921 | 0.003610829 | ⋯ | 0.002246632 | 0.003319864 | 6.773286e-05 |          NA | 0.003319864 | 0.003261671 | 6.773286e-05 |          NA |  0.005246912 | 0.001146689 |\n",
       "\n"
      ],
      "text/plain": [
       "  X              site         start_dt            end_dt             \n",
       "1 resolucion/h.  076000-99999 2018-01-01 00:00:00 2020-12-31 23:00:00\n",
       "2 proporcion     076000-99999 2018-01-01 00:00:00 2020-12-31 23:00:00\n",
       "3 resolucion/h.1 080110-99999 2018-01-01 00:00:00 2020-12-31 23:30:00\n",
       "4 proporcion1    080110-99999 2018-01-01 00:00:00 2020-12-31 23:30:00\n",
       "5 resolucion/h.2 080140-99999 2018-01-01 06:00:00 2020-12-21 12:00:00\n",
       "6 proporcion2    080140-99999 2018-01-01 06:00:00 2020-12-21 12:00:00\n",
       "  ws          wd          air_temp    atmos_pres  visibility  dew_point  \n",
       "1 1.000000000 1.000000000 1.000000000 1.000000000 1.000000000 1.000000000\n",
       "2 0.008036997 0.007998519 0.008033499 0.008032863 0.001770912 0.008011875\n",
       "3 0.000000000 0.000000000 0.000000000 1.000000000 0.000000000 0.000000000\n",
       "4 0.000000000 0.000000000 0.000000000 0.008240195 0.000000000 0.000000000\n",
       "5 3.000000000 3.000000000 3.000000000 3.000000000 3.000000000 3.000000000\n",
       "6 0.003613691 0.003194892 0.003613691 0.003610829 0.003608921 0.003610829\n",
       "  <U+22EF>   precip      cl_1        cl_2         cl_3        cl         \n",
       "1 <U+22EF> 1.000000000 1.000000000 1.000000e+00 3.000000000 1.000000000\n",
       "2 <U+22EF> 0.008010603 0.001605873 6.881404e-04 0.000236588 0.001605873\n",
       "3 <U+22EF> 3.000000000 0.000000000 0.000000e+00 0.000000000 0.000000000\n",
       "4 <U+22EF> 0.003257855 0.000000000 0.000000e+00 0.000000000 0.000000000\n",
       "5 <U+22EF> 3.000000000 3.000000000 3.000000e+00          NA 3.000000000\n",
       "6 <U+22EF> 0.002246632 0.003319864 6.773286e-05          NA 0.003319864\n",
       "  cl_1_height cl_2_height  cl_3_height precip_12    precip_6   \n",
       "1 1.000000000 1.000000e+00 3.000000000           NA          NA\n",
       "2 0.001605873 6.881404e-04 0.000236588           NA          NA\n",
       "3 0.000000000 0.000000e+00 0.000000000           NA          NA\n",
       "4 0.000000000 0.000000e+00 0.000000000           NA          NA\n",
       "5 3.000000000 3.000000e+00          NA 12.000000000 6.000000000\n",
       "6 0.003261671 6.773286e-05          NA  0.005246912 0.001146689"
      ]
     },
     "metadata": {},
     "output_type": "display_data"
    }
   ],
   "source": [
    "a <- read.csv(\"../src/test.csv\")\n",
    "a$start_dt <- ymd_hms(a$start_dt)\n",
    "a$end_dt <- ymd_hms(a$end_dt)\n",
    "head(a)"
   ]
  },
  {
   "cell_type": "code",
   "execution_count": 3,
   "metadata": {},
   "outputs": [
    {
     "data": {
      "text/html": [
       "66"
      ],
      "text/latex": [
       "66"
      ],
      "text/markdown": [
       "66"
      ],
      "text/plain": [
       "[1] 66"
      ]
     },
     "metadata": {},
     "output_type": "display_data"
    }
   ],
   "source": [
    "length(levels(a$site))"
   ]
  },
  {
   "cell_type": "code",
   "execution_count": 4,
   "metadata": {},
   "outputs": [
    {
     "data": {
      "text/plain": [
       "[1] \"2017-01-01 UTC\""
      ]
     },
     "metadata": {},
     "output_type": "display_data"
    }
   ],
   "source": [
    "min(a$start_dt)"
   ]
  },
  {
   "cell_type": "code",
   "execution_count": 5,
   "metadata": {},
   "outputs": [
    {
     "data": {
      "text/plain": [
       "[1] \"2020-12-31 23:33:00 UTC\""
      ]
     },
     "metadata": {},
     "output_type": "display_data"
    }
   ],
   "source": [
    "max(a$end_dt)"
   ]
  },
  {
   "cell_type": "code",
   "execution_count": null,
   "metadata": {},
   "outputs": [],
   "source": []
  }
 ],
 "metadata": {
  "kernelspec": {
   "display_name": "R",
   "language": "R",
   "name": "ir"
  },
  "language_info": {
   "codemirror_mode": "r",
   "file_extension": ".r",
   "mimetype": "text/x-r-source",
   "name": "R",
   "pygments_lexer": "r",
   "version": "3.6.3"
  }
 },
 "nbformat": 4,
 "nbformat_minor": 4
}
