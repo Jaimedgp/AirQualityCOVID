{
 "cells": [
  {
   "cell_type": "markdown",
   "metadata": {},
   "source": [
    "# Resumen de la informacion relevante de cada estacion\n",
    "\n",
    "El objetivo de este codigo es obtener una tabla resumen con la relacion n-n entre estaciones de calidad del aire y meteorologicas que ademas muestre cuanta informacion relevante aporta cada estacion. A partir de dicha tabla se espera decidir que estaciones aportan mas datos al estudio.\n",
    "\n",
    "PUESTO QUE SE TRATA DE UNA GRAN CANTIDAD DE DATOS Y REALIZAR TODA LA EJECUCION LLEVARIA DEMASIADO TIEMPO, EN ESTE NOTEBOOK SE TRABAJA SOLO CON 3 ESTACIONES DE CALIDAD DEL AIRE Y EN NINGUN MOMENTO SE ESCRIBE NI LEE DE LOS ARCHIVOS (aunque el codigo se encuentra disponible en formato Markdown).\n",
    "\n",
    "> [Configuracion del notebook](#config)\n",
    ">\n",
    "> [ESTACIONES DE CALIDAD DEL AIRE](#sitesAQ)\n",
    ">    \n",
    ">    * [Estaciones de españa](#espanha)\n",
    ">\n",
    ">         1) [Datos de las estaciones de ```saqgetr```](#estacionesSaqgetr)\n",
    ">\n",
    ">         2)[Datos geograficos de las estaciones](#estacionGeo)\n",
    ">\n",
    ">    * [Estudio de los Datos de las Estaciones](#stdio)\n",
    ">\n",
    ">    * [Guardar datos en csv](#saveAQ)\n",
    ">\n",
    "> [ESTACIONES DE LA AEMET](#sitesMto)\n",
    ">\n",
    ">    * [Guardar datos en csv](#saveMto)\n",
    ">\n",
    "> [INFORMACION RELEVANTE](#countdata)\n",
    ">\n",
    ">    * [Obtener los datos de Calidad del Aire](#getAQ)\n",
    ">\n",
    ">    * [Contar valores de Calidad del Aire](#countAQ)\n",
    ">\n",
    ">    * [Contar valores Meteorologicos](#countMto)\n",
    ">\n",
    ">    * [Agrupar todos los datos principales](#groupAll)\n"
   ]
  },
  {
   "cell_type": "markdown",
   "metadata": {},
   "source": [
    "---\n",
    "---"
   ]
  },
  {
   "cell_type": "markdown",
   "metadata": {},
   "source": [
    "### Configuracion del notebook <a id=\"config\"></a>"
   ]
  },
  {
   "cell_type": "markdown",
   "metadata": {},
   "source": [
    "Cargamos todos los paquetes necesarios para ejecutar el notebook"
   ]
  },
  {
   "cell_type": "code",
   "execution_count": 1,
   "metadata": {},
   "outputs": [],
   "source": [
    "# Loading\n",
    "suppressMessages(library(saqgetr))\n",
    "suppressMessages(library(tidyverse))\n",
    "suppressMessages(library(lubridate))\n",
    "suppressMessages(library(worldmet))\n",
    "suppressMessages(library(openxlsx))"
   ]
  },
  {
   "cell_type": "markdown",
   "metadata": {},
   "source": [
    "## Parametros de los datos <a id=\"param\"></a>"
   ]
  },
  {
   "cell_type": "code",
   "execution_count": 3,
   "metadata": {},
   "outputs": [],
   "source": [
    "# contaminantes a estudiar\n",
    "pollutants <- c(\"no\", \"no2\", \"o3\", \"pm10\", \"pm2.5\")\n",
    "\n",
    "# fechas de inicio y final de toma de datos\n",
    "start_dt <- ymd_hms(\"2015-01-01 00:00:00\")\n",
    "end_dt <- ymd_hms(\"2020-12-31 00:00:00\")\n",
    "\n",
    "# Archivos de los datos\n",
    "# NO SE TRABAJA CON ARCHIVOS\n",
    "sitesAQ.fl = NULL# \"../data/csv/sitesAQ.csv\"                                           \n",
    "dataAQ.fl = NULL# \"../data/csv/dataAQ.csv\"\n",
    "\n",
    "sitesMto.fl = NULL# \"../data/csv/sitesMto.csv\"                                         \n",
    "dataMto.fl = NULL# \"../data/csv/dataMto.csv\"                                          \n",
    "years = 2010:2020\n",
    "\n",
    "final.fl = NULL# \"../data/csv/nn_sites.csv\"\n",
    "\n",
    "# Guardar los datos de la calidad del aire\n",
    "save.data = FALSE"
   ]
  },
  {
   "cell_type": "markdown",
   "metadata": {},
   "source": [
    "## ESTACIONES DE CALIDAD DEL AIRE <a id=\"sitesAQ\"></a>"
   ]
  },
  {
   "cell_type": "markdown",
   "metadata": {},
   "source": [
    "### Estaciones de España <a id=\"espanha\"></a>"
   ]
  },
  {
   "cell_type": "markdown",
   "metadata": {},
   "source": [
    "#### Datos geograficos de las estaciones <a id=\"estacionGeo\"></a>\n",
    "\n",
    "Seleccionamos aquellas estaciones que se encuentren en un núcleo con una\n",
    "población mayor o igual a cien mil habitantes `poblacion >= 100 000 hab`.\n",
    "\n",
    "En la hoja 8 `ciudades-100000-A-JA` de la base de datos de poblaciones (`estaciones-CA.xlsx`) aparecen todas las estaciones de trafico de las ciudades de mas de 100000 habitantes con sus nombres."
   ]
  },
  {
   "cell_type": "code",
   "execution_count": 4,
   "metadata": {},
   "outputs": [],
   "source": [
    "file <- \"../data/xlsx/estaciones-CA-JA.xlsx\"\n",
    "sheets <- c(\"todas\", \"traffic\", \"traffic-urban\", \"traffic-urban-2020\",\n",
    "            \"traffic-suburban\", \"traffic-suburban-2020\",\n",
    "            \"ciudades-100000\", \"ciudades-100000-A\")\n",
    "# xlsx files\n",
    "sites.100mil <- read.xlsx(file, sheet=sheets[8])"
   ]
  },
  {
   "cell_type": "code",
   "execution_count": 5,
   "metadata": {},
   "outputs": [
    {
     "data": {
      "text/html": [
       "<table>\n",
       "<caption>A data.frame: 6 × 7</caption>\n",
       "<thead>\n",
       "\t<tr><th></th><th scope=col>Municipio</th><th scope=col>Población</th><th scope=col>Estación.tráfico</th><th scope=col>Código.estación</th><th scope=col>Nº.estaciones.Ecolog</th><th scope=col>Nº.estaciones.tráfico</th><th scope=col>Observaciones</th></tr>\n",
       "\t<tr><th></th><th scope=col>&lt;chr&gt;</th><th scope=col>&lt;dbl&gt;</th><th scope=col>&lt;chr&gt;</th><th scope=col>&lt;chr&gt;</th><th scope=col>&lt;dbl&gt;</th><th scope=col>&lt;dbl&gt;</th><th scope=col>&lt;chr&gt;</th></tr>\n",
       "</thead>\n",
       "<tbody>\n",
       "\t<tr><th scope=row>1</th><td><span style=white-space:pre-wrap>A Coru&lt;U+00F1&gt;a         </span></td><td>245711</td><td><span style=white-space:pre-wrap>CORLAB&lt;U+00A0&gt;1             </span></td><td>es1138a</td><td>4</td><td>1</td><td>Es Riazor o Santa Margarida, revisar. Datos s&lt;U+00F3&gt;lo hasta 2018. REVISAR </td></tr>\n",
       "\t<tr><th scope=row>2</th><td>Alcal&lt;U+00E1&gt; de Henares</td><td>195649</td><td><span style=white-space:pre-wrap>Alcal&lt;U+00E1&gt; de Henares    </span></td><td>es1563a</td><td>0</td><td>1</td><td><span style=white-space:pre-wrap>NA                                                                          </span></td></tr>\n",
       "\t<tr><th scope=row>3</th><td>Alcobendas              </td><td>117040</td><td>Alcobendas                  </td><td>es1564a</td><td>0</td><td>1</td><td>NA                                                                          </td></tr>\n",
       "\t<tr><th scope=row>4</th><td>Alicante                </td><td>334887</td><td>Florida-Babel               </td><td>es1915a</td><td>3</td><td>1</td><td>Urban background. Not traffic                                               </td></tr>\n",
       "\t<tr><th scope=row>5</th><td><span style=white-space:pre-wrap>Alicante                </span></td><td>334888</td><td>ALACANT-EL&lt;U+00A0&gt;PL&lt;U+00C1&gt;</td><td>es1635a</td><td>3</td><td>1</td><td><span style=white-space:pre-wrap>Esta es de tr&lt;U+00E1&gt;fico                                                   </span></td></tr>\n",
       "\t<tr><th scope=row>6</th><td><span style=white-space:pre-wrap>Almer&lt;U+00ED&gt;a          </span></td><td>198533</td><td><span style=white-space:pre-wrap>MEDITERR&lt;U+00C1&gt;NEO         </span></td><td>es1393a</td><td>0</td><td>1</td><td><span style=white-space:pre-wrap>NA                                                                          </span></td></tr>\n",
       "</tbody>\n",
       "</table>\n"
      ],
      "text/latex": [
       "A data.frame: 6 × 7\n",
       "\\begin{tabular}{r|lllllll}\n",
       "  & Municipio & Población & Estación.tráfico & Código.estación & Nº.estaciones.Ecolog & Nº.estaciones.tráfico & Observaciones\\\\\n",
       "  & <chr> & <dbl> & <chr> & <chr> & <dbl> & <dbl> & <chr>\\\\\n",
       "\\hline\n",
       "\t1 & A Coru<U+00F1>a          & 245711 & CORLAB<U+00A0>1              & es1138a & 4 & 1 & Es Riazor o Santa Margarida, revisar. Datos s<U+00F3>lo hasta 2018. REVISAR \\\\\n",
       "\t2 & Alcal<U+00E1> de Henares & 195649 & Alcal<U+00E1> de Henares     & es1563a & 0 & 1 & NA                                                                          \\\\\n",
       "\t3 & Alcobendas               & 117040 & Alcobendas                   & es1564a & 0 & 1 & NA                                                                          \\\\\n",
       "\t4 & Alicante                 & 334887 & Florida-Babel                & es1915a & 3 & 1 & Urban background. Not traffic                                               \\\\\n",
       "\t5 & Alicante                 & 334888 & ALACANT-EL<U+00A0>PL<U+00C1> & es1635a & 3 & 1 & Esta es de tr<U+00E1>fico                                                   \\\\\n",
       "\t6 & Almer<U+00ED>a           & 198533 & MEDITERR<U+00C1>NEO          & es1393a & 0 & 1 & NA                                                                          \\\\\n",
       "\\end{tabular}\n"
      ],
      "text/markdown": [
       "\n",
       "A data.frame: 6 × 7\n",
       "\n",
       "| <!--/--> | Municipio &lt;chr&gt; | Población &lt;dbl&gt; | Estación.tráfico &lt;chr&gt; | Código.estación &lt;chr&gt; | Nº.estaciones.Ecolog &lt;dbl&gt; | Nº.estaciones.tráfico &lt;dbl&gt; | Observaciones &lt;chr&gt; |\n",
       "|---|---|---|---|---|---|---|---|\n",
       "| 1 | A Coru&lt;U+00F1&gt;a          | 245711 | CORLAB&lt;U+00A0&gt;1              | es1138a | 4 | 1 | Es Riazor o Santa Margarida, revisar. Datos s&lt;U+00F3&gt;lo hasta 2018. REVISAR  |\n",
       "| 2 | Alcal&lt;U+00E1&gt; de Henares | 195649 | Alcal&lt;U+00E1&gt; de Henares     | es1563a | 0 | 1 | NA                                                                           |\n",
       "| 3 | Alcobendas               | 117040 | Alcobendas                   | es1564a | 0 | 1 | NA                                                                           |\n",
       "| 4 | Alicante                 | 334887 | Florida-Babel                | es1915a | 3 | 1 | Urban background. Not traffic                                                |\n",
       "| 5 | Alicante                 | 334888 | ALACANT-EL&lt;U+00A0&gt;PL&lt;U+00C1&gt; | es1635a | 3 | 1 | Esta es de tr&lt;U+00E1&gt;fico                                                    |\n",
       "| 6 | Almer&lt;U+00ED&gt;a           | 198533 | MEDITERR&lt;U+00C1&gt;NEO          | es1393a | 0 | 1 | NA                                                                           |\n",
       "\n"
      ],
      "text/plain": [
       "  Municipio                Poblaci<U+00F3>n   Estaci<U+00F3>n.tr<U+00E1>fico    \n",
       "1 A Coru<U+00F1>a          245711           CORLAB<U+00A0>1               \n",
       "2 Alcal<U+00E1> de Henares 195649           Alcal<U+00E1> de Henares      \n",
       "3 Alcobendas               117040           Alcobendas                    \n",
       "4 Alicante                 334887           Florida-Babel                 \n",
       "5 Alicante                 334888           ALACANT-EL<U+00A0>PL<U+00C1>  \n",
       "6 Almer<U+00ED>a           198533           MEDITERR<U+00C1>NEO           \n",
       "  C<U+00F3>digo.estaci<U+00F3>n     N<U+00BA>.estaciones.Ecolog  \n",
       "1 es1138a                       4                          \n",
       "2 es1563a                       0                          \n",
       "3 es1564a                       0                          \n",
       "4 es1915a                       3                          \n",
       "5 es1635a                       3                          \n",
       "6 es1393a                       0                          \n",
       "  N<U+00BA>.estaciones.tr<U+00E1>fico    \n",
       "1 1                                  \n",
       "2 1                                  \n",
       "3 1                                  \n",
       "4 1                                  \n",
       "5 1                                  \n",
       "6 1                                  \n",
       "  Observaciones                                                               \n",
       "1 Es Riazor o Santa Margarida, revisar. Datos s<U+00F3>lo hasta 2018. REVISAR \n",
       "2 NA                                                                          \n",
       "3 NA                                                                          \n",
       "4 Urban background. Not traffic                                               \n",
       "5 Esta es de tr<U+00E1>fico                                                   \n",
       "6 NA                                                                          "
      ]
     },
     "metadata": {},
     "output_type": "display_data"
    }
   ],
   "source": [
    "head(sites.100mil)"
   ]
  },
  {
   "cell_type": "markdown",
   "metadata": {},
   "source": [
    "#### Datos de las estaciones de `saqgetr` <a id=\"estacionesSaqgetr\"></a>\n",
    "\n",
    "Importamos la informacion de las estaciones de calidad de aire de españa obtenidas de la base de datos y filtramos segun los criterios de estudio.\n",
    "\n",
    "| Variable | Valores |\n",
    "|-------|-----------|\n",
    "|Contaminantes| $NO$, $NO_2$, $O_3$, $PM_{10}$|\n",
    "|Fecha Inicio| 01 Enero 2015 |\n",
    "|Fecha Final | 31 Diciembre 2020 |\n",
    "| Site Type | traffic |\n",
    "|site area | urban |"
   ]
  },
  {
   "cell_type": "code",
   "execution_count": 8,
   "metadata": {},
   "outputs": [],
   "source": [
    "# obtener datos de CA de España. Salen los códigos de las estaciones\n",
    "# de Calidad de aire (941)\n",
    "spain.sites <- get_saq_sites() %>%\n",
    "    filter(country == \"spain\",\n",
    "           site %in% sites.100mil$\"Código.estación\",\n",
    "           site_type == \"traffic\",\n",
    "           site_area == \"urban\",\n",
    "           date_start <= start_dt,\n",
    "           #date_end >= end_dt,\n",
    "           ) %>%\n",
    "    select(site, site_name, latitude, longitude, elevation, \n",
    "           country, site_type, site_area, date_start, date_end)"
   ]
  },
  {
   "cell_type": "code",
   "execution_count": null,
   "metadata": {},
   "outputs": [],
   "source": [
    "# SOLO SE TRABAJA CON 3 ESTACIONES DE CALIDAD DEL AIRE\n",
    "spain.sites <- spain.sites[1:3, ]"
   ]
  },
  {
   "cell_type": "code",
   "execution_count": 9,
   "metadata": {},
   "outputs": [
    {
     "name": "stdout",
     "output_type": "stream",
     "text": [
      "[1] \"Se han eliminado 11 estaciones\"\n",
      "[1] \"Quedan 67 estaciones para el estudio\"\n"
     ]
    }
   ],
   "source": [
    "removed.sites <- (nrow(sites.100mil)-1) - nrow(spain.sites)\n",
    "\n",
    "print(paste(\"Se han eliminado\", removed.sites, \"estaciones\"))\n",
    "print(paste(\"Quedan\", nrow(spain.sites), \"estaciones para el estudio\"))"
   ]
  },
  {
   "cell_type": "markdown",
   "metadata": {},
   "source": [
    "Agrupamos en un solo data.frame toda la informacion relevante de las estaciones de estudio"
   ]
  },
  {
   "cell_type": "code",
   "execution_count": 10,
   "metadata": {},
   "outputs": [
    {
     "ename": "ERROR",
     "evalue": "Error: Can't subset columns that don't exist.\n\u001b[31mx\u001b[39m Column `Poblaci<U+00F3>n` doesn't exist.\n",
     "output_type": "error",
     "traceback": [
      "Error: Can't subset columns that don't exist.\n\u001b[31mx\u001b[39m Column `Poblaci<U+00F3>n` doesn't exist.\nTraceback:\n",
      "1. sites.100mil %>% select(\"Municipio\", \"Poblaci<U+00F3>n\", \"Estaci<U+00F3>n.tr<U+00E1>fico\", \n .     \"C<U+00F3>digo.estaci<U+00F3>n\") %>% rename(site = \"C<U+00F3>digo.estaci<U+00F3>n\", \n .     )",
      "2. rename(., site = \"C<U+00F3>digo.estaci<U+00F3>n\", )",
      "3. select(., \"Municipio\", \"Poblaci<U+00F3>n\", \"Estaci<U+00F3>n.tr<U+00E1>fico\", \n .     \"C<U+00F3>digo.estaci<U+00F3>n\")",
      "4. select.data.frame(., \"Municipio\", \"Poblaci<U+00F3>n\", \"Estaci<U+00F3>n.tr<U+00E1>fico\", \n .     \"C<U+00F3>digo.estaci<U+00F3>n\")",
      "5. tidyselect::eval_select(expr(c(...)), .data)",
      "6. eval_select_impl(data, names(data), as_quosure(expr, env), include = include, \n .     exclude = exclude, strict = strict, name_spec = name_spec, \n .     allow_rename = allow_rename)",
      "7. with_subscript_errors(vars_select_eval(vars, expr, strict, data = x, \n .     name_spec = name_spec, uniquely_named = uniquely_named, allow_rename = allow_rename, \n .     type = type), type = type)",
      "8. tryCatch(instrument_base_errors(expr), vctrs_error_subscript = function(cnd) {\n .     cnd$subscript_action <- subscript_action(type)\n .     cnd$subscript_elt <- \"column\"\n .     cnd_signal(cnd)\n . })",
      "9. tryCatchList(expr, classes, parentenv, handlers)",
      "10. tryCatchOne(expr, names, parentenv, handlers[[1L]])",
      "11. value[[3L]](cond)",
      "12. cnd_signal(cnd)",
      "13. rlang:::signal_abort(x)"
     ]
    }
   ],
   "source": [
    "sites.info <- get_saq_processes() %>%\n",
    "    filter(site %in% spain.sites$site,\n",
    "           variable %in% pollutants,\n",
    "           date_start <= start_dt,\n",
    "           #date_end >= end_dt,\n",
    "          ) %>%\n",
    "    select(process, site, variable, variable_long, \n",
    "           period, unit, observation_count\n",
    "          )\n",
    "\n",
    "sites.geo <- sites.100mil %>%\n",
    "    select(\"Municipio\", \"Población\", \n",
    "           \"Estación.tráfico\", \"Código.estación\") %>%\n",
    "    rename(site = \"Código.estación\",)\n",
    "\n",
    "sitesAQ <- merge(x = sites.info, y = sites.geo, by = \"site\", all.x = TRUE)\n"
   ]
  },
  {
   "cell_type": "code",
   "execution_count": null,
   "metadata": {},
   "outputs": [],
   "source": [
    "# Convert charactes into factors\n",
    "sitesAQ <- mutate_if(sitesAQ, is.character, as.factor)"
   ]
  },
  {
   "cell_type": "code",
   "execution_count": null,
   "metadata": {},
   "outputs": [],
   "source": [
    "head(sitesAQ)"
   ]
  },
  {
   "cell_type": "markdown",
   "metadata": {},
   "source": [
    "### Guardar Datos en csv <a id=\"saveAQ\"></a>"
   ]
  },
  {
   "cell_type": "markdown",
   "metadata": {},
   "source": [
    "```R\n",
    "write.csv(sitesAQ, sitesAQ.fl, row.names=FALSE)\n",
    "```"
   ]
  },
  {
   "cell_type": "markdown",
   "metadata": {},
   "source": [
    "---\n",
    "---"
   ]
  },
  {
   "cell_type": "markdown",
   "metadata": {},
   "source": [
    "## ESTACIONES DE LA AEMET <a id=\"sitesMto\"></a>\n",
    "\n",
    "Se pueden localizar las estaciones meteo mas cercanas a una estacion de CA mediante mapa"
   ]
  },
  {
   "cell_type": "markdown",
   "metadata": {},
   "source": [
    "Obtenemos la informacion de las estaciones de calidad del aire del estudio"
   ]
  },
  {
   "cell_type": "markdown",
   "metadata": {},
   "source": [
    "```R\n",
    "sitesAQ <- read.csv(sitesAQ.fl)\n",
    "head(sitesAQ)\n",
    "```"
   ]
  },
  {
   "cell_type": "markdown",
   "metadata": {},
   "source": [
    "Obtenemos la informacion de las 3 estaciones meteorologicas mas cercanas a cada estacion de calidad del aire"
   ]
  },
  {
   "cell_type": "code",
   "execution_count": null,
   "metadata": {},
   "outputs": [],
   "source": [
    "sitesMto <- data.frame()\n",
    "sites.lv <- levels(sitesAQ$site)\n",
    "\n",
    "for (i in 1:length(sites.lv)) {\n",
    "    print(sites.lv[i])\n",
    "    mto <- getMeta(lat = sitesAQ[sitesAQ$site == sites.lv[i], ]$latitude[1], \n",
    "                   lon = sitesAQ[sitesAQ$site == sites.lv[i], ]$longitude[1], \n",
    "                   end.year = \"current\",\n",
    "                   n = 3, returnMap = F)\n",
    "    mto$siteAQ <- sites.lv[i]\n",
    "    sitesMto <- rbind(sitesMto, mto)\n",
    "}"
   ]
  },
  {
   "cell_type": "code",
   "execution_count": null,
   "metadata": {},
   "outputs": [],
   "source": [
    "sitesMto <- mutate_if(sitesMto, is.character, as.factor)"
   ]
  },
  {
   "cell_type": "code",
   "execution_count": null,
   "metadata": {},
   "outputs": [],
   "source": [
    "head(sitesMto)"
   ]
  },
  {
   "cell_type": "markdown",
   "metadata": {},
   "source": [
    "### Guardar Datos en csv <a id=\"saveMto\"></a>"
   ]
  },
  {
   "cell_type": "markdown",
   "metadata": {},
   "source": [
    "```R\n",
    "write.csv(sitesMto, sitesMto.fl, row.names=FALSE)\n",
    "```"
   ]
  },
  {
   "cell_type": "markdown",
   "metadata": {},
   "source": [
    "---\n",
    "---"
   ]
  },
  {
   "cell_type": "markdown",
   "metadata": {},
   "source": [
    "## INFORMACION RELEVANTE <a id=\"countdata\"></a>\n",
    "\n",
    "Calcular el numero de datos disponibles para cada estacion y almacenar en una tabla el codigo de cada estacion junto con dicho valor"
   ]
  },
  {
   "cell_type": "markdown",
   "metadata": {},
   "source": [
    "### Obtener los datos de Calidad del Aire <a id=\"getAQ\"></a>"
   ]
  },
  {
   "cell_type": "markdown",
   "metadata": {},
   "source": [
    "```R\n",
    "if (file.exists(sitesAQ.fl)) {\n",
    "    sitesAQ <- read.csv(sitesAQ.fl, stringsAsFactors = TRUE)\n",
    "}\n",
    "```"
   ]
  },
  {
   "cell_type": "markdown",
   "metadata": {},
   "source": [
    "```R\n",
    "if (file.exists(dataAQ.fl)) {\n",
    "    dataAQ <- read.csv(dataAQ.fl, stringsAsFactors = TRUE)\n",
    "} else {\n",
    "```"
   ]
  },
  {
   "cell_type": "code",
   "execution_count": null,
   "metadata": {},
   "outputs": [],
   "source": [
    "dataAQ <- get_saq_observations(site = levels(sitesAQ$site),\n",
    "                             variable = pollutants,\n",
    "                             valid_only = TRUE,\n",
    "                             start = start_dt,\n",
    "                             #end = end_dt,\n",
    "                             verbose = TRUE\n",
    "                            )\n",
    "dataAQ <- mutate_if(dataAQ, is.character, as.factor)\n",
    "\n",
    "# Save data in a file for each station \n",
    "if (save.data) {\n",
    "    print(\"Saving Data...\")\n",
    "    write.csv(dataAQ, dataAQ.fl, row.names=FALSE)\n",
    "\n",
    "    split.by.site(dataAQ, site.lv=\"all\",\n",
    "                  folder=\"../data/csv/dataAQ/\")\n",
    "}\n",
    "#}"
   ]
  },
  {
   "cell_type": "code",
   "execution_count": null,
   "metadata": {},
   "outputs": [],
   "source": [
    "head(dataAQ)"
   ]
  },
  {
   "cell_type": "markdown",
   "metadata": {},
   "source": [
    "### Contar valores de Calidad del Aire <a id=\"countAQ\"></a>"
   ]
  },
  {
   "cell_type": "code",
   "execution_count": null,
   "metadata": {},
   "outputs": [],
   "source": [
    "numCount <- c()\n",
    "for (st in levels(sitesAQ$site)) {\n",
    "    numCount <- c(numCount, nrow(dataAQ[dataAQ$site == st, ]))\n",
    "}\n",
    "\n",
    "nn.sitesAQ <- data.frame(siteAQ = levels(sitesAQ$site),\n",
    "                         countAQ = numCount)"
   ]
  },
  {
   "cell_type": "markdown",
   "metadata": {},
   "source": [
    "Se anhaden los municipios a los que pertenece cada estacion dentro de la informacion relevante"
   ]
  },
  {
   "cell_type": "code",
   "execution_count": null,
   "metadata": {},
   "outputs": [],
   "source": [
    "municipios <- data.frame()\n",
    "\n",
    "for (i in 1:nrow(nn.sitesAQ)) {\n",
    "    municipios[i, \"Municipio\"] <- sitesAQ[nn.sitesAQ[i, \"siteAQ\"] == sitesAQ$site,][, \"Municipio\"][1]\n",
    "}\n",
    "nn.sitesAQ <- cbind(municipios, nn.sitesAQ)"
   ]
  },
  {
   "cell_type": "code",
   "execution_count": null,
   "metadata": {},
   "outputs": [],
   "source": [
    "rm(dataAQ, numCount)\n",
    "\n",
    "nn.sitesAQ <- mutate_if(nn.sitesAQ, is.character, as.factor)\n",
    "\n",
    "head(nn.sitesAQ)"
   ]
  },
  {
   "cell_type": "markdown",
   "metadata": {},
   "source": [
    "### Obtener los datos Meteorologicos <a id=\"getMto\"></a>"
   ]
  },
  {
   "cell_type": "markdown",
   "metadata": {},
   "source": [
    "```R\n",
    "if (file.exists(sitesMto.fl)) {\n",
    "    sitesMto <- read.csv(sitesMto.fl, stringsAsFactors=TRUE)\n",
    "}\n",
    "```"
   ]
  },
  {
   "cell_type": "markdown",
   "metadata": {},
   "source": [
    "``` R\n",
    "if (file.exists(dataMto.fl)) {\n",
    "    dataMto <- read.csv(dataMto.fl, stringsAsFactors=TRUE)\n",
    "} else {\n",
    "```"
   ]
  },
  {
   "cell_type": "code",
   "execution_count": null,
   "metadata": {},
   "outputs": [],
   "source": [
    "# Get Data from worlmet\n",
    "dataMto <- importNOAA(code = levels(sitesMto$code),\n",
    "                      year = years,\n",
    "                      hourly = FALSE,\n",
    "                      n.cores = 4,\n",
    "                      quiet = FALSE,\n",
    "                      path = NA\n",
    "                     )\n",
    "dataMto <- mutate_if(dataMto, is.character, as.factor)\n",
    "\n",
    "# Save data in a file for each station \n",
    "if (save.data) {\n",
    "    print(\"Saving Data...\")\n",
    "    write.csv(dataMto, dataMto.fl, row.names=FALSE)\n",
    "\n",
    "    split.by.site(dataMto, site.lv=\"all\",\n",
    "                  folder=\"../data/csv/dataMto/\")\n",
    "}\n",
    "#}"
   ]
  },
  {
   "cell_type": "markdown",
   "metadata": {},
   "source": [
    "### Contar valores Meteorologicos <a id=\"countMto\"></a>"
   ]
  },
  {
   "cell_type": "code",
   "execution_count": null,
   "metadata": {},
   "outputs": [],
   "source": [
    "countMto <- NA                                                                                          \n",
    "codeMto <- NA\n",
    "code.lv <- levels(dataMto$code)\n",
    "\n",
    "for (i in 1:length(code.lv)) {\n",
    "    codeMto <- rbind(codeMto, code.lv[i])\n",
    "    \n",
    "    countMto <- rbind(countMto, colSums(!is.na(\n",
    "                                        dataMto[dataMto$code == code.lv[i],\n",
    "                                        !colnames(dataMto) %in% c(\"date\",\n",
    "                                                                  \"station\",\n",
    "                                                                  \"latitude\",\n",
    "                                                                  \"longitude\",\n",
    "                                                                  \"elev\"\n",
    "                                                                 )])\n",
    "                                        )\n",
    "                                / nrow(dataMto[dataMto$code == code.lv[i], ])\n",
    "                     )\n",
    "    countMto[i+1, \"code\"] <- nrow(dataMto[dataMto$code == code.lv[i], ])\n",
    "}\n",
    "countMto <- data.frame(countMto[complete.cases(countMto), ]) %>%\n",
    "                rename(countMto = code)\n",
    "\n",
    "codeMto <- data.frame(codeMto[complete.cases(codeMto), ])\n",
    "colnames(codeMto) <- c(\"siteMto\")\n",
    "\n",
    "countMto <- cbind(codeMto, countMto)\n",
    "\n",
    "nn.sitesMto <- merge(x = sitesMto %>%\n",
    "                        rename(siteMto=code) %>%\n",
    "                        select(siteMto, dist, siteAQ),\n",
    "                     y = countMto,\n",
    "                     by = \"siteMto\", all=TRUE\n",
    "                    )\n",
    "\n",
    "rm(dataMto, countMto, sitesMto, codeMto)"
   ]
  },
  {
   "cell_type": "code",
   "execution_count": null,
   "metadata": {},
   "outputs": [],
   "source": [
    "nn.sitesMto <- mutate_if(nn.sitesMto, is.character, as.factor)\n",
    "head(nn.sitesMto)"
   ]
  },
  {
   "cell_type": "markdown",
   "metadata": {},
   "source": [
    "---\n",
    "---"
   ]
  },
  {
   "cell_type": "markdown",
   "metadata": {},
   "source": [
    "## TABLA CON RELACION NN"
   ]
  },
  {
   "cell_type": "code",
   "execution_count": null,
   "metadata": {},
   "outputs": [],
   "source": [
    "nn.sites <- merge(x = nn.sitesAQ,\n",
    "                  y = nn.sitesMto,\n",
    "                  by = \"siteAQ\", all = TRUE)\n",
    "nn.sites <- mutate_if(nn.sites, is.character, as.factor)\n",
    "head(nn.sites)"
   ]
  },
  {
   "cell_type": "markdown",
   "metadata": {},
   "source": [
    "```R\n",
    "write.csv(nn.sites, final.fl, row.names=FALSE)\n",
    "```"
   ]
  }
 ],
 "metadata": {
  "kernelspec": {
   "display_name": "R",
   "language": "R",
   "name": "ir"
  },
  "language_info": {
   "codemirror_mode": "r",
   "file_extension": ".r",
   "mimetype": "text/x-r-source",
   "name": "R",
   "pygments_lexer": "r",
   "version": "3.6.3"
  }
 },
 "nbformat": 4,
 "nbformat_minor": 4
}
