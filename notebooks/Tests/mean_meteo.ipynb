{
 "cells": [
  {
   "cell_type": "code",
   "execution_count": 1,
   "metadata": {},
   "outputs": [
    {
     "name": "stderr",
     "output_type": "stream",
     "text": [
      "\n",
      "Attaching package: 'lubridate'\n",
      "\n",
      "\n",
      "The following objects are masked from 'package:base':\n",
      "\n",
      "    date, intersect, setdiff, union\n",
      "\n",
      "\n"
     ]
    }
   ],
   "source": [
    "library(lubridate)\n",
    "library(worldmet)\n",
    "library(ggplot2)"
   ]
  },
  {
   "cell_type": "code",
   "execution_count": 2,
   "metadata": {},
   "outputs": [],
   "source": [
    "dataMto.hour <- importNOAA(code = \"080550-99999\",\n",
    "                      year = 2013:2021,\n",
    "                      hourly = TRUE,\n",
    "                      n.cores = 4,\n",
    "                      quiet = FALSE,\n",
    "                      path = NA\n",
    "                     )"
   ]
  },
  {
   "cell_type": "markdown",
   "metadata": {},
   "source": [
    "---"
   ]
  },
  {
   "cell_type": "code",
   "execution_count": 3,
   "metadata": {},
   "outputs": [],
   "source": [
    "dataMto.all <- importNOAA(code = \"080550-99999\",\n",
    "                      year = 2013:2021,\n",
    "                      hourly = FALSE,\n",
    "                      n.cores = 4,\n",
    "                      quiet = FALSE,\n",
    "                      path = NA\n",
    "                     )"
   ]
  },
  {
   "cell_type": "code",
   "execution_count": 4,
   "metadata": {},
   "outputs": [
    {
     "data": {
      "text/html": [
       "<table>\n",
       "<caption>A tibble: 6 × 25</caption>\n",
       "<thead>\n",
       "\t<tr><th scope=col>date</th><th scope=col>code</th><th scope=col>station</th><th scope=col>latitude</th><th scope=col>longitude</th><th scope=col>elev</th><th scope=col>ws</th><th scope=col>wd</th><th scope=col>air_temp</th><th scope=col>atmos_pres</th><th scope=col>⋯</th><th scope=col>cl_2</th><th scope=col>cl_3</th><th scope=col>cl</th><th scope=col>cl_1_height</th><th scope=col>cl_2_height</th><th scope=col>cl_3_height</th><th scope=col>precip_12</th><th scope=col>precip_6</th><th scope=col>precip</th><th scope=col>pwc</th></tr>\n",
       "\t<tr><th scope=col>&lt;dttm&gt;</th><th scope=col>&lt;chr&gt;</th><th scope=col>&lt;chr&gt;</th><th scope=col>&lt;dbl&gt;</th><th scope=col>&lt;dbl&gt;</th><th scope=col>&lt;dbl&gt;</th><th scope=col>&lt;dbl&gt;</th><th scope=col>&lt;dbl&gt;</th><th scope=col>&lt;dbl&gt;</th><th scope=col>&lt;dbl&gt;</th><th scope=col>⋯</th><th scope=col>&lt;dbl&gt;</th><th scope=col>&lt;dbl&gt;</th><th scope=col>&lt;dbl&gt;</th><th scope=col>&lt;dbl&gt;</th><th scope=col>&lt;dbl&gt;</th><th scope=col>&lt;dbl&gt;</th><th scope=col>&lt;dbl&gt;</th><th scope=col>&lt;dbl&gt;</th><th scope=col>&lt;dbl&gt;</th><th scope=col>&lt;chr&gt;</th></tr>\n",
       "</thead>\n",
       "<tbody>\n",
       "\t<tr><td>2013-01-01 05:00:00</td><td>080550-99999</td><td>LEON, SP</td><td>42.589</td><td>-5.655556</td><td>916.22</td><td>0.0</td><td> NA</td><td>0.0</td><td>NA</td><td>⋯</td><td>NA</td><td>NA</td><td>2</td><td> 600</td><td>NA</td><td>NA</td><td>NA</td><td>NA</td><td>NA</td><td>NA</td></tr>\n",
       "\t<tr><td>2013-01-01 06:00:00</td><td>080550-99999</td><td>LEON, SP</td><td>42.589</td><td>-5.655556</td><td>916.22</td><td>4.1</td><td>280</td><td>2.8</td><td>NA</td><td>⋯</td><td>NA</td><td>NA</td><td>2</td><td>1050</td><td>NA</td><td>NA</td><td> 5</td><td>NA</td><td>NA</td><td>NA</td></tr>\n",
       "\t<tr><td>2013-01-01 07:00:00</td><td>080550-99999</td><td>LEON, SP</td><td>42.589</td><td>-5.655556</td><td>916.22</td><td>4.1</td><td>270</td><td>2.0</td><td>NA</td><td>⋯</td><td>NA</td><td>NA</td><td>4</td><td>1350</td><td>NA</td><td>NA</td><td>NA</td><td>NA</td><td> 0</td><td>NA</td></tr>\n",
       "\t<tr><td>2013-01-01 08:00:00</td><td>080550-99999</td><td>LEON, SP</td><td>42.589</td><td>-5.655556</td><td>916.22</td><td>3.1</td><td>270</td><td>2.0</td><td>NA</td><td>⋯</td><td>NA</td><td>NA</td><td>4</td><td>1350</td><td>NA</td><td>NA</td><td>NA</td><td>NA</td><td> 0</td><td>NA</td></tr>\n",
       "\t<tr><td>2013-01-01 09:00:00</td><td>080550-99999</td><td>LEON, SP</td><td>42.589</td><td>-5.655556</td><td>916.22</td><td>2.1</td><td>290</td><td>3.6</td><td>NA</td><td>⋯</td><td>NA</td><td>NA</td><td>4</td><td>1350</td><td>NA</td><td>NA</td><td>NA</td><td>NA</td><td> 0</td><td>NA</td></tr>\n",
       "\t<tr><td>2013-01-01 10:00:00</td><td>080550-99999</td><td>LEON, SP</td><td>42.589</td><td>-5.655556</td><td>916.22</td><td>1.5</td><td>290</td><td>6.0</td><td>NA</td><td>⋯</td><td>NA</td><td>NA</td><td>2</td><td>1350</td><td>NA</td><td>NA</td><td>NA</td><td>NA</td><td> 0</td><td>NA</td></tr>\n",
       "</tbody>\n",
       "</table>\n"
      ],
      "text/latex": [
       "A tibble: 6 × 25\n",
       "\\begin{tabular}{lllllllllllllllllllll}\n",
       " date & code & station & latitude & longitude & elev & ws & wd & air\\_temp & atmos\\_pres & ⋯ & cl\\_2 & cl\\_3 & cl & cl\\_1\\_height & cl\\_2\\_height & cl\\_3\\_height & precip\\_12 & precip\\_6 & precip & pwc\\\\\n",
       " <dttm> & <chr> & <chr> & <dbl> & <dbl> & <dbl> & <dbl> & <dbl> & <dbl> & <dbl> & ⋯ & <dbl> & <dbl> & <dbl> & <dbl> & <dbl> & <dbl> & <dbl> & <dbl> & <dbl> & <chr>\\\\\n",
       "\\hline\n",
       "\t 2013-01-01 05:00:00 & 080550-99999 & LEON, SP & 42.589 & -5.655556 & 916.22 & 0.0 &  NA & 0.0 & NA & ⋯ & NA & NA & 2 &  600 & NA & NA & NA & NA & NA & NA\\\\\n",
       "\t 2013-01-01 06:00:00 & 080550-99999 & LEON, SP & 42.589 & -5.655556 & 916.22 & 4.1 & 280 & 2.8 & NA & ⋯ & NA & NA & 2 & 1050 & NA & NA &  5 & NA & NA & NA\\\\\n",
       "\t 2013-01-01 07:00:00 & 080550-99999 & LEON, SP & 42.589 & -5.655556 & 916.22 & 4.1 & 270 & 2.0 & NA & ⋯ & NA & NA & 4 & 1350 & NA & NA & NA & NA &  0 & NA\\\\\n",
       "\t 2013-01-01 08:00:00 & 080550-99999 & LEON, SP & 42.589 & -5.655556 & 916.22 & 3.1 & 270 & 2.0 & NA & ⋯ & NA & NA & 4 & 1350 & NA & NA & NA & NA &  0 & NA\\\\\n",
       "\t 2013-01-01 09:00:00 & 080550-99999 & LEON, SP & 42.589 & -5.655556 & 916.22 & 2.1 & 290 & 3.6 & NA & ⋯ & NA & NA & 4 & 1350 & NA & NA & NA & NA &  0 & NA\\\\\n",
       "\t 2013-01-01 10:00:00 & 080550-99999 & LEON, SP & 42.589 & -5.655556 & 916.22 & 1.5 & 290 & 6.0 & NA & ⋯ & NA & NA & 2 & 1350 & NA & NA & NA & NA &  0 & NA\\\\\n",
       "\\end{tabular}\n"
      ],
      "text/markdown": [
       "\n",
       "A tibble: 6 × 25\n",
       "\n",
       "| date &lt;dttm&gt; | code &lt;chr&gt; | station &lt;chr&gt; | latitude &lt;dbl&gt; | longitude &lt;dbl&gt; | elev &lt;dbl&gt; | ws &lt;dbl&gt; | wd &lt;dbl&gt; | air_temp &lt;dbl&gt; | atmos_pres &lt;dbl&gt; | ⋯ ⋯ | cl_2 &lt;dbl&gt; | cl_3 &lt;dbl&gt; | cl &lt;dbl&gt; | cl_1_height &lt;dbl&gt; | cl_2_height &lt;dbl&gt; | cl_3_height &lt;dbl&gt; | precip_12 &lt;dbl&gt; | precip_6 &lt;dbl&gt; | precip &lt;dbl&gt; | pwc &lt;chr&gt; |\n",
       "|---|---|---|---|---|---|---|---|---|---|---|---|---|---|---|---|---|---|---|---|---|\n",
       "| 2013-01-01 05:00:00 | 080550-99999 | LEON, SP | 42.589 | -5.655556 | 916.22 | 0.0 |  NA | 0.0 | NA | ⋯ | NA | NA | 2 |  600 | NA | NA | NA | NA | NA | NA |\n",
       "| 2013-01-01 06:00:00 | 080550-99999 | LEON, SP | 42.589 | -5.655556 | 916.22 | 4.1 | 280 | 2.8 | NA | ⋯ | NA | NA | 2 | 1050 | NA | NA |  5 | NA | NA | NA |\n",
       "| 2013-01-01 07:00:00 | 080550-99999 | LEON, SP | 42.589 | -5.655556 | 916.22 | 4.1 | 270 | 2.0 | NA | ⋯ | NA | NA | 4 | 1350 | NA | NA | NA | NA |  0 | NA |\n",
       "| 2013-01-01 08:00:00 | 080550-99999 | LEON, SP | 42.589 | -5.655556 | 916.22 | 3.1 | 270 | 2.0 | NA | ⋯ | NA | NA | 4 | 1350 | NA | NA | NA | NA |  0 | NA |\n",
       "| 2013-01-01 09:00:00 | 080550-99999 | LEON, SP | 42.589 | -5.655556 | 916.22 | 2.1 | 290 | 3.6 | NA | ⋯ | NA | NA | 4 | 1350 | NA | NA | NA | NA |  0 | NA |\n",
       "| 2013-01-01 10:00:00 | 080550-99999 | LEON, SP | 42.589 | -5.655556 | 916.22 | 1.5 | 290 | 6.0 | NA | ⋯ | NA | NA | 2 | 1350 | NA | NA | NA | NA |  0 | NA |\n",
       "\n"
      ],
      "text/plain": [
       "  date                code         station  latitude longitude elev   ws  wd \n",
       "1 2013-01-01 05:00:00 080550-99999 LEON, SP 42.589   -5.655556 916.22 0.0  NA\n",
       "2 2013-01-01 06:00:00 080550-99999 LEON, SP 42.589   -5.655556 916.22 4.1 280\n",
       "3 2013-01-01 07:00:00 080550-99999 LEON, SP 42.589   -5.655556 916.22 4.1 270\n",
       "4 2013-01-01 08:00:00 080550-99999 LEON, SP 42.589   -5.655556 916.22 3.1 270\n",
       "5 2013-01-01 09:00:00 080550-99999 LEON, SP 42.589   -5.655556 916.22 2.1 290\n",
       "6 2013-01-01 10:00:00 080550-99999 LEON, SP 42.589   -5.655556 916.22 1.5 290\n",
       "  air_temp atmos_pres <U+22EF>   cl_2 cl_3 cl cl_1_height cl_2_height cl_3_height\n",
       "1 0.0      NA         <U+22EF> NA   NA   2   600        NA          NA         \n",
       "2 2.8      NA         <U+22EF> NA   NA   2  1050        NA          NA         \n",
       "3 2.0      NA         <U+22EF> NA   NA   4  1350        NA          NA         \n",
       "4 2.0      NA         <U+22EF> NA   NA   4  1350        NA          NA         \n",
       "5 3.6      NA         <U+22EF> NA   NA   4  1350        NA          NA         \n",
       "6 6.0      NA         <U+22EF> NA   NA   2  1350        NA          NA         \n",
       "  precip_12 precip_6 precip pwc\n",
       "1 NA        NA       NA     NA \n",
       "2  5        NA       NA     NA \n",
       "3 NA        NA        0     NA \n",
       "4 NA        NA        0     NA \n",
       "5 NA        NA        0     NA \n",
       "6 NA        NA        0     NA "
      ]
     },
     "metadata": {},
     "output_type": "display_data"
    }
   ],
   "source": [
    "head(dataMto.all)"
   ]
  },
  {
   "cell_type": "code",
   "execution_count": 5,
   "metadata": {},
   "outputs": [],
   "source": [
    "dataMto.all$date <- floor_date(dataMto.all$date, unit=\"hour\")"
   ]
  },
  {
   "cell_type": "code",
   "execution_count": 6,
   "metadata": {},
   "outputs": [
    {
     "data": {
      "text/html": [
       "<table>\n",
       "<caption>A data.frame: 6 × 20</caption>\n",
       "<thead>\n",
       "\t<tr><th></th><th scope=col>Group.1</th><th scope=col>elev</th><th scope=col>ws</th><th scope=col>wd</th><th scope=col>air_temp</th><th scope=col>atmos_pres</th><th scope=col>visibility</th><th scope=col>dew_point</th><th scope=col>RH</th><th scope=col>ceil_hgt</th><th scope=col>cl_1</th><th scope=col>cl_2</th><th scope=col>cl_3</th><th scope=col>cl</th><th scope=col>cl_1_height</th><th scope=col>cl_2_height</th><th scope=col>cl_3_height</th><th scope=col>precip_12</th><th scope=col>precip_6</th><th scope=col>precip</th></tr>\n",
       "\t<tr><th></th><th scope=col>&lt;dttm&gt;</th><th scope=col>&lt;dbl&gt;</th><th scope=col>&lt;dbl&gt;</th><th scope=col>&lt;dbl&gt;</th><th scope=col>&lt;dbl&gt;</th><th scope=col>&lt;dbl&gt;</th><th scope=col>&lt;dbl&gt;</th><th scope=col>&lt;dbl&gt;</th><th scope=col>&lt;dbl&gt;</th><th scope=col>&lt;dbl&gt;</th><th scope=col>&lt;dbl&gt;</th><th scope=col>&lt;dbl&gt;</th><th scope=col>&lt;dbl&gt;</th><th scope=col>&lt;dbl&gt;</th><th scope=col>&lt;dbl&gt;</th><th scope=col>&lt;dbl&gt;</th><th scope=col>&lt;dbl&gt;</th><th scope=col>&lt;dbl&gt;</th><th scope=col>&lt;dbl&gt;</th><th scope=col>&lt;dbl&gt;</th></tr>\n",
       "</thead>\n",
       "<tbody>\n",
       "\t<tr><th scope=row>1</th><td>2013-01-01 05:00:00</td><td>916.22</td><td>0.0</td><td>NaN</td><td>0.0</td><td>NaN</td><td>11265</td><td>0.0</td><td>100.00000</td><td>22000</td><td>2</td><td>NaN</td><td>NaN</td><td>2</td><td> 600</td><td>NaN</td><td>NaN</td><td>NaN</td><td>NaN</td><td>NaN</td></tr>\n",
       "\t<tr><th scope=row>2</th><td>2013-01-01 06:00:00</td><td>916.22</td><td>4.1</td><td>280</td><td>2.8</td><td>NaN</td><td>20000</td><td>1.8</td><td> 93.22413</td><td>22000</td><td>2</td><td>NaN</td><td>NaN</td><td>2</td><td>1050</td><td>NaN</td><td>NaN</td><td>  5</td><td>NaN</td><td>NaN</td></tr>\n",
       "\t<tr><th scope=row>3</th><td>2013-01-01 07:00:00</td><td>916.22</td><td>4.1</td><td>270</td><td>2.0</td><td>NaN</td><td>11265</td><td>1.0</td><td> 93.18257</td><td>22000</td><td>4</td><td>NaN</td><td>NaN</td><td>4</td><td>1350</td><td>NaN</td><td>NaN</td><td>NaN</td><td>NaN</td><td>  0</td></tr>\n",
       "\t<tr><th scope=row>4</th><td>2013-01-01 08:00:00</td><td>916.22</td><td>3.1</td><td>270</td><td>2.0</td><td>NaN</td><td>11265</td><td>2.0</td><td>100.00000</td><td>22000</td><td>4</td><td>NaN</td><td>NaN</td><td>4</td><td>1350</td><td>NaN</td><td>NaN</td><td>NaN</td><td>NaN</td><td>  0</td></tr>\n",
       "\t<tr><th scope=row>5</th><td>2013-01-01 09:00:00</td><td>916.22</td><td>2.1</td><td>290</td><td>3.6</td><td>NaN</td><td>30000</td><td>2.7</td><td> 93.92031</td><td>22000</td><td>4</td><td>NaN</td><td>NaN</td><td>4</td><td>1350</td><td>NaN</td><td>NaN</td><td>NaN</td><td>NaN</td><td>  0</td></tr>\n",
       "\t<tr><th scope=row>6</th><td>2013-01-01 10:00:00</td><td>916.22</td><td>1.5</td><td>290</td><td>6.0</td><td>NaN</td><td>11265</td><td>4.0</td><td> 87.15688</td><td>22000</td><td>2</td><td>NaN</td><td>NaN</td><td>2</td><td>1350</td><td>NaN</td><td>NaN</td><td>NaN</td><td>NaN</td><td>  0</td></tr>\n",
       "</tbody>\n",
       "</table>\n"
      ],
      "text/latex": [
       "A data.frame: 6 × 20\n",
       "\\begin{tabular}{r|llllllllllllllllllll}\n",
       "  & Group.1 & elev & ws & wd & air\\_temp & atmos\\_pres & visibility & dew\\_point & RH & ceil\\_hgt & cl\\_1 & cl\\_2 & cl\\_3 & cl & cl\\_1\\_height & cl\\_2\\_height & cl\\_3\\_height & precip\\_12 & precip\\_6 & precip\\\\\n",
       "  & <dttm> & <dbl> & <dbl> & <dbl> & <dbl> & <dbl> & <dbl> & <dbl> & <dbl> & <dbl> & <dbl> & <dbl> & <dbl> & <dbl> & <dbl> & <dbl> & <dbl> & <dbl> & <dbl> & <dbl>\\\\\n",
       "\\hline\n",
       "\t1 & 2013-01-01 05:00:00 & 916.22 & 0.0 & NaN & 0.0 & NaN & 11265 & 0.0 & 100.00000 & 22000 & 2 & NaN & NaN & 2 &  600 & NaN & NaN & NaN & NaN & NaN\\\\\n",
       "\t2 & 2013-01-01 06:00:00 & 916.22 & 4.1 & 280 & 2.8 & NaN & 20000 & 1.8 &  93.22413 & 22000 & 2 & NaN & NaN & 2 & 1050 & NaN & NaN &   5 & NaN & NaN\\\\\n",
       "\t3 & 2013-01-01 07:00:00 & 916.22 & 4.1 & 270 & 2.0 & NaN & 11265 & 1.0 &  93.18257 & 22000 & 4 & NaN & NaN & 4 & 1350 & NaN & NaN & NaN & NaN &   0\\\\\n",
       "\t4 & 2013-01-01 08:00:00 & 916.22 & 3.1 & 270 & 2.0 & NaN & 11265 & 2.0 & 100.00000 & 22000 & 4 & NaN & NaN & 4 & 1350 & NaN & NaN & NaN & NaN &   0\\\\\n",
       "\t5 & 2013-01-01 09:00:00 & 916.22 & 2.1 & 290 & 3.6 & NaN & 30000 & 2.7 &  93.92031 & 22000 & 4 & NaN & NaN & 4 & 1350 & NaN & NaN & NaN & NaN &   0\\\\\n",
       "\t6 & 2013-01-01 10:00:00 & 916.22 & 1.5 & 290 & 6.0 & NaN & 11265 & 4.0 &  87.15688 & 22000 & 2 & NaN & NaN & 2 & 1350 & NaN & NaN & NaN & NaN &   0\\\\\n",
       "\\end{tabular}\n"
      ],
      "text/markdown": [
       "\n",
       "A data.frame: 6 × 20\n",
       "\n",
       "| <!--/--> | Group.1 &lt;dttm&gt; | elev &lt;dbl&gt; | ws &lt;dbl&gt; | wd &lt;dbl&gt; | air_temp &lt;dbl&gt; | atmos_pres &lt;dbl&gt; | visibility &lt;dbl&gt; | dew_point &lt;dbl&gt; | RH &lt;dbl&gt; | ceil_hgt &lt;dbl&gt; | cl_1 &lt;dbl&gt; | cl_2 &lt;dbl&gt; | cl_3 &lt;dbl&gt; | cl &lt;dbl&gt; | cl_1_height &lt;dbl&gt; | cl_2_height &lt;dbl&gt; | cl_3_height &lt;dbl&gt; | precip_12 &lt;dbl&gt; | precip_6 &lt;dbl&gt; | precip &lt;dbl&gt; |\n",
       "|---|---|---|---|---|---|---|---|---|---|---|---|---|---|---|---|---|---|---|---|---|\n",
       "| 1 | 2013-01-01 05:00:00 | 916.22 | 0.0 | NaN | 0.0 | NaN | 11265 | 0.0 | 100.00000 | 22000 | 2 | NaN | NaN | 2 |  600 | NaN | NaN | NaN | NaN | NaN |\n",
       "| 2 | 2013-01-01 06:00:00 | 916.22 | 4.1 | 280 | 2.8 | NaN | 20000 | 1.8 |  93.22413 | 22000 | 2 | NaN | NaN | 2 | 1050 | NaN | NaN |   5 | NaN | NaN |\n",
       "| 3 | 2013-01-01 07:00:00 | 916.22 | 4.1 | 270 | 2.0 | NaN | 11265 | 1.0 |  93.18257 | 22000 | 4 | NaN | NaN | 4 | 1350 | NaN | NaN | NaN | NaN |   0 |\n",
       "| 4 | 2013-01-01 08:00:00 | 916.22 | 3.1 | 270 | 2.0 | NaN | 11265 | 2.0 | 100.00000 | 22000 | 4 | NaN | NaN | 4 | 1350 | NaN | NaN | NaN | NaN |   0 |\n",
       "| 5 | 2013-01-01 09:00:00 | 916.22 | 2.1 | 290 | 3.6 | NaN | 30000 | 2.7 |  93.92031 | 22000 | 4 | NaN | NaN | 4 | 1350 | NaN | NaN | NaN | NaN |   0 |\n",
       "| 6 | 2013-01-01 10:00:00 | 916.22 | 1.5 | 290 | 6.0 | NaN | 11265 | 4.0 |  87.15688 | 22000 | 2 | NaN | NaN | 2 | 1350 | NaN | NaN | NaN | NaN |   0 |\n",
       "\n"
      ],
      "text/plain": [
       "  Group.1             elev   ws  wd  air_temp atmos_pres visibility dew_point\n",
       "1 2013-01-01 05:00:00 916.22 0.0 NaN 0.0      NaN        11265      0.0      \n",
       "2 2013-01-01 06:00:00 916.22 4.1 280 2.8      NaN        20000      1.8      \n",
       "3 2013-01-01 07:00:00 916.22 4.1 270 2.0      NaN        11265      1.0      \n",
       "4 2013-01-01 08:00:00 916.22 3.1 270 2.0      NaN        11265      2.0      \n",
       "5 2013-01-01 09:00:00 916.22 2.1 290 3.6      NaN        30000      2.7      \n",
       "6 2013-01-01 10:00:00 916.22 1.5 290 6.0      NaN        11265      4.0      \n",
       "  RH        ceil_hgt cl_1 cl_2 cl_3 cl cl_1_height cl_2_height cl_3_height\n",
       "1 100.00000 22000    2    NaN  NaN  2   600        NaN         NaN        \n",
       "2  93.22413 22000    2    NaN  NaN  2  1050        NaN         NaN        \n",
       "3  93.18257 22000    4    NaN  NaN  4  1350        NaN         NaN        \n",
       "4 100.00000 22000    4    NaN  NaN  4  1350        NaN         NaN        \n",
       "5  93.92031 22000    4    NaN  NaN  4  1350        NaN         NaN        \n",
       "6  87.15688 22000    2    NaN  NaN  2  1350        NaN         NaN        \n",
       "  precip_12 precip_6 precip\n",
       "1 NaN       NaN      NaN   \n",
       "2   5       NaN      NaN   \n",
       "3 NaN       NaN        0   \n",
       "4 NaN       NaN        0   \n",
       "5 NaN       NaN        0   \n",
       "6 NaN       NaN        0   "
      ]
     },
     "metadata": {},
     "output_type": "display_data"
    }
   ],
   "source": [
    "all.2.hour <- aggregate(dataMto.all[,7:ncol(dataMto.all)-1], \n",
    "                        by=list(dataMto.all$date), \n",
    "                        mean, na.rm=T)\n",
    "head(all.2.hour)"
   ]
  },
  {
   "cell_type": "code",
   "execution_count": 7,
   "metadata": {},
   "outputs": [
    {
     "data": {
      "text/html": [
       "682494"
      ],
      "text/latex": [
       "682494"
      ],
      "text/markdown": [
       "682494"
      ],
      "text/plain": [
       "[1] 682494"
      ]
     },
     "metadata": {},
     "output_type": "display_data"
    },
    {
     "data": {
      "text/html": [
       "641406"
      ],
      "text/latex": [
       "641406"
      ],
      "text/markdown": [
       "641406"
      ],
      "text/plain": [
       "[1] 641406"
      ]
     },
     "metadata": {},
     "output_type": "display_data"
    },
    {
     "data": {
      "text/html": [
       "1323900"
      ],
      "text/latex": [
       "1323900"
      ],
      "text/markdown": [
       "1323900"
      ],
      "text/plain": [
       "[1] 1323900"
      ]
     },
     "metadata": {},
     "output_type": "display_data"
    },
    {
     "data": {
      "text/html": [
       "66195"
      ],
      "text/latex": [
       "66195"
      ],
      "text/markdown": [
       "66195"
      ],
      "text/plain": [
       "[1] 66195"
      ]
     },
     "metadata": {},
     "output_type": "display_data"
    }
   ],
   "source": [
    "sum(is.na(all.2.hour))\n",
    "sum(!is.na(all.2.hour))\n",
    "\n",
    "sum(is.na(all.2.hour)) + sum(!is.na(all.2.hour))\n",
    "\n",
    "nrow(all.2.hour)"
   ]
  },
  {
   "cell_type": "code",
   "execution_count": 8,
   "metadata": {},
   "outputs": [
    {
     "data": {
      "text/plain": [
       "[1] \"2013-01-01 05:00:00 UTC\""
      ]
     },
     "metadata": {},
     "output_type": "display_data"
    },
    {
     "data": {
      "text/plain": [
       "[1] \"2021-01-28 21:00:00 UTC\""
      ]
     },
     "metadata": {},
     "output_type": "display_data"
    }
   ],
   "source": [
    "min(all.2.hour$Group.1)\n",
    "max(all.2.hour$Group.1)"
   ]
  },
  {
   "cell_type": "markdown",
   "metadata": {},
   "source": [
    "---"
   ]
  },
  {
   "cell_type": "code",
   "execution_count": 9,
   "metadata": {},
   "outputs": [
    {
     "data": {
      "text/html": [
       "<table>\n",
       "<caption>A tibble: 6 × 20</caption>\n",
       "<thead>\n",
       "\t<tr><th scope=col>date</th><th scope=col>elev</th><th scope=col>ws</th><th scope=col>wd</th><th scope=col>air_temp</th><th scope=col>atmos_pres</th><th scope=col>visibility</th><th scope=col>dew_point</th><th scope=col>RH</th><th scope=col>ceil_hgt</th><th scope=col>cl_1</th><th scope=col>cl_2</th><th scope=col>cl_3</th><th scope=col>cl</th><th scope=col>cl_1_height</th><th scope=col>cl_2_height</th><th scope=col>cl_3_height</th><th scope=col>precip_12</th><th scope=col>precip_6</th><th scope=col>precip</th></tr>\n",
       "\t<tr><th scope=col>&lt;dttm&gt;</th><th scope=col>&lt;dbl&gt;</th><th scope=col>&lt;dbl&gt;</th><th scope=col>&lt;dbl&gt;</th><th scope=col>&lt;dbl&gt;</th><th scope=col>&lt;dbl&gt;</th><th scope=col>&lt;dbl&gt;</th><th scope=col>&lt;dbl&gt;</th><th scope=col>&lt;dbl&gt;</th><th scope=col>&lt;dbl&gt;</th><th scope=col>&lt;dbl&gt;</th><th scope=col>&lt;dbl&gt;</th><th scope=col>&lt;dbl&gt;</th><th scope=col>&lt;dbl&gt;</th><th scope=col>&lt;dbl&gt;</th><th scope=col>&lt;dbl&gt;</th><th scope=col>&lt;dbl&gt;</th><th scope=col>&lt;dbl&gt;</th><th scope=col>&lt;dbl&gt;</th><th scope=col>&lt;dbl&gt;</th></tr>\n",
       "</thead>\n",
       "<tbody>\n",
       "\t<tr><td>2013-01-01 05:00:00</td><td>916.22</td><td>0.0</td><td> NA</td><td>0.0</td><td>NA</td><td>11265</td><td>0.0</td><td>100.00000</td><td>22000</td><td>2</td><td>NA</td><td>NA</td><td>2</td><td> 600</td><td>NA</td><td>NA</td><td>NA</td><td>NA</td><td>NA</td></tr>\n",
       "\t<tr><td>2013-01-01 06:00:00</td><td>916.22</td><td>4.1</td><td>280</td><td>2.8</td><td>NA</td><td>20000</td><td>1.8</td><td> 93.22413</td><td>22000</td><td>2</td><td>NA</td><td>NA</td><td>2</td><td>1050</td><td>NA</td><td>NA</td><td> 5</td><td>NA</td><td>NA</td></tr>\n",
       "\t<tr><td>2013-01-01 07:00:00</td><td>916.22</td><td>4.1</td><td>270</td><td>2.0</td><td>NA</td><td>11265</td><td>1.0</td><td> 93.18257</td><td>22000</td><td>4</td><td>NA</td><td>NA</td><td>4</td><td>1350</td><td>NA</td><td>NA</td><td>NA</td><td>NA</td><td> 0</td></tr>\n",
       "\t<tr><td>2013-01-01 08:00:00</td><td>916.22</td><td>3.1</td><td>270</td><td>2.0</td><td>NA</td><td>11265</td><td>2.0</td><td>100.00000</td><td>22000</td><td>4</td><td>NA</td><td>NA</td><td>4</td><td>1350</td><td>NA</td><td>NA</td><td>NA</td><td>NA</td><td> 0</td></tr>\n",
       "\t<tr><td>2013-01-01 09:00:00</td><td>916.22</td><td>2.1</td><td>290</td><td>3.6</td><td>NA</td><td>30000</td><td>2.7</td><td> 93.92031</td><td>22000</td><td>4</td><td>NA</td><td>NA</td><td>4</td><td>1350</td><td>NA</td><td>NA</td><td>NA</td><td>NA</td><td> 0</td></tr>\n",
       "\t<tr><td>2013-01-01 10:00:00</td><td>916.22</td><td>1.5</td><td>290</td><td>6.0</td><td>NA</td><td>11265</td><td>4.0</td><td> 87.15688</td><td>22000</td><td>2</td><td>NA</td><td>NA</td><td>2</td><td>1350</td><td>NA</td><td>NA</td><td>NA</td><td>NA</td><td> 0</td></tr>\n",
       "</tbody>\n",
       "</table>\n"
      ],
      "text/latex": [
       "A tibble: 6 × 20\n",
       "\\begin{tabular}{llllllllllllllllllll}\n",
       " date & elev & ws & wd & air\\_temp & atmos\\_pres & visibility & dew\\_point & RH & ceil\\_hgt & cl\\_1 & cl\\_2 & cl\\_3 & cl & cl\\_1\\_height & cl\\_2\\_height & cl\\_3\\_height & precip\\_12 & precip\\_6 & precip\\\\\n",
       " <dttm> & <dbl> & <dbl> & <dbl> & <dbl> & <dbl> & <dbl> & <dbl> & <dbl> & <dbl> & <dbl> & <dbl> & <dbl> & <dbl> & <dbl> & <dbl> & <dbl> & <dbl> & <dbl> & <dbl>\\\\\n",
       "\\hline\n",
       "\t 2013-01-01 05:00:00 & 916.22 & 0.0 &  NA & 0.0 & NA & 11265 & 0.0 & 100.00000 & 22000 & 2 & NA & NA & 2 &  600 & NA & NA & NA & NA & NA\\\\\n",
       "\t 2013-01-01 06:00:00 & 916.22 & 4.1 & 280 & 2.8 & NA & 20000 & 1.8 &  93.22413 & 22000 & 2 & NA & NA & 2 & 1050 & NA & NA &  5 & NA & NA\\\\\n",
       "\t 2013-01-01 07:00:00 & 916.22 & 4.1 & 270 & 2.0 & NA & 11265 & 1.0 &  93.18257 & 22000 & 4 & NA & NA & 4 & 1350 & NA & NA & NA & NA &  0\\\\\n",
       "\t 2013-01-01 08:00:00 & 916.22 & 3.1 & 270 & 2.0 & NA & 11265 & 2.0 & 100.00000 & 22000 & 4 & NA & NA & 4 & 1350 & NA & NA & NA & NA &  0\\\\\n",
       "\t 2013-01-01 09:00:00 & 916.22 & 2.1 & 290 & 3.6 & NA & 30000 & 2.7 &  93.92031 & 22000 & 4 & NA & NA & 4 & 1350 & NA & NA & NA & NA &  0\\\\\n",
       "\t 2013-01-01 10:00:00 & 916.22 & 1.5 & 290 & 6.0 & NA & 11265 & 4.0 &  87.15688 & 22000 & 2 & NA & NA & 2 & 1350 & NA & NA & NA & NA &  0\\\\\n",
       "\\end{tabular}\n"
      ],
      "text/markdown": [
       "\n",
       "A tibble: 6 × 20\n",
       "\n",
       "| date &lt;dttm&gt; | elev &lt;dbl&gt; | ws &lt;dbl&gt; | wd &lt;dbl&gt; | air_temp &lt;dbl&gt; | atmos_pres &lt;dbl&gt; | visibility &lt;dbl&gt; | dew_point &lt;dbl&gt; | RH &lt;dbl&gt; | ceil_hgt &lt;dbl&gt; | cl_1 &lt;dbl&gt; | cl_2 &lt;dbl&gt; | cl_3 &lt;dbl&gt; | cl &lt;dbl&gt; | cl_1_height &lt;dbl&gt; | cl_2_height &lt;dbl&gt; | cl_3_height &lt;dbl&gt; | precip_12 &lt;dbl&gt; | precip_6 &lt;dbl&gt; | precip &lt;dbl&gt; |\n",
       "|---|---|---|---|---|---|---|---|---|---|---|---|---|---|---|---|---|---|---|---|\n",
       "| 2013-01-01 05:00:00 | 916.22 | 0.0 |  NA | 0.0 | NA | 11265 | 0.0 | 100.00000 | 22000 | 2 | NA | NA | 2 |  600 | NA | NA | NA | NA | NA |\n",
       "| 2013-01-01 06:00:00 | 916.22 | 4.1 | 280 | 2.8 | NA | 20000 | 1.8 |  93.22413 | 22000 | 2 | NA | NA | 2 | 1050 | NA | NA |  5 | NA | NA |\n",
       "| 2013-01-01 07:00:00 | 916.22 | 4.1 | 270 | 2.0 | NA | 11265 | 1.0 |  93.18257 | 22000 | 4 | NA | NA | 4 | 1350 | NA | NA | NA | NA |  0 |\n",
       "| 2013-01-01 08:00:00 | 916.22 | 3.1 | 270 | 2.0 | NA | 11265 | 2.0 | 100.00000 | 22000 | 4 | NA | NA | 4 | 1350 | NA | NA | NA | NA |  0 |\n",
       "| 2013-01-01 09:00:00 | 916.22 | 2.1 | 290 | 3.6 | NA | 30000 | 2.7 |  93.92031 | 22000 | 4 | NA | NA | 4 | 1350 | NA | NA | NA | NA |  0 |\n",
       "| 2013-01-01 10:00:00 | 916.22 | 1.5 | 290 | 6.0 | NA | 11265 | 4.0 |  87.15688 | 22000 | 2 | NA | NA | 2 | 1350 | NA | NA | NA | NA |  0 |\n",
       "\n"
      ],
      "text/plain": [
       "  date                elev   ws  wd  air_temp atmos_pres visibility dew_point\n",
       "1 2013-01-01 05:00:00 916.22 0.0  NA 0.0      NA         11265      0.0      \n",
       "2 2013-01-01 06:00:00 916.22 4.1 280 2.8      NA         20000      1.8      \n",
       "3 2013-01-01 07:00:00 916.22 4.1 270 2.0      NA         11265      1.0      \n",
       "4 2013-01-01 08:00:00 916.22 3.1 270 2.0      NA         11265      2.0      \n",
       "5 2013-01-01 09:00:00 916.22 2.1 290 3.6      NA         30000      2.7      \n",
       "6 2013-01-01 10:00:00 916.22 1.5 290 6.0      NA         11265      4.0      \n",
       "  RH        ceil_hgt cl_1 cl_2 cl_3 cl cl_1_height cl_2_height cl_3_height\n",
       "1 100.00000 22000    2    NA   NA   2   600        NA          NA         \n",
       "2  93.22413 22000    2    NA   NA   2  1050        NA          NA         \n",
       "3  93.18257 22000    4    NA   NA   4  1350        NA          NA         \n",
       "4 100.00000 22000    4    NA   NA   4  1350        NA          NA         \n",
       "5  93.92031 22000    4    NA   NA   4  1350        NA          NA         \n",
       "6  87.15688 22000    2    NA   NA   2  1350        NA          NA         \n",
       "  precip_12 precip_6 precip\n",
       "1 NA        NA       NA    \n",
       "2  5        NA       NA    \n",
       "3 NA        NA        0    \n",
       "4 NA        NA        0    \n",
       "5 NA        NA        0    \n",
       "6 NA        NA        0    "
      ]
     },
     "metadata": {},
     "output_type": "display_data"
    }
   ],
   "source": [
    "head(dataMto.hour[,c(3, 7:ncol(dataMto.all)-1)])"
   ]
  },
  {
   "cell_type": "code",
   "execution_count": 10,
   "metadata": {},
   "outputs": [
    {
     "data": {
      "text/html": [
       "769704"
      ],
      "text/latex": [
       "769704"
      ],
      "text/markdown": [
       "769704"
      ],
      "text/plain": [
       "[1] 769704"
      ]
     },
     "metadata": {},
     "output_type": "display_data"
    },
    {
     "data": {
      "text/html": [
       "645996"
      ],
      "text/latex": [
       "645996"
      ],
      "text/markdown": [
       "645996"
      ],
      "text/plain": [
       "[1] 645996"
      ]
     },
     "metadata": {},
     "output_type": "display_data"
    },
    {
     "data": {
      "text/html": [
       "1415700"
      ],
      "text/latex": [
       "1415700"
      ],
      "text/markdown": [
       "1415700"
      ],
      "text/plain": [
       "[1] 1415700"
      ]
     },
     "metadata": {},
     "output_type": "display_data"
    },
    {
     "data": {
      "text/html": [
       "70785"
      ],
      "text/latex": [
       "70785"
      ],
      "text/markdown": [
       "70785"
      ],
      "text/plain": [
       "[1] 70785"
      ]
     },
     "metadata": {},
     "output_type": "display_data"
    }
   ],
   "source": [
    "a <- dataMto.hour[,c(3,7:ncol(dataMto.all)-1)]\n",
    "a <- a[rowSums(is.na(a)) != nrow(a),]\n",
    "\n",
    "sum(is.na(a))\n",
    "sum(!is.na(a))\n",
    "\n",
    "sum(is.na(a)) + sum(!is.na(a))\n",
    "nrow(a)"
   ]
  },
  {
   "cell_type": "code",
   "execution_count": 11,
   "metadata": {},
   "outputs": [
    {
     "data": {
      "text/html": [
       "<table>\n",
       "<caption>A tibble: 6 × 20</caption>\n",
       "<thead>\n",
       "\t<tr><th scope=col>date</th><th scope=col>elev</th><th scope=col>ws</th><th scope=col>wd</th><th scope=col>air_temp</th><th scope=col>atmos_pres</th><th scope=col>visibility</th><th scope=col>dew_point</th><th scope=col>RH</th><th scope=col>ceil_hgt</th><th scope=col>cl_1</th><th scope=col>cl_2</th><th scope=col>cl_3</th><th scope=col>cl</th><th scope=col>cl_1_height</th><th scope=col>cl_2_height</th><th scope=col>cl_3_height</th><th scope=col>precip_12</th><th scope=col>precip_6</th><th scope=col>precip</th></tr>\n",
       "\t<tr><th scope=col>&lt;dttm&gt;</th><th scope=col>&lt;dbl&gt;</th><th scope=col>&lt;dbl&gt;</th><th scope=col>&lt;dbl&gt;</th><th scope=col>&lt;dbl&gt;</th><th scope=col>&lt;dbl&gt;</th><th scope=col>&lt;dbl&gt;</th><th scope=col>&lt;dbl&gt;</th><th scope=col>&lt;dbl&gt;</th><th scope=col>&lt;dbl&gt;</th><th scope=col>&lt;dbl&gt;</th><th scope=col>&lt;dbl&gt;</th><th scope=col>&lt;dbl&gt;</th><th scope=col>&lt;dbl&gt;</th><th scope=col>&lt;dbl&gt;</th><th scope=col>&lt;dbl&gt;</th><th scope=col>&lt;dbl&gt;</th><th scope=col>&lt;dbl&gt;</th><th scope=col>&lt;dbl&gt;</th><th scope=col>&lt;dbl&gt;</th></tr>\n",
       "</thead>\n",
       "<tbody>\n",
       "\t<tr><td>2013-01-01 05:00:00</td><td>916.22</td><td>0.0</td><td> NA</td><td>0.0</td><td>NA</td><td>11265</td><td>0.0</td><td>100.00000</td><td>22000</td><td>2</td><td>NA</td><td>NA</td><td>2</td><td> 600</td><td>NA</td><td>NA</td><td>NA</td><td>NA</td><td>NA</td></tr>\n",
       "\t<tr><td>2013-01-01 06:00:00</td><td>916.22</td><td>4.1</td><td>280</td><td>2.8</td><td>NA</td><td>20000</td><td>1.8</td><td> 93.22413</td><td>22000</td><td>2</td><td>NA</td><td>NA</td><td>2</td><td>1050</td><td>NA</td><td>NA</td><td> 5</td><td>NA</td><td>NA</td></tr>\n",
       "\t<tr><td>2013-01-01 07:00:00</td><td>916.22</td><td>4.1</td><td>270</td><td>2.0</td><td>NA</td><td>11265</td><td>1.0</td><td> 93.18257</td><td>22000</td><td>4</td><td>NA</td><td>NA</td><td>4</td><td>1350</td><td>NA</td><td>NA</td><td>NA</td><td>NA</td><td> 0</td></tr>\n",
       "\t<tr><td>2013-01-01 08:00:00</td><td>916.22</td><td>3.1</td><td>270</td><td>2.0</td><td>NA</td><td>11265</td><td>2.0</td><td>100.00000</td><td>22000</td><td>4</td><td>NA</td><td>NA</td><td>4</td><td>1350</td><td>NA</td><td>NA</td><td>NA</td><td>NA</td><td> 0</td></tr>\n",
       "\t<tr><td>2013-01-01 09:00:00</td><td>916.22</td><td>2.1</td><td>290</td><td>3.6</td><td>NA</td><td>30000</td><td>2.7</td><td> 93.92031</td><td>22000</td><td>4</td><td>NA</td><td>NA</td><td>4</td><td>1350</td><td>NA</td><td>NA</td><td>NA</td><td>NA</td><td> 0</td></tr>\n",
       "\t<tr><td>2013-01-01 10:00:00</td><td>916.22</td><td>1.5</td><td>290</td><td>6.0</td><td>NA</td><td>11265</td><td>4.0</td><td> 87.15688</td><td>22000</td><td>2</td><td>NA</td><td>NA</td><td>2</td><td>1350</td><td>NA</td><td>NA</td><td>NA</td><td>NA</td><td> 0</td></tr>\n",
       "</tbody>\n",
       "</table>\n"
      ],
      "text/latex": [
       "A tibble: 6 × 20\n",
       "\\begin{tabular}{llllllllllllllllllll}\n",
       " date & elev & ws & wd & air\\_temp & atmos\\_pres & visibility & dew\\_point & RH & ceil\\_hgt & cl\\_1 & cl\\_2 & cl\\_3 & cl & cl\\_1\\_height & cl\\_2\\_height & cl\\_3\\_height & precip\\_12 & precip\\_6 & precip\\\\\n",
       " <dttm> & <dbl> & <dbl> & <dbl> & <dbl> & <dbl> & <dbl> & <dbl> & <dbl> & <dbl> & <dbl> & <dbl> & <dbl> & <dbl> & <dbl> & <dbl> & <dbl> & <dbl> & <dbl> & <dbl>\\\\\n",
       "\\hline\n",
       "\t 2013-01-01 05:00:00 & 916.22 & 0.0 &  NA & 0.0 & NA & 11265 & 0.0 & 100.00000 & 22000 & 2 & NA & NA & 2 &  600 & NA & NA & NA & NA & NA\\\\\n",
       "\t 2013-01-01 06:00:00 & 916.22 & 4.1 & 280 & 2.8 & NA & 20000 & 1.8 &  93.22413 & 22000 & 2 & NA & NA & 2 & 1050 & NA & NA &  5 & NA & NA\\\\\n",
       "\t 2013-01-01 07:00:00 & 916.22 & 4.1 & 270 & 2.0 & NA & 11265 & 1.0 &  93.18257 & 22000 & 4 & NA & NA & 4 & 1350 & NA & NA & NA & NA &  0\\\\\n",
       "\t 2013-01-01 08:00:00 & 916.22 & 3.1 & 270 & 2.0 & NA & 11265 & 2.0 & 100.00000 & 22000 & 4 & NA & NA & 4 & 1350 & NA & NA & NA & NA &  0\\\\\n",
       "\t 2013-01-01 09:00:00 & 916.22 & 2.1 & 290 & 3.6 & NA & 30000 & 2.7 &  93.92031 & 22000 & 4 & NA & NA & 4 & 1350 & NA & NA & NA & NA &  0\\\\\n",
       "\t 2013-01-01 10:00:00 & 916.22 & 1.5 & 290 & 6.0 & NA & 11265 & 4.0 &  87.15688 & 22000 & 2 & NA & NA & 2 & 1350 & NA & NA & NA & NA &  0\\\\\n",
       "\\end{tabular}\n"
      ],
      "text/markdown": [
       "\n",
       "A tibble: 6 × 20\n",
       "\n",
       "| date &lt;dttm&gt; | elev &lt;dbl&gt; | ws &lt;dbl&gt; | wd &lt;dbl&gt; | air_temp &lt;dbl&gt; | atmos_pres &lt;dbl&gt; | visibility &lt;dbl&gt; | dew_point &lt;dbl&gt; | RH &lt;dbl&gt; | ceil_hgt &lt;dbl&gt; | cl_1 &lt;dbl&gt; | cl_2 &lt;dbl&gt; | cl_3 &lt;dbl&gt; | cl &lt;dbl&gt; | cl_1_height &lt;dbl&gt; | cl_2_height &lt;dbl&gt; | cl_3_height &lt;dbl&gt; | precip_12 &lt;dbl&gt; | precip_6 &lt;dbl&gt; | precip &lt;dbl&gt; |\n",
       "|---|---|---|---|---|---|---|---|---|---|---|---|---|---|---|---|---|---|---|---|\n",
       "| 2013-01-01 05:00:00 | 916.22 | 0.0 |  NA | 0.0 | NA | 11265 | 0.0 | 100.00000 | 22000 | 2 | NA | NA | 2 |  600 | NA | NA | NA | NA | NA |\n",
       "| 2013-01-01 06:00:00 | 916.22 | 4.1 | 280 | 2.8 | NA | 20000 | 1.8 |  93.22413 | 22000 | 2 | NA | NA | 2 | 1050 | NA | NA |  5 | NA | NA |\n",
       "| 2013-01-01 07:00:00 | 916.22 | 4.1 | 270 | 2.0 | NA | 11265 | 1.0 |  93.18257 | 22000 | 4 | NA | NA | 4 | 1350 | NA | NA | NA | NA |  0 |\n",
       "| 2013-01-01 08:00:00 | 916.22 | 3.1 | 270 | 2.0 | NA | 11265 | 2.0 | 100.00000 | 22000 | 4 | NA | NA | 4 | 1350 | NA | NA | NA | NA |  0 |\n",
       "| 2013-01-01 09:00:00 | 916.22 | 2.1 | 290 | 3.6 | NA | 30000 | 2.7 |  93.92031 | 22000 | 4 | NA | NA | 4 | 1350 | NA | NA | NA | NA |  0 |\n",
       "| 2013-01-01 10:00:00 | 916.22 | 1.5 | 290 | 6.0 | NA | 11265 | 4.0 |  87.15688 | 22000 | 2 | NA | NA | 2 | 1350 | NA | NA | NA | NA |  0 |\n",
       "\n"
      ],
      "text/plain": [
       "  date                elev   ws  wd  air_temp atmos_pres visibility dew_point\n",
       "1 2013-01-01 05:00:00 916.22 0.0  NA 0.0      NA         11265      0.0      \n",
       "2 2013-01-01 06:00:00 916.22 4.1 280 2.8      NA         20000      1.8      \n",
       "3 2013-01-01 07:00:00 916.22 4.1 270 2.0      NA         11265      1.0      \n",
       "4 2013-01-01 08:00:00 916.22 3.1 270 2.0      NA         11265      2.0      \n",
       "5 2013-01-01 09:00:00 916.22 2.1 290 3.6      NA         30000      2.7      \n",
       "6 2013-01-01 10:00:00 916.22 1.5 290 6.0      NA         11265      4.0      \n",
       "  RH        ceil_hgt cl_1 cl_2 cl_3 cl cl_1_height cl_2_height cl_3_height\n",
       "1 100.00000 22000    2    NA   NA   2   600        NA          NA         \n",
       "2  93.22413 22000    2    NA   NA   2  1050        NA          NA         \n",
       "3  93.18257 22000    4    NA   NA   4  1350        NA          NA         \n",
       "4 100.00000 22000    4    NA   NA   4  1350        NA          NA         \n",
       "5  93.92031 22000    4    NA   NA   4  1350        NA          NA         \n",
       "6  87.15688 22000    2    NA   NA   2  1350        NA          NA         \n",
       "  precip_12 precip_6 precip\n",
       "1 NA        NA       NA    \n",
       "2  5        NA       NA    \n",
       "3 NA        NA        0    \n",
       "4 NA        NA        0    \n",
       "5 NA        NA        0    \n",
       "6 NA        NA        0    "
      ]
     },
     "metadata": {},
     "output_type": "display_data"
    }
   ],
   "source": [
    "head(a)"
   ]
  },
  {
   "cell_type": "code",
   "execution_count": 12,
   "metadata": {},
   "outputs": [
    {
     "data": {
      "text/plain": [
       "[1] \"2013-01-01 05:00:00 UTC\""
      ]
     },
     "metadata": {},
     "output_type": "display_data"
    },
    {
     "data": {
      "text/plain": [
       "[1] \"2021-01-28 21:00:00 UTC\""
      ]
     },
     "metadata": {},
     "output_type": "display_data"
    }
   ],
   "source": [
    "min(dataMto.hour$date)\n",
    "max(dataMto.hour$date)"
   ]
  },
  {
   "cell_type": "code",
   "execution_count": 13,
   "metadata": {},
   "outputs": [
    {
     "name": "stderr",
     "output_type": "stream",
     "text": [
      "Warning message:\n",
      "\"Removed 62397 rows containing missing values (geom_point).\"\n",
      "Warning message:\n",
      "\"Removed 57807 rows containing missing values (geom_point).\"\n"
     ]
    },
    {
     "data": {
      "image/png": "[encoded data removed]",
      "text/plain": [
       "plot without title"
      ]
     },
     "metadata": {
      "image/png": {
       "height": 420,
       "width": 420
      }
     },
     "output_type": "display_data"
    }
   ],
   "source": [
    "ggplot() +\n",
    "    geom_point(data=dataMto.hour[, c(\"date\", \"precip\")], aes(x=date, y=precip), color=\"blue\") +\n",
    "    #+ ylim(0, 10)# +\n",
    "    #xlim(ymd_hms(\"2020-01-01 00:00:00\"), ymd_hms(\"2021-01-01 00:00:00\"))\n",
    "    geom_point(data=all.2.hour[, c(\"Group.1\", \"precip\")], aes(x=Group.1, y=precip), color=\"red\")"
   ]
  }
 ],
 "metadata": {
  "kernelspec": {
   "display_name": "R",
   "language": "R",
   "name": "ir"
  },
  "language_info": {
   "codemirror_mode": "r",
   "file_extension": ".r",
   "mimetype": "text/x-r-source",
   "name": "R",
   "pygments_lexer": "r",
   "version": "3.6.3"
  }
 },
 "nbformat": 4,
 "nbformat_minor": 4
}
