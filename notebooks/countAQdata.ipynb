{
 "cells": [
  {
   "cell_type": "markdown",
   "metadata": {},
   "source": [
    "# Contando Valores\n",
    "\n",
    "Calcular el numero de datos disponibles para cada estacion y almacenar en una tabla el codigo de cada estacion junto con dicho valor"
   ]
  },
  {
   "cell_type": "code",
   "execution_count": 4,
   "metadata": {},
   "outputs": [],
   "source": [
    "suppressMessages(library(saqgetr))\n",
    "suppressMessages(library(lubridate))"
   ]
  },
  {
   "cell_type": "code",
   "execution_count": 5,
   "metadata": {},
   "outputs": [],
   "source": [
    "# contaminantes a estudiar\n",
    "pollutants <- c(\"no\", \"no2\", \"o3\", \"pm10\")\n",
    "\n",
    "# fechas de inicio y final de toma de datos\n",
    "start_dt <- ymd_hms(\"2015-01-01 00:00:00\")\n",
    "end_dt <- ymd_hms(\"2020-10-01 00:00:00\")\n",
    "\n",
    "# fecha de inicio de confinamiento\n",
    "lckdwn_strt <- ymd_hms(\"2020-03-14 00:00:00\")"
   ]
  },
  {
   "cell_type": "code",
   "execution_count": 12,
   "metadata": {},
   "outputs": [],
   "source": [
    "sites <- read.csv(\"../data/csv/sitesAQ.csv\", stringsAsFactors=T)"
   ]
  },
  {
   "cell_type": "code",
   "execution_count": 13,
   "metadata": {},
   "outputs": [
    {
     "data": {
      "text/html": [
       "<table>\n",
       "<caption>A data.frame: 6 × 19</caption>\n",
       "<thead>\n",
       "\t<tr><th></th><th scope=col>site</th><th scope=col>process</th><th scope=col>variable</th><th scope=col>variable_long</th><th scope=col>period</th><th scope=col>unit</th><th scope=col>observation_count</th><th scope=col>Municipio</th><th scope=col>Población</th><th scope=col>Estación.tráfico</th><th scope=col>site_name</th><th scope=col>latitude</th><th scope=col>longitude</th><th scope=col>elevation</th><th scope=col>country</th><th scope=col>site_type</th><th scope=col>site_area</th><th scope=col>date_start</th><th scope=col>date_end</th></tr>\n",
       "\t<tr><th></th><th scope=col>&lt;fct&gt;</th><th scope=col>&lt;int&gt;</th><th scope=col>&lt;fct&gt;</th><th scope=col>&lt;fct&gt;</th><th scope=col>&lt;fct&gt;</th><th scope=col>&lt;fct&gt;</th><th scope=col>&lt;int&gt;</th><th scope=col>&lt;fct&gt;</th><th scope=col>&lt;int&gt;</th><th scope=col>&lt;fct&gt;</th><th scope=col>&lt;fct&gt;</th><th scope=col>&lt;dbl&gt;</th><th scope=col>&lt;dbl&gt;</th><th scope=col>&lt;int&gt;</th><th scope=col>&lt;fct&gt;</th><th scope=col>&lt;fct&gt;</th><th scope=col>&lt;fct&gt;</th><th scope=col>&lt;fct&gt;</th><th scope=col>&lt;fct&gt;</th></tr>\n",
       "</thead>\n",
       "<tbody>\n",
       "\t<tr><th scope=row>1</th><td>es0041a</td><td>31140</td><td>no2</td><td>Nitrogen dioxide (air)</td><td>day  </td><td>ug.m-3</td><td>  151</td><td>Bilbao</td><td>346843</td><td>María Diaz de Haro</td><td>DIRECCIÓN DE SALUD</td><td>43.25883</td><td>-2.94565</td><td>32</td><td>spain</td><td>traffic</td><td>urban</td><td>1986-04-01</td><td>2021-01-15 23:00:00</td></tr>\n",
       "\t<tr><th scope=row>2</th><td>es0110a</td><td>31281</td><td>o3 </td><td>Ozone (air)           </td><td>day  </td><td>ug.m-3</td><td> 4092</td><td>Bilbao</td><td> 24350</td><td>Erandio           </td><td>ERANDIO           </td><td>43.30268</td><td>-2.97724</td><td> 4</td><td>spain</td><td>traffic</td><td>urban</td><td>1997-01-01</td><td>2021-01-15 23:00:00</td></tr>\n",
       "\t<tr><th scope=row>3</th><td>es0110a</td><td>31282</td><td>o3 </td><td>Ozone (air)           </td><td>dymax</td><td>ug.m-3</td><td> 4095</td><td>Bilbao</td><td> 24350</td><td>Erandio           </td><td>ERANDIO           </td><td>43.30268</td><td>-2.97724</td><td> 4</td><td>spain</td><td>traffic</td><td>urban</td><td>1997-01-01</td><td>2021-01-15 23:00:00</td></tr>\n",
       "\t<tr><th scope=row>4</th><td>es0110a</td><td>31283</td><td>o3 </td><td>Ozone (air)           </td><td>hour </td><td>ug.m-3</td><td>94149</td><td>Bilbao</td><td> 24350</td><td>Erandio           </td><td>ERANDIO           </td><td>43.30268</td><td>-2.97724</td><td> 4</td><td>spain</td><td>traffic</td><td>urban</td><td>1997-01-01</td><td>2021-01-15 23:00:00</td></tr>\n",
       "\t<tr><th scope=row>5</th><td>es0110a</td><td>31284</td><td>o3 </td><td>Ozone (air)           </td><td>hour8</td><td>ug.m-3</td><td>97891</td><td>Bilbao</td><td> 24350</td><td>Erandio           </td><td>ERANDIO           </td><td>43.30268</td><td>-2.97724</td><td> 4</td><td>spain</td><td>traffic</td><td>urban</td><td>1997-01-01</td><td>2021-01-15 23:00:00</td></tr>\n",
       "\t<tr><th scope=row>6</th><td>es0110a</td><td>31285</td><td>no2</td><td>Nitrogen dioxide (air)</td><td>day  </td><td>ug.m-3</td><td> 5324</td><td>Bilbao</td><td> 24350</td><td>Erandio           </td><td>ERANDIO           </td><td>43.30268</td><td>-2.97724</td><td> 4</td><td>spain</td><td>traffic</td><td>urban</td><td>1997-01-01</td><td>2021-01-15 23:00:00</td></tr>\n",
       "</tbody>\n",
       "</table>\n"
      ],
      "text/latex": [
       "A data.frame: 6 × 19\n",
       "\\begin{tabular}{r|lllllllllllllllllll}\n",
       "  & site & process & variable & variable\\_long & period & unit & observation\\_count & Municipio & Población & Estación.tráfico & site\\_name & latitude & longitude & elevation & country & site\\_type & site\\_area & date\\_start & date\\_end\\\\\n",
       "  & <fct> & <int> & <fct> & <fct> & <fct> & <fct> & <int> & <fct> & <int> & <fct> & <fct> & <dbl> & <dbl> & <int> & <fct> & <fct> & <fct> & <fct> & <fct>\\\\\n",
       "\\hline\n",
       "\t1 & es0041a & 31140 & no2 & Nitrogen dioxide (air) & day   & ug.m-3 &   151 & Bilbao & 346843 & María Diaz de Haro & DIRECCIÓN DE SALUD & 43.25883 & -2.94565 & 32 & spain & traffic & urban & 1986-04-01 & 2021-01-15 23:00:00\\\\\n",
       "\t2 & es0110a & 31281 & o3  & Ozone (air)            & day   & ug.m-3 &  4092 & Bilbao &  24350 & Erandio            & ERANDIO            & 43.30268 & -2.97724 &  4 & spain & traffic & urban & 1997-01-01 & 2021-01-15 23:00:00\\\\\n",
       "\t3 & es0110a & 31282 & o3  & Ozone (air)            & dymax & ug.m-3 &  4095 & Bilbao &  24350 & Erandio            & ERANDIO            & 43.30268 & -2.97724 &  4 & spain & traffic & urban & 1997-01-01 & 2021-01-15 23:00:00\\\\\n",
       "\t4 & es0110a & 31283 & o3  & Ozone (air)            & hour  & ug.m-3 & 94149 & Bilbao &  24350 & Erandio            & ERANDIO            & 43.30268 & -2.97724 &  4 & spain & traffic & urban & 1997-01-01 & 2021-01-15 23:00:00\\\\\n",
       "\t5 & es0110a & 31284 & o3  & Ozone (air)            & hour8 & ug.m-3 & 97891 & Bilbao &  24350 & Erandio            & ERANDIO            & 43.30268 & -2.97724 &  4 & spain & traffic & urban & 1997-01-01 & 2021-01-15 23:00:00\\\\\n",
       "\t6 & es0110a & 31285 & no2 & Nitrogen dioxide (air) & day   & ug.m-3 &  5324 & Bilbao &  24350 & Erandio            & ERANDIO            & 43.30268 & -2.97724 &  4 & spain & traffic & urban & 1997-01-01 & 2021-01-15 23:00:00\\\\\n",
       "\\end{tabular}\n"
      ],
      "text/markdown": [
       "\n",
       "A data.frame: 6 × 19\n",
       "\n",
       "| <!--/--> | site &lt;fct&gt; | process &lt;int&gt; | variable &lt;fct&gt; | variable_long &lt;fct&gt; | period &lt;fct&gt; | unit &lt;fct&gt; | observation_count &lt;int&gt; | Municipio &lt;fct&gt; | Población &lt;int&gt; | Estación.tráfico &lt;fct&gt; | site_name &lt;fct&gt; | latitude &lt;dbl&gt; | longitude &lt;dbl&gt; | elevation &lt;int&gt; | country &lt;fct&gt; | site_type &lt;fct&gt; | site_area &lt;fct&gt; | date_start &lt;fct&gt; | date_end &lt;fct&gt; |\n",
       "|---|---|---|---|---|---|---|---|---|---|---|---|---|---|---|---|---|---|---|---|\n",
       "| 1 | es0041a | 31140 | no2 | Nitrogen dioxide (air) | day   | ug.m-3 |   151 | Bilbao | 346843 | María Diaz de Haro | DIRECCIÓN DE SALUD | 43.25883 | -2.94565 | 32 | spain | traffic | urban | 1986-04-01 | 2021-01-15 23:00:00 |\n",
       "| 2 | es0110a | 31281 | o3  | Ozone (air)            | day   | ug.m-3 |  4092 | Bilbao |  24350 | Erandio            | ERANDIO            | 43.30268 | -2.97724 |  4 | spain | traffic | urban | 1997-01-01 | 2021-01-15 23:00:00 |\n",
       "| 3 | es0110a | 31282 | o3  | Ozone (air)            | dymax | ug.m-3 |  4095 | Bilbao |  24350 | Erandio            | ERANDIO            | 43.30268 | -2.97724 |  4 | spain | traffic | urban | 1997-01-01 | 2021-01-15 23:00:00 |\n",
       "| 4 | es0110a | 31283 | o3  | Ozone (air)            | hour  | ug.m-3 | 94149 | Bilbao |  24350 | Erandio            | ERANDIO            | 43.30268 | -2.97724 |  4 | spain | traffic | urban | 1997-01-01 | 2021-01-15 23:00:00 |\n",
       "| 5 | es0110a | 31284 | o3  | Ozone (air)            | hour8 | ug.m-3 | 97891 | Bilbao |  24350 | Erandio            | ERANDIO            | 43.30268 | -2.97724 |  4 | spain | traffic | urban | 1997-01-01 | 2021-01-15 23:00:00 |\n",
       "| 6 | es0110a | 31285 | no2 | Nitrogen dioxide (air) | day   | ug.m-3 |  5324 | Bilbao |  24350 | Erandio            | ERANDIO            | 43.30268 | -2.97724 |  4 | spain | traffic | urban | 1997-01-01 | 2021-01-15 23:00:00 |\n",
       "\n"
      ],
      "text/plain": [
       "  site    process variable variable_long          period unit  \n",
       "1 es0041a 31140   no2      Nitrogen dioxide (air) day    ug.m-3\n",
       "2 es0110a 31281   o3       Ozone (air)            day    ug.m-3\n",
       "3 es0110a 31282   o3       Ozone (air)            dymax  ug.m-3\n",
       "4 es0110a 31283   o3       Ozone (air)            hour   ug.m-3\n",
       "5 es0110a 31284   o3       Ozone (air)            hour8  ug.m-3\n",
       "6 es0110a 31285   no2      Nitrogen dioxide (air) day    ug.m-3\n",
       "  observation_count Municipio Población Estación.tráfico   site_name         \n",
       "1   151             Bilbao    346843    María Diaz de Haro DIRECCIÓN DE SALUD\n",
       "2  4092             Bilbao     24350    Erandio            ERANDIO           \n",
       "3  4095             Bilbao     24350    Erandio            ERANDIO           \n",
       "4 94149             Bilbao     24350    Erandio            ERANDIO           \n",
       "5 97891             Bilbao     24350    Erandio            ERANDIO           \n",
       "6  5324             Bilbao     24350    Erandio            ERANDIO           \n",
       "  latitude longitude elevation country site_type site_area date_start\n",
       "1 43.25883 -2.94565  32        spain   traffic   urban     1986-04-01\n",
       "2 43.30268 -2.97724   4        spain   traffic   urban     1997-01-01\n",
       "3 43.30268 -2.97724   4        spain   traffic   urban     1997-01-01\n",
       "4 43.30268 -2.97724   4        spain   traffic   urban     1997-01-01\n",
       "5 43.30268 -2.97724   4        spain   traffic   urban     1997-01-01\n",
       "6 43.30268 -2.97724   4        spain   traffic   urban     1997-01-01\n",
       "  date_end           \n",
       "1 2021-01-15 23:00:00\n",
       "2 2021-01-15 23:00:00\n",
       "3 2021-01-15 23:00:00\n",
       "4 2021-01-15 23:00:00\n",
       "5 2021-01-15 23:00:00\n",
       "6 2021-01-15 23:00:00"
      ]
     },
     "metadata": {},
     "output_type": "display_data"
    }
   ],
   "source": [
    "head(sites)"
   ]
  },
  {
   "cell_type": "markdown",
   "metadata": {},
   "source": [
    "## Obtener los datos de Saqgetr "
   ]
  },
  {
   "cell_type": "code",
   "execution_count": 14,
   "metadata": {},
   "outputs": [],
   "source": [
    "suppressMessages(dataAQ <- get_saq_observations(\n",
    "    site = levels(sites$site),\n",
    "    variable = pollutants,\n",
    "    valid_only = TRUE,\n",
    "    start = start_dt,\n",
    "    end = end_dt,\n",
    "    verbose = TRUE\n",
    "))"
   ]
  },
  {
   "cell_type": "markdown",
   "metadata": {},
   "source": [
    "## Contar valores"
   ]
  },
  {
   "cell_type": "code",
   "execution_count": 25,
   "metadata": {},
   "outputs": [
    {
     "data": {
      "text/html": [
       "<table>\n",
       "<caption>A data.frame: 6 × 2</caption>\n",
       "<thead>\n",
       "\t<tr><th></th><th scope=col>siteAQ</th><th scope=col>countAQ</th></tr>\n",
       "\t<tr><th></th><th scope=col>&lt;chr&gt;</th><th scope=col>&lt;int&gt;</th></tr>\n",
       "</thead>\n",
       "<tbody>\n",
       "\t<tr><th scope=row>1</th><td>es0041a</td><td> 61094</td></tr>\n",
       "\t<tr><th scope=row>2</th><td>es0110a</td><td>146228</td></tr>\n",
       "\t<tr><th scope=row>3</th><td>es0115a</td><td> 96260</td></tr>\n",
       "\t<tr><th scope=row>4</th><td>es0118a</td><td>     0</td></tr>\n",
       "\t<tr><th scope=row>5</th><td>es0120a</td><td>     0</td></tr>\n",
       "\t<tr><th scope=row>6</th><td>es0817a</td><td>     0</td></tr>\n",
       "</tbody>\n",
       "</table>\n"
      ],
      "text/latex": [
       "A data.frame: 6 × 2\n",
       "\\begin{tabular}{r|ll}\n",
       "  & siteAQ & countAQ\\\\\n",
       "  & <chr> & <int>\\\\\n",
       "\\hline\n",
       "\t1 & es0041a &  61094\\\\\n",
       "\t2 & es0110a & 146228\\\\\n",
       "\t3 & es0115a &  96260\\\\\n",
       "\t4 & es0118a &      0\\\\\n",
       "\t5 & es0120a &      0\\\\\n",
       "\t6 & es0817a &      0\\\\\n",
       "\\end{tabular}\n"
      ],
      "text/markdown": [
       "\n",
       "A data.frame: 6 × 2\n",
       "\n",
       "| <!--/--> | siteAQ &lt;chr&gt; | countAQ &lt;int&gt; |\n",
       "|---|---|---|\n",
       "| 1 | es0041a |  61094 |\n",
       "| 2 | es0110a | 146228 |\n",
       "| 3 | es0115a |  96260 |\n",
       "| 4 | es0118a |      0 |\n",
       "| 5 | es0120a |      0 |\n",
       "| 6 | es0817a |      0 |\n",
       "\n"
      ],
      "text/plain": [
       "  siteAQ  countAQ\n",
       "1 es0041a  61094 \n",
       "2 es0110a 146228 \n",
       "3 es0115a  96260 \n",
       "4 es0118a      0 \n",
       "5 es0120a      0 \n",
       "6 es0817a      0 "
      ]
     },
     "metadata": {},
     "output_type": "display_data"
    }
   ],
   "source": [
    "numCount <- c()\n",
    "\n",
    "for (st in levels(sites$site)) {\n",
    "    numCount <- c(numCount, nrow(dataAQV[dataAQV$site == st, ]))\n",
    "}\n",
    "\n",
    "final.info.sites <- data.frame(siteAQ=levels(sites$site),\n",
    "                               countAQ=numCount)\n",
    "\n",
    "head(final.info.sites)"
   ]
  },
  {
   "cell_type": "markdown",
   "metadata": {},
   "source": [
    "## Guardar los datos en el fichero"
   ]
  },
  {
   "cell_type": "code",
   "execution_count": 28,
   "metadata": {},
   "outputs": [
    {
     "ename": "ERROR",
     "evalue": "Error in .$final.info.sites[final.info.sites$siteAQ == st, ]: 3 arguments passed to '$' which requires 2\n",
     "output_type": "error",
     "traceback": [
      "Error in .$final.info.sites[final.info.sites$siteAQ == st, ]: 3 arguments passed to '$' which requires 2\nTraceback:\n",
      "1. final.sites[final.sites$siteAQ == st, ]$countAQ %>% final.info.sites[final.info.sites$siteAQ == \n .     st, ]$countAQ   # at line 7-8 of file <text>"
     ]
    }
   ],
   "source": [
    "file = \"../data/csv/final_sites.csv\"\n",
    "\n",
    "if (file.exists(file)) {\n",
    "    final.sites <- read.csv(file)\n",
    "    \n",
    "    for (st in final.info.sites$siteAQ) {\n",
    "        final.sites[final.sites$siteAQ == st, ]$countAQ <- final.info.sites[final.info.sites$siteAQ == st, ]$countAQ\n",
    "    }\n",
    "} else {\n",
    "    write.csv(final.info.sites, file, row.names=FALSE)\n",
    "}"
   ]
  }
 ],
 "metadata": {
  "kernelspec": {
   "display_name": "R",
   "language": "R",
   "name": "ir"
  },
  "language_info": {
   "codemirror_mode": "r",
   "file_extension": ".r",
   "mimetype": "text/x-r-source",
   "name": "R",
   "pygments_lexer": "r",
   "version": "4.0.3"
  }
 },
 "nbformat": 4,
 "nbformat_minor": 4
}
