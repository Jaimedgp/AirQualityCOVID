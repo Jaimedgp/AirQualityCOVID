{
 "cells": [
  {
   "cell_type": "markdown",
   "metadata": {},
   "source": [
    "# Contando Valores\n",
    "\n",
    "Calcular el numero de datos disponibles para cada estacion y almacenar en una tabla el codigo de cada estacion junto con dicho valor\n",
    "\n",
    "> [Parametros de los datos](#param)\n",
    ">\n",
    "> [Obtener los datos de Calidad del Aire](#getAQ)\n",
    ">\n",
    "> [Contar valores de Calidad del Aire](#countAQ)\n",
    ">\n",
    "> [Contar valores de Calidad del Aire](#countAQ)\n",
    ">\n",
    "> [Contar valores Meteorologicos](#countMto)\n",
    ">\n",
    "> [Agrupar todos los datos principales](#groupAll)"
   ]
  },
  {
   "cell_type": "code",
   "execution_count": 4,
   "metadata": {},
   "outputs": [],
   "source": [
    "suppressMessages(library(saqgetr))\n",
    "suppressMessages(library(lubridate))\n",
    "suppressMessages(library(worldmet))"
   ]
  },
  {
   "cell_type": "markdown",
   "metadata": {},
   "source": [
    "## Parametros de los datos <a id=\"param\"></a>"
   ]
  },
  {
   "cell_type": "code",
   "execution_count": 5,
   "metadata": {},
   "outputs": [],
   "source": [
    "# contaminantes a estudiar\n",
    "pollutants <- c(\"no\", \"no2\", \"o3\", \"pm10\")\n",
    "\n",
    "# fechas de inicio y final de toma de datos\n",
    "start_dt <- ymd_hms(\"2015-01-01 00:00:00\")\n",
    "end_dt <- ymd_hms(\"2020-10-01 00:00:00\")\n",
    "\n",
    "# fecha de inicio de confinamiento\n",
    "lckdwn_strt <- ymd_hms(\"2020-03-14 00:00:00\")\n",
    "\n",
    "# Archivos de los datos\n",
    "sitesAQ.fl = \"../data/csv/sitesAQ.csv\"                                           \n",
    "dataAQ.fl = \"../data/csv/dataAQ.csv\"\n",
    "\n",
    "sitesMto.fl = \"../data/csv/sitesMto.csv\"                                         \n",
    "dataMto.fl = \"../data/csv/dataMto.csv\"                                          \n",
    "years = 2010:2020,\n",
    "\n",
    "final.fl = \"../data/csv/nn_sites.csv\"\n",
    "\n",
    "# Guardar los datos de la calidad del aire\n",
    "save.data = TRUE"
   ]
  },
  {
   "cell_type": "markdown",
   "metadata": {},
   "source": [
    "## Obtener los datos de Calidad del Aire <a id=\"getAQ\"></a>"
   ]
  },
  {
   "cell_type": "code",
   "execution_count": null,
   "metadata": {},
   "outputs": [],
   "source": [
    "if (file.exists(sitesAQ.fl)) {\n",
    "    sitesAQ <- read.csv(sitesAQ.fl, stringsAsFactors=T)[1:2]\n",
    "\n",
    "    if (file.exists(dataAQ.fl)) {\n",
    "        dataAQ <- read.csv(dataAQ.fl)\n",
    "    } else {\n",
    "        dataAQ <- get_saq_observations(site = levels(sitesAQ$site),\n",
    "                                     variable = pollutants,\n",
    "                                     valid_only = TRUE,\n",
    "                                     start = start_dt,\n",
    "                                     end = end_dt,\n",
    "                                     verbose = TRUE\n",
    "                                    )\n",
    "\n",
    "    # Save data in a file for each station \n",
    "    if (save.data) {\n",
    "            print(\"Saving Data...\")\n",
    "            write.csv(dataAQ, dataAQ.fl, row.names=FALSE)\n",
    "\n",
    "            split.by.site(dataAQ, site.lv=\"all\",\n",
    "                          folder=\"../data/csv/dataAQ/\")\n",
    "        }\n",
    "    }\n",
    "}"
   ]
  },
  {
   "cell_type": "code",
   "execution_count": null,
   "metadata": {},
   "outputs": [],
   "source": [
    "head(dataAQ)"
   ]
  },
  {
   "cell_type": "markdown",
   "metadata": {},
   "source": [
    "## Contar valores de Calidad del Aire <a id=\"countAQ\"></a>"
   ]
  },
  {
   "cell_type": "code",
   "execution_count": null,
   "metadata": {},
   "outputs": [],
   "source": [
    "numCount <- c()\n",
    "for (st in levels(sitesAQ$site)) {\n",
    "    numCount <- c(numCount, nrow(dataAQ[dataAQ$site == st, ]))\n",
    "}\n",
    "\n",
    "nn.sitesAQ <- data.frame(siteAQ = levels(sitesAQ$site),\n",
    "                         countAQ = numCount)\n",
    "rm(dataAQ, numCount)"
   ]
  },
  {
   "cell_type": "code",
   "execution_count": null,
   "metadata": {},
   "outputs": [],
   "source": [
    "head(nn.sites)"
   ]
  },
  {
   "cell_type": "markdown",
   "metadata": {},
   "source": [
    "## Obtener los datos Meteorologicos <a id=\"getMto\"></a>"
   ]
  },
  {
   "cell_type": "code",
   "execution_count": null,
   "metadata": {},
   "outputs": [],
   "source": [
    "if (file.exists(sitesMto.fl)) {\n",
    "    sitesMto <- read.csv(sitesMto.fl, stringsAsFactors=T)\n",
    "    \n",
    "    if (file.exists(dataMto.fl)) {\n",
    "        dataMto <- read.csv(dataMto.fl)\n",
    "    } else {\n",
    "        # Get Data from worlmet\n",
    "        dataMto <- importNOAA(code = levels(sitesMto$code),\n",
    "                           year = years,\n",
    "                           hourly = FALSE,\n",
    "                           n.cores = 4,\n",
    "                           quiet = FALSE,\n",
    "                           path = NA\n",
    "                          )\n",
    "    \n",
    "        # Save data in a file for each station \n",
    "        if (save.data) {\n",
    "            print(\"Saving Data...\")\n",
    "            write.csv(dataMto, dataMto.fl, row.names=FALSE)\n",
    "\n",
    "            split.by.site(dataMto, site.lv=\"all\",\n",
    "                          folder=\"../data/csv/dataMto/\")\n",
    "        }\n",
    "    }\n",
    "}"
   ]
  },
  {
   "cell_type": "markdown",
   "metadata": {},
   "source": [
    "## Contar valores Meteorologicos <a id=\"countMto\"></a>"
   ]
  },
  {
   "cell_type": "code",
   "execution_count": null,
   "metadata": {},
   "outputs": [],
   "source": [
    "countMto <- NA                                                                                          \n",
    "codeMto <- NA\n",
    "code.lv <- levels(as.factor(dataMto$code))\n",
    "\n",
    "for (i in 1:length(code.lv)) {\n",
    "    codeMto <- rbind(codeMto, code.lv[i])\n",
    "    \n",
    "    countMto <- rbind(countMto, colSums(!is.na(\n",
    "                                        dataMto[dataMto$code == code.lv[i],\n",
    "                                        !colnames(dataMto) %in% c(\"date\",\n",
    "                                                               \"station\",\n",
    "                                                               \"latitude\",\n",
    "                                                               \"longitude\",\n",
    "                                                               \"elev\"\n",
    "                                                              )])\n",
    "                                        )\n",
    "                                / nrow(dataMto[dataMto$code ==code.lv[i], ])\n",
    "                     )\n",
    "    countMto[i+1, \"code\"] <- nrow(dataMto[dataMto$code == code.lv[i], ])\n",
    "}\n",
    "countMto <- data.frame(countMto[complete.cases(countMto), ]) %>%\n",
    "                rename(countMto = code)\n",
    "\n",
    "codeMto <- data.frame(codeMto[complete.cases(codeMto), ])\n",
    "colnames(codeMto) <- c(\"siteMto\")\n",
    "\n",
    "countMto <- cbind(siteMto, countMto)\n",
    "\n",
    "#final.sites.mto\n",
    "nn.sitesMto <- merge(x = sitesMto %>%\n",
    "                        rename(siteMto=code) %>%\n",
    "                        select(siteMto, dist, siteAQ),\n",
    "                     y = countMto,\n",
    "                     by = \"siteMto\", all=TRUE\n",
    "                    )\n",
    "rm(dataMto, countMto, sitesMto, codeMto)"
   ]
  },
  {
   "cell_type": "code",
   "execution_count": null,
   "metadata": {},
   "outputs": [],
   "source": [
    "head(nn.sitesMto)"
   ]
  },
  {
   "cell_type": "markdown",
   "metadata": {},
   "source": [
    "## Agrupar todos los datos principales <a id=\"groupAll\"></a>"
   ]
  },
  {
   "cell_type": "code",
   "execution_count": null,
   "metadata": {},
   "outputs": [],
   "source": [
    "nn.sites <- merge(x = nn.sitesAQ,\n",
    "                  y = nn.sitesMto,\n",
    "                  by = \"siteAQ\", all = TRUE)"
   ]
  },
  {
   "cell_type": "code",
   "execution_count": null,
   "metadata": {},
   "outputs": [],
   "source": [
    "write.csv(nn.sites, final.fl, row.names=FALSE)"
   ]
  }
 ],
 "metadata": {
  "kernelspec": {
   "display_name": "R",
   "language": "R",
   "name": "ir"
  },
  "language_info": {
   "codemirror_mode": "r",
   "file_extension": ".r",
   "mimetype": "text/x-r-source",
   "name": "R",
   "pygments_lexer": "r",
   "version": "4.0.3"
  }
 },
 "nbformat": 4,
 "nbformat_minor": 4
}
