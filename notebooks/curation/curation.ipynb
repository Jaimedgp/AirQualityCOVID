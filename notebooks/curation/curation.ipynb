{
 "cells": [
  {
   "cell_type": "markdown",
   "metadata": {},
   "source": [
    "# Data Curation "
   ]
  },
  {
   "cell_type": "markdown",
   "metadata": {},
   "source": [
    "The aim of this work was to estimate the real changes in air quality levels only due to COVID-19 lockdown measures based on a BAU scenario using statistical models. For this purpose, different statistical techniques were applied to explain daily pollutants concentrations at airquality monitoring sites in Spanish cities using meteorological variables as predictors. \n",
    "\n",
    "The whole curation process have been performed using the `src/` scripts and this notebook only show examples of the process for monitoring sites in Madrid capital."
   ]
  },
  {
   "cell_type": "code",
   "execution_count": 1,
   "metadata": {},
   "outputs": [],
   "source": [
    "suppressMessages(library(tidyverse))\n",
    "\n",
    "# repository directory\n",
    "setwd(\"AirQualityCOVID/\")"
   ]
  },
  {
   "cell_type": "code",
   "execution_count": 2,
   "metadata": {},
   "outputs": [
    {
     "data": {
      "text/html": [
       "'LC_CTYPE=es_ES.UTF-8;LC_NUMERIC=C;LC_TIME=es_ES.UTF-8;LC_COLLATE=es_ES.UTF-8;LC_MONETARY=es_ES.UTF-8;LC_MESSAGES=C;LC_PAPER=es_ES.UTF-8;LC_NAME=C;LC_ADDRESS=C;LC_TELEPHONE=C;LC_MEASUREMENT=es_ES.UTF-8;LC_IDENTIFICATION=C'"
      ],
      "text/latex": [
       "'LC\\_CTYPE=es\\_ES.UTF-8;LC\\_NUMERIC=C;LC\\_TIME=es\\_ES.UTF-8;LC\\_COLLATE=es\\_ES.UTF-8;LC\\_MONETARY=es\\_ES.UTF-8;LC\\_MESSAGES=C;LC\\_PAPER=es\\_ES.UTF-8;LC\\_NAME=C;LC\\_ADDRESS=C;LC\\_TELEPHONE=C;LC\\_MEASUREMENT=es\\_ES.UTF-8;LC\\_IDENTIFICATION=C'"
      ],
      "text/markdown": [
       "'LC_CTYPE=es_ES.UTF-8;LC_NUMERIC=C;LC_TIME=es_ES.UTF-8;LC_COLLATE=es_ES.UTF-8;LC_MONETARY=es_ES.UTF-8;LC_MESSAGES=C;LC_PAPER=es_ES.UTF-8;LC_NAME=C;LC_ADDRESS=C;LC_TELEPHONE=C;LC_MEASUREMENT=es_ES.UTF-8;LC_IDENTIFICATION=C'"
      ],
      "text/plain": [
       "[1] \"LC_CTYPE=es_ES.UTF-8;LC_NUMERIC=C;LC_TIME=es_ES.UTF-8;LC_COLLATE=es_ES.UTF-8;LC_MONETARY=es_ES.UTF-8;LC_MESSAGES=C;LC_PAPER=es_ES.UTF-8;LC_NAME=C;LC_ADDRESS=C;LC_TELEPHONE=C;LC_MEASUREMENT=es_ES.UTF-8;LC_IDENTIFICATION=C\""
      ]
     },
     "metadata": {},
     "output_type": "display_data"
    }
   ],
   "source": [
    "Sys.setlocale(\"LC_ALL\", \"es_ES.UTF-8\")"
   ]
  },
  {
   "cell_type": "markdown",
   "metadata": {},
   "source": [
    "For this purpose, daily pollutants concentrations and meteorological data time series from `January 1,2013` to `December 30, 2020` have been obtained, using the data from 2013-2019 as train partition to build the model.\n",
    "\n",
    "The start date of the time series have been fixed in 2013 due to the availability in the Download service of [_European Enviroment Aency_ (**EEA**)](https://discomap.eea.europa.eu/map/fme/AirQualityExport.htm)"
   ]
  },
  {
   "cell_type": "code",
   "execution_count": 3,
   "metadata": {},
   "outputs": [],
   "source": [
    "suppressMessages(library(lubridate))\n",
    "\n",
    "start_dt <- ymd(\"2013-01-01\")\n",
    "end_dt <- ymd(\"2020-12-30\")"
   ]
  },
  {
   "cell_type": "markdown",
   "metadata": {},
   "source": [
    "---"
   ]
  },
  {
   "cell_type": "markdown",
   "metadata": {},
   "source": [
    "## Air Quality\n",
    "\n",
    "> _The whole curation process of the air quality data have been performed by the `src/curation/airQuality.R` script. ._"
   ]
  },
  {
   "cell_type": "markdown",
   "metadata": {},
   "source": [
    "This study was focused on **urban traffic** sites from the most populated Spanish cities (with more than **> 100 000 inhabitants**).Traffic emission should have been strongly affected by the COVID-19 closure restrictions, being even more noticeable in larger cities with higher traffic under normal conditions. Moreover, ground-level measurements provided by air quality stations are more sensitive to emission source changes and are more relevant to human health.\n",
    "\n",
    "The pollutant studied were:\n",
    "\n",
    "* _Nitrogen Monoxide_ ($NO$) $\\rightarrow$ **no**\n",
    "* _nitrogen dioxide_ ($NO_2$) $\\rightarrow$ **no2**\n",
    "* _Ozone_ ($O_3$) $\\rightarrow$ **o3**\n",
    "* _Particulate matter of less than $\\leq 10 \\mu m$_ ($PM10$) $\\rightarrow$ **pm10**\n",
    "* _Particulate matter of less than $\\leq 2.5 \\mu m$_ ($PM2.5$) $\\rightarrow$ **pm2.5**"
   ]
  },
  {
   "cell_type": "code",
   "execution_count": 4,
   "metadata": {},
   "outputs": [],
   "source": [
    "site_type <- \"traffic\"\n",
    "site_area <- \"urban\"\n",
    "\n",
    "pollutants <- c(\"no\", \"no2\", \"o3\", \"pm10\", \"pm2.5\")"
   ]
  },
  {
   "cell_type": "markdown",
   "metadata": {},
   "source": [
    "The file `data/curation/estaciones-CA-JA.xlsx` contains the information of the air quality monitoring sites in Spanish cities with more than 100 000 inhabitants."
   ]
  },
  {
   "cell_type": "code",
   "execution_count": 5,
   "metadata": {},
   "outputs": [],
   "source": [
    "suppressMessages(library(openxlsx))\n",
    "\n",
    "# AQ station in cities with more than 100000 inhabitants\n",
    "sites.100mil <- read.xlsx(\"data/curation/estaciones-CA-JA.xlsx\",\n",
    "                          sheet=\"ciudades-100000-A\") %>% \n",
    "                    filter(Municipio == \"Madrid\") %>%\n",
    "                    select(\"Municipio\", \"Población\",\n",
    "                           \"Estación.tráfico\", \"Código.estación\") "
   ]
  },
  {
   "cell_type": "markdown",
   "metadata": {},
   "source": [
    "Daily pollutants concentrations time series from 2013-2020 have been obtained from **EEA** using the [`saqgetr`](https://github.com/skgrange/saqgetr) package for R."
   ]
  },
  {
   "cell_type": "code",
   "execution_count": 6,
   "metadata": {},
   "outputs": [
    {
     "data": {
      "text/html": [
       "<table>\n",
       "<caption>A data.frame: 6 × 4</caption>\n",
       "<thead>\n",
       "\t<tr><th></th><th scope=col>site</th><th scope=col>site_name</th><th scope=col>Municipio</th><th scope=col>Población</th></tr>\n",
       "\t<tr><th></th><th scope=col>&lt;chr&gt;</th><th scope=col>&lt;chr&gt;</th><th scope=col>&lt;chr&gt;</th><th scope=col>&lt;dbl&gt;</th></tr>\n",
       "</thead>\n",
       "<tbody>\n",
       "\t<tr><th scope=row>1</th><td>es0115a</td><td>PLAZA DE ESPAÑA </td><td>Madrid</td><td>3266126</td></tr>\n",
       "\t<tr><th scope=row>2</th><td>es0118a</td><td>ESCUELAS AGUIRRE</td><td>Madrid</td><td>3266126</td></tr>\n",
       "\t<tr><th scope=row>3</th><td>es0120a</td><td>RAMÓN Y CAJAL   </td><td>Madrid</td><td>3266126</td></tr>\n",
       "\t<tr><th scope=row>4</th><td>es1422a</td><td>PLAZA DEL CARMEN</td><td>Madrid</td><td>3266126</td></tr>\n",
       "\t<tr><th scope=row>5</th><td>es1426a</td><td>MORATALAZ       </td><td>Madrid</td><td>3266126</td></tr>\n",
       "\t<tr><th scope=row>6</th><td>es1521a</td><td>BARRIO DEL PILAR</td><td>Madrid</td><td>3266126</td></tr>\n",
       "</tbody>\n",
       "</table>\n"
      ],
      "text/latex": [
       "A data.frame: 6 × 4\n",
       "\\begin{tabular}{r|llll}\n",
       "  & site & site\\_name & Municipio & Población\\\\\n",
       "  & <chr> & <chr> & <chr> & <dbl>\\\\\n",
       "\\hline\n",
       "\t1 & es0115a & PLAZA DE ESPAÑA  & Madrid & 3266126\\\\\n",
       "\t2 & es0118a & ESCUELAS AGUIRRE & Madrid & 3266126\\\\\n",
       "\t3 & es0120a & RAMÓN Y CAJAL    & Madrid & 3266126\\\\\n",
       "\t4 & es1422a & PLAZA DEL CARMEN & Madrid & 3266126\\\\\n",
       "\t5 & es1426a & MORATALAZ        & Madrid & 3266126\\\\\n",
       "\t6 & es1521a & BARRIO DEL PILAR & Madrid & 3266126\\\\\n",
       "\\end{tabular}\n"
      ],
      "text/markdown": [
       "\n",
       "A data.frame: 6 × 4\n",
       "\n",
       "| <!--/--> | site &lt;chr&gt; | site_name &lt;chr&gt; | Municipio &lt;chr&gt; | Población &lt;dbl&gt; |\n",
       "|---|---|---|---|---|\n",
       "| 1 | es0115a | PLAZA DE ESPAÑA  | Madrid | 3266126 |\n",
       "| 2 | es0118a | ESCUELAS AGUIRRE | Madrid | 3266126 |\n",
       "| 3 | es0120a | RAMÓN Y CAJAL    | Madrid | 3266126 |\n",
       "| 4 | es1422a | PLAZA DEL CARMEN | Madrid | 3266126 |\n",
       "| 5 | es1426a | MORATALAZ        | Madrid | 3266126 |\n",
       "| 6 | es1521a | BARRIO DEL PILAR | Madrid | 3266126 |\n",
       "\n"
      ],
      "text/plain": [
       "  site    site_name        Municipio Población\n",
       "1 es0115a PLAZA DE ESPAÑA  Madrid    3266126  \n",
       "2 es0118a ESCUELAS AGUIRRE Madrid    3266126  \n",
       "3 es0120a RAMÓN Y CAJAL    Madrid    3266126  \n",
       "4 es1422a PLAZA DEL CARMEN Madrid    3266126  \n",
       "5 es1426a MORATALAZ        Madrid    3266126  \n",
       "6 es1521a BARRIO DEL PILAR Madrid    3266126  "
      ]
     },
     "metadata": {},
     "output_type": "display_data"
    }
   ],
   "source": [
    "suppressMessages(library(saqgetr))\n",
    "\n",
    "spain.sites <- get_saq_sites() %>%\n",
    "    filter(country == \"spain\",\n",
    "           site %in% sites.100mil$\"Código.estación\",\n",
    "           site_type == site_type,\n",
    "           site_area == site_area,\n",
    "           date_start <= start_dt,\n",
    "           ) %>%\n",
    "    select(site, site_name, latitude, longitude, elevation, \n",
    "           country, site_type, site_area, date_start, date_end)\n",
    "\n",
    "sites.AQ <- merge(x = spain.sites,\n",
    "                  y = sites.100mil,\n",
    "                  by.x = \"site\", by.y=\"Código.estación\",\n",
    "                  all.x = TRUE) \n",
    "head(sites.AQ %>% select(site, site_name, Municipio, Población))"
   ]
  },
  {
   "cell_type": "markdown",
   "metadata": {},
   "source": [
    "Despite the reliability of the source, some negative values of concentrations, with no physical meaning, were shown being necessary to preprocess the data removing those values. After the preprocess, only air quality data, by pollutant, were retained when there were observations available for more than 3 years and at least the 80% of daily data between March, 2020 and June 2020. "
   ]
  },
  {
   "cell_type": "code",
   "execution_count": 7,
   "metadata": {},
   "outputs": [
    {
     "data": {
      "text/html": [
       "<table>\n",
       "<caption>A data.frame: 6 × 5</caption>\n",
       "<thead>\n",
       "\t<tr><th></th><th scope=col>site</th><th scope=col>variable</th><th scope=col>site_name</th><th scope=col>Municipio</th><th scope=col>Población</th></tr>\n",
       "\t<tr><th></th><th scope=col>&lt;fct&gt;</th><th scope=col>&lt;fct&gt;</th><th scope=col>&lt;fct&gt;</th><th scope=col>&lt;fct&gt;</th><th scope=col>&lt;int&gt;</th></tr>\n",
       "</thead>\n",
       "<tbody>\n",
       "\t<tr><th scope=row>1</th><td>es0041a</td><td>no2  </td><td>DIRECCIÓN DE SALUD</td><td>Bilbao</td><td>346843</td></tr>\n",
       "\t<tr><th scope=row>2</th><td>es0041a</td><td>pm10 </td><td>DIRECCIÓN DE SALUD</td><td>Bilbao</td><td>346843</td></tr>\n",
       "\t<tr><th scope=row>3</th><td>es0110a</td><td>no   </td><td>ERANDIO           </td><td>Bilbao</td><td>346843</td></tr>\n",
       "\t<tr><th scope=row>4</th><td>es0110a</td><td>no2  </td><td>ERANDIO           </td><td>Bilbao</td><td>346843</td></tr>\n",
       "\t<tr><th scope=row>5</th><td>es0110a</td><td>pm10 </td><td>ERANDIO           </td><td>Bilbao</td><td>346843</td></tr>\n",
       "\t<tr><th scope=row>6</th><td>es0110a</td><td>pm2.5</td><td>ERANDIO           </td><td>Bilbao</td><td>346843</td></tr>\n",
       "</tbody>\n",
       "</table>\n"
      ],
      "text/latex": [
       "A data.frame: 6 × 5\n",
       "\\begin{tabular}{r|lllll}\n",
       "  & site & variable & site\\_name & Municipio & Población\\\\\n",
       "  & <fct> & <fct> & <fct> & <fct> & <int>\\\\\n",
       "\\hline\n",
       "\t1 & es0041a & no2   & DIRECCIÓN DE SALUD & Bilbao & 346843\\\\\n",
       "\t2 & es0041a & pm10  & DIRECCIÓN DE SALUD & Bilbao & 346843\\\\\n",
       "\t3 & es0110a & no    & ERANDIO            & Bilbao & 346843\\\\\n",
       "\t4 & es0110a & no2   & ERANDIO            & Bilbao & 346843\\\\\n",
       "\t5 & es0110a & pm10  & ERANDIO            & Bilbao & 346843\\\\\n",
       "\t6 & es0110a & pm2.5 & ERANDIO            & Bilbao & 346843\\\\\n",
       "\\end{tabular}\n"
      ],
      "text/markdown": [
       "\n",
       "A data.frame: 6 × 5\n",
       "\n",
       "| <!--/--> | site &lt;fct&gt; | variable &lt;fct&gt; | site_name &lt;fct&gt; | Municipio &lt;fct&gt; | Población &lt;int&gt; |\n",
       "|---|---|---|---|---|---|\n",
       "| 1 | es0041a | no2   | DIRECCIÓN DE SALUD | Bilbao | 346843 |\n",
       "| 2 | es0041a | pm10  | DIRECCIÓN DE SALUD | Bilbao | 346843 |\n",
       "| 3 | es0110a | no    | ERANDIO            | Bilbao | 346843 |\n",
       "| 4 | es0110a | no2   | ERANDIO            | Bilbao | 346843 |\n",
       "| 5 | es0110a | pm10  | ERANDIO            | Bilbao | 346843 |\n",
       "| 6 | es0110a | pm2.5 | ERANDIO            | Bilbao | 346843 |\n",
       "\n"
      ],
      "text/plain": [
       "  site    variable site_name          Municipio Población\n",
       "1 es0041a no2      DIRECCIÓN DE SALUD Bilbao    346843   \n",
       "2 es0041a pm10     DIRECCIÓN DE SALUD Bilbao    346843   \n",
       "3 es0110a no       ERANDIO            Bilbao    346843   \n",
       "4 es0110a no2      ERANDIO            Bilbao    346843   \n",
       "5 es0110a pm10     ERANDIO            Bilbao    346843   \n",
       "6 es0110a pm2.5    ERANDIO            Bilbao    346843   "
      ]
     },
     "metadata": {},
     "output_type": "display_data"
    }
   ],
   "source": [
    "valid.df <- read.csv(\"data/curation/checked_AQ.csv\")\n",
    "head(valid.df %>%\n",
    "    select(site, variable, site_name, Municipio, Población))"
   ]
  },
  {
   "cell_type": "markdown",
   "metadata": {},
   "source": [
    "---"
   ]
  },
  {
   "cell_type": "markdown",
   "metadata": {},
   "source": [
    "## Meteorological data\n",
    "\n",
    "Daily meteorological data have been obtained from the nearest location to the selected air quality stations with at least 80% of available records between 2013-2020. A good selection of predictors with high explanatory power of air quality can increase the accuracy and performance of the model. Hence, meteorological variables with high influence in pollutants levels were included in the study. \n",
    "\n",
    "However, It was not able to find a database with all the wanted  meteorological variables. Thus, different sources have been used to obtain meteorological data. "
   ]
  },
  {
   "cell_type": "markdown",
   "metadata": {},
   "source": [
    "Sin embargo, no se ha podido encontrar una base de datos completa y válida con datos suficientes de todas las variables meteorológicas que se querían usar para el estudio. Por ello, se han utilizado tres fuentes distintas de datos meteorológicos, siendo la fuente principal la _[Agencia Estatal de Meteorología (**AEMET**)](http://www.aemet.es/es/portada)_. A estos datos se les ha añadido datos de dirección y velocidad del viento de _[National Oceanic and Atmospheric Administration Integrated Surface Database (**NOAA ISD**)](https://www.ncdc.noaa.gov/isd)_ y datos de la humedad relativa y la radiación de "
   ]
  },
  {
   "cell_type": "markdown",
   "metadata": {},
   "source": [
    "### Source: Agencia Estatal de Meteorología (**AEMET**)\n",
    "\n",
    "> The whole curation process of **AEMET** data are available at the script `src/curation/aemet.py`\n",
    "\n",
    "Daily temperature (maximum, mean and minimum; ºC), precipitation (mm) and surface pressure (maximun and minimum; hPa) were downloaded from the OpenData platform of the Agencia Estatal de Meteorología (AEMET) through its Application Programming Interface (API) using the “pyAEMET” Python framework developed for this purpose (https://github.com/Jaimedgp/pyAEMET)."
   ]
  },
  {
   "cell_type": "markdown",
   "metadata": {},
   "source": [
    "| Variable |                     description                      | Unit |\n",
    "|:--------:|:----------------------------------------------------:|:------:|\n",
    "|   fecha  |             date of the day(AAAA-MM-DD)              |   -    |\n",
    "|   tmed   |               Mean daily Temperature                 |   ºC   |\n",
    "|   prec   |           Daily Precipitation from 07am to 07pm      |   mm   |\n",
    "|   tmax   |              Max Temperature of the day              |   ºC   |\n",
    "|   tmin   |              Min Temperature of the day              |   ºC   |\n",
    "| presmax  |         Max pressure at site reference nivel         |  hPa   |\n",
    "| presmin  |         Min pressure at site reference nivel         |  hPa   |\n"
   ]
  },
  {
   "cell_type": "markdown",
   "metadata": {},
   "source": [
    "```Python\n",
    "\n",
    "# Initialize AEMET API class with the api key\n",
    "\n",
    "aemet = AemetClima(apikey=apikey)\n",
    "\n",
    "aemet.estaciones_curacion(latitud=row[\"latitude\"],\n",
    "                          longitud=row[\"longitude\"], \n",
    "                          n_cercanas=10,   \n",
    "                          fecha_ini=date(2013, 1, 1),\n",
    "                          fecha_end=date(2020, 12, 30),\n",
    "                          umbral=0.8,\n",
    "                          variables=[\"fecha\", \"tmed\", \"prec\",\n",
    "                                     \"tmin\", \"tmax\", \"presMax\", \"presMin\"],\n",
    "                          save_folder=\"\")\n",
    "```"
   ]
  },
  {
   "cell_type": "code",
   "execution_count": 8,
   "metadata": {},
   "outputs": [
    {
     "data": {
      "text/html": [
       "<table>\n",
       "<caption>A data.frame: 6 × 4</caption>\n",
       "<thead>\n",
       "\t<tr><th></th><th scope=col>indicativo</th><th scope=col>nombre</th><th scope=col>dist</th><th scope=col>siteAQ</th></tr>\n",
       "\t<tr><th></th><th scope=col>&lt;fct&gt;</th><th scope=col>&lt;fct&gt;</th><th scope=col>&lt;dbl&gt;</th><th scope=col>&lt;fct&gt;</th></tr>\n",
       "</thead>\n",
       "<tbody>\n",
       "\t<tr><th scope=row>1</th><td>1082</td><td>BILBAO AEROPUERTO </td><td> 5.396849</td><td>es0041a</td></tr>\n",
       "\t<tr><th scope=row>2</th><td>1082</td><td>BILBAO AEROPUERTO </td><td> 5.756578</td><td>es0110a</td></tr>\n",
       "\t<tr><th scope=row>3</th><td>3195</td><td>MADRID, RETIRO    </td><td> 1.137154</td><td>es0118a</td></tr>\n",
       "\t<tr><th scope=row>4</th><td>3195</td><td>MADRID, RETIRO    </td><td> 4.417472</td><td>es0120a</td></tr>\n",
       "\t<tr><th scope=row>5</th><td>5783</td><td>SEVILLA AEROPUERTO</td><td> 7.968651</td><td>es0817a</td></tr>\n",
       "\t<tr><th scope=row>6</th><td>5783</td><td>SEVILLA AEROPUERTO</td><td>11.220392</td><td>es0890a</td></tr>\n",
       "</tbody>\n",
       "</table>\n"
      ],
      "text/latex": [
       "A data.frame: 6 × 4\n",
       "\\begin{tabular}{r|llll}\n",
       "  & indicativo & nombre & dist & siteAQ\\\\\n",
       "  & <fct> & <fct> & <dbl> & <fct>\\\\\n",
       "\\hline\n",
       "\t1 & 1082 & BILBAO AEROPUERTO  &  5.396849 & es0041a\\\\\n",
       "\t2 & 1082 & BILBAO AEROPUERTO  &  5.756578 & es0110a\\\\\n",
       "\t3 & 3195 & MADRID, RETIRO     &  1.137154 & es0118a\\\\\n",
       "\t4 & 3195 & MADRID, RETIRO     &  4.417472 & es0120a\\\\\n",
       "\t5 & 5783 & SEVILLA AEROPUERTO &  7.968651 & es0817a\\\\\n",
       "\t6 & 5783 & SEVILLA AEROPUERTO & 11.220392 & es0890a\\\\\n",
       "\\end{tabular}\n"
      ],
      "text/markdown": [
       "\n",
       "A data.frame: 6 × 4\n",
       "\n",
       "| <!--/--> | indicativo &lt;fct&gt; | nombre &lt;fct&gt; | dist &lt;dbl&gt; | siteAQ &lt;fct&gt; |\n",
       "|---|---|---|---|---|\n",
       "| 1 | 1082 | BILBAO AEROPUERTO  |  5.396849 | es0041a |\n",
       "| 2 | 1082 | BILBAO AEROPUERTO  |  5.756578 | es0110a |\n",
       "| 3 | 3195 | MADRID, RETIRO     |  1.137154 | es0118a |\n",
       "| 4 | 3195 | MADRID, RETIRO     |  4.417472 | es0120a |\n",
       "| 5 | 5783 | SEVILLA AEROPUERTO |  7.968651 | es0817a |\n",
       "| 6 | 5783 | SEVILLA AEROPUERTO | 11.220392 | es0890a |\n",
       "\n"
      ],
      "text/plain": [
       "  indicativo nombre             dist      siteAQ \n",
       "1 1082       BILBAO AEROPUERTO   5.396849 es0041a\n",
       "2 1082       BILBAO AEROPUERTO   5.756578 es0110a\n",
       "3 3195       MADRID, RETIRO      1.137154 es0118a\n",
       "4 3195       MADRID, RETIRO      4.417472 es0120a\n",
       "5 5783       SEVILLA AEROPUERTO  7.968651 es0817a\n",
       "6 5783       SEVILLA AEROPUERTO 11.220392 es0890a"
      ]
     },
     "metadata": {},
     "output_type": "display_data"
    }
   ],
   "source": [
    "aemet <- read.csv(\"data/curation/checked_AEMET.csv\")\n",
    "head(aemet %>% select(indicativo, nombre, dist, siteAQ))"
   ]
  },
  {
   "cell_type": "markdown",
   "metadata": {},
   "source": [
    "### Source: NOAA\n",
    "\n",
    "The surface wind speed (m/s) and direction (in degrees, being 90º for East) were included due to their influence in pollutants transport that will affect the local measurements. Both were obtained from the National Oceanic Atmospheric Administration (**NOAA ISD**) using the [`worldmet`](https://github.com/davidcarslaw/worldmet) R package\n",
    "\n",
    "> The whole curation process of **NOAA ISD** data are available at the script `src/curation/worldMet.R`\n",
    "\n",
    "| variable |     Description      |     Unit        |\n",
    "|:--------:|:--------------------:|:---------------:|\n",
    "|    ws    | wind speed |       m/s       |\n",
    "|    wd    | wind direction | º. 90 for East |"
   ]
  },
  {
   "cell_type": "markdown",
   "metadata": {},
   "source": [
    "```R\n",
    "\n",
    "getMeta(lat = sites.AQ[sites.AQ$ site == st, ]$latitude[1],\n",
    "        lon = sites.AQ[sites.AQ$ site == st, ]$longitude[1],\n",
    "        end.year = \"current\",\n",
    "        n = 10, returnMap = F)\n",
    "```"
   ]
  },
  {
   "cell_type": "code",
   "execution_count": 9,
   "metadata": {},
   "outputs": [
    {
     "data": {
      "text/html": [
       "<table>\n",
       "<caption>A data.frame: 6 × 4</caption>\n",
       "<thead>\n",
       "\t<tr><th></th><th scope=col>station</th><th scope=col>code</th><th scope=col>dist</th><th scope=col>siteAQ</th></tr>\n",
       "\t<tr><th></th><th scope=col>&lt;fct&gt;</th><th scope=col>&lt;fct&gt;</th><th scope=col>&lt;dbl&gt;</th><th scope=col>&lt;fct&gt;</th></tr>\n",
       "</thead>\n",
       "<tbody>\n",
       "\t<tr><th scope=row>1</th><td>BILBAO        </td><td>080250-99999</td><td> 5.464009</td><td>es0041a</td></tr>\n",
       "\t<tr><th scope=row>2</th><td>BILBAO        </td><td>080250-99999</td><td> 5.363540</td><td>es0110a</td></tr>\n",
       "\t<tr><th scope=row>3</th><td>CUATRO VIENTOS</td><td>082230-99999</td><td>10.367903</td><td>es0118a</td></tr>\n",
       "\t<tr><th scope=row>4</th><td>BARAJAS       </td><td>082210-99999</td><td>10.444349</td><td>es0120a</td></tr>\n",
       "\t<tr><th scope=row>5</th><td>SEVILLA       </td><td>083910-99999</td><td> 6.979568</td><td>es0817a</td></tr>\n",
       "\t<tr><th scope=row>6</th><td>SEVILLA       </td><td>083910-99999</td><td>10.069231</td><td>es0890a</td></tr>\n",
       "</tbody>\n",
       "</table>\n"
      ],
      "text/latex": [
       "A data.frame: 6 × 4\n",
       "\\begin{tabular}{r|llll}\n",
       "  & station & code & dist & siteAQ\\\\\n",
       "  & <fct> & <fct> & <dbl> & <fct>\\\\\n",
       "\\hline\n",
       "\t1 & BILBAO         & 080250-99999 &  5.464009 & es0041a\\\\\n",
       "\t2 & BILBAO         & 080250-99999 &  5.363540 & es0110a\\\\\n",
       "\t3 & CUATRO VIENTOS & 082230-99999 & 10.367903 & es0118a\\\\\n",
       "\t4 & BARAJAS        & 082210-99999 & 10.444349 & es0120a\\\\\n",
       "\t5 & SEVILLA        & 083910-99999 &  6.979568 & es0817a\\\\\n",
       "\t6 & SEVILLA        & 083910-99999 & 10.069231 & es0890a\\\\\n",
       "\\end{tabular}\n"
      ],
      "text/markdown": [
       "\n",
       "A data.frame: 6 × 4\n",
       "\n",
       "| <!--/--> | station &lt;fct&gt; | code &lt;fct&gt; | dist &lt;dbl&gt; | siteAQ &lt;fct&gt; |\n",
       "|---|---|---|---|---|\n",
       "| 1 | BILBAO         | 080250-99999 |  5.464009 | es0041a |\n",
       "| 2 | BILBAO         | 080250-99999 |  5.363540 | es0110a |\n",
       "| 3 | CUATRO VIENTOS | 082230-99999 | 10.367903 | es0118a |\n",
       "| 4 | BARAJAS        | 082210-99999 | 10.444349 | es0120a |\n",
       "| 5 | SEVILLA        | 083910-99999 |  6.979568 | es0817a |\n",
       "| 6 | SEVILLA        | 083910-99999 | 10.069231 | es0890a |\n",
       "\n"
      ],
      "text/plain": [
       "  station        code         dist      siteAQ \n",
       "1 BILBAO         080250-99999  5.464009 es0041a\n",
       "2 BILBAO         080250-99999  5.363540 es0110a\n",
       "3 CUATRO VIENTOS 082230-99999 10.367903 es0118a\n",
       "4 BARAJAS        082210-99999 10.444349 es0120a\n",
       "5 SEVILLA        083910-99999  6.979568 es0817a\n",
       "6 SEVILLA        083910-99999 10.069231 es0890a"
      ]
     },
     "metadata": {},
     "output_type": "display_data"
    }
   ],
   "source": [
    "worldmet <- read.csv(\"data/curation/checked_NOAA-ISD.csv\")\n",
    "head(worldmet %>% select(station, code, dist, siteAQ))"
   ]
  },
  {
   "cell_type": "markdown",
   "metadata": {},
   "source": [
    "### Source: ERA5-Land\n",
    "\n",
    "In addition, daily solar radiation (W/m2) and relative humidity (%) were downloaded from the [_**ERA5-Land**_](https://cds.climate.copernicus.eu/cdsapp#!/search?type=dataset&text=era5-land) reanalysis dataset. Solar radiation has been included because of the influence of photochemistry on ozone formation from primary air pollutants. This re-analysis has a spacial resolution of $0.1º x 0.1º$ (9km). \n",
    "\n",
    "|    Variable     |   Description    | Unit  |\n",
    "|:---------------:|:----------------:|:-------:|\n",
    "| solar.radiation | Solar Radiation  | W/$m^2$ |\n",
    "|       RH        | Relative Humidity |   \\%    |"
   ]
  }
 ],
 "metadata": {
  "kernelspec": {
   "display_name": "R",
   "language": "R",
   "name": "ir"
  },
  "language_info": {
   "codemirror_mode": "r",
   "file_extension": ".r",
   "mimetype": "text/x-r-source",
   "name": "R",
   "pygments_lexer": "r",
   "version": "3.6.3"
  }
 },
 "nbformat": 4,
 "nbformat_minor": 4
}
