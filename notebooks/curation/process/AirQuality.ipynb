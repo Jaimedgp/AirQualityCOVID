{
 "cells": [
  {
   "cell_type": "markdown",
   "metadata": {},
   "source": [
    "# Air Quality\n",
    "\n",
    "The air quality data from urban traffic stations in Spanish cities with more than >100000 inhabitants are studied in order to obtain the effect of COVID-19 lockdown in the air quality.\n",
    "\n",
    "The whole curation process have been performed using the `src/` scripts and this notebook only show examples of the process for monitoring sites in Madrid capital."
   ]
  },
  {
   "cell_type": "code",
   "execution_count": 1,
   "metadata": {},
   "outputs": [],
   "source": [
    "# Load packages\n",
    "suppressMessages(library(saqgetr))\n",
    "suppressMessages(library(lubridate))\n",
    "suppressMessages(library(tidyverse))\n",
    "suppressMessages(library(openxlsx))\n",
    "suppressMessages(library(plyr))\n",
    "suppressMessages(library(openair))"
   ]
  },
  {
   "cell_type": "code",
   "execution_count": 2,
   "metadata": {},
   "outputs": [],
   "source": [
    "# Working directory\n",
    "setwd(\"AirQualityCOVID\")\n",
    "\n",
    "# Source some scripts \n",
    "source(\"src/curation/airQuality.R\")"
   ]
  },
  {
   "cell_type": "code",
   "execution_count": 3,
   "metadata": {},
   "outputs": [
    {
     "data": {
      "text/html": [
       "'LC_CTYPE=es_ES.UTF-8;LC_NUMERIC=C;LC_TIME=es_ES.UTF-8;LC_COLLATE=es_ES.UTF-8;LC_MONETARY=es_ES.UTF-8;LC_MESSAGES=C;LC_PAPER=es_ES.UTF-8;LC_NAME=C;LC_ADDRESS=C;LC_TELEPHONE=C;LC_MEASUREMENT=es_ES.UTF-8;LC_IDENTIFICATION=C'"
      ],
      "text/latex": [
       "'LC\\_CTYPE=es\\_ES.UTF-8;LC\\_NUMERIC=C;LC\\_TIME=es\\_ES.UTF-8;LC\\_COLLATE=es\\_ES.UTF-8;LC\\_MONETARY=es\\_ES.UTF-8;LC\\_MESSAGES=C;LC\\_PAPER=es\\_ES.UTF-8;LC\\_NAME=C;LC\\_ADDRESS=C;LC\\_TELEPHONE=C;LC\\_MEASUREMENT=es\\_ES.UTF-8;LC\\_IDENTIFICATION=C'"
      ],
      "text/markdown": [
       "'LC_CTYPE=es_ES.UTF-8;LC_NUMERIC=C;LC_TIME=es_ES.UTF-8;LC_COLLATE=es_ES.UTF-8;LC_MONETARY=es_ES.UTF-8;LC_MESSAGES=C;LC_PAPER=es_ES.UTF-8;LC_NAME=C;LC_ADDRESS=C;LC_TELEPHONE=C;LC_MEASUREMENT=es_ES.UTF-8;LC_IDENTIFICATION=C'"
      ],
      "text/plain": [
       "[1] \"LC_CTYPE=es_ES.UTF-8;LC_NUMERIC=C;LC_TIME=es_ES.UTF-8;LC_COLLATE=es_ES.UTF-8;LC_MONETARY=es_ES.UTF-8;LC_MESSAGES=C;LC_PAPER=es_ES.UTF-8;LC_NAME=C;LC_ADDRESS=C;LC_TELEPHONE=C;LC_MEASUREMENT=es_ES.UTF-8;LC_IDENTIFICATION=C\""
      ]
     },
     "metadata": {},
     "output_type": "display_data"
    }
   ],
   "source": [
    "Sys.setlocale(\"LC_ALL\", \"es_ES.UTF-8\")"
   ]
  },
  {
   "cell_type": "markdown",
   "metadata": {},
   "source": [
    "### Main Variables"
   ]
  },
  {
   "cell_type": "code",
   "execution_count": 4,
   "metadata": {},
   "outputs": [],
   "source": [
    "site_type <- \"traffic\"\n",
    "site_area <- \"urban\"\n",
    "\n",
    "start_dt <- ymd_hms(\"2013-01-01 00:00:00\")\n",
    "end_dt <- ymd_hms(\"2020-12-30 00:00:00\")\n",
    "\n",
    "pollutants <- c(\"no\", \"no2\", \"o3\", \"pm10\", \"pm2.5\")"
   ]
  },
  {
   "cell_type": "markdown",
   "metadata": {},
   "source": [
    "## Spanish stations information"
   ]
  },
  {
   "cell_type": "code",
   "execution_count": 5,
   "metadata": {},
   "outputs": [],
   "source": [
    "# AQ station in cities with more than 100000 inhabitants\n",
    "sites.100mil <- read.xlsx(\"data/curation/estaciones-CA-JA.xlsx\",\n",
    "                          sheet=\"ciudades-100000-A\") %>% \n",
    "                    filter(Municipio == \"Madrid\") %>%\n",
    "                    select(\"Municipio\", \"Población\",\n",
    "                           \"Estación.tráfico\", \"Código.estación\") "
   ]
  },
  {
   "cell_type": "code",
   "execution_count": 7,
   "metadata": {},
   "outputs": [],
   "source": [
    "spain.sites <- get_saq_sites() %>%\n",
    "    filter(country == \"spain\",\n",
    "           site %in% sites.100mil$\"Código.estación\",\n",
    "           site_type == \"traffic\",\n",
    "           site_area == \"urban\",\n",
    "           date_start <= start_dt,\n",
    "           ) %>%\n",
    "    select(site, site_name, latitude, longitude, elevation, \n",
    "           country, site_type, site_area, date_start, date_end)"
   ]
  },
  {
   "cell_type": "code",
   "execution_count": 8,
   "metadata": {},
   "outputs": [],
   "source": [
    "sites.AQ <- merge(x = spain.sites,\n",
    "                  y = sites.100mil,\n",
    "                  by.x = \"site\", by.y=\"Código.estación\",\n",
    "                  all.x = TRUE) "
   ]
  },
  {
   "cell_type": "markdown",
   "metadata": {},
   "source": [
    "## Curation of Air Quality data\n",
    "\n",
    "Only air quality data, by pollutant, were retained when there were observations available for more than 3 years and at least the 80% of daily data between March, 2020 and June 2020. These months include the entire time-period of lockdown and de-escalation phases in Spain.\n",
    "\n",
    "|   site   |  variable   |   start_yr   |    end_yr    | hv.min  | missing.wk | missing.mnth | missing.yr |\n",
    "|----------|--------------|--------------|--------------|---------|------------|--------------|------------|\n",
    "| es0001a  |     no2      |  01-01-2015  |  02-01-2015  |  TRUE   |     34     |      2       |     0      |\n",
    "| es0001a  |     no       |  01-01-2015  |  02-01-2015  |  TRUE   |     40     |     12       |     1      |\n",
    "| es0001a  |      o3      |  01-01-2015  |  02-01-2015  |  FALSE  |      4     |      0       |     0      |"
   ]
  },
  {
   "cell_type": "markdown",
   "metadata": {},
   "source": [
    "| Parameter | Value |\n",
    "|----|----|\n",
    "| hv.min | TRUE |\n",
    "|miss.yr | $< 5$ |"
   ]
  },
  {
   "cell_type": "markdown",
   "metadata": {},
   "source": [
    "### Curation Variables"
   ]
  },
  {
   "cell_type": "code",
   "execution_count": 9,
   "metadata": {},
   "outputs": [],
   "source": [
    "#------------------------------\n",
    "#      Curation Variables      \n",
    "#------------------------------\n",
    "\n",
    "hv.min.percent <- 0.8 # data > 80%\n",
    "main.prd <- c(ymd_hms(\"2020-03-01 00:00:00\"),\n",
    "               ymd_hms(\"2020-06-30 00:00:00\"))\n",
    "\n",
    "pairs.st.pll <- do.call(rbind,\n",
    "                        do.call(rbind,\n",
    "                                lapply(pollutants, function(pll){\n",
    "                                    lapply(levels(as.factor(sites.AQ$site)), c, pll)\n",
    "                                }))\n",
    "                       ) "
   ]
  },
  {
   "cell_type": "code",
   "execution_count": 10,
   "metadata": {},
   "outputs": [
    {
     "name": "stdout",
     "output_type": "stream",
     "text": [
      "[1] \"Downloading...\"\n",
      "[1] \"Downloading...\"\n",
      "[1] \"Downloading...\"\n",
      "[1] \"Downloading...\"\n",
      "[1] \"Downloading...\"\n",
      "[1] \"Downloading...\"\n",
      "[1] \"Downloading...\"\n",
      "[1] \"Downloading...\"\n",
      "[1] \"Downloading...\"\n",
      "[1] \"Downloading...\"\n",
      "[1] \"Downloading...\"\n",
      "[1] \"Downloading...\"\n",
      "[1] \"Downloading...\"\n",
      "[1] \"Downloading...\"\n",
      "[1] \"Downloading...\"\n",
      "[1] \"Downloading...\"\n",
      "[1] \"Downloading...\"\n",
      "[1] \"Downloading...\"\n",
      "[1] \"Downloading...\"\n",
      "[1] \"Downloading...\"\n",
      "[1] \"Downloading...\"\n",
      "[1] \"Downloading...\"\n",
      "[1] \"Downloading...\"\n",
      "[1] \"Downloading...\"\n",
      "[1] \"Downloading...\"\n",
      "[1] \"Downloading...\"\n",
      "[1] \"Downloading...\"\n",
      "[1] \"Downloading...\"\n",
      "[1] \"Downloading...\"\n",
      "[1] \"Downloading...\"\n",
      "[1] \"Downloading...\"\n",
      "[1] \"Downloading...\"\n",
      "[1] \"Downloading...\"\n",
      "[1] \"Downloading...\"\n",
      "[1] \"Downloading...\"\n",
      "[1] \"Downloading...\"\n",
      "[1] \"Downloading...\"\n",
      "[1] \"Downloading...\"\n",
      "[1] \"Downloading...\"\n",
      "[1] \"Downloading...\"\n",
      "[1] \"Downloading...\"\n",
      "[1] \"Downloading...\"\n",
      "[1] \"Downloading...\"\n",
      "[1] \"Downloading...\"\n",
      "[1] \"Downloading...\"\n"
     ]
    },
    {
     "data": {
      "text/html": [
       "<table>\n",
       "<caption>A data.frame: 6 × 8</caption>\n",
       "<thead>\n",
       "\t<tr><th></th><th scope=col>site</th><th scope=col>variable</th><th scope=col>start_dt</th><th scope=col>end_dt</th><th scope=col>hv.min</th><th scope=col>mss.wk</th><th scope=col>mss.mnth</th><th scope=col>mss.yr</th></tr>\n",
       "\t<tr><th></th><th scope=col>&lt;fct&gt;</th><th scope=col>&lt;fct&gt;</th><th scope=col>&lt;date&gt;</th><th scope=col>&lt;date&gt;</th><th scope=col>&lt;lgl&gt;</th><th scope=col>&lt;int&gt;</th><th scope=col>&lt;int&gt;</th><th scope=col>&lt;int&gt;</th></tr>\n",
       "</thead>\n",
       "<tbody>\n",
       "\t<tr><th scope=row>1</th><td>es0115a</td><td>no  </td><td>2013-01-01</td><td>2020-12-30</td><td>FALSE</td><td>-1</td><td>0</td><td>0</td></tr>\n",
       "\t<tr><th scope=row>2</th><td>es0115a</td><td>no2 </td><td>2013-01-01</td><td>2020-12-30</td><td>FALSE</td><td>-1</td><td>0</td><td>0</td></tr>\n",
       "\t<tr><th scope=row>3</th><td>es0118a</td><td>no  </td><td>2013-01-01</td><td>2020-12-30</td><td> TRUE</td><td>-1</td><td>0</td><td>0</td></tr>\n",
       "\t<tr><th scope=row>4</th><td>es0118a</td><td>no2 </td><td>2013-01-01</td><td>2020-12-30</td><td> TRUE</td><td>-1</td><td>0</td><td>0</td></tr>\n",
       "\t<tr><th scope=row>5</th><td>es0118a</td><td>o3  </td><td>2013-01-01</td><td>2020-12-30</td><td> TRUE</td><td>-1</td><td>0</td><td>0</td></tr>\n",
       "\t<tr><th scope=row>6</th><td>es0118a</td><td>pm10</td><td>2013-01-01</td><td>2020-12-30</td><td> TRUE</td><td>-1</td><td>0</td><td>0</td></tr>\n",
       "</tbody>\n",
       "</table>\n"
      ],
      "text/latex": [
       "A data.frame: 6 × 8\n",
       "\\begin{tabular}{r|llllllll}\n",
       "  & site & variable & start\\_dt & end\\_dt & hv.min & mss.wk & mss.mnth & mss.yr\\\\\n",
       "  & <fct> & <fct> & <date> & <date> & <lgl> & <int> & <int> & <int>\\\\\n",
       "\\hline\n",
       "\t1 & es0115a & no   & 2013-01-01 & 2020-12-30 & FALSE & -1 & 0 & 0\\\\\n",
       "\t2 & es0115a & no2  & 2013-01-01 & 2020-12-30 & FALSE & -1 & 0 & 0\\\\\n",
       "\t3 & es0118a & no   & 2013-01-01 & 2020-12-30 &  TRUE & -1 & 0 & 0\\\\\n",
       "\t4 & es0118a & no2  & 2013-01-01 & 2020-12-30 &  TRUE & -1 & 0 & 0\\\\\n",
       "\t5 & es0118a & o3   & 2013-01-01 & 2020-12-30 &  TRUE & -1 & 0 & 0\\\\\n",
       "\t6 & es0118a & pm10 & 2013-01-01 & 2020-12-30 &  TRUE & -1 & 0 & 0\\\\\n",
       "\\end{tabular}\n"
      ],
      "text/markdown": [
       "\n",
       "A data.frame: 6 × 8\n",
       "\n",
       "| <!--/--> | site &lt;fct&gt; | variable &lt;fct&gt; | start_dt &lt;date&gt; | end_dt &lt;date&gt; | hv.min &lt;lgl&gt; | mss.wk &lt;int&gt; | mss.mnth &lt;int&gt; | mss.yr &lt;int&gt; |\n",
       "|---|---|---|---|---|---|---|---|---|\n",
       "| 1 | es0115a | no   | 2013-01-01 | 2020-12-30 | FALSE | -1 | 0 | 0 |\n",
       "| 2 | es0115a | no2  | 2013-01-01 | 2020-12-30 | FALSE | -1 | 0 | 0 |\n",
       "| 3 | es0118a | no   | 2013-01-01 | 2020-12-30 |  TRUE | -1 | 0 | 0 |\n",
       "| 4 | es0118a | no2  | 2013-01-01 | 2020-12-30 |  TRUE | -1 | 0 | 0 |\n",
       "| 5 | es0118a | o3   | 2013-01-01 | 2020-12-30 |  TRUE | -1 | 0 | 0 |\n",
       "| 6 | es0118a | pm10 | 2013-01-01 | 2020-12-30 |  TRUE | -1 | 0 | 0 |\n",
       "\n"
      ],
      "text/plain": [
       "  site    variable start_dt   end_dt     hv.min mss.wk mss.mnth mss.yr\n",
       "1 es0115a no       2013-01-01 2020-12-30 FALSE  -1     0        0     \n",
       "2 es0115a no2      2013-01-01 2020-12-30 FALSE  -1     0        0     \n",
       "3 es0118a no       2013-01-01 2020-12-30  TRUE  -1     0        0     \n",
       "4 es0118a no2      2013-01-01 2020-12-30  TRUE  -1     0        0     \n",
       "5 es0118a o3       2013-01-01 2020-12-30  TRUE  -1     0        0     \n",
       "6 es0118a pm10     2013-01-01 2020-12-30  TRUE  -1     0        0     "
      ]
     },
     "metadata": {},
     "output_type": "display_data"
    }
   ],
   "source": [
    "#------------------------------\n",
    "#      Curation Process        \n",
    "#------------------------------\n",
    "\n",
    "curate.info <- do.call(rbind.fill,\n",
    "                       apply(pairs.st.pll, 1, main.curation,\n",
    "                             c(start_dt, end_dt), main.prd, hv.min.percent)\n",
    "                      )\n",
    "head(curate.info)"
   ]
  },
  {
   "cell_type": "code",
   "execution_count": 11,
   "metadata": {},
   "outputs": [
    {
     "data": {
      "text/html": [
       "<table>\n",
       "<caption>A data.frame: 6 × 14</caption>\n",
       "<thead>\n",
       "\t<tr><th></th><th scope=col>site</th><th scope=col>variable</th><th scope=col>site_name</th><th scope=col>latitude</th><th scope=col>longitude</th><th scope=col>elevation</th><th scope=col>country</th><th scope=col>site_type</th><th scope=col>site_area</th><th scope=col>date_start</th><th scope=col>date_end</th><th scope=col>Municipio</th><th scope=col>Población</th><th scope=col>Estación.tráfico</th></tr>\n",
       "\t<tr><th></th><th scope=col>&lt;fct&gt;</th><th scope=col>&lt;fct&gt;</th><th scope=col>&lt;chr&gt;</th><th scope=col>&lt;dbl&gt;</th><th scope=col>&lt;dbl&gt;</th><th scope=col>&lt;dbl&gt;</th><th scope=col>&lt;chr&gt;</th><th scope=col>&lt;chr&gt;</th><th scope=col>&lt;chr&gt;</th><th scope=col>&lt;dttm&gt;</th><th scope=col>&lt;dttm&gt;</th><th scope=col>&lt;chr&gt;</th><th scope=col>&lt;dbl&gt;</th><th scope=col>&lt;chr&gt;</th></tr>\n",
       "</thead>\n",
       "<tbody>\n",
       "\t<tr><th scope=row>1</th><td>es0118a</td><td>no   </td><td>ESCUELAS AGUIRRE</td><td>40.42167</td><td>-3.682222</td><td>672</td><td>spain</td><td>traffic</td><td>urban</td><td>2002-11-19</td><td>2021-10-10 23:00:00</td><td>Madrid</td><td>3266126</td><td>ESCUELAS AGUIRRE</td></tr>\n",
       "\t<tr><th scope=row>2</th><td>es0118a</td><td>no2  </td><td>ESCUELAS AGUIRRE</td><td>40.42167</td><td>-3.682222</td><td>672</td><td>spain</td><td>traffic</td><td>urban</td><td>2002-11-19</td><td>2021-10-10 23:00:00</td><td>Madrid</td><td>3266126</td><td>ESCUELAS AGUIRRE</td></tr>\n",
       "\t<tr><th scope=row>3</th><td>es0118a</td><td>o3   </td><td>ESCUELAS AGUIRRE</td><td>40.42167</td><td>-3.682222</td><td>672</td><td>spain</td><td>traffic</td><td>urban</td><td>2002-11-19</td><td>2021-10-10 23:00:00</td><td>Madrid</td><td>3266126</td><td>ESCUELAS AGUIRRE</td></tr>\n",
       "\t<tr><th scope=row>4</th><td>es0118a</td><td>pm10 </td><td>ESCUELAS AGUIRRE</td><td>40.42167</td><td>-3.682222</td><td>672</td><td>spain</td><td>traffic</td><td>urban</td><td>2002-11-19</td><td>2021-10-10 23:00:00</td><td>Madrid</td><td>3266126</td><td>ESCUELAS AGUIRRE</td></tr>\n",
       "\t<tr><th scope=row>5</th><td>es0118a</td><td>pm2.5</td><td>ESCUELAS AGUIRRE</td><td>40.42167</td><td>-3.682222</td><td>672</td><td>spain</td><td>traffic</td><td>urban</td><td>2002-11-19</td><td>2021-10-10 23:00:00</td><td>Madrid</td><td>3266126</td><td>ESCUELAS AGUIRRE</td></tr>\n",
       "\t<tr><th scope=row>6</th><td>es0120a</td><td>no   </td><td>RAMÓN Y CAJAL   </td><td>40.45167</td><td>-3.677222</td><td>708</td><td>spain</td><td>traffic</td><td>urban</td><td>2002-01-01</td><td>2021-10-10 23:00:00</td><td>Madrid</td><td>3266126</td><td>RAMÓN Y CAJAL   </td></tr>\n",
       "</tbody>\n",
       "</table>\n"
      ],
      "text/latex": [
       "A data.frame: 6 × 14\n",
       "\\begin{tabular}{r|llllllllllllll}\n",
       "  & site & variable & site\\_name & latitude & longitude & elevation & country & site\\_type & site\\_area & date\\_start & date\\_end & Municipio & Población & Estación.tráfico\\\\\n",
       "  & <fct> & <fct> & <chr> & <dbl> & <dbl> & <dbl> & <chr> & <chr> & <chr> & <dttm> & <dttm> & <chr> & <dbl> & <chr>\\\\\n",
       "\\hline\n",
       "\t1 & es0118a & no    & ESCUELAS AGUIRRE & 40.42167 & -3.682222 & 672 & spain & traffic & urban & 2002-11-19 & 2021-10-10 23:00:00 & Madrid & 3266126 & ESCUELAS AGUIRRE\\\\\n",
       "\t2 & es0118a & no2   & ESCUELAS AGUIRRE & 40.42167 & -3.682222 & 672 & spain & traffic & urban & 2002-11-19 & 2021-10-10 23:00:00 & Madrid & 3266126 & ESCUELAS AGUIRRE\\\\\n",
       "\t3 & es0118a & o3    & ESCUELAS AGUIRRE & 40.42167 & -3.682222 & 672 & spain & traffic & urban & 2002-11-19 & 2021-10-10 23:00:00 & Madrid & 3266126 & ESCUELAS AGUIRRE\\\\\n",
       "\t4 & es0118a & pm10  & ESCUELAS AGUIRRE & 40.42167 & -3.682222 & 672 & spain & traffic & urban & 2002-11-19 & 2021-10-10 23:00:00 & Madrid & 3266126 & ESCUELAS AGUIRRE\\\\\n",
       "\t5 & es0118a & pm2.5 & ESCUELAS AGUIRRE & 40.42167 & -3.682222 & 672 & spain & traffic & urban & 2002-11-19 & 2021-10-10 23:00:00 & Madrid & 3266126 & ESCUELAS AGUIRRE\\\\\n",
       "\t6 & es0120a & no    & RAMÓN Y CAJAL    & 40.45167 & -3.677222 & 708 & spain & traffic & urban & 2002-01-01 & 2021-10-10 23:00:00 & Madrid & 3266126 & RAMÓN Y CAJAL   \\\\\n",
       "\\end{tabular}\n"
      ],
      "text/markdown": [
       "\n",
       "A data.frame: 6 × 14\n",
       "\n",
       "| <!--/--> | site &lt;fct&gt; | variable &lt;fct&gt; | site_name &lt;chr&gt; | latitude &lt;dbl&gt; | longitude &lt;dbl&gt; | elevation &lt;dbl&gt; | country &lt;chr&gt; | site_type &lt;chr&gt; | site_area &lt;chr&gt; | date_start &lt;dttm&gt; | date_end &lt;dttm&gt; | Municipio &lt;chr&gt; | Población &lt;dbl&gt; | Estación.tráfico &lt;chr&gt; |\n",
       "|---|---|---|---|---|---|---|---|---|---|---|---|---|---|---|\n",
       "| 1 | es0118a | no    | ESCUELAS AGUIRRE | 40.42167 | -3.682222 | 672 | spain | traffic | urban | 2002-11-19 | 2021-10-10 23:00:00 | Madrid | 3266126 | ESCUELAS AGUIRRE |\n",
       "| 2 | es0118a | no2   | ESCUELAS AGUIRRE | 40.42167 | -3.682222 | 672 | spain | traffic | urban | 2002-11-19 | 2021-10-10 23:00:00 | Madrid | 3266126 | ESCUELAS AGUIRRE |\n",
       "| 3 | es0118a | o3    | ESCUELAS AGUIRRE | 40.42167 | -3.682222 | 672 | spain | traffic | urban | 2002-11-19 | 2021-10-10 23:00:00 | Madrid | 3266126 | ESCUELAS AGUIRRE |\n",
       "| 4 | es0118a | pm10  | ESCUELAS AGUIRRE | 40.42167 | -3.682222 | 672 | spain | traffic | urban | 2002-11-19 | 2021-10-10 23:00:00 | Madrid | 3266126 | ESCUELAS AGUIRRE |\n",
       "| 5 | es0118a | pm2.5 | ESCUELAS AGUIRRE | 40.42167 | -3.682222 | 672 | spain | traffic | urban | 2002-11-19 | 2021-10-10 23:00:00 | Madrid | 3266126 | ESCUELAS AGUIRRE |\n",
       "| 6 | es0120a | no    | RAMÓN Y CAJAL    | 40.45167 | -3.677222 | 708 | spain | traffic | urban | 2002-01-01 | 2021-10-10 23:00:00 | Madrid | 3266126 | RAMÓN Y CAJAL    |\n",
       "\n"
      ],
      "text/plain": [
       "  site    variable site_name        latitude longitude elevation country\n",
       "1 es0118a no       ESCUELAS AGUIRRE 40.42167 -3.682222 672       spain  \n",
       "2 es0118a no2      ESCUELAS AGUIRRE 40.42167 -3.682222 672       spain  \n",
       "3 es0118a o3       ESCUELAS AGUIRRE 40.42167 -3.682222 672       spain  \n",
       "4 es0118a pm10     ESCUELAS AGUIRRE 40.42167 -3.682222 672       spain  \n",
       "5 es0118a pm2.5    ESCUELAS AGUIRRE 40.42167 -3.682222 672       spain  \n",
       "6 es0120a no       RAMÓN Y CAJAL    40.45167 -3.677222 708       spain  \n",
       "  site_type site_area date_start date_end            Municipio Población\n",
       "1 traffic   urban     2002-11-19 2021-10-10 23:00:00 Madrid    3266126  \n",
       "2 traffic   urban     2002-11-19 2021-10-10 23:00:00 Madrid    3266126  \n",
       "3 traffic   urban     2002-11-19 2021-10-10 23:00:00 Madrid    3266126  \n",
       "4 traffic   urban     2002-11-19 2021-10-10 23:00:00 Madrid    3266126  \n",
       "5 traffic   urban     2002-11-19 2021-10-10 23:00:00 Madrid    3266126  \n",
       "6 traffic   urban     2002-01-01 2021-10-10 23:00:00 Madrid    3266126  \n",
       "  Estación.tráfico\n",
       "1 ESCUELAS AGUIRRE\n",
       "2 ESCUELAS AGUIRRE\n",
       "3 ESCUELAS AGUIRRE\n",
       "4 ESCUELAS AGUIRRE\n",
       "5 ESCUELAS AGUIRRE\n",
       "6 RAMÓN Y CAJAL   "
      ]
     },
     "metadata": {},
     "output_type": "display_data"
    }
   ],
   "source": [
    "valid.info <- curate.info[curate.info$hv.min == TRUE,]\n",
    "valid.info <- valid.info[valid.info$mss.yr < 5,]\n",
    "\n",
    "checked_sitesAQ <- merge(x = valid.info %>%\n",
    "                             select(site, variable),\n",
    "                         y = sites.AQ,\n",
    "                         by = \"site\", all.x = T, all.y=F) \n",
    "\n",
    "head(checked_sitesAQ)"
   ]
  },
  {
   "cell_type": "code",
   "execution_count": null,
   "metadata": {},
   "outputs": [],
   "source": []
  }
 ],
 "metadata": {
  "kernelspec": {
   "display_name": "R",
   "language": "R",
   "name": "ir"
  },
  "language_info": {
   "codemirror_mode": "r",
   "file_extension": ".r",
   "mimetype": "text/x-r-source",
   "name": "R",
   "pygments_lexer": "r",
   "version": "3.6.3"
  }
 },
 "nbformat": 4,
 "nbformat_minor": 4
}
