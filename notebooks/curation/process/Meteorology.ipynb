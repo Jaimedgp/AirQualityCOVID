{
 "cells": [
  {
   "cell_type": "markdown",
   "metadata": {},
   "source": [
    "# Merge All Data\n",
    "\n",
    "Merge air quality, AEMET climate and ERA5-Land data for each station.\n",
    "\n",
    "The whole curation process have been performed using the `src/` scripts and this notebook only show examples of the process for monitoring sites in Madrid capital."
   ]
  },
  {
   "cell_type": "code",
   "execution_count": 1,
   "metadata": {},
   "outputs": [],
   "source": [
    "# Load packages\n",
    "suppressMessages(library(tidyverse))\n",
    "suppressMessages(library(lubridate))"
   ]
  },
  {
   "cell_type": "code",
   "execution_count": 2,
   "metadata": {},
   "outputs": [],
   "source": [
    "# Working directory\n",
    "setwd(\"AirQualityCOVID/\")\n",
    "\n",
    "# Source some scripts \n",
    "source(\"src/functions.R\")"
   ]
  },
  {
   "cell_type": "markdown",
   "metadata": {},
   "source": [
    "### Main Variables"
   ]
  },
  {
   "cell_type": "code",
   "execution_count": 3,
   "metadata": {},
   "outputs": [],
   "source": [
    "start_dt <- ymd_hms(\"2013-01-01 00:00:00\")\n",
    "end_dt <- ymd_hms(\"2020-12-31 00:00:00\")"
   ]
  },
  {
   "cell_type": "markdown",
   "metadata": {},
   "source": [
    "## Stations Information"
   ]
  },
  {
   "cell_type": "code",
   "execution_count": 4,
   "metadata": {},
   "outputs": [],
   "source": [
    "#-----------------------------\n",
    "#    Air Quality Stations\n",
    "#-----------------------------\n",
    "\n",
    "sites.AQ <- read.csv(\"data/curation/checked_AQ.csv\",\n",
    "                    stringsAsFactor=T) %>%\n",
    "                filter(Municipio == \"Madrid\") %>%\n",
    "                mutate(site=as.character(site))\n",
    "\n",
    "#-----------------------------\n",
    "#       AEMET Stations\n",
    "#-----------------------------\n",
    "\n",
    "sites.AEMET <- read.csv(\"data/curation/checked_AEMET.csv\",\n",
    "                        stringsAsFactor=F, colClasses=c(\"indicativo\"=\"character\")) %>%\n",
    "                filter(siteAQ %in% sites.AQ$site)\n",
    "\n",
    "#-----------------------------\n",
    "#       WorldMet Stations\n",
    "#-----------------------------\n",
    "\n",
    "sites.NOAA <- read.csv(\"data/curation/checked_NOAA-ISD.csv\",\n",
    "                     stringsAsFactor=T) %>%\n",
    "                filter(siteAQ %in% sites.AQ$site)"
   ]
  },
  {
   "cell_type": "code",
   "execution_count": 5,
   "metadata": {},
   "outputs": [
    {
     "data": {
      "text/html": [
       "<table>\n",
       "<caption>A data.frame: 6 × 14</caption>\n",
       "<thead>\n",
       "\t<tr><th></th><th scope=col>site</th><th scope=col>variable</th><th scope=col>site_name</th><th scope=col>latitude</th><th scope=col>longitude</th><th scope=col>elevation</th><th scope=col>country</th><th scope=col>site_type</th><th scope=col>site_area</th><th scope=col>date_start</th><th scope=col>date_end</th><th scope=col>Municipio</th><th scope=col>Poblaci..n</th><th scope=col>Estaci..n.tr..fico</th></tr>\n",
       "\t<tr><th></th><th scope=col>&lt;chr&gt;</th><th scope=col>&lt;fct&gt;</th><th scope=col>&lt;fct&gt;</th><th scope=col>&lt;dbl&gt;</th><th scope=col>&lt;dbl&gt;</th><th scope=col>&lt;int&gt;</th><th scope=col>&lt;fct&gt;</th><th scope=col>&lt;fct&gt;</th><th scope=col>&lt;fct&gt;</th><th scope=col>&lt;fct&gt;</th><th scope=col>&lt;fct&gt;</th><th scope=col>&lt;fct&gt;</th><th scope=col>&lt;int&gt;</th><th scope=col>&lt;fct&gt;</th></tr>\n",
       "</thead>\n",
       "<tbody>\n",
       "\t<tr><th scope=row>1</th><td>es0118a</td><td>no   </td><td>ESCUELAS AGUIRRE    </td><td>40.42167</td><td>-3.682222</td><td>672</td><td>spain</td><td>traffic</td><td>urban</td><td>2002-11-19 00:00:00</td><td>2021-05-10 19:00:00</td><td>Madrid</td><td>3266126</td><td>ESCUELAS<c2><a0>AGUIRRE           </td></tr>\n",
       "\t<tr><th scope=row>2</th><td>es0118a</td><td>no2  </td><td>ESCUELAS AGUIRRE    </td><td>40.42167</td><td>-3.682222</td><td>672</td><td>spain</td><td>traffic</td><td>urban</td><td>2002-11-19 00:00:00</td><td>2021-05-10 19:00:00</td><td>Madrid</td><td>3266126</td><td>ESCUELAS<c2><a0>AGUIRRE           </td></tr>\n",
       "\t<tr><th scope=row>3</th><td>es0118a</td><td>o3   </td><td>ESCUELAS AGUIRRE    </td><td>40.42167</td><td>-3.682222</td><td>672</td><td>spain</td><td>traffic</td><td>urban</td><td>2002-11-19 00:00:00</td><td>2021-05-10 19:00:00</td><td>Madrid</td><td>3266126</td><td>ESCUELAS<c2><a0>AGUIRRE           </td></tr>\n",
       "\t<tr><th scope=row>4</th><td>es0118a</td><td>pm10 </td><td>ESCUELAS AGUIRRE    </td><td>40.42167</td><td>-3.682222</td><td>672</td><td>spain</td><td>traffic</td><td>urban</td><td>2002-11-19 00:00:00</td><td>2021-05-10 19:00:00</td><td>Madrid</td><td>3266126</td><td>ESCUELAS<c2><a0>AGUIRRE           </td></tr>\n",
       "\t<tr><th scope=row>5</th><td>es0118a</td><td>pm2.5</td><td>ESCUELAS AGUIRRE    </td><td>40.42167</td><td>-3.682222</td><td>672</td><td>spain</td><td>traffic</td><td>urban</td><td>2002-11-19 00:00:00</td><td>2021-05-10 19:00:00</td><td>Madrid</td><td>3266126</td><td>ESCUELAS<c2><a0>AGUIRRE           </td></tr>\n",
       "\t<tr><th scope=row>6</th><td>es0120a</td><td>no   </td><td>RAM<c3><93>N Y CAJAL</td><td>40.45167</td><td>-3.677222</td><td>708</td><td>spain</td><td>traffic</td><td>urban</td><td>2002-01-01 00:00:00</td><td>2021-05-10 19:00:00</td><td>Madrid</td><td>3266126</td><td>RAM<c3><93>N<c2><a0>Y<c2><a0>CAJAL</td></tr>\n",
       "</tbody>\n",
       "</table>\n"
      ],
      "text/latex": [
       "A data.frame: 6 × 14\n",
       "\\begin{tabular}{r|llllllllllllll}\n",
       "  & site & variable & site\\_name & latitude & longitude & elevation & country & site\\_type & site\\_area & date\\_start & date\\_end & Municipio & Poblaci..n & Estaci..n.tr..fico\\\\\n",
       "  & <chr> & <fct> & <fct> & <dbl> & <dbl> & <int> & <fct> & <fct> & <fct> & <fct> & <fct> & <fct> & <int> & <fct>\\\\\n",
       "\\hline\n",
       "\t1 & es0118a & no    & ESCUELAS AGUIRRE     & 40.42167 & -3.682222 & 672 & spain & traffic & urban & 2002-11-19 00:00:00 & 2021-05-10 19:00:00 & Madrid & 3266126 & ESCUELAS<c2><a0>AGUIRRE           \\\\\n",
       "\t2 & es0118a & no2   & ESCUELAS AGUIRRE     & 40.42167 & -3.682222 & 672 & spain & traffic & urban & 2002-11-19 00:00:00 & 2021-05-10 19:00:00 & Madrid & 3266126 & ESCUELAS<c2><a0>AGUIRRE           \\\\\n",
       "\t3 & es0118a & o3    & ESCUELAS AGUIRRE     & 40.42167 & -3.682222 & 672 & spain & traffic & urban & 2002-11-19 00:00:00 & 2021-05-10 19:00:00 & Madrid & 3266126 & ESCUELAS<c2><a0>AGUIRRE           \\\\\n",
       "\t4 & es0118a & pm10  & ESCUELAS AGUIRRE     & 40.42167 & -3.682222 & 672 & spain & traffic & urban & 2002-11-19 00:00:00 & 2021-05-10 19:00:00 & Madrid & 3266126 & ESCUELAS<c2><a0>AGUIRRE           \\\\\n",
       "\t5 & es0118a & pm2.5 & ESCUELAS AGUIRRE     & 40.42167 & -3.682222 & 672 & spain & traffic & urban & 2002-11-19 00:00:00 & 2021-05-10 19:00:00 & Madrid & 3266126 & ESCUELAS<c2><a0>AGUIRRE           \\\\\n",
       "\t6 & es0120a & no    & RAM<c3><93>N Y CAJAL & 40.45167 & -3.677222 & 708 & spain & traffic & urban & 2002-01-01 00:00:00 & 2021-05-10 19:00:00 & Madrid & 3266126 & RAM<c3><93>N<c2><a0>Y<c2><a0>CAJAL\\\\\n",
       "\\end{tabular}\n"
      ],
      "text/markdown": [
       "\n",
       "A data.frame: 6 × 14\n",
       "\n",
       "| <!--/--> | site &lt;chr&gt; | variable &lt;fct&gt; | site_name &lt;fct&gt; | latitude &lt;dbl&gt; | longitude &lt;dbl&gt; | elevation &lt;int&gt; | country &lt;fct&gt; | site_type &lt;fct&gt; | site_area &lt;fct&gt; | date_start &lt;fct&gt; | date_end &lt;fct&gt; | Municipio &lt;fct&gt; | Poblaci..n &lt;int&gt; | Estaci..n.tr..fico &lt;fct&gt; |\n",
       "|---|---|---|---|---|---|---|---|---|---|---|---|---|---|---|\n",
       "| 1 | es0118a | no    | ESCUELAS AGUIRRE     | 40.42167 | -3.682222 | 672 | spain | traffic | urban | 2002-11-19 00:00:00 | 2021-05-10 19:00:00 | Madrid | 3266126 | ESCUELAS<c2><a0>AGUIRRE            |\n",
       "| 2 | es0118a | no2   | ESCUELAS AGUIRRE     | 40.42167 | -3.682222 | 672 | spain | traffic | urban | 2002-11-19 00:00:00 | 2021-05-10 19:00:00 | Madrid | 3266126 | ESCUELAS<c2><a0>AGUIRRE            |\n",
       "| 3 | es0118a | o3    | ESCUELAS AGUIRRE     | 40.42167 | -3.682222 | 672 | spain | traffic | urban | 2002-11-19 00:00:00 | 2021-05-10 19:00:00 | Madrid | 3266126 | ESCUELAS<c2><a0>AGUIRRE            |\n",
       "| 4 | es0118a | pm10  | ESCUELAS AGUIRRE     | 40.42167 | -3.682222 | 672 | spain | traffic | urban | 2002-11-19 00:00:00 | 2021-05-10 19:00:00 | Madrid | 3266126 | ESCUELAS<c2><a0>AGUIRRE            |\n",
       "| 5 | es0118a | pm2.5 | ESCUELAS AGUIRRE     | 40.42167 | -3.682222 | 672 | spain | traffic | urban | 2002-11-19 00:00:00 | 2021-05-10 19:00:00 | Madrid | 3266126 | ESCUELAS<c2><a0>AGUIRRE            |\n",
       "| 6 | es0120a | no    | RAM<c3><93>N Y CAJAL | 40.45167 | -3.677222 | 708 | spain | traffic | urban | 2002-01-01 00:00:00 | 2021-05-10 19:00:00 | Madrid | 3266126 | RAM<c3><93>N<c2><a0>Y<c2><a0>CAJAL |\n",
       "\n"
      ],
      "text/plain": [
       "  site    variable site_name            latitude longitude elevation country\n",
       "1 es0118a no       ESCUELAS AGUIRRE     40.42167 -3.682222 672       spain  \n",
       "2 es0118a no2      ESCUELAS AGUIRRE     40.42167 -3.682222 672       spain  \n",
       "3 es0118a o3       ESCUELAS AGUIRRE     40.42167 -3.682222 672       spain  \n",
       "4 es0118a pm10     ESCUELAS AGUIRRE     40.42167 -3.682222 672       spain  \n",
       "5 es0118a pm2.5    ESCUELAS AGUIRRE     40.42167 -3.682222 672       spain  \n",
       "6 es0120a no       RAM\\303\\223N Y CAJAL 40.45167 -3.677222 708       spain  \n",
       "  site_type site_area date_start          date_end            Municipio\n",
       "1 traffic   urban     2002-11-19 00:00:00 2021-05-10 19:00:00 Madrid   \n",
       "2 traffic   urban     2002-11-19 00:00:00 2021-05-10 19:00:00 Madrid   \n",
       "3 traffic   urban     2002-11-19 00:00:00 2021-05-10 19:00:00 Madrid   \n",
       "4 traffic   urban     2002-11-19 00:00:00 2021-05-10 19:00:00 Madrid   \n",
       "5 traffic   urban     2002-11-19 00:00:00 2021-05-10 19:00:00 Madrid   \n",
       "6 traffic   urban     2002-01-01 00:00:00 2021-05-10 19:00:00 Madrid   \n",
       "  Poblaci..n Estaci..n.tr..fico                \n",
       "1 3266126    ESCUELAS\\302\\240AGUIRRE           \n",
       "2 3266126    ESCUELAS\\302\\240AGUIRRE           \n",
       "3 3266126    ESCUELAS\\302\\240AGUIRRE           \n",
       "4 3266126    ESCUELAS\\302\\240AGUIRRE           \n",
       "5 3266126    ESCUELAS\\302\\240AGUIRRE           \n",
       "6 3266126    RAM\\303\\223N\\302\\240Y\\302\\240CAJAL"
      ]
     },
     "metadata": {},
     "output_type": "display_data"
    }
   ],
   "source": [
    "head(sites.AQ)"
   ]
  },
  {
   "cell_type": "markdown",
   "metadata": {},
   "source": [
    "## n-Table \n",
    "\n",
    "Table with all the relations between Air Quality stations with AEMET and WorldMet stations code\n",
    "\n",
    "| siteAQ  | AEMET |   WorldMet   |\n",
    "|---------|-------|--------------|\n",
    "| es1580a | 1111  | 080210-99999 |\n",
    "| es0118a | 3195  | 082230-99999 |\n",
    "| es1438a | 0201D | 081810-99999 |\n",
    "| es1340a | 4642E | 083830-99999 |"
   ]
  },
  {
   "cell_type": "code",
   "execution_count": 6,
   "metadata": {},
   "outputs": [
    {
     "data": {
      "text/html": [
       "<table>\n",
       "<caption>A data.frame: 6 × 3</caption>\n",
       "<thead>\n",
       "\t<tr><th></th><th scope=col>siteAQ</th><th scope=col>AEMET</th><th scope=col>NOAA</th></tr>\n",
       "\t<tr><th></th><th scope=col>&lt;fct&gt;</th><th scope=col>&lt;fct&gt;</th><th scope=col>&lt;fct&gt;</th></tr>\n",
       "</thead>\n",
       "<tbody>\n",
       "\t<tr><th scope=row>1</th><td>es0118a</td><td>3195</td><td>082230-99999</td></tr>\n",
       "\t<tr><th scope=row>2</th><td>es0120a</td><td>3195</td><td>082210-99999</td></tr>\n",
       "\t<tr><th scope=row>3</th><td>es1426a</td><td>3195</td><td>082210-99999</td></tr>\n",
       "\t<tr><th scope=row>4</th><td>es1521a</td><td>3195</td><td>082210-99999</td></tr>\n",
       "\t<tr><th scope=row>5</th><td>es1525a</td><td>3195</td><td>082230-99999</td></tr>\n",
       "\t<tr><th scope=row>6</th><td>es1938a</td><td>3195</td><td>082230-99999</td></tr>\n",
       "</tbody>\n",
       "</table>\n"
      ],
      "text/latex": [
       "A data.frame: 6 × 3\n",
       "\\begin{tabular}{r|lll}\n",
       "  & siteAQ & AEMET & NOAA\\\\\n",
       "  & <fct> & <fct> & <fct>\\\\\n",
       "\\hline\n",
       "\t1 & es0118a & 3195 & 082230-99999\\\\\n",
       "\t2 & es0120a & 3195 & 082210-99999\\\\\n",
       "\t3 & es1426a & 3195 & 082210-99999\\\\\n",
       "\t4 & es1521a & 3195 & 082210-99999\\\\\n",
       "\t5 & es1525a & 3195 & 082230-99999\\\\\n",
       "\t6 & es1938a & 3195 & 082230-99999\\\\\n",
       "\\end{tabular}\n"
      ],
      "text/markdown": [
       "\n",
       "A data.frame: 6 × 3\n",
       "\n",
       "| <!--/--> | siteAQ &lt;fct&gt; | AEMET &lt;fct&gt; | NOAA &lt;fct&gt; |\n",
       "|---|---|---|---|\n",
       "| 1 | es0118a | 3195 | 082230-99999 |\n",
       "| 2 | es0120a | 3195 | 082210-99999 |\n",
       "| 3 | es1426a | 3195 | 082210-99999 |\n",
       "| 4 | es1521a | 3195 | 082210-99999 |\n",
       "| 5 | es1525a | 3195 | 082230-99999 |\n",
       "| 6 | es1938a | 3195 | 082230-99999 |\n",
       "\n"
      ],
      "text/plain": [
       "  siteAQ  AEMET NOAA        \n",
       "1 es0118a 3195  082230-99999\n",
       "2 es0120a 3195  082210-99999\n",
       "3 es1426a 3195  082210-99999\n",
       "4 es1521a 3195  082210-99999\n",
       "5 es1525a 3195  082230-99999\n",
       "6 es1938a 3195  082230-99999"
      ]
     },
     "metadata": {},
     "output_type": "display_data"
    }
   ],
   "source": [
    "nn.stations <- data.frame()\n",
    "\n",
    "for (st in levels(as.factor(sites.AQ$site))) {\n",
    "    nn.stations <- rbind(nn.stations,\n",
    "                         data.frame(siteAQ = as.factor(st),\n",
    "                                    AEMET = as.factor(sites.AEMET[sites.AEMET$siteAQ == st,\n",
    "                                                                  \"indicativo\"]),\n",
    "                                    NOAA = sites.NOAA[sites.NOAA$siteAQ == st,\n",
    "                                                              \"code\"]\n",
    "                                   )\n",
    "                        )\n",
    "}\n",
    "head(nn.stations)"
   ]
  },
  {
   "cell_type": "markdown",
   "metadata": {},
   "source": [
    "## ERA5-Land Data"
   ]
  },
  {
   "cell_type": "code",
   "execution_count": 7,
   "metadata": {},
   "outputs": [],
   "source": [
    "#-----------------------------\n",
    "#    ERA5-Land Data\n",
    "#-----------------------------\n",
    "\n",
    "folder.ERA5.Land <- \"data/curation/ERA5-Land/\"\n",
    "\n",
    "# Relative Humidity\n",
    "load(paste(folder.ERA5.Land,\n",
    "           \"rh_daily_2010_2020_final_stations.rda\", sep=\"\"))\n",
    "\n",
    "rh.ERA5.Land <- data.as.datetime(df, \"dates\", \"ymd\") %>%\n",
    "                    add_column(variable=\"RH\", .after=\"dates\")\n",
    "\n",
    "# Solar radiation\n",
    "load(paste(folder.ERA5.Land, \n",
    "           \"ssrd_daily_2010_2020_final_stations.rda\", sep=\"\"))\n",
    "\n",
    "ssrd.ERA5.Land <- data.as.datetime(df, \"dates\", \"ymd\") %>%\n",
    "                    add_column(variable=\"solar.radiation\", .after=\"dates\")\n",
    "\n",
    "ERA5.Land <- rbind(rh.ERA5.Land, ssrd.ERA5.Land)"
   ]
  },
  {
   "cell_type": "markdown",
   "metadata": {},
   "source": [
    "## Merge Process"
   ]
  },
  {
   "cell_type": "code",
   "execution_count": 8,
   "metadata": {},
   "outputs": [],
   "source": [
    "# Folder wherever take downloaded data, if it exists\n",
    "Mto.files <- \"data/curation/\"\n",
    "\n",
    "data_Mto <- data.frame()"
   ]
  },
  {
   "cell_type": "code",
   "execution_count": 9,
   "metadata": {},
   "outputs": [
    {
     "data": {
      "text/html": [
       "<table>\n",
       "<caption>A data.frame: 6 × 12</caption>\n",
       "<thead>\n",
       "\t<tr><th></th><th scope=col>date</th><th scope=col>ws</th><th scope=col>wd</th><th scope=col>tmed</th><th scope=col>prec</th><th scope=col>tmin</th><th scope=col>tmax</th><th scope=col>presMax</th><th scope=col>presMin</th><th scope=col>RH</th><th scope=col>solar.radiation</th><th scope=col>site</th></tr>\n",
       "\t<tr><th></th><th scope=col>&lt;date&gt;</th><th scope=col>&lt;dbl&gt;</th><th scope=col>&lt;dbl&gt;</th><th scope=col>&lt;dbl&gt;</th><th scope=col>&lt;dbl&gt;</th><th scope=col>&lt;dbl&gt;</th><th scope=col>&lt;dbl&gt;</th><th scope=col>&lt;dbl&gt;</th><th scope=col>&lt;dbl&gt;</th><th scope=col>&lt;dbl&gt;</th><th scope=col>&lt;dbl&gt;</th><th scope=col>&lt;chr&gt;</th></tr>\n",
       "</thead>\n",
       "<tbody>\n",
       "\t<tr><th scope=row>1</th><td>2013-01-01</td><td>0.8571429</td><td>225.29494</td><td>6.4</td><td>0</td><td> 3.4</td><td> 9.4</td><td>945.9</td><td>940.2</td><td>80.65828</td><td> 58.83178</td><td>es0118a</td></tr>\n",
       "\t<tr><th scope=row>2</th><td>2013-01-02</td><td>0.9321429</td><td>355.50018</td><td>5.8</td><td>0</td><td> 0.7</td><td>10.8</td><td>950.3</td><td>945.9</td><td>75.60469</td><td> 71.71485</td><td>es0118a</td></tr>\n",
       "\t<tr><th scope=row>3</th><td>2013-01-03</td><td>0.8607143</td><td> 75.49246</td><td>6.8</td><td>0</td><td> 2.8</td><td>10.8</td><td>959.8</td><td>950.3</td><td>67.31548</td><td> 84.82211</td><td>es0118a</td></tr>\n",
       "\t<tr><th scope=row>4</th><td>2013-01-04</td><td>0.1071429</td><td>       NA</td><td>6.2</td><td>0</td><td> 1.6</td><td>10.8</td><td>959.8</td><td>956.7</td><td>69.89121</td><td>107.96104</td><td>es0118a</td></tr>\n",
       "\t<tr><th scope=row>5</th><td>2013-01-05</td><td>0.4500000</td><td>261.60039</td><td>4.9</td><td>0</td><td>-0.4</td><td>10.2</td><td>956.8</td><td>952.9</td><td>73.00545</td><td>110.16858</td><td>es0118a</td></tr>\n",
       "\t<tr><th scope=row>6</th><td>2013-01-06</td><td>0.4892857</td><td>178.49970</td><td>5.1</td><td>0</td><td> 0.7</td><td> 9.5</td><td>953.0</td><td>949.6</td><td>80.61580</td><td>111.74950</td><td>es0118a</td></tr>\n",
       "</tbody>\n",
       "</table>\n"
      ],
      "text/latex": [
       "A data.frame: 6 × 12\n",
       "\\begin{tabular}{r|llllllllllll}\n",
       "  & date & ws & wd & tmed & prec & tmin & tmax & presMax & presMin & RH & solar.radiation & site\\\\\n",
       "  & <date> & <dbl> & <dbl> & <dbl> & <dbl> & <dbl> & <dbl> & <dbl> & <dbl> & <dbl> & <dbl> & <chr>\\\\\n",
       "\\hline\n",
       "\t1 & 2013-01-01 & 0.8571429 & 225.29494 & 6.4 & 0 &  3.4 &  9.4 & 945.9 & 940.2 & 80.65828 &  58.83178 & es0118a\\\\\n",
       "\t2 & 2013-01-02 & 0.9321429 & 355.50018 & 5.8 & 0 &  0.7 & 10.8 & 950.3 & 945.9 & 75.60469 &  71.71485 & es0118a\\\\\n",
       "\t3 & 2013-01-03 & 0.8607143 &  75.49246 & 6.8 & 0 &  2.8 & 10.8 & 959.8 & 950.3 & 67.31548 &  84.82211 & es0118a\\\\\n",
       "\t4 & 2013-01-04 & 0.1071429 &        NA & 6.2 & 0 &  1.6 & 10.8 & 959.8 & 956.7 & 69.89121 & 107.96104 & es0118a\\\\\n",
       "\t5 & 2013-01-05 & 0.4500000 & 261.60039 & 4.9 & 0 & -0.4 & 10.2 & 956.8 & 952.9 & 73.00545 & 110.16858 & es0118a\\\\\n",
       "\t6 & 2013-01-06 & 0.4892857 & 178.49970 & 5.1 & 0 &  0.7 &  9.5 & 953.0 & 949.6 & 80.61580 & 111.74950 & es0118a\\\\\n",
       "\\end{tabular}\n"
      ],
      "text/markdown": [
       "\n",
       "A data.frame: 6 × 12\n",
       "\n",
       "| <!--/--> | date &lt;date&gt; | ws &lt;dbl&gt; | wd &lt;dbl&gt; | tmed &lt;dbl&gt; | prec &lt;dbl&gt; | tmin &lt;dbl&gt; | tmax &lt;dbl&gt; | presMax &lt;dbl&gt; | presMin &lt;dbl&gt; | RH &lt;dbl&gt; | solar.radiation &lt;dbl&gt; | site &lt;chr&gt; |\n",
       "|---|---|---|---|---|---|---|---|---|---|---|---|---|\n",
       "| 1 | 2013-01-01 | 0.8571429 | 225.29494 | 6.4 | 0 |  3.4 |  9.4 | 945.9 | 940.2 | 80.65828 |  58.83178 | es0118a |\n",
       "| 2 | 2013-01-02 | 0.9321429 | 355.50018 | 5.8 | 0 |  0.7 | 10.8 | 950.3 | 945.9 | 75.60469 |  71.71485 | es0118a |\n",
       "| 3 | 2013-01-03 | 0.8607143 |  75.49246 | 6.8 | 0 |  2.8 | 10.8 | 959.8 | 950.3 | 67.31548 |  84.82211 | es0118a |\n",
       "| 4 | 2013-01-04 | 0.1071429 |        NA | 6.2 | 0 |  1.6 | 10.8 | 959.8 | 956.7 | 69.89121 | 107.96104 | es0118a |\n",
       "| 5 | 2013-01-05 | 0.4500000 | 261.60039 | 4.9 | 0 | -0.4 | 10.2 | 956.8 | 952.9 | 73.00545 | 110.16858 | es0118a |\n",
       "| 6 | 2013-01-06 | 0.4892857 | 178.49970 | 5.1 | 0 |  0.7 |  9.5 | 953.0 | 949.6 | 80.61580 | 111.74950 | es0118a |\n",
       "\n"
      ],
      "text/plain": [
       "  date       ws        wd        tmed prec tmin tmax presMax presMin RH      \n",
       "1 2013-01-01 0.8571429 225.29494 6.4  0     3.4  9.4 945.9   940.2   80.65828\n",
       "2 2013-01-02 0.9321429 355.50018 5.8  0     0.7 10.8 950.3   945.9   75.60469\n",
       "3 2013-01-03 0.8607143  75.49246 6.8  0     2.8 10.8 959.8   950.3   67.31548\n",
       "4 2013-01-04 0.1071429        NA 6.2  0     1.6 10.8 959.8   956.7   69.89121\n",
       "5 2013-01-05 0.4500000 261.60039 4.9  0    -0.4 10.2 956.8   952.9   73.00545\n",
       "6 2013-01-06 0.4892857 178.49970 5.1  0     0.7  9.5 953.0   949.6   80.61580\n",
       "  solar.radiation site   \n",
       "1  58.83178       es0118a\n",
       "2  71.71485       es0118a\n",
       "3  84.82211       es0118a\n",
       "4 107.96104       es0118a\n",
       "5 110.16858       es0118a\n",
       "6 111.74950       es0118a"
      ]
     },
     "metadata": {},
     "output_type": "display_data"
    }
   ],
   "source": [
    "for (st in levels(nn.stations$siteAQ)) {\n",
    "    \n",
    "    if (st %in% names(ERA5.Land)) {\n",
    "\n",
    "        code <- nn.stations[nn.stations$siteAQ == st, \"NOAA\"]\n",
    "\n",
    "        data.NOAA <- read.csv(paste(Mto.files, \"NOAA-ISD/\",\n",
    "                                     code, \".csv\", sep=\"\"), stringsAsFactor=F) %>%\n",
    "                        data.as.datetime(\"date\", \"ymd\") %>%\n",
    "                        select(-\"code\")\n",
    "\n",
    "        indicativo <- nn.stations[nn.stations$siteAQ == st, \"AEMET\"]\n",
    "\n",
    "        data.AEMET <- read.csv(paste(Mto.files, \"AEMET/\",\n",
    "                                     indicativo, \".csv\", sep=\"\"), stringsAsFactor=F) %>%\n",
    "                        data.as.datetime(\"fecha\", \"ymd\") %>%\n",
    "                        select(\"fecha\", \"tmed\", \"prec\", \n",
    "                               \"tmin\", \"tmax\", \"presMax\", \"presMin\"\n",
    "                               )\n",
    "\n",
    "        data.row <- merge(x = data.NOAA, y = data.AEMET,\n",
    "                            by.x = \"date\", by.y = \"fecha\", all = TRUE)\n",
    "\n",
    "        for (vr in levels(as.factor(ERA5.Land$variable))) {\n",
    "            data.row <- merge(x = data.row, \n",
    "                              y = ERA5.Land[ERA5.Land$variable == vr,\n",
    "                                            c(\"dates\", st)],\n",
    "                              by.x = \"date\", by.y = \"dates\", all.x = TRUE\n",
    "                             )\n",
    "            names(data.row)[ncol(data.row)] <- vr\n",
    "        }\n",
    "\n",
    "        data.row[, \"site\"] <- st\n",
    "        data_Mto <- rbind(data_Mto, data.row)\n",
    "    }\n",
    "}\n",
    "\n",
    "head(data_Mto)"
   ]
  }
 ],
 "metadata": {
  "kernelspec": {
   "display_name": "R",
   "language": "R",
   "name": "ir"
  },
  "language_info": {
   "codemirror_mode": "r",
   "file_extension": ".r",
   "mimetype": "text/x-r-source",
   "name": "R",
   "pygments_lexer": "r",
   "version": "3.6.3"
  }
 },
 "nbformat": 4,
 "nbformat_minor": 4
}
