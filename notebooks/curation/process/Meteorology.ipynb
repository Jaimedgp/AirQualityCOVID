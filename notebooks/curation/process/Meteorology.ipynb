{
 "cells": [
  {
   "cell_type": "markdown",
   "metadata": {},
   "source": [
    "# Merge All Data\n",
    "\n",
    "Merge air quality, AEMET climate and ERA5-Land data for each station.\n",
    "\n",
    "The whole curation process have been performed using the `src/` scripts and this notebook only show examples of the process for monitoring sites in Madrid capital."
   ]
  },
  {
   "cell_type": "code",
   "execution_count": 3,
   "metadata": {},
   "outputs": [],
   "source": [
    "# Load packages\n",
    "suppressMessages(library(tidyverse))\n",
    "suppressMessages(library(lubridate))"
   ]
  },
  {
   "cell_type": "code",
   "execution_count": 8,
   "metadata": {},
   "outputs": [],
   "source": [
    "# Working directory\n",
    "setwd(\"AirQualityCOVID/\")\n",
    "\n",
    "# Source some scripts \n",
    "source(\"src/functions.R\")"
   ]
  },
  {
   "cell_type": "markdown",
   "metadata": {},
   "source": [
    "### Main Variables"
   ]
  },
  {
   "cell_type": "code",
   "execution_count": 9,
   "metadata": {},
   "outputs": [],
   "source": [
    "start_dt <- ymd_hms(\"2013-01-01 00:00:00\")\n",
    "end_dt <- ymd_hms(\"2020-12-31 00:00:00\")"
   ]
  },
  {
   "cell_type": "markdown",
   "metadata": {},
   "source": [
    "## Stations Information"
   ]
  },
  {
   "cell_type": "code",
   "execution_count": 20,
   "metadata": {},
   "outputs": [],
   "source": [
    "#-----------------------------\n",
    "#    Air Quality Stations\n",
    "#-----------------------------\n",
    "\n",
    "sites.AQ <- read.csv(\"data/curation/checked_AQ.csv\",\n",
    "                    stringsAsFactor=T) %>%\n",
    "                filter(Municipio == \"Madrid\") %>%\n",
    "                mutate(site=as.character(site))\n",
    "\n",
    "#-----------------------------\n",
    "#       AEMET Stations\n",
    "#-----------------------------\n",
    "\n",
    "sites.AEMET <- read.csv(\"data/curation/checked_AEMET.csv\",\n",
    "                        stringsAsFactor=F, colClasses=c(\"indicativo\"=\"character\")) %>%\n",
    "                filter(siteAQ %in% sites.AQ$site)\n",
    "\n",
    "#-----------------------------\n",
    "#       WorldMet Stations\n",
    "#-----------------------------\n",
    "\n",
    "sites.NOAA <- read.csv(\"data/curation/checked_NOAA-ISD.csv\",\n",
    "                     stringsAsFactor=T) %>%\n",
    "                filter(siteAQ %in% sites.AQ$site)"
   ]
  },
  {
   "cell_type": "code",
   "execution_count": 21,
   "metadata": {},
   "outputs": [
    {
     "data": {
      "text/html": [
       "<table>\n",
       "<caption>A data.frame: 6 × 14</caption>\n",
       "<thead>\n",
       "\t<tr><th></th><th scope=col>site</th><th scope=col>variable</th><th scope=col>site_name</th><th scope=col>latitude</th><th scope=col>longitude</th><th scope=col>elevation</th><th scope=col>country</th><th scope=col>site_type</th><th scope=col>site_area</th><th scope=col>date_start</th><th scope=col>date_end</th><th scope=col>Municipio</th><th scope=col>Poblaci..n</th><th scope=col>Estaci..n.tr..fico</th></tr>\n",
       "\t<tr><th></th><th scope=col>&lt;chr&gt;</th><th scope=col>&lt;fct&gt;</th><th scope=col>&lt;fct&gt;</th><th scope=col>&lt;dbl&gt;</th><th scope=col>&lt;dbl&gt;</th><th scope=col>&lt;int&gt;</th><th scope=col>&lt;fct&gt;</th><th scope=col>&lt;fct&gt;</th><th scope=col>&lt;fct&gt;</th><th scope=col>&lt;fct&gt;</th><th scope=col>&lt;fct&gt;</th><th scope=col>&lt;fct&gt;</th><th scope=col>&lt;int&gt;</th><th scope=col>&lt;fct&gt;</th></tr>\n",
       "</thead>\n",
       "<tbody>\n",
       "\t<tr><th scope=row>1</th><td>es0118a</td><td>no   </td><td>ESCUELAS AGUIRRE    </td><td>40.42167</td><td>-3.682222</td><td>672</td><td>spain</td><td>traffic</td><td>urban</td><td>2002-11-19 00:00:00</td><td>2021-05-10 19:00:00</td><td>Madrid</td><td>3266126</td><td>ESCUELAS<c2><a0>AGUIRRE           </td></tr>\n",
       "\t<tr><th scope=row>2</th><td>es0118a</td><td>no2  </td><td>ESCUELAS AGUIRRE    </td><td>40.42167</td><td>-3.682222</td><td>672</td><td>spain</td><td>traffic</td><td>urban</td><td>2002-11-19 00:00:00</td><td>2021-05-10 19:00:00</td><td>Madrid</td><td>3266126</td><td>ESCUELAS<c2><a0>AGUIRRE           </td></tr>\n",
       "\t<tr><th scope=row>3</th><td>es0118a</td><td>o3   </td><td>ESCUELAS AGUIRRE    </td><td>40.42167</td><td>-3.682222</td><td>672</td><td>spain</td><td>traffic</td><td>urban</td><td>2002-11-19 00:00:00</td><td>2021-05-10 19:00:00</td><td>Madrid</td><td>3266126</td><td>ESCUELAS<c2><a0>AGUIRRE           </td></tr>\n",
       "\t<tr><th scope=row>4</th><td>es0118a</td><td>pm10 </td><td>ESCUELAS AGUIRRE    </td><td>40.42167</td><td>-3.682222</td><td>672</td><td>spain</td><td>traffic</td><td>urban</td><td>2002-11-19 00:00:00</td><td>2021-05-10 19:00:00</td><td>Madrid</td><td>3266126</td><td>ESCUELAS<c2><a0>AGUIRRE           </td></tr>\n",
       "\t<tr><th scope=row>5</th><td>es0118a</td><td>pm2.5</td><td>ESCUELAS AGUIRRE    </td><td>40.42167</td><td>-3.682222</td><td>672</td><td>spain</td><td>traffic</td><td>urban</td><td>2002-11-19 00:00:00</td><td>2021-05-10 19:00:00</td><td>Madrid</td><td>3266126</td><td>ESCUELAS<c2><a0>AGUIRRE           </td></tr>\n",
       "\t<tr><th scope=row>6</th><td>es0120a</td><td>no   </td><td>RAM<c3><93>N Y CAJAL</td><td>40.45167</td><td>-3.677222</td><td>708</td><td>spain</td><td>traffic</td><td>urban</td><td>2002-01-01 00:00:00</td><td>2021-05-10 19:00:00</td><td>Madrid</td><td>3266126</td><td>RAM<c3><93>N<c2><a0>Y<c2><a0>CAJAL</td></tr>\n",
       "</tbody>\n",
       "</table>\n"
      ],
      "text/latex": [
       "A data.frame: 6 × 14\n",
       "\\begin{tabular}{r|llllllllllllll}\n",
       "  & site & variable & site\\_name & latitude & longitude & elevation & country & site\\_type & site\\_area & date\\_start & date\\_end & Municipio & Poblaci..n & Estaci..n.tr..fico\\\\\n",
       "  & <chr> & <fct> & <fct> & <dbl> & <dbl> & <int> & <fct> & <fct> & <fct> & <fct> & <fct> & <fct> & <int> & <fct>\\\\\n",
       "\\hline\n",
       "\t1 & es0118a & no    & ESCUELAS AGUIRRE     & 40.42167 & -3.682222 & 672 & spain & traffic & urban & 2002-11-19 00:00:00 & 2021-05-10 19:00:00 & Madrid & 3266126 & ESCUELAS<c2><a0>AGUIRRE           \\\\\n",
       "\t2 & es0118a & no2   & ESCUELAS AGUIRRE     & 40.42167 & -3.682222 & 672 & spain & traffic & urban & 2002-11-19 00:00:00 & 2021-05-10 19:00:00 & Madrid & 3266126 & ESCUELAS<c2><a0>AGUIRRE           \\\\\n",
       "\t3 & es0118a & o3    & ESCUELAS AGUIRRE     & 40.42167 & -3.682222 & 672 & spain & traffic & urban & 2002-11-19 00:00:00 & 2021-05-10 19:00:00 & Madrid & 3266126 & ESCUELAS<c2><a0>AGUIRRE           \\\\\n",
       "\t4 & es0118a & pm10  & ESCUELAS AGUIRRE     & 40.42167 & -3.682222 & 672 & spain & traffic & urban & 2002-11-19 00:00:00 & 2021-05-10 19:00:00 & Madrid & 3266126 & ESCUELAS<c2><a0>AGUIRRE           \\\\\n",
       "\t5 & es0118a & pm2.5 & ESCUELAS AGUIRRE     & 40.42167 & -3.682222 & 672 & spain & traffic & urban & 2002-11-19 00:00:00 & 2021-05-10 19:00:00 & Madrid & 3266126 & ESCUELAS<c2><a0>AGUIRRE           \\\\\n",
       "\t6 & es0120a & no    & RAM<c3><93>N Y CAJAL & 40.45167 & -3.677222 & 708 & spain & traffic & urban & 2002-01-01 00:00:00 & 2021-05-10 19:00:00 & Madrid & 3266126 & RAM<c3><93>N<c2><a0>Y<c2><a0>CAJAL\\\\\n",
       "\\end{tabular}\n"
      ],
      "text/markdown": [
       "\n",
       "A data.frame: 6 × 14\n",
       "\n",
       "| <!--/--> | site &lt;chr&gt; | variable &lt;fct&gt; | site_name &lt;fct&gt; | latitude &lt;dbl&gt; | longitude &lt;dbl&gt; | elevation &lt;int&gt; | country &lt;fct&gt; | site_type &lt;fct&gt; | site_area &lt;fct&gt; | date_start &lt;fct&gt; | date_end &lt;fct&gt; | Municipio &lt;fct&gt; | Poblaci..n &lt;int&gt; | Estaci..n.tr..fico &lt;fct&gt; |\n",
       "|---|---|---|---|---|---|---|---|---|---|---|---|---|---|---|\n",
       "| 1 | es0118a | no    | ESCUELAS AGUIRRE     | 40.42167 | -3.682222 | 672 | spain | traffic | urban | 2002-11-19 00:00:00 | 2021-05-10 19:00:00 | Madrid | 3266126 | ESCUELAS<c2><a0>AGUIRRE            |\n",
       "| 2 | es0118a | no2   | ESCUELAS AGUIRRE     | 40.42167 | -3.682222 | 672 | spain | traffic | urban | 2002-11-19 00:00:00 | 2021-05-10 19:00:00 | Madrid | 3266126 | ESCUELAS<c2><a0>AGUIRRE            |\n",
       "| 3 | es0118a | o3    | ESCUELAS AGUIRRE     | 40.42167 | -3.682222 | 672 | spain | traffic | urban | 2002-11-19 00:00:00 | 2021-05-10 19:00:00 | Madrid | 3266126 | ESCUELAS<c2><a0>AGUIRRE            |\n",
       "| 4 | es0118a | pm10  | ESCUELAS AGUIRRE     | 40.42167 | -3.682222 | 672 | spain | traffic | urban | 2002-11-19 00:00:00 | 2021-05-10 19:00:00 | Madrid | 3266126 | ESCUELAS<c2><a0>AGUIRRE            |\n",
       "| 5 | es0118a | pm2.5 | ESCUELAS AGUIRRE     | 40.42167 | -3.682222 | 672 | spain | traffic | urban | 2002-11-19 00:00:00 | 2021-05-10 19:00:00 | Madrid | 3266126 | ESCUELAS<c2><a0>AGUIRRE            |\n",
       "| 6 | es0120a | no    | RAM<c3><93>N Y CAJAL | 40.45167 | -3.677222 | 708 | spain | traffic | urban | 2002-01-01 00:00:00 | 2021-05-10 19:00:00 | Madrid | 3266126 | RAM<c3><93>N<c2><a0>Y<c2><a0>CAJAL |\n",
       "\n"
      ],
      "text/plain": [
       "  site    variable site_name            latitude longitude elevation country\n",
       "1 es0118a no       ESCUELAS AGUIRRE     40.42167 -3.682222 672       spain  \n",
       "2 es0118a no2      ESCUELAS AGUIRRE     40.42167 -3.682222 672       spain  \n",
       "3 es0118a o3       ESCUELAS AGUIRRE     40.42167 -3.682222 672       spain  \n",
       "4 es0118a pm10     ESCUELAS AGUIRRE     40.42167 -3.682222 672       spain  \n",
       "5 es0118a pm2.5    ESCUELAS AGUIRRE     40.42167 -3.682222 672       spain  \n",
       "6 es0120a no       RAM\\303\\223N Y CAJAL 40.45167 -3.677222 708       spain  \n",
       "  site_type site_area date_start          date_end            Municipio\n",
       "1 traffic   urban     2002-11-19 00:00:00 2021-05-10 19:00:00 Madrid   \n",
       "2 traffic   urban     2002-11-19 00:00:00 2021-05-10 19:00:00 Madrid   \n",
       "3 traffic   urban     2002-11-19 00:00:00 2021-05-10 19:00:00 Madrid   \n",
       "4 traffic   urban     2002-11-19 00:00:00 2021-05-10 19:00:00 Madrid   \n",
       "5 traffic   urban     2002-11-19 00:00:00 2021-05-10 19:00:00 Madrid   \n",
       "6 traffic   urban     2002-01-01 00:00:00 2021-05-10 19:00:00 Madrid   \n",
       "  Poblaci..n Estaci..n.tr..fico                \n",
       "1 3266126    ESCUELAS\\302\\240AGUIRRE           \n",
       "2 3266126    ESCUELAS\\302\\240AGUIRRE           \n",
       "3 3266126    ESCUELAS\\302\\240AGUIRRE           \n",
       "4 3266126    ESCUELAS\\302\\240AGUIRRE           \n",
       "5 3266126    ESCUELAS\\302\\240AGUIRRE           \n",
       "6 3266126    RAM\\303\\223N\\302\\240Y\\302\\240CAJAL"
      ]
     },
     "metadata": {},
     "output_type": "display_data"
    }
   ],
   "source": [
    "head(sites.AQ)"
   ]
  },
  {
   "cell_type": "markdown",
   "metadata": {},
   "source": [
    "## n-Table \n",
    "\n",
    "Table with all the relations between Air Quality stations with AEMET and WorldMet stations code\n",
    "\n",
    "| siteAQ  | AEMET |   WorldMet   |\n",
    "|---------|-------|--------------|\n",
    "| es1580a | 1111  | 080210-99999 |\n",
    "| es0118a | 3195  | 082230-99999 |\n",
    "| es1438a | 0201D | 081810-99999 |\n",
    "| es1340a | 4642E | 083830-99999 |"
   ]
  },
  {
   "cell_type": "code",
   "execution_count": 23,
   "metadata": {},
   "outputs": [
    {
     "data": {
      "text/html": [
       "<table>\n",
       "<caption>A data.frame: 6 × 3</caption>\n",
       "<thead>\n",
       "\t<tr><th></th><th scope=col>siteAQ</th><th scope=col>AEMET</th><th scope=col>NOAA</th></tr>\n",
       "\t<tr><th></th><th scope=col>&lt;fct&gt;</th><th scope=col>&lt;fct&gt;</th><th scope=col>&lt;fct&gt;</th></tr>\n",
       "</thead>\n",
       "<tbody>\n",
       "\t<tr><th scope=row>1</th><td>es0118a</td><td>3195</td><td>082230-99999</td></tr>\n",
       "\t<tr><th scope=row>2</th><td>es0120a</td><td>3195</td><td>082210-99999</td></tr>\n",
       "\t<tr><th scope=row>3</th><td>es1426a</td><td>3195</td><td>082210-99999</td></tr>\n",
       "\t<tr><th scope=row>4</th><td>es1521a</td><td>3195</td><td>082210-99999</td></tr>\n",
       "\t<tr><th scope=row>5</th><td>es1525a</td><td>3195</td><td>082230-99999</td></tr>\n",
       "\t<tr><th scope=row>6</th><td>es1938a</td><td>3195</td><td>082230-99999</td></tr>\n",
       "</tbody>\n",
       "</table>\n"
      ],
      "text/latex": [
       "A data.frame: 6 × 3\n",
       "\\begin{tabular}{r|lll}\n",
       "  & siteAQ & AEMET & NOAA\\\\\n",
       "  & <fct> & <fct> & <fct>\\\\\n",
       "\\hline\n",
       "\t1 & es0118a & 3195 & 082230-99999\\\\\n",
       "\t2 & es0120a & 3195 & 082210-99999\\\\\n",
       "\t3 & es1426a & 3195 & 082210-99999\\\\\n",
       "\t4 & es1521a & 3195 & 082210-99999\\\\\n",
       "\t5 & es1525a & 3195 & 082230-99999\\\\\n",
       "\t6 & es1938a & 3195 & 082230-99999\\\\\n",
       "\\end{tabular}\n"
      ],
      "text/markdown": [
       "\n",
       "A data.frame: 6 × 3\n",
       "\n",
       "| <!--/--> | siteAQ &lt;fct&gt; | AEMET &lt;fct&gt; | NOAA &lt;fct&gt; |\n",
       "|---|---|---|---|\n",
       "| 1 | es0118a | 3195 | 082230-99999 |\n",
       "| 2 | es0120a | 3195 | 082210-99999 |\n",
       "| 3 | es1426a | 3195 | 082210-99999 |\n",
       "| 4 | es1521a | 3195 | 082210-99999 |\n",
       "| 5 | es1525a | 3195 | 082230-99999 |\n",
       "| 6 | es1938a | 3195 | 082230-99999 |\n",
       "\n"
      ],
      "text/plain": [
       "  siteAQ  AEMET NOAA        \n",
       "1 es0118a 3195  082230-99999\n",
       "2 es0120a 3195  082210-99999\n",
       "3 es1426a 3195  082210-99999\n",
       "4 es1521a 3195  082210-99999\n",
       "5 es1525a 3195  082230-99999\n",
       "6 es1938a 3195  082230-99999"
      ]
     },
     "metadata": {},
     "output_type": "display_data"
    }
   ],
   "source": [
    "nn.stations <- data.frame()\n",
    "\n",
    "for (st in levels(as.factor(sites.AQ$site))) {\n",
    "    nn.stations <- rbind(nn.stations,\n",
    "                         data.frame(siteAQ = as.factor(st),\n",
    "                                    AEMET = as.factor(sites.AEMET[sites.AEMET$siteAQ == st,\n",
    "                                                                  \"indicativo\"]),\n",
    "                                    NOAA = sites.NOAA[sites.NOAA$siteAQ == st,\n",
    "                                                              \"code\"]\n",
    "                                   )\n",
    "                        )\n",
    "}\n",
    "\n",
    "head(nn.stations)"
   ]
  },
  {
   "cell_type": "markdown",
   "metadata": {},
   "source": [
    "## ERA5-Land Data"
   ]
  },
  {
   "cell_type": "code",
   "execution_count": 24,
   "metadata": {},
   "outputs": [],
   "source": [
    "#-----------------------------\n",
    "#    ERA5-Land Data\n",
    "#-----------------------------\n",
    "\n",
    "folder.ERA5.Land <- \"data/curation/ERA5-Land/\"\n",
    "\n",
    "# Relative Humidity\n",
    "load(paste(folder.ERA5.Land,\n",
    "           \"rh_daily_2010_2020_final_stations.rda\", sep=\"\"))\n",
    "\n",
    "rh.ERA5.Land <- data.as.datetime(df, \"dates\", \"ymd\") %>%\n",
    "                    add_column(variable=\"RH\", .after=\"dates\")\n",
    "\n",
    "# Solar radiation\n",
    "load(paste(folder.ERA5.Land, \n",
    "           \"ssrd_daily_2010_2020_final_stations.rda\", sep=\"\"))\n",
    "\n",
    "ssrd.ERA5.Land <- data.as.datetime(df, \"dates\", \"ymd\") %>%\n",
    "                    add_column(variable=\"solar.radiation\", .after=\"dates\")\n",
    "\n",
    "ERA5.Land <- rbind(rh.ERA5.Land, ssrd.ERA5.Land)"
   ]
  },
  {
   "cell_type": "markdown",
   "metadata": {},
   "source": [
    "## Merge Process"
   ]
  },
  {
   "cell_type": "code",
   "execution_count": 25,
   "metadata": {},
   "outputs": [],
   "source": [
    "# Folder wherever take downloaded data, if it exists\n",
    "Mto.files <- \"data/curation/\"\n",
    "\n",
    "data_Mto <- data.frame()"
   ]
  },
  {
   "cell_type": "code",
   "execution_count": 27,
   "metadata": {},
   "outputs": [],
   "source": [
    "for (st in levels(nn.stations$siteAQ)) {\n",
    "    \n",
    "    if (st %in% names(ERA5.Land)) {\n",
    "\n",
    "        code <- nn.stations[nn.stations$siteAQ == st, \"NOAA\"]\n",
    "\n",
    "        data.NOAA <- read.csv(paste(Mto.files, \"NOAA-ISD/\",\n",
    "                                     code, \".csv\", sep=\"\"), stringsAsFactor=F) %>%\n",
    "                        data.as.datetime(\"date\", \"ymd\") %>%\n",
    "                        select(-\"code\")\n",
    "\n",
    "        indicativo <- nn.stations[nn.stations$siteAQ == st, \"AEMET\"]\n",
    "\n",
    "        data.AEMET <- read.csv(paste(Mto.files, \"AEMET/\",\n",
    "                                     indicativo, \".csv\", sep=\"\"), stringsAsFactor=F) %>%\n",
    "                        data.as.datetime(\"fecha\", \"ymd\") %>%\n",
    "                        select(\"fecha\", \"tmed\", \"prec\", \n",
    "                               \"tmin\", \"tmax\", \"presMax\", \"presMin\"\n",
    "                               )\n",
    "\n",
    "        data.row <- merge(x = data.NOAA, y = data.AEMET,\n",
    "                            by.x = \"date\", by.y = \"fecha\", all = TRUE)\n",
    "\n",
    "        for (vr in levels(as.factor(ERA5.Land$variable))) {\n",
    "            data.row <- merge(x = data.row, \n",
    "                              y = ERA5.Land[ERA5.Land$variable == vr,\n",
    "                                            c(\"dates\", st)],\n",
    "                              by.x = \"date\", by.y = \"dates\", all.x = TRUE\n",
    "                             )\n",
    "            names(data.row)[ncol(data.row)] <- vr\n",
    "        }\n",
    "\n",
    "        data.row[, \"site\"] <- st\n",
    "        data_Mto <- rbind(data_Mto, data.row)\n",
    "    }\n",
    "}\n",
    "\n",
    "head(data.row)"
   ]
  }
 ],
 "metadata": {
  "kernelspec": {
   "display_name": "R",
   "language": "R",
   "name": "ir"
  },
  "language_info": {
   "codemirror_mode": "r",
   "file_extension": ".r",
   "mimetype": "text/x-r-source",
   "name": "R",
   "pygments_lexer": "r",
   "version": "3.6.3"
  }
 },
 "nbformat": 4,
 "nbformat_minor": 4
}
