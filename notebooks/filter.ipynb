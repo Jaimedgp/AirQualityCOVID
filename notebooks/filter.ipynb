{
 "cells": [
  {
   "cell_type": "code",
   "execution_count": 2,
   "metadata": {},
   "outputs": [],
   "source": [
    "# Loading\n",
    "suppressMessages(library(saqgetr))\n",
    "suppressMessages(library(tidyverse))\n",
    "suppressMessages(library(lubridate))\n",
    "suppressMessages(library(worldmet))\n",
    "suppressMessages(library(openxlsx))"
   ]
  },
  {
   "cell_type": "code",
   "execution_count": 3,
   "metadata": {},
   "outputs": [],
   "source": [
    "# contaminantes a estudiar\n",
    "pollutants <- c(\"no\", \"no2\", \"o3\", \"pm10\", \"pm2.5\")\n",
    "\n",
    "# fechas de inicio y final de toma de datos\n",
    "start_dt <- ymd_hms(\"2013-01-01 00:00:00\")\n",
    "end_dt <- ymd_hms(\"2020-12-01 00:00:00\")\n",
    "\n",
    "# Archivos de los datos\n",
    "# NO SE TRABAJA CON ARCHIVOS\n",
    "sitesAQ.fl = NULL# \"../data/csv/sitesAQ.csv\"                                           \n",
    "dataAQ.fl = NULL# \"../data/csv/dataAQ.csv\"\n",
    "\n",
    "sitesMto.fl = NULL# \"../data/csv/sitesMto.csv\"                                         \n",
    "dataMto.fl = NULL# \"../data/csv/dataMto.csv\"                                          \n",
    "years = 2010:2020\n",
    "\n",
    "final.fl = NULL# \"../data/csv/nn_sites.csv\"\n",
    "\n",
    "# Guardar los datos de la calidad del aire\n",
    "save.data = FALSE\n",
    "\n",
    "# Tabla resumen de los filtros aplicados\n",
    "resum.table <- vector(mode=\"list\")"
   ]
  },
  {
   "cell_type": "code",
   "execution_count": 4,
   "metadata": {},
   "outputs": [],
   "source": [
    "file <- \"../data/xlsx/estaciones-CA-JA.xlsx\"\n",
    "sheets <- c(\"todas\", \"traffic\", \"traffic-urban\", \"traffic-urban-2020\",\n",
    "            \"traffic-suburban\", \"traffic-suburban-2020\",\n",
    "            \"ciudades-100000\", \"ciudades-100000-A\")\n",
    "# xlsx files\n",
    "sites.100mil <- read.xlsx(file, sheet=sheets[8])"
   ]
  },
  {
   "cell_type": "code",
   "execution_count": 11,
   "metadata": {},
   "outputs": [],
   "source": [
    "# obtener datos de CA de España. Salen los códigos de las estaciones\n",
    "# de Calidad de aire (941)\n",
    "spain.sites <- get_saq_sites() %>%\n",
    "    filter(country == \"spain\",\n",
    "           site %in% sites.100mil$\"Código.estación\",\n",
    "           #site_type == \"traffic\",\n",
    "           #site_area == \"urban\",\n",
    "           date_start <= start_dt,\n",
    "           #date_end >= end_dt,\n",
    "           ) %>%\n",
    "    select(site, site_name, latitude, longitude, elevation, \n",
    "           country, site_type, site_area, date_start, date_end)"
   ]
  },
  {
   "cell_type": "code",
   "execution_count": 17,
   "metadata": {},
   "outputs": [
    {
     "data": {
      "text/html": [
       "<table>\n",
       "<caption>A data.frame: 7 × 3</caption>\n",
       "<thead>\n",
       "\t<tr><th></th><th scope=col>Estación.tráfico</th><th scope=col>Municipio</th><th scope=col>Código.estación</th></tr>\n",
       "\t<tr><th></th><th scope=col>&lt;chr&gt;</th><th scope=col>&lt;chr&gt;</th><th scope=col>&lt;chr&gt;</th></tr>\n",
       "</thead>\n",
       "<tbody>\n",
       "\t<tr><th scope=row>15</th><td>Avenida Al Nasir</td><td>Córdoba      </td><td>es2047a</td></tr>\n",
       "\t<tr><th scope=row>17</th><td>Getafe          </td><td>Getafe       </td><td>es2028a</td></tr>\n",
       "\t<tr><th scope=row>50</th><td>Easo            </td><td>San Sebastián</td><td>es2101a</td></tr>\n",
       "\t<tr><th scope=row>66</th><td>VALLADOLID SUR  </td><td>Valladolid   </td><td>es2042a</td></tr>\n",
       "\t<tr><th scope=row>70</th><td>LOPE DE VEGA    </td><td>Vigo         </td><td>es2063a</td></tr>\n",
       "\t<tr><th scope=row>78</th><td>AVENIDA SORIA   </td><td>Zaragoza     </td><td>es2064a</td></tr>\n",
       "\t<tr><th scope=row>79</th><td>NA              </td><td>NA           </td><td>NA     </td></tr>\n",
       "</tbody>\n",
       "</table>\n"
      ],
      "text/latex": [
       "A data.frame: 7 × 3\n",
       "\\begin{tabular}{r|lll}\n",
       "  & Estación.tráfico & Municipio & Código.estación\\\\\n",
       "  & <chr> & <chr> & <chr>\\\\\n",
       "\\hline\n",
       "\t15 & Avenida Al Nasir & Córdoba       & es2047a\\\\\n",
       "\t17 & Getafe           & Getafe        & es2028a\\\\\n",
       "\t50 & Easo             & San Sebastián & es2101a\\\\\n",
       "\t66 & VALLADOLID SUR   & Valladolid    & es2042a\\\\\n",
       "\t70 & LOPE DE VEGA     & Vigo          & es2063a\\\\\n",
       "\t78 & AVENIDA SORIA    & Zaragoza      & es2064a\\\\\n",
       "\t79 & NA               & NA            & NA     \\\\\n",
       "\\end{tabular}\n"
      ],
      "text/markdown": [
       "\n",
       "A data.frame: 7 × 3\n",
       "\n",
       "| <!--/--> | Estación.tráfico &lt;chr&gt; | Municipio &lt;chr&gt; | Código.estación &lt;chr&gt; |\n",
       "|---|---|---|---|\n",
       "| 15 | Avenida Al Nasir | Córdoba       | es2047a |\n",
       "| 17 | Getafe           | Getafe        | es2028a |\n",
       "| 50 | Easo             | San Sebastián | es2101a |\n",
       "| 66 | VALLADOLID SUR   | Valladolid    | es2042a |\n",
       "| 70 | LOPE DE VEGA     | Vigo          | es2063a |\n",
       "| 78 | AVENIDA SORIA    | Zaragoza      | es2064a |\n",
       "| 79 | NA               | NA            | NA      |\n",
       "\n"
      ],
      "text/plain": [
       "   Estación.tráfico Municipio     Código.estación\n",
       "15 Avenida Al Nasir Córdoba       es2047a        \n",
       "17 Getafe           Getafe        es2028a        \n",
       "50 Easo             San Sebastián es2101a        \n",
       "66 VALLADOLID SUR   Valladolid    es2042a        \n",
       "70 LOPE DE VEGA     Vigo          es2063a        \n",
       "78 AVENIDA SORIA    Zaragoza      es2064a        \n",
       "79 NA               NA            NA             "
      ]
     },
     "metadata": {},
     "output_type": "display_data"
    }
   ],
   "source": [
    "sites.100mil[!(sites.100mil$\"Código.estación\" %in% spain.sites$site), c(\"Estación.tráfico\", \"Municipio\", \"Código.estación\")]"
   ]
  },
  {
   "cell_type": "code",
   "execution_count": null,
   "metadata": {},
   "outputs": [],
   "source": []
  }
 ],
 "metadata": {
  "kernelspec": {
   "display_name": "R",
   "language": "R",
   "name": "ir"
  },
  "language_info": {
   "codemirror_mode": "r",
   "file_extension": ".r",
   "mimetype": "text/x-r-source",
   "name": "R",
   "pygments_lexer": "r",
   "version": "4.0.3"
  }
 },
 "nbformat": 4,
 "nbformat_minor": 4
}
