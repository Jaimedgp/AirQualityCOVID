{
 "cells": [
  {
   "cell_type": "markdown",
   "metadata": {},
   "source": [
    "# Resumen de la informacion relevante de cada estacion\n",
    "\n",
    "El objetivo de este codigo es obtener una tabla resumen con la relacion n-n entre estaciones de calidad del aire y meteorologicas que ademas muestre cuanta informacion relevante aporta cada estacion. A partir de dicha tabla se espera decidir que estaciones aportan mas datos al estudio.\n",
    "\n",
    "PUESTO QUE SE TRATA DE UNA GRAN CANTIDAD DE DATOS Y REALIZAR TODA LA EJECUCION LLEVARIA DEMASIADO TIEMPO, EN ESTE NOTEBOOK SE TRABAJA SOLO CON 3 ESTACIONES DE CALIDAD DEL AIRE Y EN NINGUN MOMENTO SE ESCRIBE NI LEE DE LOS ARCHIVOS (aunque el codigo se encuentra disponible en formato Markdown).\n",
    "\n",
    "> [ESTACIONES DE CALIDAD DEL AIRE](#sitesAQ)\n",
    ">\n",
    ">    * [Configuracion del notebook](#config)\n",
    ">    \n",
    ">    * [Estaciones de españa](#espanha)\n",
    ">\n",
    ">         1) [Datos de las estaciones de ```saqgetr```](#estacionesSaqgetr)\n",
    ">\n",
    ">         2)[Datos geograficos de las estaciones](#estacionGeo)\n",
    ">\n",
    ">    * [Estudio de los Datos de las Estaciones](#stdio)\n",
    ">\n",
    ">    * [Guardar datos en csv](#saveAQ)\n",
    ">\n",
    "> [ESTACIONES DE LA AEMET](#sitesMto)\n",
    ">\n",
    ">    * [Guardar datos en csv](#saveMto)\n",
    ">\n",
    "> [INFORMACION RELEVANTE](#countdata)\n",
    ">\n",
    ">    * [Obtener los datos de Calidad del Aire](#getAQ)\n",
    ">\n",
    ">    * [Contar valores de Calidad del Aire](#countAQ)\n",
    ">\n",
    ">    * [Contar valores de Calidad del Aire](#countAQ)\n",
    ">\n",
    ">    * [Contar valores Meteorologicos](#countMto)\n",
    ">\n",
    ">    * [Agrupar todos los datos principales](#groupAll)\n"
   ]
  },
  {
   "cell_type": "markdown",
   "metadata": {},
   "source": [
    "---\n",
    "---"
   ]
  },
  {
   "cell_type": "markdown",
   "metadata": {},
   "source": [
    "## ESTACIONES DE CALIDAD DEL AIRE <a id=\"sitesAQ\"></a>"
   ]
  },
  {
   "cell_type": "markdown",
   "metadata": {},
   "source": [
    "### Configuracion del notebook <a id=\"config\"></a>"
   ]
  },
  {
   "cell_type": "markdown",
   "metadata": {},
   "source": [
    "Cargamos todos los paquetes necesarios para ejecutar el notebook"
   ]
  },
  {
   "cell_type": "code",
   "execution_count": 1,
   "metadata": {},
   "outputs": [],
   "source": [
    "# Loading\n",
    "suppressMessages(library(saqgetr))\n",
    "suppressMessages(library(tidyverse))\n",
    "suppressMessages(library(lubridate))\n",
    "suppressMessages(library(worldmet))\n",
    "suppressMessages(library(readxl))"
   ]
  },
  {
   "cell_type": "markdown",
   "metadata": {},
   "source": [
    "## Parametros de los datos <a id=\"param\"></a>"
   ]
  },
  {
   "cell_type": "code",
   "execution_count": 2,
   "metadata": {},
   "outputs": [],
   "source": [
    "# contaminantes a estudiar\n",
    "pollutants <- c(\"no\", \"no2\", \"o3\", \"pm10\")\n",
    "\n",
    "# fechas de inicio y final de toma de datos\n",
    "start_dt <- ymd_hms(\"2015-01-01 00:00:00\")\n",
    "end_dt <- ymd_hms(\"2020-10-01 00:00:00\")\n",
    "\n",
    "# fecha de inicio de confinamiento\n",
    "lckdwn_strt <- ymd_hms(\"2020-03-14 00:00:00\")\n",
    "\n",
    "# Archivos de los datos\n",
    "# NO SE TRABAJA CON ARCHIVOS\n",
    "sitesAQ.fl = NULL# \"../data/csv/sitesAQ.csv\"                                           \n",
    "dataAQ.fl = NULL# \"../data/csv/dataAQ.csv\"\n",
    "\n",
    "sitesMto.fl = NULL# \"../data/csv/sitesMto.csv\"                                         \n",
    "dataMto.fl = NULL# \"../data/csv/dataMto.csv\"                                          \n",
    "years = 2010:2020\n",
    "\n",
    "final.fl = NULL# \"../data/csv/nn_sites.csv\"\n",
    "\n",
    "# Guardar los datos de la calidad del aire\n",
    "save.data = FALSE"
   ]
  },
  {
   "cell_type": "markdown",
   "metadata": {},
   "source": [
    "### Estaciones de España <a id=\"espanha\"></a>"
   ]
  },
  {
   "cell_type": "markdown",
   "metadata": {},
   "source": [
    "#### Datos geograficos de las estaciones <a id=\"estacionGeo\"></a>\n",
    "\n",
    "Seleccionamos aquellas estaciones que se encuentren en un núcleo con una\n",
    "población mayor o igual a cien mil habitantes `poblacion >= 100 000 hab`.\n",
    "\n",
    "En la hoja 8 `ciudades-100000-A-JA` de la base de datos de poblaciones (`estaciones-CA.xlsx`) aparecen todas las estaciones de trafico de las ciudades de mas de 100000 habitantes con sus nombres."
   ]
  },
  {
   "cell_type": "code",
   "execution_count": 3,
   "metadata": {},
   "outputs": [],
   "source": [
    "file <- \"../data/xlsx/estaciones-CA-JA.xlsx\"\n",
    "sheets <- c(\"todas\", \"traffic\", \"traffic-urban\", \"traffic-urban-2020\",\n",
    "            \"traffic-suburban\", \"traffic-suburban-2020\",\n",
    "            \"ciudades-100000\", \"ciudades-100000-A\")\n",
    "# xlsx files\n",
    "sites.100mil <- read_excel(file, sheet=sheets[8])"
   ]
  },
  {
   "cell_type": "code",
   "execution_count": 4,
   "metadata": {},
   "outputs": [
    {
     "data": {
      "text/html": [
       "<table>\n",
       "<caption>A tibble: 6 × 7</caption>\n",
       "<thead>\n",
       "\t<tr><th scope=col>Municipio</th><th scope=col>Población</th><th scope=col>Estación tráfico</th><th scope=col>Código estación</th><th scope=col>Nº estaciones Ecolog</th><th scope=col>Nº estaciones tráfico</th><th scope=col>Observaciones</th></tr>\n",
       "\t<tr><th scope=col>&lt;chr&gt;</th><th scope=col>&lt;dbl&gt;</th><th scope=col>&lt;chr&gt;</th><th scope=col>&lt;chr&gt;</th><th scope=col>&lt;dbl&gt;</th><th scope=col>&lt;dbl&gt;</th><th scope=col>&lt;chr&gt;</th></tr>\n",
       "</thead>\n",
       "<tbody>\n",
       "\t<tr><td>A Coruña         </td><td>245711</td><td>CORLAB 1         </td><td>es1138a</td><td>4</td><td>1</td><td>Es Riazor o Santa Margarida, revisar. Datos sólo hasta 2018. REVISAR</td></tr>\n",
       "\t<tr><td>Alcalá de Henares</td><td>195649</td><td>Alcalá de Henares</td><td>es1563a</td><td>0</td><td>1</td><td>NA                                                                  </td></tr>\n",
       "\t<tr><td>Alcobendas       </td><td>117040</td><td>Alcobendas       </td><td>es1564a</td><td>0</td><td>1</td><td>NA                                                                  </td></tr>\n",
       "\t<tr><td>Alicante         </td><td>334887</td><td>Florida-Babel    </td><td>es1915a</td><td>3</td><td>1</td><td>Urban background. Not traffic                                       </td></tr>\n",
       "\t<tr><td>Alicante         </td><td>334888</td><td>ALACANT-EL PLÁ   </td><td>es1635a</td><td>3</td><td>1</td><td>Esta es de tráfico                                                  </td></tr>\n",
       "\t<tr><td>Almería          </td><td>198533</td><td>MEDITERRÁNEO     </td><td>es1393a</td><td>0</td><td>1</td><td>NA                                                                  </td></tr>\n",
       "</tbody>\n",
       "</table>\n"
      ],
      "text/latex": [
       "A tibble: 6 × 7\n",
       "\\begin{tabular}{lllllll}\n",
       " Municipio & Población & Estación tráfico & Código estación & Nº estaciones Ecolog & Nº estaciones tráfico & Observaciones\\\\\n",
       " <chr> & <dbl> & <chr> & <chr> & <dbl> & <dbl> & <chr>\\\\\n",
       "\\hline\n",
       "\t A Coruña          & 245711 & CORLAB 1          & es1138a & 4 & 1 & Es Riazor o Santa Margarida, revisar. Datos sólo hasta 2018. REVISAR\\\\\n",
       "\t Alcalá de Henares & 195649 & Alcalá de Henares & es1563a & 0 & 1 & NA                                                                  \\\\\n",
       "\t Alcobendas        & 117040 & Alcobendas        & es1564a & 0 & 1 & NA                                                                  \\\\\n",
       "\t Alicante          & 334887 & Florida-Babel     & es1915a & 3 & 1 & Urban background. Not traffic                                       \\\\\n",
       "\t Alicante          & 334888 & ALACANT-EL PLÁ    & es1635a & 3 & 1 & Esta es de tráfico                                                  \\\\\n",
       "\t Almería           & 198533 & MEDITERRÁNEO      & es1393a & 0 & 1 & NA                                                                  \\\\\n",
       "\\end{tabular}\n"
      ],
      "text/markdown": [
       "\n",
       "A tibble: 6 × 7\n",
       "\n",
       "| Municipio &lt;chr&gt; | Población &lt;dbl&gt; | Estación tráfico &lt;chr&gt; | Código estación &lt;chr&gt; | Nº estaciones Ecolog &lt;dbl&gt; | Nº estaciones tráfico &lt;dbl&gt; | Observaciones &lt;chr&gt; |\n",
       "|---|---|---|---|---|---|---|\n",
       "| A Coruña          | 245711 | CORLAB 1          | es1138a | 4 | 1 | Es Riazor o Santa Margarida, revisar. Datos sólo hasta 2018. REVISAR |\n",
       "| Alcalá de Henares | 195649 | Alcalá de Henares | es1563a | 0 | 1 | NA                                                                   |\n",
       "| Alcobendas        | 117040 | Alcobendas        | es1564a | 0 | 1 | NA                                                                   |\n",
       "| Alicante          | 334887 | Florida-Babel     | es1915a | 3 | 1 | Urban background. Not traffic                                        |\n",
       "| Alicante          | 334888 | ALACANT-EL PLÁ    | es1635a | 3 | 1 | Esta es de tráfico                                                   |\n",
       "| Almería           | 198533 | MEDITERRÁNEO      | es1393a | 0 | 1 | NA                                                                   |\n",
       "\n"
      ],
      "text/plain": [
       "  Municipio         Población Estación tráfico  Código estación\n",
       "1 A Coruña          245711    CORLAB 1          es1138a        \n",
       "2 Alcalá de Henares 195649    Alcalá de Henares es1563a        \n",
       "3 Alcobendas        117040    Alcobendas        es1564a        \n",
       "4 Alicante          334887    Florida-Babel     es1915a        \n",
       "5 Alicante          334888    ALACANT-EL PLÁ    es1635a        \n",
       "6 Almería           198533    MEDITERRÁNEO      es1393a        \n",
       "  Nº estaciones Ecolog Nº estaciones tráfico\n",
       "1 4                    1                    \n",
       "2 0                    1                    \n",
       "3 0                    1                    \n",
       "4 3                    1                    \n",
       "5 3                    1                    \n",
       "6 0                    1                    \n",
       "  Observaciones                                                       \n",
       "1 Es Riazor o Santa Margarida, revisar. Datos sólo hasta 2018. REVISAR\n",
       "2 NA                                                                  \n",
       "3 NA                                                                  \n",
       "4 Urban background. Not traffic                                       \n",
       "5 Esta es de tráfico                                                  \n",
       "6 NA                                                                  "
      ]
     },
     "metadata": {},
     "output_type": "display_data"
    }
   ],
   "source": [
    "head(sites.100mil)"
   ]
  },
  {
   "cell_type": "markdown",
   "metadata": {},
   "source": [
    "#### Datos de las estaciones de `saqgetr` <a id=\"estacionesSaqgetr\"></a>\n",
    "\n",
    "Importamos la informacion de las estaciones de calidad de aire de españa obtenidas de la base de datos y filtramos segun los criterios de estudio.\n",
    "\n",
    "| Variable | Valores |\n",
    "|-------|-----------|\n",
    "|Contaminantes| $NO$, $NO_2$, $O_3$, $PM_{10}$|\n",
    "|Fecha Inicio| 01 Enero 2015 |\n",
    "|Fecha Final | 31 Diciembre 2020 |\n",
    "| Site Type | traffic |\n",
    "|site area | urban |"
   ]
  },
  {
   "cell_type": "code",
   "execution_count": 5,
   "metadata": {},
   "outputs": [],
   "source": [
    "# obtener datos de CA de España. Salen los códigos de las estaciones\n",
    "# de Calidad de aire (941)\n",
    "spain.sites <- get_saq_sites() %>%\n",
    "    filter(country == \"spain\",\n",
    "           site %in% sites.100mil$\"Código estación\",\n",
    "           site_type == \"traffic\",\n",
    "           site_area == \"urban\",\n",
    "           date_start <= start_dt,\n",
    "           date_end >= end_dt,\n",
    "           ) %>%\n",
    "    select(site, site_name, latitude, longitude, elevation, \n",
    "           country, site_type, site_area, date_start, date_end)"
   ]
  },
  {
   "cell_type": "code",
   "execution_count": 6,
   "metadata": {},
   "outputs": [],
   "source": [
    "# SOLO SE TRABAJA CON 3 ESTACIONES DE CALIDAD DEL AIRE\n",
    "spain.sites <- spain.sites[1:3, ]"
   ]
  },
  {
   "cell_type": "code",
   "execution_count": 7,
   "metadata": {},
   "outputs": [
    {
     "name": "stdout",
     "output_type": "stream",
     "text": [
      "[1] \"Se han eliminado 76 estaciones\"\n",
      "[1] \"Quedan 3 estaciones para el estudio\"\n"
     ]
    }
   ],
   "source": [
    "removed.sites <- nrow(sites.100mil) - nrow(spain.sites)\n",
    "\n",
    "print(paste(\"Se han eliminado\", removed.sites, \"estaciones\"))\n",
    "print(paste(\"Quedan\", nrow(spain.sites), \"estaciones para el estudio\"))"
   ]
  },
  {
   "cell_type": "markdown",
   "metadata": {},
   "source": [
    "Agrupamos en un solo data.frame toda la informacion relevante de las estaciones de estudio"
   ]
  },
  {
   "cell_type": "code",
   "execution_count": 8,
   "metadata": {},
   "outputs": [],
   "source": [
    "sites.info <- get_saq_processes() %>%\n",
    "    filter(site %in% spain.sites$site,\n",
    "           variable %in% pollutants,\n",
    "           date_start <= start_dt,\n",
    "           #date_end >= end_dt,\n",
    "          ) %>%\n",
    "    select(process, site, variable, variable_long, \n",
    "           period, unit, observation_count\n",
    "          )\n",
    "\n",
    "sites.geo <- sites.100mil %>%\n",
    "    select(\"Municipio\", \"Población\", \n",
    "           \"Estación tráfico\", \"Código estación\") %>%\n",
    "    rename(site = \"Código estación\",)\n",
    "\n",
    "sitesAQ <- merge(x = sites.info, y = sites.geo, by = \"site\", all.x = TRUE)\n",
    "sitesAQ <- merge(x = sitesAQ, y = spain.sites, by = \"site\", all.x = TRUE)"
   ]
  },
  {
   "cell_type": "code",
   "execution_count": 9,
   "metadata": {},
   "outputs": [],
   "source": [
    "# Convert charactes into factors\n",
    "sitesAQ <- mutate_if(sitesAQ, is.character, as.factor)"
   ]
  },
  {
   "cell_type": "code",
   "execution_count": 10,
   "metadata": {},
   "outputs": [
    {
     "data": {
      "text/html": [
       "<table>\n",
       "<caption>A data.frame: 6 × 19</caption>\n",
       "<thead>\n",
       "\t<tr><th></th><th scope=col>site</th><th scope=col>process</th><th scope=col>variable</th><th scope=col>variable_long</th><th scope=col>period</th><th scope=col>unit</th><th scope=col>observation_count</th><th scope=col>Municipio</th><th scope=col>Población</th><th scope=col>Estación tráfico</th><th scope=col>site_name</th><th scope=col>latitude</th><th scope=col>longitude</th><th scope=col>elevation</th><th scope=col>country</th><th scope=col>site_type</th><th scope=col>site_area</th><th scope=col>date_start</th><th scope=col>date_end</th></tr>\n",
       "\t<tr><th></th><th scope=col>&lt;fct&gt;</th><th scope=col>&lt;int&gt;</th><th scope=col>&lt;fct&gt;</th><th scope=col>&lt;fct&gt;</th><th scope=col>&lt;fct&gt;</th><th scope=col>&lt;fct&gt;</th><th scope=col>&lt;dbl&gt;</th><th scope=col>&lt;fct&gt;</th><th scope=col>&lt;dbl&gt;</th><th scope=col>&lt;fct&gt;</th><th scope=col>&lt;fct&gt;</th><th scope=col>&lt;dbl&gt;</th><th scope=col>&lt;dbl&gt;</th><th scope=col>&lt;dbl&gt;</th><th scope=col>&lt;fct&gt;</th><th scope=col>&lt;fct&gt;</th><th scope=col>&lt;fct&gt;</th><th scope=col>&lt;dttm&gt;</th><th scope=col>&lt;dttm&gt;</th></tr>\n",
       "</thead>\n",
       "<tbody>\n",
       "\t<tr><th scope=row>1</th><td>es0041a</td><td>31140</td><td>no2</td><td>Nitrogen dioxide (air)</td><td>day  </td><td>ug.m-3</td><td>  151</td><td>Bilbao</td><td>346843</td><td>María Diaz de Haro</td><td>DIRECCIÓN DE SALUD</td><td>43.25883</td><td>-2.94565</td><td>32</td><td>spain</td><td>traffic</td><td>urban</td><td>1986-04-01</td><td>2021-01-15 23:00:00</td></tr>\n",
       "\t<tr><th scope=row>2</th><td>es0110a</td><td>31281</td><td>o3 </td><td>Ozone (air)           </td><td>day  </td><td>ug.m-3</td><td> 4092</td><td>Bilbao</td><td> 24350</td><td>Erandio           </td><td>ERANDIO           </td><td>43.30268</td><td>-2.97724</td><td> 4</td><td>spain</td><td>traffic</td><td>urban</td><td>1997-01-01</td><td>2021-01-15 23:00:00</td></tr>\n",
       "\t<tr><th scope=row>3</th><td>es0110a</td><td>31282</td><td>o3 </td><td>Ozone (air)           </td><td>dymax</td><td>ug.m-3</td><td> 4095</td><td>Bilbao</td><td> 24350</td><td>Erandio           </td><td>ERANDIO           </td><td>43.30268</td><td>-2.97724</td><td> 4</td><td>spain</td><td>traffic</td><td>urban</td><td>1997-01-01</td><td>2021-01-15 23:00:00</td></tr>\n",
       "\t<tr><th scope=row>4</th><td>es0110a</td><td>31283</td><td>o3 </td><td>Ozone (air)           </td><td>hour </td><td>ug.m-3</td><td>94149</td><td>Bilbao</td><td> 24350</td><td>Erandio           </td><td>ERANDIO           </td><td>43.30268</td><td>-2.97724</td><td> 4</td><td>spain</td><td>traffic</td><td>urban</td><td>1997-01-01</td><td>2021-01-15 23:00:00</td></tr>\n",
       "\t<tr><th scope=row>5</th><td>es0110a</td><td>31284</td><td>o3 </td><td>Ozone (air)           </td><td>hour8</td><td>ug.m-3</td><td>97891</td><td>Bilbao</td><td> 24350</td><td>Erandio           </td><td>ERANDIO           </td><td>43.30268</td><td>-2.97724</td><td> 4</td><td>spain</td><td>traffic</td><td>urban</td><td>1997-01-01</td><td>2021-01-15 23:00:00</td></tr>\n",
       "\t<tr><th scope=row>6</th><td>es0110a</td><td>31285</td><td>no2</td><td>Nitrogen dioxide (air)</td><td>day  </td><td>ug.m-3</td><td> 5324</td><td>Bilbao</td><td> 24350</td><td>Erandio           </td><td>ERANDIO           </td><td>43.30268</td><td>-2.97724</td><td> 4</td><td>spain</td><td>traffic</td><td>urban</td><td>1997-01-01</td><td>2021-01-15 23:00:00</td></tr>\n",
       "</tbody>\n",
       "</table>\n"
      ],
      "text/latex": [
       "A data.frame: 6 × 19\n",
       "\\begin{tabular}{r|lllllllllllllllllll}\n",
       "  & site & process & variable & variable\\_long & period & unit & observation\\_count & Municipio & Población & Estación tráfico & site\\_name & latitude & longitude & elevation & country & site\\_type & site\\_area & date\\_start & date\\_end\\\\\n",
       "  & <fct> & <int> & <fct> & <fct> & <fct> & <fct> & <dbl> & <fct> & <dbl> & <fct> & <fct> & <dbl> & <dbl> & <dbl> & <fct> & <fct> & <fct> & <dttm> & <dttm>\\\\\n",
       "\\hline\n",
       "\t1 & es0041a & 31140 & no2 & Nitrogen dioxide (air) & day   & ug.m-3 &   151 & Bilbao & 346843 & María Diaz de Haro & DIRECCIÓN DE SALUD & 43.25883 & -2.94565 & 32 & spain & traffic & urban & 1986-04-01 & 2021-01-15 23:00:00\\\\\n",
       "\t2 & es0110a & 31281 & o3  & Ozone (air)            & day   & ug.m-3 &  4092 & Bilbao &  24350 & Erandio            & ERANDIO            & 43.30268 & -2.97724 &  4 & spain & traffic & urban & 1997-01-01 & 2021-01-15 23:00:00\\\\\n",
       "\t3 & es0110a & 31282 & o3  & Ozone (air)            & dymax & ug.m-3 &  4095 & Bilbao &  24350 & Erandio            & ERANDIO            & 43.30268 & -2.97724 &  4 & spain & traffic & urban & 1997-01-01 & 2021-01-15 23:00:00\\\\\n",
       "\t4 & es0110a & 31283 & o3  & Ozone (air)            & hour  & ug.m-3 & 94149 & Bilbao &  24350 & Erandio            & ERANDIO            & 43.30268 & -2.97724 &  4 & spain & traffic & urban & 1997-01-01 & 2021-01-15 23:00:00\\\\\n",
       "\t5 & es0110a & 31284 & o3  & Ozone (air)            & hour8 & ug.m-3 & 97891 & Bilbao &  24350 & Erandio            & ERANDIO            & 43.30268 & -2.97724 &  4 & spain & traffic & urban & 1997-01-01 & 2021-01-15 23:00:00\\\\\n",
       "\t6 & es0110a & 31285 & no2 & Nitrogen dioxide (air) & day   & ug.m-3 &  5324 & Bilbao &  24350 & Erandio            & ERANDIO            & 43.30268 & -2.97724 &  4 & spain & traffic & urban & 1997-01-01 & 2021-01-15 23:00:00\\\\\n",
       "\\end{tabular}\n"
      ],
      "text/markdown": [
       "\n",
       "A data.frame: 6 × 19\n",
       "\n",
       "| <!--/--> | site &lt;fct&gt; | process &lt;int&gt; | variable &lt;fct&gt; | variable_long &lt;fct&gt; | period &lt;fct&gt; | unit &lt;fct&gt; | observation_count &lt;dbl&gt; | Municipio &lt;fct&gt; | Población &lt;dbl&gt; | Estación tráfico &lt;fct&gt; | site_name &lt;fct&gt; | latitude &lt;dbl&gt; | longitude &lt;dbl&gt; | elevation &lt;dbl&gt; | country &lt;fct&gt; | site_type &lt;fct&gt; | site_area &lt;fct&gt; | date_start &lt;dttm&gt; | date_end &lt;dttm&gt; |\n",
       "|---|---|---|---|---|---|---|---|---|---|---|---|---|---|---|---|---|---|---|---|\n",
       "| 1 | es0041a | 31140 | no2 | Nitrogen dioxide (air) | day   | ug.m-3 |   151 | Bilbao | 346843 | María Diaz de Haro | DIRECCIÓN DE SALUD | 43.25883 | -2.94565 | 32 | spain | traffic | urban | 1986-04-01 | 2021-01-15 23:00:00 |\n",
       "| 2 | es0110a | 31281 | o3  | Ozone (air)            | day   | ug.m-3 |  4092 | Bilbao |  24350 | Erandio            | ERANDIO            | 43.30268 | -2.97724 |  4 | spain | traffic | urban | 1997-01-01 | 2021-01-15 23:00:00 |\n",
       "| 3 | es0110a | 31282 | o3  | Ozone (air)            | dymax | ug.m-3 |  4095 | Bilbao |  24350 | Erandio            | ERANDIO            | 43.30268 | -2.97724 |  4 | spain | traffic | urban | 1997-01-01 | 2021-01-15 23:00:00 |\n",
       "| 4 | es0110a | 31283 | o3  | Ozone (air)            | hour  | ug.m-3 | 94149 | Bilbao |  24350 | Erandio            | ERANDIO            | 43.30268 | -2.97724 |  4 | spain | traffic | urban | 1997-01-01 | 2021-01-15 23:00:00 |\n",
       "| 5 | es0110a | 31284 | o3  | Ozone (air)            | hour8 | ug.m-3 | 97891 | Bilbao |  24350 | Erandio            | ERANDIO            | 43.30268 | -2.97724 |  4 | spain | traffic | urban | 1997-01-01 | 2021-01-15 23:00:00 |\n",
       "| 6 | es0110a | 31285 | no2 | Nitrogen dioxide (air) | day   | ug.m-3 |  5324 | Bilbao |  24350 | Erandio            | ERANDIO            | 43.30268 | -2.97724 |  4 | spain | traffic | urban | 1997-01-01 | 2021-01-15 23:00:00 |\n",
       "\n"
      ],
      "text/plain": [
       "  site    process variable variable_long          period unit  \n",
       "1 es0041a 31140   no2      Nitrogen dioxide (air) day    ug.m-3\n",
       "2 es0110a 31281   o3       Ozone (air)            day    ug.m-3\n",
       "3 es0110a 31282   o3       Ozone (air)            dymax  ug.m-3\n",
       "4 es0110a 31283   o3       Ozone (air)            hour   ug.m-3\n",
       "5 es0110a 31284   o3       Ozone (air)            hour8  ug.m-3\n",
       "6 es0110a 31285   no2      Nitrogen dioxide (air) day    ug.m-3\n",
       "  observation_count Municipio Población Estación tráfico   site_name         \n",
       "1   151             Bilbao    346843    María Diaz de Haro DIRECCIÓN DE SALUD\n",
       "2  4092             Bilbao     24350    Erandio            ERANDIO           \n",
       "3  4095             Bilbao     24350    Erandio            ERANDIO           \n",
       "4 94149             Bilbao     24350    Erandio            ERANDIO           \n",
       "5 97891             Bilbao     24350    Erandio            ERANDIO           \n",
       "6  5324             Bilbao     24350    Erandio            ERANDIO           \n",
       "  latitude longitude elevation country site_type site_area date_start\n",
       "1 43.25883 -2.94565  32        spain   traffic   urban     1986-04-01\n",
       "2 43.30268 -2.97724   4        spain   traffic   urban     1997-01-01\n",
       "3 43.30268 -2.97724   4        spain   traffic   urban     1997-01-01\n",
       "4 43.30268 -2.97724   4        spain   traffic   urban     1997-01-01\n",
       "5 43.30268 -2.97724   4        spain   traffic   urban     1997-01-01\n",
       "6 43.30268 -2.97724   4        spain   traffic   urban     1997-01-01\n",
       "  date_end           \n",
       "1 2021-01-15 23:00:00\n",
       "2 2021-01-15 23:00:00\n",
       "3 2021-01-15 23:00:00\n",
       "4 2021-01-15 23:00:00\n",
       "5 2021-01-15 23:00:00\n",
       "6 2021-01-15 23:00:00"
      ]
     },
     "metadata": {},
     "output_type": "display_data"
    }
   ],
   "source": [
    "head(sitesAQ)"
   ]
  },
  {
   "cell_type": "markdown",
   "metadata": {},
   "source": [
    "### Guardar Datos en csv <a id=\"saveAQ\"></a>"
   ]
  },
  {
   "cell_type": "markdown",
   "metadata": {},
   "source": [
    "```R\n",
    "write.csv(sitesAQ, sitesAQ.fl, row.names=FALSE)\n",
    "```"
   ]
  },
  {
   "cell_type": "markdown",
   "metadata": {},
   "source": [
    "---\n",
    "---"
   ]
  },
  {
   "cell_type": "markdown",
   "metadata": {},
   "source": [
    "## ESTACIONES DE LA AEMET <a id=\"sitesMto\"></a>\n",
    "\n",
    "Se pueden localizar las estaciones meteo mas cercanas a una estacion de CA mediante mapa"
   ]
  },
  {
   "cell_type": "markdown",
   "metadata": {},
   "source": [
    "Obtenemos la informacion de las estaciones de calidad del aire del estudio"
   ]
  },
  {
   "cell_type": "markdown",
   "metadata": {},
   "source": [
    "```R\n",
    "sitesAQ <- read.csv(sitesAQ.fl)\n",
    "head(sitesAQ)\n",
    "```"
   ]
  },
  {
   "cell_type": "markdown",
   "metadata": {},
   "source": [
    "Obtenemos la informacion de las 3 estaciones meteorologicas mas cercanas a cada estacion de calidad del aire"
   ]
  },
  {
   "cell_type": "code",
   "execution_count": 11,
   "metadata": {},
   "outputs": [],
   "source": [
    "sitesMto <- data.frame()\n",
    "sites.lv <- levels(sitesAQ$site)\n",
    "\n",
    "for (i in 1:length(sites.lv)) {\n",
    "    mto <- getMeta(lat = sitesAQ[sitesAQ$site == sites.lv[i], ]$latitude[1], \n",
    "                   lon = sitesAQ[sitesAQ$site == sites.lv[i], ]$longitude[1], \n",
    "                   end.year = \"current\",\n",
    "                   n = 3, returnMap = F)\n",
    "    mto$siteAQ <- sites.lv[i]\n",
    "    sitesMto <- rbind(sitesMto, mto)\n",
    "}"
   ]
  },
  {
   "cell_type": "code",
   "execution_count": 12,
   "metadata": {},
   "outputs": [],
   "source": [
    "sitesMto <- mutate_if(sitesMto, is.character, as.factor)"
   ]
  },
  {
   "cell_type": "code",
   "execution_count": 13,
   "metadata": {},
   "outputs": [
    {
     "data": {
      "text/html": [
       "<table>\n",
       "<caption>A tibble: 6 × 16</caption>\n",
       "<thead>\n",
       "\t<tr><th scope=col>usaf</th><th scope=col>wban</th><th scope=col>station</th><th scope=col>ctry</th><th scope=col>st</th><th scope=col>call</th><th scope=col>latitude</th><th scope=col>longitude</th><th scope=col>elev(m)</th><th scope=col>begin</th><th scope=col>end</th><th scope=col>code</th><th scope=col>longr</th><th scope=col>latr</th><th scope=col>dist</th><th scope=col>siteAQ</th></tr>\n",
       "\t<tr><th scope=col>&lt;fct&gt;</th><th scope=col>&lt;fct&gt;</th><th scope=col>&lt;fct&gt;</th><th scope=col>&lt;fct&gt;</th><th scope=col>&lt;fct&gt;</th><th scope=col>&lt;fct&gt;</th><th scope=col>&lt;dbl&gt;</th><th scope=col>&lt;dbl&gt;</th><th scope=col>&lt;dbl&gt;</th><th scope=col>&lt;date&gt;</th><th scope=col>&lt;date&gt;</th><th scope=col>&lt;fct&gt;</th><th scope=col>&lt;dbl&gt;</th><th scope=col>&lt;dbl&gt;</th><th scope=col>&lt;dbl&gt;</th><th scope=col>&lt;fct&gt;</th></tr>\n",
       "</thead>\n",
       "<tbody>\n",
       "\t<tr><td>080250</td><td>99999</td><td>BILBAO   </td><td>SP</td><td>NA</td><td>LEBB</td><td>43.301</td><td>-2.911</td><td> 42.1</td><td>1973-01-01</td><td>2021-01-17</td><td>080250-99999</td><td>-0.05080653</td><td>0.7557450</td><td> 5.464009</td><td>es0041a</td></tr>\n",
       "\t<tr><td>080800</td><td>99999</td><td>VITORIA  </td><td>SP</td><td>NA</td><td>LEVT</td><td>42.883</td><td>-2.724</td><td>512.7</td><td>1973-01-01</td><td>2021-01-17</td><td>080800-99999</td><td>-0.04754277</td><td>0.7484495</td><td>45.503738</td><td>es0041a</td></tr>\n",
       "\t<tr><td>080210</td><td>99999</td><td>SANTANDER</td><td>SP</td><td>NA</td><td>LEXJ</td><td>43.427</td><td>-3.820</td><td>  4.9</td><td>1973-01-01</td><td>2021-01-17</td><td>080210-99999</td><td>-0.06667158</td><td>0.7579441</td><td>73.137040</td><td>es0041a</td></tr>\n",
       "\t<tr><td>080250</td><td>99999</td><td>BILBAO   </td><td>SP</td><td>NA</td><td>LEBB</td><td>43.301</td><td>-2.911</td><td> 42.1</td><td>1973-01-01</td><td>2021-01-17</td><td>080250-99999</td><td>-0.05080653</td><td>0.7557450</td><td> 5.363540</td><td>es0110a</td></tr>\n",
       "\t<tr><td>080800</td><td>99999</td><td>VITORIA  </td><td>SP</td><td>NA</td><td>LEVT</td><td>42.883</td><td>-2.724</td><td>512.7</td><td>1973-01-01</td><td>2021-01-17</td><td>080800-99999</td><td>-0.04754277</td><td>0.7484495</td><td>50.995824</td><td>es0110a</td></tr>\n",
       "\t<tr><td>080230</td><td>99999</td><td>SANTANDER</td><td>SP</td><td>NA</td><td>NA  </td><td>43.483</td><td>-3.800</td><td> 59.0</td><td>1973-01-01</td><td>2021-01-17</td><td>080230-99999</td><td>-0.06632251</td><td>0.7589215</td><td>69.437339</td><td>es0110a</td></tr>\n",
       "</tbody>\n",
       "</table>\n"
      ],
      "text/latex": [
       "A tibble: 6 × 16\n",
       "\\begin{tabular}{llllllllllllllll}\n",
       " usaf & wban & station & ctry & st & call & latitude & longitude & elev(m) & begin & end & code & longr & latr & dist & siteAQ\\\\\n",
       " <fct> & <fct> & <fct> & <fct> & <fct> & <fct> & <dbl> & <dbl> & <dbl> & <date> & <date> & <fct> & <dbl> & <dbl> & <dbl> & <fct>\\\\\n",
       "\\hline\n",
       "\t 080250 & 99999 & BILBAO    & SP & NA & LEBB & 43.301 & -2.911 &  42.1 & 1973-01-01 & 2021-01-17 & 080250-99999 & -0.05080653 & 0.7557450 &  5.464009 & es0041a\\\\\n",
       "\t 080800 & 99999 & VITORIA   & SP & NA & LEVT & 42.883 & -2.724 & 512.7 & 1973-01-01 & 2021-01-17 & 080800-99999 & -0.04754277 & 0.7484495 & 45.503738 & es0041a\\\\\n",
       "\t 080210 & 99999 & SANTANDER & SP & NA & LEXJ & 43.427 & -3.820 &   4.9 & 1973-01-01 & 2021-01-17 & 080210-99999 & -0.06667158 & 0.7579441 & 73.137040 & es0041a\\\\\n",
       "\t 080250 & 99999 & BILBAO    & SP & NA & LEBB & 43.301 & -2.911 &  42.1 & 1973-01-01 & 2021-01-17 & 080250-99999 & -0.05080653 & 0.7557450 &  5.363540 & es0110a\\\\\n",
       "\t 080800 & 99999 & VITORIA   & SP & NA & LEVT & 42.883 & -2.724 & 512.7 & 1973-01-01 & 2021-01-17 & 080800-99999 & -0.04754277 & 0.7484495 & 50.995824 & es0110a\\\\\n",
       "\t 080230 & 99999 & SANTANDER & SP & NA & NA   & 43.483 & -3.800 &  59.0 & 1973-01-01 & 2021-01-17 & 080230-99999 & -0.06632251 & 0.7589215 & 69.437339 & es0110a\\\\\n",
       "\\end{tabular}\n"
      ],
      "text/markdown": [
       "\n",
       "A tibble: 6 × 16\n",
       "\n",
       "| usaf &lt;fct&gt; | wban &lt;fct&gt; | station &lt;fct&gt; | ctry &lt;fct&gt; | st &lt;fct&gt; | call &lt;fct&gt; | latitude &lt;dbl&gt; | longitude &lt;dbl&gt; | elev(m) &lt;dbl&gt; | begin &lt;date&gt; | end &lt;date&gt; | code &lt;fct&gt; | longr &lt;dbl&gt; | latr &lt;dbl&gt; | dist &lt;dbl&gt; | siteAQ &lt;fct&gt; |\n",
       "|---|---|---|---|---|---|---|---|---|---|---|---|---|---|---|---|\n",
       "| 080250 | 99999 | BILBAO    | SP | NA | LEBB | 43.301 | -2.911 |  42.1 | 1973-01-01 | 2021-01-17 | 080250-99999 | -0.05080653 | 0.7557450 |  5.464009 | es0041a |\n",
       "| 080800 | 99999 | VITORIA   | SP | NA | LEVT | 42.883 | -2.724 | 512.7 | 1973-01-01 | 2021-01-17 | 080800-99999 | -0.04754277 | 0.7484495 | 45.503738 | es0041a |\n",
       "| 080210 | 99999 | SANTANDER | SP | NA | LEXJ | 43.427 | -3.820 |   4.9 | 1973-01-01 | 2021-01-17 | 080210-99999 | -0.06667158 | 0.7579441 | 73.137040 | es0041a |\n",
       "| 080250 | 99999 | BILBAO    | SP | NA | LEBB | 43.301 | -2.911 |  42.1 | 1973-01-01 | 2021-01-17 | 080250-99999 | -0.05080653 | 0.7557450 |  5.363540 | es0110a |\n",
       "| 080800 | 99999 | VITORIA   | SP | NA | LEVT | 42.883 | -2.724 | 512.7 | 1973-01-01 | 2021-01-17 | 080800-99999 | -0.04754277 | 0.7484495 | 50.995824 | es0110a |\n",
       "| 080230 | 99999 | SANTANDER | SP | NA | NA   | 43.483 | -3.800 |  59.0 | 1973-01-01 | 2021-01-17 | 080230-99999 | -0.06632251 | 0.7589215 | 69.437339 | es0110a |\n",
       "\n"
      ],
      "text/plain": [
       "  usaf   wban  station   ctry st call latitude longitude elev(m) begin     \n",
       "1 080250 99999 BILBAO    SP   NA LEBB 43.301   -2.911     42.1   1973-01-01\n",
       "2 080800 99999 VITORIA   SP   NA LEVT 42.883   -2.724    512.7   1973-01-01\n",
       "3 080210 99999 SANTANDER SP   NA LEXJ 43.427   -3.820      4.9   1973-01-01\n",
       "4 080250 99999 BILBAO    SP   NA LEBB 43.301   -2.911     42.1   1973-01-01\n",
       "5 080800 99999 VITORIA   SP   NA LEVT 42.883   -2.724    512.7   1973-01-01\n",
       "6 080230 99999 SANTANDER SP   NA NA   43.483   -3.800     59.0   1973-01-01\n",
       "  end        code         longr       latr      dist      siteAQ \n",
       "1 2021-01-17 080250-99999 -0.05080653 0.7557450  5.464009 es0041a\n",
       "2 2021-01-17 080800-99999 -0.04754277 0.7484495 45.503738 es0041a\n",
       "3 2021-01-17 080210-99999 -0.06667158 0.7579441 73.137040 es0041a\n",
       "4 2021-01-17 080250-99999 -0.05080653 0.7557450  5.363540 es0110a\n",
       "5 2021-01-17 080800-99999 -0.04754277 0.7484495 50.995824 es0110a\n",
       "6 2021-01-17 080230-99999 -0.06632251 0.7589215 69.437339 es0110a"
      ]
     },
     "metadata": {},
     "output_type": "display_data"
    }
   ],
   "source": [
    "head(sitesMto)"
   ]
  },
  {
   "cell_type": "markdown",
   "metadata": {},
   "source": [
    "### Guardar Datos en csv <a id=\"saveMto\"></a>"
   ]
  },
  {
   "cell_type": "markdown",
   "metadata": {},
   "source": [
    "```R\n",
    "write.csv(sitesMto, sitesMto.fl, row.names=FALSE)\n",
    "```"
   ]
  },
  {
   "cell_type": "markdown",
   "metadata": {},
   "source": [
    "---\n",
    "---"
   ]
  },
  {
   "cell_type": "markdown",
   "metadata": {},
   "source": [
    "## INFORMACION RELEVANTE <a id=\"countdata\"></a>\n",
    "\n",
    "Calcular el numero de datos disponibles para cada estacion y almacenar en una tabla el codigo de cada estacion junto con dicho valor"
   ]
  },
  {
   "cell_type": "markdown",
   "metadata": {},
   "source": [
    "### Obtener los datos de Calidad del Aire <a id=\"getAQ\"></a>"
   ]
  },
  {
   "cell_type": "markdown",
   "metadata": {},
   "source": [
    "```R\n",
    "if (file.exists(sitesAQ.fl)) {\n",
    "    sitesAQ <- read.csv(sitesAQ.fl, stringsAsFactors = TRUE)\n",
    "}\n",
    "```"
   ]
  },
  {
   "cell_type": "markdown",
   "metadata": {},
   "source": [
    "```R\n",
    "if (file.exists(dataAQ.fl)) {\n",
    "    dataAQ <- read.csv(dataAQ.fl, stringsAsFactors = TRUE)\n",
    "} else {\n",
    "```"
   ]
  },
  {
   "cell_type": "code",
   "execution_count": 14,
   "metadata": {},
   "outputs": [
    {
     "name": "stderr",
     "output_type": "stream",
     "text": [
      "2021-01-21 13:34:17.934 CET: Loading `air_quality_data_site_es0041a_2015.csv.gz`...\n",
      "\n",
      "2021-01-21 13:34:18.297 CET: Loading `air_quality_data_site_es0041a_2016.csv.gz`...\n",
      "\n",
      "2021-01-21 13:34:18.736 CET: Loading `air_quality_data_site_es0041a_2017.csv.gz`...\n",
      "\n",
      "2021-01-21 13:34:19.359 CET: Loading `air_quality_data_site_es0041a_2018.csv.gz`...\n",
      "\n",
      "2021-01-21 13:34:19.834 CET: Loading `air_quality_data_site_es0041a_2019.csv.gz`...\n",
      "\n",
      "2021-01-21 13:34:20.438 CET: Loading `air_quality_data_site_es0041a_2020.csv.gz`...\n",
      "\n",
      "2021-01-21 13:34:20.994 CET: Loading `air_quality_data_site_es0110a_2015.csv.gz`...\n",
      "\n",
      "2021-01-21 13:34:21.955 CET: Loading `air_quality_data_site_es0110a_2016.csv.gz`...\n",
      "\n",
      "2021-01-21 13:34:22.867 CET: Loading `air_quality_data_site_es0110a_2017.csv.gz`...\n",
      "\n",
      "2021-01-21 13:34:23.944 CET: Loading `air_quality_data_site_es0110a_2018.csv.gz`...\n",
      "\n",
      "2021-01-21 13:34:25.087 CET: Loading `air_quality_data_site_es0110a_2019.csv.gz`...\n",
      "\n",
      "2021-01-21 13:34:26.009 CET: Loading `air_quality_data_site_es0110a_2020.csv.gz`...\n",
      "\n",
      "2021-01-21 13:34:26.895 CET: Loading `air_quality_data_site_es0115a_2015.csv.gz`...\n",
      "\n",
      "2021-01-21 13:34:27.710 CET: Loading `air_quality_data_site_es0115a_2016.csv.gz`...\n",
      "\n",
      "2021-01-21 13:34:28.503 CET: Loading `air_quality_data_site_es0115a_2017.csv.gz`...\n",
      "\n",
      "2021-01-21 13:34:29.456 CET: Loading `air_quality_data_site_es0115a_2018.csv.gz`...\n",
      "\n",
      "2021-01-21 13:34:30.243 CET: Loading `air_quality_data_site_es0115a_2019.csv.gz`...\n",
      "\n",
      "2021-01-21 13:34:30.947 CET: Loading `air_quality_data_site_es0115a_2020.csv.gz`...\n",
      "\n"
     ]
    }
   ],
   "source": [
    "dataAQ <- get_saq_observations(site = levels(sitesAQ$site),\n",
    "                             variable = pollutants,\n",
    "                             valid_only = TRUE,\n",
    "                             start = start_dt,\n",
    "                             end = end_dt,\n",
    "                             verbose = TRUE\n",
    "                            )\n",
    "dataAQ <- mutate_if(dataAQ, is.character, as.factor)\n",
    "\n",
    "# Save data in a file for each station \n",
    "if (save.data) {\n",
    "    print(\"Saving Data...\")\n",
    "    write.csv(dataAQ, dataAQ.fl, row.names=FALSE)\n",
    "\n",
    "    split.by.site(dataAQ, site.lv=\"all\",\n",
    "                  folder=\"../data/csv/dataAQ/\")\n",
    "}\n",
    "#}"
   ]
  },
  {
   "cell_type": "code",
   "execution_count": 15,
   "metadata": {},
   "outputs": [
    {
     "data": {
      "text/html": [
       "<table>\n",
       "<caption>A tibble: 6 × 9</caption>\n",
       "<thead>\n",
       "\t<tr><th scope=col>date</th><th scope=col>date_end</th><th scope=col>site</th><th scope=col>variable</th><th scope=col>process</th><th scope=col>summary</th><th scope=col>validity</th><th scope=col>unit</th><th scope=col>value</th></tr>\n",
       "\t<tr><th scope=col>&lt;dttm&gt;</th><th scope=col>&lt;dttm&gt;</th><th scope=col>&lt;fct&gt;</th><th scope=col>&lt;fct&gt;</th><th scope=col>&lt;int&gt;</th><th scope=col>&lt;int&gt;</th><th scope=col>&lt;int&gt;</th><th scope=col>&lt;fct&gt;</th><th scope=col>&lt;dbl&gt;</th></tr>\n",
       "</thead>\n",
       "<tbody>\n",
       "\t<tr><td>2017-01-01 01:00:00</td><td>2017-01-01 02:00:00</td><td>es0041a</td><td>pm10</td><td>115268</td><td>1</td><td>1</td><td>ug.m-3</td><td>39</td></tr>\n",
       "\t<tr><td>2017-01-01 02:00:00</td><td>2017-01-01 03:00:00</td><td>es0041a</td><td>pm10</td><td>115268</td><td>1</td><td>1</td><td>ug.m-3</td><td>27</td></tr>\n",
       "\t<tr><td>2017-01-01 03:00:00</td><td>2017-01-01 04:00:00</td><td>es0041a</td><td>pm10</td><td>115268</td><td>1</td><td>1</td><td>ug.m-3</td><td>18</td></tr>\n",
       "\t<tr><td>2017-01-01 04:00:00</td><td>2017-01-01 05:00:00</td><td>es0041a</td><td>pm10</td><td>115268</td><td>1</td><td>1</td><td>ug.m-3</td><td>17</td></tr>\n",
       "\t<tr><td>2017-01-01 05:00:00</td><td>2017-01-01 06:00:00</td><td>es0041a</td><td>pm10</td><td>115268</td><td>1</td><td>1</td><td>ug.m-3</td><td>17</td></tr>\n",
       "\t<tr><td>2017-01-01 06:00:00</td><td>2017-01-01 07:00:00</td><td>es0041a</td><td>pm10</td><td>115268</td><td>1</td><td>1</td><td>ug.m-3</td><td>15</td></tr>\n",
       "</tbody>\n",
       "</table>\n"
      ],
      "text/latex": [
       "A tibble: 6 × 9\n",
       "\\begin{tabular}{lllllllll}\n",
       " date & date\\_end & site & variable & process & summary & validity & unit & value\\\\\n",
       " <dttm> & <dttm> & <fct> & <fct> & <int> & <int> & <int> & <fct> & <dbl>\\\\\n",
       "\\hline\n",
       "\t 2017-01-01 01:00:00 & 2017-01-01 02:00:00 & es0041a & pm10 & 115268 & 1 & 1 & ug.m-3 & 39\\\\\n",
       "\t 2017-01-01 02:00:00 & 2017-01-01 03:00:00 & es0041a & pm10 & 115268 & 1 & 1 & ug.m-3 & 27\\\\\n",
       "\t 2017-01-01 03:00:00 & 2017-01-01 04:00:00 & es0041a & pm10 & 115268 & 1 & 1 & ug.m-3 & 18\\\\\n",
       "\t 2017-01-01 04:00:00 & 2017-01-01 05:00:00 & es0041a & pm10 & 115268 & 1 & 1 & ug.m-3 & 17\\\\\n",
       "\t 2017-01-01 05:00:00 & 2017-01-01 06:00:00 & es0041a & pm10 & 115268 & 1 & 1 & ug.m-3 & 17\\\\\n",
       "\t 2017-01-01 06:00:00 & 2017-01-01 07:00:00 & es0041a & pm10 & 115268 & 1 & 1 & ug.m-3 & 15\\\\\n",
       "\\end{tabular}\n"
      ],
      "text/markdown": [
       "\n",
       "A tibble: 6 × 9\n",
       "\n",
       "| date &lt;dttm&gt; | date_end &lt;dttm&gt; | site &lt;fct&gt; | variable &lt;fct&gt; | process &lt;int&gt; | summary &lt;int&gt; | validity &lt;int&gt; | unit &lt;fct&gt; | value &lt;dbl&gt; |\n",
       "|---|---|---|---|---|---|---|---|---|\n",
       "| 2017-01-01 01:00:00 | 2017-01-01 02:00:00 | es0041a | pm10 | 115268 | 1 | 1 | ug.m-3 | 39 |\n",
       "| 2017-01-01 02:00:00 | 2017-01-01 03:00:00 | es0041a | pm10 | 115268 | 1 | 1 | ug.m-3 | 27 |\n",
       "| 2017-01-01 03:00:00 | 2017-01-01 04:00:00 | es0041a | pm10 | 115268 | 1 | 1 | ug.m-3 | 18 |\n",
       "| 2017-01-01 04:00:00 | 2017-01-01 05:00:00 | es0041a | pm10 | 115268 | 1 | 1 | ug.m-3 | 17 |\n",
       "| 2017-01-01 05:00:00 | 2017-01-01 06:00:00 | es0041a | pm10 | 115268 | 1 | 1 | ug.m-3 | 17 |\n",
       "| 2017-01-01 06:00:00 | 2017-01-01 07:00:00 | es0041a | pm10 | 115268 | 1 | 1 | ug.m-3 | 15 |\n",
       "\n"
      ],
      "text/plain": [
       "  date                date_end            site    variable process summary\n",
       "1 2017-01-01 01:00:00 2017-01-01 02:00:00 es0041a pm10     115268  1      \n",
       "2 2017-01-01 02:00:00 2017-01-01 03:00:00 es0041a pm10     115268  1      \n",
       "3 2017-01-01 03:00:00 2017-01-01 04:00:00 es0041a pm10     115268  1      \n",
       "4 2017-01-01 04:00:00 2017-01-01 05:00:00 es0041a pm10     115268  1      \n",
       "5 2017-01-01 05:00:00 2017-01-01 06:00:00 es0041a pm10     115268  1      \n",
       "6 2017-01-01 06:00:00 2017-01-01 07:00:00 es0041a pm10     115268  1      \n",
       "  validity unit   value\n",
       "1 1        ug.m-3 39   \n",
       "2 1        ug.m-3 27   \n",
       "3 1        ug.m-3 18   \n",
       "4 1        ug.m-3 17   \n",
       "5 1        ug.m-3 17   \n",
       "6 1        ug.m-3 15   "
      ]
     },
     "metadata": {},
     "output_type": "display_data"
    }
   ],
   "source": [
    "head(dataAQ)"
   ]
  },
  {
   "cell_type": "markdown",
   "metadata": {},
   "source": [
    "### Contar valores de Calidad del Aire <a id=\"countAQ\"></a>"
   ]
  },
  {
   "cell_type": "code",
   "execution_count": 16,
   "metadata": {},
   "outputs": [],
   "source": [
    "numCount <- c()\n",
    "for (st in levels(sitesAQ$site)) {\n",
    "    numCount <- c(numCount, nrow(dataAQ[dataAQ$site == st, ]))\n",
    "}\n",
    "\n",
    "nn.sitesAQ <- data.frame(siteAQ = levels(sitesAQ$site),\n",
    "                         countAQ = numCount)\n",
    "rm(dataAQ, numCount)"
   ]
  },
  {
   "cell_type": "code",
   "execution_count": 17,
   "metadata": {},
   "outputs": [],
   "source": [
    "nn.sitesAQ <- mutate_if(nn.sitesAQ, is.character, as.factor)"
   ]
  },
  {
   "cell_type": "code",
   "execution_count": 18,
   "metadata": {},
   "outputs": [
    {
     "data": {
      "text/html": [
       "<table>\n",
       "<caption>A data.frame: 3 × 2</caption>\n",
       "<thead>\n",
       "\t<tr><th></th><th scope=col>siteAQ</th><th scope=col>countAQ</th></tr>\n",
       "\t<tr><th></th><th scope=col>&lt;fct&gt;</th><th scope=col>&lt;int&gt;</th></tr>\n",
       "</thead>\n",
       "<tbody>\n",
       "\t<tr><th scope=row>1</th><td>es0041a</td><td> 62431</td></tr>\n",
       "\t<tr><th scope=row>2</th><td>es0110a</td><td>146228</td></tr>\n",
       "\t<tr><th scope=row>3</th><td>es0115a</td><td> 96260</td></tr>\n",
       "</tbody>\n",
       "</table>\n"
      ],
      "text/latex": [
       "A data.frame: 3 × 2\n",
       "\\begin{tabular}{r|ll}\n",
       "  & siteAQ & countAQ\\\\\n",
       "  & <fct> & <int>\\\\\n",
       "\\hline\n",
       "\t1 & es0041a &  62431\\\\\n",
       "\t2 & es0110a & 146228\\\\\n",
       "\t3 & es0115a &  96260\\\\\n",
       "\\end{tabular}\n"
      ],
      "text/markdown": [
       "\n",
       "A data.frame: 3 × 2\n",
       "\n",
       "| <!--/--> | siteAQ &lt;fct&gt; | countAQ &lt;int&gt; |\n",
       "|---|---|---|\n",
       "| 1 | es0041a |  62431 |\n",
       "| 2 | es0110a | 146228 |\n",
       "| 3 | es0115a |  96260 |\n",
       "\n"
      ],
      "text/plain": [
       "  siteAQ  countAQ\n",
       "1 es0041a  62431 \n",
       "2 es0110a 146228 \n",
       "3 es0115a  96260 "
      ]
     },
     "metadata": {},
     "output_type": "display_data"
    }
   ],
   "source": [
    "head(nn.sitesAQ)"
   ]
  },
  {
   "cell_type": "markdown",
   "metadata": {},
   "source": [
    "### Obtener los datos Meteorologicos <a id=\"getMto\"></a>"
   ]
  },
  {
   "cell_type": "markdown",
   "metadata": {},
   "source": [
    "```R\n",
    "if (file.exists(sitesMto.fl)) {\n",
    "    sitesMto <- read.csv(sitesMto.fl, stringsAsFactors=TRUE)\n",
    "}\n",
    "```"
   ]
  },
  {
   "cell_type": "markdown",
   "metadata": {},
   "source": [
    "``` R\n",
    "if (file.exists(dataMto.fl)) {\n",
    "    dataMto <- read.csv(dataMto.fl, stringsAsFactors=TRUE)\n",
    "} else {\n",
    "```"
   ]
  },
  {
   "cell_type": "code",
   "execution_count": 19,
   "metadata": {},
   "outputs": [
    {
     "name": "stdout",
     "output_type": "stream",
     "text": [
      "[1] \"The following sites / years are missing:\"\n",
      "           code year date station\n",
      "1  082200-99999 2010 <NA>    <NA>\n",
      "2  082220-99999 2010 <NA>    <NA>\n",
      "3  082200-99999 2011 <NA>    <NA>\n",
      "4  082220-99999 2011 <NA>    <NA>\n",
      "5  082200-99999 2012 <NA>    <NA>\n",
      "6  082220-99999 2012 <NA>    <NA>\n",
      "7  082200-99999 2013 <NA>    <NA>\n",
      "8  082220-99999 2013 <NA>    <NA>\n",
      "9  082200-99999 2014 <NA>    <NA>\n",
      "10 082220-99999 2014 <NA>    <NA>\n",
      "11 082200-99999 2015 <NA>    <NA>\n",
      "12 082220-99999 2015 <NA>    <NA>\n",
      "13 082200-99999 2016 <NA>    <NA>\n",
      "14 082220-99999 2016 <NA>    <NA>\n"
     ]
    }
   ],
   "source": [
    "# Get Data from worlmet\n",
    "dataMto <- importNOAA(code = levels(sitesMto$code),\n",
    "                      year = years,\n",
    "                      hourly = FALSE,\n",
    "                      n.cores = 4,\n",
    "                      quiet = FALSE,\n",
    "                      path = NA\n",
    "                     )\n",
    "dataMto <- mutate_if(dataMto, is.character, as.factor)\n",
    "\n",
    "# Save data in a file for each station \n",
    "if (save.data) {\n",
    "    print(\"Saving Data...\")\n",
    "    write.csv(dataMto, dataMto.fl, row.names=FALSE)\n",
    "\n",
    "    split.by.site(dataMto, site.lv=\"all\",\n",
    "                  folder=\"../data/csv/dataMto/\")\n",
    "}\n",
    "#}"
   ]
  },
  {
   "cell_type": "markdown",
   "metadata": {},
   "source": [
    "### Contar valores Meteorologicos <a id=\"countMto\"></a>"
   ]
  },
  {
   "cell_type": "code",
   "execution_count": 20,
   "metadata": {},
   "outputs": [],
   "source": [
    "countMto <- NA                                                                                          \n",
    "codeMto <- NA\n",
    "code.lv <- levels(dataMto$code)\n",
    "\n",
    "for (i in 1:length(code.lv)) {\n",
    "    codeMto <- rbind(codeMto, code.lv[i])\n",
    "    \n",
    "    countMto <- rbind(countMto, colSums(!is.na(\n",
    "                                        dataMto[dataMto$code == code.lv[i],\n",
    "                                        !colnames(dataMto) %in% c(\"date\",\n",
    "                                                                  \"station\",\n",
    "                                                                  \"latitude\",\n",
    "                                                                  \"longitude\",\n",
    "                                                                  \"elev\"\n",
    "                                                                 )])\n",
    "                                        )\n",
    "                                / nrow(dataMto[dataMto$code == code.lv[i], ])\n",
    "                     )\n",
    "    countMto[i+1, \"code\"] <- nrow(dataMto[dataMto$code == code.lv[i], ])\n",
    "}\n",
    "countMto <- data.frame(countMto[complete.cases(countMto), ]) %>%\n",
    "                rename(countMto = code)\n",
    "\n",
    "codeMto <- data.frame(codeMto[complete.cases(codeMto), ])\n",
    "colnames(codeMto) <- c(\"siteMto\")\n",
    "\n",
    "countMto <- cbind(codeMto, countMto)\n",
    "\n",
    "nn.sitesMto <- merge(x = sitesMto %>%\n",
    "                        rename(siteMto=code) %>%\n",
    "                        select(siteMto, dist, siteAQ),\n",
    "                     y = countMto,\n",
    "                     by = \"siteMto\", all=TRUE\n",
    "                    )\n",
    "\n",
    "rm(dataMto, countMto, sitesMto, codeMto)"
   ]
  },
  {
   "cell_type": "code",
   "execution_count": 21,
   "metadata": {},
   "outputs": [
    {
     "data": {
      "text/html": [
       "<table>\n",
       "<caption>A data.frame: 6 × 23</caption>\n",
       "<thead>\n",
       "\t<tr><th></th><th scope=col>siteMto</th><th scope=col>dist</th><th scope=col>siteAQ</th><th scope=col>countMto</th><th scope=col>ws</th><th scope=col>wd</th><th scope=col>air_temp</th><th scope=col>atmos_pres</th><th scope=col>visibility</th><th scope=col>dew_point</th><th scope=col>⋯</th><th scope=col>cl_2</th><th scope=col>cl_3</th><th scope=col>cl</th><th scope=col>cl_1_height</th><th scope=col>cl_2_height</th><th scope=col>cl_3_height</th><th scope=col>pwc</th><th scope=col>precip_12</th><th scope=col>precip_6</th><th scope=col>precip</th></tr>\n",
       "\t<tr><th></th><th scope=col>&lt;fct&gt;</th><th scope=col>&lt;dbl&gt;</th><th scope=col>&lt;fct&gt;</th><th scope=col>&lt;dbl&gt;</th><th scope=col>&lt;dbl&gt;</th><th scope=col>&lt;dbl&gt;</th><th scope=col>&lt;dbl&gt;</th><th scope=col>&lt;dbl&gt;</th><th scope=col>&lt;dbl&gt;</th><th scope=col>&lt;dbl&gt;</th><th scope=col>⋯</th><th scope=col>&lt;dbl&gt;</th><th scope=col>&lt;dbl&gt;</th><th scope=col>&lt;dbl&gt;</th><th scope=col>&lt;dbl&gt;</th><th scope=col>&lt;dbl&gt;</th><th scope=col>&lt;dbl&gt;</th><th scope=col>&lt;dbl&gt;</th><th scope=col>&lt;dbl&gt;</th><th scope=col>&lt;dbl&gt;</th><th scope=col>&lt;dbl&gt;</th></tr>\n",
       "</thead>\n",
       "<tbody>\n",
       "\t<tr><th scope=row>1</th><td>080210-99999</td><td>73.137040</td><td>es0041a</td><td>214667</td><td>0.9998975</td><td>0.7823885</td><td>0.9988913</td><td>0.2556704</td><td>0.4832694</td><td>0.9984068</td><td>⋯</td><td>0.31474330</td><td>0.0728896384</td><td>0.5931466</td><td>0.5803500</td><td>0.312805415</td><td>0.0728849800</td><td>0.05560240</td><td>0.005538811</td><td>0.005454960</td><td>0.10531195</td></tr>\n",
       "\t<tr><th scope=row>2</th><td>080230-99999</td><td>69.437339</td><td>es0110a</td><td> 63175</td><td>0.9987653</td><td>0.9949664</td><td>0.9999209</td><td>0.9994618</td><td>0.9828888</td><td>0.9995410</td><td>⋯</td><td>0.01218837</td><td>0.0001424614</td><td>0.2994064</td><td>0.2641393</td><td>0.001060546</td><td>0.0001108033</td><td>0.09402454</td><td>0.079730906</td><td>0.146988524</td><td>0.30516818</td></tr>\n",
       "\t<tr><th scope=row>3</th><td>080250-99999</td><td> 5.464009</td><td>es0041a</td><td>223729</td><td>0.9999464</td><td>0.7066272</td><td>0.9988736</td><td>0.2520415</td><td>0.4516983</td><td>0.9986055</td><td>⋯</td><td>0.35383880</td><td>0.1144956622</td><td>0.6121647</td><td>0.5995691</td><td>0.352265464</td><td>0.1144867228</td><td>0.04258724</td><td>0.005265299</td><td>0.005305526</td><td>0.10210120</td></tr>\n",
       "\t<tr><th scope=row>4</th><td>080250-99999</td><td> 5.363540</td><td>es0110a</td><td>223729</td><td>0.9999464</td><td>0.7066272</td><td>0.9988736</td><td>0.2520415</td><td>0.4516983</td><td>0.9986055</td><td>⋯</td><td>0.35383880</td><td>0.1144956622</td><td>0.6121647</td><td>0.5995691</td><td>0.352265464</td><td>0.1144867228</td><td>0.04258724</td><td>0.005265299</td><td>0.005305526</td><td>0.10210120</td></tr>\n",
       "\t<tr><th scope=row>5</th><td>080800-99999</td><td>45.503738</td><td>es0041a</td><td>242582</td><td>0.9998805</td><td>0.7156755</td><td>0.9980172</td><td>0.2310600</td><td>0.4698288</td><td>0.9976132</td><td>⋯</td><td>0.33002449</td><td>0.0468006695</td><td>0.7187508</td><td>0.7064374</td><td>0.328429150</td><td>0.0467965471</td><td>0.01709937</td><td>0.004839601</td><td>0.004864335</td><td>0.09352714</td></tr>\n",
       "\t<tr><th scope=row>6</th><td>080800-99999</td><td>50.995824</td><td>es0110a</td><td>242582</td><td>0.9998805</td><td>0.7156755</td><td>0.9980172</td><td>0.2310600</td><td>0.4698288</td><td>0.9976132</td><td>⋯</td><td>0.33002449</td><td>0.0468006695</td><td>0.7187508</td><td>0.7064374</td><td>0.328429150</td><td>0.0467965471</td><td>0.01709937</td><td>0.004839601</td><td>0.004864335</td><td>0.09352714</td></tr>\n",
       "</tbody>\n",
       "</table>\n"
      ],
      "text/latex": [
       "A data.frame: 6 × 23\n",
       "\\begin{tabular}{r|lllllllllllllllllllll}\n",
       "  & siteMto & dist & siteAQ & countMto & ws & wd & air\\_temp & atmos\\_pres & visibility & dew\\_point & ⋯ & cl\\_2 & cl\\_3 & cl & cl\\_1\\_height & cl\\_2\\_height & cl\\_3\\_height & pwc & precip\\_12 & precip\\_6 & precip\\\\\n",
       "  & <fct> & <dbl> & <fct> & <dbl> & <dbl> & <dbl> & <dbl> & <dbl> & <dbl> & <dbl> & ⋯ & <dbl> & <dbl> & <dbl> & <dbl> & <dbl> & <dbl> & <dbl> & <dbl> & <dbl> & <dbl>\\\\\n",
       "\\hline\n",
       "\t1 & 080210-99999 & 73.137040 & es0041a & 214667 & 0.9998975 & 0.7823885 & 0.9988913 & 0.2556704 & 0.4832694 & 0.9984068 & ⋯ & 0.31474330 & 0.0728896384 & 0.5931466 & 0.5803500 & 0.312805415 & 0.0728849800 & 0.05560240 & 0.005538811 & 0.005454960 & 0.10531195\\\\\n",
       "\t2 & 080230-99999 & 69.437339 & es0110a &  63175 & 0.9987653 & 0.9949664 & 0.9999209 & 0.9994618 & 0.9828888 & 0.9995410 & ⋯ & 0.01218837 & 0.0001424614 & 0.2994064 & 0.2641393 & 0.001060546 & 0.0001108033 & 0.09402454 & 0.079730906 & 0.146988524 & 0.30516818\\\\\n",
       "\t3 & 080250-99999 &  5.464009 & es0041a & 223729 & 0.9999464 & 0.7066272 & 0.9988736 & 0.2520415 & 0.4516983 & 0.9986055 & ⋯ & 0.35383880 & 0.1144956622 & 0.6121647 & 0.5995691 & 0.352265464 & 0.1144867228 & 0.04258724 & 0.005265299 & 0.005305526 & 0.10210120\\\\\n",
       "\t4 & 080250-99999 &  5.363540 & es0110a & 223729 & 0.9999464 & 0.7066272 & 0.9988736 & 0.2520415 & 0.4516983 & 0.9986055 & ⋯ & 0.35383880 & 0.1144956622 & 0.6121647 & 0.5995691 & 0.352265464 & 0.1144867228 & 0.04258724 & 0.005265299 & 0.005305526 & 0.10210120\\\\\n",
       "\t5 & 080800-99999 & 45.503738 & es0041a & 242582 & 0.9998805 & 0.7156755 & 0.9980172 & 0.2310600 & 0.4698288 & 0.9976132 & ⋯ & 0.33002449 & 0.0468006695 & 0.7187508 & 0.7064374 & 0.328429150 & 0.0467965471 & 0.01709937 & 0.004839601 & 0.004864335 & 0.09352714\\\\\n",
       "\t6 & 080800-99999 & 50.995824 & es0110a & 242582 & 0.9998805 & 0.7156755 & 0.9980172 & 0.2310600 & 0.4698288 & 0.9976132 & ⋯ & 0.33002449 & 0.0468006695 & 0.7187508 & 0.7064374 & 0.328429150 & 0.0467965471 & 0.01709937 & 0.004839601 & 0.004864335 & 0.09352714\\\\\n",
       "\\end{tabular}\n"
      ],
      "text/markdown": [
       "\n",
       "A data.frame: 6 × 23\n",
       "\n",
       "| <!--/--> | siteMto &lt;fct&gt; | dist &lt;dbl&gt; | siteAQ &lt;fct&gt; | countMto &lt;dbl&gt; | ws &lt;dbl&gt; | wd &lt;dbl&gt; | air_temp &lt;dbl&gt; | atmos_pres &lt;dbl&gt; | visibility &lt;dbl&gt; | dew_point &lt;dbl&gt; | ⋯ ⋯ | cl_2 &lt;dbl&gt; | cl_3 &lt;dbl&gt; | cl &lt;dbl&gt; | cl_1_height &lt;dbl&gt; | cl_2_height &lt;dbl&gt; | cl_3_height &lt;dbl&gt; | pwc &lt;dbl&gt; | precip_12 &lt;dbl&gt; | precip_6 &lt;dbl&gt; | precip &lt;dbl&gt; |\n",
       "|---|---|---|---|---|---|---|---|---|---|---|---|---|---|---|---|---|---|---|---|---|---|\n",
       "| 1 | 080210-99999 | 73.137040 | es0041a | 214667 | 0.9998975 | 0.7823885 | 0.9988913 | 0.2556704 | 0.4832694 | 0.9984068 | ⋯ | 0.31474330 | 0.0728896384 | 0.5931466 | 0.5803500 | 0.312805415 | 0.0728849800 | 0.05560240 | 0.005538811 | 0.005454960 | 0.10531195 |\n",
       "| 2 | 080230-99999 | 69.437339 | es0110a |  63175 | 0.9987653 | 0.9949664 | 0.9999209 | 0.9994618 | 0.9828888 | 0.9995410 | ⋯ | 0.01218837 | 0.0001424614 | 0.2994064 | 0.2641393 | 0.001060546 | 0.0001108033 | 0.09402454 | 0.079730906 | 0.146988524 | 0.30516818 |\n",
       "| 3 | 080250-99999 |  5.464009 | es0041a | 223729 | 0.9999464 | 0.7066272 | 0.9988736 | 0.2520415 | 0.4516983 | 0.9986055 | ⋯ | 0.35383880 | 0.1144956622 | 0.6121647 | 0.5995691 | 0.352265464 | 0.1144867228 | 0.04258724 | 0.005265299 | 0.005305526 | 0.10210120 |\n",
       "| 4 | 080250-99999 |  5.363540 | es0110a | 223729 | 0.9999464 | 0.7066272 | 0.9988736 | 0.2520415 | 0.4516983 | 0.9986055 | ⋯ | 0.35383880 | 0.1144956622 | 0.6121647 | 0.5995691 | 0.352265464 | 0.1144867228 | 0.04258724 | 0.005265299 | 0.005305526 | 0.10210120 |\n",
       "| 5 | 080800-99999 | 45.503738 | es0041a | 242582 | 0.9998805 | 0.7156755 | 0.9980172 | 0.2310600 | 0.4698288 | 0.9976132 | ⋯ | 0.33002449 | 0.0468006695 | 0.7187508 | 0.7064374 | 0.328429150 | 0.0467965471 | 0.01709937 | 0.004839601 | 0.004864335 | 0.09352714 |\n",
       "| 6 | 080800-99999 | 50.995824 | es0110a | 242582 | 0.9998805 | 0.7156755 | 0.9980172 | 0.2310600 | 0.4698288 | 0.9976132 | ⋯ | 0.33002449 | 0.0468006695 | 0.7187508 | 0.7064374 | 0.328429150 | 0.0467965471 | 0.01709937 | 0.004839601 | 0.004864335 | 0.09352714 |\n",
       "\n"
      ],
      "text/plain": [
       "  siteMto      dist      siteAQ  countMto ws        wd        air_temp \n",
       "1 080210-99999 73.137040 es0041a 214667   0.9998975 0.7823885 0.9988913\n",
       "2 080230-99999 69.437339 es0110a  63175   0.9987653 0.9949664 0.9999209\n",
       "3 080250-99999  5.464009 es0041a 223729   0.9999464 0.7066272 0.9988736\n",
       "4 080250-99999  5.363540 es0110a 223729   0.9999464 0.7066272 0.9988736\n",
       "5 080800-99999 45.503738 es0041a 242582   0.9998805 0.7156755 0.9980172\n",
       "6 080800-99999 50.995824 es0110a 242582   0.9998805 0.7156755 0.9980172\n",
       "  atmos_pres visibility dew_point ⋯ cl_2       cl_3         cl       \n",
       "1 0.2556704  0.4832694  0.9984068 ⋯ 0.31474330 0.0728896384 0.5931466\n",
       "2 0.9994618  0.9828888  0.9995410 ⋯ 0.01218837 0.0001424614 0.2994064\n",
       "3 0.2520415  0.4516983  0.9986055 ⋯ 0.35383880 0.1144956622 0.6121647\n",
       "4 0.2520415  0.4516983  0.9986055 ⋯ 0.35383880 0.1144956622 0.6121647\n",
       "5 0.2310600  0.4698288  0.9976132 ⋯ 0.33002449 0.0468006695 0.7187508\n",
       "6 0.2310600  0.4698288  0.9976132 ⋯ 0.33002449 0.0468006695 0.7187508\n",
       "  cl_1_height cl_2_height cl_3_height  pwc        precip_12   precip_6   \n",
       "1 0.5803500   0.312805415 0.0728849800 0.05560240 0.005538811 0.005454960\n",
       "2 0.2641393   0.001060546 0.0001108033 0.09402454 0.079730906 0.146988524\n",
       "3 0.5995691   0.352265464 0.1144867228 0.04258724 0.005265299 0.005305526\n",
       "4 0.5995691   0.352265464 0.1144867228 0.04258724 0.005265299 0.005305526\n",
       "5 0.7064374   0.328429150 0.0467965471 0.01709937 0.004839601 0.004864335\n",
       "6 0.7064374   0.328429150 0.0467965471 0.01709937 0.004839601 0.004864335\n",
       "  precip    \n",
       "1 0.10531195\n",
       "2 0.30516818\n",
       "3 0.10210120\n",
       "4 0.10210120\n",
       "5 0.09352714\n",
       "6 0.09352714"
      ]
     },
     "metadata": {},
     "output_type": "display_data"
    }
   ],
   "source": [
    "nn.sitesMto <- mutate_if(nn.sitesMto, is.character, as.factor)\n",
    "head(nn.sitesMto)"
   ]
  },
  {
   "cell_type": "markdown",
   "metadata": {},
   "source": [
    "---\n",
    "---"
   ]
  },
  {
   "cell_type": "markdown",
   "metadata": {},
   "source": [
    "## TABLA CON RELACION NN"
   ]
  },
  {
   "cell_type": "code",
   "execution_count": 22,
   "metadata": {},
   "outputs": [
    {
     "data": {
      "text/html": [
       "<table>\n",
       "<caption>A data.frame: 6 × 24</caption>\n",
       "<thead>\n",
       "\t<tr><th></th><th scope=col>siteAQ</th><th scope=col>countAQ</th><th scope=col>siteMto</th><th scope=col>dist</th><th scope=col>countMto</th><th scope=col>ws</th><th scope=col>wd</th><th scope=col>air_temp</th><th scope=col>atmos_pres</th><th scope=col>visibility</th><th scope=col>⋯</th><th scope=col>cl_2</th><th scope=col>cl_3</th><th scope=col>cl</th><th scope=col>cl_1_height</th><th scope=col>cl_2_height</th><th scope=col>cl_3_height</th><th scope=col>pwc</th><th scope=col>precip_12</th><th scope=col>precip_6</th><th scope=col>precip</th></tr>\n",
       "\t<tr><th></th><th scope=col>&lt;fct&gt;</th><th scope=col>&lt;int&gt;</th><th scope=col>&lt;fct&gt;</th><th scope=col>&lt;dbl&gt;</th><th scope=col>&lt;dbl&gt;</th><th scope=col>&lt;dbl&gt;</th><th scope=col>&lt;dbl&gt;</th><th scope=col>&lt;dbl&gt;</th><th scope=col>&lt;dbl&gt;</th><th scope=col>&lt;dbl&gt;</th><th scope=col>⋯</th><th scope=col>&lt;dbl&gt;</th><th scope=col>&lt;dbl&gt;</th><th scope=col>&lt;dbl&gt;</th><th scope=col>&lt;dbl&gt;</th><th scope=col>&lt;dbl&gt;</th><th scope=col>&lt;dbl&gt;</th><th scope=col>&lt;dbl&gt;</th><th scope=col>&lt;dbl&gt;</th><th scope=col>&lt;dbl&gt;</th><th scope=col>&lt;dbl&gt;</th></tr>\n",
       "</thead>\n",
       "<tbody>\n",
       "\t<tr><th scope=row>1</th><td>es0041a</td><td> 62431</td><td>080210-99999</td><td>73.137040</td><td>214667</td><td>0.9998975</td><td>0.7823885</td><td>0.9988913</td><td>0.2556704</td><td>0.4832694</td><td>⋯</td><td>0.31474330</td><td>0.0728896384</td><td>0.5931466</td><td>0.5803500</td><td>0.312805415</td><td>0.0728849800</td><td>0.05560240</td><td>0.005538811</td><td>0.005454960</td><td>0.10531195</td></tr>\n",
       "\t<tr><th scope=row>2</th><td>es0041a</td><td> 62431</td><td>080250-99999</td><td> 5.464009</td><td>223729</td><td>0.9999464</td><td>0.7066272</td><td>0.9988736</td><td>0.2520415</td><td>0.4516983</td><td>⋯</td><td>0.35383880</td><td>0.1144956622</td><td>0.6121647</td><td>0.5995691</td><td>0.352265464</td><td>0.1144867228</td><td>0.04258724</td><td>0.005265299</td><td>0.005305526</td><td>0.10210120</td></tr>\n",
       "\t<tr><th scope=row>3</th><td>es0041a</td><td> 62431</td><td>080800-99999</td><td>45.503738</td><td>242582</td><td>0.9998805</td><td>0.7156755</td><td>0.9980172</td><td>0.2310600</td><td>0.4698288</td><td>⋯</td><td>0.33002449</td><td>0.0468006695</td><td>0.7187508</td><td>0.7064374</td><td>0.328429150</td><td>0.0467965471</td><td>0.01709937</td><td>0.004839601</td><td>0.004864335</td><td>0.09352714</td></tr>\n",
       "\t<tr><th scope=row>4</th><td>es0110a</td><td>146228</td><td>080230-99999</td><td>69.437339</td><td> 63175</td><td>0.9987653</td><td>0.9949664</td><td>0.9999209</td><td>0.9994618</td><td>0.9828888</td><td>⋯</td><td>0.01218837</td><td>0.0001424614</td><td>0.2994064</td><td>0.2641393</td><td>0.001060546</td><td>0.0001108033</td><td>0.09402454</td><td>0.079730906</td><td>0.146988524</td><td>0.30516818</td></tr>\n",
       "\t<tr><th scope=row>5</th><td>es0110a</td><td>146228</td><td>080250-99999</td><td> 5.363540</td><td>223729</td><td>0.9999464</td><td>0.7066272</td><td>0.9988736</td><td>0.2520415</td><td>0.4516983</td><td>⋯</td><td>0.35383880</td><td>0.1144956622</td><td>0.6121647</td><td>0.5995691</td><td>0.352265464</td><td>0.1144867228</td><td>0.04258724</td><td>0.005265299</td><td>0.005305526</td><td>0.10210120</td></tr>\n",
       "\t<tr><th scope=row>6</th><td>es0110a</td><td>146228</td><td>080800-99999</td><td>50.995824</td><td>242582</td><td>0.9998805</td><td>0.7156755</td><td>0.9980172</td><td>0.2310600</td><td>0.4698288</td><td>⋯</td><td>0.33002449</td><td>0.0468006695</td><td>0.7187508</td><td>0.7064374</td><td>0.328429150</td><td>0.0467965471</td><td>0.01709937</td><td>0.004839601</td><td>0.004864335</td><td>0.09352714</td></tr>\n",
       "</tbody>\n",
       "</table>\n"
      ],
      "text/latex": [
       "A data.frame: 6 × 24\n",
       "\\begin{tabular}{r|lllllllllllllllllllll}\n",
       "  & siteAQ & countAQ & siteMto & dist & countMto & ws & wd & air\\_temp & atmos\\_pres & visibility & ⋯ & cl\\_2 & cl\\_3 & cl & cl\\_1\\_height & cl\\_2\\_height & cl\\_3\\_height & pwc & precip\\_12 & precip\\_6 & precip\\\\\n",
       "  & <fct> & <int> & <fct> & <dbl> & <dbl> & <dbl> & <dbl> & <dbl> & <dbl> & <dbl> & ⋯ & <dbl> & <dbl> & <dbl> & <dbl> & <dbl> & <dbl> & <dbl> & <dbl> & <dbl> & <dbl>\\\\\n",
       "\\hline\n",
       "\t1 & es0041a &  62431 & 080210-99999 & 73.137040 & 214667 & 0.9998975 & 0.7823885 & 0.9988913 & 0.2556704 & 0.4832694 & ⋯ & 0.31474330 & 0.0728896384 & 0.5931466 & 0.5803500 & 0.312805415 & 0.0728849800 & 0.05560240 & 0.005538811 & 0.005454960 & 0.10531195\\\\\n",
       "\t2 & es0041a &  62431 & 080250-99999 &  5.464009 & 223729 & 0.9999464 & 0.7066272 & 0.9988736 & 0.2520415 & 0.4516983 & ⋯ & 0.35383880 & 0.1144956622 & 0.6121647 & 0.5995691 & 0.352265464 & 0.1144867228 & 0.04258724 & 0.005265299 & 0.005305526 & 0.10210120\\\\\n",
       "\t3 & es0041a &  62431 & 080800-99999 & 45.503738 & 242582 & 0.9998805 & 0.7156755 & 0.9980172 & 0.2310600 & 0.4698288 & ⋯ & 0.33002449 & 0.0468006695 & 0.7187508 & 0.7064374 & 0.328429150 & 0.0467965471 & 0.01709937 & 0.004839601 & 0.004864335 & 0.09352714\\\\\n",
       "\t4 & es0110a & 146228 & 080230-99999 & 69.437339 &  63175 & 0.9987653 & 0.9949664 & 0.9999209 & 0.9994618 & 0.9828888 & ⋯ & 0.01218837 & 0.0001424614 & 0.2994064 & 0.2641393 & 0.001060546 & 0.0001108033 & 0.09402454 & 0.079730906 & 0.146988524 & 0.30516818\\\\\n",
       "\t5 & es0110a & 146228 & 080250-99999 &  5.363540 & 223729 & 0.9999464 & 0.7066272 & 0.9988736 & 0.2520415 & 0.4516983 & ⋯ & 0.35383880 & 0.1144956622 & 0.6121647 & 0.5995691 & 0.352265464 & 0.1144867228 & 0.04258724 & 0.005265299 & 0.005305526 & 0.10210120\\\\\n",
       "\t6 & es0110a & 146228 & 080800-99999 & 50.995824 & 242582 & 0.9998805 & 0.7156755 & 0.9980172 & 0.2310600 & 0.4698288 & ⋯ & 0.33002449 & 0.0468006695 & 0.7187508 & 0.7064374 & 0.328429150 & 0.0467965471 & 0.01709937 & 0.004839601 & 0.004864335 & 0.09352714\\\\\n",
       "\\end{tabular}\n"
      ],
      "text/markdown": [
       "\n",
       "A data.frame: 6 × 24\n",
       "\n",
       "| <!--/--> | siteAQ &lt;fct&gt; | countAQ &lt;int&gt; | siteMto &lt;fct&gt; | dist &lt;dbl&gt; | countMto &lt;dbl&gt; | ws &lt;dbl&gt; | wd &lt;dbl&gt; | air_temp &lt;dbl&gt; | atmos_pres &lt;dbl&gt; | visibility &lt;dbl&gt; | ⋯ ⋯ | cl_2 &lt;dbl&gt; | cl_3 &lt;dbl&gt; | cl &lt;dbl&gt; | cl_1_height &lt;dbl&gt; | cl_2_height &lt;dbl&gt; | cl_3_height &lt;dbl&gt; | pwc &lt;dbl&gt; | precip_12 &lt;dbl&gt; | precip_6 &lt;dbl&gt; | precip &lt;dbl&gt; |\n",
       "|---|---|---|---|---|---|---|---|---|---|---|---|---|---|---|---|---|---|---|---|---|---|\n",
       "| 1 | es0041a |  62431 | 080210-99999 | 73.137040 | 214667 | 0.9998975 | 0.7823885 | 0.9988913 | 0.2556704 | 0.4832694 | ⋯ | 0.31474330 | 0.0728896384 | 0.5931466 | 0.5803500 | 0.312805415 | 0.0728849800 | 0.05560240 | 0.005538811 | 0.005454960 | 0.10531195 |\n",
       "| 2 | es0041a |  62431 | 080250-99999 |  5.464009 | 223729 | 0.9999464 | 0.7066272 | 0.9988736 | 0.2520415 | 0.4516983 | ⋯ | 0.35383880 | 0.1144956622 | 0.6121647 | 0.5995691 | 0.352265464 | 0.1144867228 | 0.04258724 | 0.005265299 | 0.005305526 | 0.10210120 |\n",
       "| 3 | es0041a |  62431 | 080800-99999 | 45.503738 | 242582 | 0.9998805 | 0.7156755 | 0.9980172 | 0.2310600 | 0.4698288 | ⋯ | 0.33002449 | 0.0468006695 | 0.7187508 | 0.7064374 | 0.328429150 | 0.0467965471 | 0.01709937 | 0.004839601 | 0.004864335 | 0.09352714 |\n",
       "| 4 | es0110a | 146228 | 080230-99999 | 69.437339 |  63175 | 0.9987653 | 0.9949664 | 0.9999209 | 0.9994618 | 0.9828888 | ⋯ | 0.01218837 | 0.0001424614 | 0.2994064 | 0.2641393 | 0.001060546 | 0.0001108033 | 0.09402454 | 0.079730906 | 0.146988524 | 0.30516818 |\n",
       "| 5 | es0110a | 146228 | 080250-99999 |  5.363540 | 223729 | 0.9999464 | 0.7066272 | 0.9988736 | 0.2520415 | 0.4516983 | ⋯ | 0.35383880 | 0.1144956622 | 0.6121647 | 0.5995691 | 0.352265464 | 0.1144867228 | 0.04258724 | 0.005265299 | 0.005305526 | 0.10210120 |\n",
       "| 6 | es0110a | 146228 | 080800-99999 | 50.995824 | 242582 | 0.9998805 | 0.7156755 | 0.9980172 | 0.2310600 | 0.4698288 | ⋯ | 0.33002449 | 0.0468006695 | 0.7187508 | 0.7064374 | 0.328429150 | 0.0467965471 | 0.01709937 | 0.004839601 | 0.004864335 | 0.09352714 |\n",
       "\n"
      ],
      "text/plain": [
       "  siteAQ  countAQ siteMto      dist      countMto ws        wd        air_temp \n",
       "1 es0041a  62431  080210-99999 73.137040 214667   0.9998975 0.7823885 0.9988913\n",
       "2 es0041a  62431  080250-99999  5.464009 223729   0.9999464 0.7066272 0.9988736\n",
       "3 es0041a  62431  080800-99999 45.503738 242582   0.9998805 0.7156755 0.9980172\n",
       "4 es0110a 146228  080230-99999 69.437339  63175   0.9987653 0.9949664 0.9999209\n",
       "5 es0110a 146228  080250-99999  5.363540 223729   0.9999464 0.7066272 0.9988736\n",
       "6 es0110a 146228  080800-99999 50.995824 242582   0.9998805 0.7156755 0.9980172\n",
       "  atmos_pres visibility ⋯ cl_2       cl_3         cl        cl_1_height\n",
       "1 0.2556704  0.4832694  ⋯ 0.31474330 0.0728896384 0.5931466 0.5803500  \n",
       "2 0.2520415  0.4516983  ⋯ 0.35383880 0.1144956622 0.6121647 0.5995691  \n",
       "3 0.2310600  0.4698288  ⋯ 0.33002449 0.0468006695 0.7187508 0.7064374  \n",
       "4 0.9994618  0.9828888  ⋯ 0.01218837 0.0001424614 0.2994064 0.2641393  \n",
       "5 0.2520415  0.4516983  ⋯ 0.35383880 0.1144956622 0.6121647 0.5995691  \n",
       "6 0.2310600  0.4698288  ⋯ 0.33002449 0.0468006695 0.7187508 0.7064374  \n",
       "  cl_2_height cl_3_height  pwc        precip_12   precip_6    precip    \n",
       "1 0.312805415 0.0728849800 0.05560240 0.005538811 0.005454960 0.10531195\n",
       "2 0.352265464 0.1144867228 0.04258724 0.005265299 0.005305526 0.10210120\n",
       "3 0.328429150 0.0467965471 0.01709937 0.004839601 0.004864335 0.09352714\n",
       "4 0.001060546 0.0001108033 0.09402454 0.079730906 0.146988524 0.30516818\n",
       "5 0.352265464 0.1144867228 0.04258724 0.005265299 0.005305526 0.10210120\n",
       "6 0.328429150 0.0467965471 0.01709937 0.004839601 0.004864335 0.09352714"
      ]
     },
     "metadata": {},
     "output_type": "display_data"
    }
   ],
   "source": [
    "nn.sites <- merge(x = nn.sitesAQ,\n",
    "                  y = nn.sitesMto,\n",
    "                  by = \"siteAQ\", all = TRUE)\n",
    "nn.sites <- mutate_if(nn.sites, is.character, as.factor)\n",
    "head(nn.sites)"
   ]
  },
  {
   "cell_type": "markdown",
   "metadata": {},
   "source": [
    "```R\n",
    "write.csv(nn.sites, final.fl, row.names=FALSE)\n",
    "```"
   ]
  }
 ],
 "metadata": {
  "kernelspec": {
   "display_name": "R",
   "language": "R",
   "name": "ir"
  },
  "language_info": {
   "codemirror_mode": "r",
   "file_extension": ".r",
   "mimetype": "text/x-r-source",
   "name": "R",
   "pygments_lexer": "r",
   "version": "4.0.3"
  }
 },
 "nbformat": 4,
 "nbformat_minor": 4
}
