{
 "cells": [
  {
   "cell_type": "markdown",
   "metadata": {},
   "source": [
    "# Relacion NN de las estaciones\n",
    "\n",
    "Estudio de las estaciones de datos en funcion de la cantidad de datos disponibles, la cantidad de `NANs` en los datos y la relevancia dentro del estudio"
   ]
  },
  {
   "cell_type": "markdown",
   "metadata": {},
   "source": [
    "## Lectura de los datos"
   ]
  },
  {
   "cell_type": "code",
   "execution_count": 21,
   "metadata": {},
   "outputs": [
    {
     "data": {
      "text/html": [
       "<table>\n",
       "<caption>A data.frame: 6 × 25</caption>\n",
       "<thead>\n",
       "\t<tr><th></th><th scope=col>Municipio</th><th scope=col>siteAQ</th><th scope=col>countAQ</th><th scope=col>siteMto</th><th scope=col>dist</th><th scope=col>countMto</th><th scope=col>ws</th><th scope=col>wd</th><th scope=col>air_temp</th><th scope=col>atmos_pres</th><th scope=col>⋯</th><th scope=col>cl_2</th><th scope=col>cl_3</th><th scope=col>cl</th><th scope=col>cl_1_height</th><th scope=col>cl_2_height</th><th scope=col>cl_3_height</th><th scope=col>precip_12</th><th scope=col>precip</th><th scope=col>precip_6</th><th scope=col>pwc</th></tr>\n",
       "\t<tr><th></th><th scope=col>&lt;chr&gt;</th><th scope=col>&lt;chr&gt;</th><th scope=col>&lt;int&gt;</th><th scope=col>&lt;chr&gt;</th><th scope=col>&lt;dbl&gt;</th><th scope=col>&lt;int&gt;</th><th scope=col>&lt;dbl&gt;</th><th scope=col>&lt;dbl&gt;</th><th scope=col>&lt;dbl&gt;</th><th scope=col>&lt;dbl&gt;</th><th scope=col>⋯</th><th scope=col>&lt;dbl&gt;</th><th scope=col>&lt;dbl&gt;</th><th scope=col>&lt;dbl&gt;</th><th scope=col>&lt;dbl&gt;</th><th scope=col>&lt;dbl&gt;</th><th scope=col>&lt;dbl&gt;</th><th scope=col>&lt;dbl&gt;</th><th scope=col>&lt;dbl&gt;</th><th scope=col>&lt;dbl&gt;</th><th scope=col>&lt;dbl&gt;</th></tr>\n",
       "</thead>\n",
       "<tbody>\n",
       "\t<tr><th scope=row>1</th><td>Bilbao</td><td>es0041a</td><td> 66515</td><td>080250-99999</td><td> 5.464009</td><td>223729</td><td>0.9999464</td><td>0.7066272</td><td>0.9988736</td><td>0.2520415</td><td>⋯</td><td>0.35383880</td><td>0.1144956622</td><td>0.6121647</td><td>0.5995691</td><td>0.352265464</td><td>0.1144867228</td><td>0.005265299</td><td>0.10210120</td><td>0.005305526</td><td>0.04258724</td></tr>\n",
       "\t<tr><th scope=row>2</th><td>Bilbao</td><td>es0041a</td><td> 66515</td><td>080800-99999</td><td>45.503738</td><td>242582</td><td>0.9998805</td><td>0.7156755</td><td>0.9980172</td><td>0.2310600</td><td>⋯</td><td>0.33002449</td><td>0.0468006695</td><td>0.7187508</td><td>0.7064374</td><td>0.328429150</td><td>0.0467965471</td><td>0.004839601</td><td>0.09352714</td><td>0.004864335</td><td>0.01709937</td></tr>\n",
       "\t<tr><th scope=row>3</th><td>Bilbao</td><td>es0041a</td><td> 66515</td><td>080210-99999</td><td>73.137040</td><td>214667</td><td>0.9998975</td><td>0.7823885</td><td>0.9988913</td><td>0.2556704</td><td>⋯</td><td>0.31474330</td><td>0.0728896384</td><td>0.5931466</td><td>0.5803500</td><td>0.312805415</td><td>0.0728849800</td><td>0.005538811</td><td>0.10531195</td><td>0.005454960</td><td>0.05560240</td></tr>\n",
       "\t<tr><th scope=row>4</th><td>Bilbao</td><td>es0110a</td><td>204740</td><td>080230-99999</td><td>69.437339</td><td> 63175</td><td>0.9987653</td><td>0.9949664</td><td>0.9999209</td><td>0.9994618</td><td>⋯</td><td>0.01218837</td><td>0.0001424614</td><td>0.2994064</td><td>0.2641393</td><td>0.001060546</td><td>0.0001108033</td><td>0.079730906</td><td>0.30516818</td><td>0.146988524</td><td>0.09402454</td></tr>\n",
       "\t<tr><th scope=row>5</th><td>Bilbao</td><td>es0110a</td><td>204740</td><td>080250-99999</td><td> 5.363540</td><td>223729</td><td>0.9999464</td><td>0.7066272</td><td>0.9988736</td><td>0.2520415</td><td>⋯</td><td>0.35383880</td><td>0.1144956622</td><td>0.6121647</td><td>0.5995691</td><td>0.352265464</td><td>0.1144867228</td><td>0.005265299</td><td>0.10210120</td><td>0.005305526</td><td>0.04258724</td></tr>\n",
       "\t<tr><th scope=row>6</th><td>Bilbao</td><td>es0110a</td><td>204740</td><td>080800-99999</td><td>50.995824</td><td>242582</td><td>0.9998805</td><td>0.7156755</td><td>0.9980172</td><td>0.2310600</td><td>⋯</td><td>0.33002449</td><td>0.0468006695</td><td>0.7187508</td><td>0.7064374</td><td>0.328429150</td><td>0.0467965471</td><td>0.004839601</td><td>0.09352714</td><td>0.004864335</td><td>0.01709937</td></tr>\n",
       "</tbody>\n",
       "</table>\n"
      ],
      "text/latex": [
       "A data.frame: 6 × 25\n",
       "\\begin{tabular}{r|lllllllllllllllllllll}\n",
       "  & Municipio & siteAQ & countAQ & siteMto & dist & countMto & ws & wd & air\\_temp & atmos\\_pres & ⋯ & cl\\_2 & cl\\_3 & cl & cl\\_1\\_height & cl\\_2\\_height & cl\\_3\\_height & precip\\_12 & precip & precip\\_6 & pwc\\\\\n",
       "  & <chr> & <chr> & <int> & <chr> & <dbl> & <int> & <dbl> & <dbl> & <dbl> & <dbl> & ⋯ & <dbl> & <dbl> & <dbl> & <dbl> & <dbl> & <dbl> & <dbl> & <dbl> & <dbl> & <dbl>\\\\\n",
       "\\hline\n",
       "\t1 & Bilbao & es0041a &  66515 & 080250-99999 &  5.464009 & 223729 & 0.9999464 & 0.7066272 & 0.9988736 & 0.2520415 & ⋯ & 0.35383880 & 0.1144956622 & 0.6121647 & 0.5995691 & 0.352265464 & 0.1144867228 & 0.005265299 & 0.10210120 & 0.005305526 & 0.04258724\\\\\n",
       "\t2 & Bilbao & es0041a &  66515 & 080800-99999 & 45.503738 & 242582 & 0.9998805 & 0.7156755 & 0.9980172 & 0.2310600 & ⋯ & 0.33002449 & 0.0468006695 & 0.7187508 & 0.7064374 & 0.328429150 & 0.0467965471 & 0.004839601 & 0.09352714 & 0.004864335 & 0.01709937\\\\\n",
       "\t3 & Bilbao & es0041a &  66515 & 080210-99999 & 73.137040 & 214667 & 0.9998975 & 0.7823885 & 0.9988913 & 0.2556704 & ⋯ & 0.31474330 & 0.0728896384 & 0.5931466 & 0.5803500 & 0.312805415 & 0.0728849800 & 0.005538811 & 0.10531195 & 0.005454960 & 0.05560240\\\\\n",
       "\t4 & Bilbao & es0110a & 204740 & 080230-99999 & 69.437339 &  63175 & 0.9987653 & 0.9949664 & 0.9999209 & 0.9994618 & ⋯ & 0.01218837 & 0.0001424614 & 0.2994064 & 0.2641393 & 0.001060546 & 0.0001108033 & 0.079730906 & 0.30516818 & 0.146988524 & 0.09402454\\\\\n",
       "\t5 & Bilbao & es0110a & 204740 & 080250-99999 &  5.363540 & 223729 & 0.9999464 & 0.7066272 & 0.9988736 & 0.2520415 & ⋯ & 0.35383880 & 0.1144956622 & 0.6121647 & 0.5995691 & 0.352265464 & 0.1144867228 & 0.005265299 & 0.10210120 & 0.005305526 & 0.04258724\\\\\n",
       "\t6 & Bilbao & es0110a & 204740 & 080800-99999 & 50.995824 & 242582 & 0.9998805 & 0.7156755 & 0.9980172 & 0.2310600 & ⋯ & 0.33002449 & 0.0468006695 & 0.7187508 & 0.7064374 & 0.328429150 & 0.0467965471 & 0.004839601 & 0.09352714 & 0.004864335 & 0.01709937\\\\\n",
       "\\end{tabular}\n"
      ],
      "text/markdown": [
       "\n",
       "A data.frame: 6 × 25\n",
       "\n",
       "| <!--/--> | Municipio &lt;chr&gt; | siteAQ &lt;chr&gt; | countAQ &lt;int&gt; | siteMto &lt;chr&gt; | dist &lt;dbl&gt; | countMto &lt;int&gt; | ws &lt;dbl&gt; | wd &lt;dbl&gt; | air_temp &lt;dbl&gt; | atmos_pres &lt;dbl&gt; | ⋯ ⋯ | cl_2 &lt;dbl&gt; | cl_3 &lt;dbl&gt; | cl &lt;dbl&gt; | cl_1_height &lt;dbl&gt; | cl_2_height &lt;dbl&gt; | cl_3_height &lt;dbl&gt; | precip_12 &lt;dbl&gt; | precip &lt;dbl&gt; | precip_6 &lt;dbl&gt; | pwc &lt;dbl&gt; |\n",
       "|---|---|---|---|---|---|---|---|---|---|---|---|---|---|---|---|---|---|---|---|---|---|\n",
       "| 1 | Bilbao | es0041a |  66515 | 080250-99999 |  5.464009 | 223729 | 0.9999464 | 0.7066272 | 0.9988736 | 0.2520415 | ⋯ | 0.35383880 | 0.1144956622 | 0.6121647 | 0.5995691 | 0.352265464 | 0.1144867228 | 0.005265299 | 0.10210120 | 0.005305526 | 0.04258724 |\n",
       "| 2 | Bilbao | es0041a |  66515 | 080800-99999 | 45.503738 | 242582 | 0.9998805 | 0.7156755 | 0.9980172 | 0.2310600 | ⋯ | 0.33002449 | 0.0468006695 | 0.7187508 | 0.7064374 | 0.328429150 | 0.0467965471 | 0.004839601 | 0.09352714 | 0.004864335 | 0.01709937 |\n",
       "| 3 | Bilbao | es0041a |  66515 | 080210-99999 | 73.137040 | 214667 | 0.9998975 | 0.7823885 | 0.9988913 | 0.2556704 | ⋯ | 0.31474330 | 0.0728896384 | 0.5931466 | 0.5803500 | 0.312805415 | 0.0728849800 | 0.005538811 | 0.10531195 | 0.005454960 | 0.05560240 |\n",
       "| 4 | Bilbao | es0110a | 204740 | 080230-99999 | 69.437339 |  63175 | 0.9987653 | 0.9949664 | 0.9999209 | 0.9994618 | ⋯ | 0.01218837 | 0.0001424614 | 0.2994064 | 0.2641393 | 0.001060546 | 0.0001108033 | 0.079730906 | 0.30516818 | 0.146988524 | 0.09402454 |\n",
       "| 5 | Bilbao | es0110a | 204740 | 080250-99999 |  5.363540 | 223729 | 0.9999464 | 0.7066272 | 0.9988736 | 0.2520415 | ⋯ | 0.35383880 | 0.1144956622 | 0.6121647 | 0.5995691 | 0.352265464 | 0.1144867228 | 0.005265299 | 0.10210120 | 0.005305526 | 0.04258724 |\n",
       "| 6 | Bilbao | es0110a | 204740 | 080800-99999 | 50.995824 | 242582 | 0.9998805 | 0.7156755 | 0.9980172 | 0.2310600 | ⋯ | 0.33002449 | 0.0468006695 | 0.7187508 | 0.7064374 | 0.328429150 | 0.0467965471 | 0.004839601 | 0.09352714 | 0.004864335 | 0.01709937 |\n",
       "\n"
      ],
      "text/plain": [
       "  Municipio siteAQ  countAQ siteMto      dist      countMto ws        wd       \n",
       "1 Bilbao    es0041a  66515  080250-99999  5.464009 223729   0.9999464 0.7066272\n",
       "2 Bilbao    es0041a  66515  080800-99999 45.503738 242582   0.9998805 0.7156755\n",
       "3 Bilbao    es0041a  66515  080210-99999 73.137040 214667   0.9998975 0.7823885\n",
       "4 Bilbao    es0110a 204740  080230-99999 69.437339  63175   0.9987653 0.9949664\n",
       "5 Bilbao    es0110a 204740  080250-99999  5.363540 223729   0.9999464 0.7066272\n",
       "6 Bilbao    es0110a 204740  080800-99999 50.995824 242582   0.9998805 0.7156755\n",
       "  air_temp  atmos_pres ⋯ cl_2       cl_3         cl        cl_1_height\n",
       "1 0.9988736 0.2520415  ⋯ 0.35383880 0.1144956622 0.6121647 0.5995691  \n",
       "2 0.9980172 0.2310600  ⋯ 0.33002449 0.0468006695 0.7187508 0.7064374  \n",
       "3 0.9988913 0.2556704  ⋯ 0.31474330 0.0728896384 0.5931466 0.5803500  \n",
       "4 0.9999209 0.9994618  ⋯ 0.01218837 0.0001424614 0.2994064 0.2641393  \n",
       "5 0.9988736 0.2520415  ⋯ 0.35383880 0.1144956622 0.6121647 0.5995691  \n",
       "6 0.9980172 0.2310600  ⋯ 0.33002449 0.0468006695 0.7187508 0.7064374  \n",
       "  cl_2_height cl_3_height  precip_12   precip     precip_6    pwc       \n",
       "1 0.352265464 0.1144867228 0.005265299 0.10210120 0.005305526 0.04258724\n",
       "2 0.328429150 0.0467965471 0.004839601 0.09352714 0.004864335 0.01709937\n",
       "3 0.312805415 0.0728849800 0.005538811 0.10531195 0.005454960 0.05560240\n",
       "4 0.001060546 0.0001108033 0.079730906 0.30516818 0.146988524 0.09402454\n",
       "5 0.352265464 0.1144867228 0.005265299 0.10210120 0.005305526 0.04258724\n",
       "6 0.328429150 0.0467965471 0.004839601 0.09352714 0.004864335 0.01709937"
      ]
     },
     "metadata": {},
     "output_type": "display_data"
    }
   ],
   "source": [
    "nn.sites <- read.csv(\"../data/csv/nn_sites.csv\", stringsAsFactors = FALSE)\n",
    "head(nn.sites)"
   ]
  },
  {
   "cell_type": "code",
   "execution_count": 22,
   "metadata": {},
   "outputs": [
    {
     "data": {
      "text/html": [
       "<table>\n",
       "<caption>A data.frame: 4 × 20</caption>\n",
       "<thead>\n",
       "\t<tr><th></th><th scope=col>countMto</th><th scope=col>ws</th><th scope=col>wd</th><th scope=col>air_temp</th><th scope=col>atmos_pres</th><th scope=col>visibility</th><th scope=col>dew_point</th><th scope=col>RH</th><th scope=col>ceil_hgt</th><th scope=col>cl_1</th><th scope=col>cl_2</th><th scope=col>cl_3</th><th scope=col>cl</th><th scope=col>cl_1_height</th><th scope=col>cl_2_height</th><th scope=col>cl_3_height</th><th scope=col>precip_12</th><th scope=col>precip</th><th scope=col>precip_6</th><th scope=col>pwc</th></tr>\n",
       "\t<tr><th></th><th scope=col>&lt;int&gt;</th><th scope=col>&lt;int&gt;</th><th scope=col>&lt;int&gt;</th><th scope=col>&lt;int&gt;</th><th scope=col>&lt;int&gt;</th><th scope=col>&lt;int&gt;</th><th scope=col>&lt;int&gt;</th><th scope=col>&lt;int&gt;</th><th scope=col>&lt;int&gt;</th><th scope=col>&lt;int&gt;</th><th scope=col>&lt;int&gt;</th><th scope=col>&lt;int&gt;</th><th scope=col>&lt;int&gt;</th><th scope=col>&lt;int&gt;</th><th scope=col>&lt;int&gt;</th><th scope=col>&lt;int&gt;</th><th scope=col>&lt;int&gt;</th><th scope=col>&lt;int&gt;</th><th scope=col>&lt;int&gt;</th><th scope=col>&lt;int&gt;</th></tr>\n",
       "</thead>\n",
       "<tbody>\n",
       "\t<tr><th scope=row>0.5</th><td>159</td><td>159</td><td>159</td><td>159</td><td>46</td><td>66</td><td>159</td><td>159</td><td>26</td><td>44</td><td>0</td><td>0</td><td>44</td><td>43</td><td>0</td><td>0</td><td>0</td><td>14</td><td>0</td><td>1</td></tr>\n",
       "\t<tr><th scope=row>0.7</th><td>159</td><td>159</td><td>142</td><td>159</td><td>38</td><td>33</td><td>146</td><td>146</td><td> 3</td><td> 7</td><td>0</td><td>0</td><td> 7</td><td> 7</td><td>0</td><td>0</td><td>0</td><td>14</td><td>0</td><td>1</td></tr>\n",
       "\t<tr><th scope=row>0.8</th><td>159</td><td>152</td><td>111</td><td>159</td><td>38</td><td>33</td><td>135</td><td>135</td><td> 3</td><td> 0</td><td>0</td><td>0</td><td> 0</td><td> 0</td><td>0</td><td>0</td><td>0</td><td> 8</td><td>0</td><td>1</td></tr>\n",
       "\t<tr><th scope=row>0.9</th><td>159</td><td>142</td><td> 60</td><td>151</td><td>38</td><td>33</td><td>133</td><td>133</td><td> 0</td><td> 0</td><td>0</td><td>0</td><td> 0</td><td> 0</td><td>0</td><td>0</td><td>0</td><td> 2</td><td>0</td><td>1</td></tr>\n",
       "</tbody>\n",
       "</table>\n"
      ],
      "text/latex": [
       "A data.frame: 4 × 20\n",
       "\\begin{tabular}{r|llllllllllllllllllll}\n",
       "  & countMto & ws & wd & air\\_temp & atmos\\_pres & visibility & dew\\_point & RH & ceil\\_hgt & cl\\_1 & cl\\_2 & cl\\_3 & cl & cl\\_1\\_height & cl\\_2\\_height & cl\\_3\\_height & precip\\_12 & precip & precip\\_6 & pwc\\\\\n",
       "  & <int> & <int> & <int> & <int> & <int> & <int> & <int> & <int> & <int> & <int> & <int> & <int> & <int> & <int> & <int> & <int> & <int> & <int> & <int> & <int>\\\\\n",
       "\\hline\n",
       "\t0.5 & 159 & 159 & 159 & 159 & 46 & 66 & 159 & 159 & 26 & 44 & 0 & 0 & 44 & 43 & 0 & 0 & 0 & 14 & 0 & 1\\\\\n",
       "\t0.7 & 159 & 159 & 142 & 159 & 38 & 33 & 146 & 146 &  3 &  7 & 0 & 0 &  7 &  7 & 0 & 0 & 0 & 14 & 0 & 1\\\\\n",
       "\t0.8 & 159 & 152 & 111 & 159 & 38 & 33 & 135 & 135 &  3 &  0 & 0 & 0 &  0 &  0 & 0 & 0 & 0 &  8 & 0 & 1\\\\\n",
       "\t0.9 & 159 & 142 &  60 & 151 & 38 & 33 & 133 & 133 &  0 &  0 & 0 & 0 &  0 &  0 & 0 & 0 & 0 &  2 & 0 & 1\\\\\n",
       "\\end{tabular}\n"
      ],
      "text/markdown": [
       "\n",
       "A data.frame: 4 × 20\n",
       "\n",
       "| <!--/--> | countMto &lt;int&gt; | ws &lt;int&gt; | wd &lt;int&gt; | air_temp &lt;int&gt; | atmos_pres &lt;int&gt; | visibility &lt;int&gt; | dew_point &lt;int&gt; | RH &lt;int&gt; | ceil_hgt &lt;int&gt; | cl_1 &lt;int&gt; | cl_2 &lt;int&gt; | cl_3 &lt;int&gt; | cl &lt;int&gt; | cl_1_height &lt;int&gt; | cl_2_height &lt;int&gt; | cl_3_height &lt;int&gt; | precip_12 &lt;int&gt; | precip &lt;int&gt; | precip_6 &lt;int&gt; | pwc &lt;int&gt; |\n",
       "|---|---|---|---|---|---|---|---|---|---|---|---|---|---|---|---|---|---|---|---|---|\n",
       "| 0.5 | 159 | 159 | 159 | 159 | 46 | 66 | 159 | 159 | 26 | 44 | 0 | 0 | 44 | 43 | 0 | 0 | 0 | 14 | 0 | 1 |\n",
       "| 0.7 | 159 | 159 | 142 | 159 | 38 | 33 | 146 | 146 |  3 |  7 | 0 | 0 |  7 |  7 | 0 | 0 | 0 | 14 | 0 | 1 |\n",
       "| 0.8 | 159 | 152 | 111 | 159 | 38 | 33 | 135 | 135 |  3 |  0 | 0 | 0 |  0 |  0 | 0 | 0 | 0 |  8 | 0 | 1 |\n",
       "| 0.9 | 159 | 142 |  60 | 151 | 38 | 33 | 133 | 133 |  0 |  0 | 0 | 0 |  0 |  0 | 0 | 0 | 0 |  2 | 0 | 1 |\n",
       "\n"
      ],
      "text/plain": [
       "    countMto ws  wd  air_temp atmos_pres visibility dew_point RH  ceil_hgt cl_1\n",
       "0.5 159      159 159 159      46         66         159       159 26       44  \n",
       "0.7 159      159 142 159      38         33         146       146  3        7  \n",
       "0.8 159      152 111 159      38         33         135       135  3        0  \n",
       "0.9 159      142  60 151      38         33         133       133  0        0  \n",
       "    cl_2 cl_3 cl cl_1_height cl_2_height cl_3_height precip_12 precip precip_6\n",
       "0.5 0    0    44 43          0           0           0         14     0       \n",
       "0.7 0    0     7  7          0           0           0         14     0       \n",
       "0.8 0    0     0  0          0           0           0          8     0       \n",
       "0.9 0    0     0  0          0           0           0          2     0       \n",
       "    pwc\n",
       "0.5 1  \n",
       "0.7 1  \n",
       "0.8 1  \n",
       "0.9 1  "
      ]
     },
     "metadata": {},
     "output_type": "display_data"
    }
   ],
   "source": [
    "df <- data.frame()\n",
    "percent <- c(0.5, 0.7, 0.8, 0.9)\n",
    "\n",
    "for (nm in names(nn.sites)[6:length(names(nn.sites))]) {\n",
    "    for (i in 1:length(percent)) {\n",
    "        count <- sum(nn.sites[, nm] >= percent[i])\n",
    "        df[i, nm] <- count\n",
    "    } \n",
    "}\n",
    "\n",
    "\n",
    "row.names(df) <- percent\n",
    "head(df)"
   ]
  },
  {
   "cell_type": "code",
   "execution_count": 25,
   "metadata": {},
   "outputs": [
    {
     "data": {
      "text/html": [
       "53"
      ],
      "text/latex": [
       "53"
      ],
      "text/markdown": [
       "53"
      ],
      "text/plain": [
       "[1] 53"
      ]
     },
     "metadata": {},
     "output_type": "display_data"
    },
    {
     "data": {
      "text/html": [
       "66"
      ],
      "text/latex": [
       "66"
      ],
      "text/markdown": [
       "66"
      ],
      "text/plain": [
       "[1] 66"
      ]
     },
     "metadata": {},
     "output_type": "display_data"
    }
   ],
   "source": [
    "length(levels(as.factor(nn.sites$siteAQ)))\n",
    "length(levels(as.factor(nn.sites$siteMto)))"
   ]
  },
  {
   "cell_type": "code",
   "execution_count": 26,
   "metadata": {},
   "outputs": [],
   "source": [
    "nn.sites <- nn.sites[, 1:12]"
   ]
  },
  {
   "cell_type": "code",
   "execution_count": 27,
   "metadata": {},
   "outputs": [],
   "source": [
    "a <- c(0)\n",
    "\n",
    "for (i in 1:nrow(nn.sites)) {\n",
    "    if (FALSE %in% (nn.sites[i, 5:ncol(nn.sites)] > 0.0)) {\n",
    "        a <- c(a, -i)\n",
    "    }\n",
    "}\n",
    "if (length(a) != 1) {\n",
    "    nn.sites <- nn.sites[a, ]\n",
    "}"
   ]
  },
  {
   "cell_type": "code",
   "execution_count": 28,
   "metadata": {},
   "outputs": [
    {
     "data": {
      "text/html": [
       "<table>\n",
       "<caption>A data.frame: 6 × 12</caption>\n",
       "<thead>\n",
       "\t<tr><th></th><th scope=col>Municipio</th><th scope=col>siteAQ</th><th scope=col>countAQ</th><th scope=col>siteMto</th><th scope=col>dist</th><th scope=col>countMto</th><th scope=col>ws</th><th scope=col>wd</th><th scope=col>air_temp</th><th scope=col>atmos_pres</th><th scope=col>visibility</th><th scope=col>dew_point</th></tr>\n",
       "\t<tr><th></th><th scope=col>&lt;chr&gt;</th><th scope=col>&lt;chr&gt;</th><th scope=col>&lt;int&gt;</th><th scope=col>&lt;chr&gt;</th><th scope=col>&lt;dbl&gt;</th><th scope=col>&lt;int&gt;</th><th scope=col>&lt;dbl&gt;</th><th scope=col>&lt;dbl&gt;</th><th scope=col>&lt;dbl&gt;</th><th scope=col>&lt;dbl&gt;</th><th scope=col>&lt;dbl&gt;</th><th scope=col>&lt;dbl&gt;</th></tr>\n",
       "</thead>\n",
       "<tbody>\n",
       "\t<tr><th scope=row>1</th><td>Bilbao</td><td>es0041a</td><td> 66515</td><td>080250-99999</td><td> 5.464009</td><td>223729</td><td>0.9999464</td><td>0.7066272</td><td>0.9988736</td><td>0.2520415</td><td>0.4516983</td><td>0.9986055</td></tr>\n",
       "\t<tr><th scope=row>2</th><td>Bilbao</td><td>es0041a</td><td> 66515</td><td>080800-99999</td><td>45.503738</td><td>242582</td><td>0.9998805</td><td>0.7156755</td><td>0.9980172</td><td>0.2310600</td><td>0.4698288</td><td>0.9976132</td></tr>\n",
       "\t<tr><th scope=row>3</th><td>Bilbao</td><td>es0041a</td><td> 66515</td><td>080210-99999</td><td>73.137040</td><td>214667</td><td>0.9998975</td><td>0.7823885</td><td>0.9988913</td><td>0.2556704</td><td>0.4832694</td><td>0.9984068</td></tr>\n",
       "\t<tr><th scope=row>4</th><td>Bilbao</td><td>es0110a</td><td>204740</td><td>080230-99999</td><td>69.437339</td><td> 63175</td><td>0.9987653</td><td>0.9949664</td><td>0.9999209</td><td>0.9994618</td><td>0.9828888</td><td>0.9995410</td></tr>\n",
       "\t<tr><th scope=row>5</th><td>Bilbao</td><td>es0110a</td><td>204740</td><td>080250-99999</td><td> 5.363540</td><td>223729</td><td>0.9999464</td><td>0.7066272</td><td>0.9988736</td><td>0.2520415</td><td>0.4516983</td><td>0.9986055</td></tr>\n",
       "\t<tr><th scope=row>6</th><td>Bilbao</td><td>es0110a</td><td>204740</td><td>080800-99999</td><td>50.995824</td><td>242582</td><td>0.9998805</td><td>0.7156755</td><td>0.9980172</td><td>0.2310600</td><td>0.4698288</td><td>0.9976132</td></tr>\n",
       "</tbody>\n",
       "</table>\n"
      ],
      "text/latex": [
       "A data.frame: 6 × 12\n",
       "\\begin{tabular}{r|llllllllllll}\n",
       "  & Municipio & siteAQ & countAQ & siteMto & dist & countMto & ws & wd & air\\_temp & atmos\\_pres & visibility & dew\\_point\\\\\n",
       "  & <chr> & <chr> & <int> & <chr> & <dbl> & <int> & <dbl> & <dbl> & <dbl> & <dbl> & <dbl> & <dbl>\\\\\n",
       "\\hline\n",
       "\t1 & Bilbao & es0041a &  66515 & 080250-99999 &  5.464009 & 223729 & 0.9999464 & 0.7066272 & 0.9988736 & 0.2520415 & 0.4516983 & 0.9986055\\\\\n",
       "\t2 & Bilbao & es0041a &  66515 & 080800-99999 & 45.503738 & 242582 & 0.9998805 & 0.7156755 & 0.9980172 & 0.2310600 & 0.4698288 & 0.9976132\\\\\n",
       "\t3 & Bilbao & es0041a &  66515 & 080210-99999 & 73.137040 & 214667 & 0.9998975 & 0.7823885 & 0.9988913 & 0.2556704 & 0.4832694 & 0.9984068\\\\\n",
       "\t4 & Bilbao & es0110a & 204740 & 080230-99999 & 69.437339 &  63175 & 0.9987653 & 0.9949664 & 0.9999209 & 0.9994618 & 0.9828888 & 0.9995410\\\\\n",
       "\t5 & Bilbao & es0110a & 204740 & 080250-99999 &  5.363540 & 223729 & 0.9999464 & 0.7066272 & 0.9988736 & 0.2520415 & 0.4516983 & 0.9986055\\\\\n",
       "\t6 & Bilbao & es0110a & 204740 & 080800-99999 & 50.995824 & 242582 & 0.9998805 & 0.7156755 & 0.9980172 & 0.2310600 & 0.4698288 & 0.9976132\\\\\n",
       "\\end{tabular}\n"
      ],
      "text/markdown": [
       "\n",
       "A data.frame: 6 × 12\n",
       "\n",
       "| <!--/--> | Municipio &lt;chr&gt; | siteAQ &lt;chr&gt; | countAQ &lt;int&gt; | siteMto &lt;chr&gt; | dist &lt;dbl&gt; | countMto &lt;int&gt; | ws &lt;dbl&gt; | wd &lt;dbl&gt; | air_temp &lt;dbl&gt; | atmos_pres &lt;dbl&gt; | visibility &lt;dbl&gt; | dew_point &lt;dbl&gt; |\n",
       "|---|---|---|---|---|---|---|---|---|---|---|---|---|\n",
       "| 1 | Bilbao | es0041a |  66515 | 080250-99999 |  5.464009 | 223729 | 0.9999464 | 0.7066272 | 0.9988736 | 0.2520415 | 0.4516983 | 0.9986055 |\n",
       "| 2 | Bilbao | es0041a |  66515 | 080800-99999 | 45.503738 | 242582 | 0.9998805 | 0.7156755 | 0.9980172 | 0.2310600 | 0.4698288 | 0.9976132 |\n",
       "| 3 | Bilbao | es0041a |  66515 | 080210-99999 | 73.137040 | 214667 | 0.9998975 | 0.7823885 | 0.9988913 | 0.2556704 | 0.4832694 | 0.9984068 |\n",
       "| 4 | Bilbao | es0110a | 204740 | 080230-99999 | 69.437339 |  63175 | 0.9987653 | 0.9949664 | 0.9999209 | 0.9994618 | 0.9828888 | 0.9995410 |\n",
       "| 5 | Bilbao | es0110a | 204740 | 080250-99999 |  5.363540 | 223729 | 0.9999464 | 0.7066272 | 0.9988736 | 0.2520415 | 0.4516983 | 0.9986055 |\n",
       "| 6 | Bilbao | es0110a | 204740 | 080800-99999 | 50.995824 | 242582 | 0.9998805 | 0.7156755 | 0.9980172 | 0.2310600 | 0.4698288 | 0.9976132 |\n",
       "\n"
      ],
      "text/plain": [
       "  Municipio siteAQ  countAQ siteMto      dist      countMto ws        wd       \n",
       "1 Bilbao    es0041a  66515  080250-99999  5.464009 223729   0.9999464 0.7066272\n",
       "2 Bilbao    es0041a  66515  080800-99999 45.503738 242582   0.9998805 0.7156755\n",
       "3 Bilbao    es0041a  66515  080210-99999 73.137040 214667   0.9998975 0.7823885\n",
       "4 Bilbao    es0110a 204740  080230-99999 69.437339  63175   0.9987653 0.9949664\n",
       "5 Bilbao    es0110a 204740  080250-99999  5.363540 223729   0.9999464 0.7066272\n",
       "6 Bilbao    es0110a 204740  080800-99999 50.995824 242582   0.9998805 0.7156755\n",
       "  air_temp  atmos_pres visibility dew_point\n",
       "1 0.9988736 0.2520415  0.4516983  0.9986055\n",
       "2 0.9980172 0.2310600  0.4698288  0.9976132\n",
       "3 0.9988913 0.2556704  0.4832694  0.9984068\n",
       "4 0.9999209 0.9994618  0.9828888  0.9995410\n",
       "5 0.9988736 0.2520415  0.4516983  0.9986055\n",
       "6 0.9980172 0.2310600  0.4698288  0.9976132"
      ]
     },
     "metadata": {},
     "output_type": "display_data"
    }
   ],
   "source": [
    "head(nn.sites)"
   ]
  },
  {
   "cell_type": "code",
   "execution_count": null,
   "metadata": {},
   "outputs": [],
   "source": [
    "percnt <- 0.8\n",
    "columns <- 6:ncol(nn.sites)\n",
    "\n",
    "for (i in 1:nrow(nn.sites)) {\n",
    "    numVar <- sum(nn.sites[i, columns] >= percnt)\n",
    "    nn.sites[i, \"numVar\"] <- numVar\n",
    "}\n",
    "\n",
    "head(nn.sites)"
   ]
  },
  {
   "cell_type": "code",
   "execution_count": null,
   "metadata": {},
   "outputs": [],
   "source": [
    "df <- data.frame()\n",
    "stations <- levels(as.factor(nn.sites$siteAQ))\n",
    "\n",
    "for (st in stations) {\n",
    "    a <- nn.sites[nn.sites$siteAQ == st &\n",
    "                  nn.sites$numVar >= 7, ][order(nn.sites[nn.sites$siteAQ == st &\n",
    "                                                         nn.sites$numVar == 7, ]$dist), ]\n",
    "\n",
    "    if (nrow(a) >= 1) {\n",
    "        a$id <- seq.int(nrow(a))\n",
    "    \n",
    "        df <- rbind(df, a[1, ])\n",
    "    }\n",
    "}\n",
    "head(df)"
   ]
  },
  {
   "cell_type": "code",
   "execution_count": null,
   "metadata": {},
   "outputs": [],
   "source": [
    "nrow(df)"
   ]
  },
  {
   "cell_type": "code",
   "execution_count": null,
   "metadata": {},
   "outputs": [],
   "source": [
    "municipios <- levels(as.factor(df[, \"Municipio\"]))\n",
    "unique.cty <- data.frame()\n",
    "\n",
    "for (i in 1:length(municipios)) {\n",
    "    sm.city <- df[df$Municipio == municipios[i], ]\n",
    "    \n",
    "    unique.cty <- rbind(unique.cty, \n",
    "                        sm.city[which.max(sm.city$countAQ), ]\n",
    "                       )\n",
    "}\n",
    "\n",
    "head(unique.cty)"
   ]
  },
  {
   "cell_type": "code",
   "execution_count": null,
   "metadata": {},
   "outputs": [],
   "source": [
    "best.sites <- unique.cty[order(-unique.cty$countAQ -unique.cty$countMto), ]\n",
    "head(best.sites)"
   ]
  },
  {
   "cell_type": "code",
   "execution_count": null,
   "metadata": {},
   "outputs": [],
   "source": [
    "length(levels(as.factor(df$siteAQ)))#best.sites$siteAQ)))\n",
    "length(levels(as.factor(df$siteMto)))#best.sites$siteMto)))"
   ]
  },
  {
   "cell_type": "code",
   "execution_count": null,
   "metadata": {},
   "outputs": [],
   "source": [
    "best.sites"
   ]
  }
 ],
 "metadata": {
  "kernelspec": {
   "display_name": "R",
   "language": "R",
   "name": "ir"
  },
  "language_info": {
   "codemirror_mode": "r",
   "file_extension": ".r",
   "mimetype": "text/x-r-source",
   "name": "R",
   "pygments_lexer": "r",
   "version": "4.0.3"
  }
 },
 "nbformat": 4,
 "nbformat_minor": 4
}
