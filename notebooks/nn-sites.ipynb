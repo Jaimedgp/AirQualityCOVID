{
 "cells": [
  {
   "cell_type": "markdown",
   "metadata": {},
   "source": [
    "# Relacion NN de las estaciones\n",
    "\n",
    "Estudio de las estaciones de datos en funcion de la cantidad de datos disponibles, la cantidad de `NANs` en los datos y la relevancia dentro del estudio"
   ]
  },
  {
   "cell_type": "markdown",
   "metadata": {},
   "source": [
    "## Lectura de los datos"
   ]
  },
  {
   "cell_type": "code",
   "execution_count": 1,
   "metadata": {},
   "outputs": [
    {
     "data": {
      "text/html": [
       "<table>\n",
       "<caption>A data.frame: 6 × 24</caption>\n",
       "<thead>\n",
       "\t<tr><th></th><th scope=col>siteAQ</th><th scope=col>countAQ</th><th scope=col>siteMto</th><th scope=col>dist</th><th scope=col>countMto</th><th scope=col>ws</th><th scope=col>wd</th><th scope=col>air_temp</th><th scope=col>atmos_pres</th><th scope=col>visibility</th><th scope=col>⋯</th><th scope=col>cl_2</th><th scope=col>cl_3</th><th scope=col>cl</th><th scope=col>cl_1_height</th><th scope=col>cl_2_height</th><th scope=col>cl_3_height</th><th scope=col>precip_12</th><th scope=col>precip</th><th scope=col>precip_6</th><th scope=col>pwc</th></tr>\n",
       "\t<tr><th></th><th scope=col>&lt;chr&gt;</th><th scope=col>&lt;int&gt;</th><th scope=col>&lt;chr&gt;</th><th scope=col>&lt;dbl&gt;</th><th scope=col>&lt;int&gt;</th><th scope=col>&lt;dbl&gt;</th><th scope=col>&lt;dbl&gt;</th><th scope=col>&lt;dbl&gt;</th><th scope=col>&lt;dbl&gt;</th><th scope=col>&lt;dbl&gt;</th><th scope=col>⋯</th><th scope=col>&lt;dbl&gt;</th><th scope=col>&lt;dbl&gt;</th><th scope=col>&lt;dbl&gt;</th><th scope=col>&lt;dbl&gt;</th><th scope=col>&lt;dbl&gt;</th><th scope=col>&lt;dbl&gt;</th><th scope=col>&lt;dbl&gt;</th><th scope=col>&lt;dbl&gt;</th><th scope=col>&lt;dbl&gt;</th><th scope=col>&lt;dbl&gt;</th></tr>\n",
       "</thead>\n",
       "<tbody>\n",
       "\t<tr><th scope=row>1</th><td>es0041a</td><td> 66515</td><td>080250-99999</td><td> 5.464009</td><td>223729</td><td>0.9999464</td><td>0.7066272</td><td>0.9988736</td><td>0.2520415</td><td>0.4516983</td><td>⋯</td><td>0.35383880</td><td>0.1144956622</td><td>0.6121647</td><td>0.5995691</td><td>0.352265464</td><td>0.1144867228</td><td>0.005265299</td><td>0.10210120</td><td>0.005305526</td><td>0.04258724</td></tr>\n",
       "\t<tr><th scope=row>2</th><td>es0041a</td><td> 66515</td><td>080210-99999</td><td>73.137040</td><td>214667</td><td>0.9998975</td><td>0.7823885</td><td>0.9988913</td><td>0.2556704</td><td>0.4832694</td><td>⋯</td><td>0.31474330</td><td>0.0728896384</td><td>0.5931466</td><td>0.5803500</td><td>0.312805415</td><td>0.0728849800</td><td>0.005538811</td><td>0.10531195</td><td>0.005454960</td><td>0.05560240</td></tr>\n",
       "\t<tr><th scope=row>3</th><td>es0041a</td><td> 66515</td><td>080800-99999</td><td>45.503738</td><td>242582</td><td>0.9998805</td><td>0.7156755</td><td>0.9980172</td><td>0.2310600</td><td>0.4698288</td><td>⋯</td><td>0.33002449</td><td>0.0468006695</td><td>0.7187508</td><td>0.7064374</td><td>0.328429150</td><td>0.0467965471</td><td>0.004839601</td><td>0.09352714</td><td>0.004864335</td><td>0.01709937</td></tr>\n",
       "\t<tr><th scope=row>4</th><td>es0110a</td><td>152694</td><td>080230-99999</td><td>69.437339</td><td> 63175</td><td>0.9987653</td><td>0.9949664</td><td>0.9999209</td><td>0.9994618</td><td>0.9828888</td><td>⋯</td><td>0.01218837</td><td>0.0001424614</td><td>0.2994064</td><td>0.2641393</td><td>0.001060546</td><td>0.0001108033</td><td>0.079730906</td><td>0.30516818</td><td>0.146988524</td><td>0.09402454</td></tr>\n",
       "\t<tr><th scope=row>5</th><td>es0110a</td><td>152694</td><td>080250-99999</td><td> 5.363540</td><td>223729</td><td>0.9999464</td><td>0.7066272</td><td>0.9988736</td><td>0.2520415</td><td>0.4516983</td><td>⋯</td><td>0.35383880</td><td>0.1144956622</td><td>0.6121647</td><td>0.5995691</td><td>0.352265464</td><td>0.1144867228</td><td>0.005265299</td><td>0.10210120</td><td>0.005305526</td><td>0.04258724</td></tr>\n",
       "\t<tr><th scope=row>6</th><td>es0110a</td><td>152694</td><td>080800-99999</td><td>50.995824</td><td>242582</td><td>0.9998805</td><td>0.7156755</td><td>0.9980172</td><td>0.2310600</td><td>0.4698288</td><td>⋯</td><td>0.33002449</td><td>0.0468006695</td><td>0.7187508</td><td>0.7064374</td><td>0.328429150</td><td>0.0467965471</td><td>0.004839601</td><td>0.09352714</td><td>0.004864335</td><td>0.01709937</td></tr>\n",
       "</tbody>\n",
       "</table>\n"
      ],
      "text/latex": [
       "A data.frame: 6 × 24\n",
       "\\begin{tabular}{r|lllllllllllllllllllll}\n",
       "  & siteAQ & countAQ & siteMto & dist & countMto & ws & wd & air\\_temp & atmos\\_pres & visibility & ⋯ & cl\\_2 & cl\\_3 & cl & cl\\_1\\_height & cl\\_2\\_height & cl\\_3\\_height & precip\\_12 & precip & precip\\_6 & pwc\\\\\n",
       "  & <chr> & <int> & <chr> & <dbl> & <int> & <dbl> & <dbl> & <dbl> & <dbl> & <dbl> & ⋯ & <dbl> & <dbl> & <dbl> & <dbl> & <dbl> & <dbl> & <dbl> & <dbl> & <dbl> & <dbl>\\\\\n",
       "\\hline\n",
       "\t1 & es0041a &  66515 & 080250-99999 &  5.464009 & 223729 & 0.9999464 & 0.7066272 & 0.9988736 & 0.2520415 & 0.4516983 & ⋯ & 0.35383880 & 0.1144956622 & 0.6121647 & 0.5995691 & 0.352265464 & 0.1144867228 & 0.005265299 & 0.10210120 & 0.005305526 & 0.04258724\\\\\n",
       "\t2 & es0041a &  66515 & 080210-99999 & 73.137040 & 214667 & 0.9998975 & 0.7823885 & 0.9988913 & 0.2556704 & 0.4832694 & ⋯ & 0.31474330 & 0.0728896384 & 0.5931466 & 0.5803500 & 0.312805415 & 0.0728849800 & 0.005538811 & 0.10531195 & 0.005454960 & 0.05560240\\\\\n",
       "\t3 & es0041a &  66515 & 080800-99999 & 45.503738 & 242582 & 0.9998805 & 0.7156755 & 0.9980172 & 0.2310600 & 0.4698288 & ⋯ & 0.33002449 & 0.0468006695 & 0.7187508 & 0.7064374 & 0.328429150 & 0.0467965471 & 0.004839601 & 0.09352714 & 0.004864335 & 0.01709937\\\\\n",
       "\t4 & es0110a & 152694 & 080230-99999 & 69.437339 &  63175 & 0.9987653 & 0.9949664 & 0.9999209 & 0.9994618 & 0.9828888 & ⋯ & 0.01218837 & 0.0001424614 & 0.2994064 & 0.2641393 & 0.001060546 & 0.0001108033 & 0.079730906 & 0.30516818 & 0.146988524 & 0.09402454\\\\\n",
       "\t5 & es0110a & 152694 & 080250-99999 &  5.363540 & 223729 & 0.9999464 & 0.7066272 & 0.9988736 & 0.2520415 & 0.4516983 & ⋯ & 0.35383880 & 0.1144956622 & 0.6121647 & 0.5995691 & 0.352265464 & 0.1144867228 & 0.005265299 & 0.10210120 & 0.005305526 & 0.04258724\\\\\n",
       "\t6 & es0110a & 152694 & 080800-99999 & 50.995824 & 242582 & 0.9998805 & 0.7156755 & 0.9980172 & 0.2310600 & 0.4698288 & ⋯ & 0.33002449 & 0.0468006695 & 0.7187508 & 0.7064374 & 0.328429150 & 0.0467965471 & 0.004839601 & 0.09352714 & 0.004864335 & 0.01709937\\\\\n",
       "\\end{tabular}\n"
      ],
      "text/markdown": [
       "\n",
       "A data.frame: 6 × 24\n",
       "\n",
       "| <!--/--> | siteAQ &lt;chr&gt; | countAQ &lt;int&gt; | siteMto &lt;chr&gt; | dist &lt;dbl&gt; | countMto &lt;int&gt; | ws &lt;dbl&gt; | wd &lt;dbl&gt; | air_temp &lt;dbl&gt; | atmos_pres &lt;dbl&gt; | visibility &lt;dbl&gt; | ⋯ ⋯ | cl_2 &lt;dbl&gt; | cl_3 &lt;dbl&gt; | cl &lt;dbl&gt; | cl_1_height &lt;dbl&gt; | cl_2_height &lt;dbl&gt; | cl_3_height &lt;dbl&gt; | precip_12 &lt;dbl&gt; | precip &lt;dbl&gt; | precip_6 &lt;dbl&gt; | pwc &lt;dbl&gt; |\n",
       "|---|---|---|---|---|---|---|---|---|---|---|---|---|---|---|---|---|---|---|---|---|---|\n",
       "| 1 | es0041a |  66515 | 080250-99999 |  5.464009 | 223729 | 0.9999464 | 0.7066272 | 0.9988736 | 0.2520415 | 0.4516983 | ⋯ | 0.35383880 | 0.1144956622 | 0.6121647 | 0.5995691 | 0.352265464 | 0.1144867228 | 0.005265299 | 0.10210120 | 0.005305526 | 0.04258724 |\n",
       "| 2 | es0041a |  66515 | 080210-99999 | 73.137040 | 214667 | 0.9998975 | 0.7823885 | 0.9988913 | 0.2556704 | 0.4832694 | ⋯ | 0.31474330 | 0.0728896384 | 0.5931466 | 0.5803500 | 0.312805415 | 0.0728849800 | 0.005538811 | 0.10531195 | 0.005454960 | 0.05560240 |\n",
       "| 3 | es0041a |  66515 | 080800-99999 | 45.503738 | 242582 | 0.9998805 | 0.7156755 | 0.9980172 | 0.2310600 | 0.4698288 | ⋯ | 0.33002449 | 0.0468006695 | 0.7187508 | 0.7064374 | 0.328429150 | 0.0467965471 | 0.004839601 | 0.09352714 | 0.004864335 | 0.01709937 |\n",
       "| 4 | es0110a | 152694 | 080230-99999 | 69.437339 |  63175 | 0.9987653 | 0.9949664 | 0.9999209 | 0.9994618 | 0.9828888 | ⋯ | 0.01218837 | 0.0001424614 | 0.2994064 | 0.2641393 | 0.001060546 | 0.0001108033 | 0.079730906 | 0.30516818 | 0.146988524 | 0.09402454 |\n",
       "| 5 | es0110a | 152694 | 080250-99999 |  5.363540 | 223729 | 0.9999464 | 0.7066272 | 0.9988736 | 0.2520415 | 0.4516983 | ⋯ | 0.35383880 | 0.1144956622 | 0.6121647 | 0.5995691 | 0.352265464 | 0.1144867228 | 0.005265299 | 0.10210120 | 0.005305526 | 0.04258724 |\n",
       "| 6 | es0110a | 152694 | 080800-99999 | 50.995824 | 242582 | 0.9998805 | 0.7156755 | 0.9980172 | 0.2310600 | 0.4698288 | ⋯ | 0.33002449 | 0.0468006695 | 0.7187508 | 0.7064374 | 0.328429150 | 0.0467965471 | 0.004839601 | 0.09352714 | 0.004864335 | 0.01709937 |\n",
       "\n"
      ],
      "text/plain": [
       "  siteAQ  countAQ siteMto      dist      countMto ws        wd        air_temp \n",
       "1 es0041a  66515  080250-99999  5.464009 223729   0.9999464 0.7066272 0.9988736\n",
       "2 es0041a  66515  080210-99999 73.137040 214667   0.9998975 0.7823885 0.9988913\n",
       "3 es0041a  66515  080800-99999 45.503738 242582   0.9998805 0.7156755 0.9980172\n",
       "4 es0110a 152694  080230-99999 69.437339  63175   0.9987653 0.9949664 0.9999209\n",
       "5 es0110a 152694  080250-99999  5.363540 223729   0.9999464 0.7066272 0.9988736\n",
       "6 es0110a 152694  080800-99999 50.995824 242582   0.9998805 0.7156755 0.9980172\n",
       "  atmos_pres visibility ⋯ cl_2       cl_3         cl        cl_1_height\n",
       "1 0.2520415  0.4516983  ⋯ 0.35383880 0.1144956622 0.6121647 0.5995691  \n",
       "2 0.2556704  0.4832694  ⋯ 0.31474330 0.0728896384 0.5931466 0.5803500  \n",
       "3 0.2310600  0.4698288  ⋯ 0.33002449 0.0468006695 0.7187508 0.7064374  \n",
       "4 0.9994618  0.9828888  ⋯ 0.01218837 0.0001424614 0.2994064 0.2641393  \n",
       "5 0.2520415  0.4516983  ⋯ 0.35383880 0.1144956622 0.6121647 0.5995691  \n",
       "6 0.2310600  0.4698288  ⋯ 0.33002449 0.0468006695 0.7187508 0.7064374  \n",
       "  cl_2_height cl_3_height  precip_12   precip     precip_6    pwc       \n",
       "1 0.352265464 0.1144867228 0.005265299 0.10210120 0.005305526 0.04258724\n",
       "2 0.312805415 0.0728849800 0.005538811 0.10531195 0.005454960 0.05560240\n",
       "3 0.328429150 0.0467965471 0.004839601 0.09352714 0.004864335 0.01709937\n",
       "4 0.001060546 0.0001108033 0.079730906 0.30516818 0.146988524 0.09402454\n",
       "5 0.352265464 0.1144867228 0.005265299 0.10210120 0.005305526 0.04258724\n",
       "6 0.328429150 0.0467965471 0.004839601 0.09352714 0.004864335 0.01709937"
      ]
     },
     "metadata": {},
     "output_type": "display_data"
    }
   ],
   "source": [
    "nn.sites <- read.csv(\"../data/csv/nn_sites.csv\")\n",
    "head(nn.sites)"
   ]
  },
  {
   "cell_type": "code",
   "execution_count": 2,
   "metadata": {},
   "outputs": [
    {
     "data": {
      "text/html": [
       "<table>\n",
       "<caption>A data.frame: 4 × 19</caption>\n",
       "<thead>\n",
       "\t<tr><th></th><th scope=col>ws</th><th scope=col>wd</th><th scope=col>air_temp</th><th scope=col>atmos_pres</th><th scope=col>visibility</th><th scope=col>dew_point</th><th scope=col>RH</th><th scope=col>ceil_hgt</th><th scope=col>cl_1</th><th scope=col>cl_2</th><th scope=col>cl_3</th><th scope=col>cl</th><th scope=col>cl_1_height</th><th scope=col>cl_2_height</th><th scope=col>cl_3_height</th><th scope=col>precip_12</th><th scope=col>precip</th><th scope=col>precip_6</th><th scope=col>pwc</th></tr>\n",
       "\t<tr><th></th><th scope=col>&lt;int&gt;</th><th scope=col>&lt;int&gt;</th><th scope=col>&lt;int&gt;</th><th scope=col>&lt;int&gt;</th><th scope=col>&lt;int&gt;</th><th scope=col>&lt;int&gt;</th><th scope=col>&lt;int&gt;</th><th scope=col>&lt;int&gt;</th><th scope=col>&lt;int&gt;</th><th scope=col>&lt;int&gt;</th><th scope=col>&lt;int&gt;</th><th scope=col>&lt;int&gt;</th><th scope=col>&lt;int&gt;</th><th scope=col>&lt;int&gt;</th><th scope=col>&lt;int&gt;</th><th scope=col>&lt;int&gt;</th><th scope=col>&lt;int&gt;</th><th scope=col>&lt;int&gt;</th><th scope=col>&lt;int&gt;</th></tr>\n",
       "</thead>\n",
       "<tbody>\n",
       "\t<tr><th scope=row>1</th><td>162</td><td>162</td><td>162</td><td>47</td><td>67</td><td>162</td><td>162</td><td>26</td><td>44</td><td>0</td><td>0</td><td>44</td><td>43</td><td>0</td><td>0</td><td>0</td><td>14</td><td>0</td><td>1</td></tr>\n",
       "\t<tr><th scope=row>2</th><td>162</td><td>144</td><td>162</td><td>38</td><td>33</td><td>148</td><td>148</td><td> 3</td><td> 7</td><td>0</td><td>0</td><td> 7</td><td> 7</td><td>0</td><td>0</td><td>0</td><td>14</td><td>0</td><td>1</td></tr>\n",
       "\t<tr><th scope=row>3</th><td>154</td><td>113</td><td>162</td><td>38</td><td>33</td><td>136</td><td>136</td><td> 3</td><td> 0</td><td>0</td><td>0</td><td> 0</td><td> 0</td><td>0</td><td>0</td><td>0</td><td> 8</td><td>0</td><td>1</td></tr>\n",
       "\t<tr><th scope=row>4</th><td>143</td><td> 60</td><td>153</td><td>38</td><td>33</td><td>134</td><td>134</td><td> 0</td><td> 0</td><td>0</td><td>0</td><td> 0</td><td> 0</td><td>0</td><td>0</td><td>0</td><td> 2</td><td>0</td><td>1</td></tr>\n",
       "</tbody>\n",
       "</table>\n"
      ],
      "text/latex": [
       "A data.frame: 4 × 19\n",
       "\\begin{tabular}{r|lllllllllllllllllll}\n",
       "  & ws & wd & air\\_temp & atmos\\_pres & visibility & dew\\_point & RH & ceil\\_hgt & cl\\_1 & cl\\_2 & cl\\_3 & cl & cl\\_1\\_height & cl\\_2\\_height & cl\\_3\\_height & precip\\_12 & precip & precip\\_6 & pwc\\\\\n",
       "  & <int> & <int> & <int> & <int> & <int> & <int> & <int> & <int> & <int> & <int> & <int> & <int> & <int> & <int> & <int> & <int> & <int> & <int> & <int>\\\\\n",
       "\\hline\n",
       "\t1 & 162 & 162 & 162 & 47 & 67 & 162 & 162 & 26 & 44 & 0 & 0 & 44 & 43 & 0 & 0 & 0 & 14 & 0 & 1\\\\\n",
       "\t2 & 162 & 144 & 162 & 38 & 33 & 148 & 148 &  3 &  7 & 0 & 0 &  7 &  7 & 0 & 0 & 0 & 14 & 0 & 1\\\\\n",
       "\t3 & 154 & 113 & 162 & 38 & 33 & 136 & 136 &  3 &  0 & 0 & 0 &  0 &  0 & 0 & 0 & 0 &  8 & 0 & 1\\\\\n",
       "\t4 & 143 &  60 & 153 & 38 & 33 & 134 & 134 &  0 &  0 & 0 & 0 &  0 &  0 & 0 & 0 & 0 &  2 & 0 & 1\\\\\n",
       "\\end{tabular}\n"
      ],
      "text/markdown": [
       "\n",
       "A data.frame: 4 × 19\n",
       "\n",
       "| <!--/--> | ws &lt;int&gt; | wd &lt;int&gt; | air_temp &lt;int&gt; | atmos_pres &lt;int&gt; | visibility &lt;int&gt; | dew_point &lt;int&gt; | RH &lt;int&gt; | ceil_hgt &lt;int&gt; | cl_1 &lt;int&gt; | cl_2 &lt;int&gt; | cl_3 &lt;int&gt; | cl &lt;int&gt; | cl_1_height &lt;int&gt; | cl_2_height &lt;int&gt; | cl_3_height &lt;int&gt; | precip_12 &lt;int&gt; | precip &lt;int&gt; | precip_6 &lt;int&gt; | pwc &lt;int&gt; |\n",
       "|---|---|---|---|---|---|---|---|---|---|---|---|---|---|---|---|---|---|---|---|\n",
       "| 1 | 162 | 162 | 162 | 47 | 67 | 162 | 162 | 26 | 44 | 0 | 0 | 44 | 43 | 0 | 0 | 0 | 14 | 0 | 1 |\n",
       "| 2 | 162 | 144 | 162 | 38 | 33 | 148 | 148 |  3 |  7 | 0 | 0 |  7 |  7 | 0 | 0 | 0 | 14 | 0 | 1 |\n",
       "| 3 | 154 | 113 | 162 | 38 | 33 | 136 | 136 |  3 |  0 | 0 | 0 |  0 |  0 | 0 | 0 | 0 |  8 | 0 | 1 |\n",
       "| 4 | 143 |  60 | 153 | 38 | 33 | 134 | 134 |  0 |  0 | 0 | 0 |  0 |  0 | 0 | 0 | 0 |  2 | 0 | 1 |\n",
       "\n"
      ],
      "text/plain": [
       "  ws  wd  air_temp atmos_pres visibility dew_point RH  ceil_hgt cl_1 cl_2 cl_3\n",
       "1 162 162 162      47         67         162       162 26       44   0    0   \n",
       "2 162 144 162      38         33         148       148  3        7   0    0   \n",
       "3 154 113 162      38         33         136       136  3        0   0    0   \n",
       "4 143  60 153      38         33         134       134  0        0   0    0   \n",
       "  cl cl_1_height cl_2_height cl_3_height precip_12 precip precip_6 pwc\n",
       "1 44 43          0           0           0         14     0        1  \n",
       "2  7  7          0           0           0         14     0        1  \n",
       "3  0  0          0           0           0          8     0        1  \n",
       "4  0  0          0           0           0          2     0        1  "
      ]
     },
     "metadata": {},
     "output_type": "display_data"
    }
   ],
   "source": [
    "df <- data.frame()\n",
    "percent <- c(0.5, 0.7, 0.8, 0.9)\n",
    "\n",
    "for (nm in names(nn.sites)[6:length(names(nn.sites))]) {\n",
    "    for (i in 1:length(percent)) {\n",
    "        count <- sum(nn.sites[, nm] >= percent[i])\n",
    "        df[i, nm] <- count\n",
    "    } \n",
    "}\n",
    "\n",
    "head(df)"
   ]
  },
  {
   "cell_type": "code",
   "execution_count": 3,
   "metadata": {},
   "outputs": [],
   "source": [
    "nn.sites <- nn.sites[, 1:12]\n",
    "a <- c()\n",
    "\n",
    "for (i in 1:nrow(nn.sites)) {\n",
    "    if (TRUE %in% !(nn.sites[i, ] > 0.0)) {\n",
    "        a <- c(a, -i)\n",
    "    }\n",
    "}\n",
    "\n",
    "nn.sites <- nn.sites[a, ]"
   ]
  },
  {
   "cell_type": "code",
   "execution_count": 4,
   "metadata": {},
   "outputs": [
    {
     "data": {
      "text/html": [
       "<table>\n",
       "<caption>A data.frame: 6 × 13</caption>\n",
       "<thead>\n",
       "\t<tr><th></th><th scope=col>siteAQ</th><th scope=col>countAQ</th><th scope=col>siteMto</th><th scope=col>dist</th><th scope=col>countMto</th><th scope=col>ws</th><th scope=col>wd</th><th scope=col>air_temp</th><th scope=col>atmos_pres</th><th scope=col>visibility</th><th scope=col>dew_point</th><th scope=col>RH</th><th scope=col>numVar</th></tr>\n",
       "\t<tr><th></th><th scope=col>&lt;chr&gt;</th><th scope=col>&lt;int&gt;</th><th scope=col>&lt;chr&gt;</th><th scope=col>&lt;dbl&gt;</th><th scope=col>&lt;int&gt;</th><th scope=col>&lt;dbl&gt;</th><th scope=col>&lt;dbl&gt;</th><th scope=col>&lt;dbl&gt;</th><th scope=col>&lt;dbl&gt;</th><th scope=col>&lt;dbl&gt;</th><th scope=col>&lt;dbl&gt;</th><th scope=col>&lt;dbl&gt;</th><th scope=col>&lt;int&gt;</th></tr>\n",
       "</thead>\n",
       "<tbody>\n",
       "\t<tr><th scope=row>1</th><td>es0041a</td><td> 66515</td><td>080250-99999</td><td> 5.464009</td><td>223729</td><td>0.9999464</td><td>0.7066272</td><td>0.9988736</td><td>0.2520415</td><td>0.4516983</td><td>0.9986055</td><td>0.9985429</td><td>5</td></tr>\n",
       "\t<tr><th scope=row>2</th><td>es0041a</td><td> 66515</td><td>080210-99999</td><td>73.137040</td><td>214667</td><td>0.9998975</td><td>0.7823885</td><td>0.9988913</td><td>0.2556704</td><td>0.4832694</td><td>0.9984068</td><td>0.9983742</td><td>5</td></tr>\n",
       "\t<tr><th scope=row>3</th><td>es0041a</td><td> 66515</td><td>080800-99999</td><td>45.503738</td><td>242582</td><td>0.9998805</td><td>0.7156755</td><td>0.9980172</td><td>0.2310600</td><td>0.4698288</td><td>0.9976132</td><td>0.9975266</td><td>5</td></tr>\n",
       "\t<tr><th scope=row>4</th><td>es0110a</td><td>152694</td><td>080230-99999</td><td>69.437339</td><td> 63175</td><td>0.9987653</td><td>0.9949664</td><td>0.9999209</td><td>0.9994618</td><td>0.9828888</td><td>0.9995410</td><td>0.9995410</td><td>7</td></tr>\n",
       "\t<tr><th scope=row>5</th><td>es0110a</td><td>152694</td><td>080250-99999</td><td> 5.363540</td><td>223729</td><td>0.9999464</td><td>0.7066272</td><td>0.9988736</td><td>0.2520415</td><td>0.4516983</td><td>0.9986055</td><td>0.9985429</td><td>5</td></tr>\n",
       "\t<tr><th scope=row>6</th><td>es0110a</td><td>152694</td><td>080800-99999</td><td>50.995824</td><td>242582</td><td>0.9998805</td><td>0.7156755</td><td>0.9980172</td><td>0.2310600</td><td>0.4698288</td><td>0.9976132</td><td>0.9975266</td><td>5</td></tr>\n",
       "</tbody>\n",
       "</table>\n"
      ],
      "text/latex": [
       "A data.frame: 6 × 13\n",
       "\\begin{tabular}{r|lllllllllllll}\n",
       "  & siteAQ & countAQ & siteMto & dist & countMto & ws & wd & air\\_temp & atmos\\_pres & visibility & dew\\_point & RH & numVar\\\\\n",
       "  & <chr> & <int> & <chr> & <dbl> & <int> & <dbl> & <dbl> & <dbl> & <dbl> & <dbl> & <dbl> & <dbl> & <int>\\\\\n",
       "\\hline\n",
       "\t1 & es0041a &  66515 & 080250-99999 &  5.464009 & 223729 & 0.9999464 & 0.7066272 & 0.9988736 & 0.2520415 & 0.4516983 & 0.9986055 & 0.9985429 & 5\\\\\n",
       "\t2 & es0041a &  66515 & 080210-99999 & 73.137040 & 214667 & 0.9998975 & 0.7823885 & 0.9988913 & 0.2556704 & 0.4832694 & 0.9984068 & 0.9983742 & 5\\\\\n",
       "\t3 & es0041a &  66515 & 080800-99999 & 45.503738 & 242582 & 0.9998805 & 0.7156755 & 0.9980172 & 0.2310600 & 0.4698288 & 0.9976132 & 0.9975266 & 5\\\\\n",
       "\t4 & es0110a & 152694 & 080230-99999 & 69.437339 &  63175 & 0.9987653 & 0.9949664 & 0.9999209 & 0.9994618 & 0.9828888 & 0.9995410 & 0.9995410 & 7\\\\\n",
       "\t5 & es0110a & 152694 & 080250-99999 &  5.363540 & 223729 & 0.9999464 & 0.7066272 & 0.9988736 & 0.2520415 & 0.4516983 & 0.9986055 & 0.9985429 & 5\\\\\n",
       "\t6 & es0110a & 152694 & 080800-99999 & 50.995824 & 242582 & 0.9998805 & 0.7156755 & 0.9980172 & 0.2310600 & 0.4698288 & 0.9976132 & 0.9975266 & 5\\\\\n",
       "\\end{tabular}\n"
      ],
      "text/markdown": [
       "\n",
       "A data.frame: 6 × 13\n",
       "\n",
       "| <!--/--> | siteAQ &lt;chr&gt; | countAQ &lt;int&gt; | siteMto &lt;chr&gt; | dist &lt;dbl&gt; | countMto &lt;int&gt; | ws &lt;dbl&gt; | wd &lt;dbl&gt; | air_temp &lt;dbl&gt; | atmos_pres &lt;dbl&gt; | visibility &lt;dbl&gt; | dew_point &lt;dbl&gt; | RH &lt;dbl&gt; | numVar &lt;int&gt; |\n",
       "|---|---|---|---|---|---|---|---|---|---|---|---|---|---|\n",
       "| 1 | es0041a |  66515 | 080250-99999 |  5.464009 | 223729 | 0.9999464 | 0.7066272 | 0.9988736 | 0.2520415 | 0.4516983 | 0.9986055 | 0.9985429 | 5 |\n",
       "| 2 | es0041a |  66515 | 080210-99999 | 73.137040 | 214667 | 0.9998975 | 0.7823885 | 0.9988913 | 0.2556704 | 0.4832694 | 0.9984068 | 0.9983742 | 5 |\n",
       "| 3 | es0041a |  66515 | 080800-99999 | 45.503738 | 242582 | 0.9998805 | 0.7156755 | 0.9980172 | 0.2310600 | 0.4698288 | 0.9976132 | 0.9975266 | 5 |\n",
       "| 4 | es0110a | 152694 | 080230-99999 | 69.437339 |  63175 | 0.9987653 | 0.9949664 | 0.9999209 | 0.9994618 | 0.9828888 | 0.9995410 | 0.9995410 | 7 |\n",
       "| 5 | es0110a | 152694 | 080250-99999 |  5.363540 | 223729 | 0.9999464 | 0.7066272 | 0.9988736 | 0.2520415 | 0.4516983 | 0.9986055 | 0.9985429 | 5 |\n",
       "| 6 | es0110a | 152694 | 080800-99999 | 50.995824 | 242582 | 0.9998805 | 0.7156755 | 0.9980172 | 0.2310600 | 0.4698288 | 0.9976132 | 0.9975266 | 5 |\n",
       "\n"
      ],
      "text/plain": [
       "  siteAQ  countAQ siteMto      dist      countMto ws        wd        air_temp \n",
       "1 es0041a  66515  080250-99999  5.464009 223729   0.9999464 0.7066272 0.9988736\n",
       "2 es0041a  66515  080210-99999 73.137040 214667   0.9998975 0.7823885 0.9988913\n",
       "3 es0041a  66515  080800-99999 45.503738 242582   0.9998805 0.7156755 0.9980172\n",
       "4 es0110a 152694  080230-99999 69.437339  63175   0.9987653 0.9949664 0.9999209\n",
       "5 es0110a 152694  080250-99999  5.363540 223729   0.9999464 0.7066272 0.9988736\n",
       "6 es0110a 152694  080800-99999 50.995824 242582   0.9998805 0.7156755 0.9980172\n",
       "  atmos_pres visibility dew_point RH        numVar\n",
       "1 0.2520415  0.4516983  0.9986055 0.9985429 5     \n",
       "2 0.2556704  0.4832694  0.9984068 0.9983742 5     \n",
       "3 0.2310600  0.4698288  0.9976132 0.9975266 5     \n",
       "4 0.9994618  0.9828888  0.9995410 0.9995410 7     \n",
       "5 0.2520415  0.4516983  0.9986055 0.9985429 5     \n",
       "6 0.2310600  0.4698288  0.9976132 0.9975266 5     "
      ]
     },
     "metadata": {},
     "output_type": "display_data"
    }
   ],
   "source": [
    "percnt <- 0.7\n",
    "columns <- 6:12#ncol(nn.sites)\n",
    "\n",
    "for (i in 1:nrow(nn.sites)) {\n",
    "    numVar <- sum(nn.sites[i, columns] >= percnt)\n",
    "    nn.sites[i, \"numVar\"] <- numVar\n",
    "}\n",
    "\n",
    "head(nn.sites)"
   ]
  },
  {
   "cell_type": "code",
   "execution_count": 5,
   "metadata": {},
   "outputs": [
    {
     "data": {
      "text/html": [
       "<table>\n",
       "<caption>A data.frame: 6 × 14</caption>\n",
       "<thead>\n",
       "\t<tr><th></th><th scope=col>siteAQ</th><th scope=col>countAQ</th><th scope=col>siteMto</th><th scope=col>dist</th><th scope=col>countMto</th><th scope=col>ws</th><th scope=col>wd</th><th scope=col>air_temp</th><th scope=col>atmos_pres</th><th scope=col>visibility</th><th scope=col>dew_point</th><th scope=col>RH</th><th scope=col>numVar</th><th scope=col>id</th></tr>\n",
       "\t<tr><th></th><th scope=col>&lt;chr&gt;</th><th scope=col>&lt;int&gt;</th><th scope=col>&lt;chr&gt;</th><th scope=col>&lt;dbl&gt;</th><th scope=col>&lt;int&gt;</th><th scope=col>&lt;dbl&gt;</th><th scope=col>&lt;dbl&gt;</th><th scope=col>&lt;dbl&gt;</th><th scope=col>&lt;dbl&gt;</th><th scope=col>&lt;dbl&gt;</th><th scope=col>&lt;dbl&gt;</th><th scope=col>&lt;dbl&gt;</th><th scope=col>&lt;int&gt;</th><th scope=col>&lt;int&gt;</th></tr>\n",
       "</thead>\n",
       "<tbody>\n",
       "\t<tr><th scope=row>4</th><td>es0110a</td><td>152694</td><td>080230-99999</td><td>69.437339</td><td>63175</td><td>0.9987653</td><td>0.9949664</td><td>0.9999209</td><td>0.9994618</td><td>0.9828888</td><td>0.9995410</td><td>0.9995410</td><td>7</td><td>1</td></tr>\n",
       "\t<tr><th scope=row>28</th><td>es1096a</td><td>206186</td><td>080440-99999</td><td>61.344307</td><td>55321</td><td>0.9926429</td><td>0.9699752</td><td>0.9999819</td><td>0.9934564</td><td>0.9898411</td><td>0.9961859</td><td>0.9961859</td><td>7</td><td>1</td></tr>\n",
       "\t<tr><th scope=row>33</th><td>es1137a</td><td>206207</td><td>080440-99999</td><td>25.923040</td><td>55321</td><td>0.9926429</td><td>0.9699752</td><td>0.9999819</td><td>0.9934564</td><td>0.9898411</td><td>0.9961859</td><td>0.9961859</td><td>7</td><td>1</td></tr>\n",
       "\t<tr><th scope=row>39</th><td>es1161a</td><td>154116</td><td>080530-99999</td><td>83.016388</td><td>50372</td><td>0.9919598</td><td>0.9536846</td><td>0.9999603</td><td>0.9997221</td><td>0.9913444</td><td>0.9986897</td><td>0.9986897</td><td>7</td><td>1</td></tr>\n",
       "\t<tr><th scope=row>37</th><td>es1161a</td><td>154116</td><td>080150-99999</td><td>86.029163</td><td>62959</td><td>0.9981099</td><td>0.9821630</td><td>0.9999841</td><td>0.9994758</td><td>0.9886434</td><td>0.9941708</td><td>0.9941708</td><td>7</td><td>2</td></tr>\n",
       "\t<tr><th scope=row>44</th><td>es1225a</td><td>119058</td><td>081710-99999</td><td> 2.317033</td><td>60878</td><td>0.9999014</td><td>0.9875653</td><td>0.9999179</td><td>0.9970104</td><td>0.9873682</td><td>0.9999179</td><td>0.9999014</td><td>7</td><td>1</td></tr>\n",
       "</tbody>\n",
       "</table>\n"
      ],
      "text/latex": [
       "A data.frame: 6 × 14\n",
       "\\begin{tabular}{r|llllllllllllll}\n",
       "  & siteAQ & countAQ & siteMto & dist & countMto & ws & wd & air\\_temp & atmos\\_pres & visibility & dew\\_point & RH & numVar & id\\\\\n",
       "  & <chr> & <int> & <chr> & <dbl> & <int> & <dbl> & <dbl> & <dbl> & <dbl> & <dbl> & <dbl> & <dbl> & <int> & <int>\\\\\n",
       "\\hline\n",
       "\t4 & es0110a & 152694 & 080230-99999 & 69.437339 & 63175 & 0.9987653 & 0.9949664 & 0.9999209 & 0.9994618 & 0.9828888 & 0.9995410 & 0.9995410 & 7 & 1\\\\\n",
       "\t28 & es1096a & 206186 & 080440-99999 & 61.344307 & 55321 & 0.9926429 & 0.9699752 & 0.9999819 & 0.9934564 & 0.9898411 & 0.9961859 & 0.9961859 & 7 & 1\\\\\n",
       "\t33 & es1137a & 206207 & 080440-99999 & 25.923040 & 55321 & 0.9926429 & 0.9699752 & 0.9999819 & 0.9934564 & 0.9898411 & 0.9961859 & 0.9961859 & 7 & 1\\\\\n",
       "\t39 & es1161a & 154116 & 080530-99999 & 83.016388 & 50372 & 0.9919598 & 0.9536846 & 0.9999603 & 0.9997221 & 0.9913444 & 0.9986897 & 0.9986897 & 7 & 1\\\\\n",
       "\t37 & es1161a & 154116 & 080150-99999 & 86.029163 & 62959 & 0.9981099 & 0.9821630 & 0.9999841 & 0.9994758 & 0.9886434 & 0.9941708 & 0.9941708 & 7 & 2\\\\\n",
       "\t44 & es1225a & 119058 & 081710-99999 &  2.317033 & 60878 & 0.9999014 & 0.9875653 & 0.9999179 & 0.9970104 & 0.9873682 & 0.9999179 & 0.9999014 & 7 & 1\\\\\n",
       "\\end{tabular}\n"
      ],
      "text/markdown": [
       "\n",
       "A data.frame: 6 × 14\n",
       "\n",
       "| <!--/--> | siteAQ &lt;chr&gt; | countAQ &lt;int&gt; | siteMto &lt;chr&gt; | dist &lt;dbl&gt; | countMto &lt;int&gt; | ws &lt;dbl&gt; | wd &lt;dbl&gt; | air_temp &lt;dbl&gt; | atmos_pres &lt;dbl&gt; | visibility &lt;dbl&gt; | dew_point &lt;dbl&gt; | RH &lt;dbl&gt; | numVar &lt;int&gt; | id &lt;int&gt; |\n",
       "|---|---|---|---|---|---|---|---|---|---|---|---|---|---|---|\n",
       "| 4 | es0110a | 152694 | 080230-99999 | 69.437339 | 63175 | 0.9987653 | 0.9949664 | 0.9999209 | 0.9994618 | 0.9828888 | 0.9995410 | 0.9995410 | 7 | 1 |\n",
       "| 28 | es1096a | 206186 | 080440-99999 | 61.344307 | 55321 | 0.9926429 | 0.9699752 | 0.9999819 | 0.9934564 | 0.9898411 | 0.9961859 | 0.9961859 | 7 | 1 |\n",
       "| 33 | es1137a | 206207 | 080440-99999 | 25.923040 | 55321 | 0.9926429 | 0.9699752 | 0.9999819 | 0.9934564 | 0.9898411 | 0.9961859 | 0.9961859 | 7 | 1 |\n",
       "| 39 | es1161a | 154116 | 080530-99999 | 83.016388 | 50372 | 0.9919598 | 0.9536846 | 0.9999603 | 0.9997221 | 0.9913444 | 0.9986897 | 0.9986897 | 7 | 1 |\n",
       "| 37 | es1161a | 154116 | 080150-99999 | 86.029163 | 62959 | 0.9981099 | 0.9821630 | 0.9999841 | 0.9994758 | 0.9886434 | 0.9941708 | 0.9941708 | 7 | 2 |\n",
       "| 44 | es1225a | 119058 | 081710-99999 |  2.317033 | 60878 | 0.9999014 | 0.9875653 | 0.9999179 | 0.9970104 | 0.9873682 | 0.9999179 | 0.9999014 | 7 | 1 |\n",
       "\n"
      ],
      "text/plain": [
       "   siteAQ  countAQ siteMto      dist      countMto ws        wd       \n",
       "4  es0110a 152694  080230-99999 69.437339 63175    0.9987653 0.9949664\n",
       "28 es1096a 206186  080440-99999 61.344307 55321    0.9926429 0.9699752\n",
       "33 es1137a 206207  080440-99999 25.923040 55321    0.9926429 0.9699752\n",
       "39 es1161a 154116  080530-99999 83.016388 50372    0.9919598 0.9536846\n",
       "37 es1161a 154116  080150-99999 86.029163 62959    0.9981099 0.9821630\n",
       "44 es1225a 119058  081710-99999  2.317033 60878    0.9999014 0.9875653\n",
       "   air_temp  atmos_pres visibility dew_point RH        numVar id\n",
       "4  0.9999209 0.9994618  0.9828888  0.9995410 0.9995410 7      1 \n",
       "28 0.9999819 0.9934564  0.9898411  0.9961859 0.9961859 7      1 \n",
       "33 0.9999819 0.9934564  0.9898411  0.9961859 0.9961859 7      1 \n",
       "39 0.9999603 0.9997221  0.9913444  0.9986897 0.9986897 7      1 \n",
       "37 0.9999841 0.9994758  0.9886434  0.9941708 0.9941708 7      2 \n",
       "44 0.9999179 0.9970104  0.9873682  0.9999179 0.9999014 7      1 "
      ]
     },
     "metadata": {},
     "output_type": "display_data"
    }
   ],
   "source": [
    "df <- data.frame()\n",
    "\n",
    "for (st in levels(as.factor(nn.sites$siteAQ))) {\n",
    "    a <- nn.sites[nn.sites$siteAQ == st &\n",
    "                  nn.sites$numVar == 7, ][order(#-nn.sites[nn.sites$siteAQ == st, ]$numVar,\n",
    "                                                nn.sites[nn.sites$siteAQ == st &\n",
    "                                                         nn.sites$numVar == 7, ]$dist\n",
    "                                                #*2*nn.sites[nn.sites$siteAQ == st &\n",
    "                                                #          nn.sites$numVar == 7, ]$countMto\n",
    "                                               ), ]\n",
    "\n",
    "    if (nrow(a) >= 1) {\n",
    "        a$id <- seq.int(nrow(a))\n",
    "    \n",
    "        df <- rbind(df, a)\n",
    "    }\n",
    "}\n",
    "head(df)"
   ]
  },
  {
   "cell_type": "code",
   "execution_count": 6,
   "metadata": {},
   "outputs": [
    {
     "data": {
      "text/html": [
       "<table>\n",
       "<caption>A data.frame: 6 × 14</caption>\n",
       "<thead>\n",
       "\t<tr><th></th><th scope=col>siteAQ</th><th scope=col>countAQ</th><th scope=col>siteMto</th><th scope=col>dist</th><th scope=col>countMto</th><th scope=col>ws</th><th scope=col>wd</th><th scope=col>air_temp</th><th scope=col>atmos_pres</th><th scope=col>visibility</th><th scope=col>dew_point</th><th scope=col>RH</th><th scope=col>numVar</th><th scope=col>id</th></tr>\n",
       "\t<tr><th></th><th scope=col>&lt;chr&gt;</th><th scope=col>&lt;int&gt;</th><th scope=col>&lt;chr&gt;</th><th scope=col>&lt;dbl&gt;</th><th scope=col>&lt;int&gt;</th><th scope=col>&lt;dbl&gt;</th><th scope=col>&lt;dbl&gt;</th><th scope=col>&lt;dbl&gt;</th><th scope=col>&lt;dbl&gt;</th><th scope=col>&lt;dbl&gt;</th><th scope=col>&lt;dbl&gt;</th><th scope=col>&lt;dbl&gt;</th><th scope=col>&lt;int&gt;</th><th scope=col>&lt;int&gt;</th></tr>\n",
       "</thead>\n",
       "<tbody>\n",
       "\t<tr><th scope=row>56</th><td>es1268a</td><td>205683</td><td>080150-99999</td><td> 0.924192</td><td>62959</td><td>0.9981099</td><td>0.9821630</td><td>0.9999841</td><td>0.9994758</td><td>0.9886434</td><td>0.9941708</td><td>0.9941708</td><td>7</td><td>1</td></tr>\n",
       "\t<tr><th scope=row>58</th><td>es1269a</td><td>204307</td><td>080150-99999</td><td> 3.304858</td><td>62959</td><td>0.9981099</td><td>0.9821630</td><td>0.9999841</td><td>0.9994758</td><td>0.9886434</td><td>0.9941708</td><td>0.9941708</td><td>7</td><td>1</td></tr>\n",
       "\t<tr><th scope=row>33</th><td>es1137a</td><td>206207</td><td>080440-99999</td><td>25.923040</td><td>55321</td><td>0.9926429</td><td>0.9699752</td><td>0.9999819</td><td>0.9934564</td><td>0.9898411</td><td>0.9961859</td><td>0.9961859</td><td>7</td><td>1</td></tr>\n",
       "\t<tr><th scope=row>28</th><td>es1096a</td><td>206186</td><td>080440-99999</td><td>61.344307</td><td>55321</td><td>0.9926429</td><td>0.9699752</td><td>0.9999819</td><td>0.9934564</td><td>0.9898411</td><td>0.9961859</td><td>0.9961859</td><td>7</td><td>1</td></tr>\n",
       "\t<tr><th scope=row>137</th><td>es1632a</td><td>185901</td><td>081410-99999</td><td> 1.411223</td><td>63416</td><td>0.9810458</td><td>0.9746752</td><td>0.9999685</td><td>0.9997162</td><td>0.9941813</td><td>0.9973193</td><td>0.9973193</td><td>7</td><td>1</td></tr>\n",
       "\t<tr><th scope=row>119</th><td>es1573a</td><td>184547</td><td>600200-99999</td><td>87.398704</td><td>42552</td><td>0.9992715</td><td>0.9896127</td><td>0.9999060</td><td>0.9992480</td><td>0.9854766</td><td>0.9996945</td><td>0.9996710</td><td>7</td><td>1</td></tr>\n",
       "</tbody>\n",
       "</table>\n"
      ],
      "text/latex": [
       "A data.frame: 6 × 14\n",
       "\\begin{tabular}{r|llllllllllllll}\n",
       "  & siteAQ & countAQ & siteMto & dist & countMto & ws & wd & air\\_temp & atmos\\_pres & visibility & dew\\_point & RH & numVar & id\\\\\n",
       "  & <chr> & <int> & <chr> & <dbl> & <int> & <dbl> & <dbl> & <dbl> & <dbl> & <dbl> & <dbl> & <dbl> & <int> & <int>\\\\\n",
       "\\hline\n",
       "\t56 & es1268a & 205683 & 080150-99999 &  0.924192 & 62959 & 0.9981099 & 0.9821630 & 0.9999841 & 0.9994758 & 0.9886434 & 0.9941708 & 0.9941708 & 7 & 1\\\\\n",
       "\t58 & es1269a & 204307 & 080150-99999 &  3.304858 & 62959 & 0.9981099 & 0.9821630 & 0.9999841 & 0.9994758 & 0.9886434 & 0.9941708 & 0.9941708 & 7 & 1\\\\\n",
       "\t33 & es1137a & 206207 & 080440-99999 & 25.923040 & 55321 & 0.9926429 & 0.9699752 & 0.9999819 & 0.9934564 & 0.9898411 & 0.9961859 & 0.9961859 & 7 & 1\\\\\n",
       "\t28 & es1096a & 206186 & 080440-99999 & 61.344307 & 55321 & 0.9926429 & 0.9699752 & 0.9999819 & 0.9934564 & 0.9898411 & 0.9961859 & 0.9961859 & 7 & 1\\\\\n",
       "\t137 & es1632a & 185901 & 081410-99999 &  1.411223 & 63416 & 0.9810458 & 0.9746752 & 0.9999685 & 0.9997162 & 0.9941813 & 0.9973193 & 0.9973193 & 7 & 1\\\\\n",
       "\t119 & es1573a & 184547 & 600200-99999 & 87.398704 & 42552 & 0.9992715 & 0.9896127 & 0.9999060 & 0.9992480 & 0.9854766 & 0.9996945 & 0.9996710 & 7 & 1\\\\\n",
       "\\end{tabular}\n"
      ],
      "text/markdown": [
       "\n",
       "A data.frame: 6 × 14\n",
       "\n",
       "| <!--/--> | siteAQ &lt;chr&gt; | countAQ &lt;int&gt; | siteMto &lt;chr&gt; | dist &lt;dbl&gt; | countMto &lt;int&gt; | ws &lt;dbl&gt; | wd &lt;dbl&gt; | air_temp &lt;dbl&gt; | atmos_pres &lt;dbl&gt; | visibility &lt;dbl&gt; | dew_point &lt;dbl&gt; | RH &lt;dbl&gt; | numVar &lt;int&gt; | id &lt;int&gt; |\n",
       "|---|---|---|---|---|---|---|---|---|---|---|---|---|---|---|\n",
       "| 56 | es1268a | 205683 | 080150-99999 |  0.924192 | 62959 | 0.9981099 | 0.9821630 | 0.9999841 | 0.9994758 | 0.9886434 | 0.9941708 | 0.9941708 | 7 | 1 |\n",
       "| 58 | es1269a | 204307 | 080150-99999 |  3.304858 | 62959 | 0.9981099 | 0.9821630 | 0.9999841 | 0.9994758 | 0.9886434 | 0.9941708 | 0.9941708 | 7 | 1 |\n",
       "| 33 | es1137a | 206207 | 080440-99999 | 25.923040 | 55321 | 0.9926429 | 0.9699752 | 0.9999819 | 0.9934564 | 0.9898411 | 0.9961859 | 0.9961859 | 7 | 1 |\n",
       "| 28 | es1096a | 206186 | 080440-99999 | 61.344307 | 55321 | 0.9926429 | 0.9699752 | 0.9999819 | 0.9934564 | 0.9898411 | 0.9961859 | 0.9961859 | 7 | 1 |\n",
       "| 137 | es1632a | 185901 | 081410-99999 |  1.411223 | 63416 | 0.9810458 | 0.9746752 | 0.9999685 | 0.9997162 | 0.9941813 | 0.9973193 | 0.9973193 | 7 | 1 |\n",
       "| 119 | es1573a | 184547 | 600200-99999 | 87.398704 | 42552 | 0.9992715 | 0.9896127 | 0.9999060 | 0.9992480 | 0.9854766 | 0.9996945 | 0.9996710 | 7 | 1 |\n",
       "\n"
      ],
      "text/plain": [
       "    siteAQ  countAQ siteMto      dist      countMto ws        wd       \n",
       "56  es1268a 205683  080150-99999  0.924192 62959    0.9981099 0.9821630\n",
       "58  es1269a 204307  080150-99999  3.304858 62959    0.9981099 0.9821630\n",
       "33  es1137a 206207  080440-99999 25.923040 55321    0.9926429 0.9699752\n",
       "28  es1096a 206186  080440-99999 61.344307 55321    0.9926429 0.9699752\n",
       "137 es1632a 185901  081410-99999  1.411223 63416    0.9810458 0.9746752\n",
       "119 es1573a 184547  600200-99999 87.398704 42552    0.9992715 0.9896127\n",
       "    air_temp  atmos_pres visibility dew_point RH        numVar id\n",
       "56  0.9999841 0.9994758  0.9886434  0.9941708 0.9941708 7      1 \n",
       "58  0.9999841 0.9994758  0.9886434  0.9941708 0.9941708 7      1 \n",
       "33  0.9999819 0.9934564  0.9898411  0.9961859 0.9961859 7      1 \n",
       "28  0.9999819 0.9934564  0.9898411  0.9961859 0.9961859 7      1 \n",
       "137 0.9999685 0.9997162  0.9941813  0.9973193 0.9973193 7      1 \n",
       "119 0.9999060 0.9992480  0.9854766  0.9996945 0.9996710 7      1 "
      ]
     },
     "metadata": {},
     "output_type": "display_data"
    }
   ],
   "source": [
    "best.sites <- df[df$id == 1, ][order(-df[df$id == 1, ]$countAQ -df[df$id == 1, ]$countMto), ]\n",
    "head(best.sites)"
   ]
  },
  {
   "cell_type": "code",
   "execution_count": null,
   "metadata": {},
   "outputs": [],
   "source": []
  }
 ],
 "metadata": {
  "kernelspec": {
   "display_name": "R",
   "language": "R",
   "name": "ir"
  },
  "language_info": {
   "codemirror_mode": "r",
   "file_extension": ".r",
   "mimetype": "text/x-r-source",
   "name": "R",
   "pygments_lexer": "r",
   "version": "4.0.3"
  }
 },
 "nbformat": 4,
 "nbformat_minor": 4
}
