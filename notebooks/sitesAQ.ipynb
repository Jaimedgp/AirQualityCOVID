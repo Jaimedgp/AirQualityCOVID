{
 "cells": [
  {
   "cell_type": "markdown",
   "metadata": {},
   "source": [
    "# Estudio de las estaciones de toma de datos\n",
    "\n",
    "> [Configuracion del notebook](#config)\n",
    ">\n",
    "> [Estaciones de españa](#espanha)\n",
    ">    * [Datos de las estaciones de ```saqgetr```](#estacionesSaqgetr)\n",
    ">    * [Datos geograficos de las estaciones](#estacionGeo)\n",
    ">\n",
    "> [Estudio de los Datos de las Estaciones](#stdio)"
   ]
  },
  {
   "cell_type": "markdown",
   "metadata": {},
   "source": [
    "## Configuracion del notebook <a id=\"config\"></a>"
   ]
  },
  {
   "cell_type": "markdown",
   "metadata": {},
   "source": [
    "Cargamos todos los paquetes necesarios para ejecutar el notebook"
   ]
  },
  {
   "cell_type": "code",
   "execution_count": 6,
   "metadata": {},
   "outputs": [],
   "source": [
    "suppressMessages(library(saqgetr))\n",
    "suppressMessages(library(tidyverse))\n",
    "suppressMessages(library(lubridate))"
   ]
  },
  {
   "cell_type": "markdown",
   "metadata": {},
   "source": [
    "Inicializamos ciertas variables con los parametros de estudio"
   ]
  },
  {
   "cell_type": "code",
   "execution_count": 7,
   "metadata": {},
   "outputs": [],
   "source": [
    "# contaminantes a estudiar\n",
    "pollutants <- c(\"no\", \"no2\", \"o3\", \"pm10\")\n",
    "\n",
    "# fechas de inicio y final de toma de datos\n",
    "start_dt <- ymd_hms(\"2010-01-01 00:00:00\")\n",
    "end_dt <- ymd_hms(\"2020-12-31 00:00:00\")\n",
    "\n",
    "# fecha de inicio de confinamiento\n",
    "lckdwn_strt <- ymd_hms(\"2020-03-14 00:00:00\")"
   ]
  },
  {
   "cell_type": "markdown",
   "metadata": {},
   "source": [
    "## Estaciones de España <a id=\"espanha\"></a>"
   ]
  },
  {
   "cell_type": "markdown",
   "metadata": {},
   "source": [
    "### Datos geograficos de las estaciones <a id=\"estacionGeo\"></a>\n",
    "\n",
    "Seleccionamos aquellas estaciones que se encuentren en un núcleo con una\n",
    "población mayor o igual a cien mil habitantes `poblacion >= 100 000 hab`.\n",
    "\n",
    "En la hoja 8 `ciudades-100000-A-JA` de la base de datos de poblaciones (`estaciones-CA.xlsx`) aparecen todas las estaciones de trafico de las ciudades de mas de 100000 habitantes con sus nombres."
   ]
  },
  {
   "cell_type": "code",
   "execution_count": 8,
   "metadata": {},
   "outputs": [],
   "source": [
    "# Loading\n",
    "library(\"readxl\")\n",
    "\n",
    "file <- \"../data/xlsx/estaciones-CA-JA.xlsx\"\n",
    "sheets <- c(\"todas\", \"traffic\", \"traffic-urban\", \"traffic-urban-2020\",\n",
    "            \"traffic-suburban\", \"traffic-suburban-2020\",\n",
    "            \"ciudades-100000\", \"ciudades-100000-A\")\n",
    "# xlsx files\n",
    "sites.100mil <- read_excel(file, sheet=sheets[8])"
   ]
  },
  {
   "cell_type": "code",
   "execution_count": 9,
   "metadata": {},
   "outputs": [
    {
     "data": {
      "text/html": [
       "<table>\n",
       "<caption>A tibble: 6 × 7</caption>\n",
       "<thead>\n",
       "\t<tr><th scope=col>Municipio</th><th scope=col>Población</th><th scope=col>Estación tráfico</th><th scope=col>Código estación</th><th scope=col>Nº estaciones Ecolog</th><th scope=col>Nº estaciones tráfico</th><th scope=col>Observaciones</th></tr>\n",
       "\t<tr><th scope=col>&lt;chr&gt;</th><th scope=col>&lt;dbl&gt;</th><th scope=col>&lt;chr&gt;</th><th scope=col>&lt;chr&gt;</th><th scope=col>&lt;dbl&gt;</th><th scope=col>&lt;dbl&gt;</th><th scope=col>&lt;chr&gt;</th></tr>\n",
       "</thead>\n",
       "<tbody>\n",
       "\t<tr><td>A Coruña         </td><td>245711</td><td>CORLAB 1         </td><td>es1138a</td><td>4</td><td>1</td><td>Es Riazor o Santa Margarida, revisar. Datos sólo hasta 2018. REVISAR</td></tr>\n",
       "\t<tr><td>Alcalá de Henares</td><td>195649</td><td>Alcalá de Henares</td><td>es1563a</td><td>0</td><td>1</td><td>NA                                                                  </td></tr>\n",
       "\t<tr><td>Alcobendas       </td><td>117040</td><td>Alcobendas       </td><td>es1564a</td><td>0</td><td>1</td><td>NA                                                                  </td></tr>\n",
       "\t<tr><td>Alicante         </td><td>334887</td><td>Florida-Babel    </td><td>es1915a</td><td>3</td><td>1</td><td>Urban background. Not traffic                                       </td></tr>\n",
       "\t<tr><td>Alicante         </td><td>334888</td><td>ALACANT-EL PLÁ   </td><td>es1635a</td><td>3</td><td>1</td><td>Esta es de tráfico                                                  </td></tr>\n",
       "\t<tr><td>Almería          </td><td>198533</td><td>MEDITERRÁNEO     </td><td>es1393a</td><td>0</td><td>1</td><td>NA                                                                  </td></tr>\n",
       "</tbody>\n",
       "</table>\n"
      ],
      "text/latex": [
       "A tibble: 6 × 7\n",
       "\\begin{tabular}{lllllll}\n",
       " Municipio & Población & Estación tráfico & Código estación & Nº estaciones Ecolog & Nº estaciones tráfico & Observaciones\\\\\n",
       " <chr> & <dbl> & <chr> & <chr> & <dbl> & <dbl> & <chr>\\\\\n",
       "\\hline\n",
       "\t A Coruña          & 245711 & CORLAB 1          & es1138a & 4 & 1 & Es Riazor o Santa Margarida, revisar. Datos sólo hasta 2018. REVISAR\\\\\n",
       "\t Alcalá de Henares & 195649 & Alcalá de Henares & es1563a & 0 & 1 & NA                                                                  \\\\\n",
       "\t Alcobendas        & 117040 & Alcobendas        & es1564a & 0 & 1 & NA                                                                  \\\\\n",
       "\t Alicante          & 334887 & Florida-Babel     & es1915a & 3 & 1 & Urban background. Not traffic                                       \\\\\n",
       "\t Alicante          & 334888 & ALACANT-EL PLÁ    & es1635a & 3 & 1 & Esta es de tráfico                                                  \\\\\n",
       "\t Almería           & 198533 & MEDITERRÁNEO      & es1393a & 0 & 1 & NA                                                                  \\\\\n",
       "\\end{tabular}\n"
      ],
      "text/markdown": [
       "\n",
       "A tibble: 6 × 7\n",
       "\n",
       "| Municipio &lt;chr&gt; | Población &lt;dbl&gt; | Estación tráfico &lt;chr&gt; | Código estación &lt;chr&gt; | Nº estaciones Ecolog &lt;dbl&gt; | Nº estaciones tráfico &lt;dbl&gt; | Observaciones &lt;chr&gt; |\n",
       "|---|---|---|---|---|---|---|\n",
       "| A Coruña          | 245711 | CORLAB 1          | es1138a | 4 | 1 | Es Riazor o Santa Margarida, revisar. Datos sólo hasta 2018. REVISAR |\n",
       "| Alcalá de Henares | 195649 | Alcalá de Henares | es1563a | 0 | 1 | NA                                                                   |\n",
       "| Alcobendas        | 117040 | Alcobendas        | es1564a | 0 | 1 | NA                                                                   |\n",
       "| Alicante          | 334887 | Florida-Babel     | es1915a | 3 | 1 | Urban background. Not traffic                                        |\n",
       "| Alicante          | 334888 | ALACANT-EL PLÁ    | es1635a | 3 | 1 | Esta es de tráfico                                                   |\n",
       "| Almería           | 198533 | MEDITERRÁNEO      | es1393a | 0 | 1 | NA                                                                   |\n",
       "\n"
      ],
      "text/plain": [
       "  Municipio         Población Estación tráfico  Código estación\n",
       "1 A Coruña          245711    CORLAB 1          es1138a        \n",
       "2 Alcalá de Henares 195649    Alcalá de Henares es1563a        \n",
       "3 Alcobendas        117040    Alcobendas        es1564a        \n",
       "4 Alicante          334887    Florida-Babel     es1915a        \n",
       "5 Alicante          334888    ALACANT-EL PLÁ    es1635a        \n",
       "6 Almería           198533    MEDITERRÁNEO      es1393a        \n",
       "  Nº estaciones Ecolog Nº estaciones tráfico\n",
       "1 4                    1                    \n",
       "2 0                    1                    \n",
       "3 0                    1                    \n",
       "4 3                    1                    \n",
       "5 3                    1                    \n",
       "6 0                    1                    \n",
       "  Observaciones                                                       \n",
       "1 Es Riazor o Santa Margarida, revisar. Datos sólo hasta 2018. REVISAR\n",
       "2 NA                                                                  \n",
       "3 NA                                                                  \n",
       "4 Urban background. Not traffic                                       \n",
       "5 Esta es de tráfico                                                  \n",
       "6 NA                                                                  "
      ]
     },
     "metadata": {},
     "output_type": "display_data"
    }
   ],
   "source": [
    "head(sites.100mil)"
   ]
  },
  {
   "cell_type": "markdown",
   "metadata": {},
   "source": [
    "### Datos de las estaciones de `saqgetr` <a id=\"estacionesSaqgetr\"></a>\n",
    "\n",
    "Importamos la informacion de las estaciones de calidad de aire de españa obtenidas de la base de datos y filtramos segun los criterios de estudio.\n",
    "\n",
    "| Variable | Valores |\n",
    "|-------|-----------|\n",
    "|Contaminantes| $NO$, $NO_2$, $O_3$, $PM_{10}$|\n",
    "|Fecha Inicio| 01 Enero 2015 |\n",
    "|Fecha Final | 31 Diciembre 2020 |\n",
    "| Site Type | traffic |\n",
    "|site area | urban |"
   ]
  },
  {
   "cell_type": "code",
   "execution_count": 10,
   "metadata": {},
   "outputs": [],
   "source": [
    "# obtener datos de CA de España. Salen los códigos de las estaciones\n",
    "# de Calidad de aire (941)\n",
    "spain.sites <- get_saq_sites() %>%\n",
    "    filter(country == \"spain\",\n",
    "           site %in% sites.100mil$\"Código estación\",\n",
    "           site_type == \"traffic\",\n",
    "           site_area == \"urban\",\n",
    "           date_start <= start_dt,\n",
    "           date_end >= end_dt,\n",
    "           ) %>%\n",
    "    select(site, site_name, latitude, longitude, elevation, \n",
    "           country, site_type, site_area, date_start, date_end)"
   ]
  },
  {
   "cell_type": "code",
   "execution_count": 11,
   "metadata": {},
   "outputs": [
    {
     "name": "stdout",
     "output_type": "stream",
     "text": [
      "[1] \"Se han eliminado 26 estaciones\"\n",
      "[1] \"Quedan 53 estaciones para el estudio\"\n"
     ]
    }
   ],
   "source": [
    "removed.sites <- nrow(sites.100mil) - nrow(spain.sites)\n",
    "\n",
    "print(paste(\"Se han eliminado\", removed.sites, \"estaciones\"))\n",
    "print(paste(\"Quedan\", nrow(spain.sites), \"estaciones para el estudio\"))"
   ]
  },
  {
   "cell_type": "markdown",
   "metadata": {},
   "source": [
    "Agrupamos en un solo data.frame toda la informacion relevante de las estaciones de estudio"
   ]
  },
  {
   "cell_type": "code",
   "execution_count": 16,
   "metadata": {},
   "outputs": [],
   "source": [
    "sites.info <- get_saq_processes() %>%\n",
    "    filter(site %in% spain.sites$site,\n",
    "           variable %in% pollutants,\n",
    "           date_start <= start_dt,\n",
    "           #date_end >= end_dt,\n",
    "          ) %>%\n",
    "    select(process, site, variable, variable_long, \n",
    "           period, unit, observation_count\n",
    "          )\n",
    "\n",
    "sites.geo <- sites.100mil %>%\n",
    "    select(\"Municipio\", \"Población\", \n",
    "           \"Estación tráfico\", \"Código estación\") %>%\n",
    "    rename(site = \"Código estación\",)\n",
    "\n",
    "sites <- merge(x = sites.info, y = sites.geo, by = \"site\", all.x = TRUE)\n",
    "sites <- merge(x = sites, y = spain.sites, by = \"site\", all.x = TRUE)[1:2, ]"
   ]
  },
  {
   "cell_type": "code",
   "execution_count": 17,
   "metadata": {},
   "outputs": [
    {
     "data": {
      "text/html": [
       "<table>\n",
       "<caption>A data.frame: 2 × 19</caption>\n",
       "<thead>\n",
       "\t<tr><th></th><th scope=col>site</th><th scope=col>process</th><th scope=col>variable</th><th scope=col>variable_long</th><th scope=col>period</th><th scope=col>unit</th><th scope=col>observation_count</th><th scope=col>Municipio</th><th scope=col>Población</th><th scope=col>Estación tráfico</th><th scope=col>site_name</th><th scope=col>latitude</th><th scope=col>longitude</th><th scope=col>elevation</th><th scope=col>country</th><th scope=col>site_type</th><th scope=col>site_area</th><th scope=col>date_start</th><th scope=col>date_end</th></tr>\n",
       "\t<tr><th></th><th scope=col>&lt;chr&gt;</th><th scope=col>&lt;int&gt;</th><th scope=col>&lt;chr&gt;</th><th scope=col>&lt;chr&gt;</th><th scope=col>&lt;chr&gt;</th><th scope=col>&lt;chr&gt;</th><th scope=col>&lt;dbl&gt;</th><th scope=col>&lt;chr&gt;</th><th scope=col>&lt;dbl&gt;</th><th scope=col>&lt;chr&gt;</th><th scope=col>&lt;chr&gt;</th><th scope=col>&lt;dbl&gt;</th><th scope=col>&lt;dbl&gt;</th><th scope=col>&lt;dbl&gt;</th><th scope=col>&lt;chr&gt;</th><th scope=col>&lt;chr&gt;</th><th scope=col>&lt;chr&gt;</th><th scope=col>&lt;dttm&gt;</th><th scope=col>&lt;dttm&gt;</th></tr>\n",
       "</thead>\n",
       "<tbody>\n",
       "\t<tr><th scope=row>1</th><td>es0041a</td><td>31140</td><td>no2</td><td>Nitrogen dioxide (air)</td><td>day</td><td>ug.m-3</td><td> 151</td><td>Bilbao</td><td>346843</td><td>María Diaz de Haro</td><td>DIRECCIÓN DE SALUD</td><td>43.25883</td><td>-2.94565</td><td>32</td><td>spain</td><td>traffic</td><td>urban</td><td>1986-04-01</td><td>2021-01-15 23:00:00</td></tr>\n",
       "\t<tr><th scope=row>2</th><td>es0110a</td><td>31281</td><td>o3 </td><td>Ozone (air)           </td><td>day</td><td>ug.m-3</td><td>4092</td><td>Bilbao</td><td> 24350</td><td>Erandio           </td><td>ERANDIO           </td><td>43.30268</td><td>-2.97724</td><td> 4</td><td>spain</td><td>traffic</td><td>urban</td><td>1997-01-01</td><td>2021-01-15 23:00:00</td></tr>\n",
       "</tbody>\n",
       "</table>\n"
      ],
      "text/latex": [
       "A data.frame: 2 × 19\n",
       "\\begin{tabular}{r|lllllllllllllllllll}\n",
       "  & site & process & variable & variable\\_long & period & unit & observation\\_count & Municipio & Población & Estación tráfico & site\\_name & latitude & longitude & elevation & country & site\\_type & site\\_area & date\\_start & date\\_end\\\\\n",
       "  & <chr> & <int> & <chr> & <chr> & <chr> & <chr> & <dbl> & <chr> & <dbl> & <chr> & <chr> & <dbl> & <dbl> & <dbl> & <chr> & <chr> & <chr> & <dttm> & <dttm>\\\\\n",
       "\\hline\n",
       "\t1 & es0041a & 31140 & no2 & Nitrogen dioxide (air) & day & ug.m-3 &  151 & Bilbao & 346843 & María Diaz de Haro & DIRECCIÓN DE SALUD & 43.25883 & -2.94565 & 32 & spain & traffic & urban & 1986-04-01 & 2021-01-15 23:00:00\\\\\n",
       "\t2 & es0110a & 31281 & o3  & Ozone (air)            & day & ug.m-3 & 4092 & Bilbao &  24350 & Erandio            & ERANDIO            & 43.30268 & -2.97724 &  4 & spain & traffic & urban & 1997-01-01 & 2021-01-15 23:00:00\\\\\n",
       "\\end{tabular}\n"
      ],
      "text/markdown": [
       "\n",
       "A data.frame: 2 × 19\n",
       "\n",
       "| <!--/--> | site &lt;chr&gt; | process &lt;int&gt; | variable &lt;chr&gt; | variable_long &lt;chr&gt; | period &lt;chr&gt; | unit &lt;chr&gt; | observation_count &lt;dbl&gt; | Municipio &lt;chr&gt; | Población &lt;dbl&gt; | Estación tráfico &lt;chr&gt; | site_name &lt;chr&gt; | latitude &lt;dbl&gt; | longitude &lt;dbl&gt; | elevation &lt;dbl&gt; | country &lt;chr&gt; | site_type &lt;chr&gt; | site_area &lt;chr&gt; | date_start &lt;dttm&gt; | date_end &lt;dttm&gt; |\n",
       "|---|---|---|---|---|---|---|---|---|---|---|---|---|---|---|---|---|---|---|---|\n",
       "| 1 | es0041a | 31140 | no2 | Nitrogen dioxide (air) | day | ug.m-3 |  151 | Bilbao | 346843 | María Diaz de Haro | DIRECCIÓN DE SALUD | 43.25883 | -2.94565 | 32 | spain | traffic | urban | 1986-04-01 | 2021-01-15 23:00:00 |\n",
       "| 2 | es0110a | 31281 | o3  | Ozone (air)            | day | ug.m-3 | 4092 | Bilbao |  24350 | Erandio            | ERANDIO            | 43.30268 | -2.97724 |  4 | spain | traffic | urban | 1997-01-01 | 2021-01-15 23:00:00 |\n",
       "\n"
      ],
      "text/plain": [
       "  site    process variable variable_long          period unit  \n",
       "1 es0041a 31140   no2      Nitrogen dioxide (air) day    ug.m-3\n",
       "2 es0110a 31281   o3       Ozone (air)            day    ug.m-3\n",
       "  observation_count Municipio Población Estación tráfico   site_name         \n",
       "1  151              Bilbao    346843    María Diaz de Haro DIRECCIÓN DE SALUD\n",
       "2 4092              Bilbao     24350    Erandio            ERANDIO           \n",
       "  latitude longitude elevation country site_type site_area date_start\n",
       "1 43.25883 -2.94565  32        spain   traffic   urban     1986-04-01\n",
       "2 43.30268 -2.97724   4        spain   traffic   urban     1997-01-01\n",
       "  date_end           \n",
       "1 2021-01-15 23:00:00\n",
       "2 2021-01-15 23:00:00"
      ]
     },
     "metadata": {},
     "output_type": "display_data"
    }
   ],
   "source": [
    "head(sites)"
   ]
  },
  {
   "cell_type": "markdown",
   "metadata": {},
   "source": [
    "## Guardar Datos en xlsx <a id=\"save\"></a>"
   ]
  },
  {
   "cell_type": "code",
   "execution_count": 9,
   "metadata": {},
   "outputs": [],
   "source": [
    "write.csv(sites, \"../data/csv/sitesAQ.csv\", row.names=FALSE)"
   ]
  }
 ],
 "metadata": {
  "kernelspec": {
   "display_name": "R",
   "language": "R",
   "name": "ir"
  },
  "language_info": {
   "codemirror_mode": "r",
   "file_extension": ".r",
   "mimetype": "text/x-r-source",
   "name": "R",
   "pygments_lexer": "r",
   "version": "4.0.3"
  }
 },
 "nbformat": 4,
 "nbformat_minor": 4
}
