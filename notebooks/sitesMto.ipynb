{
 "cells": [
  {
   "cell_type": "markdown",
   "metadata": {},
   "source": [
    "# OBTENER DATOS METEO DE ESTACIONES AEMET\n",
    "\n",
    "Se pueden localizar las estaciones meteo mas cercanas a una estacion de CA mediante mapa"
   ]
  },
  {
   "cell_type": "code",
   "execution_count": 11,
   "metadata": {},
   "outputs": [],
   "source": [
    "suppressMessages(library(worldmet))\n",
    "\n",
    "source(\"../src/open_data.R\")"
   ]
  },
  {
   "cell_type": "markdown",
   "metadata": {},
   "source": [
    "Obtenemos la informacion de las estaciones de calidad del aire del estudio"
   ]
  },
  {
   "cell_type": "code",
   "execution_count": 13,
   "metadata": {},
   "outputs": [
    {
     "data": {
      "text/html": [
       "<table>\n",
       "<caption>A data.frame: 6 × 2</caption>\n",
       "<thead>\n",
       "\t<tr><th></th><th scope=col>site</th><th scope=col>process</th></tr>\n",
       "\t<tr><th></th><th scope=col>&lt;chr&gt;</th><th scope=col>&lt;int&gt;</th></tr>\n",
       "</thead>\n",
       "<tbody>\n",
       "\t<tr><th scope=row>1</th><td>es0041a</td><td>31140</td></tr>\n",
       "\t<tr><th scope=row>2</th><td>es0110a</td><td>31281</td></tr>\n",
       "\t<tr><th scope=row>3</th><td>es0110a</td><td>31282</td></tr>\n",
       "\t<tr><th scope=row>4</th><td>es0110a</td><td>31283</td></tr>\n",
       "\t<tr><th scope=row>5</th><td>es0110a</td><td>31284</td></tr>\n",
       "\t<tr><th scope=row>6</th><td>es0110a</td><td>31285</td></tr>\n",
       "</tbody>\n",
       "</table>\n"
      ],
      "text/latex": [
       "A data.frame: 6 × 2\n",
       "\\begin{tabular}{r|ll}\n",
       "  & site & process\\\\\n",
       "  & <chr> & <int>\\\\\n",
       "\\hline\n",
       "\t1 & es0041a & 31140\\\\\n",
       "\t2 & es0110a & 31281\\\\\n",
       "\t3 & es0110a & 31282\\\\\n",
       "\t4 & es0110a & 31283\\\\\n",
       "\t5 & es0110a & 31284\\\\\n",
       "\t6 & es0110a & 31285\\\\\n",
       "\\end{tabular}\n"
      ],
      "text/markdown": [
       "\n",
       "A data.frame: 6 × 2\n",
       "\n",
       "| <!--/--> | site &lt;chr&gt; | process &lt;int&gt; |\n",
       "|---|---|---|\n",
       "| 1 | es0041a | 31140 |\n",
       "| 2 | es0110a | 31281 |\n",
       "| 3 | es0110a | 31282 |\n",
       "| 4 | es0110a | 31283 |\n",
       "| 5 | es0110a | 31284 |\n",
       "| 6 | es0110a | 31285 |\n",
       "\n"
      ],
      "text/plain": [
       "  site    process\n",
       "1 es0041a 31140  \n",
       "2 es0110a 31281  \n",
       "3 es0110a 31282  \n",
       "4 es0110a 31283  \n",
       "5 es0110a 31284  \n",
       "6 es0110a 31285  "
      ]
     },
     "metadata": {},
     "output_type": "display_data"
    }
   ],
   "source": [
    "sites <- read.csv(\"../data/csv/sitesAQ.csv\")\n",
    "head(sites)"
   ]
  },
  {
   "cell_type": "markdown",
   "metadata": {},
   "source": [
    "Obtenemos la informacion de las 3 estaciones meteorologicas mas cercanas a cada estacion de calidad del aire"
   ]
  },
  {
   "cell_type": "code",
   "execution_count": 9,
   "metadata": {},
   "outputs": [],
   "source": [
    "sites.mto <- data.frame()\n",
    "sites.lv <- levels(as.factor(sites$site))\n",
    "\n",
    "for (i in 1:length(sites.lv)) {\n",
    "    mto <- getMeta(lat = sites[sites$site == sites.lv[i], ]$latitude[1], \n",
    "                              lon = sites[sites$site == sites.lv[i], ]$longitude[1], \n",
    "                              end.year = \"current\",\n",
    "                              n = 3, returnMap = F)\n",
    "    mto$siteAQ <- sites.lv[i]\n",
    "    sites.mto <- rbind(sites.mto, mto)\n",
    "}"
   ]
  },
  {
   "cell_type": "code",
   "execution_count": 10,
   "metadata": {},
   "outputs": [
    {
     "data": {
      "text/html": [
       "<table>\n",
       "<caption>A tibble: 3 × 16</caption>\n",
       "<thead>\n",
       "\t<tr><th scope=col>usaf</th><th scope=col>wban</th><th scope=col>station</th><th scope=col>ctry</th><th scope=col>st</th><th scope=col>call</th><th scope=col>latitude</th><th scope=col>longitude</th><th scope=col>elev(m)</th><th scope=col>begin</th><th scope=col>end</th><th scope=col>code</th><th scope=col>longr</th><th scope=col>latr</th><th scope=col>dist</th><th scope=col>siteAQ</th></tr>\n",
       "\t<tr><th scope=col>&lt;chr&gt;</th><th scope=col>&lt;chr&gt;</th><th scope=col>&lt;chr&gt;</th><th scope=col>&lt;chr&gt;</th><th scope=col>&lt;chr&gt;</th><th scope=col>&lt;chr&gt;</th><th scope=col>&lt;dbl&gt;</th><th scope=col>&lt;dbl&gt;</th><th scope=col>&lt;dbl&gt;</th><th scope=col>&lt;date&gt;</th><th scope=col>&lt;date&gt;</th><th scope=col>&lt;chr&gt;</th><th scope=col>&lt;dbl&gt;</th><th scope=col>&lt;dbl&gt;</th><th scope=col>&lt;dbl&gt;</th><th scope=col>&lt;chr&gt;</th></tr>\n",
       "</thead>\n",
       "<tbody>\n",
       "\t<tr><td>080250</td><td>99999</td><td>BILBAO   </td><td>SP</td><td>NA</td><td>LEBB</td><td>43.301</td><td>-2.911</td><td> 42.1</td><td>1973-01-01</td><td>2021-01-16</td><td>080250-99999</td><td>-0.05080653</td><td>0.7557450</td><td> 5.464009</td><td>es0041a</td></tr>\n",
       "\t<tr><td>080800</td><td>99999</td><td>VITORIA  </td><td>SP</td><td>NA</td><td>LEVT</td><td>42.883</td><td>-2.724</td><td>512.7</td><td>1973-01-01</td><td>2021-01-16</td><td>080800-99999</td><td>-0.04754277</td><td>0.7484495</td><td>45.503738</td><td>es0041a</td></tr>\n",
       "\t<tr><td>080210</td><td>99999</td><td>SANTANDER</td><td>SP</td><td>NA</td><td>LEXJ</td><td>43.427</td><td>-3.820</td><td>  4.9</td><td>1973-01-01</td><td>2021-01-16</td><td>080210-99999</td><td>-0.06667158</td><td>0.7579441</td><td>73.137040</td><td>es0041a</td></tr>\n",
       "</tbody>\n",
       "</table>\n"
      ],
      "text/latex": [
       "A tibble: 3 × 16\n",
       "\\begin{tabular}{llllllllllllllll}\n",
       " usaf & wban & station & ctry & st & call & latitude & longitude & elev(m) & begin & end & code & longr & latr & dist & siteAQ\\\\\n",
       " <chr> & <chr> & <chr> & <chr> & <chr> & <chr> & <dbl> & <dbl> & <dbl> & <date> & <date> & <chr> & <dbl> & <dbl> & <dbl> & <chr>\\\\\n",
       "\\hline\n",
       "\t 080250 & 99999 & BILBAO    & SP & NA & LEBB & 43.301 & -2.911 &  42.1 & 1973-01-01 & 2021-01-16 & 080250-99999 & -0.05080653 & 0.7557450 &  5.464009 & es0041a\\\\\n",
       "\t 080800 & 99999 & VITORIA   & SP & NA & LEVT & 42.883 & -2.724 & 512.7 & 1973-01-01 & 2021-01-16 & 080800-99999 & -0.04754277 & 0.7484495 & 45.503738 & es0041a\\\\\n",
       "\t 080210 & 99999 & SANTANDER & SP & NA & LEXJ & 43.427 & -3.820 &   4.9 & 1973-01-01 & 2021-01-16 & 080210-99999 & -0.06667158 & 0.7579441 & 73.137040 & es0041a\\\\\n",
       "\\end{tabular}\n"
      ],
      "text/markdown": [
       "\n",
       "A tibble: 3 × 16\n",
       "\n",
       "| usaf &lt;chr&gt; | wban &lt;chr&gt; | station &lt;chr&gt; | ctry &lt;chr&gt; | st &lt;chr&gt; | call &lt;chr&gt; | latitude &lt;dbl&gt; | longitude &lt;dbl&gt; | elev(m) &lt;dbl&gt; | begin &lt;date&gt; | end &lt;date&gt; | code &lt;chr&gt; | longr &lt;dbl&gt; | latr &lt;dbl&gt; | dist &lt;dbl&gt; | siteAQ &lt;chr&gt; |\n",
       "|---|---|---|---|---|---|---|---|---|---|---|---|---|---|---|---|\n",
       "| 080250 | 99999 | BILBAO    | SP | NA | LEBB | 43.301 | -2.911 |  42.1 | 1973-01-01 | 2021-01-16 | 080250-99999 | -0.05080653 | 0.7557450 |  5.464009 | es0041a |\n",
       "| 080800 | 99999 | VITORIA   | SP | NA | LEVT | 42.883 | -2.724 | 512.7 | 1973-01-01 | 2021-01-16 | 080800-99999 | -0.04754277 | 0.7484495 | 45.503738 | es0041a |\n",
       "| 080210 | 99999 | SANTANDER | SP | NA | LEXJ | 43.427 | -3.820 |   4.9 | 1973-01-01 | 2021-01-16 | 080210-99999 | -0.06667158 | 0.7579441 | 73.137040 | es0041a |\n",
       "\n"
      ],
      "text/plain": [
       "  usaf   wban  station   ctry st call latitude longitude elev(m) begin     \n",
       "1 080250 99999 BILBAO    SP   NA LEBB 43.301   -2.911     42.1   1973-01-01\n",
       "2 080800 99999 VITORIA   SP   NA LEVT 42.883   -2.724    512.7   1973-01-01\n",
       "3 080210 99999 SANTANDER SP   NA LEXJ 43.427   -3.820      4.9   1973-01-01\n",
       "  end        code         longr       latr      dist      siteAQ \n",
       "1 2021-01-16 080250-99999 -0.05080653 0.7557450  5.464009 es0041a\n",
       "2 2021-01-16 080800-99999 -0.04754277 0.7484495 45.503738 es0041a\n",
       "3 2021-01-16 080210-99999 -0.06667158 0.7579441 73.137040 es0041a"
      ]
     },
     "metadata": {},
     "output_type": "display_data"
    }
   ],
   "source": [
    "head(sites.mto)"
   ]
  },
  {
   "cell_type": "markdown",
   "metadata": {},
   "source": [
    "## Guardar Datos en xlsx <a id=\"save\"></a>"
   ]
  },
  {
   "cell_type": "code",
   "execution_count": null,
   "metadata": {},
   "outputs": [],
   "source": [
    "write.csv(sites.mto, \"../data/csv/sitesMto.csv\", row.names=FALSE)"
   ]
  }
 ],
 "metadata": {
  "kernelspec": {
   "display_name": "R",
   "language": "R",
   "name": "ir"
  },
  "language_info": {
   "codemirror_mode": "r",
   "file_extension": ".r",
   "mimetype": "text/x-r-source",
   "name": "R",
   "pygments_lexer": "r",
   "version": "4.0.3"
  }
 },
 "nbformat": 4,
 "nbformat_minor": 4
}
