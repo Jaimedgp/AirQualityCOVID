{
 "cells": [
  {
   "cell_type": "markdown",
   "metadata": {},
   "source": [
    "# OBTENER DATOS METEO DE ESTACIONES AEMET\n",
    "\n",
    "Se pueden localizar las estaciones meteo mas cercanas a una estacion de CA mediante mapa"
   ]
  },
  {
   "cell_type": "code",
   "execution_count": 1,
   "metadata": {},
   "outputs": [
    {
     "name": "stderr",
     "output_type": "stream",
     "text": [
      "── \u001b[1mAttaching packages\u001b[22m ───────────────────────────────────────────────────────────────────────────── tidyverse 1.3.0 ──\n",
      "\n",
      "\u001b[32m✔\u001b[39m \u001b[34mggplot2\u001b[39m 3.3.2     \u001b[32m✔\u001b[39m \u001b[34mpurrr  \u001b[39m 0.3.4\n",
      "\u001b[32m✔\u001b[39m \u001b[34mtibble \u001b[39m 3.0.4     \u001b[32m✔\u001b[39m \u001b[34mdplyr  \u001b[39m 1.0.2\n",
      "\u001b[32m✔\u001b[39m \u001b[34mtidyr  \u001b[39m 1.1.2     \u001b[32m✔\u001b[39m \u001b[34mstringr\u001b[39m 1.4.0\n",
      "\u001b[32m✔\u001b[39m \u001b[34mreadr  \u001b[39m 1.4.0     \u001b[32m✔\u001b[39m \u001b[34mforcats\u001b[39m 0.5.0\n",
      "\n",
      "── \u001b[1mConflicts\u001b[22m ──────────────────────────────────────────────────────────────────────────────── tidyverse_conflicts() ──\n",
      "\u001b[31m✖\u001b[39m \u001b[34mdplyr\u001b[39m::\u001b[32mfilter()\u001b[39m masks \u001b[34mstats\u001b[39m::filter()\n",
      "\u001b[31m✖\u001b[39m \u001b[34mdplyr\u001b[39m::\u001b[32mlag()\u001b[39m    masks \u001b[34mstats\u001b[39m::lag()\n",
      "\n",
      "\n",
      "Attaching package: ‘lubridate’\n",
      "\n",
      "\n",
      "The following objects are masked from ‘package:base’:\n",
      "\n",
      "    date, intersect, setdiff, union\n",
      "\n",
      "\n"
     ]
    }
   ],
   "source": [
    "suppressMessages(library(worldmet))\n",
    "\n",
    "source(\"../src/open_data.R\")"
   ]
  },
  {
   "cell_type": "markdown",
   "metadata": {},
   "source": [
    "Obtenemos la informacion de las estaciones de calidad del aire del estudio"
   ]
  },
  {
   "cell_type": "code",
   "execution_count": 2,
   "metadata": {},
   "outputs": [
    {
     "data": {
      "text/html": [
       "<table>\n",
       "<caption>A data.frame: 6 × 19</caption>\n",
       "<thead>\n",
       "\t<tr><th></th><th scope=col>site</th><th scope=col>process</th><th scope=col>variable</th><th scope=col>variable_long</th><th scope=col>period</th><th scope=col>unit</th><th scope=col>observation_count</th><th scope=col>Municipio</th><th scope=col>Población</th><th scope=col>Estación.tráfico</th><th scope=col>site_name</th><th scope=col>latitude</th><th scope=col>longitude</th><th scope=col>elevation</th><th scope=col>country</th><th scope=col>site_type</th><th scope=col>site_area</th><th scope=col>date_start</th><th scope=col>date_end</th></tr>\n",
       "\t<tr><th></th><th scope=col>&lt;chr&gt;</th><th scope=col>&lt;int&gt;</th><th scope=col>&lt;chr&gt;</th><th scope=col>&lt;chr&gt;</th><th scope=col>&lt;chr&gt;</th><th scope=col>&lt;chr&gt;</th><th scope=col>&lt;int&gt;</th><th scope=col>&lt;chr&gt;</th><th scope=col>&lt;int&gt;</th><th scope=col>&lt;chr&gt;</th><th scope=col>&lt;chr&gt;</th><th scope=col>&lt;dbl&gt;</th><th scope=col>&lt;dbl&gt;</th><th scope=col>&lt;int&gt;</th><th scope=col>&lt;chr&gt;</th><th scope=col>&lt;chr&gt;</th><th scope=col>&lt;chr&gt;</th><th scope=col>&lt;chr&gt;</th><th scope=col>&lt;chr&gt;</th></tr>\n",
       "</thead>\n",
       "<tbody>\n",
       "\t<tr><th scope=row>1</th><td>es0041a</td><td>31140</td><td>no2</td><td>Nitrogen dioxide (air)</td><td>day  </td><td>ug.m-3</td><td>  151</td><td>Bilbao</td><td>346843</td><td>María Diaz de Haro</td><td>DIRECCIÓN DE SALUD</td><td>43.25883</td><td>-2.94565</td><td>32</td><td>spain</td><td>traffic</td><td>urban</td><td>1986-04-01</td><td>2021-01-15 23:00:00</td></tr>\n",
       "\t<tr><th scope=row>2</th><td>es0110a</td><td>31281</td><td>o3 </td><td>Ozone (air)           </td><td>day  </td><td>ug.m-3</td><td> 4092</td><td>Bilbao</td><td> 24350</td><td>Erandio           </td><td>ERANDIO           </td><td>43.30268</td><td>-2.97724</td><td> 4</td><td>spain</td><td>traffic</td><td>urban</td><td>1997-01-01</td><td>2021-01-15 23:00:00</td></tr>\n",
       "\t<tr><th scope=row>3</th><td>es0110a</td><td>31282</td><td>o3 </td><td>Ozone (air)           </td><td>dymax</td><td>ug.m-3</td><td> 4095</td><td>Bilbao</td><td> 24350</td><td>Erandio           </td><td>ERANDIO           </td><td>43.30268</td><td>-2.97724</td><td> 4</td><td>spain</td><td>traffic</td><td>urban</td><td>1997-01-01</td><td>2021-01-15 23:00:00</td></tr>\n",
       "\t<tr><th scope=row>4</th><td>es0110a</td><td>31283</td><td>o3 </td><td>Ozone (air)           </td><td>hour </td><td>ug.m-3</td><td>94149</td><td>Bilbao</td><td> 24350</td><td>Erandio           </td><td>ERANDIO           </td><td>43.30268</td><td>-2.97724</td><td> 4</td><td>spain</td><td>traffic</td><td>urban</td><td>1997-01-01</td><td>2021-01-15 23:00:00</td></tr>\n",
       "\t<tr><th scope=row>5</th><td>es0110a</td><td>31284</td><td>o3 </td><td>Ozone (air)           </td><td>hour8</td><td>ug.m-3</td><td>97891</td><td>Bilbao</td><td> 24350</td><td>Erandio           </td><td>ERANDIO           </td><td>43.30268</td><td>-2.97724</td><td> 4</td><td>spain</td><td>traffic</td><td>urban</td><td>1997-01-01</td><td>2021-01-15 23:00:00</td></tr>\n",
       "\t<tr><th scope=row>6</th><td>es0110a</td><td>31285</td><td>no2</td><td>Nitrogen dioxide (air)</td><td>day  </td><td>ug.m-3</td><td> 5324</td><td>Bilbao</td><td> 24350</td><td>Erandio           </td><td>ERANDIO           </td><td>43.30268</td><td>-2.97724</td><td> 4</td><td>spain</td><td>traffic</td><td>urban</td><td>1997-01-01</td><td>2021-01-15 23:00:00</td></tr>\n",
       "</tbody>\n",
       "</table>\n"
      ],
      "text/latex": [
       "A data.frame: 6 × 19\n",
       "\\begin{tabular}{r|lllllllllllllllllll}\n",
       "  & site & process & variable & variable\\_long & period & unit & observation\\_count & Municipio & Población & Estación.tráfico & site\\_name & latitude & longitude & elevation & country & site\\_type & site\\_area & date\\_start & date\\_end\\\\\n",
       "  & <chr> & <int> & <chr> & <chr> & <chr> & <chr> & <int> & <chr> & <int> & <chr> & <chr> & <dbl> & <dbl> & <int> & <chr> & <chr> & <chr> & <chr> & <chr>\\\\\n",
       "\\hline\n",
       "\t1 & es0041a & 31140 & no2 & Nitrogen dioxide (air) & day   & ug.m-3 &   151 & Bilbao & 346843 & María Diaz de Haro & DIRECCIÓN DE SALUD & 43.25883 & -2.94565 & 32 & spain & traffic & urban & 1986-04-01 & 2021-01-15 23:00:00\\\\\n",
       "\t2 & es0110a & 31281 & o3  & Ozone (air)            & day   & ug.m-3 &  4092 & Bilbao &  24350 & Erandio            & ERANDIO            & 43.30268 & -2.97724 &  4 & spain & traffic & urban & 1997-01-01 & 2021-01-15 23:00:00\\\\\n",
       "\t3 & es0110a & 31282 & o3  & Ozone (air)            & dymax & ug.m-3 &  4095 & Bilbao &  24350 & Erandio            & ERANDIO            & 43.30268 & -2.97724 &  4 & spain & traffic & urban & 1997-01-01 & 2021-01-15 23:00:00\\\\\n",
       "\t4 & es0110a & 31283 & o3  & Ozone (air)            & hour  & ug.m-3 & 94149 & Bilbao &  24350 & Erandio            & ERANDIO            & 43.30268 & -2.97724 &  4 & spain & traffic & urban & 1997-01-01 & 2021-01-15 23:00:00\\\\\n",
       "\t5 & es0110a & 31284 & o3  & Ozone (air)            & hour8 & ug.m-3 & 97891 & Bilbao &  24350 & Erandio            & ERANDIO            & 43.30268 & -2.97724 &  4 & spain & traffic & urban & 1997-01-01 & 2021-01-15 23:00:00\\\\\n",
       "\t6 & es0110a & 31285 & no2 & Nitrogen dioxide (air) & day   & ug.m-3 &  5324 & Bilbao &  24350 & Erandio            & ERANDIO            & 43.30268 & -2.97724 &  4 & spain & traffic & urban & 1997-01-01 & 2021-01-15 23:00:00\\\\\n",
       "\\end{tabular}\n"
      ],
      "text/markdown": [
       "\n",
       "A data.frame: 6 × 19\n",
       "\n",
       "| <!--/--> | site &lt;chr&gt; | process &lt;int&gt; | variable &lt;chr&gt; | variable_long &lt;chr&gt; | period &lt;chr&gt; | unit &lt;chr&gt; | observation_count &lt;int&gt; | Municipio &lt;chr&gt; | Población &lt;int&gt; | Estación.tráfico &lt;chr&gt; | site_name &lt;chr&gt; | latitude &lt;dbl&gt; | longitude &lt;dbl&gt; | elevation &lt;int&gt; | country &lt;chr&gt; | site_type &lt;chr&gt; | site_area &lt;chr&gt; | date_start &lt;chr&gt; | date_end &lt;chr&gt; |\n",
       "|---|---|---|---|---|---|---|---|---|---|---|---|---|---|---|---|---|---|---|---|\n",
       "| 1 | es0041a | 31140 | no2 | Nitrogen dioxide (air) | day   | ug.m-3 |   151 | Bilbao | 346843 | María Diaz de Haro | DIRECCIÓN DE SALUD | 43.25883 | -2.94565 | 32 | spain | traffic | urban | 1986-04-01 | 2021-01-15 23:00:00 |\n",
       "| 2 | es0110a | 31281 | o3  | Ozone (air)            | day   | ug.m-3 |  4092 | Bilbao |  24350 | Erandio            | ERANDIO            | 43.30268 | -2.97724 |  4 | spain | traffic | urban | 1997-01-01 | 2021-01-15 23:00:00 |\n",
       "| 3 | es0110a | 31282 | o3  | Ozone (air)            | dymax | ug.m-3 |  4095 | Bilbao |  24350 | Erandio            | ERANDIO            | 43.30268 | -2.97724 |  4 | spain | traffic | urban | 1997-01-01 | 2021-01-15 23:00:00 |\n",
       "| 4 | es0110a | 31283 | o3  | Ozone (air)            | hour  | ug.m-3 | 94149 | Bilbao |  24350 | Erandio            | ERANDIO            | 43.30268 | -2.97724 |  4 | spain | traffic | urban | 1997-01-01 | 2021-01-15 23:00:00 |\n",
       "| 5 | es0110a | 31284 | o3  | Ozone (air)            | hour8 | ug.m-3 | 97891 | Bilbao |  24350 | Erandio            | ERANDIO            | 43.30268 | -2.97724 |  4 | spain | traffic | urban | 1997-01-01 | 2021-01-15 23:00:00 |\n",
       "| 6 | es0110a | 31285 | no2 | Nitrogen dioxide (air) | day   | ug.m-3 |  5324 | Bilbao |  24350 | Erandio            | ERANDIO            | 43.30268 | -2.97724 |  4 | spain | traffic | urban | 1997-01-01 | 2021-01-15 23:00:00 |\n",
       "\n"
      ],
      "text/plain": [
       "  site    process variable variable_long          period unit  \n",
       "1 es0041a 31140   no2      Nitrogen dioxide (air) day    ug.m-3\n",
       "2 es0110a 31281   o3       Ozone (air)            day    ug.m-3\n",
       "3 es0110a 31282   o3       Ozone (air)            dymax  ug.m-3\n",
       "4 es0110a 31283   o3       Ozone (air)            hour   ug.m-3\n",
       "5 es0110a 31284   o3       Ozone (air)            hour8  ug.m-3\n",
       "6 es0110a 31285   no2      Nitrogen dioxide (air) day    ug.m-3\n",
       "  observation_count Municipio Población Estación.tráfico   site_name         \n",
       "1   151             Bilbao    346843    María Diaz de Haro DIRECCIÓN DE SALUD\n",
       "2  4092             Bilbao     24350    Erandio            ERANDIO           \n",
       "3  4095             Bilbao     24350    Erandio            ERANDIO           \n",
       "4 94149             Bilbao     24350    Erandio            ERANDIO           \n",
       "5 97891             Bilbao     24350    Erandio            ERANDIO           \n",
       "6  5324             Bilbao     24350    Erandio            ERANDIO           \n",
       "  latitude longitude elevation country site_type site_area date_start\n",
       "1 43.25883 -2.94565  32        spain   traffic   urban     1986-04-01\n",
       "2 43.30268 -2.97724   4        spain   traffic   urban     1997-01-01\n",
       "3 43.30268 -2.97724   4        spain   traffic   urban     1997-01-01\n",
       "4 43.30268 -2.97724   4        spain   traffic   urban     1997-01-01\n",
       "5 43.30268 -2.97724   4        spain   traffic   urban     1997-01-01\n",
       "6 43.30268 -2.97724   4        spain   traffic   urban     1997-01-01\n",
       "  date_end           \n",
       "1 2021-01-15 23:00:00\n",
       "2 2021-01-15 23:00:00\n",
       "3 2021-01-15 23:00:00\n",
       "4 2021-01-15 23:00:00\n",
       "5 2021-01-15 23:00:00\n",
       "6 2021-01-15 23:00:00"
      ]
     },
     "metadata": {},
     "output_type": "display_data"
    }
   ],
   "source": [
    "sites <- open.sites()\n",
    "head(sites)"
   ]
  },
  {
   "cell_type": "markdown",
   "metadata": {},
   "source": [
    "Obtenemos la informacion de las 3 estaciones meteorologicas mas cercanas a cada estacion de calidad del aire"
   ]
  },
  {
   "cell_type": "code",
   "execution_count": 3,
   "metadata": {},
   "outputs": [],
   "source": [
    "sites.mto <- data.frame()\n",
    "\n",
    "sites.lv <- levels(as.factor(sites$site))\n",
    "\n",
    "for (i in 1:length(sites.lv)) {\n",
    "    mto <- getMeta(lat = sites[sites$site == sites.lv[i], ]$latitude[1], \n",
    "                              lon = sites[sites$site == sites.lv[i], ]$longitude[1], \n",
    "                              end.year = \"current\",\n",
    "                              n = 3, returnMap = F)\n",
    "    mto$site <- sites.lv[i]\n",
    "    sites.mto <- rbind(sites.mto, mto)\n",
    "}"
   ]
  },
  {
   "cell_type": "code",
   "execution_count": null,
   "metadata": {},
   "outputs": [],
   "source": [
    "head(sites.mto)"
   ]
  },
  {
   "cell_type": "markdown",
   "metadata": {},
   "source": [
    "## Guardar Datos en xlsx <a id=\"save\"></a>"
   ]
  },
  {
   "cell_type": "code",
   "execution_count": null,
   "metadata": {},
   "outputs": [],
   "source": [
    "write.csv(sites.mto, \"../data/csv/sitesMto.csv\", row.names=FALSE)"
   ]
  }
 ],
 "metadata": {
  "kernelspec": {
   "display_name": "R",
   "language": "R",
   "name": "ir"
  },
  "language_info": {
   "codemirror_mode": "r",
   "file_extension": ".r",
   "mimetype": "text/x-r-source",
   "name": "R",
   "pygments_lexer": "r",
   "version": "4.0.3"
  }
 },
 "nbformat": 4,
 "nbformat_minor": 4
}
